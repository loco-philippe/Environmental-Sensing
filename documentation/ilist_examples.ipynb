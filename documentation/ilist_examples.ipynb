{
 "cells": [
  {
   "cell_type": "markdown",
   "id": "f95fd259",
   "metadata": {},
   "source": [
    "# Module d'analyse de structure\n",
    "Ce document présente les méthodes d'analyse de la structure des objets Ilist à partir d'un exemple. \n",
    "\n",
    "La classe Observation est dérivée de la classe Ilist, ces méthodes sont donc aussi applicables aux objets Observation.\n",
    "\n",
    "----"
   ]
  },
  {
   "cell_type": "markdown",
   "id": "3bcc48eb",
   "metadata": {},
   "source": [
    "\n",
    "## 1 - Structure de données \n",
    "### 1.1 - Objet Ilist\n",
    "L'objet Ilist a 3 attributs :\n",
    "- 'lindex' : list contenant les objets Iindex qui composent l'objet Ilist\n",
    "- 'lvarname' : list de longueur 1 (pour l'instant) contenant le nom de l'Iindex de base\n",
    "- 'name' : utilisé uniquement par la classe fille 'Observation'\n",
    "\n",
    "L'instance 'example' ci-dessous contient 4 Iindex, 'i0' est l'Iindex de base "
   ]
  },
  {
   "cell_type": "code",
   "execution_count": 3,
   "id": "7c188b3d",
   "metadata": {},
   "outputs": [
    {
     "name": "stdout",
     "output_type": "stream",
     "text": [
      "    [\"i0\", [\"a\", \"b\", \"c\", \"d\", \"e\", \"f\"]]\n",
      "\n",
      "    [\"i1\", [10, 10, 20, 20, 30, 30]]\n",
      "    [\"i2\", [100, 100, 200, 200, 300, 300]]\n",
      "    [\"i3\", [true, false, true, false, true, false]]\n",
      "\n",
      "{'lindex': [Iindex[6], Iindex[6], Iindex[6], Iindex[6]],\n",
      " 'lvarname': ['i0'],\n",
      " 'name': 'Ilist'}\n"
     ]
    }
   ],
   "source": [
    "from observation import Ilist, Iindex\n",
    "from pprint import pprint\n",
    "\n",
    "example = Ilist.Iext([['a', 'b', 'c', 'd', 'e', 'f'],\n",
    "                      [10, 10, 20, 20, 30, 30],\n",
    "                      [100, 100, 200, 200, 300, 300],\n",
    "                      [True, False, True, False, True, False]],\n",
    "                     var=0)\n",
    "print(example)\n",
    "pprint(vars(example))"
   ]
  },
  {
   "cell_type": "markdown",
   "id": "6ece51d7",
   "metadata": {},
   "source": [
    "### 1.2 - Objet Iindex\n",
    "L'objet Iindex a 3 attributs :\n",
    "- name : nom\n",
    "- codec : liste de valeurs présentes (le rang de la valeur est utilisé pour ordonner les valeurs)\n",
    "- keys : liste des rangs des valeurs données lors de la création\n",
    "\n",
    "Dans l'exemple idx1 ci-dessous, on a choisi de garder dans 'codec' uniquement les valeurs distinctes (default codec)\n",
    "\n",
    "*Nota : Les valeurs dans cet exemple sont restreintes à des valeurs numériques, chaînes de caractères ou booléens mais elles peuvent également correspondre à des objets de plus haut niveau*"
   ]
  },
  {
   "cell_type": "code",
   "execution_count": 9,
   "id": "cf78d220",
   "metadata": {},
   "outputs": [
    {
     "name": "stdout",
     "output_type": "stream",
     "text": [
      "    [\"i1\", [10, 10, 20, 20, 30, 30]]\n",
      "\n",
      "{'codec': [10, 20, 20, 30], 'keys': [0, 0, 1, 2, 3, 3], 'name': 'i1'}\n"
     ]
    }
   ],
   "source": [
    "idx0, idx1, idx2, idx3 = example.lindex\n",
    "\n",
    "print(idx1)\n",
    "pprint(vars(idx1))"
   ]
  },
  {
   "cell_type": "markdown",
   "id": "0823efeb",
   "metadata": {},
   "source": [
    "On peut également choisir d'avoir un codec \n",
    "- avec toutes les valeurs (full codec)\n",
    "- avec certaines valeurs dupliquées ou non \n",
    "\n",
    "cf ci-dessous les deux exemples."
   ]
  },
  {
   "cell_type": "code",
   "execution_count": 7,
   "id": "cbbb204c",
   "metadata": {
    "scrolled": true
   },
   "outputs": [
    {
     "name": "stdout",
     "output_type": "stream",
     "text": [
      "{'codec': [10, 10, 20, 20, 30, 30], 'keys': [0, 1, 2, 3, 4, 5], 'name': 'i1'}\n",
      "{'codec': [10, 20, 20, 30], 'keys': [0, 0, 1, 2, 3, 3], 'name': 'i1'}\n"
     ]
    }
   ],
   "source": [
    "idx1.tostdcodec(inplace=True)\n",
    "pprint(vars(idx1))\n",
    "idx1.setkeys([0,0,1,2,3,3])\n",
    "pprint(vars(idx1))"
   ]
  },
  {
   "cell_type": "markdown",
   "id": "416412ca",
   "metadata": {},
   "source": [
    "## 2 - fonctions d'analyse\n",
    "Les fonctions d'analyse permettent de mesurer les relations de couplage entre Iindex et de qualifier la structure Ilist intégrant ces Iindex.\n",
    "\n",
    "Les fonctions d'ajustement de la structure (modification) ne sont pas décrites ici.\n",
    "\n",
    "### 2.1 - Iindex\n",
    "\n",
    "\n",
    "<img src=\"https://loco-philippe.github.io/ES/ilist_index_category.png\" width=\"800\">"
   ]
  },
  {
   "cell_type": "markdown",
   "id": "6cc61135",
   "metadata": {},
   "source": [
    "La méthode infos calcule les valeurs ci-dessous à partir de l'attribut codec conformément au schéma ci-dessus."
   ]
  },
  {
   "cell_type": "code",
   "execution_count": 8,
   "id": "94570fa0",
   "metadata": {
    "scrolled": true
   },
   "outputs": [
    {
     "data": {
      "text/plain": [
       "{'lencodec': 4,\n",
       " 'min': 3,\n",
       " 'max': 6,\n",
       " 'typecodec': 'mixed',\n",
       " 'rate': 0.6666666666666666,\n",
       " 'disttomin': 1,\n",
       " 'disttomax': 2}"
      ]
     },
     "execution_count": 8,
     "metadata": {},
     "output_type": "execute_result"
    }
   ],
   "source": [
    "idx1.infos"
   ]
  },
  {
   "cell_type": "markdown",
   "id": "cd3c8f5a",
   "metadata": {},
   "source": [
    "### 2.2 - couplage entre deux Iindex\n",
    "Le couplage entre deux Iindex est calculé à partir de l'attribut 'keys' conformément au schéma ci-dessous.\n",
    "\n",
    "<img src=\"https://loco-philippe.github.io/ES/ilist_link_category.png\" width=\"800\">\n",
    "\n",
    "La méthode 'couplinginfos' calcule les valeurs de couplage (cf exemples ci-dessous)"
   ]
  },
  {
   "cell_type": "code",
   "execution_count": 12,
   "id": "8d2a213a",
   "metadata": {},
   "outputs": [
    {
     "name": "stdout",
     "output_type": "stream",
     "text": [
      "{'lencoupling': 6, 'rate': 0.0, 'disttomin': 0, 'disttomax': 12, 'distmin': 6, 'distmax': 18, 'diff': 3, 'typecoupl': 'derived'}\n",
      "{'lencoupling': 3, 'rate': 0.0, 'disttomin': 0, 'disttomax': 6, 'distmin': 3, 'distmax': 9, 'diff': 0, 'typecoupl': 'coupled'}\n",
      "{'lencoupling': 6, 'rate': 1.0, 'disttomin': 3, 'disttomax': 0, 'distmin': 3, 'distmax': 6, 'diff': 1, 'typecoupl': 'crossed'}\n"
     ]
    }
   ],
   "source": [
    "idx1.reindex() # les attributs 'keys' et 'codec' sont réinitialisées avec le \"default codec\"\n",
    "print(idx1.couplinginfos(idx0))\n",
    "print(idx1.couplinginfos(idx2))\n",
    "print(idx1.couplinginfos(idx3))"
   ]
  },
  {
   "cell_type": "markdown",
   "id": "b33e2600",
   "metadata": {},
   "source": [
    "### 2.3 - Synthèse des couplages pour l'objet Ilist\n",
    "\n",
    "La méthode 'couplingmatrix' renvoie une matrice contenant les résultats 'couplinginfos' de chaque couple d'Iindex (en dehors de l'Iindex de base)"
   ]
  },
  {
   "cell_type": "code",
   "execution_count": 13,
   "id": "0a28d129",
   "metadata": {
    "scrolled": false
   },
   "outputs": [
    {
     "data": {
      "text/plain": [
       "[[{'lencoupling': 3,\n",
       "   'rate': 0.0,\n",
       "   'disttomin': 0,\n",
       "   'disttomax': 6,\n",
       "   'distmin': 3,\n",
       "   'distmax': 9,\n",
       "   'diff': 0,\n",
       "   'typecoupl': 'coupled'},\n",
       "  {'lencoupling': 3,\n",
       "   'rate': 0.0,\n",
       "   'disttomin': 0,\n",
       "   'disttomax': 6,\n",
       "   'distmin': 3,\n",
       "   'distmax': 9,\n",
       "   'diff': 0,\n",
       "   'typecoupl': 'coupled'},\n",
       "  {'lencoupling': 6,\n",
       "   'rate': 1.0,\n",
       "   'disttomin': 3,\n",
       "   'disttomax': 0,\n",
       "   'distmin': 3,\n",
       "   'distmax': 6,\n",
       "   'diff': 1,\n",
       "   'typecoupl': 'crossed'}],\n",
       " [{'lencoupling': 3,\n",
       "   'rate': 0.0,\n",
       "   'disttomin': 0,\n",
       "   'disttomax': 6,\n",
       "   'distmin': 3,\n",
       "   'distmax': 9,\n",
       "   'diff': 0,\n",
       "   'typecoupl': 'coupled'},\n",
       "  {'lencoupling': 3,\n",
       "   'rate': 0.0,\n",
       "   'disttomin': 0,\n",
       "   'disttomax': 6,\n",
       "   'distmin': 3,\n",
       "   'distmax': 9,\n",
       "   'diff': 0,\n",
       "   'typecoupl': 'coupled'},\n",
       "  {'lencoupling': 6,\n",
       "   'rate': 1.0,\n",
       "   'disttomin': 3,\n",
       "   'disttomax': 0,\n",
       "   'distmin': 3,\n",
       "   'distmax': 6,\n",
       "   'diff': 1,\n",
       "   'typecoupl': 'crossed'}],\n",
       " [{'lencoupling': 6,\n",
       "   'rate': 1.0,\n",
       "   'disttomin': 3,\n",
       "   'disttomax': 0,\n",
       "   'distmin': 3,\n",
       "   'distmax': 6,\n",
       "   'diff': 1,\n",
       "   'typecoupl': 'crossed'},\n",
       "  {'lencoupling': 6,\n",
       "   'rate': 1.0,\n",
       "   'disttomin': 3,\n",
       "   'disttomax': 0,\n",
       "   'distmin': 3,\n",
       "   'distmax': 6,\n",
       "   'diff': 1,\n",
       "   'typecoupl': 'crossed'},\n",
       "  {'lencoupling': 2,\n",
       "   'rate': 0.0,\n",
       "   'disttomin': 0,\n",
       "   'disttomax': 2,\n",
       "   'distmin': 2,\n",
       "   'distmax': 4,\n",
       "   'diff': 0,\n",
       "   'typecoupl': 'coupled'}]]"
      ]
     },
     "execution_count": 13,
     "metadata": {},
     "output_type": "execute_result"
    }
   ],
   "source": [
    "example.couplingmatrix()"
   ]
  },
  {
   "cell_type": "markdown",
   "id": "100550ee",
   "metadata": {},
   "source": [
    "### 2.4 - Qualification de la structure de l'objet Ilist\n",
    "\n",
    "Les propriétés indiquées ci-dessous sont calculées par la méthode 'indexinfos' (les valeurs 'pname' et 'pparent' correspondent à l'Iindex précurseur).\n",
    "\n",
    "<img src=\"https://loco-philippe.github.io/ES/ilist_properties.png\" width=\"700\">\n",
    "<img src=\"https://loco-philippe.github.io/ES/ilist_canonical.png\" width=\"600\">\n",
    "\n",
    "Ceci permet de calculer les informations 'primary', 'dimension', 'complete'.\n",
    "\n",
    "Dans l'exemple ci-dessous les Iindex 'i1' et 'i3' sont de type 'primary', ils forment donc une matrice (dimension 2). L'objet 'example' est dans l'état 'complete' car tous les 'primary' Iindex sont dans l'état 'crossed'"
   ]
  },
  {
   "cell_type": "code",
   "execution_count": 20,
   "id": "be2dfec9",
   "metadata": {},
   "outputs": [
    {
     "name": "stdout",
     "output_type": "stream",
     "text": [
      "[{'cat': 'primary',\n",
      "  'linkrate': 1.0,\n",
      "  'name': 'i1',\n",
      "  'num': 0,\n",
      "  'parent': 0,\n",
      "  'pname': 'i1',\n",
      "  'pparent': 0,\n",
      "  'typecoupl': 'crossed'},\n",
      " {'cat': 'secondary',\n",
      "  'linkrate': 0.0,\n",
      "  'name': 'i2',\n",
      "  'num': 1,\n",
      "  'parent': 0,\n",
      "  'pname': 'i1',\n",
      "  'pparent': 0,\n",
      "  'typecoupl': 'coupled'},\n",
      " {'cat': 'primary',\n",
      "  'linkrate': 1.0,\n",
      "  'name': 'i3',\n",
      "  'num': 2,\n",
      "  'parent': 0,\n",
      "  'pname': 'i1',\n",
      "  'pparent': 2,\n",
      "  'typecoupl': 'crossed'}]\n",
      "primary :  [0, 2]\n",
      "dimension :  2\n",
      "complete :  True\n"
     ]
    }
   ],
   "source": [
    "pprint(example.indexinfos())\n",
    "print('primary : ', example.primary)\n",
    "print('dimension : ', example.dimension)\n",
    "print('complete : ', example.complete)"
   ]
  }
 ],
 "metadata": {
  "kernelspec": {
   "display_name": "Python 3 (ipykernel)",
   "language": "python",
   "name": "python3"
  },
  "language_info": {
   "codemirror_mode": {
    "name": "ipython",
    "version": 3
   },
   "file_extension": ".py",
   "mimetype": "text/x-python",
   "name": "python",
   "nbconvert_exporter": "python",
   "pygments_lexer": "ipython3",
   "version": "3.9.12"
  }
 },
 "nbformat": 4,
 "nbformat_minor": 5
}
