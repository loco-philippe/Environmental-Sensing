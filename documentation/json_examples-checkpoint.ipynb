{
 "cells": [
  {
   "cell_type": "code",
   "execution_count": 2,
   "id": "7634a437",
   "metadata": {},
   "outputs": [
    {
     "data": {
      "text/plain": [
       "'C:\\\\Users\\\\a179227\\\\OneDrive - Alliance\\\\perso Wx\\\\ES standard\\\\Environnemental-Sensing\\\\python\\\\Examples\\\\Observation'"
      ]
     },
     "execution_count": 2,
     "metadata": {},
     "output_type": "execute_result"
    }
   ],
   "source": [
    "os.getcwd()"
   ]
  },
  {
   "cell_type": "code",
   "execution_count": 1,
   "id": "6bf5c22f",
   "metadata": {},
   "outputs": [
    {
     "ename": "FileNotFoundError",
     "evalue": "[WinError 3] Le chemin d’accès spécifié est introuvable: '../python/ES'",
     "output_type": "error",
     "traceback": [
      "\u001b[1;31m---------------------------------------------------------------------------\u001b[0m",
      "\u001b[1;31mFileNotFoundError\u001b[0m                         Traceback (most recent call last)",
      "\u001b[1;32m~\\AppData\\Local\\Temp\\ipykernel_17116\\2943116187.py\u001b[0m in \u001b[0;36m<module>\u001b[1;34m\u001b[0m\n\u001b[0;32m      1\u001b[0m \u001b[1;31m# This cell is only to prepare the example\u001b[0m\u001b[1;33m\u001b[0m\u001b[1;33m\u001b[0m\u001b[0m\n\u001b[0;32m      2\u001b[0m \u001b[1;32mimport\u001b[0m \u001b[0mos\u001b[0m\u001b[1;33m\u001b[0m\u001b[1;33m\u001b[0m\u001b[0m\n\u001b[1;32m----> 3\u001b[1;33m \u001b[0mos\u001b[0m\u001b[1;33m.\u001b[0m\u001b[0mchdir\u001b[0m\u001b[1;33m(\u001b[0m\u001b[1;34m'../python/ES'\u001b[0m\u001b[1;33m)\u001b[0m\u001b[1;33m\u001b[0m\u001b[1;33m\u001b[0m\u001b[0m\n\u001b[0m\u001b[0;32m      4\u001b[0m \u001b[1;32mfrom\u001b[0m \u001b[0mESObs\u001b[0m \u001b[1;32mimport\u001b[0m \u001b[0mObs\u001b[0m\u001b[1;33m\u001b[0m\u001b[1;33m\u001b[0m\u001b[0m\n\u001b[0;32m      5\u001b[0m \u001b[1;33m\u001b[0m\u001b[0m\n",
      "\u001b[1;31mFileNotFoundError\u001b[0m: [WinError 3] Le chemin d’accès spécifié est introuvable: '../python/ES'"
     ]
    }
   ],
   "source": [
    "# This cell is only to prepare the example\n",
    "import os\n",
    "os.chdir('../python/ES')\n",
    "from esobservation import Obs\n",
    "\n",
    "dat1  = ['datvalue', '2021-02-04']\n",
    "dat3  = ['datvalue', ['2021-02-04', '2021-05-04', '2021-07-04']]\n",
    "loc1  = ['locvalue', [[2.35, 48.87]]]\n",
    "loc3  = ['locvalue', [[2.35, 48.87], [4.83, 45.76], [5.38, 43.3]]]\n",
    "loc3d = ['locvalue', [[2.35, 48.87], [4.83, 45.76], [5.38, 43.3]], 0]\n",
    "prp1  = ['prpvalue', ['PM10']]\n",
    "prp2  = ['prpvalue', ['PM10', 'PM25']]\n",
    "prp3  = ['prpvalue', ['PM1', 'PM10', 'PM25']]\n",
    "res3  = ['resvalue', [0, 1, 2], -1]\n",
    "res6  = ['resvalue', [0, 1, 2, 3, 4, 5], -1]\n",
    "res9  = ['resvalue', [0, 1, 2, 3, 4, 5, 6, 7, 8], -1]\n",
    "res18 = ['resvalue', [0, 1, 2, 3, 4, 5, 6, 7, 8, 9, 10, 11, 12, 13, 14, 15, 16, 17], -1]"
   ]
  }
 ],
 "metadata": {
  "kernelspec": {
   "display_name": "Python 3 (ipykernel)",
   "language": "python",
   "name": "python3"
  },
  "language_info": {
   "codemirror_mode": {
    "name": "ipython",
    "version": 3
   },
   "file_extension": ".py",
   "mimetype": "text/x-python",
   "name": "python",
   "nbconvert_exporter": "python",
   "pygments_lexer": "ipython3",
   "version": "3.9.12"
  }
 },
 "nbformat": 4,
 "nbformat_minor": 5
}
