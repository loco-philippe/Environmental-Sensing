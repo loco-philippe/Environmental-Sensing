{
 "cells": [
  {
   "cell_type": "markdown",
   "id": "e1a948ae",
   "metadata": {},
   "source": [
    "# Gestion des données tabulaires\n",
    "\n",
    "Les données tabulaires (ensemble de données regroupées par colonnes et par lignes) sont universelles et omniprésentes. On les retrouve aussi bien dans nos listes de courses, nos listes de taches, la gestion comptable et le suivi des processus.\n",
    "\n",
    "Des outils dédiés leurs sont consacrés (les tableurs) et elles sont à la base également de solutions élaborées comme par exemple pour le stockage (les 'tables' des bases de données relationnelles) et pour le traitement (les 'dataFrame' Pandas) de gros volumes de données.\n",
    "\n",
    "Pourtant, malgré cette importante popularité, il n'existe que très peu d'outils permettant de comprendre, d'analyser et d'exploiter la structuration de ce type de données.\n",
    "\n",
    "L'objet de cet article est donc de vous présenter l'apport de ce type d'outil."
   ]
  },
  {
   "cell_type": "markdown",
   "id": "54db3249",
   "metadata": {},
   "source": [
    "## Que trouve-t-on dans un tableau ?\n",
    "\n",
    "La première structure identifiable est évidente : les lignes et les colonnes !\n",
    "Néanmoins, ces deux notions ne sont pas équivalentes, les colonnes représentent la 'sémantique' des données et les lignes représentent les objets rangés suivant cette structuration définie par les colonnes.\n",
    "\n",
    "Si l'on observe maintenant comment sont utilisés les tableaux, on peut identifier trois usages principaux :\n",
    "- la classification : Il s'agit de regrouper les objets par catégories afin de pouvoir par exemple en faire une exploitation statistique,\n",
    "- le croisement : Il consiste à représenter toutes les combinaisons entre deux paramètres comme par exemple dans les représentations matricielles\n",
    "- la caractérisation : Elle correspond à la documentation de propriétés définies.\n",
    "\n",
    "> Prenons un exemple :\n",
    ">\n",
    ">|id|produit|aliment\t|quantité\t|prix|année|disponibilité|\n",
    "|:----:|:----:|:----:|:----:|:----:|:----:|:----:|\n",
    "|11|pomme|fruit\t|1 kg\t|1\t|2022|oui|\n",
    "|12|pomme|fruit\t|10 kg\t|9|2022|oui|\n",
    "|13|orange|fruit\t|1 kg|2|2022|non|\n",
    "|14|orange|fruit\t|10 kg\t|18\t|2022|non|\n",
    "|15|piment|légume\t|1 kg\t|1.5|2022|oui|\n",
    "|16|piment|légume\t|10 kg|13|2022|non|\n",
    "|17|banane|fruit\t|1 kg\t|0.5|2022|oui|\n",
    "|18|banane|fruit\t|10 kg\t|4|2022|oui|\n",
    ">\n",
    ">Il s'agit d'une liste de prix de différents aliments en fonction d'un conditionnement pour l'année 2022.\n",
    ">\n",
    "> On retrouve ici :\n",
    "> - la classification : entre les produits et les aliments, \n",
    "> - le croisement : entre les produits et les quantités\n",
    "> - la caractérisation : la disponibilité du produit\n",
    "\n",
    "On peut noter que les deux usages de classification et de croisement conduisent à dupliquer fortement les informations avec les risques d'erreurs associés."
   ]
  },
  {
   "cell_type": "markdown",
   "id": "dd8272f8",
   "metadata": {},
   "source": [
    "## Analyse des colonnes\n",
    "\n",
    "Les relations entre deux colonnes peuvent être qualifiées et mesurées en fonction de ces trois usages. Ceci permet par exemple de contrôler qu'une exigence est bien respectée.\n",
    "\n",
    "en caractérisant . On peut ainsi "
   ]
  },
  {
   "cell_type": "code",
   "execution_count": 3,
   "id": "22b9dc4f",
   "metadata": {},
   "outputs": [
    {
     "data": {
      "text/plain": [
       "True"
      ]
     },
     "execution_count": 3,
     "metadata": {},
     "output_type": "execute_result"
    }
   ],
   "source": [
    "from observation import Ilist\n",
    "\n",
    "tarif = Ilist.obj([['id', [11, 12, 13, 14, 15, 16, 17, 18]],\n",
    "               ['produit', ['pomme', 'pomme', 'orange', 'orange', 'piment', 'piment', 'banane', 'banane']],\n",
    "               ['aliment', ['fruit', 'fruit', 'fruit', 'fruit', 'légume', 'légume', 'fruit', 'fruit']],\n",
    "               ['quantité', ['1 kg', '10 kg', '1 kg', '10 kg', '1 kg', '10 kg', '1 kg', '10 kg']],\n",
    "               ['prix', [1, 10, 2, 20, 1.5, 15, 0.5, 5]],\n",
    "               ['année', [2022, 2022, 2022, 2022, 2022, 2022, 2022, 2022]],\n",
    "               ['disponibilité', ['oui', 'oui','non','non','oui','non','oui','oui']]])\n",
    "id, produit, aliment, quantite, prix, annee, dispo = tarif.lindex\n",
    "\n",
    "aliment.isderived(produit)"
   ]
  }
 ],
 "metadata": {
  "kernelspec": {
   "display_name": "Python 3 (ipykernel)",
   "language": "python",
   "name": "python3"
  },
  "language_info": {
   "codemirror_mode": {
    "name": "ipython",
    "version": 3
   },
   "file_extension": ".py",
   "mimetype": "text/x-python",
   "name": "python",
   "nbconvert_exporter": "python",
   "pygments_lexer": "ipython3",
   "version": "3.9.12"
  }
 },
 "nbformat": 4,
 "nbformat_minor": 5
}
