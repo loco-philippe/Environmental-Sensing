{
 "cells": [
  {
   "cell_type": "markdown",
   "id": "8358c9cf",
   "metadata": {},
   "source": [
    "# ObsJSON : Examples\n",
    "\n",
    "## Goals\n",
    "\n",
    "- understand the structure of json data\n",
    "- show the diversity of data structures\n",
    "\n",
    "-----"
   ]
  },
  {
   "cell_type": "code",
   "execution_count": 1,
   "id": "32d0527b",
   "metadata": {},
   "outputs": [],
   "source": [
    "# This cell is only to prepare the example\n",
    "import os\n",
    "import json\n",
    "from observation import Observation as Obs\n",
    "#os.chdir('../python/ES')\n",
    "#from esobservation import Obs\n",
    "from datetime import datetime\n",
    "from pprint import pprint\n",
    "#examples = '../../documentation/json_examples.obs'\n",
    "examples = 'json_examples.obs'\n",
    "with open(examples, 'w', newline='') as file: file.write('examples of ObsJSON :\\n\\n')\n"
   ]
  },
  {
   "cell_type": "code",
   "execution_count": 2,
   "id": "d75b60b0",
   "metadata": {},
   "outputs": [],
   "source": [
    "# Creation of test set\n",
    "def polygon(i, j): return [[[i, j], [round(i+0.01, 2), j], [round(i+0.01, 2), round(j+0.01, 2)], [i, round(j+0.01, 2)]]]\n",
    "def dat(n): return ['datation', [datetime(2022,9,i).isoformat() for i in range(1, n+1)]]\n",
    "def slt(n): return ['datation',[[datetime(2022,9,i).isoformat(),datetime(2022,9,i+1).isoformat()] for i in range(1, n+1)]]\n",
    "def loc(n): return ['location', [[round(2.1 + i/10, 2), round(45.1 + i / 10, 2)] for i in range(n)]]\n",
    "def pol(n): return ['location', [polygon(round(2.1 + i/10, 2), round(45.1 + i / 10, 2)) for i in range(n)]]\n",
    "def prp(n): return ['property', [{'prp': 'PM' + str(i), 'unit': 'kg/m3'} for i in range(1, n+1)]]\n",
    "def res(n): return ['result', [i for i in range(n)], -1]\n",
    "def stg(n): return ['string', ['example' + str(i)  for i in range(n)]]\n",
    "def dic(n): return ['dict', [{'example': 'value'+ str(i)}  for i in range(n)]]\n",
    "def lis(n): return ['list', [list(range(i+1))  for i in range(1, n+1)]]\n",
    "def mix(n): return ['mixte', [[stg, dic, lis][i%3](n)[1][i-1] for i in range(1, n+1)]]\n",
    "def s(f, n): return f(n)[1]\n",
    "def p(f, n, p): return [f(n)[0], f(n)[1], p]\n",
    "def pobs(listobs, info=False): \n",
    "    data = Obs.obj({'data':listobs}).setcanonorder().json(encoded=True, json_info=info) + '\\n'\n",
    "    print(data) \n",
    "    with open(examples, 'a', newline='') as file: file.write(data)\n",
    "    return data\n",
    "def ppobs(listobs, param=None, name=None, info=False): \n",
    "    data = Obs.obj({'name':name, 'data':listobs, 'param':param}).setcanonorder().sort().json(encoded=True, json_info=info)\n",
    "    pprint(json.loads(data))\n",
    "    print('\\n')\n",
    "    with open(examples, 'a', newline='') as file: file.write(data + '\\n')\n",
    "    return data\n",
    "def view(listobs): return Obs.obj({'data':listobs}).view(tablefmt='html', numalign='center', stralign='center')"
   ]
  },
  {
   "cell_type": "markdown",
   "id": "63c2d7a4",
   "metadata": {},
   "source": [
    "## 1 - Simple Examples"
   ]
  },
  {
   "cell_type": "code",
   "execution_count": 3,
   "id": "d362d2cb",
   "metadata": {},
   "outputs": [
    {
     "name": "stdout",
     "output_type": "stream",
     "text": [
      "{\"type\": \"observation\", \"data\": []}\n",
      "\n",
      "{\"type\": \"observation\", \"data\": [[\"2022-09-01T00:00:00+00:00\"]]}\n",
      "\n",
      "{\"type\": \"observation\", \"data\": [[[2.1, 45.1]]]}\n",
      "\n",
      "{\"type\": \"observation\", \"data\": [[[0, 1]]]}\n",
      "\n",
      "{\"type\": \"observation\", \"data\": [[{\"example\": \"value0\"}]]}\n",
      "\n",
      "{\"type\": \"observation\", \"data\": [[\"example0\"]]}\n",
      "\n",
      "{\"type\": \"observation\", \"data\": [[0]]}\n",
      "\n",
      "{'data': [['2022-09-01T00:00:00+00:00']],\n",
      " 'name': 'example',\n",
      " 'param': {'test': 'simple value'},\n",
      " 'type': 'observation'}\n",
      "\n",
      "\n"
     ]
    },
    {
     "data": {
      "text/plain": [
       "'{\"type\": \"observation\", \"name\": \"example\", \"param\": {\"test\": \"simple value\"}, \"data\": [[\"2022-09-01T00:00:00+00:00\"]]}'"
      ]
     },
     "execution_count": 3,
     "metadata": {},
     "output_type": "execute_result"
    }
   ],
   "source": [
    "pobs([])        \n",
    "pobs([s(dat,1)])\n",
    "pobs([s(loc,1)])\n",
    "pobs([s(lis,1)])\n",
    "pobs([s(dic,1)])\n",
    "pobs([s(stg,1)])\n",
    "pobs([s(res,1)])\n",
    "ppobs([s(dat,1)], {'test':'simple value'}, 'example')"
   ]
  },
  {
   "cell_type": "markdown",
   "id": "3ad1fcb0",
   "metadata": {},
   "source": [
    "### With name"
   ]
  },
  {
   "cell_type": "code",
   "execution_count": 4,
   "id": "357e6838",
   "metadata": {},
   "outputs": [
    {
     "name": "stdout",
     "output_type": "stream",
     "text": [
      "{\"type\": \"observation\", \"data\": [[\"datation\", [\"2022-09-01T00:00:00+00:00\"]]]}\n",
      "\n",
      "{\"type\": \"observation\", \"data\": [[\"location\", [[2.1, 45.1]]]]}\n",
      "\n",
      "{\"type\": \"observation\", \"data\": [[\"list\", [[0, 1]]]]}\n",
      "\n",
      "{\"type\": \"observation\", \"data\": [[\"dict\", [{\"example\": \"value0\"}]]]}\n",
      "\n",
      "{\"type\": \"observation\", \"data\": [[\"result\", [0], -1]]}\n",
      "\n"
     ]
    },
    {
     "data": {
      "text/plain": [
       "'{\"type\": \"observation\", \"data\": [[\"result\", [0], -1]]}\\n'"
      ]
     },
     "execution_count": 4,
     "metadata": {},
     "output_type": "execute_result"
    }
   ],
   "source": [
    "pobs([dat(1)])\n",
    "pobs([loc(1)])\n",
    "pobs([lis(1)])\n",
    "pobs([dic(1)])\n",
    "pobs([res(1)])"
   ]
  },
  {
   "cell_type": "markdown",
   "id": "a2ca2b0a",
   "metadata": {},
   "source": [
    "## 2 - Examples with multiple indexes"
   ]
  },
  {
   "cell_type": "code",
   "execution_count": 5,
   "id": "bd96b6dc",
   "metadata": {},
   "outputs": [
    {
     "name": "stdout",
     "output_type": "stream",
     "text": [
      "{\"type\": \"observation\", \"data\": [[\"datation\", [\"2022-09-01T00:00:00+00:00\"]], [\"location\", [[2.1, 45.1]]]]}\n",
      "\n",
      "{\"type\": \"observation\", \"data\": [[\"datation\", [\"2022-09-01T00:00:00+00:00\"]], [\"location\", [[2.1, 45.1]]], [\"property\", [{\"prp\": \"PM1\", \"unit\": \"kg/m3\"}]], [\"string\", [\"example0\"]], [\"result\", [0], -1]]}\n",
      "\n"
     ]
    },
    {
     "data": {
      "text/plain": [
       "'{\"type\": \"observation\", \"data\": [[\"datation\", [\"2022-09-01T00:00:00+00:00\"]], [\"location\", [[2.1, 45.1]]], [\"property\", [{\"prp\": \"PM1\", \"unit\": \"kg/m3\"}]], [\"string\", [\"example0\"]], [\"result\", [0], -1]]}\\n'"
      ]
     },
     "execution_count": 5,
     "metadata": {},
     "output_type": "execute_result"
    }
   ],
   "source": [
    "pobs([dat(1), loc(1)])\n",
    "pobs([dat(1), loc(1), prp(1), stg(1), res(1)])"
   ]
  },
  {
   "cell_type": "markdown",
   "id": "dde056d9",
   "metadata": {},
   "source": [
    "### Multiple indexes (one dimension)"
   ]
  },
  {
   "cell_type": "code",
   "execution_count": 6,
   "id": "c0069cdd",
   "metadata": {},
   "outputs": [
    {
     "name": "stdout",
     "output_type": "stream",
     "text": [
      "{\"type\": \"observation\", \"data\": [[\"datation\", [\"2022-09-01T00:00:00+00:00\", \"2022-09-02T00:00:00+00:00\"]], [\"location\", [[2.1, 45.1], [2.2, 45.2]]]]}\n",
      "\n",
      "{'data': [['datation',\n",
      "           ['2022-09-01T00:00:00+00:00',\n",
      "            '2022-09-02T00:00:00+00:00',\n",
      "            '2022-09-03T00:00:00+00:00']],\n",
      "          ['location', [[2.1, 45.1], [2.2, 45.2], [2.3, 45.3]]],\n",
      "          ['property',\n",
      "           [{'prp': 'PM1', 'unit': 'kg/m3'},\n",
      "            {'prp': 'PM2', 'unit': 'kg/m3'},\n",
      "            {'prp': 'PM3', 'unit': 'kg/m3'}]],\n",
      "          ['string', ['example0', 'example1', 'example2']],\n",
      "          ['result', [0, 1, 2], -1]],\n",
      " 'type': 'observation'}\n",
      "\n",
      "\n",
      "{'data': [['datation',\n",
      "           [['2022-09-01T00:00:00+00:00', '2022-09-02T00:00:00+00:00'],\n",
      "            ['2022-09-02T00:00:00+00:00', '2022-09-03T00:00:00+00:00'],\n",
      "            ['2022-09-03T00:00:00+00:00', '2022-09-04T00:00:00+00:00']]],\n",
      "          ['location',\n",
      "           [[[[2.1, 45.1],\n",
      "              [2.11, 45.1],\n",
      "              [2.11, 45.11],\n",
      "              [2.1, 45.11],\n",
      "              [2.1, 45.1]]],\n",
      "            [[[2.2, 45.2],\n",
      "              [2.21, 45.2],\n",
      "              [2.21, 45.21],\n",
      "              [2.2, 45.21],\n",
      "              [2.2, 45.2]]],\n",
      "            [[[2.3, 45.3],\n",
      "              [2.31, 45.3],\n",
      "              [2.31, 45.31],\n",
      "              [2.3, 45.31],\n",
      "              [2.3, 45.3]]]]],\n",
      "          ['property',\n",
      "           [{'prp': 'PM1', 'unit': 'kg/m3'},\n",
      "            {'prp': 'PM2', 'unit': 'kg/m3'},\n",
      "            {'prp': 'PM3', 'unit': 'kg/m3'}]],\n",
      "          ['string', ['example0', 'example1', 'example2']],\n",
      "          ['result', [0, 1, 2], -1]],\n",
      " 'type': 'observation'}\n",
      "\n",
      "\n"
     ]
    },
    {
     "data": {
      "text/html": [
       "<table>\n",
       "<thead>\n",
       "<tr><th style=\"text-align: center;\"> result </th><th style=\"text-align: center;\">         datation          </th><th style=\"text-align: center;\"> location  </th><th style=\"text-align: center;\">           property            </th><th style=\"text-align: center;\"> string </th></tr>\n",
       "</thead>\n",
       "<tbody>\n",
       "<tr><td style=\"text-align: center;\">   0    </td><td style=\"text-align: center;\">&quot;2022-09-01T00:00:00+00:00&quot;</td><td style=\"text-align: center;\">[2.1, 45.1]</td><td style=\"text-align: center;\">{&quot;prp&quot;: &quot;PM1&quot;, &quot;unit&quot;: &quot;kg/m3&quot;}</td><td style=\"text-align: center;\">example0</td></tr>\n",
       "<tr><td style=\"text-align: center;\">   1    </td><td style=\"text-align: center;\">&quot;2022-09-02T00:00:00+00:00&quot;</td><td style=\"text-align: center;\">[2.2, 45.2]</td><td style=\"text-align: center;\">{&quot;prp&quot;: &quot;PM2&quot;, &quot;unit&quot;: &quot;kg/m3&quot;}</td><td style=\"text-align: center;\">example1</td></tr>\n",
       "<tr><td style=\"text-align: center;\">   2    </td><td style=\"text-align: center;\">&quot;2022-09-03T00:00:00+00:00&quot;</td><td style=\"text-align: center;\">[2.3, 45.3]</td><td style=\"text-align: center;\">{&quot;prp&quot;: &quot;PM3&quot;, &quot;unit&quot;: &quot;kg/m3&quot;}</td><td style=\"text-align: center;\">example2</td></tr>\n",
       "</tbody>\n",
       "</table>"
      ],
      "text/plain": [
       "'<table>\\n<thead>\\n<tr><th style=\"text-align: center;\"> result </th><th style=\"text-align: center;\">         datation          </th><th style=\"text-align: center;\"> location  </th><th style=\"text-align: center;\">           property            </th><th style=\"text-align: center;\"> string </th></tr>\\n</thead>\\n<tbody>\\n<tr><td style=\"text-align: center;\">   0    </td><td style=\"text-align: center;\">&quot;2022-09-01T00:00:00+00:00&quot;</td><td style=\"text-align: center;\">[2.1, 45.1]</td><td style=\"text-align: center;\">{&quot;prp&quot;: &quot;PM1&quot;, &quot;unit&quot;: &quot;kg/m3&quot;}</td><td style=\"text-align: center;\">example0</td></tr>\\n<tr><td style=\"text-align: center;\">   1    </td><td style=\"text-align: center;\">&quot;2022-09-02T00:00:00+00:00&quot;</td><td style=\"text-align: center;\">[2.2, 45.2]</td><td style=\"text-align: center;\">{&quot;prp&quot;: &quot;PM2&quot;, &quot;unit&quot;: &quot;kg/m3&quot;}</td><td style=\"text-align: center;\">example1</td></tr>\\n<tr><td style=\"text-align: center;\">   2    </td><td style=\"text-align: center;\">&quot;2022-09-03T00:00:00+00:00&quot;</td><td style=\"text-align: center;\">[2.3, 45.3]</td><td style=\"text-align: center;\">{&quot;prp&quot;: &quot;PM3&quot;, &quot;unit&quot;: &quot;kg/m3&quot;}</td><td style=\"text-align: center;\">example2</td></tr>\\n</tbody>\\n</table>'"
      ]
     },
     "execution_count": 6,
     "metadata": {},
     "output_type": "execute_result"
    }
   ],
   "source": [
    "pobs([dat(2), loc(2)])\n",
    "ppobs([res(3), dat(3), loc(3), prp(3), stg(3)])\n",
    "ppobs([res(3), slt(3), pol(3), prp(3), stg(3)])\n",
    "view([res(3), dat(3), loc(3), prp(3), stg(3)])"
   ]
  },
  {
   "cell_type": "markdown",
   "id": "18b92028",
   "metadata": {},
   "source": [
    "### Multiple indexes (two dimensions )"
   ]
  },
  {
   "cell_type": "code",
   "execution_count": 7,
   "id": "18d0388e",
   "metadata": {},
   "outputs": [
    {
     "name": "stdout",
     "output_type": "stream",
     "text": [
      "{'data': [['datation',\n",
      "           ['2022-09-01T00:00:00+00:00',\n",
      "            '2022-09-02T00:00:00+00:00',\n",
      "            '2022-09-03T00:00:00+00:00']],\n",
      "          ['property',\n",
      "           [{'prp': 'PM1', 'unit': 'kg/m3'}, {'prp': 'PM2', 'unit': 'kg/m3'}]],\n",
      "          ['location', [[2.1, 45.1], [2.2, 45.2], [2.3, 45.3]], 0],\n",
      "          ['string', ['example0', 'example1', 'example2'], 0],\n",
      "          ['result', [0, 1, 2, 3, 4, 5], -1]],\n",
      " 'type': 'observation'}\n",
      "\n",
      "\n"
     ]
    },
    {
     "data": {
      "text/html": [
       "<table>\n",
       "<thead>\n",
       "<tr><th style=\"text-align: center;\">         datation          </th><th style=\"text-align: center;\"> location  </th><th style=\"text-align: center;\">           property            </th><th style=\"text-align: center;\"> string </th><th style=\"text-align: center;\"> result </th></tr>\n",
       "</thead>\n",
       "<tbody>\n",
       "<tr><td style=\"text-align: center;\">&quot;2022-09-01T00:00:00+00:00&quot;</td><td style=\"text-align: center;\">[2.1, 45.1]</td><td style=\"text-align: center;\">{&quot;prp&quot;: &quot;PM1&quot;, &quot;unit&quot;: &quot;kg/m3&quot;}</td><td style=\"text-align: center;\">example0</td><td style=\"text-align: center;\">   0    </td></tr>\n",
       "<tr><td style=\"text-align: center;\">&quot;2022-09-01T00:00:00+00:00&quot;</td><td style=\"text-align: center;\">[2.1, 45.1]</td><td style=\"text-align: center;\">{&quot;prp&quot;: &quot;PM2&quot;, &quot;unit&quot;: &quot;kg/m3&quot;}</td><td style=\"text-align: center;\">example0</td><td style=\"text-align: center;\">   1    </td></tr>\n",
       "<tr><td style=\"text-align: center;\">&quot;2022-09-02T00:00:00+00:00&quot;</td><td style=\"text-align: center;\">[2.2, 45.2]</td><td style=\"text-align: center;\">{&quot;prp&quot;: &quot;PM1&quot;, &quot;unit&quot;: &quot;kg/m3&quot;}</td><td style=\"text-align: center;\">example1</td><td style=\"text-align: center;\">   2    </td></tr>\n",
       "<tr><td style=\"text-align: center;\">&quot;2022-09-02T00:00:00+00:00&quot;</td><td style=\"text-align: center;\">[2.2, 45.2]</td><td style=\"text-align: center;\">{&quot;prp&quot;: &quot;PM2&quot;, &quot;unit&quot;: &quot;kg/m3&quot;}</td><td style=\"text-align: center;\">example1</td><td style=\"text-align: center;\">   3    </td></tr>\n",
       "<tr><td style=\"text-align: center;\">&quot;2022-09-03T00:00:00+00:00&quot;</td><td style=\"text-align: center;\">[2.3, 45.3]</td><td style=\"text-align: center;\">{&quot;prp&quot;: &quot;PM1&quot;, &quot;unit&quot;: &quot;kg/m3&quot;}</td><td style=\"text-align: center;\">example2</td><td style=\"text-align: center;\">   4    </td></tr>\n",
       "<tr><td style=\"text-align: center;\">&quot;2022-09-03T00:00:00+00:00&quot;</td><td style=\"text-align: center;\">[2.3, 45.3]</td><td style=\"text-align: center;\">{&quot;prp&quot;: &quot;PM2&quot;, &quot;unit&quot;: &quot;kg/m3&quot;}</td><td style=\"text-align: center;\">example2</td><td style=\"text-align: center;\">   5    </td></tr>\n",
       "</tbody>\n",
       "</table>"
      ],
      "text/plain": [
       "'<table>\\n<thead>\\n<tr><th style=\"text-align: center;\">         datation          </th><th style=\"text-align: center;\"> location  </th><th style=\"text-align: center;\">           property            </th><th style=\"text-align: center;\"> string </th><th style=\"text-align: center;\"> result </th></tr>\\n</thead>\\n<tbody>\\n<tr><td style=\"text-align: center;\">&quot;2022-09-01T00:00:00+00:00&quot;</td><td style=\"text-align: center;\">[2.1, 45.1]</td><td style=\"text-align: center;\">{&quot;prp&quot;: &quot;PM1&quot;, &quot;unit&quot;: &quot;kg/m3&quot;}</td><td style=\"text-align: center;\">example0</td><td style=\"text-align: center;\">   0    </td></tr>\\n<tr><td style=\"text-align: center;\">&quot;2022-09-01T00:00:00+00:00&quot;</td><td style=\"text-align: center;\">[2.1, 45.1]</td><td style=\"text-align: center;\">{&quot;prp&quot;: &quot;PM2&quot;, &quot;unit&quot;: &quot;kg/m3&quot;}</td><td style=\"text-align: center;\">example0</td><td style=\"text-align: center;\">   1    </td></tr>\\n<tr><td style=\"text-align: center;\">&quot;2022-09-02T00:00:00+00:00&quot;</td><td style=\"text-align: center;\">[2.2, 45.2]</td><td style=\"text-align: center;\">{&quot;prp&quot;: &quot;PM1&quot;, &quot;unit&quot;: &quot;kg/m3&quot;}</td><td style=\"text-align: center;\">example1</td><td style=\"text-align: center;\">   2    </td></tr>\\n<tr><td style=\"text-align: center;\">&quot;2022-09-02T00:00:00+00:00&quot;</td><td style=\"text-align: center;\">[2.2, 45.2]</td><td style=\"text-align: center;\">{&quot;prp&quot;: &quot;PM2&quot;, &quot;unit&quot;: &quot;kg/m3&quot;}</td><td style=\"text-align: center;\">example1</td><td style=\"text-align: center;\">   3    </td></tr>\\n<tr><td style=\"text-align: center;\">&quot;2022-09-03T00:00:00+00:00&quot;</td><td style=\"text-align: center;\">[2.3, 45.3]</td><td style=\"text-align: center;\">{&quot;prp&quot;: &quot;PM1&quot;, &quot;unit&quot;: &quot;kg/m3&quot;}</td><td style=\"text-align: center;\">example2</td><td style=\"text-align: center;\">   4    </td></tr>\\n<tr><td style=\"text-align: center;\">&quot;2022-09-03T00:00:00+00:00&quot;</td><td style=\"text-align: center;\">[2.3, 45.3]</td><td style=\"text-align: center;\">{&quot;prp&quot;: &quot;PM2&quot;, &quot;unit&quot;: &quot;kg/m3&quot;}</td><td style=\"text-align: center;\">example2</td><td style=\"text-align: center;\">   5    </td></tr>\\n</tbody>\\n</table>'"
      ]
     },
     "execution_count": 7,
     "metadata": {},
     "output_type": "execute_result"
    }
   ],
   "source": [
    "ppobs([dat(3), p(loc,3,0), prp(2), p(stg, 3, 0), res(6)])\n",
    "view([dat(3), p(loc,3,0), prp(2), p(stg, 3, 0), res(6)])"
   ]
  },
  {
   "cell_type": "markdown",
   "id": "90474819",
   "metadata": {},
   "source": [
    "### Multiple indexes (three dimensions )"
   ]
  },
  {
   "cell_type": "code",
   "execution_count": 20,
   "id": "7e1b5ea5",
   "metadata": {
    "scrolled": false
   },
   "outputs": [
    {
     "name": "stdout",
     "output_type": "stream",
     "text": [
      "{'data': [['datation',\n",
      "           ['2022-09-01T00:00:00+00:00',\n",
      "            '2022-09-02T00:00:00+00:00',\n",
      "            '2022-09-03T00:00:00+00:00',\n",
      "            '2022-09-04T00:00:00+00:00'],\n",
      "           [0, 0, 0, 0]],\n",
      "          ['location', [[2.1, 45.1], [2.2, 45.2], [2.3, 45.3]], [0, 0, 1, 1]],\n",
      "          ['property',\n",
      "           [{'prp': 'PM1', 'unit': 'kg/m3'}, {'prp': 'PM2', 'unit': 'kg/m3'}],\n",
      "           [0, 1, 0, 1]],\n",
      "          ['string', ['example0', 'example1', 'example2'], 1],\n",
      "          ['result', [0, 1, 2, 3], -1]],\n",
      " 'type': 'observation'}\n",
      "\n",
      "\n"
     ]
    },
    {
     "ename": "IndexError",
     "evalue": "list index out of range",
     "output_type": "error",
     "traceback": [
      "\u001b[1;31m---------------------------------------------------------------------------\u001b[0m",
      "\u001b[1;31mIndexError\u001b[0m                                Traceback (most recent call last)",
      "Input \u001b[1;32mIn [20]\u001b[0m, in \u001b[0;36m<cell line: 2>\u001b[1;34m()\u001b[0m\n\u001b[0;32m      1\u001b[0m ppobs([dat(\u001b[38;5;241m4\u001b[39m), loc(\u001b[38;5;241m3\u001b[39m), prp(\u001b[38;5;241m2\u001b[39m), p(stg, \u001b[38;5;241m3\u001b[39m, \u001b[38;5;241m0\u001b[39m), res(\u001b[38;5;241m18\u001b[39m)])\n\u001b[1;32m----> 2\u001b[0m \u001b[43mview\u001b[49m\u001b[43m(\u001b[49m\u001b[43m[\u001b[49m\u001b[43mdat\u001b[49m\u001b[43m(\u001b[49m\u001b[38;5;241;43m4\u001b[39;49m\u001b[43m)\u001b[49m\u001b[43m,\u001b[49m\u001b[43m \u001b[49m\u001b[43mloc\u001b[49m\u001b[43m(\u001b[49m\u001b[38;5;241;43m3\u001b[39;49m\u001b[43m)\u001b[49m\u001b[43m,\u001b[49m\u001b[43m \u001b[49m\u001b[43mprp\u001b[49m\u001b[43m(\u001b[49m\u001b[38;5;241;43m2\u001b[39;49m\u001b[43m)\u001b[49m\u001b[43m,\u001b[49m\u001b[43m \u001b[49m\u001b[43mp\u001b[49m\u001b[43m(\u001b[49m\u001b[43mstg\u001b[49m\u001b[43m,\u001b[49m\u001b[43m \u001b[49m\u001b[38;5;241;43m3\u001b[39;49m\u001b[43m,\u001b[49m\u001b[43m \u001b[49m\u001b[38;5;241;43m0\u001b[39;49m\u001b[43m)\u001b[49m\u001b[43m,\u001b[49m\u001b[43m \u001b[49m\u001b[43mres\u001b[49m\u001b[43m(\u001b[49m\u001b[38;5;241;43m18\u001b[39;49m\u001b[43m)\u001b[49m\u001b[43m]\u001b[49m\u001b[43m)\u001b[49m\n",
      "Input \u001b[1;32mIn [2]\u001b[0m, in \u001b[0;36mview\u001b[1;34m(listobs)\u001b[0m\n\u001b[1;32m---> 26\u001b[0m \u001b[38;5;28;01mdef\u001b[39;00m \u001b[38;5;21mview\u001b[39m(listobs): \u001b[38;5;28;01mreturn\u001b[39;00m \u001b[43mObs\u001b[49m\u001b[38;5;241;43m.\u001b[39;49m\u001b[43mobj\u001b[49m\u001b[43m(\u001b[49m\u001b[43m{\u001b[49m\u001b[38;5;124;43m'\u001b[39;49m\u001b[38;5;124;43mdata\u001b[39;49m\u001b[38;5;124;43m'\u001b[39;49m\u001b[43m:\u001b[49m\u001b[43mlistobs\u001b[49m\u001b[43m}\u001b[49m\u001b[43m)\u001b[49m\u001b[38;5;241;43m.\u001b[39;49m\u001b[43mview\u001b[49m\u001b[43m(\u001b[49m\u001b[43mtablefmt\u001b[49m\u001b[38;5;241;43m=\u001b[39;49m\u001b[38;5;124;43m'\u001b[39;49m\u001b[38;5;124;43mhtml\u001b[39;49m\u001b[38;5;124;43m'\u001b[39;49m\u001b[43m,\u001b[49m\u001b[43m \u001b[49m\u001b[43mnumalign\u001b[49m\u001b[38;5;241;43m=\u001b[39;49m\u001b[38;5;124;43m'\u001b[39;49m\u001b[38;5;124;43mcenter\u001b[39;49m\u001b[38;5;124;43m'\u001b[39;49m\u001b[43m,\u001b[49m\u001b[43m \u001b[49m\u001b[43mstralign\u001b[49m\u001b[38;5;241;43m=\u001b[39;49m\u001b[38;5;124;43m'\u001b[39;49m\u001b[38;5;124;43mcenter\u001b[39;49m\u001b[38;5;124;43m'\u001b[39;49m\u001b[43m)\u001b[49m\n",
      "File \u001b[1;32m~\\Documents\\Environmental-Sensing\\python\\observation\\ilist_interface.py:371\u001b[0m, in \u001b[0;36mIlistInterface.view\u001b[1;34m(self, **kwargs)\u001b[0m\n\u001b[0;32m    368\u001b[0m optview \u001b[38;5;241m=\u001b[39m {\u001b[38;5;124m'\u001b[39m\u001b[38;5;124mtablefmt\u001b[39m\u001b[38;5;124m'\u001b[39m: \u001b[38;5;124m'\u001b[39m\u001b[38;5;124msimple\u001b[39m\u001b[38;5;124m'\u001b[39m, \u001b[38;5;124m'\u001b[39m\u001b[38;5;124mnumalign\u001b[39m\u001b[38;5;124m'\u001b[39m: \u001b[38;5;124m'\u001b[39m\u001b[38;5;124mdecimal\u001b[39m\u001b[38;5;124m'\u001b[39m,\n\u001b[0;32m    369\u001b[0m            \u001b[38;5;124m'\u001b[39m\u001b[38;5;124mstralign\u001b[39m\u001b[38;5;124m'\u001b[39m: \u001b[38;5;124m'\u001b[39m\u001b[38;5;124mleft\u001b[39m\u001b[38;5;124m'\u001b[39m, \u001b[38;5;124m'\u001b[39m\u001b[38;5;124mfloatfmt\u001b[39m\u001b[38;5;124m'\u001b[39m: \u001b[38;5;124m'\u001b[39m\u001b[38;5;124m.2f\u001b[39m\u001b[38;5;124m'\u001b[39m}\n\u001b[0;32m    370\u001b[0m option \u001b[38;5;241m=\u001b[39m opttab \u001b[38;5;241m|\u001b[39m optview \u001b[38;5;241m|\u001b[39m kwargs\n\u001b[1;32m--> 371\u001b[0m tab \u001b[38;5;241m=\u001b[39m \u001b[38;5;28mself\u001b[39m\u001b[38;5;241m.\u001b[39m_to_tab(\u001b[38;5;241m*\u001b[39m\u001b[38;5;241m*\u001b[39moption)\n\u001b[0;32m    372\u001b[0m width \u001b[38;5;241m=\u001b[39m ({\u001b[38;5;124m'\u001b[39m\u001b[38;5;124mwidth\u001b[39m\u001b[38;5;124m'\u001b[39m: \u001b[38;5;28;01mNone\u001b[39;00m} \u001b[38;5;241m|\u001b[39m kwargs)[\u001b[38;5;124m'\u001b[39m\u001b[38;5;124mwidth\u001b[39m\u001b[38;5;124m'\u001b[39m]\n\u001b[0;32m    373\u001b[0m \u001b[38;5;28;01mif\u001b[39;00m width:\n",
      "File \u001b[1;32m~\\Documents\\Environmental-Sensing\\python\\observation\\ilist_interface.py:487\u001b[0m, in \u001b[0;36mIlistInterface._to_tab\u001b[1;34m(self, **kwargs)\u001b[0m\n\u001b[0;32m    485\u001b[0m \u001b[38;5;28;01mfor\u001b[39;00m char, code \u001b[38;5;129;01min\u001b[39;00m diccode\u001b[38;5;241m.\u001b[39mitems():\n\u001b[0;32m    486\u001b[0m     \u001b[38;5;28;01mif\u001b[39;00m char \u001b[38;5;129;01min\u001b[39;00m option[\u001b[38;5;124m'\u001b[39m\u001b[38;5;124mdefcode\u001b[39m\u001b[38;5;124m'\u001b[39m]:\n\u001b[1;32m--> 487\u001b[0m         val \u001b[38;5;241m=\u001b[39m \u001b[38;5;28;43mself\u001b[39;49m\u001b[38;5;241;43m.\u001b[39;49m\u001b[43mnindex\u001b[49m\u001b[43m(\u001b[49m\u001b[43mname\u001b[49m\u001b[43m)\u001b[49m\u001b[38;5;241;43m.\u001b[39;49m\u001b[43mvalues\u001b[49m\u001b[43m[\u001b[49m\u001b[43mi\u001b[49m\u001b[43m]\u001b[49m\n\u001b[0;32m    488\u001b[0m         \u001b[38;5;28;01mif\u001b[39;00m char \u001b[38;5;241m==\u001b[39m \u001b[38;5;124m'\u001b[39m\u001b[38;5;124mj\u001b[39m\u001b[38;5;124m'\u001b[39m:\n\u001b[0;32m    489\u001b[0m             reslist\u001b[38;5;241m.\u001b[39mappend(util\u001b[38;5;241m.\u001b[39mcast(val, dtype\u001b[38;5;241m=\u001b[39m\u001b[38;5;124m'\u001b[39m\u001b[38;5;124mjson\u001b[39m\u001b[38;5;124m'\u001b[39m))\n",
      "\u001b[1;31mIndexError\u001b[0m: list index out of range"
     ]
    }
   ],
   "source": [
    "ppobs([dat(4), loc(3), prp(2), p(stg, 3, 0), res(18)])\n",
    "view([dat(4), loc(3), prp(2), p(stg, 3, 0), res(18)])"
   ]
  },
  {
   "cell_type": "code",
   "execution_count": 19,
   "id": "709a1834",
   "metadata": {},
   "outputs": [
    {
     "name": "stdout",
     "output_type": "stream",
     "text": [
      "{'data': [['datation',\n",
      "           ['2022-09-01T00:00:00+00:00',\n",
      "            '2022-09-02T00:00:00+00:00',\n",
      "            '2022-09-03T00:00:00+00:00']],\n",
      "          ['location', [[2.1, 45.1], [2.2, 45.2], [2.3, 45.3]]],\n",
      "          ['property',\n",
      "           [{'prp': 'PM1', 'unit': 'kg/m3'}, {'prp': 'PM2', 'unit': 'kg/m3'}]],\n",
      "          ['string', ['example0', 'example1', 'example2'], 0],\n",
      "          ['result',\n",
      "           [0, 1, 2, 3, 4, 5, 6, 7, 8, 9, 10, 11, 12, 13, 14, 15, 16, 17],\n",
      "           -1]],\n",
      " 'name': 'example4',\n",
      " 'param': {'dimension': 3},\n",
      " 'type': 'observation'}\n",
      "\n",
      "\n"
     ]
    },
    {
     "data": {
      "text/plain": [
       "'{\"type\": \"observation\", \"name\": \"example4\", \"param\": {\"dimension\": 3}, \"data\": [[\"datation\", [\"2022-09-01T00:00:00+00:00\", \"2022-09-02T00:00:00+00:00\", \"2022-09-03T00:00:00+00:00\"]], [\"location\", [[2.1, 45.1], [2.2, 45.2], [2.3, 45.3]]], [\"property\", [{\"prp\": \"PM1\", \"unit\": \"kg/m3\"}, {\"prp\": \"PM2\", \"unit\": \"kg/m3\"}]], [\"string\", [\"example0\", \"example1\", \"example2\"], 0], [\"result\", [0, 1, 2, 3, 4, 5, 6, 7, 8, 9, 10, 11, 12, 13, 14, 15, 16, 17], -1]]}'"
      ]
     },
     "execution_count": 19,
     "metadata": {},
     "output_type": "execute_result"
    }
   ],
   "source": [
    "ppobs([dat(3), loc(3), prp(2), p(stg, 3, 0), res(18)], param={'dimension': 3}, name='example4', info=False)"
   ]
  },
  {
   "cell_type": "markdown",
   "id": "1675c891",
   "metadata": {},
   "source": [
    "### multiple indexes without matrix"
   ]
  },
  {
   "cell_type": "code",
   "execution_count": 10,
   "id": "6120b74d",
   "metadata": {
    "scrolled": false
   },
   "outputs": [
    {
     "name": "stdout",
     "output_type": "stream",
     "text": [
      "{'data': [['datation',\n",
      "           ['2021-07-04T12:05:00+00:00',\n",
      "            {'date1': '2021-02-04T12:05:00+00:00'}]],\n",
      "          ['location', [[4.83, 45.76], {'paris': [2.35, 48.87]}]],\n",
      "          ['property',\n",
      "           [{'prp': 'PM10', 'unit': 'kg/m3'},\n",
      "            {'prp': 'PM25', 'unit': 'kg/m3'}]],\n",
      "          ['locinfos', ['middle', 'begin']],\n",
      "          ['result', [1, 0], -1]],\n",
      " 'name': 'test1',\n",
      " 'type': 'observation'}\n",
      "\n",
      "\n"
     ]
    },
    {
     "data": {
      "text/html": [
       "<table>\n",
       "<thead>\n",
       "<tr><th style=\"text-align: center;\">               datation               </th><th style=\"text-align: center;\">        location        </th><th style=\"text-align: center;\">            property            </th><th style=\"text-align: center;\"> locinfos </th><th style=\"text-align: center;\"> result </th></tr>\n",
       "</thead>\n",
       "<tbody>\n",
       "<tr><td style=\"text-align: center;\">     &quot;2021-07-04T12:05:00+00:00&quot;      </td><td style=\"text-align: center;\">     [4.83, 45.76]      </td><td style=\"text-align: center;\">{&quot;prp&quot;: &quot;PM10&quot;, &quot;unit&quot;: &quot;kg/m3&quot;}</td><td style=\"text-align: center;\">  middle  </td><td style=\"text-align: center;\">   1    </td></tr>\n",
       "<tr><td style=\"text-align: center;\">{&quot;date1&quot;: &quot;2021-02-04T12:05:00+00:00&quot;}</td><td style=\"text-align: center;\">{&quot;paris&quot;: [2.35, 48.87]}</td><td style=\"text-align: center;\">{&quot;prp&quot;: &quot;PM25&quot;, &quot;unit&quot;: &quot;kg/m3&quot;}</td><td style=\"text-align: center;\">  begin   </td><td style=\"text-align: center;\">   0    </td></tr>\n",
       "</tbody>\n",
       "</table>"
      ],
      "text/plain": [
       "'<table>\\n<thead>\\n<tr><th style=\"text-align: center;\">               datation               </th><th style=\"text-align: center;\">        location        </th><th style=\"text-align: center;\">            property            </th><th style=\"text-align: center;\"> locinfos </th><th style=\"text-align: center;\"> result </th></tr>\\n</thead>\\n<tbody>\\n<tr><td style=\"text-align: center;\">     &quot;2021-07-04T12:05:00+00:00&quot;      </td><td style=\"text-align: center;\">     [4.83, 45.76]      </td><td style=\"text-align: center;\">{&quot;prp&quot;: &quot;PM10&quot;, &quot;unit&quot;: &quot;kg/m3&quot;}</td><td style=\"text-align: center;\">  middle  </td><td style=\"text-align: center;\">   1    </td></tr>\\n<tr><td style=\"text-align: center;\">{&quot;date1&quot;: &quot;2021-02-04T12:05:00+00:00&quot;}</td><td style=\"text-align: center;\">{&quot;paris&quot;: [2.35, 48.87]}</td><td style=\"text-align: center;\">{&quot;prp&quot;: &quot;PM25&quot;, &quot;unit&quot;: &quot;kg/m3&quot;}</td><td style=\"text-align: center;\">  begin   </td><td style=\"text-align: center;\">   0    </td></tr>\\n</tbody>\\n</table>'"
      ]
     },
     "execution_count": 10,
     "metadata": {},
     "output_type": "execute_result"
    }
   ],
   "source": [
    "ob=Obs.dic({\"datation\": [[{\"date1\": \"2021-02-04T12:05:00\"},\"2021-07-04T12:05:00\", \"2021-05-04T12:05:00\"], [0,0,1,1,2,2]],\n",
    "             \"location\": [[{\"paris\": [2.35, 48.87]}, [4.83, 45.76], [5.38, 43.3]], [0,0,2,1,1,2]],\n",
    "             \"property\": [[{\"prp\": \"PM25\", \"unit\": \"kg/m3\"}, {\"prp\": \"PM10\", \"unit\": \"kg/m3\"}], [0,1,0,1,0,1]],\n",
    "             \"locinfos\": [[\"begin\", \"middle\", \"end\"], 1],\n",
    "             \"result\": [[0,1,2,3,4,5], -1]}, name='test1').setcanonorder().sort()\n",
    "pprint(json.loads(ob.json(encoded=True)))\n",
    "print('\\n')\n",
    "ob.view(tablefmt='html', numalign='center', stralign='center')\n"
   ]
  },
  {
   "cell_type": "markdown",
   "id": "9cc6f150",
   "metadata": {},
   "source": [
    "### with infos"
   ]
  },
  {
   "cell_type": "code",
   "execution_count": 21,
   "id": "71d8df3b",
   "metadata": {
    "scrolled": false
   },
   "outputs": [
    {
     "name": "stdout",
     "output_type": "stream",
     "text": [
      "{'data': [['datation',\n",
      "           ['2021-07-04T12:05:00+00:00',\n",
      "            {'date1': '2021-02-04T12:05:00+00:00'}]],\n",
      "          ['location', [[4.83, 45.76], {'paris': [2.35, 48.87]}]],\n",
      "          ['property',\n",
      "           [{'prp': 'PM10', 'unit': 'kg/m3'},\n",
      "            {'prp': 'PM25', 'unit': 'kg/m3'}]],\n",
      "          ['locinfos', ['middle', 'begin']],\n",
      "          ['result', [1, 0], -1]],\n",
      " 'name': 'test1',\n",
      " 'type': 'observation'}\n"
     ]
    }
   ],
   "source": [
    "pprint(json.loads(ob.json(encoded=True, json_info=False)))"
   ]
  },
  {
   "cell_type": "markdown",
   "id": "4e00cf09",
   "metadata": {},
   "source": [
    "### matrix translation"
   ]
  },
  {
   "cell_type": "code",
   "execution_count": 12,
   "id": "6a7cac61",
   "metadata": {
    "scrolled": true
   },
   "outputs": [
    {
     "name": "stdout",
     "output_type": "stream",
     "text": [
      "{'data': [['datation',\n",
      "           ['2021-07-04T12:05:00+00:00',\n",
      "            {'date1': '2021-02-04T12:05:00+00:00'}]],\n",
      "          ['location', [[4.83, 45.76], {'paris': [2.35, 48.87]}]],\n",
      "          ['property',\n",
      "           [{'prp': 'PM10', 'unit': 'kg/m3'},\n",
      "            {'prp': 'PM25', 'unit': 'kg/m3'}]],\n",
      "          ['locinfos', ['middle', 'begin']],\n",
      "          ['result', [1, 0], -1]],\n",
      " 'name': 'test1',\n",
      " 'type': 'observation'}\n",
      "\n",
      "\n"
     ]
    },
    {
     "data": {
      "text/html": [
       "<table>\n",
       "<thead>\n",
       "<tr><th style=\"text-align: center;\">               datation               </th><th style=\"text-align: center;\">        location        </th><th style=\"text-align: center;\">            property            </th><th style=\"text-align: center;\"> locinfos </th><th style=\"text-align: center;\"> result </th></tr>\n",
       "</thead>\n",
       "<tbody>\n",
       "<tr><td style=\"text-align: center;\">     &quot;2021-07-04T12:05:00+00:00&quot;      </td><td style=\"text-align: center;\">     [4.83, 45.76]      </td><td style=\"text-align: center;\">{&quot;prp&quot;: &quot;PM10&quot;, &quot;unit&quot;: &quot;kg/m3&quot;}</td><td style=\"text-align: center;\">  middle  </td><td style=\"text-align: center;\">   1    </td></tr>\n",
       "<tr><td style=\"text-align: center;\">{&quot;date1&quot;: &quot;2021-02-04T12:05:00+00:00&quot;}</td><td style=\"text-align: center;\">{&quot;paris&quot;: [2.35, 48.87]}</td><td style=\"text-align: center;\">{&quot;prp&quot;: &quot;PM25&quot;, &quot;unit&quot;: &quot;kg/m3&quot;}</td><td style=\"text-align: center;\">  begin   </td><td style=\"text-align: center;\">   0    </td></tr>\n",
       "</tbody>\n",
       "</table>"
      ],
      "text/plain": [
       "'<table>\\n<thead>\\n<tr><th style=\"text-align: center;\">               datation               </th><th style=\"text-align: center;\">        location        </th><th style=\"text-align: center;\">            property            </th><th style=\"text-align: center;\"> locinfos </th><th style=\"text-align: center;\"> result </th></tr>\\n</thead>\\n<tbody>\\n<tr><td style=\"text-align: center;\">     &quot;2021-07-04T12:05:00+00:00&quot;      </td><td style=\"text-align: center;\">     [4.83, 45.76]      </td><td style=\"text-align: center;\">{&quot;prp&quot;: &quot;PM10&quot;, &quot;unit&quot;: &quot;kg/m3&quot;}</td><td style=\"text-align: center;\">  middle  </td><td style=\"text-align: center;\">   1    </td></tr>\\n<tr><td style=\"text-align: center;\">{&quot;date1&quot;: &quot;2021-02-04T12:05:00+00:00&quot;}</td><td style=\"text-align: center;\">{&quot;paris&quot;: [2.35, 48.87]}</td><td style=\"text-align: center;\">{&quot;prp&quot;: &quot;PM25&quot;, &quot;unit&quot;: &quot;kg/m3&quot;}</td><td style=\"text-align: center;\">  begin   </td><td style=\"text-align: center;\">   0    </td></tr>\\n</tbody>\\n</table>'"
      ]
     },
     "execution_count": 12,
     "metadata": {},
     "output_type": "execute_result"
    }
   ],
   "source": [
    "pprint(json.loads(ob.full().json(encoded=True)))\n",
    "print('\\n')\n",
    "ob.full().view(tablefmt='html', numalign='center', stralign='center')"
   ]
  },
  {
   "cell_type": "markdown",
   "id": "2aab6884",
   "metadata": {},
   "source": [
    "## 3 - Codec Mode\n",
    "### Mode 'full codec'"
   ]
  },
  {
   "cell_type": "code",
   "execution_count": 13,
   "id": "8da0bd7a",
   "metadata": {},
   "outputs": [
    {
     "data": {
      "text/plain": [
       "{'type': 'observation',\n",
       " 'data': [['a', 'b', 'a', 'd', 'd'], [1, 1, 3, 3, 5], [10, 10, 20, 20, 40]]}"
      ]
     },
     "execution_count": 13,
     "metadata": {},
     "output_type": "execute_result"
    }
   ],
   "source": [
    "Obs.obj({'data':[['a','b','a','d','d'], [1,1,3,3,5], [10,10,20,20,40]]}).json(modecodec='full')"
   ]
  },
  {
   "cell_type": "code",
   "execution_count": 14,
   "id": "9c0c0bc2",
   "metadata": {},
   "outputs": [
    {
     "data": {
      "text/plain": [
       "{'type': 'observation',\n",
       " 'data': [['index1', ['a', 'b', 'a', 'd', 'd']],\n",
       "  ['index2', [1, 1, 3, 3, 5]],\n",
       "  ['index3', [10, 10, 20, 20, 40]]]}"
      ]
     },
     "execution_count": 14,
     "metadata": {},
     "output_type": "execute_result"
    }
   ],
   "source": [
    "Obs.obj({'data':[['index1',['a','b','a','d','d']], ['index2',[1,1,3,3,5]], ['index3',[10,10,20,20,40]]]})\\\n",
    "    .json(modecodec='full')"
   ]
  },
  {
   "cell_type": "markdown",
   "id": "20c6daec",
   "metadata": {},
   "source": [
    "### Mode 'default codec'"
   ]
  },
  {
   "cell_type": "code",
   "execution_count": 15,
   "id": "0185c270",
   "metadata": {},
   "outputs": [
    {
     "data": {
      "text/plain": [
       "{'type': 'observation',\n",
       " 'data': [[['d', 'b', 'a'], [2, 1, 2, 0, 0]],\n",
       "  [[1, 3, 5], [0, 0, 1, 1, 2]],\n",
       "  [[40, 10, 20], [1, 1, 2, 2, 0]]]}"
      ]
     },
     "execution_count": 15,
     "metadata": {},
     "output_type": "execute_result"
    }
   ],
   "source": [
    "Obs.obj({'data':[['a','b','a','d','d'], [1,1,3,3,5], [10,10,20,20,40]]}).json(modecodec='default')"
   ]
  },
  {
   "cell_type": "code",
   "execution_count": 16,
   "id": "624c3ea9",
   "metadata": {},
   "outputs": [
    {
     "data": {
      "text/plain": [
       "{'type': 'observation',\n",
       " 'data': [['index1', ['d', 'b', 'a'], [2, 1, 2, 0, 0]],\n",
       "  ['index2', [1, 3, 5], [0, 0, 1, 1, 2]],\n",
       "  ['index3', [40, 10, 20], [1, 1, 2, 2, 0]]]}"
      ]
     },
     "execution_count": 16,
     "metadata": {},
     "output_type": "execute_result"
    }
   ],
   "source": [
    "Obs.obj({'data':[['index1',['a','b','a','d','d']], ['index2',[1,1,3,3,5]], ['index3',[10,10,20,20,40]]]})\\\n",
    "    .json(modecodec='default')"
   ]
  },
  {
   "cell_type": "markdown",
   "id": "c70e6d1f",
   "metadata": {},
   "source": [
    "### Mode 'optimize codec'"
   ]
  },
  {
   "cell_type": "code",
   "execution_count": 17,
   "id": "7424d7b1",
   "metadata": {},
   "outputs": [
    {
     "data": {
      "text/plain": [
       "{'type': 'observation',\n",
       " 'data': [[['d', 'b', 'a'], [2, 1, 2, 0, 0]],\n",
       "  [[1, 3, 5], [0, 0, 1, 1, 2]],\n",
       "  [[10, 20, 40], 1]]}"
      ]
     },
     "execution_count": 17,
     "metadata": {},
     "output_type": "execute_result"
    }
   ],
   "source": [
    "Obs.obj({'data':[['a','b','a','d','d'], [1,1,3,3,5], [10,10,20,20,40]]}).json()"
   ]
  },
  {
   "cell_type": "code",
   "execution_count": 35,
   "id": "046f7dac",
   "metadata": {},
   "outputs": [
    {
     "name": "stdout",
     "output_type": "stream",
     "text": [
      "\n",
      "\n",
      "\n",
      "\n",
      "\n",
      "\n",
      "\n",
      "\n",
      "{'data': [['datation',\n",
      "           [['2022-09-02T00:00:00+00:00', '2022-09-03T00:00:00+00:00'],\n",
      "            ['2022-09-01T00:00:00+00:00', '2022-09-02T00:00:00+00:00'],\n",
      "            ['2022-09-03T00:00:00+00:00', '2022-09-04T00:00:00+00:00']],\n",
      "           [1, 0, 2, 0, 2, 1, 2]],\n",
      "          ['location',\n",
      "           ['Bordeaux',\n",
      "            'Paris',\n",
      "            'Nantes',\n",
      "            [[[2.1, 45.1],\n",
      "              [2.11, 45.1],\n",
      "              [2.11, 45.11],\n",
      "              [2.1, 45.11],\n",
      "              [2.1, 45.1]]]],\n",
      "           [3, 1, 1, 2, 2, 0, 0]],\n",
      "          ['property',\n",
      "           [{'prp': 'PM2', 'unit': 'kg/m3'}, {'prp': 'PM1', 'unit': 'kg/m3'}],\n",
      "           [1, 0, 1, 0, 1, 0, 1]],\n",
      "          ['string', ['example1', 'example0', 'example2'], 0],\n",
      "          ['result', [13, 12, 11, 15, 12, 13, 14], -1]],\n",
      " 'type': 'observation'}\n",
      "\n",
      "\n"
     ]
    },
    {
     "data": {
      "text/html": [
       "<table>\n",
       "<thead>\n",
       "<tr><th style=\"text-align: center;\">                         datation                         </th><th style=\"text-align: center;\">                               location                                </th><th style=\"text-align: center;\">           property            </th><th style=\"text-align: center;\"> string </th><th style=\"text-align: center;\"> result </th></tr>\n",
       "</thead>\n",
       "<tbody>\n",
       "<tr><td style=\"text-align: center;\">[&quot;2022-09-01T00:00:00+00:00&quot;, &quot;2022-09-02T00:00:00+00:00&quot;]</td><td style=\"text-align: center;\">[[[2.1, 45.1], [2.11, 45.1], [2.11, 45.11], [2.1, 45.11], [2.1, 45.1]]]</td><td style=\"text-align: center;\">{&quot;prp&quot;: &quot;PM1&quot;, &quot;unit&quot;: &quot;kg/m3&quot;}</td><td style=\"text-align: center;\">example0</td><td style=\"text-align: center;\">   13   </td></tr>\n",
       "<tr><td style=\"text-align: center;\">[&quot;2022-09-02T00:00:00+00:00&quot;, &quot;2022-09-03T00:00:00+00:00&quot;]</td><td style=\"text-align: center;\">                                &quot;Paris&quot;                                </td><td style=\"text-align: center;\">{&quot;prp&quot;: &quot;PM2&quot;, &quot;unit&quot;: &quot;kg/m3&quot;}</td><td style=\"text-align: center;\">example1</td><td style=\"text-align: center;\">   12   </td></tr>\n",
       "<tr><td style=\"text-align: center;\">[&quot;2022-09-03T00:00:00+00:00&quot;, &quot;2022-09-04T00:00:00+00:00&quot;]</td><td style=\"text-align: center;\">                                &quot;Paris&quot;                                </td><td style=\"text-align: center;\">{&quot;prp&quot;: &quot;PM1&quot;, &quot;unit&quot;: &quot;kg/m3&quot;}</td><td style=\"text-align: center;\">example2</td><td style=\"text-align: center;\">   11   </td></tr>\n",
       "<tr><td style=\"text-align: center;\">[&quot;2022-09-02T00:00:00+00:00&quot;, &quot;2022-09-03T00:00:00+00:00&quot;]</td><td style=\"text-align: center;\">                               &quot;Nantes&quot;                                </td><td style=\"text-align: center;\">{&quot;prp&quot;: &quot;PM2&quot;, &quot;unit&quot;: &quot;kg/m3&quot;}</td><td style=\"text-align: center;\">example1</td><td style=\"text-align: center;\">   15   </td></tr>\n",
       "<tr><td style=\"text-align: center;\">[&quot;2022-09-03T00:00:00+00:00&quot;, &quot;2022-09-04T00:00:00+00:00&quot;]</td><td style=\"text-align: center;\">                               &quot;Nantes&quot;                                </td><td style=\"text-align: center;\">{&quot;prp&quot;: &quot;PM1&quot;, &quot;unit&quot;: &quot;kg/m3&quot;}</td><td style=\"text-align: center;\">example2</td><td style=\"text-align: center;\">   12   </td></tr>\n",
       "<tr><td style=\"text-align: center;\">[&quot;2022-09-01T00:00:00+00:00&quot;, &quot;2022-09-02T00:00:00+00:00&quot;]</td><td style=\"text-align: center;\">                              &quot;Bordeaux&quot;                               </td><td style=\"text-align: center;\">{&quot;prp&quot;: &quot;PM2&quot;, &quot;unit&quot;: &quot;kg/m3&quot;}</td><td style=\"text-align: center;\">example0</td><td style=\"text-align: center;\">   13   </td></tr>\n",
       "<tr><td style=\"text-align: center;\">[&quot;2022-09-03T00:00:00+00:00&quot;, &quot;2022-09-04T00:00:00+00:00&quot;]</td><td style=\"text-align: center;\">                              &quot;Bordeaux&quot;                               </td><td style=\"text-align: center;\">{&quot;prp&quot;: &quot;PM1&quot;, &quot;unit&quot;: &quot;kg/m3&quot;}</td><td style=\"text-align: center;\">example2</td><td style=\"text-align: center;\">   14   </td></tr>\n",
       "</tbody>\n",
       "</table>"
      ],
      "text/plain": [
       "'<table>\\n<thead>\\n<tr><th style=\"text-align: center;\">                         datation                         </th><th style=\"text-align: center;\">                               location                                </th><th style=\"text-align: center;\">           property            </th><th style=\"text-align: center;\"> string </th><th style=\"text-align: center;\"> result </th></tr>\\n</thead>\\n<tbody>\\n<tr><td style=\"text-align: center;\">[&quot;2022-09-01T00:00:00+00:00&quot;, &quot;2022-09-02T00:00:00+00:00&quot;]</td><td style=\"text-align: center;\">[[[2.1, 45.1], [2.11, 45.1], [2.11, 45.11], [2.1, 45.11], [2.1, 45.1]]]</td><td style=\"text-align: center;\">{&quot;prp&quot;: &quot;PM1&quot;, &quot;unit&quot;: &quot;kg/m3&quot;}</td><td style=\"text-align: center;\">example0</td><td style=\"text-align: center;\">   13   </td></tr>\\n<tr><td style=\"text-align: center;\">[&quot;2022-09-02T00:00:00+00:00&quot;, &quot;2022-09-03T00:00:00+00:00&quot;]</td><td style=\"text-align: center;\">                                &quot;Paris&quot;                                </td><td style=\"text-align: center;\">{&quot;prp&quot;: &quot;PM2&quot;, &quot;unit&quot;: &quot;kg/m3&quot;}</td><td style=\"text-align: center;\">example1</td><td style=\"text-align: center;\">   12   </td></tr>\\n<tr><td style=\"text-align: center;\">[&quot;2022-09-03T00:00:00+00:00&quot;, &quot;2022-09-04T00:00:00+00:00&quot;]</td><td style=\"text-align: center;\">                                &quot;Paris&quot;                                </td><td style=\"text-align: center;\">{&quot;prp&quot;: &quot;PM1&quot;, &quot;unit&quot;: &quot;kg/m3&quot;}</td><td style=\"text-align: center;\">example2</td><td style=\"text-align: center;\">   11   </td></tr>\\n<tr><td style=\"text-align: center;\">[&quot;2022-09-02T00:00:00+00:00&quot;, &quot;2022-09-03T00:00:00+00:00&quot;]</td><td style=\"text-align: center;\">                               &quot;Nantes&quot;                                </td><td style=\"text-align: center;\">{&quot;prp&quot;: &quot;PM2&quot;, &quot;unit&quot;: &quot;kg/m3&quot;}</td><td style=\"text-align: center;\">example1</td><td style=\"text-align: center;\">   15   </td></tr>\\n<tr><td style=\"text-align: center;\">[&quot;2022-09-03T00:00:00+00:00&quot;, &quot;2022-09-04T00:00:00+00:00&quot;]</td><td style=\"text-align: center;\">                               &quot;Nantes&quot;                                </td><td style=\"text-align: center;\">{&quot;prp&quot;: &quot;PM1&quot;, &quot;unit&quot;: &quot;kg/m3&quot;}</td><td style=\"text-align: center;\">example2</td><td style=\"text-align: center;\">   12   </td></tr>\\n<tr><td style=\"text-align: center;\">[&quot;2022-09-01T00:00:00+00:00&quot;, &quot;2022-09-02T00:00:00+00:00&quot;]</td><td style=\"text-align: center;\">                              &quot;Bordeaux&quot;                               </td><td style=\"text-align: center;\">{&quot;prp&quot;: &quot;PM2&quot;, &quot;unit&quot;: &quot;kg/m3&quot;}</td><td style=\"text-align: center;\">example0</td><td style=\"text-align: center;\">   13   </td></tr>\\n<tr><td style=\"text-align: center;\">[&quot;2022-09-03T00:00:00+00:00&quot;, &quot;2022-09-04T00:00:00+00:00&quot;]</td><td style=\"text-align: center;\">                              &quot;Bordeaux&quot;                               </td><td style=\"text-align: center;\">{&quot;prp&quot;: &quot;PM1&quot;, &quot;unit&quot;: &quot;kg/m3&quot;}</td><td style=\"text-align: center;\">example2</td><td style=\"text-align: center;\">   14   </td></tr>\\n</tbody>\\n</table>'"
      ]
     },
     "execution_count": 35,
     "metadata": {},
     "output_type": "execute_result"
    }
   ],
   "source": [
    "obs1 = Obs.obj({\"type\": \"observation\", \"data\": [[\"datation\", [[\"2022-09-01T00:00:00+00:00\", \"2022-09-02T00:00:00+00:00\"], [\"2022-09-02T00:00:00+00:00\", \"2022-09-03T00:00:00+00:00\"], [\"2022-09-03T00:00:00+00:00\", \"2022-09-04T00:00:00+00:00\"]], [0,1,2,1,2,0,2]], [\"location\", [[[[2.1, 45.1], [2.11, 45.1], [2.11, 45.11], [2.1, 45.11], [2.1, 45.1]]], 'Paris', 'Nantes', 'Bordeaux'], [0, 1,1,2,2,3,3]], [\"property\", [{\"prp\": \"PM1\", \"unit\": \"kg/m3\"}, {\"prp\": \"PM2\", \"unit\": \"kg/m3\"}], [0,1,0,1,0,1,0]], [\"string\", [\"example0\", \"example1\", \"example2\"], 0], [\"result\", [13, 12, 11, 15, 12, 13, 14], -1]]})\n",
    "print('\\n')\n",
    "print('\\n')\n",
    "print('\\n')\n",
    "print('\\n')\n",
    "pprint(json.loads(obs1.json(encoded=True)))\n",
    "print('\\n')\n",
    "obs1.view(tablefmt='html', numalign='center', stralign='center')"
   ]
  }
 ],
 "metadata": {
  "kernelspec": {
   "display_name": "Python 3 (ipykernel)",
   "language": "python",
   "name": "python3"
  },
  "language_info": {
   "codemirror_mode": {
    "name": "ipython",
    "version": 3
   },
   "file_extension": ".py",
   "mimetype": "text/x-python",
   "name": "python",
   "nbconvert_exporter": "python",
   "pygments_lexer": "ipython3",
   "version": "3.9.13"
  }
 },
 "nbformat": 4,
 "nbformat_minor": 5
}
