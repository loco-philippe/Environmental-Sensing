{
 "cells": [
  {
   "cell_type": "markdown",
   "id": "8358c9cf",
   "metadata": {},
   "source": [
    "# ObsJSON : Examples\n",
    "\n",
    "## Goals\n",
    "\n",
    "- understand the structure of json data\n",
    "- show the diversity of data structures\n",
    "\n",
    "-----"
   ]
  },
  {
   "cell_type": "code",
   "execution_count": 1,
   "id": "32d0527b",
   "metadata": {},
   "outputs": [],
   "source": [
    "# This cell is only to prepare the example\n",
    "import os\n",
    "import json\n",
    "from observation import Observation as Obs\n",
    "#os.chdir('../python/ES')\n",
    "#from esobservation import Obs\n",
    "from datetime import datetime\n",
    "from pprint import pprint\n",
    "#examples = '../../documentation/json_examples.obs'\n",
    "examples = 'json_examples.obs'\n",
    "with open(examples, 'w', newline='') as file: file.write('examples of ObsJSON :\\n\\n')\n"
   ]
  },
  {
   "cell_type": "code",
   "execution_count": 2,
   "id": "d75b60b0",
   "metadata": {},
   "outputs": [],
   "source": [
    "# Creation of test set\n",
    "def polygon(i, j): return [[[i, j], [round(i+0.01, 2), j], [round(i+0.01, 2), round(j+0.01, 2)], [i, round(j+0.01, 2)]]]\n",
    "def dat(n): return ['datation', [datetime(2022,9,i).isoformat() for i in range(1, n+1)]]\n",
    "def slt(n): return ['datation',[[datetime(2022,9,i).isoformat(),datetime(2022,9,i+1).isoformat()] for i in range(1, n+1)]]\n",
    "def loc(n): return ['location', [[round(2.1 + i/10, 2), round(45.1 + i / 10, 2)] for i in range(n)]]\n",
    "def pol(n): return ['location', [polygon(round(2.1 + i/10, 2), round(45.1 + i / 10, 2)) for i in range(n)]]\n",
    "def prp(n): return ['property', [{'prp': 'PM' + str(i), 'unit': 'kg/m3'} for i in range(1, n+1)]]\n",
    "def res(n): return ['result', [i for i in range(n)], -1]\n",
    "def stg(n): return ['string', ['example' + str(i)  for i in range(n)]]\n",
    "def dic(n): return ['dict', [{'example': 'value'+ str(i)}  for i in range(n)]]\n",
    "def lis(n): return ['list', [list(range(i+1))  for i in range(1, n+1)]]\n",
    "def mix(n): return ['mixte', [[stg, dic, lis][i%3](n)[1][i-1] for i in range(1, n+1)]]\n",
    "def s(f, n): return f(n)[1]\n",
    "def p(f, n, p): return [f(n)[0], f(n)[1], p]\n",
    "def pobs(listobs, info=False): \n",
    "    data = Obs.obj({'data':listobs}).setcanonorder().json(encoded=True, json_info=info) + '\\n'\n",
    "    print(data) \n",
    "    with open(examples, 'a', newline='') as file: file.write(data)\n",
    "    return data\n",
    "def ppobs(listobs, param=None, name=None, info=False): \n",
    "    data = Obs.obj({'name':name, 'data':listobs, 'param':param}).setcanonorder().sort().json(encoded=True, json_info=info)\n",
    "    pprint(json.loads(data))\n",
    "    print('\\n')\n",
    "    with open(examples, 'a', newline='') as file: file.write(data + '\\n')\n",
    "    return data\n",
    "def view(listobs): return Obs.obj({'data':listobs}).view(tablefmt='html', numalign='center', stralign='center')"
   ]
  },
  {
   "cell_type": "markdown",
   "id": "63c2d7a4",
   "metadata": {},
   "source": [
    "## 1 - Simple Examples"
   ]
  },
  {
   "cell_type": "code",
   "execution_count": 3,
   "id": "d362d2cb",
   "metadata": {},
   "outputs": [
    {
     "name": "stdout",
     "output_type": "stream",
     "text": [
      "{\"type\": \"obs\", \"data\": []}\n",
      "\n",
      "{\"type\": \"obs\", \"data\": [\"2022-09-01T00:00:00+00:00\"]}\n",
      "\n",
      "{\"type\": \"obs\", \"data\": [[[2.1, 45.1]]]}\n",
      "\n",
      "{\"type\": \"obs\", \"data\": [[[0, 1]]]}\n",
      "\n",
      "{\"type\": \"obs\", \"data\": [{\"example\": \"value0\"}]}\n",
      "\n",
      "{\"type\": \"obs\", \"data\": [\"example0\"]}\n",
      "\n",
      "{\"type\": \"obs\", \"data\": [0]}\n",
      "\n",
      "{'data': ['2022-09-01T00:00:00+00:00'],\n",
      " 'name': 'example',\n",
      " 'param': {'test': 'simple value'},\n",
      " 'type': 'obs'}\n",
      "\n",
      "\n"
     ]
    },
    {
     "data": {
      "text/plain": [
       "'{\"type\": \"obs\", \"name\": \"example\", \"param\": {\"test\": \"simple value\"}, \"data\": [\"2022-09-01T00:00:00+00:00\"]}'"
      ]
     },
     "execution_count": 3,
     "metadata": {},
     "output_type": "execute_result"
    }
   ],
   "source": [
    "pobs([])        \n",
    "pobs([s(dat,1)])\n",
    "pobs([s(loc,1)])\n",
    "pobs([s(lis,1)])\n",
    "pobs([s(dic,1)])\n",
    "pobs([s(stg,1)])\n",
    "pobs([s(res,1)])\n",
    "ppobs([s(dat,1)], {'test':'simple value'}, 'example')"
   ]
  },
  {
   "cell_type": "markdown",
   "id": "3ad1fcb0",
   "metadata": {},
   "source": [
    "### With name"
   ]
  },
  {
   "cell_type": "code",
   "execution_count": 4,
   "id": "357e6838",
   "metadata": {},
   "outputs": [
    {
     "name": "stdout",
     "output_type": "stream",
     "text": [
      "{\"type\": \"obs\", \"data\": [[\"datation\", [\"2022-09-01T00:00:00+00:00\"]]]}\n",
      "\n",
      "{\"type\": \"obs\", \"data\": [[\"location\", [[2.1, 45.1]]]]}\n",
      "\n",
      "{\"type\": \"obs\", \"data\": [[\"list\", [[0, 1]]]]}\n",
      "\n",
      "{\"type\": \"obs\", \"data\": [[\"dict\", [{\"example\": \"value0\"}]]]}\n",
      "\n",
      "{\"type\": \"obs\", \"data\": [[\"result\", [0]]]}\n",
      "\n"
     ]
    },
    {
     "data": {
      "text/plain": [
       "'{\"type\": \"obs\", \"data\": [[\"result\", [0]]]}\\n'"
      ]
     },
     "execution_count": 4,
     "metadata": {},
     "output_type": "execute_result"
    }
   ],
   "source": [
    "pobs([dat(1)])\n",
    "pobs([loc(1)])\n",
    "pobs([lis(1)])\n",
    "pobs([dic(1)])\n",
    "pobs([res(1)])"
   ]
  },
  {
   "cell_type": "markdown",
   "id": "a2ca2b0a",
   "metadata": {},
   "source": [
    "## 2 - Examples with multiple indexes"
   ]
  },
  {
   "cell_type": "code",
   "execution_count": 5,
   "id": "bd96b6dc",
   "metadata": {},
   "outputs": [
    {
     "name": "stdout",
     "output_type": "stream",
     "text": [
      "{\"type\": \"obs\", \"data\": [[\"datation\", [\"2022-09-01T00:00:00+00:00\"]], [\"location\", [[2.1, 45.1]]]]}\n",
      "\n",
      "{\"type\": \"obs\", \"data\": [[\"datation\", [\"2022-09-01T00:00:00+00:00\"]], [\"location\", [[2.1, 45.1]]], [\"property\", [{\"prp\": \"PM1\", \"unit\": \"kg/m3\"}]], [\"string\", [\"example0\"]], [\"result\", [0], -1]]}\n",
      "\n"
     ]
    },
    {
     "data": {
      "text/plain": [
       "'{\"type\": \"obs\", \"data\": [[\"datation\", [\"2022-09-01T00:00:00+00:00\"]], [\"location\", [[2.1, 45.1]]], [\"property\", [{\"prp\": \"PM1\", \"unit\": \"kg/m3\"}]], [\"string\", [\"example0\"]], [\"result\", [0], -1]]}\\n'"
      ]
     },
     "execution_count": 5,
     "metadata": {},
     "output_type": "execute_result"
    }
   ],
   "source": [
    "pobs([dat(1), loc(1)])\n",
    "pobs([dat(1), loc(1), prp(1), stg(1), res(1)])"
   ]
  },
  {
   "cell_type": "markdown",
   "id": "dde056d9",
   "metadata": {},
   "source": [
    "### Multiple indexes (one dimension)"
   ]
  },
  {
   "cell_type": "code",
   "execution_count": 6,
   "id": "c0069cdd",
   "metadata": {},
   "outputs": [
    {
     "name": "stdout",
     "output_type": "stream",
     "text": [
      "{\"type\": \"obs\", \"data\": [[\"datation\", [\"2022-09-01T00:00:00+00:00\", \"2022-09-02T00:00:00+00:00\"]], [\"location\", [[2.1, 45.1], [2.2, 45.2]]]]}\n",
      "\n",
      "{'data': [['datation',\n",
      "           ['2022-09-01T00:00:00+00:00',\n",
      "            '2022-09-02T00:00:00+00:00',\n",
      "            '2022-09-03T00:00:00+00:00']],\n",
      "          ['location', [[2.1, 45.1], [2.2, 45.2], [2.3, 45.3]]],\n",
      "          ['property',\n",
      "           [{'prp': 'PM1', 'unit': 'kg/m3'},\n",
      "            {'prp': 'PM2', 'unit': 'kg/m3'},\n",
      "            {'prp': 'PM3', 'unit': 'kg/m3'}]],\n",
      "          ['string', ['example0', 'example1', 'example2']],\n",
      "          ['result', [0, 1, 2], -1]],\n",
      " 'type': 'obs'}\n",
      "\n",
      "\n",
      "{'data': [['datation',\n",
      "           [['2022-09-01T00:00:00+00:00', '2022-09-02T00:00:00+00:00'],\n",
      "            ['2022-09-02T00:00:00+00:00', '2022-09-03T00:00:00+00:00'],\n",
      "            ['2022-09-03T00:00:00+00:00', '2022-09-04T00:00:00+00:00']]],\n",
      "          ['location',\n",
      "           [[[[2.1, 45.1],\n",
      "              [2.11, 45.1],\n",
      "              [2.11, 45.11],\n",
      "              [2.1, 45.11],\n",
      "              [2.1, 45.1]]],\n",
      "            [[[2.2, 45.2],\n",
      "              [2.21, 45.2],\n",
      "              [2.21, 45.21],\n",
      "              [2.2, 45.21],\n",
      "              [2.2, 45.2]]],\n",
      "            [[[2.3, 45.3],\n",
      "              [2.31, 45.3],\n",
      "              [2.31, 45.31],\n",
      "              [2.3, 45.31],\n",
      "              [2.3, 45.3]]]]],\n",
      "          ['property',\n",
      "           [{'prp': 'PM1', 'unit': 'kg/m3'},\n",
      "            {'prp': 'PM2', 'unit': 'kg/m3'},\n",
      "            {'prp': 'PM3', 'unit': 'kg/m3'}]],\n",
      "          ['string', ['example0', 'example1', 'example2']],\n",
      "          ['result', [0, 1, 2], -1]],\n",
      " 'type': 'obs'}\n",
      "\n",
      "\n"
     ]
    },
    {
     "data": {
      "text/html": [
       "<table>\n",
       "<thead>\n",
       "<tr><th style=\"text-align: center;\"> result </th><th style=\"text-align: center;\">         datation          </th><th style=\"text-align: center;\"> location  </th><th style=\"text-align: center;\">           property            </th><th style=\"text-align: center;\"> string </th></tr>\n",
       "</thead>\n",
       "<tbody>\n",
       "<tr><td style=\"text-align: center;\">   0    </td><td style=\"text-align: center;\">&quot;2022-09-01T00:00:00+00:00&quot;</td><td style=\"text-align: center;\">[2.1, 45.1]</td><td style=\"text-align: center;\">{&quot;prp&quot;: &quot;PM1&quot;, &quot;unit&quot;: &quot;kg/m3&quot;}</td><td style=\"text-align: center;\">example0</td></tr>\n",
       "<tr><td style=\"text-align: center;\">   1    </td><td style=\"text-align: center;\">&quot;2022-09-02T00:00:00+00:00&quot;</td><td style=\"text-align: center;\">[2.2, 45.2]</td><td style=\"text-align: center;\">{&quot;prp&quot;: &quot;PM2&quot;, &quot;unit&quot;: &quot;kg/m3&quot;}</td><td style=\"text-align: center;\">example1</td></tr>\n",
       "<tr><td style=\"text-align: center;\">   2    </td><td style=\"text-align: center;\">&quot;2022-09-03T00:00:00+00:00&quot;</td><td style=\"text-align: center;\">[2.3, 45.3]</td><td style=\"text-align: center;\">{&quot;prp&quot;: &quot;PM3&quot;, &quot;unit&quot;: &quot;kg/m3&quot;}</td><td style=\"text-align: center;\">example2</td></tr>\n",
       "</tbody>\n",
       "</table>"
      ],
      "text/plain": [
       "'<table>\\n<thead>\\n<tr><th style=\"text-align: center;\"> result </th><th style=\"text-align: center;\">         datation          </th><th style=\"text-align: center;\"> location  </th><th style=\"text-align: center;\">           property            </th><th style=\"text-align: center;\"> string </th></tr>\\n</thead>\\n<tbody>\\n<tr><td style=\"text-align: center;\">   0    </td><td style=\"text-align: center;\">&quot;2022-09-01T00:00:00+00:00&quot;</td><td style=\"text-align: center;\">[2.1, 45.1]</td><td style=\"text-align: center;\">{&quot;prp&quot;: &quot;PM1&quot;, &quot;unit&quot;: &quot;kg/m3&quot;}</td><td style=\"text-align: center;\">example0</td></tr>\\n<tr><td style=\"text-align: center;\">   1    </td><td style=\"text-align: center;\">&quot;2022-09-02T00:00:00+00:00&quot;</td><td style=\"text-align: center;\">[2.2, 45.2]</td><td style=\"text-align: center;\">{&quot;prp&quot;: &quot;PM2&quot;, &quot;unit&quot;: &quot;kg/m3&quot;}</td><td style=\"text-align: center;\">example1</td></tr>\\n<tr><td style=\"text-align: center;\">   2    </td><td style=\"text-align: center;\">&quot;2022-09-03T00:00:00+00:00&quot;</td><td style=\"text-align: center;\">[2.3, 45.3]</td><td style=\"text-align: center;\">{&quot;prp&quot;: &quot;PM3&quot;, &quot;unit&quot;: &quot;kg/m3&quot;}</td><td style=\"text-align: center;\">example2</td></tr>\\n</tbody>\\n</table>'"
      ]
     },
     "execution_count": 6,
     "metadata": {},
     "output_type": "execute_result"
    }
   ],
   "source": [
    "pobs([dat(2), loc(2)])\n",
    "ppobs([res(3), dat(3), loc(3), prp(3), stg(3)])\n",
    "ppobs([res(3), slt(3), pol(3), prp(3), stg(3)])\n",
    "view([res(3), dat(3), loc(3), prp(3), stg(3)])"
   ]
  },
  {
   "cell_type": "markdown",
   "id": "18b92028",
   "metadata": {},
   "source": [
    "### Multiple indexes (two dimensions )"
   ]
  },
  {
   "cell_type": "code",
   "execution_count": 7,
   "id": "18d0388e",
   "metadata": {},
   "outputs": [
    {
     "name": "stdout",
     "output_type": "stream",
     "text": [
      "{'data': [['datation',\n",
      "           ['2022-09-01T00:00:00+00:00',\n",
      "            '2022-09-02T00:00:00+00:00',\n",
      "            '2022-09-03T00:00:00+00:00']],\n",
      "          ['property',\n",
      "           [{'prp': 'PM1', 'unit': 'kg/m3'}, {'prp': 'PM2', 'unit': 'kg/m3'}]],\n",
      "          ['location', [[2.1, 45.1], [2.2, 45.2], [2.3, 45.3]], 0],\n",
      "          ['string', ['example0', 'example1', 'example2'], 0],\n",
      "          ['result', [0, 1, 2, 3, 4, 5], -1]],\n",
      " 'type': 'obs'}\n",
      "\n",
      "\n"
     ]
    },
    {
     "data": {
      "text/html": [
       "<table>\n",
       "<thead>\n",
       "<tr><th style=\"text-align: center;\">         datation          </th><th style=\"text-align: center;\"> location  </th><th style=\"text-align: center;\">           property            </th><th style=\"text-align: center;\"> string </th><th style=\"text-align: center;\"> result </th></tr>\n",
       "</thead>\n",
       "<tbody>\n",
       "<tr><td style=\"text-align: center;\">&quot;2022-09-01T00:00:00+00:00&quot;</td><td style=\"text-align: center;\">[2.1, 45.1]</td><td style=\"text-align: center;\">{&quot;prp&quot;: &quot;PM1&quot;, &quot;unit&quot;: &quot;kg/m3&quot;}</td><td style=\"text-align: center;\">example0</td><td style=\"text-align: center;\">   0    </td></tr>\n",
       "<tr><td style=\"text-align: center;\">&quot;2022-09-01T00:00:00+00:00&quot;</td><td style=\"text-align: center;\">[2.1, 45.1]</td><td style=\"text-align: center;\">{&quot;prp&quot;: &quot;PM2&quot;, &quot;unit&quot;: &quot;kg/m3&quot;}</td><td style=\"text-align: center;\">example0</td><td style=\"text-align: center;\">   1    </td></tr>\n",
       "<tr><td style=\"text-align: center;\">&quot;2022-09-02T00:00:00+00:00&quot;</td><td style=\"text-align: center;\">[2.2, 45.2]</td><td style=\"text-align: center;\">{&quot;prp&quot;: &quot;PM1&quot;, &quot;unit&quot;: &quot;kg/m3&quot;}</td><td style=\"text-align: center;\">example1</td><td style=\"text-align: center;\">   2    </td></tr>\n",
       "<tr><td style=\"text-align: center;\">&quot;2022-09-02T00:00:00+00:00&quot;</td><td style=\"text-align: center;\">[2.2, 45.2]</td><td style=\"text-align: center;\">{&quot;prp&quot;: &quot;PM2&quot;, &quot;unit&quot;: &quot;kg/m3&quot;}</td><td style=\"text-align: center;\">example1</td><td style=\"text-align: center;\">   3    </td></tr>\n",
       "<tr><td style=\"text-align: center;\">&quot;2022-09-03T00:00:00+00:00&quot;</td><td style=\"text-align: center;\">[2.3, 45.3]</td><td style=\"text-align: center;\">{&quot;prp&quot;: &quot;PM1&quot;, &quot;unit&quot;: &quot;kg/m3&quot;}</td><td style=\"text-align: center;\">example2</td><td style=\"text-align: center;\">   4    </td></tr>\n",
       "<tr><td style=\"text-align: center;\">&quot;2022-09-03T00:00:00+00:00&quot;</td><td style=\"text-align: center;\">[2.3, 45.3]</td><td style=\"text-align: center;\">{&quot;prp&quot;: &quot;PM2&quot;, &quot;unit&quot;: &quot;kg/m3&quot;}</td><td style=\"text-align: center;\">example2</td><td style=\"text-align: center;\">   5    </td></tr>\n",
       "</tbody>\n",
       "</table>"
      ],
      "text/plain": [
       "'<table>\\n<thead>\\n<tr><th style=\"text-align: center;\">         datation          </th><th style=\"text-align: center;\"> location  </th><th style=\"text-align: center;\">           property            </th><th style=\"text-align: center;\"> string </th><th style=\"text-align: center;\"> result </th></tr>\\n</thead>\\n<tbody>\\n<tr><td style=\"text-align: center;\">&quot;2022-09-01T00:00:00+00:00&quot;</td><td style=\"text-align: center;\">[2.1, 45.1]</td><td style=\"text-align: center;\">{&quot;prp&quot;: &quot;PM1&quot;, &quot;unit&quot;: &quot;kg/m3&quot;}</td><td style=\"text-align: center;\">example0</td><td style=\"text-align: center;\">   0    </td></tr>\\n<tr><td style=\"text-align: center;\">&quot;2022-09-01T00:00:00+00:00&quot;</td><td style=\"text-align: center;\">[2.1, 45.1]</td><td style=\"text-align: center;\">{&quot;prp&quot;: &quot;PM2&quot;, &quot;unit&quot;: &quot;kg/m3&quot;}</td><td style=\"text-align: center;\">example0</td><td style=\"text-align: center;\">   1    </td></tr>\\n<tr><td style=\"text-align: center;\">&quot;2022-09-02T00:00:00+00:00&quot;</td><td style=\"text-align: center;\">[2.2, 45.2]</td><td style=\"text-align: center;\">{&quot;prp&quot;: &quot;PM1&quot;, &quot;unit&quot;: &quot;kg/m3&quot;}</td><td style=\"text-align: center;\">example1</td><td style=\"text-align: center;\">   2    </td></tr>\\n<tr><td style=\"text-align: center;\">&quot;2022-09-02T00:00:00+00:00&quot;</td><td style=\"text-align: center;\">[2.2, 45.2]</td><td style=\"text-align: center;\">{&quot;prp&quot;: &quot;PM2&quot;, &quot;unit&quot;: &quot;kg/m3&quot;}</td><td style=\"text-align: center;\">example1</td><td style=\"text-align: center;\">   3    </td></tr>\\n<tr><td style=\"text-align: center;\">&quot;2022-09-03T00:00:00+00:00&quot;</td><td style=\"text-align: center;\">[2.3, 45.3]</td><td style=\"text-align: center;\">{&quot;prp&quot;: &quot;PM1&quot;, &quot;unit&quot;: &quot;kg/m3&quot;}</td><td style=\"text-align: center;\">example2</td><td style=\"text-align: center;\">   4    </td></tr>\\n<tr><td style=\"text-align: center;\">&quot;2022-09-03T00:00:00+00:00&quot;</td><td style=\"text-align: center;\">[2.3, 45.3]</td><td style=\"text-align: center;\">{&quot;prp&quot;: &quot;PM2&quot;, &quot;unit&quot;: &quot;kg/m3&quot;}</td><td style=\"text-align: center;\">example2</td><td style=\"text-align: center;\">   5    </td></tr>\\n</tbody>\\n</table>'"
      ]
     },
     "execution_count": 7,
     "metadata": {},
     "output_type": "execute_result"
    }
   ],
   "source": [
    "ppobs([dat(3), p(loc,3,0), prp(2), p(stg, 3, 0), res(6)])\n",
    "view([dat(3), p(loc,3,0), prp(2), p(stg, 3, 0), res(6)])"
   ]
  },
  {
   "cell_type": "markdown",
   "id": "90474819",
   "metadata": {},
   "source": [
    "### Multiple indexes (three dimensions )"
   ]
  },
  {
   "cell_type": "code",
   "execution_count": 8,
   "id": "7e1b5ea5",
   "metadata": {
    "scrolled": false
   },
   "outputs": [
    {
     "name": "stdout",
     "output_type": "stream",
     "text": [
      "{'data': [['datation',\n",
      "           ['2022-09-01T00:00:00+00:00',\n",
      "            '2022-09-02T00:00:00+00:00',\n",
      "            '2022-09-03T00:00:00+00:00']],\n",
      "          ['location', [[2.1, 45.1], [2.2, 45.2], [2.3, 45.3]]],\n",
      "          ['property',\n",
      "           [{'prp': 'PM1', 'unit': 'kg/m3'}, {'prp': 'PM2', 'unit': 'kg/m3'}]],\n",
      "          ['string', ['example0', 'example1', 'example2'], 0],\n",
      "          ['result',\n",
      "           [0, 1, 2, 3, 4, 5, 6, 7, 8, 9, 10, 11, 12, 13, 14, 15, 16, 17],\n",
      "           -1]],\n",
      " 'type': 'obs'}\n",
      "\n",
      "\n"
     ]
    },
    {
     "data": {
      "text/html": [
       "<table>\n",
       "<thead>\n",
       "<tr><th style=\"text-align: center;\">         datation          </th><th style=\"text-align: center;\"> location  </th><th style=\"text-align: center;\">           property            </th><th style=\"text-align: center;\"> string </th><th style=\"text-align: center;\"> result </th></tr>\n",
       "</thead>\n",
       "<tbody>\n",
       "<tr><td style=\"text-align: center;\">&quot;2022-09-01T00:00:00+00:00&quot;</td><td style=\"text-align: center;\">[2.1, 45.1]</td><td style=\"text-align: center;\">{&quot;prp&quot;: &quot;PM1&quot;, &quot;unit&quot;: &quot;kg/m3&quot;}</td><td style=\"text-align: center;\">example0</td><td style=\"text-align: center;\">   0    </td></tr>\n",
       "<tr><td style=\"text-align: center;\">&quot;2022-09-01T00:00:00+00:00&quot;</td><td style=\"text-align: center;\">[2.1, 45.1]</td><td style=\"text-align: center;\">{&quot;prp&quot;: &quot;PM2&quot;, &quot;unit&quot;: &quot;kg/m3&quot;}</td><td style=\"text-align: center;\">example0</td><td style=\"text-align: center;\">   1    </td></tr>\n",
       "<tr><td style=\"text-align: center;\">&quot;2022-09-01T00:00:00+00:00&quot;</td><td style=\"text-align: center;\">[2.2, 45.2]</td><td style=\"text-align: center;\">{&quot;prp&quot;: &quot;PM1&quot;, &quot;unit&quot;: &quot;kg/m3&quot;}</td><td style=\"text-align: center;\">example0</td><td style=\"text-align: center;\">   2    </td></tr>\n",
       "<tr><td style=\"text-align: center;\">&quot;2022-09-01T00:00:00+00:00&quot;</td><td style=\"text-align: center;\">[2.2, 45.2]</td><td style=\"text-align: center;\">{&quot;prp&quot;: &quot;PM2&quot;, &quot;unit&quot;: &quot;kg/m3&quot;}</td><td style=\"text-align: center;\">example0</td><td style=\"text-align: center;\">   3    </td></tr>\n",
       "<tr><td style=\"text-align: center;\">&quot;2022-09-01T00:00:00+00:00&quot;</td><td style=\"text-align: center;\">[2.3, 45.3]</td><td style=\"text-align: center;\">{&quot;prp&quot;: &quot;PM1&quot;, &quot;unit&quot;: &quot;kg/m3&quot;}</td><td style=\"text-align: center;\">example0</td><td style=\"text-align: center;\">   4    </td></tr>\n",
       "<tr><td style=\"text-align: center;\">&quot;2022-09-01T00:00:00+00:00&quot;</td><td style=\"text-align: center;\">[2.3, 45.3]</td><td style=\"text-align: center;\">{&quot;prp&quot;: &quot;PM2&quot;, &quot;unit&quot;: &quot;kg/m3&quot;}</td><td style=\"text-align: center;\">example0</td><td style=\"text-align: center;\">   5    </td></tr>\n",
       "<tr><td style=\"text-align: center;\">&quot;2022-09-02T00:00:00+00:00&quot;</td><td style=\"text-align: center;\">[2.1, 45.1]</td><td style=\"text-align: center;\">{&quot;prp&quot;: &quot;PM1&quot;, &quot;unit&quot;: &quot;kg/m3&quot;}</td><td style=\"text-align: center;\">example1</td><td style=\"text-align: center;\">   6    </td></tr>\n",
       "<tr><td style=\"text-align: center;\">&quot;2022-09-02T00:00:00+00:00&quot;</td><td style=\"text-align: center;\">[2.1, 45.1]</td><td style=\"text-align: center;\">{&quot;prp&quot;: &quot;PM2&quot;, &quot;unit&quot;: &quot;kg/m3&quot;}</td><td style=\"text-align: center;\">example1</td><td style=\"text-align: center;\">   7    </td></tr>\n",
       "<tr><td style=\"text-align: center;\">&quot;2022-09-02T00:00:00+00:00&quot;</td><td style=\"text-align: center;\">[2.2, 45.2]</td><td style=\"text-align: center;\">{&quot;prp&quot;: &quot;PM1&quot;, &quot;unit&quot;: &quot;kg/m3&quot;}</td><td style=\"text-align: center;\">example1</td><td style=\"text-align: center;\">   8    </td></tr>\n",
       "<tr><td style=\"text-align: center;\">&quot;2022-09-02T00:00:00+00:00&quot;</td><td style=\"text-align: center;\">[2.2, 45.2]</td><td style=\"text-align: center;\">{&quot;prp&quot;: &quot;PM2&quot;, &quot;unit&quot;: &quot;kg/m3&quot;}</td><td style=\"text-align: center;\">example1</td><td style=\"text-align: center;\">   9    </td></tr>\n",
       "<tr><td style=\"text-align: center;\">&quot;2022-09-02T00:00:00+00:00&quot;</td><td style=\"text-align: center;\">[2.3, 45.3]</td><td style=\"text-align: center;\">{&quot;prp&quot;: &quot;PM1&quot;, &quot;unit&quot;: &quot;kg/m3&quot;}</td><td style=\"text-align: center;\">example1</td><td style=\"text-align: center;\">   10   </td></tr>\n",
       "<tr><td style=\"text-align: center;\">&quot;2022-09-02T00:00:00+00:00&quot;</td><td style=\"text-align: center;\">[2.3, 45.3]</td><td style=\"text-align: center;\">{&quot;prp&quot;: &quot;PM2&quot;, &quot;unit&quot;: &quot;kg/m3&quot;}</td><td style=\"text-align: center;\">example1</td><td style=\"text-align: center;\">   11   </td></tr>\n",
       "<tr><td style=\"text-align: center;\">&quot;2022-09-03T00:00:00+00:00&quot;</td><td style=\"text-align: center;\">[2.1, 45.1]</td><td style=\"text-align: center;\">{&quot;prp&quot;: &quot;PM1&quot;, &quot;unit&quot;: &quot;kg/m3&quot;}</td><td style=\"text-align: center;\">example2</td><td style=\"text-align: center;\">   12   </td></tr>\n",
       "<tr><td style=\"text-align: center;\">&quot;2022-09-03T00:00:00+00:00&quot;</td><td style=\"text-align: center;\">[2.1, 45.1]</td><td style=\"text-align: center;\">{&quot;prp&quot;: &quot;PM2&quot;, &quot;unit&quot;: &quot;kg/m3&quot;}</td><td style=\"text-align: center;\">example2</td><td style=\"text-align: center;\">   13   </td></tr>\n",
       "<tr><td style=\"text-align: center;\">&quot;2022-09-03T00:00:00+00:00&quot;</td><td style=\"text-align: center;\">[2.2, 45.2]</td><td style=\"text-align: center;\">{&quot;prp&quot;: &quot;PM1&quot;, &quot;unit&quot;: &quot;kg/m3&quot;}</td><td style=\"text-align: center;\">example2</td><td style=\"text-align: center;\">   14   </td></tr>\n",
       "<tr><td style=\"text-align: center;\">&quot;2022-09-03T00:00:00+00:00&quot;</td><td style=\"text-align: center;\">[2.2, 45.2]</td><td style=\"text-align: center;\">{&quot;prp&quot;: &quot;PM2&quot;, &quot;unit&quot;: &quot;kg/m3&quot;}</td><td style=\"text-align: center;\">example2</td><td style=\"text-align: center;\">   15   </td></tr>\n",
       "<tr><td style=\"text-align: center;\">&quot;2022-09-03T00:00:00+00:00&quot;</td><td style=\"text-align: center;\">[2.3, 45.3]</td><td style=\"text-align: center;\">{&quot;prp&quot;: &quot;PM1&quot;, &quot;unit&quot;: &quot;kg/m3&quot;}</td><td style=\"text-align: center;\">example2</td><td style=\"text-align: center;\">   16   </td></tr>\n",
       "<tr><td style=\"text-align: center;\">&quot;2022-09-03T00:00:00+00:00&quot;</td><td style=\"text-align: center;\">[2.3, 45.3]</td><td style=\"text-align: center;\">{&quot;prp&quot;: &quot;PM2&quot;, &quot;unit&quot;: &quot;kg/m3&quot;}</td><td style=\"text-align: center;\">example2</td><td style=\"text-align: center;\">   17   </td></tr>\n",
       "</tbody>\n",
       "</table>"
      ],
      "text/plain": [
       "'<table>\\n<thead>\\n<tr><th style=\"text-align: center;\">         datation          </th><th style=\"text-align: center;\"> location  </th><th style=\"text-align: center;\">           property            </th><th style=\"text-align: center;\"> string </th><th style=\"text-align: center;\"> result </th></tr>\\n</thead>\\n<tbody>\\n<tr><td style=\"text-align: center;\">&quot;2022-09-01T00:00:00+00:00&quot;</td><td style=\"text-align: center;\">[2.1, 45.1]</td><td style=\"text-align: center;\">{&quot;prp&quot;: &quot;PM1&quot;, &quot;unit&quot;: &quot;kg/m3&quot;}</td><td style=\"text-align: center;\">example0</td><td style=\"text-align: center;\">   0    </td></tr>\\n<tr><td style=\"text-align: center;\">&quot;2022-09-01T00:00:00+00:00&quot;</td><td style=\"text-align: center;\">[2.1, 45.1]</td><td style=\"text-align: center;\">{&quot;prp&quot;: &quot;PM2&quot;, &quot;unit&quot;: &quot;kg/m3&quot;}</td><td style=\"text-align: center;\">example0</td><td style=\"text-align: center;\">   1    </td></tr>\\n<tr><td style=\"text-align: center;\">&quot;2022-09-01T00:00:00+00:00&quot;</td><td style=\"text-align: center;\">[2.2, 45.2]</td><td style=\"text-align: center;\">{&quot;prp&quot;: &quot;PM1&quot;, &quot;unit&quot;: &quot;kg/m3&quot;}</td><td style=\"text-align: center;\">example0</td><td style=\"text-align: center;\">   2    </td></tr>\\n<tr><td style=\"text-align: center;\">&quot;2022-09-01T00:00:00+00:00&quot;</td><td style=\"text-align: center;\">[2.2, 45.2]</td><td style=\"text-align: center;\">{&quot;prp&quot;: &quot;PM2&quot;, &quot;unit&quot;: &quot;kg/m3&quot;}</td><td style=\"text-align: center;\">example0</td><td style=\"text-align: center;\">   3    </td></tr>\\n<tr><td style=\"text-align: center;\">&quot;2022-09-01T00:00:00+00:00&quot;</td><td style=\"text-align: center;\">[2.3, 45.3]</td><td style=\"text-align: center;\">{&quot;prp&quot;: &quot;PM1&quot;, &quot;unit&quot;: &quot;kg/m3&quot;}</td><td style=\"text-align: center;\">example0</td><td style=\"text-align: center;\">   4    </td></tr>\\n<tr><td style=\"text-align: center;\">&quot;2022-09-01T00:00:00+00:00&quot;</td><td style=\"text-align: center;\">[2.3, 45.3]</td><td style=\"text-align: center;\">{&quot;prp&quot;: &quot;PM2&quot;, &quot;unit&quot;: &quot;kg/m3&quot;}</td><td style=\"text-align: center;\">example0</td><td style=\"text-align: center;\">   5    </td></tr>\\n<tr><td style=\"text-align: center;\">&quot;2022-09-02T00:00:00+00:00&quot;</td><td style=\"text-align: center;\">[2.1, 45.1]</td><td style=\"text-align: center;\">{&quot;prp&quot;: &quot;PM1&quot;, &quot;unit&quot;: &quot;kg/m3&quot;}</td><td style=\"text-align: center;\">example1</td><td style=\"text-align: center;\">   6    </td></tr>\\n<tr><td style=\"text-align: center;\">&quot;2022-09-02T00:00:00+00:00&quot;</td><td style=\"text-align: center;\">[2.1, 45.1]</td><td style=\"text-align: center;\">{&quot;prp&quot;: &quot;PM2&quot;, &quot;unit&quot;: &quot;kg/m3&quot;}</td><td style=\"text-align: center;\">example1</td><td style=\"text-align: center;\">   7    </td></tr>\\n<tr><td style=\"text-align: center;\">&quot;2022-09-02T00:00:00+00:00&quot;</td><td style=\"text-align: center;\">[2.2, 45.2]</td><td style=\"text-align: center;\">{&quot;prp&quot;: &quot;PM1&quot;, &quot;unit&quot;: &quot;kg/m3&quot;}</td><td style=\"text-align: center;\">example1</td><td style=\"text-align: center;\">   8    </td></tr>\\n<tr><td style=\"text-align: center;\">&quot;2022-09-02T00:00:00+00:00&quot;</td><td style=\"text-align: center;\">[2.2, 45.2]</td><td style=\"text-align: center;\">{&quot;prp&quot;: &quot;PM2&quot;, &quot;unit&quot;: &quot;kg/m3&quot;}</td><td style=\"text-align: center;\">example1</td><td style=\"text-align: center;\">   9    </td></tr>\\n<tr><td style=\"text-align: center;\">&quot;2022-09-02T00:00:00+00:00&quot;</td><td style=\"text-align: center;\">[2.3, 45.3]</td><td style=\"text-align: center;\">{&quot;prp&quot;: &quot;PM1&quot;, &quot;unit&quot;: &quot;kg/m3&quot;}</td><td style=\"text-align: center;\">example1</td><td style=\"text-align: center;\">   10   </td></tr>\\n<tr><td style=\"text-align: center;\">&quot;2022-09-02T00:00:00+00:00&quot;</td><td style=\"text-align: center;\">[2.3, 45.3]</td><td style=\"text-align: center;\">{&quot;prp&quot;: &quot;PM2&quot;, &quot;unit&quot;: &quot;kg/m3&quot;}</td><td style=\"text-align: center;\">example1</td><td style=\"text-align: center;\">   11   </td></tr>\\n<tr><td style=\"text-align: center;\">&quot;2022-09-03T00:00:00+00:00&quot;</td><td style=\"text-align: center;\">[2.1, 45.1]</td><td style=\"text-align: center;\">{&quot;prp&quot;: &quot;PM1&quot;, &quot;unit&quot;: &quot;kg/m3&quot;}</td><td style=\"text-align: center;\">example2</td><td style=\"text-align: center;\">   12   </td></tr>\\n<tr><td style=\"text-align: center;\">&quot;2022-09-03T00:00:00+00:00&quot;</td><td style=\"text-align: center;\">[2.1, 45.1]</td><td style=\"text-align: center;\">{&quot;prp&quot;: &quot;PM2&quot;, &quot;unit&quot;: &quot;kg/m3&quot;}</td><td style=\"text-align: center;\">example2</td><td style=\"text-align: center;\">   13   </td></tr>\\n<tr><td style=\"text-align: center;\">&quot;2022-09-03T00:00:00+00:00&quot;</td><td style=\"text-align: center;\">[2.2, 45.2]</td><td style=\"text-align: center;\">{&quot;prp&quot;: &quot;PM1&quot;, &quot;unit&quot;: &quot;kg/m3&quot;}</td><td style=\"text-align: center;\">example2</td><td style=\"text-align: center;\">   14   </td></tr>\\n<tr><td style=\"text-align: center;\">&quot;2022-09-03T00:00:00+00:00&quot;</td><td style=\"text-align: center;\">[2.2, 45.2]</td><td style=\"text-align: center;\">{&quot;prp&quot;: &quot;PM2&quot;, &quot;unit&quot;: &quot;kg/m3&quot;}</td><td style=\"text-align: center;\">example2</td><td style=\"text-align: center;\">   15   </td></tr>\\n<tr><td style=\"text-align: center;\">&quot;2022-09-03T00:00:00+00:00&quot;</td><td style=\"text-align: center;\">[2.3, 45.3]</td><td style=\"text-align: center;\">{&quot;prp&quot;: &quot;PM1&quot;, &quot;unit&quot;: &quot;kg/m3&quot;}</td><td style=\"text-align: center;\">example2</td><td style=\"text-align: center;\">   16   </td></tr>\\n<tr><td style=\"text-align: center;\">&quot;2022-09-03T00:00:00+00:00&quot;</td><td style=\"text-align: center;\">[2.3, 45.3]</td><td style=\"text-align: center;\">{&quot;prp&quot;: &quot;PM2&quot;, &quot;unit&quot;: &quot;kg/m3&quot;}</td><td style=\"text-align: center;\">example2</td><td style=\"text-align: center;\">   17   </td></tr>\\n</tbody>\\n</table>'"
      ]
     },
     "execution_count": 8,
     "metadata": {},
     "output_type": "execute_result"
    }
   ],
   "source": [
    "ppobs([dat(3), loc(3), prp(2), p(stg, 3, 0), res(18)])\n",
    "view([dat(3), loc(3), prp(2), p(stg, 3, 0), res(18)])"
   ]
  },
  {
   "cell_type": "code",
   "execution_count": 9,
   "id": "709a1834",
   "metadata": {},
   "outputs": [
    {
     "name": "stdout",
     "output_type": "stream",
     "text": [
      "{'data': [['datation',\n",
      "           ['2022-09-01T00:00:00+00:00',\n",
      "            '2022-09-02T00:00:00+00:00',\n",
      "            '2022-09-03T00:00:00+00:00']],\n",
      "          ['location', [[2.1, 45.1], [2.2, 45.2], [2.3, 45.3]]],\n",
      "          ['property',\n",
      "           [{'prp': 'PM1', 'unit': 'kg/m3'}, {'prp': 'PM2', 'unit': 'kg/m3'}]],\n",
      "          ['string', ['example0', 'example1', 'example2'], 0],\n",
      "          ['result',\n",
      "           [0, 1, 2, 3, 4, 5, 6, 7, 8, 9, 10, 11, 12, 13, 14, 15, 16, 17],\n",
      "           -1]],\n",
      " 'information': {'index': {'datation': {'box': ['2022-09-01', '2022-09-03'],\n",
      "                                        'lencodec': 3,\n",
      "                                        'num': 0,\n",
      "                                        'typevalue': 'DatationValue'},\n",
      "                           'location': {'box': [2.1, 45.1, 2.3, 45.3],\n",
      "                                        'lencodec': 3,\n",
      "                                        'num': 1,\n",
      "                                        'typevalue': 'LocationValue'},\n",
      "                           'property': {'box': ['PM1', 'PM2'],\n",
      "                                        'lencodec': 2,\n",
      "                                        'num': 2,\n",
      "                                        'typevalue': 'PropertyValue'},\n",
      "                           'result': {'box': None,\n",
      "                                      'lencodec': 18,\n",
      "                                      'num': 4,\n",
      "                                      'typevalue': 'ESValue'},\n",
      "                           'string': {'box': None,\n",
      "                                      'lencodec': 3,\n",
      "                                      'num': 3,\n",
      "                                      'typevalue': None}},\n",
      "                 'observation': {'complete': True,\n",
      "                                 'dimension': 3,\n",
      "                                 'length': 18,\n",
      "                                 'lenindex': 5,\n",
      "                                 'name': 'example4'}},\n",
      " 'name': 'example4',\n",
      " 'param': {'dimension': 3},\n",
      " 'type': 'obs'}\n",
      "\n",
      "\n"
     ]
    },
    {
     "data": {
      "text/plain": [
       "'{\"type\": \"obs\", \"name\": \"example4\", \"param\": {\"dimension\": 3}, \"data\": [[\"datation\", [\"2022-09-01T00:00:00+00:00\", \"2022-09-02T00:00:00+00:00\", \"2022-09-03T00:00:00+00:00\"]], [\"location\", [[2.1, 45.1], [2.2, 45.2], [2.3, 45.3]]], [\"property\", [{\"prp\": \"PM1\", \"unit\": \"kg/m3\"}, {\"prp\": \"PM2\", \"unit\": \"kg/m3\"}]], [\"string\", [\"example0\", \"example1\", \"example2\"], 0], [\"result\", [0, 1, 2, 3, 4, 5, 6, 7, 8, 9, 10, 11, 12, 13, 14, 15, 16, 17], -1]], \"information\": {\"observation\": {\"name\": \"example4\", \"length\": 18, \"lenindex\": 5, \"complete\": true, \"dimension\": 3}, \"index\": {\"datation\": {\"num\": 0, \"typevalue\": \"DatationValue\", \"lencodec\": 3, \"box\": [\"2022-09-01\", \"2022-09-03\"]}, \"location\": {\"num\": 1, \"typevalue\": \"LocationValue\", \"lencodec\": 3, \"box\": [2.1, 45.1, 2.3, 45.3]}, \"property\": {\"num\": 2, \"typevalue\": \"PropertyValue\", \"lencodec\": 2, \"box\": [\"PM1\", \"PM2\"]}, \"string\": {\"num\": 3, \"typevalue\": null, \"lencodec\": 3, \"box\": null}, \"result\": {\"num\": 4, \"typevalue\": \"ESValue\", \"lencodec\": 18, \"box\": null}}}}'"
      ]
     },
     "execution_count": 9,
     "metadata": {},
     "output_type": "execute_result"
    }
   ],
   "source": [
    "ppobs([dat(3), loc(3), prp(2), p(stg, 3, 0), res(18)], param={'dimension': 3}, name='example4', info=True)"
   ]
  },
  {
   "cell_type": "markdown",
   "id": "1675c891",
   "metadata": {},
   "source": [
    "### multiple indexes without matrix"
   ]
  },
  {
   "cell_type": "code",
   "execution_count": 10,
   "id": "6120b74d",
   "metadata": {
    "scrolled": false
   },
   "outputs": [
    {
     "name": "stdout",
     "output_type": "stream",
     "text": [
      "{'data': [['datation',\n",
      "           ['2021-05-04T12:05:00+00:00',\n",
      "            '2021-07-04T12:05:00+00:00',\n",
      "            {'date1': '2021-02-04T12:05:00+00:00'}],\n",
      "           [0, 0, 1, 1, 2, 2]],\n",
      "          ['location',\n",
      "           [[4.83, 45.76], [5.38, 43.3], {'paris': [2.35, 48.87]}],\n",
      "           [0, 1, 0, 1, 2, 2]],\n",
      "          ['property',\n",
      "           [{'prp': 'PM10', 'unit': 'kg/m3'}, {'prp': 'PM25', 'unit': 'kg/m3'}],\n",
      "           [1, 0, 0, 1, 0, 1]],\n",
      "          ['locinfos', ['middle', 'end', 'begin'], 1],\n",
      "          ['result', [4, 5, 3, 2, 1, 0], -1]],\n",
      " 'name': 'test1',\n",
      " 'type': 'obs'}\n",
      "\n",
      "\n"
     ]
    },
    {
     "data": {
      "text/html": [
       "<table>\n",
       "<thead>\n",
       "<tr><th style=\"text-align: center;\">               datation               </th><th style=\"text-align: center;\">        location        </th><th style=\"text-align: center;\">            property            </th><th style=\"text-align: center;\"> locinfos </th><th style=\"text-align: center;\"> result </th></tr>\n",
       "</thead>\n",
       "<tbody>\n",
       "<tr><td style=\"text-align: center;\">     &quot;2021-05-04T12:05:00+00:00&quot;      </td><td style=\"text-align: center;\">     [4.83, 45.76]      </td><td style=\"text-align: center;\">{&quot;prp&quot;: &quot;PM25&quot;, &quot;unit&quot;: &quot;kg/m3&quot;}</td><td style=\"text-align: center;\">  middle  </td><td style=\"text-align: center;\">   4    </td></tr>\n",
       "<tr><td style=\"text-align: center;\">     &quot;2021-05-04T12:05:00+00:00&quot;      </td><td style=\"text-align: center;\">      [5.38, 43.3]      </td><td style=\"text-align: center;\">{&quot;prp&quot;: &quot;PM10&quot;, &quot;unit&quot;: &quot;kg/m3&quot;}</td><td style=\"text-align: center;\">   end    </td><td style=\"text-align: center;\">   5    </td></tr>\n",
       "<tr><td style=\"text-align: center;\">     &quot;2021-07-04T12:05:00+00:00&quot;      </td><td style=\"text-align: center;\">     [4.83, 45.76]      </td><td style=\"text-align: center;\">{&quot;prp&quot;: &quot;PM10&quot;, &quot;unit&quot;: &quot;kg/m3&quot;}</td><td style=\"text-align: center;\">  middle  </td><td style=\"text-align: center;\">   3    </td></tr>\n",
       "<tr><td style=\"text-align: center;\">     &quot;2021-07-04T12:05:00+00:00&quot;      </td><td style=\"text-align: center;\">      [5.38, 43.3]      </td><td style=\"text-align: center;\">{&quot;prp&quot;: &quot;PM25&quot;, &quot;unit&quot;: &quot;kg/m3&quot;}</td><td style=\"text-align: center;\">   end    </td><td style=\"text-align: center;\">   2    </td></tr>\n",
       "<tr><td style=\"text-align: center;\">{&quot;date1&quot;: &quot;2021-02-04T12:05:00+00:00&quot;}</td><td style=\"text-align: center;\">{&quot;paris&quot;: [2.35, 48.87]}</td><td style=\"text-align: center;\">{&quot;prp&quot;: &quot;PM10&quot;, &quot;unit&quot;: &quot;kg/m3&quot;}</td><td style=\"text-align: center;\">  begin   </td><td style=\"text-align: center;\">   1    </td></tr>\n",
       "<tr><td style=\"text-align: center;\">{&quot;date1&quot;: &quot;2021-02-04T12:05:00+00:00&quot;}</td><td style=\"text-align: center;\">{&quot;paris&quot;: [2.35, 48.87]}</td><td style=\"text-align: center;\">{&quot;prp&quot;: &quot;PM25&quot;, &quot;unit&quot;: &quot;kg/m3&quot;}</td><td style=\"text-align: center;\">  begin   </td><td style=\"text-align: center;\">   0    </td></tr>\n",
       "</tbody>\n",
       "</table>"
      ],
      "text/plain": [
       "'<table>\\n<thead>\\n<tr><th style=\"text-align: center;\">               datation               </th><th style=\"text-align: center;\">        location        </th><th style=\"text-align: center;\">            property            </th><th style=\"text-align: center;\"> locinfos </th><th style=\"text-align: center;\"> result </th></tr>\\n</thead>\\n<tbody>\\n<tr><td style=\"text-align: center;\">     &quot;2021-05-04T12:05:00+00:00&quot;      </td><td style=\"text-align: center;\">     [4.83, 45.76]      </td><td style=\"text-align: center;\">{&quot;prp&quot;: &quot;PM25&quot;, &quot;unit&quot;: &quot;kg/m3&quot;}</td><td style=\"text-align: center;\">  middle  </td><td style=\"text-align: center;\">   4    </td></tr>\\n<tr><td style=\"text-align: center;\">     &quot;2021-05-04T12:05:00+00:00&quot;      </td><td style=\"text-align: center;\">      [5.38, 43.3]      </td><td style=\"text-align: center;\">{&quot;prp&quot;: &quot;PM10&quot;, &quot;unit&quot;: &quot;kg/m3&quot;}</td><td style=\"text-align: center;\">   end    </td><td style=\"text-align: center;\">   5    </td></tr>\\n<tr><td style=\"text-align: center;\">     &quot;2021-07-04T12:05:00+00:00&quot;      </td><td style=\"text-align: center;\">     [4.83, 45.76]      </td><td style=\"text-align: center;\">{&quot;prp&quot;: &quot;PM10&quot;, &quot;unit&quot;: &quot;kg/m3&quot;}</td><td style=\"text-align: center;\">  middle  </td><td style=\"text-align: center;\">   3    </td></tr>\\n<tr><td style=\"text-align: center;\">     &quot;2021-07-04T12:05:00+00:00&quot;      </td><td style=\"text-align: center;\">      [5.38, 43.3]      </td><td style=\"text-align: center;\">{&quot;prp&quot;: &quot;PM25&quot;, &quot;unit&quot;: &quot;kg/m3&quot;}</td><td style=\"text-align: center;\">   end    </td><td style=\"text-align: center;\">   2    </td></tr>\\n<tr><td style=\"text-align: center;\">{&quot;date1&quot;: &quot;2021-02-04T12:05:00+00:00&quot;}</td><td style=\"text-align: center;\">{&quot;paris&quot;: [2.35, 48.87]}</td><td style=\"text-align: center;\">{&quot;prp&quot;: &quot;PM10&quot;, &quot;unit&quot;: &quot;kg/m3&quot;}</td><td style=\"text-align: center;\">  begin   </td><td style=\"text-align: center;\">   1    </td></tr>\\n<tr><td style=\"text-align: center;\">{&quot;date1&quot;: &quot;2021-02-04T12:05:00+00:00&quot;}</td><td style=\"text-align: center;\">{&quot;paris&quot;: [2.35, 48.87]}</td><td style=\"text-align: center;\">{&quot;prp&quot;: &quot;PM25&quot;, &quot;unit&quot;: &quot;kg/m3&quot;}</td><td style=\"text-align: center;\">  begin   </td><td style=\"text-align: center;\">   0    </td></tr>\\n</tbody>\\n</table>'"
      ]
     },
     "execution_count": 10,
     "metadata": {},
     "output_type": "execute_result"
    }
   ],
   "source": [
    "ob=Obs.dic({\"datation\": [[{\"date1\": \"2021-02-04T12:05:00\"},\"2021-07-04T12:05:00\", \"2021-05-04T12:05:00\"], [0,0,1,1,2,2]],\n",
    "             \"location\": [[{\"paris\": [2.35, 48.87]}, [4.83, 45.76], [5.38, 43.3]], [0,0,2,1,1,2]],\n",
    "             \"property\": [[{\"prp\": \"PM25\", \"unit\": \"kg/m3\"}, {\"prp\": \"PM10\", \"unit\": \"kg/m3\"}], [0,1,0,1,0,1]],\n",
    "             \"locinfos\": [[\"begin\", \"middle\", \"end\"], 1],\n",
    "             \"result\": [[0,1,2,3,4,5], -1]}, name='test1').setcanonorder().sort()\n",
    "pprint(json.loads(ob.json(encoded=True)))\n",
    "print('\\n')\n",
    "ob.view(tablefmt='html', numalign='center', stralign='center')\n"
   ]
  },
  {
   "cell_type": "markdown",
   "id": "9cc6f150",
   "metadata": {},
   "source": [
    "### with infos"
   ]
  },
  {
   "cell_type": "code",
   "execution_count": 11,
   "id": "71d8df3b",
   "metadata": {
    "scrolled": false
   },
   "outputs": [
    {
     "name": "stdout",
     "output_type": "stream",
     "text": [
      "{'data': [['datation',\n",
      "           ['2021-05-04T12:05:00+00:00',\n",
      "            '2021-07-04T12:05:00+00:00',\n",
      "            {'date1': '2021-02-04T12:05:00+00:00'}],\n",
      "           [0, 0, 1, 1, 2, 2]],\n",
      "          ['location',\n",
      "           [[4.83, 45.76], [5.38, 43.3], {'paris': [2.35, 48.87]}],\n",
      "           [0, 1, 0, 1, 2, 2]],\n",
      "          ['property',\n",
      "           [{'prp': 'PM10', 'unit': 'kg/m3'}, {'prp': 'PM25', 'unit': 'kg/m3'}],\n",
      "           [1, 0, 0, 1, 0, 1]],\n",
      "          ['locinfos', ['middle', 'end', 'begin'], 1],\n",
      "          ['result', [4, 5, 3, 2, 1, 0], -1]],\n",
      " 'information': {'index': {'datation': {'box': ['2021-02-04T12:05:00+00:00',\n",
      "                                                '2021-07-04T12:05:00+00:00'],\n",
      "                                        'lencodec': 3,\n",
      "                                        'num': 0,\n",
      "                                        'typevalue': 'DatationValue'},\n",
      "                           'location': {'box': [2.35, 43.3, 5.38, 48.87],\n",
      "                                        'lencodec': 3,\n",
      "                                        'num': 1,\n",
      "                                        'typevalue': 'LocationValue'},\n",
      "                           'locinfos': {'box': None,\n",
      "                                        'lencodec': 3,\n",
      "                                        'num': 3,\n",
      "                                        'typevalue': None},\n",
      "                           'property': {'box': ['PM10', 'PM25'],\n",
      "                                        'lencodec': 2,\n",
      "                                        'num': 2,\n",
      "                                        'typevalue': 'PropertyValue'},\n",
      "                           'result': {'box': None,\n",
      "                                      'lencodec': 6,\n",
      "                                      'num': 4,\n",
      "                                      'typevalue': 'ESValue'}},\n",
      "                 'observation': {'complete': False,\n",
      "                                 'dimension': 3,\n",
      "                                 'length': 6,\n",
      "                                 'lenindex': 5,\n",
      "                                 'name': 'test1'}},\n",
      " 'name': 'test1',\n",
      " 'type': 'obs'}\n"
     ]
    }
   ],
   "source": [
    "pprint(json.loads(ob.json(encoded=True, json_info=True)))"
   ]
  },
  {
   "cell_type": "markdown",
   "id": "4e00cf09",
   "metadata": {},
   "source": [
    "### matrix translation"
   ]
  },
  {
   "cell_type": "code",
   "execution_count": 12,
   "id": "6a7cac61",
   "metadata": {},
   "outputs": [
    {
     "name": "stdout",
     "output_type": "stream",
     "text": [
      "{'data': [['datation',\n",
      "           ['2021-05-04T12:05:00+00:00',\n",
      "            '2021-07-04T12:05:00+00:00',\n",
      "            {'date1': '2021-02-04T12:05:00+00:00'}]],\n",
      "          ['location', [[4.83, 45.76], [5.38, 43.3], {'paris': [2.35, 48.87]}]],\n",
      "          ['property',\n",
      "           [{'prp': 'PM10', 'unit': 'kg/m3'},\n",
      "            {'prp': 'PM25', 'unit': 'kg/m3'}]],\n",
      "          ['locinfos', ['middle', 'end', 'begin'], 1],\n",
      "          ['result',\n",
      "           ['-',\n",
      "            4,\n",
      "            5,\n",
      "            '-',\n",
      "            '-',\n",
      "            '-',\n",
      "            3,\n",
      "            '-',\n",
      "            '-',\n",
      "            2,\n",
      "            '-',\n",
      "            '-',\n",
      "            '-',\n",
      "            '-',\n",
      "            '-',\n",
      "            '-',\n",
      "            1,\n",
      "            0],\n",
      "           -1]],\n",
      " 'name': 'test1',\n",
      " 'type': 'obs'}\n",
      "\n",
      "\n"
     ]
    },
    {
     "data": {
      "text/html": [
       "<table>\n",
       "<thead>\n",
       "<tr><th style=\"text-align: center;\">               datation               </th><th style=\"text-align: center;\">        location        </th><th style=\"text-align: center;\">            property            </th><th style=\"text-align: center;\"> locinfos </th><th style=\"text-align: center;\"> result </th></tr>\n",
       "</thead>\n",
       "<tbody>\n",
       "<tr><td style=\"text-align: center;\">     &quot;2021-05-04T12:05:00+00:00&quot;      </td><td style=\"text-align: center;\">     [4.83, 45.76]      </td><td style=\"text-align: center;\">{&quot;prp&quot;: &quot;PM10&quot;, &quot;unit&quot;: &quot;kg/m3&quot;}</td><td style=\"text-align: center;\">  middle  </td><td style=\"text-align: center;\">  &quot;-&quot;   </td></tr>\n",
       "<tr><td style=\"text-align: center;\">     &quot;2021-05-04T12:05:00+00:00&quot;      </td><td style=\"text-align: center;\">     [4.83, 45.76]      </td><td style=\"text-align: center;\">{&quot;prp&quot;: &quot;PM25&quot;, &quot;unit&quot;: &quot;kg/m3&quot;}</td><td style=\"text-align: center;\">  middle  </td><td style=\"text-align: center;\">   4    </td></tr>\n",
       "<tr><td style=\"text-align: center;\">     &quot;2021-05-04T12:05:00+00:00&quot;      </td><td style=\"text-align: center;\">      [5.38, 43.3]      </td><td style=\"text-align: center;\">{&quot;prp&quot;: &quot;PM10&quot;, &quot;unit&quot;: &quot;kg/m3&quot;}</td><td style=\"text-align: center;\">   end    </td><td style=\"text-align: center;\">   5    </td></tr>\n",
       "<tr><td style=\"text-align: center;\">     &quot;2021-05-04T12:05:00+00:00&quot;      </td><td style=\"text-align: center;\">      [5.38, 43.3]      </td><td style=\"text-align: center;\">{&quot;prp&quot;: &quot;PM25&quot;, &quot;unit&quot;: &quot;kg/m3&quot;}</td><td style=\"text-align: center;\">   end    </td><td style=\"text-align: center;\">  &quot;-&quot;   </td></tr>\n",
       "<tr><td style=\"text-align: center;\">     &quot;2021-05-04T12:05:00+00:00&quot;      </td><td style=\"text-align: center;\">{&quot;paris&quot;: [2.35, 48.87]}</td><td style=\"text-align: center;\">{&quot;prp&quot;: &quot;PM10&quot;, &quot;unit&quot;: &quot;kg/m3&quot;}</td><td style=\"text-align: center;\">  begin   </td><td style=\"text-align: center;\">  &quot;-&quot;   </td></tr>\n",
       "<tr><td style=\"text-align: center;\">     &quot;2021-05-04T12:05:00+00:00&quot;      </td><td style=\"text-align: center;\">{&quot;paris&quot;: [2.35, 48.87]}</td><td style=\"text-align: center;\">{&quot;prp&quot;: &quot;PM25&quot;, &quot;unit&quot;: &quot;kg/m3&quot;}</td><td style=\"text-align: center;\">  begin   </td><td style=\"text-align: center;\">  &quot;-&quot;   </td></tr>\n",
       "<tr><td style=\"text-align: center;\">     &quot;2021-07-04T12:05:00+00:00&quot;      </td><td style=\"text-align: center;\">     [4.83, 45.76]      </td><td style=\"text-align: center;\">{&quot;prp&quot;: &quot;PM10&quot;, &quot;unit&quot;: &quot;kg/m3&quot;}</td><td style=\"text-align: center;\">  middle  </td><td style=\"text-align: center;\">   3    </td></tr>\n",
       "<tr><td style=\"text-align: center;\">     &quot;2021-07-04T12:05:00+00:00&quot;      </td><td style=\"text-align: center;\">     [4.83, 45.76]      </td><td style=\"text-align: center;\">{&quot;prp&quot;: &quot;PM25&quot;, &quot;unit&quot;: &quot;kg/m3&quot;}</td><td style=\"text-align: center;\">  middle  </td><td style=\"text-align: center;\">  &quot;-&quot;   </td></tr>\n",
       "<tr><td style=\"text-align: center;\">     &quot;2021-07-04T12:05:00+00:00&quot;      </td><td style=\"text-align: center;\">      [5.38, 43.3]      </td><td style=\"text-align: center;\">{&quot;prp&quot;: &quot;PM10&quot;, &quot;unit&quot;: &quot;kg/m3&quot;}</td><td style=\"text-align: center;\">   end    </td><td style=\"text-align: center;\">  &quot;-&quot;   </td></tr>\n",
       "<tr><td style=\"text-align: center;\">     &quot;2021-07-04T12:05:00+00:00&quot;      </td><td style=\"text-align: center;\">      [5.38, 43.3]      </td><td style=\"text-align: center;\">{&quot;prp&quot;: &quot;PM25&quot;, &quot;unit&quot;: &quot;kg/m3&quot;}</td><td style=\"text-align: center;\">   end    </td><td style=\"text-align: center;\">   2    </td></tr>\n",
       "<tr><td style=\"text-align: center;\">     &quot;2021-07-04T12:05:00+00:00&quot;      </td><td style=\"text-align: center;\">{&quot;paris&quot;: [2.35, 48.87]}</td><td style=\"text-align: center;\">{&quot;prp&quot;: &quot;PM10&quot;, &quot;unit&quot;: &quot;kg/m3&quot;}</td><td style=\"text-align: center;\">  begin   </td><td style=\"text-align: center;\">  &quot;-&quot;   </td></tr>\n",
       "<tr><td style=\"text-align: center;\">     &quot;2021-07-04T12:05:00+00:00&quot;      </td><td style=\"text-align: center;\">{&quot;paris&quot;: [2.35, 48.87]}</td><td style=\"text-align: center;\">{&quot;prp&quot;: &quot;PM25&quot;, &quot;unit&quot;: &quot;kg/m3&quot;}</td><td style=\"text-align: center;\">  begin   </td><td style=\"text-align: center;\">  &quot;-&quot;   </td></tr>\n",
       "<tr><td style=\"text-align: center;\">{&quot;date1&quot;: &quot;2021-02-04T12:05:00+00:00&quot;}</td><td style=\"text-align: center;\">     [4.83, 45.76]      </td><td style=\"text-align: center;\">{&quot;prp&quot;: &quot;PM10&quot;, &quot;unit&quot;: &quot;kg/m3&quot;}</td><td style=\"text-align: center;\">  middle  </td><td style=\"text-align: center;\">  &quot;-&quot;   </td></tr>\n",
       "<tr><td style=\"text-align: center;\">{&quot;date1&quot;: &quot;2021-02-04T12:05:00+00:00&quot;}</td><td style=\"text-align: center;\">     [4.83, 45.76]      </td><td style=\"text-align: center;\">{&quot;prp&quot;: &quot;PM25&quot;, &quot;unit&quot;: &quot;kg/m3&quot;}</td><td style=\"text-align: center;\">  middle  </td><td style=\"text-align: center;\">  &quot;-&quot;   </td></tr>\n",
       "<tr><td style=\"text-align: center;\">{&quot;date1&quot;: &quot;2021-02-04T12:05:00+00:00&quot;}</td><td style=\"text-align: center;\">      [5.38, 43.3]      </td><td style=\"text-align: center;\">{&quot;prp&quot;: &quot;PM10&quot;, &quot;unit&quot;: &quot;kg/m3&quot;}</td><td style=\"text-align: center;\">   end    </td><td style=\"text-align: center;\">  &quot;-&quot;   </td></tr>\n",
       "<tr><td style=\"text-align: center;\">{&quot;date1&quot;: &quot;2021-02-04T12:05:00+00:00&quot;}</td><td style=\"text-align: center;\">      [5.38, 43.3]      </td><td style=\"text-align: center;\">{&quot;prp&quot;: &quot;PM25&quot;, &quot;unit&quot;: &quot;kg/m3&quot;}</td><td style=\"text-align: center;\">   end    </td><td style=\"text-align: center;\">  &quot;-&quot;   </td></tr>\n",
       "<tr><td style=\"text-align: center;\">{&quot;date1&quot;: &quot;2021-02-04T12:05:00+00:00&quot;}</td><td style=\"text-align: center;\">{&quot;paris&quot;: [2.35, 48.87]}</td><td style=\"text-align: center;\">{&quot;prp&quot;: &quot;PM10&quot;, &quot;unit&quot;: &quot;kg/m3&quot;}</td><td style=\"text-align: center;\">  begin   </td><td style=\"text-align: center;\">   1    </td></tr>\n",
       "<tr><td style=\"text-align: center;\">{&quot;date1&quot;: &quot;2021-02-04T12:05:00+00:00&quot;}</td><td style=\"text-align: center;\">{&quot;paris&quot;: [2.35, 48.87]}</td><td style=\"text-align: center;\">{&quot;prp&quot;: &quot;PM25&quot;, &quot;unit&quot;: &quot;kg/m3&quot;}</td><td style=\"text-align: center;\">  begin   </td><td style=\"text-align: center;\">   0    </td></tr>\n",
       "</tbody>\n",
       "</table>"
      ],
      "text/plain": [
       "'<table>\\n<thead>\\n<tr><th style=\"text-align: center;\">               datation               </th><th style=\"text-align: center;\">        location        </th><th style=\"text-align: center;\">            property            </th><th style=\"text-align: center;\"> locinfos </th><th style=\"text-align: center;\"> result </th></tr>\\n</thead>\\n<tbody>\\n<tr><td style=\"text-align: center;\">     &quot;2021-05-04T12:05:00+00:00&quot;      </td><td style=\"text-align: center;\">     [4.83, 45.76]      </td><td style=\"text-align: center;\">{&quot;prp&quot;: &quot;PM10&quot;, &quot;unit&quot;: &quot;kg/m3&quot;}</td><td style=\"text-align: center;\">  middle  </td><td style=\"text-align: center;\">  &quot;-&quot;   </td></tr>\\n<tr><td style=\"text-align: center;\">     &quot;2021-05-04T12:05:00+00:00&quot;      </td><td style=\"text-align: center;\">     [4.83, 45.76]      </td><td style=\"text-align: center;\">{&quot;prp&quot;: &quot;PM25&quot;, &quot;unit&quot;: &quot;kg/m3&quot;}</td><td style=\"text-align: center;\">  middle  </td><td style=\"text-align: center;\">   4    </td></tr>\\n<tr><td style=\"text-align: center;\">     &quot;2021-05-04T12:05:00+00:00&quot;      </td><td style=\"text-align: center;\">      [5.38, 43.3]      </td><td style=\"text-align: center;\">{&quot;prp&quot;: &quot;PM10&quot;, &quot;unit&quot;: &quot;kg/m3&quot;}</td><td style=\"text-align: center;\">   end    </td><td style=\"text-align: center;\">   5    </td></tr>\\n<tr><td style=\"text-align: center;\">     &quot;2021-05-04T12:05:00+00:00&quot;      </td><td style=\"text-align: center;\">      [5.38, 43.3]      </td><td style=\"text-align: center;\">{&quot;prp&quot;: &quot;PM25&quot;, &quot;unit&quot;: &quot;kg/m3&quot;}</td><td style=\"text-align: center;\">   end    </td><td style=\"text-align: center;\">  &quot;-&quot;   </td></tr>\\n<tr><td style=\"text-align: center;\">     &quot;2021-05-04T12:05:00+00:00&quot;      </td><td style=\"text-align: center;\">{&quot;paris&quot;: [2.35, 48.87]}</td><td style=\"text-align: center;\">{&quot;prp&quot;: &quot;PM10&quot;, &quot;unit&quot;: &quot;kg/m3&quot;}</td><td style=\"text-align: center;\">  begin   </td><td style=\"text-align: center;\">  &quot;-&quot;   </td></tr>\\n<tr><td style=\"text-align: center;\">     &quot;2021-05-04T12:05:00+00:00&quot;      </td><td style=\"text-align: center;\">{&quot;paris&quot;: [2.35, 48.87]}</td><td style=\"text-align: center;\">{&quot;prp&quot;: &quot;PM25&quot;, &quot;unit&quot;: &quot;kg/m3&quot;}</td><td style=\"text-align: center;\">  begin   </td><td style=\"text-align: center;\">  &quot;-&quot;   </td></tr>\\n<tr><td style=\"text-align: center;\">     &quot;2021-07-04T12:05:00+00:00&quot;      </td><td style=\"text-align: center;\">     [4.83, 45.76]      </td><td style=\"text-align: center;\">{&quot;prp&quot;: &quot;PM10&quot;, &quot;unit&quot;: &quot;kg/m3&quot;}</td><td style=\"text-align: center;\">  middle  </td><td style=\"text-align: center;\">   3    </td></tr>\\n<tr><td style=\"text-align: center;\">     &quot;2021-07-04T12:05:00+00:00&quot;      </td><td style=\"text-align: center;\">     [4.83, 45.76]      </td><td style=\"text-align: center;\">{&quot;prp&quot;: &quot;PM25&quot;, &quot;unit&quot;: &quot;kg/m3&quot;}</td><td style=\"text-align: center;\">  middle  </td><td style=\"text-align: center;\">  &quot;-&quot;   </td></tr>\\n<tr><td style=\"text-align: center;\">     &quot;2021-07-04T12:05:00+00:00&quot;      </td><td style=\"text-align: center;\">      [5.38, 43.3]      </td><td style=\"text-align: center;\">{&quot;prp&quot;: &quot;PM10&quot;, &quot;unit&quot;: &quot;kg/m3&quot;}</td><td style=\"text-align: center;\">   end    </td><td style=\"text-align: center;\">  &quot;-&quot;   </td></tr>\\n<tr><td style=\"text-align: center;\">     &quot;2021-07-04T12:05:00+00:00&quot;      </td><td style=\"text-align: center;\">      [5.38, 43.3]      </td><td style=\"text-align: center;\">{&quot;prp&quot;: &quot;PM25&quot;, &quot;unit&quot;: &quot;kg/m3&quot;}</td><td style=\"text-align: center;\">   end    </td><td style=\"text-align: center;\">   2    </td></tr>\\n<tr><td style=\"text-align: center;\">     &quot;2021-07-04T12:05:00+00:00&quot;      </td><td style=\"text-align: center;\">{&quot;paris&quot;: [2.35, 48.87]}</td><td style=\"text-align: center;\">{&quot;prp&quot;: &quot;PM10&quot;, &quot;unit&quot;: &quot;kg/m3&quot;}</td><td style=\"text-align: center;\">  begin   </td><td style=\"text-align: center;\">  &quot;-&quot;   </td></tr>\\n<tr><td style=\"text-align: center;\">     &quot;2021-07-04T12:05:00+00:00&quot;      </td><td style=\"text-align: center;\">{&quot;paris&quot;: [2.35, 48.87]}</td><td style=\"text-align: center;\">{&quot;prp&quot;: &quot;PM25&quot;, &quot;unit&quot;: &quot;kg/m3&quot;}</td><td style=\"text-align: center;\">  begin   </td><td style=\"text-align: center;\">  &quot;-&quot;   </td></tr>\\n<tr><td style=\"text-align: center;\">{&quot;date1&quot;: &quot;2021-02-04T12:05:00+00:00&quot;}</td><td style=\"text-align: center;\">     [4.83, 45.76]      </td><td style=\"text-align: center;\">{&quot;prp&quot;: &quot;PM10&quot;, &quot;unit&quot;: &quot;kg/m3&quot;}</td><td style=\"text-align: center;\">  middle  </td><td style=\"text-align: center;\">  &quot;-&quot;   </td></tr>\\n<tr><td style=\"text-align: center;\">{&quot;date1&quot;: &quot;2021-02-04T12:05:00+00:00&quot;}</td><td style=\"text-align: center;\">     [4.83, 45.76]      </td><td style=\"text-align: center;\">{&quot;prp&quot;: &quot;PM25&quot;, &quot;unit&quot;: &quot;kg/m3&quot;}</td><td style=\"text-align: center;\">  middle  </td><td style=\"text-align: center;\">  &quot;-&quot;   </td></tr>\\n<tr><td style=\"text-align: center;\">{&quot;date1&quot;: &quot;2021-02-04T12:05:00+00:00&quot;}</td><td style=\"text-align: center;\">      [5.38, 43.3]      </td><td style=\"text-align: center;\">{&quot;prp&quot;: &quot;PM10&quot;, &quot;unit&quot;: &quot;kg/m3&quot;}</td><td style=\"text-align: center;\">   end    </td><td style=\"text-align: center;\">  &quot;-&quot;   </td></tr>\\n<tr><td style=\"text-align: center;\">{&quot;date1&quot;: &quot;2021-02-04T12:05:00+00:00&quot;}</td><td style=\"text-align: center;\">      [5.38, 43.3]      </td><td style=\"text-align: center;\">{&quot;prp&quot;: &quot;PM25&quot;, &quot;unit&quot;: &quot;kg/m3&quot;}</td><td style=\"text-align: center;\">   end    </td><td style=\"text-align: center;\">  &quot;-&quot;   </td></tr>\\n<tr><td style=\"text-align: center;\">{&quot;date1&quot;: &quot;2021-02-04T12:05:00+00:00&quot;}</td><td style=\"text-align: center;\">{&quot;paris&quot;: [2.35, 48.87]}</td><td style=\"text-align: center;\">{&quot;prp&quot;: &quot;PM10&quot;, &quot;unit&quot;: &quot;kg/m3&quot;}</td><td style=\"text-align: center;\">  begin   </td><td style=\"text-align: center;\">   1    </td></tr>\\n<tr><td style=\"text-align: center;\">{&quot;date1&quot;: &quot;2021-02-04T12:05:00+00:00&quot;}</td><td style=\"text-align: center;\">{&quot;paris&quot;: [2.35, 48.87]}</td><td style=\"text-align: center;\">{&quot;prp&quot;: &quot;PM25&quot;, &quot;unit&quot;: &quot;kg/m3&quot;}</td><td style=\"text-align: center;\">  begin   </td><td style=\"text-align: center;\">   0    </td></tr>\\n</tbody>\\n</table>'"
      ]
     },
     "execution_count": 12,
     "metadata": {},
     "output_type": "execute_result"
    }
   ],
   "source": [
    "pprint(json.loads(ob.full().json(encoded=True)))\n",
    "print('\\n')\n",
    "ob.full().view(tablefmt='html', numalign='center', stralign='center')"
   ]
  },
  {
   "cell_type": "markdown",
   "id": "2aab6884",
   "metadata": {},
   "source": [
    "## 3 - Codec Mode\n",
    "### Mode 'full codec'"
   ]
  },
  {
   "cell_type": "code",
   "execution_count": 13,
   "id": "8da0bd7a",
   "metadata": {},
   "outputs": [
    {
     "data": {
      "text/plain": [
       "{'type': 'obs',\n",
       " 'data': [['a', 'b', 'a', 'd', 'd'], [1, 1, 3, 3, 5], [10, 10, 20, 20, 40]]}"
      ]
     },
     "execution_count": 13,
     "metadata": {},
     "output_type": "execute_result"
    }
   ],
   "source": [
    "Obs.obj({'data':[['a','b','a','d','d'], [1,1,3,3,5], [10,10,20,20,40]]}).json(modecodec='full')"
   ]
  },
  {
   "cell_type": "code",
   "execution_count": 14,
   "id": "9c0c0bc2",
   "metadata": {},
   "outputs": [
    {
     "data": {
      "text/plain": [
       "{'type': 'obs',\n",
       " 'data': [['index1', ['a', 'b', 'a', 'd', 'd']],\n",
       "  ['index2', [1, 1, 3, 3, 5]],\n",
       "  ['index3', [10, 10, 20, 20, 40]]]}"
      ]
     },
     "execution_count": 14,
     "metadata": {},
     "output_type": "execute_result"
    }
   ],
   "source": [
    "Obs.obj({'data':[['index1',['a','b','a','d','d']], ['index2',[1,1,3,3,5]], ['index3',[10,10,20,20,40]]]})\\\n",
    "    .json(modecodec='full')"
   ]
  },
  {
   "cell_type": "markdown",
   "id": "20c6daec",
   "metadata": {},
   "source": [
    "### Mode 'default codec'"
   ]
  },
  {
   "cell_type": "code",
   "execution_count": 15,
   "id": "0185c270",
   "metadata": {},
   "outputs": [
    {
     "data": {
      "text/plain": [
       "{'type': 'obs',\n",
       " 'data': [[['a', 'b', 'd'], [0, 1, 0, 2, 2]],\n",
       "  [[1, 3, 5], [0, 0, 1, 1, 2]],\n",
       "  [[40, 10, 20], [1, 1, 2, 2, 0]]]}"
      ]
     },
     "execution_count": 15,
     "metadata": {},
     "output_type": "execute_result"
    }
   ],
   "source": [
    "Obs.obj({'data':[['a','b','a','d','d'], [1,1,3,3,5], [10,10,20,20,40]]}).json(modecodec='default')"
   ]
  },
  {
   "cell_type": "code",
   "execution_count": 16,
   "id": "624c3ea9",
   "metadata": {},
   "outputs": [
    {
     "data": {
      "text/plain": [
       "{'type': 'obs',\n",
       " 'data': [['index1', ['a', 'b', 'd'], [0, 1, 0, 2, 2]],\n",
       "  ['index2', [1, 3, 5], [0, 0, 1, 1, 2]],\n",
       "  ['index3', [40, 10, 20], [1, 1, 2, 2, 0]]]}"
      ]
     },
     "execution_count": 16,
     "metadata": {},
     "output_type": "execute_result"
    }
   ],
   "source": [
    "Obs.obj({'data':[['index1',['a','b','a','d','d']], ['index2',[1,1,3,3,5]], ['index3',[10,10,20,20,40]]]})\\\n",
    "    .json(modecodec='default')"
   ]
  },
  {
   "cell_type": "markdown",
   "id": "c70e6d1f",
   "metadata": {},
   "source": [
    "### Mode 'optimize codec'"
   ]
  },
  {
   "cell_type": "code",
   "execution_count": 17,
   "id": "7424d7b1",
   "metadata": {},
   "outputs": [
    {
     "data": {
      "text/plain": [
       "{'type': 'obs',\n",
       " 'data': [[['a', 'b', 'd'], [0, 1, 0, 2, 2]],\n",
       "  [[1, 3, 5], [0, 0, 1, 1, 2]],\n",
       "  [[10, 20, 40], 1]]}"
      ]
     },
     "execution_count": 17,
     "metadata": {},
     "output_type": "execute_result"
    }
   ],
   "source": [
    "Obs.obj({'data':[['a','b','a','d','d'], [1,1,3,3,5], [10,10,20,20,40]]}).json()"
   ]
  },
  {
   "cell_type": "code",
   "execution_count": 18,
   "id": "046f7dac",
   "metadata": {},
   "outputs": [
    {
     "data": {
      "text/plain": [
       "{'type': 'obs',\n",
       " 'data': [['index1', ['a', 'b', 'd'], [0, 1, 0, 2, 2]],\n",
       "  ['index2', [1, 3, 5], [0, 0, 1, 1, 2]],\n",
       "  ['index3', [10, 20, 40], 1]]}"
      ]
     },
     "execution_count": 18,
     "metadata": {},
     "output_type": "execute_result"
    }
   ],
   "source": [
    "Obs.obj({'data':[['index1',['a','b','a','d','d']], ['index2',[1,1,3,3,5]], ['index3',[10,10,20,20,40]]]}).json()"
   ]
  }
 ],
 "metadata": {
  "kernelspec": {
   "display_name": "Python 3 (ipykernel)",
   "language": "python",
   "name": "python3"
  },
  "language_info": {
   "codemirror_mode": {
    "name": "ipython",
    "version": 3
   },
   "file_extension": ".py",
   "mimetype": "text/x-python",
   "name": "python",
   "nbconvert_exporter": "python",
   "pygments_lexer": "ipython3",
   "version": "3.9.12"
  }
 },
 "nbformat": 4,
 "nbformat_minor": 5
}
