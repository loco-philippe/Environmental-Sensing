{
 "cells": [
  {
   "cell_type": "markdown",
   "id": "5d07dab5",
   "metadata": {},
   "source": [
    "# Relationship Example\n",
    "\n",
    "This Notebook show a simple tool used to check the validity of relationship property\n",
    "\n",
    "_______"
   ]
  },
  {
   "cell_type": "markdown",
   "id": "c1404c83",
   "metadata": {},
   "source": [
    "## Relationship property\n",
    "\n",
    "The `relationship property` is defined between two lists and can take 4 values:\n",
    "- **derived** : relationship 1 - n between the two lists\n",
    "- **coupled** : relationship 1 - 1 between the two lists\n",
    "- **crossed** : relationship n - n between the two lists (when all values of the first list are associated with all values of the second list)\n",
    "- **linked** : other cases"
   ]
  },
  {
   "cell_type": "markdown",
   "id": "6742618a",
   "metadata": {},
   "source": [
    "## Check tool \n",
    "\n",
    "Calculation of the property with only standard python functions."
   ]
  },
  {
   "cell_type": "code",
   "execution_count": 1,
   "id": "00017e47",
   "metadata": {},
   "outputs": [],
   "source": [
    "def check_relationship(field1, field2):\n",
    "    \n",
    "    dist = len(set(zip(field1, field2)))\n",
    "    len1 = len(set(field1))\n",
    "    len2 = len(set(field2))\n",
    "    \n",
    "    if dist == len1 and dist > len2:    \n",
    "        return \"field 2 is derived from field 1\"\n",
    "    if dist == len2 and dist > len1:    \n",
    "        return \"field 1 is derived from field 2\"    \n",
    "    if dist == len1 and dist == len2:   \n",
    "        return \"field 2 and field 1 are coupled\"\n",
    "    if dist == len1 * len2:             \n",
    "        return \"field 2 and field 1 are crossed\"\n",
    "    return \"field 1 and field 2 are linked\""
   ]
  },
  {
   "cell_type": "markdown",
   "id": "53b77256",
   "metadata": {},
   "source": [
    "## Fast check tool\n",
    "\n",
    "This example uses Numpy functions"
   ]
  },
  {
   "cell_type": "code",
   "execution_count": 4,
   "id": "d305e9eb",
   "metadata": {},
   "outputs": [],
   "source": [
    "import numpy as np\n",
    "import pandas as pd\n",
    "\n",
    "def fast_check_relationship(field1, field2):\n",
    "    \n",
    "    field1 = field1.astype('category').cat.codes if isinstance(field1, pd.Series) else field1\n",
    "    field2 = field2.astype('category').cat.codes if isinstance(field2, pd.Series) else field2\n",
    "        \n",
    "    f1   = np.array(field1)\n",
    "    f2   = np.array(field2)\n",
    "    f1f2 = np.column_stack((f1, f2))\n",
    "    \n",
    "    dist = len(np.unique(f1f2, axis=0))\n",
    "    len1 = len(np.unique(f1))\n",
    "    len2 = len(np.unique(f2))\n",
    "    \n",
    "    if dist == len1 and dist > len2:    \n",
    "        return \"field 2 is derived from field 1\"\n",
    "    if dist == len2 and dist > len1:    \n",
    "        return \"field 1 is derived from field 2\"    \n",
    "    if dist == len1 and dist == len2:   \n",
    "        return \"field 2 and field 1 are coupled\"\n",
    "    if dist == len1 * len2:             \n",
    "        return \"field 2 and field 1 are crossed\"\n",
    "    return \"field 1 and field 2 are linked\""
   ]
  },
  {
   "cell_type": "markdown",
   "id": "c84a35dc",
   "metadata": {},
   "source": [
    "## Example\n",
    "\n",
    "\n",
    "|Quarter___ |Month___|Name___|Nickname|Year___|Semester|\n",
    "|:---:|:---:|:---:|:---:|:---:|:---:|\n",
    "|T1 |jan|john|jock |2020|s1|\n",
    "|T2 |apr|paul|paulo|2020|s2|\n",
    "|T2 |jun|leah|lili |2021|s1|\n",
    "|T1 |feb|paul|paulo|2021|s2|\n",
    "|T2 |may|paul|paulo|2022|s1|\n",
    "|T1 |jan|john|jock |2022|s2|\n",
    "\n",
    "    \n",
    "In this example each list has a specific relationship with another."
   ]
  },
  {
   "cell_type": "code",
   "execution_count": 2,
   "id": "a0c1c864",
   "metadata": {},
   "outputs": [],
   "source": [
    "example = [ [  'T1',    'T2',   'T2',    'T1',    'T2',   'T1'],\n",
    "            [ 'jan',   'apr',  'jun',   'feb',   'may',  'jan'],\n",
    "            ['john',  'paul', 'leah',  'paul',  'paul', 'john'],\n",
    "            ['jock', 'paulo', 'lili', 'paulo', 'paulo', 'jock'],\n",
    "            [  2020,    2020,   2021,    2021,    2022,   2022],\n",
    "            [  's1',    's2',   's1',    's2',    's1',   's2']]"
   ]
  },
  {
   "cell_type": "markdown",
   "id": "cb0f6a3c",
   "metadata": {},
   "source": [
    "## Test with simple data\n",
    "\n",
    "The result of applying the check_relationship function to the example above is as follows:"
   ]
  },
  {
   "cell_type": "code",
   "execution_count": 3,
   "id": "3876c450",
   "metadata": {
    "scrolled": true
   },
   "outputs": [
    {
     "name": "stdout",
     "output_type": "stream",
     "text": [
      "field 1 is derived from field 2\n",
      "field 2 and field 1 are coupled\n",
      "field 2 and field 1 are crossed\n",
      "field 1 and field 2 are linked\n"
     ]
    }
   ],
   "source": [
    "print(check_relationship(example[0], example[1]))  #field 1 (quarter) is derived from field 2 (month)\n",
    "print(check_relationship(example[2], example[3]))  #field 2 (nickname) and field 1 (name) are coupled\n",
    "print(check_relationship(example[4], example[5]))  #field 2 (semester) and field 1 (year) are crossed\n",
    "print(check_relationship(example[1], example[4]))  #field 1 (month) and field 2 (year) are linked"
   ]
  },
  {
   "cell_type": "markdown",
   "id": "c0a44bc6",
   "metadata": {},
   "source": [
    "## Test with pandas data"
   ]
  },
  {
   "cell_type": "code",
   "execution_count": 15,
   "id": "e97c7cf6",
   "metadata": {},
   "outputs": [
    {
     "data": {
      "text/html": [
       "<div>\n",
       "<style scoped>\n",
       "    .dataframe tbody tr th:only-of-type {\n",
       "        vertical-align: middle;\n",
       "    }\n",
       "\n",
       "    .dataframe tbody tr th {\n",
       "        vertical-align: top;\n",
       "    }\n",
       "\n",
       "    .dataframe thead th {\n",
       "        text-align: right;\n",
       "    }\n",
       "</style>\n",
       "<table border=\"1\" class=\"dataframe\">\n",
       "  <thead>\n",
       "    <tr style=\"text-align: right;\">\n",
       "      <th></th>\n",
       "      <th>field0</th>\n",
       "      <th>field1</th>\n",
       "      <th>field2</th>\n",
       "      <th>field3</th>\n",
       "      <th>field4</th>\n",
       "      <th>field5</th>\n",
       "    </tr>\n",
       "  </thead>\n",
       "  <tbody>\n",
       "    <tr>\n",
       "      <th>0</th>\n",
       "      <td>T1</td>\n",
       "      <td>jan</td>\n",
       "      <td>john</td>\n",
       "      <td>jock</td>\n",
       "      <td>2020</td>\n",
       "      <td>s1</td>\n",
       "    </tr>\n",
       "    <tr>\n",
       "      <th>1</th>\n",
       "      <td>T2</td>\n",
       "      <td>apr</td>\n",
       "      <td>paul</td>\n",
       "      <td>paulo</td>\n",
       "      <td>2020</td>\n",
       "      <td>s2</td>\n",
       "    </tr>\n",
       "    <tr>\n",
       "      <th>2</th>\n",
       "      <td>T2</td>\n",
       "      <td>jun</td>\n",
       "      <td>leah</td>\n",
       "      <td>lili</td>\n",
       "      <td>2021</td>\n",
       "      <td>s1</td>\n",
       "    </tr>\n",
       "    <tr>\n",
       "      <th>3</th>\n",
       "      <td>T1</td>\n",
       "      <td>feb</td>\n",
       "      <td>paul</td>\n",
       "      <td>paulo</td>\n",
       "      <td>2021</td>\n",
       "      <td>s2</td>\n",
       "    </tr>\n",
       "    <tr>\n",
       "      <th>4</th>\n",
       "      <td>T2</td>\n",
       "      <td>may</td>\n",
       "      <td>paul</td>\n",
       "      <td>paulo</td>\n",
       "      <td>2022</td>\n",
       "      <td>s1</td>\n",
       "    </tr>\n",
       "    <tr>\n",
       "      <th>5</th>\n",
       "      <td>T1</td>\n",
       "      <td>jan</td>\n",
       "      <td>john</td>\n",
       "      <td>jock</td>\n",
       "      <td>2022</td>\n",
       "      <td>s2</td>\n",
       "    </tr>\n",
       "  </tbody>\n",
       "</table>\n",
       "</div>"
      ],
      "text/plain": [
       "  field0 field1 field2 field3  field4 field5\n",
       "0     T1    jan   john   jock    2020     s1\n",
       "1     T2    apr   paul  paulo    2020     s2\n",
       "2     T2    jun   leah   lili    2021     s1\n",
       "3     T1    feb   paul  paulo    2021     s2\n",
       "4     T2    may   paul  paulo    2022     s1\n",
       "5     T1    jan   john   jock    2022     s2"
      ]
     },
     "execution_count": 15,
     "metadata": {},
     "output_type": "execute_result"
    }
   ],
   "source": [
    "example_dic = {'field' + str(ind) : field for ind, field in enumerate(example) }\n",
    "example_df = pd.DataFrame(example_dic)\n",
    "example_df"
   ]
  },
  {
   "cell_type": "code",
   "execution_count": 16,
   "id": "c6fad7db",
   "metadata": {
    "scrolled": true
   },
   "outputs": [
    {
     "name": "stdout",
     "output_type": "stream",
     "text": [
      "field 1 is derived from field 2\n",
      "field 2 and field 1 are coupled\n",
      "field 2 and field 1 are crossed\n",
      "field 1 and field 2 are linked\n"
     ]
    }
   ],
   "source": [
    "print(fast_check_relationship(example_df['field0'], example_df['field1']))  #field 1 (quarter) is derived from field 2 (month)\n",
    "print(fast_check_relationship(example_df['field2'], example_df['field3']))  #field 2 (nickname) and field 1 (name) are coupled\n",
    "print(fast_check_relationship(example_df['field4'], example_df['field5']))  #field 2 (semester) and field 1 (year) are crossed\n",
    "print(fast_check_relationship(example_df['field1'], example_df['field4']))  #field 1 (month) and field 2 (year) are linked"
   ]
  }
 ],
 "metadata": {
  "kernelspec": {
   "display_name": "Python 3 (ipykernel)",
   "language": "python",
   "name": "python3"
  },
  "language_info": {
   "codemirror_mode": {
    "name": "ipython",
    "version": 3
   },
   "file_extension": ".py",
   "mimetype": "text/x-python",
   "name": "python",
   "nbconvert_exporter": "python",
   "pygments_lexer": "ipython3",
   "version": "3.10.9"
  }
 },
 "nbformat": 4,
 "nbformat_minor": 5
}
