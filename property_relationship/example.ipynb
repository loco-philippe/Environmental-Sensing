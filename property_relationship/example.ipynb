{
 "cells": [
  {
   "cell_type": "markdown",
   "id": "5d07dab5",
   "metadata": {},
   "source": [
    "# Relationship Example\n",
    "\n",
    "This Notebook show a simple tool used to check the validity of relationship property\n",
    "\n",
    "_______"
   ]
  },
  {
   "cell_type": "markdown",
   "id": "c1404c83",
   "metadata": {},
   "source": [
    "## Relationship property\n",
    "\n",
    "The `relationship property` is defined between two lists and can take 4 values:\n",
    "- **derived** : relationship 1 - n between the two lists\n",
    "- **coupled** : relationship 1 - 1 between the two lists\n",
    "- **crossed** : relationship n - n between the two lists (when all values of the first list are associated with all values of the second list)\n",
    "- **linked** : other cases"
   ]
  },
  {
   "cell_type": "markdown",
   "id": "6742618a",
   "metadata": {},
   "source": [
    "## Check tool \n",
    "\n",
    "The property calculation mode is defined by the function below:"
   ]
  },
  {
   "cell_type": "code",
   "execution_count": 1,
   "id": "00017e47",
   "metadata": {},
   "outputs": [],
   "source": [
    "def check_relationship(field1, field2):\n",
    "    \n",
    "    dist = len(set(zip(field1, field2)))\n",
    "    len1 = len(set(field1))\n",
    "    len2 = len(set(field2))\n",
    "    \n",
    "    if dist == len1 and dist > len2:    \n",
    "        return \"field 2 is derived from field 1\"\n",
    "    if dist == len2 and dist > len1:    \n",
    "        return \"field 1 is derived from field 2\"    \n",
    "    if dist == len1 and dist == len2:   \n",
    "        return \"field 2 and field 1 are coupled\"\n",
    "    if dist == len1 * len2:             \n",
    "        return \"field 2 and field 1 are crossed\"\n",
    "    return \"field 1 and field 2 are linked\""
   ]
  },
  {
   "cell_type": "markdown",
   "id": "c84a35dc",
   "metadata": {},
   "source": [
    "## Example\n",
    "\n",
    "\n",
    "|Quarter___ |Month___|Name___|Nickname|Year___|Semester|\n",
    "|:---:|:---:|:---:|:---:|:---:|:---:|\n",
    "|T1 |jan|john|jock |2020|s1|\n",
    "|T2 |apr|paul|paulo|2020|s2|\n",
    "|T2 |jun|leah|lili |2021|s1|\n",
    "|T1 |feb|paul|paulo|2021|s2|\n",
    "|T2 |may|paul|paulo|2022|s1|\n",
    "|T1 |jan|john|jock |2022|s2|\n",
    "\n",
    "    \n",
    "In this example each list has a specific relationship with another."
   ]
  },
  {
   "cell_type": "code",
   "execution_count": 2,
   "id": "a0c1c864",
   "metadata": {},
   "outputs": [],
   "source": [
    "example = [ [  'T1',    'T2',   'T2',    'T1',    'T2',   'T1'],\n",
    "            [ 'jan',   'apr',  'jun',   'feb',   'may',  'jan'],\n",
    "            ['john',  'paul', 'leah',  'paul',  'paul', 'john'],\n",
    "            ['jock', 'paulo', 'lili', 'paulo', 'paulo', 'jock'],\n",
    "            [  2020,    2020,   2021,    2021,    2022,   2022],\n",
    "            [  's1',    's2',   's1',    's2',    's1',   's2']]"
   ]
  },
  {
   "cell_type": "markdown",
   "id": "cb0f6a3c",
   "metadata": {},
   "source": [
    "## Test\n",
    "\n",
    "The result of applying the check_relationship function to the example above is as follows:"
   ]
  },
  {
   "cell_type": "code",
   "execution_count": 3,
   "id": "3876c450",
   "metadata": {},
   "outputs": [
    {
     "name": "stdout",
     "output_type": "stream",
     "text": [
      "field 1 is derived from field 2\n",
      "field 2 and field 1 are coupled\n",
      "field 2 and field 1 are crossed\n",
      "field 1 and field 2 are linked\n"
     ]
    }
   ],
   "source": [
    "print(check_relationship(example[0], example[1]))  #field 1 (quarter) is derived from field 2 (month)\n",
    "print(check_relationship(example[2], example[3]))  #field 2 (nickname) and field 1 (name) are coupled\n",
    "print(check_relationship(example[4], example[5]))  #field 2 (semester) and field 1 (year) are crossed\n",
    "print(check_relationship(example[1], example[4]))  #field 1 (month) and field 2 (year) are linked"
   ]
  }
 ],
 "metadata": {
  "kernelspec": {
   "display_name": "Python 3 (ipykernel)",
   "language": "python",
   "name": "python3"
  },
  "language_info": {
   "codemirror_mode": {
    "name": "ipython",
    "version": 3
   },
   "file_extension": ".py",
   "mimetype": "text/x-python",
   "name": "python",
   "nbconvert_exporter": "python",
   "pygments_lexer": "ipython3",
   "version": "3.9.12"
  }
 },
 "nbformat": 4,
 "nbformat_minor": 5
}
