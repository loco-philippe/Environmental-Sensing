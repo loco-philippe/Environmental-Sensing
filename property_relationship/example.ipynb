{
 "cells": [
  {
   "cell_type": "markdown",
   "id": "5d07dab5",
   "metadata": {},
   "source": [
    "# Relationship Example\n",
    "\n",
    "This Notebook show a simple tool used to check the validity of relationship property\n",
    "\n",
    "_______"
   ]
  },
  {
   "cell_type": "markdown",
   "id": "c1404c83",
   "metadata": {},
   "source": [
    "## Relationship property\n",
    "\n",
    "The `relationship property` is defined between two lists and can take 4 values:\n",
    "- **derived** : relationship 1 - n between the two lists\n",
    "- **coupled** : relationship 1 - 1 between the two lists\n",
    "- **crossed** : relationship n - n between the two lists (when all values of the first list are associated with all values of the second list)\n",
    "- **linked** : other cases"
   ]
  },
  {
   "cell_type": "markdown",
   "id": "6742618a",
   "metadata": {},
   "source": [
    "## Check tool \n",
    "\n",
    "Calculation of the property.\n",
    "\n",
    "Note: \n",
    "The function `len(set(zip(field1, field2)))` is faster than the others below \n",
    "- `len(pd.Series(zip(series1, series2)).astype('category').cat.categories)`\n",
    "- `len(np.unique(np.column_stack((numpy1, numpy2)), axis=0))`\n",
    "- `len(np.unique(np.fromiter(zip(series1, series2), dtype='object')))`\n",
    "- `len(df1[[name_field1, name_field2]].apply(tuple, axis=1).astype('category').cat.categories)`"
   ]
  },
  {
   "cell_type": "code",
   "execution_count": 1,
   "id": "017706b9",
   "metadata": {},
   "outputs": [],
   "source": [
    "import numpy as np\n",
    "import pandas as pd\n",
    "\n",
    "def check_relationship(field1, field2):\n",
    "    \n",
    "    field1 = list(field1.astype('category').cat.codes) if isinstance(field1, pd.Series) else field1\n",
    "    field2 = list(field2.astype('category').cat.codes) if isinstance(field2, pd.Series) else field2\n",
    "        \n",
    "    dist = len(set(zip(field1, field2)))\n",
    "    len1 = len(set(field1))\n",
    "    len2 = len(set(field2))\n",
    "    \n",
    "    if dist == len1 and dist > len2:    \n",
    "        return \"field 2 is derived from field 1\"\n",
    "    if dist == len2 and dist > len1:    \n",
    "        return \"field 1 is derived from field 2\"    \n",
    "    if dist == len1 and dist == len2:   \n",
    "        return \"field 2 and field 1 are coupled\"\n",
    "    if dist == len1 * len2:             \n",
    "        return \"field 2 and field 1 are crossed\"\n",
    "    return \"field 1 and field 2 are linked\""
   ]
  },
  {
   "cell_type": "markdown",
   "id": "c84a35dc",
   "metadata": {},
   "source": [
    "## Example\n",
    "\n",
    "\n",
    "|Quarter___ |Month___|Name___|Nickname|Year___|Semester|\n",
    "|:---:|:---:|:---:|:---:|:---:|:---:|\n",
    "|T1 |jan|john|jock |2020|s1|\n",
    "|T2 |apr|paul|paulo|2020|s2|\n",
    "|T2 |jun|leah|lili |2021|s1|\n",
    "|T1 |feb|paul|paulo|2021|s2|\n",
    "|T2 |may|paul|paulo|2022|s1|\n",
    "|T1 |jan|john|jock |2022|s2|\n",
    "\n",
    "    \n",
    "In this example each list has a specific relationship with another."
   ]
  },
  {
   "cell_type": "code",
   "execution_count": 2,
   "id": "a0c1c864",
   "metadata": {},
   "outputs": [],
   "source": [
    "example = { 'quarter':  [  'T1',    'T2',   'T2',    'T1',    'T2',   'T1'],\n",
    "            'month':    [ 'jan',   'apr',  'jun',   'feb',   'may',  'jan'],\n",
    "            'name':     ['john',  'paul', 'leah',  'paul',  'paul', 'john'],\n",
    "            'nickname': ['jock', 'paulo', 'lili', 'paulo', 'paulo', 'jock'],\n",
    "            'year':     [  2020,    2020,   2021,    2021,    2022,   2022],\n",
    "            'semester': [  's1',    's2',   's1',    's2',    's1',   's2'] }"
   ]
  },
  {
   "cell_type": "markdown",
   "id": "cb0f6a3c",
   "metadata": {},
   "source": [
    "## Test with simple data\n",
    "\n",
    "The result of applying the check_relationship function to the example above is as follows:"
   ]
  },
  {
   "cell_type": "code",
   "execution_count": 3,
   "id": "3876c450",
   "metadata": {
    "scrolled": true
   },
   "outputs": [
    {
     "name": "stdout",
     "output_type": "stream",
     "text": [
      "field 1 is derived from field 2\n",
      "field 2 and field 1 are coupled\n",
      "field 2 and field 1 are crossed\n",
      "field 1 and field 2 are linked\n"
     ]
    }
   ],
   "source": [
    "print(check_relationship(example['quarter'], example['month']   ))  #field 1 (quarter) is derived from field 2 (month)\n",
    "print(check_relationship(example['name'],    example['nickname']))  #field 2 (nickname) and field 1 (name) are coupled\n",
    "print(check_relationship(example['year'],    example['semester']))  #field 2 (semester) and field 1 (year) are crossed\n",
    "print(check_relationship(example['month'],   example['year']    ))  #field 1 (month) and field 2 (year) are linked"
   ]
  },
  {
   "cell_type": "markdown",
   "id": "8fd3a29c",
   "metadata": {},
   "source": [
    "## Test with pandas data"
   ]
  },
  {
   "cell_type": "code",
   "execution_count": 4,
   "id": "f2cd1c54",
   "metadata": {},
   "outputs": [
    {
     "data": {
      "text/html": [
       "<div>\n",
       "<style scoped>\n",
       "    .dataframe tbody tr th:only-of-type {\n",
       "        vertical-align: middle;\n",
       "    }\n",
       "\n",
       "    .dataframe tbody tr th {\n",
       "        vertical-align: top;\n",
       "    }\n",
       "\n",
       "    .dataframe thead th {\n",
       "        text-align: right;\n",
       "    }\n",
       "</style>\n",
       "<table border=\"1\" class=\"dataframe\">\n",
       "  <thead>\n",
       "    <tr style=\"text-align: right;\">\n",
       "      <th></th>\n",
       "      <th>quarter</th>\n",
       "      <th>month</th>\n",
       "      <th>name</th>\n",
       "      <th>nickname</th>\n",
       "      <th>year</th>\n",
       "      <th>semester</th>\n",
       "    </tr>\n",
       "  </thead>\n",
       "  <tbody>\n",
       "    <tr>\n",
       "      <th>0</th>\n",
       "      <td>T1</td>\n",
       "      <td>jan</td>\n",
       "      <td>john</td>\n",
       "      <td>jock</td>\n",
       "      <td>2020</td>\n",
       "      <td>s1</td>\n",
       "    </tr>\n",
       "    <tr>\n",
       "      <th>1</th>\n",
       "      <td>T2</td>\n",
       "      <td>apr</td>\n",
       "      <td>paul</td>\n",
       "      <td>paulo</td>\n",
       "      <td>2020</td>\n",
       "      <td>s2</td>\n",
       "    </tr>\n",
       "    <tr>\n",
       "      <th>2</th>\n",
       "      <td>T2</td>\n",
       "      <td>jun</td>\n",
       "      <td>leah</td>\n",
       "      <td>lili</td>\n",
       "      <td>2021</td>\n",
       "      <td>s1</td>\n",
       "    </tr>\n",
       "    <tr>\n",
       "      <th>3</th>\n",
       "      <td>T1</td>\n",
       "      <td>feb</td>\n",
       "      <td>paul</td>\n",
       "      <td>paulo</td>\n",
       "      <td>2021</td>\n",
       "      <td>s2</td>\n",
       "    </tr>\n",
       "    <tr>\n",
       "      <th>4</th>\n",
       "      <td>T2</td>\n",
       "      <td>may</td>\n",
       "      <td>paul</td>\n",
       "      <td>paulo</td>\n",
       "      <td>2022</td>\n",
       "      <td>s1</td>\n",
       "    </tr>\n",
       "    <tr>\n",
       "      <th>5</th>\n",
       "      <td>T1</td>\n",
       "      <td>jan</td>\n",
       "      <td>john</td>\n",
       "      <td>jock</td>\n",
       "      <td>2022</td>\n",
       "      <td>s2</td>\n",
       "    </tr>\n",
       "  </tbody>\n",
       "</table>\n",
       "</div>"
      ],
      "text/plain": [
       "  quarter month  name nickname  year semester\n",
       "0      T1   jan  john     jock  2020       s1\n",
       "1      T2   apr  paul    paulo  2020       s2\n",
       "2      T2   jun  leah     lili  2021       s1\n",
       "3      T1   feb  paul    paulo  2021       s2\n",
       "4      T2   may  paul    paulo  2022       s1\n",
       "5      T1   jan  john     jock  2022       s2"
      ]
     },
     "execution_count": 4,
     "metadata": {},
     "output_type": "execute_result"
    }
   ],
   "source": [
    "example_df = pd.DataFrame(example)\n",
    "example_df"
   ]
  },
  {
   "cell_type": "code",
   "execution_count": 5,
   "id": "aa0fe70e",
   "metadata": {
    "scrolled": true
   },
   "outputs": [
    {
     "name": "stdout",
     "output_type": "stream",
     "text": [
      "field 1 is derived from field 2\n",
      "field 2 and field 1 are coupled\n",
      "field 2 and field 1 are crossed\n",
      "field 1 and field 2 are linked\n"
     ]
    }
   ],
   "source": [
    "print(check_relationship(example_df['quarter'], example_df['month']))  #field 1 (quarter) is derived from field 2 (month)\n",
    "print(check_relationship(example_df['name'], example_df['nickname']))  #field 2 (nickname) and field 1 (name) are coupled\n",
    "print(check_relationship(example_df['year'], example_df['semester']))  #field 2 (semester) and field 1 (year) are crossed\n",
    "print(check_relationship(example_df['month'], example_df['year']))  #field 1 (month) and field 2 (year) are linked"
   ]
  }
 ],
 "metadata": {
  "kernelspec": {
   "display_name": "Python 3 (ipykernel)",
   "language": "python",
   "name": "python3"
  },
  "language_info": {
   "codemirror_mode": {
    "name": "ipython",
    "version": 3
   },
   "file_extension": ".py",
   "mimetype": "text/x-python",
   "name": "python",
   "nbconvert_exporter": "python",
   "pygments_lexer": "ipython3",
   "version": "3.10.9"
  }
 },
 "nbformat": 4,
 "nbformat_minor": 5
}
