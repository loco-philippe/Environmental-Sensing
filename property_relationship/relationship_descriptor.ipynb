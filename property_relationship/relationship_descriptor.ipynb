{
 "cells": [
  {
   "cell_type": "markdown",
   "id": "db96347f",
   "metadata": {},
   "source": [
    "# Relationships descriptor"
   ]
  },
  {
   "cell_type": "markdown",
   "id": "efa6d4be",
   "metadata": {},
   "source": [
    "This Notebook presents an example of implementing `relationships` descriptor as proposed in the [pattern](https://github.com/frictionlessdata/specs/pull/859) document."
   ]
  },
  {
   "cell_type": "markdown",
   "id": "57d81688",
   "metadata": {},
   "source": [
    "## Example"
   ]
  },
  {
   "cell_type": "markdown",
   "id": "e649ba9a",
   "metadata": {},
   "source": [
    "The choosen example is defined in the pattern :\n",
    "\n",
    "    \n",
    "| country | region         | code  | population |\n",
    "|---------|----------------|-------|------------|\n",
    "| France  | European Union | FR    | 449        |\n",
    "| Spain   | European Union | ES    | 48         |\n",
    "| Estonia | European Union | ES    | 449        |\n",
    "| Nigeria | Africa         | NI    | 1460       |\n",
    "    \n",
    "The data schema for this dataset is :\n",
    "\n",
    "  ```json\n",
    "  {\"fields\": [ \n",
    "      {\"name\": \"country\", \"type\": \"string\"},\n",
    "      {\"name\": \"region\", \"type\": \"string\"},\n",
    "      {\"name\": \"code\", \"type\": \"string\", \"description\": \"country code alpha-2\"},\n",
    "      {\"name\": \"population\", \"type\": \"string\", \"description\": \"region population in 2022 (millions)\"}]\n",
    "  }\n",
    "  ```\n",
    "If we now look at the data we see that this dataset is not consistent because it contains two structural errors:\n",
    "\n",
    "* The value of the \"code\" Field must be unique for each country, we cannot therefore have \"ES\" for \"Spain\" and \"Estonia\",\n",
    "* The value of the \"population\" Field of \"European Union\" cannot have two different values (449 and 48)\n",
    "\n",
    "These structural errors make the data unusable and yet they are not detected in the validation of the dataset (in the current version of Table Schema, there are no Descriptors to express this dependency between two fields).\n",
    "\n",
    "The pattern proposal is to add a `relationships` descriptor to check relationships :\n",
    "\n",
    "  ```json\n",
    "  { \"fields\": [ ... ],\n",
    "    \"relationships\": [\n",
    "      { \"fields\" : [ \"country\", \"code\"],\n",
    "        \"description\" : \"is the country code alpha-2 of\",\n",
    "        \"link\" : \"coupled\"\n",
    "      }\n",
    "      { \"fields\" : [ \"region\", \"population\"],\n",
    "        \"description\" : \"is the population of\",\n",
    "        \"link\" : \"derived\"}\n",
    "    ]\n",
    "  }\n",
    "  ```\n",
    " "
   ]
  },
  {
   "cell_type": "code",
   "execution_count": 1,
   "id": "a9bd762b",
   "metadata": {},
   "outputs": [],
   "source": [
    "from frictionless import Resource, Schema\n",
    "\n",
    "countries = Resource(data=[  ['country', 'region',         'code', 'population'], \n",
    "                             ['France',  'European Union', 'FR',    449        ], \n",
    "                             ['Spain',   'European Union', 'ES',    48         ], \n",
    "                             ['Estonia', 'European Union', 'ES',    449        ], \n",
    "                             ['Nigeria', 'African',        'NI',    1460       ]])\n",
    "sch = {\"fields\": [\n",
    "          {\"name\": \"country\", \"type\": \"string\"},\n",
    "          {\"name\": \"region\", \"type\": \"string\"},\n",
    "          {\"name\": \"code\", \"type\": \"string\", \"description\": \"country code alpha-2\"},\n",
    "          {\"name\": \"population\", \"type\": \"integer\", \"description\": \"region population in 2022 (millions)\"}],\n",
    "       \"relationships\": [\n",
    "          { \"fields\" : [ \"country\", \"code\"], \"link\" : \"coupled\", \"description\" : \"is the country code alpha-2 of\"},\n",
    "          { \"fields\" : [ \"region\", \"population\"], \"link\" : \"derived\", \"description\" : \"is the population of\"}]}\n",
    "\n",
    "countries.schema = Schema.from_descriptor(sch)"
   ]
  },
  {
   "cell_type": "markdown",
   "id": "1295f2ad",
   "metadata": {},
   "source": [
    "## Implementation "
   ]
  },
  {
   "cell_type": "markdown",
   "id": "6b5364a3",
   "metadata": {},
   "source": [
    "The analysis of relationships is based on vectorized processing with Fields data. Today, the table schema is built with a row structure. This analysis must therefore be implemented in Table Schema as a global control.\n",
    "\n",
    "The implementation below is an example for discussion (I am not a Table Schema expert)"
   ]
  },
  {
   "cell_type": "code",
   "execution_count": 2,
   "id": "6eb1fac7",
   "metadata": {},
   "outputs": [],
   "source": [
    "import attrs\n",
    "import frictionless\n",
    "from frictionless import Check, Row\n",
    "from frictionless.errors import RowError\n",
    "from tab_dataset import Cdataset, Cfield\n",
    "\n",
    "def validate(resource):\n",
    "    checks = [Relationship(resource, desc) for desc in resource.schema.custom['relationships']]\n",
    "    return frictionless.validate(resource, checks=checks)\n",
    "    \n",
    "class RelationshipError(RowError):\n",
    "    title = None\n",
    "    type = 'Relationship'\n",
    "    description = None\n",
    "    template = \"row position {rowNumber} is not consistent\"\n",
    "\n",
    "@attrs.define(kw_only=True, repr=False)\n",
    "class Relationship(Check):\n",
    "    \"\"\"Check a Relationship between two fields\"\"\"\n",
    "\n",
    "    Errors = [RelationshipError]\n",
    "    \n",
    "    def __init__(self, resource, descriptor):\n",
    "        \n",
    "        super().__init__()\n",
    "        res_t = list(map(list, zip(*resource.read_data())))\n",
    "        dts = Cdataset([Cfield(fld[1:], fld[0]) for fld in res_t])\n",
    "        self.__num_row = -1\n",
    "        self.__relationship = descriptor\n",
    "        self.__errors = dts.check_relation(descriptor['fields'][0],\n",
    "                                          descriptor['fields'][1],\n",
    "                                          descriptor['link'], value=False)\n",
    "        \n",
    "    def validate_row(self, row: Row):\n",
    "        self.__num_row += 1\n",
    "        if self.__num_row in self.__errors:\n",
    "            note = 'cells \"' + self.__relationship['fields'][0] + \\\n",
    "                   '\" and \"' + self.__relationship['fields'][1] + \\\n",
    "                   '\" are not ' + self.__relationship['link'] + ' in this row'\n",
    "            yield RelationshipError.from_row(row, note=note)"
   ]
  },
  {
   "cell_type": "markdown",
   "id": "867fddaf",
   "metadata": {},
   "source": [
    "## Tests\n",
    "The `validate` function detects two errors :\n",
    "\n",
    "- between \"region\" and \"population\" Fields (rows 2, 3 and 4) \n",
    "- between \"country\" and \"code\" Fields (rows 3 and 4)"
   ]
  },
  {
   "cell_type": "code",
   "execution_count": 3,
   "id": "a46bbe96",
   "metadata": {},
   "outputs": [
    {
     "data": {
      "text/plain": [
       "{'valid': False,\n",
       " 'stats': {'tasks': 1, 'errors': 5, 'warnings': 0, 'seconds': 0.006},\n",
       " 'warnings': [],\n",
       " 'errors': [],\n",
       " 'tasks': [{'name': 'memory',\n",
       "            'type': 'table',\n",
       "            'valid': False,\n",
       "            'place': '<memory>',\n",
       "            'labels': ['country', 'region', 'code', 'population'],\n",
       "            'stats': {'errors': 5,\n",
       "                      'warnings': 0,\n",
       "                      'seconds': 0.006,\n",
       "                      'fields': 4,\n",
       "                      'rows': 4},\n",
       "            'warnings': [],\n",
       "            'errors': [{'type': 'Relationship',\n",
       "                        'message': 'row position 2 is not consistent',\n",
       "                        'tags': ['#table', '#row'],\n",
       "                        'note': 'cells \"region\" and \"population\" are not '\n",
       "                                'derived in this row',\n",
       "                        'cells': ['France', 'European Union', 'FR', '449'],\n",
       "                        'rowNumber': 2},\n",
       "                       {'type': 'Relationship',\n",
       "                        'message': 'row position 3 is not consistent',\n",
       "                        'tags': ['#table', '#row'],\n",
       "                        'note': 'cells \"country\" and \"code\" are not coupled in '\n",
       "                                'this row',\n",
       "                        'cells': ['Spain', 'European Union', 'ES', '48'],\n",
       "                        'rowNumber': 3},\n",
       "                       {'type': 'Relationship',\n",
       "                        'message': 'row position 3 is not consistent',\n",
       "                        'tags': ['#table', '#row'],\n",
       "                        'note': 'cells \"region\" and \"population\" are not '\n",
       "                                'derived in this row',\n",
       "                        'cells': ['Spain', 'European Union', 'ES', '48'],\n",
       "                        'rowNumber': 3},\n",
       "                       {'type': 'Relationship',\n",
       "                        'message': 'row position 4 is not consistent',\n",
       "                        'tags': ['#table', '#row'],\n",
       "                        'note': 'cells \"country\" and \"code\" are not coupled in '\n",
       "                                'this row',\n",
       "                        'cells': ['Estonia', 'European Union', 'ES', '449'],\n",
       "                        'rowNumber': 4},\n",
       "                       {'type': 'Relationship',\n",
       "                        'message': 'row position 4 is not consistent',\n",
       "                        'tags': ['#table', '#row'],\n",
       "                        'note': 'cells \"region\" and \"population\" are not '\n",
       "                                'derived in this row',\n",
       "                        'cells': ['Estonia', 'European Union', 'ES', '449'],\n",
       "                        'rowNumber': 4}]}]}"
      ]
     },
     "execution_count": 3,
     "metadata": {},
     "output_type": "execute_result"
    }
   ],
   "source": [
    "validate(countries)"
   ]
  },
  {
   "cell_type": "markdown",
   "id": "b988f7b9",
   "metadata": {},
   "source": [
    "The test with the consistent values (Estonia code : EE, European Union poulation : 449) does not detect any errors."
   ]
  },
  {
   "cell_type": "code",
   "execution_count": 4,
   "id": "c6714a88",
   "metadata": {},
   "outputs": [
    {
     "data": {
      "text/plain": [
       "{'valid': True,\n",
       " 'stats': {'tasks': 1, 'errors': 0, 'warnings': 0, 'seconds': 0.003},\n",
       " 'warnings': [],\n",
       " 'errors': [],\n",
       " 'tasks': [{'name': 'memory',\n",
       "            'type': 'table',\n",
       "            'valid': True,\n",
       "            'place': '<memory>',\n",
       "            'labels': ['country', 'region', 'code', 'population'],\n",
       "            'stats': {'errors': 0,\n",
       "                      'warnings': 0,\n",
       "                      'seconds': 0.003,\n",
       "                      'fields': 4,\n",
       "                      'rows': 4},\n",
       "            'warnings': [],\n",
       "            'errors': []}]}"
      ]
     },
     "execution_count": 4,
     "metadata": {},
     "output_type": "execute_result"
    }
   ],
   "source": [
    "countries_2 = Resource(data=[['country', 'region',         'code', 'population'], \n",
    "                             ['France',  'European Union', 'FR',    449        ], \n",
    "                             ['Spain',   'European Union', 'ES',    449        ], \n",
    "                             ['Estonia', 'European Union', 'EE',    449        ], \n",
    "                             ['Nigeria', 'African',        'NI',    1460       ]])\n",
    "countries_2.schema = Schema.from_descriptor(sch)\n",
    "validate(countries_2)"
   ]
  }
 ],
 "metadata": {
  "kernelspec": {
   "display_name": "Python 3 (ipykernel)",
   "language": "python",
   "name": "python3"
  },
  "language_info": {
   "codemirror_mode": {
    "name": "ipython",
    "version": 3
   },
   "file_extension": ".py",
   "mimetype": "text/x-python",
   "name": "python",
   "nbconvert_exporter": "python",
   "pygments_lexer": "ipython3",
   "version": "3.10.9"
  }
 },
 "nbformat": 4,
 "nbformat_minor": 5
}
