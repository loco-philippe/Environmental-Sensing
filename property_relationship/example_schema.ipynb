{
 "cells": [
  {
   "cell_type": "markdown",
   "id": "37bd4871",
   "metadata": {},
   "source": [
    "# Data model to Data schema\n",
    "------\n",
    "This Notebook describe an example to explain the link between Data model and Table schema.\n",
    "\n",
    "The Dataset in which the records are countries is made up of four Fields :\n",
    "\n",
    "- country : name of the country\n",
    "- region : name of the region of the country\n",
    "- code : alpha-2 country code\n",
    "- population : population of the region (millions)"
   ]
  },
  {
   "cell_type": "markdown",
   "id": "ab5c4c21",
   "metadata": {},
   "source": [
    "## Data model\n",
    "Two entities are defined :\n",
    "- country : The first attribute is the name of the country (primary key of the entity), the second is its alpha-2 country code. The value of this attribute is unique for each country.\n",
    "- region : The first attribute is the name of the region (primary key of the entity), the second is its population. \n",
    "The data model is as follows :"
   ]
  },
  {
   "cell_type": "code",
   "execution_count": 2,
   "id": "28b3f57a",
   "metadata": {},
   "outputs": [],
   "source": [
    "from base64 import b64encode\n",
    "from IPython.display import Image, display\n",
    "from json_ntv import Ntv, MermaidConnec"
   ]
  },
  {
   "cell_type": "code",
   "execution_count": 3,
   "id": "85bf54a1",
   "metadata": {},
   "outputs": [
    {
     "data": {
      "text/html": [
       "<img src=\"https://mermaid.ink/img/LS0tCnRpdGxlOiBjb3VudHJ5IGFuZCByZWdpb24KLS0tCmVyRGlhZ3JhbQogICAgQ09VTlRSWSB7CiAgICAgICAgc3RyaW5nIGNvdW50cnkgUEsKICAgICAgICBzdHJpbmcgY29kZSAidW5pcXVlIgogICAgfQogICAgUkVHSU9OIHsKICAgICAgICBzdHJpbmcgcmVnaW9uIFBLCiAgICAgICAgbnVtYmVyIHBvcHVsYXRpb24KICAgIH0KICAgIFJFR0lPTiB8fC0tfHsgQ09VTlRSWSA6IGJyaW5nc190b2dldGhlcg==\"/>"
      ],
      "text/plain": [
       "<IPython.core.display.Image object>"
      ]
     },
     "metadata": {},
     "output_type": "display_data"
    }
   ],
   "source": [
    "# the Json data model is build with Json\n",
    "country = { \n",
    "    'country and region:$erDiagram' : { \n",
    "        'entity': {\n",
    "            'COUNTRY':  [ \n",
    "                ['string', 'country',  'PK' ], \n",
    "                ['string', 'code', 'unique'] \n",
    "            ], \n",
    "            'REGION': [ \n",
    "                ['string', 'region',  'PK'],\n",
    "                ['number',    'population'] \n",
    "            ]\n",
    "        },\n",
    "        'relationship': [ \n",
    "            [ 'REGION', 'exactly one', 'identifying', 'one or more', 'COUNTRY',     'brings_together']\n",
    "        ],\n",
    "\n",
    "     } }\n",
    "\n",
    "# It is converted in Mermaid structure and then displayed\n",
    "diag = MermaidConnec.diagram(country)\n",
    "display(Image(url=\"https://mermaid.ink/img/\" + b64encode(diag.encode(\"ascii\")).decode(\"ascii\")))"
   ]
  },
  {
   "cell_type": "markdown",
   "id": "b6714358",
   "metadata": {},
   "source": [
    "## Rules to translate Data model in Table schema"
   ]
  },
  {
   "cell_type": "markdown",
   "id": "b73ba590",
   "metadata": {},
   "source": [
    "Main rules :\n",
    "\n",
    "* Each attribute in the data model if converted in a Field in the Table schema.\n",
    "* The type defined in the data model is converted in a Type / Format in the Table schema\n",
    "* Each Field has a 'derived' (or 'coupled' if the attribute is unique) relationship with the Field associated with the PK attribute of the same entity.\n",
    "* The relationship between two entities is converted in a relationship between the Fields associated to PK attributes\n",
    "* The cardinality with a 0 are translated with the same rules as the cardinalities with 1 (0 indicates that the Field is optional) \n",
    "* The cardinality of the data model relationships are translated as follows :\n",
    "  * 1 - 1 : \"coupled\"\n",
    "  * 1 - n : \"derived\"\n",
    "  * n - n : \"linked\" \n",
    "\n",
    "Additional rules:\n",
    "\n",
    "* If the Table schema has a \"PrimaryKey\" property, the \"derived\" relationships with the \"primaryKey\" Fields are implicit (the values of a \"primarykey\" Field are unique). They can be removed.\n"
   ]
  },
  {
   "cell_type": "markdown",
   "id": "b979b00d",
   "metadata": {},
   "source": [
    "## Table schema"
   ]
  },
  {
   "cell_type": "markdown",
   "id": "cf84c6ef",
   "metadata": {},
   "source": [
    "\n",
    "\n",
    "The deduced Data Schema is as follows:\n",
    "\n",
    "```json\n",
    "\"schema\": {\n",
    "  \"fields\": [\n",
    "    {\"name\": \"country\",    \"type\": \"string\"},\n",
    "    {\"name\": \"region\",     \"type\": \"string\"},\n",
    "    {\"name\": \"code\",       \"type\": \"string\"},\n",
    "    {\"name\": \"population\", \"type\": \"number\"},\n",
    "  ],\n",
    "    \"relationships\":\n",
    "      { \"fields\" : [ \"region\", \"population\"], \"description\" : \"attributes\",      \"link\" : \"derived\" },\n",
    "      { \"fields\" : [ \"region\", \"country\"],    \"description\" : \"brings_together\", \"link\" : \"derived\" },\n",
    " }\n",
    " ```"
   ]
  },
  {
   "cell_type": "markdown",
   "id": "2f6c03b3",
   "metadata": {},
   "source": [
    "The indication that the country code is unique for a country reinforces the relationship between \"code\" and \"country\" (it was \"derived\" and is now \"coupled\").\n",
    "So this relationship is added in the schema.\n",
    "To be consistent with the Data-model we can add the relationship between entities (but this constrinst will be always True).\n",
    "\n",
    "```json\n",
    "\"schema\": {\n",
    "  \"fields\": [\n",
    "    {\"name\": \"country\",    \"type\": \"string\"},\n",
    "    {\"name\": \"region\",     \"type\": \"string\"},\n",
    "    {\"name\": \"code\",       \"type\": \"string\"},\n",
    "    {\"name\": \"population\", \"type\": \"number\"},\n",
    "  ],\n",
    "  \"primaryKey\": \"country\"\n",
    "  \"relationships\": [\n",
    "      { \"fields\" : [ \"country\", \"code\"],      \"description\" : \"attributes\",      \"link\" : \"coupled\" },\n",
    "      { \"fields\" : [ \"region\", \"population\"], \"description\" : \"attributes\",      \"link\" : \"derived\" },\n",
    "      { \"fields\" : [ \"contry\", \"region\"],    \"description\" : \"brings_together\", \"link\" : \"derived\" }\n",
    "  ]\n",
    " }\n",
    " ```"
   ]
  },
  {
   "cell_type": "markdown",
   "id": "3c406e72",
   "metadata": {},
   "source": [
    "## Example : before check"
   ]
  },
  {
   "cell_type": "code",
   "execution_count": 21,
   "id": "59036fe9",
   "metadata": {},
   "outputs": [],
   "source": [
    "import pandas as pd\n",
    "import ntv_pandas as npd"
   ]
  },
  {
   "cell_type": "markdown",
   "id": "31b65b95",
   "metadata": {},
   "source": [
    "| country | region         | code  | population |\n",
    "|---------|----------------|-------|------------|\n",
    "| France  | European Union | FR    | 449        |\n",
    "| Spain   | European Union | ES    | 48         |\n",
    "| Estonia | European Union | ES    | 449        |\n",
    "| Nigeria | Africa         | NI    | 1460       |"
   ]
  },
  {
   "cell_type": "code",
   "execution_count": 24,
   "id": "c562e1c1",
   "metadata": {},
   "outputs": [],
   "source": [
    "example1 = {'country' :   ['France', 'Spain', 'Estonia', 'Nigeria'],\n",
    "            'region':     ['European Union', 'European Union', 'European Union', 'Africa'],\n",
    "            'code':       ['FR', 'ES', 'ES', 'NI'],\n",
    "            'population': [449, 48, 449, 1460]}\n",
    "ex1 = pd.DataFrame(example1)"
   ]
  },
  {
   "cell_type": "code",
   "execution_count": 31,
   "id": "8173543f",
   "metadata": {
    "scrolled": true
   },
   "outputs": [
    {
     "name": "stdout",
     "output_type": "stream",
     "text": [
      "country - code :  derived\n",
      "region - population :  derived False\n",
      "country - region :  derived True\n"
     ]
    }
   ],
   "source": [
    "ana1 = ex1.npd.analysis()\n",
    "print(\"country - code : \", ana1.get_relation('country', 'code').typecoupl)\n",
    "print(\"region - population : \", ana1.get_relation('region', 'population').typecoupl, \n",
    "      ana1.get_relation('region', 'population').parent_child)\n",
    "print(\"country - region : \", ana1.get_relation('country', 'region').typecoupl,\n",
    "     ana1.get_relation('country', 'region').parent_child)"
   ]
  },
  {
   "cell_type": "markdown",
   "id": "3e342e60",
   "metadata": {},
   "source": [
    "## Example : after corrections"
   ]
  },
  {
   "cell_type": "markdown",
   "id": "f5480cbb",
   "metadata": {},
   "source": [
    "| country | region         | code  | population |\n",
    "|---------|----------------|-------|------------|\n",
    "| France  | European Union | FR    | 449        |\n",
    "| Spain   | European Union | ES    | 449         |\n",
    "| Estonia | European Union | EE    | 449        |\n",
    "| Nigeria | Africa         | NI    | 1460       |"
   ]
  },
  {
   "cell_type": "code",
   "execution_count": 32,
   "id": "b205826b",
   "metadata": {},
   "outputs": [],
   "source": [
    "example1 = {'country' :   ['France', 'Spain', 'Estonia', 'Nigeria'],\n",
    "            'region':     ['European Union', 'European Union', 'European Union', 'Africa'],\n",
    "            'code':       ['FR', 'ES', 'EE', 'NI'],\n",
    "            'population': [449, 449, 449, 1460]}\n",
    "ex1 = pd.DataFrame(example1)"
   ]
  },
  {
   "cell_type": "code",
   "execution_count": 33,
   "id": "d69c2ae2",
   "metadata": {
    "scrolled": true
   },
   "outputs": [
    {
     "name": "stdout",
     "output_type": "stream",
     "text": [
      "country - code :  coupled\n",
      "region - population :  coupled True\n",
      "country - region :  derived True\n"
     ]
    }
   ],
   "source": [
    "ana1 = ex1.npd.analysis()\n",
    "print(\"country - code : \", ana1.get_relation('country', 'code').typecoupl)\n",
    "print(\"region - population : \", ana1.get_relation('region', 'population').typecoupl, \n",
    "      ana1.get_relation('region', 'population').parent_child)\n",
    "print(\"country - region : \", ana1.get_relation('country', 'region').typecoupl,\n",
    "     ana1.get_relation('country', 'region').parent_child)"
   ]
  }
 ],
 "metadata": {
  "kernelspec": {
   "display_name": "Python 3 (ipykernel)",
   "language": "python",
   "name": "python3"
  },
  "language_info": {
   "codemirror_mode": {
    "name": "ipython",
    "version": 3
   },
   "file_extension": ".py",
   "mimetype": "text/x-python",
   "name": "python",
   "nbconvert_exporter": "python",
   "pygments_lexer": "ipython3",
   "version": "3.10.9"
  }
 },
 "nbformat": 4,
 "nbformat_minor": 5
}
