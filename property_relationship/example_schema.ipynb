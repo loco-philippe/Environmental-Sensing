{
 "cells": [
  {
   "cell_type": "markdown",
   "id": "37bd4871",
   "metadata": {},
   "source": [
    "# Data model to Data schema\n",
    "------"
   ]
  },
  {
   "cell_type": "markdown",
   "id": "ab5c4c21",
   "metadata": {},
   "source": [
    "## Datamodel"
   ]
  },
  {
   "cell_type": "code",
   "execution_count": null,
   "id": "28b3f57a",
   "metadata": {},
   "outputs": [],
   "source": [
    "from base64 import b64encode\n",
    "from IPython.display import Image, display\n",
    "from json_ntv import Ntv, MermaidConnec"
   ]
  },
  {
   "cell_type": "code",
   "execution_count": 18,
   "id": "85bf54a1",
   "metadata": {},
   "outputs": [
    {
     "data": {
      "text/html": [
       "<img src=\"https://mermaid.ink/img/LS0tCnRpdGxlOiBjb3VudHJ5IGFuZCByZWdpb24KLS0tCmVyRGlhZ3JhbQogICAgQ09VTlRSWSB7CiAgICAgICAgc3RyaW5nIGNvdW50cnkgUEsKICAgICAgICBzdHJpbmcgY29kZSAiY29kZSBpcyB1bmlxdWUiCiAgICB9CiAgICBSRUdJT04gewogICAgICAgIHN0cmluZyByZWdpb24gUEsKICAgICAgICBpbnQgcG9wdWxhdGlvbgogICAgfQogICAgUkVHSU9OIHx8LS18eyBDT1VOVFJZIDogYnJpbmdzX3RvZ2V0aGVy\"/>"
      ],
      "text/plain": [
       "<IPython.core.display.Image object>"
      ]
     },
     "metadata": {},
     "output_type": "display_data"
    }
   ],
   "source": [
    "country = { \n",
    "    'country and region:$erDiagram' : { \n",
    "        'entity': {\n",
    "            'COUNTRY':  [ \n",
    "                ['string', 'country',  'PK' ], \n",
    "                ['string', 'code', 'code is unique'] \n",
    "            ], \n",
    "            'REGION': [ \n",
    "                ['string', 'region',  'PK'],\n",
    "                ['number',    'population'] \n",
    "            ]\n",
    "        },\n",
    "        'relationship': [ \n",
    "            [ 'REGION', 'exactly one', 'identifying', 'one or more', 'COUNTRY',     'brings_together']\n",
    "        ],\n",
    "\n",
    "     } }\n",
    "\n",
    "diag = MermaidConnec.diagram(country)\n",
    "display(Image(url=\"https://mermaid.ink/img/\" + b64encode(diag.encode(\"ascii\")).decode(\"ascii\")))"
   ]
  },
  {
   "cell_type": "markdown",
   "id": "b6714358",
   "metadata": {},
   "source": [
    "## Table schema"
   ]
  },
  {
   "cell_type": "markdown",
   "id": "b73ba590",
   "metadata": {},
   "source": [
    "The default relationship between an attribute and the PK of the entity is \"derived\".\n",
    "The derived relationships with the \"primary key\" of the Table Schema is implicit (the \"primary key\" is not duplicated).\n",
    "\n",
    "The deduced Data Schema is as follows:\n",
    "\n",
    "```json\n",
    "\"schema\": {\n",
    "  \"fields\": [\n",
    "    {\"name\": \"country\",    \"type\": \"string\"},\n",
    "    {\"name\": \"region\",     \"type\": \"string\"},\n",
    "    {\"name\": \"code\",       \"type\": \"string\"},\n",
    "    {\"name\": \"population\", \"type\": \"number\"},\n",
    "  ],\n",
    "  \"primaryKey\": \"country\"\n",
    "  \"relationships\":\n",
    "      { \"fields\" : [ \"region\", \"population\"], \"description\" : \"attributes\",      \"link\" : \"derived\" },\n",
    "      { \"fields\" : [ \"region\", \"country\"],    \"description\" : \"brings_together\", \"link\" : \"derived\" },\n",
    " }\n",
    " ```"
   ]
  },
  {
   "cell_type": "markdown",
   "id": "2f6c03b3",
   "metadata": {},
   "source": [
    "The indication that the country code is unique for a country reinforces the relationship between \"code\" and \"country\" (it was \"derived\" and is now \"coupled\").\n",
    "So this relationship is added in the schema.\n",
    "To be consistent with the Data-model we can add the relationship between entities (but this constrinst will be always True).\n",
    "\n",
    "```json\n",
    "\"schema\": {\n",
    "  \"fields\": [\n",
    "    {\"name\": \"country\",    \"type\": \"string\"},\n",
    "    {\"name\": \"region\",     \"type\": \"string\"},\n",
    "    {\"name\": \"code\",       \"type\": \"string\"},\n",
    "    {\"name\": \"population\", \"type\": \"number\"},\n",
    "  ],\n",
    "  \"primaryKey\": \"country\"\n",
    "  \"relationships\": [\n",
    "      { \"fields\" : [ \"country\", \"code\"],      \"description\" : \"attributes\",      \"link\" : \"coupled\" },\n",
    "      { \"fields\" : [ \"region\", \"population\"], \"description\" : \"attributes\",      \"link\" : \"derived\" },\n",
    "      { \"fields\" : [ \"contry\", \"region\"],    \"description\" : \"brings_together\", \"link\" : \"derived\" }\n",
    "  ]\n",
    " }\n",
    " ```"
   ]
  },
  {
   "cell_type": "markdown",
   "id": "3c406e72",
   "metadata": {},
   "source": [
    "## Example : before check"
   ]
  },
  {
   "cell_type": "code",
   "execution_count": 21,
   "id": "59036fe9",
   "metadata": {},
   "outputs": [],
   "source": [
    "import pandas as pd\n",
    "import ntv_pandas as npd"
   ]
  },
  {
   "cell_type": "markdown",
   "id": "31b65b95",
   "metadata": {},
   "source": [
    "| country | region         | code  | population |\n",
    "|---------|----------------|-------|------------|\n",
    "| France  | European Union | FR    | 449        |\n",
    "| Spain   | European Union | ES    | 48         |\n",
    "| Estonia | European Union | ES    | 449        |\n",
    "| Nigeria | Africa         | NI    | 1460       |"
   ]
  },
  {
   "cell_type": "code",
   "execution_count": 24,
   "id": "c562e1c1",
   "metadata": {},
   "outputs": [],
   "source": [
    "example1 = {'country' :   ['France', 'Spain', 'Estonia', 'Nigeria'],\n",
    "            'region':     ['European Union', 'European Union', 'European Union', 'Africa'],\n",
    "            'code':       ['FR', 'ES', 'ES', 'NI'],\n",
    "            'population': [449, 48, 449, 1460]}\n",
    "ex1 = pd.DataFrame(example1)"
   ]
  },
  {
   "cell_type": "code",
   "execution_count": 31,
   "id": "8173543f",
   "metadata": {
    "scrolled": true
   },
   "outputs": [
    {
     "name": "stdout",
     "output_type": "stream",
     "text": [
      "country - code :  derived\n",
      "region - population :  derived False\n",
      "country - region :  derived True\n"
     ]
    }
   ],
   "source": [
    "ana1 = ex1.npd.analysis()\n",
    "print(\"country - code : \", ana1.get_relation('country', 'code').typecoupl)\n",
    "print(\"region - population : \", ana1.get_relation('region', 'population').typecoupl, \n",
    "      ana1.get_relation('region', 'population').parent_child)\n",
    "print(\"country - region : \", ana1.get_relation('country', 'region').typecoupl,\n",
    "     ana1.get_relation('country', 'region').parent_child)"
   ]
  },
  {
   "cell_type": "markdown",
   "id": "3e342e60",
   "metadata": {},
   "source": [
    "## Example : after corrections"
   ]
  },
  {
   "cell_type": "markdown",
   "id": "f5480cbb",
   "metadata": {},
   "source": [
    "| country | region         | code  | population |\n",
    "|---------|----------------|-------|------------|\n",
    "| France  | European Union | FR    | 449        |\n",
    "| Spain   | European Union | ES    | 449         |\n",
    "| Estonia | European Union | EE    | 449        |\n",
    "| Nigeria | Africa         | NI    | 1460       |"
   ]
  },
  {
   "cell_type": "code",
   "execution_count": 32,
   "id": "b205826b",
   "metadata": {},
   "outputs": [],
   "source": [
    "example1 = {'country' :   ['France', 'Spain', 'Estonia', 'Nigeria'],\n",
    "            'region':     ['European Union', 'European Union', 'European Union', 'Africa'],\n",
    "            'code':       ['FR', 'ES', 'EE', 'NI'],\n",
    "            'population': [449, 449, 449, 1460]}\n",
    "ex1 = pd.DataFrame(example1)"
   ]
  },
  {
   "cell_type": "code",
   "execution_count": 33,
   "id": "d69c2ae2",
   "metadata": {
    "scrolled": true
   },
   "outputs": [
    {
     "name": "stdout",
     "output_type": "stream",
     "text": [
      "country - code :  coupled\n",
      "region - population :  coupled True\n",
      "country - region :  derived True\n"
     ]
    }
   ],
   "source": [
    "ana1 = ex1.npd.analysis()\n",
    "print(\"country - code : \", ana1.get_relation('country', 'code').typecoupl)\n",
    "print(\"region - population : \", ana1.get_relation('region', 'population').typecoupl, \n",
    "      ana1.get_relation('region', 'population').parent_child)\n",
    "print(\"country - region : \", ana1.get_relation('country', 'region').typecoupl,\n",
    "     ana1.get_relation('country', 'region').parent_child)"
   ]
  }
 ],
 "metadata": {
  "kernelspec": {
   "display_name": "Python 3 (ipykernel)",
   "language": "python",
   "name": "python3"
  },
  "language_info": {
   "codemirror_mode": {
    "name": "ipython",
    "version": 3
   },
   "file_extension": ".py",
   "mimetype": "text/x-python",
   "name": "python",
   "nbconvert_exporter": "python",
   "pygments_lexer": "ipython3",
   "version": "3.10.9"
  }
 },
 "nbformat": 4,
 "nbformat_minor": 5
}
