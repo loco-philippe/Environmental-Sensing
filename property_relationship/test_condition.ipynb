{
 "cells": [
  {
   "cell_type": "markdown",
   "id": "9a6f6ff3",
   "metadata": {},
   "source": [
    "# Table Schema extension:  conditional constraints"
   ]
  },
  {
   "cell_type": "markdown",
   "id": "510b0a47",
   "metadata": {},
   "source": [
    "This Notebook presents an example of implementing conditional constrainst between Fields."
   ]
  },
  {
   "cell_type": "markdown",
   "id": "542d8e8f",
   "metadata": {},
   "source": [
    "## Example 1\n",
    "The choosen example is :\n",
    "\n",
    "| observationType | scientificName |\n",
    "|-----------------|----------------|\n",
    "| animal          | Vulpes vulpes  |\n",
    "| tree            | null           |\n",
    "| animal          | null           |\n",
    "\n",
    "The constraint to check is :    \n",
    "\n",
    "    if the observationType is an animal, the scientificName has to be not null\n",
    "    \n",
    "This conditional constraint is applicable to the rows and is validated for the two first rows but not for the last. "
   ]
  },
  {
   "cell_type": "markdown",
   "id": "c4a8abc2",
   "metadata": {},
   "source": [
    "### Proposal\n",
    "\n",
    "JSON schema proposes two solutions:\n",
    "\n",
    "- schema composition (keywords `allOf`, `anyOf` and `oneOf`)\n",
    "- conditional schema (keywords `if`, `then`, `else`)\n",
    "\n",
    "The Table Schema solution can therefore consist of applying JSON schema rules for each row.\n",
    "\n",
    "Note: Both JSON schema solutions are equivalent (`if A then B` is equivalent as `B or Not A`)\n"
   ]
  },
  {
   "cell_type": "markdown",
   "id": "de6ed3a8",
   "metadata": {},
   "source": [
    "### Python example\n",
    "The next cell is the application of the proposal (both equivalent options are included).\n",
    "\n",
    "Note: The JSON schema uses the `properties` keyword to define the data to check (not used here). \n"
   ]
  },
  {
   "cell_type": "code",
   "execution_count": 1,
   "id": "3faa3e9d",
   "metadata": {},
   "outputs": [],
   "source": [
    "from frictionless import Resource, Schema\n",
    "\n",
    "animal = Resource(data=[['observationType', 'scientificName'], \n",
    "                        ['animal',  'Vulpes vulpes'], \n",
    "                        ['tree',  'null'],\n",
    "                        ['animal',  'null']\n",
    "                        ])\n",
    "schema = { \"fields\": [\n",
    "                {\"name\": \"observationType\", \"type\": \"string\"}, \n",
    "                {\"name\": \"scientificName\", \"type\": \"string\"}], \n",
    "           \"anyOf\": [ \n",
    "                {\"observationType\": { \"not\": { \"const\": \"animal\" }}},\n",
    "                {\"scientificName\": { \"not\": {\"const\": \"null\"}}}],\n",
    "           \"if\":\n",
    "                {\"observationType\": { \"const\": \"animal\" }},\n",
    "           \"then\":\n",
    "                {\"scientificName\": { \"not\": {\"const\": \"null\"}}}\n",
    "}\n",
    "animal.schema = Schema.from_descriptor(schema)"
   ]
  },
  {
   "cell_type": "markdown",
   "id": "1267964c",
   "metadata": {},
   "source": [
    "### Implementation\n",
    "A row is represented in Table Schema as a JSON object :\n",
    "\n",
    " ```json\n",
    "    { \"observationType\": \"animal\", \"scientificName\": \"Vulpes vulpes\" }\n",
    " ```\n",
    "  \n",
    "The JSON schema applicable to the rows are :\n",
    "\n",
    " ```json\n",
    "    {\"anyOf\": [ \n",
    "            {\"properties\": {\"observationType\": { \"not\": { \"const\": \"animal\" }}}},\n",
    "            {\"properties\": {\"scientificName\": { \"not\": {\"const\": \"null\"}}}}]}\n",
    " ```            \n",
    "and \n",
    "\n",
    " ```json\n",
    "    {\"if\":\n",
    "           {\"properties\": {\"observationType\": { \"const\": \"animal\" }}},\n",
    "     \"then\":\n",
    "           {\"properties\": {\"scientificName\": { \"not\": {\"const\": \"null\"}}}}}\n",
    " ```          \n",
    "The implementation proposes to convert the schema into a JSON schema (add `properties` keyword) then apply this JSON schema for each row."
   ]
  },
  {
   "cell_type": "code",
   "execution_count": 2,
   "id": "308ae0c9",
   "metadata": {},
   "outputs": [],
   "source": [
    "import attrs\n",
    "import frictionless\n",
    "import jsonschema\n",
    "from frictionless import Check, Row\n",
    "from frictionless.errors import RowError\n",
    "\n",
    "keywords = ['anyOf', 'properties', 'not', 'const', 'fields', 'anyOf', 'allOf', 'oneOf', 'if', 'then', 'else', 'enum']\n",
    "\n",
    "def validate(resource):\n",
    "    checks = [Composition({key:resource.schema.custom[key]}) \n",
    "              for key in resource.schema.custom if key in ['allOf', 'anyOf', 'oneOf']]\n",
    "    if 'if' in resource.schema.custom:\n",
    "        checks += [Composition({key:resource.schema.custom[key] \n",
    "                               for key in resource.schema.custom \n",
    "                               if key in ['if', 'then', 'else']})]\n",
    "    return frictionless.validate(resource, checks=checks)\n",
    "\n",
    "def add_prop(json_value):\n",
    "    '''add \"properties\" keyword for JSON Schema check'''\n",
    "    if isinstance(json_value, list):\n",
    "        return [add_prop(val) for val in json_value]\n",
    "    if isinstance(json_value, dict) and len(json_value) > 1 :\n",
    "        return {key: add_prop(val) for key, val in json_value.items()}\n",
    "    if isinstance(json_value, dict) and len(json_value) == 1 :\n",
    "        key_val = list(json_value)[0]\n",
    "        if key_val in keywords:\n",
    "            return {key: add_prop(val) for key, val in json_value.items()}\n",
    "        return {'properties': {key_val: add_prop(json_value[key_val])}}\n",
    "    return json_value\n",
    "    \n",
    "class CompositionError(RowError):\n",
    "    title = None\n",
    "    type = 'Composition'\n",
    "    description = None\n",
    "\n",
    "@attrs.define(kw_only=True, repr=False)\n",
    "class Composition(Check):\n",
    "    \"\"\"Check a Composition of schemas\"\"\"\n",
    "\n",
    "    Errors = [CompositionError]\n",
    "\n",
    "    def __init__(self, descriptor):\n",
    "        super().__init__()\n",
    "        self.__composition = add_prop(descriptor)\n",
    "        self.__descriptor = descriptor \n",
    "        \n",
    "    def validate_row(self, row: Row):        \n",
    "        try:\n",
    "            jsonschema.validate(row, self.__composition)\n",
    "        except Exception:\n",
    "            note = 'the row is not conform to schema : ' + str(self.__descriptor)[0:15] + '...'\n",
    "            yield CompositionError.from_row(row, note=note)"
   ]
  },
  {
   "cell_type": "markdown",
   "id": "99034d01",
   "metadata": {},
   "source": [
    "### Tests\n",
    "The validate function detects two errors :\n",
    "\n",
    "- last Field with `anyOf` keyword,\n",
    "- last Field with `if` keyword,"
   ]
  },
  {
   "cell_type": "code",
   "execution_count": 3,
   "id": "5c0eea22",
   "metadata": {
    "scrolled": false
   },
   "outputs": [
    {
     "data": {
      "text/plain": [
       "{'valid': False,\n",
       " 'stats': {'tasks': 1, 'errors': 2, 'warnings': 0, 'seconds': 0.048},\n",
       " 'warnings': [],\n",
       " 'errors': [],\n",
       " 'tasks': [{'name': 'memory',\n",
       "            'type': 'table',\n",
       "            'valid': False,\n",
       "            'place': '<memory>',\n",
       "            'labels': ['observationType', 'scientificName'],\n",
       "            'stats': {'errors': 2,\n",
       "                      'warnings': 0,\n",
       "                      'seconds': 0.048,\n",
       "                      'fields': 2,\n",
       "                      'rows': 3},\n",
       "            'warnings': [],\n",
       "            'errors': [{'type': 'Composition',\n",
       "                        'message': 'Row Error',\n",
       "                        'tags': ['#table', '#row'],\n",
       "                        'note': \"the row is not conform to schema : {'anyOf': \"\n",
       "                                \"[{'ob...\",\n",
       "                        'cells': ['animal', 'null'],\n",
       "                        'rowNumber': 4},\n",
       "                       {'type': 'Composition',\n",
       "                        'message': 'Row Error',\n",
       "                        'tags': ['#table', '#row'],\n",
       "                        'note': \"the row is not conform to schema : {'if': \"\n",
       "                                \"{'observ...\",\n",
       "                        'cells': ['animal', 'null'],\n",
       "                        'rowNumber': 4}]}]}"
      ]
     },
     "execution_count": 3,
     "metadata": {},
     "output_type": "execute_result"
    }
   ],
   "source": [
    "validate(animal)"
   ]
  },
  {
   "cell_type": "markdown",
   "id": "2273ab6c",
   "metadata": {},
   "source": [
    "The test with the correct values (\"Vulpes velox\" for the last row) does not detect any errors."
   ]
  },
  {
   "cell_type": "code",
   "execution_count": 4,
   "id": "dacd33e4",
   "metadata": {},
   "outputs": [
    {
     "data": {
      "text/plain": [
       "{'valid': True,\n",
       " 'stats': {'tasks': 1, 'errors': 0, 'warnings': 0, 'seconds': 0.016},\n",
       " 'warnings': [],\n",
       " 'errors': [],\n",
       " 'tasks': [{'name': 'memory',\n",
       "            'type': 'table',\n",
       "            'valid': True,\n",
       "            'place': '<memory>',\n",
       "            'labels': ['observationType', 'scientificName'],\n",
       "            'stats': {'errors': 0,\n",
       "                      'warnings': 0,\n",
       "                      'seconds': 0.016,\n",
       "                      'fields': 2,\n",
       "                      'rows': 3},\n",
       "            'warnings': [],\n",
       "            'errors': []}]}"
      ]
     },
     "execution_count": 4,
     "metadata": {},
     "output_type": "execute_result"
    }
   ],
   "source": [
    "animal_2 = Resource(data=[['observationType', 'scientificName'], \n",
    "                          ['animal',  'Vulpes vulpes'], \n",
    "                          ['tree',  'null'],\n",
    "                          ['animal',  'Vulpes velox']\n",
    "                         ])\n",
    "animal_2.schema = Schema.from_descriptor(schema)\n",
    "\n",
    "validate(animal_2)"
   ]
  },
  {
   "cell_type": "markdown",
   "id": "001bb366",
   "metadata": {},
   "source": [
    "## Example 2"
   ]
  },
  {
   "cell_type": "markdown",
   "id": "9bff176e",
   "metadata": {},
   "source": [
    "The choosen example is :\n",
    "\n",
    "| measurementType | measurementValue |\n",
    "|-----------------|------------------|\n",
    "| cloudiness      | partly cloudy    |\n",
    "| temperature     | 15               |\n",
    "| wind force      | 4                |\n",
    "| wind force      | high             |\n",
    "| temperature     | -2               |\n",
    "| cloudiness      | very very cloudy |\n",
    "\n",
    "The constraint to check is :    \n",
    "\n",
    "    measurementType: can have the values cloudiness, temperature and wind force\n",
    "    measurementValue: which has actual measurement, with a type and values that depend on measurementType:\n",
    "\n",
    "    if measurementType = cloudiness then measurementValue:\n",
    "        type = string\n",
    "        constraints.enum = [\"clear\", \"mostly clear\", \"partly cloudy\", \"mostly cloudy\", \"cloudy\", \"unknown\"]\n",
    "    If measurementType = temperature then measurementValue:\n",
    "        type = number\n",
    "        constraints.min = 0\n",
    "        constraints.max = 20\n",
    "    If measurementType = wind force then measurementValue:\n",
    "        type = integer\n",
    "        constraints.enum = [0, 1, 2, 3, 4, 5]\n",
    "  \n",
    " This conditional constraints are applicable to the rows and are validated for the three first rows but not for the three last. "
   ]
  },
  {
   "cell_type": "markdown",
   "id": "92e0a506",
   "metadata": {},
   "source": [
    "### Python representation"
   ]
  },
  {
   "cell_type": "code",
   "execution_count": 5,
   "id": "186f01b6",
   "metadata": {},
   "outputs": [],
   "source": [
    "meteo = Resource(data=[['measurementType', 'measurementValue'],\n",
    "                       ['cloudiness',      'partly cloudy'   ],\n",
    "                       ['temperature',     15                ],\n",
    "                       ['wind force',      4                 ],\n",
    "                       ['wind force',      'high'            ],\n",
    "                       ['temperature',     -2                ],\n",
    "                       ['cloudiness',      'very very cloudy']\n",
    "                        ])\n",
    "\n",
    "schema = { \"fields\": [\n",
    "                {\"name\": \"measurementType\", \"type\": \"string\", \"enum\": ['cloudiness', 'temperature', 'wind force']},\n",
    "                {\"name\": \"measurementValue\", \"type\": \"any\"}], \n",
    "           \"allOf\": [ \n",
    "               {\"if\":\n",
    "                    {\"measurementType\": { \"const\": \"cloudiness\" }},\n",
    "                \"then\":\n",
    "                    {\"measurementValue\": { \"type\" : \"string\", \n",
    "                          \"enum\" : [\"clear\", \"mostly clear\", \"partly cloudy\", \"mostly cloudy\", \"cloudy\", \"unknown\"]}}},\n",
    "               {\"if\":\n",
    "                    {\"measurementType\": { \"const\": \"temperature\" }},\n",
    "                \"then\":\n",
    "                    {\"measurementValue\": { \"type\" : \"number\", \"minimum\" : 0, \"maximum\": 20}}},\n",
    "               {\"if\":\n",
    "                    {\"measurementType\": { \"const\": \"wind force\" }},\n",
    "                \"then\":\n",
    "                    {\"measurementValue\": { \"type\" : \"integer\", \"enum\" : [0, 1, 2, 3, 4, 5]}}}\n",
    "               ]      \n",
    "         \n",
    "         }\n",
    "meteo.schema = Schema.from_descriptor(schema)"
   ]
  },
  {
   "cell_type": "markdown",
   "id": "4f7ff507",
   "metadata": {},
   "source": [
    "### Tests\n",
    "The validate function detects three errors (last three rows)"
   ]
  },
  {
   "cell_type": "code",
   "execution_count": 6,
   "id": "ab76fecb",
   "metadata": {
    "scrolled": false
   },
   "outputs": [
    {
     "data": {
      "text/plain": [
       "{'valid': False,\n",
       " 'stats': {'tasks': 1, 'errors': 3, 'warnings': 0, 'seconds': 0.05},\n",
       " 'warnings': [],\n",
       " 'errors': [],\n",
       " 'tasks': [{'name': 'memory',\n",
       "            'type': 'table',\n",
       "            'valid': False,\n",
       "            'place': '<memory>',\n",
       "            'labels': ['measurementType', 'measurementValue'],\n",
       "            'stats': {'errors': 3,\n",
       "                      'warnings': 0,\n",
       "                      'seconds': 0.05,\n",
       "                      'fields': 2,\n",
       "                      'rows': 6},\n",
       "            'warnings': [],\n",
       "            'errors': [{'type': 'Composition',\n",
       "                        'message': 'Row Error',\n",
       "                        'tags': ['#table', '#row'],\n",
       "                        'note': \"the row is not conform to schema : {'allOf': \"\n",
       "                                \"[{'if...\",\n",
       "                        'cells': ['wind force', 'high'],\n",
       "                        'rowNumber': 5},\n",
       "                       {'type': 'Composition',\n",
       "                        'message': 'Row Error',\n",
       "                        'tags': ['#table', '#row'],\n",
       "                        'note': \"the row is not conform to schema : {'allOf': \"\n",
       "                                \"[{'if...\",\n",
       "                        'cells': ['temperature', '-2'],\n",
       "                        'rowNumber': 6},\n",
       "                       {'type': 'Composition',\n",
       "                        'message': 'Row Error',\n",
       "                        'tags': ['#table', '#row'],\n",
       "                        'note': \"the row is not conform to schema : {'allOf': \"\n",
       "                                \"[{'if...\",\n",
       "                        'cells': ['cloudiness', 'very very cloudy'],\n",
       "                        'rowNumber': 7}]}]}"
      ]
     },
     "execution_count": 6,
     "metadata": {},
     "output_type": "execute_result"
    }
   ],
   "source": [
    "validate(meteo)"
   ]
  },
  {
   "cell_type": "markdown",
   "id": "ef3bbd9a",
   "metadata": {},
   "source": [
    "The test with the correct values does not detect any errors."
   ]
  },
  {
   "cell_type": "code",
   "execution_count": 7,
   "id": "485c6a2f",
   "metadata": {},
   "outputs": [
    {
     "data": {
      "text/plain": [
       "{'valid': True,\n",
       " 'stats': {'tasks': 1, 'errors': 0, 'warnings': 0, 'seconds': 0.05},\n",
       " 'warnings': [],\n",
       " 'errors': [],\n",
       " 'tasks': [{'name': 'memory',\n",
       "            'type': 'table',\n",
       "            'valid': True,\n",
       "            'place': '<memory>',\n",
       "            'labels': ['measurementType', 'measurementValue'],\n",
       "            'stats': {'errors': 0,\n",
       "                      'warnings': 0,\n",
       "                      'seconds': 0.05,\n",
       "                      'fields': 2,\n",
       "                      'rows': 6},\n",
       "            'warnings': [],\n",
       "            'errors': []}]}"
      ]
     },
     "execution_count": 7,
     "metadata": {},
     "output_type": "execute_result"
    }
   ],
   "source": [
    "meteo_2 = Resource(data=[['measurementType', 'measurementValue'],\n",
    "                         ['cloudiness',      'partly cloudy'   ],\n",
    "                         ['temperature',     15                ],\n",
    "                         ['wind force',      4                 ],\n",
    "                         ['wind force',      0                 ],\n",
    "                         ['temperature',     2.5               ],\n",
    "                         ['cloudiness',      'cloudy'          ]\n",
    "                        ])\n",
    "meteo_2.schema = Schema.from_descriptor(schema)\n",
    "\n",
    "validate(meteo_2)"
   ]
  }
 ],
 "metadata": {
  "kernelspec": {
   "display_name": "Python 3 (ipykernel)",
   "language": "python",
   "name": "python3"
  },
  "language_info": {
   "codemirror_mode": {
    "name": "ipython",
    "version": 3
   },
   "file_extension": ".py",
   "mimetype": "text/x-python",
   "name": "python",
   "nbconvert_exporter": "python",
   "pygments_lexer": "ipython3",
   "version": "3.10.9"
  }
 },
 "nbformat": 4,
 "nbformat_minor": 5
}
