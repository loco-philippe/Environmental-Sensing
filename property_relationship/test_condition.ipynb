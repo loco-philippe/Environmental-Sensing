{
 "cells": [
  {
   "cell_type": "markdown",
   "id": "9a6f6ff3",
   "metadata": {},
   "source": [
    "# Test conditional constraints"
   ]
  },
  {
   "cell_type": "markdown",
   "id": "542d8e8f",
   "metadata": {},
   "source": [
    "## Example\n",
    "The constraint to check is :    \n",
    "\n",
    "    if the observationType is an animal, the scientificName has to be not null\n",
    "    \n",
    "A DataFrame example is used to show the validation of the constraint"
   ]
  },
  {
   "cell_type": "code",
   "execution_count": 1,
   "id": "43992378",
   "metadata": {},
   "outputs": [],
   "source": [
    "import pandas as pd\n",
    "\n",
    "df_ko = pd.DataFrame({'observationType': ['animal', 'tree', 'animal'], \n",
    "                      'scientificName': ['Vulpes vulpes', 'null', 'null']})\n",
    "\n",
    "df_ok = pd.DataFrame({'observationType': ['animal', 'tree', 'animal'], \n",
    "                      'scientificName': ['Vulpes vulpes', 'null', 'Vulpes cana']})"
   ]
  },
  {
   "cell_type": "markdown",
   "id": "ee34a535",
   "metadata": {},
   "source": [
    "## option 1 : ifField\n",
    "\n",
    "`ifField` defines a boolean Field used as a filter.    \n",
    "`thenField` defines a constraints applicable to the filtered Field (True values of the filter)    \n",
    "`elseField` defines a constraints applicable to the filtered Field (False values of the filter)    \n"
   ]
  },
  {
   "cell_type": "code",
   "execution_count": 2,
   "id": "c4fdb111",
   "metadata": {},
   "outputs": [
    {
     "data": {
      "text/plain": [
       "{'ifField': {'observationType': {'const': 'animal'}},\n",
       " 'thenField': {'scientificName': {'not': {'const': 'null'}}}}"
      ]
     },
     "execution_count": 2,
     "metadata": {},
     "output_type": "execute_result"
    }
   ],
   "source": [
    "# example of schema\n",
    "\n",
    "{\"ifField\": {\n",
    "    \"observationType\": { \"const\": \"animal\" }}, # defines a boolean Field\n",
    " \"thenField\": {\n",
    "    \"scientificName\": { \"not\": {\"const\": \"null\"}}} #constraint for the 'scientific_name' Field\n",
    "}\n"
   ]
  },
  {
   "cell_type": "code",
   "execution_count": 3,
   "id": "2cfe8730",
   "metadata": {},
   "outputs": [
    {
     "name": "stdout",
     "output_type": "stream",
     "text": [
      "True False\n"
     ]
    }
   ],
   "source": [
    "# pandas equivalence\n",
    "\n",
    "if_field_ok = df_ok['observationType'] == 'animal'\n",
    "then_field_ok = (df_ok.loc[if_field_ok]['scientificName'] != 'null').all()\n",
    "\n",
    "if_field_ko = df_ko['observationType'] == 'animal'\n",
    "then_field_ko = (df_ko.loc[if_field_ko]['scientificName'] != 'null').all()\n",
    "\n",
    "print(then_field_ok, then_field_ko)"
   ]
  },
  {
   "cell_type": "markdown",
   "id": "50f09cf5",
   "metadata": {},
   "source": [
    "## option 2 : allOfField-anyOfField\n",
    "\n",
    "`allOfField` is an AND between boolean Fields.     \n",
    "`anyOfField`  is an OR between boolean Fields \n",
    "\n"
   ]
  },
  {
   "cell_type": "code",
   "execution_count": 6,
   "id": "68c86e84",
   "metadata": {},
   "outputs": [
    {
     "data": {
      "text/plain": [
       "{'anyOfField': {'observationType': {'not': {'const': 'animal'}},\n",
       "  'scientificName': {'not': {'const': 'null'}}}}"
      ]
     },
     "execution_count": 6,
     "metadata": {},
     "output_type": "execute_result"
    }
   ],
   "source": [
    "# example of schema\n",
    "\n",
    "{\"anyOfField\": { \n",
    "    \"observationType\": { \"not\": { \"const\": \"animal\" }}, # defines a boolean Field\n",
    "    \"scientificName\": { \"not\": {\"const\": \"null\"}}} # defines a boolean Field\n",
    "}\n",
    "# 'if A then B' is equivalent as 'B or Not A'"
   ]
  },
  {
   "cell_type": "code",
   "execution_count": 5,
   "id": "da7c74aa",
   "metadata": {},
   "outputs": [
    {
     "name": "stdout",
     "output_type": "stream",
     "text": [
      "True False\n"
     ]
    }
   ],
   "source": [
    "# pandas equivalence\n",
    "\n",
    "bool_field1_ok = df_ok['observationType'] != 'animal'\n",
    "bool_field2_ok = df_ok['scientificName'] != 'null'\n",
    "valid_ok = (bool_field1_ok | bool_field2_ok).all()\n",
    "\n",
    "bool_field1_ko = df_ko['observationType'] != 'animal'\n",
    "bool_field2_ko = df_ko['scientificName'] != 'null'\n",
    "valid_ko = (bool_field1_ko | bool_field2_ko).all()\n",
    "\n",
    "print(valid_ok, valid_ko)"
   ]
  }
 ],
 "metadata": {
  "kernelspec": {
   "display_name": "Python 3 (ipykernel)",
   "language": "python",
   "name": "python3"
  },
  "language_info": {
   "codemirror_mode": {
    "name": "ipython",
    "version": 3
   },
   "file_extension": ".py",
   "mimetype": "text/x-python",
   "name": "python",
   "nbconvert_exporter": "python",
   "pygments_lexer": "ipython3",
   "version": "3.10.9"
  }
 },
 "nbformat": 4,
 "nbformat_minor": 5
}
