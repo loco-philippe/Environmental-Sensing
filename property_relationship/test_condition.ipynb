{
 "cells": [
  {
   "cell_type": "markdown",
   "id": "9a6f6ff3",
   "metadata": {},
   "source": [
    "# Table Schema extension:  conditional constraints"
   ]
  },
  {
   "cell_type": "markdown",
   "id": "c5a868a4",
   "metadata": {},
   "source": [
    "This Notebook presents an example of implementing conditional constrainst between Fields."
   ]
  },
  {
   "cell_type": "markdown",
   "id": "542d8e8f",
   "metadata": {},
   "source": [
    "## Example\n",
    "The choosen example is :\n",
    "\n",
    "| observationType | scientificName |\n",
    "|-----------------|----------------|\n",
    "| animal          | Vulpes vulpes  |\n",
    "| tree            | null           |\n",
    "| animal          | null           |\n",
    "\n",
    "The constraint to check is :    \n",
    "\n",
    "    if the observationType is an animal, the scientificName has to be not null\n",
    "    \n",
    "This conditional constraint is applicable to the rows and is validated for the two first rows but not for the last. "
   ]
  },
  {
   "cell_type": "markdown",
   "id": "f662e796",
   "metadata": {},
   "source": [
    "## Proposal\n",
    "\n",
    "JSON schema proposes two solutions:\n",
    "\n",
    "- schema composition (keywords `allOf`, `anyOf` and `oneOf`)\n",
    "- conditional schema (keywords `if`, `then`, `else`)\n",
    "\n",
    "The Table Schema solution can therefore consist of applying JSON schema rules for each row.\n",
    "\n",
    "Note: Both JSON schema solutions are equivalent (`if A then B` is equivalent as `B or Not A`)\n"
   ]
  },
  {
   "cell_type": "markdown",
   "id": "bae28ebf",
   "metadata": {},
   "source": [
    "## Python example\n",
    "The next cell is the application of the proposal (both equivalent options are included).\n",
    "\n",
    "Note: The JSON schema uses the `properties` keyword to define the data to check (not used here). \n"
   ]
  },
  {
   "cell_type": "code",
   "execution_count": 1,
   "id": "e05548e2",
   "metadata": {},
   "outputs": [],
   "source": [
    "from frictionless import Resource, Schema\n",
    "\n",
    "animal = Resource(data=[['observationType', 'scientificName'], \n",
    "                        ['animal',  'Vulpes vulpes'], \n",
    "                        ['tree',  'null'],\n",
    "                        ['animal',  'null']\n",
    "                        ])\n",
    "schema = { \"fields\": [\n",
    "                {\"name\": \"observationType\", \"type\": \"string\"}, \n",
    "                {\"name\": \"scientificName\", \"type\": \"string\"}], \n",
    "           \"anyOf\": [ \n",
    "                {\"observationType\": { \"not\": { \"const\": \"animal\" }}},\n",
    "                {\"scientificName\": { \"not\": {\"const\": \"null\"}}}],\n",
    "           \"if\":\n",
    "                {\"observationType\": { \"const\": \"animal\" }},\n",
    "           \"then\":\n",
    "                {\"scientificName\": { \"not\": {\"const\": \"null\"}}}\n",
    "}\n",
    "animal.schema = Schema.from_descriptor(schema)"
   ]
  },
  {
   "cell_type": "markdown",
   "id": "c1e1ee1f",
   "metadata": {},
   "source": [
    "## Implementation\n",
    "A row is represented in Table Schema as a JSON object :\n",
    "\n",
    " ```json\n",
    "    { \"observationType\": \"animal\", \"scientificName\": \"Vulpes vulpes\" }\n",
    " ```\n",
    "  \n",
    "The JSON schema applicable to the rows are :\n",
    "\n",
    " ```json\n",
    "    {\"anyOf\": [ \n",
    "            {\"properties\": {\"observationType\": { \"not\": { \"const\": \"animal\" }}}},\n",
    "            {\"properties\": {\"scientificName\": { \"not\": {\"const\": \"null\"}}}}]}\n",
    " ```            \n",
    "and \n",
    "\n",
    " ```json\n",
    "    {\"if\":\n",
    "           {\"properties\": {\"observationType\": { \"const\": \"animal\" }}},\n",
    "     \"then\":\n",
    "           {\"properties\": {\"scientificName\": { \"not\": {\"const\": \"null\"}}}}}\n",
    " ```          \n",
    "The implementation proposes to convert the schema into a JSON schema (add `properties` keyword) then apply this JSON schema for each row."
   ]
  },
  {
   "cell_type": "code",
   "execution_count": 2,
   "id": "05bff04e",
   "metadata": {},
   "outputs": [],
   "source": [
    "import attrs\n",
    "import frictionless\n",
    "import jsonschema\n",
    "from frictionless import Check, Row\n",
    "from frictionless.errors import RowError\n",
    "\n",
    "def validate(resource):\n",
    "    checks = [Composition({key:resource.schema.custom[key]}) \n",
    "              for key in resource.schema.custom if key in ['allOf', 'anyOf', 'oneOf']]\n",
    "    if 'if' in resource.schema.custom:\n",
    "        checks += [Composition({key:resource.schema.custom[key] \n",
    "                               for key in resource.schema.custom \n",
    "                               if key in ['if', 'then', 'else']})]\n",
    "    return frictionless.validate(resource, checks=checks)\n",
    "    \n",
    "class CompositionError(RowError):\n",
    "    title = None\n",
    "    type = 'Composition'\n",
    "    description = None\n",
    "\n",
    "@attrs.define(kw_only=True, repr=False)\n",
    "class Composition(Check):\n",
    "    \"\"\"Check a Composition of schemas\"\"\"\n",
    "\n",
    "    Errors = [CompositionError]\n",
    "    \n",
    "    def __init__(self, descriptor):\n",
    "        super().__init__()\n",
    "        if len(descriptor) == 1:\n",
    "            cat = list(descriptor)[0]\n",
    "            self.__composition = {cat:[{'properties':desc} for desc in descriptor[cat]]}\n",
    "        else:\n",
    "            self.__composition = {cat:{'properties':descriptor[cat]} for cat in list(descriptor)}\n",
    "        self.__descriptor = descriptor \n",
    "        \n",
    "    def validate_row(self, row: Row):        \n",
    "        try:\n",
    "            jsonschema.validate(row, self.__composition)\n",
    "        except Exception:\n",
    "            note = 'the row is not conform to schema : ' + str(self.__descriptor)\n",
    "            yield CompositionError.from_row(row, note=note)"
   ]
  },
  {
   "cell_type": "markdown",
   "id": "b4135030",
   "metadata": {},
   "source": [
    "## Tests\n",
    "The validate function detects two errors :\n",
    "\n",
    "- last Field with `anyOf` keyword,\n",
    "- last Field with `if` keyword,"
   ]
  },
  {
   "cell_type": "code",
   "execution_count": 3,
   "id": "714dd954",
   "metadata": {},
   "outputs": [
    {
     "data": {
      "text/plain": [
       "{'valid': False,\n",
       " 'stats': {'tasks': 1, 'errors': 2, 'warnings': 0, 'seconds': 0.029},\n",
       " 'warnings': [],\n",
       " 'errors': [],\n",
       " 'tasks': [{'name': 'memory',\n",
       "            'type': 'table',\n",
       "            'valid': False,\n",
       "            'place': '<memory>',\n",
       "            'labels': ['observationType', 'scientificName'],\n",
       "            'stats': {'errors': 2,\n",
       "                      'warnings': 0,\n",
       "                      'seconds': 0.029,\n",
       "                      'fields': 2,\n",
       "                      'rows': 3},\n",
       "            'warnings': [],\n",
       "            'errors': [{'type': 'Composition',\n",
       "                        'message': 'Row Error',\n",
       "                        'tags': ['#table', '#row'],\n",
       "                        'note': \"the row is not conform to schema : {'anyOf': \"\n",
       "                                \"[{'observationType': {'not': {'const': \"\n",
       "                                \"'animal'}}}, {'scientificName': {'not': \"\n",
       "                                \"{'const': 'null'}}}]}\",\n",
       "                        'cells': ['animal', 'null'],\n",
       "                        'rowNumber': 4},\n",
       "                       {'type': 'Composition',\n",
       "                        'message': 'Row Error',\n",
       "                        'tags': ['#table', '#row'],\n",
       "                        'note': \"the row is not conform to schema : {'if': \"\n",
       "                                \"{'observationType': {'const': 'animal'}}, \"\n",
       "                                \"'then': {'scientificName': {'not': {'const': \"\n",
       "                                \"'null'}}}}\",\n",
       "                        'cells': ['animal', 'null'],\n",
       "                        'rowNumber': 4}]}]}"
      ]
     },
     "execution_count": 3,
     "metadata": {},
     "output_type": "execute_result"
    }
   ],
   "source": [
    "validate(animal)"
   ]
  },
  {
   "cell_type": "markdown",
   "id": "08db6591",
   "metadata": {},
   "source": [
    "The test with the correct values (\"Vulpes velox\" for the last row) does not detect any errors."
   ]
  },
  {
   "cell_type": "code",
   "execution_count": 4,
   "id": "e005a6dc",
   "metadata": {},
   "outputs": [
    {
     "data": {
      "text/plain": [
       "{'valid': True,\n",
       " 'stats': {'tasks': 1, 'errors': 0, 'warnings': 0, 'seconds': 0.017},\n",
       " 'warnings': [],\n",
       " 'errors': [],\n",
       " 'tasks': [{'name': 'memory',\n",
       "            'type': 'table',\n",
       "            'valid': True,\n",
       "            'place': '<memory>',\n",
       "            'labels': ['observationType', 'scientificName'],\n",
       "            'stats': {'errors': 0,\n",
       "                      'warnings': 0,\n",
       "                      'seconds': 0.017,\n",
       "                      'fields': 2,\n",
       "                      'rows': 3},\n",
       "            'warnings': [],\n",
       "            'errors': []}]}"
      ]
     },
     "execution_count": 4,
     "metadata": {},
     "output_type": "execute_result"
    }
   ],
   "source": [
    "animal_2 = Resource(data=[['observationType', 'scientificName'], \n",
    "                          ['animal',  'Vulpes vulpes'], \n",
    "                          ['tree',  'null'],\n",
    "                          ['animal',  'Vulpes velox']\n",
    "                         ])\n",
    "animal_2.schema = Schema.from_descriptor(schema)\n",
    "\n",
    "validate(animal_2)"
   ]
  }
 ],
 "metadata": {
  "kernelspec": {
   "display_name": "Python 3 (ipykernel)",
   "language": "python",
   "name": "python3"
  },
  "language_info": {
   "codemirror_mode": {
    "name": "ipython",
    "version": 3
   },
   "file_extension": ".py",
   "mimetype": "text/x-python",
   "name": "python",
   "nbconvert_exporter": "python",
   "pygments_lexer": "ipython3",
   "version": "3.10.9"
  }
 },
 "nbformat": 4,
 "nbformat_minor": 5
}
