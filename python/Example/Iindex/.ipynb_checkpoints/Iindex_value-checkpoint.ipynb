{
 "cells": [
  {
   "cell_type": "markdown",
   "metadata": {},
   "source": [
    "# Iindex : Extended values\n",
    "\n",
    "----\n",
    "## Goals\n",
    "- show the diversity of values objects\n",
    "- present the representations of values\n",
    "\n",
    "## Prerequisite\n",
    "- read Iindex_creation page\n"
   ]
  },
  {
   "cell_type": "code",
   "execution_count": 3,
   "metadata": {},
   "outputs": [],
   "source": [
    "import os\n",
    "os.chdir('C:/Users/a179227/OneDrive - Alliance/perso Wx/ES standard/python ESstandard/ES')\n",
    "from ESValue import LocationValue, DatationValue, PropertyValue, NamedValue, ExternValue, ESValue\n",
    "from iindex import Iindex\n",
    "from datetime import datetime\n",
    "dpt75 = [[[2.4163, 48.8492], [2.4622, 48.8425], [2.4626, 48.8190], [2.4384, 48.8182], [2.4006, 48.8290], [2.3639, 48.8163],\n",
    "          [2.3318, 48.8170], [2.2790, 48.8324], [2.2242, 48.8535], [2.2317, 48.8690], [2.2584, 48.8803], [2.2774, 48.8779],\n",
    "          [2.3198, 48.9004], [2.3851, 48.9020], [2.4139, 48.8708], [2.4163, 48.8492]]]"
   ]
  },
  {
   "cell_type": "markdown",
   "metadata": {},
   "source": [
    "------\n",
    "## Dedicated formats \n",
    "Formats (objects) adapted to environmental data (ESValue) are also supported:\n",
    "- LocationValue : spatial data\n",
    "- DatationValue : temporal data\n",
    "- PropertyValue : property data\n",
    "- NamedValue : Annotated data\n",
    "\n",
    "All ESValue objects are build with a name (string) and a value (specific for each object). ESValue objects have several representations : {type:{name: value}}, {type: value}, {type: name}, {name: value}, {value} and several formats : dict, str, byte.\n",
    "\n"
   ]
  },
  {
   "cell_type": "markdown",
   "metadata": {},
   "source": [
    "### ESValue\n",
    "\n",
    "The ESValue object can be defined automatically.\n",
    "\n",
    "The val method return values with an usual format. "
   ]
  },
  {
   "cell_type": "code",
   "execution_count": 19,
   "metadata": {},
   "outputs": [
    {
     "name": "stdout",
     "output_type": "stream",
     "text": [
      "default :  \n",
      " [21, {\"test\": 21}, [1.2, 3.4], [1.2, 3.4], \"2021-11-21T00:00:00+00:00\", \"2021-11-21T00:00:00+00:00\", {\"dict\": \"test\", \"example\": 212.8}]\n",
      "\n",
      "obj simple :  \n",
      " [21, {'test': 21}, [1.2, 3.4], [1.2, 3.4], datetime.datetime(2021, 11, 21, 0, 0, tzinfo=datetime.timezone.utc), datetime.datetime(2021, 11, 21, 0, 0, tzinfo=datetime.timezone.utc), {'dict': 'test', 'example': 212.8}] \n",
      "\n",
      "complete json obj :  \n",
      " [{'namvalue': 21}, {'namvalue': {'test': 21}}, {'locvalue': [1.2, 3.4]}, {'namvalue': [1.2, 3.4]}, {'datvalue': datetime.datetime(2021, 11, 21, 0, 0, tzinfo=datetime.timezone.utc)}, {'namvalue': datetime.datetime(2021, 11, 21, 0, 0, tzinfo=datetime.timezone.utc)}, {'prpvalue': {'dict': 'test', 'example': 212.8}}] \n",
      "\n",
      "only values :  \n",
      " [21, 21, [1.2, 3.4], [1.2, 3.4], datetime.datetime(2021, 11, 21, 0, 0, tzinfo=datetime.timezone.utc), datetime.datetime(2021, 11, 21, 0, 0, tzinfo=datetime.timezone.utc), {'dict': 'test', 'example': 212.8}]\n"
     ]
    }
   ],
   "source": [
    "es = Iindex([21, {'test':21}, {'locvalue':[1.2, 3.4]}, [1.2, 3.4], {'datvalue':'2021-11-21'}, '2021-11-21',\n",
    "             {'dict': 'test', 'example': 212.8}], typevalue='ESValue')\n",
    "\n",
    "print('default : ', '\\n', es)\n",
    "print('obj simple : ', '\\n', es.to_obj(), '\\n')\n",
    "print('complete json obj : ', '\\n', es.json(), '\\n')\n",
    "print('only values : ', '\\n', es.val)"
   ]
  },
  {
   "cell_type": "markdown",
   "metadata": {},
   "source": [
    "### LocationValue\n",
    "A location can be defined by a label (string), a position (geojson position coordinates), a geographical area (geojson polygon coordinates). Coordinates are conform to geoJSON standard.\n",
    "\n",
    "The vSimple method returns a single value from a LocationValue object (centroid for polygons)"
   ]
  },
  {
   "cell_type": "code",
   "execution_count": 20,
   "metadata": {
    "scrolled": true
   },
   "outputs": [
    {
     "name": "stdout",
     "output_type": "stream",
     "text": [
      "default :  \n",
      " [\"marseille\", [2.35, 48.87], {\"lyon\": [4.83, 45.76]}, {\"dpt75\": [[[2.4163, 48.8492], [2.4622, 48.8425], [2.4626, 48.819], [2.4384, 48.8182], [2.4006, 48.829], [2.3639, 48.8163], [2.3318, 48.817], [2.279, 48.8324], [2.2242, 48.8535], [2.2317, 48.869], [2.2584, 48.8803], [2.2774, 48.8779], [2.3198, 48.9004], [2.3851, 48.902], [2.4139, 48.8708], [2.4163, 48.8492]]]}, {\"marseille\": [5.38, 43.3]}]\n",
      "\n",
      "obj simple :  \n",
      " ['marseille', [2.35, 48.87], {'lyon': [4.83, 45.76]}, {'dpt75': [[[2.4163, 48.8492], [2.4622, 48.8425], [2.4626, 48.819], [2.4384, 48.8182], [2.4006, 48.829], [2.3639, 48.8163], [2.3318, 48.817], [2.279, 48.8324], [2.2242, 48.8535], [2.2317, 48.869], [2.2584, 48.8803], [2.2774, 48.8779], [2.3198, 48.9004], [2.3851, 48.902], [2.4139, 48.8708], [2.4163, 48.8492]]]}, {'marseille': [5.38, 43.3]}] \n",
      "\n",
      "only simple values :  \n",
      " [[-1.0, -1.0], [2.35, 48.87], [4.83, 45.76], [2.34386, 48.85628], [5.38, 43.3]]\n"
     ]
    }
   ],
   "source": [
    "paris       = [2.35, 48.87]\n",
    "lyon        = [4.83, 45.76]\n",
    "marseille   = [5.38, 43.3]\n",
    "\n",
    "loc = Iindex(['marseille', paris, {'lyon': lyon}, {'dpt75': dpt75}, {'locvalue': {'marseille': marseille}}], \n",
    "            typevalue='LocationValue')\n",
    "\n",
    "print('default : ', '\\n', loc)\n",
    "print('obj simple : ', '\\n', loc.to_obj(), '\\n')\n",
    "print('only simple values : ', '\\n', loc.vSimple())"
   ]
  },
  {
   "cell_type": "markdown",
   "metadata": {},
   "source": [
    "### DatationValue\n",
    "Just like for locations, datations can be defined by a description, an instant, an interval or a set of intervals. \n",
    "\n",
    "The vSimple method returns a single value from a DatationValue object (\"centroid\" of the set of intervals).\n",
    "\n",
    "All ESValue objects have binary representation."
   ]
  },
  {
   "cell_type": "code",
   "execution_count": 21,
   "metadata": {
    "scrolled": false
   },
   "outputs": [
    {
     "name": "stdout",
     "output_type": "stream",
     "text": [
      "default :  \n",
      " [\"morning\", \"2021-11-21T00:00:00+00:00\", {\"monday\": \"2021-10-01T00:00:00+00:00\"}, {\"morning\": [\"2020-02-04T08:00:00+00:00\", \"2020-02-04T12:00:00+00:00\"]}, {\"working\": [[\"2020-02-04T08:00:00+00:00\", \"2020-02-04T12:00:00+00:00\"], [\"2020-02-04T14:00:00+00:00\", \"2020-02-04T18:00:00+00:00\"]]}]\n",
      "\n",
      "complete json text :  \n",
      " [{\"datvalue\": \"morning\"}, {\"datvalue\": \"2021-11-21T00:00:00+00:00\"}, {\"datvalue\": {\"monday\": \"2021-10-01T00:00:00+00:00\"}}, {\"datvalue\": {\"morning\": [\"2020-02-04T08:00:00+00:00\", \"2020-02-04T12:00:00+00:00\"]}}, {\"datvalue\": {\"working\": [[\"2020-02-04T08:00:00+00:00\", \"2020-02-04T12:00:00+00:00\"], [\"2020-02-04T14:00:00+00:00\", \"2020-02-04T18:00:00+00:00\"]]}}] \n",
      "\n",
      "only simple values :  \n",
      " [datetime.datetime(1, 1, 1, 0, 0, tzinfo=datetime.timezone.utc), datetime.datetime(2021, 11, 21, 0, 0, tzinfo=datetime.timezone.utc), datetime.datetime(2021, 10, 1, 0, 0, tzinfo=datetime.timezone.utc), datetime.datetime(2020, 2, 4, 10, 0, tzinfo=datetime.timezone.utc), datetime.datetime(2020, 2, 4, 12, 0, tzinfo=datetime.timezone.utc)] \n",
      "\n",
      "binary format :  \n",
      " b'\\x85gmorning\\xc1\\x1aa\\x99\\x8c\\x00\\xa1fmonday\\xc1\\x1aaVO\\x80\\xa1gmorning\\x82\\xc1\\x1a^9$\\x80\\xc1\\x1a^9\\\\\\xc0\\xa1gworking\\x82\\x82\\xc1\\x1a^9$\\x80\\xc1\\x1a^9\\\\\\xc0\\x82\\xc1\\x1a^9x\\xe0\\xc1\\x1a^9\\xb1 '\n"
     ]
    }
   ],
   "source": [
    "morning = [datetime(2020, 2, 4, 8), datetime(2020, 2, 4, 12)]\n",
    "afternoon  = [ datetime(2020, 2, 4, 14), datetime(2020, 2, 4, 18)]\n",
    "\n",
    "dat = Iindex(['morning', '2021-11-21', {'monday':datetime(2021,10,1)}, {'morning': morning}, {'working':[morning, afternoon]}], \n",
    "            typevalue='DatationValue')\n",
    "\n",
    "print('default : ', '\\n', dat)\n",
    "print('complete json text : ', '\\n', dat.json(encoded=True), '\\n')\n",
    "print('only simple values : ', '\\n', dat.vSimple(), '\\n')\n",
    "print('binary format : ', '\\n', dat.to_obj(encoded=True, encode_format='cbor'))"
   ]
  },
  {
   "cell_type": "markdown",
   "metadata": {},
   "source": [
    "### PropertyValue\n",
    "\n",
    "PropertyValue objects are dictionnary with specific characteristics. One of them ('prp' key) corresponds to an applicable codification. \n",
    "\n",
    "The vSimple method returns the 'prp' key."
   ]
  },
  {
   "cell_type": "code",
   "execution_count": 22,
   "metadata": {
    "scrolled": true
   },
   "outputs": [
    {
     "name": "stdout",
     "output_type": "stream",
     "text": [
      "default :  \n",
      " [\"air pollutants\", {\"prp\": \"PM10\", \"unit\": \"kg/m3\", \"application\": \"air\"}, {\"pm25\": {\"prp\": \"PM2.5\", \"unit\": \"kg/m3\"}}, \"pm1\"]\n",
      "\n",
      "complete json obj :  \n",
      " [{'prpvalue': 'air pollutants'}, {'prpvalue': {'prp': 'PM10', 'unit': 'kg/m3', 'application': 'air'}}, {'prpvalue': {'pm25': {'prp': 'PM2.5', 'unit': 'kg/m3'}}}, {'prpvalue': 'pm1'}] \n",
      "\n",
      "only simple values :  \n",
      " ['-', 'PM10', 'PM2.5', '-']\n"
     ]
    }
   ],
   "source": [
    "pm10 = {'prp': 'PM10',  'unit': 'kg/m3', 'application': 'air'}\n",
    "pm25 = {'prp': 'PM2.5', 'unit': 'kg/m3'}\n",
    "\n",
    "prp = Iindex(['air pollutants', pm10, {'pm25': pm25}, {'propvalue': 'pm1'}], typevalue='PropertyValue')\n",
    "\n",
    "print('default : ', '\\n', prp)\n",
    "print('complete json obj : ', '\\n', prp.json(), '\\n')\n",
    "print('only simple values : ', '\\n', prp.vSimple())"
   ]
  },
  {
   "cell_type": "markdown",
   "metadata": {},
   "source": [
    "### NamedValue\n",
    "The NamedValue object is a name-value pair where values are usual Json data "
   ]
  },
  {
   "cell_type": "code",
   "execution_count": 23,
   "metadata": {},
   "outputs": [
    {
     "name": "stdout",
     "output_type": "stream",
     "text": [
      "default :  \n",
      " [21, {\"test\": 21}, {\"list\": [1, 2, 3]}, true, {\"dictionnary\": \"{\\\"10\\\": 1, \\\"100\\\": 2}\"}, {\"21\": 211}, [1.2, 3.4], \"name\"]\n",
      "\n",
      "complete json obj :  \n",
      " [{'namvalue': 21}, {'namvalue': {'test': 21}}, {'namvalue': {'list': [1, 2, 3]}}, {'namvalue': True}, {'namvalue': {'dictionnary': '{\"10\": 1, \"100\": 2}'}}, {'namvalue': {'21': 211}}, {'namvalue': [1.2, 3.4]}, {'namvalue': 'name'}] \n",
      "\n",
      "only values :  \n",
      " [21, 21, [1, 2, 3], True, '{\"10\": 1, \"100\": 2}', 211, [1.2, 3.4], 'name']\n"
     ]
    }
   ],
   "source": [
    "nam = Iindex([21, {'test': 21}, {'list': [1,2,3]}, True, {'dictionnary':{10:1, 100:2}}, {21:211}, [1.2, 3.4], 'name'], typevalue='NamedValue')\n",
    "\n",
    "print('default : ', '\\n', nam)\n",
    "print('complete json obj : ', '\\n', nam.json(), '\\n')\n",
    "print('only values : ', '\\n', nam.val)"
   ]
  },
  {
   "cell_type": "markdown",
   "metadata": {},
   "source": [
    "### ExternValue\n",
    "The ExternValue object is a name-value pair where values are structured objects (e.g. Iindex).\n",
    "\n",
    "To respect the json object-representation equivalence, only objects that have a json format are allowed.\n"
   ]
  },
  {
   "cell_type": "code",
   "execution_count": 24,
   "metadata": {},
   "outputs": [
    {
     "name": "stdout",
     "output_type": "stream",
     "text": [
      "default :  \n",
      " [{\"iindex\": [21, {\"test\": 21}, {\"21\": 211}, {\"ko\": 2, \"kobis\": 2}, [1.2, 3.4], \"2021-01-21T00:00:00+00:00\", \"name\"]}, {\"iindex\": [21, {\"test\": 21}, [1.2, 3.4], [1.2, 3.4], \"2021-11-21T00:00:00+00:00\", \"2021-11-21T00:00:00+00:00\", {\"dict\": \"test\", \"example\": 212.8}]}, {\"iindex\": [\"air pollutants\", {\"prp\": \"PM10\", \"unit\": \"kg/m3\", \"application\": \"air\"}, {\"pm25\": {\"prp\": \"PM2.5\", \"unit\": \"kg/m3\"}}, \"pm1\"]}, {\"iindex\": [21, {\"test\": 21}, {\"list\": [1, 2, 3]}, true, {\"dictionnary\": \"{\\\"10\\\": 1, \\\"100\\\": 2}\"}, {\"21\": 211}, [1.2, 3.4], \"name\"]}]\n",
      "\n",
      "complete json obj :  \n",
      " [{'iindex': [21, {'test': 21}, {'21': 211}, {'ko': 2, 'kobis': 2}, [1.2, 3.4], '2021-01-21T00:00:00+00:00', 'name']}, {'iindex': [{'namvalue': 21}, {'namvalue': {'test': 21}}, {'locvalue': [1.2, 3.4]}, {'namvalue': [1.2, 3.4]}, {'datvalue': datetime.datetime(2021, 11, 21, 0, 0, tzinfo=datetime.timezone.utc)}, {'namvalue': datetime.datetime(2021, 11, 21, 0, 0, tzinfo=datetime.timezone.utc)}, {'prpvalue': {'dict': 'test', 'example': 212.8}}]}, {'iindex': [{'prpvalue': 'air pollutants'}, {'prpvalue': {'prp': 'PM10', 'unit': 'kg/m3', 'application': 'air'}}, {'prpvalue': {'pm25': {'prp': 'PM2.5', 'unit': 'kg/m3'}}}, {'prpvalue': 'pm1'}]}, {'iindex': [{'namvalue': 21}, {'namvalue': {'test': 21}}, {'namvalue': {'list': [1, 2, 3]}}, {'namvalue': True}, {'namvalue': {'dictionnary': '{\"10\": 1, \"100\": 2}'}}, {'namvalue': {'21': 211}}, {'namvalue': [1.2, 3.4]}, {'namvalue': 'name'}]}] \n",
      "\n",
      "only simple values :  \n",
      " [[21, '{\"test\": 21}', '{\"21\": 211}', '{\"ko\": 2, \"kobis\": 2}', (1.2, 3.4), datetime.datetime(2021, 1, 21, 0, 0, tzinfo=datetime.timezone.utc), 'name'], [21, 21, [1.2, 3.4], (1.2, 3.4), datetime.datetime(2021, 11, 21, 0, 0, tzinfo=datetime.timezone.utc), datetime.datetime(2021, 11, 21, 0, 0, tzinfo=datetime.timezone.utc), '-'], ['-', 'PM10', 'PM2.5', '-'], [21, 21, (1, 2, 3), True, '{\"10\": 1, \"100\": 2}', 211, (1.2, 3.4), 'name']]\n"
     ]
    }
   ],
   "source": [
    "ext = Iindex([simple, es, prp, nam])\n",
    "\n",
    "print('default : ', '\\n', ext)\n",
    "print('complete json obj : ', '\\n', ext.json(), '\\n')\n",
    "print('only simple values : ', '\\n', ext.vSimple())"
   ]
  },
  {
   "cell_type": "markdown",
   "metadata": {},
   "source": [
    "## Json compatibility\n",
    "\n",
    "Just like for usual data, Iindex objects are completely defined by their Json representation for any format (object, string, binary).\n",
    "\n",
    "i.e. the object reconstructed from its json representation is identical to the initial object."
   ]
  },
  {
   "cell_type": "code",
   "execution_count": 25,
   "metadata": {
    "scrolled": true
   },
   "outputs": [
    {
     "name": "stdout",
     "output_type": "stream",
     "text": [
      "Datation object compatibility :  True\n",
      "Location object compatibility :  True\n",
      "Property object compatibility :  True\n",
      "Named    object compatibility :  True\n",
      "Extern   object compatibility :  True\n"
     ]
    }
   ],
   "source": [
    "print('Datation object compatibility : ', dat ==\n",
    "      Iindex.Iobj(dat.json()) == \n",
    "      Iindex.Iobj(dat.to_obj(), typevalue='DatationValue') == \n",
    "      Iindex.Iobj(dat.to_obj(encoded=True, encode_format='cbor'), typevalue='DatationValue'))\n",
    "print('Location object compatibility : ', loc ==\n",
    "      Iindex.Iobj(loc.json()) == \n",
    "      Iindex.Iobj(loc.to_obj(), typevalue='LocationValue') == \n",
    "      Iindex.Iobj(loc.to_obj(encoded=True, encode_format='cbor'), typevalue='LocationValue'))\n",
    "print('Property object compatibility : ', prp ==\n",
    "      Iindex.Iobj(prp.json()) == \n",
    "      Iindex.Iobj(prp.to_obj(), typevalue='PropertyValue') == \n",
    "      Iindex.Iobj(prp.to_obj(encoded=True, encode_format='cbor'), typevalue='PropertyValue'))\n",
    "print('Named    object compatibility : ', nam == \n",
    "      Iindex.Iobj(nam.json()) == \n",
    "      Iindex.Iobj(nam.to_obj(), typevalue='NamedValue') == \n",
    "      Iindex.Iobj(nam.to_obj(encoded=True, encode_format='cbor'), typevalue='NamedValue'))\n",
    "print('Extern   object compatibility : ', ext ==\n",
    "      Iindex.Iobj(ext.json()) == \n",
    "      Iindex.Iobj(ext.json(encoded=True, encode_format='cbor')))"
   ]
  }
 ],
 "metadata": {
  "kernelspec": {
   "display_name": "Python 3 (ipykernel)",
   "language": "python",
   "name": "python3"
  },
  "language_info": {
   "codemirror_mode": {
    "name": "ipython",
    "version": 3
   },
   "file_extension": ".py",
   "mimetype": "text/x-python",
   "name": "python",
   "nbconvert_exporter": "python",
   "pygments_lexer": "ipython3",
   "version": "3.9.12"
  }
 },
 "nbformat": 4,
 "nbformat_minor": 4
}
