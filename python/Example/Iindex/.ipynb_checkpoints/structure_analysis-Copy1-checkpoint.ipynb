{
 "cells": [
  {
   "cell_type": "markdown",
   "metadata": {},
   "source": [
    "# Iindex : structure analysis\n",
    "\n",
    "## Goals\n",
    "\n",
    "- understand the relationships between Iindex objects\n",
    "- present the methods that modify these relationships (read beforehand the structuring of indexed lists)\n",
    "\n",
    "-----"
   ]
  },
  {
   "cell_type": "code",
   "execution_count": 1,
   "metadata": {},
   "outputs": [],
   "source": [
    "import os\n",
    "os.chdir('C:/Users/a179227/OneDrive - Alliance/perso Wx/ES standard/python ESstandard/ES')\n",
    "from iindex import Iindex"
   ]
  },
  {
   "cell_type": "markdown",
   "metadata": {},
   "source": [
    "## coupling analysis\n",
    "Two Iindex objects can be compared to identify the relationships between the two (similar to relationships between entities of a conceptual data model).\n",
    "Several relationships are defined :\n",
    "- coupled (one-to-one)\n",
    "- derived (many-to-one)\n",
    "- crossed (many-to-many with 'all-to-all' links)\n",
    "- linked (many-to-many)"
   ]
  },
  {
   "cell_type": "code",
   "execution_count": 2,
   "metadata": {},
   "outputs": [
    {
     "name": "stdout",
     "output_type": "stream",
     "text": [
      "quarter is coupled to month ?    False\n",
      "quarter is derived to month ?    True\n",
      "quarter relationship to month :  {'lencoupling': 6, 'rate': 0.0, 'disttomin': 0, 'disttomax': 18, 'distmin': 6, 'distmax': 24, 'diff': 2, 'typecoupl': 'derived'} \n",
      "\n",
      "monthnum is coupled to month ?    True\n",
      "monthnum is derived to month ?    False\n",
      "monthnum relationship to month :  {'lencoupling': 6, 'rate': 0.0, 'disttomin': 0, 'disttomax': 30, 'distmin': 6, 'distmax': 36, 'diff': 0, 'typecoupl': 'coupled'} \n",
      "\n",
      "semester is coupled to year ?    False\n",
      "semester is derived to year ?    False\n",
      "semester is crossed to year ?    True\n",
      "semester relationship to year :  {'lencoupling': 6, 'rate': 1.0, 'disttomin': 3, 'disttomax': 0, 'distmin': 3, 'distmax': 6, 'diff': 1, 'typecoupl': 'crossed'} \n",
      "\n"
     ]
    }
   ],
   "source": [
    "month   = Iindex.Iext(['jan', 'feb', 'apr', 'jan', 'sep', 'dec', 'apr', 'may', 'jan'])\n",
    "quarter = Iindex.Iext(['q1',  'q1',  'q2',  'q1',  'q3',  'q4',  'q2',  'q2',  'q1'])\n",
    "print('quarter is coupled to month ?   ', quarter.iscoupled(month))\n",
    "print('quarter is derived to month ?   ', quarter.isderived(month))\n",
    "print('quarter relationship to month : ', quarter.couplinginfos(month), '\\n')\n",
    "\n",
    "monthnum = Iindex.Iext([1, 2, 4, 1, 9, 12, 4, 5, 1])\n",
    "print('monthnum is coupled to month ?   ', monthnum.iscoupled(month))\n",
    "print('monthnum is derived to month ?   ', monthnum.isderived(month))\n",
    "print('monthnum relationship to month : ', monthnum.couplinginfos(month), '\\n')\n",
    "\n",
    "year     = Iindex.Iext([2020, 2020, 2021, 2021, 2022, 2022])\n",
    "semester = Iindex.Iext(['s1', 's2', 's1', 's2','s1', 's2',])\n",
    "print('semester is coupled to year ?   ', semester.iscoupled(year))\n",
    "print('semester is derived to year ?   ', semester.isderived(year))\n",
    "print('semester is crossed to year ?   ', semester.iscrossed(year))\n",
    "print('semester relationship to year : ', semester.couplinginfos(year), '\\n')"
   ]
  },
  {
   "cell_type": "markdown",
   "metadata": {},
   "source": [
    "## coupling forcing - codec adjustement\n",
    "We can impose a relationship with codec extension or reduction.\n",
    "Deviations can be identified simply\n",
    "    \n",
    "    \n"
   ]
  },
  {
   "cell_type": "code",
   "execution_count": 3,
   "metadata": {},
   "outputs": [
    {
     "name": "stdout",
     "output_type": "stream",
     "text": [
      "quarter relationship to month :  {'lencoupling': 7, 'rate': 0.05555555555555555, 'disttomin': 1, 'disttomax': 17, 'distmin': 6, 'distmax': 24, 'diff': 2, 'typecoupl': 'linked'} \n",
      "\n",
      "quarter relationship to month :  {'lencoupling': 7, 'rate': 0.0, 'disttomin': 0, 'disttomax': 21, 'distmin': 7, 'distmax': 28, 'diff': 3, 'typecoupl': 'derived'} \n",
      "\n",
      "quarter codec :  ['q1', 'q4', 'q2', 'q3']\n",
      "month codec :  ['feb', 'apr', 'dec', 'jan', 'sep', 'apr', 'may']\n",
      "errors :  ['apr', 'apr'] ['q2', 'q3']\n"
     ]
    }
   ],
   "source": [
    "#for example if i introduce an error in the quarters, i can impose that the quarters are always derived from the months\n",
    "\n",
    "quarter[2] = 'q3'\n",
    "print('quarter relationship to month : ', quarter.couplinginfos(month), '\\n') # quarter and month are only linked\n",
    "# the rate is low (< 0.1), it means that quarter is almost derived or coupled with month\n",
    "\n",
    "errors = month.coupling(quarter)                                              # coupling forcing (return duplicate record)\n",
    "print('quarter relationship to month : ', quarter.couplinginfos(month), '\\n') # quarter is now derived from month\n",
    "\n",
    "print('quarter codec : ', quarter.codec)\n",
    "print('month codec : ', month.codec)                      # a codec extension is made to compensate for the error\n",
    "print('errors : ', month[errors], quarter[errors])        # 'apr' is the error with two quarters 'q2', 'q3'"
   ]
  },
  {
   "cell_type": "markdown",
   "metadata": {},
   "source": [
    "## coupling forcing - values adjustement\n",
    "We can impose a relationship with values extension or reduction.\n",
    "Deviations can be identified simply\n"
   ]
  },
  {
   "cell_type": "code",
   "execution_count": 4,
   "metadata": {},
   "outputs": [
    {
     "name": "stdout",
     "output_type": "stream",
     "text": [
      "semester relationship to year :  {'lencoupling': 4, 'rate': 0.3333333333333333, 'disttomin': 1, 'disttomax': 2, 'distmin': 3, 'distmax': 6, 'diff': 1, 'typecoupl': 'linked'} \n",
      "\n",
      "semester relationship to year :  {'lencoupling': 6, 'rate': 1.0, 'disttomin': 3, 'disttomax': 0, 'distmin': 3, 'distmax': 6, 'diff': 1, 'typecoupl': 'crossed'} \n",
      "\n",
      "years extension    :  [2020, 2021, 2021, 2022, 2020, 2022]\n",
      "\n",
      "semester extension :  [\"s1\", \"s1\", \"s2\", \"s1\", \"s2\", \"s2\"]\n",
      "\n",
      "added values :  [2020, 2022] ['s2', 's2']\n"
     ]
    }
   ],
   "source": [
    "# In the previous example with years and semesters, if some data is missing, years and semesters cannot be crossed\n",
    "\n",
    "year     = Iindex.Iext([2020, 2021, 2021, 2022])\n",
    "semester = Iindex.Iext(['s1', 's1', 's2','s1'])\n",
    "print('semester relationship to year : ', semester.couplinginfos(year), '\\n')     # year and semester are linked\n",
    "\n",
    "added = Iindex.full([year, semester])\n",
    "print('semester relationship to year : ', semester.couplinginfos(year), '\\n')     # year and semester are now crossed\n",
    "print('years extension    : ', year)\n",
    "print('semester extension : ', semester)\n",
    "print('added values : ', year[added], semester[added])"
   ]
  }
 ],
 "metadata": {
  "kernelspec": {
   "display_name": "Python 3 (ipykernel)",
   "language": "python",
   "name": "python3"
  },
  "language_info": {
   "codemirror_mode": {
    "name": "ipython",
    "version": 3
   },
   "file_extension": ".py",
   "mimetype": "text/x-python",
   "name": "python",
   "nbconvert_exporter": "python",
   "pygments_lexer": "ipython3",
   "version": "3.9.12"
  }
 },
 "nbformat": 4,
 "nbformat_minor": 4
}
