{
 "cells": [
  {
   "cell_type": "markdown",
   "metadata": {},
   "source": [
    "# Ilist : structure analysis\n",
    "\n",
    "## Goals\n",
    "\n",
    "- understand the structure of Ilist object\n",
    "- introduce methods for managing structure\n",
    "\n",
    "\n",
    "-----"
   ]
  },
  {
   "cell_type": "markdown",
   "metadata": {},
   "source": [
    "## Example\n",
    "\n",
    "The reuse Ilist is :\n",
    "\n",
    "<img src=\"https://loco-philippe.github.io/ES/ilist_merge.png\" width=\"700\">\n"
   ]
  },
  {
   "cell_type": "code",
   "execution_count": 1,
   "metadata": {},
   "outputs": [],
   "source": [
    "import os\n",
    "os.chdir('C:/Users/a179227/OneDrive - Alliance/perso Wx/ES standard/python ESstandard/ES')\n",
    "from ilist import Ilist\n",
    "from pprint import pprint\n",
    "\n",
    "img = Ilist.from_file('score.il')                # reuse Ilist from aggregation Notebook"
   ]
  },
  {
   "cell_type": "markdown",
   "metadata": {},
   "source": [
    "## relationship\n",
    "\n",
    "the relationships between Iindex can be shown with the img Ilist\n",
    "\n",
    "<img src=\"https://loco-philippe.github.io/ES/ilist_canonical.png\" width=\"600\">\n"
   ]
  },
  {
   "cell_type": "code",
   "execution_count": 2,
   "metadata": {},
   "outputs": [
    {
     "name": "stdout",
     "output_type": "stream",
     "text": [
      "primary Iindex :  [0, 5, 7] ['full name', 'course', 'examen']\n",
      "dimension :  3 \n",
      "\n",
      "\n",
      "coupling infos  :\n",
      "[{'name': 'full name', 'num': 0, 'parent': 0, 'pname': 'full name', 'pparent': 0, 'typecoupl': 'crossed'},\n",
      " {'name': 'last name', 'num': 1, 'parent': 0, 'pname': 'full name', 'pparent': 0, 'typecoupl': 'derived'},\n",
      " {'name': 'first name', 'num': 2, 'parent': 0, 'pname': 'full name', 'pparent': 0, 'typecoupl': 'derived'},\n",
      " {'name': 'surname', 'num': 3, 'parent': 0, 'pname': 'full name', 'pparent': 0, 'typecoupl': 'coupled'},\n",
      " {'name': 'group', 'num': 4, 'parent': 0, 'pname': 'full name', 'pparent': 0, 'typecoupl': 'derived'},\n",
      " {'name': 'course', 'num': 5, 'parent': 1, 'pname': 'last name', 'pparent': 5, 'typecoupl': 'linked'},\n",
      " {'name': 'year', 'num': 6, 'parent': 6, 'pname': 'year', 'pparent': -1, 'typecoupl': 'unique'},\n",
      " {'name': 'examen', 'num': 7, 'parent': 1, 'pname': 'last name', 'pparent': 7, 'typecoupl': 'linked'}]\n",
      "\n",
      "coupling rate for primary Iindex :\n",
      "[{'linkrate': 1.0, 'name': 'full name', 'typecoupl': 'crossed'},\n",
      " {'linkrate': 0.5, 'name': 'course', 'typecoupl': 'linked'},\n",
      " {'linkrate': 0.83, 'name': 'examen', 'typecoupl': 'linked'}]\n",
      "\n",
      "actual length : 13 and length if primary Iindex are crossed : 36\n"
     ]
    }
   ],
   "source": [
    "print('primary Iindex : ',img.primary, [img.idxname[i] for i in img.primary])     # three primary Iindex\n",
    "print('dimension : ', img.dimension, '\\n')\n",
    "\n",
    "print('\\ncoupling infos  :')\n",
    "pprint(img.indexinfos(keys=['num', 'name', 'parent','pparent', 'pname', 'typecoupl']), width=120)  \n",
    "\n",
    "print('\\ncoupling rate for primary Iindex :')\n",
    "inforate = img.indexinfos(keys=['name', 'linkrate', 'typecoupl'], base=True)\n",
    "pprint([inf for inf in inforate if inf['typecoupl'] in ['crossed', 'linked']], width=120)\n",
    "\n",
    "print('\\nactual length :', len(img), 'and length if primary Iindex are crossed :',  img.lencomplete)"
   ]
  },
  {
   "cell_type": "markdown",
   "metadata": {},
   "source": [
    "## Transformation to complete Ilist\n",
    "\n",
    "When primary Iindex are crossed, an Ilist is complete (can be converted into matrix or in file with low size)."
   ]
  },
  {
   "cell_type": "code",
   "execution_count": 3,
   "metadata": {},
   "outputs": [
    {
     "name": "stdout",
     "output_type": "stream",
     "text": [
      "\n",
      "coupling rate for primary Iindex :\n",
      "[{'name': 'full name', 'typecoupl': 'crossed'},\n",
      " {'name': 'course', 'typecoupl': 'crossed'},\n",
      " {'name': 'examen', 'typecoupl': 'crossed'}]\n",
      "\n",
      "length : 36 dimension : 3\n"
     ]
    }
   ],
   "source": [
    "img.full(fillvalue=float('nan'))                 # convert linked indexes to crossed indexes\n",
    "\n",
    "print('\\ncoupling rate for primary Iindex :')\n",
    "inforate = img.indexinfos(keys=['name', 'typecoupl'], base=True)\n",
    "pprint([inf for inf in inforate if inf['typecoupl'] in ['crossed', 'linked']], width=120)\n",
    "\n",
    "print('\\nlength :', len(img), 'dimension :', img.dimension)"
   ]
  },
  {
   "cell_type": "markdown",
   "metadata": {},
   "source": [
    "## Indexed matrix\n",
    "\n",
    "With codec ou values ajustement, an Ilist can be transformed in a matrix with choosen dimension"
   ]
  },
  {
   "cell_type": "code",
   "execution_count": 8,
   "metadata": {
    "scrolled": false
   },
   "outputs": [
    {
     "name": "stdout",
     "output_type": "stream",
     "text": [
      "<xarray.DataArray ['score'] (full name: 4, course: 3, examen: 3)>\n",
      "array([[[nan, nan,  8.],\n",
      "        [15., nan, nan],\n",
      "        [nan, nan, nan]],\n",
      "\n",
      "       [[ 6., nan, nan],\n",
      "        [nan, nan, nan],\n",
      "        [nan, 18., nan]],\n",
      "\n",
      "       [[ 2., nan,  4.],\n",
      "        [nan, nan, nan],\n",
      "        [nan, 17., 18.]],\n",
      "\n",
      "       [[nan, 12., 10.],\n",
      "        [11., 15., 13.],\n",
      "        [nan, nan, nan]]])\n",
      "Coordinates:\n",
      "  * full name   (full name) <U14 'philippe white' ... 'anne white'\n",
      "  * course      (course) <U8 'english' 'math' 'software'\n",
      "  * examen      (examen) <U2 't1' 't3' 't2'\n",
      "    last name   (full name) <U5 'black' 'white' 'red' 'white'\n",
      "    first name  (full name) <U8 'camille' 'philippe' 'anne' 'philippe'\n",
      "    surname     (full name) <U10 'heisenberg' 'gus' 'saul' 'skyler'\n",
      "    group       (full name) <U3 'gr2' 'gr1' 'gr3' 'gr3'\n",
      "Attributes:\n",
      "    year:     2021\n",
      "\n",
      "Object img is complete and have the canonical order ?  True True\n"
     ]
    }
   ],
   "source": [
    "import xarray\n",
    "print(img.to_xarray())\n",
    "print('\\nObject img is complete and have the canonical order ? ', img.complete, img.iscanonorder())\n"
   ]
  },
  {
   "cell_type": "code",
   "execution_count": 10,
   "metadata": {},
   "outputs": [
    {
     "name": "stdout",
     "output_type": "stream",
     "text": [
      "codec is not necessary in json object when Ilist is complete :\n",
      " [['full name', ['philippe white', 'philippe black', 'camille red', 'anne white']], ['course', ['english', 'math', 'software']], ['examen', ['t1', 't3', 't2']], ['last name', ['white', 'black', 'red'], [0, [0, 1, 2, 0]]], ['first name', ['philippe', 'camille', 'anne'], [0, [0, 0, 1, 2]]], ['surname', ['heisenberg', 'gus', 'saul', 'skyler'], 0], ['group', ['gr1', 'gr2', 'gr3'], [0, [1, 2, 2, 0]]], ['year', [2021]], ['score', [nan, nan, 8, 15, nan, nan, nan, nan, nan, 6, nan, nan, nan, nan, nan, nan, 18, nan, 2, nan, 4, nan, nan, nan, nan, 17, 18, nan, 12, 10, 11, 15, 13, nan, nan, nan], -1]]\n",
      "\n",
      "conversion is reversible ?  True\n"
     ]
    }
   ],
   "source": [
    "print('codec is not necessary in json object when Ilist is complete :\\n', img.to_obj())   \n",
    "print('\\nconversion is reversible ? ', img.from_obj(img.to_obj()) == img)\n"
   ]
  },
  {
   "cell_type": "code",
   "execution_count": 11,
   "metadata": {},
   "outputs": [
    {
     "name": "stdout",
     "output_type": "stream",
     "text": [
      "new dimension :  2 \n",
      "\n",
      "<xarray.DataArray ['score'] (full name: 4, course: 9)>\n",
      "array([[nan, nan, nan, nan, nan, nan,  8., nan, 15.],\n",
      "       [nan, nan, 18.,  6., nan, nan, nan, nan, nan],\n",
      "       [nan, nan, 17.,  2., nan, nan,  4., 18., nan],\n",
      "       [12., 13., nan, nan, 15., nan, 10., nan, 11.]])\n",
      "Coordinates:\n",
      "  * full name   (full name) <U14 'philippe white' ... 'anne white'\n",
      "  * course      (course) <U8 'english' 'math' 'software' ... 'software' 'math'\n",
      "    examen      (course) <U2 't3' 't2' 't2' 't1' 't3' 't2' 't1' 't3' 't1'\n",
      "    last name   (full name) <U5 'black' 'white' 'red' 'white'\n",
      "    first name  (full name) <U8 'camille' 'philippe' 'anne' 'philippe'\n",
      "    surname     (full name) <U10 'heisenberg' 'gus' 'saul' 'skyler'\n",
      "    group       (full name) <U3 'gr2' 'gr1' 'gr3' 'gr3'\n",
      "Attributes:\n",
      "    year:     2021\n"
     ]
    }
   ],
   "source": [
    "# matrix with dimension 2\n",
    "img.nindex('course').coupling(img.nindex('examen'))   # transform two linked indexes in two derived or coupled indexes\n",
    "print('new dimension : ', img.dimension, '\\n')\n",
    "print(img.to_xarray())"
   ]
  }
 ],
 "metadata": {
  "kernelspec": {
   "display_name": "Python 3 (ipykernel)",
   "language": "python",
   "name": "python3"
  },
  "language_info": {
   "codemirror_mode": {
    "name": "ipython",
    "version": 3
   },
   "file_extension": ".py",
   "mimetype": "text/x-python",
   "name": "python",
   "nbconvert_exporter": "python",
   "pygments_lexer": "ipython3",
   "version": "3.9.12"
  }
 },
 "nbformat": 4,
 "nbformat_minor": 4
}
