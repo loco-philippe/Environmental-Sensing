{
 "cells": [
  {
   "cell_type": "markdown",
   "metadata": {},
   "source": [
    "# Ilist : Update\n",
    "\n",
    "## Goals\n",
    "\n",
    "- present methods to access, update and assemble Ilist objects\n",
    "\n",
    "-----"
   ]
  },
  {
   "cell_type": "code",
   "execution_count": 1,
   "metadata": {},
   "outputs": [],
   "source": [
    "import os\n",
    "os.chdir('C:/Users/a179227/OneDrive - Alliance/perso Wx/ES standard/python ESstandard/ES')\n",
    "from ilist import Ilist\n",
    "from copy import copy"
   ]
  },
  {
   "cell_type": "markdown",
   "metadata": {},
   "source": [
    "## Iindex update\n",
    "The Iindex objects that make up the Ilist object are accessible via the 'lindex' attribute or 'nindex' method.\n",
    "\n"
   ]
  },
  {
   "cell_type": "code",
   "execution_count": 4,
   "metadata": {},
   "outputs": [
    {
     "name": "stdout",
     "output_type": "stream",
     "text": [
      "first Iindex (row) :  [\"month\", [\"jan\", \"feb\", \"apr\", \"jan\", \"sep\", \"dec\", \"apr\", \"may\", \"jan\"]]\n",
      "\n",
      "first Iindex (name):  [\"month\", [\"jan\", \"feb\", \"apr\", \"jan\", \"sep\", \"dec\", \"apr\", \"may\", \"jan\"]]\n",
      "\n",
      "updated il object : \n",
      " [\"month\", [\"jan\", \"feb\", \"april\", \"jan\", \"sep\", \"dec\", \"apr\", \"may\", \"jan\"]]\n",
      "[\"quarters\", [\"q1\", \"q1\", \"q2\", \"q1\", \"q3\", \"q4\", \"q2\", \"q2\", \"q1\"]]\n",
      "\n"
     ]
    }
   ],
   "source": [
    "il = Ilist.Idic({'month':   ['jan', 'feb', 'apr', 'jan', 'sep', 'dec', 'apr', 'may', 'jan'],\n",
    "                 'quarter': ['q1',  'q1',  'q2',  'q1',  'q3',  'q4',  'q2',  'q2',  'q1' ]})\n",
    "\n",
    "print('first Iindex (row) : ', il.lindex[0])\n",
    "print('first Iindex (name): ', il.nindex('month'))\n",
    "\n",
    "il.lindex[0][2] = 'april'\n",
    "il.nindex('quarter').setname('quarters')\n",
    "\n",
    "print('updated il object : \\n', il)"
   ]
  },
  {
   "cell_type": "markdown",
   "metadata": {},
   "source": [
    "## Item access\n",
    "the items are accessible for update and delete"
   ]
  },
  {
   "cell_type": "code",
   "execution_count": 6,
   "metadata": {
    "scrolled": true
   },
   "outputs": [
    {
     "name": "stdout",
     "output_type": "stream",
     "text": [
      "item access : \n",
      " [\"month\", [\"jan\", \"feb\", \"mar\", \"jan\", \"sep\", \"dec\", \"apr\", \"may\"]]\n",
      "[\"quarters\", [\"q1\", \"q1\", \"q1\", \"q1\", \"q3\", \"q4\", \"q2\", \"q2\"]]\n",
      "\n",
      "append method : \n",
      " [\"month\", [\"jan\", \"feb\", \"mar\", \"jan\", \"sep\", \"dec\", \"apr\", \"may\", \"january\"]]\n",
      "[\"quarters\", [\"q1\", \"q1\", \"q1\", \"q1\", \"q3\", \"q4\", \"q2\", \"q2\", \"quarter1\"]]\n",
      "\n"
     ]
    }
   ],
   "source": [
    "il[2] = ['mar', 'q1']\n",
    "del(il[8])\n",
    "print('item access : \\n', il)\n",
    "\n",
    "il.append(['january', 'quarter1'])\n",
    "print('append method : \\n', il)\n"
   ]
  },
  {
   "cell_type": "markdown",
   "metadata": {},
   "source": [
    "## add and copy\n",
    "Ilist can be added ( values are added with '+' operator, Iindex are added with '|' operator) and copied\n",
    "\n",
    "Note : When adding Iindex, Iindex name is updated if the same name is present"
   ]
  },
  {
   "cell_type": "code",
   "execution_count": 8,
   "metadata": {},
   "outputs": [
    {
     "name": "stdout",
     "output_type": "stream",
     "text": [
      "adding values : \n",
      " [\"month\", [\"jan\", \"feb\", \"mar\", \"jan\", \"sep\", \"dec\", \"apr\", \"may\", \"january\", \"jan\", \"feb\", \"mar\", \"jan\", \"sep\", \"dec\", \"apr\", \"may\", \"january\"]]\n",
      "[\"quarters\", [\"q1\", \"q1\", \"q1\", \"q1\", \"q3\", \"q4\", \"q2\", \"q2\", \"quarter1\", \"q1\", \"q1\", \"q1\", \"q1\", \"q3\", \"q4\", \"q2\", \"q2\", \"quarter1\"]]\n",
      "\n",
      "adding Iindex : \n",
      " [\"month\", [\"jan\", \"feb\", \"mar\", \"jan\", \"sep\", \"dec\", \"apr\", \"may\", \"january\"]]\n",
      "[\"quarters\", [\"q1\", \"q1\", \"q1\", \"q1\", \"q3\", \"q4\", \"q2\", \"q2\", \"quarter1\"]]\n",
      "[\"month(2)\", [\"jan\", \"feb\", \"mar\", \"jan\", \"sep\", \"dec\", \"apr\", \"may\", \"january\"]]\n",
      "[\"quarters(2)\", [\"q1\", \"q1\", \"q1\", \"q1\", \"q3\", \"q4\", \"q2\", \"q2\", \"quarter1\"]]\n",
      "\n",
      "copy are equal to original ?  True\n"
     ]
    }
   ],
   "source": [
    "il2 = il + il\n",
    "print('adding values : \\n', il2)\n",
    "\n",
    "il3 = il | il\n",
    "print('adding Iindex : \\n', il3)\n",
    "\n",
    "il3 = copy(il)\n",
    "print('copy are equal to original ? ', il3 == il)"
   ]
  }
 ],
 "metadata": {
  "kernelspec": {
   "display_name": "Python 3 (ipykernel)",
   "language": "python",
   "name": "python3"
  },
  "language_info": {
   "codemirror_mode": {
    "name": "ipython",
    "version": 3
   },
   "file_extension": ".py",
   "mimetype": "text/x-python",
   "name": "python",
   "nbconvert_exporter": "python",
   "pygments_lexer": "ipython3",
   "version": "3.9.12"
  }
 },
 "nbformat": 4,
 "nbformat_minor": 4
}
