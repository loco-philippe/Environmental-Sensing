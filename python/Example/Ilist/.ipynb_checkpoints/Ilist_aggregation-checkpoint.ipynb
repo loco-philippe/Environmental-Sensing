{
 "cells": [
  {
   "cell_type": "markdown",
   "metadata": {},
   "source": [
    "# Ilist : aggregation\n",
    "\n",
    "## Goals\n",
    "\n",
    "- understand the Ilist aggregation process\n",
    "\n",
    "<img src=\"https://loco-philippe.github.io/ES/ilist_aggregation.png\" width=\"800\">\n",
    "\n",
    "\n",
    "-----\n"
   ]
  },
  {
   "cell_type": "code",
   "execution_count": 1,
   "metadata": {},
   "outputs": [],
   "source": [
    "import os\n",
    "os.chdir('C:/Users/a179227/OneDrive - Alliance/perso Wx/ES standard/python ESstandard/ES')\n",
    "from ilist import Ilist\n",
    "from pprint import pprint"
   ]
  },
  {
   "cell_type": "markdown",
   "metadata": {},
   "source": [
    "## example\n",
    "In this example, the documentation process has two step :\n",
    "- a simple documentation for each people\n",
    "- an aggregation of all results\n",
    "\n",
    "The merge method provides a complete Ilist image of all the results (aggregation is the reference, merge is the image)\n",
    "\n",
    "<img src=\"https://loco-philippe.github.io/ES/ilist_merge.png\" width=\"700\">\n"
   ]
  },
  {
   "cell_type": "code",
   "execution_count": 2,
   "metadata": {},
   "outputs": [
    {
     "name": "stdout",
     "output_type": "stream",
     "text": [
      "the aggregate Ilist has the same property as non aggregate Ilist :\n",
      "\n",
      "record number :  4 Iindex number :  6\n",
      "binary representation : \n",
      " b'\\x86\\x83escore\\x84\\xa1eilist\\x84\\x83escore\\x85\\x0b\\r\\x0f\\n\\x0c \\x83fcourse\\x82genglishdmath\\x85\\x01\\x01\\x01\\x00\\x00\\x82dyear\\x81\\x19\\x07\\xe5\\x83fexamen\\x83bt2bt3bt1\\x85\\x02\\x00\\x01\\x00\\x01\\xa1eilist\\x84\\x83escore\\x82\\x0f\\x08 \\x82dyear\\x81\\x19\\x07\\xe5\\x83fcourse\\x82genglishdmath\\x82\\x01\\x00\\x83fexamen\\x82bt2bt1\\x02\\xa1eilist\\x84\\x83escore\\x84\\x11\\x12\\x02\\x04 \\x83fcourse\\x82genglishhsoftware\\x84\\x01\\x01\\x00\\x00\\x82dyear\\x81\\x19\\x07\\xe5\\x83fexamen\\x83bt1bt2bt3\\x84\\x02\\x01\\x00\\x01\\xa1eilist\\x84\\x83escore\\x82\\x12\\x06 \\x83fcourse\\x82genglishhsoftware\\x82\\x01\\x00\\x82dyear\\x81\\x19\\x07\\xe5\\x83fexamen\\x82bt1bt3\\x01 \\x83ifull name\\x84kcamille redjanne whitenphilippe whitenphilippe black\\x84\\x01\\x02\\x00\\x03\\x83ilast name\\x83ewhitecredeblack\\x82\\x01\\x84\\x01\\x00\\x00\\x02\\x83jfirst name\\x83hphilippegcamilledanne\\x82\\x01\\x84\\x01\\x02\\x00\\x00\\x83gsurname\\x84dsaulfskylerjheisenbergcgus\\x01\\x83egroup\\x83cgr1cgr3cgr2\\x82\\x01\\x84\\x01\\x00\\x02\\x01'\n",
      "json representation : \n",
      " [['score', [{'ilist': [['score', [11, 13, 15, 10, 12], -1], ['course', ['english', 'math'], [1, 1, 1, 0, 0]], ['year', [2021]], ['examen', ['t2', 't3', 't1'], [2, 0, 1, 0, 1]]]}, {'ilist': [['score', [15, 8], -1], ['year', [2021]], ['course', ['english', 'math'], [1, 0]], ['examen', ['t2', 't1'], 2]]}, {'ilist': [['score', [17, 18, 2, 4], -1], ['course', ['english', 'software'], [1, 1, 0, 0]], ['year', [2021]], ['examen', ['t1', 't2', 't3'], [2, 1, 0, 1]]]}, {'ilist': [['score', [18, 6], -1], ['course', ['english', 'software'], [1, 0]], ['year', [2021]], ['examen', ['t1', 't3'], 1]]}], -1], ['full name', ['camille red', 'anne white', 'philippe white', 'philippe black'], [1, 2, 0, 3]], ['last name', ['white', 'red', 'black'], [1, [1, 0, 0, 2]]], ['first name', ['philippe', 'camille', 'anne'], [1, [1, 2, 0, 0]]], ['surname', ['saul', 'skyler', 'heisenberg', 'gus'], 1], ['group', ['gr1', 'gr3', 'gr2'], [1, [1, 0, 2, 1]]]]\n"
     ]
    }
   ],
   "source": [
    "aw = Ilist.Idic({'score'     : [11, 13, 15, 10, 12], \n",
    "                 'course'    : ['math', 'math', 'math', 'english', 'english'],\n",
    "                 'year'      : [2021, 2021, 2021, 2021, 2021],\n",
    "                 'examen'    : ['t1', 't2', 't3', 't2', 't3']}, var=0)              \n",
    "pw = Ilist.Idic({'score'     : [15, 8], \n",
    "                 'year'      : [2021, 2021],\n",
    "                 'course'    : ['math', 'english'],\n",
    "                 'examen'    : ['t1', 't2']}, var=0)  \n",
    "cr = Ilist.Idic({'score'     : [17, 18, 2, 4], \n",
    "                 'course'    : ['software', 'software', 'english', 'english'],\n",
    "                 'year'      : [2021, 2021, 2021, 2021],\n",
    "                 'examen'    : ['t3', 't2', 't1', 't2']}, var=0)               \n",
    "pb = Ilist.Idic({'score'     : [18, 6], \n",
    "                 'course'    : ['software', 'english'],\n",
    "                 'year'      : [2021, 2021],\n",
    "                 'examen'    : ['t3', 't1']}, var=0)        \n",
    "\n",
    "total = Ilist.Idic({'score'     : [aw, pw, cr, pb],\n",
    "                    'full name' : ['anne white', 'philippe white', 'camille red', 'philippe black'],\n",
    "                    'last name' : ['white', 'white', 'red', 'black'],\n",
    "                    'first name': ['anne', 'philippe', 'camille', 'philippe'],\n",
    "                    'surname'   : ['skyler', 'heisenberg', 'saul', 'gus'],\n",
    "                    'group'     : ['gr1', 'gr2', 'gr3','gr3']}, var=0)\n",
    "\n",
    "print('the aggregate Ilist has the same property as non aggregate Ilist :\\n')\n",
    "print('record number : ', len(total), 'Iindex number : ', total.lenindex)\n",
    "print('binary representation : \\n', total.to_obj(encoded=True, encode_format='cbor'))\n",
    "print('json representation : \\n', total.to_obj())"
   ]
  },
  {
   "cell_type": "code",
   "execution_count": 9,
   "metadata": {},
   "outputs": [
    {
     "name": "stdout",
     "output_type": "stream",
     "text": [
      "Ilist[4, 6]\n",
      "Ilist[4, 6]\n",
      "complete image : \n",
      " [\"score\", [11, 13, 15, 10, 12, 15, 8, 17, 18, 2, 4, 18, 6]]\n",
      "\n",
      "[\"full name\", [\"anne white\", \"anne white\", \"anne white\", \"anne white\", \"anne white\", \"philippe white\", \"philippe white\", \"camille red\", \"camille red\", \"camille red\", \"camille red\", \"philippe black\", \"philippe black\"]]\n",
      "[\"last name\", [\"white\", \"white\", \"white\", \"white\", \"white\", \"white\", \"white\", \"red\", \"red\", \"red\", \"red\", \"black\", \"black\"]]\n",
      "[\"first name\", [\"anne\", \"anne\", \"anne\", \"anne\", \"anne\", \"philippe\", \"philippe\", \"camille\", \"camille\", \"camille\", \"camille\", \"philippe\", \"philippe\"]]\n",
      "[\"surname\", [\"skyler\", \"skyler\", \"skyler\", \"skyler\", \"skyler\", \"heisenberg\", \"heisenberg\", \"saul\", \"saul\", \"saul\", \"saul\", \"gus\", \"gus\"]]\n",
      "[\"group\", [\"gr1\", \"gr1\", \"gr1\", \"gr1\", \"gr1\", \"gr2\", \"gr2\", \"gr3\", \"gr3\", \"gr3\", \"gr3\", \"gr3\", \"gr3\"]]\n",
      "[\"course\", [\"math\", \"math\", \"math\", \"english\", \"english\", \"math\", \"english\", \"software\", \"software\", \"english\", \"english\", \"software\", \"english\"]]\n",
      "[\"year\", [2021, 2021, 2021, 2021, 2021, 2021, 2021, 2021, 2021, 2021, 2021, 2021, 2021]]\n",
      "[\"examen\", [\"t1\", \"t2\", \"t3\", \"t2\", \"t3\", \"t1\", \"t2\", \"t3\", \"t2\", \"t1\", \"t2\", \"t3\", \"t1\"]]\n",
      "\n",
      "\n",
      "complete image optimize format: \n",
      " [['score', [11, 13, 15, 10, 12, 15, 8, 17, 18, 2, 4, 18, 6], -1], ['full name', ['camille red', 'anne white', 'philippe white', 'philippe black'], [1, 1, 1, 1, 1, 2, 2, 0, 0, 0, 0, 3, 3]], ['last name', ['white', 'red', 'black'], [1, [1, 0, 0, 2]]], ['first name', ['philippe', 'camille', 'anne'], [1, [1, 2, 0, 0]]], ['surname', ['saul', 'skyler', 'heisenberg', 'gus'], 1], ['group', ['gr1', 'gr3', 'gr2'], [1, [1, 0, 2, 1]]], ['course', ['software', 'english', 'math'], [2, 2, 2, 1, 1, 2, 1, 0, 0, 1, 1, 0, 1]], ['year', [2021]], ['examen', ['t2', 't3', 't1'], [2, 0, 1, 0, 1, 2, 0, 1, 0, 2, 0, 1, 2]]]\n"
     ]
    }
   ],
   "source": [
    "img = total.merge(mergeidx=True)\n",
    "\n",
    "print('complete image : \\n', img)\n",
    "print('\\ncomplete image optimize format: \\n', img.to_obj())"
   ]
  },
  {
   "cell_type": "markdown",
   "metadata": {},
   "source": [
    "## relationship\n",
    "\n",
    "the relationships between Iindex can be shown with the image Ilist "
   ]
  },
  {
   "cell_type": "code",
   "execution_count": 11,
   "metadata": {},
   "outputs": [
    {
     "name": "stdout",
     "output_type": "stream",
     "text": [
      "[0, 5, 7]\n",
      "[{'name': 'full name', 'num': 0, 'typecoupl': 'crossed'},\n",
      " {'name': 'last name', 'num': 1, 'typecoupl': 'derived'},\n",
      " {'name': 'first name', 'num': 2, 'typecoupl': 'derived'},\n",
      " {'name': 'surname', 'num': 3, 'typecoupl': 'coupled'},\n",
      " {'name': 'group', 'num': 4, 'typecoupl': 'derived'},\n",
      " {'name': 'course', 'num': 5, 'typecoupl': 'linked'},\n",
      " {'name': 'year', 'num': 6, 'typecoupl': 'unique'},\n",
      " {'name': 'examen', 'num': 7, 'typecoupl': 'linked'}]\n"
     ]
    }
   ],
   "source": [
    "print(img.primary)\n",
    "pprint(img.indexinfos(keys=['num', 'name', 'typecoupl', 'rate']), width=120)  # axes analysis : three primary axes\n",
    "cm = img.couplingmatrix()      # coupling ratio between two axes :\n",
    "                                        # - high coupling between trim and month (83%)\n",
    "                                        # - no coupling between trim and course (0%)\n",
    "\n"
   ]
  },
  {
   "cell_type": "markdown",
   "metadata": {},
   "source": [
    "## reordering\n",
    "records can be reordered for all Iindex."
   ]
  },
  {
   "cell_type": "code",
   "execution_count": 5,
   "metadata": {},
   "outputs": [
    {
     "ename": "NameError",
     "evalue": "name 'il' is not defined",
     "output_type": "error",
     "traceback": [
      "\u001b[1;31m---------------------------------------------------------------------------\u001b[0m",
      "\u001b[1;31mNameError\u001b[0m                                 Traceback (most recent call last)",
      "\u001b[1;32m~\\AppData\\Local\\Temp\\ipykernel_22160\\179844528.py\u001b[0m in \u001b[0;36m<cell line: 1>\u001b[1;34m()\u001b[0m\n\u001b[1;32m----> 1\u001b[1;33m \u001b[0mil\u001b[0m\u001b[1;33m.\u001b[0m\u001b[0mreorder\u001b[0m\u001b[1;33m(\u001b[0m\u001b[1;33m[\u001b[0m\u001b[1;36m2\u001b[0m\u001b[1;33m,\u001b[0m \u001b[1;36m0\u001b[0m\u001b[1;33m,\u001b[0m \u001b[1;36m1\u001b[0m\u001b[1;33m,\u001b[0m \u001b[1;36m3\u001b[0m\u001b[1;33m,\u001b[0m \u001b[1;36m4\u001b[0m\u001b[1;33m]\u001b[0m\u001b[1;33m)\u001b[0m\u001b[1;33m\u001b[0m\u001b[1;33m\u001b[0m\u001b[0m\n\u001b[0m\u001b[0;32m      2\u001b[0m \u001b[0mprint\u001b[0m\u001b[1;33m(\u001b[0m\u001b[1;34m'reordered records  : \\n'\u001b[0m\u001b[1;33m,\u001b[0m \u001b[0mil\u001b[0m\u001b[1;33m)\u001b[0m\u001b[1;33m\u001b[0m\u001b[1;33m\u001b[0m\u001b[0m\n",
      "\u001b[1;31mNameError\u001b[0m: name 'il' is not defined"
     ]
    }
   ],
   "source": [
    "il.reorder([2, 0, 1, 3, 4])\n",
    "print('reordered records  : \\n', il)"
   ]
  },
  {
   "cell_type": "markdown",
   "metadata": {},
   "source": [
    "## filtering\n",
    "An Ilist object can be filter with a boolean Iindex."
   ]
  },
  {
   "cell_type": "code",
   "execution_count": null,
   "metadata": {},
   "outputs": [],
   "source": [
    "filt = list(map(lambda x: x>'b', il.nindex('month')))   # set a filter (True if 'month' > 'b')\n",
    "print(filt)\n",
    "\n",
    "il.setfilter(filt)\n",
    "il2 = il.applyfilter(inplace=False, delfilter=False)\n",
    "il3 = il.applyfilter(inplace=False, reverse=True)\n",
    "\n",
    "print('\\nil copy with only records with true Iindex filter : \\n', il2)\n",
    "print('\\nil copy with only records with false Iindex filter : \\n', il3)"
   ]
  }
 ],
 "metadata": {
  "kernelspec": {
   "display_name": "Python 3 (ipykernel)",
   "language": "python",
   "name": "python3"
  },
  "language_info": {
   "codemirror_mode": {
    "name": "ipython",
    "version": 3
   },
   "file_extension": ".py",
   "mimetype": "text/x-python",
   "name": "python",
   "nbconvert_exporter": "python",
   "pygments_lexer": "ipython3",
   "version": "3.9.12"
  }
 },
 "nbformat": 4,
 "nbformat_minor": 4
}
