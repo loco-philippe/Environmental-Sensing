{
 "cells": [
  {
   "cell_type": "code",
   "execution_count": 11,
   "id": "56bd5840",
   "metadata": {},
   "outputs": [],
   "source": [
    "'''\n",
    "This cell is only to prepare the example\n",
    "'''\n",
    "import os, json\n",
    "os.chdir('C:/Users/a179227/OneDrive - Alliance/perso Wx/ES standard/python ESstandard/ES')\n",
    "from ESObservation import Observation, ResultValue, ES, LocationValue, DatationValue\n",
    "from datetime import datetime\n",
    "from pprint import pprint\n",
    "import requests as rq"
   ]
  },
  {
   "cell_type": "code",
   "execution_count": 12,
   "id": "1d8fc5fa",
   "metadata": {
    "slideshow": {
     "slide_type": "-"
    }
   },
   "outputs": [
    {
     "name": "stdout",
     "output_type": "stream",
     "text": [
      "137 {\"type\":\"observation\",\"datvalue\":\"2021-05-05T10:08:00\",\"locvalue\":[2.35, 48.87],\"prpvalue\":{\"prp\": \"Temp\", \"unit\": \"°C\"},\"resvalue\":25.0}\n",
      "32 b'\\xa0U\\xe5\\x07\\x05\\x05\\n\\x08\\x004\\xe0\\x94f\\x01`\\xf8 \\x1dv\\x18\\x00\\x00\\x00\\x00\\x00\\x00\\x00\\x00\\x00\\x90@N'\n",
      "True\n",
      "{'datvalue': '2021-05-05T10:08:00',\n",
      " 'information': {'axes': [],\n",
      "                 'boudingBox': [2.35, 48.87, 2.35, 48.87],\n",
      "                 'complet': True,\n",
      "                 'dim': 0,\n",
      "                 'measureRate': 1.0,\n",
      "                 'nvaldat': 1,\n",
      "                 'nvalloc': 1,\n",
      "                 'nvalprop': 1,\n",
      "                 'nvalres': 1,\n",
      "                 'score': 111,\n",
      "                 'timeBox': ['2021-05-05T10:08:00', '2021-05-05T10:08:00'],\n",
      "                 'typedat': 'datationValue',\n",
      "                 'typeloc': 'locationValue',\n",
      "                 'typeobs': 'obs',\n",
      "                 'typeprop': 'propertyValue',\n",
      "                 'typeres': 'resultValue'},\n",
      " 'locvalue': [2.35, 48.87],\n",
      " 'prpvalue': {'prp': 'Temp', 'unit': '°C'},\n",
      " 'resvalue': 25.0,\n",
      " 'type': 'observation'}\n",
      "réponse :  200 \n",
      "\n"
     ]
    }
   ],
   "source": [
    "''' \n",
    "Case 1: Simple sensor\n",
    "\n",
    "A sensor encode and send an Observation.\n",
    "The server decode the Observation and store it into a database.\n",
    "'''\n",
    "# simulation of a measure\n",
    "time = \"2021-05-05T10:08\"\n",
    "coord = [2.35, 48.87]\n",
    "prop = {\"prp\":\"Temp\"}\n",
    "res = 25.0\n",
    "\n",
    "# Observation creation and encoding to Json or to binary data in the sensor\n",
    "ob_sensor = Observation((time, coord, prop, res))\n",
    "payload1 = ob_sensor.json           # if the payload is character payload\n",
    "print(len(payload1), payload1)\n",
    "payload2 = ob_sensor.to_bytes()     # if the payload is binary payload\n",
    "print(len(payload2), payload2)\n",
    "# next : send the payload with the network protocol\n",
    "\n",
    "# data decoding in the server\n",
    "ob_receive1 = Observation()\n",
    "ob_receive1.from_json(payload1)\n",
    "ob_receive2 = Observation()\n",
    "ob_receive2.from_bytes(payload2)\n",
    "print(ob_receive2.json == ob_receive1.json == ob_sensor.json)   # it's True !!\n",
    "\n",
    "# and store it in the database (example with NoSQL DataBase)\n",
    "jsonStore = ob_receive1.to_json(storage=True)    # add 'information' in the json to facilitate the research in the database\n",
    "pprint(json.loads(jsonStore))\n",
    "url = \"https://webhooks.mongodb-realm.com/api/client/v2.0/app/observation_app-wsjge/service/postObs/incoming_webhook/api?secret=10minutes\"\n",
    "r = rq.post(url, data=jsonStore)  \n",
    "print(\"réponse : \", r.status_code, \"\\n\")\n"
   ]
  },
  {
   "cell_type": "code",
   "execution_count": 13,
   "id": "43ede226",
   "metadata": {},
   "outputs": [
    {
     "name": "stdout",
     "output_type": "stream",
     "text": [
      "{\"type\":\"observation\",\"locvalue\":[2.35, 48.87],\"prpvalue\":{\"prp\": \"Temp\", \"unit\": \"°C\"}}\n",
      "38 {\"type\":\"observation\",\"resvalue\":25.0}\n",
      "4 b'\\xa0\\x90@N'\n",
      "True\n",
      "{\"type\":\"observation\",\"resvalue\":25.0,\"datvalue\":\"2022-01-18T12:11:58.553587\",\"locvalue\":[2.35, 48.87],\"prpvalue\":{\"prp\": \"Temp\", \"unit\": \"°C\"}}\n"
     ]
    }
   ],
   "source": [
    "'''\n",
    "case 2 : minimize data in operation\n",
    "\n",
    "In this example, the sensor is stationary and the property is fixed.\n",
    "In the initialization phase, an Observation with only Property and Location is sent.\n",
    "In the operation phase, an Observation with only Result is sent.\n",
    "The complete observation is reconstructed in the server.\n",
    "'''\n",
    "\n",
    "# initialization phase (sensor or server) -> once\n",
    "coord = [2.35, 48.87]\n",
    "prop = {\"prp\":\"Temp\"}\n",
    "ob_init = Observation(location=coord, property=prop)\n",
    "print(ob_init.json)\n",
    "\n",
    "# operation phase (sensor) -> regularly\n",
    "res = 25.0\n",
    "ob_operat = Observation(result=res)\n",
    "payload1 = ob_operat.json           # if the payload is character payload\n",
    "print(len(payload1), payload1)\n",
    "payload2 = ob_operat.to_bytes()     # if the payload is binary payload\n",
    "print(len(payload2), payload2)      # the payload is only 4 bytes long !!\n",
    "\n",
    "# next : send the payload with the network protocol\n",
    "\n",
    "# data decoding in the server\n",
    "ob_receive1 = Observation()\n",
    "ob_receive1.from_json(payload1)\n",
    "ob_receive2 = Observation()\n",
    "ob_receive2.from_bytes(payload2)\n",
    "print(ob_receive1.json == ob_receive2.json == ob_operat.json)   # it's True !!\n",
    "\n",
    "# complete observation\n",
    "ob_receive2.addValue(DatationValue(datetime.now()))\n",
    "ob_receive2.extend(ob_init)\n",
    "print(ob_receive2.json)\n"
   ]
  }
 ],
 "metadata": {
  "celltoolbar": "Aucun(e)",
  "kernelspec": {
   "display_name": "Python 3 (ipykernel)",
   "language": "python",
   "name": "python3"
  },
  "language_info": {
   "codemirror_mode": {
    "name": "ipython",
    "version": 3
   },
   "file_extension": ".py",
   "mimetype": "text/x-python",
   "name": "python",
   "nbconvert_exporter": "python",
   "pygments_lexer": "ipython3",
   "version": "3.9.7"
  },
  "widgets": {
   "application/vnd.jupyter.widget-state+json": {
    "state": {},
    "version_major": 2,
    "version_minor": 0
   }
  }
 },
 "nbformat": 4,
 "nbformat_minor": 5
}
