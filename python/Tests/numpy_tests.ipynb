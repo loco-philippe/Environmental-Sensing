{
 "cells": [
  {
   "cell_type": "markdown",
   "id": "32676b66",
   "metadata": {},
   "source": [
    "# JSON format for multidimensional data\n",
    "version : 2024-02-28"
   ]
  },
  {
   "cell_type": "markdown",
   "id": "5740ec57",
   "metadata": {},
   "source": [
    "## Introduction\n",
    "This memo is a proposal to implement a compact and reversible (lossless round-trip) JSON interface for multidimensional data and in particular for Numpy (see issue #12481).\n",
    "\n",
    "The [JSON-NTV](https://www.ietf.org/archive/id/draft-thomy-json-ntv-02.html) (Named and Typed value) format is a JSON format which integrates a notion of type .\n",
    "    \n",
    "In particular, it makes it possible to provide a reversible (lossless round-trip) interface for multidimensional data.\n",
    "     \n",
    "This format has also been implemented for [tabular data](https://www.ietf.org/archive/id/draft-thomy-ntv-tab-00.html) (see NTV-pandas package available in the [pandas ecosystem](https://pandas.pydata.org/community/ecosystem.html) and the [PDEP12](https://pandas.pydata.org/pdeps/0012-compact-and-reversible-JSON-interface.html) specification). .\n",
    "\n",
    "This memo presents a possible implementation for multidimensional data and in particular for Numpy."
   ]
  },
  {
   "cell_type": "markdown",
   "id": "9e00e726",
   "metadata": {},
   "source": [
    "## Benefits\n",
    "The use of this format has the following advantages:\n",
    "\n",
    "- Taking into account data types not known to Numpy,\n",
    "- Reversible format\n",
    "- Interoperability with other tools for tabular or multidimensional data (e.g. pandas, Xarray)\n",
    "- Ease of sharing Json format\n",
    "- Binary coding possible (e.g. CBOR format)\n",
    "- Format integrating data of different nature\n"
   ]
  },
  {
   "cell_type": "markdown",
   "id": "cbe4200a",
   "metadata": {},
   "source": [
    "## NTV data\n",
    "NTV format is a data representation with three attributes:\n",
    "- NTVname (string)\n",
    "- NTVtype (enumerate string)\n",
    "- NTVvalue (JSON object) \n",
    "\n",
    "Two entities are defined:\n",
    "- NTVlist : ordered list of entities\n",
    "- NTVsingle : entity not composed with other entities\n",
    "\n",
    "The JSON representation of NTVsingle entities is :\n",
    "- value :\n",
    "```json\n",
    "    25, 'test', [1,2]\n",
    "```\n",
    "\n",
    "- name and value : \n",
    "```json\n",
    "    {'test': 25}, {'test:': [1,2]}\n",
    "```\n",
    "- type and value :\n",
    "```json\n",
    "    {':day': 25}, {':point': [1,2]}\n",
    "```\n",
    "- type name and value : \n",
    "```json\n",
    "    {'equinox:date': '2023-09-23'}, {'paris:point': [2.35, 48.86]}\n",
    "```\n",
    "\n",
    "The JSON representation of NTVlist entities is :\n",
    "\n",
    "- { 'name_NTVlist:type_NTVlist': { JSON_entity1, ... JSONentityn } } if entities have JSON_member representation \n",
    "```json\n",
    "    { 'example': {'equinox:date': '2023-09-23', 'paris:point': [2.35, 48.86] }}\n",
    "```\n",
    "\n",
    "- { 'name_NTVlist:type_NTVlist': [ JSON_entity1, ... JSONentityn ] } in the other cases\n",
    "```json\n",
    "    { 'example': [25, {'paris:point': [2.35, 48.86] }, 'test']}\n",
    "```    "
   ]
  },
  {
   "cell_type": "markdown",
   "id": "1b19cd06",
   "metadata": {},
   "source": [
    "## Multidimensional data"
   ]
  },
  {
   "cell_type": "markdown",
   "id": "f8930b7d",
   "metadata": {},
   "source": [
    "### Multidimensional types\n",
    "To take multidimensional data into account, two types are added (see [Appendix](#Appendix---JSON-representation)):\n",
    "\n",
    "- `ndarray` (multidimensional array) : simple N-dimensional arrays of homogeneous data types \n",
    "- `xndarray` (multidimensional array with axes): N-dimensional arrays with additional data\n",
    "\n",
    "Numpy.array data (data + dtype) corresponds to ndarray format.\n",
    "The Xarray.DataArray data corresponds to the xndarray format.\n"
   ]
  },
  {
   "cell_type": "code",
   "execution_count": 1,
   "id": "3de3705c",
   "metadata": {},
   "outputs": [],
   "source": [
    "import numpy as np\n",
    "from pprint import pprint\n",
    "from json_ntv import Ntv\n",
    "import pandas as pd\n",
    "from shapely.geometry import Point\n",
    "import ntv_pandas as npd\n",
    "from numpy_ntv_connector import read_json, read_json_tab, to_json, to_json_tab"
   ]
  },
  {
   "cell_type": "markdown",
   "id": "5ef21d92",
   "metadata": {},
   "source": [
    "#### Simple Ndarray (type 'ndarray')"
   ]
  },
  {
   "cell_type": "code",
   "execution_count": 2,
   "id": "8a582291",
   "metadata": {},
   "outputs": [
    {
     "name": "stdout",
     "output_type": "stream",
     "text": [
      "example (with and without dtype) :\n",
      "\n",
      "{':ndarray': ['int32', [2, 3], [1, 2, 3, 4, 5, 6]]}\n",
      "{':ndarray': ['int32[kg]', [2, 3], [1, 2, 3, 4, 5, 6]]}\n",
      "{':ndarray': [[2, 3], [1, 2, 3, 4, 5, 6]]}\n",
      "\n",
      "reversibility :\n",
      "\n",
      "True\n"
     ]
    }
   ],
   "source": [
    "ex = np.arange(1, 7).reshape((2, 3))\n",
    "\n",
    "print(\"example (with and without dtype) :\\n\")\n",
    "print(to_json(ex))\n",
    "print(to_json(ex, extension='kg'))\n",
    "print(to_json(ex, notype=True))\n",
    "\n",
    "print(\"\\nreversibility :\\n\")\n",
    "ex2 = read_json(to_json(ex), header=False)\n",
    "print(np.array_equal(ex2, ex))"
   ]
  },
  {
   "cell_type": "markdown",
   "id": "ce35a5f8",
   "metadata": {},
   "source": [
    "#### Axed Ndarray (type 'xndarray')\n",
    "This type is associated to a Ndarray with additional data.\n",
    "\n",
    "- dims : list of name of each axis\n",
    "- coords : dict of 1-dimensional ndarray for each axis\n",
    "\n",
    "Example\n",
    "```json\n",
    "{'example1:xndarray':\n",
    "    {'data'  : ['int32', [2, 3, 2], [1, 2, 3, 4, 5, 6, 7, 8, 9, 10, 11, 12]], \n",
    "     'dims'   : ['x', 'y', 'option'],\n",
    "     'coords' : {\n",
    "         'x': [['x1', 'x2']] , \n",
    "         'y': [['y1', 'y2', 'y3']],\n",
    "         'option': [[True, False]]}\n",
    "}\n",
    "```"
   ]
  },
  {
   "cell_type": "code",
   "execution_count": 3,
   "id": "2e18f8ff",
   "metadata": {},
   "outputs": [
    {
     "name": "stdout",
     "output_type": "stream",
     "text": [
      "\n",
      "example with additional data :\n",
      "\n",
      "{'test:xndarray': {'coords': {'option': [[True, False]], 'x': [['x1', 'x2']], 'y': [['y1', 'y2', 'y3']]},\n",
      "                   'data': ['int32', [2, 3, 2], [1, 2, 3, 4, 5, 6, 7, 8, 9, 10, 11, 12]],\n",
      "                   'dims': ['x', 'y', 'option']}}\n",
      "\n",
      "reversibility :\n",
      "\n",
      "True True\n"
     ]
    }
   ],
   "source": [
    "# example with axes names and axes variables\n",
    "a = np.arange(1, 13).reshape((2, 3, 2))\n",
    "add = {'dims'   : ['x', 'y', 'option'],\n",
    "       'coords' : {\n",
    "         'x': [['x1', 'x2']] , \n",
    "         'y': [['y1', 'y2', 'y3']],\n",
    "         'option': [[True, False]]}}\n",
    "\n",
    "print(\"\\nexample with additional data :\\n\")\n",
    "pprint(to_json(a, add=add, name='test', extension='kg'), width=150)\n",
    "\n",
    "print(\"\\nreversibility :\\n\")\n",
    "a2, add2 = read_json(to_json(a, add=add), header=False)\n",
    "print(np.array_equal(a2, a), add2 == add)"
   ]
  },
  {
   "cell_type": "markdown",
   "id": "799233ac",
   "metadata": {},
   "source": [
    "#### Full axed Ndarray (type 'xndarray')\n",
    "Additional data can be non-axes variables (`xndarray` included in 'coords') or metadata (keyword `attrs`).\n",
    "\n",
    "Example :\n",
    "\n",
    "```json\n",
    "{'example2:xndarray':\n",
    "    {'data'  : ['int32', [2, 3, 2], [1, 2, 3, 4, 5, 6, 7, 8, 9, 10, 11, 12]], \n",
    "     'dims'   : ['x', 'y', 'option'],\n",
    "     'coords' : {\n",
    "         'x': [['x1', 'x2']] , \n",
    "         'y': ['string', ['y1', 'y2', 'y3']],\n",
    "         'option': [[True, False]],\n",
    "         'xy': {'dims': ['x','y'], 'data': [[2,3], ['x1y1','x1y2','x1y3','x2y1','x2y2','x2y3']]}, \n",
    "         'opt_num': {'dims': ['option'], 'data': [[0, 1]]}},\n",
    "     'attrs'  : {'meta': 'everything'}}\n",
    "}\n",
    "```"
   ]
  },
  {
   "cell_type": "markdown",
   "id": "60b52c1a",
   "metadata": {},
   "source": [
    "### Format JSON\n",
    "The JSON representation is obtained by:\n",
    "\n",
    "- Converting structure of Numpy data into JSON structure\n",
    "- Conversion of elementary data into a JSON primitive,\n",
    "- Mapping the Numpy dtype and the nature of the object into an NTV type\n",
    "\n",
    "These functions are similar to those used for the JSON-NTV representation of Pandas data ([see pandas examples](https://nbviewer.org/github/loco-philippe/ntv-pandas/blob/main/example/example_ntv_pandas.ipynb)).\n",
    "\n",
    "See mapping example with `ndarray` below (with `xndarray` the NTVtype is included in the full JSON object)."
   ]
  },
  {
   "cell_type": "markdown",
   "id": "b80479a9",
   "metadata": {},
   "source": [
    "#### Data with numpy dtype\n",
    "The NTVtype is deduced from the dtype (int_xx, uint_xx, float_xx, bool, bytes, str, datetime64, timedelta).\n",
    "\n",
    "```python\n",
    "np.array([1, 2], dtype='int64')                               <-> ['int64', [1, 2]]\n",
    "np.array([True, False], dtype='bool')                         <-> ['boolean', [True, False]]\n",
    "np.array(['1+2j', 1], dtype='complex')                        <-> ['complex', ['1.+2.j', '1.0.j']]\n",
    "np.array(['test1', 'test2'], dtype='str_')                    <-> ['string', ['test1', 'test2']]\n",
    "np.array(['2022-01-01T10:05:21'], dtype='datetime64')         <-> ['datetime', ['2022-01-01T10:05:21']]\n",
    "np.array(['2022-01-01', '2023-01-01'], dtype='datetime64[D]') <-> ['date', ['2022-01-01', '2023-01-01']]\n",
    "np.array(['2022-01', '2023-01'], dtype='datetime64[M]')       <-> ['yearmonth', ['2022-01', '2023-01']]\n",
    "np.array(['2022', '2023'], dtype='datetime64[Y]')             <-> ['year', ['2022', '2023']]\n",
    "np.array([1,2], dtype = 'timedelta[D]')                       <-> ['timedelta[D]', [1, 2]]\n",
    "np.array([b'abc\\x09', b'abc'], dtype = 'bytes')               <-> ['binary', ['abc\\x09', 'abc']]\n",
    "```"
   ]
  },
  {
   "cell_type": "markdown",
   "id": "49a14099",
   "metadata": {},
   "source": [
    "#### Data with standard python type\n",
    "The NTVtype is deduced from the python type (time, list, dict, None, decimal64).\n",
    "\n",
    "```python\n",
    "np.array([datetime.time(10, 2, 3)], dtype='object')   <-> ['time', ['10:02:03']]\n",
    "np.array(pd.array([[1,2], [3,4]]), dtype='object')    <-> ['array', [[1,2], [3,4]]]\n",
    "np.array([{'one':1}, {'two':2}], dtype='object')      <-> ['object', [{'one':1}, {'two':2}]]\n",
    "np.array([None], dtype='object')                      <-> ['null', [None]]\n",
    "np.array([Decimal('10.2')], dtype='object')           <-> ['decimal64', [10.2]]\n",
    "```"
   ]
  },
  {
   "cell_type": "markdown",
   "id": "e0a0cf34",
   "metadata": {},
   "source": [
    "#### Data with python object \n",
    "The NTVtype (ndarray, ntv, point, line, polygon, field, tab) is deduced from the type of the python objects.\n",
    "\n",
    "```python\n",
    "np.array([np.array([1, 2], dtype='int64'), np.array(['test1'], dtype='str_')], \n",
    "         dtype='object')                           <-> ['ndarray', [['int64', [1, 2]], \n",
    "                                                                    ['string', ['test1']]]]\n",
    "ntv = np.empty(2, dtype='object')\n",
    "ntv[:] = [Ntv.obj({':point':[1,2]}), NtvSingle(12, 'noon', 'hour')]\n",
    "ntv                                                <-> ['ntv', [{\":point\": [1, 2]}, {\"noon:hour\": 12}]\n",
    "np.array([Point([1,2]), Point([3,4])])             <-> ['point', [[1, 2], [3, 4]]]\n",
    "np.array([LineaRing([[0, 0], [0, 1], [1, 1]])])    <-> ['line', [[0.,0.], [0.,1.], [1.,1.], [0.,0.]]]\n",
    "np.array([pd.Series([1,2,3])])                     <-> ['field', {'test': [1, 2, 3]}]\n",
    "np.array([pd.DataFrame({'::date': ['1964-01-01', '1985-02-05'], \n",
    "                        'names::string': ['john', 'eric']})])\n",
    "                                                   <-> ['tab', {'::date': ['1964-01-01', '1985-02-05'],\n",
    "                                                                'names::string': ['john', 'eric']}]\n",
    "```"
   ]
  },
  {
   "cell_type": "markdown",
   "id": "0451f8af",
   "metadata": {},
   "source": [
    "#### Other data\n",
    "The NTVtype can't be inferred from the python type or the numpy dtype. It should be included in additional data.\n",
    "It concerns: \n",
    "\n",
    "- type with extension (e.g. number with unit),\n",
    "- number with generic format (json, int, float, number)\n",
    "- number with semantic value (month, day, wday, yday, week, hour, minute, second)\n",
    "- string with semantic value (base16, base32, base64, period, duration, jpointer, uri, uriref, iri, iriref, email, regex, hostname, ipv4, ipv6, file, geojson)\n",
    "- object with semantic value (geometry, timearray)\n",
    "\n",
    "Examples with tuple (name, data):\n",
    "\n",
    "```python\n",
    "( 'int64[kg]', np.array([[1, 2], [3,4]]) )                 <-> ['int64[kg]', [2,2], [1, 2, 3, 4]]\n",
    "( 'int', np.array([[1, 2], [3,4]]) )                       <-> ['int', [2,2], [1, 2, 3, 4]]\n",
    "( 'json', np.array([1, 'two']) )                           <-> ['json', [1, 'two']]\n",
    "( 'month', np.array([1, 2]) )                              <-> ['month', [1, 2]]\n",
    "( 'base16', np.array(['1F23', '236A5E']) )                 <-> ['base16', ['1F23', '236A5E']]\n",
    "( 'duration', np.array(['P3Y6M4DT12H30M5S']) )             <-> ['duration', ['P3Y6M4DT12H30M5S']]\n",
    "( 'uri', np.array(['geo:13.4125,103.86673']) )             <-> ['uri', ['geo:13.4125,103.86673']]\n",
    "( 'email', np.array(['John Doe <jdoe@mac.example>']) )     <-> ['email', ['John Doe <jdoe@mac.example>']]\n",
    "( 'ipv4', np.array(['192.168.1.1']) )                      <-> ['ipv4', ['192.168.1.1']]\n",
    "```"
   ]
  },
  {
   "cell_type": "markdown",
   "id": "671c0831",
   "metadata": {},
   "source": [
    "### Using in NTV data\n",
    "The NTV format makes it possible to group data of different types in the same structure or in specific structure ([see NTV overview](https://nbviewer.org/github/loco-philippe/NTV/blob/main/example/example_ntv.ipynb))."
   ]
  },
  {
   "cell_type": "markdown",
   "id": "e307b218",
   "metadata": {},
   "source": [
    "#### Include Ndarray in NTV structure"
   ]
  },
  {
   "cell_type": "code",
   "execution_count": 4,
   "id": "24371b51",
   "metadata": {},
   "outputs": [
    {
     "name": "stdout",
     "output_type": "stream",
     "text": [
      "example NTVsingle (Json and object representation)\n",
      "\n",
      "{\"simple:ndarray\": [\"int32\", [1, 2, 3, 4, 5, 6]]}\n",
      "{'simple': array([1, 2, 3, 4, 5, 6])}\n",
      "\n",
      "example NTVlist (Json and object representation)\n",
      "\n",
      "\n",
      "{\"list::ndarray\": [[\"int32\", [1, 2, 3, 4, 5, 6]], {\"second ndarray\": [\"int32\", [1, 2, 3, 4]]}, [\"int32\", [1, 2, 3, 4]]]}\n",
      "{'list::ndarray': [array([1, 2, 3, 4, 5, 6]),\n",
      "                   {'second ndarray': array([1, 2, 3, 4])},\n",
      "                   array([1, 2, 3, 4])]}\n",
      "\n",
      "example NTVlist with mixed data (Json and object representation)\n",
      "\n",
      "\n",
      "{\"mixed\": {\":ndarray\": [\"int32\", [1, 2, 3, 4]], \"coordinate:point\": [1.0, 2.0], \"pandas series:field\": [1, 2, 3]}}\n",
      "{'mixed': [array([1, 2, 3, 4]), {'coordinate': <POINT (1 2)>}, {'pandas series': 0    1\n",
      "1    2\n",
      "2    3\n",
      "dtype: int64}]}\n"
     ]
    }
   ],
   "source": [
    "nd1 = np.array([1, 2, 3, 4, 5, 6])\n",
    "nd2 = np.array([1, 2, 3, 4])\n",
    "nd3 = np.array([1, 2, 3, 4])\n",
    "# simple\n",
    "print('example NTVsingle (Json and object representation)\\n')\n",
    "simple = Ntv.obj({'simple:ndarray': nd1})\n",
    "print(simple)\n",
    "pprint(simple.to_obj(format='obj'))\n",
    "# list\n",
    "print('\\nexample NTVlist (Json and object representation)\\n')\n",
    "a_list = Ntv.obj({'list::ndarray': [nd1, {'second ndarray': nd2}, nd3]})\n",
    "print('\\n' + str(a_list))\n",
    "pprint(a_list.to_obj(format='obj'))\n",
    "# mixte\n",
    "print('\\nexample NTVlist with mixed data (Json and object representation)\\n')\n",
    "mixte = Ntv.obj({'mixed': [nd2, {'coordinate':Point(1,2)}, {'pandas series': pd.Series([1,2,3])}]})\n",
    "print('\\n' + str(mixte))\n",
    "pprint(mixte.to_obj(format='obj'), width=150)"
   ]
  },
  {
   "cell_type": "markdown",
   "id": "aa747bf3",
   "metadata": {},
   "source": [
    "#### Include Ndarray in other objects"
   ]
  },
  {
   "cell_type": "code",
   "execution_count": 5,
   "id": "70002be3",
   "metadata": {},
   "outputs": [
    {
     "name": "stdout",
     "output_type": "stream",
     "text": [
      "{\"mixin:field\": [1, 2, {\":ndarray\": [\"int32\", [1, 2, 3, 4]]}]}\n"
     ]
    }
   ],
   "source": [
    "sr = pd.Series([1, 2, np.array([1, 2, 3, 4])])\n",
    "mixin = Ntv.obj({'mixin': sr})\n",
    "print(mixin)\n"
   ]
  },
  {
   "cell_type": "markdown",
   "id": "ecec3eda",
   "metadata": {},
   "source": [
    "### Equivalence of tabular format and multi-dimensional format\n",
    "The conversion between the two tabular and multi-dimensional formats is simple and lossless.\n",
    "\n",
    "We can therefore share data between a tabular tool and a multidimensional tool via this format."
   ]
  },
  {
   "cell_type": "markdown",
   "id": "229e4f41",
   "metadata": {},
   "source": [
    "#### Format conversion"
   ]
  },
  {
   "cell_type": "code",
   "execution_count": 6,
   "id": "d7012d8d",
   "metadata": {},
   "outputs": [
    {
     "name": "stdout",
     "output_type": "stream",
     "text": [
      "example without axes :\n",
      "\n",
      "{':ndarray': ['int32', [2, 3], [1, 2, 3, 4, 5, 6]]}\n",
      "{':tab': {'data::int32': [1, 2, 3, 4, 5, 6],\n",
      "          'dim_0': [[0, 1], [3]],\n",
      "          'dim_1': [[0, 1, 2], [1]]}}\n",
      "\n",
      "example with axes :\n",
      "\n",
      "{':xndarray': {'coords': {'option': [[True, False]], 'x': [['x1', 'x2']], 'y': [['y1', 'y2', 'y3']]},\n",
      "               'data': ['int32', [2, 3, 2], [1, 2, 3, 4, 5, 6, 7, 8, 9, 10, 11, 12]],\n",
      "               'dims': ['x', 'y', 'option']}}\n",
      "{':tab': {'data::int32': [1, 2, 3, 4, 5, 6, 7, 8, 9, 10, 11, 12],\n",
      "          'option': [[True, False], [1]],\n",
      "          'x': [['x1', 'x2'], [6]],\n",
      "          'y': [['y1', 'y2', 'y3'], [2]]}}\n"
     ]
    }
   ],
   "source": [
    "print(\"example without axes :\\n\")\n",
    "pprint(to_json(ex))\n",
    "pprint(to_json_tab(ex))\n",
    "\n",
    "print(\"\\nexample with axes :\\n\")\n",
    "pprint(to_json(a, add=add), width=150)\n",
    "pprint(to_json_tab(a, add), width=150)"
   ]
  },
  {
   "cell_type": "markdown",
   "id": "bec200ec",
   "metadata": {},
   "source": [
    "#### Compatibility with tabular tools"
   ]
  },
  {
   "cell_type": "code",
   "execution_count": 7,
   "id": "ed8eabb6",
   "metadata": {},
   "outputs": [
    {
     "name": "stdout",
     "output_type": "stream",
     "text": [
      "pandas DataFrame :\n"
     ]
    },
    {
     "data": {
      "text/html": [
       "<div>\n",
       "<style scoped>\n",
       "    .dataframe tbody tr th:only-of-type {\n",
       "        vertical-align: middle;\n",
       "    }\n",
       "\n",
       "    .dataframe tbody tr th {\n",
       "        vertical-align: top;\n",
       "    }\n",
       "\n",
       "    .dataframe thead th {\n",
       "        text-align: right;\n",
       "    }\n",
       "</style>\n",
       "<table border=\"1\" class=\"dataframe\">\n",
       "  <thead>\n",
       "    <tr style=\"text-align: right;\">\n",
       "      <th></th>\n",
       "      <th>dim_0</th>\n",
       "      <th>dim_1</th>\n",
       "      <th>data</th>\n",
       "    </tr>\n",
       "  </thead>\n",
       "  <tbody>\n",
       "    <tr>\n",
       "      <th>0</th>\n",
       "      <td>0</td>\n",
       "      <td>0</td>\n",
       "      <td>1</td>\n",
       "    </tr>\n",
       "    <tr>\n",
       "      <th>1</th>\n",
       "      <td>0</td>\n",
       "      <td>1</td>\n",
       "      <td>2</td>\n",
       "    </tr>\n",
       "    <tr>\n",
       "      <th>2</th>\n",
       "      <td>0</td>\n",
       "      <td>2</td>\n",
       "      <td>3</td>\n",
       "    </tr>\n",
       "    <tr>\n",
       "      <th>3</th>\n",
       "      <td>1</td>\n",
       "      <td>0</td>\n",
       "      <td>4</td>\n",
       "    </tr>\n",
       "    <tr>\n",
       "      <th>4</th>\n",
       "      <td>1</td>\n",
       "      <td>1</td>\n",
       "      <td>5</td>\n",
       "    </tr>\n",
       "    <tr>\n",
       "      <th>5</th>\n",
       "      <td>1</td>\n",
       "      <td>2</td>\n",
       "      <td>6</td>\n",
       "    </tr>\n",
       "  </tbody>\n",
       "</table>\n",
       "</div>"
      ],
      "text/plain": [
       "  dim_0 dim_1  data\n",
       "0     0     0     1\n",
       "1     0     1     2\n",
       "2     0     2     3\n",
       "3     1     0     4\n",
       "4     1     1     5\n",
       "5     1     2     6"
      ]
     },
     "metadata": {},
     "output_type": "display_data"
    },
    {
     "data": {
      "text/html": [
       "<div>\n",
       "<style scoped>\n",
       "    .dataframe tbody tr th:only-of-type {\n",
       "        vertical-align: middle;\n",
       "    }\n",
       "\n",
       "    .dataframe tbody tr th {\n",
       "        vertical-align: top;\n",
       "    }\n",
       "\n",
       "    .dataframe thead th {\n",
       "        text-align: right;\n",
       "    }\n",
       "</style>\n",
       "<table border=\"1\" class=\"dataframe\">\n",
       "  <thead>\n",
       "    <tr style=\"text-align: right;\">\n",
       "      <th></th>\n",
       "      <th>x</th>\n",
       "      <th>y</th>\n",
       "      <th>option</th>\n",
       "      <th>data</th>\n",
       "    </tr>\n",
       "  </thead>\n",
       "  <tbody>\n",
       "    <tr>\n",
       "      <th>0</th>\n",
       "      <td>x1</td>\n",
       "      <td>y1</td>\n",
       "      <td>True</td>\n",
       "      <td>1</td>\n",
       "    </tr>\n",
       "    <tr>\n",
       "      <th>1</th>\n",
       "      <td>x1</td>\n",
       "      <td>y1</td>\n",
       "      <td>False</td>\n",
       "      <td>2</td>\n",
       "    </tr>\n",
       "    <tr>\n",
       "      <th>2</th>\n",
       "      <td>x1</td>\n",
       "      <td>y2</td>\n",
       "      <td>True</td>\n",
       "      <td>3</td>\n",
       "    </tr>\n",
       "    <tr>\n",
       "      <th>3</th>\n",
       "      <td>x1</td>\n",
       "      <td>y2</td>\n",
       "      <td>False</td>\n",
       "      <td>4</td>\n",
       "    </tr>\n",
       "    <tr>\n",
       "      <th>4</th>\n",
       "      <td>x1</td>\n",
       "      <td>y3</td>\n",
       "      <td>True</td>\n",
       "      <td>5</td>\n",
       "    </tr>\n",
       "    <tr>\n",
       "      <th>5</th>\n",
       "      <td>x1</td>\n",
       "      <td>y3</td>\n",
       "      <td>False</td>\n",
       "      <td>6</td>\n",
       "    </tr>\n",
       "    <tr>\n",
       "      <th>6</th>\n",
       "      <td>x2</td>\n",
       "      <td>y1</td>\n",
       "      <td>True</td>\n",
       "      <td>7</td>\n",
       "    </tr>\n",
       "    <tr>\n",
       "      <th>7</th>\n",
       "      <td>x2</td>\n",
       "      <td>y1</td>\n",
       "      <td>False</td>\n",
       "      <td>8</td>\n",
       "    </tr>\n",
       "    <tr>\n",
       "      <th>8</th>\n",
       "      <td>x2</td>\n",
       "      <td>y2</td>\n",
       "      <td>True</td>\n",
       "      <td>9</td>\n",
       "    </tr>\n",
       "    <tr>\n",
       "      <th>9</th>\n",
       "      <td>x2</td>\n",
       "      <td>y2</td>\n",
       "      <td>False</td>\n",
       "      <td>10</td>\n",
       "    </tr>\n",
       "    <tr>\n",
       "      <th>10</th>\n",
       "      <td>x2</td>\n",
       "      <td>y3</td>\n",
       "      <td>True</td>\n",
       "      <td>11</td>\n",
       "    </tr>\n",
       "    <tr>\n",
       "      <th>11</th>\n",
       "      <td>x2</td>\n",
       "      <td>y3</td>\n",
       "      <td>False</td>\n",
       "      <td>12</td>\n",
       "    </tr>\n",
       "  </tbody>\n",
       "</table>\n",
       "</div>"
      ],
      "text/plain": [
       "     x   y option  data\n",
       "0   x1  y1   True     1\n",
       "1   x1  y1  False     2\n",
       "2   x1  y2   True     3\n",
       "3   x1  y2  False     4\n",
       "4   x1  y3   True     5\n",
       "5   x1  y3  False     6\n",
       "6   x2  y1   True     7\n",
       "7   x2  y1  False     8\n",
       "8   x2  y2   True     9\n",
       "9   x2  y2  False    10\n",
       "10  x2  y3   True    11\n",
       "11  x2  y3  False    12"
      ]
     },
     "metadata": {},
     "output_type": "display_data"
    },
    {
     "name": "stdout",
     "output_type": "stream",
     "text": [
      "dtypes:\n",
      "x         category\n",
      "y         category\n",
      "option    category\n",
      "data         int32\n",
      "dtype: object\n"
     ]
    }
   ],
   "source": [
    "print('pandas DataFrame :')\n",
    "ex_df = npd.read_json(to_json_tab(ex))\n",
    "display(ex_df)\n",
    "\n",
    "a_df = npd.read_json(to_json_tab(a, add))\n",
    "display(a_df)\n",
    "print('dtypes:\\n' + str(a_df.dtypes))"
   ]
  },
  {
   "cell_type": "markdown",
   "id": "55b77019",
   "metadata": {},
   "source": [
    "### tabular data to multidimensional data\n",
    "Tabular data can be analysed to identify the dimension and the fields associated to each axe"
   ]
  },
  {
   "cell_type": "code",
   "execution_count": 8,
   "id": "026fd5f0",
   "metadata": {},
   "outputs": [
    {
     "name": "stdout",
     "output_type": "stream",
     "text": [
      "dimension:\n",
      " 3\n",
      "\n",
      "partition:\n",
      " {'primary': ['x', 'y', 'option'], 'secondary': [], 'unique': [], 'variable': ['data']}\n"
     ]
    }
   ],
   "source": [
    "analys = a_df.npd.analysis(True)\n",
    "print('dimension:\\n', analys.dimension)\n",
    "partition = analys.field_partition(mode='id')\n",
    "print('\\npartition:\\n', partition)"
   ]
  },
  {
   "cell_type": "markdown",
   "id": "4ed823a4",
   "metadata": {},
   "source": [
    "'primary' fields are converted into axes.\n",
    "\n",
    "The shape is deduced from the length of axes (categorical format)"
   ]
  },
  {
   "cell_type": "code",
   "execution_count": 9,
   "id": "8d08ccf8",
   "metadata": {},
   "outputs": [
    {
     "name": "stdout",
     "output_type": "stream",
     "text": [
      "\n",
      "reversibility :\n",
      "\n",
      "True True\n"
     ]
    }
   ],
   "source": [
    "a_df_sort = a_df.sort_values(partition['primary'])\n",
    "a3, add3 = read_json_tab(a_df_sort.npd.to_json(header=False, index=False))\n",
    "\n",
    "print(\"\\nreversibility :\\n\")\n",
    "print(np.array_equal(a3, a), Ntv.obj(add3) == Ntv.obj(add))"
   ]
  },
  {
   "cell_type": "markdown",
   "id": "6d7039ad",
   "metadata": {},
   "source": [
    "## Astropy specific points\n",
    "This chapter presents some points related to the Astropy data structure that can be integrated into the JSON-NTV format."
   ]
  },
  {
   "cell_type": "markdown",
   "id": "28a59cbe",
   "metadata": {},
   "source": [
    "### Units and quantities\n",
    "- 'unit' is a specif type\n",
    "- three options are available for quantities:\n",
    "\n",
    "    - option 1 : add specific types including unit\n",
    "    - option 2 : add unit as type extension for existing types\n",
    "    - option 3 : including unit in the name\n",
    "\n",
    "- Option 2 is retained \n",
    "\n",
    "    - This option can be extended to other usages. For example:\n",
    "    \n",
    "    ```\n",
    "    {\"comment:string[fr]\": \"Paris est une belle ville\"}\n",
    "    ```\n",
    "\n",
    "    - This option is compatible with NTV structure. For example \n",
    "    \n",
    "    ```\n",
    "    {\"list_of_ndarray::ndarray[kg]\": { \"array1\": [1, 2, 3, 4], \"array2\": [5, 6, 7, 8]}}\n",
    "    ```"
   ]
  },
  {
   "cell_type": "code",
   "execution_count": 10,
   "id": "bbca3534",
   "metadata": {},
   "outputs": [
    {
     "name": "stdout",
     "output_type": "stream",
     "text": [
      "json representation :\n",
      " {\"array1:ndarray[kg]\": [[2, 2], [1, 2, 3, 4]]}\n",
      "\n",
      "Ndarray representation :\n",
      " {'array1:ndarray[kg]': array([[1, 2],\n",
      "       [3, 4]])}\n"
     ]
    }
   ],
   "source": [
    "ntv = Ntv.obj({\"list_of_ndarray::ndarray[kg]\": { \"array1\": [[2, 2], [1, 2, 3, 4]], \"array2\": [[2, 2], [5, 6, 7, 8]]}})\n",
    "print('json representation :\\n', ntv[0])\n",
    "print('\\nNdarray representation :\\n', ntv[0].to_obj(format='obj', type=True))"
   ]
  },
  {
   "cell_type": "markdown",
   "id": "ef977f55",
   "metadata": {},
   "source": [
    "Example Unit\n",
    "\n",
    "```\n",
    "{'mass:unit': 'kg'}\n",
    "```\n",
    "    \n",
    "Example Quantities\n",
    "\n",
    "```\n",
    "{'ex_simple:[m/s]':            0.47}\n",
    "{'ex_simple_typ:float64[m/s]': 0.47}\n",
    "{'ex_array:ndarray[m/s]':      [2., 2.5, 3., 3.5, 4., 4.5, 5.]}\n",
    "{'ex_array_typ:ndarray[m/s]':  ['float64', [2., 2.5, 3., 3.5, 4., 4.5, 5.]]}\n",
    "```"
   ]
  },
  {
   "cell_type": "markdown",
   "id": "473a5964",
   "metadata": {},
   "source": [
    "### Coordinates\n",
    "The existing 'point' type (and also the other types: pointstr, line, polygon, multipolygon, box...) can be used with the coordinate object (perhaps with a type extension). e.g.\n",
    "\n",
    "```\n",
    "{':point[icrs]' : [ 10.625, 41.2] }\n",
    "```"
   ]
  },
  {
   "cell_type": "markdown",
   "id": "f530928e",
   "metadata": {},
   "source": [
    "### Table\n",
    "The `Table` or `Qtable` object is represented using the `tab` format dedicated to tabular structures. \n",
    "\n",
    "```\n",
    "{'ex_table:tab': {'x:string': ['x1', 'x1', 'x2', 'x2'], \n",
    "                  'y:string': ['y1', 'y2', 'y1', 'y2'], \n",
    "                  'value:float64[kg]': [1.0, 2.0, 3.0, 4.0],\n",
    "                  'meta': 'everything'}\n",
    "```\n",
    "\n",
    "This ensures interoperability between tabular tools (e.g. Pandas).\n"
   ]
  },
  {
   "cell_type": "markdown",
   "id": "a6451d8d",
   "metadata": {},
   "source": [
    "### Other structures\n",
    "\n",
    "The other structures were not examined. They can be integrated using the following tools:\n",
    "\n",
    "- Addition of new types: for types having a transversal character\n",
    "- Adding type via a Namespace: for types associated with specific data (e.g. “astro.xxx)\n",
    "- Definition of an imposed structure for a given type\n",
    "- Using specific type extension\n"
   ]
  },
  {
   "cell_type": "markdown",
   "id": "836c411b",
   "metadata": {},
   "source": [
    "## Appendix - JSON representation"
   ]
  },
  {
   "cell_type": "markdown",
   "id": "4001e5df",
   "metadata": {},
   "source": [
    "### Multidimension\n",
    "Multidimensional data is expressed with the JSON structure as a nested JSON-array. \n",
    "This representation has an drawback: It is not possible to include objects represented by an array in this structure.\n",
    "\n",
    "    e.g. What is the JSON representation of this 1-dimension ndarray : array([list([1, 2]), list([3, 4])], dtype=object) ? \n",
    "\n",
    "A first solution is to use a JSON-object instead of a JSON-array :\n",
    "\n",
    "```json\n",
    "    [{\":array\":[1, 2]}, {\":array\":[3, 4]}]\n",
    "```\n",
    "\n",
    "A second solution is to convert an array to a string :\n",
    "\n",
    "```json\n",
    "    [\"[1, 2]\", \"[3, 4]\"]\n",
    "```\n",
    "\n",
    "A third solution is to represent the shape and the flattened array :\n",
    "\n",
    "```json\n",
    "    [[2], [1, 2, 3, 4]]\n",
    "```       \n"
   ]
  },
  {
   "cell_type": "markdown",
   "id": "5c33857c",
   "metadata": {},
   "source": [
    "### Type representation"
   ]
  },
  {
   "cell_type": "markdown",
   "id": "f9f2cf03",
   "metadata": {},
   "source": [
    "Another constraint is to represent the data type. Three options :\n",
    "\n",
    "option 1 : use NTV representation  -> The examples above will become\n",
    "\n",
    "```json\n",
    "    {\":int32\": [{\":array\":[1, 2]}, {\":array\":[3, 4]}]}\n",
    "    {\":int32\": [\"[1, 2]\", \"[3, 4]\"]}\n",
    "    {\":int32\": [[2], [1, 2, 3, 4]]}\n",
    "```\n",
    "\n",
    "option 2 : use JSON-array representation  -> The examples above will become\n",
    "\n",
    "```json\n",
    "    [\"int32\", [{\":array\":[1, 2]}, {\":array\":[3, 4]}]]\n",
    "    [\"int32\", [\"[1, 2]\", \"[3, 4]\"]]\n",
    "    [\"int32\", [2], [1, 2, 3, 4]]\n",
    "```\n",
    "\n",
    "option 3 : use JSON_object representation  -> The examples above will become\n",
    "\n",
    "```json\n",
    "    {\"type\": \"int32\", \"data\": [{\":array\":[1, 2]}, {\":array\":[3, 4]}]]}\n",
    "    {\"type\": \"int32\", \"data\": [\"[1, 2]\", \"[3, 4]\"]]}\n",
    "    {\"type\": \"int32\", \"shape\": [2], \"data\": [1, 2, 3, 4]]]\n",
    "```\n"
   ]
  },
  {
   "cell_type": "markdown",
   "id": "ae5b2dc1",
   "metadata": {},
   "source": [
    "### Additional data"
   ]
  },
  {
   "cell_type": "markdown",
   "id": "e264049c",
   "metadata": {},
   "source": [
    "Multidimensional data is associated with complementary data :\n",
    "- Name of axes (one axis per dimension)\n",
    "- Axis values (optional)\n",
    "- Additional variables associated with one or more axes (optional)\n",
    "- Metadata (optional)\n",
    "- name (optional)\n",
    "\n",
    "The JSON representation must take this additional data into account.\n",
    "\n",
    "Two solutions :\n",
    "- solution 1 : structure multi-dimensional data + additional data\n",
    "```json\n",
    " {'data'   : ['int32', [2, 3, 2, 2], \n",
    "              [1, 2, 3, 4, 5, 6, 7, 8, 9, 10, 11, 12, 13, 14, 15, 16, 17, 18, 19, 20, 21, 22, 23, 24]], \n",
    "  'dims'   : ['x', 'y', 'z', 'option'],\n",
    "  'coords': {'x': [['x1', 'x2']] , \n",
    "             'y': [['y1', 'y2', 'y3']],\n",
    "             'z': ['string', ['z1', 'z2']],\n",
    "             'option': [[True, False]],\n",
    "             'xy': {'dims': ['x','y'], 'data': [[2,3], ['x1y1','x1y2','x1y3','x2y1','x2y2','x2y3']]}, \n",
    "             'opt_num': {'dims': ['option'], 'data': [[0, 1]]}},\n",
    "   'attrs'  : {'meta': 'everything'}}\n",
    "```\n",
    "- solution 2 : unique structure for multi-dimensional data and additional data\n",
    "```json\n",
    " {'type'   : 'int32',\n",
    "  'shape'  : [2, 3, 2, 2],\n",
    "  'data'   : [1, 2, 3, 4, 5, 6, 7, 8, 9, 10, 11, 12, 13, 14, 15, 16, 17, 18, 19, 20, 21, 22, 23, 24], \n",
    "  'dims'   : ['x', 'y', 'z', 'option']\n",
    "  'dimsco' : [['x1', 'x2'],['y1', 'y2', 'y3'], ['z1', 'z2'], [True, False]],\n",
    "  'coords' : {'xy':{'dims': ['x', 'y'], 'data': [[2,3], ['x1y1', 'x1y2', 'x1y3', 'x2y1', 'x2y2', 'x2y3']]}, \n",
    "              'opt_num': {'dims': 'option', 'data': [0, 1]}},\n",
    "  'attrs'  : {'meta': 'everything'}}\n",
    "```"
   ]
  },
  {
   "cell_type": "markdown",
   "id": "18319979",
   "metadata": {},
   "source": [
    "### NTV representation"
   ]
  },
  {
   "cell_type": "markdown",
   "id": "02571a6b",
   "metadata": {},
   "source": [
    "Both structures can be represented with \n",
    "- NTVtype : `ndarray` or `xndarray`\n",
    "- NTVname : name of the structure (optional)\n",
    "- NTVvalue : JSON structure of `ndarray` or `xndarray`\n",
    "\n",
    "Example:\n",
    "\n",
    "```json\n",
    "{ ':ndarray': ndarray_structure }\n",
    "{ 'test:xndarray': xndarray_structure }\n",
    "```"
   ]
  },
  {
   "cell_type": "markdown",
   "id": "4d9501f5",
   "metadata": {},
   "source": [
    "### Structure retained"
   ]
  },
  {
   "cell_type": "markdown",
   "id": "a1ceeeaa",
   "metadata": {},
   "source": [
    "The proposal is to retain two structures:\n",
    "- `ndarray` to represent the data without additional data. This structure is the simplest and most compact. \n",
    "\n",
    "    `ndarray` is a JSON-array composed of :\n",
    "    - values of data (JSON-array of flattened data)\n",
    "    - shape of the data (JSON-array of axis length) - optional if the dimension is 1\n",
    "    - type of data (string) - optional if the type is implicit\n",
    "\n",
    " ```json\n",
    "              [\"int32\", [2, 2], [1, 2, 3, 4]]\n",
    "              [\"int32\", [1, 2, 3, 4]]\n",
    "              [[2, 2], [1, 2, 3, 4]]\n",
    "              [[1, 2, 3, 4]]\n",
    " ```\n",
    " \n",
    "- `xndarray` to represent data and additional data. This structure completes the `ndarray` structure.\n",
    "\n",
    "    `xndarray` is a JSON-object composed of :\n",
    "\n",
    "    - `data` (JSON-ndarray): values of data (see above)\n",
    "    - `dims` (JSON-array): Name of axis (one axe per dimension) - optional\n",
    "    - `coords` (JSON-object of `ndarray` or `xndarray`): Additional variables associated with one or more axis - optional\n",
    "    - `attrs` (JSON-object): Metadata - optional\n",
    "    - `name` (string): name - optional\n",
    "        \n",
    " ```json\n",
    "{'example1:ndarray':\n",
    "   ['int32', [2, 3, 2], [1, 2, 3, 4, 5, 6, 7, 8, 9, 10, 11, 12]]\n",
    "}\n",
    "{'example2:xndarray':\n",
    "    {'data'  : ['int32', [2, 3, 2], [1, 2, 3, 4, 5, 6, 7, 8, 9, 10, 11, 12]], \n",
    "     'dims'   : ['x', 'y', 'option'],\n",
    "     'coords' : {\n",
    "         'x': [['x1', 'x2']] , \n",
    "         'y': ['string', ['y1', 'y2', 'y3']],\n",
    "         'option': [[True, False]],\n",
    "         'xy': {'dims': ['x','y'], 'data': [[2,3], ['x1y1','x1y2','x1y3','x2y1','x2y2','x2y3']]}, \n",
    "         'opt_num': {'dims': ['option'], 'data': [[0, 1]]}},\n",
    "     'attrs'  : {'meta': 'everything'}}\n",
    "}\n",
    "```"
   ]
  }
 ],
 "metadata": {
  "kernelspec": {
   "display_name": "Python 3 (ipykernel)",
   "language": "python",
   "name": "python3"
  },
  "language_info": {
   "codemirror_mode": {
    "name": "ipython",
    "version": 3
   },
   "file_extension": ".py",
   "mimetype": "text/x-python",
   "name": "python",
   "nbconvert_exporter": "python",
   "pygments_lexer": "ipython3",
   "version": "3.10.9"
  }
 },
 "nbformat": 4,
 "nbformat_minor": 5
}
