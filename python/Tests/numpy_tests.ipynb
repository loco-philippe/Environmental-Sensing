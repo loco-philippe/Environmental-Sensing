{
 "cells": [
  {
   "cell_type": "markdown",
   "id": "7181e258",
   "metadata": {},
   "source": [
    "# Tests Numpy"
   ]
  },
  {
   "cell_type": "markdown",
   "id": "f1157b4f",
   "metadata": {},
   "source": [
    "## Format JSON"
   ]
  },
  {
   "cell_type": "code",
   "execution_count": 1,
   "id": "20ae9f8a",
   "metadata": {},
   "outputs": [],
   "source": [
    "import numpy as np\n",
    "from pprint import pprint\n",
    "from numpy_ntv_connector import read_json, to_json, NdarrayConnec, to_json_tab, read_json_tab\n",
    "import ntv_pandas as npd\n",
    "from json_ntv import Ntv\n",
    "\n",
    "a = np.arange(1,25).reshape((2,3,2,2))"
   ]
  },
  {
   "cell_type": "markdown",
   "id": "e558eb4d",
   "metadata": {},
   "source": [
    "### Simple Ndarray (type 'ndarray')"
   ]
  },
  {
   "cell_type": "code",
   "execution_count": 2,
   "id": "63482949",
   "metadata": {},
   "outputs": [
    {
     "name": "stdout",
     "output_type": "stream",
     "text": [
      "example  :\n",
      "\n",
      "{':ndarray': [[[[[1, 2], [3, 4]], [[5, 6], [7, 8]], [[9, 10], [11, 12]]], [[[13, 14], [15, 16]], [[17, 18], [19, 20]], [[21, 22], [23, 24]]]],\n",
      "              'int32']}\n",
      "\n",
      "reversibility :\n",
      "\n",
      "True\n"
     ]
    }
   ],
   "source": [
    "print(\"example  :\\n\")\n",
    "pprint(to_json(a), width=150)\n",
    "\n",
    "print(\"\\nreversibility :\\n\")\n",
    "a2 = read_json(to_json(a))\n",
    "print(np.array_equal(a2, a))"
   ]
  },
  {
   "cell_type": "markdown",
   "id": "7ad379b1",
   "metadata": {},
   "source": [
    "### Axed Ndarray (type 'xndarray')"
   ]
  },
  {
   "cell_type": "code",
   "execution_count": 3,
   "id": "41437a07",
   "metadata": {},
   "outputs": [
    {
     "name": "stdout",
     "output_type": "stream",
     "text": [
      "\n",
      "example with axes :\n",
      "\n",
      "{':ndarray': {'data': [[[[[1, 2], [3, 4]], [[5, 6], [7, 8]], [[9, 10], [11, 12]]],\n",
      "                        [[[13, 14], [15, 16]], [[17, 18], [19, 20]], [[21, 22], [23, 24]]]],\n",
      "                       'int32'],\n",
      "              'xnames': ['x', 'y', 'z', 'option'],\n",
      "              'xvalues': [['x1', 'x2'], ['y1', 'y2', 'y3'], ['z1', 'z2'], [True, False]]}}\n",
      "\n",
      "reversibility :\n",
      "\n",
      "True True\n"
     ]
    }
   ],
   "source": [
    "axes = {'x': ['x1', 'x2'], \n",
    "        'y': ['y1', 'y2', 'y3'], \n",
    "        'z': ['z1', 'z2'], \n",
    "        'option': [True, False]}\n",
    "\n",
    "print(\"\\nexample with axes :\\n\")\n",
    "pprint(to_json(a, axes=axes), width=150)\n",
    "\n",
    "print(\"\\nreversibility :\\n\")\n",
    "a2, axes2 = read_json(to_json(a, axes=axes))\n",
    "print(np.array_equal(a2, a), axes2 == axes)"
   ]
  },
  {
   "cell_type": "markdown",
   "id": "42f2f825",
   "metadata": {},
   "source": [
    "### Tabular format"
   ]
  },
  {
   "cell_type": "code",
   "execution_count": 4,
   "id": "d2da138e",
   "metadata": {},
   "outputs": [
    {
     "name": "stdout",
     "output_type": "stream",
     "text": [
      "example with tabular format :\n",
      "\n",
      "{'option': [[True, False], [1]],\n",
      " 'value::int32': [1, 2, 3, 4, 5, 6, 7, 8, 9, 10, 11, 12, 13, 14, 15, 16, 17, 18, 19, 20, 21, 22, 23, 24],\n",
      " 'x': [['x1', 'x2'], [12]],\n",
      " 'y': [['y1', 'y2', 'y3'], [4]],\n",
      " 'z': [['z1', 'z2'], [2]]}\n",
      "\n",
      "reversibility :\n",
      "\n",
      "True True\n"
     ]
    }
   ],
   "source": [
    "print(\"example with tabular format :\\n\")\n",
    "pprint(to_json_tab(a, axes), width=150)\n",
    "\n",
    "print(\"\\nreversibility :\\n\")\n",
    "a2, axes2 = rea_json_tab(to_json_tab(a, axes))\n",
    "print(np.array_equal(a2, a), axes2 == axes)"
   ]
  },
  {
   "cell_type": "markdown",
   "id": "ba7451d2",
   "metadata": {},
   "source": [
    "### Tabular format is compatible with tabular tools (e.g. Pandas)."
   ]
  },
  {
   "cell_type": "code",
   "execution_count": 5,
   "id": "e6667544",
   "metadata": {},
   "outputs": [
    {
     "name": "stdout",
     "output_type": "stream",
     "text": [
      "pandas DataFrame :\n"
     ]
    },
    {
     "data": {
      "text/html": [
       "<div>\n",
       "<style scoped>\n",
       "    .dataframe tbody tr th:only-of-type {\n",
       "        vertical-align: middle;\n",
       "    }\n",
       "\n",
       "    .dataframe tbody tr th {\n",
       "        vertical-align: top;\n",
       "    }\n",
       "\n",
       "    .dataframe thead th {\n",
       "        text-align: right;\n",
       "    }\n",
       "</style>\n",
       "<table border=\"1\" class=\"dataframe\">\n",
       "  <thead>\n",
       "    <tr style=\"text-align: right;\">\n",
       "      <th></th>\n",
       "      <th>x</th>\n",
       "      <th>y</th>\n",
       "      <th>z</th>\n",
       "      <th>option</th>\n",
       "      <th>value</th>\n",
       "    </tr>\n",
       "  </thead>\n",
       "  <tbody>\n",
       "    <tr>\n",
       "      <th>0</th>\n",
       "      <td>x1</td>\n",
       "      <td>y1</td>\n",
       "      <td>z1</td>\n",
       "      <td>True</td>\n",
       "      <td>1</td>\n",
       "    </tr>\n",
       "    <tr>\n",
       "      <th>1</th>\n",
       "      <td>x1</td>\n",
       "      <td>y1</td>\n",
       "      <td>z1</td>\n",
       "      <td>False</td>\n",
       "      <td>2</td>\n",
       "    </tr>\n",
       "    <tr>\n",
       "      <th>2</th>\n",
       "      <td>x1</td>\n",
       "      <td>y1</td>\n",
       "      <td>z2</td>\n",
       "      <td>True</td>\n",
       "      <td>3</td>\n",
       "    </tr>\n",
       "    <tr>\n",
       "      <th>3</th>\n",
       "      <td>x1</td>\n",
       "      <td>y1</td>\n",
       "      <td>z2</td>\n",
       "      <td>False</td>\n",
       "      <td>4</td>\n",
       "    </tr>\n",
       "    <tr>\n",
       "      <th>4</th>\n",
       "      <td>x1</td>\n",
       "      <td>y2</td>\n",
       "      <td>z1</td>\n",
       "      <td>True</td>\n",
       "      <td>5</td>\n",
       "    </tr>\n",
       "    <tr>\n",
       "      <th>5</th>\n",
       "      <td>x1</td>\n",
       "      <td>y2</td>\n",
       "      <td>z1</td>\n",
       "      <td>False</td>\n",
       "      <td>6</td>\n",
       "    </tr>\n",
       "    <tr>\n",
       "      <th>6</th>\n",
       "      <td>x1</td>\n",
       "      <td>y2</td>\n",
       "      <td>z2</td>\n",
       "      <td>True</td>\n",
       "      <td>7</td>\n",
       "    </tr>\n",
       "    <tr>\n",
       "      <th>7</th>\n",
       "      <td>x1</td>\n",
       "      <td>y2</td>\n",
       "      <td>z2</td>\n",
       "      <td>False</td>\n",
       "      <td>8</td>\n",
       "    </tr>\n",
       "    <tr>\n",
       "      <th>8</th>\n",
       "      <td>x1</td>\n",
       "      <td>y3</td>\n",
       "      <td>z1</td>\n",
       "      <td>True</td>\n",
       "      <td>9</td>\n",
       "    </tr>\n",
       "    <tr>\n",
       "      <th>9</th>\n",
       "      <td>x1</td>\n",
       "      <td>y3</td>\n",
       "      <td>z1</td>\n",
       "      <td>False</td>\n",
       "      <td>10</td>\n",
       "    </tr>\n",
       "    <tr>\n",
       "      <th>10</th>\n",
       "      <td>x1</td>\n",
       "      <td>y3</td>\n",
       "      <td>z2</td>\n",
       "      <td>True</td>\n",
       "      <td>11</td>\n",
       "    </tr>\n",
       "    <tr>\n",
       "      <th>11</th>\n",
       "      <td>x1</td>\n",
       "      <td>y3</td>\n",
       "      <td>z2</td>\n",
       "      <td>False</td>\n",
       "      <td>12</td>\n",
       "    </tr>\n",
       "    <tr>\n",
       "      <th>12</th>\n",
       "      <td>x2</td>\n",
       "      <td>y1</td>\n",
       "      <td>z1</td>\n",
       "      <td>True</td>\n",
       "      <td>13</td>\n",
       "    </tr>\n",
       "    <tr>\n",
       "      <th>13</th>\n",
       "      <td>x2</td>\n",
       "      <td>y1</td>\n",
       "      <td>z1</td>\n",
       "      <td>False</td>\n",
       "      <td>14</td>\n",
       "    </tr>\n",
       "    <tr>\n",
       "      <th>14</th>\n",
       "      <td>x2</td>\n",
       "      <td>y1</td>\n",
       "      <td>z2</td>\n",
       "      <td>True</td>\n",
       "      <td>15</td>\n",
       "    </tr>\n",
       "    <tr>\n",
       "      <th>15</th>\n",
       "      <td>x2</td>\n",
       "      <td>y1</td>\n",
       "      <td>z2</td>\n",
       "      <td>False</td>\n",
       "      <td>16</td>\n",
       "    </tr>\n",
       "    <tr>\n",
       "      <th>16</th>\n",
       "      <td>x2</td>\n",
       "      <td>y2</td>\n",
       "      <td>z1</td>\n",
       "      <td>True</td>\n",
       "      <td>17</td>\n",
       "    </tr>\n",
       "    <tr>\n",
       "      <th>17</th>\n",
       "      <td>x2</td>\n",
       "      <td>y2</td>\n",
       "      <td>z1</td>\n",
       "      <td>False</td>\n",
       "      <td>18</td>\n",
       "    </tr>\n",
       "    <tr>\n",
       "      <th>18</th>\n",
       "      <td>x2</td>\n",
       "      <td>y2</td>\n",
       "      <td>z2</td>\n",
       "      <td>True</td>\n",
       "      <td>19</td>\n",
       "    </tr>\n",
       "    <tr>\n",
       "      <th>19</th>\n",
       "      <td>x2</td>\n",
       "      <td>y2</td>\n",
       "      <td>z2</td>\n",
       "      <td>False</td>\n",
       "      <td>20</td>\n",
       "    </tr>\n",
       "    <tr>\n",
       "      <th>20</th>\n",
       "      <td>x2</td>\n",
       "      <td>y3</td>\n",
       "      <td>z1</td>\n",
       "      <td>True</td>\n",
       "      <td>21</td>\n",
       "    </tr>\n",
       "    <tr>\n",
       "      <th>21</th>\n",
       "      <td>x2</td>\n",
       "      <td>y3</td>\n",
       "      <td>z1</td>\n",
       "      <td>False</td>\n",
       "      <td>22</td>\n",
       "    </tr>\n",
       "    <tr>\n",
       "      <th>22</th>\n",
       "      <td>x2</td>\n",
       "      <td>y3</td>\n",
       "      <td>z2</td>\n",
       "      <td>True</td>\n",
       "      <td>23</td>\n",
       "    </tr>\n",
       "    <tr>\n",
       "      <th>23</th>\n",
       "      <td>x2</td>\n",
       "      <td>y3</td>\n",
       "      <td>z2</td>\n",
       "      <td>False</td>\n",
       "      <td>24</td>\n",
       "    </tr>\n",
       "  </tbody>\n",
       "</table>\n",
       "</div>"
      ],
      "text/plain": [
       "     x   y   z option  value\n",
       "0   x1  y1  z1   True      1\n",
       "1   x1  y1  z1  False      2\n",
       "2   x1  y1  z2   True      3\n",
       "3   x1  y1  z2  False      4\n",
       "4   x1  y2  z1   True      5\n",
       "5   x1  y2  z1  False      6\n",
       "6   x1  y2  z2   True      7\n",
       "7   x1  y2  z2  False      8\n",
       "8   x1  y3  z1   True      9\n",
       "9   x1  y3  z1  False     10\n",
       "10  x1  y3  z2   True     11\n",
       "11  x1  y3  z2  False     12\n",
       "12  x2  y1  z1   True     13\n",
       "13  x2  y1  z1  False     14\n",
       "14  x2  y1  z2   True     15\n",
       "15  x2  y1  z2  False     16\n",
       "16  x2  y2  z1   True     17\n",
       "17  x2  y2  z1  False     18\n",
       "18  x2  y2  z2   True     19\n",
       "19  x2  y2  z2  False     20\n",
       "20  x2  y3  z1   True     21\n",
       "21  x2  y3  z1  False     22\n",
       "22  x2  y3  z2   True     23\n",
       "23  x2  y3  z2  False     24"
      ]
     },
     "metadata": {},
     "output_type": "display_data"
    },
    {
     "name": "stdout",
     "output_type": "stream",
     "text": [
      "\n",
      "reversibility :\n",
      "\n",
      "True True\n"
     ]
    }
   ],
   "source": [
    "print('pandas DataFrame :')\n",
    "df = npd.read_json(to_json_tab(a, axes))\n",
    "display(df)\n",
    "\n",
    "print(\"\\nreversibility :\\n\")\n",
    "a3, axes3 = from_json_tab(df.npd.to_json(header=False, index=False))\n",
    "print(np.array_equal(a3, a), axes3 == axes)"
   ]
  },
  {
   "cell_type": "markdown",
   "id": "63202194",
   "metadata": {},
   "source": [
    "### Using in NTV data"
   ]
  },
  {
   "cell_type": "code",
   "execution_count": 6,
   "id": "c6418d30",
   "metadata": {},
   "outputs": [
    {
     "name": "stdout",
     "output_type": "stream",
     "text": [
      "{\"test:ndarray\": [[[1, 2], [3, 4], [5, 6]], \"int32\"]}\n"
     ]
    }
   ],
   "source": [
    "nd = np.array([1,2,3,4,5,6]).reshape(3,2)\n",
    "\n",
    "# simple\n",
    "simple = Ntv.obj({'test:ndarray':nd})\n",
    "print(simple)"
   ]
  }
 ],
 "metadata": {
  "kernelspec": {
   "display_name": "Python 3 (ipykernel)",
   "language": "python",
   "name": "python3"
  },
  "language_info": {
   "codemirror_mode": {
    "name": "ipython",
    "version": 3
   },
   "file_extension": ".py",
   "mimetype": "text/x-python",
   "name": "python",
   "nbconvert_exporter": "python",
   "pygments_lexer": "ipython3",
   "version": "3.10.9"
  }
 },
 "nbformat": 4,
 "nbformat_minor": 5
}
