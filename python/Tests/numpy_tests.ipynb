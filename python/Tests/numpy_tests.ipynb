{
 "cells": [
  {
   "cell_type": "markdown",
   "id": "7ee9c2a4",
   "metadata": {},
   "source": [
    "# Tests Numpy"
   ]
  },
  {
   "cell_type": "markdown",
   "id": "4c27999c",
   "metadata": {},
   "source": [
    "## Format JSON"
   ]
  },
  {
   "cell_type": "code",
   "execution_count": 6,
   "id": "265819d3",
   "metadata": {},
   "outputs": [
    {
     "name": "stdout",
     "output_type": "stream",
     "text": [
      "[[[[1, 2], [3, 4]], [[5, 6], [7, 8]], [[9, 10], [11, 12]]], [[[13, 14], [15, 16]], [[17, 18], [19, 20]], [[21, 22], [23, 24]]]]\n",
      "{'x': [['x1', 'x2'], [12]], 'y': [['y1', 'y2', 'y3'], [4]], 'z': [['z1', 'z2'], [2]], 'option': [[True, False], [1]], 'val': [1, 2, 3, 4, 5, 6, 7, 8, 9, 10, 11, 12, 13, 14, 15, 16, 17, 18, 19, 20, 21, 22, 23, 24]}\n",
      "{\"x\": [[\"x1\", \"x2\"], [12]], \"y\": [[\"y1\", \"y2\", \"y3\"], [4]], \"z\": [[\"z1\", \"z2\"], [2]], \"option\": [[true, false], [1]], \"val\": [1, 2, 3, 4, 5, 6, 7, 8, 9, 10, 11, 12, 13, 14, 15, 16, 17, 18, 19, 20, 21, 22, 23, 24]}\n",
      "     x   y   z option  val\n",
      "0   x1  y1  z1   True    1\n",
      "1   x1  y1  z1  False    2\n",
      "2   x1  y1  z2   True    3\n",
      "3   x1  y1  z2  False    4\n",
      "4   x1  y2  z1   True    5\n",
      "5   x1  y2  z1  False    6\n",
      "6   x1  y2  z2   True    7\n",
      "7   x1  y2  z2  False    8\n",
      "8   x1  y3  z1   True    9\n",
      "9   x1  y3  z1  False   10\n",
      "10  x1  y3  z2   True   11\n",
      "11  x1  y3  z2  False   12\n",
      "12  x2  y1  z1   True   13\n",
      "13  x2  y1  z1  False   14\n",
      "14  x2  y1  z2   True   15\n",
      "15  x2  y1  z2  False   16\n",
      "16  x2  y2  z1   True   17\n",
      "17  x2  y2  z1  False   18\n",
      "18  x2  y2  z2   True   19\n",
      "19  x2  y2  z2  False   20\n",
      "20  x2  y3  z1   True   21\n",
      "21  x2  y3  z1  False   22\n",
      "22  x2  y3  z2   True   23\n",
      "23  x2  y3  z2  False   24\n",
      "[[[[ 1  2]\n",
      "   [ 3  4]]\n",
      "\n",
      "  [[ 5  6]\n",
      "   [ 7  8]]\n",
      "\n",
      "  [[ 9 10]\n",
      "   [11 12]]]\n",
      "\n",
      "\n",
      " [[[13 14]\n",
      "   [15 16]]\n",
      "\n",
      "  [[17 18]\n",
      "   [19 20]]\n",
      "\n",
      "  [[21 22]\n",
      "   [23 24]]]]\n"
     ]
    }
   ],
   "source": [
    "import numpy as np\n",
    "from test_numpy import to_json_tab, to_json, ndarray\n",
    "from cfield import Cutil\n",
    "from dataset import Sdataset\n",
    "import ntv_pandas as npd\n",
    "\n",
    "a = np.arange(1,25).reshape((2,3,2,2))\n",
    "print(to_json(a))\n",
    "\n",
    "axes = {'x': ['x1', 'x2'], \n",
    "        'y': ['y1', 'y2', 'y3'], \n",
    "        'z': ['z1', 'z2'], \n",
    "        'option': [True, False]}\n",
    "js = to_json_tab(a, axes)\n",
    "\n",
    "print(js)\n",
    "nt = Sdataset.ntv(js)\n",
    "\n",
    "print(nt.to_ntv())\n",
    "print(npd.read_json(js))\n",
    "print(ndarray(js))"
   ]
  }
 ],
 "metadata": {
  "kernelspec": {
   "display_name": "Python 3 (ipykernel)",
   "language": "python",
   "name": "python3"
  },
  "language_info": {
   "codemirror_mode": {
    "name": "ipython",
    "version": 3
   },
   "file_extension": ".py",
   "mimetype": "text/x-python",
   "name": "python",
   "nbconvert_exporter": "python",
   "pygments_lexer": "ipython3",
   "version": "3.10.9"
  }
 },
 "nbformat": 4,
 "nbformat_minor": 5
}
