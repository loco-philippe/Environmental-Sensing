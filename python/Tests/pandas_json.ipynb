{
 "cells": [
  {
   "cell_type": "code",
   "execution_count": 8,
   "id": "ddb9654d",
   "metadata": {},
   "outputs": [],
   "source": [
    "import pandas as pd\n",
    "import datetime\n",
    "from json_ntv import Ntv\n",
    "option = {'encode_format': 'obj', 'dicobj': {'field': 'SeriesConnec', 'tab': 'DataFrameConnec'}}"
   ]
  },
  {
   "cell_type": "code",
   "execution_count": 5,
   "id": "d49b98a0",
   "metadata": {},
   "outputs": [
    {
     "name": "stdout",
     "output_type": "stream",
     "text": [
      "        dates  val\n",
      "0  2021-10-05   10\n",
      "1  2021-10-05   20\n",
      "2021-10-05\n",
      "{\"schema\":{\"fields\":[{\"name\":\"index\",\"type\":\"integer\"},{\"name\":\"dates\",\"type\":\"string\"},{\"name\":\"val\",\"type\":\"integer\"}],\"primaryKey\":[\"index\"],\"pandas_version\":\"1.4.0\"},\"data\":[{\"index\":0,\"dates\":\"2021-10-05T00:00:00.000\",\"val\":10},{\"index\":1,\"dates\":\"2021-10-05T00:00:00.000\",\"val\":20}]}\n",
      "dates    object\n",
      "val       int64\n",
      "dtype: object\n",
      "[{\"dates\":1633392000000,\"val\":10},{\"dates\":1633392000000,\"val\":20}]\n",
      "           dates  val\n",
      "0  1633392000000   10\n",
      "1  1633392000000   20\n",
      "dates    int64\n",
      "val      int64\n",
      "dtype: object\n"
     ]
    }
   ],
   "source": [
    "df = pd.DataFrame({'dates': [datetime.date(2021,10,5), datetime.date(2021,10,5)], 'val': [10,20]})\n",
    "print(df)\n",
    "print(df.iloc[0,0])\n",
    "print(df.to_json(orient='table'))\n",
    "print(df.dtypes)\n",
    "print(df.to_json(orient='records'))\n",
    "df2 = pd.read_json(df.to_json(orient='records'), orient='records')\n",
    "print(df2)\n",
    "print(df2.dtypes)"
   ]
  },
  {
   "cell_type": "code",
   "execution_count": 12,
   "id": "a6a60b12",
   "metadata": {},
   "outputs": [
    {
     "name": "stdout",
     "output_type": "stream",
     "text": [
      "    dates::date value  value32  res   names  unique\n",
      "100  1964-01-01    10       12   10    john    True\n",
      "200  1985-02-05    10       12   20    eric    True\n",
      "300  2022-01-21    20       22   30  judith    True\n",
      "400  1964-01-01    20       22   10    mila    True\n",
      "500  1985-02-05    30       32   20  hector    True\n",
      "600  2022-01-21    30       32   30   maria    True\n",
      "{\"schema\":{\"fields\":[{\"name\":\"index\",\"type\":\"integer\"},{\"name\":\"dates::date\",\"type\":\"any\",\"constraints\":{\"enum\":[\"1964-01-01T00:00:00.000\",\"1985-02-05T00:00:00.000\",\"2022-01-21T00:00:00.000\"]},\"ordered\":false},{\"name\":\"value\",\"type\":\"any\",\"constraints\":{\"enum\":[10,20,30]},\"ordered\":false},{\"name\":\"value32\",\"type\":\"integer\"},{\"name\":\"res\",\"type\":\"integer\"},{\"name\":\"names\",\"type\":\"any\",\"extDtype\":\"string\"},{\"name\":\"unique\",\"type\":\"boolean\"}],\"primaryKey\":[\"index\"],\"pandas_version\":\"1.4.0\"},\"data\":[{\"index\":100,\"dates::date\":\"1964-01-01T00:00:00.000\",\"value\":10,\"value32\":12,\"res\":10,\"names\":\"john\",\"unique\":true},{\"index\":200,\"dates::date\":\"1985-02-05T00:00:00.000\",\"value\":10,\"value32\":12,\"res\":20,\"names\":\"eric\",\"unique\":true},{\"index\":300,\"dates::date\":\"2022-01-21T00:00:00.000\",\"value\":20,\"value32\":22,\"res\":30,\"names\":\"judith\",\"unique\":true},{\"index\":400,\"dates::date\":\"1964-01-01T00:00:00.000\",\"value\":20,\"value32\":22,\"res\":10,\"names\":\"mila\",\"unique\":true},{\"index\":500,\"dates::date\":\"1985-02-05T00:00:00.000\",\"value\":30,\"value32\":32,\"res\":20,\"names\":\"hector\",\"unique\":true},{\"index\":600,\"dates::date\":\"2022-01-21T00:00:00.000\",\"value\":30,\"value32\":32,\"res\":30,\"names\":\"maria\",\"unique\":true}]}\n",
      "1203\n",
      "dates::date    category\n",
      "value          category\n",
      "value32           int32\n",
      "res               int64\n",
      "names            string\n",
      "unique             bool\n",
      "dtype: object\n",
      "{\":tab\": {\"index\": [100, 200, 300, 400, 500, 600], \"dates\": [{\"::date\": [\"1964-01-01\", \"1985-02-05\", \"2022-01-21\"]}, [0, 1, 2, 0, 1, 2]], \"value\": [[10, 20, 30], [0, 0, 1, 1, 2, 2]], \"value32::int32\": [12, 12, 22, 22, 32, 32], \"res\": [10, 20, 30, 10, 20, 30], \"names::string\": [\"john\", \"eric\", \"judith\", \"mila\", \"hector\", \"maria\"], \"unique\": [true, true, true, true, true, true]}}\n",
      "380\n",
      "                 dates::date value  value32  res   names  unique\n",
      "100  1964-01-01T00:00:00.000    10       12   10    john    True\n",
      "200  1985-02-05T00:00:00.000    10       12   20    eric    True\n",
      "300  2022-01-21T00:00:00.000    20       22   30  judith    True\n",
      "400  1964-01-01T00:00:00.000    20       22   10    mila    True\n",
      "500  1985-02-05T00:00:00.000    30       32   20  hector    True\n",
      "600  2022-01-21T00:00:00.000    30       32   30   maria    True\n",
      "dates::date    category\n",
      "value          category\n",
      "value32           int64\n",
      "res               int64\n",
      "names            string\n",
      "unique             bool\n",
      "dtype: object\n"
     ]
    }
   ],
   "source": [
    "tab_data = {'index':           [100, 200, 300, 400, 500, 600],\n",
    "            'dates':           [{'::date': ['1964-01-01', '1985-02-05', '2022-01-21']}, [0, 1, 2, 0, 1, 2]],\n",
    "            'value':           [[10, 20, {'valid?': 30}], [0, 0, 1, 1, 2, 2]],\n",
    "            'value32::int32':  [12, 12, 22, 22, 32, 32],\n",
    "            'res':             {'res1': 10, 'res2': 20, 'res3': 30, 'res4': 10, 'res5': 20, 'res6': 30},\n",
    "            'names::string':   ['john', 'eric', 'judith', 'mila', 'hector', 'maria'],\n",
    "            'unique:boolean':  True }\n",
    "tab = Ntv.obj({':tab'  : tab_data})\n",
    "df = tab.to_obj(**option)\n",
    "print(df)\n",
    "print(df.to_json(orient='table'))\n",
    "print(len(df.to_json(orient='table')))\n",
    "print(df.dtypes)\n",
    "print(Ntv.obj(df).to_obj(encoded=True))\n",
    "print(len(Ntv.obj(df).to_obj(encoded=True)))\n",
    "df2 = pd.read_json(df.to_json(orient='table'), orient='table')\n",
    "print(df2)\n",
    "print(df2.dtypes)"
   ]
  },
  {
   "cell_type": "code",
   "execution_count": 13,
   "id": "13dbe27a",
   "metadata": {},
   "outputs": [
    {
     "name": "stdout",
     "output_type": "stream",
     "text": [
      "    dates::date  value  value32  res   names  unique\n",
      "100  1964-01-01     10       12   10    john    True\n",
      "200  1985-02-05     10       12   20    eric    True\n",
      "300  2022-01-21     20       22   30  judith    True\n",
      "400  1964-01-01     20       22   10    mila    True\n",
      "500  1985-02-05     30       32   20  hector    True\n",
      "600  2022-01-21     30       32   30   maria    True\n",
      "{\"schema\":{\"fields\":[{\"name\":\"index\",\"type\":\"integer\"},{\"name\":\"dates::date\",\"type\":\"string\"},{\"name\":\"value\",\"type\":\"integer\"},{\"name\":\"value32\",\"type\":\"integer\"},{\"name\":\"res\",\"type\":\"integer\"},{\"name\":\"names\",\"type\":\"any\",\"extDtype\":\"string\"},{\"name\":\"unique\",\"type\":\"boolean\"}],\"primaryKey\":[\"index\"],\"pandas_version\":\"1.4.0\"},\"data\":[{\"index\":100,\"dates::date\":\"1964-01-01T00:00:00.000\",\"value\":10,\"value32\":12,\"res\":10,\"names\":\"john\",\"unique\":true},{\"index\":200,\"dates::date\":\"1985-02-05T00:00:00.000\",\"value\":10,\"value32\":12,\"res\":20,\"names\":\"eric\",\"unique\":true},{\"index\":300,\"dates::date\":\"2022-01-21T00:00:00.000\",\"value\":20,\"value32\":22,\"res\":30,\"names\":\"judith\",\"unique\":true},{\"index\":400,\"dates::date\":\"1964-01-01T00:00:00.000\",\"value\":20,\"value32\":22,\"res\":10,\"names\":\"mila\",\"unique\":true},{\"index\":500,\"dates::date\":\"1985-02-05T00:00:00.000\",\"value\":30,\"value32\":32,\"res\":20,\"names\":\"hector\",\"unique\":true},{\"index\":600,\"dates::date\":\"2022-01-21T00:00:00.000\",\"value\":30,\"value32\":32,\"res\":30,\"names\":\"maria\",\"unique\":true}]}\n",
      "1041\n",
      "dates::date    object\n",
      "value           int64\n",
      "value32         int32\n",
      "res             int64\n",
      "names          string\n",
      "unique           bool\n",
      "dtype: object\n",
      "{\":tab\": {\"index\": [100, 200, 300, 400, 500, 600], \"dates::date\": [\"1964-01-01\", \"1985-02-05\", \"2022-01-21\", \"1964-01-01\", \"1985-02-05\", \"2022-01-21\"], \"value\": [10, 10, 20, 20, 30, 30], \"value32::int32\": [12, 12, 22, 22, 32, 32], \"res\": [10, 20, 30, 10, 20, 30], \"names::string\": [\"john\", \"eric\", \"judith\", \"mila\", \"hector\", \"maria\"], \"unique\": [true, true, true, true, true, true]}}\n",
      "384\n",
      "                 dates::date  value  value32  res   names  unique\n",
      "100  1964-01-01T00:00:00.000     10       12   10    john    True\n",
      "200  1985-02-05T00:00:00.000     10       12   20    eric    True\n",
      "300  2022-01-21T00:00:00.000     20       22   30  judith    True\n",
      "400  1964-01-01T00:00:00.000     20       22   10    mila    True\n",
      "500  1985-02-05T00:00:00.000     30       32   20  hector    True\n",
      "600  2022-01-21T00:00:00.000     30       32   30   maria    True\n",
      "dates::date    object\n",
      "value           int64\n",
      "value32         int64\n",
      "res             int64\n",
      "names          string\n",
      "unique           bool\n",
      "dtype: object\n"
     ]
    }
   ],
   "source": [
    "tab_data = {'index':           [100, 200, 300, 400, 500, 600],\n",
    "            'dates::date':     ['1964-01-01', '1985-02-05', '2022-01-21', '1964-01-01', '1985-02-05', '2022-01-21'], \n",
    "            'value':           [10, 10, 20, 20, 30, 30],\n",
    "            'value32::int32':  [12, 12, 22, 22, 32, 32],\n",
    "            'res':             [10, 20, 30, 10, 20, 30],\n",
    "            'names::string':   ['john', 'eric', 'judith', 'mila', 'hector', 'maria'],\n",
    "            'unique':          True }\n",
    "tab = Ntv.obj({':tab'  : tab_data})\n",
    "df = tab.to_obj(**option)\n",
    "print(df)\n",
    "print(df.to_json(orient='table'))\n",
    "print(len(df.to_json(orient='table')))\n",
    "print(df.dtypes)\n",
    "print(Ntv.obj(df).to_obj(encoded=True))\n",
    "print(len(Ntv.obj(df).to_obj(encoded=True)))\n",
    "df2 = pd.read_json(df.to_json(orient='table'), orient='table')\n",
    "print(df2)\n",
    "print(df2.dtypes)"
   ]
  }
 ],
 "metadata": {
  "kernelspec": {
   "display_name": "Python 3 (ipykernel)",
   "language": "python",
   "name": "python3"
  },
  "language_info": {
   "codemirror_mode": {
    "name": "ipython",
    "version": 3
   },
   "file_extension": ".py",
   "mimetype": "text/x-python",
   "name": "python",
   "nbconvert_exporter": "python",
   "pygments_lexer": "ipython3",
   "version": "3.10.9"
  }
 },
 "nbformat": 4,
 "nbformat_minor": 5
}
