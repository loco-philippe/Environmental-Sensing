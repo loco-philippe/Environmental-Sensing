{
 "cells": [
  {
   "cell_type": "markdown",
   "metadata": {},
   "source": [
    "# Objet : Test analysis\n",
    "\n",
    "## Objectif\n",
    "\n",
    "- tests des méthodes d'analyse\n",
    "\n",
    "\n",
    "## Autres points\n"
   ]
  },
  {
   "cell_type": "markdown",
   "metadata": {},
   "source": [
    "------\n",
    "## Initialisation\n",
    "- lecture des fichiers de 01/2022 issus de l'api (un fichier par jour)"
   ]
  },
  {
   "cell_type": "code",
   "execution_count": 1,
   "metadata": {
    "scrolled": false
   },
   "outputs": [],
   "source": [
    "from pprint import pprint\n",
    "from collections import Counter\n",
    "from time import time\n",
    "import csv\n",
    "import os\n",
    "#os.chdir('C:/Users/a179227/OneDrive - Alliance/perso Wx/ES standard/python ESstandard/ES')\n",
    "from util import util\n",
    "from observation import Ilist, Iindex\n",
    "from copy import copy\n",
    "\n",
    "chemin='C:/Users/a179227/OneDrive - Alliance/perso Wx/ES standard/Environnemental-Sensing/python/validation/air/data_lcsqa/'"
   ]
  },
  {
   "cell_type": "code",
   "execution_count": 2,
   "metadata": {},
   "outputs": [
    {
     "name": "stdout",
     "output_type": "stream",
     "text": [
      "data2 197455 ['Date de début', 'Date de fin', 'Organisme', 'code zas', 'Zas', 'code site', 'nom site', \"type d'implantation\", 'Polluant', \"type d'influence\", 'discriminant', 'Réglementaire', \"type d'évaluation\", 'procédure de mesure', 'type de valeur', 'valeur', 'unité de mesure', 'taux de saisie', 'couverture temporelle', 'couverture de données', 'code qualité', 'validité'] 1.6598665714263916\n"
     ]
    }
   ],
   "source": [
    "import pandas as pd\n",
    "data = []\n",
    "t0 = time()\n",
    "annee = 2022\n",
    "mois = 1\n",
    "jour = 1\n",
    "for i in range(4):\n",
    "    file = chemin + 'FR_E2_' + str(annee) + '-' + format(mois, '02d') +'-' + format(jour+i, '02d') +'.csv'\n",
    "    data.append(pd.read_csv(file, sep=';'))\n",
    "data2 = pd.concat(data, ignore_index=True, join='inner').astype('category')\n",
    "data2.pop('valeur brute')\n",
    "print('data2', len(data2), list(data2), time()-t0)"
   ]
  },
  {
   "cell_type": "code",
   "execution_count": 3,
   "metadata": {},
   "outputs": [
    {
     "name": "stdout",
     "output_type": "stream",
     "text": [
      "idxs (len, lenlidx, sumcodec) :  197455 22 4462 1.8885533809661865\n"
     ]
    }
   ],
   "source": [
    "t0=time()\n",
    "idxs2 = Ilist.obj(data2)\n",
    "print('idxs (len, lenlidx, sumcodec) : ', len(idxs2), len(idxs2.idxlen), sum(idxs2.idxlen), time()-t0)\n",
    "#idxs2.delindex('valeur brute')\n",
    "idxs2.setvar('valeur')"
   ]
  },
  {
   "cell_type": "code",
   "execution_count": 4,
   "metadata": {
    "scrolled": true
   },
   "outputs": [
    {
     "name": "stdout",
     "output_type": "stream",
     "text": [
      "list to val old:  0.7261416912078857\n",
      "list to codec :  0.0\n",
      "list to cat simple :  0.6539871692657471\n",
      "list to cat :  1.4012141227722168\n",
      "list to cat :  1.4895117282867432\n",
      "list to val (def):  1.6453883647918701\n",
      "list to val (all map):  1.7189126014709473\n",
      "list to val (all tuple):  2.1697654724121094\n",
      "cat to val (def):  0.177293062210083\n",
      "cat to val (all):  0.20064997673034668\n",
      "simple to val (all series simple):  0.5261886119842529\n",
      "cat to val (all series):  0.19498419761657715\n"
     ]
    }
   ],
   "source": [
    "#calcul de values à partir de keys et codec\n",
    "t0=time()\n",
    "for idx in idxs2.lindex:\n",
    "    val = idx.values\n",
    "print('list to val old: ', time()-t0)\n",
    "#génération d'une liste de Series à partir d'une liste de codec\n",
    "t0=time()\n",
    "pdcodec=[pd.Series(idx.codec) for idx in idxs2.lindex]\n",
    "print('list to codec : ', time()-t0)#génération d'une liste de Series à partir d'une liste de keys\n",
    "#génération d'une liste de Series simple à partir d'une liste de keys\n",
    "t0=time()\n",
    "pdkeyss=[pd.Series(idx.keys, dtype='int64') for idx in idxs2.lindex]\n",
    "print('list to cat simple : ', time()-t0)\n",
    "#génération d'une liste de Series à partir d'une liste de keys\n",
    "t0=time()\n",
    "pdkeys=[pd.Series(idx.keys, dtype='category') for idx in idxs2.lindex]\n",
    "print('list to cat : ', time()-t0)\n",
    "#génération d'une liste de Series à partir d'une liste de keys\n",
    "pdkeys=[]\n",
    "t0=time()\n",
    "for idx in idxs2.lindex:\n",
    "    pdkeys.append(pd.Series(idx.keys, dtype='category'))\n",
    "print('list to cat : ', time()-t0)#calcul de values à partir de keys et codec avec une Series categorical (default)\n",
    "t0=time()\n",
    "for idx in idxs2.lindex:\n",
    "    val = list(pd.Series(idx.keys, dtype='category').cat.rename_categories(idx.codec))\n",
    "print('list to val (def): ', time()-t0)\n",
    "#calcul de values à partir de keys et codec avec une Series map (all)\n",
    "t0=time()\n",
    "for idx in idxs2.lindex:\n",
    "    val = list(pd.Series(idx.keys).map(pd.Series(idx.codec)))\n",
    "print('list to val (all map): ', time()-t0)\n",
    "#calcul de values à partir de keys et codec avec une Series (quelconque)\n",
    "t0=time()\n",
    "for idx, keys in zip(idxs2.lindex,pdkeys):\n",
    "    val = list(pd.DataFrame(keys.cat.rename_categories(pd.Series(zip(idx.codec, range(len(idx.codec))))).tolist())[0])\n",
    "print('list to val (all tuple): ', time()-t0)\n",
    "#calcul de values à partir d'une Series de keys et codec (default)\n",
    "t0=time()\n",
    "for idx, keys in zip(idxs2.lindex,pdkeys):\n",
    "    val = list(keys.cat.rename_categories(idx.codec))\n",
    "print('cat to val (def): ', time()-t0)\n",
    "#calcul de values à partir d'une Series de keys et codec avec une Series (quelconque)\n",
    "t0=time()\n",
    "for idx, keys in zip(idxs2.lindex,pdkeys):\n",
    "    val = list(keys.map(pd.Series(idx.codec)))\n",
    "print('cat to val (all): ', time()-t0)\n",
    "#calcul de values à partir d'une Series de keys et une series codec (quelconque)\n",
    "t0=time()\n",
    "for cod, keys in zip(pdcodec,pdkeyss):\n",
    "    val = list(keys.map(cod))\n",
    "print('simple to val (all series simple): ', time()-t0)\n",
    "#calcul de values à partir d'une Series de keys et une series codec (quelconque)\n",
    "t0=time()\n",
    "for cod, keys in zip(pdcodec,pdkeys):\n",
    "    val = list(keys.map(cod))\n",
    "print('cat to val (all series): ', time()-t0)"
   ]
  },
  {
   "cell_type": "code",
   "execution_count": 5,
   "metadata": {},
   "outputs": [],
   "source": [
    "#print(val[:100])"
   ]
  },
  {
   "cell_type": "code",
   "execution_count": 6,
   "metadata": {},
   "outputs": [
    {
     "name": "stdout",
     "output_type": "stream",
     "text": [
      "Index([{\"test\": 3}, \"date\", \"date2\"], dtype='object') \n",
      " [1, 2, 1, 0]\n"
     ]
    },
    {
     "data": {
      "text/plain": [
       "True"
      ]
     },
     "execution_count": 6,
     "metadata": {},
     "output_type": "execute_result"
    }
   ],
   "source": [
    "#ESValue\n",
    "from observation import DatationValue, NamedValue\n",
    "ser = pd.Series([DatationValue('date'), DatationValue('date2'), DatationValue('date'), NamedValue(3,'test')], dtype='category')\n",
    "print(ser.cat.categories, '\\n', list(ser.cat.codes))\n",
    "ser2 = pd.Series([0,11,0,22]).astype('category')\n",
    "serbis = ser2.cat.rename_categories([DatationValue('date'), DatationValue('date2'),  NamedValue(3,'test')])\n",
    "min(ser.astype('object') == serbis.astype('object'))"
   ]
  },
  {
   "cell_type": "code",
   "execution_count": 7,
   "metadata": {},
   "outputs": [
    {
     "name": "stdout",
     "output_type": "stream",
     "text": [
      "name     plants quantity  product price\n",
      "var       False    False    False  True\n",
      "0         fruit       kg    apple   1.0\n",
      "1         fruit    10 kg    apple  10.0\n",
      "2         fruit       kg   orange   2.0\n",
      "3         fruit    10 kg   orange  20.0\n",
      "4     vegetable       kg  peppers   1.5\n",
      "5     vegetable    10 kg  peppers  15.0\n",
      "6     vegetable       kg   banana   0.5\n",
      "7         fruit    10 kg   banana   5.0\n"
     ]
    }
   ],
   "source": [
    "#generation dataframe à partir de Ilist\n",
    "ilm = Ilist.obj([['plants', ['fruit', 'fruit', 'fruit', 'fruit', 'vegetable', 'vegetable', 'vegetable', 'fruit']],\n",
    "                  ['quantity', ['kg', '10 kg', 'kg', '10 kg', 'kg', '10 kg', 'kg', '10 kg']],\n",
    "                  ['product', ['apple', 'apple', 'orange', 'orange', 'peppers', 'peppers', 'banana', 'banana']],\n",
    "                  ['price', [1, 10, 2, 20, 1.5, 15, 0.5, 5], -1]])\n",
    "df = pd.concat([idx.to_pandas(index=False, series=False).astype('category') for idx in ilm.lindex], axis=1)\n",
    "col = pd.MultiIndex.from_arrays([ilm.lname, ilm.lisvar], names=['name', 'var'])\n",
    "df.columns = col\n",
    "print(df)"
   ]
  },
  {
   "cell_type": "code",
   "execution_count": 8,
   "metadata": {},
   "outputs": [
    {
     "data": {
      "text/plain": [
       "Float64Index([0.5, 1.0, 1.5, 2.0, 5.0, 7.0, 10.0, 15.0, 20.0], dtype='float64')"
      ]
     },
     "execution_count": 8,
     "metadata": {},
     "output_type": "execute_result"
    }
   ],
   "source": [
    "# fonction append\n",
    "s2 = pd.Series(['fruit', 'kg', 'banana', 7], index=df.columns)\n",
    "df = pd.concat([df, s2.to_frame().T], ignore_index=True).astype('category') \n",
    "ds = df['price'].squeeze()\n",
    "ds.cat.categories"
   ]
  },
  {
   "cell_type": "code",
   "execution_count": 9,
   "metadata": {},
   "outputs": [
    {
     "name": "stdout",
     "output_type": "stream",
     "text": [
      "0    (b, 1)\n",
      "1    (a, 2)\n",
      "2    (a, 4)\n",
      "3    (d, 3)\n",
      "dtype: category\n",
      "Categories (4, object): [('a', 2), ('a', 4), ('b', 1), ('d', 3)]\n",
      "0    1\n",
      "1    0\n",
      "2    0\n",
      "3    2\n",
      "dtype: int8\n",
      "0    2\n",
      "1    0\n",
      "2    1\n",
      "3    3\n",
      "dtype: int8\n",
      "0    False\n",
      "1     True\n",
      "2    False\n",
      "3    False\n",
      "dtype: bool\n"
     ]
    }
   ],
   "source": [
    "a= pd.Series(['b', 'a', 'a', 'd']).astype('category')\n",
    "b = pd.Series([1,2,4,3]).astype('category')\n",
    "coup = pd.Series(list(zip(*(list(a), list(b))))).astype('category')\n",
    "print(coup)\n",
    "\n",
    "print(a.cat.codes)\n",
    "print(coup.cat.codes)\n",
    "res = coup.cat.codes == a.cat.codes\n",
    "print(res)"
   ]
  },
  {
   "cell_type": "code",
   "execution_count": 10,
   "metadata": {},
   "outputs": [
    {
     "name": "stdout",
     "output_type": "stream",
     "text": [
      "0    a\n",
      "1    b\n",
      "2    c\n",
      "3    b\n",
      "4    c\n",
      "dtype: object\n"
     ]
    }
   ],
   "source": [
    "a = pd.Series([0,1,2,3,2]).astype('category')\n",
    "codec = ['a', 'b', 'c', 'b']\n",
    "print(a.cat.codes.map(pd.Series(codec)))"
   ]
  },
  {
   "cell_type": "code",
   "execution_count": 11,
   "metadata": {},
   "outputs": [
    {
     "data": {
      "text/html": [
       "<div>\n",
       "<style scoped>\n",
       "    .dataframe tbody tr th:only-of-type {\n",
       "        vertical-align: middle;\n",
       "    }\n",
       "\n",
       "    .dataframe tbody tr th {\n",
       "        vertical-align: top;\n",
       "    }\n",
       "\n",
       "    .dataframe thead tr th {\n",
       "        text-align: left;\n",
       "    }\n",
       "</style>\n",
       "<table border=\"1\" class=\"dataframe\">\n",
       "  <thead>\n",
       "    <tr>\n",
       "      <th>name</th>\n",
       "      <th>plants</th>\n",
       "      <th>quantity</th>\n",
       "      <th>product</th>\n",
       "    </tr>\n",
       "    <tr>\n",
       "      <th>var</th>\n",
       "      <th>False</th>\n",
       "      <th>False</th>\n",
       "      <th>False</th>\n",
       "    </tr>\n",
       "  </thead>\n",
       "  <tbody>\n",
       "    <tr>\n",
       "      <th>0</th>\n",
       "      <td>fruit</td>\n",
       "      <td>kg</td>\n",
       "      <td>apple</td>\n",
       "    </tr>\n",
       "    <tr>\n",
       "      <th>1</th>\n",
       "      <td>fruit</td>\n",
       "      <td>10 kg</td>\n",
       "      <td>apple</td>\n",
       "    </tr>\n",
       "    <tr>\n",
       "      <th>2</th>\n",
       "      <td>fruit</td>\n",
       "      <td>kg</td>\n",
       "      <td>orange</td>\n",
       "    </tr>\n",
       "    <tr>\n",
       "      <th>3</th>\n",
       "      <td>fruit</td>\n",
       "      <td>10 kg</td>\n",
       "      <td>orange</td>\n",
       "    </tr>\n",
       "    <tr>\n",
       "      <th>4</th>\n",
       "      <td>vegetable</td>\n",
       "      <td>kg</td>\n",
       "      <td>peppers</td>\n",
       "    </tr>\n",
       "    <tr>\n",
       "      <th>5</th>\n",
       "      <td>vegetable</td>\n",
       "      <td>10 kg</td>\n",
       "      <td>peppers</td>\n",
       "    </tr>\n",
       "    <tr>\n",
       "      <th>6</th>\n",
       "      <td>vegetable</td>\n",
       "      <td>kg</td>\n",
       "      <td>banana</td>\n",
       "    </tr>\n",
       "    <tr>\n",
       "      <th>7</th>\n",
       "      <td>fruit</td>\n",
       "      <td>10 kg</td>\n",
       "      <td>banana</td>\n",
       "    </tr>\n",
       "    <tr>\n",
       "      <th>8</th>\n",
       "      <td>fruit</td>\n",
       "      <td>kg</td>\n",
       "      <td>banana</td>\n",
       "    </tr>\n",
       "  </tbody>\n",
       "</table>\n",
       "</div>"
      ],
      "text/plain": [
       "name     plants quantity  product\n",
       "var       False    False    False\n",
       "0         fruit       kg    apple\n",
       "1         fruit    10 kg    apple\n",
       "2         fruit       kg   orange\n",
       "3         fruit    10 kg   orange\n",
       "4     vegetable       kg  peppers\n",
       "5     vegetable    10 kg  peppers\n",
       "6     vegetable       kg   banana\n",
       "7         fruit    10 kg   banana\n",
       "8         fruit       kg   banana"
      ]
     },
     "execution_count": 11,
     "metadata": {},
     "output_type": "execute_result"
    }
   ],
   "source": [
    "#filtrage suivant var\n",
    "df.loc[:,(slice(None),False)]"
   ]
  },
  {
   "cell_type": "code",
   "execution_count": 12,
   "metadata": {
    "scrolled": false
   },
   "outputs": [
    {
     "name": "stdout",
     "output_type": "stream",
     "text": [
      "[[('plants', False), ['fruit', 'fruit', 'fruit', 'fruit', 'vegetable', 'vegetable', 'vegetable', 'fruit', 'fruit']], [('quantity', False), ['kg', '10 kg', 'kg', '10 kg', 'kg', '10 kg', 'kg', '10 kg', 'kg']], [('product', False), ['apple', 'apple', 'orange', 'orange', 'peppers', 'peppers', 'banana', 'banana', 'banana']], [('price', True), [1.0, 10.0, 2.0, 20.0, 1.5, 15.0, 0.5, 5.0, 7.0]]] \n",
      "\n",
      "[[('plants', False), ['fruit', 'vegetable'], [0, 0, 0, 0, 1, 1, 1, 0, 0]], [('quantity', False), ['10 kg', 'kg'], [1, 0, 1, 0, 1, 0, 1, 0, 1]], [('product', False), ['apple', 'banana', 'orange', 'peppers'], [0, 0, 2, 2, 3, 3, 1, 1, 1]], [('price', True), [0.5, 1.0, 1.5, 2.0, 5.0, 7.0, 10.0, 15.0, 20.0], [1, 6, 3, 8, 2, 7, 0, 4, 5]]]\n"
     ]
    }
   ],
   "source": [
    "full = [[name, list(ds)] for name,ds in df.items()]\n",
    "print(full, '\\n')\n",
    "default = [[name, list(ds.cat.categories), list(ds.cat.codes)] for name,ds in df.astype('category').items()]\n",
    "print(default)"
   ]
  },
  {
   "cell_type": "code",
   "execution_count": 13,
   "metadata": {},
   "outputs": [
    {
     "name": "stdout",
     "output_type": "stream",
     "text": [
      "[['plants', ['fruit', 'fruit', 'fruit', 'fruit', 'vegetable', 'vegetable', 'vegetable', 'fruit']], ['quantity', ['kg', '10 kg', 'kg', '10 kg', 'kg', '10 kg', 'kg', '10 kg']], ['product', ['apple', 'apple', 'orange', 'orange', 'peppers', 'peppers', 'banana', 'banana']], ['price', [1, 10, 2, 20, 1.5, 15, 0.5, 5], -1]] \n",
      "\n",
      "[['plants', ['vegetable', 'fruit'], [1, 1, 1, 1, 0, 0, 0, 1]], ['quantity', ['kg', '10 kg'], [0, 1, 0, 1, 0, 1, 0, 1]], ['product', ['banana', 'peppers', 'orange', 'apple'], [3, 3, 2, 2, 1, 1, 0, 0]], ['price', [1, 10, 2, 20, 1.5, 15, 0.5, 5], -1]]\n"
     ]
    }
   ],
   "source": [
    "print(ilm.to_obj(modecodec='full'), '\\n')\n",
    "print(ilm.to_obj(modecodec='default'))"
   ]
  },
  {
   "cell_type": "code",
   "execution_count": 14,
   "metadata": {},
   "outputs": [
    {
     "name": "stdout",
     "output_type": "stream",
     "text": [
      "fullsize 58111978 0.97560715675354\n",
      "defaultsize 15847186 1.0072519779205322\n"
     ]
    }
   ],
   "source": [
    "#generation de json (full et default)\n",
    "import json\n",
    "t0=time()\n",
    "full = json.dumps([[name, list(ds)] for name,ds in data2.items()])\n",
    "print('fullsize', len(full), time()-t0)\n",
    "t0=time()\n",
    "default = json.dumps([[name, list(ds.cat.categories), list(ds.cat.codes)] for name,ds in data2.astype('category').items()])\n",
    "print('defaultsize', len(default), time()-t0)\n"
   ]
  },
  {
   "cell_type": "code",
   "execution_count": 15,
   "metadata": {},
   "outputs": [
    {
     "name": "stdout",
     "output_type": "stream",
     "text": [
      "[[-1, 0, 5], [1, 4], [2, 3], None, None, None, None]\n",
      "{-1: ['root - 5', {0: ['six - 4', {1: ['deux - 0', {2: ['trois - 1']}, {3: ['quatre - 25']}]}, {4: ['cinq - 3']}]}, {5: ['premier - 4']}]}\n",
      "-1: root \n",
      "    - \n",
      "    5\n",
      "    0: six \n",
      "       - \n",
      "       4\n",
      "       1: deux \n",
      "          - \n",
      "          0\n",
      "          2: trois \n",
      "             - \n",
      "             1\n",
      "          3: quatre \n",
      "             - \n",
      "             25\n",
      "       4: cinq \n",
      "          - \n",
      "          3\n",
      "    5: premier \n",
      "       - \n",
      "       4\n"
     ]
    }
   ],
   "source": [
    "from pprint import pformat\n",
    "\n",
    "def dic_noeud(n):\n",
    "    lis = [noeud[n+1][0] + ' - ' + str(noeud[n+1][2])]\n",
    "    if child[n+1]:\n",
    "        for ch in child[n+1]:\n",
    "            if ch != n:\n",
    "                lis.append(dic_noeud(ch))\n",
    "    return {n: lis}\n",
    "    #return {noeud[n+1][1]: lis}\n",
    "\n",
    "noeud = [['root', -1, 5, -1], ['six',0 , 4, -1], ['deux', 1, 0, 0], ['trois', 2, 1, 1], \n",
    "         ['quatre', 3, 25, 1], ['cinq', 4 , 3, 0], ['premier', 5, 4, -1]] \n",
    "child = [None] * len(noeud)\n",
    "for n in noeud: \n",
    "    if child[n[3]+1] is None:\n",
    "        child[n[3]+1] = []\n",
    "    child[n[3]+1].append(n[1])\n",
    "    #print(child)\n",
    "print(child)\n",
    "tre = dic_noeud(-1)\n",
    "print(tre)\n",
    "\n",
    "#tre={'root':[5 ,{'six':[4,{'deux':[0,{'trois':[1]}, {'quatre':[25]}]}, {'cinq':[3]}]}, {'premier':[4]}]}\n",
    "tref = pformat(tre, indent=0, width=1)\n",
    "for c in [\"'\", \"{\", \"[\", \"]\", \"}\", \",\"]: tref = tref.replace (c, \"\")\n",
    "print(tref)   "
   ]
  },
  {
   "cell_type": "code",
   "execution_count": 16,
   "metadata": {
    "scrolled": true
   },
   "outputs": [
    {
     "name": "stdout",
     "output_type": "stream",
     "text": [
      "fullsize 57534721 10.840340614318848\n",
      "minsize 1136118 0.6176717281341553\n"
     ]
    }
   ],
   "source": [
    "t0=time()\n",
    "fullsize = len(idxs2.to_obj(encoded=True, modecodec='full'))\n",
    "print('fullsize', fullsize, time()-t0)\n",
    "t0=time()\n",
    "minsize = len(idxs2.to_obj(encoded=True, modecodec='nokeys'))\n",
    "print('minsize', minsize, time()-t0)"
   ]
  },
  {
   "cell_type": "markdown",
   "metadata": {},
   "source": [
    "----\n",
    "## format non optimisé\n",
    "- le \"taux d'unicité\" reste à 12% (pas de modification des index)\n",
    "- le \"taux de codage\" est de 30% (remplacement des données dupliquées par un entier)\n",
    "- le gain de taille de fichier par rapport à un fichier \"quoté\" est de 61%\n",
    "- l'analyse de la structure montre que les données sont principalement du type \"linked\" (non ou peu structuré)\n",
    "- quelques colonnes sont de type \"derived\". Par exemple les index longitude(43) et latitude(44) sont bien dérivés de l'index coordonneesXY(13)\n",
    "- le taux de couplage (\"linkrate\") pour chacun des index est très proche de 0, ce qui signifie que les données devraient être de type \"derived\" (lien de dépendance par exemple comme entre les trimestres et les mois) ou \"coupled\" (lien biunivoque)."
   ]
  },
  {
   "cell_type": "code",
   "execution_count": 17,
   "metadata": {
    "scrolled": false
   },
   "outputs": [
    {
     "name": "stdout",
     "output_type": "stream",
     "text": [
      "defaultsize 15345438 0.9345924854278564\n",
      "indicator default :  {'init values': 4344010, 'mean size': 13.245, 'unique values': 1557, 'mean coding size': 3.529, 'unicity level': 0.0, 'object lightness': 0.266, 'gain': 0.733}\n",
      "[{'lencodec': 96, 'name': 'Date de début', 'num': 0, 'parent': 5, 'typecoupl': 'linked'},\n",
      " {'lencodec': 96, 'name': 'Date de fin', 'num': 1, 'parent': 0, 'typecoupl': 'coupled'},\n",
      " {'lencodec': 18, 'name': 'Organisme', 'num': 2, 'parent': 5, 'typecoupl': 'derived'},\n",
      " {'lencodec': 70, 'name': 'code zas', 'num': 3, 'parent': 5, 'typecoupl': 'derived'},\n",
      " {'lencodec': 70, 'name': 'Zas', 'num': 4, 'parent': 3, 'typecoupl': 'coupled'},\n",
      " {'lencodec': 533, 'name': 'code site', 'num': 5, 'parent': 5, 'typecoupl': 'crossed'},\n",
      " {'lencodec': 533, 'name': 'nom site', 'num': 6, 'parent': 5, 'typecoupl': 'linked'},\n",
      " {'lencodec': 5, 'name': \"type d'implantation\", 'num': 7, 'parent': 5, 'typecoupl': 'derived'},\n",
      " {'lencodec': 9, 'name': 'Polluant', 'num': 8, 'parent': 13, 'typecoupl': 'linked'},\n",
      " {'lencodec': 3, 'name': \"type d'influence\", 'num': 9, 'parent': 12, 'typecoupl': 'linked'},\n",
      " {'lencodec': 26, 'name': 'discriminant', 'num': 10, 'parent': 13, 'typecoupl': 'linked'},\n",
      " {'lencodec': 1, 'name': 'Réglementaire', 'num': 11, 'parent': 11, 'typecoupl': 'unique'},\n",
      " {'lencodec': 4, 'name': \"type d'évaluation\", 'num': 12, 'parent': 7, 'typecoupl': 'linked'},\n",
      " {'lencodec': 59, 'name': 'procédure de mesure', 'num': 13, 'parent': 3, 'typecoupl': 'linked'},\n",
      " {'lencodec': 2, 'name': 'type de valeur', 'num': 14, 'parent': 2, 'typecoupl': 'linked'},\n",
      " {'lencodec': 3, 'name': 'unité de mesure', 'num': 15, 'parent': 12, 'typecoupl': 'linked'},\n",
      " {'lencodec': 1, 'name': 'taux de saisie', 'num': 16, 'parent': 16, 'typecoupl': 'unique'},\n",
      " {'lencodec': 1, 'name': 'couverture temporelle', 'num': 17, 'parent': 17, 'typecoupl': 'unique'},\n",
      " {'lencodec': 1, 'name': 'couverture de données', 'num': 18, 'parent': 18, 'typecoupl': 'unique'},\n",
      " {'lencodec': 3, 'name': 'code qualité', 'num': 19, 'parent': 14, 'typecoupl': 'crossed'},\n",
      " {'lencodec': 2, 'name': 'validité', 'num': 20, 'parent': 19, 'typecoupl': 'derived'}]\n",
      "[{'linkrate': 1.0},\n",
      " {'linkrate': 0.0},\n",
      " {'linkrate': 0.0},\n",
      " {'linkrate': 0.0},\n",
      " {'linkrate': 0.0},\n",
      " {'linkrate': 1.0},\n",
      " {'linkrate': 0.0},\n",
      " {'linkrate': 0.0},\n",
      " {'linkrate': 0.05},\n",
      " {'linkrate': 0.75},\n",
      " {'linkrate': 0.14},\n",
      " {'linkrate': 0.0},\n",
      " {'linkrate': 0.73},\n",
      " {'linkrate': 0.11},\n",
      " {'linkrate': 0.06},\n",
      " {'linkrate': 0.62},\n",
      " {'linkrate': 0.0},\n",
      " {'linkrate': 0.0},\n",
      " {'linkrate': 0.0},\n",
      " {'linkrate': 1.0},\n",
      " {'linkrate': 0.0}]\n"
     ]
    }
   ],
   "source": [
    "t0=time()\n",
    "defaultsize = len(idxs2.to_obj(encoded=True, modecodec='default'))\n",
    "print('defaultsize', defaultsize, time()-t0)\n",
    "print('indicator default : ', idxs2.indicator(fullsize, defaultsize))\n",
    "pprint(idxs2.indexinfos(keys=['num', 'name', 'lencodec', 'parent', 'typecoupl']), width=120)\n",
    "pprint(idxs2.indexinfos(keys=['linkrate']))"
   ]
  },
  {
   "cell_type": "markdown",
   "metadata": {},
   "source": [
    "----\n",
    "## Format optimisé\n",
    "- le \"taux d'unicité\" se dégrade légèrement (passage de 11,6% à 12,1%) par l'ajout d'index supplémentaires\n",
    "- le \"taux de codage\" par contre passe de 30% à 16% de par l'optimisation \n",
    "- le gain de taille de fichier par rapport à un fichier \"quoté\" est maintenant de 74%\n",
    "- l'utilisation d'un format binaire (codage CBOR pour Concise Binary Object Representation RFC 8949) permet d'améliorer encore le gain de taille de fichier (82%)"
   ]
  },
  {
   "cell_type": "code",
   "execution_count": 18,
   "metadata": {
    "scrolled": false
   },
   "outputs": [
    {
     "name": "stdout",
     "output_type": "stream",
     "text": [
      "optimizesize  8831886 1.5437443256378174\n",
      "indicator optimize :  {'init values': 4344010, 'mean size': 13.245, 'unique values': 1557, 'mean coding size': 2.029, 'unicity level': 0.0, 'object lightness': 0.153, 'gain': 0.846}\n",
      "cborsize 4608236 1.2426013946533203\n",
      "indicator cbor :  {'init values': 4344010, 'mean size': 13.245, 'unique values': 1557, 'mean coding size': 1.056, 'unicity level': 0.0, 'object lightness': 0.08, 'gain': 0.92}\n"
     ]
    }
   ],
   "source": [
    "#idxs.setcanonorder().sort()\n",
    "t0=time()\n",
    "optimizesize = len(idxs2.to_obj(modecodec='optimize', encoded=True))\n",
    "print('optimizesize ', optimizesize, time()-t0)\n",
    "print('indicator optimize : ', idxs2.indicator(fullsize, optimizesize))\n",
    "t0=time()\n",
    "js = idxs2.to_obj(encoded=True, modecodec='optimize', encode_format='cbor')\n",
    "cborsize = len(js)\n",
    "print('cborsize', cborsize, time()-t0)\n",
    "print('indicator cbor : ', idxs2.indicator(fullsize, cborsize))"
   ]
  },
  {
   "cell_type": "markdown",
   "metadata": {},
   "source": [
    "----\n",
    "## Intégrité\n",
    "- la transformation inverse des données binaires permet de vérifier qu'on retombe bien sur les mêmes données (pas de dégradation)"
   ]
  },
  {
   "cell_type": "code",
   "execution_count": 19,
   "metadata": {},
   "outputs": [
    {
     "name": "stdout",
     "output_type": "stream",
     "text": [
      "fromcbor 197455 2.801172971725464\n",
      "controle égalité : True 1.4496169090270996\n"
     ]
    }
   ],
   "source": [
    "t0=time()\n",
    "idxs3 = Ilist.from_obj(js)\n",
    "print('fromcbor', len(idxs3), time()-t0)\n",
    "t0=time()\n",
    "verif = idxs2 == idxs3\n",
    "print('controle égalité :', verif, time()-t0)\n"
   ]
  }
 ],
 "metadata": {
  "celltoolbar": "Format de la Cellule Texte Brut",
  "kernelspec": {
   "display_name": "Python 3 (ipykernel)",
   "language": "python",
   "name": "python3"
  },
  "language_info": {
   "codemirror_mode": {
    "name": "ipython",
    "version": 3
   },
   "file_extension": ".py",
   "mimetype": "text/x-python",
   "name": "python",
   "nbconvert_exporter": "python",
   "pygments_lexer": "ipython3",
   "version": "3.9.12"
  }
 },
 "nbformat": 4,
 "nbformat_minor": 4
}
