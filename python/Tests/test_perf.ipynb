{
 "cells": [
  {
   "cell_type": "code",
   "execution_count": 1,
   "id": "3c34f89f",
   "metadata": {},
   "outputs": [],
   "source": [
    "from observation.fields import Sfield, Nfield\n",
    "from time import time\n",
    "from json_ntv import Ntv, NtvList"
   ]
  },
  {
   "cell_type": "code",
   "execution_count": 2,
   "id": "44f2ecd5",
   "metadata": {},
   "outputs": [],
   "source": [
    "def lis_data(leng, func=None):\n",
    "    if func:\n",
    "        return [func(ind) for ind in range(leng)]\n",
    "    return [ind for ind in range(leng)]"
   ]
  },
  {
   "cell_type": "code",
   "execution_count": 3,
   "id": "3826248e",
   "metadata": {},
   "outputs": [
    {
     "name": "stdout",
     "output_type": "stream",
     "text": [
      "['0', '1', '2', '3', '4']\n"
     ]
    }
   ],
   "source": [
    "print(lis_data(5, str))"
   ]
  },
  {
   "cell_type": "code",
   "execution_count": 16,
   "id": "c22db916",
   "metadata": {},
   "outputs": [
    {
     "name": "stdout",
     "output_type": "stream",
     "text": [
      " 0 - list NTV value - data str      : 0.0021\n",
      " 1 - sfield - data str fast         : 0.0028\n",
      " 2 - sfield - data str              : 0.0052\n",
      " 3 - nfield - data str fast         : 0.0302\n",
      " 4 - NtvList value - data str fast  : 0.0782\n",
      " 5 - nfield - data str              : 0.1258\n",
      " 6 - list NTV - data str            : 0.1426\n",
      " 7 - NTV - data str                 : 0.1475\n",
      " 8 - NtvList value - data str       : 0.2696\n"
     ]
    }
   ],
   "source": [
    "leng = 10000\n",
    "data_str = lis_data(leng, str)\n",
    "data_int = lis_data(leng)\n",
    "\n",
    "test = data_str\n",
    "loop = 20\n",
    "name = ['list NTV value - data str', 'sfield - data str fast', 'sfield - data str', 'nfield - data str fast',\n",
    "        'NtvList value - data str fast', 'nfield - data str', 'list NTV - data str', 'NTV - data str', \n",
    "        'NtvList value - data str']\n",
    "res = [0] * len(name)\n",
    " \n",
    "for i in range(loop):\n",
    "    t0 = time(); val = [Ntv._from_value(data) for data in data_str]; res[0] += time() - t0\n",
    "    t0 = time(); fld = Sfield(data_str, fast=True);                  res[1] += time() - t0\n",
    "    t0 = time(); fld = Sfield(data_str);                             res[2] += time() - t0\n",
    "    t0 = time(); fld = Nfield(data_str, fast=True);                  res[3] += time() - t0\n",
    "    t0 = time(); val = NtvList(data_str, fast=True).val;             res[4] += time() - t0\n",
    "    t0 = time(); fld = Nfield(data_str);                             res[5] += time() - t0\n",
    "    t0 = time(); val = [Ntv.obj(data) for data in data_str];         res[6] += time() - t0\n",
    "    t0 = time(); ntv = Ntv.obj(data_str);                            res[7] += time() - t0\n",
    "    t0 = time(); val = NtvList(data_str).val;                        res[8] += time() - t0\n",
    "\n",
    "for i, (r, n) in enumerate(zip(res, name)):\n",
    "    print(f'{i:2} - {n:30} : {r/loop:.4f}')"
   ]
  },
  {
   "cell_type": "code",
   "execution_count": null,
   "id": "3b300e69",
   "metadata": {},
   "outputs": [],
   "source": []
  }
 ],
 "metadata": {
  "kernelspec": {
   "display_name": "Python 3 (ipykernel)",
   "language": "python",
   "name": "python3"
  },
  "language_info": {
   "codemirror_mode": {
    "name": "ipython",
    "version": 3
   },
   "file_extension": ".py",
   "mimetype": "text/x-python",
   "name": "python",
   "nbconvert_exporter": "python",
   "pygments_lexer": "ipython3",
   "version": "3.10.9"
  }
 },
 "nbformat": 4,
 "nbformat_minor": 5
}
