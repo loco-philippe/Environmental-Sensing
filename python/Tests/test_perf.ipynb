{
 "cells": [
  {
   "cell_type": "code",
   "execution_count": 1,
   "id": "3c34f89f",
   "metadata": {},
   "outputs": [],
   "source": [
    "from observation.fields import Sfield, Nfield\n",
    "from time import time\n",
    "from json_ntv import Ntv, NtvList"
   ]
  },
  {
   "cell_type": "code",
   "execution_count": 2,
   "id": "44f2ecd5",
   "metadata": {},
   "outputs": [],
   "source": [
    "def lis_data(leng, func=None):\n",
    "    if func:\n",
    "        return [func(ind) for ind in range(leng)]\n",
    "    return [ind for ind in range(leng)]"
   ]
  },
  {
   "cell_type": "code",
   "execution_count": 3,
   "id": "3826248e",
   "metadata": {},
   "outputs": [
    {
     "name": "stdout",
     "output_type": "stream",
     "text": [
      "['0', '1', '2', '3', '4']\n"
     ]
    }
   ],
   "source": [
    "print(lis_data(5, str))"
   ]
  },
  {
   "cell_type": "code",
   "execution_count": 5,
   "id": "c22db916",
   "metadata": {},
   "outputs": [
    {
     "name": "stdout",
     "output_type": "stream",
     "text": [
      "0.0029876232147216797\n",
      "0.1329360008239746\n",
      "0.05875039100646973\n",
      "0.05227780342102051\n",
      "0.0044820308685302734\n",
      "0.286283016204834\n",
      "0.017425537109375\n"
     ]
    }
   ],
   "source": [
    "leng = 10000\n",
    "data_str = lis_data(leng)\n",
    "data_int = lis_data(leng)\n",
    "\n",
    "t0 = time()\n",
    "fld = Sfield(data_str)\n",
    "t1 = time()\n",
    "print(t1-t0)\n",
    "#print(fld)\n",
    "t0 = time()\n",
    "fld = Nfield(data_str)\n",
    "t1 = time()\n",
    "print(t1-t0)\n",
    "\n",
    "t0 = time()\n",
    "ntv = Ntv.obj(data_str)\n",
    "t1 = time()\n",
    "print(t1-t0)\n",
    "\n",
    "t0 = time()\n",
    "val = [Ntv.obj(data) for data in data_str]\n",
    "t1 = time()\n",
    "print(t1-t0)\n",
    "\n",
    "t0 = time()\n",
    "val = [Ntv._from_value(data) for data in data_str]\n",
    "t1 = time()\n",
    "print(t1-t0)\n",
    "\n",
    "t0 = time()\n",
    "val = NtvList(data_str).val\n",
    "t1 = time()\n",
    "print(t1-t0)\n",
    "\n",
    "t0 = time()\n",
    "val = NtvList(data_str, fast=True).val\n",
    "t1 = time()\n",
    "print(t1-t0)"
   ]
  }
 ],
 "metadata": {
  "kernelspec": {
   "display_name": "Python 3 (ipykernel)",
   "language": "python",
   "name": "python3"
  },
  "language_info": {
   "codemirror_mode": {
    "name": "ipython",
    "version": 3
   },
   "file_extension": ".py",
   "mimetype": "text/x-python",
   "name": "python",
   "nbconvert_exporter": "python",
   "pygments_lexer": "ipython3",
   "version": "3.10.9"
  }
 },
 "nbformat": 4,
 "nbformat_minor": 5
}
