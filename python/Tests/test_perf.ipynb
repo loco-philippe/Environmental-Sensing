{
 "cells": [
  {
   "cell_type": "code",
   "execution_count": 1,
   "id": "3c34f89f",
   "metadata": {},
   "outputs": [],
   "source": [
    "from observation.fields import Sfield, Nfield\n",
    "from time import time\n",
    "from json_ntv import Ntv, NtvList"
   ]
  },
  {
   "cell_type": "code",
   "execution_count": 2,
   "id": "44f2ecd5",
   "metadata": {},
   "outputs": [],
   "source": [
    "def lis_data(leng, func=None):\n",
    "    if func:\n",
    "        return [func(ind) for ind in range(leng)]\n",
    "    return [ind for ind in range(leng)]"
   ]
  },
  {
   "cell_type": "code",
   "execution_count": 3,
   "id": "3826248e",
   "metadata": {},
   "outputs": [
    {
     "name": "stdout",
     "output_type": "stream",
     "text": [
      "['0', '1', '2', '3', '4']\n"
     ]
    }
   ],
   "source": [
    "print(lis_data(5, str))"
   ]
  },
  {
   "cell_type": "code",
   "execution_count": 17,
   "id": "c22db916",
   "metadata": {},
   "outputs": [
    {
     "name": "stdout",
     "output_type": "stream",
     "text": [
      "sfield - data str :  0.002986907958984375\n",
      "list NTV value - data str :  0.0039823055267333984\n",
      "NtvList value - data str fast :  0.01593327522277832\n",
      "nfield - data str fast :  0.013939142227172852\n",
      "NTV - data str :  0.06373167037963867\n",
      "list NTV - data str :  0.13393092155456543\n",
      "nfield - data str :  0.06671667098999023\n",
      "NtvList value - data str :  0.20064854621887207\n"
     ]
    }
   ],
   "source": [
    "leng = 10000\n",
    "data_str = lis_data(leng, str)\n",
    "data_int = lis_data(leng)\n",
    "\n",
    "t0 = time()\n",
    "fld = Sfield(data_str)\n",
    "t1 = time()\n",
    "print('sfield - data str : ', t1-t0)\n",
    "\n",
    "t0 = time()\n",
    "val = [Ntv._from_value(data) for data in data_str]\n",
    "t1 = time()\n",
    "print('list NTV value - data str : ', t1-t0)\n",
    "\n",
    "t0 = time()\n",
    "val = NtvList(data_str, fast=True).val\n",
    "t1 = time()\n",
    "print('NtvList value - data str fast : ', t1-t0)\n",
    "\n",
    "t0 = time()\n",
    "fld = Nfield(data_str, fast=True)\n",
    "t1 = time()\n",
    "print('nfield - data str fast : ', t1-t0)\n",
    "\n",
    "t0 = time()\n",
    "ntv = Ntv.obj(data_str)\n",
    "t1 = time()\n",
    "print('NTV - data str : ', t1-t0)\n",
    "\n",
    "t0 = time()\n",
    "val = [Ntv.obj(data) for data in data_str]\n",
    "t1 = time()\n",
    "print('list NTV - data str : ', t1-t0)\n",
    "\n",
    "t0 = time()\n",
    "fld = Nfield(data_str)\n",
    "t1 = time()\n",
    "print('nfield - data str : ', t1-t0)\n",
    "\n",
    "t0 = time()\n",
    "val = NtvList(data_str).val\n",
    "t1 = time()\n",
    "print('NtvList value - data str : ', t1-t0)\n"
   ]
  }
 ],
 "metadata": {
  "kernelspec": {
   "display_name": "Python 3 (ipykernel)",
   "language": "python",
   "name": "python3"
  },
  "language_info": {
   "codemirror_mode": {
    "name": "ipython",
    "version": 3
   },
   "file_extension": ".py",
   "mimetype": "text/x-python",
   "name": "python",
   "nbconvert_exporter": "python",
   "pygments_lexer": "ipython3",
   "version": "3.10.9"
  }
 },
 "nbformat": 4,
 "nbformat_minor": 5
}
