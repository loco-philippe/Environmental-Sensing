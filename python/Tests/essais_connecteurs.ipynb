{
 "cells": [
  {
   "cell_type": "markdown",
   "id": "34ae1e4c",
   "metadata": {},
   "source": [
    "# tests tab-NTV"
   ]
  },
  {
   "cell_type": "code",
   "execution_count": 6,
   "id": "3ae2830f",
   "metadata": {},
   "outputs": [],
   "source": [
    "from json_ntv import NtvSingle, NtvList, NtvSet, Ntv, NtvConnector\n",
    "from json_ntv import NtvType, Namespace\n",
    "\n"
   ]
  },
  {
   "cell_type": "code",
   "execution_count": 4,
   "id": "487c09a0",
   "metadata": {},
   "outputs": [],
   "source": [
    "fields = [{'full_dates::datetime': ['1964-01-01', '1985-02-05', '2022-01-21']},\n",
    "          {'full_coord::point':    [[1,2], [3,4], [5,6]]},\n",
    "          {'full_simple': [1,2,3,4]},\n",
    "          {'complete_test': [['a', 'b'], [0, 0, 1, 0]]},\n",
    "          {'complete_test': [['a', 'b'], [0, 0, 1, 0]]},\n",
    "          {'implicit_test': [['a', 'b'], 'parent']},\n",
    "          {'relative_test': [{'::string': ['a', 'b']}, 1, [0, 1, 1]]},\n",
    "          [{'::string': ['a', 'b']}, 1, [0, 1, 1]],\n",
    "          {'primary_test': [['a', 'b'], [2]]},\n",
    "          [['a', 'b'], [2]],\n",
    "          {'unic_test': 'valunic' },\n",
    "          'valunic',\n",
    "          {'primary': [['oui', 'fin 2022'], [1]]},\n",
    "          [['oui', 'fin 2022'], [1]]]\n",
    "\n",
    "field_old = [{'test': 'datvalue'}, ['a', 'b'], [1, [0, 0, 1, 0]]]"
   ]
  },
  {
   "cell_type": "code",
   "execution_count": 7,
   "id": "1970d2ef",
   "metadata": {},
   "outputs": [
    {
     "name": "stdout",
     "output_type": "stream",
     "text": [
      "    [\"full_dates\", [\"1964-01-01T00:00:00+00:00\", \"1985-02-05T00:00:00+00:00\", \"2022-01-21T00:00:00+00:00\"]]\n",
      "\n",
      "    [\"full_coord\", [[1, 2], [3, 4], [5, 6]]]\n",
      "\n",
      "    [\"full_simple\", [1, 2, 3, 4]]\n",
      "\n",
      "    [\"complete_test\", [\"a\", \"a\", \"b\", \"a\"]]\n",
      "\n",
      "    [\"complete_test\", [\"a\", \"a\", \"b\", \"a\"]]\n",
      "\n",
      "None\n",
      "None\n",
      "None\n",
      "None\n",
      "None\n",
      "    [\"unic_test\", [\"valunic\"]]\n",
      "\n",
      "    [\"valunic\"]\n",
      "\n",
      "None\n",
      "None\n"
     ]
    }
   ],
   "source": [
    "from observation import Iindex\n",
    "def decode_ntv(field, encode_format='json'):\n",
    "    '''return tuple : name, type, codec, parent, keys'''\n",
    "    ntv = Ntv.obj(field)\n",
    "    type_ntv = None\n",
    "    if ntv.ntv_type:\n",
    "        type_ntv = ntv.ntv_type.long_name\n",
    "    if isinstance(ntv, NtvSingle):\n",
    "        return (ntv.ntv_name, type_ntv, ntv.to_obj(simpleval=True, encode_format=encode_format), \n",
    "                None, None)\n",
    "    if len(ntv) == 0 or len(ntv) > 3:\n",
    "        return (ntv.ntv_name, type_ntv, ntv.to_obj(simpleval=True, encode_format=encode_format), \n",
    "                None, None)\n",
    "    codec_ntv = ntv[0]\n",
    "    type_codec_ntv = None\n",
    "    if codec_ntv.ntv_type:\n",
    "        type_codec_ntv = codec_ntv.ntv_type.long_name\n",
    "    if len(ntv) == 3 and isinstance(ntv[1], NtvSingle) and isinstance(ntv[1].ntv_value, (int, str)) and \\\n",
    "      not isinstance(ntv[2], NtvSingle) and isinstance(ntv[2][0].ntv_value, int):\n",
    "        return (ntv.ntv_name, type_codec_ntv, codec_ntv.to_obj(simpleval=True, encode_format=encode_format), \n",
    "                ntv[1].ntv_value, ntv[2].to_obj())\n",
    "    if len(ntv) == 2 and isinstance(ntv[1], NtvSingle) and isinstance(ntv[1].ntv_value, (int, str)):\n",
    "        return (ntv.ntv_name, type_codec_ntv, codec_ntv.to_obj(simpleval=True, encode_format=encode_format), \n",
    "                ntv[1].ntv_value, None) \n",
    "    if len(ntv) == 2 and not isinstance(ntv[1], NtvSingle) and isinstance(ntv[1][0].ntv_value, int):\n",
    "        return (ntv.ntv_name, type_codec_ntv, codec_ntv.to_obj(simpleval=True, encode_format=encode_format), \n",
    "                None, ntv[1].to_obj())\n",
    "    return (ntv.ntv_name, type_ntv, ntv.to_obj(simpleval=True, encode_format=encode_format), \n",
    "                None, None)\n",
    "\n",
    "def from_ntv_iindex(ntv_value):\n",
    "    name, typ, codec, parent, keys = decode_ntv(ntv_value, encode_format='json')\n",
    "    if parent or (keys and len(keys) == 1):\n",
    "        return None\n",
    "    return Iindex(codec=codec, name=name, keys=keys, typevalue=None, reindex=True)\n",
    "    \n",
    "for field in fields:\n",
    "    #print(decode_ntv(field, 'json'))\n",
    "    print(from_ntv_iindex(field))\n",
    "\n",
    "#print(ntv.ntv_name, codec_ntv.ntv_type, codec_ntv.to_obj(simpleval=True), parent_ntv, keys_ntv)    \n"
   ]
  },
  {
   "cell_type": "code",
   "execution_count": 18,
   "id": "d605482e",
   "metadata": {},
   "outputs": [
    {
     "name": "stdout",
     "output_type": "stream",
     "text": [
      "1 2 4 [0, 1, 0, 1]\n",
      "2 2 4 [0, 0, 1, 1]\n",
      "    [\"dates\", [\"1964-01-01T00:00:00+00:00\", \"1985-02-05T00:00:00+00:00\", \"2022-01-21T00:00:00+00:00\", \"2022-01-22T00:00:00+00:00\"]]\n",
      "    [\"complete_test\", [\"a\", \"a\", \"b\", \"a\"]]\n",
      "    [\"value\", [10, 20, 30, 40]]\n",
      "    [\"value32\", [10, 20, 30, 40]]\n",
      "    [\"coord\", [[1, 2], [3, 4], [5, 6], [7, 8]]]\n",
      "    [\"names\", [\"john\", \"eric\", \"judith\", \"max\"]]\n",
      "    [\"index\", [1, 2, 3, 4]]\n",
      "\n",
      "    [\"implicit_test\", [\"a\", \"b\", \"a\", \"b\"]]\n",
      "    [\"implicit_test2\", [\"a\", \"a\", \"b\", \"b\"]]\n",
      "\n"
     ]
    }
   ],
   "source": [
    "tab_data   = {'dates::datetime': ['1964-01-01', '1985-02-05', '2022-01-21', '2022-01-22'], \n",
    "              'value':           [10, 20, 30, 40],\n",
    "              'value32::int32':  [10, 20, 30, 40],\n",
    "              'coord::point':    [[1,2], [3,4], [5,6], [7,8]],\n",
    "              'names::string':   ['john', 'eric', 'judith', 'max'],\n",
    "              'index':           [1, 2, 3, 4],\n",
    "              'complete_test':   [['a', 'b'], [0, 0, 1, 0]],\n",
    "              'implicit_test':   [['a', 'b'], [1]],\n",
    "              'implicit_test2':  [['a', 'b'], [2]]}\n",
    "\n",
    "from observation import Ilist\n",
    "def from_ntv_ilist(ntv_value, reindex=False):\n",
    "    ntv = Ntv.obj(ntv_value)\n",
    "    leng = max([len(ntvi) for ntvi in ntv.ntv_value])\n",
    "\n",
    "    # decode: name, type, codec, parent, keys\n",
    "    lidx = [list(decode_ntv(ntvf)) for ntvf in ntv]\n",
    "    for ind in range(len(lidx)):\n",
    "        if lidx[ind][0] is None:\n",
    "            lidx[ind][0] = 'i'+str(ind)\n",
    "        _init_keys(ind, lidx, leng)\n",
    "    lindex = [Iindex(idx[2], idx[0], idx[4], None, # idx[1],\n",
    "                 reindex=reindex) for idx in lidx]\n",
    "    return Ilist(lindex, reindex=False)\n",
    "\n",
    "\n",
    "@staticmethod\n",
    "def _init_keys(ind, lidx, leng):\n",
    "    ''' initialization of keys data'''\n",
    "    # name: 0, type: 1, codec: 2, parent: 3, keys: 4\n",
    "    if lidx[ind][4] is None and lidx[ind][3] is None:  #full\n",
    "        lidx[ind][4] = list(range(leng))\n",
    "        return\n",
    "    if lidx[ind][4] and len(lidx[ind][4]) > 1 and lidx[ind][3] is None:  #complete\n",
    "        return\n",
    "    if len(lidx[ind][2]) == 1: #unique\n",
    "        lidx[ind][4] = [0] * leng\n",
    "        return\n",
    "    keys = lidx[ind][4]\n",
    "    coef = keys[0]\n",
    "    if lidx[ind][4] and len(lidx[ind][4]) == 1:  #primary\n",
    "        lidx[ind][4] = [ (ikey % (coef * len(lidx[ind][2]))) // coef for ikey in range(leng)]\n",
    "        print(coef, len(lidx[ind][2]), leng, lidx[ind][4])\n",
    "        return  \n",
    "    par_coe = lidx[ind][3]\n",
    "    if par_coe is None:\n",
    "        raise IlistError('keys not referenced')\n",
    "          \n",
    "    if not lidx[par_coe][4] or len(lidx[par_coe][4]) != leng:\n",
    "        _init_keys(par_coe, lidx, leng)\n",
    "    if not lidx[ind][4] and len(lidx[ind][2]) == len(lidx[par_coe][2]):    # implicit\n",
    "        lidx[ind][4] = lidx[par_coe][4]\n",
    "        return\n",
    "    # derived keys\n",
    "    lidx[ind][4] = Iindex.keysfromderkeys(lidx[par_coe][4], lidx[ind][4])\n",
    "    return\n",
    "    \n",
    "print(from_ntv_ilist(tab_data))"
   ]
  },
  {
   "cell_type": "code",
   "execution_count": null,
   "id": "8381a355",
   "metadata": {},
   "outputs": [],
   "source": [
    "\n",
    "tab_data   = {'dates::datetime': ['1964-01-01', '1985-02-05', '2022-01-21'], \n",
    "              'value':           [10, 20, 30],\n",
    "              'value32::int32':  [10, 20, 30],\n",
    "              'coord::point':    [[1,2], [3,4], [5,6]],\n",
    "              'names::string':   ['john', 'eric', 'judith'],\n",
    "              'index':           [1, 2, 3]}\n",
    "\n",
    "field = Ntv.obj({':field': field_data})\n",
    "fiel2 = Ntv.obj({':field': field_dat2})\n",
    "tab   = Ntv.obj({':tab'   : tab_data})\n",
    "\n",
    "# the DataFrame Connector is associated with NtvType 'tab' in dicobj \n",
    "sr = fiel2.to_obj(encode_format='obj', dicobj={'field': 'SeriesConnec'})\n",
    "df = tab.to_obj  (encode_format='obj', dicobj={'tab': 'DataFrameConnec'})\n",
    "\n",
    "# pandas dtype conform to Ntv type\n",
    "print(sr, '\\n')\n",
    "print(df.dtypes)\n",
    "df"
   ]
  },
  {
   "cell_type": "code",
   "execution_count": null,
   "id": "0dfe086a",
   "metadata": {},
   "outputs": [],
   "source": [
    "import json\n",
    "type_to_dtype = {'date': 'datetime64[ns]', 'datetime': 'datetime64[ns]', 'string': 'string', 'int32': 'int32', 'int64': 'int64' }\n",
    "dtype_to_type = {'datetime64[ns]': 'datetime', 'string': 'string', 'int32': 'int32', 'int64': 'json'}\n",
    "#print(dtype_to_type)\n",
    "\n",
    "def to_ntv_sr(sr):\n",
    "    ntv_type = None\n",
    "    dtype = sr.dtype.name\n",
    "    if dtype in dtype_to_type:\n",
    "        if dtype_to_type[dtype] != 'json':\n",
    "            ntv_type = dtype_to_type[dtype]\n",
    "        ntv_value = json.loads(sr.to_json(orient='records', date_format='iso', default_handler=str))\n",
    "    elif sr.dtype.name == 'object':\n",
    "        ntv_value = sr.to_list()\n",
    "    ntv_name = sr.name\n",
    "    return NtvSingle(NtvList(ntv_value, ntv_name, ntv_type).to_obj(), None, 'field')\n",
    "    \n",
    "def to_ntv_df(df):\n",
    "    df2 = df.reset_index()\n",
    "    return NtvSingle(NtvSet([to_ntv_sr(df2[colon]).ntv_value for colon in df2.columns]).to_obj(), None, 'tab')\n",
    "    #print([df[colon].to_list() for colon in df.columns])"
   ]
  },
  {
   "cell_type": "code",
   "execution_count": null,
   "id": "37d03825",
   "metadata": {},
   "outputs": [],
   "source": [
    "print(to_ntv_sr(df.value).to_obj(), '\\n')\n",
    "print(to_ntv_df(df))"
   ]
  },
  {
   "cell_type": "code",
   "execution_count": null,
   "id": "56cdd340",
   "metadata": {},
   "outputs": [],
   "source": [
    "sr = from_ntv_sr(tab[0])\n",
    "sr2 = from_ntv_sr(tab[3])\n",
    "df = from_ntv_df(tab)\n",
    "print(sr.name, sr.dtype, type(sr.dtype), sr2.name, sr2.dtype)\n",
    "print(df.dtypes)\n",
    "print(to_ntv_sr(df['dates']))\n",
    "print(to_ntv_df(df))"
   ]
  },
  {
   "cell_type": "code",
   "execution_count": null,
   "id": "3bd44dad",
   "metadata": {},
   "outputs": [],
   "source": [
    "lis = [df[]]\n",
    "print(df)"
   ]
  },
  {
   "cell_type": "code",
   "execution_count": null,
   "id": "7c5a18a4",
   "metadata": {},
   "outputs": [],
   "source": [
    "print(Series(['john', 'eric', 'judith'], dtype='string'))\n",
    "print(tab[3])\n",
    "print(tab[3].to_obj(encode_format='obj', simpleval=True))"
   ]
  }
 ],
 "metadata": {
  "kernelspec": {
   "display_name": "Python 3 (ipykernel)",
   "language": "python",
   "name": "python3"
  },
  "language_info": {
   "codemirror_mode": {
    "name": "ipython",
    "version": 3
   },
   "file_extension": ".py",
   "mimetype": "text/x-python",
   "name": "python",
   "nbconvert_exporter": "python",
   "pygments_lexer": "ipython3",
   "version": "3.10.9"
  }
 },
 "nbformat": 4,
 "nbformat_minor": 5
}
