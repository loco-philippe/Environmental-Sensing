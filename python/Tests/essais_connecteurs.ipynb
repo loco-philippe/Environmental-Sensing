{
 "cells": [
  {
   "cell_type": "markdown",
   "id": "34ae1e4c",
   "metadata": {},
   "source": [
    "# tests tab-NTV"
   ]
  },
  {
   "cell_type": "code",
   "execution_count": 1,
   "id": "a47625d3",
   "metadata": {
    "scrolled": true
   },
   "outputs": [
    {
     "data": {
      "text/plain": [
       "['C:\\\\Users\\\\phili\\\\github\\\\Environmental-Sensing\\\\python\\\\Tests',\n",
       " 'C:\\\\Users\\\\phili\\\\github\\\\NTV\\\\json_ntv',\n",
       " 'C:\\\\Users\\\\phili\\\\github\\\\Environmental-Sensing\\\\python\\\\observation',\n",
       " 'C:\\\\Users\\\\phili\\\\github\\\\NTV',\n",
       " 'C:\\\\Users\\\\phili\\\\github\\\\Environmental-Sensing\\\\python',\n",
       " 'C:\\\\Users\\\\phili\\\\github\\\\Environmental-Sensing\\\\python\\\\Tests',\n",
       " 'C:\\\\Users\\\\phili\\\\anaconda3\\\\envs\\\\observ_v10_20230309\\\\python310.zip',\n",
       " 'C:\\\\Users\\\\phili\\\\anaconda3\\\\envs\\\\observ_v10_20230309\\\\DLLs',\n",
       " 'C:\\\\Users\\\\phili\\\\anaconda3\\\\envs\\\\observ_v10_20230309\\\\lib',\n",
       " 'C:\\\\Users\\\\phili\\\\anaconda3\\\\envs\\\\observ_v10_20230309',\n",
       " '',\n",
       " 'C:\\\\Users\\\\phili\\\\anaconda3\\\\envs\\\\observ_v10_20230309\\\\lib\\\\site-packages',\n",
       " 'C:\\\\Users\\\\phili\\\\anaconda3\\\\envs\\\\observ_v10_20230309\\\\lib\\\\site-packages\\\\win32',\n",
       " 'C:\\\\Users\\\\phili\\\\anaconda3\\\\envs\\\\observ_v10_20230309\\\\lib\\\\site-packages\\\\win32\\\\lib',\n",
       " 'C:\\\\Users\\\\phili\\\\anaconda3\\\\envs\\\\observ_v10_20230309\\\\lib\\\\site-packages\\\\Pythonwin',\n",
       " 'C:\\\\Users\\\\phili\\\\anaconda3\\\\envs\\\\observ_v10_20230309\\\\lib\\\\site-packages\\\\IPython\\\\extensions',\n",
       " 'C:\\\\Users\\\\phili\\\\.ipython']"
      ]
     },
     "execution_count": 1,
     "metadata": {},
     "output_type": "execute_result"
    }
   ],
   "source": [
    "import sys\n",
    "sys.path"
   ]
  },
  {
   "cell_type": "code",
   "execution_count": 2,
   "id": "3ae2830f",
   "metadata": {
    "scrolled": true
   },
   "outputs": [],
   "source": [
    "from json_ntv import NtvSingle, NtvList, NtvSet, Ntv, NtvConnector\n",
    "from json_ntv import NtvType, Namespace\n",
    "from datetime import datetime, date, time\n"
   ]
  },
  {
   "cell_type": "code",
   "execution_count": 3,
   "id": "4f91dd60",
   "metadata": {},
   "outputs": [
    {
     "name": "stdout",
     "output_type": "stream",
     "text": [
      "2\n",
      "0\n",
      "1\n",
      "4\n",
      "0\n"
     ]
    }
   ],
   "source": [
    "def periodic_coef(lis):\n",
    "    if len(lis) < 2:\n",
    "        return 0\n",
    "    coef = 0\n",
    "    period = max(lis) + 1\n",
    "    for i in range(1,len(lis)):\n",
    "        coef = i\n",
    "        if lis[i-1] != lis[i]:\n",
    "            break\n",
    "    periodic_lis = [ (ikey % (coef * period)) // coef for ikey in range(len(lis))]\n",
    "    if lis == periodic_lis:\n",
    "        return coef\n",
    "    return 0\n",
    "\n",
    "print(periodic_coef([0,0,1,1,2,2,3,3]))\n",
    "print(periodic_coef([0,0,1,1,2,2,4,4]))\n",
    "print(periodic_coef([0,1,2,3,4,5,6,7]))\n",
    "print(periodic_coef([0,0,0,0,1,1,1,1]))\n",
    "print(periodic_coef([1,1,1,1, 0,0,0,0]))"
   ]
  },
  {
   "cell_type": "code",
   "execution_count": 4,
   "id": "1970d2ef",
   "metadata": {},
   "outputs": [
    {
     "name": "stdout",
     "output_type": "stream",
     "text": [
      "{\"unique\": 1}\n",
      "{\"unique\": 1}\n",
      "{\"unique\": 1} \n",
      "\n",
      "{\"list\": [1, 2, 3]}\n",
      "{\"list\": [1, 2, 3]}\n",
      "{\"list\": [1, 2, 3]} \n",
      "\n",
      "{\"list_date::date\": [\"2000-01-01\", \"2000-01-01\", \"2000-02-01\"]}\n",
      "{\"list_date\": [{\"::date\": [\"2000-01-01\", \"2000-02-01\"]}, [0, 0, 1]]}\n",
      "{\"list_date\": [{\"::date\": [\"2000-01-01\", \"2000-02-01\"]}]} \n",
      "\n",
      "{\"periodic\": [1, 1, 2, 2, 4, 4, 0, 0]}\n",
      "{\"periodic\": [1, 1, 2, 2, 4, 4, 0, 0]}\n",
      "{\"periodic\": [1, 1, 2, 2, 4, 4, 0, 0]} \n",
      "\n",
      "{\"periodic\": [1, 1, 2, 2, 4, 4, 0, 0]}\n"
     ]
    }
   ],
   "source": [
    "from observation import Iindex\n",
    "def decode_ntv_field(field, encode_format='json'):\n",
    "    '''return tuple : name, type, codec, parent, keys'''\n",
    "    ntv = Ntv.obj(field)\n",
    "    type_ntv = ntv.ntv_type.long_name if ntv.ntv_type else None\n",
    "    if isinstance(ntv, NtvSingle):\n",
    "        return (ntv.ntv_name, type_ntv, [ntv.to_obj(simpleval=True, encode_format=encode_format)], \n",
    "                None, None)\n",
    "    if len(ntv) == 0 or len(ntv) > 3:\n",
    "        return (ntv.ntv_name, type_ntv, ntv.to_obj(simpleval=True, encode_format=encode_format), \n",
    "                None, None)\n",
    "    codec_ntv = ntv[0]\n",
    "    type_codec_ntv = codec_ntv.ntv_type.long_name if codec_ntv.ntv_type else None\n",
    "    if len(ntv) == 3 and isinstance(ntv[1], NtvSingle) and isinstance(ntv[1].ntv_value, (int, str)) and \\\n",
    "      not isinstance(ntv[2], NtvSingle) and isinstance(ntv[2][0].ntv_value, int):\n",
    "        return (ntv.ntv_name, type_codec_ntv, codec_ntv.to_obj(simpleval=True, encode_format=encode_format), \n",
    "                ntv[1].ntv_value, ntv[2].to_obj())\n",
    "    if len(ntv) == 2 and isinstance(ntv[1], NtvSingle) and isinstance(ntv[1].ntv_value, (int, str)):\n",
    "        return (ntv.ntv_name, type_codec_ntv, codec_ntv.to_obj(simpleval=True, encode_format=encode_format), \n",
    "                ntv[1].ntv_value, None) \n",
    "    if len(ntv) == 2 and not isinstance(ntv[1], NtvSingle) and isinstance(ntv[1][0].ntv_value, int):\n",
    "        return (ntv.ntv_name, type_codec_ntv, codec_ntv.to_obj(simpleval=True, encode_format=encode_format), \n",
    "                None, ntv[1].to_obj())\n",
    "    return (ntv.ntv_name, type_ntv, ntv.to_obj(simpleval=True, encode_format=encode_format), \n",
    "                None, None)\n",
    "\n",
    "def from_ntv_iindex(ntv_value):\n",
    "    name, typ, codec, parent, keys = decode_ntv_field(ntv_value, encode_format='json')\n",
    "    if parent or (keys and len(keys) == 1):\n",
    "        return None\n",
    "    return Iindex(codec=codec, name=name, keys=keys, typevalue=None, reindex=True)\n",
    "\n",
    "def to_ntv_iindex(self, modecodec='optimize', def_type=None, keys=None, parent=None):\n",
    "    leng = len(self)\n",
    "    if len(self.codec) == 1:\n",
    "        return NtvSingle(self.codec[0], self.name)\n",
    "    if len(self.codec) == leng or modecodec == 'full':\n",
    "        return NtvList(self.values, self.name)\n",
    "    if modecodec == 'default':\n",
    "        return NtvList([NtvList(self.codec, ntv_type=def_type), NtvList(self.keys, ntv_type='json')], self.name, ntv_type='json')\n",
    "    if modecodec == 'optimize':\n",
    "        ntv_value = [NtvList(self.codec, ntv_type=def_type)]\n",
    "        coef = periodic_coef(self.keys)\n",
    "        if parent:\n",
    "            ntv_value.append(NtvSingle(parent, ntv_type='json'))\n",
    "        if keys:\n",
    "            ntv_value.append(NtvList(keys, ntv_type='json'))    \n",
    "        return NtvList(ntv_value, self.name, ntv_type='json')                \n",
    "    \n",
    "idx_list = [ Iindex([1], 'unique'),\n",
    "             Iindex([1,2,3], 'list'),\n",
    "             Iindex([date(2000, 1, 1), date(2000, 2, 1)], 'list_date', [0,0,1]),\n",
    "             Iindex([1,1,2,2,4,4,0,0], 'periodic')]\n",
    "\n",
    "for idx in idx_list:\n",
    "    print(to_ntv_iindex(idx, modecodec='full'))\n",
    "    print(to_ntv_iindex(idx, modecodec='default'))\n",
    "    print(to_ntv_iindex(idx, modecodec='optimize'), '\\n')\n",
    "\n",
    "print(to_ntv_iindex(idx, parent=1, keys=[0,1,0,1,1]))\n",
    "\n",
    "    "
   ]
  },
  {
   "cell_type": "code",
   "execution_count": 5,
   "id": "487c09a0",
   "metadata": {},
   "outputs": [
    {
     "name": "stdout",
     "output_type": "stream",
     "text": [
      "{\"full_dates::datetime\": [\"1964-01-01T00:00:00+00:00\", \"1985-02-05T00:00:00+00:00\", \"2022-01-21T00:00:00+00:00\"]}\n",
      "{\"full_dates::datetime\": [\"1964-01-01T00:00:00+00:00\", \"1985-02-05T00:00:00+00:00\", \"2022-01-21T00:00:00+00:00\"]}\n",
      "{\"full_dates::datetime\": [\"1964-01-01T00:00:00+00:00\", \"1985-02-05T00:00:00+00:00\", \"2022-01-21T00:00:00+00:00\"]} \n",
      "\n",
      "{\"$default::datetime\": [\"1964-01-01T00:00:00+00:00\", \"1985-02-05T00:00:00+00:00\", \"2022-01-21T00:00:00+00:00\"]}\n",
      "{\"$default::datetime\": [\"1964-01-01T00:00:00+00:00\", \"1985-02-05T00:00:00+00:00\", \"2022-01-21T00:00:00+00:00\"]}\n",
      "{\"$default::datetime\": [\"1964-01-01T00:00:00+00:00\", \"1985-02-05T00:00:00+00:00\", \"2022-01-21T00:00:00+00:00\"]} \n",
      "\n",
      "{\"full_coord\": [[1, 2], [3, 4], [5, 6]]}\n",
      "{\"full_coord\": [[1, 2], [3, 4], [5, 6]]}\n",
      "{\"full_coord\": [[1, 2], [3, 4], [5, 6]]} \n",
      "\n",
      "{\"full_simple\": [1, 2, 3, 4]}\n",
      "{\"full_simple\": [1, 2, 3, 4]}\n",
      "{\"full_simple\": [1, 2, 3, 4]} \n",
      "\n",
      "{\"complete_test\": [\"a\", \"a\", \"b\", \"a\"]}\n",
      "{\"complete_test\": [[\"a\", \"b\"], [0, 0, 1, 0]]}\n",
      "{\"complete_test\": [[\"a\", \"b\"]]} \n",
      "\n",
      "{\"complete_test\": [\"a\", \"a\", \"b\", \"a\"]}\n",
      "{\"complete_test\": [[\"a\", \"b\"], [0, 0, 1, 0]]}\n",
      "{\"complete_test\": [[\"a\", \"b\"]]} \n",
      "\n",
      "{\"complete_date::datetime\": [\"2000-01-01T00:00:00+00:00\", \"2000-01-01T00:00:00+00:00\", \"2000-02-01T00:00:00+00:00\"]}\n",
      "{\"complete_date\": [{\"::datetime\": [\"2000-01-01T00:00:00+00:00\", \"2000-02-01T00:00:00+00:00\"]}, [0, 0, 1]]}\n",
      "{\"complete_date\": [{\"::datetime\": [\"2000-01-01T00:00:00+00:00\", \"2000-02-01T00:00:00+00:00\"]}]} \n",
      "\n",
      "{\"unic_test\": \"valunic\"}\n",
      "{\"unic_test\": \"valunic\"}\n",
      "{\"unic_test\": \"valunic\"} \n",
      "\n",
      "{\"$default\": \"valunic\"}\n",
      "{\"$default\": \"valunic\"}\n",
      "{\"$default\": \"valunic\"} \n",
      "\n"
     ]
    }
   ],
   "source": [
    "fields = [{'full_dates::datetime': ['1964-01-01', '1985-02-05', '2022-01-21']},\n",
    "          ['1964-01-01', '1985-02-05', '2022-01-21'],\n",
    "          {'full_coord::point':    [[1,2], [3,4], [5,6]]},\n",
    "          {'full_simple': [1,2,3,4]},\n",
    "          {'complete_test': [['a', 'b'], [0, 0, 1, 0]]},\n",
    "          {'complete_test': [['a', 'b'], [0, 0, 1, 0]]},\n",
    "          {\"complete_date\": [{\"::date\": [\"2000-01-01\", \"2000-02-01\"]}, [0, 0, 1]]},\n",
    "          {'implicit_test': [['a', 'b'], 'parent']},\n",
    "          {'relative_test': [{'::string': ['a', 'b']}, 1, [0, 1, 1]]},\n",
    "          [{'::string': ['a', 'b']}, 1, [0, 1, 1]],\n",
    "          {'primary_test': [['a', 'b'], [2]]},\n",
    "          [['a', 'b'], [2]],\n",
    "          {'unic_test': 'valunic' },\n",
    "          'valunic',\n",
    "          {'primary': [['oui', 'fin 2022'], [1]]},\n",
    "          [['oui', 'fin 2022'], [1]]]\n",
    "\n",
    "field_old = [{'test': 'datvalue'}, ['a', 'b'], [1, [0, 0, 1, 0]]]\n",
    "\n",
    "for field in fields:\n",
    "    #print(decode_ntv_field(field, 'json'))\n",
    "    idx = from_ntv_iindex(field)\n",
    "    #print(idx, type(idx.values[0]))\n",
    "    if idx:\n",
    "        print(to_ntv_iindex(idx, modecodec='full', def_type='json'))\n",
    "        print(to_ntv_iindex(idx, modecodec='default'))\n",
    "        print(to_ntv_iindex(idx, modecodec='optimize'), '\\n')\n",
    "#print(ntv.ntv_name, codec_ntv.ntv_type, codec_ntv.to_obj(simpleval=True), parent_ntv, keys_ntv)    "
   ]
  },
  {
   "cell_type": "code",
   "execution_count": 6,
   "id": "d605482e",
   "metadata": {},
   "outputs": [],
   "source": [
    "from observation import Ilist\n",
    "\n",
    "def from_ntv_ilist(ntv_value, reindex=False):\n",
    "    ntv = Ntv.obj(ntv_value)\n",
    "    leng = max([len(ntvi) for ntvi in ntv.ntv_value])\n",
    "    # decode: name, type, codec, parent, keys\n",
    "    lidx = [list(decode_ntv_field(ntvf)) for ntvf in ntv]\n",
    "    for ind in range(len(lidx)):\n",
    "        if lidx[ind][0] == '':\n",
    "            lidx[ind][0] = 'i'+str(ind)\n",
    "        _init_keys(ind, lidx, leng)\n",
    "    lindex = [Iindex(idx[2], idx[0], idx[4], None, # idx[1] pour le type,\n",
    "                 reindex=reindex) for idx in lidx]\n",
    "    return Ilist(lindex, reindex=False)\n",
    "\n",
    "\n",
    "@staticmethod\n",
    "def _init_keys(ind, lidx, leng):\n",
    "    ''' initialization of explicit keys data in lidx object'''\n",
    "    # name: 0, type: 1, codec: 2, parent: 3, keys: 4\n",
    "    keys = lidx[ind][4]\n",
    "    if keys is None and lidx[ind][3] is None:  # full or unique\n",
    "        if len(lidx[ind][2]) == 1: # unique\n",
    "            lidx[ind][4] = [0] * leng\n",
    "        else:    # full\n",
    "            lidx[ind][4] = list(range(leng))\n",
    "        return\n",
    "    if keys and len(keys) > 1 and lidx[ind][3] is None:  #complete\n",
    "        return\n",
    "    if keys and len(keys) == 1:  #primary\n",
    "        coef = keys[0]\n",
    "        lidx[ind][4] = [ (ikey % (coef * len(lidx[ind][2]))) // coef for ikey in range(leng)]\n",
    "        return  \n",
    "    parent = lidx[ind][3]\n",
    "    if parent is None:\n",
    "        raise IlistError('keys not referenced')          \n",
    "    if not lidx[parent][4] or len(lidx[parent][4]) != leng:\n",
    "        _init_keys(parent, lidx, leng)\n",
    "    if not keys and len(lidx[ind][2]) == len(lidx[parent][2]):    # implicit\n",
    "        lidx[ind][4] = lidx[parent][4]\n",
    "        return\n",
    "    lidx[ind][4] = Iindex.keysfromderkeys(lidx[parent][4], keys)  # relative\n",
    "    return\n"
   ]
  },
  {
   "cell_type": "code",
   "execution_count": 7,
   "id": "0e4974d3",
   "metadata": {},
   "outputs": [],
   "source": [
    "def to_ntv_ilist(self, modecodec='optimize', def_type='json', option_name=False):\n",
    "    if modecodec != 'optimize':\n",
    "        lis = [to_ntv_iindex(index, modecodec=modecodec) for index in self.lindex]\n",
    "    else:\n",
    "        lis = []\n",
    "        indexinfos = self.indexinfos()\n",
    "        indexname = [option_name or name != 'i' + str(i)\n",
    "                     for i, name in enumerate(self.lname)]\n",
    "        for idx, iname, inf in zip(self.lindex, indexname, indexinfos):\n",
    "            coef = periodic_coef(idx.keys)\n",
    "            if inf['cat'] == 'unique':\n",
    "                lis.append(to_ntv_iindex(idx))\n",
    "            elif coef:\n",
    "                lis.append(to_ntv_iindex(idx, keys=[coef]))\n",
    "            elif inf['cat'] == 'coupled':\n",
    "                idx_coup = idx.setkeys(self.lindex[inf['parent']].keys, inplace=False)\n",
    "                lis.append(to_ntv_iindex(idx_coup, parent=inf['parent']))\n",
    "            elif inf['parent'] == -1:  # cat='variable' or 'secondary'\n",
    "                if idx.keys == list(range(len(self))):\n",
    "                    lis.append(to_ntv_iindex(idx, modecodec='full'))\n",
    "                else:\n",
    "                    lis.append(to_ntv_iindex(idx, modecodec='default'))                \n",
    "            else:  # derived\n",
    "                if len(self.lindex[inf['parent']].codec) == len(self):\n",
    "                    lis.append(to_ntv_iindex(idx, modecodec='default'))                \n",
    "                elif idx.iskeysfromderkeys(self.lindex[inf['parent']]):\n",
    "                    lis.append(to_ntv_iindex(idx, parent=inf['parent']))\n",
    "                else: # periodic derived\n",
    "                    keys = idx.derkeys(self.lindex[inf['parent']])\n",
    "                    lis.append(to_ntv_iindex(idx, keys=keys, parent=inf['parent']))            \n",
    "    return NtvList(lis, self.name, ntv_type=def_type)"
   ]
  },
  {
   "cell_type": "code",
   "execution_count": 8,
   "id": "7731b508",
   "metadata": {},
   "outputs": [
    {
     "name": "stdout",
     "output_type": "stream",
     "text": [
      "    [\"value\", [10, 20, 30, 40]]\n",
      "    [\"complete_test\", [\"a\", \"a\", \"b\", \"a\"]]\n",
      "    [\"dates\", [\"1964-01-01T00:00:00+00:00\", \"1985-02-05T00:00:00+00:00\", \"2022-01-21T00:00:00+00:00\", \"2022-01-22T00:00:00+00:00\"]]\n",
      "    [\"value32\", [10, 20, 30, 40]]\n",
      "    [\"coord\", [[1, 2], [3, 4], [5, 6], [7, 8]]]\n",
      "    [\"names\", [\"john\", \"eric\", \"judith\", \"max\"]]\n",
      "    [\"index\", [1, 2, 3, 4]]\n",
      "    [\"complete_date\", [\"2000-01-01T00:00:00+00:00\", \"2000-01-01T00:00:00+00:00\", \"2000-02-01T00:00:00+00:00\", \"2000-01-01T00:00:00+00:00\"]]\n",
      "\n",
      "    [\"implicit_test\", [\"a\", \"b\", \"a\", \"b\"]]\n",
      "    [\"implicit_test2\", [\"a\", \"a\", \"b\", \"b\"]]\n",
      "    [\"unic_test\", [\"valunic\", \"valunic\", \"valunic\", \"valunic\"]]\n",
      "\n",
      "{\"Ilist\": [{\"value\": [10, 20, 30, 40]}, {\"dates::datetime\": [\"1964-01-01T00:00:00+00:00\", \"1985-02-05T00:00:00+00:00\", \"2022-01-21T00:00:00+00:00\", \"2022-01-22T00:00:00+00:00\"]}, {\"value32\": [10, 20, 30, 40]}, {\"coord\": [[1, 2], [3, 4], [5, 6], [7, 8]]}, {\"names\": [\"john\", \"eric\", \"judith\", \"max\"]}, {\"index\": [1, 2, 3, 4]}, {\"complete_test\": [\"a\", \"a\", \"b\", \"a\"]}, {\"complete_date::datetime\": [\"2000-01-01T00:00:00+00:00\", \"2000-01-01T00:00:00+00:00\", \"2000-02-01T00:00:00+00:00\", \"2000-01-01T00:00:00+00:00\"]}, {\"implicit_test\": [\"a\", \"b\", \"a\", \"b\"]}, {\"implicit_test2\": [\"a\", \"a\", \"b\", \"b\"]}, {\"unic_test\": \"valunic\"}]}\n",
      "True\n",
      "{\"Ilist\": [{\"value\": [10, 20, 30, 40]}, {\"dates::datetime\": [\"1964-01-01T00:00:00+00:00\", \"1985-02-05T00:00:00+00:00\", \"2022-01-21T00:00:00+00:00\", \"2022-01-22T00:00:00+00:00\"]}, {\"value32\": [10, 20, 30, 40]}, {\"coord\": [[1, 2], [3, 4], [5, 6], [7, 8]]}, {\"names\": [\"john\", \"eric\", \"judith\", \"max\"]}, {\"index\": [1, 2, 3, 4]}, {\"complete_test\": [[\"a\", \"b\"], [0, 0, 1, 0]]}, {\"complete_date\": [{\"::datetime\": [\"2000-01-01T00:00:00+00:00\", \"2000-02-01T00:00:00+00:00\"]}, [0, 0, 1, 0]]}, {\"implicit_test\": [[\"a\", \"b\"], [0, 1, 0, 1]]}, {\"implicit_test2\": [[\"a\", \"b\"], [0, 0, 1, 1]]}, {\"unic_test\": \"valunic\"}]}\n",
      "True\n",
      "{\"Ilist\": [{\"value\": [10, 20, 30, 40]}, {\"dates::datetime\": [\"1964-01-01T00:00:00+00:00\", \"1985-02-05T00:00:00+00:00\", \"2022-01-21T00:00:00+00:00\", \"2022-01-22T00:00:00+00:00\"]}, {\"value32\": [10, 20, 30, 40]}, {\"coord\": [[1, 2], [3, 4], [5, 6], [7, 8]]}, {\"names\": [\"john\", \"eric\", \"judith\", \"max\"]}, {\"index\": [1, 2, 3, 4]}, {\"complete_test\": [[\"a\", \"b\"], [0, 0, 1, 0]]}, {\"complete_date\": [{\"::datetime\": [\"2000-01-01T00:00:00+00:00\", \"2000-02-01T00:00:00+00:00\"]}, 6]}, {\"implicit_test\": [[\"a\", \"b\"], [1]]}, {\"implicit_test2\": [[\"a\", \"b\"], [2]]}, {\"unic_test\": \"valunic\"}]}\n",
      "True\n"
     ]
    }
   ],
   "source": [
    "tab_data   = {'value':           [10, 20, 30, 40],\n",
    "              'dates::datetime': ['1964-01-01', '1985-02-05', '2022-01-21', '2022-01-22'],\n",
    "              'value32::int32':  [10, 20, 30, 40],\n",
    "              'coord::point':    [[1,2], [3,4], [5,6], [7,8]],\n",
    "              'names::string':   ['john', 'eric', 'judith', 'max'],\n",
    "              'index':           [1, 2, 3, 4],\n",
    "              'complete_test':   [['a', 'b'], [0, 0, 1, 0]],\n",
    "              'complete_date':   [{\"::date\": [\"2000-01-01\", \"2000-02-01\"]}, [0, 0, 1, 0]],\n",
    "              'implicit_test':   [['a', 'b'], [1]],\n",
    "              'implicit_test2':  [['a', 'b'], [2]],\n",
    "              'unic_test':       'valunic' }\n",
    "il = from_ntv_ilist(tab_data)\n",
    "print(il)\n",
    "for mode in ['full', 'default', 'optimize']:\n",
    "    print(to_ntv_ilist(il, mode))\n",
    "    print(il == from_ntv_ilist(to_ntv_ilist(il, mode)))"
   ]
  },
  {
   "cell_type": "code",
   "execution_count": 11,
   "id": "84b3f41e",
   "metadata": {},
   "outputs": [
    {
     "name": "stdout",
     "output_type": "stream",
     "text": [
      "    [\"i0\", [\"1964-01-01T00:00:00+00:00\", \"1985-02-05T00:00:00+00:00\", \"2022-01-21T00:00:00+00:00\", \"2022-01-22T00:00:00+00:00\"]]\n",
      "    [\"i6\", [\"a\", \"a\", \"b\", \"a\"]]\n",
      "    [\"i1\", [10, 20, 30, 40]]\n",
      "    [\"i2\", [10, 20, 30, 40]]\n",
      "    [\"i3\", [[1, 2], [3, 4], [5, 6], [7, 8]]]\n",
      "    [\"i4\", [\"john\", \"eric\", \"judith\", \"max\"]]\n",
      "    [\"i5\", [1, 2, 3, 4]]\n",
      "\n",
      "    [\"i7\", [\"a\", \"b\", \"a\", \"b\"]]\n",
      "    [\"i8\", [\"a\", \"a\", \"b\", \"b\"]]\n",
      "    [\"i9\", [\"valunic\", \"valunic\", \"valunic\", \"valunic\"]]\n",
      "\n",
      "{\"Ilist\": [{\"value\": [10, 20, 30, 40]}, {\"dates::datetime\": [\"1964-01-01T00:00:00+00:00\", \"1985-02-05T00:00:00+00:00\", \"2022-01-21T00:00:00+00:00\", \"2022-01-22T00:00:00+00:00\"]}, {\"value32\": [10, 20, 30, 40]}, {\"coord\": [[1, 2], [3, 4], [5, 6], [7, 8]]}, {\"names\": [\"john\", \"eric\", \"judith\", \"max\"]}, {\"index\": [1, 2, 3, 4]}, {\"complete_test\": [\"a\", \"a\", \"b\", \"a\"]}, {\"complete_date::datetime\": [\"2000-01-01T00:00:00+00:00\", \"2000-01-01T00:00:00+00:00\", \"2000-02-01T00:00:00+00:00\", \"2000-01-01T00:00:00+00:00\"]}, {\"implicit_test\": [\"a\", \"b\", \"a\", \"b\"]}, {\"implicit_test2\": [\"a\", \"a\", \"b\", \"b\"]}, {\"unic_test\": \"valunic\"}]}\n",
      "True\n",
      "{\"Ilist\": [{\"value\": [10, 20, 30, 40]}, {\"dates::datetime\": [\"1964-01-01T00:00:00+00:00\", \"1985-02-05T00:00:00+00:00\", \"2022-01-21T00:00:00+00:00\", \"2022-01-22T00:00:00+00:00\"]}, {\"value32\": [10, 20, 30, 40]}, {\"coord\": [[1, 2], [3, 4], [5, 6], [7, 8]]}, {\"names\": [\"john\", \"eric\", \"judith\", \"max\"]}, {\"index\": [1, 2, 3, 4]}, {\"complete_test\": [[\"a\", \"b\"], [0, 0, 1, 0]]}, {\"complete_date\": [{\"::datetime\": [\"2000-01-01T00:00:00+00:00\", \"2000-02-01T00:00:00+00:00\"]}, [0, 0, 1, 0]]}, {\"implicit_test\": [[\"a\", \"b\"], [0, 1, 0, 1]]}, {\"implicit_test2\": [[\"a\", \"b\"], [0, 0, 1, 1]]}, {\"unic_test\": \"valunic\"}]}\n",
      "True\n",
      "{\"Ilist\": [{\"value\": [10, 20, 30, 40]}, {\"dates::datetime\": [\"1964-01-01T00:00:00+00:00\", \"1985-02-05T00:00:00+00:00\", \"2022-01-21T00:00:00+00:00\", \"2022-01-22T00:00:00+00:00\"]}, {\"value32\": [10, 20, 30, 40]}, {\"coord\": [[1, 2], [3, 4], [5, 6], [7, 8]]}, {\"names\": [\"john\", \"eric\", \"judith\", \"max\"]}, {\"index\": [1, 2, 3, 4]}, {\"complete_test\": [[\"a\", \"b\"], [0, 0, 1, 0]]}, {\"complete_date\": [{\"::datetime\": [\"2000-01-01T00:00:00+00:00\", \"2000-02-01T00:00:00+00:00\"]}, 6]}, {\"implicit_test\": [[\"a\", \"b\"], [1]]}, {\"implicit_test2\": [[\"a\", \"b\"], [2]]}, {\"unic_test\": \"valunic\"}]}\n",
      "True\n"
     ]
    }
   ],
   "source": [
    "tab_data   = [['1964-01-01', '1985-02-05', '2022-01-21', '2022-01-22'], \n",
    "              [10, 20, 30, 40],\n",
    "              [10, 20, 30, 40],\n",
    "              [[1,2], [3,4], [5,6], [7,8]],\n",
    "              ['john', 'eric', 'judith', 'max'],\n",
    "              [1, 2, 3, 4],\n",
    "              [['a', 'b'], [0, 0, 1, 0]],\n",
    "              [['a', 'b'], [1]],\n",
    "              [['a', 'b'], [2]],\n",
    "              'valunic' ]\n",
    "\n",
    "print(from_ntv_ilist(tab_data))\n",
    "for mode in ['full', 'default', 'optimize']:\n",
    "    print(to_ntv_ilist(il, mode))\n",
    "    print(il == from_ntv_ilist(to_ntv_ilist(il, mode)))"
   ]
  },
  {
   "cell_type": "code",
   "execution_count": 10,
   "id": "8381a355",
   "metadata": {},
   "outputs": [
    {
     "ename": "NameError",
     "evalue": "name 'field_data' is not defined",
     "output_type": "error",
     "traceback": [
      "\u001b[1;31m---------------------------------------------------------------------------\u001b[0m",
      "\u001b[1;31mNameError\u001b[0m                                 Traceback (most recent call last)",
      "\u001b[1;32m~\\AppData\\Local\\Temp\\ipykernel_10508\\155283212.py\u001b[0m in \u001b[0;36m<module>\u001b[1;34m\u001b[0m\n\u001b[0;32m      6\u001b[0m               'index':           [1, 2, 3]}\n\u001b[0;32m      7\u001b[0m \u001b[1;33m\u001b[0m\u001b[0m\n\u001b[1;32m----> 8\u001b[1;33m \u001b[0mfield\u001b[0m \u001b[1;33m=\u001b[0m \u001b[0mNtv\u001b[0m\u001b[1;33m.\u001b[0m\u001b[0mobj\u001b[0m\u001b[1;33m(\u001b[0m\u001b[1;33m{\u001b[0m\u001b[1;34m':field'\u001b[0m\u001b[1;33m:\u001b[0m \u001b[0mfield_data\u001b[0m\u001b[1;33m}\u001b[0m\u001b[1;33m)\u001b[0m\u001b[1;33m\u001b[0m\u001b[1;33m\u001b[0m\u001b[0m\n\u001b[0m\u001b[0;32m      9\u001b[0m \u001b[0mfiel2\u001b[0m \u001b[1;33m=\u001b[0m \u001b[0mNtv\u001b[0m\u001b[1;33m.\u001b[0m\u001b[0mobj\u001b[0m\u001b[1;33m(\u001b[0m\u001b[1;33m{\u001b[0m\u001b[1;34m':field'\u001b[0m\u001b[1;33m:\u001b[0m \u001b[0mfield_dat2\u001b[0m\u001b[1;33m}\u001b[0m\u001b[1;33m)\u001b[0m\u001b[1;33m\u001b[0m\u001b[1;33m\u001b[0m\u001b[0m\n\u001b[0;32m     10\u001b[0m \u001b[0mtab\u001b[0m   \u001b[1;33m=\u001b[0m \u001b[0mNtv\u001b[0m\u001b[1;33m.\u001b[0m\u001b[0mobj\u001b[0m\u001b[1;33m(\u001b[0m\u001b[1;33m{\u001b[0m\u001b[1;34m':tab'\u001b[0m   \u001b[1;33m:\u001b[0m \u001b[0mtab_data\u001b[0m\u001b[1;33m}\u001b[0m\u001b[1;33m)\u001b[0m\u001b[1;33m\u001b[0m\u001b[1;33m\u001b[0m\u001b[0m\n",
      "\u001b[1;31mNameError\u001b[0m: name 'field_data' is not defined"
     ]
    }
   ],
   "source": [
    "\n",
    "tab_data   = {'dates::datetime': ['1964-01-01', '1985-02-05', '2022-01-21'], \n",
    "              'value':           [10, 20, 30],\n",
    "              'value32::int32':  [10, 20, 30],\n",
    "              'coord::point':    [[1,2], [3,4], [5,6]],\n",
    "              'names::string':   ['john', 'eric', 'judith'],\n",
    "              'index':           [1, 2, 3]}\n",
    "\n",
    "field = Ntv.obj({':field': field_data})\n",
    "fiel2 = Ntv.obj({':field': field_dat2})\n",
    "tab   = Ntv.obj({':tab'   : tab_data})\n",
    "\n",
    "# the DataFrame Connector is associated with NtvType 'tab' in dicobj \n",
    "sr = fiel2.to_obj(encode_format='obj', dicobj={'field': 'SeriesConnec'})\n",
    "df = tab.to_obj  (encode_format='obj', dicobj={'tab': 'DataFrameConnec'})\n",
    "\n",
    "# pandas dtype conform to Ntv type\n",
    "print(sr, '\\n')\n",
    "print(df.dtypes)\n",
    "df"
   ]
  },
  {
   "cell_type": "code",
   "execution_count": null,
   "id": "0dfe086a",
   "metadata": {},
   "outputs": [],
   "source": [
    "import json\n",
    "type_to_dtype = {'date': 'datetime64[ns]', 'datetime': 'datetime64[ns]', 'string': 'string', 'int32': 'int32', 'int64': 'int64' }\n",
    "dtype_to_type = {'datetime64[ns]': 'datetime', 'string': 'string', 'int32': 'int32', 'int64': 'json'}\n",
    "#print(dtype_to_type)\n",
    "\n",
    "def to_ntv_sr(sr):\n",
    "    ntv_type = None\n",
    "    dtype = sr.dtype.name\n",
    "    if dtype in dtype_to_type:\n",
    "        if dtype_to_type[dtype] != 'json':\n",
    "            ntv_type = dtype_to_type[dtype]\n",
    "        ntv_value = json.loads(sr.to_json(orient='records', date_format='iso', default_handler=str))\n",
    "    elif sr.dtype.name == 'object':\n",
    "        ntv_value = sr.to_list()\n",
    "    ntv_name = sr.name\n",
    "    return NtvSingle(NtvList(ntv_value, ntv_name, ntv_type).to_obj(), None, 'field')\n",
    "    \n",
    "def to_ntv_df(df):\n",
    "    df2 = df.reset_index()\n",
    "    return NtvSingle(NtvSet([to_ntv_sr(df2[colon]).ntv_value for colon in df2.columns]).to_obj(), None, 'tab')\n",
    "    #print([df[colon].to_list() for colon in df.columns])"
   ]
  },
  {
   "cell_type": "code",
   "execution_count": null,
   "id": "37d03825",
   "metadata": {},
   "outputs": [],
   "source": [
    "print(to_ntv_sr(df.value).to_obj(), '\\n')\n",
    "print(to_ntv_df(df))"
   ]
  },
  {
   "cell_type": "code",
   "execution_count": null,
   "id": "56cdd340",
   "metadata": {},
   "outputs": [],
   "source": [
    "sr = from_ntv_sr(tab[0])\n",
    "sr2 = from_ntv_sr(tab[3])\n",
    "df = from_ntv_df(tab)\n",
    "print(sr.name, sr.dtype, type(sr.dtype), sr2.name, sr2.dtype)\n",
    "print(df.dtypes)\n",
    "print(to_ntv_sr(df['dates']))\n",
    "print(to_ntv_df(df))"
   ]
  },
  {
   "cell_type": "code",
   "execution_count": null,
   "id": "3bd44dad",
   "metadata": {},
   "outputs": [],
   "source": [
    "lis = [df[]]\n",
    "print(df)"
   ]
  },
  {
   "cell_type": "code",
   "execution_count": null,
   "id": "7c5a18a4",
   "metadata": {},
   "outputs": [],
   "source": [
    "print(Series(['john', 'eric', 'judith'], dtype='string'))\n",
    "print(tab[3])\n",
    "print(tab[3].to_obj(encode_format='obj', simpleval=True))"
   ]
  }
 ],
 "metadata": {
  "kernelspec": {
   "display_name": "Python 3 (ipykernel)",
   "language": "python",
   "name": "python3"
  },
  "language_info": {
   "codemirror_mode": {
    "name": "ipython",
    "version": 3
   },
   "file_extension": ".py",
   "mimetype": "text/x-python",
   "name": "python",
   "nbconvert_exporter": "python",
   "pygments_lexer": "ipython3",
   "version": "3.10.9"
  }
 },
 "nbformat": 4,
 "nbformat_minor": 5
}
