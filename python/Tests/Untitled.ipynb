{
 "cells": [
  {
   "cell_type": "code",
   "execution_count": 1,
   "id": "3f55f48a",
   "metadata": {},
   "outputs": [],
   "source": [
    "from pprint import pprint"
   ]
  },
  {
   "cell_type": "code",
   "execution_count": 2,
   "id": "cebf2856",
   "metadata": {},
   "outputs": [],
   "source": [
    "tree={'root':{'a':{'b':{'c':{}, 'd':{}}, 'e':{}}, 'f':{}}}"
   ]
  },
  {
   "cell_type": "code",
   "execution_count": 3,
   "id": "3a87d900",
   "metadata": {},
   "outputs": [
    {
     "name": "stdout",
     "output_type": "stream",
     "text": [
      "{'root': {'a': {'b': {'c': {}, 'd': {}}, 'e': {}}, 'f': {}}}\n"
     ]
    }
   ],
   "source": [
    "pprint(tree)\n"
   ]
  }
 ],
 "metadata": {
  "kernelspec": {
   "display_name": "Python 3 (ipykernel)",
   "language": "python",
   "name": "python3"
  },
  "language_info": {
   "codemirror_mode": {
    "name": "ipython",
    "version": 3
   },
   "file_extension": ".py",
   "mimetype": "text/x-python",
   "name": "python",
   "nbconvert_exporter": "python",
   "pygments_lexer": "ipython3",
   "version": "3.9.12"
  }
 },
 "nbformat": 4,
 "nbformat_minor": 5
}
