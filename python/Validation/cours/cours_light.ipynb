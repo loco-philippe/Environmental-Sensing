{
 "cells": [
  {
   "cell_type": "code",
   "execution_count": 1,
   "id": "5df49986",
   "metadata": {},
   "outputs": [
    {
     "name": "stdout",
     "output_type": "stream",
     "text": [
      "variables :\n",
      "    {'first name': ['Anne', 'Anne', 'Anne', 'Anne', 'Anne', 'Philippe', 'Philippe', 'Camille', 'Camille', 'Camille', 'Camille', 'Philippe', 'Philippe']}\n",
      "    {'last name': ['White', 'White', 'White', 'White', 'White', 'White', 'White', 'Red', 'Red', 'Red', 'Red', 'Black', 'Black']}\n",
      "    {'full name': ['Anne White', 'Anne White', 'Anne White', 'Anne White', 'Anne White', 'Philippe White', 'Philippe White', 'Camille Red', 'Camille Red', 'Camille Red', 'Camille Red', 'Philippe Black', 'Philippe Black']}\n",
      "    {'surname': ['skyler', 'skyler', 'skyler', 'skyler', 'skyler', 'heisenberg', 'heisenberg', 'saul', 'saul', 'saul', 'saul', 'gus', 'gus']}\n",
      "    {'group': ['gr1', 'gr1', 'gr1', 'gr1', 'gr1', 'gr2', 'gr2', 'gr3', 'gr3', 'gr3', 'gr3', 'gr3', 'gr3']}\n",
      "    {'course': ['math', 'math', 'math', 'english', 'english', 'math', 'english', 'software', 'software', 'english', 'english', 'software', 'english']}\n",
      "    {'examen': ['t1', 't2', 't3', 't2', 't3', 't1', 't2', 't3', 't2', 't1', 't2', 't3', 't1']}\n",
      "    {'score': [11, 13, 15, 10, 12, 15, 8, 17, 18, 2, 4, 18, 6]}\n",
      "index :\n",
      "    {'year': [2021, 2021, 2021, 2021, 2021, 2021, 2021, 2021, 2021, 2021, 2021, 2021, 2021]}\n",
      "\n"
     ]
    }
   ],
   "source": [
    "from tab_dataset import Sdataset\n",
    "\n",
    "chemin = 'D:/philippe/python ESstandard/Environmental-Sensing/python/validation/cours/'\n",
    "file    = chemin + 'example cours light.csv'\n",
    "\n",
    "dts = Sdataset.from_csv(file, optcsv={'delimiter': ';'})\n",
    "print(dts)"
   ]
  },
  {
   "cell_type": "code",
   "execution_count": 2,
   "id": "5411b210",
   "metadata": {},
   "outputs": [
    {
     "data": {
      "text/plain": [
       "['derived',\n",
       " 'derived',\n",
       " 'mixed',\n",
       " 'coupled',\n",
       " 'derived',\n",
       " 'derived',\n",
       " 'unique',\n",
       " 'derived',\n",
       " 'mixed']"
      ]
     },
     "execution_count": 2,
     "metadata": {},
     "output_type": "execute_result"
    }
   ],
   "source": [
    "dts.analysis.category"
   ]
  },
  {
   "cell_type": "code",
   "execution_count": 3,
   "id": "af06e385",
   "metadata": {},
   "outputs": [
    {
     "name": "stdout",
     "output_type": "stream",
     "text": [
      "-1: root-derived (13)\n",
      "   2 : full name (9 - 4)\n",
      "      3 : surname (0 - 4)\n",
      "      0 : first name (1 - 3)\n",
      "      1 : last name (1 - 3)\n",
      "      4 : group (1 - 3)\n",
      "   6 : year (12 - 1)\n",
      "   7 : examen (10 - 3)\n",
      "   8 : score (2 - 11)\n",
      "      5 : course (8 - 3)\n"
     ]
    }
   ],
   "source": [
    "print(dts.tree())"
   ]
  },
  {
   "cell_type": "code",
   "execution_count": 4,
   "id": "4f34591d",
   "metadata": {},
   "outputs": [
    {
     "name": "stdout",
     "output_type": "stream",
     "text": [
      "-1: root-distomin (13)\n",
      "   6 : year (0 - 1)\n",
      "   8 : score (0 - 11)\n",
      "      2 : full name (2 - 4)\n",
      "         0 : first name (0 - 3)\n",
      "         1 : last name (0 - 3)\n",
      "         3 : surname (0 - 4)\n",
      "         4 : group (0 - 3)\n",
      "      5 : course (0 - 3)\n",
      "      7 : examen (2 - 3)\n"
     ]
    }
   ],
   "source": [
    "print(dts.tree('distomin'))"
   ]
  },
  {
   "cell_type": "code",
   "execution_count": 5,
   "id": "5178e3b8",
   "metadata": {},
   "outputs": [
    {
     "name": "stdout",
     "output_type": "stream",
     "text": [
      "-1: root-distance (13)\n",
      "   2 : full name (9 - 4)\n",
      "      0 : first name (1 - 3)\n",
      "      1 : last name (1 - 3)\n",
      "         5 : course (3 - 3)\n",
      "         7 : examen (5 - 3)\n",
      "      3 : surname (0 - 4)\n",
      "      4 : group (1 - 3)\n",
      "   6 : year (12 - 1)\n",
      "   8 : score (2 - 11)\n"
     ]
    }
   ],
   "source": [
    "print(dts.tree('distance'))"
   ]
  },
  {
   "cell_type": "code",
   "execution_count": 9,
   "id": "6fdfcc33",
   "metadata": {},
   "outputs": [
    {
     "name": "stdout",
     "output_type": "stream",
     "text": [
      "1 0.8333333333333334\n",
      "2 0.7777777777777778\n",
      "4 0.5555555555555556\n",
      "2 0.015151515151515152\n"
     ]
    }
   ],
   "source": [
    "print(dts.analysis.get_relation('course', 'examen').distomax, dts.analysis.get_relation('course', 'examen').ratecpl)\n",
    "print(dts.analysis.get_relation('full name', 'examen').distomax, dts.analysis.get_relation('full name', 'examen').ratecpl)\n",
    "print(dts.analysis.get_relation('course', 'full name').distomax, dts.analysis.get_relation('course', 'full name').ratecpl)\n",
    "print(dts.analysis.get_relation('score', 'root').distance, dts.analysis.get_relation('score', 'root').ratecpl)"
   ]
  },
  {
   "cell_type": "code",
   "execution_count": 10,
   "id": "a83938e6",
   "metadata": {},
   "outputs": [],
   "source": [
    "dts_full = dts.full(idxname=['course', 'examen', 'full name'])"
   ]
  },
  {
   "cell_type": "code",
   "execution_count": 12,
   "id": "3efaa621",
   "metadata": {},
   "outputs": [
    {
     "data": {
      "text/plain": [
       "[['course', 'examen', 'full name']]"
      ]
     },
     "execution_count": 12,
     "metadata": {},
     "output_type": "execute_result"
    }
   ],
   "source": [
    "dts.analysis.partitions(mode='id')"
   ]
  },
  {
   "cell_type": "code",
   "execution_count": 14,
   "id": "ecc6a594",
   "metadata": {},
   "outputs": [
    {
     "data": {
      "text/plain": [
       "{'primary': ['full name', 'course', 'examen'],\n",
       " 'secondary': ['first name', 'last name', 'group', 'surname'],\n",
       " 'unique': ['year'],\n",
       " 'variable': ['score']}"
      ]
     },
     "execution_count": 14,
     "metadata": {},
     "output_type": "execute_result"
    }
   ],
   "source": [
    "dts.field_partition(mode='id')"
   ]
  },
  {
   "cell_type": "code",
   "execution_count": 15,
   "id": "18f643b9",
   "metadata": {},
   "outputs": [
    {
     "data": {
      "text/plain": [
       "['mixed',\n",
       " 'derived',\n",
       " 'derived',\n",
       " 'derived',\n",
       " 'derived',\n",
       " 'derived',\n",
       " 'coupled',\n",
       " 'derived',\n",
       " 'unique']"
      ]
     },
     "execution_count": 15,
     "metadata": {},
     "output_type": "execute_result"
    }
   ],
   "source": [
    "dts.analysis.category"
   ]
  },
  {
   "cell_type": "code",
   "execution_count": 16,
   "id": "53b27d7d",
   "metadata": {},
   "outputs": [
    {
     "name": "stdout",
     "output_type": "stream",
     "text": [
      "-1: root-derived (36)\n",
      "   0 : full name (32 - 4)\n",
      "      6 : surname (0 - 4)\n",
      "      3 : first name (1 - 3)\n",
      "      4 : last name (1 - 3)\n",
      "      5 : group (1 - 3)\n",
      "   1 : course (33 - 3)\n",
      "   2 : examen (33 - 3)\n",
      "   7 : score (24 - 12)\n",
      "   8 : year (35 - 1)\n"
     ]
    }
   ],
   "source": [
    "print(dts.tree())"
   ]
  },
  {
   "cell_type": "code",
   "execution_count": 18,
   "id": "85fc25a4",
   "metadata": {},
   "outputs": [
    {
     "name": "stdout",
     "output_type": "stream",
     "text": [
      "<xarray.DataArray 'score' (full name: 4, course: 3, examen: 3)>\n",
      "array([[[11, 13, 15],\n",
      "        ['-', 10, 12],\n",
      "        ['-', '-', '-']],\n",
      "\n",
      "       [[15, '-', '-'],\n",
      "        ['-', 8, '-'],\n",
      "        ['-', '-', '-']],\n",
      "\n",
      "       [['-', '-', '-'],\n",
      "        [2, 4, '-'],\n",
      "        ['-', 18, 17]],\n",
      "\n",
      "       [['-', '-', '-'],\n",
      "        [6, '-', '-'],\n",
      "        ['-', '-', 18]]], dtype=object)\n",
      "Coordinates:\n",
      "  * full name   (full name) object 'Anne White' ... 'Philippe Black'\n",
      "  * course      (course) object 'math' 'english' 'software'\n",
      "  * examen      (examen) object 't1' 't2' 't3'\n",
      "    first name  (full name) object 'Anne' 'Philippe' 'Camille' 'Philippe'\n",
      "    last name   (full name) object 'White' 'White' 'Red' 'Black'\n",
      "    group       (full name) object 'gr1' 'gr2' 'gr3' 'gr3'\n",
      "    surname     (full name) object 'skyler' 'heisenberg' 'saul' 'gus'\n",
      "Attributes:\n",
      "    year:     2021\n"
     ]
    }
   ],
   "source": [
    "print(dts.to_xarray())"
   ]
  }
 ],
 "metadata": {
  "kernelspec": {
   "display_name": "Python 3 (ipykernel)",
   "language": "python",
   "name": "python3"
  },
  "language_info": {
   "codemirror_mode": {
    "name": "ipython",
    "version": 3
   },
   "file_extension": ".py",
   "mimetype": "text/x-python",
   "name": "python",
   "nbconvert_exporter": "python",
   "pygments_lexer": "ipython3",
   "version": "3.10.9"
  }
 },
 "nbformat": 4,
 "nbformat_minor": 5
}
