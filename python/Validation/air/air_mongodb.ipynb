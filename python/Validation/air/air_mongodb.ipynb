{
 "cells": [
  {
   "cell_type": "markdown",
   "metadata": {},
   "source": [
    "# Objet : Test opendata des données de qualité de l'air\n",
    "\n",
    "## Objectif\n",
    "\n",
    "- valider sur des cas réels l'outil de traitement des \"listes indexées\"\n",
    "- identifier les apports que pourraient avoir ce type d'outil\n",
    "\n",
    "## Résultats\n",
    "- à compléter\n",
    "\n",
    "## Usages possibles \n",
    "- à compléter\n",
    "\n",
    "## Autres points\n",
    "- chargement sur MongoDB à tester\n",
    "- Outil de requète à tester\n",
    "\n",
    "données utilisées : https://files.data.gouv.fr/lcsqa/concentrations-de-polluants-atmospheriques-reglementes/temps-reel/2022/"
   ]
  },
  {
   "cell_type": "markdown",
   "metadata": {},
   "source": [
    "------\n",
    "## Initialisation\n",
    "- lecture des fichiers de 01/2022 issus de l'api (un fichier par jour)"
   ]
  },
  {
   "cell_type": "code",
   "execution_count": 1,
   "metadata": {
    "scrolled": false
   },
   "outputs": [],
   "source": [
    "from pprint import pprint\n",
    "from time import time\n",
    "from datetime import datetime\n",
    "import csv\n",
    "from observation import Ilist, Iindex, util, Observation, ESSearch\n",
    "from copy import copy\n",
    "import pandas as pd\n",
    "from test_mongo import clientMongo\n",
    "\n",
    "chemin = 'https://raw.githubusercontent.com/loco-philippe/Environmental-Sensing/main/python/Validation/air/data_lcsqa/'\n",
    "collec = clientMongo()['air_quality']['lcsqa_2']"
   ]
  },
  {
   "cell_type": "code",
   "execution_count": null,
   "metadata": {
    "scrolled": true
   },
   "outputs": [],
   "source": [
    "envoi = False\n",
    "nb_fichiers = 1\n",
    "annee = 2022\n",
    "mois = 1\n",
    "jour = 1\n",
    "# chargement des fichiers du mois et envoi dans mongoDB\n",
    "t0 = time()\n",
    "for i in range(nb_fichiers):\n",
    "    file = chemin + 'FR_E2_' + str(annee) + '-' + format(mois, '02d') +'-' + format(jour + i, '02d') +'.csv'\n",
    "    data = pd.read_csv(file, sep=';')\n",
    "    data[['Date de début','Date de fin']] = data[['Date de début','Date de fin']].astype('datetime64')\n",
    "    data = data.astype('category')\n",
    "    print('data : \\n', len(data), '\\n', list(data), time()-t0, '\\n')\n",
    "    if envoi:\n",
    "        dic = data.to_dict(orient='records')\n",
    "        name = 'air quality {:4d}-{:02d}-{:02d}'.format(annee, mois, jour + i)\n",
    "        id = hash(time())\n",
    "        for js in dic:\n",
    "            js['_metadata'] = {'id':id, 'name': name}\n",
    "        print('début mongo ', time()-t0)\n",
    "        collec.insert_many(dic)\n",
    "        print('mongo ok ', time()-t0)"
   ]
  },
  {
   "cell_type": "code",
   "execution_count": 7,
   "metadata": {},
   "outputs": [
    {
     "data": {
      "text/html": [
       "<table>\n",
       "<thead>\n",
       "<tr><th>Date de début      </th><th>nom site           </th><th>Polluant  </th><th style=\"text-align: right;\">  valeur</th><th>unité de mesure  </th></tr>\n",
       "</thead>\n",
       "<tbody>\n",
       "<tr><td>2022-01-01 10:00:00</td><td>MARSEILLE RABATAU  </td><td>PM10      </td><td style=\"text-align: right;\">   26.90</td><td>µg-m3            </td></tr>\n",
       "<tr><td>2022-01-01 11:00:00</td><td>MARSEILLE RABATAU  </td><td>PM10      </td><td style=\"text-align: right;\">   19.60</td><td>µg-m3            </td></tr>\n",
       "<tr><td>2022-01-01 10:00:00</td><td>MARSEILLE RABATAU  </td><td>PM2.5     </td><td style=\"text-align: right;\">   19.40</td><td>µg-m3            </td></tr>\n",
       "<tr><td>2022-01-01 11:00:00</td><td>MARSEILLE RABATAU  </td><td>PM2.5     </td><td style=\"text-align: right;\">    8.00</td><td>µg-m3            </td></tr>\n",
       "<tr><td>2022-01-01 10:00:00</td><td>MARSEILLE ST LOUIS </td><td>PM10      </td><td style=\"text-align: right;\">   16.40</td><td>µg-m3            </td></tr>\n",
       "<tr><td>2022-01-01 11:00:00</td><td>MARSEILLE ST LOUIS </td><td>PM10      </td><td style=\"text-align: right;\">   21.00</td><td>µg-m3            </td></tr>\n",
       "<tr><td>2022-01-01 10:00:00</td><td>MARSEILLE ST LOUIS </td><td>PM2.5     </td><td style=\"text-align: right;\">   15.80</td><td>µg-m3            </td></tr>\n",
       "<tr><td>2022-01-01 11:00:00</td><td>MARSEILLE ST LOUIS </td><td>PM2.5     </td><td style=\"text-align: right;\">   19.50</td><td>µg-m3            </td></tr>\n",
       "<tr><td>2022-01-01 10:00:00</td><td>MARSEILLE 5 AVENUES</td><td>PM10      </td><td style=\"text-align: right;\">   18.10</td><td>µg-m3            </td></tr>\n",
       "<tr><td>2022-01-01 11:00:00</td><td>MARSEILLE 5 AVENUES</td><td>PM10      </td><td style=\"text-align: right;\">   19.20</td><td>µg-m3            </td></tr>\n",
       "<tr><td>2022-01-01 10:00:00</td><td>MARSEILLE 5 AVENUES</td><td>PM2.5     </td><td style=\"text-align: right;\">   17.30</td><td>µg-m3            </td></tr>\n",
       "<tr><td>2022-01-01 11:00:00</td><td>MARSEILLE 5 AVENUES</td><td>PM2.5     </td><td style=\"text-align: right;\">   18.20</td><td>µg-m3            </td></tr>\n",
       "</tbody>\n",
       "</table>"
      ],
      "text/plain": [
       "'<table>\\n<thead>\\n<tr><th>Date de début      </th><th>nom site           </th><th>Polluant  </th><th style=\"text-align: right;\">  valeur</th><th>unité de mesure  </th></tr>\\n</thead>\\n<tbody>\\n<tr><td>2022-01-01 10:00:00</td><td>MARSEILLE RABATAU  </td><td>PM10      </td><td style=\"text-align: right;\">   26.90</td><td>µg-m3            </td></tr>\\n<tr><td>2022-01-01 11:00:00</td><td>MARSEILLE RABATAU  </td><td>PM10      </td><td style=\"text-align: right;\">   19.60</td><td>µg-m3            </td></tr>\\n<tr><td>2022-01-01 10:00:00</td><td>MARSEILLE RABATAU  </td><td>PM2.5     </td><td style=\"text-align: right;\">   19.40</td><td>µg-m3            </td></tr>\\n<tr><td>2022-01-01 11:00:00</td><td>MARSEILLE RABATAU  </td><td>PM2.5     </td><td style=\"text-align: right;\">    8.00</td><td>µg-m3            </td></tr>\\n<tr><td>2022-01-01 10:00:00</td><td>MARSEILLE ST LOUIS </td><td>PM10      </td><td style=\"text-align: right;\">   16.40</td><td>µg-m3            </td></tr>\\n<tr><td>2022-01-01 11:00:00</td><td>MARSEILLE ST LOUIS </td><td>PM10      </td><td style=\"text-align: right;\">   21.00</td><td>µg-m3            </td></tr>\\n<tr><td>2022-01-01 10:00:00</td><td>MARSEILLE ST LOUIS </td><td>PM2.5     </td><td style=\"text-align: right;\">   15.80</td><td>µg-m3            </td></tr>\\n<tr><td>2022-01-01 11:00:00</td><td>MARSEILLE ST LOUIS </td><td>PM2.5     </td><td style=\"text-align: right;\">   19.50</td><td>µg-m3            </td></tr>\\n<tr><td>2022-01-01 10:00:00</td><td>MARSEILLE 5 AVENUES</td><td>PM10      </td><td style=\"text-align: right;\">   18.10</td><td>µg-m3            </td></tr>\\n<tr><td>2022-01-01 11:00:00</td><td>MARSEILLE 5 AVENUES</td><td>PM10      </td><td style=\"text-align: right;\">   19.20</td><td>µg-m3            </td></tr>\\n<tr><td>2022-01-01 10:00:00</td><td>MARSEILLE 5 AVENUES</td><td>PM2.5     </td><td style=\"text-align: right;\">   17.30</td><td>µg-m3            </td></tr>\\n<tr><td>2022-01-01 11:00:00</td><td>MARSEILLE 5 AVENUES</td><td>PM2.5     </td><td style=\"text-align: right;\">   18.20</td><td>µg-m3            </td></tr>\\n</tbody>\\n</table>'"
      ]
     },
     "execution_count": 7,
     "metadata": {},
     "output_type": "execute_result"
    }
   ],
   "source": [
    "# définition des critères de recherche\n",
    "periode_debut = ['Date de début', datetime(2022, 1, 1, 10), '>='   ]\n",
    "periode_fin   = ['Date de fin',   datetime(2022, 1, 1, 12), '<='   ]\n",
    "lieu          = ['nom site',      'MARSEILLE',              'regex']\n",
    "polluant      = ['Polluant',      'PM',                     'regex']\n",
    "\n",
    "t0 = time()\n",
    "#result = ESSearch(collec, []).execute('idfused')\n",
    "#result = ESSearch(collec, [periode_fin]).execute('idfused')\n",
    "#result = ESSearch(collec, [periode_debut, periode_fin]).execute('idfused')\n",
    "result = ESSearch(collec, [periode_debut, periode_fin, lieu, polluant]).execute('idfused')[0]\n",
    "result.delindex(savename=['Date de début', 'nom site', 'Polluant', 'valeur', 'unité de mesure'])\n",
    "\n",
    "result.view(tablefmt='html')"
   ]
  },
  {
   "cell_type": "code",
   "execution_count": null,
   "metadata": {},
   "outputs": [],
   "source": []
  }
 ],
 "metadata": {
  "celltoolbar": "Format de la Cellule Texte Brut",
  "kernelspec": {
   "display_name": "Python 3 (ipykernel)",
   "language": "python",
   "name": "python3"
  },
  "language_info": {
   "codemirror_mode": {
    "name": "ipython",
    "version": 3
   },
   "file_extension": ".py",
   "mimetype": "text/x-python",
   "name": "python",
   "nbconvert_exporter": "python",
   "pygments_lexer": "ipython3",
   "version": "3.9.12"
  }
 },
 "nbformat": 4,
 "nbformat_minor": 4
}
