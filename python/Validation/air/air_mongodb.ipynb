{
 "cells": [
  {
   "cell_type": "markdown",
   "metadata": {},
   "source": [
    "# Objet : Test opendata des données de qualité de l'air\n",
    "\n",
    "## Objectif\n",
    "\n",
    "- valider sur des cas réels l'outil de traitement des \"listes indexées\"\n",
    "- identifier les apports que pourraient avoir ce type d'outil\n",
    "\n",
    "## Résultats\n",
    "- à compléter\n",
    "\n",
    "## Usages possibles \n",
    "- à compléter\n",
    "\n",
    "## Autres points\n",
    "- chargement sur MongoDB à tester\n",
    "- Outil de requète à tester\n",
    "\n",
    "données utilisées : https://files.data.gouv.fr/lcsqa/concentrations-de-polluants-atmospheriques-reglementes/temps-reel/2022/"
   ]
  },
  {
   "cell_type": "markdown",
   "metadata": {},
   "source": [
    "------\n",
    "## Initialisation\n",
    "- lecture des fichiers de 01/2022 issus de l'api (un fichier par jour)"
   ]
  },
  {
   "cell_type": "code",
   "execution_count": 8,
   "metadata": {
    "scrolled": false
   },
   "outputs": [],
   "source": [
    "from pprint import pprint\n",
    "from time import time\n",
    "from datetime import datetime\n",
    "import csv\n",
    "from observation import Ilist, Iindex, util, Observation, ESSearch\n",
    "from copy import copy\n",
    "import pandas as pd\n",
    "from test_mongo import clientMongo\n",
    "\n",
    "chemin = 'https://raw.githubusercontent.com/loco-philippe/Environmental-Sensing/main/python/Validation/air/data_lcsqa/'\n",
    "collec = clientMongo()['air_quality']['lcsqa_2']"
   ]
  },
  {
   "cell_type": "code",
   "execution_count": 10,
   "metadata": {
    "collapsed": true
   },
   "outputs": [
    {
     "name": "stdout",
     "output_type": "stream",
     "text": [
      "data : \n",
      " 49272 \n",
      " ['Date de début', 'Date de fin', 'Organisme', 'code zas', 'Zas', 'code site', 'nom site', \"type d'implantation\", 'Polluant', \"type d'influence\", 'discriminant', 'Réglementaire', \"type d'évaluation\", 'procédure de mesure', 'type de valeur', 'valeur', 'valeur brute', 'unité de mesure', 'taux de saisie', 'couverture temporelle', 'couverture de données', 'code qualité', 'validité'] 8.31954288482666 \n",
      "\n",
      "début mongo  9.870503425598145\n",
      "mongo ok  41.651368856430054 \n",
      "\n",
      "data : \n",
      " 49351 \n",
      " ['Date de début', 'Date de fin', 'Organisme', 'code zas', 'Zas', 'code site', 'nom site', \"type d'implantation\", 'Polluant', \"type d'influence\", 'discriminant', 'Réglementaire', \"type d'évaluation\", 'procédure de mesure', 'type de valeur', 'valeur', 'valeur brute', 'unité de mesure', 'taux de saisie', 'couverture temporelle', 'couverture de données', 'code qualité', 'validité'] 45.622849464416504 \n",
      "\n",
      "début mongo  47.118505001068115\n",
      "mongo ok  82.1235408782959 \n",
      "\n",
      "data : \n",
      " 49440 \n",
      " ['Date de début', 'Date de fin', 'Organisme', 'code zas', 'Zas', 'code site', 'nom site', \"type d'implantation\", 'Polluant', \"type d'influence\", 'discriminant', 'Réglementaire', \"type d'évaluation\", 'procédure de mesure', 'type de valeur', 'valeur', 'valeur brute', 'unité de mesure', 'taux de saisie', 'couverture temporelle', 'couverture de données', 'code qualité', 'validité'] 85.72308683395386 \n",
      "\n",
      "début mongo  87.238028049469\n",
      "mongo ok  121.88601803779602 \n",
      "\n",
      "data : \n",
      " 49152 \n",
      " ['Date de début', 'Date de fin', 'Organisme', 'code zas', 'Zas', 'code site', 'nom site', \"type d'implantation\", 'Polluant', \"type d'influence\", 'discriminant', 'Réglementaire', \"type d'évaluation\", 'procédure de mesure', 'type de valeur', 'valeur', 'valeur brute', 'unité de mesure', 'taux de saisie', 'couverture temporelle', 'couverture de données', 'code qualité', 'validité'] 126.05169200897217 \n",
      "\n",
      "début mongo  127.48547077178955\n",
      "mongo ok  162.2937843799591 \n",
      "\n",
      "data : \n",
      " 49200 \n",
      " ['Date de début', 'Date de fin', 'Organisme', 'code zas', 'Zas', 'code site', 'nom site', \"type d'implantation\", 'Polluant', \"type d'influence\", 'discriminant', 'Réglementaire', \"type d'évaluation\", 'procédure de mesure', 'type de valeur', 'valeur', 'valeur brute', 'unité de mesure', 'taux de saisie', 'couverture temporelle', 'couverture de données', 'code qualité', 'validité'] 165.57563257217407 \n",
      "\n",
      "début mongo  167.14233946800232\n",
      "mongo ok  200.7970676422119 \n",
      "\n"
     ]
    }
   ],
   "source": [
    "envoi = False\n",
    "nb_fichiers = 5\n",
    "annee = 2022\n",
    "mois = 1\n",
    "jour = 2\n",
    "# chargement des fichiers et envoi dans mongoDB\n",
    "t0 = time()\n",
    "if envoi:\n",
    "    for i in range(nb_fichiers):\n",
    "        file = chemin + 'FR_E2_' + str(annee) + '-' + format(mois, '02d') +'-' + format(jour + i, '02d') +'.csv'\n",
    "        data = pd.read_csv(file, sep=';')\n",
    "        data[['Date de début','Date de fin']] = data[['Date de début','Date de fin']].astype('datetime64')\n",
    "        data = data.astype('category')\n",
    "        dic = data.to_dict(orient='records')\n",
    "        name = 'air quality {:4d}-{:02d}-{:02d}'.format(annee, mois, jour + i)\n",
    "        id = hash(time())\n",
    "        for js in dic:\n",
    "            js['_metadata'] = {'id':id, 'name': name}\n",
    "        collec.insert_many(dic)\n",
    "        print('mongo ok ', time()-t0, '\\n')"
   ]
  },
  {
   "cell_type": "code",
   "execution_count": 11,
   "metadata": {},
   "outputs": [
    {
     "data": {
      "text/html": [
       "<table>\n",
       "<thead>\n",
       "<tr><th>Date de début      </th><th>nom site           </th><th>Polluant  </th><th style=\"text-align: right;\">  valeur</th><th>unité de mesure  </th></tr>\n",
       "</thead>\n",
       "<tbody>\n",
       "<tr><td>2022-01-01 10:00:00</td><td>MARSEILLE RABATAU  </td><td>PM10      </td><td style=\"text-align: right;\">   26.90</td><td>µg-m3            </td></tr>\n",
       "<tr><td>2022-01-01 11:00:00</td><td>MARSEILLE RABATAU  </td><td>PM10      </td><td style=\"text-align: right;\">   19.60</td><td>µg-m3            </td></tr>\n",
       "<tr><td>2022-01-01 10:00:00</td><td>MARSEILLE RABATAU  </td><td>PM2.5     </td><td style=\"text-align: right;\">   19.40</td><td>µg-m3            </td></tr>\n",
       "<tr><td>2022-01-01 11:00:00</td><td>MARSEILLE RABATAU  </td><td>PM2.5     </td><td style=\"text-align: right;\">    8.00</td><td>µg-m3            </td></tr>\n",
       "<tr><td>2022-01-01 10:00:00</td><td>MARSEILLE ST LOUIS </td><td>PM10      </td><td style=\"text-align: right;\">   16.40</td><td>µg-m3            </td></tr>\n",
       "<tr><td>2022-01-01 11:00:00</td><td>MARSEILLE ST LOUIS </td><td>PM10      </td><td style=\"text-align: right;\">   21.00</td><td>µg-m3            </td></tr>\n",
       "<tr><td>2022-01-01 10:00:00</td><td>MARSEILLE ST LOUIS </td><td>PM2.5     </td><td style=\"text-align: right;\">   15.80</td><td>µg-m3            </td></tr>\n",
       "<tr><td>2022-01-01 11:00:00</td><td>MARSEILLE ST LOUIS </td><td>PM2.5     </td><td style=\"text-align: right;\">   19.50</td><td>µg-m3            </td></tr>\n",
       "<tr><td>2022-01-01 10:00:00</td><td>MARSEILLE 5 AVENUES</td><td>PM10      </td><td style=\"text-align: right;\">   18.10</td><td>µg-m3            </td></tr>\n",
       "<tr><td>2022-01-01 11:00:00</td><td>MARSEILLE 5 AVENUES</td><td>PM10      </td><td style=\"text-align: right;\">   19.20</td><td>µg-m3            </td></tr>\n",
       "<tr><td>2022-01-01 10:00:00</td><td>MARSEILLE 5 AVENUES</td><td>PM2.5     </td><td style=\"text-align: right;\">   17.30</td><td>µg-m3            </td></tr>\n",
       "<tr><td>2022-01-01 11:00:00</td><td>MARSEILLE 5 AVENUES</td><td>PM2.5     </td><td style=\"text-align: right;\">   18.20</td><td>µg-m3            </td></tr>\n",
       "</tbody>\n",
       "</table>"
      ],
      "text/plain": [
       "'<table>\\n<thead>\\n<tr><th>Date de début      </th><th>nom site           </th><th>Polluant  </th><th style=\"text-align: right;\">  valeur</th><th>unité de mesure  </th></tr>\\n</thead>\\n<tbody>\\n<tr><td>2022-01-01 10:00:00</td><td>MARSEILLE RABATAU  </td><td>PM10      </td><td style=\"text-align: right;\">   26.90</td><td>µg-m3            </td></tr>\\n<tr><td>2022-01-01 11:00:00</td><td>MARSEILLE RABATAU  </td><td>PM10      </td><td style=\"text-align: right;\">   19.60</td><td>µg-m3            </td></tr>\\n<tr><td>2022-01-01 10:00:00</td><td>MARSEILLE RABATAU  </td><td>PM2.5     </td><td style=\"text-align: right;\">   19.40</td><td>µg-m3            </td></tr>\\n<tr><td>2022-01-01 11:00:00</td><td>MARSEILLE RABATAU  </td><td>PM2.5     </td><td style=\"text-align: right;\">    8.00</td><td>µg-m3            </td></tr>\\n<tr><td>2022-01-01 10:00:00</td><td>MARSEILLE ST LOUIS </td><td>PM10      </td><td style=\"text-align: right;\">   16.40</td><td>µg-m3            </td></tr>\\n<tr><td>2022-01-01 11:00:00</td><td>MARSEILLE ST LOUIS </td><td>PM10      </td><td style=\"text-align: right;\">   21.00</td><td>µg-m3            </td></tr>\\n<tr><td>2022-01-01 10:00:00</td><td>MARSEILLE ST LOUIS </td><td>PM2.5     </td><td style=\"text-align: right;\">   15.80</td><td>µg-m3            </td></tr>\\n<tr><td>2022-01-01 11:00:00</td><td>MARSEILLE ST LOUIS </td><td>PM2.5     </td><td style=\"text-align: right;\">   19.50</td><td>µg-m3            </td></tr>\\n<tr><td>2022-01-01 10:00:00</td><td>MARSEILLE 5 AVENUES</td><td>PM10      </td><td style=\"text-align: right;\">   18.10</td><td>µg-m3            </td></tr>\\n<tr><td>2022-01-01 11:00:00</td><td>MARSEILLE 5 AVENUES</td><td>PM10      </td><td style=\"text-align: right;\">   19.20</td><td>µg-m3            </td></tr>\\n<tr><td>2022-01-01 10:00:00</td><td>MARSEILLE 5 AVENUES</td><td>PM2.5     </td><td style=\"text-align: right;\">   17.30</td><td>µg-m3            </td></tr>\\n<tr><td>2022-01-01 11:00:00</td><td>MARSEILLE 5 AVENUES</td><td>PM2.5     </td><td style=\"text-align: right;\">   18.20</td><td>µg-m3            </td></tr>\\n</tbody>\\n</table>'"
      ]
     },
     "execution_count": 11,
     "metadata": {},
     "output_type": "execute_result"
    }
   ],
   "source": [
    "# définition des critères de recherche\n",
    "periode_debut = ['Date de début', datetime(2022, 1, 1, 10), '>='   ]\n",
    "periode_fin   = ['Date de fin',   datetime(2022, 1, 1, 12), '<='   ]\n",
    "lieu          = ['nom site',      'MARSEILLE',              'regex']\n",
    "polluant      = ['Polluant',      'PM',                     'regex']\n",
    "\n",
    "t0 = time()\n",
    "result = ESSearch(collec, [periode_debut, periode_fin, lieu, polluant]).execute('idfused')[0]\n",
    "result.delindex(savename=['Date de début', 'nom site', 'Polluant', 'valeur', 'unité de mesure'])\n",
    "\n",
    "result.view(tablefmt='html')"
   ]
  },
  {
   "cell_type": "code",
   "execution_count": 14,
   "metadata": {},
   "outputs": [
    {
     "data": {
      "text/html": [
       "<table>\n",
       "<thead>\n",
       "<tr><th>Date de début      </th><th>nom site         </th><th>Polluant  </th><th style=\"text-align: right;\">  valeur</th><th>unité de mesure  </th></tr>\n",
       "</thead>\n",
       "<tbody>\n",
       "<tr><td>2022-01-01 20:00:00</td><td>MARSEILLE RABATAU</td><td>PM10      </td><td style=\"text-align: right;\">   22.70</td><td>µg-m3            </td></tr>\n",
       "<tr><td>2022-01-01 21:00:00</td><td>MARSEILLE RABATAU</td><td>PM10      </td><td style=\"text-align: right;\">   19.20</td><td>µg-m3            </td></tr>\n",
       "<tr><td>2022-01-01 22:00:00</td><td>MARSEILLE RABATAU</td><td>PM10      </td><td style=\"text-align: right;\">   19.30</td><td>µg-m3            </td></tr>\n",
       "<tr><td>2022-01-01 23:00:00</td><td>MARSEILLE RABATAU</td><td>PM10      </td><td style=\"text-align: right;\">   14.90</td><td>µg-m3            </td></tr>\n",
       "<tr><td>2022-01-02 00:00:00</td><td>MARSEILLE RABATAU</td><td>PM10      </td><td style=\"text-align: right;\">   16.40</td><td>µg-m3            </td></tr>\n",
       "<tr><td>2022-01-02 01:00:00</td><td>MARSEILLE RABATAU</td><td>PM10      </td><td style=\"text-align: right;\">   18.70</td><td>µg-m3            </td></tr>\n",
       "<tr><td>2022-01-02 02:00:00</td><td>MARSEILLE RABATAU</td><td>PM10      </td><td style=\"text-align: right;\">   13.80</td><td>µg-m3            </td></tr>\n",
       "<tr><td>2022-01-02 03:00:00</td><td>MARSEILLE RABATAU</td><td>PM10      </td><td style=\"text-align: right;\">   10.80</td><td>µg-m3            </td></tr>\n",
       "<tr><td>2022-01-02 04:00:00</td><td>MARSEILLE RABATAU</td><td>PM10      </td><td style=\"text-align: right;\">   10.40</td><td>µg-m3            </td></tr>\n",
       "</tbody>\n",
       "</table>"
      ],
      "text/plain": [
       "'<table>\\n<thead>\\n<tr><th>Date de début      </th><th>nom site         </th><th>Polluant  </th><th style=\"text-align: right;\">  valeur</th><th>unité de mesure  </th></tr>\\n</thead>\\n<tbody>\\n<tr><td>2022-01-01 20:00:00</td><td>MARSEILLE RABATAU</td><td>PM10      </td><td style=\"text-align: right;\">   22.70</td><td>µg-m3            </td></tr>\\n<tr><td>2022-01-01 21:00:00</td><td>MARSEILLE RABATAU</td><td>PM10      </td><td style=\"text-align: right;\">   19.20</td><td>µg-m3            </td></tr>\\n<tr><td>2022-01-01 22:00:00</td><td>MARSEILLE RABATAU</td><td>PM10      </td><td style=\"text-align: right;\">   19.30</td><td>µg-m3            </td></tr>\\n<tr><td>2022-01-01 23:00:00</td><td>MARSEILLE RABATAU</td><td>PM10      </td><td style=\"text-align: right;\">   14.90</td><td>µg-m3            </td></tr>\\n<tr><td>2022-01-02 00:00:00</td><td>MARSEILLE RABATAU</td><td>PM10      </td><td style=\"text-align: right;\">   16.40</td><td>µg-m3            </td></tr>\\n<tr><td>2022-01-02 01:00:00</td><td>MARSEILLE RABATAU</td><td>PM10      </td><td style=\"text-align: right;\">   18.70</td><td>µg-m3            </td></tr>\\n<tr><td>2022-01-02 02:00:00</td><td>MARSEILLE RABATAU</td><td>PM10      </td><td style=\"text-align: right;\">   13.80</td><td>µg-m3            </td></tr>\\n<tr><td>2022-01-02 03:00:00</td><td>MARSEILLE RABATAU</td><td>PM10      </td><td style=\"text-align: right;\">   10.80</td><td>µg-m3            </td></tr>\\n<tr><td>2022-01-02 04:00:00</td><td>MARSEILLE RABATAU</td><td>PM10      </td><td style=\"text-align: right;\">   10.40</td><td>µg-m3            </td></tr>\\n</tbody>\\n</table>'"
      ]
     },
     "execution_count": 14,
     "metadata": {},
     "output_type": "execute_result"
    }
   ],
   "source": [
    "# définition des critères de recherche\n",
    "periode_debut = ['Date de début', datetime(2022, 1, 1, 20), '>='   ]\n",
    "periode_fin   = ['Date de fin',   datetime(2022, 1, 2, 5),  '<='   ]\n",
    "lieu          = ['nom site',      'MARSEILLE RABATAU',      'regex']\n",
    "polluant      = ['Polluant',      'PM10',                   'regex']\n",
    "\n",
    "t0 = time()\n",
    "result = ESSearch(collec, [periode_debut, periode_fin, lieu, polluant]).execute('single')[0]\n",
    "result.delindex(savename=['Date de début', 'nom site', 'Polluant', 'valeur', 'unité de mesure'])\n",
    "\n",
    "result.view(tablefmt='html')"
   ]
  }
 ],
 "metadata": {
  "celltoolbar": "Format de la Cellule Texte Brut",
  "kernelspec": {
   "display_name": "Python 3 (ipykernel)",
   "language": "python",
   "name": "python3"
  },
  "language_info": {
   "codemirror_mode": {
    "name": "ipython",
    "version": 3
   },
   "file_extension": ".py",
   "mimetype": "text/x-python",
   "name": "python",
   "nbconvert_exporter": "python",
   "pygments_lexer": "ipython3",
   "version": "3.9.12"
  }
 },
 "nbformat": 4,
 "nbformat_minor": 4
}
