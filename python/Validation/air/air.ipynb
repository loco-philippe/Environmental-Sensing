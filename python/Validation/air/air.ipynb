{
 "cells": [
  {
   "cell_type": "markdown",
   "metadata": {},
   "source": [
    "# Objet : Test opendata des données de qualité de l'air\n",
    "\n",
    "## Objectif\n",
    "\n",
    "- valider sur des cas réels l'outil de traitement des \"listes indexées\"\n",
    "- identifier les apports que pourraient avoir ce type d'outil\n",
    "\n",
    "## Résultats\n",
    "- gain de taille de fichier très important (15 Mo pour un fichier csv \"quoté\" et 11 Mo pour un fichier csv non \"quoté\" contre 0,9 Mo pour un fichier texte optimisé et 0,5 Mo pour un fichier binaire) !\n",
    "- on a donc un gain d'un facteur 10 à 20 sur le format texte \n",
    "\n",
    "## Usages possibles \n",
    "- à compléter\n",
    "\n",
    "## Autres points\n",
    "- chargement sur MongoDB à tester\n",
    "- Outil de requète à tester\n",
    "\n",
    "données utilisées : https://files.data.gouv.fr/lcsqa/concentrations-de-polluants-atmospheriques-reglementes/temps-reel/2022/"
   ]
  },
  {
   "cell_type": "markdown",
   "metadata": {},
   "source": [
    "## Présentation des données\n",
    "\n",
    "L'exemple concerne les mesures horaires de concentration de polluants de l'air pour différentes stations de mesure fixes.    \n",
    "    \n",
    "La structure de données mises à disposition est la suivante (principaux champs).   \n",
    "\n",
    ">   \n",
    "> <img src=\"https://loco-philippe.github.io/ES/AIR_modele_conceptuel.PNG\" width=\"600\">\n",
    "\n",
    "Les données sont découpées par fichier CSV d'une journée (49 000 lignes). Chaque fichier a une taille de 10,5 Mo, ce qui représente un volume annuel de 3,8 Go (18 millions de lignes)."
   ]
  },
  {
   "cell_type": "markdown",
   "metadata": {},
   "source": [
    "------\n",
    "## Initialisation\n",
    "- lecture des fichiers de 01/2022 issus de l'api (un fichier par jour)"
   ]
  },
  {
   "cell_type": "code",
   "execution_count": 1,
   "metadata": {
    "scrolled": false
   },
   "outputs": [],
   "source": [
    "from pprint import pprint\n",
    "from collections import Counter\n",
    "from time import time\n",
    "from datetime import datetime\n",
    "import csv\n",
    "from util import util\n",
    "from observation import Sdataset, Sfield\n",
    "from copy import copy\n",
    "import pandas as pd\n",
    "\n",
    "chemin = 'https://raw.githubusercontent.com/loco-philippe/Environmental-Sensing/main/python/Validation/air/data_lcsqa/'"
   ]
  },
  {
   "cell_type": "code",
   "execution_count": 2,
   "metadata": {},
   "outputs": [
    {
     "name": "stdout",
     "output_type": "stream",
     "text": [
      "data2 : \n",
      " 49392 \n",
      "\n",
      "Date de début                  2022/01/01 00:00:00\n",
      "Date de fin                    2022/01/01 01:00:00\n",
      "Organisme                           ATMO GRAND EST\n",
      "code zas                                 FR44ZAG02\n",
      "Zas                                       ZAG METZ\n",
      "code site                                  FR01011\n",
      "nom site                               Metz-Centre\n",
      "type d'implantation                        Urbaine\n",
      "Polluant                                        NO\n",
      "type d'influence                              Fond\n",
      "discriminant                                     A\n",
      "Réglementaire                                  Oui\n",
      "type d'évaluation                    mesures fixes\n",
      "procédure de mesure      Auto NO Conf meth CHIMILU\n",
      "type de valeur             moyenne horaire validée\n",
      "valeur                                         1.5\n",
      "valeur brute                                  1.45\n",
      "unité de mesure                              µg-m3\n",
      "taux de saisie                                 NaN\n",
      "couverture temporelle                          NaN\n",
      "couverture de données                          NaN\n",
      "code qualité                                     A\n",
      "validité                                         1\n",
      "Name: 0, dtype: object\n"
     ]
    }
   ],
   "source": [
    "\n",
    "data = []\n",
    "nb_fichiers = 1\n",
    "annee = 2022\n",
    "mois = 1\n",
    "jour = 1\n",
    "for i in range(nb_fichiers):\n",
    "    file = chemin + 'FR_E2_' + str(annee) + '-' + format(mois, '02d') +'-' + format(jour+i, '02d') +'.csv'\n",
    "    data.append(pd.read_csv(file, sep=';'))\n",
    "data2 = pd.concat(data, ignore_index=True, join='inner')\n",
    "#data2[['Date de début','Date de fin']] = data2[['Date de début','Date de fin']].astype('datetime64')\n",
    "data2 = data2.astype('category')\n",
    "print('data2 : \\n', len(data2), '\\n')\n",
    "print(data2.iloc[0])"
   ]
  },
  {
   "cell_type": "code",
   "execution_count": 3,
   "metadata": {},
   "outputs": [
    {
     "name": "stdout",
     "output_type": "stream",
     "text": [
      "50.8140811920166\n",
      "4601581\n"
     ]
    }
   ],
   "source": [
    "from json_ntv import Ntv\n",
    "t0 = time()\n",
    "ntv = Ntv.obj(data2)\n",
    "print(time()-t0)\n",
    "js = ntv.to_obj(encoded=True)\n",
    "print(len(js))"
   ]
  },
  {
   "cell_type": "markdown",
   "metadata": {},
   "source": [
    "----\n",
    "## objet Dataset\n",
    "- l'initialisation aurait pu être effectuée à partir du fichier csv\n",
    "- quelques indicateurs :\n",
    "    - nombre de données : 1 136 016\n",
    "    - nombre de données différentes : 8 471 (ratio : 0,7 %)\n",
    "- la taille minimale serait de 73 Ko (données csv \"quotées\") pour un maximum de 15,3 Mo (données csv \"quotées\")"
   ]
  },
  {
   "cell_type": "code",
   "execution_count": 4,
   "metadata": {
    "scrolled": false
   },
   "outputs": [
    {
     "name": "stdout",
     "output_type": "stream",
     "text": [
      "idxs (len, lenlidx, sumcodec) :  49392 23 8471\n",
      "True\n"
     ]
    }
   ],
   "source": [
    "idxs2 = Sdataset(data2)\n",
    "print('idxs (len, lenlidx, sumcodec) : ', len(idxs2), len(idxs2.idxlen), sum(idxs2.idxlen))\n",
    "idxs3 = Sdataset(idxs2)\n",
    "print(idxs3 == idxs2)"
   ]
  },
  {
   "cell_type": "code",
   "execution_count": 5,
   "metadata": {
    "scrolled": false
   },
   "outputs": [
    {
     "name": "stdout",
     "output_type": "stream",
     "text": [
      "{'Date de début': 'secondary',\n",
      " 'Date de fin': 'coupled',\n",
      " 'Organisme': 'secondary',\n",
      " 'Polluant': 'secondary',\n",
      " 'Réglementaire': 'unique',\n",
      " 'Zas': 'coupled',\n",
      " 'code qualité': 'secondary',\n",
      " 'code site': 'secondary',\n",
      " 'code zas': 'secondary',\n",
      " 'couverture de données': 'unique',\n",
      " 'couverture temporelle': 'unique',\n",
      " 'discriminant': 'secondary',\n",
      " 'nom site': 'secondary',\n",
      " 'procédure de mesure': 'secondary',\n",
      " 'taux de saisie': 'unique',\n",
      " \"type d'implantation\": 'secondary',\n",
      " \"type d'influence\": 'secondary',\n",
      " \"type d'évaluation\": 'secondary',\n",
      " 'type de valeur': 'unique',\n",
      " 'unité de mesure': 'secondary',\n",
      " 'valeur': 'secondary',\n",
      " 'valeur brute': 'secondary',\n",
      " 'validité': 'secondary'}\n",
      "\n",
      "\n",
      "[{'Date de début',\n",
      "  'Polluant',\n",
      "  'code qualité',\n",
      "  'code site',\n",
      "  'discriminant',\n",
      "  'nom site',\n",
      "  'procédure de mesure',\n",
      "  \"type d'influence\",\n",
      "  \"type d'évaluation\",\n",
      "  'unité de mesure'}]\n",
      "\n",
      " -1: root-derived (49392)\n",
      "   0 : Date de début (24)\n",
      "      1 : Date de fin (24)\n",
      "   5 : code site (532)\n",
      "      2 : Organisme (18)\n",
      "      3 : code zas (70)\n",
      "         4 : Zas (70)\n",
      "      7 : type d implantation (5)\n",
      "   6 : nom site (532)\n",
      "   8 : Polluant (9)\n",
      "   9 : type d influence (3)\n",
      "   10: discriminant (26)\n",
      "   11: Réglementaire (1)\n",
      "   12: type d évaluation (4)\n",
      "   13: procédure de mesure (58)\n",
      "   14: type de valeur (1)\n",
      "   15: valeur (1956)\n",
      "   16: valeur brute (5127)\n",
      "   17: unité de mesure (3)\n",
      "   18: taux de saisie (1)\n",
      "   19: couverture temporelle (1)\n",
      "   20: couverture de données (1)\n",
      "   21: code qualité (3)\n",
      "      22: validité (2) \n",
      "\n",
      "-1: root-diff (49392)\n",
      "   11: Réglementaire (0.00e+00 - 1)\n",
      "   14: type de valeur (0.00e+00 - 1)\n",
      "   16: valeur brute (1.00e+00 - 5127)\n",
      "      0 : Date de début (2.03e-01 - 24)\n",
      "         1 : Date de fin (0.00e+00 - 24)\n",
      "      5 : code site (1.44e-02 - 532)\n",
      "         2 : Organisme (0.00e+00 - 18)\n",
      "         3 : code zas (0.00e+00 - 70)\n",
      "            4 : Zas (0.00e+00 - 70)\n",
      "         6 : nom site (7.08e-06 - 532)\n",
      "         7 : type d implantation (0.00e+00 - 5)\n",
      "         9 : type d influence (1.32e-02 - 3)\n",
      "         10: discriminant (3.87e-02 - 26)\n",
      "         12: type d évaluation (4.01e-02 - 4)\n",
      "         13: procédure de mesure (3.45e-02 - 58)\n",
      "            8 : Polluant (5.17e-02 - 9)\n",
      "         17: unité de mesure (3.01e-02 - 3)\n",
      "      15: valeur (5.89e-06 - 1956)\n",
      "      21: code qualité (1.29e-01 - 3)\n",
      "         22: validité (0.00e+00 - 2)\n",
      "   18: taux de saisie (0.00e+00 - 1)\n",
      "   19: couverture temporelle (0.00e+00 - 1)\n",
      "   20: couverture de données (0.00e+00 - 1)\n",
      "0.04381513595581055\n"
     ]
    }
   ],
   "source": [
    "t0=time()\n",
    "pprint(idxs2.category)\n",
    "print('\\n')\n",
    "pprint(idxs2.groups)\n",
    "print('\\n', idxs2.tree(), '\\n')\n",
    "print(idxs2.tree(mode='diff'))\n",
    "print(time()-t0)"
   ]
  },
  {
   "cell_type": "markdown",
   "metadata": {},
   "source": [
    "## formats de base"
   ]
  },
  {
   "cell_type": "code",
   "execution_count": 6,
   "metadata": {
    "scrolled": true
   },
   "outputs": [
    {
     "name": "stdout",
     "output_type": "stream",
     "text": [
      "fullsize 14737997 11.726231575012207\n"
     ]
    }
   ],
   "source": [
    "t0=time()\n",
    "js = idxs2.to_ntv(modecodec='full').to_obj(encoded=True)\n",
    "fullsize = len(js)\n",
    "print('fullsize', len(js), time()-t0)"
   ]
  },
  {
   "cell_type": "code",
   "execution_count": 7,
   "metadata": {
    "scrolled": false
   },
   "outputs": [
    {
     "name": "stdout",
     "output_type": "stream",
     "text": [
      "new 49392 15.813089609146118\n",
      "controle égalité : True 0.20861244201660156\n"
     ]
    }
   ],
   "source": [
    "t0=time()\n",
    "idxs4 = Sdataset.from_ntv(js)\n",
    "print('new', len(idxs4), time()-t0)\n",
    "t0=time()\n",
    "verif = idxs4 == idxs2\n",
    "print('controle égalité :', verif, time()-t0)"
   ]
  },
  {
   "cell_type": "code",
   "execution_count": 8,
   "metadata": {},
   "outputs": [
    {
     "name": "stdout",
     "output_type": "stream",
     "text": [
      "minsize 72660 0.1234736442565918\n",
      "mincborsize 80751 0.11053013801574707\n"
     ]
    }
   ],
   "source": [
    "t0=time()\n",
    "js = idxs2.to_ntv(modecodec='nokeys').to_obj(encoded=True)\n",
    "minsize = len(js)\n",
    "print('minsize', len(js), time()-t0)\n",
    "\n",
    "t0=time()\n",
    "js = idxs2.to_ntv(modecodec='nokeys').to_obj(encoded=True, format='cbor')\n",
    "print('mincborsize', len(js), time()-t0)\n"
   ]
  },
  {
   "cell_type": "markdown",
   "metadata": {},
   "source": [
    "----\n",
    "## format default\n",
    "- "
   ]
  },
  {
   "cell_type": "code",
   "execution_count": 9,
   "metadata": {
    "scrolled": false
   },
   "outputs": [
    {
     "name": "stdout",
     "output_type": "stream",
     "text": [
      "21.637557983398438\n",
      "25.11229372024536\n",
      "defaultsize :  3407655 25.11229372024536 \n",
      "\n",
      "indicator default :  {'total values': 1185408, 'mean size': 12.433, 'unique values': 8494, 'mean coding size': 2.806, 'unicity level': 0.007, 'optimize level': 0.231, 'object lightness': 0.226, 'maxgain': 0.993, 'gain': 0.769} \n",
      "\n",
      "{'diff': 508,\n",
      " 'dist': 12768,\n",
      " 'distance': 12744,\n",
      " 'distmax': 12768,\n",
      " 'distmin': 532,\n",
      " 'distrate': 1.0,\n",
      " 'disttomax': 0,\n",
      " 'disttomin': 12236,\n",
      " 'rate': 1.0,\n",
      " 'typecoupl': 'crossed'}\n",
      "\n",
      " -1: root-diff (49392)\n",
      "   11: Réglementaire (0.00e+00 - 1)\n",
      "   14: type de valeur (0.00e+00 - 1)\n",
      "   16: valeur brute (1.00e+00 - 5127)\n",
      "      0 : Date de début (2.03e-01 - 24)\n",
      "         1 : Date de fin (0.00e+00 - 24)\n",
      "      5 : code site (1.44e-02 - 532)\n",
      "         2 : Organisme (0.00e+00 - 18)\n",
      "         3 : code zas (0.00e+00 - 70)\n",
      "            4 : Zas (0.00e+00 - 70)\n",
      "         6 : nom site (7.08e-06 - 532)\n",
      "         7 : type d implantation (0.00e+00 - 5)\n",
      "         9 : type d influence (1.32e-02 - 3)\n",
      "         10: discriminant (3.87e-02 - 26)\n",
      "         12: type d évaluation (4.01e-02 - 4)\n",
      "         13: procédure de mesure (3.45e-02 - 58)\n",
      "            8 : Polluant (5.17e-02 - 9)\n",
      "         17: unité de mesure (3.01e-02 - 3)\n",
      "      15: valeur (5.89e-06 - 1956)\n",
      "      21: code qualité (1.29e-01 - 3)\n",
      "         22: validité (0.00e+00 - 2)\n",
      "   18: taux de saisie (0.00e+00 - 1)\n",
      "   19: couverture temporelle (0.00e+00 - 1)\n",
      "   20: couverture de données (0.00e+00 - 1)\n",
      "\n",
      "analyse :  0.01991581916809082\n"
     ]
    }
   ],
   "source": [
    "champ = idxs2.nindex\n",
    "t0=time()\n",
    "#js = idxs2.to_ntv(modecodec='default').to_obj(encoded=True)\n",
    "nt = idxs2.to_ntv(modecodec='default')\n",
    "print(time()-t0)\n",
    "js = nt.to_obj(encoded=True)\n",
    "print(time()-t0)\n",
    "defaultsize = len(js)\n",
    "print('defaultsize : ', defaultsize, time()-t0, '\\n')\n",
    "print('indicator default : ', idxs2.indicator(fullsize, defaultsize), '\\n')\n",
    "\n",
    "t0=time()\n",
    "pprint(champ('code site').couplinginfos(champ('Date de début')))\n",
    "print('\\n', idxs2.tree(mode='diff'))\n",
    "print('\\nanalyse : ', time()-t0)"
   ]
  },
  {
   "cell_type": "code",
   "execution_count": 10,
   "metadata": {
    "scrolled": true
   },
   "outputs": [
    {
     "name": "stdout",
     "output_type": "stream",
     "text": [
      "{'dist': 16, 'distrate': 0.3888888888888889, 'disttomin': 7, 'disttomax': 11, 'distmin': 9, 'distmax': 27, 'diff': 6, 'distance': 13, 'rate': 0.5416666666666666, 'typecoupl': 'link'}\n",
      "nombre de non couplés :  48840\n",
      "\n",
      "liste des premières incohérences : \n",
      "{('PM2.5', 'µg-m3'), ('PM2.5', 'µg/m3')}\n"
     ]
    }
   ],
   "source": [
    "print(idxs2.analysis.getmatrix(['Polluant', 'unité de mesure']))\n",
    "notcoupl = champ('Polluant').coupling(champ('unité de mesure'), derived=True)\n",
    "print('nombre de non couplés : ', len(notcoupl))\n",
    "print('\\nliste des premières incohérences : ')\n",
    "liste = [(champ('Polluant')[i], champ('unité de mesure')[i]) for i in notcoupl[:2000]]\n",
    "pprint(set(liste), width=120)"
   ]
  },
  {
   "cell_type": "code",
   "execution_count": 11,
   "metadata": {},
   "outputs": [
    {
     "name": "stdout",
     "output_type": "stream",
     "text": [
      "{'dist': 534, 'distrate': 7.079846508927687e-06, 'disttomin': 2, 'disttomax': 282490, 'distmin': 532, 'distmax': 283024, 'diff': 0, 'distance': 2, 'rate': 7.079846508927687e-06, 'typecoupl': 'link'}\n",
      "nombre de non couplés :  168\n",
      "\n",
      "liste des premières incohérences : \n",
      "{('FR19007', 'Rennes Les Halles'), ('FR19053', 'Quimper Zola'), ('FR19007', 'HALLES'), ('FR19053', 'QUIMPER ZOLA')}\n"
     ]
    }
   ],
   "source": [
    "print(idxs2.analysis.getmatrix(['code site', 'nom site']))\n",
    "notcoupl = champ('code site').coupling(champ('nom site'), derived=False)\n",
    "print('nombre de non couplés : ', len(notcoupl))\n",
    "print('\\nliste des premières incohérences : ')\n",
    "liste = [(champ('code site')[notcoupl[i]], champ('nom site')[notcoupl[i]]) for i in range(len(notcoupl))]\n",
    "pprint(set(liste), width=120)"
   ]
  },
  {
   "cell_type": "code",
   "execution_count": 12,
   "metadata": {},
   "outputs": [
    {
     "name": "stdout",
     "output_type": "stream",
     "text": [
      "nombre de non couplés :  384\n",
      "\n",
      "liste des premières incohérences : \n",
      "{('FR20048', 'SAINT EXUPERY'), ('FR23004', 'PASTEUR'), ('FR23078', 'SAINT EXUPERY'), ('FR33101', 'PASTEUR')}\n"
     ]
    }
   ],
   "source": [
    "notcoupl = champ('nom site').coupling(champ('code site'), derived=False)\n",
    "print('nombre de non couplés : ', len(notcoupl))\n",
    "print('\\nliste des premières incohérences : ')\n",
    "liste = [(champ('code site')[notcoupl[i]], champ('nom site')[notcoupl[i]]) for i in range(len(notcoupl))]\n",
    "pprint(set(liste), width=120)"
   ]
  },
  {
   "cell_type": "code",
   "execution_count": 13,
   "metadata": {},
   "outputs": [
    {
     "name": "stdout",
     "output_type": "stream",
     "text": [
      "controle égalité : True\n"
     ]
    }
   ],
   "source": [
    "print('controle égalité :', Sdataset.from_ntv(js) == idxs2)"
   ]
  },
  {
   "cell_type": "markdown",
   "metadata": {},
   "source": [
    "----\n",
    "## Format optimisé\n",
    "- "
   ]
  },
  {
   "cell_type": "code",
   "execution_count": 14,
   "metadata": {
    "scrolled": false
   },
   "outputs": [
    {
     "name": "stdout",
     "output_type": "stream",
     "text": [
      "-1: root-derived (49392)\n",
      "   0 : Date de début (24)\n",
      "      1 : Date de fin (24)\n",
      "   5 : code site (2616)\n",
      "      3 : code zas (2143)\n",
      "         2 : Organisme (18)\n",
      "         4 : Zas (70)\n",
      "         13: procédure de mesure (1299)\n",
      "            8 : Polluant (310)\n",
      "               7 : type d implantation (101)\n",
      "                  12: type d évaluation (49)\n",
      "                     17: unité de mesure (21)\n",
      "                        9 : type d influence (9)\n",
      "                           21: code qualité (3)\n",
      "                              22: validité (2)\n",
      "            10: discriminant (26)\n",
      "      6 : nom site (2616)\n",
      "   11: Réglementaire (1)\n",
      "   14: type de valeur (1)\n",
      "   15: valeur (1956)\n",
      "   16: valeur brute (5127)\n",
      "   18: taux de saisie (1)\n",
      "   19: couverture temporelle (1)\n",
      "   20: couverture de données (1)\n",
      "optimizesize :  1250930 5.381635427474976 \n",
      "\n",
      "indicator optimize :  {'total values': 1185408, 'mean size': 12.433, 'unique values': 8505, 'mean coding size': 0.973, 'unicity level': 0.007, 'optimize level': 0.085, 'object lightness': 0.078, 'maxgain': 0.993, 'gain': 0.915} \n",
      "\n",
      "cborsize :  680667 5.948225498199463 \n",
      "\n",
      "indicator cbor :  {'total values': 1185408, 'mean size': 12.433, 'unique values': 8505, 'mean coding size': 0.489, 'unicity level': 0.007, 'optimize level': 0.046, 'object lightness': 0.039, 'maxgain': 0.993, 'gain': 0.954}\n"
     ]
    }
   ],
   "source": [
    "idxs4.reindex()\n",
    "idxs4.coupling(param='distance', level=500)\n",
    "print(idxs4.tree())\n",
    "t0=time()\n",
    "js = idxs4.to_ntv(modecodec='optimize').to_obj(encoded=True)\n",
    "optimizesize = len(js)\n",
    "print('optimizesize : ', optimizesize, time()-t0, '\\n')\n",
    "print('indicator optimize : ', idxs2.indicator(fullsize, optimizesize), '\\n')\n",
    "\n",
    "t0=time()\n",
    "js = idxs4.to_ntv(modecodec='optimize').to_obj(encoded=True, format='cbor')\n",
    "cborsize = len(js)\n",
    "print('cborsize : ', cborsize, time()-t0, '\\n')\n",
    "print('indicator cbor : ', idxs2.indicator(fullsize, cborsize))"
   ]
  },
  {
   "cell_type": "code",
   "execution_count": 15,
   "metadata": {
    "scrolled": true
   },
   "outputs": [
    {
     "name": "stdout",
     "output_type": "stream",
     "text": [
      "controle égalité : True\n"
     ]
    }
   ],
   "source": [
    "print('controle égalité :', Sdataset.from_ntv(js) == idxs2)"
   ]
  },
  {
   "cell_type": "markdown",
   "metadata": {},
   "source": [
    "synthèse ancien:\n",
    "\n",
    "1  fichier  : full  14.4, def  3.8, opt 0.9 cbor 0.3 dic 7.5    500     \n",
    "3  fichiers : full  43.1, def 11.5, opt 2.5 cbor 1.3 dic 23.7   500    \n",
    "5  fichiers : full  71.9, def 19.3, opt 4.1 cbor 2.1 dic 41.1   500    \n",
    "10 fichiers : full 143.7, def 39.0, opt 8.2 cbor 4.0 dic 84.5   500         493 225 lignes\n",
    "\n",
    "synthèse ancien last:\n",
    "\n",
    "1  fichier  : full   3.3, def  0.2, opt 0.4 cbor 0.4            500     \n",
    "\n",
    "synthèse nouveau:\n",
    "\n",
    "1  fichier  : full  10.8, def  21.9, opt 5.5 cbor 8.3           500    "
   ]
  }
 ],
 "metadata": {
  "celltoolbar": "Format de la Cellule Texte Brut",
  "kernelspec": {
   "display_name": "Python 3 (ipykernel)",
   "language": "python",
   "name": "python3"
  },
  "language_info": {
   "codemirror_mode": {
    "name": "ipython",
    "version": 3
   },
   "file_extension": ".py",
   "mimetype": "text/x-python",
   "name": "python",
   "nbconvert_exporter": "python",
   "pygments_lexer": "ipython3",
   "version": "3.10.9"
  }
 },
 "nbformat": 4,
 "nbformat_minor": 4
}
