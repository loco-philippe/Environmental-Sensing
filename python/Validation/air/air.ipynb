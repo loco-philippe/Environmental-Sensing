{
 "cells": [
  {
   "cell_type": "markdown",
   "metadata": {},
   "source": [
    "# Objet : Test opendata des données de qualité de l'air\n",
    "\n",
    "## Objectif\n",
    "\n",
    "- valider sur des cas réels l'outil de traitement des \"listes indexées\"\n",
    "- identifier les apports que pourraient avoir ce type d'outil\n",
    "\n",
    "## Résultats\n",
    "- interêt d'utiliser les outils Pandas\n",
    "- à compléter\n",
    "\n",
    "## Usages possibles \n",
    "- à compléter\n",
    "\n",
    "## Autres points\n",
    "- chargement sur MongoDB à tester\n",
    "- Outil de requète à tester\n",
    "\n",
    "données utilisées : https://files.data.gouv.fr/lcsqa/concentrations-de-polluants-atmospheriques-reglementes/temps-reel/2022/"
   ]
  },
  {
   "cell_type": "markdown",
   "metadata": {},
   "source": [
    "------\n",
    "## Initialisation\n",
    "- lecture des fichiers de 01/2022 issus de l'api (un fichier par jour)"
   ]
  },
  {
   "cell_type": "code",
   "execution_count": 1,
   "metadata": {
    "scrolled": false
   },
   "outputs": [],
   "source": [
    "from pprint import pprint\n",
    "from collections import Counter\n",
    "from time import time\n",
    "import csv\n",
    "import os\n",
    "#os.chdir('C:/Users/a179227/OneDrive - Alliance/perso Wx/ES standard/python ESstandard/ES')\n",
    "from util import util\n",
    "from observation import Ilist, Iindex\n",
    "from copy import copy\n",
    "import pandas as pd\n",
    "\n",
    "chemin = 'https://raw.githubusercontent.com/loco-philippe/Environmental-Sensing/main/python/Validation/air/data_lcsqa/'"
   ]
  },
  {
   "cell_type": "code",
   "execution_count": 2,
   "metadata": {},
   "outputs": [
    {
     "name": "stdout",
     "output_type": "stream",
     "text": [
      "data2 : \n",
      " 295807 \n",
      " ['Date de début', 'Date de fin', 'Organisme', 'code zas', 'Zas', 'code site', 'nom site', \"type d'implantation\", 'Polluant', \"type d'influence\", 'discriminant', 'Réglementaire', \"type d'évaluation\", 'procédure de mesure', 'type de valeur', 'valeur', 'unité de mesure', 'taux de saisie', 'couverture temporelle', 'couverture de données', 'code qualité', 'validité'] \n",
      " 22.650558471679688\n"
     ]
    }
   ],
   "source": [
    "\n",
    "data = []\n",
    "t0 = time()\n",
    "annee = 2022\n",
    "mois = 1\n",
    "jour = 1\n",
    "for i in range(6):\n",
    "    file = chemin + 'FR_E2_' + str(annee) + '-' + format(mois, '02d') +'-' + format(jour+i, '02d') +'.csv'\n",
    "    data.append(pd.read_csv(file, sep=';'))\n",
    "data2 = pd.concat(data, ignore_index=True, join='inner').astype('category')\n",
    "data2.pop('valeur brute')\n",
    "print('data2 : \\n', len(data2), '\\n', list(data2), '\\n', time()-t0)\n"
   ]
  },
  {
   "cell_type": "markdown",
   "metadata": {},
   "source": [
    "----\n",
    "## initialisation de l'objet Ilist\n",
    "- l'initialisation pourrait être automatisée à partir du fichier csv\n",
    "- identification de 64 775 valeurs différentes sur un total de 11 163 x 49 valeurs (\"taux d'unicité\" de 12%)\n",
    "- la taille minimale serait de 1,4 Mo (données csv \"quotées\") pour un maximum de 9,6 Mo (données csv \"quotées\")"
   ]
  },
  {
   "cell_type": "code",
   "execution_count": 3,
   "metadata": {
    "scrolled": true
   },
   "outputs": [
    {
     "name": "stdout",
     "output_type": "stream",
     "text": [
      "idxs (len, lenlidx, sumcodec) :  295807 22 5147 2.810992479324341\n",
      "True\n"
     ]
    }
   ],
   "source": [
    "t0=time()\n",
    "idxs2 = Ilist.obj(data2)\n",
    "print('idxs (len, lenlidx, sumcodec) : ', len(idxs2), len(idxs2.idxlen), sum(idxs2.idxlen), time()-t0)\n",
    "idxs2.setvar('valeur')\n",
    "idxs3 = Ilist(idxs2)\n",
    "print(idxs3 == idxs2)"
   ]
  },
  {
   "cell_type": "markdown",
   "metadata": {},
   "source": [
    "## formats de base"
   ]
  },
  {
   "cell_type": "code",
   "execution_count": 4,
   "metadata": {
    "scrolled": true
   },
   "outputs": [
    {
     "name": "stdout",
     "output_type": "stream",
     "text": [
      "fullsize 86202592 16.426617860794067\n"
     ]
    }
   ],
   "source": [
    "t0=time()\n",
    "js = idxs2.to_obj(encoded=True, modecodec='full')\n",
    "fullsize = len(js)\n",
    "print('fullsize', len(js), time()-t0)"
   ]
  },
  {
   "cell_type": "code",
   "execution_count": 5,
   "metadata": {},
   "outputs": [
    {
     "name": "stdout",
     "output_type": "stream",
     "text": [
      "new 295807 65.32035875320435\n",
      "controle égalité : True 2.554198741912842\n"
     ]
    }
   ],
   "source": [
    "t0=time()\n",
    "new = Ilist.from_obj(js)\n",
    "print('new', len(new), time()-t0)\n",
    "t0=time()\n",
    "verif = new == idxs2\n",
    "print('controle égalité :', verif, time()-t0)"
   ]
  },
  {
   "cell_type": "code",
   "execution_count": 6,
   "metadata": {},
   "outputs": [
    {
     "name": "stdout",
     "output_type": "stream",
     "text": [
      "minsize 1694137 0.8960316181182861\n",
      "mincborsize 2339853 0.8734214305877686\n"
     ]
    }
   ],
   "source": [
    "t0=time()\n",
    "js = idxs2.to_obj(encoded=True, modecodec='nokeys')\n",
    "minsize = len(js)\n",
    "print('minsize', len(js), time()-t0)\n",
    "\n",
    "t0=time()\n",
    "js = idxs2.to_obj(encoded=True, encode_format='cbor', modecodec='nokeys')\n",
    "print('mincborsize', len(js), time()-t0)\n"
   ]
  },
  {
   "cell_type": "markdown",
   "metadata": {},
   "source": [
    "----\n",
    "## format default\n",
    "- "
   ]
  },
  {
   "cell_type": "code",
   "execution_count": 7,
   "metadata": {
    "scrolled": false
   },
   "outputs": [
    {
     "name": "stdout",
     "output_type": "stream",
     "text": [
      "defaultsize :  23275238 1.731583595275879 \n",
      "\n",
      "indicator default :  {'init values': 6507754, 'mean size': 13.246, 'unique values': 1654, 'mean coding size': 3.574, 'unicity level': 0.0, 'object lightness': 0.27, 'gain': 0.73} \n",
      "\n",
      "[{'lencodec': 144, 'name': 'Date de début', 'num': 0, 'parent': 5, 'typecoupl': 'linked'},\n",
      " {'lencodec': 144, 'name': 'Date de fin', 'num': 1, 'parent': 0, 'typecoupl': 'coupled'},\n",
      " {'lencodec': 18, 'name': 'Organisme', 'num': 2, 'parent': 5, 'typecoupl': 'derived'},\n",
      " {'lencodec': 70, 'name': 'code zas', 'num': 3, 'parent': 5, 'typecoupl': 'derived'},\n",
      " {'lencodec': 70, 'name': 'Zas', 'num': 4, 'parent': 3, 'typecoupl': 'coupled'},\n",
      " {'lencodec': 533, 'name': 'code site', 'num': 5, 'parent': 5, 'typecoupl': 'crossed'},\n",
      " {'lencodec': 533, 'name': 'nom site', 'num': 6, 'parent': 5, 'typecoupl': 'linked'},\n",
      " {'lencodec': 5, 'name': \"type d'implantation\", 'num': 7, 'parent': 5, 'typecoupl': 'derived'},\n",
      " {'lencodec': 9, 'name': 'Polluant', 'num': 8, 'parent': 13, 'typecoupl': 'linked'},\n",
      " {'lencodec': 3, 'name': \"type d'influence\", 'num': 9, 'parent': 12, 'typecoupl': 'linked'},\n",
      " {'lencodec': 26, 'name': 'discriminant', 'num': 10, 'parent': 13, 'typecoupl': 'linked'},\n",
      " {'lencodec': 1, 'name': 'Réglementaire', 'num': 11, 'parent': 11, 'typecoupl': 'unique'},\n",
      " {'lencodec': 4, 'name': \"type d'évaluation\", 'num': 12, 'parent': 7, 'typecoupl': 'linked'},\n",
      " {'lencodec': 60, 'name': 'procédure de mesure', 'num': 13, 'parent': 3, 'typecoupl': 'linked'},\n",
      " {'lencodec': 2, 'name': 'type de valeur', 'num': 14, 'parent': 2, 'typecoupl': 'linked'},\n",
      " {'lencodec': 3, 'name': 'unité de mesure', 'num': 15, 'parent': 12, 'typecoupl': 'linked'},\n",
      " {'lencodec': 1, 'name': 'taux de saisie', 'num': 16, 'parent': 16, 'typecoupl': 'unique'},\n",
      " {'lencodec': 1, 'name': 'couverture temporelle', 'num': 17, 'parent': 17, 'typecoupl': 'unique'},\n",
      " {'lencodec': 1, 'name': 'couverture de données', 'num': 18, 'parent': 18, 'typecoupl': 'unique'},\n",
      " {'lencodec': 3, 'name': 'code qualité', 'num': 19, 'parent': 14, 'typecoupl': 'crossed'},\n",
      " {'lencodec': 2, 'name': 'validité', 'num': 20, 'parent': 19, 'typecoupl': 'derived'}]\n",
      "[{'linkrate': 1.0},\n",
      " {'linkrate': 0.0},\n",
      " {'linkrate': 0.0},\n",
      " {'linkrate': 0.0},\n",
      " {'linkrate': 0.0},\n",
      " {'linkrate': 1.0},\n",
      " {'linkrate': 0.0},\n",
      " {'linkrate': 0.0},\n",
      " {'linkrate': 0.05},\n",
      " {'linkrate': 0.75},\n",
      " {'linkrate': 0.14},\n",
      " {'linkrate': 0.0},\n",
      " {'linkrate': 0.73},\n",
      " {'linkrate': 0.11},\n",
      " {'linkrate': 0.06},\n",
      " {'linkrate': 0.62},\n",
      " {'linkrate': 0.0},\n",
      " {'linkrate': 0.0},\n",
      " {'linkrate': 0.0},\n",
      " {'linkrate': 1.0},\n",
      " {'linkrate': 0.0}]\n",
      "analyse :  16.594295263290405\n"
     ]
    }
   ],
   "source": [
    "t0=time()\n",
    "js = idxs2.to_obj(encoded=True, modecodec='default')\n",
    "defaultsize = len(js)\n",
    "print('defaultsize : ', len(js), time()-t0, '\\n')\n",
    "print('indicator default : ', idxs2.indicator(fullsize, defaultsize), '\\n')\n",
    "t0=time()\n",
    "pprint(idxs2.indexinfos(keys=['num', 'name', 'lencodec', 'parent', 'typecoupl']), width=120)\n",
    "pprint(idxs2.indexinfos(keys=['linkrate']))\n",
    "print('analyse : ', time()-t0)"
   ]
  },
  {
   "cell_type": "code",
   "execution_count": 8,
   "metadata": {},
   "outputs": [
    {
     "name": "stdout",
     "output_type": "stream",
     "text": [
      "new 295807 4.506702899932861\n",
      "True\n",
      "controle égalité : True 2.314021110534668\n"
     ]
    }
   ],
   "source": [
    "t0=time()\n",
    "new = Ilist.from_obj(js)\n",
    "print('new', len(new), time()-t0)\n",
    "print(idxs3 == idxs2)\n",
    "t0=time()\n",
    "verif = new == idxs2\n",
    "print('controle égalité :', verif, time()-t0)"
   ]
  },
  {
   "cell_type": "markdown",
   "metadata": {},
   "source": [
    "----\n",
    "## Format optimisé\n",
    "- "
   ]
  },
  {
   "cell_type": "code",
   "execution_count": 9,
   "metadata": {
    "scrolled": false
   },
   "outputs": [
    {
     "name": "stdout",
     "output_type": "stream",
     "text": [
      "optimizesize :  13405403 2.1804146766662598 \n",
      "\n",
      "indicator optimize :  {'init values': 6507754, 'mean size': 13.246, 'unique values': 1654, 'mean coding size': 2.057, 'unicity level': 0.0, 'object lightness': 0.155, 'gain': 0.844} \n",
      "\n",
      "cborsize :  6912425 1.8778035640716553 \n",
      "\n",
      "indicator cbor :  {'init values': 6507754, 'mean size': 13.246, 'unique values': 1654, 'mean coding size': 1.059, 'unicity level': 0.0, 'object lightness': 0.08, 'gain': 0.92}\n"
     ]
    }
   ],
   "source": [
    "t0=time()\n",
    "js = idxs2.to_obj(modecodec='optimize', encoded=True)\n",
    "optimizesize = len(js)\n",
    "print('optimizesize : ', optimizesize, time()-t0, '\\n')\n",
    "print('indicator optimize : ', idxs2.indicator(fullsize, optimizesize), '\\n')\n",
    "t0=time()\n",
    "js = idxs2.to_obj(encoded=True, modecodec='optimize', encode_format='cbor')\n",
    "cborsize = len(js)\n",
    "print('cborsize : ', cborsize, time()-t0, '\\n')\n",
    "print('indicator cbor : ', idxs2.indicator(fullsize, cborsize))"
   ]
  },
  {
   "cell_type": "code",
   "execution_count": 10,
   "metadata": {
    "scrolled": true
   },
   "outputs": [
    {
     "name": "stdout",
     "output_type": "stream",
     "text": [
      "new 295807 4.601051330566406\n",
      "True\n",
      "controle égalité : True 2.3537251949310303\n"
     ]
    }
   ],
   "source": [
    "t0=time()\n",
    "new = Ilist.from_obj(js)\n",
    "print('new', len(new), time()-t0)\n",
    "print(idxs3 == idxs2)\n",
    "t0=time()\n",
    "verif = new == idxs2\n",
    "print('controle égalité :', verif, time()-t0)"
   ]
  },
  {
   "cell_type": "markdown",
   "metadata": {},
   "source": [
    "----\n",
    "## Format BD\n",
    "- "
   ]
  },
  {
   "cell_type": "code",
   "execution_count": 11,
   "metadata": {
    "scrolled": false
   },
   "outputs": [
    {
     "name": "stdout",
     "output_type": "stream",
     "text": [
      "dictsize :  49784605 6.336913585662842 \n",
      "\n",
      "indicator dict :  {'init values': 6507754, 'mean size': 13.246, 'unique values': 1654, 'mean coding size': 7.649, 'unicity level': 0.0, 'object lightness': 0.577, 'gain': 0.422} \n",
      "\n"
     ]
    }
   ],
   "source": [
    "t0=time()\n",
    "js = idxs2.to_obj(modecodec='dict', encoded=True)\n",
    "dictsize = len(js)\n",
    "print('dictsize : ', dictsize, time()-t0, '\\n')\n",
    "print('indicator dict : ', idxs2.indicator(fullsize, dictsize), '\\n')"
   ]
  },
  {
   "cell_type": "code",
   "execution_count": 12,
   "metadata": {
    "scrolled": true
   },
   "outputs": [
    {
     "name": "stdout",
     "output_type": "stream",
     "text": [
      "0.2120039463043213\n"
     ]
    }
   ],
   "source": [
    "t0 = time()\n",
    "test = idxs2.lindex[0].to_dict_obj()\n",
    "print(time()-t0)"
   ]
  },
  {
   "cell_type": "code",
   "execution_count": 13,
   "metadata": {},
   "outputs": [
    {
     "name": "stdout",
     "output_type": "stream",
     "text": [
      "144 295807\n"
     ]
    }
   ],
   "source": [
    "print(len(idxs2.lindex[0].codec), len(idxs2.lindex[0].keys))"
   ]
  },
  {
   "cell_type": "code",
   "execution_count": 14,
   "metadata": {
    "scrolled": true
   },
   "outputs": [
    {
     "name": "stdout",
     "output_type": "stream",
     "text": [
      "new 295807 6.778273344039917\n",
      "True\n",
      "controle égalité : True 2.6191530227661133\n"
     ]
    }
   ],
   "source": [
    "t0=time()\n",
    "new = Ilist.from_obj(js)\n",
    "print('new', len(new), time()-t0)\n",
    "print(idxs3 == idxs2)\n",
    "t0=time()\n",
    "verif = new == idxs2\n",
    "print('controle égalité :', verif, time()-t0)"
   ]
  }
 ],
 "metadata": {
  "celltoolbar": "Format de la Cellule Texte Brut",
  "kernelspec": {
   "display_name": "Python 3 (ipykernel)",
   "language": "python",
   "name": "python3"
  },
  "language_info": {
   "codemirror_mode": {
    "name": "ipython",
    "version": 3
   },
   "file_extension": ".py",
   "mimetype": "text/x-python",
   "name": "python",
   "nbconvert_exporter": "python",
   "pygments_lexer": "ipython3",
   "version": "3.9.12"
  }
 },
 "nbformat": 4,
 "nbformat_minor": 4
}
