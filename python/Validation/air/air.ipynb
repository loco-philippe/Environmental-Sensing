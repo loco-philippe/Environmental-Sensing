{
 "cells": [
  {
   "cell_type": "markdown",
   "metadata": {},
   "source": [
    "# Objet : Test opendata des données de qualité de l'air\n",
    "\n",
    "## Objectif\n",
    "\n",
    "- valider sur des cas réels l'outil de traitement des \"listes indexées\"\n",
    "- identifier les apports que pourraient avoir ce type d'outil\n",
    "\n",
    "## Résultats\n",
    "- interêt d'utiliser les outils Pandas\n",
    "- à compléter\n",
    "\n",
    "## Usages possibles \n",
    "- à compléter\n",
    "\n",
    "## Autres points\n",
    "- chargement sur MongoDB à tester\n",
    "- Outil de requète à tester\n",
    "\n",
    "données utilisées : https://files.data.gouv.fr/lcsqa/concentrations-de-polluants-atmospheriques-reglementes/temps-reel/2022/"
   ]
  },
  {
   "cell_type": "markdown",
   "metadata": {},
   "source": [
    "------\n",
    "## Initialisation\n",
    "- lecture des fichiers de 01/2022 issus de l'api (un fichier par jour)"
   ]
  },
  {
   "cell_type": "code",
   "execution_count": 1,
   "metadata": {
    "scrolled": false
   },
   "outputs": [],
   "source": [
    "from pprint import pprint\n",
    "from collections import Counter\n",
    "from time import time\n",
    "import csv\n",
    "from util import util\n",
    "from observation import Ilist, Iindex\n",
    "from copy import copy\n",
    "import pandas as pd\n",
    "\n",
    "chemin = 'https://raw.githubusercontent.com/loco-philippe/Environmental-Sensing/main/python/Validation/air/data_lcsqa/'"
   ]
  },
  {
   "cell_type": "code",
   "execution_count": 2,
   "metadata": {
    "scrolled": true
   },
   "outputs": [
    {
     "name": "stdout",
     "output_type": "stream",
     "text": [
      "data2 : \n",
      " 49392 \n",
      " ['Date de début', 'Date de fin', 'Organisme', 'code zas', 'Zas', 'code site', 'nom site', \"type d'implantation\", 'Polluant', \"type d'influence\", 'discriminant', 'Réglementaire', \"type d'évaluation\", 'procédure de mesure', 'type de valeur', 'valeur', 'unité de mesure', 'taux de saisie', 'couverture temporelle', 'couverture de données', 'code qualité', 'validité'] \n",
      " 11.279568433761597\n"
     ]
    }
   ],
   "source": [
    "\n",
    "data = []\n",
    "t0 = time()\n",
    "nb_fichiers = 1\n",
    "annee = 2022\n",
    "mois = 1\n",
    "jour = 1\n",
    "for i in range(nb_fichiers):\n",
    "    file = chemin + 'FR_E2_' + str(annee) + '-' + format(mois, '02d') +'-' + format(jour+i, '02d') +'.csv'\n",
    "    data.append(pd.read_csv(file, sep=';'))\n",
    "data2 = pd.concat(data, ignore_index=True, join='inner')\n",
    "data2[['Date de début','Date de fin']] = data2[['Date de début','Date de fin']].astype('datetime64')\n",
    "data2 = data2.astype('category')\n",
    "\n",
    "data2.pop('valeur brute')\n",
    "print('data2 : \\n', len(data2), '\\n', list(data2), '\\n', time()-t0)\n"
   ]
  },
  {
   "cell_type": "markdown",
   "metadata": {},
   "source": [
    "----\n",
    "## initialisation de l'objet Ilist\n",
    "- l'initialisation pourrait être automatisée à partir du fichier csv\n",
    "- identification de 64 775 valeurs différentes sur un total de 11 163 x 49 valeurs (\"taux d'unicité\" de 12%)\n",
    "- la taille minimale serait de 1,4 Mo (données csv \"quotées\") pour un maximum de 9,6 Mo (données csv \"quotées\")"
   ]
  },
  {
   "cell_type": "code",
   "execution_count": 3,
   "metadata": {},
   "outputs": [
    {
     "name": "stdout",
     "output_type": "stream",
     "text": [
      "24\n",
      "24\n",
      "18\n",
      "70\n",
      "70\n",
      "532\n",
      "532\n",
      "5\n",
      "9\n",
      "3\n",
      "26\n",
      "1\n",
      "4\n",
      "58\n",
      "1\n",
      "1956\n",
      "3\n",
      "0\n",
      "0\n",
      "0\n",
      "3\n",
      "2\n"
     ]
    }
   ],
   "source": [
    "listidx = data2\n",
    "listidx.__class__.__name__ == 'DataFrame'\n",
    "for name, idx in listidx.astype('category').items():\n",
    "    lis = list(idx.cat.categories)\n",
    "    print(len(lis))\n",
    "    "
   ]
  },
  {
   "cell_type": "code",
   "execution_count": 4,
   "metadata": {
    "scrolled": false
   },
   "outputs": [
    {
     "name": "stdout",
     "output_type": "stream",
     "text": [
      "idxs (len, lenlidx, sumcodec) :  49392 22 3344 3.7323484420776367\n",
      "True\n"
     ]
    }
   ],
   "source": [
    "t0=time()\n",
    "idxs2 = Ilist.obj(data2)\n",
    "#idxs2.lindex[0].set_codec(util.castobj(idxs2.lindex[0].codec, 'DatationValue'))\n",
    "#idxs2.lindex[1].set_codec(util.castobj(idxs2.lindex[1].codec, 'DatationValue'))\n",
    "print('idxs (len, lenlidx, sumcodec) : ', len(idxs2), len(idxs2.idxlen), sum(idxs2.idxlen), time()-t0)\n",
    "#idxs2.setvar('valeur')\n",
    "idxs3 = Ilist(idxs2)\n",
    "print(idxs3 == idxs2)"
   ]
  },
  {
   "cell_type": "code",
   "execution_count": null,
   "metadata": {},
   "outputs": [],
   "source": [
    "from observation import DatationValue\n",
    "print(idxs3.lindex[0].codec[0])\n",
    "print(type(idxs3.lindex[0].codec[0]))\n",
    "print(DatationValue(idxs3.lindex[0].codec[0]))\n"
   ]
  },
  {
   "cell_type": "code",
   "execution_count": null,
   "metadata": {},
   "outputs": [],
   "source": [
    "t0=time()\n",
    "print(idxs2.category, '\\n')\n",
    "print(idxs2.tree(), '\\n')\n",
    "print(idxs2.tree(mode='distance'))\n",
    "print(time()-t0)"
   ]
  },
  {
   "cell_type": "markdown",
   "metadata": {},
   "source": [
    "## formats de base"
   ]
  },
  {
   "cell_type": "code",
   "execution_count": 5,
   "metadata": {
    "scrolled": true
   },
   "outputs": [
    {
     "name": "stdout",
     "output_type": "stream",
     "text": [
      "fullsize 14988223 3.054269790649414\n"
     ]
    }
   ],
   "source": [
    "t0=time()\n",
    "js = idxs2.to_obj(encoded=True, modecodec='full')\n",
    "fullsize = len(js)\n",
    "print('fullsize', len(js), time()-t0)"
   ]
  },
  {
   "cell_type": "code",
   "execution_count": 6,
   "metadata": {},
   "outputs": [
    {
     "name": "stdout",
     "output_type": "stream",
     "text": [
      "new 49392 12.60580039024353\n",
      "controle égalité : True 0.3321690559387207\n"
     ]
    }
   ],
   "source": [
    "t0=time()\n",
    "new = Ilist.from_obj(js)\n",
    "print('new', len(new), time()-t0)\n",
    "t0=time()\n",
    "verif = new == idxs2\n",
    "print('controle égalité :', verif, time()-t0)"
   ]
  },
  {
   "cell_type": "code",
   "execution_count": 7,
   "metadata": {},
   "outputs": [
    {
     "name": "stdout",
     "output_type": "stream",
     "text": [
      "minsize 34498 0.012923717498779297\n",
      "mincborsize 33259 0.016391277313232422\n"
     ]
    }
   ],
   "source": [
    "t0=time()\n",
    "js = idxs2.to_obj(encoded=True, modecodec='nokeys')\n",
    "minsize = len(js)\n",
    "print('minsize', len(js), time()-t0)\n",
    "\n",
    "t0=time()\n",
    "js = idxs2.to_obj(encoded=True, encode_format='cbor', modecodec='nokeys')\n",
    "print('mincborsize', len(js), time()-t0)\n"
   ]
  },
  {
   "cell_type": "markdown",
   "metadata": {},
   "source": [
    "----\n",
    "## format default\n",
    "- "
   ]
  },
  {
   "cell_type": "code",
   "execution_count": 8,
   "metadata": {
    "scrolled": false
   },
   "outputs": [
    {
     "name": "stdout",
     "output_type": "stream",
     "text": [
      "defaultsize :  3832752 0.12758207321166992 \n",
      "\n",
      "indicator default :  {'total values': 1136016, 'mean size': 13.194, 'unique values': 3366, 'mean coding size': 3.345, 'unicity level': 0.003, 'optimize level': 0.256, 'object lightness': 0.254, 'maxgain': 0.997, 'gain': 0.744} \n",
      "\n",
      "{'diff': 508,\n",
      " 'dist': 12768,\n",
      " 'distance': 12744,\n",
      " 'distmax': 12768,\n",
      " 'distmin': 532,\n",
      " 'distrate': 1.0,\n",
      " 'disttomax': 0,\n",
      " 'disttomin': 12236,\n",
      " 'rate': 1.0,\n",
      " 'typecoupl': 'crossed'}\n",
      "\n",
      " -1: root-diff (49392)\n",
      "   11: Réglementaire (0.00e+00 - 1)\n",
      "   14: type de valeur (0.00e+00 - 1)\n",
      "   15: valeur (1.00e+00 - 1956)\n",
      "      0 : Date de début (2.67e-01 - 24)\n",
      "         1 : Date de fin (0.00e+00 - 24)\n",
      "      5 : code site (3.45e-02 - 532)\n",
      "         2 : Organisme (0.00e+00 - 18)\n",
      "         3 : code zas (0.00e+00 - 70)\n",
      "            4 : Zas (0.00e+00 - 70)\n",
      "         6 : nom site (7.08e-06 - 532)\n",
      "         7 : type d implantation (0.00e+00 - 5)\n",
      "         9 : type d influence (1.32e-02 - 3)\n",
      "         10: discriminant (3.87e-02 - 26)\n",
      "         12: type d évaluation (4.01e-02 - 4)\n",
      "         13: procédure de mesure (3.45e-02 - 58)\n",
      "            8 : Polluant (5.17e-02 - 9)\n",
      "         16: unité de mesure (3.01e-02 - 3)\n",
      "      20: code qualité (1.83e-01 - 3)\n",
      "         21: validité (0.00e+00 - 2)\n",
      "   17: taux de saisie (0.00e+00 - 1)\n",
      "   18: couverture temporelle (0.00e+00 - 1)\n",
      "   19: couverture de données (0.00e+00 - 1)\n",
      "\n",
      "analyse :  0.03123927116394043\n"
     ]
    }
   ],
   "source": [
    "champ = idxs2.nindex\n",
    "'''champ('valeur').tostdcodec(inplace=True)\n",
    "idxs2.setcanonorder()\n",
    "pprint(idxs2.category)'''\n",
    "t0=time()\n",
    "js = idxs2.to_obj(encoded=True, modecodec='default')\n",
    "defaultsize = len(js)\n",
    "print('defaultsize : ', len(js), time()-t0, '\\n')\n",
    "print('indicator default : ', idxs2.indicator(fullsize, defaultsize), '\\n')\n",
    "\n",
    "t0=time()\n",
    "pprint(champ('code site').couplinginfos(champ('Date de début')))\n",
    "print('\\n', idxs2.tree(mode='diff'))\n",
    "print('\\nanalyse : ', time()-t0)"
   ]
  },
  {
   "cell_type": "code",
   "execution_count": 9,
   "metadata": {},
   "outputs": [],
   "source": [
    "idxs4 = copy(idxs2)\n",
    "champ = idxs4.nindex"
   ]
  },
  {
   "cell_type": "code",
   "execution_count": 10,
   "metadata": {},
   "outputs": [
    {
     "name": "stdout",
     "output_type": "stream",
     "text": [
      "['Date de début', 'Date de fin', 'Organisme', 'code zas', 'Zas', 'code site', 'nom site', \"type d'implantation\", 'Polluant', \"type d'influence\", 'discriminant', 'Réglementaire', \"type d'évaluation\", 'procédure de mesure', 'type de valeur', 'valeur', 'unité de mesure', 'taux de saisie', 'couverture temporelle', 'couverture de données', 'code qualité', 'validité']\n"
     ]
    }
   ],
   "source": [
    "print(idxs2.lname)"
   ]
  },
  {
   "cell_type": "code",
   "execution_count": 11,
   "metadata": {
    "scrolled": true
   },
   "outputs": [
    {
     "name": "stdout",
     "output_type": "stream",
     "text": [
      "{'dist': 16, 'distrate': 0.3888888888888889, 'disttomin': 7, 'disttomax': 11, 'distmin': 9, 'distmax': 27, 'diff': 6, 'distance': 13, 'rate': 0.5416666666666666, 'typecoupl': 'link'}\n",
      "nombre de non couplés :  48840\n",
      "\n",
      "liste des premières incohérences : \n",
      "liste\n",
      "{('O3', 'µg-m3'), ('O3', 'µg/m3')}\n"
     ]
    }
   ],
   "source": [
    "print(idxs2.analysis.getmatrix(['Polluant', 'unité de mesure']))\n",
    "notcoupl = champ('Polluant').coupling(champ('unité de mesure'), derived=True)\n",
    "print('nombre de non couplés : ', len(notcoupl))\n",
    "print('\\nliste des premières incohérences : ')\n",
    "liste = [(champ('Polluant')[i], champ('unité de mesure')[i]) for i in notcoupl[:2000]]\n",
    "print('liste')\n",
    "pprint(set(liste), width=120)"
   ]
  },
  {
   "cell_type": "code",
   "execution_count": 12,
   "metadata": {},
   "outputs": [
    {
     "name": "stdout",
     "output_type": "stream",
     "text": [
      "{'dist': 534, 'distrate': 7.079846508927687e-06, 'disttomin': 2, 'disttomax': 282490, 'distmin': 532, 'distmax': 283024, 'diff': 0, 'distance': 2, 'rate': 7.079846508927687e-06, 'typecoupl': 'link'}\n",
      "nombre de non couplés :  168\n",
      "\n",
      "liste des premières incohérences : \n",
      "{('FR19053', 'QUIMPER ZOLA'), ('FR19053', 'Quimper Zola'), ('FR19007', 'HALLES'), ('FR19007', 'Rennes Les Halles')}\n"
     ]
    }
   ],
   "source": [
    "print(idxs2.analysis.getmatrix(['code site', 'nom site']))\n",
    "notcoupl = champ('code site').coupling(champ('nom site'), derived=False)\n",
    "print('nombre de non couplés : ', len(notcoupl))\n",
    "print('\\nliste des premières incohérences : ')\n",
    "liste = []\n",
    "for i in range(len(notcoupl)): liste.append((champ('code site')[notcoupl[i]], champ('nom site')[notcoupl[i]]))\n",
    "pprint(set(liste), width=120)"
   ]
  },
  {
   "cell_type": "code",
   "execution_count": 13,
   "metadata": {},
   "outputs": [
    {
     "name": "stdout",
     "output_type": "stream",
     "text": [
      "{'dist': 534, 'distrate': 7.079846508927687e-06, 'disttomin': 2, 'disttomax': 282490, 'distmin': 532, 'distmax': 283024, 'diff': 0, 'distance': 2, 'rate': 7.079846508927687e-06, 'typecoupl': 'link'}\n",
      "nombre de non couplés :  384\n",
      "\n",
      "liste des premières incohérences : \n",
      "{('FR33101', 'PASTEUR'), ('FR23078', 'SAINT EXUPERY'), ('FR20048', 'SAINT EXUPERY'), ('FR23004', 'PASTEUR')}\n"
     ]
    }
   ],
   "source": [
    "print(idxs2.analysis.getmatrix(['code site', 'nom site']))\n",
    "champ = idxs2.nindex \n",
    "notcoupl = champ('nom site').coupling(champ('code site'), derived=False)\n",
    "print('nombre de non couplés : ', len(notcoupl))\n",
    "print('\\nliste des premières incohérences : ')\n",
    "liste = []\n",
    "for i in range(len(notcoupl)): liste.append((champ('code site')[notcoupl[i]], champ('nom site')[notcoupl[i]]))\n",
    "pprint(set(liste), width=120)"
   ]
  },
  {
   "cell_type": "code",
   "execution_count": 14,
   "metadata": {},
   "outputs": [
    {
     "name": "stdout",
     "output_type": "stream",
     "text": [
      "new 49392 3.7000155448913574\n",
      "True\n",
      "controle égalité : True 0.330366849899292\n"
     ]
    }
   ],
   "source": [
    "t0=time()\n",
    "new = Ilist.from_obj(js)\n",
    "print('new', len(new), time()-t0)\n",
    "print(idxs3 == idxs2)\n",
    "t0=time()\n",
    "verif = new == idxs2\n",
    "print('controle égalité :', verif, time()-t0)"
   ]
  },
  {
   "cell_type": "markdown",
   "metadata": {},
   "source": [
    "----\n",
    "## Format optimisé\n",
    "- "
   ]
  },
  {
   "cell_type": "code",
   "execution_count": 15,
   "metadata": {
    "scrolled": false
   },
   "outputs": [
    {
     "name": "stdout",
     "output_type": "stream",
     "text": [
      "-1: root-derived (49392)\n",
      "   0 : Date de début (24)\n",
      "      1 : Date de fin (24)\n",
      "   5 : code site (2616)\n",
      "      3 : code zas (2143)\n",
      "         2 : Organisme (18)\n",
      "         4 : Zas (70)\n",
      "         13: procédure de mesure (1299)\n",
      "            8 : Polluant (310)\n",
      "               7 : type d implantation (101)\n",
      "                  12: type d évaluation (49)\n",
      "                     16: unité de mesure (21)\n",
      "                        9 : type d influence (9)\n",
      "                           20: code qualité (3)\n",
      "                              21: validité (2)\n",
      "            10: discriminant (26)\n",
      "      6 : nom site (2616)\n",
      "   11: Réglementaire (1)\n",
      "   14: type de valeur (1)\n",
      "   15: valeur (1956)\n",
      "   17: taux de saisie (1)\n",
      "   18: couverture temporelle (1)\n",
      "   19: couverture de données (1)\n",
      "optimizesize :  933230 0.35938000679016113 \n",
      "\n",
      "indicator optimize :  {'total values': 1136016, 'mean size': 13.194, 'unique values': 3370, 'mean coding size': 0.785, 'unicity level': 0.003, 'optimize level': 0.062, 'object lightness': 0.059, 'maxgain': 0.997, 'gain': 0.938} \n",
      "\n",
      "cborsize :  489953 0.3683280944824219 \n",
      "\n",
      "indicator cbor :  {'total values': 1136016, 'mean size': 13.194, 'unique values': 3370, 'mean coding size': 0.393, 'unicity level': 0.003, 'optimize level': 0.033, 'object lightness': 0.03, 'maxgain': 0.997, 'gain': 0.967}\n"
     ]
    }
   ],
   "source": [
    "idxs4.reindex()\n",
    "idxs4.coupling(param='distance', level=500)\n",
    "print(idxs4.tree())\n",
    "t0=time()\n",
    "js = idxs4.to_obj(modecodec='optimize', encoded=True)\n",
    "optimizesize = len(js)\n",
    "print('optimizesize : ', optimizesize, time()-t0, '\\n')\n",
    "print('indicator optimize : ', idxs2.indicator(fullsize, optimizesize), '\\n')\n",
    "\n",
    "t0=time()\n",
    "js = idxs4.to_obj(encoded=True, modecodec='optimize', encode_format='cbor')\n",
    "cborsize = len(js)\n",
    "print('cborsize : ', cborsize, time()-t0, '\\n')\n",
    "print('indicator cbor : ', idxs2.indicator(fullsize, cborsize))"
   ]
  },
  {
   "cell_type": "code",
   "execution_count": 16,
   "metadata": {
    "scrolled": true
   },
   "outputs": [
    {
     "name": "stdout",
     "output_type": "stream",
     "text": [
      "new 49392 3.2341301441192627\n",
      "True\n",
      "controle égalité : True 0.40999436378479004\n"
     ]
    }
   ],
   "source": [
    "t0=time()\n",
    "new = Ilist.from_obj(js)\n",
    "print('new', len(new), time()-t0)\n",
    "print(idxs3 == idxs2)\n",
    "t0=time()\n",
    "verif = new == idxs2\n",
    "print('controle égalité :', verif, time()-t0)"
   ]
  },
  {
   "cell_type": "markdown",
   "metadata": {},
   "source": [
    "----\n",
    "## Format BD\n",
    "- "
   ]
  },
  {
   "cell_type": "code",
   "execution_count": 17,
   "metadata": {
    "scrolled": false
   },
   "outputs": [
    {
     "name": "stdout",
     "output_type": "stream",
     "text": [
      "dictsize :  7472116 4.18480658531189 \n",
      "\n",
      "indicator dict :  {'total values': 1136016, 'mean size': 13.194, 'unique values': 3370, 'mean coding size': 6.558, 'unicity level': 0.003, 'optimize level': 0.499, 'object lightness': 0.497, 'maxgain': 0.997, 'gain': 0.501} \n",
      "\n"
     ]
    }
   ],
   "source": [
    "t0=time()\n",
    "js = idxs2.to_obj(modecodec='dict', encoded=True)\n",
    "dictsize = len(js)\n",
    "print('dictsize : ', dictsize, time()-t0, '\\n')\n",
    "print('indicator dict : ', idxs2.indicator(fullsize, dictsize), '\\n')"
   ]
  },
  {
   "cell_type": "code",
   "execution_count": 18,
   "metadata": {
    "scrolled": true
   },
   "outputs": [
    {
     "name": "stdout",
     "output_type": "stream",
     "text": [
      "new 49392 3.8931832313537598\n",
      "True\n",
      "controle égalité : True 0.34420299530029297\n"
     ]
    }
   ],
   "source": [
    "t0=time()\n",
    "new = Ilist.from_obj(js)\n",
    "print('new', len(new), time()-t0)\n",
    "print(idxs3 == idxs2)\n",
    "t0=time()\n",
    "verif = new == idxs2\n",
    "print('controle égalité :', verif, time()-t0)"
   ]
  },
  {
   "cell_type": "code",
   "execution_count": 19,
   "metadata": {},
   "outputs": [
    {
     "name": "stdout",
     "output_type": "stream",
     "text": [
      "[['Date de début', ['2022-01-01T02:00:00+00:00', '2022-01-01T00:00:00+00:00', '2022-01-01T03:00:00+00:00', '2021-12-31T23:00:00+00:00', '2022-01-01T01:00:00+00:00'], [3, 1, 4, 0, 2]], ['Date de fin', ['2022-01-01T03:00:00+00:00', '2022-01-01T01:00:00+00:00', '2022-01-01T04:00:00+00:00', '2022-01-01T00:00:00+00:00', '2022-01-01T02:00:00+00:00'], 0], ['Organisme', ['ATMO GRAND EST']], ['code zas', ['FR44ZAG02']], ['Zas', ['ZAG METZ']], ['code site', ['FR01011']], ['nom site', ['Metz-Centre']], [\"type d'implantation\", ['Urbaine']], ['Polluant', ['NO']], [\"type d'influence\", ['Fond']], ['discriminant', ['A']], ['Réglementaire', ['Oui']], [\"type d'évaluation\", ['mesures fixes']], ['procédure de mesure', ['Auto NO Conf meth CHIMILU']], ['type de valeur', ['moyenne horaire validée']], ['valeur', [1.7, 1.4, 1.2, 1.5, 1.6], 0], ['unité de mesure', ['µg-m3']], ['taux de saisie', [-1]], ['couverture temporelle', [-1]], ['couverture de données', [-1]], ['code qualité', ['A']], ['validité', [1]]]\n"
     ]
    }
   ],
   "source": [
    "idxs=Ilist.ext(idxs2[0:5], idxs2.lname)\n",
    "print(idxs.to_obj())"
   ]
  },
  {
   "cell_type": "markdown",
   "metadata": {},
   "source": [
    "synthèse:\n",
    "\n",
    "1  fichier  : full  14.4, def  3.8, opt 0.9 cbor 0.3 dic 7.5    500     \n",
    "3  fichiers : full  43.1, def 11.5, opt 2.5 cbor 1.3 dic 23.7   500    \n",
    "5  fichiers : full  71.9, def 19.3, opt 4.1 cbor 2.1 dic 41.1   500    \n",
    "10 fichiers : full 143.7, def 39.0, opt 8.2 cbor 4.0 dic 84.5   500         493 225 lignes"
   ]
  },
  {
   "cell_type": "code",
   "execution_count": 20,
   "metadata": {},
   "outputs": [
    {
     "name": "stdout",
     "output_type": "stream",
     "text": [
      "63b763bf29a458ea8438f8ee\n"
     ]
    },
    {
     "data": {
      "text/plain": [
       "\"# définition du critère de recheche de l'objet 'tarif'\\ncritere_tarif = {'path':'name', 'operand': 'example_tarif', 'comparator': '=='}\\n\\n# vérification que l'objet récupéré (tarif_complet remis au format Ilist) est bien identique à celui envoyé\\ntarif_complet = ESSearch(critere_tarif, collec).execute(single=True)\\nprint(Ilist(tarif_complet) == tarif)\\n\\n#ajout d'un critère supplémentaire pour ne cherche que la partie de 'tarif' qui concerne les aliments de type 'legume'\\ntarif_legume = ESSearch([['aliment', 'legume'], critere_tarif], collec).execute(single=True)\\nprint(Ilist(tarif_legume))\""
      ]
     },
     "execution_count": 20,
     "metadata": {},
     "output_type": "execute_result"
    }
   ],
   "source": [
    "from test_mongo import clientMongo\n",
    "from observation import Observation, ESSearch\n",
    "\n",
    "collec = clientMongo()['air_quality']['lcsqa']\n",
    "\n",
    "# envoi de l'objet 'idxs' (l'objet Observation ajoute des méta-donnnées à l'objet Ilist) dans une base mongoDB\n",
    "json_lcsqa = Observation(idxs, name='01/01/2022').json(modecodec='dict')\n",
    "print(collec.insert_one(json_lcsqa).inserted_id)\n",
    "\n",
    "'''# définition du critère de recheche de l'objet 'tarif'\n",
    "critere_tarif = {'path':'name', 'operand': 'example_tarif', 'comparator': '=='}\n",
    "\n",
    "# vérification que l'objet récupéré (tarif_complet remis au format Ilist) est bien identique à celui envoyé\n",
    "tarif_complet = ESSearch(critere_tarif, collec).execute(single=True)\n",
    "print(Ilist(tarif_complet) == tarif)\n",
    "\n",
    "#ajout d'un critère supplémentaire pour ne cherche que la partie de 'tarif' qui concerne les aliments de type 'legume'\n",
    "tarif_legume = ESSearch([['aliment', 'legume'], critere_tarif], collec).execute(single=True)\n",
    "print(Ilist(tarif_legume))'''"
   ]
  }
 ],
 "metadata": {
  "celltoolbar": "Format de la Cellule Texte Brut",
  "kernelspec": {
   "display_name": "Python 3 (ipykernel)",
   "language": "python",
   "name": "python3"
  },
  "language_info": {
   "codemirror_mode": {
    "name": "ipython",
    "version": 3
   },
   "file_extension": ".py",
   "mimetype": "text/x-python",
   "name": "python",
   "nbconvert_exporter": "python",
   "pygments_lexer": "ipython3",
   "version": "3.9.12"
  }
 },
 "nbformat": 4,
 "nbformat_minor": 4
}
