{
 "cells": [
  {
   "cell_type": "markdown",
   "metadata": {},
   "source": [
    "# Objet : Test opendata des données de qualité de l'air\n",
    "\n",
    "## Objectif\n",
    "\n",
    "- valider sur des cas réels l'outil de traitement des \"listes indexées\"\n",
    "- identifier les apports que pourraient avoir ce type d'outil\n",
    "\n",
    "## Résultats\n",
    "- interêt d'utiliser les outils Pandas\n",
    "- à compléter\n",
    "\n",
    "## Usages possibles \n",
    "- à compléter\n",
    "\n",
    "## Autres points\n",
    "- chargement sur MongoDB à tester\n",
    "- Outil de requète à tester\n",
    "\n",
    "données utilisées : https://files.data.gouv.fr/lcsqa/concentrations-de-polluants-atmospheriques-reglementes/temps-reel/2022/"
   ]
  },
  {
   "cell_type": "markdown",
   "metadata": {},
   "source": [
    "------\n",
    "## Initialisation\n",
    "- lecture des fichiers de 01/2022 issus de l'api (un fichier par jour)"
   ]
  },
  {
   "cell_type": "code",
   "execution_count": 1,
   "metadata": {
    "scrolled": false
   },
   "outputs": [],
   "source": [
    "from pprint import pprint\n",
    "from collections import Counter\n",
    "from time import time\n",
    "import csv\n",
    "from util import util\n",
    "from observation import Ilist, Iindex\n",
    "from copy import copy\n",
    "import pandas as pd\n",
    "\n",
    "chemin = 'https://raw.githubusercontent.com/loco-philippe/Environmental-Sensing/main/python/Validation/air/data_lcsqa/'"
   ]
  },
  {
   "cell_type": "code",
   "execution_count": 2,
   "metadata": {
    "scrolled": true
   },
   "outputs": [
    {
     "name": "stdout",
     "output_type": "stream",
     "text": [
      "data2 : \n",
      " 49392 \n",
      " ['Date de début', 'Date de fin', 'Organisme', 'code zas', 'Zas', 'code site', 'nom site', \"type d'implantation\", 'Polluant', \"type d'influence\", 'discriminant', 'Réglementaire', \"type d'évaluation\", 'procédure de mesure', 'type de valeur', 'valeur', 'unité de mesure', 'taux de saisie', 'couverture temporelle', 'couverture de données', 'code qualité', 'validité'] \n",
      " 7.683923244476318\n"
     ]
    }
   ],
   "source": [
    "\n",
    "data = []\n",
    "t0 = time()\n",
    "nb_fichiers = 1\n",
    "annee = 2022\n",
    "mois = 1\n",
    "jour = 1\n",
    "for i in range(nb_fichiers):\n",
    "    file = chemin + 'FR_E2_' + str(annee) + '-' + format(mois, '02d') +'-' + format(jour+i, '02d') +'.csv'\n",
    "    data.append(pd.read_csv(file, sep=';'))\n",
    "data2 = pd.concat(data, ignore_index=True, join='inner').astype('category')\n",
    "data2.pop('valeur brute')\n",
    "print('data2 : \\n', len(data2), '\\n', list(data2), '\\n', time()-t0)\n"
   ]
  },
  {
   "cell_type": "markdown",
   "metadata": {},
   "source": [
    "----\n",
    "## initialisation de l'objet Ilist\n",
    "- l'initialisation pourrait être automatisée à partir du fichier csv\n",
    "- identification de 64 775 valeurs différentes sur un total de 11 163 x 49 valeurs (\"taux d'unicité\" de 12%)\n",
    "- la taille minimale serait de 1,4 Mo (données csv \"quotées\") pour un maximum de 9,6 Mo (données csv \"quotées\")"
   ]
  },
  {
   "cell_type": "code",
   "execution_count": 4,
   "metadata": {
    "scrolled": true
   },
   "outputs": [
    {
     "name": "stdout",
     "output_type": "stream",
     "text": [
      "idxs (len, lenlidx, sumcodec) :  49392 22 3344 3.465939521789551\n",
      "True\n"
     ]
    }
   ],
   "source": [
    "t0=time()\n",
    "idxs2 = Ilist.obj(data2)\n",
    "print('idxs (len, lenlidx, sumcodec) : ', len(idxs2), len(idxs2.idxlen), sum(idxs2.idxlen), time()-t0)\n",
    "#idxs2.setvar('valeur')\n",
    "idxs3 = Ilist(idxs2)\n",
    "print(idxs3 == idxs2)"
   ]
  },
  {
   "cell_type": "code",
   "execution_count": 12,
   "metadata": {},
   "outputs": [
    {
     "name": "stdout",
     "output_type": "stream",
     "text": [
      "{'Date de début': 'secondary', 'Date de fin': 'coupled', 'Organisme': 'secondary', 'code zas': 'secondary', 'Zas': 'coupled', 'code site': 'secondary', 'nom site': 'secondary', \"type d'implantation\": 'secondary', 'Polluant': 'secondary', \"type d'influence\": 'secondary', 'discriminant': 'secondary', 'Réglementaire': 'unique', \"type d'évaluation\": 'secondary', 'procédure de mesure': 'secondary', 'type de valeur': 'unique', 'valeur': 'secondary', 'unité de mesure': 'secondary', 'taux de saisie': 'unique', 'couverture temporelle': 'unique', 'couverture de données': 'unique', 'code qualité': 'secondary', 'validité': 'secondary'} \n",
      "\n",
      "-1: root-derived (49392)\n",
      "   0 : Date de début (24)\n",
      "      1 : Date de fin (24)\n",
      "   5 : code site (532)\n",
      "      2 : Organisme (18)\n",
      "      3 : code zas (70)\n",
      "         4 : Zas (70)\n",
      "      7 : type d implantation (5)\n",
      "   6 : nom site (532)\n",
      "   8 : Polluant (9)\n",
      "   9 : type d influence (3)\n",
      "   10: discriminant (26)\n",
      "   11: Réglementaire (1)\n",
      "   12: type d évaluation (4)\n",
      "   13: procédure de mesure (58)\n",
      "   14: type de valeur (1)\n",
      "   15: valeur (1956)\n",
      "   16: unité de mesure (3)\n",
      "   17: taux de saisie (1)\n",
      "   18: couverture temporelle (1)\n",
      "   19: couverture de données (1)\n",
      "   20: code qualité (3)\n",
      "      21: validité (2) \n",
      "\n",
      "-1: root-distance (49392)\n",
      "   15: valeur (47436 - 1956)\n",
      "      6 : nom site (37277 - 532)\n",
      "         5 : code site (2 - 532)\n",
      "            3 : code zas (462 - 70)\n",
      "               2 : Organisme (53 - 18)\n",
      "               4 : Zas (0 - 70)\n",
      "               13: procédure de mesure (473 - 58)\n",
      "                  8 : Polluant (73 - 9)\n",
      "                     7 : type d implantation (33 - 5)\n",
      "                        12: type d évaluation (12 - 4)\n",
      "                           16: unité de mesure (6 - 3)\n",
      "                              9 : type d influence (6 - 3)\n",
      "                                 20: code qualité (6 - 3)\n",
      "                                    21: validité (1 - 2)\n",
      "                                       19: couverture de données (1 - 1)\n",
      "                                          18: couverture temporelle (0 - 1)\n",
      "                                             17: taux de saisie (0 - 1)\n",
      "                                                14: type de valeur (0 - 1)\n",
      "                                                   11: Réglementaire (0 - 1)\n",
      "                  10: discriminant (235 - 26)\n",
      "                     0 : Date de début (600 - 24)\n",
      "                        1 : Date de fin (0 - 24)\n",
      "0.05172920227050781\n"
     ]
    }
   ],
   "source": [
    "t0=time()\n",
    "print(idxs2.category, '\\n')\n",
    "print(idxs2.tree(), '\\n')\n",
    "print(idxs2.tree(mode='distance'))\n",
    "print(time()-t0)"
   ]
  },
  {
   "cell_type": "markdown",
   "metadata": {},
   "source": [
    "## formats de base"
   ]
  },
  {
   "cell_type": "code",
   "execution_count": 8,
   "metadata": {
    "scrolled": true
   },
   "outputs": [
    {
     "name": "stdout",
     "output_type": "stream",
     "text": [
      "fullsize 14395519 2.608529567718506\n"
     ]
    }
   ],
   "source": [
    "t0=time()\n",
    "js = idxs2.to_obj(encoded=True, modecodec='full')\n",
    "fullsize = len(js)\n",
    "print('fullsize', len(js), time()-t0)"
   ]
  },
  {
   "cell_type": "code",
   "execution_count": 9,
   "metadata": {},
   "outputs": [
    {
     "name": "stdout",
     "output_type": "stream",
     "text": [
      "new 49392 12.371837854385376\n",
      "controle égalité : True 0.3399074077606201\n"
     ]
    }
   ],
   "source": [
    "t0=time()\n",
    "new = Ilist.from_obj(js)\n",
    "print('new', len(new), time()-t0)\n",
    "t0=time()\n",
    "verif = new == idxs2\n",
    "print('controle égalité :', verif, time()-t0)"
   ]
  },
  {
   "cell_type": "code",
   "execution_count": 10,
   "metadata": {},
   "outputs": [
    {
     "name": "stdout",
     "output_type": "stream",
     "text": [
      "minsize 34210 0.010066986083984375\n",
      "mincborsize 32923 0.0\n"
     ]
    }
   ],
   "source": [
    "t0=time()\n",
    "js = idxs2.to_obj(encoded=True, modecodec='nokeys')\n",
    "minsize = len(js)\n",
    "print('minsize', len(js), time()-t0)\n",
    "\n",
    "t0=time()\n",
    "js = idxs2.to_obj(encoded=True, encode_format='cbor', modecodec='nokeys')\n",
    "print('mincborsize', len(js), time()-t0)\n"
   ]
  },
  {
   "cell_type": "markdown",
   "metadata": {},
   "source": [
    "----\n",
    "## format default\n",
    "- "
   ]
  },
  {
   "cell_type": "code",
   "execution_count": 25,
   "metadata": {
    "scrolled": false
   },
   "outputs": [
    {
     "name": "stdout",
     "output_type": "stream",
     "text": [
      "defaultsize :  4160319 0.24941802024841309 \n",
      "\n",
      "indicator default :  {'total values': 1136016, 'mean size': 12.672, 'unique values': 50802, 'mean coding size': 3.24, 'unicity level': 0.045, 'optimize level': 0.289, 'object lightness': 0.256, 'maxgain': 0.955, 'gain': 0.711} \n",
      "\n",
      "{'diff': 508,\n",
      " 'dist': 12768,\n",
      " 'distance': 12744,\n",
      " 'distmax': 12768,\n",
      " 'distmin': 532,\n",
      " 'distrate': 1.0,\n",
      " 'disttomax': 0,\n",
      " 'disttomin': 12236,\n",
      " 'rate': 1.0,\n",
      " 'typecoupl': 'crossed'}\n",
      "\n",
      " -1: root-diff (49392)\n",
      "   0 : valeur (1.00e+00 - 49392)\n",
      "      1 : Date de début (0.00e+00 - 24)\n",
      "         15: Date de fin (0.00e+00 - 24)\n",
      "      2 : Organisme (0.00e+00 - 18)\n",
      "      3 : code zas (0.00e+00 - 70)\n",
      "         16: Zas (0.00e+00 - 70)\n",
      "      4 : code site (0.00e+00 - 532)\n",
      "      5 : nom site (0.00e+00 - 532)\n",
      "      6 : type d implantation (0.00e+00 - 5)\n",
      "      7 : Polluant (0.00e+00 - 9)\n",
      "      8 : type d influence (0.00e+00 - 3)\n",
      "      9 : discriminant (0.00e+00 - 26)\n",
      "      10: type d évaluation (0.00e+00 - 4)\n",
      "      11: procédure de mesure (0.00e+00 - 58)\n",
      "      12: unité de mesure (0.00e+00 - 3)\n",
      "      13: code qualité (0.00e+00 - 3)\n",
      "      14: validité (0.00e+00 - 2)\n",
      "   17: Réglementaire (0.00e+00 - 1)\n",
      "   18: type de valeur (0.00e+00 - 1)\n",
      "   19: taux de saisie (0.00e+00 - 1)\n",
      "   20: couverture temporelle (0.00e+00 - 1)\n",
      "   21: couverture de données (0.00e+00 - 1)\n",
      "\n",
      "analyse :  0.03131508827209473\n"
     ]
    }
   ],
   "source": [
    "champ = idxs2.nindex\n",
    "'''champ('valeur').tostdcodec(inplace=True)\n",
    "idxs2.setcanonorder()\n",
    "pprint(idxs2.category)'''\n",
    "t0=time()\n",
    "js = idxs2.to_obj(encoded=True, modecodec='default')\n",
    "defaultsize = len(js)\n",
    "print('defaultsize : ', len(js), time()-t0, '\\n')\n",
    "print('indicator default : ', idxs2.indicator(fullsize, defaultsize), '\\n')\n",
    "\n",
    "t0=time()\n",
    "pprint(champ('code site').couplinginfos(champ('Date de début')))\n",
    "print('\\n', idxs2.tree(mode='diff'))\n",
    "print('\\nanalyse : ', time()-t0)"
   ]
  },
  {
   "cell_type": "code",
   "execution_count": 26,
   "metadata": {},
   "outputs": [],
   "source": [
    "idxs4 = copy(idxs2)\n",
    "champ = idxs4.nindex"
   ]
  },
  {
   "cell_type": "code",
   "execution_count": 47,
   "metadata": {},
   "outputs": [
    {
     "name": "stdout",
     "output_type": "stream",
     "text": [
      "['valeur', 'Date de début', 'Organisme', 'code zas', 'code site', 'nom site', \"type d'implantation\", 'Polluant', \"type d'influence\", 'discriminant', \"type d'évaluation\", 'procédure de mesure', 'unité de mesure', 'code qualité', 'validité', 'Date de fin', 'Zas', 'Réglementaire', 'type de valeur', 'taux de saisie', 'couverture temporelle', 'couverture de données']\n"
     ]
    }
   ],
   "source": [
    "print(idxs2.lname)"
   ]
  },
  {
   "cell_type": "code",
   "execution_count": 45,
   "metadata": {
    "scrolled": true
   },
   "outputs": [
    {
     "ename": "AttributeError",
     "evalue": "'Ilist' object has no attribute 'indexname'",
     "output_type": "error",
     "traceback": [
      "\u001b[1;31m---------------------------------------------------------------------------\u001b[0m",
      "\u001b[1;31mAttributeError\u001b[0m                            Traceback (most recent call last)",
      "\u001b[1;32m~\\AppData\\Local\\Temp\\ipykernel_11336\\2027314457.py\u001b[0m in \u001b[0;36m<module>\u001b[1;34m\u001b[0m\n\u001b[1;32m----> 1\u001b[1;33m \u001b[0mprint\u001b[0m\u001b[1;33m(\u001b[0m\u001b[0midxs2\u001b[0m\u001b[1;33m.\u001b[0m\u001b[0manalysis\u001b[0m\u001b[1;33m.\u001b[0m\u001b[0mgetmatrix\u001b[0m\u001b[1;33m(\u001b[0m\u001b[1;33m[\u001b[0m\u001b[1;34m'Polluant'\u001b[0m\u001b[1;33m,\u001b[0m \u001b[1;34m'unité de mesure'\u001b[0m\u001b[1;33m]\u001b[0m\u001b[1;33m)\u001b[0m\u001b[1;33m)\u001b[0m\u001b[1;33m\u001b[0m\u001b[1;33m\u001b[0m\u001b[0m\n\u001b[0m\u001b[0;32m      2\u001b[0m \u001b[0mnotcoupl\u001b[0m \u001b[1;33m=\u001b[0m \u001b[0mchamp\u001b[0m\u001b[1;33m(\u001b[0m\u001b[1;34m'Polluant'\u001b[0m\u001b[1;33m)\u001b[0m\u001b[1;33m.\u001b[0m\u001b[0mcoupling\u001b[0m\u001b[1;33m(\u001b[0m\u001b[0mchamp\u001b[0m\u001b[1;33m(\u001b[0m\u001b[1;34m'unité de mesure'\u001b[0m\u001b[1;33m)\u001b[0m\u001b[1;33m,\u001b[0m \u001b[0mderived\u001b[0m\u001b[1;33m=\u001b[0m\u001b[1;32mTrue\u001b[0m\u001b[1;33m)\u001b[0m\u001b[1;33m\u001b[0m\u001b[1;33m\u001b[0m\u001b[0m\n\u001b[0;32m      3\u001b[0m \u001b[0mprint\u001b[0m\u001b[1;33m(\u001b[0m\u001b[1;34m'nombre de non couplés : '\u001b[0m\u001b[1;33m,\u001b[0m \u001b[0mlen\u001b[0m\u001b[1;33m(\u001b[0m\u001b[0mnotcoupl\u001b[0m\u001b[1;33m)\u001b[0m\u001b[1;33m)\u001b[0m\u001b[1;33m\u001b[0m\u001b[1;33m\u001b[0m\u001b[0m\n\u001b[0;32m      4\u001b[0m \u001b[0mprint\u001b[0m\u001b[1;33m(\u001b[0m\u001b[1;34m'\\nliste des premières incohérences : '\u001b[0m\u001b[1;33m)\u001b[0m\u001b[1;33m\u001b[0m\u001b[1;33m\u001b[0m\u001b[0m\n\u001b[0;32m      5\u001b[0m \u001b[0mliste\u001b[0m \u001b[1;33m=\u001b[0m \u001b[1;33m[\u001b[0m\u001b[1;33m(\u001b[0m\u001b[0mchamp\u001b[0m\u001b[1;33m(\u001b[0m\u001b[1;34m'Polluant'\u001b[0m\u001b[1;33m)\u001b[0m\u001b[1;33m[\u001b[0m\u001b[0mi\u001b[0m\u001b[1;33m]\u001b[0m\u001b[1;33m,\u001b[0m \u001b[0mchamp\u001b[0m\u001b[1;33m(\u001b[0m\u001b[1;34m'unité de mesure'\u001b[0m\u001b[1;33m)\u001b[0m\u001b[1;33m[\u001b[0m\u001b[0mi\u001b[0m\u001b[1;33m]\u001b[0m\u001b[1;33m)\u001b[0m \u001b[1;32mfor\u001b[0m \u001b[0mi\u001b[0m \u001b[1;32min\u001b[0m \u001b[0mnotcoupl\u001b[0m\u001b[1;33m[\u001b[0m\u001b[1;33m:\u001b[0m\u001b[1;36m2000\u001b[0m\u001b[1;33m]\u001b[0m\u001b[1;33m]\u001b[0m\u001b[1;33m\u001b[0m\u001b[1;33m\u001b[0m\u001b[0m\n",
      "\u001b[1;32m~\\OneDrive - Alliance\\perso Wx\\ES standard\\Environnemental-Sensing\\python\\observation\\ilist_analysis.py\u001b[0m in \u001b[0;36mgetmatrix\u001b[1;34m(self, name)\u001b[0m\n\u001b[0;32m    127\u001b[0m         \u001b[1;32mif\u001b[0m \u001b[1;32mnot\u001b[0m \u001b[0mname\u001b[0m \u001b[1;32mor\u001b[0m \u001b[1;32mnot\u001b[0m \u001b[0misinstance\u001b[0m\u001b[1;33m(\u001b[0m\u001b[0mname\u001b[0m\u001b[1;33m,\u001b[0m \u001b[0mlist\u001b[0m\u001b[1;33m)\u001b[0m\u001b[1;33m:\u001b[0m\u001b[1;33m\u001b[0m\u001b[1;33m\u001b[0m\u001b[0m\n\u001b[0;32m    128\u001b[0m             \u001b[1;32mreturn\u001b[0m \u001b[0mself\u001b[0m\u001b[1;33m.\u001b[0m\u001b[0mmatrix\u001b[0m\u001b[1;33m\u001b[0m\u001b[1;33m\u001b[0m\u001b[0m\n\u001b[1;32m--> 129\u001b[1;33m         \u001b[1;32mif\u001b[0m \u001b[0mname\u001b[0m\u001b[1;33m[\u001b[0m\u001b[1;36m0\u001b[0m\u001b[1;33m]\u001b[0m \u001b[1;32min\u001b[0m \u001b[0mself\u001b[0m\u001b[1;33m.\u001b[0m\u001b[0miobj\u001b[0m\u001b[1;33m.\u001b[0m\u001b[0mindexname\u001b[0m\u001b[1;33m:\u001b[0m\u001b[1;33m\u001b[0m\u001b[1;33m\u001b[0m\u001b[0m\n\u001b[0m\u001b[0;32m    130\u001b[0m             \u001b[0mind0\u001b[0m \u001b[1;33m=\u001b[0m \u001b[0mself\u001b[0m\u001b[1;33m.\u001b[0m\u001b[0miobj\u001b[0m\u001b[1;33m.\u001b[0m\u001b[0mindexname\u001b[0m\u001b[1;33m.\u001b[0m\u001b[0mindex\u001b[0m\u001b[1;33m(\u001b[0m\u001b[0mname\u001b[0m\u001b[1;33m[\u001b[0m\u001b[1;36m0\u001b[0m\u001b[1;33m]\u001b[0m\u001b[1;33m)\u001b[0m\u001b[1;33m\u001b[0m\u001b[1;33m\u001b[0m\u001b[0m\n\u001b[0;32m    131\u001b[0m             \u001b[1;32mif\u001b[0m \u001b[0mlen\u001b[0m\u001b[1;33m(\u001b[0m\u001b[0mname\u001b[0m\u001b[1;33m)\u001b[0m \u001b[1;33m==\u001b[0m \u001b[1;36m1\u001b[0m\u001b[1;33m:\u001b[0m\u001b[1;33m\u001b[0m\u001b[1;33m\u001b[0m\u001b[0m\n",
      "\u001b[1;31mAttributeError\u001b[0m: 'Ilist' object has no attribute 'indexname'"
     ]
    }
   ],
   "source": [
    "print(idxs2.analysis.getmatrix(['Polluant', 'unité de mesure']))\n",
    "notcoupl = champ('Polluant').coupling(champ('unité de mesure'), derived=True)\n",
    "print('nombre de non couplés : ', len(notcoupl))\n",
    "print('\\nliste des premières incohérences : ')\n",
    "liste = [(champ('Polluant')[i], champ('unité de mesure')[i]) for i in notcoupl[:2000]]\n",
    "print('liste')\n",
    "#liste = []\n",
    "#for i in range(6000): liste.append((champ('Polluant')[notcoupl[i]], champ('unité de mesure')[notcoupl[i]]))\n",
    "pprint(set(liste), width=120)"
   ]
  },
  {
   "cell_type": "code",
   "execution_count": 11,
   "metadata": {},
   "outputs": [
    {
     "name": "stdout",
     "output_type": "stream",
     "text": [
      "{'lencoupling': 534, 'distrate': 7.079846508927687e-06, 'disttomin': 2, 'disttomax': 282490, 'distmin': 532, 'distmax': 283024, 'diff': 0, 'typecoupl': 'link'}\n",
      "nombre de non couplés :  168\n",
      "\n",
      "liste des premières incohérences : \n",
      "{('FR19053', 'QUIMPER ZOLA'), ('FR19053', 'Quimper Zola'), ('FR19007', 'HALLES'), ('FR19007', 'Rennes Les Halles')}\n"
     ]
    }
   ],
   "source": [
    "print(idxs2.analysis.getmatrix(['code site', 'nom site']))\n",
    "notcoupl = champ('code site').coupling(champ('nom site'), derived=False)\n",
    "print('nombre de non couplés : ', len(notcoupl))\n",
    "print('\\nliste des premières incohérences : ')\n",
    "liste = []\n",
    "for i in range(len(notcoupl)): liste.append((champ('code site')[notcoupl[i]], champ('nom site')[notcoupl[i]]))\n",
    "pprint(set(liste), width=120)"
   ]
  },
  {
   "cell_type": "code",
   "execution_count": 12,
   "metadata": {},
   "outputs": [
    {
     "name": "stdout",
     "output_type": "stream",
     "text": [
      "{'lencoupling': 534, 'distrate': 7.079846508927687e-06, 'disttomin': 2, 'disttomax': 282490, 'distmin': 532, 'distmax': 283024, 'diff': 0, 'typecoupl': 'link'}\n",
      "nombre de non couplés :  384\n",
      "\n",
      "liste des premières incohérences : \n",
      "{('FR23078', 'SAINT EXUPERY'), ('FR20048', 'SAINT EXUPERY'), ('FR33101', 'PASTEUR'), ('FR23004', 'PASTEUR')}\n"
     ]
    }
   ],
   "source": [
    "print(idxs2.analysis.getmatrix(['code site', 'nom site']))\n",
    "champ = idxs2.nindex \n",
    "notcoupl = champ('nom site').coupling(champ('code site'), derived=False)\n",
    "print('nombre de non couplés : ', len(notcoupl))\n",
    "print('\\nliste des premières incohérences : ')\n",
    "liste = []\n",
    "for i in range(len(notcoupl)): liste.append((champ('code site')[notcoupl[i]], champ('nom site')[notcoupl[i]]))\n",
    "pprint(set(liste), width=120)"
   ]
  },
  {
   "cell_type": "code",
   "execution_count": 13,
   "metadata": {},
   "outputs": [
    {
     "name": "stdout",
     "output_type": "stream",
     "text": [
      "new 49392 0.6975090503692627\n",
      "True\n",
      "controle égalité : True 0.31943821907043457\n"
     ]
    }
   ],
   "source": [
    "t0=time()\n",
    "new = Ilist.from_obj(js)\n",
    "print('new', len(new), time()-t0)\n",
    "print(idxs3 == idxs2)\n",
    "t0=time()\n",
    "verif = new == idxs2\n",
    "print('controle égalité :', verif, time()-t0)"
   ]
  },
  {
   "cell_type": "markdown",
   "metadata": {},
   "source": [
    "----\n",
    "## Format optimisé\n",
    "- "
   ]
  },
  {
   "cell_type": "code",
   "execution_count": 44,
   "metadata": {
    "scrolled": false
   },
   "outputs": [
    {
     "name": "stdout",
     "output_type": "stream",
     "text": [
      "-1: root-derived (49392)\n",
      "   0 : valeur (1956)\n",
      "   1 : Date de début (24)\n",
      "      15: Date de fin (24)\n",
      "   4 : code site (2616)\n",
      "      3 : code zas (2143)\n",
      "         2 : Organisme (18)\n",
      "         11: procédure de mesure (1299)\n",
      "            7 : Polluant (310)\n",
      "               6 : type d implantation (101)\n",
      "                  10: type d évaluation (49)\n",
      "                     12: unité de mesure (21)\n",
      "                        8 : type d influence (9)\n",
      "                           13: code qualité (3)\n",
      "                              14: validité (2)\n",
      "            9 : discriminant (26)\n",
      "         16: Zas (70)\n",
      "      5 : nom site (2616)\n",
      "   17: Réglementaire (1)\n",
      "   18: type de valeur (1)\n",
      "   19: taux de saisie (1)\n",
      "   20: couverture temporelle (1)\n",
      "   21: couverture de données (1)\n",
      "optimizesize :  932595 0.3838505744934082 \n",
      "\n",
      "indicator optimize :  {'total values': 1136016, 'mean size': 12.672, 'unique values': 50802, 'mean coding size': 0.266, 'unicity level': 0.045, 'optimize level': 0.065, 'object lightness': 0.021, 'maxgain': 0.955, 'gain': 0.935} \n",
      "\n",
      "cborsize :  489825 0.3507716655731201 \n",
      "\n",
      "indicator cbor :  {'total values': 1136016, 'mean size': 12.672, 'unique values': 50802, 'mean coding size': -0.142, 'unicity level': 0.045, 'optimize level': 0.034, 'object lightness': -0.011, 'maxgain': 0.955, 'gain': 0.966}\n"
     ]
    }
   ],
   "source": [
    "idxs4.reindex()\n",
    "idxs4.coupling(param='distance', level=500)\n",
    "print(idxs4.tree())\n",
    "t0=time()\n",
    "js = idxs4.to_obj(modecodec='optimize', encoded=True)\n",
    "optimizesize = len(js)\n",
    "print('optimizesize : ', optimizesize, time()-t0, '\\n')\n",
    "print('indicator optimize : ', idxs2.indicator(fullsize, optimizesize), '\\n')\n",
    "\n",
    "t0=time()\n",
    "js = idxs4.to_obj(encoded=True, modecodec='optimize', encode_format='cbor')\n",
    "cborsize = len(js)\n",
    "print('cborsize : ', cborsize, time()-t0, '\\n')\n",
    "print('indicator cbor : ', idxs2.indicator(fullsize, cborsize))"
   ]
  },
  {
   "cell_type": "code",
   "execution_count": 15,
   "metadata": {
    "scrolled": true
   },
   "outputs": [
    {
     "name": "stdout",
     "output_type": "stream",
     "text": [
      "new 49392 0.6772210597991943\n",
      "True\n",
      "controle égalité : True 0.33097004890441895\n"
     ]
    }
   ],
   "source": [
    "t0=time()\n",
    "new = Ilist.from_obj(js)\n",
    "print('new', len(new), time()-t0)\n",
    "print(idxs3 == idxs2)\n",
    "t0=time()\n",
    "verif = new == idxs2\n",
    "print('controle égalité :', verif, time()-t0)"
   ]
  },
  {
   "cell_type": "markdown",
   "metadata": {},
   "source": [
    "----\n",
    "## Format BD\n",
    "- "
   ]
  },
  {
   "cell_type": "code",
   "execution_count": 16,
   "metadata": {
    "scrolled": false
   },
   "outputs": [
    {
     "name": "stdout",
     "output_type": "stream",
     "text": [
      "dictsize :  7471841 0.9489867687225342 \n",
      "\n",
      "indicator dict :  {'init values': 1086624, 'mean size': 13.248, 'unique values': 1413, 'mean coding size': 6.868, 'unicity level': 0.001, 'object lightness': 0.518, 'gain': 0.481} \n",
      "\n"
     ]
    }
   ],
   "source": [
    "t0=time()\n",
    "js = idxs2.to_obj(modecodec='dict', encoded=True)\n",
    "dictsize = len(js)\n",
    "print('dictsize : ', dictsize, time()-t0, '\\n')\n",
    "print('indicator dict : ', idxs2.indicator(fullsize, dictsize), '\\n')"
   ]
  },
  {
   "cell_type": "code",
   "execution_count": 17,
   "metadata": {
    "scrolled": true
   },
   "outputs": [
    {
     "name": "stdout",
     "output_type": "stream",
     "text": [
      "new 49392 0.9998903274536133\n",
      "True\n",
      "controle égalité : True 0.34736156463623047\n"
     ]
    }
   ],
   "source": [
    "t0=time()\n",
    "new = Ilist.from_obj(js)\n",
    "print('new', len(new), time()-t0)\n",
    "print(idxs3 == idxs2)\n",
    "t0=time()\n",
    "verif = new == idxs2\n",
    "print('controle égalité :', verif, time()-t0)"
   ]
  }
 ],
 "metadata": {
  "celltoolbar": "Format de la Cellule Texte Brut",
  "kernelspec": {
   "display_name": "Python 3 (ipykernel)",
   "language": "python",
   "name": "python3"
  },
  "language_info": {
   "codemirror_mode": {
    "name": "ipython",
    "version": 3
   },
   "file_extension": ".py",
   "mimetype": "text/x-python",
   "name": "python",
   "nbconvert_exporter": "python",
   "pygments_lexer": "ipython3",
   "version": "3.9.12"
  }
 },
 "nbformat": 4,
 "nbformat_minor": 4
}
