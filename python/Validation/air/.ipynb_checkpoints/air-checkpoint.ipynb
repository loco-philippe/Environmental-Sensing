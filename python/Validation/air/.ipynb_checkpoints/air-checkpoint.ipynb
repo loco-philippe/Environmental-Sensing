{
 "cells": [
  {
   "cell_type": "markdown",
   "metadata": {},
   "source": [
    "# Objet : Test opendata des données de qualité de l'air\n",
    "\n",
    "## Objectif\n",
    "\n",
    "- valider sur des cas réels l'outil de traitement des \"listes indexées\"\n",
    "- identifier les apports que pourraient avoir ce type d'outil\n",
    "\n",
    "## Résultats\n",
    "- interêt d'utiliser les outils Pandas\n",
    "- à compléter\n",
    "\n",
    "## Usages possibles \n",
    "- à compléter\n",
    "\n",
    "## Autres points\n",
    "- chargement sur MongoDB à tester\n",
    "- Outil de requète à tester\n",
    "\n",
    "données utilisées : https://files.data.gouv.fr/lcsqa/concentrations-de-polluants-atmospheriques-reglementes/temps-reel/2022/"
   ]
  },
  {
   "cell_type": "markdown",
   "metadata": {},
   "source": [
    "------\n",
    "## Initialisation\n",
    "- lecture des fichiers de 01/2022 issus de l'api (un fichier par jour)"
   ]
  },
  {
   "cell_type": "code",
   "execution_count": 1,
   "metadata": {
    "scrolled": false
   },
   "outputs": [],
   "source": [
    "from pprint import pprint\n",
    "from collections import Counter\n",
    "from time import time\n",
    "import csv\n",
    "import os\n",
    "#os.chdir('C:/Users/a179227/OneDrive - Alliance/perso Wx/ES standard/python ESstandard/ES')\n",
    "from util import util\n",
    "from observation import Ilist, Iindex\n",
    "from copy import copy\n",
    "import pandas as pd\n",
    "\n",
    "chemin = 'https://raw.githubusercontent.com/loco-philippe/Environmental-Sensing/main/python/Validation/air/data_lcsqa/'"
   ]
  },
  {
   "cell_type": "code",
   "execution_count": 15,
   "metadata": {},
   "outputs": [
    {
     "name": "stdout",
     "output_type": "stream",
     "text": [
      "data2 : \n",
      " 49392 \n",
      " ['Date de début', 'Date de fin', 'Organisme', 'code zas', 'Zas', 'code site', 'nom site', \"type d'implantation\", 'Polluant', \"type d'influence\", 'discriminant', 'Réglementaire', \"type d'évaluation\", 'procédure de mesure', 'type de valeur', 'valeur', 'unité de mesure', 'taux de saisie', 'couverture temporelle', 'couverture de données', 'code qualité', 'validité'] \n",
      " 3.9732325077056885\n"
     ]
    }
   ],
   "source": [
    "\n",
    "data = []\n",
    "t0 = time()\n",
    "nb_fichiers = 1\n",
    "annee = 2022\n",
    "mois = 1\n",
    "jour = 1\n",
    "for i in range(nb_fichiers):\n",
    "    file = chemin + 'FR_E2_' + str(annee) + '-' + format(mois, '02d') +'-' + format(jour+i, '02d') +'.csv'\n",
    "    data.append(pd.read_csv(file, sep=';'))\n",
    "data2 = pd.concat(data, ignore_index=True, join='inner').astype('category')\n",
    "data2.pop('valeur brute')\n",
    "print('data2 : \\n', len(data2), '\\n', list(data2), '\\n', time()-t0)\n"
   ]
  },
  {
   "cell_type": "markdown",
   "metadata": {},
   "source": [
    "----\n",
    "## initialisation de l'objet Ilist\n",
    "- l'initialisation pourrait être automatisée à partir du fichier csv\n",
    "- identification de 64 775 valeurs différentes sur un total de 11 163 x 49 valeurs (\"taux d'unicité\" de 12%)\n",
    "- la taille minimale serait de 1,4 Mo (données csv \"quotées\") pour un maximum de 9,6 Mo (données csv \"quotées\")"
   ]
  },
  {
   "cell_type": "code",
   "execution_count": 37,
   "metadata": {
    "scrolled": true
   },
   "outputs": [
    {
     "name": "stdout",
     "output_type": "stream",
     "text": [
      "idxs (len, lenlidx, sumcodec) :  49392 22 3344 0.843726396560669\n",
      "True\n"
     ]
    }
   ],
   "source": [
    "t0=time()\n",
    "idxs2 = Ilist.obj(data2)\n",
    "print('idxs (len, lenlidx, sumcodec) : ', len(idxs2), len(idxs2.idxlen), sum(idxs2.idxlen), time()-t0)\n",
    "idxs2.setvar('valeur')\n",
    "idxs3 = Ilist(idxs2)\n",
    "print(idxs3 == idxs2)"
   ]
  },
  {
   "cell_type": "markdown",
   "metadata": {},
   "source": [
    "## formats de base"
   ]
  },
  {
   "cell_type": "code",
   "execution_count": 38,
   "metadata": {
    "scrolled": true
   },
   "outputs": [
    {
     "name": "stdout",
     "output_type": "stream",
     "text": [
      "fullsize 14395523 4.743796110153198\n"
     ]
    }
   ],
   "source": [
    "t0=time()\n",
    "js = idxs2.to_obj(encoded=True, modecodec='full')\n",
    "fullsize = len(js)\n",
    "print('fullsize', len(js), time()-t0)"
   ]
  },
  {
   "cell_type": "code",
   "execution_count": 39,
   "metadata": {},
   "outputs": [
    {
     "name": "stdout",
     "output_type": "stream",
     "text": [
      "new 49392 18.871871948242188\n",
      "controle égalité : True 0.6411688327789307\n"
     ]
    }
   ],
   "source": [
    "t0=time()\n",
    "new = Ilist.from_obj(js)\n",
    "print('new', len(new), time()-t0)\n",
    "t0=time()\n",
    "verif = new == idxs2\n",
    "print('controle égalité :', verif, time()-t0)"
   ]
  },
  {
   "cell_type": "code",
   "execution_count": 40,
   "metadata": {},
   "outputs": [
    {
     "name": "stdout",
     "output_type": "stream",
     "text": [
      "minsize 302565 0.22206664085388184\n",
      "mincborsize 393572 0.21484732627868652\n"
     ]
    }
   ],
   "source": [
    "t0=time()\n",
    "js = idxs2.to_obj(encoded=True, modecodec='nokeys')\n",
    "minsize = len(js)\n",
    "print('minsize', len(js), time()-t0)\n",
    "\n",
    "t0=time()\n",
    "js = idxs2.to_obj(encoded=True, encode_format='cbor', modecodec='nokeys')\n",
    "print('mincborsize', len(js), time()-t0)\n"
   ]
  },
  {
   "cell_type": "markdown",
   "metadata": {},
   "source": [
    "----\n",
    "## format default\n",
    "- "
   ]
  },
  {
   "cell_type": "code",
   "execution_count": 41,
   "metadata": {
    "scrolled": false
   },
   "outputs": [
    {
     "name": "stdout",
     "output_type": "stream",
     "text": [
      "defaultsize :  3841287 0.4627699851989746 \n",
      "\n",
      "indicator default :  {'init values': 1086624, 'mean size': 13.248, 'unique values': 1409, 'mean coding size': 3.522, 'unicity level': 0.001, 'object lightness': 0.266, 'gain': 0.733} \n",
      "\n",
      "[{'lencodec': 24, 'name': 'Date de début', 'num': 0, 'parent': 0, 'typecoupl': 'crossed'},\n",
      " {'lencodec': 24, 'name': 'Date de fin', 'num': 1, 'parent': 0, 'typecoupl': 'coupled'},\n",
      " {'lencodec': 18, 'name': 'Organisme', 'num': 2, 'parent': 5, 'typecoupl': 'derived'},\n",
      " {'lencodec': 70, 'name': 'code zas', 'num': 3, 'parent': 5, 'typecoupl': 'derived'},\n",
      " {'lencodec': 70, 'name': 'Zas', 'num': 4, 'parent': 3, 'typecoupl': 'coupled'},\n",
      " {'lencodec': 532, 'name': 'code site', 'num': 5, 'parent': 0, 'typecoupl': 'crossed'},\n",
      " {'lencodec': 532, 'name': 'nom site', 'num': 6, 'parent': 5, 'typecoupl': 'linked'},\n",
      " {'lencodec': 5, 'name': \"type d'implantation\", 'num': 7, 'parent': 5, 'typecoupl': 'derived'},\n",
      " {'lencodec': 9, 'name': 'Polluant', 'num': 8, 'parent': 13, 'typecoupl': 'linked'},\n",
      " {'lencodec': 3, 'name': \"type d'influence\", 'num': 9, 'parent': 12, 'typecoupl': 'linked'},\n",
      " {'lencodec': 26, 'name': 'discriminant', 'num': 10, 'parent': 13, 'typecoupl': 'linked'},\n",
      " {'lencodec': 1, 'name': 'Réglementaire', 'num': 11, 'parent': 11, 'typecoupl': 'unique'},\n",
      " {'lencodec': 4, 'name': \"type d'évaluation\", 'num': 12, 'parent': 7, 'typecoupl': 'linked'},\n",
      " {'lencodec': 58, 'name': 'procédure de mesure', 'num': 13, 'parent': 3, 'typecoupl': 'linked'},\n",
      " {'lencodec': 1, 'name': 'type de valeur', 'num': 14, 'parent': 14, 'typecoupl': 'unique'},\n",
      " {'lencodec': 3, 'name': 'unité de mesure', 'num': 15, 'parent': 12, 'typecoupl': 'linked'},\n",
      " {'lencodec': 1, 'name': 'taux de saisie', 'num': 16, 'parent': 16, 'typecoupl': 'unique'},\n",
      " {'lencodec': 1, 'name': 'couverture temporelle', 'num': 17, 'parent': 17, 'typecoupl': 'unique'},\n",
      " {'lencodec': 1, 'name': 'couverture de données', 'num': 18, 'parent': 18, 'typecoupl': 'unique'},\n",
      " {'lencodec': 3, 'name': 'code qualité', 'num': 19, 'parent': 9, 'typecoupl': 'crossed'},\n",
      " {'lencodec': 2, 'name': 'validité', 'num': 20, 'parent': 19, 'typecoupl': 'derived'}]\n",
      "[{'linkrate': 1.0},\n",
      " {'linkrate': 0.0},\n",
      " {'linkrate': 0.0},\n",
      " {'linkrate': 0.0},\n",
      " {'linkrate': 0.0},\n",
      " {'linkrate': 1.0},\n",
      " {'linkrate': 0.0},\n",
      " {'linkrate': 0.0},\n",
      " {'linkrate': 0.05},\n",
      " {'linkrate': 0.75},\n",
      " {'linkrate': 0.14},\n",
      " {'linkrate': 0.0},\n",
      " {'linkrate': 0.73},\n",
      " {'linkrate': 0.12},\n",
      " {'linkrate': 0.0},\n",
      " {'linkrate': 0.62},\n",
      " {'linkrate': 0.0},\n",
      " {'linkrate': 0.0},\n",
      " {'linkrate': 0.0},\n",
      " {'linkrate': 1.0},\n",
      " {'linkrate': 0.0}]\n",
      "analyse :  4.132871866226196\n"
     ]
    }
   ],
   "source": [
    "t0=time()\n",
    "js = idxs2.to_obj(encoded=True, modecodec='default')\n",
    "defaultsize = len(js)\n",
    "print('defaultsize : ', len(js), time()-t0, '\\n')\n",
    "print('indicator default : ', idxs2.indicator(fullsize, defaultsize), '\\n')\n",
    "t0=time()\n",
    "pprint(idxs2.indexinfos(keys=['num', 'name', 'lencodec', 'parent', 'typecoupl']), width=120)\n",
    "pprint(idxs2.indexinfos(keys=['linkrate']))\n",
    "print('analyse : ', time()-t0)"
   ]
  },
  {
   "cell_type": "code",
   "execution_count": 52,
   "metadata": {},
   "outputs": [],
   "source": [
    "idxs4 = copy(idxs2)\n",
    "champ = idxs4.nindex\n",
    "\n"
   ]
  },
  {
   "cell_type": "code",
   "execution_count": 53,
   "metadata": {
    "scrolled": true
   },
   "outputs": [
    {
     "name": "stdout",
     "output_type": "stream",
     "text": [
      "{'lencoupling': 16, 'rate': 0.3888888888888889, 'disttomin': 7, 'disttomax': 11, 'distmin': 9, 'distmax': 27, 'diff': 6, 'typecoupl': 'link'}\n",
      "nombre de non couplés :  48840\n",
      "\n",
      "liste des premières incohérences : \n",
      "liste\n",
      "{('PM2.5', 'µg/m3'), ('PM2.5', 'µg-m3')}\n"
     ]
    }
   ],
   "source": [
    "print(idxs2.analysis.getmatrix(['Polluant', 'unité de mesure']))\n",
    "notcoupl = champ('Polluant').coupling(champ('unité de mesure'), derived=True)\n",
    "print('nombre de non couplés : ', len(notcoupl))\n",
    "print('\\nliste des premières incohérences : ')\n",
    "liste = [(champ('Polluant')[i], champ('unité de mesure')[i]) for i in notcoupl[:2000]]\n",
    "print('liste')\n",
    "#liste = []\n",
    "#for i in range(6000): liste.append((champ('Polluant')[notcoupl[i]], champ('unité de mesure')[notcoupl[i]]))\n",
    "pprint(set(liste), width=120)"
   ]
  },
  {
   "cell_type": "code",
   "execution_count": 28,
   "metadata": {},
   "outputs": [
    {
     "name": "stdout",
     "output_type": "stream",
     "text": [
      "{'lencoupling': 534, 'rate': 0.0, 'disttomin': 0, 'disttomax': 284622, 'distmin': 534, 'distmax': 285156, 'diff': 0, 'typecoupl': 'coupled'}\n",
      "nombre de non couplés :  168\n",
      "\n",
      "liste des premières incohérences : \n",
      "{('FR19007', 'HALLES'), ('FR19053', 'QUIMPER ZOLA'), ('FR19053', 'Quimper Zola'), ('FR19007', 'Rennes Les Halles')}\n"
     ]
    }
   ],
   "source": [
    "print(idxs2.analysis.getmatrix(['code site', 'nom site']))\n",
    "notcoupl = champ('code site').coupling(champ('nom site'), derived=False)\n",
    "print('nombre de non couplés : ', len(notcoupl))\n",
    "print('\\nliste des premières incohérences : ')\n",
    "liste = []\n",
    "for i in range(len(notcoupl)): liste.append((champ('code site')[notcoupl[i]], champ('nom site')[notcoupl[i]]))\n",
    "pprint(set(liste), width=120)"
   ]
  },
  {
   "cell_type": "code",
   "execution_count": 29,
   "metadata": {},
   "outputs": [
    {
     "name": "stdout",
     "output_type": "stream",
     "text": [
      "{'lencoupling': 534, 'rate': 0.0, 'disttomin': 0, 'disttomax': 284622, 'distmin': 534, 'distmax': 285156, 'diff': 0, 'typecoupl': 'coupled'}\n",
      "nombre de non couplés :  384\n",
      "\n",
      "liste des premières incohérences : \n",
      "{('FR20048', 'SAINT EXUPERY'), ('FR23004', 'PASTEUR'), ('FR33101', 'PASTEUR'), ('FR23078', 'SAINT EXUPERY')}\n"
     ]
    }
   ],
   "source": [
    "print(idxs2.analysis.getmatrix(['code site', 'nom site']))\n",
    "champ = idxs2.nindex \n",
    "notcoupl = champ('nom site').coupling(champ('code site'), derived=False)\n",
    "print('nombre de non couplés : ', len(notcoupl))\n",
    "print('\\nliste des premières incohérences : ')\n",
    "liste = []\n",
    "for i in range(len(notcoupl)): liste.append((champ('code site')[notcoupl[i]], champ('nom site')[notcoupl[i]]))\n",
    "pprint(set(liste), width=120)"
   ]
  },
  {
   "cell_type": "code",
   "execution_count": 21,
   "metadata": {},
   "outputs": [
    {
     "name": "stdout",
     "output_type": "stream",
     "text": [
      "new 49392 1.3752326965332031\n",
      "True\n",
      "controle égalité : True 0.6421430110931396\n"
     ]
    }
   ],
   "source": [
    "t0=time()\n",
    "new = Ilist.from_obj(js)\n",
    "print('new', len(new), time()-t0)\n",
    "print(idxs3 == idxs2)\n",
    "t0=time()\n",
    "verif = new == idxs2\n",
    "print('controle égalité :', verif, time()-t0)"
   ]
  },
  {
   "cell_type": "markdown",
   "metadata": {},
   "source": [
    "----\n",
    "## Format optimisé\n",
    "- "
   ]
  },
  {
   "cell_type": "code",
   "execution_count": 22,
   "metadata": {
    "scrolled": false
   },
   "outputs": [
    {
     "name": "stdout",
     "output_type": "stream",
     "text": [
      "optimizesize :  2082081 0.708590030670166 \n",
      "\n",
      "indicator optimize :  {'init values': 1086624, 'mean size': 13.248, 'unique values': 1409, 'mean coding size': 1.901, 'unicity level': 0.001, 'object lightness': 0.144, 'gain': 0.855} \n",
      "\n",
      "cborsize :  1066949 0.6317660808563232 \n",
      "\n",
      "indicator cbor :  {'init values': 1086624, 'mean size': 13.248, 'unique values': 1409, 'mean coding size': 0.966, 'unicity level': 0.001, 'object lightness': 0.073, 'gain': 0.926}\n"
     ]
    }
   ],
   "source": [
    "t0=time()\n",
    "js = idxs2.to_obj(modecodec='optimize', encoded=True)\n",
    "optimizesize = len(js)\n",
    "print('optimizesize : ', optimizesize, time()-t0, '\\n')\n",
    "print('indicator optimize : ', idxs2.indicator(fullsize, optimizesize), '\\n')\n",
    "t0=time()\n",
    "js = idxs2.to_obj(encoded=True, modecodec='optimize', encode_format='cbor')\n",
    "cborsize = len(js)\n",
    "print('cborsize : ', cborsize, time()-t0, '\\n')\n",
    "print('indicator cbor : ', idxs2.indicator(fullsize, cborsize))"
   ]
  },
  {
   "cell_type": "code",
   "execution_count": 23,
   "metadata": {
    "scrolled": true
   },
   "outputs": [
    {
     "name": "stdout",
     "output_type": "stream",
     "text": [
      "new 49392 1.2968769073486328\n",
      "True\n",
      "controle égalité : True 0.6662161350250244\n"
     ]
    }
   ],
   "source": [
    "t0=time()\n",
    "new = Ilist.from_obj(js)\n",
    "print('new', len(new), time()-t0)\n",
    "print(idxs3 == idxs2)\n",
    "t0=time()\n",
    "verif = new == idxs2\n",
    "print('controle égalité :', verif, time()-t0)"
   ]
  },
  {
   "cell_type": "markdown",
   "metadata": {},
   "source": [
    "----\n",
    "## Format BD\n",
    "- "
   ]
  },
  {
   "cell_type": "code",
   "execution_count": 11,
   "metadata": {
    "scrolled": false
   },
   "outputs": [
    {
     "name": "stdout",
     "output_type": "stream",
     "text": [
      "dictsize :  49784605 6.336913585662842 \n",
      "\n",
      "indicator dict :  {'init values': 6507754, 'mean size': 13.246, 'unique values': 1654, 'mean coding size': 7.649, 'unicity level': 0.0, 'object lightness': 0.577, 'gain': 0.422} \n",
      "\n"
     ]
    }
   ],
   "source": [
    "t0=time()\n",
    "js = idxs2.to_obj(modecodec='dict', encoded=True)\n",
    "dictsize = len(js)\n",
    "print('dictsize : ', dictsize, time()-t0, '\\n')\n",
    "print('indicator dict : ', idxs2.indicator(fullsize, dictsize), '\\n')"
   ]
  },
  {
   "cell_type": "code",
   "execution_count": 14,
   "metadata": {
    "scrolled": true
   },
   "outputs": [
    {
     "name": "stdout",
     "output_type": "stream",
     "text": [
      "new 295807 6.778273344039917\n",
      "True\n",
      "controle égalité : True 2.6191530227661133\n"
     ]
    }
   ],
   "source": [
    "t0=time()\n",
    "new = Ilist.from_obj(js)\n",
    "print('new', len(new), time()-t0)\n",
    "print(idxs3 == idxs2)\n",
    "t0=time()\n",
    "verif = new == idxs2\n",
    "print('controle égalité :', verif, time()-t0)"
   ]
  }
 ],
 "metadata": {
  "celltoolbar": "Format de la Cellule Texte Brut",
  "kernelspec": {
   "display_name": "Python 3 (ipykernel)",
   "language": "python",
   "name": "python3"
  },
  "language_info": {
   "codemirror_mode": {
    "name": "ipython",
    "version": 3
   },
   "file_extension": ".py",
   "mimetype": "text/x-python",
   "name": "python",
   "nbconvert_exporter": "python",
   "pygments_lexer": "ipython3",
   "version": "3.9.12"
  }
 },
 "nbformat": 4,
 "nbformat_minor": 4
}
