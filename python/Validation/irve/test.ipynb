{
 "cells": [
  {
   "cell_type": "code",
   "execution_count": 1,
   "id": "e6143813",
   "metadata": {},
   "outputs": [],
   "source": [
    "from pprint import pprint\n",
    "from collections import Counter\n",
    "from time import time\n",
    "from datetime import datetime\n",
    "import csv\n",
    "from util import util\n",
    "from observation import Ilist, Iindex\n",
    "from copy import copy\n",
    "import pandas as pd\n",
    "\n",
    "chemin = 'https://raw.githubusercontent.com/loco-philippe/Environmental-Sensing/main/python/Validation/irve/'"
   ]
  },
  {
   "cell_type": "code",
   "execution_count": 2,
   "id": "b26fed1c",
   "metadata": {
    "scrolled": false
   },
   "outputs": [
    {
     "name": "stdout",
     "output_type": "stream",
     "text": [
      "data : \n",
      " 51276 \n",
      "\n",
      "nom_amenageur                                                                  LUMI'IN\n",
      "siren_amenageur                                                            807940069.0\n",
      "contact_amenageur                                               secretariat@lumi-in.fr\n",
      "nom_operateur                                                                  LUMI'IN\n",
      "contact_operateur                                               secretariat@lumi-in.fr\n",
      "telephone_operateur                                                          754374751\n",
      "nom_enseigne                                                                   LUMI'IN\n",
      "id_station_itinerance                                                  FRLUMEACACIAS11\n",
      "id_station_local                                  ed2da8f2-b28e-11ed-afa1-0242ac120002\n",
      "nom_station                                    Logis Hôtel des Acacias Lille Tourcoing\n",
      "implantation_station                                      Parking privé à usage public\n",
      "adresse_station                        39 RUE DU BRONCKAERT - 59960 NEUVILLE EN FERRAN\n",
      "code_insee_commune                                                               59426\n",
      "coordonneesXY                                                   [3.1485441,50.7582304]\n",
      "nbre_pdc                                                                             4\n",
      "id_pdc_itinerance                                                      FRLUMEACACIAS11\n",
      "id_pdc_local                                                        FR*LUM*EACACIAS1*1\n",
      "puissance_nominale                                                                12.0\n",
      "prise_type_ef                                                                    false\n",
      "prise_type_2                                                                      true\n",
      "prise_type_combo_ccs                                                             false\n",
      "prise_type_chademo                                                               false\n",
      "prise_type_autre                                                                 false\n",
      "gratuit                                                                          false\n",
      "paiement_acte                                                                     true\n",
      "paiement_cb                                                                       true\n",
      "paiement_autre                                                                    true\n",
      "tarification                                                                      0.40\n",
      "condition_acces                                                            Accès libre\n",
      "reservation                                                                      false\n",
      "horaires                                                                          24/7\n",
      "accessibilite_pmr                                      Accessible mais non réservé PMR\n",
      "restriction_gabarit                                                                 2m\n",
      "station_deux_roues                                                               false\n",
      "raccordement                                                                  Indirect\n",
      "num_pdl                                                                 50042922537362\n",
      "date_mise_en_service                                                        2023-02-22\n",
      "observations                                                                      24/7\n",
      "date_maj                                                                    2023-02-22\n",
      "cable_t2_attache                                                                 false\n",
      "last_modified                                               2023-03-03T17:43:55.192000\n",
      "datagouv_dataset_id                                           613134e194e2b9102ca20e1d\n",
      "datagouv_resource_id                              39202483-a987-436f-bcb6-acaa5475ce83\n",
      "datagouv_organization_or_owner                                                  lumiin\n",
      "consolidated_longitude                                                        3.148544\n",
      "consolidated_latitude                                                         50.75823\n",
      "consolidated_code_postal                                                       59960.0\n",
      "consolidated_commune                                               Neuville-en-Ferrain\n",
      "consolidated_is_lon_lat_correct                                                   True\n",
      "consolidated_is_code_insee_verified                                               True\n",
      "Name: 0, dtype: object\n"
     ]
    },
    {
     "name": "stderr",
     "output_type": "stream",
     "text": [
      "C:\\Users\\a179227\\AppData\\Local\\Temp\\ipykernel_16424\\1869881362.py:2: DtypeWarning: Columns (12,23,24,25,26,29,33) have mixed types. Specify dtype option on import or set low_memory=False.\n",
      "  data = pd.read_csv(file, sep=',')\n"
     ]
    }
   ],
   "source": [
    "file = chemin + 'consolidation-etalab-schema-irve-statique-v-2.2.0-20230303.csv'\n",
    "data = pd.read_csv(file, sep=',')\n",
    "print('data : \\n', len(data), '\\n')\n",
    "#print(data.iloc[0])"
   ]
  },
  {
   "cell_type": "code",
   "execution_count": 14,
   "id": "9d95340c",
   "metadata": {},
   "outputs": [
    {
     "name": "stdout",
     "output_type": "stream",
     "text": [
      "idxs (len, lenlidx, sumcodec) :  51276 50 211484\n"
     ]
    }
   ],
   "source": [
    "idxs = Ilist.obj(data)\n",
    "print('idxs (len, lenlidx, sumcodec) : ', len(idxs), len(idxs.idxlen), sum(idxs.idxlen))"
   ]
  },
  {
   "cell_type": "code",
   "execution_count": 15,
   "id": "5654696e",
   "metadata": {},
   "outputs": [
    {
     "name": "stdout",
     "output_type": "stream",
     "text": [
      "Couplage entre  coordonneesXY  et  id_station_itinerance  :  linked\n",
      "Ecart :  2799 positions sur  18544 \n",
      "\n"
     ]
    }
   ],
   "source": [
    "champ = idxs.nindex\n",
    "print('Couplage entre ', champ('coordonneesXY').name, ' et ', champ('id_station_itinerance').name, ' : ', \n",
    "      champ('coordonneesXY').couplinginfos(champ('id_station_itinerance'))['typecoupl'])\n",
    "infosdefault = champ('id_station_itinerance').couplinginfos(champ('coordonneesXY'), default=True)\n",
    "print('Ecart : ', infosdefault['disttomin'], 'positions sur ', infosdefault['distmin'], '\\n')"
   ]
  },
  {
   "cell_type": "code",
   "execution_count": 16,
   "id": "f6a10055",
   "metadata": {},
   "outputs": [
    {
     "name": "stdout",
     "output_type": "stream",
     "text": [
      "les 5 stations avec le plus de positions: \n",
      " [('Non concerné', 388), ('FR55CP84000', 20), ('FR55CP83310', 12), ('FRA68P68021001', 10), ('FR073PCAMAIEUFR', 8)] \n",
      "\n",
      "liste des positions associées à la station FR55CP84000  :\n",
      "{'[4.833258, 43.952128]', '[4.876649, 43.925813]', '[4.823253, 43.953885]', '[4.805081, 43.936094]', '[4.813005, 43.928623]', '[4.821979, 43.929502]', '[4.800516, 43.949101]', '[4.82072, 43.935617]', '[4.798628, 43.937354]', '[4.809387, 43.930192]', '[4.828155, 43.947206]', '[4.838556, 43.927832]', '[4.809693, 43.936482]', '[4.799193, 43.929592]', '[4.796913, 43.952673]', '[4.876349, 43.940161]', '[4.825062, 43.942905]', '[4.816939, 43.942256]', '[4.843686, 43.946211]', '[4.821433, 43.939104]'}\n",
      "nombre de stations en erreur :  2323\n"
     ]
    }
   ],
   "source": [
    "id_station = champ('id_station_itinerance').tostdcodec(full=False)\n",
    "coordonneesXY = champ('coordonneesXY').tostdcodec(full=False) \n",
    "\n",
    "notcoupl = id_station.coupling(coordonneesXY)\n",
    "c = Counter(id_station.codec).most_common(5)\n",
    "print('les 5 stations avec le plus de positions: \\n', c, '\\n')\n",
    "print('liste des positions associées à la station', c[1][0], ' :')\n",
    "print(set([coordonneesXY[i] for i in id_station.recordfromvalue(c[1][0])]))\n",
    "\n",
    "print('nombre de stations en erreur : ', len(set(id_station[notcoupl])))"
   ]
  },
  {
   "cell_type": "code",
   "execution_count": 11,
   "id": "2a8825ce",
   "metadata": {},
   "outputs": [
    {
     "name": "stdout",
     "output_type": "stream",
     "text": [
      "nombre de pdc avec position/station non couplées :  1718\n",
      "\n",
      "liste des premières incohérences : \n",
      "{(' Intermarché - Retournac - 22kW AC ', '[4.029971, 45.210931]'),\n",
      " (' Toyota - Metz- 22kW AC D ', '[2.615871, 48.816567]'),\n",
      " ('7 RUE ICARE 67960 ENTZHEIM', '[7.6516, 48.54535]'),\n",
      " ('ANTIBES - CASA GENETS - PUBLIC', '[7.030741, 43.624772]'),\n",
      " ('Bmw Lattes (PDL 1)', '[3.873362, 43.574581]'),\n",
      " ('Bmw Lattes (PDL 2)', '[3.873362, 43.574581]'),\n",
      " ('Carrefour  Contact', '[-0.63,44.82]'),\n",
      " ('Domaine de Fompeyre', '[-0.63,44.82]'),\n",
      " ('Elvi 22kw', '[4.84,45.79]'),\n",
      " ('Engen, La Possession Hager', '[55.3292, -20.9426]'),\n",
      " ('Engen, La Possession IES', '[55.3292, -20.9426]'),\n",
      " ('EvBox DC', '[4.84,45.79]'),\n",
      " ('FR*QOV*67-00002', '[7.6516, 48.54535]'),\n",
      " ('Fast Automobile Longw', '[5.740974, 49.516179]'),\n",
      " ('Fast Automobile Longwy', '[5.740974, 49.516179]'),\n",
      " ('Frial_1_RD', '[-0.677194, 49.267985]'),\n",
      " ('Frial_1_Siege', '[-0.677194, 49.267985]'),\n",
      " ('HAZEBROUCK - Rue François Dominique Depoorter', '[2.534213, 50.720173]'),\n",
      " ('HAZEBROUCK - Rue de la plaine', '[2.552611, 50.73027]'),\n",
      " ('Hazebrouck - Rue François Dominique Depoorter', '[2.534213, 50.720173]'),\n",
      " ('Hazebrouck - Rue de la Plaine', '[2.552611, 50.73027]'),\n",
      " ('IBIS 1', '[3.065306, 44.116006]'),\n",
      " ('IBIS 2', '[3.065306, 44.116006]'),\n",
      " ('IBIS 3', '[3.065306, 44.116006]'),\n",
      " ('IBIS 4', '[3.065306, 44.116006]'),\n",
      " ('Intermarché - Retournac - 22kW AC ', '[4.029971, 45.210931]'),\n",
      " ('KIA - Barberey - 22kW AC ', '[4.0239871, 48.3302804]'),\n",
      " ('KIA TROYES - Groupe Amplitude', '[4.0239871, 48.3302804]'),\n",
      " ('LA GRANDE BASTIDE', '[5.91,43.90]'),\n",
      " ('LA GRANDE BASTIDE ', '[5.91,43.90]'),\n",
      " ('Le Palais, Port-Collen', '[-3.1861944, 47.36075]'),\n",
      " ('Le Tholonet, 1900 Avenue Paul Jullien - 3705', '[0.271728, 49.145336]'),\n",
      " ('Le palais - Port-Collen', '[-3.1861944, 47.36075]'),\n",
      " ('Lisieux, avenue Georges Duval - 3105', '[0.271728, 49.145336]'),\n",
      " ('NEUF-BERQUIN - Rue Charles Capelle', '[2.671506, 50.659622]'),\n",
      " ('Neuf-Berquin - Rue Charles Capelle', '[2.671506, 50.659622]'),\n",
      " ('PARKING MERMOZ 1', '[6.948066, 43.567243]'),\n",
      " ('PARKING MERMOZ 2', '[6.948066, 43.567243]'),\n",
      " ('SAINT-CEZAIRE-SUR-SIAGNE - PARKING CHEMIN DE LA CHAUX', '[6.793363, 43.650307]'),\n",
      " ('SOPHIA ANTIPOLIS - CASA GENETS - PUBLIC', '[7.030741, 43.624772]'),\n",
      " ('ST CEZAIRE SUR SIAGNE PARKING CHEMIN DE LA CHAUX', '[6.793363, 43.650307]'),\n",
      " ('Saint Andre De Sangonis, Route de Montpellier - 3815', '[0.271728, 49.145336]'),\n",
      " ('Toyota - Metz- 22kW AC D ', '[2.615871, 48.816567]'),\n",
      " ('Toyota - Metz- 22kW AC G ', '[2.615871, 48.816567]'),\n",
      " ('Toyota - Montauban - 22KW AC D ', '[1.3319719, 43.9905133]'),\n",
      " ('Toyota - Montauban - 22KW AC G ', '[1.3319719, 43.9905133]')}\n"
     ]
    }
   ],
   "source": [
    "notcoupl = champ('coordonneesXY').coupling(champ('nom_station'), derived=False)\n",
    "print('nombre de pdc avec position/station non couplées : ', len(notcoupl))\n",
    "print('\\nliste des premières incohérences : ')\n",
    "liste = []\n",
    "for i in range(100): \n",
    "    liste.append((champ('nom_station')[notcoupl[i]], champ('coordonneesXY')[notcoupl[i]]))\n",
    "pprint(set(liste), width=120)"
   ]
  },
  {
   "cell_type": "code",
   "execution_count": null,
   "id": "d15403a0",
   "metadata": {},
   "outputs": [],
   "source": []
  },
  {
   "cell_type": "code",
   "execution_count": 6,
   "id": "05817b96",
   "metadata": {
    "scrolled": true
   },
   "outputs": [
    {
     "name": "stdout",
     "output_type": "stream",
     "text": [
      "les 5 positions avec le plus de stations: \n",
      " [('[2.249932, 48.822635]', 6), ('[3.080477, 50.675889]', 6), ('[2.26765, 48.827423]', 6), ('[2.35813, 48.7467]', 6), ('[3.10733, 50.342696]', 5)] \n",
      "\n",
      "liste des stations associées à la position [2.249932, 48.822635]  :\n",
      "{'25 BOULEVARD DES ILES - ISSY LES MOULINEAUX', '22 BOULEVARD DES ILES - ISSY LES MOULINEAUX', '26 BOULEVARD DES ILES - ISSY LES MOULINEAUX', '24 BOULEVARD DES ILES - ISSY LES MOULINEAUX', '23 BOULEVARD DES ILES - ISSY LES MOULINEAUX', '21 BOULEVARD DES ILES - ISSY LES MOULINEAUX'} \n",
      "\n",
      "les 5 stations avec le plus de positions: \n",
      " [('CAMAÏEU FRANCE', 8), ('BAILLARGUES - Gare', 6), ('Saint Andre De Sangonis, Route de Montpellier - 3815', 5), (\"Gap, 90 avenue d'Embrun - 3273\", 5), ('Camping Arinella', 5)] \n",
      "\n",
      "liste des positions associées à la station CAMAÏEU FRANCE  :\n",
      "{'[3.207187,50.684964]', '[3.20737,50.684898]', '[3.207246,50.68494]', '[3.207306,50.684918]', '[3.206962,50.685049]', '[3.207047,50.685013]', '[3.207124,50.684984]', '[3.207433,50.684876]'}\n"
     ]
    }
   ],
   "source": [
    "nom_station = champ('nom_station').tostdcodec(full=False)\n",
    "coordonneesXY = champ('coordonneesXY').tostdcodec(full=False) \n",
    "coordonneesXY.coupling(nom_station)\n",
    "c = Counter(coordonneesXY.codec).most_common(5)\n",
    "print('les 5 positions avec le plus de stations: \\n', c, '\\n')\n",
    "print('liste des stations associées à la position', c[0][0], ' :')\n",
    "print(set([nom_station[i] for i in coordonneesXY.recordfromvalue(c[0][0])]), '\\n')\n",
    "\n",
    "coordonneesXY = champ('coordonneesXY').tostdcodec(full=False)\n",
    "nom_station.coupling(coordonneesXY)\n",
    "c = Counter(nom_station.codec).most_common(5)\n",
    "print('les 5 stations avec le plus de positions: \\n', c, '\\n')\n",
    "print('liste des positions associées à la station', c[0][0], ' :')\n",
    "print(set([coordonneesXY[i] for i in nom_station.recordfromvalue(c[0][0])]))"
   ]
  }
 ],
 "metadata": {
  "kernelspec": {
   "display_name": "Python 3 (ipykernel)",
   "language": "python",
   "name": "python3"
  },
  "language_info": {
   "codemirror_mode": {
    "name": "ipython",
    "version": 3
   },
   "file_extension": ".py",
   "mimetype": "text/x-python",
   "name": "python",
   "nbconvert_exporter": "python",
   "pygments_lexer": "ipython3",
   "version": "3.9.12"
  }
 },
 "nbformat": 4,
 "nbformat_minor": 5
}
