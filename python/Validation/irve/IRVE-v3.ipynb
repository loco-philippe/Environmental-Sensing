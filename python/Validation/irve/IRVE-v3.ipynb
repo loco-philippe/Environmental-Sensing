{
 "cells": [
  {
   "cell_type": "markdown",
   "metadata": {},
   "source": [
    "# Objet : Analyse des relations entre champs des données IRVE\n",
    "\n",
    "## Contexte\n",
    "- clarification du rôle des modèles de données dans les jeux de données (cf mise à jour récente des [guides data.gouv](https://guides.etalab.gouv.fr/qualite/documenter-les-donnees/))\n",
    "- intégration d'une propriété \"relationship\" dans les schémas de données ([issue TableSchema](https://github.com/frictionlessdata/specs/issues/803) en cours de validation)\n",
    "- création d'outils de contrôle des relations entre champs des jeux de données tabulaires (cf usage ci-dessous)\n",
    "\n",
    "## Objectifs\n",
    "- valider sur un cas réel l'utilisation d'un modèle de données en complément d'un schéma de données\n",
    "- identifier les apports que pourraient avoir les contrôles de validation des relations entre champs\n",
    "\n",
    "## Résultats\n",
    "- la formalisation d'un modèle de données facilite la compréhension des données et des relations entre champs\n",
    "- l'outil de contrôle permet d'améliorer significativement la qualité des données par la détection d'incohérences de relations\n",
    "- l'analyse a posteriori permet de (re)trouver la logique de dépendance entre les colonnes qui minimise les incohérences\n",
    "- les incohérences détectées sur le jeu de données IRVE restent faibles (inférieures à 2% des point de charge documentés - voir chapitre 4)\n",
    "\n",
    "## Suite à donner\n",
    "- Mettre à jour, valider et publier le modèle de données IRVE\n",
    "- Définir les contrôles supplémentaires à intégrer pour toutes nouvelles données ainsi que pour le jeu complet\n",
    "- Mettre en oeuvre les outils de contrôle\n",
    "\n",
    "## Evolutions possibles \n",
    "- Ajouter dans les guides d'Etalab un guide pour les modèles de données \n",
    "- Intégrer dans les schémas de données la propriété \"relationship\" en cours de validation,\n",
    "- Définir un indicateur qui mesure l'écart (existant / attendu) des relations entre champs\n",
    "\n",
    "## Sommaire\n",
    "*(liens actifs sur jupyter Notebook ou Nbviewer)*\n",
    "- [1 - modèle de données](#1---modèle-de-données)\n",
    "- [2 - Initialisation](#2---Initialisation)\n",
    "- [3 - Séparation des pdc itinerance et hors itinerance](#3---Séparation-des-pdc-itinerance-et-hors-itinerance)\n",
    "- [4 - Bilan initial intégrité](#4---Bilan-initial-intégrité)\n",
    "- [5 - Séparation doublons pdc - date de maj](#5---Séparation-doublons-pdc---date-de-maj)\n",
    "- [6 - Cohérence date maj stations](#6---Cohérence-date-maj-stations)\n",
    "- [7 - Synthèse](#7---Synthèse)\n",
    "- [8 - Exemples d erreurs résiduelles](#8---Exemples-d-erreurs-résiduelles)\n",
    "- [Annexe : Initialisation du modèle de données 'mermaid'](#Annexe-:-Initialisation-du-modèle-de-données-'mermaid')\n",
    "\n",
    "Ce Notebook peut être consulté sur [nbviewer](http://nbviewer.org/github/loco-philippe/Environmental-Sensing/tree/main/python/Validation/irve)\n",
    "\n",
    "données utilisées : https://www.data.gouv.fr/fr/datasets/fichier-consolide-des-bornes-de-recharge-pour-vehicules-electriques/    \n",
    "fichier : \"*consolidation-etalab-schema-irve-statique-v-2.2.0-20230303.csv*\""
   ]
  },
  {
   "cell_type": "markdown",
   "metadata": {},
   "source": [
    "-----------------------\n",
    "# 1 - modèle de données\n",
    "\n",
    "Le modèle de données proposé ci-dessous est construit sur la base du schéma de données mis à disposition et du contenu du jeu de données.    \n",
    "Il est à consolider en fonction de l'expertise des concepteurs et réutilisateurs (voir [guide méthodologique](https://github.com/loco-philippe/Environmental-Sensing/blob/main/property_relationship/FR_methodology.ipynb))."
   ]
  },
  {
   "cell_type": "markdown",
   "metadata": {},
   "source": [
    "*Notation:*\n",
    "- *M : Mandatory - documentation obligatoire*\n",
    "- *PK : Primary Key - identifiant unique de l'entité*\n",
    "- *Root : champ fictif associé à une ligne du tableau*"
   ]
  },
  {
   "cell_type": "code",
   "execution_count": 3,
   "metadata": {
    "scrolled": false
   },
   "outputs": [
    {
     "data": {
      "text/html": [
       "<img src=\"https://mermaid.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\"/>"
      ],
      "text/plain": [
       "<IPython.core.display.Image object>"
      ]
     },
     "metadata": {},
     "output_type": "display_data"
    }
   ],
   "source": [
    "# la variable 'irve' est définie en fin de Notebook\n",
    "mermaid(irve)"
   ]
  },
  {
   "cell_type": "code",
   "execution_count": 4,
   "metadata": {},
   "outputs": [],
   "source": [
    "def analyse_integrite(data):\n",
    "    analyse = Analysis(data)\n",
    "    dic_res = analyse.check_relationship(fields)\n",
    "    data['ok'] = True\n",
    "    for name, lis in dic_res.items():\n",
    "        data[name] = True\n",
    "        data.loc[lis, name] = False\n",
    "        data['ok'] = data['ok'] & data[name]\n",
    "        print('{:<50} {:>5}'.format(name, len(data) - data[name].sum()))\n",
    "    return dic_res"
   ]
  },
  {
   "cell_type": "markdown",
   "metadata": {},
   "source": [
    "------\n",
    "# 2 - Initialisation\n",
    "## initialisation des données\n",
    "- lecture du fichier issu de l'api"
   ]
  },
  {
   "cell_type": "code",
   "execution_count": null,
   "metadata": {},
   "outputs": [],
   "source": [
    "from collections import Counter\n",
    "from observation import Ilist, Iindex, Analysis\n",
    "import pandas as pd\n",
    "res = {}\n",
    "chemin = 'https://raw.githubusercontent.com/loco-philippe/Environmental-Sensing/main/python/Validation/irve/'\n",
    "res['date'] = '2023-03-03'\n",
    "file = 'consolidation-etalab-schema-irve-statique-v-2.2.0-20230303.csv'\n",
    "irve = pd.read_csv(chemin + file, sep=',', low_memory=False)\n",
    "res['len_irve'] = len(irve)\n",
    "print('nombre de lignes : ', res['len_irve']) "
   ]
  },
  {
   "cell_type": "markdown",
   "metadata": {},
   "source": [
    "## schéma de données\n",
    "Le schéma de données restreint à la propriété 'relationship' et construit à partir du modèle de données est le suivants :"
   ]
  },
  {
   "cell_type": "code",
   "execution_count": null,
   "metadata": {},
   "outputs": [],
   "source": [
    "fields = [\n",
    " \n",
    " # relation unicité des pdl\n",
    " { \"name\": \"index\",\n",
    "   \"relationship\" : { \"parent\" : \"id_pdc_itinerance\", \"link\" : \"coupled\" }},   \n",
    " # relations inter entités\n",
    " { \"name\": \"contact_operateur\",\n",
    "   \"relationship\" : { \"parent\" : \"id_station_itinerance\", \"link\" : \"derived\" }},\n",
    " { \"name\": \"nom_enseigne\",\n",
    "   \"relationship\" : { \"parent\" : \"id_station_itinerance\", \"link\" : \"derived\" }},\n",
    " { \"name\": \"coordonneesXY\",\n",
    "   \"relationship\" : { \"parent\" : \"id_station_itinerance\", \"link\" : \"derived\" }},\n",
    " { \"name\": \"id_station_itinerance\",\n",
    "   \"relationship\" : { \"parent\" : \"id_pdc_itinerance\",     \"link\" : \"derived\" }},\n",
    " # relations intra entité - station\n",
    " { \"name\": \"nom_station\",\n",
    "   \"relationship\" : { \"parent\" : \"id_station_itinerance\", \"link\" : \"derived\" }},\n",
    " { \"name\": \"implantation_station\",\n",
    "   \"relationship\" : { \"parent\" : \"id_station_itinerance\", \"link\" : \"derived\" }},\n",
    " { \"name\": \"nbre_pdc\",\n",
    "   \"relationship\" : { \"parent\" : \"id_station_itinerance\", \"link\" : \"derived\" }},\n",
    " { \"name\": \"condition_acces\",\n",
    "   \"relationship\" : { \"parent\" : \"id_station_itinerance\", \"link\" : \"derived\" }},\n",
    " { \"name\": \"horaires\",\n",
    "   \"relationship\" : { \"parent\" : \"id_station_itinerance\", \"link\" : \"derived\" }},\n",
    " { \"name\": \"station_deux_roues\",\n",
    "   \"relationship\" : { \"parent\" : \"id_station_itinerance\", \"link\" : \"derived\" }},\n",
    " # relations intra entité - localisation\n",
    " { \"name\": \"adresse_station\",\n",
    "   \"relationship\" : { \"parent\" : \"coordonneesXY\",         \"link\" : \"derived\" }} ]"
   ]
  },
  {
   "cell_type": "code",
   "execution_count": null,
   "metadata": {},
   "outputs": [],
   "source": [
    "relations = ['index', 'contact_operateur', 'nom_enseigne', 'coordonneesXY', 'adresse_station', 'id_station_itinerance', \n",
    "             'nom_station', 'implantation_station', 'nbre_pdc', 'condition_acces', 'horaires', 'station_deux_roues', \n",
    "             'id_pdc_itinerance', 'date_maj', 'last_modified']\n",
    "champs =  ['contact_operateur', 'nom_enseigne', 'coordonneesXY', 'adresse_station', 'id_station_itinerance', 'nom_station',\n",
    "           'implantation_station', 'nbre_pdc', 'condition_acces', 'horaires', 'station_deux_roues', 'id_pdc_itinerance', \n",
    "           'puissance_nominale', 'prise_type_ef', 'prise_type_2', 'prise_type_combo_ccs', 'prise_type_chademo', \n",
    "           'prise_type_autre', 'paiement_acte', 'paiement_autre', 'reservation',  'accessibilite_pmr', 'restriction_gabarit', \n",
    "           'date_maj', 'last_modified']"
   ]
  },
  {
   "cell_type": "markdown",
   "metadata": {},
   "source": [
    "-----------------------\n",
    "## 3 - Séparation des pdc itinerance et hors itinerance\n",
    "- un peu moins de 1 % des points de charge sont hors itinerance"
   ]
  },
  {
   "cell_type": "code",
   "execution_count": null,
   "metadata": {},
   "outputs": [],
   "source": [
    "data = irve.loc[:, champs]\n",
    "data[['id_station_itinerance','id_pdc_itinerance']] = data[['id_station_itinerance','id_pdc_itinerance']].astype('string')\n",
    "#data[['last_modified','date_maj']] = data[['last_modified','date_maj']].astype('datetime64')\n",
    "data['non_concerne'] = data['id_station_itinerance'].str.contains('oncern') | data['id_pdc_itinerance'].str.contains('oncern')\n",
    "\n",
    "non_concerne = data[data['non_concerne']].loc[:, champs].reset_index()['index']\n",
    "itinerance = data[~data['non_concerne']].loc[:, champs].reset_index()\n",
    "itinerance = itinerance.loc[:, relations]\n",
    "print('nombre de pdc hors itinerance : ', len(non_concerne))\n",
    "print('nombre de pdc en itinerance   : ', len(itinerance))"
   ]
  },
  {
   "cell_type": "code",
   "execution_count": null,
   "metadata": {},
   "outputs": [],
   "source": [
    "il = Ilist.obj(itinerance)\n",
    "print(il.tree())"
   ]
  },
  {
   "cell_type": "markdown",
   "metadata": {},
   "source": [
    "-----------------------\n",
    "## 4 - Bilan initial intégrité\n",
    "- 36 % des lignes sont erronées ( 18 116 )"
   ]
  },
  {
   "cell_type": "code",
   "execution_count": null,
   "metadata": {},
   "outputs": [],
   "source": [
    "res = analyse_integrite(itinerance)\n",
    "itinerance_ok_1 = itinerance.loc[itinerance.ok, relations].reset_index(drop=True)\n",
    "itinerance_1 = itinerance.loc[~itinerance.ok, relations].reset_index(drop=True)\n",
    "itinerance = itinerance.loc[:, relations]\n",
    "print(\"\\nnombre d'enregistrements sans erreurs : \", len(itinerance_ok_1))\n",
    "print(\"nombre d'enregistrements avec au moins une erreur : \", len(itinerance_1))\n",
    "print(\"taux d'erreur : \", round(len(itinerance_1) / len(itinerance) * 100), ' %')"
   ]
  },
  {
   "cell_type": "markdown",
   "metadata": {},
   "source": [
    "-----------------------\n",
    "## 5 - Séparation doublons pdc - date de maj\n",
    "- la moitié des pdc en erreur sont liées aux doublons de pdc\n",
    "- la suppression des doublons permet de diviser par 5 le nombre de lignes erronnées ( 2 166 )"
   ]
  },
  {
   "cell_type": "code",
   "execution_count": null,
   "metadata": {},
   "outputs": [],
   "source": [
    "itinerance_1['doublons_pdc'] = itinerance_1.sort_values(by='date_maj').duplicated('id_pdc_itinerance', keep='last')\n",
    "\n",
    "doublons_pdc = itinerance_1[itinerance_1['doublons_pdc']].loc[:, relations].reset_index(drop=True)['index']\n",
    "itinerance_2 = itinerance_1[~itinerance_1['doublons_pdc']].loc[:, relations].reset_index(drop=True)\n",
    "itinerance_1 = itinerance_1.loc[:, relations]\n",
    "print('nombre de doublons pdc : ', len(doublons_pdc))\n",
    "print('nombre de pdc sans doublon   : ', len(itinerance_2))"
   ]
  },
  {
   "cell_type": "code",
   "execution_count": null,
   "metadata": {},
   "outputs": [],
   "source": [
    "res = analyse_integrite(itinerance_2)\n",
    "itinerance_ok_3 = itinerance_2.loc[itinerance_2.ok, relations].reset_index(drop=True)\n",
    "itinerance_3 = itinerance_2.loc[~itinerance_2.ok, relations].reset_index(drop=True)\n",
    "itinerance_2 = itinerance_2.loc[:, relations]\n",
    "print(\"\\nnombre d'enregistrements sans erreurs : \", len(itinerance_ok_3))\n",
    "print(\"nombre d'enregistrements avec au moins une erreur : \", len(itinerance_3))"
   ]
  },
  {
   "cell_type": "markdown",
   "metadata": {},
   "source": [
    "-----------------------\n",
    "## 6 - Cohérence date maj stations\n",
    "- 20% des erreurs résiduelles sont liées au mélange d'anciens et de nouveaux pdc\n",
    "- la suppression des anciens pdc permet de réduire de 25% le nombre de lignes erronnées ( 1 616 )\n",
    "- les dernières erreurs correspondent à 468 stations associées à 32 opérateurs et sont liées à des causes multiples"
   ]
  },
  {
   "cell_type": "code",
   "execution_count": null,
   "metadata": {},
   "outputs": [],
   "source": [
    "itinerance_3['stat_maj'] = itinerance_3.id_station_itinerance + itinerance_3.date_maj\n",
    "stat_maj_unique = itinerance_3.sort_values(by='stat_maj').drop_duplicates('id_station_itinerance', keep='last')\n",
    "itinerance_3['last_stat_maj'] = itinerance_3['stat_maj'].isin(stat_maj_unique['stat_maj'])\n",
    "\n",
    "doublons_stat_maj = itinerance_3[~itinerance_3['last_stat_maj']].loc[:, relations].reset_index(drop=True)['index']\n",
    "itinerance_4 = itinerance_3[itinerance_3['last_stat_maj']].loc[:, relations].reset_index(drop=True)\n",
    "itinerance_3 = itinerance_3.loc[:, relations]\n",
    "print('nombre de doublons stations : ', len(doublons_stat_maj))\n",
    "print('nombre de pdc sans doublon   : ', len(itinerance_4))"
   ]
  },
  {
   "cell_type": "code",
   "execution_count": null,
   "metadata": {},
   "outputs": [],
   "source": [
    "res = analyse_integrite(itinerance_4)\n",
    "itinerance_ok_5 = itinerance_4.loc[itinerance_4.ok, relations].reset_index(drop=True)\n",
    "itinerance_5_full = itinerance_4.loc[~itinerance_4.ok].reset_index(drop=True)\n",
    "itinerance_5 = itinerance_5_full.loc[:, relations]\n",
    "#itinerance_4 = itinerance_4.loc[:, relations]\n",
    "print(\"\\nnombre d'enregistrements sans erreurs : \", len(itinerance_ok_5))\n",
    "print(\"nombre d'enregistrements avec au moins une erreur : \", len(itinerance_5))"
   ]
  },
  {
   "cell_type": "code",
   "execution_count": null,
   "metadata": {},
   "outputs": [],
   "source": [
    "il = Ilist.obj(itinerance_5)\n",
    "print(il.tree())"
   ]
  },
  {
   "cell_type": "code",
   "execution_count": null,
   "metadata": {},
   "outputs": [],
   "source": [
    "# nb maxi d'erreurs\n",
    "itinerance_4['somme'] = 0\n",
    "for name in res.keys():\n",
    "    itinerance_4['somme'] += 1 - itinerance_4[name]\n",
    "erreurs = max(itinerance_4['somme'])\n",
    "maxi = itinerance_4[itinerance_4.somme >= erreurs]\n",
    "print(\"nombre d'enregistrements avec \", erreurs, \" erreurs : \", len(maxi))"
   ]
  },
  {
   "cell_type": "markdown",
   "metadata": {},
   "source": [
    "-----------------------\n",
    "## 7 - Synthèse\n"
   ]
  },
  {
   "cell_type": "code",
   "execution_count": null,
   "metadata": {},
   "outputs": [],
   "source": [
    "#itinerance_5_full.to_csv('erreurs_IRVE.csv')\n",
    "\n",
    "itinerance['doublons_stat_maj'] = itinerance['index'].isin(doublons_stat_maj)\n",
    "itinerance['doublons_pdc'] = itinerance['index'].isin(doublons_pdc)\n",
    "itinerance['lignes_a_corriger'] = itinerance['index'].isin(itinerance_5['index'])\n",
    "itinerance['doublons_a_supprimer'] = itinerance['doublons_stat_maj'] | itinerance['doublons_pdc']\n",
    "itinerance['lignes_ko'] = itinerance['doublons_a_supprimer'] | itinerance['lignes_a_corriger']\n",
    "print('total des lignes à corriger : ', itinerance['lignes_a_corriger'].sum())\n",
    "print('total des doublons à supprimer : ', itinerance['doublons_a_supprimer'].sum())"
   ]
  },
  {
   "cell_type": "code",
   "execution_count": null,
   "metadata": {},
   "outputs": [],
   "source": [
    "itinerance_ok = itinerance[~itinerance['lignes_ko']].loc[:, relations].reset_index(drop=True)\n",
    "print('nombre de pdc : ', len(itinerance_ok))\n",
    "print('\\nbilan intégrité :')\n",
    "res = analyse_integrite(itinerance_ok)"
   ]
  },
  {
   "cell_type": "markdown",
   "metadata": {},
   "source": [
    "-----------------------\n",
    "## 8 - Exemples d erreurs résiduelles \n",
    "\n",
    "### Erreurs multiples \n",
    "- exemple avec le nombre maximal d'erreurs (4) (2 stations soit 12 pdc avec : adresse, nom, nbre_pdc et deux-roues erronés)"
   ]
  },
  {
   "cell_type": "code",
   "execution_count": null,
   "metadata": {
    "scrolled": false
   },
   "outputs": [],
   "source": [
    "maxi.loc[:, relations]"
   ]
  },
  {
   "cell_type": "markdown",
   "metadata": {},
   "source": [
    "### Cohérence implantation_station - id_station\n",
    "- 23 pdc sont liés à une erreur de choix d'implantation (3 stations, 1 opérateur)"
   ]
  },
  {
   "cell_type": "code",
   "execution_count": null,
   "metadata": {
    "scrolled": true
   },
   "outputs": [],
   "source": [
    "itinerance_4.loc[~itinerance_4['implantation_station - id_station_itinerance'], relations]"
   ]
  },
  {
   "cell_type": "markdown",
   "metadata": {},
   "source": [
    "### Cohérence nom_station - id_station\n",
    "- 40 pdc sont associés à une station avec un nom non cohérent"
   ]
  },
  {
   "cell_type": "code",
   "execution_count": null,
   "metadata": {
    "scrolled": true
   },
   "outputs": [],
   "source": [
    "itinerance_4.loc[~itinerance_4['nom_station - id_station_itinerance'], relations]"
   ]
  },
  {
   "cell_type": "markdown",
   "metadata": {},
   "source": [
    "### Cohérence adresse - coordonnées\n",
    "- 414 pdc ont une adresse non cohérente avec les coordonnées géographiques"
   ]
  },
  {
   "cell_type": "code",
   "execution_count": null,
   "metadata": {
    "scrolled": false
   },
   "outputs": [],
   "source": [
    "itinerance_4.loc[~itinerance_4['adresse_station - coordonneesXY'], relations]"
   ]
  },
  {
   "cell_type": "markdown",
   "metadata": {},
   "source": [
    "- exemple : une station avec plusieurs adresses -> erreur de saisie ?"
   ]
  },
  {
   "cell_type": "code",
   "execution_count": null,
   "metadata": {
    "scrolled": true
   },
   "outputs": [],
   "source": [
    "itinerance_5.loc[itinerance_5.coordonneesXY\t == '[0.193942, 49.544211]', relations]"
   ]
  },
  {
   "cell_type": "markdown",
   "metadata": {},
   "source": [
    "- exemple : une station avec plusieurs adresses -> erreur de saisie ?"
   ]
  },
  {
   "cell_type": "code",
   "execution_count": null,
   "metadata": {
    "scrolled": false
   },
   "outputs": [],
   "source": [
    "itinerance_5.loc[itinerance_5.coordonneesXY\t == '[2.87930851314442, 48.94679007929618]', relations]"
   ]
  },
  {
   "cell_type": "markdown",
   "metadata": {},
   "source": [
    "### Cohérence station - coordonnées\n",
    "- 216 pdc sont associés à des stations avec plusieurs adresses"
   ]
  },
  {
   "cell_type": "code",
   "execution_count": null,
   "metadata": {},
   "outputs": [],
   "source": [
    "itinerance_4.loc[~itinerance_4['coordonneesXY - id_station_itinerance'], relations]"
   ]
  },
  {
   "cell_type": "markdown",
   "metadata": {},
   "source": [
    "- exemple : une station avec plusieurs coordonnées -> incompréhension distinction station / pdc"
   ]
  },
  {
   "cell_type": "code",
   "execution_count": null,
   "metadata": {},
   "outputs": [],
   "source": [
    "itinerance_5.loc[itinerance_5.id_station_itinerance == 'FR073PCAMAIEUFR', relations]"
   ]
  },
  {
   "cell_type": "markdown",
   "metadata": {},
   "source": [
    "- exemple : une station avec plusieurs coordonnées -> erreur de saisie"
   ]
  },
  {
   "cell_type": "code",
   "execution_count": null,
   "metadata": {},
   "outputs": [],
   "source": [
    "itinerance_5.loc[itinerance_5.id_station_itinerance == 'FRV75PPX0704', relations]"
   ]
  },
  {
   "cell_type": "markdown",
   "metadata": {},
   "source": [
    "- exemple : une station par point de charge avec nbre_pdc = 1"
   ]
  },
  {
   "cell_type": "code",
   "execution_count": null,
   "metadata": {},
   "outputs": [],
   "source": [
    "itinerance_4.loc[itinerance_4.coordonneesXY == '[0.191899, 49.506711]', relations]"
   ]
  },
  {
   "cell_type": "markdown",
   "metadata": {},
   "source": [
    "-----------------------\n",
    "# Annexe : Initialisation du modèle de données 'mermaid'"
   ]
  },
  {
   "cell_type": "code",
   "execution_count": 1,
   "metadata": {},
   "outputs": [],
   "source": [
    "from base64 import b64encode\n",
    "from IPython.display import Image, display\n",
    "\n",
    "def mermaid(graph):\n",
    "  display(Image(url=\"https://mermaid.ink/img/\" + b64encode(graph.encode(\"ascii\")).decode(\"ascii\")))"
   ]
  },
  {
   "cell_type": "code",
   "execution_count": 2,
   "metadata": {},
   "outputs": [],
   "source": [
    "# modèle de données suivant l'application 'mermaid' \n",
    "irve = \"\"\" \n",
    "erDiagram\n",
    "    AMENAGEUR ||..|{ STATION : amenage\n",
    "    AMENAGEUR {\n",
    "        string nom_amenageur\n",
    "        string siren_amenageur\n",
    "        string contact_amenageur \n",
    "    }\n",
    "    OPERATEUR ||..|{ STATION : \"exploite pour le compte de l enseigne\"\n",
    "    OPERATEUR {\n",
    "        string contact_operateur PK \"M\"\n",
    "        string nom_operateur \n",
    "        string telephone_operateur \n",
    "    }\n",
    "    ENSEIGNE ||..|{ STATION : \"heberge\"\n",
    "    ENSEIGNE {\n",
    "        string nom_enseigne PK \"M\" \n",
    "    }\n",
    "    STATION {\n",
    "        string  id_station_itinerance PK \"M\"\n",
    "        string  nom_station \"M\"\n",
    "        enum    implantation_station \"M\"\n",
    "        integer nbre_pdc \"M\"\n",
    "        string  condition_acces \"M\"\n",
    "        string  horaires \"M\"\n",
    "        boolean station_deux_roues \"M\"\n",
    "        string  id_station_local\n",
    "        enum    raccordement\n",
    "        string  num_pdl\n",
    "        date    date_mise_en_service \n",
    "    }\n",
    "    LOCALISATION ||--|{ STATION : \"localise\"\n",
    "    LOCALISATION {\n",
    "       array   coordonneesXY PK \"M\"\n",
    "       string  adresse_station \"M\"\n",
    "       string  code_insee_commune \n",
    "    }\n",
    "    STATION ||--|{ POINT_DE_CHARGE : regroupe\n",
    "    POINT_DE_CHARGE {\n",
    "        string id_pdc_itinerance PK \"M Root\"\n",
    "        number puissance_nominale \"M\"\n",
    "        boolean prise_type_ef \"M\"\n",
    "        boolean prise_type_2 \"M\"\n",
    "        boolean prise_type_combo_ccs \"M\"\n",
    "        boolean prise_type_chademo \"M\"\n",
    "        boolean prise_type_autre \"M\"\n",
    "        boolean paiement_acte \"M\"\n",
    "        boolean paiement_autre \"M\"\n",
    "        boolean reservation \"M\"\n",
    "        enum    accessibilite_pmr \"M\"\n",
    "        string  restriction_gabarit \"M\"\n",
    "        date    date_maj \"M\"\n",
    "        string  id_pdc_local\n",
    "        boolean gratuit\n",
    "        boolean paiement_cb\n",
    "        string  tarification\n",
    "        string  observations\n",
    "        boolean cable_t2_attache \n",
    "    }\n",
    "\"\"\""
   ]
  }
 ],
 "metadata": {
  "celltoolbar": "Format de la Cellule Texte Brut",
  "kernelspec": {
   "display_name": "Python 3 (ipykernel)",
   "language": "python",
   "name": "python3"
  },
  "language_info": {
   "codemirror_mode": {
    "name": "ipython",
    "version": 3
   },
   "file_extension": ".py",
   "mimetype": "text/x-python",
   "name": "python",
   "nbconvert_exporter": "python",
   "pygments_lexer": "ipython3",
   "version": "3.10.9"
  }
 },
 "nbformat": 4,
 "nbformat_minor": 4
}
