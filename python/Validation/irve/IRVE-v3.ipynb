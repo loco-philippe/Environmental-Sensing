{
 "cells": [
  {
   "cell_type": "markdown",
   "metadata": {},
   "source": [
    "# Objet : Analyse des relations entre champs des données IRVE\n",
    "\n",
    "## Contexte\n",
    "- clarification du rôle des modèles de données dans les jeux de données (cf mise à jour récente des [guides data.gouv](https://guides.etalab.gouv.fr/qualite/documenter-les-donnees/))\n",
    "- intégration d'une propriété \"relationship\" dans les schémas de données ([issue TableSchema](https://github.com/frictionlessdata/specs/issues/803) en cours de validation)\n",
    "- création d'outils de contrôle des relations entre champs des jeux de données tabulaires (cf usage ci-dessous)\n",
    "\n",
    "## Objectifs\n",
    "- valider sur un cas réel l'utilisation d'un modèle de données en complément d'un schéma de données\n",
    "- identifier les apports que pourraient avoir les contrôles de validation des relations entre champs\n",
    "\n",
    "## Résultats\n",
    "- la formalisation d'un modèle de données facilite la compréhension des données et des relations entre champs\n",
    "- l'outil de contrôle permet d'améliorer significativement la qualité des données par la détection d'incohérences de relations\n",
    "- l'analyse a posteriori permet de (re)trouver la logique de dépendance entre les colonnes qui minimise les incohérences\n",
    "- les incohérences détectées sur le jeu de données IRVE restent faibles (inférieures à 2% des point de charge documentés - voir chapitre 4)\n",
    "\n",
    "## Suite à donner\n",
    "- Mettre à jour, valider et publier le modèle de données IRVE\n",
    "- Définir les contrôles supplémentaires à intégrer pour toutes nouvelles données ainsi que pour le jeu complet\n",
    "- Mettre en oeuvre les outils de contrôle\n",
    "\n",
    "## Evolutions possibles \n",
    "- Ajouter dans les guides d'Etalab un guide pour les modèles de données \n",
    "- Intégrer dans les schémas de données la propriété \"relationship\" en cours de validation,\n",
    "- Définir un indicateur qui mesure l'écart (existant / attendu) des relations entre champs\n",
    "\n",
    "## Sommaire\n",
    "*(liens actifs sur jupyter Notebook ou Nbviewer)*\n",
    "- [1 - modèle de données](#1---modèle-de-données)\n",
    "- [2 - Initialisation](#2---Initialisation)\n",
    "- [3 - Séparation des pdc itinerance et hors itinerance](#3---Séparation-des-pdc-itinerance-et-hors-itinerance)\n",
    "- [4 - Bilan initial intégrité](#4---Bilan-initial-intégrité)\n",
    "- [5 - Séparation doublons pdc - date de maj](#5---Séparation-doublons-pdc---date-de-maj)\n",
    "- [6 - Séparation doublons station - date de maj](#6---Séparation-doublons-station---date-de-maj)\n",
    "- [7 - Synthèse](#7---Synthèse)\n",
    "- [8 - Exemples d erreurs résiduelles](#8---Exemples-d-erreurs-résiduelles)\n",
    "- [Annexe : Initialisation du modèle de données 'mermaid'](#Annexe-:-Initialisation-du-modèle-de-données-'mermaid')\n",
    "\n",
    "Ce Notebook peut être consulté sur [nbviewer](http://nbviewer.org/github/loco-philippe/Environmental-Sensing/tree/main/python/Validation/irve)\n",
    "\n",
    "données utilisées : https://www.data.gouv.fr/fr/datasets/fichier-consolide-des-bornes-de-recharge-pour-vehicules-electriques/    \n",
    "fichier : \"*consolidation-etalab-schema-irve-statique-v-2.2.0-20230303.csv*\""
   ]
  },
  {
   "cell_type": "markdown",
   "metadata": {},
   "source": [
    "-----------------------\n",
    "# 1 - modèle de données\n",
    "\n",
    "Le modèle de données proposé ci-dessous est construit sur la base du schéma de données mis à disposition et du contenu du jeu de données.    \n",
    "Il est à consolider en fonction de l'expertise des concepteurs et réutilisateurs (voir [guide méthodologique](https://github.com/loco-philippe/Environmental-Sensing/blob/main/property_relationship/FR_methodology.ipynb)).\n",
    "\n",
    "*Notation:*\n",
    "- *M : Mandatory - documentation obligatoire*\n",
    "- *PK : Primary Key - identifiant unique de l'entité*\n",
    "- *Root : champ fictif associé à une ligne du tableau*"
   ]
  },
  {
   "cell_type": "code",
   "execution_count": 171,
   "metadata": {
    "scrolled": false
   },
   "outputs": [
    {
     "data": {
      "text/html": [
       "<img src=\"https://mermaid.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\"/>"
      ],
      "text/plain": [
       "<IPython.core.display.Image object>"
      ]
     },
     "metadata": {},
     "output_type": "display_data"
    }
   ],
   "source": [
    "from base64 import b64encode\n",
    "from IPython.display import Image, display\n",
    "with open('IRVE_modele.txt', 'r', encoding=\"utf-8\") as f:\n",
    "    modele = f.read()\n",
    "display(Image(url=\"https://mermaid.ink/img/\" + b64encode(modele.encode(\"ascii\")).decode(\"ascii\")))"
   ]
  },
  {
   "cell_type": "code",
   "execution_count": 172,
   "metadata": {},
   "outputs": [],
   "source": [
    "def analyse_integrite(data, fields, pr=True):\n",
    "    '''analyse les relations du DataFrame définies dans le dict fields et retourne un dict avec pour chaque contrôle la\n",
    "    liste des index ko. Les résultats des contrôles sont également ajoutés sous forme de champs booléens à data'''\n",
    "    analyse = Analysis(data)\n",
    "    dic_res = analyse.check_relationship(fields)\n",
    "    data['ok'] = True\n",
    "    for name, lis in dic_res.items():\n",
    "        data[name] = True\n",
    "        data.loc[lis, name] = False\n",
    "        data['ok'] = data['ok'] & data[name]\n",
    "        if pr:\n",
    "            print('{:<50} {:>5}'.format(name, len(data) - data[name].sum()))\n",
    "    return dic_res"
   ]
  },
  {
   "cell_type": "markdown",
   "metadata": {},
   "source": [
    "------\n",
    "# 2 - Initialisation\n",
    "## initialisation des données\n",
    "- lecture du fichier issu de l'api"
   ]
  },
  {
   "cell_type": "code",
   "execution_count": 141,
   "metadata": {},
   "outputs": [
    {
     "name": "stdout",
     "output_type": "stream",
     "text": [
      "nombre de lignes :  51276\n"
     ]
    }
   ],
   "source": [
    "from datetime import datetime\n",
    "import json\n",
    "from observation import Ilist, Analysis\n",
    "import pandas as pd\n",
    "log = {'date_irve': '2023-03-03', 'file': 'consolidation-etalab-schema-irve-statique-v-2.2.0-20230303.csv',\n",
    "      'chemin': 'https://raw.githubusercontent.com/loco-philippe/Environmental-Sensing/main/python/Validation/irve/'}\n",
    "irve = pd.read_csv(log['chemin'] + log['file'], sep=',', low_memory=False)\n",
    "log['len_irve'] = len(irve)\n",
    "print('nombre de lignes : ', log['len_irve']) "
   ]
  },
  {
   "cell_type": "markdown",
   "metadata": {},
   "source": [
    "## schéma de données\n",
    "Le schéma de données restreint à la propriété 'relationship' et construit à partir du modèle de données est le suivants :"
   ]
  },
  {
   "cell_type": "code",
   "execution_count": 142,
   "metadata": {},
   "outputs": [],
   "source": [
    "fields = [\n",
    " \n",
    " # relation unicité des pdl\n",
    " { \"name\": \"index\",\n",
    "   \"relationship\" : { \"parent\" : \"id_pdc_itinerance\", \"link\" : \"coupled\" }},   \n",
    " # relations inter entités\n",
    " { \"name\": \"contact_operateur\",\n",
    "   \"relationship\" : { \"parent\" : \"id_station_itinerance\", \"link\" : \"derived\" }},\n",
    " { \"name\": \"nom_enseigne\",\n",
    "   \"relationship\" : { \"parent\" : \"id_station_itinerance\", \"link\" : \"derived\" }},\n",
    " { \"name\": \"coordonneesXY\",\n",
    "   \"relationship\" : { \"parent\" : \"id_station_itinerance\", \"link\" : \"derived\" }},\n",
    " { \"name\": \"id_station_itinerance\",\n",
    "   \"relationship\" : { \"parent\" : \"id_pdc_itinerance\",     \"link\" : \"derived\" }},\n",
    " # relations intra entité - station\n",
    " { \"name\": \"nom_station\",\n",
    "   \"relationship\" : { \"parent\" : \"id_station_itinerance\", \"link\" : \"derived\" }},\n",
    " { \"name\": \"implantation_station\",\n",
    "   \"relationship\" : { \"parent\" : \"id_station_itinerance\", \"link\" : \"derived\" }},\n",
    " { \"name\": \"nbre_pdc\",\n",
    "   \"relationship\" : { \"parent\" : \"id_station_itinerance\", \"link\" : \"derived\" }},\n",
    " { \"name\": \"condition_acces\",\n",
    "   \"relationship\" : { \"parent\" : \"id_station_itinerance\", \"link\" : \"derived\" }},\n",
    " { \"name\": \"horaires\",\n",
    "   \"relationship\" : { \"parent\" : \"id_station_itinerance\", \"link\" : \"derived\" }},\n",
    " { \"name\": \"station_deux_roues\",\n",
    "   \"relationship\" : { \"parent\" : \"id_station_itinerance\", \"link\" : \"derived\" }},\n",
    " # relations intra entité - localisation\n",
    " { \"name\": \"adresse_station\",\n",
    "   \"relationship\" : { \"parent\" : \"coordonneesXY\",         \"link\" : \"derived\" }} ]\n",
    "\n",
    "# liste des champs liés à un controle (relations) et obligatoires (mandatory)\n",
    "relations = ['index', 'contact_operateur', 'nom_enseigne', 'coordonneesXY', 'adresse_station', 'id_station_itinerance', \n",
    "             'nom_station', 'implantation_station', 'nbre_pdc', 'condition_acces', 'horaires', 'station_deux_roues', \n",
    "             'id_pdc_itinerance', 'date_maj', 'last_modified']\n",
    "mandatory =  ['contact_operateur', 'nom_enseigne', 'coordonneesXY', 'adresse_station', 'id_station_itinerance', 'nom_station',\n",
    "           'implantation_station', 'nbre_pdc', 'condition_acces', 'horaires', 'station_deux_roues', 'id_pdc_itinerance', \n",
    "           'puissance_nominale', 'prise_type_ef', 'prise_type_2', 'prise_type_combo_ccs', 'prise_type_chademo', \n",
    "           'prise_type_autre', 'paiement_acte', 'paiement_autre', 'reservation',  'accessibilite_pmr', 'restriction_gabarit', \n",
    "           'date_maj', 'last_modified']"
   ]
  },
  {
   "cell_type": "markdown",
   "metadata": {},
   "source": [
    "-----------------------\n",
    "## 3 - Séparation des pdc itinerance et hors itinerance\n",
    "- un peu moins de 1 % des points de charge sont hors itinerance"
   ]
  },
  {
   "cell_type": "code",
   "execution_count": 145,
   "metadata": {},
   "outputs": [
    {
     "name": "stdout",
     "output_type": "stream",
     "text": [
      "nombre de pdc hors itinerance :  607\n",
      "nombre de pdc en itinerance   :  50669\n"
     ]
    }
   ],
   "source": [
    "data = irve\n",
    "data[['id_station_itinerance','id_pdc_itinerance']] = data[['id_station_itinerance','id_pdc_itinerance']].astype('string')\n",
    "#data[['last_modified','date_maj']] = data[['last_modified','date_maj']].astype('datetime64')\n",
    "data['non_concerne'] = data['id_station_itinerance'].str.contains('oncern') | data['id_pdc_itinerance'].str.contains('oncern')\n",
    "\n",
    "non_concerne = data[data['non_concerne']].reset_index()['index']\n",
    "itinerance = data[~data['non_concerne']].reset_index()\n",
    "itinerance_init = itinerance.loc[:, relations]\n",
    "log['pdc_hors_itinerance'] = len(non_concerne)\n",
    "log['pdc_en_itinerance'] = len(itinerance)\n",
    "print('nombre de pdc hors itinerance : ', log['pdc_hors_itinerance'])\n",
    "print('nombre de pdc en itinerance   : ', log['pdc_en_itinerance'])"
   ]
  },
  {
   "cell_type": "code",
   "execution_count": 146,
   "metadata": {},
   "outputs": [
    {
     "name": "stdout",
     "output_type": "stream",
     "text": [
      "-1: root-derived (50669)\n",
      "   0 : index (50669)\n",
      "      1 : contact_operateur (120)\n",
      "      2 : nom_enseigne (1132)\n",
      "      3 : coordonneesXY (16849)\n",
      "      4 : adresse_station (16094)\n",
      "      5 : id_station_itinerance (18535)\n",
      "      6 : nom_station (15058)\n",
      "      7 : implantation_station (5)\n",
      "      8 : nbre_pdc (43)\n",
      "      9 : condition_acces (2)\n",
      "      10: horaires (453)\n",
      "      11: station_deux_roues (7)\n",
      "      12: id_pdc_itinerance (42368)\n",
      "      13: date_maj (565)\n",
      "      14: last_modified (444)\n"
     ]
    }
   ],
   "source": [
    "# arborescence des champs et nombre de valeurs différentes\n",
    "il = Ilist.obj(itinerance_init)\n",
    "print(il.tree())"
   ]
  },
  {
   "cell_type": "markdown",
   "metadata": {},
   "source": [
    "-----------------------\n",
    "## 4 - Bilan initial intégrité\n",
    "- 36 % des lignes sont erronées ( 18 116 )"
   ]
  },
  {
   "cell_type": "code",
   "execution_count": 147,
   "metadata": {},
   "outputs": [
    {
     "name": "stdout",
     "output_type": "stream",
     "text": [
      "index - id_pdc_itinerance                          16123\n",
      "contact_operateur - id_station_itinerance          10719\n",
      "nom_enseigne - id_station_itinerance                7514\n",
      "coordonneesXY - id_station_itinerance              11825\n",
      "id_station_itinerance - id_pdc_itinerance            578\n",
      "nom_station - id_station_itinerance                 1865\n",
      "implantation_station - id_station_itinerance        1245\n",
      "nbre_pdc - id_station_itinerance                    1458\n",
      "condition_acces - id_station_itinerance               35\n",
      "horaires - id_station_itinerance                    9869\n",
      "station_deux_roues - id_station_itinerance         10968\n",
      "adresse_station - coordonneesXY                     1360\n",
      "\n",
      "nombre d'enregistrements sans erreurs :  32553\n",
      "nombre d'enregistrements avec au moins une erreur :  18116\n",
      "taux d'erreur :  36  %\n"
     ]
    }
   ],
   "source": [
    "# séparation données bonnes (itinerance_ok_1) et données résiduelles (itinerance_1)\n",
    "res = analyse_integrite(itinerance_init, fields)\n",
    "itinerance_ok_1 = itinerance_init.loc[itinerance_init.ok, relations].reset_index(drop=True)\n",
    "itinerance_1 = itinerance_init.loc[~itinerance_init.ok, relations].reset_index(drop=True)\n",
    "itinerance_init = itinerance_init.loc[:, relations]\n",
    "log['init_ok'] = len(itinerance_ok_1)\n",
    "log['init_ko'] = len(itinerance_1)\n",
    "print(\"\\nnombre d'enregistrements sans erreurs : \", log['init_ok'])\n",
    "print(\"nombre d'enregistrements avec au moins une erreur : \", log['init_ko'])\n",
    "print(\"taux d'erreur : \", round(log['init_ko'] / log['pdc_en_itinerance'] * 100), ' %')"
   ]
  },
  {
   "cell_type": "markdown",
   "metadata": {},
   "source": [
    "-----------------------\n",
    "## 5 - Séparation doublons pdc - date de maj\n",
    "- la moitié des pdc en erreur sont liées aux doublons de pdc\n",
    "- la suppression des doublons permet de diviser par 5 le nombre de lignes erronnées ( 2 166 )"
   ]
  },
  {
   "cell_type": "code",
   "execution_count": 148,
   "metadata": {},
   "outputs": [
    {
     "name": "stdout",
     "output_type": "stream",
     "text": [
      "nombre de doublons pdc :  8301\n",
      "nombre de pdc sans doublon   :  9815\n"
     ]
    }
   ],
   "source": [
    "# séparation doublons pdc (doublons_pdc) et données résiduelles (itinerance_2)\n",
    "itinerance_1['doublons_pdc'] = itinerance_1.sort_values(by='date_maj').duplicated('id_pdc_itinerance', keep='last')\n",
    "\n",
    "doublons_pdc = itinerance_1[itinerance_1['doublons_pdc']].loc[:, relations].reset_index(drop=True)['index']\n",
    "itinerance_2 = itinerance_1[~itinerance_1['doublons_pdc']].loc[:, relations].reset_index(drop=True)\n",
    "itinerance_1 = itinerance_1.loc[:, relations]\n",
    "log['doublons_pdc'] = len(doublons_pdc)\n",
    "log['sans_doublons_pdc'] = len(itinerance_2)\n",
    "print('nombre de doublons pdc : ', log['doublons_pdc'])\n",
    "print('nombre de pdc sans doublon   : ', log['sans_doublons_pdc'])"
   ]
  },
  {
   "cell_type": "code",
   "execution_count": 149,
   "metadata": {},
   "outputs": [
    {
     "name": "stdout",
     "output_type": "stream",
     "text": [
      "index - id_pdc_itinerance                              0\n",
      "contact_operateur - id_station_itinerance            200\n",
      "nom_enseigne - id_station_itinerance                 457\n",
      "coordonneesXY - id_station_itinerance                624\n",
      "id_station_itinerance - id_pdc_itinerance              0\n",
      "nom_station - id_station_itinerance                  204\n",
      "implantation_station - id_station_itinerance         136\n",
      "nbre_pdc - id_station_itinerance                     513\n",
      "condition_acces - id_station_itinerance                5\n",
      "horaires - id_station_itinerance                     194\n",
      "station_deux_roues - id_station_itinerance           521\n",
      "adresse_station - coordonneesXY                      587\n",
      "\n",
      "nombre d'enregistrements sans erreurs :  7649\n",
      "nombre d'enregistrements avec au moins une erreur :  2166\n"
     ]
    }
   ],
   "source": [
    "# séparation données bonnes (itinerance_ok_3) et données résiduelles (itinerance_3)\n",
    "res = analyse_integrite(itinerance_2, fields)\n",
    "itinerance_ok_3 = itinerance_2.loc[itinerance_2.ok, relations].reset_index(drop=True)\n",
    "itinerance_3 = itinerance_2.loc[~itinerance_2.ok, relations].reset_index(drop=True)\n",
    "itinerance_2 = itinerance_2.loc[:, relations]\n",
    "log['etape3_ok'] = len(itinerance_ok_3)\n",
    "log['etape3_ko'] = len(itinerance_3)\n",
    "print(\"\\nnombre d'enregistrements sans erreurs : \", log['etape3_ok'])\n",
    "print(\"nombre d'enregistrements avec au moins une erreur : \", log['etape3_ko'])"
   ]
  },
  {
   "cell_type": "markdown",
   "metadata": {},
   "source": [
    "-----------------------\n",
    "## 6 - Séparation doublons station - date de maj\n",
    "- 20% des erreurs résiduelles sont liées au mélange d'anciens et de nouveaux pdc\n",
    "- la suppression des anciens pdc permet de réduire de 25% le nombre de lignes erronnées ( 1 616 )\n",
    "- les dernières erreurs correspondent à 468 stations associées à 32 opérateurs et sont liées à des causes multiples"
   ]
  },
  {
   "cell_type": "code",
   "execution_count": 150,
   "metadata": {},
   "outputs": [
    {
     "name": "stdout",
     "output_type": "stream",
     "text": [
      "nombre de doublons stations :  375\n",
      "nombre de pdc sans doublon   :  1791\n"
     ]
    }
   ],
   "source": [
    "# séparation doublons stations (doublons_stat_maj) et données résiduelles (itinerance_4)\n",
    "itinerance_3['stat_maj'] = itinerance_3.id_station_itinerance + itinerance_3.date_maj\n",
    "stat_maj_unique = itinerance_3.sort_values(by='stat_maj').drop_duplicates('id_station_itinerance', keep='last')\n",
    "itinerance_3['last_stat_maj'] = itinerance_3['stat_maj'].isin(stat_maj_unique['stat_maj'])\n",
    "\n",
    "doublons_stat_maj = itinerance_3[~itinerance_3['last_stat_maj']].loc[:, relations].reset_index(drop=True)['index']\n",
    "itinerance_4 = itinerance_3[itinerance_3['last_stat_maj']].loc[:, relations].reset_index(drop=True)\n",
    "itinerance_3 = itinerance_3.loc[:, relations]\n",
    "log['doublons_station'] = len(doublons_stat_maj)\n",
    "log['sans_doublons_station'] = len(itinerance_4)\n",
    "print('nombre de doublons stations : ', log['doublons_station'])\n",
    "print('nombre de pdc sans doublon   : ', log['sans_doublons_station'])"
   ]
  },
  {
   "cell_type": "code",
   "execution_count": 151,
   "metadata": {},
   "outputs": [
    {
     "name": "stdout",
     "output_type": "stream",
     "text": [
      "index - id_pdc_itinerance                              0\n",
      "contact_operateur - id_station_itinerance              0\n",
      "nom_enseigne - id_station_itinerance                 267\n",
      "coordonneesXY - id_station_itinerance                216\n",
      "id_station_itinerance - id_pdc_itinerance              0\n",
      "nom_station - id_station_itinerance                   40\n",
      "implantation_station - id_station_itinerance          23\n",
      "nbre_pdc - id_station_itinerance                     452\n",
      "condition_acces - id_station_itinerance                0\n",
      "horaires - id_station_itinerance                      53\n",
      "station_deux_roues - id_station_itinerance           325\n",
      "adresse_station - coordonneesXY                      414\n",
      "\n",
      "nombre d'enregistrements sans erreurs :  175\n",
      "nombre d'enregistrements avec au moins une erreur :  1616\n"
     ]
    }
   ],
   "source": [
    "# séparation données bonnes (itinerance_ok_5) et données résiduelles (itinerance_5 / itinerance_5_full)\n",
    "res = analyse_integrite(itinerance_4, fields)\n",
    "itinerance_ok_5 = itinerance_4.loc[itinerance_4.ok, relations].reset_index(drop=True)\n",
    "itinerance_5_full = itinerance_4.loc[~itinerance_4.ok].reset_index(drop=True)\n",
    "itinerance_5 = itinerance_5_full.loc[:, relations]\n",
    "#itinerance_4 = itinerance_4.loc[:, relations]\n",
    "log['etape5_ok'] = len(itinerance_ok_5)\n",
    "log['etape5_ko'] = len(itinerance_5)\n",
    "print(\"\\nnombre d'enregistrements sans erreurs : \", log['etape5_ok'])\n",
    "print(\"nombre d'enregistrements avec au moins une erreur : \", log['etape5_ko'])"
   ]
  },
  {
   "cell_type": "code",
   "execution_count": 152,
   "metadata": {},
   "outputs": [
    {
     "name": "stdout",
     "output_type": "stream",
     "text": [
      "-1: root-derived (1616)\n",
      "   0 : index (1616)\n",
      "      2 : nom_enseigne (317)\n",
      "         9 : condition_acces (2)\n",
      "      3 : coordonneesXY (413)\n",
      "      4 : adresse_station (468)\n",
      "         1 : contact_operateur (32)\n",
      "      5 : id_station_itinerance (468)\n",
      "         13: date_maj (82)\n",
      "      6 : nom_station (432)\n",
      "      7 : implantation_station (4)\n",
      "      8 : nbre_pdc (21)\n",
      "      10: horaires (49)\n",
      "      11: station_deux_roues (5)\n",
      "      12: id_pdc_itinerance (1616)\n",
      "      14: last_modified (54)\n"
     ]
    }
   ],
   "source": [
    "# structure des données résiduelles et nombre de valeurs\n",
    "il = Ilist.obj(itinerance_5)\n",
    "print(il.tree())"
   ]
  },
  {
   "cell_type": "code",
   "execution_count": 180,
   "metadata": {},
   "outputs": [
    {
     "name": "stdout",
     "output_type": "stream",
     "text": [
      "nombre d'enregistrements avec  4  erreurs :  12\n"
     ]
    }
   ],
   "source": [
    "# nb maxi d'erreurs\n",
    "itinerance_4['somme'] = 0\n",
    "for name in res.keys():\n",
    "    itinerance_4['somme'] += 1 - itinerance_4[name]\n",
    "erreurs = max(itinerance_4['somme'])\n",
    "maxi = itinerance_4[itinerance_4.somme >= erreurs]\n",
    "print(\"nombre d'enregistrements avec \", erreurs, \" erreurs : \", len(maxi))"
   ]
  },
  {
   "cell_type": "markdown",
   "metadata": {},
   "source": [
    "-----------------------\n",
    "## 7 - Synthèse\n"
   ]
  },
  {
   "cell_type": "code",
   "execution_count": 181,
   "metadata": {},
   "outputs": [
    {
     "name": "stdout",
     "output_type": "stream",
     "text": [
      "total des lignes à corriger :  1616\n",
      "total des doublons à supprimer :  8676\n",
      "nombre de pdc avec controles ok :  40377\n"
     ]
    }
   ],
   "source": [
    "# consolidation des données\n",
    "itinerance['doublons_stat_maj'] = itinerance['index'].isin(doublons_stat_maj)\n",
    "itinerance['doublons_pdc'] = itinerance['index'].isin(doublons_pdc)\n",
    "itinerance['lignes_a_corriger'] = itinerance['index'].isin(itinerance_5['index'])\n",
    "itinerance['doublons_a_supprimer'] = itinerance['doublons_stat_maj'] | itinerance['doublons_pdc']\n",
    "itinerance['lignes_ko'] = itinerance['doublons_a_supprimer'] | itinerance['lignes_a_corriger']\n",
    "print('total des lignes à corriger : ', itinerance['lignes_a_corriger'].sum())\n",
    "itinerance_doublons = itinerance[itinerance['doublons_a_supprimer']].reset_index(drop=True)\n",
    "print('total des doublons à supprimer : ', len(itinerance_doublons))\n",
    "itinerance_ok = itinerance[~itinerance['lignes_ko']].reset_index(drop=True)\n",
    "print('nombre de pdc avec controles ok : ', len(itinerance_ok))"
   ]
  },
  {
   "cell_type": "code",
   "execution_count": 182,
   "metadata": {},
   "outputs": [],
   "source": [
    "#fichier csv des lignes résiduelles à traiter (IRVE_residuel)\n",
    "#fichier csv des données itinerance avec indicateur des données à corriger ou à ignorer (IRVE_itinerance_complet)\n",
    "#fichier csv des données itinerance valides (IRVE_itinerance_valide)\n",
    "#fichier csv des doublons (IRVE_itinerance_doublons)\n",
    "extension = log['date_irve'] +'.csv'\n",
    "itinerance_5_full.to_csv('IRVE_residuel' + extension)\n",
    "itinerance.to_csv('IRVE_itinerance_complet' + extension)\n",
    "itinerance_ok.to_csv('IRVE_itinerance_valide' + extension)\n",
    "itinerance_doublons.to_csv('IRVE_itinerance_doublons' + extension)\n",
    "log['IRVE_residuel' + extension] = len(itinerance_5_full)\n",
    "log['IRVE_itinerance_complet' + extension] = len(itinerance)\n",
    "log['IRVE_itinerance_valide' + extension] = len(itinerance_ok)\n",
    "log['IRVE_itinerance_doublons' + extension] = len(itinerance_doublons)"
   ]
  },
  {
   "cell_type": "code",
   "execution_count": 183,
   "metadata": {},
   "outputs": [
    {
     "name": "stdout",
     "output_type": "stream",
     "text": [
      "\n",
      "bilan intégrité :\n",
      "\n",
      "erreurs :  0\n"
     ]
    }
   ],
   "source": [
    "# vérification de l'intégrité\n",
    "print('\\nbilan intégrité :')\n",
    "res = analyse_integrite(itinerance_ok.loc[:, relations], fields, pr=False)\n",
    "log['bilan_erreurs'] = sum([len(controle) for controle in res.values()])\n",
    "log['date'] = datetime.now().isoformat()\n",
    "print('\\nerreurs : ', log['bilan_erreurs'])"
   ]
  },
  {
   "cell_type": "code",
   "execution_count": 184,
   "metadata": {},
   "outputs": [
    {
     "name": "stdout",
     "output_type": "stream",
     "text": [
      "{'date_irve': '2023-03-03', 'file': 'consolidation-etalab-schema-irve-statique-v-2.2.0-20230303.csv', 'chemin': 'https://raw.githubusercontent.com/loco-philippe/Environmental-Sensing/main/python/Validation/irve/', 'len_irve': 51276, 'pdc_hors_itinerance': 607, 'pdc_en_itinerance': 50669, 'init_ok': 32553, 'init_ko': 18116, 'doublons_pdc': 8301, 'sans_doublons_pdc': 9815, 'etape3_ok': 7649, 'etape3_ko': 2166, 'doublons_station': 375, 'sans_doublons_station': 1791, 'etape5_ok': 175, 'etape5_ko': 1616, 'IRVE_residuel2023-03-03.csv': 1616, 'IRVE_itinerance_complet2023-03-03.csv': 50669, 'IRVE_itinerance_valide2023-03-03.csv': 40377, 'IRVE_itinerance_doublons2023-03-03.csv': 8676, 'bilan_erreurs': 0, 'date': '2023-04-14T16:44:14.053451'}\n"
     ]
    }
   ],
   "source": [
    "with open('logfile.txt', 'a', encoding=\"utf-8\") as f:\n",
    "    f.write(json.dumps(log) + '\\n')\n",
    "print(log)"
   ]
  },
  {
   "cell_type": "code",
   "execution_count": 185,
   "metadata": {},
   "outputs": [
    {
     "ename": "NameError",
     "evalue": "name 'mandatory' is not defined",
     "output_type": "error",
     "traceback": [
      "\u001b[1;31m---------------------------------------------------------------------------\u001b[0m",
      "\u001b[1;31mNameError\u001b[0m                                 Traceback (most recent call last)",
      "\u001b[1;32m~\\AppData\\Local\\Temp\\ipykernel_9108\\3460097051.py\u001b[0m in \u001b[0;36m<module>\u001b[1;34m\u001b[0m\n\u001b[0;32m      1\u001b[0m \u001b[1;31m# structure des données bonnes\u001b[0m\u001b[1;33m\u001b[0m\u001b[1;33m\u001b[0m\u001b[0m\n\u001b[1;32m----> 2\u001b[1;33m \u001b[0mil\u001b[0m \u001b[1;33m=\u001b[0m \u001b[0mIlist\u001b[0m\u001b[1;33m.\u001b[0m\u001b[0mobj\u001b[0m\u001b[1;33m(\u001b[0m\u001b[0mitinerance_ok\u001b[0m\u001b[1;33m.\u001b[0m\u001b[0mloc\u001b[0m\u001b[1;33m[\u001b[0m\u001b[1;33m:\u001b[0m\u001b[1;33m,\u001b[0m \u001b[0mmandatory\u001b[0m\u001b[1;33m]\u001b[0m\u001b[1;33m)\u001b[0m\u001b[1;33m\u001b[0m\u001b[1;33m\u001b[0m\u001b[0m\n\u001b[0m\u001b[0;32m      3\u001b[0m \u001b[0mprint\u001b[0m\u001b[1;33m(\u001b[0m\u001b[0mil\u001b[0m\u001b[1;33m.\u001b[0m\u001b[0mtree\u001b[0m\u001b[1;33m(\u001b[0m\u001b[1;33m)\u001b[0m\u001b[1;33m)\u001b[0m\u001b[1;33m\u001b[0m\u001b[1;33m\u001b[0m\u001b[0m\n",
      "\u001b[1;31mNameError\u001b[0m: name 'mandatory' is not defined"
     ]
    }
   ],
   "source": [
    "# structure des données bonnes\n",
    "il = Ilist.obj(itinerance_ok.loc[:, mandatory])\n",
    "print(il.tree())"
   ]
  },
  {
   "cell_type": "markdown",
   "metadata": {},
   "source": [
    "-----------------------\n",
    "## 8 - Exemples d erreurs résiduelles \n",
    "\n",
    "### Erreurs multiples \n",
    "- exemple avec le nombre maximal d'erreurs (4) (2 stations soit 12 pdc avec : adresse, nom, nbre_pdc et deux-roues erronés)"
   ]
  },
  {
   "cell_type": "code",
   "execution_count": null,
   "metadata": {
    "scrolled": false
   },
   "outputs": [],
   "source": [
    "maxi.loc[:, relations]"
   ]
  },
  {
   "cell_type": "markdown",
   "metadata": {},
   "source": [
    "### Cohérence implantation_station - id_station\n",
    "- 23 pdc sont liés à une erreur de choix d'implantation (3 stations, 1 opérateur)"
   ]
  },
  {
   "cell_type": "code",
   "execution_count": null,
   "metadata": {
    "scrolled": true
   },
   "outputs": [],
   "source": [
    "itinerance_4.loc[~itinerance_4['implantation_station - id_station_itinerance'], relations]"
   ]
  },
  {
   "cell_type": "markdown",
   "metadata": {},
   "source": [
    "### Cohérence nom_station - id_station\n",
    "- 40 pdc sont associés à une station avec un nom non cohérent"
   ]
  },
  {
   "cell_type": "code",
   "execution_count": null,
   "metadata": {
    "scrolled": true
   },
   "outputs": [],
   "source": [
    "itinerance_4.loc[~itinerance_4['nom_station - id_station_itinerance'], relations]"
   ]
  },
  {
   "cell_type": "markdown",
   "metadata": {},
   "source": [
    "### Cohérence adresse - coordonnées\n",
    "- 414 pdc ont une adresse non cohérente avec les coordonnées géographiques"
   ]
  },
  {
   "cell_type": "code",
   "execution_count": null,
   "metadata": {
    "scrolled": false
   },
   "outputs": [],
   "source": [
    "itinerance_4.loc[~itinerance_4['adresse_station - coordonneesXY'], relations]"
   ]
  },
  {
   "cell_type": "markdown",
   "metadata": {},
   "source": [
    "- exemple : une station avec plusieurs adresses -> erreur de saisie ?"
   ]
  },
  {
   "cell_type": "code",
   "execution_count": null,
   "metadata": {
    "scrolled": true
   },
   "outputs": [],
   "source": [
    "itinerance_5.loc[itinerance_5.coordonneesXY\t == '[0.193942, 49.544211]', relations]"
   ]
  },
  {
   "cell_type": "markdown",
   "metadata": {},
   "source": [
    "- exemple : une station avec plusieurs adresses -> erreur de saisie ?"
   ]
  },
  {
   "cell_type": "code",
   "execution_count": null,
   "metadata": {
    "scrolled": false
   },
   "outputs": [],
   "source": [
    "itinerance_5.loc[itinerance_5.coordonneesXY\t == '[2.87930851314442, 48.94679007929618]', relations]"
   ]
  },
  {
   "cell_type": "markdown",
   "metadata": {},
   "source": [
    "### Cohérence station - coordonnées\n",
    "- 216 pdc sont associés à des stations avec plusieurs coordonnées"
   ]
  },
  {
   "cell_type": "code",
   "execution_count": null,
   "metadata": {
    "scrolled": false
   },
   "outputs": [],
   "source": [
    "itinerance_5.loc[~itinerance_5['coordonneesXY - id_station_itinerance'], relations]"
   ]
  },
  {
   "cell_type": "markdown",
   "metadata": {},
   "source": [
    "- exemple : une station avec plusieurs coordonnées -> incompréhension distinction station / pdc"
   ]
  },
  {
   "cell_type": "code",
   "execution_count": null,
   "metadata": {},
   "outputs": [],
   "source": [
    "itinerance_5.loc[itinerance_5.id_station_itinerance == 'FR073PCAMAIEUFR', relations]"
   ]
  },
  {
   "cell_type": "markdown",
   "metadata": {},
   "source": [
    "- exemple : une station avec plusieurs coordonnées -> erreur de saisie"
   ]
  },
  {
   "cell_type": "code",
   "execution_count": null,
   "metadata": {},
   "outputs": [],
   "source": [
    "itinerance_5.loc[itinerance_5.id_station_itinerance == 'FRV75PPX0704', relations]"
   ]
  },
  {
   "cell_type": "markdown",
   "metadata": {},
   "source": [
    "- exemple : une station par point de charge avec nbre_pdc = 1"
   ]
  },
  {
   "cell_type": "code",
   "execution_count": null,
   "metadata": {},
   "outputs": [],
   "source": [
    "itinerance_4.loc[itinerance_4.coordonneesXY == '[0.191899, 49.506711]', relations]"
   ]
  }
 ],
 "metadata": {
  "celltoolbar": "Format de la Cellule Texte Brut",
  "kernelspec": {
   "display_name": "Python 3 (ipykernel)",
   "language": "python",
   "name": "python3"
  },
  "language_info": {
   "codemirror_mode": {
    "name": "ipython",
    "version": 3
   },
   "file_extension": ".py",
   "mimetype": "text/x-python",
   "name": "python",
   "nbconvert_exporter": "python",
   "pygments_lexer": "ipython3",
   "version": "3.10.9"
  }
 },
 "nbformat": 4,
 "nbformat_minor": 4
}
