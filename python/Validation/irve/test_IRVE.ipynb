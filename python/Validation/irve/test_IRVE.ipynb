{
 "cells": [
  {
   "cell_type": "markdown",
   "metadata": {},
   "source": [
    "# Objet : Test opendata des données IRVE\n",
    "\n",
    "## Objectif\n",
    "\n",
    "- valider sur des cas réels l'outil de traitement des \"listes indexées\"\n",
    "- identifier les apports que pourraient avoir ce type d'outil\n",
    "\n",
    "## Résultats\n",
    "- l'outil fonctionne correctement (pas d'erreur identifiées, les temps de réponse restent néanmoins à améliorer).\n",
    "- l'analyse met en évidence la structuration des données et le niveau de qualité des données \n",
    "- les données anormales sont idfentifiées \n",
    "- le gain en taille de fichier varie de 50% (format texte non optimisé) à 80% (taille divisée par 5 !) dans un format optimisé et binaire. Ce niveau d'optimisation est tout à fait notable.\n",
    "- l'analyse permet de (re)trouver la logique de dépendance entre les colonnes qui minimise les incohérences\n",
    "- elle permet également de vérifier que les données respectent bien une structure imposée\n",
    "\n",
    "## Usages possibles \n",
    "- les indicateurs utilisés permettent de qualifier le fichier csv et sont déployables simplement:\n",
    "    - niveau de duplication des données\n",
    "    - lien de dépendance entre les colonnes (permet un codage réduit des données).\n",
    "- l'usage de format de données moins gourmand (sans dégradation des données) peut également être intéressant à déployer\n",
    "- les schémas de données pourraient intégrer cette dépendance entre colonnes (ex. s'il y a une colonne \"mois\" et une colonne \"trimestre\", on peut indiquer que la colonne \"trimestre\" est \"dérivée\" de la colonne \"mois\", ou bien si on a une colonne \"nom prénom\" et une colonne \"n° sécurité sociale\", on peut indiquer que les deux colonnes sont \"couplées\". \n",
    "- la qualité des données peut faire l'objet d'un indicateur qui mesure l'écart (existant / attendu) des relations entre colonnes\n",
    "- l'identification des enregistrements ne respectant pas une structure imposée permet de les éliminer ou de les corriger\n",
    "\n",
    "données utilisées : https://static.data.gouv.fr/resources/fichier-consolide-des-bornes-de-recharge-pour-vehicules-electriques/20220629-080611/consolidation-etalab-schema-irve-v-2.0.2-20220628.csv"
   ]
  },
  {
   "cell_type": "markdown",
   "metadata": {},
   "source": [
    "------\n",
    "## Initialisation\n",
    "- lecture du fichier issu de l'api (quelques lignes incohérentes au niveau csv ont été éliminées au préalable)"
   ]
  },
  {
   "cell_type": "code",
   "execution_count": 1,
   "metadata": {
    "scrolled": false
   },
   "outputs": [
    {
     "name": "stdout",
     "output_type": "stream",
     "text": [
      "file size :  7456077\n"
     ]
    }
   ],
   "source": [
    "from pprint import pprint\n",
    "from collections import Counter\n",
    "from time import time\n",
    "import csv, os, requests\n",
    "from copy import copy\n",
    "from observation import Ilist, ES, util\n",
    "\n",
    "\n",
    "chemin = 'https://raw.githubusercontent.com/loco-philippe/Environmental-Sensing/master/python/Validation/irve/'\n",
    "data_csv = 'consolidation-etalab-schema-irve-v-2.0.2-20220606-propre2.csv'\n",
    "url = chemin + data_csv\n",
    "open(data_csv, 'wb').write(requests.get(url, allow_redirects=True).content)\n",
    "\n",
    "\n",
    "print('file size : ', os.stat(data_csv).st_size)"
   ]
  },
  {
   "cell_type": "code",
   "execution_count": 2,
   "metadata": {
    "scrolled": false
   },
   "outputs": [],
   "source": [
    "with open(data_csv, newline='', encoding='utf-8') as f:\n",
    "    reader = csv.reader(f, delimiter=';')\n",
    "    names = next(reader)\n",
    "    data = []\n",
    "    for row in reader: data.append(row)\n",
    "data2 = util.list(list(zip(*data)))"
   ]
  },
  {
   "cell_type": "markdown",
   "metadata": {},
   "source": [
    "----\n",
    "## initialisation de l'objet Ilist\n",
    "- l'initialisation pourrait être automatisée à partir du fichier csv\n",
    "- identification de 64 775 valeurs différentes sur un total de 11 163 x 49 valeurs (\"taux d'unicité\" de 12%)\n",
    "- la taille minimale serait de 1,4 Mo (données csv \"quotées\") pour un maximum de 9,6 Mo (données csv \"quotées\")"
   ]
  },
  {
   "cell_type": "code",
   "execution_count": 3,
   "metadata": {
    "scrolled": false
   },
   "outputs": [
    {
     "name": "stdout",
     "output_type": "stream",
     "text": [
      "idxs (len, lenlidx, sumcodec) :  11163 49 64775 21.054966688156128\n",
      "\n",
      "fullsize 9682078 2.5403573513031006\n",
      "\n",
      "minsize 1390520 0.29297590255737305\n"
     ]
    }
   ],
   "source": [
    "t0=time()\n",
    "idxs = Ilist.ext(data2, names)\n",
    "print('idxs (len, lenlidx, sumcodec) : ', len(idxs), len(idxs.idxlen), sum(idxs.idxlen), time()-t0)\n",
    "t0=time()\n",
    "fullsize = len(idxs.to_obj(encoded=True, modecodec='full'))\n",
    "print('\\nfullsize', fullsize, time()-t0)\n",
    "t0=time()\n",
    "minsize = len(idxs.to_obj(encoded=True, modecodec='nokeys'))\n",
    "print('\\nminsize', minsize, time()-t0)"
   ]
  },
  {
   "cell_type": "markdown",
   "metadata": {},
   "source": [
    "----\n",
    "## format non optimisé\n",
    "- le \"taux d'unicité\"(unicity level) reste à 12% (pas de modification des index)\n",
    "- le \"taux de codage\"(object lightness) est de 30% (remplacement des données dupliquées par un entier)\n",
    "- le gain de taille de fichier par rapport à un fichier \"quoté\" est de 62%"
   ]
  },
  {
   "cell_type": "code",
   "execution_count": 4,
   "metadata": {
    "scrolled": false
   },
   "outputs": [
    {
     "name": "stdout",
     "output_type": "stream",
     "text": [
      "defaultsize 3701134 0.43479466438293457 \n",
      "\n",
      "indicator default : \n",
      "{'gain': 0.618,\n",
      " 'maxgain': 0.884,\n",
      " 'mean coding size': 5.223,\n",
      " 'mean size': 17.347,\n",
      " 'object lightness': 0.301,\n",
      " 'optimize level': 0.382,\n",
      " 'total values': 558150,\n",
      " 'unicity level': 0.116,\n",
      " 'unique values': 64824}\n",
      "\n",
      " True\n"
     ]
    }
   ],
   "source": [
    "t0=time()\n",
    "defaultsize = len(idxs.to_obj(encoded=True, modecodec='default'))\n",
    "print('defaultsize', defaultsize, time()-t0, '\\n')\n",
    "print('indicator default : ')\n",
    "pprint(idxs.indicator(fullsize, defaultsize))\n",
    "print('\\n', idxs==idxs.from_obj(idxs.to_obj(encoded=True, modecodec='default')))"
   ]
  },
  {
   "cell_type": "markdown",
   "metadata": {},
   "source": [
    "- l'analyse de la structure montre qu'aucun champ est de type 'primary' et que les données sont principalement du type \"secondary\". On est donc sur une structure non matricielle."
   ]
  },
  {
   "cell_type": "code",
   "execution_count": 5,
   "metadata": {},
   "outputs": [
    {
     "name": "stdout",
     "output_type": "stream",
     "text": [
      "Counter({'secondary': 48, 'coupled': 1})\n"
     ]
    }
   ],
   "source": [
    "print(Counter(idxs.category.values()))"
   ]
  },
  {
   "cell_type": "markdown",
   "metadata": {},
   "source": [
    "- l'examen de \"l'arbre de dérivation\" indique un faible niveau d'interdépendance entre champs (seuls quelques-uns ne sont pas liés à la racine). Par exemple les index longitude(43) et latitude(44) sont bien dérivés de l'index coordonneesXY(13)\n"
   ]
  },
  {
   "cell_type": "code",
   "execution_count": 6,
   "metadata": {},
   "outputs": [
    {
     "name": "stdout",
     "output_type": "stream",
     "text": [
      "-1: root-derived (11163)\n",
      "   0 : nom_amenageur (481)\n",
      "   1 : siren_amenageur (670)\n",
      "   2 : contact_amenageur (388)\n",
      "   3 : nom_operateur (152)\n",
      "   4 : contact_operateur (159)\n",
      "   5 : telephone_operateur (215)\n",
      "   6 : nom_enseigne (764)\n",
      "   7 : id_station_itinerance (7060)\n",
      "   8 : id_station_local (3838)\n",
      "   9 : nom_station (4503)\n",
      "   10: implantation_station (5)\n",
      "   11: adresse_station (4392)\n",
      "      28: condition_acces (3)\n",
      "   12: code_insee_commune (2593)\n",
      "   13: coordonneesXY (4459)\n",
      "      33: station_deux_roues (7)\n",
      "      43: consolidated_longitude (4448)\n",
      "      44: consolidated_latitude (4429)\n",
      "   14: nbre_pdc (32)\n",
      "   15: id_pdc_itinerance (10322)\n",
      "   16: id_pdc_local (7095)\n",
      "   17: puissance_nominale (61)\n",
      "   18: prise_type_ef (9)\n",
      "   19: prise_type_2 (8)\n",
      "   20: prise_type_combo_ccs (8)\n",
      "   21: prise_type_chademo (7)\n",
      "   22: prise_type_autre (8)\n",
      "   23: gratuit (9)\n",
      "   24: paiement_acte (9)\n",
      "   25: paiement_cb (8)\n",
      "   26: paiement_autre (9)\n",
      "   27: tarification (128)\n",
      "   29: reservation (8)\n",
      "   30: horaires (140)\n",
      "   31: accessibilite_pmr (5)\n",
      "   32: restriction_gabarit (97)\n",
      "   34: raccordement (3)\n",
      "   35: num_pdl (1371)\n",
      "   36: date_mise_en_service (1102)\n",
      "   37: observations (101)\n",
      "   38: date_maj (269)\n",
      "   39: last_modified (385)\n",
      "      40: datagouv_dataset_id (294)\n",
      "         42: datagouv_organization_or_owner (122)\n",
      "      41: datagouv_resource_id (385)\n",
      "   45: consolidated_code_postal (1697)\n",
      "   46: consolidated_commune (2511)\n",
      "   47: consolidated_is_lon_lat_correct (3)\n",
      "   48: consolidated_is_code_insee_verified (3)\n"
     ]
    }
   ],
   "source": [
    "print(idxs.tree())"
   ]
  },
  {
   "cell_type": "markdown",
   "metadata": {},
   "source": [
    "- le taux de couplage (cf ci-dessous) pour chacun des index est très proche de 0, ce qui signifie que les champs devraient être de type \"derived\" (lien de dépendance par exemple comme entre les trimestres et les mois) ou \"coupled\" (lien biunivoque). \n",
    "- ceci indique la présence probable d'erreurs de documentation du tableau"
   ]
  },
  {
   "cell_type": "code",
   "execution_count": 7,
   "metadata": {},
   "outputs": [
    {
     "name": "stdout",
     "output_type": "stream",
     "text": [
      "-1: root-diff (11163)\n",
      "   15: id_pdc_itinerance (1.00e+00 - 10322)\n",
      "      6 : nom_enseigne (2.89e-05 - 764)\n",
      "      7 : id_station_itinerance (5.76e-07 - 7060)\n",
      "         14: nbre_pdc (8.22e-05 - 32)\n",
      "         48: consolidated_is_code_insee_verified (1.42e-04 - 3)\n",
      "      8 : id_station_local (7.04e-06 - 3838)\n",
      "      9 : nom_station (5.94e-06 - 4503)\n",
      "         0 : nom_amenageur (6.01e-06 - 481)\n",
      "         1 : siren_amenageur (3.32e-06 - 670)\n",
      "         2 : contact_amenageur (2.87e-06 - 388)\n",
      "         3 : nom_operateur (1.91e-05 - 152)\n",
      "         4 : contact_operateur (1.41e-05 - 159)\n",
      "         12: code_insee_commune (7.71e-07 - 2593)\n",
      "         13: coordonneesXY (2.19e-06 - 4459)\n",
      "            5 : telephone_operateur (4.72e-05 - 215)\n",
      "            11: adresse_station (2.09e-06 - 4392)\n",
      "               28: condition_acces (0.00e+00 - 3)\n",
      "               30: horaires (3.93e-05 - 140)\n",
      "            33: station_deux_roues (0.00e+00 - 7)\n",
      "            35: num_pdl (9.66e-06 - 1371)\n",
      "            43: consolidated_longitude (0.00e+00 - 4448)\n",
      "            44: consolidated_latitude (0.00e+00 - 4429)\n",
      "         27: tarification (3.15e-05 - 128)\n",
      "         32: restriction_gabarit (1.16e-05 - 97)\n",
      "         39: last_modified (1.10e-04 - 385)\n",
      "            40: datagouv_dataset_id (0.00e+00 - 294)\n",
      "            41: datagouv_resource_id (0.00e+00 - 385)\n",
      "            42: datagouv_organization_or_owner (0.00e+00 - 122)\n",
      "         45: consolidated_code_postal (7.86e-07 - 1697)\n",
      "         46: consolidated_commune (6.19e-07 - 2511)\n",
      "      16: id_pdc_local (3.88e-06 - 7095)\n",
      "         10: implantation_station (2.11e-04 - 5)\n",
      "         31: accessibilite_pmr (7.05e-05 - 5)\n",
      "         34: raccordement (7.05e-05 - 3)\n",
      "         37: observations (5.21e-05 - 101)\n",
      "         47: consolidated_is_lon_lat_correct (2.82e-04 - 3)\n",
      "      17: puissance_nominale (4.88e-04 - 61)\n",
      "      18: prise_type_ef (4.12e-04 - 9)\n",
      "      19: prise_type_2 (3.60e-04 - 8)\n",
      "      20: prise_type_combo_ccs (6.64e-04 - 8)\n",
      "      21: prise_type_chademo (7.75e-04 - 7)\n",
      "      22: prise_type_autre (8.30e-05 - 8)\n",
      "      23: gratuit (6.06e-05 - 9)\n",
      "      24: paiement_acte (7.27e-05 - 9)\n",
      "      25: paiement_cb (8.30e-05 - 8)\n",
      "      26: paiement_autre (1.09e-04 - 9)\n",
      "      29: reservation (8.30e-05 - 8)\n",
      "      36: date_mise_en_service (1.74e-05 - 1102)\n",
      "      38: date_maj (1.51e-04 - 269)\n"
     ]
    }
   ],
   "source": [
    "print(idxs.tree(mode='diff'))"
   ]
  },
  {
   "cell_type": "markdown",
   "metadata": {},
   "source": [
    "----\n",
    "## couplage\n",
    "Le couplage consiste à tranformer les index qui sont \"presque couplés\" en index couplés (tous les index sont bien maintenant de type \"derived\").    \n",
    "    \n",
    "Le choix des index à coupler s'effectue en fonction d'une mesure de \"distance\" entre deux index. Les index avec une distance inférieure à un seuil choisi sont alors couplés.\n"
   ]
  },
  {
   "cell_type": "code",
   "execution_count": 8,
   "metadata": {
    "scrolled": false
   },
   "outputs": [
    {
     "name": "stdout",
     "output_type": "stream",
     "text": [
      "coupling 31.759572982788086\n"
     ]
    }
   ],
   "source": [
    "coup = copy(idxs)\n",
    "coup.reindex()\n",
    "\n",
    "t0=time()\n",
    "coup.coupling(param='distance', level=1000)\n",
    "print('coupling', time()-t0)"
   ]
  },
  {
   "cell_type": "markdown",
   "metadata": {},
   "source": [
    "## Format optimisé\n",
    "Le couplage effectué permet d'optimiser de nouveau le volume des données :    \n",
    "- le \"taux d'unicité\" se dégrade légèrement (passage de 11,6% à 12,1%) par l'ajout d'index supplémentaires\n",
    "- le \"taux de codage\" par contre passe de 30% à 16% de par l'optimisation \n",
    "- le gain de taille de fichier par rapport à un fichier \"quoté\" est maintenant de 74%\n",
    "- l'utilisation d'un format binaire (codage CBOR pour Concise Binary Object Representation RFC 8949) permet d'améliorer encore le gain de taille de fichier (82%)    \n",
    "    \n",
    "En synthèse, on passe donc d'un volume de données de 9,7 Mo (données csv quotées) à un volume de 3,7 Mo (données textuelles formatées) puis 2,4 Mo (données textuelles optimisées) et enfin à 1,8 Mo (données binaires optimisées)."
   ]
  },
  {
   "cell_type": "code",
   "execution_count": 9,
   "metadata": {
    "scrolled": false
   },
   "outputs": [
    {
     "name": "stdout",
     "output_type": "stream",
     "text": [
      "optimizesize :\n",
      " 2431290 8.861904382705688 \n",
      "\n",
      "indicator optimize :\n",
      " {'total values': 558150, 'mean size': 17.347, 'unique values': 78004, 'mean coding size': 2.246, 'unicity level': 0.14, 'optimize level': 0.251, 'object lightness': 0.129, 'maxgain': 0.86, 'gain': 0.749} \n",
      "\n",
      "cborsize :\n",
      " 1798910 0.6935088634490967 \n",
      "\n",
      "indicator cbor : \n",
      " {'total values': 558150, 'mean size': 17.347, 'unique values': 78004, 'mean coding size': 0.928, 'unicity level': 0.14, 'optimize level': 0.186, 'object lightness': 0.054, 'maxgain': 0.86, 'gain': 0.814}\n"
     ]
    }
   ],
   "source": [
    "t0=time()\n",
    "optimize = coup.to_obj(encoded=True)\n",
    "print('optimizesize :\\n', len(optimize), time()-t0, '\\n')\n",
    "print('indicator optimize :\\n', coup.indicator(fullsize, len(optimize)), '\\n')\n",
    "\n",
    "t0=time()\n",
    "cbor = coup.to_obj(encoded=True, encode_format='cbor')\n",
    "cborsize = len(cbor)\n",
    "print('cborsize :\\n', cborsize, time()-t0, '\\n')\n",
    "print('indicator cbor : \\n', coup.indicator(fullsize, cborsize))"
   ]
  },
  {
   "cell_type": "markdown",
   "metadata": {},
   "source": [
    "----\n",
    "## Intégrité\n",
    "- la transformation inverse des données binaires permet de vérifier que les données optimisées sont bien identiques aux données initiales (pas de dégradation, reversibilité)."
   ]
  },
  {
   "cell_type": "code",
   "execution_count": 10,
   "metadata": {
    "scrolled": false
   },
   "outputs": [
    {
     "name": "stdout",
     "output_type": "stream",
     "text": [
      "fromcbor 11163 9.942213535308838\n",
      "controle égalité : True 0.3523378372192383\n"
     ]
    }
   ],
   "source": [
    "t0=time()\n",
    "idxs2 = Ilist.from_obj(cbor)\n",
    "print('fromcbor', len(idxs2), time()-t0)\n",
    "\n",
    "t0=time()\n",
    "verif = idxs2 == idxs\n",
    "print('controle égalité :', verif, time()-t0)"
   ]
  },
  {
   "cell_type": "markdown",
   "metadata": {},
   "source": [
    "----\n",
    "## Exemple de données anormales\n",
    "L'analyse précédente met en évidence des incohérences entre données illustrées par quelques exemples ci-dessous :     \n",
    "- l'index \"coordonneesXY\"(13) est lié à l'index \"nom_station\"(9) avec un taux de couplage très faible, par ailleurs, le nombre de valeurs de ces deux index sont très proches (4503 pour nom_station contre 4459 pour coordonneesXY), ce qui signifie que dans la majorité des cas, on associe de façon unique une station et une position\n",
    "- les exemples ci-dessous montrent les écarts les plus importants :\n",
    "    - la position [1.106329, 49.474202] est associée à 10 stations\n",
    "    - la station Camping Arinella est associée à 5 positions\n",
    "    \n",
    "- de même pour l'index \"coordonneesXY\"(13) qui est lié à l'index \"adresse_station\"(11), le taux de couplage est très faible avec 44 enregistrements sur 4456 en écart. On a par exemple quatre enregistrements avec la position (6.3491347, 47.3517596) et des adresses différentes ('58 Avenue du PrÃ©sident Kennedy 26', '58 Avenue du PrÃ©sident Kennedy 28', '58 Avenue du PrÃ©sident Kennedy 27', '58 Avenue du PrÃ©sident Kennedy 25')"
   ]
  },
  {
   "cell_type": "code",
   "execution_count": 11,
   "metadata": {
    "scrolled": false
   },
   "outputs": [
    {
     "name": "stdout",
     "output_type": "stream",
     "text": [
      "Couplage entre  coordonneesXY  et  nom_station  :  linked\n",
      "Ecart :  44 positions sur  4503 \n",
      "\n",
      "les 5 positions avec le plus de stations: \n",
      " [('[1.106329, 49.474202]', 10), ('[3.080477, 50.675889]', 6), ('[1.313367, 49.137233]', 6), ('[2.523685, 48.9908]', 5), ('[3.1557445, 50.5161745]', 4)] \n",
      "\n",
      "liste des stations associées à la position [1.106329, 49.474202]  :\n",
      "{'SCH10', 'SCH08', 'SCH04', 'SCH03', 'SCH07', 'SCH01', 'SCH05', 'SCH02', 'SCH09', 'SCH06'} \n",
      "\n",
      "les 5 stations avec le plus de positions: \n",
      " [('Camping Arinella', 5), ('GUERET', 4), ('Noues de Sienne, Le Bourg', 3), ('Chatellerault Nord', 2), ('900109', 2)] \n",
      "\n",
      "liste des positions associées à la station Camping Arinella  :\n",
      "{'[9.445074, 41.995246]', '[9.445073, 41.995246]', '[9.445072, 41.995246]', '[9.445071, 41.995246]', '[9.445075, 41.995246]'}\n"
     ]
    }
   ],
   "source": [
    "champ = idxs.nindex\n",
    "print('Couplage entre ', champ('coordonneesXY').name, ' et ', champ('nom_station').name, ' : ', \n",
    "      champ('coordonneesXY').couplinginfos(champ('nom_station'))['typecoupl'])\n",
    "infosdefault = champ('nom_station').couplinginfos(champ('coordonneesXY'), default=True)\n",
    "print('Ecart : ', infosdefault['disttomin'], 'positions sur ', infosdefault['distmin'], '\\n') # moins de 1%\n",
    "\n",
    "nom_station = champ('nom_station').tostdcodec(full=False)\n",
    "coordonneesXY = champ('coordonneesXY').tostdcodec(full=False) \n",
    "coordonneesXY.coupling(nom_station)\n",
    "c = Counter(coordonneesXY.codec).most_common(5)\n",
    "print('les 5 positions avec le plus de stations: \\n', c, '\\n')\n",
    "print('liste des stations associées à la position', c[0][0], ' :')\n",
    "print(set([nom_station[i] for i in coordonneesXY.recordfromvalue(c[0][0])]), '\\n')\n",
    "\n",
    "coordonneesXY = champ('coordonneesXY').tostdcodec(full=False)\n",
    "nom_station.coupling(coordonneesXY)\n",
    "c = Counter(nom_station.codec).most_common(5)\n",
    "print('les 5 stations avec le plus de positions: \\n', c, '\\n')\n",
    "print('liste des positions associées à la station', c[0][0], ' :')\n",
    "print(set([coordonneesXY[i] for i in nom_station.recordfromvalue(c[0][0])]))"
   ]
  },
  {
   "cell_type": "code",
   "execution_count": 12,
   "metadata": {
    "scrolled": false
   },
   "outputs": [
    {
     "name": "stdout",
     "output_type": "stream",
     "text": [
      "Couplage entre  adresse_station  et  coordonneesXY  :  linked\n",
      "Ecart :  41 positions sur  4459 \n",
      "\n",
      "les 5 adresses avec le plus de positions : \n",
      " [(\"rue de l'Ã©glise\", 7), ('place de la mairie', 6), ('Place de la Mairie', 6), ('rue Grande', 5), (\"place de l'Ã©glise\", 5)] \n",
      "\n",
      "liste des position associées à l adresse : rue de l'Ã©glise  :\n",
      "{'[3.2265338, 48.6845989]', '[2.76525, 48.448495]', '[2.9614005, 48.4189934]', '[3.3512623, 48.4528516]', '[2.5653149, 48.5803653]', '[3.343567, 48.693841]', '[2.7603113, 48.97101]'} \n",
      "\n",
      "les 5 positions avec le plus d adresses : \n",
      " [('[6.3491347,47.3517596]', 4), ('[0.654826, 47.353958]', 4), ('[7.61,48.85]', 3), ('[0.9605582,49.5355585]', 3), ('[1.34918, 49.157966]', 3)] \n",
      "\n",
      "liste des adresses associées à la position [6.3491347,47.3517596]  :\n",
      "{'58 Avenue du PrÃ©sident Kennedy 28', '58 Avenue du PrÃ©sident Kennedy 27', '58 Avenue du PrÃ©sident Kennedy 25', '58 Avenue du PrÃ©sident Kennedy 26'}\n"
     ]
    }
   ],
   "source": [
    "print('Couplage entre ', champ('adresse_station').name, ' et ', champ('coordonneesXY').name, ' : ', \n",
    "      champ('adresse_station').couplinginfos(champ('coordonneesXY'))['typecoupl'])\n",
    "infosdefault = champ('coordonneesXY').couplinginfos(champ('adresse_station'), default=True)\n",
    "print('Ecart : ', infosdefault['disttomin'], 'positions sur ', infosdefault['distmin'], '\\n') # moins de 1%\n",
    "\n",
    "coordonneesXY = champ('coordonneesXY').tostdcodec(full=False)\n",
    "adresse_station = champ('adresse_station').tostdcodec(full=False) \n",
    "adresse_station.coupling(coordonneesXY)\n",
    "c = Counter(adresse_station.codec).most_common(5)\n",
    "print('les 5 adresses avec le plus de positions : \\n', c, '\\n')\n",
    "print('liste des position associées à l adresse :', c[0][0], ' :')\n",
    "print(set([coordonneesXY[i] for i in adresse_station.recordfromvalue(c[0][0])]), '\\n')\n",
    "\n",
    "adresse_station = champ('adresse_station').tostdcodec(full=False)\n",
    "coordonneesXY.coupling(adresse_station)\n",
    "c = Counter(coordonneesXY.codec).most_common(5)\n",
    "print('les 5 positions avec le plus d adresses : \\n', c, '\\n')\n",
    "print('liste des adresses associées à la position', c[0][0], ' :')\n",
    "print(set([adresse_station[i] for i in coordonneesXY.recordfromvalue(c[0][0])]))"
   ]
  },
  {
   "cell_type": "markdown",
   "metadata": {},
   "source": [
    "----\n",
    "## Détection des incohérences de relations entre champs\n",
    "- la fonction coupling permet de réorganiser la structure des relations en isolant les enregistrements incohérents\n",
    "- dans le cas ci-dessous, elle est appliquée de façon automatique (minimisation des incohérences)\n",
    "- les incohérences minimales sont dans le cas présent de 12%"
   ]
  },
  {
   "cell_type": "code",
   "execution_count": 13,
   "metadata": {
    "scrolled": false
   },
   "outputs": [
    {
     "name": "stdout",
     "output_type": "stream",
     "text": [
      "nombre d enregistrements incohérents :  4757 \n",
      "\n",
      "nombre d enregistrements cohérents et liste des indexs non dérivés :  6406 [15]\n"
     ]
    }
   ],
   "source": [
    "idxs3 = Ilist.from_obj(cbor)\n",
    "idxs3.coupling()\n",
    "duplic = idxs3.getduplicates(resindex=ES.filter)\n",
    "print('nombre d enregistrements incohérents : ', len(duplic), '\\n')\n",
    "idxs3.applyfilter()\n",
    "print('nombre d enregistrements cohérents et liste des indexs non dérivés : ', len(idxs3), idxs3.primary)"
   ]
  },
  {
   "cell_type": "markdown",
   "metadata": {},
   "source": [
    "----\n",
    "## Vérification simple\n",
    "- on peut vérifier par exemple qu'une position est associée à une unique station et que réciproquement chaque station n'a qu'une seule position (relation 1-1 entre les deux champs)."
   ]
  },
  {
   "cell_type": "code",
   "execution_count": 14,
   "metadata": {},
   "outputs": [
    {
     "name": "stdout",
     "output_type": "stream",
     "text": [
      "nombre de pdc avec position/station non couplées :  386\n",
      "\n",
      "liste des premières incohérences : \n",
      "{(' IntermarchÃ© - Gauville - 22kW AC ', '[1.759704, 49.780879]'),\n",
      " (' Toyota - Montagnat - 22kW AC', '[5.2592028, 46.1746523]'),\n",
      " ('IntermarchÃ© - Gauville - 22kW AC ', '[1.759704, 49.780879]'),\n",
      " ('Lessafre1', '[3.080477, 50.675889]'),\n",
      " ('Lessafre2', '[3.080477, 50.675889]'),\n",
      " ('Lessafre3', '[3.080477, 50.675889]'),\n",
      " ('Lessafre4', '[3.080477, 50.675889]'),\n",
      " ('Lessafre5', '[3.080477, 50.675889]'),\n",
      " ('Lessafre6', '[3.080477, 50.675889]'),\n",
      " ('M2050', '[1.313367, 49.137233]'),\n",
      " ('M2051', '[1.313367, 49.137233]'),\n",
      " ('M2052', '[1.313367, 49.137233]'),\n",
      " ('M2060', '[1.313367, 49.137233]'),\n",
      " ('M2067', '[1.313367, 49.137233]'),\n",
      " ('M2070', '[1.313367, 49.137233]'),\n",
      " ('MECANIQUE SERVICES - Bonnelles', '[2.025665, 49.614061]'),\n",
      " ('PARKING MERMOZ 1', '[6.948066, 43.567243]'),\n",
      " ('Toyota - Annemasse - 22kW AC D ', '[6.2174783, 46.1858677]'),\n",
      " ('Toyota - Annemasse - 22kW AC G ', '[6.2174783, 46.1858677]'),\n",
      " ('Toyota - Annemasse - 24kW DC ', '[6.2174783, 46.1858677]'),\n",
      " ('Toyota - Montagnat - 22kW AC', '[5.2592028, 46.1746523]'),\n",
      " ('Toyota - Nice - 22KW AC ', '[7.201547, 43.6885902]'),\n",
      " ('Toyota - Nice - 24kW DC ', '[7.201547, 43.6885902]'),\n",
      " ('VAL SERVICES', '[2.025665, 49.614061]'),\n",
      " ('duriez1', '[3.1557445, 50.5161745]'),\n",
      " ('duriez2', '[3.1557445, 50.5161745]'),\n",
      " ('duriez3', '[3.1557445, 50.5161745]'),\n",
      " ('duriez4', '[3.1557445, 50.5161745]')}\n"
     ]
    }
   ],
   "source": [
    "idxs4 = copy(idxs2)\n",
    "champ = idxs4.nindex\n",
    "notcoupl = champ('coordonneesXY').coupling(champ('nom_station'), derived=False)\n",
    "print('nombre de pdc avec position/station non couplées : ', len(notcoupl))\n",
    "print('\\nliste des premières incohérences : ')\n",
    "liste = []\n",
    "for i in range(100): \n",
    "    liste.append((champ('nom_station')[notcoupl[i]], champ('coordonneesXY')[notcoupl[i]]))\n",
    "pprint(set(liste), width=120)"
   ]
  },
  {
   "cell_type": "markdown",
   "metadata": {},
   "source": [
    "## Vérification par rapport à une structure imposée\n",
    "- une autre utilisation possible est de vérifier les données par rapport à un modèle de données défini\n",
    "- dans cet exemple, on peut regrouper les colonnes suivant quatre entités (ceci revient à considérer les colonnes comme des attributs de chacune des entités) : les opérateurs (colonne 6), les aménageurs (colonne 1), les stations (colonne 9), les pdc (colonne 15) -> cf quatre premières lignes ci-dessous\n",
    "- on peut également indiquer les dépendances entre les quatre entités (les opérateurs et aménageurs sont dérivés par rapport aux stations qui elles sont dérivées par rapport aux pdc."
   ]
  },
  {
   "cell_type": "code",
   "execution_count": 15,
   "metadata": {
    "scrolled": false
   },
   "outputs": [
    {
     "name": "stdout",
     "output_type": "stream",
     "text": [
      "-1: root-derived (11163)\n",
      "   15: id_pdc_itinerance (11154)\n",
      "      7 : id_station_itinerance (7060)\n",
      "      8 : id_station_local (3838)\n",
      "      9 : nom_station (5185)\n",
      "         1 : siren_amenageur (715)\n",
      "            0 : nom_amenageur (481)\n",
      "            2 : contact_amenageur (388)\n",
      "         6 : nom_enseigne (860)\n",
      "            3 : nom_operateur (152)\n",
      "            4 : contact_operateur (159)\n",
      "            5 : telephone_operateur (215)\n",
      "         10: implantation_station (5)\n",
      "         11: adresse_station (4392)\n",
      "            28: condition_acces (3)\n",
      "         12: code_insee_commune (2593)\n",
      "         13: coordonneesXY (4459)\n",
      "            33: station_deux_roues (7)\n",
      "            43: consolidated_longitude (4448)\n",
      "            44: consolidated_latitude (4429)\n",
      "         14: nbre_pdc (32)\n",
      "         23: gratuit (9)\n",
      "         24: paiement_acte (9)\n",
      "         25: paiement_cb (8)\n",
      "         26: paiement_autre (9)\n",
      "         27: tarification (128)\n",
      "         29: reservation (8)\n",
      "         30: horaires (140)\n",
      "         31: accessibilite_pmr (5)\n",
      "         32: restriction_gabarit (97)\n",
      "         34: raccordement (3)\n",
      "         35: num_pdl (1371)\n",
      "         36: date_mise_en_service (1102)\n",
      "         45: consolidated_code_postal (1697)\n",
      "         46: consolidated_commune (2511)\n",
      "         47: consolidated_is_lon_lat_correct (3)\n",
      "         48: consolidated_is_code_insee_verified (3)\n",
      "      16: id_pdc_local (7095)\n",
      "      17: puissance_nominale (61)\n",
      "      18: prise_type_ef (9)\n",
      "      19: prise_type_2 (8)\n",
      "      20: prise_type_combo_ccs (8)\n",
      "      21: prise_type_chademo (7)\n",
      "      22: prise_type_autre (8)\n",
      "      37: observations (101)\n",
      "      38: date_maj (269)\n",
      "      39: last_modified (385)\n",
      "         40: datagouv_dataset_id (294)\n",
      "            42: datagouv_organization_or_owner (122)\n",
      "         41: datagouv_resource_id (385)\n"
     ]
    }
   ],
   "source": [
    "idxs.reindex()\n",
    "idxs_impose = copy(idxs)\n",
    "row_operateur   = [6,3,4,5]\n",
    "row_amenageur   = [1,0,2]\n",
    "row_station     = [9,10,11,12,13,14,23,24,25,26,27,28,29,30,31,32,33,34,35,36,43,44,45,46,47,48]\n",
    "row_pdc         = [15,16,17,18,19,20,21,22,7,8,37,38,39,40,41,42]\n",
    "\n",
    "champ = idxs_impose.lindex\n",
    "operateur       = [champ[i] for i in row_operateur]\n",
    "amenageur       = [champ[i] for i in row_amenageur]\n",
    "station         = [champ[i] for i in row_station]\n",
    "pdc             = [champ[i] for i in row_pdc]\n",
    "\n",
    "pdc      [0].coupling(pdc      [1:])\n",
    "station  [0].coupling(station  [1:])\n",
    "amenageur[0].coupling(amenageur[1:])\n",
    "operateur[0].coupling(operateur[1:])\n",
    "\n",
    "station  [0].coupling([operateur[0], amenageur[0]])\n",
    "pdc      [0].coupling(station[0])\n",
    "\n",
    "print(idxs_impose.tree())"
   ]
  },
  {
   "cell_type": "markdown",
   "metadata": {},
   "source": [
    "La taille de ce format imposé (2,7 Mo) reste proche de la taille du format optimisé vu précédemment (2,4 Mo)."
   ]
  },
  {
   "cell_type": "code",
   "execution_count": 16,
   "metadata": {},
   "outputs": [
    {
     "name": "stdout",
     "output_type": "stream",
     "text": [
      "imposesize :  2686687 \n",
      "\n"
     ]
    }
   ],
   "source": [
    "impose = idxs_impose.to_obj(encoded=True)\n",
    "print('imposesize : ', len(impose), '\\n')"
   ]
  },
  {
   "cell_type": "markdown",
   "metadata": {},
   "source": [
    "## Mise en cohérence des données\n",
    "- l'application de la structure imposée permet d'identifier les enregistrements qui ne respectent pas la structure (cf exemples indiqués plus haut).\n",
    "- dans l'exemple proposé, on identifie 48% des données ne respectant pas la structure\n",
    "- on vérifie également qu'en supprimant ces données incoérentes, la structure définie est bien respectée"
   ]
  },
  {
   "cell_type": "code",
   "execution_count": 17,
   "metadata": {
    "scrolled": false
   },
   "outputs": [
    {
     "name": "stdout",
     "output_type": "stream",
     "text": [
      "données respectant la structure (True) et ne la respectant pas (False) :  Counter({True: 5775, False: 5388}) \n",
      "\n",
      "-1: root-derived (5775)\n",
      "   15: id_pdc_itinerance (5775)\n",
      "      7 : id_station_itinerance (3859)\n",
      "      8 : id_station_local (1708)\n",
      "      9 : nom_station (2424)\n",
      "         6 : nom_enseigne (210)\n",
      "            5 : telephone_operateur (37)\n",
      "         11: adresse_station (2355)\n",
      "            30: horaires (43)\n",
      "         12: code_insee_commune (1470)\n",
      "         13: coordonneesXY (2383)\n",
      "            1 : siren_amenageur (357)\n",
      "               0 : nom_amenageur (161)\n",
      "                  28: condition_acces (2)\n",
      "               2 : contact_amenageur (111)\n",
      "            27: tarification (37)\n",
      "            32: restriction_gabarit (35)\n",
      "            39: last_modified (94)\n",
      "               3 : nom_operateur (39)\n",
      "               4 : contact_operateur (40)\n",
      "               31: accessibilite_pmr (3)\n",
      "               40: datagouv_dataset_id (82)\n",
      "                  24: paiement_acte (6)\n",
      "                  26: paiement_autre (6)\n",
      "                  29: reservation (5)\n",
      "                  33: station_deux_roues (5)\n",
      "                  42: datagouv_organization_or_owner (42)\n",
      "               41: datagouv_resource_id (94)\n",
      "            43: consolidated_longitude (2380)\n",
      "               10: implantation_station (5)\n",
      "               23: gratuit (6)\n",
      "               34: raccordement (2)\n",
      "            44: consolidated_latitude (2373)\n",
      "               25: paiement_cb (7)\n",
      "         14: nbre_pdc (20)\n",
      "         35: num_pdl (514)\n",
      "         36: date_mise_en_service (713)\n",
      "         45: consolidated_code_postal (1037)\n",
      "            48: consolidated_is_code_insee_verified (2)\n",
      "         46: consolidated_commune (1435)\n",
      "         47: consolidated_is_lon_lat_correct (2)\n",
      "      16: id_pdc_local (3642)\n",
      "      17: puissance_nominale (39)\n",
      "      18: prise_type_ef (7)\n",
      "      19: prise_type_2 (7)\n",
      "      20: prise_type_combo_ccs (7)\n",
      "      21: prise_type_chademo (6)\n",
      "      22: prise_type_autre (5)\n",
      "      37: observations (24)\n",
      "      38: date_maj (95)\n"
     ]
    }
   ],
   "source": [
    "duplic = idxs_impose.getduplicates(idxs_impose.lname, ES.filter)\n",
    "print('données respectant la structure (True) et ne la respectant pas (False) : ', \n",
    "      Counter(idxs_impose.lidx[49].values), '\\n')\n",
    "idxs_impose.applyfilter()\n",
    "print(idxs_impose.tree())"
   ]
  }
 ],
 "metadata": {
  "celltoolbar": "Format de la Cellule Texte Brut",
  "kernelspec": {
   "display_name": "Python 3 (ipykernel)",
   "language": "python",
   "name": "python3"
  },
  "language_info": {
   "codemirror_mode": {
    "name": "ipython",
    "version": 3
   },
   "file_extension": ".py",
   "mimetype": "text/x-python",
   "name": "python",
   "nbconvert_exporter": "python",
   "pygments_lexer": "ipython3",
   "version": "3.9.12"
  }
 },
 "nbformat": 4,
 "nbformat_minor": 4
}
