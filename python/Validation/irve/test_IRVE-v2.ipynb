{
 "cells": [
  {
   "cell_type": "markdown",
   "metadata": {},
   "source": [
    "# Objet : Test opendata des données IRVE\n",
    "\n",
    "## Objectif\n",
    "\n",
    "- valider sur des cas réels l'outil de traitement des \"listes indexées\"\n",
    "- identifier les apports que pourraient avoir ce type d'outil\n",
    "\n",
    "## Résultats\n",
    "- l'outil fonctionne correctement (pas d'erreur identifiées, les temps de réponse restent néanmoins à améliorer).\n",
    "- l'analyse met en évidence la structuration des données et le niveau de qualité des données \n",
    "- les données anormales sont idfentifiées \n",
    "- le gain en taille de fichier varie de 50% (format texte non optimisé) à 80% (taille divisée par 5 !) dans un format optimisé et binaire. Ce niveau d'optimisation est tout à fait notable.\n",
    "- l'analyse permet de (re)trouver la logique de dépendance entre les colonnes qui minimise les incohérences\n",
    "- elle permet également de vérifier que les données respectent bien une structure imposée\n",
    "\n",
    "## Usages possibles \n",
    "- les indicateurs utilisés permettent de qualifier le fichier csv et sont déployables simplement:\n",
    "    - niveau de duplication des données\n",
    "    - lien de dépendance entre les colonnes (permet un codage réduit des données).\n",
    "- l'usage de format de données moins gourmand (sans dégradation des données) peut également être intéressant à déployer\n",
    "- les schémas de données pourraient intégrer cette dépendance entre colonnes (ex. s'il y a une colonne \"mois\" et une colonne \"trimestre\", on peut indiquer que la colonne \"trimestre\" est \"dérivée\" de la colonne \"mois\", ou bien si on a une colonne \"nom prénom\" et une colonne \"n° sécurité sociale\", on peut indiquer que les deux colonnes sont \"couplées\". \n",
    "- la qualité des données peut faire l'objet d'un indicateur qui mesure l'écart (existant / attendu) des relations entre colonnes\n",
    "- l'identification des enregistrements ne respectant pas une structure imposée permet de les éliminer ou de les corriger\n",
    "\n",
    "données utilisées : https://static.data.gouv.fr/resources/fichier-consolide-des-bornes-de-recharge-pour-vehicules-electriques/20220629-080611/consolidation-etalab-schema-irve-v-2.0.2-20220628.csv"
   ]
  },
  {
   "cell_type": "markdown",
   "metadata": {},
   "source": [
    "------\n",
    "## Initialisation\n",
    "- lecture du fichier issu de l'api (quelques lignes incohérentes au niveau csv ont été éliminées au préalable)"
   ]
  },
  {
   "cell_type": "code",
   "execution_count": 1,
   "metadata": {},
   "outputs": [],
   "source": [
    "from pprint import pprint\n",
    "from collections import Counter\n",
    "from time import time\n",
    "from datetime import datetime\n",
    "import csv\n",
    "from util import util\n",
    "from observation import Ilist, Iindex\n",
    "from copy import copy\n",
    "import pandas as pd\n",
    "\n",
    "chemin = 'https://raw.githubusercontent.com/loco-philippe/Environmental-Sensing/main/python/Validation/irve/'"
   ]
  },
  {
   "cell_type": "code",
   "execution_count": 2,
   "metadata": {},
   "outputs": [
    {
     "name": "stdout",
     "output_type": "stream",
     "text": [
      "data : \n",
      " 51276 \n",
      "\n"
     ]
    },
    {
     "name": "stderr",
     "output_type": "stream",
     "text": [
      "C:\\Users\\a179227\\AppData\\Local\\Temp\\ipykernel_14280\\2085385170.py:2: DtypeWarning: Columns (12,23,24,25,26,29,33) have mixed types. Specify dtype option on import or set low_memory=False.\n",
      "  data = pd.read_csv(file, sep=',')\n"
     ]
    }
   ],
   "source": [
    "file = chemin + 'consolidation-etalab-schema-irve-statique-v-2.2.0-20230303.csv'\n",
    "data = pd.read_csv(file, sep=',')\n",
    "print('data : \\n', len(data), '\\n')\n",
    "#print(data.iloc[0])"
   ]
  },
  {
   "cell_type": "markdown",
   "metadata": {},
   "source": [
    "----\n",
    "## initialisation de l'objet Ilist\n",
    "- 51 276 lignes\n",
    "- 50 colonnes\n",
    "- 211 484 valeurs différentes sur un total de 51 276 x 50 valeurs (\"taux d'unicité\" de 8.2%)"
   ]
  },
  {
   "cell_type": "code",
   "execution_count": 3,
   "metadata": {},
   "outputs": [
    {
     "name": "stdout",
     "output_type": "stream",
     "text": [
      "idxs (len, lenlidx, sumcodec) :  51276 50 211484\n"
     ]
    }
   ],
   "source": [
    "idxs = Ilist.obj(data)\n",
    "print('idxs (len, lenlidx, sumcodec) : ', len(idxs), len(idxs.idxlen), sum(idxs.idxlen))"
   ]
  },
  {
   "cell_type": "markdown",
   "metadata": {},
   "source": [
    "- l'examen de \"l'arbre de dérivation\" indique un faible niveau d'interdépendance entre champs (seuls quelques-uns ne sont pas liés à la racine). Par exemple les champs consolidated_longitude(44) et consolidated_latitude(45) sont bien dérivés du champ coordonneesXY(13)\n"
   ]
  },
  {
   "cell_type": "code",
   "execution_count": 46,
   "metadata": {},
   "outputs": [],
   "source": [
    "#print(idxs.tree())"
   ]
  },
  {
   "cell_type": "markdown",
   "metadata": {},
   "source": [
    "- le taux de couplage (cf ci-dessous) pour chacun des champs est très proche de 0, ce qui signifie que les champs devraient être de type \"derived\" (lien de dépendance par exemple comme entre les trimestres et les mois) ou \"coupled\" (lien biunivoque). \n",
    "- le niveau de contrôles des liens entre champs est donc faible"
   ]
  },
  {
   "cell_type": "code",
   "execution_count": 5,
   "metadata": {},
   "outputs": [
    {
     "name": "stdout",
     "output_type": "stream",
     "text": [
      "-1: root-diff (51276)\n",
      "   15: id_pdc_itinerance (1.00e+00 - 42457)\n",
      "      7 : id_station_itinerance (3.01e-07 - 18544)\n",
      "      10: implantation_station (3.23e-03 - 5)\n",
      "      13: coordonneesXY (8.16e-06 - 17241)\n",
      "         0 : nom_amenageur (9.43e-06 - 2474)\n",
      "         1 : siren_amenageur (1.72e-05 - 1182)\n",
      "         2 : contact_amenageur (3.47e-05 - 548)\n",
      "         5 : telephone_operateur (6.37e-05 - 357)\n",
      "         6 : nom_enseigne (1.94e-05 - 1493)\n",
      "         9 : nom_station (1.31e-06 - 15463)\n",
      "            32: restriction_gabarit (1.19e-04 - 148)\n",
      "         11: adresse_station (1.22e-06 - 16496)\n",
      "            3 : nom_operateur (1.95e-05 - 237)\n",
      "            28: condition_acces (1.82e-04 - 2)\n",
      "            30: horaires (1.09e-05 - 516)\n",
      "         12: code_insee_commune (3.77e-06 - 5344)\n",
      "            47: consolidated_commune (2.85e-06 - 4855)\n",
      "               49: consolidated_is_code_insee_verified (2.06e-04 - 2)\n",
      "         35: num_pdl (9.27e-06 - 2884)\n",
      "            34: raccordement (5.89e-03 - 2)\n",
      "            48: consolidated_is_lon_lat_correct (1.28e-02 - 2)\n",
      "         44: consolidated_longitude (0.00e+00 - 17069)\n",
      "         45: consolidated_latitude (0.00e+00 - 17018)\n",
      "         46: consolidated_code_postal (5.01e-06 - 3114)\n",
      "      16: id_pdc_local (1.01e-06 - 27186)\n",
      "         4 : contact_operateur (1.52e-05 - 274)\n",
      "         8 : id_station_local (1.38e-06 - 10731)\n",
      "         14: nbre_pdc (1.01e-04 - 50)\n",
      "         17: puissance_nominale (1.53e-04 - 87)\n",
      "         18: prise_type_ef (2.57e-04 - 8)\n",
      "         19: prise_type_2 (3.57e-04 - 8)\n",
      "         20: prise_type_combo_ccs (4.83e-04 - 8)\n",
      "         21: prise_type_chademo (5.70e-04 - 7)\n",
      "         22: prise_type_autre (7.36e-05 - 7)\n",
      "         23: gratuit (5.52e-05 - 9)\n",
      "         24: paiement_acte (6.13e-05 - 10)\n",
      "         25: paiement_cb (6.90e-05 - 9)\n",
      "         26: paiement_autre (6.13e-05 - 10)\n",
      "         27: tarification (1.16e-04 - 212)\n",
      "         29: reservation (5.78e-05 - 8)\n",
      "         31: accessibilite_pmr (1.23e-04 - 4)\n",
      "         33: station_deux_roues (5.06e-05 - 9)\n",
      "         36: date_mise_en_service (4.33e-05 - 2226)\n",
      "         37: observations (5.36e-05 - 137)\n",
      "         38: date_maj (7.33e-05 - 639)\n",
      "         40: last_modified (6.37e-05 - 774)\n",
      "            39: cable_t2_attache (1.51e-03 - 7)\n",
      "            41: datagouv_dataset_id (0.00e+00 - 636)\n",
      "            42: datagouv_resource_id (0.00e+00 - 774)\n",
      "            43: datagouv_organization_or_owner (0.00e+00 - 201)\n"
     ]
    }
   ],
   "source": [
    "print(idxs.tree(mode='diff'))"
   ]
  },
  {
   "cell_type": "markdown",
   "metadata": {},
   "source": [
    "## Identification du champ 'root'\n",
    "Le champ 'root' est l'identifiant d'une ligne du tableau. Dans le cas présent, aucun champ ne remplit ce rôle. Le champ le plus proche est le champ 'id_pdc_itinerance' avec 42 457 valeurs pour 51 276 lignes."
   ]
  },
  {
   "cell_type": "code",
   "execution_count": 19,
   "metadata": {
    "scrolled": true
   },
   "outputs": [
    {
     "name": "stdout",
     "output_type": "stream",
     "text": [
      "lignes en écart :  16642\n",
      "les 5 pdc avec le plus de lignes : \n",
      " [('Non concerné', 519), ('FR55CP84000', 50), ('FR55CP92140', 29), ('FR55CP78140', 28), ('FR55CP83310', 23)] \n",
      "\n"
     ]
    }
   ],
   "source": [
    "champ = idxs.nindex\n",
    "root = Iindex.ext(list(range(len(idxs))))\n",
    "id_pdc_itinerance = champ('id_pdc_itinerance')\n",
    "ecart = id_pdc_itinerance.coupling(root)\n",
    "print('lignes en écart : ',len(ecart))\n",
    "c = Counter(id_pdc_itinerance.codec).most_common(5)\n",
    "id_pdc_itinerance.tostdcodec(full=False)\n",
    "print('les 5 pdc avec le plus de lignes : \\n', c, '\\n')"
   ]
  },
  {
   "cell_type": "markdown",
   "metadata": {},
   "source": [
    "- l'examen des lignes en écart permet d'identifier le principal écart lié à la conservation de l'historique des modifications.\n",
    "- l'écart résiduel (1068 lignes est à traiter de façon spécifique -> cf exemples ci-dessous)"
   ]
  },
  {
   "cell_type": "code",
   "execution_count": 32,
   "metadata": {},
   "outputs": [
    {
     "name": "stdout",
     "output_type": "stream",
     "text": [
      "lignes en écart :  1068\n",
      "les 5 pdc avec le plus de lignes : \n",
      " [(('FR55CP84000', '2023-03-03T17:39:50.555000'), 50), (('Non concerné', '2023-03-03T17:37:07.612000'), 34), (('FR55CP92140', '2023-03-03T17:39:50.555000'), 29), (('FR55CP78140', '2023-03-03T17:39:50.555000'), 28), (('FR55CP83310', '2023-03-03T17:39:50.555000'), 23)] \n",
      "\n"
     ]
    }
   ],
   "source": [
    "last_modified = champ('last_modified')\n",
    "id_pdc = Iindex.merging([id_pdc_itinerance, last_modified], 'id_pdc')\n",
    "ecart = id_pdc.coupling(root)\n",
    "print('lignes en écart : ',len(ecart))\n",
    "c = Counter(id_pdc.codec).most_common(5)\n",
    "id_pdc.tostdcodec(full=False)\n",
    "print('les 5 pdc avec le plus de lignes : \\n', c, '\\n')"
   ]
  },
  {
   "cell_type": "code",
   "execution_count": 35,
   "metadata": {
    "scrolled": false
   },
   "outputs": [
    {
     "data": {
      "text/html": [
       "<div>\n",
       "<style scoped>\n",
       "    .dataframe tbody tr th:only-of-type {\n",
       "        vertical-align: middle;\n",
       "    }\n",
       "\n",
       "    .dataframe tbody tr th {\n",
       "        vertical-align: top;\n",
       "    }\n",
       "\n",
       "    .dataframe thead th {\n",
       "        text-align: right;\n",
       "    }\n",
       "</style>\n",
       "<table border=\"1\" class=\"dataframe\">\n",
       "  <thead>\n",
       "    <tr style=\"text-align: right;\">\n",
       "      <th></th>\n",
       "      <th>id_pdc_itinerance</th>\n",
       "      <th>id_station_itinerance</th>\n",
       "      <th>nom_station</th>\n",
       "      <th>coordonneesXY</th>\n",
       "      <th>nbre_pdc</th>\n",
       "      <th>last_modified</th>\n",
       "    </tr>\n",
       "  </thead>\n",
       "  <tbody>\n",
       "    <tr>\n",
       "      <th>5319</th>\n",
       "      <td>FRP07E315550015</td>\n",
       "      <td>FRP07P31555001</td>\n",
       "      <td>TOULOUSE - Capitole</td>\n",
       "      <td>[1.44356, 43.604301]</td>\n",
       "      <td>1</td>\n",
       "      <td>2023-03-03T17:39:32.426000</td>\n",
       "    </tr>\n",
       "    <tr>\n",
       "      <th>5337</th>\n",
       "      <td>FRP07E315550015</td>\n",
       "      <td>FRP07P31555001</td>\n",
       "      <td>TOULOUSE - Capitole</td>\n",
       "      <td>[1.44356, 43.604301]</td>\n",
       "      <td>43</td>\n",
       "      <td>2023-03-03T17:39:32.426000</td>\n",
       "    </tr>\n",
       "    <tr>\n",
       "      <th>21787</th>\n",
       "      <td>FRS87EMB873313</td>\n",
       "      <td>FRS87PMB873313</td>\n",
       "      <td>SAINT-JOUVENT - AIRE DE COVOITURAGE</td>\n",
       "      <td>[1.20055, 45.95638]</td>\n",
       "      <td>1</td>\n",
       "      <td>2023-03-03T17:38:51.190000</td>\n",
       "    </tr>\n",
       "    <tr>\n",
       "      <th>21779</th>\n",
       "      <td>FRS87EMB873313</td>\n",
       "      <td>FRS87PMB873313</td>\n",
       "      <td>SAINT-JOUVENT - AIRE DE COVOITURAGE</td>\n",
       "      <td>[1.20055, 45.95638]</td>\n",
       "      <td>3</td>\n",
       "      <td>2023-03-03T17:38:51.190000</td>\n",
       "    </tr>\n",
       "    <tr>\n",
       "      <th>22540</th>\n",
       "      <td>Non concerné</td>\n",
       "      <td>Non concerné</td>\n",
       "      <td>KALLISTE RIVE SUD</td>\n",
       "      <td>[8.7970384, 41.85874031254947]</td>\n",
       "      <td>1</td>\n",
       "      <td>2023-03-03T17:38:22.684000</td>\n",
       "    </tr>\n",
       "    <tr>\n",
       "      <th>...</th>\n",
       "      <td>...</td>\n",
       "      <td>...</td>\n",
       "      <td>...</td>\n",
       "      <td>...</td>\n",
       "      <td>...</td>\n",
       "      <td>...</td>\n",
       "    </tr>\n",
       "    <tr>\n",
       "      <th>1269</th>\n",
       "      <td>FRS56EYBMF1</td>\n",
       "      <td>FRS56PGKP4F0ALTF</td>\n",
       "      <td>AURAY - Parking Porte Océane</td>\n",
       "      <td>[-3.008414, 47.670334]</td>\n",
       "      <td>2</td>\n",
       "      <td>2023-03-03T17:40:49.461000</td>\n",
       "    </tr>\n",
       "    <tr>\n",
       "      <th>7882</th>\n",
       "      <td>FRP07E6748200335</td>\n",
       "      <td>FRP07P67482003</td>\n",
       "      <td>STRASBOURG - Wodli</td>\n",
       "      <td>[7.73762, 48.587002]</td>\n",
       "      <td>41</td>\n",
       "      <td>2023-03-03T17:39:32.426000</td>\n",
       "    </tr>\n",
       "    <tr>\n",
       "      <th>7890</th>\n",
       "      <td>FRP07E6748200335</td>\n",
       "      <td>FRP07P67482003</td>\n",
       "      <td>STRASBOURG - Wodli</td>\n",
       "      <td>[7.73762, 48.587002]</td>\n",
       "      <td>1</td>\n",
       "      <td>2023-03-03T17:39:32.426000</td>\n",
       "    </tr>\n",
       "    <tr>\n",
       "      <th>4357</th>\n",
       "      <td>FRP07E674820038</td>\n",
       "      <td>FRP07P67482003</td>\n",
       "      <td>STRASBOURG - Wodli</td>\n",
       "      <td>[7.73762, 48.587002]</td>\n",
       "      <td>41</td>\n",
       "      <td>2023-03-03T17:39:32.426000</td>\n",
       "    </tr>\n",
       "    <tr>\n",
       "      <th>4365</th>\n",
       "      <td>FRP07E674820038</td>\n",
       "      <td>FRP07P67482003</td>\n",
       "      <td>STRASBOURG - Wodli</td>\n",
       "      <td>[7.73762, 48.587002]</td>\n",
       "      <td>1</td>\n",
       "      <td>2023-03-03T17:39:32.426000</td>\n",
       "    </tr>\n",
       "  </tbody>\n",
       "</table>\n",
       "<p>1068 rows × 6 columns</p>\n",
       "</div>"
      ],
      "text/plain": [
       "      id_pdc_itinerance id_station_itinerance  \\\n",
       "5319    FRP07E315550015        FRP07P31555001   \n",
       "5337    FRP07E315550015        FRP07P31555001   \n",
       "21787    FRS87EMB873313        FRS87PMB873313   \n",
       "21779    FRS87EMB873313        FRS87PMB873313   \n",
       "22540      Non concerné          Non concerné   \n",
       "...                 ...                   ...   \n",
       "1269        FRS56EYBMF1      FRS56PGKP4F0ALTF   \n",
       "7882   FRP07E6748200335        FRP07P67482003   \n",
       "7890   FRP07E6748200335        FRP07P67482003   \n",
       "4357    FRP07E674820038        FRP07P67482003   \n",
       "4365    FRP07E674820038        FRP07P67482003   \n",
       "\n",
       "                               nom_station                   coordonneesXY  \\\n",
       "5319                   TOULOUSE - Capitole            [1.44356, 43.604301]   \n",
       "5337                   TOULOUSE - Capitole            [1.44356, 43.604301]   \n",
       "21787  SAINT-JOUVENT - AIRE DE COVOITURAGE             [1.20055, 45.95638]   \n",
       "21779  SAINT-JOUVENT - AIRE DE COVOITURAGE             [1.20055, 45.95638]   \n",
       "22540                    KALLISTE RIVE SUD  [8.7970384, 41.85874031254947]   \n",
       "...                                    ...                             ...   \n",
       "1269          AURAY - Parking Porte Océane          [-3.008414, 47.670334]   \n",
       "7882                    STRASBOURG - Wodli            [7.73762, 48.587002]   \n",
       "7890                    STRASBOURG - Wodli            [7.73762, 48.587002]   \n",
       "4357                    STRASBOURG - Wodli            [7.73762, 48.587002]   \n",
       "4365                    STRASBOURG - Wodli            [7.73762, 48.587002]   \n",
       "\n",
       "       nbre_pdc               last_modified  \n",
       "5319          1  2023-03-03T17:39:32.426000  \n",
       "5337         43  2023-03-03T17:39:32.426000  \n",
       "21787         1  2023-03-03T17:38:51.190000  \n",
       "21779         3  2023-03-03T17:38:51.190000  \n",
       "22540         1  2023-03-03T17:38:22.684000  \n",
       "...         ...                         ...  \n",
       "1269          2  2023-03-03T17:40:49.461000  \n",
       "7882         41  2023-03-03T17:39:32.426000  \n",
       "7890          1  2023-03-03T17:39:32.426000  \n",
       "4357         41  2023-03-03T17:39:32.426000  \n",
       "4365          1  2023-03-03T17:39:32.426000  \n",
       "\n",
       "[1068 rows x 6 columns]"
      ]
     },
     "execution_count": 35,
     "metadata": {},
     "output_type": "execute_result"
    }
   ],
   "source": [
    "data.loc[ecart,['id_pdc_itinerance', 'id_station_itinerance', 'nom_station', 'coordonneesXY', 'nbre_pdc', 'last_modified']]"
   ]
  },
  {
   "cell_type": "markdown",
   "metadata": {},
   "source": [
    "- l'élimination des doublons (en conservant la date de modification la plus résente) permet d'avoir une ligne par point de charge."
   ]
  },
  {
   "cell_type": "code",
   "execution_count": 69,
   "metadata": {
    "scrolled": true
   },
   "outputs": [
    {
     "name": "stdout",
     "output_type": "stream",
     "text": [
      "data2 :  42457\n"
     ]
    }
   ],
   "source": [
    "data2 = data.sort_values(by='last_modified').drop_duplicates('id_pdc_itinerance', keep='last').reset_index(drop=True)\n",
    "print('data2 : ', len(data2))"
   ]
  },
  {
   "cell_type": "code",
   "execution_count": 71,
   "metadata": {},
   "outputs": [
    {
     "name": "stdout",
     "output_type": "stream",
     "text": [
      "idxs (len, lenlidx, sumcodec) :  42457 50 193439\n"
     ]
    }
   ],
   "source": [
    "idxs = Ilist.obj(data2)\n",
    "print('idxs (len, lenlidx, sumcodec) : ', len(idxs), len(idxs.idxlen), sum(idxs.idxlen))"
   ]
  },
  {
   "cell_type": "code",
   "execution_count": 81,
   "metadata": {
    "scrolled": false
   },
   "outputs": [
    {
     "name": "stdout",
     "output_type": "stream",
     "text": [
      "-1: root-derived (42457)\n",
      "   15: id_pdc_itinerance (42457)\n",
      "      0 : nom_amenageur (2202)\n",
      "      1 : siren_amenageur (942)\n",
      "      2 : contact_amenageur (316)\n",
      "      3 : nom_operateur (97)\n",
      "      4 : contact_operateur (115)\n",
      "      5 : telephone_operateur (219)\n",
      "      6 : nom_enseigne (1118)\n",
      "      7 : id_station_itinerance (18480)\n",
      "      8 : id_station_local (10048)\n",
      "      9 : nom_station (14652)\n",
      "      10: implantation_station (5)\n",
      "      11: adresse_station (14021)\n",
      "         28: condition_acces (2)\n",
      "      12: code_insee_commune (4940)\n",
      "      13: coordonneesXY (14583)\n",
      "         44: consolidated_longitude (14549)\n",
      "         45: consolidated_latitude (14489)\n",
      "      14: nbre_pdc (43)\n",
      "      16: id_pdc_local (26030)\n",
      "      17: puissance_nominale (85)\n",
      "      18: prise_type_ef (8)\n",
      "      19: prise_type_2 (8)\n",
      "      20: prise_type_combo_ccs (8)\n",
      "      21: prise_type_chademo (7)\n",
      "      22: prise_type_autre (7)\n",
      "      23: gratuit (8)\n",
      "      24: paiement_acte (10)\n",
      "      25: paiement_cb (9)\n",
      "      26: paiement_autre (9)\n",
      "      27: tarification (129)\n",
      "      29: reservation (7)\n",
      "      30: horaires (451)\n",
      "      31: accessibilite_pmr (4)\n",
      "      32: restriction_gabarit (88)\n",
      "      33: station_deux_roues (9)\n",
      "      34: raccordement (2)\n",
      "      35: num_pdl (2263)\n",
      "      36: date_mise_en_service (1602)\n",
      "      37: observations (61)\n",
      "      38: date_maj (551)\n",
      "      39: cable_t2_attache (7)\n",
      "      40: last_modified (414)\n",
      "         41: datagouv_dataset_id (353)\n",
      "            43: datagouv_organization_or_owner (98)\n",
      "         42: datagouv_resource_id (414)\n",
      "      46: consolidated_code_postal (2928)\n",
      "      47: consolidated_commune (4587)\n",
      "      48: consolidated_is_lon_lat_correct (2)\n",
      "      49: consolidated_is_code_insee_verified (2)\n"
     ]
    }
   ],
   "source": [
    "print(idxs.tree())"
   ]
  },
  {
   "cell_type": "markdown",
   "metadata": {},
   "source": [
    "## identification des stations"
   ]
  },
  {
   "cell_type": "markdown",
   "metadata": {},
   "source": [
    "- deux champs sont candidats pour identifier les stations : 'id_station_itinerance', 'nom_station'\n",
    "- Le champ le plus approprié est 'id_station_itinerance' (plus grand nombre de valeurs différentes)"
   ]
  },
  {
   "cell_type": "code",
   "execution_count": 83,
   "metadata": {},
   "outputs": [
    {
     "name": "stdout",
     "output_type": "stream",
     "text": [
      "lignes en écart :  288\n",
      "les 5 stations avec le plus de noms : \n",
      " [('Non concerné', 30), ('FRE10E11128', 2), ('FRV75PPX0304', 2), ('FRV75PPX0811', 2), ('FRH14P59018001', 2)] \n",
      "\n"
     ]
    }
   ],
   "source": [
    "champ = idxs.nindex\n",
    "id_station_itinerance = champ('id_station_itinerance')\n",
    "nom_station = champ('nom_station')\n",
    "\n",
    "ecart_nom = id_station_itinerance.coupling(nom_station)\n",
    "c_nom = Counter(id_station_itinerance.codec).most_common(5)\n",
    "id_station_itinerance.reindex()\n",
    "\n",
    "print('lignes en écart : ',len(ecart_nom))\n",
    "print('les 5 stations avec le plus de noms : \\n', c_nom, '\\n')"
   ]
  },
  {
   "cell_type": "code",
   "execution_count": 85,
   "metadata": {
    "scrolled": false
   },
   "outputs": [
    {
     "data": {
      "text/html": [
       "<div>\n",
       "<style scoped>\n",
       "    .dataframe tbody tr th:only-of-type {\n",
       "        vertical-align: middle;\n",
       "    }\n",
       "\n",
       "    .dataframe tbody tr th {\n",
       "        vertical-align: top;\n",
       "    }\n",
       "\n",
       "    .dataframe thead th {\n",
       "        text-align: right;\n",
       "    }\n",
       "</style>\n",
       "<table border=\"1\" class=\"dataframe\">\n",
       "  <thead>\n",
       "    <tr style=\"text-align: right;\">\n",
       "      <th></th>\n",
       "      <th>id_pdc_itinerance</th>\n",
       "      <th>id_station_itinerance</th>\n",
       "      <th>nom_station</th>\n",
       "      <th>coordonneesXY</th>\n",
       "    </tr>\n",
       "  </thead>\n",
       "  <tbody>\n",
       "    <tr>\n",
       "      <th>40128</th>\n",
       "      <td>FRE10E111289</td>\n",
       "      <td>FRE10E11128</td>\n",
       "      <td>SECAB Bellignies</td>\n",
       "      <td>[3.751178, 50.322857]</td>\n",
       "    </tr>\n",
       "    <tr>\n",
       "      <th>40129</th>\n",
       "      <td>FRE10E111288</td>\n",
       "      <td>FRE10E11128</td>\n",
       "      <td>SECAB Bellignies</td>\n",
       "      <td>[3.751178, 50.322857]</td>\n",
       "    </tr>\n",
       "    <tr>\n",
       "      <th>40336</th>\n",
       "      <td>FRE10E111284</td>\n",
       "      <td>FRE10E11128</td>\n",
       "      <td>Camille Ferrat Pertuis</td>\n",
       "      <td>[5.481704, 43.691167]</td>\n",
       "    </tr>\n",
       "    <tr>\n",
       "      <th>40337</th>\n",
       "      <td>FRE10E111285</td>\n",
       "      <td>FRE10E11128</td>\n",
       "      <td>Camille Ferrat Pertuis</td>\n",
       "      <td>[5.481704, 43.691167]</td>\n",
       "    </tr>\n",
       "    <tr>\n",
       "      <th>2698</th>\n",
       "      <td>FRV75EPX03046</td>\n",
       "      <td>FRV75PPX0304</td>\n",
       "      <td>Paris | Rue Perrée 18</td>\n",
       "      <td>[2.360503, 48.86502]</td>\n",
       "    </tr>\n",
       "    <tr>\n",
       "      <th>...</th>\n",
       "      <td>...</td>\n",
       "      <td>...</td>\n",
       "      <td>...</td>\n",
       "      <td>...</td>\n",
       "    </tr>\n",
       "    <tr>\n",
       "      <th>21770</th>\n",
       "      <td>FRS27EHEUDEBOUVILLECOPARC1G</td>\n",
       "      <td>FRS27PHEUDEBOUVILLEECOPARC</td>\n",
       "      <td>900012</td>\n",
       "      <td>[1.221452, 49.197647]</td>\n",
       "    </tr>\n",
       "    <tr>\n",
       "      <th>21775</th>\n",
       "      <td>FRS27EHEUDEBOUVILLECOPARC1D</td>\n",
       "      <td>FRS27PHEUDEBOUVILLEECOPARC</td>\n",
       "      <td>900012</td>\n",
       "      <td>[1.221452, 49.197647]</td>\n",
       "    </tr>\n",
       "    <tr>\n",
       "      <th>21842</th>\n",
       "      <td>FRH14P59087001</td>\n",
       "      <td>FRH14P59087001</td>\n",
       "      <td>Boeseghem - Rue De La Chapelle</td>\n",
       "      <td>[2.438116, 50.662418]</td>\n",
       "    </tr>\n",
       "    <tr>\n",
       "      <th>33969</th>\n",
       "      <td>FRH14E590870011</td>\n",
       "      <td>FRH14P59087001</td>\n",
       "      <td>BOESEGHEM - Rue De La Chapelle</td>\n",
       "      <td>[2.438116, 50.662418]</td>\n",
       "    </tr>\n",
       "    <tr>\n",
       "      <th>34201</th>\n",
       "      <td>FRH14E590870012</td>\n",
       "      <td>FRH14P59087001</td>\n",
       "      <td>BOESEGHEM - Rue De La Chapelle</td>\n",
       "      <td>[2.438116, 50.662418]</td>\n",
       "    </tr>\n",
       "  </tbody>\n",
       "</table>\n",
       "<p>288 rows × 4 columns</p>\n",
       "</div>"
      ],
      "text/plain": [
       "                 id_pdc_itinerance       id_station_itinerance  \\\n",
       "40128                 FRE10E111289                 FRE10E11128   \n",
       "40129                 FRE10E111288                 FRE10E11128   \n",
       "40336                 FRE10E111284                 FRE10E11128   \n",
       "40337                 FRE10E111285                 FRE10E11128   \n",
       "2698                 FRV75EPX03046                FRV75PPX0304   \n",
       "...                            ...                         ...   \n",
       "21770  FRS27EHEUDEBOUVILLECOPARC1G  FRS27PHEUDEBOUVILLEECOPARC   \n",
       "21775  FRS27EHEUDEBOUVILLECOPARC1D  FRS27PHEUDEBOUVILLEECOPARC   \n",
       "21842               FRH14P59087001              FRH14P59087001   \n",
       "33969              FRH14E590870011              FRH14P59087001   \n",
       "34201              FRH14E590870012              FRH14P59087001   \n",
       "\n",
       "                           nom_station          coordonneesXY  \n",
       "40128                 SECAB Bellignies  [3.751178, 50.322857]  \n",
       "40129                 SECAB Bellignies  [3.751178, 50.322857]  \n",
       "40336           Camille Ferrat Pertuis  [5.481704, 43.691167]  \n",
       "40337           Camille Ferrat Pertuis  [5.481704, 43.691167]  \n",
       "2698             Paris | Rue Perrée 18   [2.360503, 48.86502]  \n",
       "...                                ...                    ...  \n",
       "21770                           900012  [1.221452, 49.197647]  \n",
       "21775                           900012  [1.221452, 49.197647]  \n",
       "21842  Boeseghem - Rue De La Chapelle   [2.438116, 50.662418]  \n",
       "33969   BOESEGHEM - Rue De La Chapelle  [2.438116, 50.662418]  \n",
       "34201   BOESEGHEM - Rue De La Chapelle  [2.438116, 50.662418]  \n",
       "\n",
       "[288 rows x 4 columns]"
      ]
     },
     "execution_count": 85,
     "metadata": {},
     "output_type": "execute_result"
    }
   ],
   "source": [
    "data2.loc[ecart_nom,['id_pdc_itinerance', 'id_station_itinerance', 'nom_station', 'coordonneesXY']]"
   ]
  },
  {
   "cell_type": "markdown",
   "metadata": {},
   "source": [
    "## position des stations"
   ]
  },
  {
   "cell_type": "code",
   "execution_count": 86,
   "metadata": {},
   "outputs": [
    {
     "name": "stdout",
     "output_type": "stream",
     "text": [
      "lignes en écart :  705\n",
      "les 5 stations avec le plus de lignes : \n",
      " [('Non concerné', 28), ('FR073PCAMAIEUFR', 8), ('FRFR1PEHNKRRPQNR', 5), ('FRFR1PUXIVU5GSXH', 5), ('FRFR1PD0AIJIWGHD', 4)] \n",
      "\n"
     ]
    }
   ],
   "source": [
    "champ = idxs.nindex\n",
    "coordonneesXY = champ('coordonneesXY')\n",
    "\n",
    "ecart_XY = id_station_itinerance.coupling(coordonneesXY)\n",
    "c_XY = Counter(id_station_itinerance.codec).most_common(5)\n",
    "id_station_itinerance.reindex()\n",
    "\n",
    "print('lignes en écart : ',len(ecart_XY))\n",
    "\n",
    "print('les 5 stations avec le plus de positions différentes : \\n', c_XY, '\\n')"
   ]
  },
  {
   "cell_type": "code",
   "execution_count": 87,
   "metadata": {
    "scrolled": false
   },
   "outputs": [
    {
     "data": {
      "text/html": [
       "<div>\n",
       "<style scoped>\n",
       "    .dataframe tbody tr th:only-of-type {\n",
       "        vertical-align: middle;\n",
       "    }\n",
       "\n",
       "    .dataframe tbody tr th {\n",
       "        vertical-align: top;\n",
       "    }\n",
       "\n",
       "    .dataframe thead th {\n",
       "        text-align: right;\n",
       "    }\n",
       "</style>\n",
       "<table border=\"1\" class=\"dataframe\">\n",
       "  <thead>\n",
       "    <tr style=\"text-align: right;\">\n",
       "      <th></th>\n",
       "      <th>id_station_itinerance</th>\n",
       "      <th>nom_station</th>\n",
       "      <th>coordonneesXY</th>\n",
       "    </tr>\n",
       "  </thead>\n",
       "  <tbody>\n",
       "    <tr>\n",
       "      <th>7932</th>\n",
       "      <td>FR073PCAMAIEUFR</td>\n",
       "      <td>CAMAÏEU FRANCE</td>\n",
       "      <td>[3.207306,50.684918]</td>\n",
       "    </tr>\n",
       "    <tr>\n",
       "      <th>7949</th>\n",
       "      <td>FR073PCAMAIEUFR</td>\n",
       "      <td>CAMAÏEU FRANCE</td>\n",
       "      <td>[3.207306,50.684918]</td>\n",
       "    </tr>\n",
       "    <tr>\n",
       "      <th>7944</th>\n",
       "      <td>FR073PCAMAIEUFR</td>\n",
       "      <td>CAMAÏEU FRANCE</td>\n",
       "      <td>[3.207433,50.684876]</td>\n",
       "    </tr>\n",
       "    <tr>\n",
       "      <th>7945</th>\n",
       "      <td>FR073PCAMAIEUFR</td>\n",
       "      <td>CAMAÏEU FRANCE</td>\n",
       "      <td>[3.207433,50.684876]</td>\n",
       "    </tr>\n",
       "    <tr>\n",
       "      <th>7937</th>\n",
       "      <td>FR073PCAMAIEUFR</td>\n",
       "      <td>CAMAÏEU FRANCE</td>\n",
       "      <td>[3.206962,50.685049]</td>\n",
       "    </tr>\n",
       "    <tr>\n",
       "      <th>...</th>\n",
       "      <td>...</td>\n",
       "      <td>...</td>\n",
       "      <td>...</td>\n",
       "    </tr>\n",
       "    <tr>\n",
       "      <th>26393</th>\n",
       "      <td>FRS80PAULT11NOV1918</td>\n",
       "      <td>Ault, 11 Nov.1918</td>\n",
       "      <td>[1.4552586, 50.11000381]</td>\n",
       "    </tr>\n",
       "    <tr>\n",
       "      <th>29819</th>\n",
       "      <td>FRFR1PQSGFVS</td>\n",
       "      <td>Marlenheim, Usine</td>\n",
       "      <td>[7.49076, 48.6196]</td>\n",
       "    </tr>\n",
       "    <tr>\n",
       "      <th>29837</th>\n",
       "      <td>FRFR1PQSGFVS</td>\n",
       "      <td>Marlenheim, Usine</td>\n",
       "      <td>[7.49076, 48.6196]</td>\n",
       "    </tr>\n",
       "    <tr>\n",
       "      <th>29836</th>\n",
       "      <td>FRFR1PQSGFVS</td>\n",
       "      <td>Marlenheim, Usine</td>\n",
       "      <td>[7.49075, 48.6196]</td>\n",
       "    </tr>\n",
       "    <tr>\n",
       "      <th>29838</th>\n",
       "      <td>FRFR1PQSGFVS</td>\n",
       "      <td>Marlenheim, Usine</td>\n",
       "      <td>[7.49075, 48.6196]</td>\n",
       "    </tr>\n",
       "  </tbody>\n",
       "</table>\n",
       "<p>705 rows × 3 columns</p>\n",
       "</div>"
      ],
      "text/plain": [
       "      id_station_itinerance        nom_station             coordonneesXY\n",
       "7932        FR073PCAMAIEUFR     CAMAÏEU FRANCE      [3.207306,50.684918]\n",
       "7949        FR073PCAMAIEUFR     CAMAÏEU FRANCE      [3.207306,50.684918]\n",
       "7944        FR073PCAMAIEUFR     CAMAÏEU FRANCE      [3.207433,50.684876]\n",
       "7945        FR073PCAMAIEUFR     CAMAÏEU FRANCE      [3.207433,50.684876]\n",
       "7937        FR073PCAMAIEUFR     CAMAÏEU FRANCE      [3.206962,50.685049]\n",
       "...                     ...                ...                       ...\n",
       "26393   FRS80PAULT11NOV1918  Ault, 11 Nov.1918  [1.4552586, 50.11000381]\n",
       "29819          FRFR1PQSGFVS  Marlenheim, Usine        [7.49076, 48.6196]\n",
       "29837          FRFR1PQSGFVS  Marlenheim, Usine        [7.49076, 48.6196]\n",
       "29836          FRFR1PQSGFVS  Marlenheim, Usine        [7.49075, 48.6196]\n",
       "29838          FRFR1PQSGFVS  Marlenheim, Usine        [7.49075, 48.6196]\n",
       "\n",
       "[705 rows x 3 columns]"
      ]
     },
     "execution_count": 87,
     "metadata": {},
     "output_type": "execute_result"
    }
   ],
   "source": [
    "data2.loc[ecart_XY,['id_station_itinerance', 'nom_station', 'coordonneesXY']]"
   ]
  },
  {
   "cell_type": "markdown",
   "metadata": {},
   "source": [
    "----\n",
    "## couplage\n",
    "Le couplage consiste à tranformer les index qui sont \"presque couplés\" en index couplés (tous les index sont bien maintenant de type \"derived\").    \n",
    "    \n",
    "Le choix des index à coupler s'effectue en fonction d'une mesure de \"distance\" entre deux index. Les index avec une distance inférieure à un seuil choisi sont alors couplés.\n"
   ]
  },
  {
   "cell_type": "code",
   "execution_count": 8,
   "metadata": {
    "scrolled": false
   },
   "outputs": [
    {
     "name": "stdout",
     "output_type": "stream",
     "text": [
      "coupling 31.759572982788086\n"
     ]
    }
   ],
   "source": [
    "coup = copy(idxs)\n",
    "coup.reindex()\n",
    "\n",
    "t0=time()\n",
    "coup.coupling(param='distance', level=1000)\n",
    "print('coupling', time()-t0)"
   ]
  },
  {
   "cell_type": "markdown",
   "metadata": {},
   "source": [
    "## Format optimisé\n",
    "Le couplage effectué permet d'optimiser de nouveau le volume des données :    \n",
    "- le \"taux d'unicité\" se dégrade légèrement (passage de 11,6% à 12,1%) par l'ajout d'index supplémentaires\n",
    "- le \"taux de codage\" par contre passe de 30% à 16% de par l'optimisation \n",
    "- le gain de taille de fichier par rapport à un fichier \"quoté\" est maintenant de 74%\n",
    "- l'utilisation d'un format binaire (codage CBOR pour Concise Binary Object Representation RFC 8949) permet d'améliorer encore le gain de taille de fichier (82%)    \n",
    "    \n",
    "En synthèse, on passe donc d'un volume de données de 9,7 Mo (données csv quotées) à un volume de 3,7 Mo (données textuelles formatées) puis 2,4 Mo (données textuelles optimisées) et enfin à 1,8 Mo (données binaires optimisées)."
   ]
  },
  {
   "cell_type": "code",
   "execution_count": 9,
   "metadata": {
    "scrolled": false
   },
   "outputs": [
    {
     "name": "stdout",
     "output_type": "stream",
     "text": [
      "optimizesize :\n",
      " 2431290 8.861904382705688 \n",
      "\n",
      "indicator optimize :\n",
      " {'total values': 558150, 'mean size': 17.347, 'unique values': 78004, 'mean coding size': 2.246, 'unicity level': 0.14, 'optimize level': 0.251, 'object lightness': 0.129, 'maxgain': 0.86, 'gain': 0.749} \n",
      "\n",
      "cborsize :\n",
      " 1798910 0.6935088634490967 \n",
      "\n",
      "indicator cbor : \n",
      " {'total values': 558150, 'mean size': 17.347, 'unique values': 78004, 'mean coding size': 0.928, 'unicity level': 0.14, 'optimize level': 0.186, 'object lightness': 0.054, 'maxgain': 0.86, 'gain': 0.814}\n"
     ]
    }
   ],
   "source": [
    "t0=time()\n",
    "optimize = coup.to_obj(encoded=True)\n",
    "print('optimizesize :\\n', len(optimize), time()-t0, '\\n')\n",
    "print('indicator optimize :\\n', coup.indicator(fullsize, len(optimize)), '\\n')\n",
    "\n",
    "t0=time()\n",
    "cbor = coup.to_obj(encoded=True, encode_format='cbor')\n",
    "cborsize = len(cbor)\n",
    "print('cborsize :\\n', cborsize, time()-t0, '\\n')\n",
    "print('indicator cbor : \\n', coup.indicator(fullsize, cborsize))"
   ]
  },
  {
   "cell_type": "markdown",
   "metadata": {},
   "source": [
    "----\n",
    "## Intégrité\n",
    "- la transformation inverse des données binaires permet de vérifier que les données optimisées sont bien identiques aux données initiales (pas de dégradation, reversibilité)."
   ]
  },
  {
   "cell_type": "code",
   "execution_count": 10,
   "metadata": {
    "scrolled": false
   },
   "outputs": [
    {
     "name": "stdout",
     "output_type": "stream",
     "text": [
      "fromcbor 11163 9.942213535308838\n",
      "controle égalité : True 0.3523378372192383\n"
     ]
    }
   ],
   "source": [
    "t0=time()\n",
    "idxs2 = Ilist.from_obj(cbor)\n",
    "print('fromcbor', len(idxs2), time()-t0)\n",
    "\n",
    "t0=time()\n",
    "verif = idxs2 == idxs\n",
    "print('controle égalité :', verif, time()-t0)"
   ]
  },
  {
   "cell_type": "markdown",
   "metadata": {},
   "source": [
    "----\n",
    "## Exemple de données anormales\n",
    "L'analyse précédente met en évidence des incohérences entre données illustrées par quelques exemples ci-dessous :     \n",
    "- l'index \"coordonneesXY\"(13) est lié à l'index \"nom_station\"(9) avec un taux de couplage très faible, par ailleurs, le nombre de valeurs de ces deux index sont très proches (4503 pour nom_station contre 4459 pour coordonneesXY), ce qui signifie que dans la majorité des cas, on associe de façon unique une station et une position\n",
    "- les exemples ci-dessous montrent les écarts les plus importants :\n",
    "    - la position [1.106329, 49.474202] est associée à 10 stations\n",
    "    - la station Camping Arinella est associée à 5 positions\n",
    "    \n",
    "- de même pour l'index \"coordonneesXY\"(13) qui est lié à l'index \"adresse_station\"(11), le taux de couplage est très faible avec 44 enregistrements sur 4456 en écart. On a par exemple quatre enregistrements avec la position (6.3491347, 47.3517596) et des adresses différentes ('58 Avenue du PrÃ©sident Kennedy 26', '58 Avenue du PrÃ©sident Kennedy 28', '58 Avenue du PrÃ©sident Kennedy 27', '58 Avenue du PrÃ©sident Kennedy 25')"
   ]
  },
  {
   "cell_type": "code",
   "execution_count": 11,
   "metadata": {
    "scrolled": false
   },
   "outputs": [
    {
     "name": "stdout",
     "output_type": "stream",
     "text": [
      "Couplage entre  coordonneesXY  et  nom_station  :  linked\n",
      "Ecart :  44 positions sur  4503 \n",
      "\n",
      "les 5 positions avec le plus de stations: \n",
      " [('[1.106329, 49.474202]', 10), ('[3.080477, 50.675889]', 6), ('[1.313367, 49.137233]', 6), ('[2.523685, 48.9908]', 5), ('[3.1557445, 50.5161745]', 4)] \n",
      "\n",
      "liste des stations associées à la position [1.106329, 49.474202]  :\n",
      "{'SCH10', 'SCH08', 'SCH04', 'SCH03', 'SCH07', 'SCH01', 'SCH05', 'SCH02', 'SCH09', 'SCH06'} \n",
      "\n",
      "les 5 stations avec le plus de positions: \n",
      " [('Camping Arinella', 5), ('GUERET', 4), ('Noues de Sienne, Le Bourg', 3), ('Chatellerault Nord', 2), ('900109', 2)] \n",
      "\n",
      "liste des positions associées à la station Camping Arinella  :\n",
      "{'[9.445074, 41.995246]', '[9.445073, 41.995246]', '[9.445072, 41.995246]', '[9.445071, 41.995246]', '[9.445075, 41.995246]'}\n"
     ]
    }
   ],
   "source": [
    "champ = idxs.nindex\n",
    "print('Couplage entre ', champ('coordonneesXY').name, ' et ', champ('nom_station').name, ' : ', \n",
    "      champ('coordonneesXY').couplinginfos(champ('nom_station'))['typecoupl'])\n",
    "infosdefault = champ('nom_station').couplinginfos(champ('coordonneesXY'), default=True)\n",
    "print('Ecart : ', infosdefault['disttomin'], 'positions sur ', infosdefault['distmin'], '\\n') # moins de 1%\n",
    "\n",
    "nom_station = champ('nom_station').tostdcodec(full=False)\n",
    "coordonneesXY = champ('coordonneesXY').tostdcodec(full=False) \n",
    "coordonneesXY.coupling(nom_station)\n",
    "c = Counter(coordonneesXY.codec).most_common(5)\n",
    "print('les 5 positions avec le plus de stations: \\n', c, '\\n')\n",
    "print('liste des stations associées à la position', c[0][0], ' :')\n",
    "print(set([nom_station[i] for i in coordonneesXY.recordfromvalue(c[0][0])]), '\\n')\n",
    "\n",
    "coordonneesXY = champ('coordonneesXY').tostdcodec(full=False)\n",
    "nom_station.coupling(coordonneesXY)\n",
    "c = Counter(nom_station.codec).most_common(5)\n",
    "print('les 5 stations avec le plus de positions: \\n', c, '\\n')\n",
    "print('liste des positions associées à la station', c[0][0], ' :')\n",
    "print(set([coordonneesXY[i] for i in nom_station.recordfromvalue(c[0][0])]))"
   ]
  },
  {
   "cell_type": "code",
   "execution_count": 12,
   "metadata": {
    "scrolled": false
   },
   "outputs": [
    {
     "name": "stdout",
     "output_type": "stream",
     "text": [
      "Couplage entre  adresse_station  et  coordonneesXY  :  linked\n",
      "Ecart :  41 positions sur  4459 \n",
      "\n",
      "les 5 adresses avec le plus de positions : \n",
      " [(\"rue de l'Ã©glise\", 7), ('place de la mairie', 6), ('Place de la Mairie', 6), ('rue Grande', 5), (\"place de l'Ã©glise\", 5)] \n",
      "\n",
      "liste des position associées à l adresse : rue de l'Ã©glise  :\n",
      "{'[3.2265338, 48.6845989]', '[2.76525, 48.448495]', '[2.9614005, 48.4189934]', '[3.3512623, 48.4528516]', '[2.5653149, 48.5803653]', '[3.343567, 48.693841]', '[2.7603113, 48.97101]'} \n",
      "\n",
      "les 5 positions avec le plus d adresses : \n",
      " [('[6.3491347,47.3517596]', 4), ('[0.654826, 47.353958]', 4), ('[7.61,48.85]', 3), ('[0.9605582,49.5355585]', 3), ('[1.34918, 49.157966]', 3)] \n",
      "\n",
      "liste des adresses associées à la position [6.3491347,47.3517596]  :\n",
      "{'58 Avenue du PrÃ©sident Kennedy 28', '58 Avenue du PrÃ©sident Kennedy 27', '58 Avenue du PrÃ©sident Kennedy 25', '58 Avenue du PrÃ©sident Kennedy 26'}\n"
     ]
    }
   ],
   "source": [
    "print('Couplage entre ', champ('adresse_station').name, ' et ', champ('coordonneesXY').name, ' : ', \n",
    "      champ('adresse_station').couplinginfos(champ('coordonneesXY'))['typecoupl'])\n",
    "infosdefault = champ('coordonneesXY').couplinginfos(champ('adresse_station'), default=True)\n",
    "print('Ecart : ', infosdefault['disttomin'], 'positions sur ', infosdefault['distmin'], '\\n') # moins de 1%\n",
    "\n",
    "coordonneesXY = champ('coordonneesXY').tostdcodec(full=False)\n",
    "adresse_station = champ('adresse_station').tostdcodec(full=False) \n",
    "adresse_station.coupling(coordonneesXY)\n",
    "c = Counter(adresse_station.codec).most_common(5)\n",
    "print('les 5 adresses avec le plus de positions : \\n', c, '\\n')\n",
    "print('liste des position associées à l adresse :', c[0][0], ' :')\n",
    "print(set([coordonneesXY[i] for i in adresse_station.recordfromvalue(c[0][0])]), '\\n')\n",
    "\n",
    "adresse_station = champ('adresse_station').tostdcodec(full=False)\n",
    "coordonneesXY.coupling(adresse_station)\n",
    "c = Counter(coordonneesXY.codec).most_common(5)\n",
    "print('les 5 positions avec le plus d adresses : \\n', c, '\\n')\n",
    "print('liste des adresses associées à la position', c[0][0], ' :')\n",
    "print(set([adresse_station[i] for i in coordonneesXY.recordfromvalue(c[0][0])]))"
   ]
  },
  {
   "cell_type": "markdown",
   "metadata": {},
   "source": [
    "----\n",
    "## Détection des incohérences de relations entre champs\n",
    "- la fonction coupling permet de réorganiser la structure des relations en isolant les enregistrements incohérents\n",
    "- dans le cas ci-dessous, elle est appliquée de façon automatique (minimisation des incohérences)\n",
    "- les incohérences minimales sont dans le cas présent de 12%"
   ]
  },
  {
   "cell_type": "code",
   "execution_count": 13,
   "metadata": {
    "scrolled": false
   },
   "outputs": [
    {
     "name": "stdout",
     "output_type": "stream",
     "text": [
      "nombre d enregistrements incohérents :  4757 \n",
      "\n",
      "nombre d enregistrements cohérents et liste des indexs non dérivés :  6406 [15]\n"
     ]
    }
   ],
   "source": [
    "idxs3 = Ilist.from_obj(cbor)\n",
    "idxs3.coupling()\n",
    "duplic = idxs3.getduplicates(resindex=ES.filter)\n",
    "print('nombre d enregistrements incohérents : ', len(duplic), '\\n')\n",
    "idxs3.applyfilter()\n",
    "print('nombre d enregistrements cohérents et liste des indexs non dérivés : ', len(idxs3), idxs3.primary)"
   ]
  },
  {
   "cell_type": "markdown",
   "metadata": {},
   "source": [
    "----\n",
    "## Vérification simple\n",
    "- on peut vérifier par exemple qu'une position est associée à une unique station et que réciproquement chaque station n'a qu'une seule position (relation 1-1 entre les deux champs)."
   ]
  },
  {
   "cell_type": "code",
   "execution_count": 14,
   "metadata": {},
   "outputs": [
    {
     "name": "stdout",
     "output_type": "stream",
     "text": [
      "nombre de pdc avec position/station non couplées :  386\n",
      "\n",
      "liste des premières incohérences : \n",
      "{(' IntermarchÃ© - Gauville - 22kW AC ', '[1.759704, 49.780879]'),\n",
      " (' Toyota - Montagnat - 22kW AC', '[5.2592028, 46.1746523]'),\n",
      " ('IntermarchÃ© - Gauville - 22kW AC ', '[1.759704, 49.780879]'),\n",
      " ('Lessafre1', '[3.080477, 50.675889]'),\n",
      " ('Lessafre2', '[3.080477, 50.675889]'),\n",
      " ('Lessafre3', '[3.080477, 50.675889]'),\n",
      " ('Lessafre4', '[3.080477, 50.675889]'),\n",
      " ('Lessafre5', '[3.080477, 50.675889]'),\n",
      " ('Lessafre6', '[3.080477, 50.675889]'),\n",
      " ('M2050', '[1.313367, 49.137233]'),\n",
      " ('M2051', '[1.313367, 49.137233]'),\n",
      " ('M2052', '[1.313367, 49.137233]'),\n",
      " ('M2060', '[1.313367, 49.137233]'),\n",
      " ('M2067', '[1.313367, 49.137233]'),\n",
      " ('M2070', '[1.313367, 49.137233]'),\n",
      " ('MECANIQUE SERVICES - Bonnelles', '[2.025665, 49.614061]'),\n",
      " ('PARKING MERMOZ 1', '[6.948066, 43.567243]'),\n",
      " ('Toyota - Annemasse - 22kW AC D ', '[6.2174783, 46.1858677]'),\n",
      " ('Toyota - Annemasse - 22kW AC G ', '[6.2174783, 46.1858677]'),\n",
      " ('Toyota - Annemasse - 24kW DC ', '[6.2174783, 46.1858677]'),\n",
      " ('Toyota - Montagnat - 22kW AC', '[5.2592028, 46.1746523]'),\n",
      " ('Toyota - Nice - 22KW AC ', '[7.201547, 43.6885902]'),\n",
      " ('Toyota - Nice - 24kW DC ', '[7.201547, 43.6885902]'),\n",
      " ('VAL SERVICES', '[2.025665, 49.614061]'),\n",
      " ('duriez1', '[3.1557445, 50.5161745]'),\n",
      " ('duriez2', '[3.1557445, 50.5161745]'),\n",
      " ('duriez3', '[3.1557445, 50.5161745]'),\n",
      " ('duriez4', '[3.1557445, 50.5161745]')}\n"
     ]
    }
   ],
   "source": [
    "idxs4 = copy(idxs2)\n",
    "champ = idxs4.nindex\n",
    "notcoupl = champ('coordonneesXY').coupling(champ('nom_station'), derived=False)\n",
    "print('nombre de pdc avec position/station non couplées : ', len(notcoupl))\n",
    "print('\\nliste des premières incohérences : ')\n",
    "liste = []\n",
    "for i in range(100): \n",
    "    liste.append((champ('nom_station')[notcoupl[i]], champ('coordonneesXY')[notcoupl[i]]))\n",
    "pprint(set(liste), width=120)"
   ]
  },
  {
   "cell_type": "markdown",
   "metadata": {},
   "source": [
    "## Vérification par rapport à une structure imposée\n",
    "- une autre utilisation possible est de vérifier les données par rapport à un modèle de données défini\n",
    "- dans cet exemple, on peut regrouper les colonnes suivant quatre entités (ceci revient à considérer les colonnes comme des attributs de chacune des entités) : les opérateurs (colonne 6), les aménageurs (colonne 1), les stations (colonne 9), les pdc (colonne 15) -> cf quatre premières lignes ci-dessous\n",
    "- on peut également indiquer les dépendances entre les quatre entités (les opérateurs et aménageurs sont dérivés par rapport aux stations qui elles sont dérivées par rapport aux pdc."
   ]
  },
  {
   "cell_type": "code",
   "execution_count": 15,
   "metadata": {
    "scrolled": false
   },
   "outputs": [
    {
     "name": "stdout",
     "output_type": "stream",
     "text": [
      "-1: root-derived (11163)\n",
      "   15: id_pdc_itinerance (11154)\n",
      "      7 : id_station_itinerance (7060)\n",
      "      8 : id_station_local (3838)\n",
      "      9 : nom_station (5185)\n",
      "         1 : siren_amenageur (715)\n",
      "            0 : nom_amenageur (481)\n",
      "            2 : contact_amenageur (388)\n",
      "         6 : nom_enseigne (860)\n",
      "            3 : nom_operateur (152)\n",
      "            4 : contact_operateur (159)\n",
      "            5 : telephone_operateur (215)\n",
      "         10: implantation_station (5)\n",
      "         11: adresse_station (4392)\n",
      "            28: condition_acces (3)\n",
      "         12: code_insee_commune (2593)\n",
      "         13: coordonneesXY (4459)\n",
      "            33: station_deux_roues (7)\n",
      "            43: consolidated_longitude (4448)\n",
      "            44: consolidated_latitude (4429)\n",
      "         14: nbre_pdc (32)\n",
      "         23: gratuit (9)\n",
      "         24: paiement_acte (9)\n",
      "         25: paiement_cb (8)\n",
      "         26: paiement_autre (9)\n",
      "         27: tarification (128)\n",
      "         29: reservation (8)\n",
      "         30: horaires (140)\n",
      "         31: accessibilite_pmr (5)\n",
      "         32: restriction_gabarit (97)\n",
      "         34: raccordement (3)\n",
      "         35: num_pdl (1371)\n",
      "         36: date_mise_en_service (1102)\n",
      "         45: consolidated_code_postal (1697)\n",
      "         46: consolidated_commune (2511)\n",
      "         47: consolidated_is_lon_lat_correct (3)\n",
      "         48: consolidated_is_code_insee_verified (3)\n",
      "      16: id_pdc_local (7095)\n",
      "      17: puissance_nominale (61)\n",
      "      18: prise_type_ef (9)\n",
      "      19: prise_type_2 (8)\n",
      "      20: prise_type_combo_ccs (8)\n",
      "      21: prise_type_chademo (7)\n",
      "      22: prise_type_autre (8)\n",
      "      37: observations (101)\n",
      "      38: date_maj (269)\n",
      "      39: last_modified (385)\n",
      "         40: datagouv_dataset_id (294)\n",
      "            42: datagouv_organization_or_owner (122)\n",
      "         41: datagouv_resource_id (385)\n"
     ]
    }
   ],
   "source": [
    "idxs.reindex()\n",
    "idxs_impose = copy(idxs)\n",
    "row_operateur   = [6,3,4,5]\n",
    "row_amenageur   = [1,0,2]\n",
    "row_station     = [9,10,11,12,13,14,23,24,25,26,27,28,29,30,31,32,33,34,35,36,43,44,45,46,47,48]\n",
    "row_pdc         = [15,16,17,18,19,20,21,22,7,8,37,38,39,40,41,42]\n",
    "\n",
    "champ = idxs_impose.lindex\n",
    "operateur       = [champ[i] for i in row_operateur]\n",
    "amenageur       = [champ[i] for i in row_amenageur]\n",
    "station         = [champ[i] for i in row_station]\n",
    "pdc             = [champ[i] for i in row_pdc]\n",
    "\n",
    "pdc      [0].coupling(pdc      [1:])\n",
    "station  [0].coupling(station  [1:])\n",
    "amenageur[0].coupling(amenageur[1:])\n",
    "operateur[0].coupling(operateur[1:])\n",
    "\n",
    "station  [0].coupling([operateur[0], amenageur[0]])\n",
    "pdc      [0].coupling(station[0])\n",
    "\n",
    "print(idxs_impose.tree())"
   ]
  },
  {
   "cell_type": "markdown",
   "metadata": {},
   "source": [
    "La taille de ce format imposé (2,7 Mo) reste proche de la taille du format optimisé vu précédemment (2,4 Mo)."
   ]
  },
  {
   "cell_type": "code",
   "execution_count": 16,
   "metadata": {},
   "outputs": [
    {
     "name": "stdout",
     "output_type": "stream",
     "text": [
      "imposesize :  2686687 \n",
      "\n"
     ]
    }
   ],
   "source": [
    "impose = idxs_impose.to_obj(encoded=True)\n",
    "print('imposesize : ', len(impose), '\\n')"
   ]
  },
  {
   "cell_type": "markdown",
   "metadata": {},
   "source": [
    "## Mise en cohérence des données\n",
    "- l'application de la structure imposée permet d'identifier les enregistrements qui ne respectent pas la structure (cf exemples indiqués plus haut).\n",
    "- dans l'exemple proposé, on identifie 48% des données ne respectant pas la structure\n",
    "- on vérifie également qu'en supprimant ces données incoérentes, la structure définie est bien respectée"
   ]
  },
  {
   "cell_type": "code",
   "execution_count": 17,
   "metadata": {
    "scrolled": false
   },
   "outputs": [
    {
     "name": "stdout",
     "output_type": "stream",
     "text": [
      "données respectant la structure (True) et ne la respectant pas (False) :  Counter({True: 5775, False: 5388}) \n",
      "\n",
      "-1: root-derived (5775)\n",
      "   15: id_pdc_itinerance (5775)\n",
      "      7 : id_station_itinerance (3859)\n",
      "      8 : id_station_local (1708)\n",
      "      9 : nom_station (2424)\n",
      "         6 : nom_enseigne (210)\n",
      "            5 : telephone_operateur (37)\n",
      "         11: adresse_station (2355)\n",
      "            30: horaires (43)\n",
      "         12: code_insee_commune (1470)\n",
      "         13: coordonneesXY (2383)\n",
      "            1 : siren_amenageur (357)\n",
      "               0 : nom_amenageur (161)\n",
      "                  28: condition_acces (2)\n",
      "               2 : contact_amenageur (111)\n",
      "            27: tarification (37)\n",
      "            32: restriction_gabarit (35)\n",
      "            39: last_modified (94)\n",
      "               3 : nom_operateur (39)\n",
      "               4 : contact_operateur (40)\n",
      "               31: accessibilite_pmr (3)\n",
      "               40: datagouv_dataset_id (82)\n",
      "                  24: paiement_acte (6)\n",
      "                  26: paiement_autre (6)\n",
      "                  29: reservation (5)\n",
      "                  33: station_deux_roues (5)\n",
      "                  42: datagouv_organization_or_owner (42)\n",
      "               41: datagouv_resource_id (94)\n",
      "            43: consolidated_longitude (2380)\n",
      "               10: implantation_station (5)\n",
      "               23: gratuit (6)\n",
      "               34: raccordement (2)\n",
      "            44: consolidated_latitude (2373)\n",
      "               25: paiement_cb (7)\n",
      "         14: nbre_pdc (20)\n",
      "         35: num_pdl (514)\n",
      "         36: date_mise_en_service (713)\n",
      "         45: consolidated_code_postal (1037)\n",
      "            48: consolidated_is_code_insee_verified (2)\n",
      "         46: consolidated_commune (1435)\n",
      "         47: consolidated_is_lon_lat_correct (2)\n",
      "      16: id_pdc_local (3642)\n",
      "      17: puissance_nominale (39)\n",
      "      18: prise_type_ef (7)\n",
      "      19: prise_type_2 (7)\n",
      "      20: prise_type_combo_ccs (7)\n",
      "      21: prise_type_chademo (6)\n",
      "      22: prise_type_autre (5)\n",
      "      37: observations (24)\n",
      "      38: date_maj (95)\n"
     ]
    }
   ],
   "source": [
    "duplic = idxs_impose.getduplicates(idxs_impose.lname, ES.filter)\n",
    "print('données respectant la structure (True) et ne la respectant pas (False) : ', \n",
    "      Counter(idxs_impose.lidx[49].values), '\\n')\n",
    "idxs_impose.applyfilter()\n",
    "print(idxs_impose.tree())"
   ]
  }
 ],
 "metadata": {
  "celltoolbar": "Format de la Cellule Texte Brut",
  "kernelspec": {
   "display_name": "Python 3 (ipykernel)",
   "language": "python",
   "name": "python3"
  },
  "language_info": {
   "codemirror_mode": {
    "name": "ipython",
    "version": 3
   },
   "file_extension": ".py",
   "mimetype": "text/x-python",
   "name": "python",
   "nbconvert_exporter": "python",
   "pygments_lexer": "ipython3",
   "version": "3.9.12"
  }
 },
 "nbformat": 4,
 "nbformat_minor": 4
}
