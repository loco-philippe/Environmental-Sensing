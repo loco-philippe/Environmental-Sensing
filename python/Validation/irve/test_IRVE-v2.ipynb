{
 "cells": [
  {
   "cell_type": "markdown",
   "metadata": {},
   "source": [
    "# Objet : Analyse des relations entre champs des données IRVE\n",
    "\n",
    "## Contexte\n",
    "- clarification du rôle des modèles de données dans les jeux de données (cf mise à jour récente des [guides data.gouv](https://guides.etalab.gouv.fr/qualite/documenter-les-donnees/))\n",
    "- intégration d'une propriété \"relationship\" dans les schémas de données (issue TableSchema en cours de validation)\n",
    "- mise à disposition d'outils de contrôle des relations entre champs des jeux de données tabulaires\n",
    "\n",
    "## Objectifs\n",
    "- valider sur un cas réel l'utilisation d'un modèle de données en complément d'un schéma de données\n",
    "- identifier les apports que pourraient avoir les contrôles de validation des relations entre champs\n",
    "\n",
    "## Résultats\n",
    "- la formalisation d'un modèle de données facilite la compréhension des données et des relations entre champs\n",
    "- l'outil de contrôle permet d'améliorer significativement la qualité des données par la détection d'incohérences\n",
    "- l'analyse a posteriori permet de (re)trouver la logique de dépendance entre les colonnes qui minimise les incohérences\n",
    "\n",
    "## Suite à donner\n",
    "- Mettre à jour, valider et publier le modèle de données IRVE\n",
    "- Définir les contrôles supplémentaires à intégrer pour les nouvelles données et pour le jeu complet\n",
    "- Mettre en oeuvre les outils de contrôle\n",
    "\n",
    "## Evolutions possibles \n",
    "- Ajouter dans les guides d'Etalab un guide pour les modèles de données \n",
    "- Intégrer dans les schémas de données la propriété \"relationship\" en cours de validation,\n",
    "- Définir un indicateur qui mesure l'écart (existant / attendu) des relations entre champs\n",
    "\n",
    "données utilisées : https://www.data.gouv.fr/fr/datasets/fichier-consolide-des-bornes-de-recharge-pour-vehicules-electriques/    \n",
    "fichier : \"*consolidation-etalab-schema-irve-statique-v-2.2.0-20230303.csv*\"\n",
    "_________________"
   ]
  },
  {
   "cell_type": "markdown",
   "metadata": {},
   "source": [
    "# 1 - modèle de données\n",
    "\n",
    "Le modèle de données proposé ci-dessous est construit sur la base du schéma de données mis à disposition, il est à consolider en fonction de l'expertise des concepteurs ( voir [guide méthodologique](https://github.com/loco-philippe/Environmental-Sensing/blob/main/property_relationship/FR_methodology.ipynb) )"
   ]
  },
  {
   "cell_type": "markdown",
   "metadata": {},
   "source": [
    "*Notation:*\n",
    "- *M : Mandatory - documentation obligatoire*\n",
    "- *PK : Primary Key - identifiant unique de l'entité*\n",
    "- *Root : champ associé à une ligne du tableau*"
   ]
  },
  {
   "cell_type": "code",
   "execution_count": 3,
   "metadata": {
    "scrolled": false
   },
   "outputs": [
    {
     "data": {
      "text/html": [
       "<img src=\"https://mermaid.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\"/>"
      ],
      "text/plain": [
       "<IPython.core.display.Image object>"
      ]
     },
     "metadata": {},
     "output_type": "display_data"
    }
   ],
   "source": [
    "# 'irve' défini en fin de Notebook\n",
    "mermaid(irve)"
   ]
  },
  {
   "cell_type": "markdown",
   "metadata": {},
   "source": [
    "------\n",
    "# 2 - Initialisation\n",
    "## initialisation des données\n",
    "- lecture du fichier issu de l'api"
   ]
  },
  {
   "cell_type": "code",
   "execution_count": 4,
   "metadata": {},
   "outputs": [
    {
     "name": "stdout",
     "output_type": "stream",
     "text": [
      "data :  51276\n"
     ]
    }
   ],
   "source": [
    "from collections import Counter\n",
    "from observation import Ilist, Iindex\n",
    "import pandas as pd\n",
    "\n",
    "chemin = 'https://raw.githubusercontent.com/loco-philippe/Environmental-Sensing/main/python/Validation/irve/'\n",
    "\n",
    "file = chemin + 'consolidation-etalab-schema-irve-statique-v-2.2.0-20230303.csv'\n",
    "data = pd.read_csv(file, sep=',', low_memory=False)\n",
    "print('data : ', len(data))"
   ]
  },
  {
   "cell_type": "markdown",
   "metadata": {},
   "source": [
    "----\n",
    "## initialisation de l'outil d'analyse\n",
    "L'outil d'analyse ([voir présentation](https://github.com/loco-philippe/Environmental-Sensing/blob/main/documentation/FR_tabular_structure.ipynb)) est chargé à partir des données Pandas :\n",
    "- 51 276 lignes\n",
    "- 50 colonnes\n",
    "- 211 484 valeurs différentes sur un total de 51 276 x 50 valeurs (\"taux d'unicité\" de 8.2%)"
   ]
  },
  {
   "cell_type": "code",
   "execution_count": 5,
   "metadata": {},
   "outputs": [
    {
     "name": "stdout",
     "output_type": "stream",
     "text": [
      "idxs (len, lenlidx, sumcodec) :  51276 50 211370\n"
     ]
    }
   ],
   "source": [
    "idxs = Ilist.obj(data)\n",
    "print('idxs (len, lenlidx, sumcodec) : ', len(idxs), len(idxs.idxlen), sum(idxs.idxlen))"
   ]
  },
  {
   "cell_type": "markdown",
   "metadata": {},
   "source": [
    "_________________\n",
    "# 3 - Analyse des relations entre champs\n",
    "## Arborescence des champs\n",
    "- l'examen de \"l'arbre de dérivation\" indique un faible niveau d'interdépendance entre champs (seuls quelques-uns ne sont pas liés à la racine). \n",
    "- Par exemple les champs consolidated_longitude(44) et consolidated_latitude(45) sont bien dérivés du champ coordonneesXY(13)\n"
   ]
  },
  {
   "cell_type": "code",
   "execution_count": 6,
   "metadata": {},
   "outputs": [
    {
     "name": "stdout",
     "output_type": "stream",
     "text": [
      "-1: root-derived (51276)\n",
      "   0 : nom_amenageur (2474)\n",
      "   1 : siren_amenageur (1182)\n",
      "   2 : contact_amenageur (548)\n",
      "   3 : nom_operateur (237)\n",
      "   4 : contact_operateur (274)\n",
      "   5 : telephone_operateur (357)\n",
      "   6 : nom_enseigne (1493)\n",
      "   7 : id_station_itinerance (18544)\n",
      "   8 : id_station_local (10731)\n",
      "   9 : nom_station (15463)\n",
      "   10: implantation_station (5)\n",
      "   11: adresse_station (16496)\n",
      "   12: code_insee_commune (5242)\n",
      "   13: coordonneesXY (17241)\n",
      "      44: consolidated_longitude (17069)\n",
      "      45: consolidated_latitude (17018)\n",
      "   14: nbre_pdc (50)\n",
      "   15: id_pdc_itinerance (42457)\n",
      "   16: id_pdc_local (27186)\n",
      "   17: puissance_nominale (87)\n",
      "   18: prise_type_ef (8)\n",
      "   19: prise_type_2 (8)\n",
      "   20: prise_type_combo_ccs (8)\n",
      "   21: prise_type_chademo (7)\n",
      "   22: prise_type_autre (7)\n",
      "   23: gratuit (8)\n",
      "   24: paiement_acte (8)\n",
      "   25: paiement_cb (7)\n",
      "   26: paiement_autre (8)\n",
      "   27: tarification (212)\n",
      "   28: condition_acces (2)\n",
      "   29: reservation (7)\n",
      "   30: horaires (516)\n",
      "   31: accessibilite_pmr (4)\n",
      "   32: restriction_gabarit (148)\n",
      "   33: station_deux_roues (7)\n",
      "   34: raccordement (2)\n",
      "   35: num_pdl (2884)\n",
      "   36: date_mise_en_service (2226)\n",
      "   37: observations (137)\n",
      "   38: date_maj (639)\n",
      "   39: cable_t2_attache (5)\n",
      "   40: last_modified (774)\n",
      "      41: datagouv_dataset_id (636)\n",
      "         43: datagouv_organization_or_owner (201)\n",
      "      42: datagouv_resource_id (774)\n",
      "   46: consolidated_code_postal (3114)\n",
      "   47: consolidated_commune (4855)\n",
      "   48: consolidated_is_lon_lat_correct (2)\n",
      "   49: consolidated_is_code_insee_verified (2)\n"
     ]
    }
   ],
   "source": [
    "print(idxs.tree())\n",
    "# valeur entre parenthèses : nombre de valeurs distinctes"
   ]
  },
  {
   "cell_type": "markdown",
   "metadata": {},
   "source": [
    "## Identification du champ 'root'\n",
    "Le champ 'root' est l'identifiant d'une ligne du tableau. Dans le cas présent, aucun champ ne remplit ce rôle. Le champ le plus proche est le champ 'id_pdc_itinerance' avec 42 457 valeurs pour 51 276 lignes."
   ]
  },
  {
   "cell_type": "code",
   "execution_count": 7,
   "metadata": {
    "scrolled": true
   },
   "outputs": [
    {
     "name": "stdout",
     "output_type": "stream",
     "text": [
      "lignes en écart :  16642\n",
      "les 5 pdc avec le plus de lignes : \n",
      " [('Non concerné', 519), ('FR55CP84000', 50), ('FR55CP92140', 29), ('FR55CP78140', 28), ('FR55CP83310', 23)] \n",
      "\n"
     ]
    }
   ],
   "source": [
    "champ = idxs.nindex\n",
    "root = Iindex.ext(list(range(len(idxs))))\n",
    "id_pdc_itinerance = champ('id_pdc_itinerance')\n",
    "ecart = id_pdc_itinerance.coupling(root)\n",
    "print('lignes en écart : ',len(ecart))\n",
    "c = Counter(id_pdc_itinerance.codec).most_common(5)\n",
    "id_pdc_itinerance.tostdcodec(full=False)\n",
    "print('les 5 pdc avec le plus de lignes : \\n', c, '\\n')"
   ]
  },
  {
   "cell_type": "markdown",
   "metadata": {},
   "source": [
    "- le principal écart est lié à la présence de l'historique des modifications.\n",
    "- l'écart résiduel (1068 lignes) est à traiter de façon spécifique -> cf exemples d'écarts ci-dessous"
   ]
  },
  {
   "cell_type": "code",
   "execution_count": 8,
   "metadata": {},
   "outputs": [
    {
     "name": "stdout",
     "output_type": "stream",
     "text": [
      "lignes en écart :  1068\n",
      "les 5 pdc avec le plus de lignes : \n",
      " [(('FR55CP84000', '2023-03-03T17:39:50.555000'), 50), (('Non concerné', '2023-03-03T17:37:07.612000'), 34), (('FR55CP92140', '2023-03-03T17:39:50.555000'), 29), (('FR55CP78140', '2023-03-03T17:39:50.555000'), 28), (('FR55CP83310', '2023-03-03T17:39:50.555000'), 23)] \n",
      "\n"
     ]
    }
   ],
   "source": [
    "last_modified = champ('last_modified')\n",
    "id_pdc = Iindex.merging([id_pdc_itinerance, last_modified], 'id_pdc')\n",
    "ecart = id_pdc.coupling(root)\n",
    "print('lignes en écart : ',len(ecart))\n",
    "c = Counter(id_pdc.codec).most_common(5)\n",
    "id_pdc.tostdcodec(full=False)\n",
    "print('les 5 pdc avec le plus de lignes : \\n', c, '\\n')"
   ]
  },
  {
   "cell_type": "code",
   "execution_count": 9,
   "metadata": {
    "scrolled": false
   },
   "outputs": [
    {
     "data": {
      "text/html": [
       "<div>\n",
       "<style scoped>\n",
       "    .dataframe tbody tr th:only-of-type {\n",
       "        vertical-align: middle;\n",
       "    }\n",
       "\n",
       "    .dataframe tbody tr th {\n",
       "        vertical-align: top;\n",
       "    }\n",
       "\n",
       "    .dataframe thead th {\n",
       "        text-align: right;\n",
       "    }\n",
       "</style>\n",
       "<table border=\"1\" class=\"dataframe\">\n",
       "  <thead>\n",
       "    <tr style=\"text-align: right;\">\n",
       "      <th></th>\n",
       "      <th>id_pdc_itinerance</th>\n",
       "      <th>id_station_itinerance</th>\n",
       "      <th>nom_station</th>\n",
       "      <th>coordonneesXY</th>\n",
       "      <th>nbre_pdc</th>\n",
       "      <th>last_modified</th>\n",
       "    </tr>\n",
       "  </thead>\n",
       "  <tbody>\n",
       "    <tr>\n",
       "      <th>47568</th>\n",
       "      <td>Non concerné</td>\n",
       "      <td>Non concerné</td>\n",
       "      <td>Parking L'Aérodrome de la Baie de Somme</td>\n",
       "      <td>[1.8255189491394663, 50.13950991485836]</td>\n",
       "      <td>3</td>\n",
       "      <td>2023-03-03T17:35:35.997000</td>\n",
       "    </tr>\n",
       "    <tr>\n",
       "      <th>47569</th>\n",
       "      <td>Non concerné</td>\n",
       "      <td>Non concerné</td>\n",
       "      <td>Parking L'Aérodrome de la Baie de Somme</td>\n",
       "      <td>[1.8255189491394663, 50.13950991485836]</td>\n",
       "      <td>3</td>\n",
       "      <td>2023-03-03T17:35:35.997000</td>\n",
       "    </tr>\n",
       "    <tr>\n",
       "      <th>47567</th>\n",
       "      <td>Non concerné</td>\n",
       "      <td>Non concerné</td>\n",
       "      <td>Parking L'Aérodrome de la Baie de Somme</td>\n",
       "      <td>[1.8255189491394663, 50.13950991485836]</td>\n",
       "      <td>3</td>\n",
       "      <td>2023-03-03T17:35:35.997000</td>\n",
       "    </tr>\n",
       "    <tr>\n",
       "      <th>2518</th>\n",
       "      <td>FR55CP92140</td>\n",
       "      <td>FR55CP92140</td>\n",
       "      <td>AVENUE JEAN JAURES - CLAMART</td>\n",
       "      <td>[2.267834, 48.808019]</td>\n",
       "      <td>1</td>\n",
       "      <td>2023-03-03T17:39:50.555000</td>\n",
       "    </tr>\n",
       "    <tr>\n",
       "      <th>2388</th>\n",
       "      <td>FR55CP92140</td>\n",
       "      <td>FR55CP92140</td>\n",
       "      <td>POMPIDOU - CLAMART</td>\n",
       "      <td>[2.23637, 48.784747]</td>\n",
       "      <td>1</td>\n",
       "      <td>2023-03-03T17:39:50.555000</td>\n",
       "    </tr>\n",
       "    <tr>\n",
       "      <th>...</th>\n",
       "      <td>...</td>\n",
       "      <td>...</td>\n",
       "      <td>...</td>\n",
       "      <td>...</td>\n",
       "      <td>...</td>\n",
       "      <td>...</td>\n",
       "    </tr>\n",
       "    <tr>\n",
       "      <th>41150</th>\n",
       "      <td>FRS49E492230022</td>\n",
       "      <td>FRS49P49223A</td>\n",
       "      <td>OuestCharge - Diva Sp - Murs-Erigne - De Grand...</td>\n",
       "      <td>[-0.528586, 47.396864]</td>\n",
       "      <td>2</td>\n",
       "      <td>2023-03-03T17:36:58.803000</td>\n",
       "    </tr>\n",
       "    <tr>\n",
       "      <th>9077</th>\n",
       "      <td>FRP07E6748200322</td>\n",
       "      <td>FRP07P67482003</td>\n",
       "      <td>STRASBOURG - Wodli</td>\n",
       "      <td>[7.73762, 48.587002]</td>\n",
       "      <td>41</td>\n",
       "      <td>2023-03-03T17:39:32.426000</td>\n",
       "    </tr>\n",
       "    <tr>\n",
       "      <th>9106</th>\n",
       "      <td>FRP07E6748200322</td>\n",
       "      <td>FRP07P67482003</td>\n",
       "      <td>STRASBOURG - Wodli</td>\n",
       "      <td>[7.73762, 48.587002]</td>\n",
       "      <td>1</td>\n",
       "      <td>2023-03-03T17:39:32.426000</td>\n",
       "    </tr>\n",
       "    <tr>\n",
       "      <th>4357</th>\n",
       "      <td>FRP07E674820038</td>\n",
       "      <td>FRP07P67482003</td>\n",
       "      <td>STRASBOURG - Wodli</td>\n",
       "      <td>[7.73762, 48.587002]</td>\n",
       "      <td>41</td>\n",
       "      <td>2023-03-03T17:39:32.426000</td>\n",
       "    </tr>\n",
       "    <tr>\n",
       "      <th>4365</th>\n",
       "      <td>FRP07E674820038</td>\n",
       "      <td>FRP07P67482003</td>\n",
       "      <td>STRASBOURG - Wodli</td>\n",
       "      <td>[7.73762, 48.587002]</td>\n",
       "      <td>1</td>\n",
       "      <td>2023-03-03T17:39:32.426000</td>\n",
       "    </tr>\n",
       "  </tbody>\n",
       "</table>\n",
       "<p>1068 rows × 6 columns</p>\n",
       "</div>"
      ],
      "text/plain": [
       "      id_pdc_itinerance id_station_itinerance  \\\n",
       "47568      Non concerné          Non concerné   \n",
       "47569      Non concerné          Non concerné   \n",
       "47567      Non concerné          Non concerné   \n",
       "2518        FR55CP92140           FR55CP92140   \n",
       "2388        FR55CP92140           FR55CP92140   \n",
       "...                 ...                   ...   \n",
       "41150   FRS49E492230022          FRS49P49223A   \n",
       "9077   FRP07E6748200322        FRP07P67482003   \n",
       "9106   FRP07E6748200322        FRP07P67482003   \n",
       "4357    FRP07E674820038        FRP07P67482003   \n",
       "4365    FRP07E674820038        FRP07P67482003   \n",
       "\n",
       "                                             nom_station  \\\n",
       "47568            Parking L'Aérodrome de la Baie de Somme   \n",
       "47569            Parking L'Aérodrome de la Baie de Somme   \n",
       "47567            Parking L'Aérodrome de la Baie de Somme   \n",
       "2518                        AVENUE JEAN JAURES - CLAMART   \n",
       "2388                                  POMPIDOU - CLAMART   \n",
       "...                                                  ...   \n",
       "41150  OuestCharge - Diva Sp - Murs-Erigne - De Grand...   \n",
       "9077                                  STRASBOURG - Wodli   \n",
       "9106                                  STRASBOURG - Wodli   \n",
       "4357                                  STRASBOURG - Wodli   \n",
       "4365                                  STRASBOURG - Wodli   \n",
       "\n",
       "                                 coordonneesXY  nbre_pdc  \\\n",
       "47568  [1.8255189491394663, 50.13950991485836]         3   \n",
       "47569  [1.8255189491394663, 50.13950991485836]         3   \n",
       "47567  [1.8255189491394663, 50.13950991485836]         3   \n",
       "2518                     [2.267834, 48.808019]         1   \n",
       "2388                      [2.23637, 48.784747]         1   \n",
       "...                                        ...       ...   \n",
       "41150                   [-0.528586, 47.396864]         2   \n",
       "9077                      [7.73762, 48.587002]        41   \n",
       "9106                      [7.73762, 48.587002]         1   \n",
       "4357                      [7.73762, 48.587002]        41   \n",
       "4365                      [7.73762, 48.587002]         1   \n",
       "\n",
       "                    last_modified  \n",
       "47568  2023-03-03T17:35:35.997000  \n",
       "47569  2023-03-03T17:35:35.997000  \n",
       "47567  2023-03-03T17:35:35.997000  \n",
       "2518   2023-03-03T17:39:50.555000  \n",
       "2388   2023-03-03T17:39:50.555000  \n",
       "...                           ...  \n",
       "41150  2023-03-03T17:36:58.803000  \n",
       "9077   2023-03-03T17:39:32.426000  \n",
       "9106   2023-03-03T17:39:32.426000  \n",
       "4357   2023-03-03T17:39:32.426000  \n",
       "4365   2023-03-03T17:39:32.426000  \n",
       "\n",
       "[1068 rows x 6 columns]"
      ]
     },
     "execution_count": 9,
     "metadata": {},
     "output_type": "execute_result"
    }
   ],
   "source": [
    "data.loc[ecart,['id_pdc_itinerance', 'id_station_itinerance', 'nom_station', 'coordonneesXY', 'nbre_pdc', 'last_modified']]"
   ]
  },
  {
   "cell_type": "markdown",
   "metadata": {},
   "source": [
    "- l'élimination des doublons (en conservant la date de modification la plus résente) permet d'avoir une ligne par point de charge."
   ]
  },
  {
   "cell_type": "code",
   "execution_count": 10,
   "metadata": {
    "scrolled": true
   },
   "outputs": [
    {
     "name": "stdout",
     "output_type": "stream",
     "text": [
      "data2 :  42457\n"
     ]
    }
   ],
   "source": [
    "data2 = data.sort_values(by='last_modified').drop_duplicates('id_pdc_itinerance', keep='last').reset_index(drop=True)\n",
    "print('data2 : ', len(data2))"
   ]
  },
  {
   "cell_type": "code",
   "execution_count": 11,
   "metadata": {},
   "outputs": [
    {
     "name": "stdout",
     "output_type": "stream",
     "text": [
      "idxs (len, lenlidx, sumcodec) :  42457 50 193355\n"
     ]
    }
   ],
   "source": [
    "idxs = Ilist.obj(data2)\n",
    "print('idxs (len, lenlidx, sumcodec) : ', len(idxs), len(idxs.idxlen), sum(idxs.idxlen))"
   ]
  },
  {
   "cell_type": "code",
   "execution_count": 12,
   "metadata": {
    "scrolled": false
   },
   "outputs": [
    {
     "name": "stdout",
     "output_type": "stream",
     "text": [
      "Couplage entre le champ 'id_pdc_itinerance' et la liste des lignes :  True\n"
     ]
    }
   ],
   "source": [
    "champ = idxs.nindex\n",
    "root = Iindex.ext(list(range(len(idxs))))\n",
    "print(\"Couplage entre le champ 'id_pdc_itinerance' et la liste des lignes : \", champ('id_pdc_itinerance').iscoupled(root))"
   ]
  },
  {
   "cell_type": "markdown",
   "metadata": {},
   "source": [
    "## Représentation des stations"
   ]
  },
  {
   "cell_type": "markdown",
   "metadata": {},
   "source": [
    "- deux champs sont candidats pour identifier les stations : 'id_station_itinerance', 'nom_station'\n",
    "- Le champ le plus approprié est 'id_station_itinerance' (plus grand nombre de valeurs différentes)\n",
    "- une autre solution pourrait être de considérer qu'une station est identifiée par le couple 'id_station_itinerance', 'nom_station' mais ceci conduit à doublonner une station pour laquelle une erreur de nom a été commise (cf exemple ci-dessous).\n",
    "- les exemples ci-dessous montrent les incohérences de nom de station (288 lignes concernées)"
   ]
  },
  {
   "cell_type": "code",
   "execution_count": 13,
   "metadata": {},
   "outputs": [
    {
     "name": "stdout",
     "output_type": "stream",
     "text": [
      "le nom dérive de la station :  False \n",
      "\n",
      "nombre de lignes en écart :  288\n",
      "les 5 stations avec le plus de noms : \n",
      " [('Non concerné', 30), ('FRH14P59307001', 2), ('FRFR1EAYRU', 2), ('FRS56PVCVTUT', 2), ('FRH14P59578001', 2)] \n",
      "\n"
     ]
    }
   ],
   "source": [
    "id_station_itinerance = champ('id_station_itinerance')\n",
    "nom_station = champ('nom_station')\n",
    "print('le nom dérive de la station : ', id_station_itinerance.isderived(nom_station), '\\n')\n",
    "\n",
    "ecart_nom = id_station_itinerance.coupling(nom_station)\n",
    "c_nom = Counter(id_station_itinerance.codec).most_common(5)\n",
    "id_station_itinerance.reindex()\n",
    "\n",
    "print('nombre de lignes en écart : ',len(ecart_nom))\n",
    "print('les 5 stations avec le plus de noms : \\n', c_nom, '\\n')"
   ]
  },
  {
   "cell_type": "code",
   "execution_count": 14,
   "metadata": {
    "scrolled": false
   },
   "outputs": [
    {
     "name": "stdout",
     "output_type": "stream",
     "text": [
      "stations avec plusieurs noms : \n",
      "\n"
     ]
    },
    {
     "data": {
      "text/html": [
       "<div>\n",
       "<style scoped>\n",
       "    .dataframe tbody tr th:only-of-type {\n",
       "        vertical-align: middle;\n",
       "    }\n",
       "\n",
       "    .dataframe tbody tr th {\n",
       "        vertical-align: top;\n",
       "    }\n",
       "\n",
       "    .dataframe thead th {\n",
       "        text-align: right;\n",
       "    }\n",
       "</style>\n",
       "<table border=\"1\" class=\"dataframe\">\n",
       "  <thead>\n",
       "    <tr style=\"text-align: right;\">\n",
       "      <th></th>\n",
       "      <th>id_pdc_itinerance</th>\n",
       "      <th>id_station_itinerance</th>\n",
       "      <th>nom_station</th>\n",
       "      <th>coordonneesXY</th>\n",
       "    </tr>\n",
       "  </thead>\n",
       "  <tbody>\n",
       "    <tr>\n",
       "      <th>21833</th>\n",
       "      <td>FRH14P59307001</td>\n",
       "      <td>FRH14P59307001</td>\n",
       "      <td>Holque - Route de l'église</td>\n",
       "      <td>[2.2037, 50.85458]</td>\n",
       "    </tr>\n",
       "    <tr>\n",
       "      <th>37701</th>\n",
       "      <td>FRH14E593070011</td>\n",
       "      <td>FRH14P59307001</td>\n",
       "      <td>HOLQUE - Route de l'église</td>\n",
       "      <td>[2.2037, 50.85458]</td>\n",
       "    </tr>\n",
       "    <tr>\n",
       "      <th>33280</th>\n",
       "      <td>FRFR1EAYRU2</td>\n",
       "      <td>FRFR1EAYRU</td>\n",
       "      <td>Loos, Parking de la Gare</td>\n",
       "      <td>[3.02,50.61]</td>\n",
       "    </tr>\n",
       "    <tr>\n",
       "      <th>33281</th>\n",
       "      <td>FRFR1EAYRU1</td>\n",
       "      <td>FRFR1EAYRU</td>\n",
       "      <td>Loos, Parking de la Gare</td>\n",
       "      <td>[3.02,50.61]</td>\n",
       "    </tr>\n",
       "    <tr>\n",
       "      <th>33282</th>\n",
       "      <td>FRFR1EAYRU3</td>\n",
       "      <td>FRFR1EAYRU</td>\n",
       "      <td>Loos, Parking de la Gare</td>\n",
       "      <td>[3.02,50.61]</td>\n",
       "    </tr>\n",
       "    <tr>\n",
       "      <th>...</th>\n",
       "      <td>...</td>\n",
       "      <td>...</td>\n",
       "      <td>...</td>\n",
       "      <td>...</td>\n",
       "    </tr>\n",
       "    <tr>\n",
       "      <th>19831</th>\n",
       "      <td>FRLE2ESTTM2</td>\n",
       "      <td>FRLE2PZYW3BNYUDP</td>\n",
       "      <td>Leclerc Mios</td>\n",
       "      <td>[-0.918739, 44.618314]</td>\n",
       "    </tr>\n",
       "    <tr>\n",
       "      <th>19832</th>\n",
       "      <td>FRLE2ESTTM1</td>\n",
       "      <td>FRLE2PZYW3BNYUDP</td>\n",
       "      <td>Leclerc Mios</td>\n",
       "      <td>[-0.918739, 44.618314]</td>\n",
       "    </tr>\n",
       "    <tr>\n",
       "      <th>21830</th>\n",
       "      <td>FRH14P59338001</td>\n",
       "      <td>FRH14P59338001</td>\n",
       "      <td>Ledringhem - Parking du souvenir</td>\n",
       "      <td>[2.439028, 50.854477]</td>\n",
       "    </tr>\n",
       "    <tr>\n",
       "      <th>34365</th>\n",
       "      <td>FRH14E593380012</td>\n",
       "      <td>FRH14P59338001</td>\n",
       "      <td>LEDRINGHEM - Route D'Arneke</td>\n",
       "      <td>[2.439028, 50.854477]</td>\n",
       "    </tr>\n",
       "    <tr>\n",
       "      <th>34366</th>\n",
       "      <td>FRH14E593380011</td>\n",
       "      <td>FRH14P59338001</td>\n",
       "      <td>LEDRINGHEM - Route D'Arneke</td>\n",
       "      <td>[2.439028, 50.854477]</td>\n",
       "    </tr>\n",
       "  </tbody>\n",
       "</table>\n",
       "<p>288 rows × 4 columns</p>\n",
       "</div>"
      ],
      "text/plain": [
       "      id_pdc_itinerance id_station_itinerance  \\\n",
       "21833    FRH14P59307001        FRH14P59307001   \n",
       "37701   FRH14E593070011        FRH14P59307001   \n",
       "33280       FRFR1EAYRU2            FRFR1EAYRU   \n",
       "33281       FRFR1EAYRU1            FRFR1EAYRU   \n",
       "33282       FRFR1EAYRU3            FRFR1EAYRU   \n",
       "...                 ...                   ...   \n",
       "19831       FRLE2ESTTM2      FRLE2PZYW3BNYUDP   \n",
       "19832       FRLE2ESTTM1      FRLE2PZYW3BNYUDP   \n",
       "21830    FRH14P59338001        FRH14P59338001   \n",
       "34365   FRH14E593380012        FRH14P59338001   \n",
       "34366   FRH14E593380011        FRH14P59338001   \n",
       "\n",
       "                             nom_station           coordonneesXY  \n",
       "21833         Holque - Route de l'église      [2.2037, 50.85458]  \n",
       "37701         HOLQUE - Route de l'église      [2.2037, 50.85458]  \n",
       "33280           Loos, Parking de la Gare            [3.02,50.61]  \n",
       "33281           Loos, Parking de la Gare            [3.02,50.61]  \n",
       "33282           Loos, Parking de la Gare            [3.02,50.61]  \n",
       "...                                  ...                     ...  \n",
       "19831                       Leclerc Mios  [-0.918739, 44.618314]  \n",
       "19832                       Leclerc Mios  [-0.918739, 44.618314]  \n",
       "21830  Ledringhem - Parking du souvenir    [2.439028, 50.854477]  \n",
       "34365        LEDRINGHEM - Route D'Arneke   [2.439028, 50.854477]  \n",
       "34366        LEDRINGHEM - Route D'Arneke   [2.439028, 50.854477]  \n",
       "\n",
       "[288 rows x 4 columns]"
      ]
     },
     "execution_count": 14,
     "metadata": {},
     "output_type": "execute_result"
    }
   ],
   "source": [
    "print('stations avec plusieurs noms : \\n')\n",
    "data2.loc[ecart_nom,['id_pdc_itinerance', 'id_station_itinerance', 'nom_station', 'coordonneesXY']]"
   ]
  },
  {
   "cell_type": "markdown",
   "metadata": {},
   "source": [
    "## localisation des stations\n",
    "Les stations sont localisées au travers d'une coordonnée géographique et une adresse complète cette localisation. De même que pour la dénomination des stations, deux questions peuvent être posées :\n",
    "- peut-on avoir plusieurs stations avec la même coordonnée ?\n",
    "- peut-on avoir plusieurs coordonnées pour une même station ?\n",
    "\n",
    "L'analyse ci-dessous montre que des erreurs d'identification de stations conduisent à répondre oui à ces deux questions."
   ]
  },
  {
   "cell_type": "code",
   "execution_count": 15,
   "metadata": {},
   "outputs": [
    {
     "name": "stdout",
     "output_type": "stream",
     "text": [
      "nombre de lignes en écart :  705\n",
      "les 5 stations avec le plus de positions différentes : \n",
      " [('Non concerné', 28), ('FR073PCAMAIEUFR', 8), ('FRFR1PEHNKRRPQNR', 5), ('FRFR1PUXIVU5GSXH', 5), ('FRFR1PD0AIJIWGHD', 4)] \n",
      "\n"
     ]
    }
   ],
   "source": [
    "champ = idxs.nindex\n",
    "coordonneesXY = champ('coordonneesXY')\n",
    "\n",
    "ecart_XY = id_station_itinerance.coupling(coordonneesXY)\n",
    "c_XY = Counter(id_station_itinerance.codec).most_common(5)\n",
    "id_station_itinerance.reindex()\n",
    "\n",
    "print('nombre de lignes en écart : ',len(ecart_XY))\n",
    "\n",
    "print('les 5 stations avec le plus de positions différentes : \\n', c_XY, '\\n')"
   ]
  },
  {
   "cell_type": "code",
   "execution_count": 16,
   "metadata": {
    "scrolled": false
   },
   "outputs": [
    {
     "name": "stdout",
     "output_type": "stream",
     "text": [
      "stations avec plusieurs coordonnées : \n",
      "\n"
     ]
    },
    {
     "data": {
      "text/html": [
       "<div>\n",
       "<style scoped>\n",
       "    .dataframe tbody tr th:only-of-type {\n",
       "        vertical-align: middle;\n",
       "    }\n",
       "\n",
       "    .dataframe tbody tr th {\n",
       "        vertical-align: top;\n",
       "    }\n",
       "\n",
       "    .dataframe thead th {\n",
       "        text-align: right;\n",
       "    }\n",
       "</style>\n",
       "<table border=\"1\" class=\"dataframe\">\n",
       "  <thead>\n",
       "    <tr style=\"text-align: right;\">\n",
       "      <th></th>\n",
       "      <th>id_station_itinerance</th>\n",
       "      <th>nom_station</th>\n",
       "      <th>coordonneesXY</th>\n",
       "    </tr>\n",
       "  </thead>\n",
       "  <tbody>\n",
       "    <tr>\n",
       "      <th>29843</th>\n",
       "      <td>FRFR1PDZVOZRKVZZ</td>\n",
       "      <td>Castelnaudary, Avenue des pyrénées - 3661</td>\n",
       "      <td>[1.95471108, 43.30053645]</td>\n",
       "    </tr>\n",
       "    <tr>\n",
       "      <th>29856</th>\n",
       "      <td>FRFR1PDZVOZRKVZZ</td>\n",
       "      <td>Castelnaudary, Avenue des pyrénées - 3661</td>\n",
       "      <td>[1.95471108, 43.30053645]</td>\n",
       "    </tr>\n",
       "    <tr>\n",
       "      <th>29901</th>\n",
       "      <td>FRFR1PDZVOZRKVZZ</td>\n",
       "      <td>Castelnaudary, Avenue des pyrénées - 3661</td>\n",
       "      <td>[3.513644, 43.651538]</td>\n",
       "    </tr>\n",
       "    <tr>\n",
       "      <th>29907</th>\n",
       "      <td>FRFR1PDZVOZRKVZZ</td>\n",
       "      <td>Castelnaudary, Avenue des pyrénées - 3661</td>\n",
       "      <td>[3.03493, 43.325232]</td>\n",
       "    </tr>\n",
       "    <tr>\n",
       "      <th>41109</th>\n",
       "      <td>Non concerné</td>\n",
       "      <td>LIDL ST PIERRE SUR DIVES</td>\n",
       "      <td>[-0.0373753,49.020012]</td>\n",
       "    </tr>\n",
       "    <tr>\n",
       "      <th>...</th>\n",
       "      <td>...</td>\n",
       "      <td>...</td>\n",
       "      <td>...</td>\n",
       "    </tr>\n",
       "    <tr>\n",
       "      <th>32704</th>\n",
       "      <td>FRFR1PRPDMF5LYE0</td>\n",
       "      <td>Villefranche-sur-Saône, 733 Av. Théodore Braun</td>\n",
       "      <td>[4.7394, 45.97827]</td>\n",
       "    </tr>\n",
       "    <tr>\n",
       "      <th>32701</th>\n",
       "      <td>FRFR1PRPDMF5LYE0</td>\n",
       "      <td>Villefranche-sur-Saône, 733 Av. Théodore Braun</td>\n",
       "      <td>[4.738635, 45.978188]</td>\n",
       "    </tr>\n",
       "    <tr>\n",
       "      <th>32702</th>\n",
       "      <td>FRFR1PRPDMF5LYE0</td>\n",
       "      <td>Villefranche-sur-Saône, 733 Av. Théodore Braun</td>\n",
       "      <td>[4.738635, 45.978188]</td>\n",
       "    </tr>\n",
       "    <tr>\n",
       "      <th>12046</th>\n",
       "      <td>FREBNPIWGHRPVBV0</td>\n",
       "      <td>Roche-La-Moliere, Parking stade Beaulieu</td>\n",
       "      <td>[4.31678503, 45.42282428]</td>\n",
       "    </tr>\n",
       "    <tr>\n",
       "      <th>12100</th>\n",
       "      <td>FREBNPIWGHRPVBV0</td>\n",
       "      <td>Roche-La-Moliere, Parking stade Beaulieu</td>\n",
       "      <td>[4.316785035, 45.42282428]</td>\n",
       "    </tr>\n",
       "  </tbody>\n",
       "</table>\n",
       "<p>705 rows × 3 columns</p>\n",
       "</div>"
      ],
      "text/plain": [
       "      id_station_itinerance                                     nom_station  \\\n",
       "29843      FRFR1PDZVOZRKVZZ       Castelnaudary, Avenue des pyrénées - 3661   \n",
       "29856      FRFR1PDZVOZRKVZZ       Castelnaudary, Avenue des pyrénées - 3661   \n",
       "29901      FRFR1PDZVOZRKVZZ       Castelnaudary, Avenue des pyrénées - 3661   \n",
       "29907      FRFR1PDZVOZRKVZZ       Castelnaudary, Avenue des pyrénées - 3661   \n",
       "41109          Non concerné                        LIDL ST PIERRE SUR DIVES   \n",
       "...                     ...                                             ...   \n",
       "32704      FRFR1PRPDMF5LYE0  Villefranche-sur-Saône, 733 Av. Théodore Braun   \n",
       "32701      FRFR1PRPDMF5LYE0  Villefranche-sur-Saône, 733 Av. Théodore Braun   \n",
       "32702      FRFR1PRPDMF5LYE0  Villefranche-sur-Saône, 733 Av. Théodore Braun   \n",
       "12046      FREBNPIWGHRPVBV0        Roche-La-Moliere, Parking stade Beaulieu   \n",
       "12100      FREBNPIWGHRPVBV0        Roche-La-Moliere, Parking stade Beaulieu   \n",
       "\n",
       "                    coordonneesXY  \n",
       "29843   [1.95471108, 43.30053645]  \n",
       "29856   [1.95471108, 43.30053645]  \n",
       "29901       [3.513644, 43.651538]  \n",
       "29907        [3.03493, 43.325232]  \n",
       "41109      [-0.0373753,49.020012]  \n",
       "...                           ...  \n",
       "32704          [4.7394, 45.97827]  \n",
       "32701       [4.738635, 45.978188]  \n",
       "32702       [4.738635, 45.978188]  \n",
       "12046   [4.31678503, 45.42282428]  \n",
       "12100  [4.316785035, 45.42282428]  \n",
       "\n",
       "[705 rows x 3 columns]"
      ]
     },
     "execution_count": 16,
     "metadata": {},
     "output_type": "execute_result"
    }
   ],
   "source": [
    "print('stations avec plusieurs coordonnées : \\n')\n",
    "data2.loc[ecart_XY,['id_station_itinerance', 'nom_station', 'coordonneesXY']]"
   ]
  },
  {
   "cell_type": "code",
   "execution_count": 17,
   "metadata": {
    "scrolled": true
   },
   "outputs": [
    {
     "name": "stdout",
     "output_type": "stream",
     "text": [
      "lignes en écart :  7764\n",
      "les 5 positions avec le plus grand nombre de stations associées : \n",
      " [('[2.322582, 48.837734]', 60), ('[2.298571, 48.896523]', 40), ('[2.477817, 48.882166]', 22), ('[2.523685, 48.9908]', 20), ('[2.21,48.78]', 20)] \n",
      "\n"
     ]
    }
   ],
   "source": [
    "ecart_stat = coordonneesXY.coupling(id_station_itinerance)\n",
    "c_stat = Counter(coordonneesXY.codec).most_common(5)\n",
    "coordonneesXY.reindex()\n",
    "\n",
    "print('lignes en écart : ',len(ecart_stat))\n",
    "\n",
    "print('les 5 positions avec le plus grand nombre de stations associées : \\n', c_stat, '\\n')"
   ]
  },
  {
   "cell_type": "code",
   "execution_count": 18,
   "metadata": {},
   "outputs": [
    {
     "name": "stdout",
     "output_type": "stream",
     "text": [
      "positions avec plusieurs stations associées : \n",
      "\n"
     ]
    },
    {
     "data": {
      "text/html": [
       "<div>\n",
       "<style scoped>\n",
       "    .dataframe tbody tr th:only-of-type {\n",
       "        vertical-align: middle;\n",
       "    }\n",
       "\n",
       "    .dataframe tbody tr th {\n",
       "        vertical-align: top;\n",
       "    }\n",
       "\n",
       "    .dataframe thead th {\n",
       "        text-align: right;\n",
       "    }\n",
       "</style>\n",
       "<table border=\"1\" class=\"dataframe\">\n",
       "  <thead>\n",
       "    <tr style=\"text-align: right;\">\n",
       "      <th></th>\n",
       "      <th>coordonneesXY</th>\n",
       "      <th>id_station_itinerance</th>\n",
       "      <th>nom_station</th>\n",
       "    </tr>\n",
       "  </thead>\n",
       "  <tbody>\n",
       "    <tr>\n",
       "      <th>19956</th>\n",
       "      <td>[7.021575, 43.575086]</td>\n",
       "      <td>FRA16PWIIZ10611</td>\n",
       "      <td>LE CANNET PARKING VAL DAZUR</td>\n",
       "    </tr>\n",
       "    <tr>\n",
       "      <th>19955</th>\n",
       "      <td>[7.021575, 43.575086]</td>\n",
       "      <td>FRA16PWIIZ10621</td>\n",
       "      <td>LE CANNET PARKING VAL DAZUR</td>\n",
       "    </tr>\n",
       "    <tr>\n",
       "      <th>3768</th>\n",
       "      <td>[-1.913791, 48.675262]</td>\n",
       "      <td>FRS35PSD357812</td>\n",
       "      <td>SAINT COULOMB - PLACE DU MARCHE</td>\n",
       "    </tr>\n",
       "    <tr>\n",
       "      <th>3736</th>\n",
       "      <td>[-1.913791, 48.675262]</td>\n",
       "      <td>FRS35PSD357811</td>\n",
       "      <td>SAINT COULOMB - PLACE DU MARCHE</td>\n",
       "    </tr>\n",
       "    <tr>\n",
       "      <th>40074</th>\n",
       "      <td>[0.319564, 49.320563]</td>\n",
       "      <td>FRLMSP1000118147</td>\n",
       "      <td>SANEF BEUZEVILLE SUD</td>\n",
       "    </tr>\n",
       "    <tr>\n",
       "      <th>...</th>\n",
       "      <td>...</td>\n",
       "      <td>...</td>\n",
       "      <td>...</td>\n",
       "    </tr>\n",
       "    <tr>\n",
       "      <th>10549</th>\n",
       "      <td>[2.399729, 48.814589]</td>\n",
       "      <td>FRSIGPSIGE26912</td>\n",
       "      <td>SIGEIF - 23  BOULEVARD DE BRANDEBOURG - IVRY-S...</td>\n",
       "    </tr>\n",
       "    <tr>\n",
       "      <th>20128</th>\n",
       "      <td>[7.015534, 43.609589]</td>\n",
       "      <td>FRA16PWIIZ4711</td>\n",
       "      <td>MOUGINS PARKING SALLE OMNISPORTS DU FONT DE LORME</td>\n",
       "    </tr>\n",
       "    <tr>\n",
       "      <th>20129</th>\n",
       "      <td>[7.015534, 43.609589]</td>\n",
       "      <td>FRA16PWIIZ4712</td>\n",
       "      <td>MOUGINS PARKING SALLE OMNISPORTS DU FONT DE LORME</td>\n",
       "    </tr>\n",
       "    <tr>\n",
       "      <th>4782</th>\n",
       "      <td>[0.090439, 44.313465]</td>\n",
       "      <td>FRS47PMB478712</td>\n",
       "      <td>CASTELJALOUX - PLACE DE LEGLISE</td>\n",
       "    </tr>\n",
       "    <tr>\n",
       "      <th>4781</th>\n",
       "      <td>[0.090439, 44.313465]</td>\n",
       "      <td>FRS47PMB478711</td>\n",
       "      <td>CASTELJALOUX - PLACE DE LEGLISE</td>\n",
       "    </tr>\n",
       "  </tbody>\n",
       "</table>\n",
       "<p>7764 rows × 3 columns</p>\n",
       "</div>"
      ],
      "text/plain": [
       "                coordonneesXY id_station_itinerance  \\\n",
       "19956   [7.021575, 43.575086]       FRA16PWIIZ10611   \n",
       "19955   [7.021575, 43.575086]       FRA16PWIIZ10621   \n",
       "3768   [-1.913791, 48.675262]        FRS35PSD357812   \n",
       "3736   [-1.913791, 48.675262]        FRS35PSD357811   \n",
       "40074   [0.319564, 49.320563]      FRLMSP1000118147   \n",
       "...                       ...                   ...   \n",
       "10549   [2.399729, 48.814589]       FRSIGPSIGE26912   \n",
       "20128   [7.015534, 43.609589]        FRA16PWIIZ4711   \n",
       "20129   [7.015534, 43.609589]        FRA16PWIIZ4712   \n",
       "4782    [0.090439, 44.313465]        FRS47PMB478712   \n",
       "4781    [0.090439, 44.313465]        FRS47PMB478711   \n",
       "\n",
       "                                             nom_station  \n",
       "19956                        LE CANNET PARKING VAL DAZUR  \n",
       "19955                        LE CANNET PARKING VAL DAZUR  \n",
       "3768                     SAINT COULOMB - PLACE DU MARCHE  \n",
       "3736                     SAINT COULOMB - PLACE DU MARCHE  \n",
       "40074                               SANEF BEUZEVILLE SUD  \n",
       "...                                                  ...  \n",
       "10549  SIGEIF - 23  BOULEVARD DE BRANDEBOURG - IVRY-S...  \n",
       "20128  MOUGINS PARKING SALLE OMNISPORTS DU FONT DE LORME  \n",
       "20129  MOUGINS PARKING SALLE OMNISPORTS DU FONT DE LORME  \n",
       "4782                     CASTELJALOUX - PLACE DE LEGLISE  \n",
       "4781                     CASTELJALOUX - PLACE DE LEGLISE  \n",
       "\n",
       "[7764 rows x 3 columns]"
      ]
     },
     "execution_count": 18,
     "metadata": {},
     "output_type": "execute_result"
    }
   ],
   "source": [
    "print('positions avec plusieurs stations associées : \\n')\n",
    "data2.loc[ecart_stat,['coordonneesXY', 'id_station_itinerance', 'nom_station']]"
   ]
  },
  {
   "cell_type": "markdown",
   "metadata": {},
   "source": [
    "-----------------------\n",
    "# Annexe : Initialisation du modèle 'mermaid'"
   ]
  },
  {
   "cell_type": "code",
   "execution_count": 1,
   "metadata": {},
   "outputs": [],
   "source": [
    "import base64\n",
    "from IPython.display import Image, display\n",
    "import matplotlib.pyplot as plt\n",
    "\n",
    "def mermaid(graph):\n",
    "  graphbytes = graph.encode(\"ascii\")\n",
    "  base64_bytes = base64.b64encode(graphbytes)\n",
    "  base64_string = base64_bytes.decode(\"ascii\")\n",
    "  display(Image(url=\"https://mermaid.ink/img/\" + base64_string))"
   ]
  },
  {
   "cell_type": "code",
   "execution_count": 2,
   "metadata": {},
   "outputs": [],
   "source": [
    "# modèle de données suivant l'application 'mermaid' \n",
    "irve = \"\"\" \n",
    "erDiagram\n",
    "    AMENAGEUR ||..o{ STATION : amenage\n",
    "    AMENAGEUR {\n",
    "        string nom_amenageur\n",
    "        string siren_amenageur\n",
    "        string contact_amenageur \n",
    "    }\n",
    "    OPERATEUR ||..|{ STATION : \"exploite pour le compte d un amenageur\"\n",
    "    OPERATEUR {\n",
    "        string contact_operateur PK \"M\"\n",
    "        string nom_enseigne \"M\" \n",
    "        string nom_operateur \n",
    "        string telephone_operateur \n",
    "    }\n",
    "    STATION {\n",
    "        string  id_station_itinerance PK \"M\"\n",
    "        string  nom_station \"M\"\n",
    "        enum    implantation_station \"M\"\n",
    "        integer nbre_pdc \"M\"\n",
    "        string  condition_acces \"M\"\n",
    "        string  horaires \"M\"\n",
    "        boolean station_deux_roues \"M\"\n",
    "        date    date_maj \"M\"\n",
    "        string  id_station_local\n",
    "        enum    raccordement\n",
    "        string  num_pdl\n",
    "        date    date_mise_en_service \n",
    "    }\n",
    "    LOCALISATION ||--o{ STATION : \"se situe\"\n",
    "    LOCALISATION {\n",
    "       array   coordonneesXY PK \"M\"\n",
    "       string  adresse_station \"M\"\n",
    "       string  code_insee_commune \n",
    "    }\n",
    "    STATION ||--o{ POINT_DE_CHARGE : regroupe\n",
    "    POINT_DE_CHARGE {\n",
    "        string id_pdc_itinerance PK \"M Root\"\n",
    "        number puissance_nominale \"M\"\n",
    "        boolean prise_type_ef \"M\"\n",
    "        boolean prise_type_2 \"M\"\n",
    "        boolean prise_type_2combo_ccs \"M\"\n",
    "        boolean prise_type_chademo \"M\"\n",
    "        boolean prise_type_autre \"M\"\n",
    "        boolean paiement_acte \"M\"\n",
    "        boolean paiement_autre \"M\"\n",
    "        boolean reservation \"M\"\n",
    "        enum    accessibilite_pmr \"M\"\n",
    "        string  restriction_gabarit \"M\"\n",
    "        string id_pdc_local\n",
    "        boolean gratuit\n",
    "        boolean paiement_cb\n",
    "        string  tarification\n",
    "        string  observations\n",
    "        boolean cable_t2_attache \n",
    "    }\n",
    "\"\"\""
   ]
  }
 ],
 "metadata": {
  "celltoolbar": "Format de la Cellule Texte Brut",
  "kernelspec": {
   "display_name": "Python 3 (ipykernel)",
   "language": "python",
   "name": "python3"
  },
  "language_info": {
   "codemirror_mode": {
    "name": "ipython",
    "version": 3
   },
   "file_extension": ".py",
   "mimetype": "text/x-python",
   "name": "python",
   "nbconvert_exporter": "python",
   "pygments_lexer": "ipython3",
   "version": "3.9.12"
  }
 },
 "nbformat": 4,
 "nbformat_minor": 4
}
