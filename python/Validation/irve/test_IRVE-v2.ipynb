{
 "cells": [
  {
   "cell_type": "markdown",
   "metadata": {},
   "source": [
    "# Objet : Analyse des relations entre champs des données IRVE\n",
    "\n",
    "## Contexte\n",
    "- clarification du rôle des modèles de données dans les jeux de données (cf mise à jour récente des [guides data.gouv](https://guides.etalab.gouv.fr/qualite/documenter-les-donnees/))\n",
    "- intégration d'une propriété \"relationship\" dans les schémas de données ([issue TableSchema](https://github.com/frictionlessdata/specs/issues/803) en cours de validation)\n",
    "- création d'outils de contrôle des relations entre champs des jeux de données tabulaires (cf usage ci-dessous)\n",
    "\n",
    "## Objectifs\n",
    "- valider sur un cas réel l'utilisation d'un modèle de données en complément d'un schéma de données\n",
    "- identifier les apports que pourraient avoir les contrôles de validation des relations entre champs\n",
    "\n",
    "## Résultats\n",
    "- la formalisation d'un modèle de données facilite la compréhension des données et des relations entre champs\n",
    "- l'outil de contrôle permet d'améliorer significativement la qualité des données par la détection d'incohérences de relations\n",
    "- l'analyse a posteriori permet de (re)trouver la logique de dépendance entre les colonnes qui minimise les incohérences\n",
    "- les incohérences détectées sur le jeu de données IRVE restent faibles (inférieures à 2% des point de charge documentés - voir chapitre 4)\n",
    "\n",
    "## Suite à donner\n",
    "- Mettre à jour, valider et publier le modèle de données IRVE\n",
    "- Définir les contrôles supplémentaires à intégrer pour toutes nouvelles données ainsi que pour le jeu complet\n",
    "- Mettre en oeuvre les outils de contrôle\n",
    "\n",
    "## Evolutions possibles \n",
    "- Ajouter dans les guides d'Etalab un guide pour les modèles de données \n",
    "- Intégrer dans les schémas de données la propriété \"relationship\" en cours de validation,\n",
    "- Définir un indicateur qui mesure l'écart (existant / attendu) des relations entre champs\n",
    "\n",
    "## Sommaire\n",
    "*(active link on jupyter Notebook or Nbviewer)*\n",
    "- [1 - modèle de données](#1---modèle-de-données)\n",
    "- [2 - Initialisation](#2---Initialisation)\n",
    "- [3 - Analyse des relations entre champs](#3---Analyse-des-relations-entre-champs)\n",
    "- [4 - Contrôle des relations](#4---Contrôle-des-relations)\n",
    "- [5 - Contrôle du schéma de données](#5---Contrôle-du-schéma-de-données)\n",
    "- [6 - Exemples d'analyse de relations](#6---Exemples-d'analyse-de-relations)\n",
    "- [Annexe : Initialisation du modèle de données 'mermaid'](#Annexe-:-Initialisation-du-modèle-de-données-'mermaid')\n",
    "\n",
    "Ce Notebook peut être consulté sur [nbviewer](http://nbviewer.org/github/loco-philippe/Environmental-Sensing/tree/main/python/Validation/irve)\n",
    "\n",
    "données utilisées : https://www.data.gouv.fr/fr/datasets/fichier-consolide-des-bornes-de-recharge-pour-vehicules-electriques/    \n",
    "fichier : \"*consolidation-etalab-schema-irve-statique-v-2.2.0-20230303.csv*\"\n",
    "_________________"
   ]
  },
  {
   "cell_type": "markdown",
   "metadata": {},
   "source": [
    "# 1 - modèle de données\n",
    "\n",
    "Le modèle de données proposé ci-dessous est construit sur la base du schéma de données mis à disposition et du contenu du jeu de données.    \n",
    "Il est à consolider en fonction de l'expertise des concepteurs et réutilisateurs (voir [guide méthodologique](https://github.com/loco-philippe/Environmental-Sensing/blob/main/property_relationship/FR_methodology.ipynb))."
   ]
  },
  {
   "cell_type": "markdown",
   "metadata": {},
   "source": [
    "*Notation:*\n",
    "- *M : Mandatory - documentation obligatoire*\n",
    "- *PK : Primary Key - identifiant unique de l'entité*\n",
    "- *Root : champ associé à une ligne du tableau*"
   ]
  },
  {
   "cell_type": "code",
   "execution_count": 7,
   "metadata": {
    "scrolled": false
   },
   "outputs": [
    {
     "data": {
      "text/html": [
       "<img src=\"https://mermaid.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\"/>"
      ],
      "text/plain": [
       "<IPython.core.display.Image object>"
      ]
     },
     "metadata": {},
     "output_type": "display_data"
    }
   ],
   "source": [
    "# la variable 'irve' est définie en fin de Notebook\n",
    "mermaid(irve)"
   ]
  },
  {
   "cell_type": "markdown",
   "metadata": {},
   "source": [
    "------\n",
    "# 2 - Initialisation\n",
    "## initialisation des données\n",
    "- lecture du fichier issu de l'api"
   ]
  },
  {
   "cell_type": "code",
   "execution_count": 2,
   "metadata": {},
   "outputs": [
    {
     "name": "stdout",
     "output_type": "stream",
     "text": [
      "data :  51276\n"
     ]
    }
   ],
   "source": [
    "from collections import Counter\n",
    "from observation import Ilist, Iindex, Analysis\n",
    "import pandas as pd\n",
    "\n",
    "chemin = 'https://raw.githubusercontent.com/loco-philippe/Environmental-Sensing/main/python/Validation/irve/'\n",
    "\n",
    "file = chemin + 'consolidation-etalab-schema-irve-statique-v-2.2.0-20230303.csv'\n",
    "data = pd.read_csv(file, sep=',', low_memory=False)\n",
    "print('data : ', len(data)) "
   ]
  },
  {
   "cell_type": "markdown",
   "metadata": {},
   "source": [
    "----\n",
    "## initialisation de l'outil d'analyse\n",
    "L'outil d'analyse ([voir présentation](https://github.com/loco-philippe/Environmental-Sensing/blob/main/documentation/FR_tabular_structure.ipynb)) est chargé à partir des données Pandas :\n",
    "On dénombre 211 370 valeurs différentes sur un total de 51 276 x 50 valeurs (\"taux d'unicité\" de 8.2%)"
   ]
  },
  {
   "cell_type": "code",
   "execution_count": 3,
   "metadata": {},
   "outputs": [
    {
     "name": "stdout",
     "output_type": "stream",
     "text": [
      "nombre de lignes              :  51276\n",
      "nombre de colonnes            :  50\n",
      "nombre de valeurs différentes :  211370\n"
     ]
    }
   ],
   "source": [
    "idxs = Ilist.obj(data)\n",
    "print('nombre de lignes              : ', len(idxs))\n",
    "print('nombre de colonnes            : ', len(idxs.idxlen))\n",
    "print('nombre de valeurs différentes : ', sum(idxs.idxlen))"
   ]
  },
  {
   "cell_type": "markdown",
   "metadata": {},
   "source": [
    "_________________\n",
    "# 3 - Analyse des relations entre champs\n",
    "## Arborescence des champs\n",
    "- l'examen de \"l'arbre de dérivation\" indique un faible niveau d'interdépendance entre champs (seuls quelques-uns ne sont pas liés à la racine). \n",
    "- Par exemple les champs consolidated_longitude(44) et consolidated_latitude(45) sont bien dérivés du champ coordonneesXY(13)\n"
   ]
  },
  {
   "cell_type": "code",
   "execution_count": 6,
   "metadata": {},
   "outputs": [
    {
     "name": "stdout",
     "output_type": "stream",
     "text": [
      "-1: root-derived (51276)\n",
      "   0 : nom_amenageur (2474)\n",
      "   1 : siren_amenageur (1182)\n",
      "   2 : contact_amenageur (548)\n",
      "   3 : nom_operateur (237)\n",
      "   4 : contact_operateur (274)\n",
      "   5 : telephone_operateur (357)\n",
      "   6 : nom_enseigne (1493)\n",
      "   7 : id_station_itinerance (18544)\n",
      "   8 : id_station_local (10731)\n",
      "   9 : nom_station (15463)\n",
      "   10: implantation_station (5)\n",
      "   11: adresse_station (16496)\n",
      "   12: code_insee_commune (5242)\n",
      "   13: coordonneesXY (17241)\n",
      "      44: consolidated_longitude (17069)\n",
      "      45: consolidated_latitude (17018)\n",
      "   14: nbre_pdc (50)\n",
      "   15: id_pdc_itinerance (42457)\n",
      "   16: id_pdc_local (27186)\n",
      "   17: puissance_nominale (87)\n",
      "   18: prise_type_ef (8)\n",
      "   19: prise_type_2 (8)\n",
      "   20: prise_type_combo_ccs (8)\n",
      "   21: prise_type_chademo (7)\n",
      "   22: prise_type_autre (7)\n",
      "   23: gratuit (8)\n",
      "   24: paiement_acte (8)\n",
      "   25: paiement_cb (7)\n",
      "   26: paiement_autre (8)\n",
      "   27: tarification (212)\n",
      "   28: condition_acces (2)\n",
      "   29: reservation (7)\n",
      "   30: horaires (516)\n",
      "   31: accessibilite_pmr (4)\n",
      "   32: restriction_gabarit (148)\n",
      "   33: station_deux_roues (7)\n",
      "   34: raccordement (2)\n",
      "   35: num_pdl (2884)\n",
      "   36: date_mise_en_service (2226)\n",
      "   37: observations (137)\n",
      "   38: date_maj (639)\n",
      "   39: cable_t2_attache (5)\n",
      "   40: last_modified (774)\n",
      "      41: datagouv_dataset_id (636)\n",
      "         43: datagouv_organization_or_owner (201)\n",
      "      42: datagouv_resource_id (774)\n",
      "   46: consolidated_code_postal (3114)\n",
      "   47: consolidated_commune (4855)\n",
      "   48: consolidated_is_lon_lat_correct (2)\n",
      "   49: consolidated_is_code_insee_verified (2)\n"
     ]
    }
   ],
   "source": [
    "print(idxs.tree())\n",
    "# valeur entre parenthèses : nombre de valeurs distinctes"
   ]
  },
  {
   "cell_type": "markdown",
   "metadata": {},
   "source": [
    "# 4 - Contrôle des relations\n",
    "Le contrôle consiste à valider les relations inter entités ainsi que les relations intra entités. Pour le modèle identifié précédemment, les contrôles sont les suivants :\n",
    "- contrôle d'unicité des lignes (une ligne est associée à un point de charge)\n",
    "- contrôle inter entités (pdc-station, station-opérateur, station-localisation, station-enseigne)\n",
    "- contrôle intra entités (station, localisation)"
   ]
  },
  {
   "cell_type": "markdown",
   "metadata": {},
   "source": [
    "## unicité des lignes\n",
    "- vérification de la relation 1-1 entre le champ 'root' (liste des lignes) et le champ 'id_pdc_itinerance' (cf analyse au chapitre 5)\n",
    "- le nombre de lignes en écart est de 16642 (avec historique) et 1068 (hors historique des modifications)"
   ]
  },
  {
   "cell_type": "code",
   "execution_count": 7,
   "metadata": {},
   "outputs": [
    {
     "name": "stdout",
     "output_type": "stream",
     "text": [
      "lignes en écart :  16642\n"
     ]
    }
   ],
   "source": [
    "champ = idxs.nindex\n",
    "root = Iindex.ext(list(range(len(idxs))))\n",
    "\n",
    "ecart_root = champ('id_pdc_itinerance').coupling(root, reindex=True)\n",
    "\n",
    "print('lignes en écart : ',len(ecart_root))"
   ]
  },
  {
   "cell_type": "markdown",
   "metadata": {},
   "source": [
    "## relations inter-entités\n",
    "L'analyse est effectuée sur la base des données hors historique (data2).    \n",
    "Les relation 1-n avec les points de charge n'ont pas besoin d'être controlées (unicité des points de charge).\n",
    "   \n",
    "Nota :\n",
    "- *si on transforme la relation 1-n entre station et localisation en une relation 1-1, les écarts sont beaucoups plus importants (plus de 7 000 lignes), ceci indique qu'à une même localisation on trouve plusieurs stations (ex. identifiants de points de charges utilisés comme identifiants de stations)*"
   ]
  },
  {
   "cell_type": "code",
   "execution_count": 4,
   "metadata": {},
   "outputs": [],
   "source": [
    "data2 = data.sort_values(by='last_modified').drop_duplicates('id_pdc_itinerance', keep='last').reset_index(drop=True)\n",
    "idxs2 = Ilist.obj(data2)\n",
    "champ = idxs2.nindex"
   ]
  },
  {
   "cell_type": "code",
   "execution_count": 9,
   "metadata": {},
   "outputs": [
    {
     "name": "stdout",
     "output_type": "stream",
     "text": [
      "écart relation id_station - contact_operateur :  285  lignes\n",
      "écart relation id_station - coordonneesXY     :  705  lignes\n",
      "écart relation id_station - nom_enseigne      :  547  lignes\n"
     ]
    }
   ],
   "source": [
    "ecart_oper = champ('id_station_itinerance').coupling(champ('contact_operateur'), reindex=True)\n",
    "ecart_XY = champ('id_station_itinerance').coupling(champ('coordonneesXY'), reindex=True)\n",
    "ecart_ens = champ('id_station_itinerance').coupling(champ('nom_enseigne'), reindex=True)\n",
    "\n",
    "print('écart relation id_station - contact_operateur : ', len(ecart_oper), ' lignes')\n",
    "print('écart relation id_station - coordonneesXY     : ', len(ecart_XY), ' lignes')\n",
    "print('écart relation id_station - nom_enseigne      : ', len(ecart_ens), ' lignes')"
   ]
  },
  {
   "cell_type": "markdown",
   "metadata": {},
   "source": [
    "## relations intra entités\n",
    "On ne considère que les champs obligatoires qui doivent avoir une relation 1-n avec le champ 'id_station_itinerance' pour les stations, 'coordonneesXY' pour les localisations."
   ]
  },
  {
   "cell_type": "code",
   "execution_count": 10,
   "metadata": {
    "scrolled": true
   },
   "outputs": [
    {
     "name": "stdout",
     "output_type": "stream",
     "text": [
      "écart relation id_station - nom_station          :  288  lignes\n",
      "écart relation id_station - implantation_station :  217  lignes\n",
      "écart relation id_station - nbre_pdc             :  597  lignes\n",
      "écart relation id_station - condition_acces      :  5    lignes\n",
      "écart relation id_station - horaires             :  263  lignes\n",
      "écart relation id_station - station_deux_roues   :  616  lignes \n",
      "\n",
      "écart relation coordonneesXY - adresse_station   :  604  lignes\n"
     ]
    }
   ],
   "source": [
    "ecart_nom = champ('id_station_itinerance').coupling(champ('nom_station'), reindex=True)\n",
    "ecart_imp = champ('id_station_itinerance').coupling(champ('implantation_station'), reindex=True)\n",
    "ecart_nbr = champ('id_station_itinerance').coupling(champ('nbre_pdc'), reindex=True)\n",
    "ecart_acc = champ('id_station_itinerance').coupling(champ('condition_acces'), reindex=True)\n",
    "ecart_hor = champ('id_station_itinerance').coupling(champ('horaires'), reindex=True)\n",
    "ecart_rou = champ('id_station_itinerance').coupling(champ('station_deux_roues'), reindex=True)\n",
    "\n",
    "ecart_adr = champ('coordonneesXY').coupling(champ('adresse_station'), reindex=True)\n",
    "\n",
    "\n",
    "print('écart relation id_station - nom_station          : ',len(ecart_nom), ' lignes')\n",
    "print('écart relation id_station - implantation_station : ',len(ecart_imp), ' lignes')\n",
    "print('écart relation id_station - nbre_pdc             : ',len(ecart_nbr), ' lignes')\n",
    "print('écart relation id_station - condition_acces      : ',len(ecart_acc), '   lignes')\n",
    "print('écart relation id_station - horaires             : ',len(ecart_hor), ' lignes')\n",
    "print('écart relation id_station - station_deux_roues   : ',len(ecart_rou), ' lignes', '\\n')\n",
    "\n",
    "print('écart relation coordonneesXY - adresse_station   : ',len(ecart_adr), ' lignes')"
   ]
  },
  {
   "cell_type": "markdown",
   "metadata": {},
   "source": [
    "# 5 - Contrôle du schéma de données\n",
    "\n",
    "Les contrôles précédents peuvent être réalisés à partir de la propriété 'relationship' définie dans le schéma de données."
   ]
  },
  {
   "cell_type": "markdown",
   "metadata": {},
   "source": [
    "## schéma de données\n",
    "Le schéma de données restreint à la propriété 'relationship' et construit à partir du modèle de données est le suivants :"
   ]
  },
  {
   "cell_type": "code",
   "execution_count": 5,
   "metadata": {},
   "outputs": [],
   "source": [
    "fields = [\n",
    "\n",
    " # relations inter entités\n",
    " { \"name\": \"contact_operateur\",\n",
    "   \"relationship\" : { \"parent\" : \"id_station_itinerance\", \"link\" : \"derived\" }},\n",
    " { \"name\": \"nom_enseigne\",\n",
    "   \"relationship\" : { \"parent\" : \"id_station_itinerance\", \"link\" : \"derived\" }},\n",
    " { \"name\": \"coordonneesXY\",\n",
    "   \"relationship\" : { \"parent\" : \"id_station_itinerance\", \"link\" : \"derived\" }},\n",
    " { \"name\": \"id_station_itinerance\",\n",
    "   \"relationship\" : { \"parent\" : \"id_pdc_itinerance\",     \"link\" : \"derived\" }},\n",
    "\n",
    " # relations intra entité - station\n",
    " { \"name\": \"nom_station\",\n",
    "   \"relationship\" : { \"parent\" : \"id_station_itinerance\", \"link\" : \"derived\" }},\n",
    " { \"name\": \"implantation_station\",\n",
    "   \"relationship\" : { \"parent\" : \"id_station_itinerance\", \"link\" : \"derived\" }},\n",
    " { \"name\": \"nbre_pdc\",\n",
    "   \"relationship\" : { \"parent\" : \"id_station_itinerance\", \"link\" : \"derived\" }},\n",
    " { \"name\": \"condition_acces\",\n",
    "   \"relationship\" : { \"parent\" : \"id_station_itinerance\", \"link\" : \"derived\" }},\n",
    " { \"name\": \"horaires\",\n",
    "   \"relationship\" : { \"parent\" : \"id_station_itinerance\", \"link\" : \"derived\" }},\n",
    " { \"name\": \"station_deux_roues\",\n",
    "   \"relationship\" : { \"parent\" : \"id_station_itinerance\", \"link\" : \"derived\" }},\n",
    " \n",
    " # relations intra entité - localisation\n",
    " { \"name\": \"adresse_station\",\n",
    "   \"relationship\" : { \"parent\" : \"coordonneesXY\",         \"link\" : \"derived\" }} ]"
   ]
  },
  {
   "cell_type": "markdown",
   "metadata": {},
   "source": [
    "## Analyse et résultats\n",
    "L'analyse fournit la liste des enregistrements incohérents pour chaque propriété.\n",
    "Des champs booléens (valeur False à chaque enregistrement incohérent) pour chaque propriété sont ajoutés au jeu de données."
   ]
  },
  {
   "cell_type": "code",
   "execution_count": 7,
   "metadata": {},
   "outputs": [
    {
     "name": "stdout",
     "output_type": "stream",
     "text": [
      "contact_operateur - id_station_itinerance            285\n",
      "nom_enseigne - id_station_itinerance                 547\n",
      "coordonneesXY - id_station_itinerance                705\n",
      "id_station_itinerance - id_pdc_itinerance              0\n",
      "nom_station - id_station_itinerance                  288\n",
      "implantation_station - id_station_itinerance         217\n",
      "nbre_pdc - id_station_itinerance                     597\n",
      "condition_acces - id_station_itinerance                5\n",
      "horaires - id_station_itinerance                     263\n",
      "station_deux_roues - id_station_itinerance           616\n",
      "adresse_station - coordonneesXY                      604\n",
      "nombre d'enregistrements avec au moins une erreur :  2218\n",
      "nombre d'enregistrements avec  9  erreurs :  14\n"
     ]
    },
    {
     "data": {
      "text/html": [
       "<div>\n",
       "<style scoped>\n",
       "    .dataframe tbody tr th:only-of-type {\n",
       "        vertical-align: middle;\n",
       "    }\n",
       "\n",
       "    .dataframe tbody tr th {\n",
       "        vertical-align: top;\n",
       "    }\n",
       "\n",
       "    .dataframe thead th {\n",
       "        text-align: right;\n",
       "    }\n",
       "</style>\n",
       "<table border=\"1\" class=\"dataframe\">\n",
       "  <thead>\n",
       "    <tr style=\"text-align: right;\">\n",
       "      <th></th>\n",
       "      <th>id_pdc_itinerance</th>\n",
       "      <th>id_station_itinerance</th>\n",
       "      <th>nom_station</th>\n",
       "      <th>coordonneesXY</th>\n",
       "    </tr>\n",
       "  </thead>\n",
       "  <tbody>\n",
       "    <tr>\n",
       "      <th>7923</th>\n",
       "      <td>FRE10E40150</td>\n",
       "      <td>Non concerné</td>\n",
       "      <td>HERVE THERMIQUE JOUE LES TOURS</td>\n",
       "      <td>[0.654826, 47.353958]</td>\n",
       "    </tr>\n",
       "    <tr>\n",
       "      <th>7924</th>\n",
       "      <td>FRE10E40151</td>\n",
       "      <td>Non concerné</td>\n",
       "      <td>HERVE THERMIQUE JOUE LES TOURS</td>\n",
       "      <td>[0.654826, 47.353958]</td>\n",
       "    </tr>\n",
       "    <tr>\n",
       "      <th>7925</th>\n",
       "      <td>FRE10E40149</td>\n",
       "      <td>Non concerné</td>\n",
       "      <td>HERVE THERMIQUE JOUE LES TOURS</td>\n",
       "      <td>[0.654826, 47.353958]</td>\n",
       "    </tr>\n",
       "    <tr>\n",
       "      <th>7926</th>\n",
       "      <td>FRE10E40152</td>\n",
       "      <td>Non concerné</td>\n",
       "      <td>HERVE THERMIQUE JOUE LES TOURS</td>\n",
       "      <td>[0.654826, 47.353958]</td>\n",
       "    </tr>\n",
       "    <tr>\n",
       "      <th>7927</th>\n",
       "      <td>FRE10E40154</td>\n",
       "      <td>Non concerné</td>\n",
       "      <td>HERVE THERMIQUE JOUE LES TOURS</td>\n",
       "      <td>[0.654826, 47.353958]</td>\n",
       "    </tr>\n",
       "    <tr>\n",
       "      <th>7928</th>\n",
       "      <td>FRE10E40155</td>\n",
       "      <td>Non concerné</td>\n",
       "      <td>HERVE THERMIQUE JOUE LES TOURS</td>\n",
       "      <td>[0.654826, 47.353958]</td>\n",
       "    </tr>\n",
       "    <tr>\n",
       "      <th>7929</th>\n",
       "      <td>FRE10E40148</td>\n",
       "      <td>Non concerné</td>\n",
       "      <td>HERVE THERMIQUE JOUE LES TOURS</td>\n",
       "      <td>[0.654826, 47.353958]</td>\n",
       "    </tr>\n",
       "    <tr>\n",
       "      <th>7930</th>\n",
       "      <td>FRE10E40153</td>\n",
       "      <td>Non concerné</td>\n",
       "      <td>HERVE THERMIQUE JOUE LES TOURS</td>\n",
       "      <td>[0.654826, 47.353958]</td>\n",
       "    </tr>\n",
       "    <tr>\n",
       "      <th>41082</th>\n",
       "      <td>FRLDLE00001763</td>\n",
       "      <td>Non concerné</td>\n",
       "      <td>LIDL ST AUBIN SUR SCIE</td>\n",
       "      <td>[0.9605582,49.5355585]</td>\n",
       "    </tr>\n",
       "    <tr>\n",
       "      <th>41083</th>\n",
       "      <td>FRLDLE00001764</td>\n",
       "      <td>Non concerné</td>\n",
       "      <td>LIDL ST AUBIN SUR SCIE</td>\n",
       "      <td>[0.9605582,49.5355585]</td>\n",
       "    </tr>\n",
       "    <tr>\n",
       "      <th>41099</th>\n",
       "      <td>FRLDLE00001743</td>\n",
       "      <td>Non concerné</td>\n",
       "      <td>LIDL YVETOT</td>\n",
       "      <td>[0.9605582,49.5355585]</td>\n",
       "    </tr>\n",
       "    <tr>\n",
       "      <th>41102</th>\n",
       "      <td>FRLDLE00001744</td>\n",
       "      <td>Non concerné</td>\n",
       "      <td>LIDL YVETOT</td>\n",
       "      <td>[0.9605582,49.5355585]</td>\n",
       "    </tr>\n",
       "    <tr>\n",
       "      <th>41107</th>\n",
       "      <td>FRLDLE00001779</td>\n",
       "      <td>Non concerné</td>\n",
       "      <td>LIDL BARENTIN</td>\n",
       "      <td>[0.9605582,49.5355585]</td>\n",
       "    </tr>\n",
       "    <tr>\n",
       "      <th>41112</th>\n",
       "      <td>FRLDLE00001780</td>\n",
       "      <td>Non concerné</td>\n",
       "      <td>LIDL BARENTIN</td>\n",
       "      <td>[0.9605582,49.5355585]</td>\n",
       "    </tr>\n",
       "  </tbody>\n",
       "</table>\n",
       "</div>"
      ],
      "text/plain": [
       "      id_pdc_itinerance id_station_itinerance                     nom_station  \\\n",
       "7923        FRE10E40150          Non concerné  HERVE THERMIQUE JOUE LES TOURS   \n",
       "7924        FRE10E40151          Non concerné  HERVE THERMIQUE JOUE LES TOURS   \n",
       "7925        FRE10E40149          Non concerné  HERVE THERMIQUE JOUE LES TOURS   \n",
       "7926        FRE10E40152          Non concerné  HERVE THERMIQUE JOUE LES TOURS   \n",
       "7927        FRE10E40154          Non concerné  HERVE THERMIQUE JOUE LES TOURS   \n",
       "7928        FRE10E40155          Non concerné  HERVE THERMIQUE JOUE LES TOURS   \n",
       "7929        FRE10E40148          Non concerné  HERVE THERMIQUE JOUE LES TOURS   \n",
       "7930        FRE10E40153          Non concerné  HERVE THERMIQUE JOUE LES TOURS   \n",
       "41082    FRLDLE00001763          Non concerné          LIDL ST AUBIN SUR SCIE   \n",
       "41083    FRLDLE00001764          Non concerné          LIDL ST AUBIN SUR SCIE   \n",
       "41099    FRLDLE00001743          Non concerné                     LIDL YVETOT   \n",
       "41102    FRLDLE00001744          Non concerné                     LIDL YVETOT   \n",
       "41107    FRLDLE00001779          Non concerné                   LIDL BARENTIN   \n",
       "41112    FRLDLE00001780          Non concerné                   LIDL BARENTIN   \n",
       "\n",
       "                coordonneesXY  \n",
       "7923    [0.654826, 47.353958]  \n",
       "7924    [0.654826, 47.353958]  \n",
       "7925    [0.654826, 47.353958]  \n",
       "7926    [0.654826, 47.353958]  \n",
       "7927    [0.654826, 47.353958]  \n",
       "7928    [0.654826, 47.353958]  \n",
       "7929    [0.654826, 47.353958]  \n",
       "7930    [0.654826, 47.353958]  \n",
       "41082  [0.9605582,49.5355585]  \n",
       "41083  [0.9605582,49.5355585]  \n",
       "41099  [0.9605582,49.5355585]  \n",
       "41102  [0.9605582,49.5355585]  \n",
       "41107  [0.9605582,49.5355585]  \n",
       "41112  [0.9605582,49.5355585]  "
      ]
     },
     "execution_count": 7,
     "metadata": {},
     "output_type": "execute_result"
    }
   ],
   "source": [
    "# génération du dictionnaire contenant la liste des enregistrements incohérent par propriété\n",
    "analyse = Analysis(data2)\n",
    "dic_res = analyse.check_relationship(fields)\n",
    "\n",
    "# ajout d'un champ pour chaque propriété contrôlée (plus deux champs de synthèse)\n",
    "data2['total'] = True\n",
    "data2['somme'] = 0\n",
    "for name, lis in dic_res.items():\n",
    "    data2[name] = True\n",
    "    data2.loc[lis, name] = False\n",
    "    data2['total'] = data2['total'] & data2[name]\n",
    "    data2['somme'] = data2['somme'] - data2[name] + 1\n",
    "    print('{:<50} {:>5}'.format(name, len(data2) - data2[name].sum()))\n",
    "maxi = max(data2['somme'])\n",
    "df_max = data2[data2.somme == maxi]\n",
    "\n",
    "# résultats\n",
    "print(\"nombre d'enregistrements avec au moins une erreur : \", len(data2) - data2.total.sum())\n",
    "print(\"nombre d'enregistrements avec \", maxi, \" erreurs : \", len(df_max))\n",
    "df_max.loc[:, ('id_pdc_itinerance', 'id_station_itinerance', 'nom_station', 'coordonneesXY')]"
   ]
  },
  {
   "cell_type": "code",
   "execution_count": 20,
   "metadata": {},
   "outputs": [
    {
     "name": "stdout",
     "output_type": "stream",
     "text": [
      "nombre d'enregistrements avec station 'non concerné' :  89\n",
      "nombre d'enregistrements avec  8  erreurs :  6\n"
     ]
    },
    {
     "data": {
      "text/html": [
       "<div>\n",
       "<style scoped>\n",
       "    .dataframe tbody tr th:only-of-type {\n",
       "        vertical-align: middle;\n",
       "    }\n",
       "\n",
       "    .dataframe tbody tr th {\n",
       "        vertical-align: top;\n",
       "    }\n",
       "\n",
       "    .dataframe thead th {\n",
       "        text-align: right;\n",
       "    }\n",
       "</style>\n",
       "<table border=\"1\" class=\"dataframe\">\n",
       "  <thead>\n",
       "    <tr style=\"text-align: right;\">\n",
       "      <th></th>\n",
       "      <th>id_pdc_itinerance</th>\n",
       "      <th>id_station_itinerance</th>\n",
       "    </tr>\n",
       "  </thead>\n",
       "  <tbody>\n",
       "    <tr>\n",
       "      <th>21818</th>\n",
       "      <td>FRH14P59663001</td>\n",
       "      <td>FRH14P59663001</td>\n",
       "    </tr>\n",
       "    <tr>\n",
       "      <th>21831</th>\n",
       "      <td>FRH14P59309001</td>\n",
       "      <td>FRH14P59309001</td>\n",
       "    </tr>\n",
       "    <tr>\n",
       "      <th>35098</th>\n",
       "      <td>FRH14E593090012</td>\n",
       "      <td>FRH14P59309001</td>\n",
       "    </tr>\n",
       "    <tr>\n",
       "      <th>35099</th>\n",
       "      <td>FRH14E593090011</td>\n",
       "      <td>FRH14P59309001</td>\n",
       "    </tr>\n",
       "    <tr>\n",
       "      <th>35100</th>\n",
       "      <td>FRH14E596630012</td>\n",
       "      <td>FRH14P59663001</td>\n",
       "    </tr>\n",
       "    <tr>\n",
       "      <th>35101</th>\n",
       "      <td>FRH14E596630011</td>\n",
       "      <td>FRH14P59663001</td>\n",
       "    </tr>\n",
       "  </tbody>\n",
       "</table>\n",
       "</div>"
      ],
      "text/plain": [
       "      id_pdc_itinerance id_station_itinerance\n",
       "21818    FRH14P59663001        FRH14P59663001\n",
       "21831    FRH14P59309001        FRH14P59309001\n",
       "35098   FRH14E593090012        FRH14P59309001\n",
       "35099   FRH14E593090011        FRH14P59309001\n",
       "35100   FRH14E596630012        FRH14P59663001\n",
       "35101   FRH14E596630011        FRH14P59663001"
      ]
     },
     "execution_count": 20,
     "metadata": {},
     "output_type": "execute_result"
    }
   ],
   "source": [
    "df_non_concerne = data2[data2.id_station_itinerance == 'Non concerné']\n",
    "df_concerne = data2[data2.id_station_itinerance != 'Non concerné']\n",
    "print(\"nombre d'enregistrements avec station 'non concerné' : \", len(df_non_concerne))\n",
    "\n",
    "df_concerne_max_1 = df_concerne[df_concerne.somme == maxi-1]\n",
    "print(\"nombre d'enregistrements avec \", maxi-1, \" erreurs : \", len(df_concerne_max_1))\n",
    "df_concerne_max_1.loc[:, ('id_pdc_itinerance', 'id_station_itinerance')]"
   ]
  },
  {
   "cell_type": "code",
   "execution_count": 18,
   "metadata": {},
   "outputs": [
    {
     "data": {
      "text/html": [
       "<div>\n",
       "<style scoped>\n",
       "    .dataframe tbody tr th:only-of-type {\n",
       "        vertical-align: middle;\n",
       "    }\n",
       "\n",
       "    .dataframe tbody tr th {\n",
       "        vertical-align: top;\n",
       "    }\n",
       "\n",
       "    .dataframe thead th {\n",
       "        text-align: right;\n",
       "    }\n",
       "</style>\n",
       "<table border=\"1\" class=\"dataframe\">\n",
       "  <thead>\n",
       "    <tr style=\"text-align: right;\">\n",
       "      <th></th>\n",
       "      <th>id_pdc_itinerance</th>\n",
       "      <th>id_station_itinerance</th>\n",
       "      <th>nom_station</th>\n",
       "      <th>coordonneesXY</th>\n",
       "      <th>adresse_station</th>\n",
       "      <th>contact_operateur</th>\n",
       "      <th>nom_enseigne</th>\n",
       "      <th>implantation_station</th>\n",
       "      <th>nbre_pdc</th>\n",
       "      <th>horaires</th>\n",
       "      <th>condition_acces</th>\n",
       "      <th>station_deux_roues</th>\n",
       "    </tr>\n",
       "  </thead>\n",
       "  <tbody>\n",
       "    <tr>\n",
       "      <th>21831</th>\n",
       "      <td>FRH14P59309001</td>\n",
       "      <td>FRH14P59309001</td>\n",
       "      <td>Hondschoote - Rue de Cassel</td>\n",
       "      <td>[2.579956, 50.978392]</td>\n",
       "      <td>4 rue de Cassel 59122 Hondschoote</td>\n",
       "      <td>support@passpasselectrique.fr</td>\n",
       "      <td>Pass Pass Electrique</td>\n",
       "      <td>Parking public</td>\n",
       "      <td>1</td>\n",
       "      <td>24/7</td>\n",
       "      <td>Accès libre</td>\n",
       "      <td>false</td>\n",
       "    </tr>\n",
       "    <tr>\n",
       "      <th>35098</th>\n",
       "      <td>FRH14E593090012</td>\n",
       "      <td>FRH14P59309001</td>\n",
       "      <td>HONDSCHOOTE - Rue De Cassel</td>\n",
       "      <td>[2.579956, 50.978392]</td>\n",
       "      <td>4 Rue De Cassel 59122 HONDSCHOOTE</td>\n",
       "      <td>support@alizecharge.fr</td>\n",
       "      <td>pass pass électrique</td>\n",
       "      <td>Voirie</td>\n",
       "      <td>2</td>\n",
       "      <td>Mo-Su 00:00-23:59</td>\n",
       "      <td>Accès libre</td>\n",
       "      <td>FALSE</td>\n",
       "    </tr>\n",
       "    <tr>\n",
       "      <th>35099</th>\n",
       "      <td>FRH14E593090011</td>\n",
       "      <td>FRH14P59309001</td>\n",
       "      <td>HONDSCHOOTE - Rue De Cassel</td>\n",
       "      <td>[2.579956, 50.978392]</td>\n",
       "      <td>4 Rue De Cassel 59122 HONDSCHOOTE</td>\n",
       "      <td>support@alizecharge.fr</td>\n",
       "      <td>pass pass électrique</td>\n",
       "      <td>Voirie</td>\n",
       "      <td>2</td>\n",
       "      <td>Mo-Su 00:00-23:59</td>\n",
       "      <td>Accès libre</td>\n",
       "      <td>FALSE</td>\n",
       "    </tr>\n",
       "  </tbody>\n",
       "</table>\n",
       "</div>"
      ],
      "text/plain": [
       "      id_pdc_itinerance id_station_itinerance                   nom_station  \\\n",
       "21831    FRH14P59309001        FRH14P59309001  Hondschoote - Rue de Cassel    \n",
       "35098   FRH14E593090012        FRH14P59309001   HONDSCHOOTE - Rue De Cassel   \n",
       "35099   FRH14E593090011        FRH14P59309001   HONDSCHOOTE - Rue De Cassel   \n",
       "\n",
       "               coordonneesXY                    adresse_station  \\\n",
       "21831  [2.579956, 50.978392]  4 rue de Cassel 59122 Hondschoote   \n",
       "35098  [2.579956, 50.978392]  4 Rue De Cassel 59122 HONDSCHOOTE   \n",
       "35099  [2.579956, 50.978392]  4 Rue De Cassel 59122 HONDSCHOOTE   \n",
       "\n",
       "                   contact_operateur          nom_enseigne  \\\n",
       "21831  support@passpasselectrique.fr  Pass Pass Electrique   \n",
       "35098         support@alizecharge.fr  pass pass électrique   \n",
       "35099         support@alizecharge.fr  pass pass électrique   \n",
       "\n",
       "      implantation_station  nbre_pdc           horaires condition_acces  \\\n",
       "21831       Parking public         1               24/7     Accès libre   \n",
       "35098               Voirie         2  Mo-Su 00:00-23:59     Accès libre   \n",
       "35099               Voirie         2  Mo-Su 00:00-23:59     Accès libre   \n",
       "\n",
       "      station_deux_roues  \n",
       "21831              false  \n",
       "35098              FALSE  \n",
       "35099              FALSE  "
      ]
     },
     "execution_count": 18,
     "metadata": {},
     "output_type": "execute_result"
    }
   ],
   "source": [
    "FRH14P59309001 = data2[data2.id_station_itinerance == 'FRH14P59309001']\n",
    "FRH14P59309001.loc[:, ('id_pdc_itinerance', 'id_station_itinerance', 'nom_station', 'coordonneesXY', 'adresse_station', \n",
    "                          'contact_operateur', 'nom_enseigne', 'implantation_station', 'nbre_pdc', 'horaires', \n",
    "                          'condition_acces', 'station_deux_roues')]"
   ]
  },
  {
   "cell_type": "code",
   "execution_count": 19,
   "metadata": {},
   "outputs": [
    {
     "data": {
      "text/html": [
       "<div>\n",
       "<style scoped>\n",
       "    .dataframe tbody tr th:only-of-type {\n",
       "        vertical-align: middle;\n",
       "    }\n",
       "\n",
       "    .dataframe tbody tr th {\n",
       "        vertical-align: top;\n",
       "    }\n",
       "\n",
       "    .dataframe thead th {\n",
       "        text-align: right;\n",
       "    }\n",
       "</style>\n",
       "<table border=\"1\" class=\"dataframe\">\n",
       "  <thead>\n",
       "    <tr style=\"text-align: right;\">\n",
       "      <th></th>\n",
       "      <th>id_pdc_itinerance</th>\n",
       "      <th>id_station_itinerance</th>\n",
       "      <th>nom_station</th>\n",
       "      <th>coordonneesXY</th>\n",
       "      <th>adresse_station</th>\n",
       "      <th>contact_operateur</th>\n",
       "      <th>nom_enseigne</th>\n",
       "      <th>implantation_station</th>\n",
       "      <th>nbre_pdc</th>\n",
       "      <th>horaires</th>\n",
       "      <th>condition_acces</th>\n",
       "      <th>station_deux_roues</th>\n",
       "    </tr>\n",
       "  </thead>\n",
       "  <tbody>\n",
       "    <tr>\n",
       "      <th>21818</th>\n",
       "      <td>FRH14P59663001</td>\n",
       "      <td>FRH14P59663001</td>\n",
       "      <td>Wormhout -Place de Gaulle</td>\n",
       "      <td>[2.46799, 50.880845]</td>\n",
       "      <td>92 Place De Gaulle 59470 Wormhout</td>\n",
       "      <td>support@passpasselectrique.fr</td>\n",
       "      <td>Pass Pass Electrique</td>\n",
       "      <td>Parking public</td>\n",
       "      <td>2</td>\n",
       "      <td>24/7</td>\n",
       "      <td>Accès libre</td>\n",
       "      <td>false</td>\n",
       "    </tr>\n",
       "    <tr>\n",
       "      <th>35100</th>\n",
       "      <td>FRH14E596630012</td>\n",
       "      <td>FRH14P59663001</td>\n",
       "      <td>WORMHOUT - Place Du General De Gaulle</td>\n",
       "      <td>[2.467585, 50.883458]</td>\n",
       "      <td>92 Place Du General De Gaulle 59470 WORMHOUT</td>\n",
       "      <td>support@alizecharge.fr</td>\n",
       "      <td>pass pass électrique</td>\n",
       "      <td>Voirie</td>\n",
       "      <td>2</td>\n",
       "      <td>Mo-Su 00:00-23:59</td>\n",
       "      <td>Accès libre</td>\n",
       "      <td>FALSE</td>\n",
       "    </tr>\n",
       "    <tr>\n",
       "      <th>35101</th>\n",
       "      <td>FRH14E596630011</td>\n",
       "      <td>FRH14P59663001</td>\n",
       "      <td>WORMHOUT - Place Du General De Gaulle</td>\n",
       "      <td>[2.467585, 50.883458]</td>\n",
       "      <td>92 Place Du General De Gaulle 59470 WORMHOUT</td>\n",
       "      <td>support@alizecharge.fr</td>\n",
       "      <td>pass pass électrique</td>\n",
       "      <td>Voirie</td>\n",
       "      <td>2</td>\n",
       "      <td>Mo-Su 00:00-23:59</td>\n",
       "      <td>Accès libre</td>\n",
       "      <td>FALSE</td>\n",
       "    </tr>\n",
       "  </tbody>\n",
       "</table>\n",
       "</div>"
      ],
      "text/plain": [
       "      id_pdc_itinerance id_station_itinerance  \\\n",
       "21818    FRH14P59663001        FRH14P59663001   \n",
       "35100   FRH14E596630012        FRH14P59663001   \n",
       "35101   FRH14E596630011        FRH14P59663001   \n",
       "\n",
       "                                 nom_station          coordonneesXY  \\\n",
       "21818              Wormhout -Place de Gaulle   [2.46799, 50.880845]   \n",
       "35100  WORMHOUT - Place Du General De Gaulle  [2.467585, 50.883458]   \n",
       "35101  WORMHOUT - Place Du General De Gaulle  [2.467585, 50.883458]   \n",
       "\n",
       "                                    adresse_station  \\\n",
       "21818             92 Place De Gaulle 59470 Wormhout   \n",
       "35100  92 Place Du General De Gaulle 59470 WORMHOUT   \n",
       "35101  92 Place Du General De Gaulle 59470 WORMHOUT   \n",
       "\n",
       "                   contact_operateur          nom_enseigne  \\\n",
       "21818  support@passpasselectrique.fr  Pass Pass Electrique   \n",
       "35100         support@alizecharge.fr  pass pass électrique   \n",
       "35101         support@alizecharge.fr  pass pass électrique   \n",
       "\n",
       "      implantation_station  nbre_pdc           horaires condition_acces  \\\n",
       "21818       Parking public         2               24/7     Accès libre   \n",
       "35100               Voirie         2  Mo-Su 00:00-23:59     Accès libre   \n",
       "35101               Voirie         2  Mo-Su 00:00-23:59     Accès libre   \n",
       "\n",
       "      station_deux_roues  \n",
       "21818              false  \n",
       "35100              FALSE  \n",
       "35101              FALSE  "
      ]
     },
     "execution_count": 19,
     "metadata": {},
     "output_type": "execute_result"
    }
   ],
   "source": [
    "FRH14P59663001 = data2[data2.id_station_itinerance == 'FRH14P59663001']\n",
    "FRH14P59663001.loc[:, ('id_pdc_itinerance', 'id_station_itinerance', 'nom_station', 'coordonneesXY', 'adresse_station', \n",
    "                          'contact_operateur', 'nom_enseigne', 'implantation_station', 'nbre_pdc', 'horaires', \n",
    "                          'condition_acces', 'station_deux_roues')]"
   ]
  },
  {
   "cell_type": "markdown",
   "metadata": {},
   "source": [
    "# 6 - Exemples d'analyse de relations\n",
    "## Identification du champ 'root'\n",
    "Le champ 'root' est l'identifiant d'une ligne du tableau. Dans le cas présent, aucun champ ne remplit ce rôle. Le champ le plus proche est le champ 'id_pdc_itinerance' avec 42 457 valeurs pour 51 276 lignes."
   ]
  },
  {
   "cell_type": "code",
   "execution_count": 11,
   "metadata": {
    "scrolled": true
   },
   "outputs": [
    {
     "name": "stdout",
     "output_type": "stream",
     "text": [
      "lignes en écart :  16642\n",
      "les 5 pdc avec le plus de lignes : \n",
      " [('Non concerné', 519), ('FR55CP84000', 50), ('FR55CP92140', 29), ('FR55CP78140', 28), ('FR55CP83310', 23)] \n",
      "\n"
     ]
    }
   ],
   "source": [
    "champ = idxs.nindex\n",
    "root = Iindex.ext(list(range(len(idxs))))\n",
    "\n",
    "ecart = champ('id_pdc_itinerance').coupling(root)\n",
    "print('lignes en écart : ',len(ecart))\n",
    "\n",
    "c = Counter(champ('id_pdc_itinerance').codec).most_common(5)\n",
    "champ('id_pdc_itinerance').reindex()\n",
    "print('les 5 pdc avec le plus de lignes : \\n', c, '\\n')"
   ]
  },
  {
   "cell_type": "markdown",
   "metadata": {},
   "source": [
    "- le principal écart est lié à la présence de l'historique des modifications.\n",
    "- l'écart résiduel (1068 lignes) est à traiter de façon spécifique -> cf exemples d'écarts ci-dessous"
   ]
  },
  {
   "cell_type": "code",
   "execution_count": 12,
   "metadata": {},
   "outputs": [
    {
     "name": "stdout",
     "output_type": "stream",
     "text": [
      "lignes en écart :  1068\n",
      "les 5 pdc avec le plus de lignes : \n",
      " [(('FR55CP84000', '2023-03-03T17:39:50.555000'), 50), (('Non concerné', '2023-03-03T17:37:07.612000'), 34), (('FR55CP92140', '2023-03-03T17:39:50.555000'), 29), (('FR55CP78140', '2023-03-03T17:39:50.555000'), 28), (('FR55CP83310', '2023-03-03T17:39:50.555000'), 23)] \n",
      "\n"
     ]
    }
   ],
   "source": [
    "id_pdc = Iindex.merging([champ('id_pdc_itinerance'), champ('last_modified')], 'id_pdc')\n",
    "ecart = id_pdc.coupling(root)\n",
    "print('lignes en écart : ',len(ecart))\n",
    "\n",
    "c = Counter(id_pdc.codec).most_common(5)\n",
    "id_pdc.reindex()\n",
    "print('les 5 pdc avec le plus de lignes : \\n', c, '\\n')"
   ]
  },
  {
   "cell_type": "code",
   "execution_count": 13,
   "metadata": {
    "scrolled": false
   },
   "outputs": [
    {
     "data": {
      "text/html": [
       "<div>\n",
       "<style scoped>\n",
       "    .dataframe tbody tr th:only-of-type {\n",
       "        vertical-align: middle;\n",
       "    }\n",
       "\n",
       "    .dataframe tbody tr th {\n",
       "        vertical-align: top;\n",
       "    }\n",
       "\n",
       "    .dataframe thead th {\n",
       "        text-align: right;\n",
       "    }\n",
       "</style>\n",
       "<table border=\"1\" class=\"dataframe\">\n",
       "  <thead>\n",
       "    <tr style=\"text-align: right;\">\n",
       "      <th></th>\n",
       "      <th>id_pdc_itinerance</th>\n",
       "      <th>id_station_itinerance</th>\n",
       "      <th>nom_station</th>\n",
       "      <th>coordonneesXY</th>\n",
       "      <th>nbre_pdc</th>\n",
       "      <th>last_modified</th>\n",
       "    </tr>\n",
       "  </thead>\n",
       "  <tbody>\n",
       "    <tr>\n",
       "      <th>8238</th>\n",
       "      <td>FRP07E6748200329</td>\n",
       "      <td>FRP07P67482003</td>\n",
       "      <td>STRASBOURG - Wodli</td>\n",
       "      <td>[7.73762, 48.587002]</td>\n",
       "      <td>1</td>\n",
       "      <td>2023-03-03T17:39:32.426000</td>\n",
       "    </tr>\n",
       "    <tr>\n",
       "      <th>8237</th>\n",
       "      <td>FRP07E6748200329</td>\n",
       "      <td>FRP07P67482003</td>\n",
       "      <td>STRASBOURG - Wodli</td>\n",
       "      <td>[7.73762, 48.587002]</td>\n",
       "      <td>41</td>\n",
       "      <td>2023-03-03T17:39:32.426000</td>\n",
       "    </tr>\n",
       "    <tr>\n",
       "      <th>43933</th>\n",
       "      <td>FRS17EMB17612</td>\n",
       "      <td>FRS17PMB17612</td>\n",
       "      <td>RIVEDOUX - PLACE DES LIONS</td>\n",
       "      <td>[-1.276077, 46.159822]</td>\n",
       "      <td>2</td>\n",
       "      <td>2023-03-03T17:35:44.865000</td>\n",
       "    </tr>\n",
       "    <tr>\n",
       "      <th>43934</th>\n",
       "      <td>FRS17EMB17612</td>\n",
       "      <td>FRS17PMB17612</td>\n",
       "      <td>RIVEDOUX - PLACE DES LIONS</td>\n",
       "      <td>[-1.276077, 46.159822]</td>\n",
       "      <td>2</td>\n",
       "      <td>2023-03-03T17:35:44.865000</td>\n",
       "    </tr>\n",
       "    <tr>\n",
       "      <th>43909</th>\n",
       "      <td>FRS17EMB171212</td>\n",
       "      <td>FRS17PMB171212</td>\n",
       "      <td>TONNAY CHARENTE - RUE DE LEGLISE</td>\n",
       "      <td>[-0.892793, 45.943879]</td>\n",
       "      <td>2</td>\n",
       "      <td>2023-03-03T17:35:44.865000</td>\n",
       "    </tr>\n",
       "    <tr>\n",
       "      <th>...</th>\n",
       "      <td>...</td>\n",
       "      <td>...</td>\n",
       "      <td>...</td>\n",
       "      <td>...</td>\n",
       "      <td>...</td>\n",
       "      <td>...</td>\n",
       "    </tr>\n",
       "    <tr>\n",
       "      <th>9106</th>\n",
       "      <td>FRP07E6748200322</td>\n",
       "      <td>FRP07P67482003</td>\n",
       "      <td>STRASBOURG - Wodli</td>\n",
       "      <td>[7.73762, 48.587002]</td>\n",
       "      <td>1</td>\n",
       "      <td>2023-03-03T17:39:32.426000</td>\n",
       "    </tr>\n",
       "    <tr>\n",
       "      <th>3928</th>\n",
       "      <td>FRP07E6748200331</td>\n",
       "      <td>FRP07P67482003</td>\n",
       "      <td>STRASBOURG - Wodli</td>\n",
       "      <td>[7.73762, 48.587002]</td>\n",
       "      <td>41</td>\n",
       "      <td>2023-03-03T17:39:32.426000</td>\n",
       "    </tr>\n",
       "    <tr>\n",
       "      <th>3932</th>\n",
       "      <td>FRP07E6748200331</td>\n",
       "      <td>FRP07P67482003</td>\n",
       "      <td>STRASBOURG - Wodli</td>\n",
       "      <td>[7.73762, 48.587002]</td>\n",
       "      <td>1</td>\n",
       "      <td>2023-03-03T17:39:32.426000</td>\n",
       "    </tr>\n",
       "    <tr>\n",
       "      <th>3454</th>\n",
       "      <td>FRP07E6748200341</td>\n",
       "      <td>FRP07P67482003</td>\n",
       "      <td>STRASBOURG - Wodli</td>\n",
       "      <td>[7.73762, 48.587002]</td>\n",
       "      <td>41</td>\n",
       "      <td>2023-03-03T17:39:32.426000</td>\n",
       "    </tr>\n",
       "    <tr>\n",
       "      <th>3218</th>\n",
       "      <td>FRP07E6748200341</td>\n",
       "      <td>FRP07P67482003</td>\n",
       "      <td>STRASBOURG - Wodli</td>\n",
       "      <td>[7.73762, 48.587002]</td>\n",
       "      <td>1</td>\n",
       "      <td>2023-03-03T17:39:32.426000</td>\n",
       "    </tr>\n",
       "  </tbody>\n",
       "</table>\n",
       "<p>1068 rows × 6 columns</p>\n",
       "</div>"
      ],
      "text/plain": [
       "      id_pdc_itinerance id_station_itinerance  \\\n",
       "8238   FRP07E6748200329        FRP07P67482003   \n",
       "8237   FRP07E6748200329        FRP07P67482003   \n",
       "43933     FRS17EMB17612         FRS17PMB17612   \n",
       "43934     FRS17EMB17612         FRS17PMB17612   \n",
       "43909    FRS17EMB171212        FRS17PMB171212   \n",
       "...                 ...                   ...   \n",
       "9106   FRP07E6748200322        FRP07P67482003   \n",
       "3928   FRP07E6748200331        FRP07P67482003   \n",
       "3932   FRP07E6748200331        FRP07P67482003   \n",
       "3454   FRP07E6748200341        FRP07P67482003   \n",
       "3218   FRP07E6748200341        FRP07P67482003   \n",
       "\n",
       "                            nom_station           coordonneesXY  nbre_pdc  \\\n",
       "8238                 STRASBOURG - Wodli    [7.73762, 48.587002]         1   \n",
       "8237                 STRASBOURG - Wodli    [7.73762, 48.587002]        41   \n",
       "43933        RIVEDOUX - PLACE DES LIONS  [-1.276077, 46.159822]         2   \n",
       "43934        RIVEDOUX - PLACE DES LIONS  [-1.276077, 46.159822]         2   \n",
       "43909  TONNAY CHARENTE - RUE DE LEGLISE  [-0.892793, 45.943879]         2   \n",
       "...                                 ...                     ...       ...   \n",
       "9106                 STRASBOURG - Wodli    [7.73762, 48.587002]         1   \n",
       "3928                 STRASBOURG - Wodli    [7.73762, 48.587002]        41   \n",
       "3932                 STRASBOURG - Wodli    [7.73762, 48.587002]         1   \n",
       "3454                 STRASBOURG - Wodli    [7.73762, 48.587002]        41   \n",
       "3218                 STRASBOURG - Wodli    [7.73762, 48.587002]         1   \n",
       "\n",
       "                    last_modified  \n",
       "8238   2023-03-03T17:39:32.426000  \n",
       "8237   2023-03-03T17:39:32.426000  \n",
       "43933  2023-03-03T17:35:44.865000  \n",
       "43934  2023-03-03T17:35:44.865000  \n",
       "43909  2023-03-03T17:35:44.865000  \n",
       "...                           ...  \n",
       "9106   2023-03-03T17:39:32.426000  \n",
       "3928   2023-03-03T17:39:32.426000  \n",
       "3932   2023-03-03T17:39:32.426000  \n",
       "3454   2023-03-03T17:39:32.426000  \n",
       "3218   2023-03-03T17:39:32.426000  \n",
       "\n",
       "[1068 rows x 6 columns]"
      ]
     },
     "execution_count": 13,
     "metadata": {},
     "output_type": "execute_result"
    }
   ],
   "source": [
    "data.loc[ecart,['id_pdc_itinerance', 'id_station_itinerance', 'nom_station', 'coordonneesXY', 'nbre_pdc', 'last_modified']]"
   ]
  },
  {
   "cell_type": "markdown",
   "metadata": {},
   "source": [
    "- l'élimination des doublons (en conservant la date de modification la plus résente) permet d'avoir une ligne par point de charge."
   ]
  },
  {
   "cell_type": "code",
   "execution_count": 14,
   "metadata": {
    "scrolled": true
   },
   "outputs": [
    {
     "name": "stdout",
     "output_type": "stream",
     "text": [
      "data2 :  42457\n"
     ]
    }
   ],
   "source": [
    "data2 = data.sort_values(by='last_modified').drop_duplicates('id_pdc_itinerance', keep='last').reset_index(drop=True)\n",
    "print('data2 : ', len(data2))"
   ]
  },
  {
   "cell_type": "code",
   "execution_count": 15,
   "metadata": {},
   "outputs": [
    {
     "name": "stdout",
     "output_type": "stream",
     "text": [
      "idxs (len, lenlidx, sumcodec) :  42457 50 193355\n"
     ]
    }
   ],
   "source": [
    "idxs2 = Ilist.obj(data2)\n",
    "print('idxs (len, lenlidx, sumcodec) : ', len(idxs2), len(idxs2.idxlen), sum(idxs2.idxlen))"
   ]
  },
  {
   "cell_type": "code",
   "execution_count": 16,
   "metadata": {
    "scrolled": false
   },
   "outputs": [
    {
     "name": "stdout",
     "output_type": "stream",
     "text": [
      "Couplage entre le champ 'id_pdc_itinerance' et la liste des lignes :  False\n"
     ]
    }
   ],
   "source": [
    "champ = idxs2.nindex\n",
    "root = Iindex.ext(list(range(len(idxs))))\n",
    "print(\"Couplage entre le champ 'id_pdc_itinerance' et la liste des lignes : \", champ('id_pdc_itinerance').iscoupled(root))"
   ]
  },
  {
   "cell_type": "markdown",
   "metadata": {},
   "source": [
    "## Représentation des stations"
   ]
  },
  {
   "cell_type": "markdown",
   "metadata": {},
   "source": [
    "- deux champs sont candidats pour identifier les stations : 'id_station_itinerance', 'nom_station'\n",
    "- Le champ le plus approprié est 'id_station_itinerance' (plus grand nombre de valeurs différentes)\n",
    "- une autre solution pourrait être de considérer qu'une station est identifiée par le couple 'id_station_itinerance', 'nom_station' mais ceci conduit à doublonner une station pour laquelle une erreur de nom a été commise (cf exemple ci-dessous)."
   ]
  },
  {
   "cell_type": "code",
   "execution_count": 17,
   "metadata": {},
   "outputs": [
    {
     "name": "stdout",
     "output_type": "stream",
     "text": [
      "le nom dérive de la station :  False \n",
      "\n",
      "nombre de lignes en écart :  288\n",
      "les 5 stations avec le plus de noms : \n",
      " [('Non concerné', 30), ('FRH14P59282001', 2), ('FRH14P59307001', 2), ('FRH14P59087001', 2), ('FRLE2PZYW3BNYUDP', 2)] \n",
      "\n"
     ]
    }
   ],
   "source": [
    "print('le nom dérive de la station : ', champ('id_station_itinerance').isderived(champ('nom_station')), '\\n')\n",
    "\n",
    "ecart_nom = champ('id_station_itinerance').coupling(champ('nom_station'))\n",
    "c_nom = Counter(champ('id_station_itinerance').codec).most_common(5)\n",
    "champ('id_station_itinerance').reindex()\n",
    "\n",
    "print('nombre de lignes en écart : ',len(ecart_nom))\n",
    "print('les 5 stations avec le plus de noms : \\n', c_nom, '\\n')"
   ]
  },
  {
   "cell_type": "code",
   "execution_count": 18,
   "metadata": {
    "scrolled": false
   },
   "outputs": [
    {
     "name": "stdout",
     "output_type": "stream",
     "text": [
      "stations avec plusieurs noms : \n",
      "\n"
     ]
    },
    {
     "data": {
      "text/html": [
       "<div>\n",
       "<style scoped>\n",
       "    .dataframe tbody tr th:only-of-type {\n",
       "        vertical-align: middle;\n",
       "    }\n",
       "\n",
       "    .dataframe tbody tr th {\n",
       "        vertical-align: top;\n",
       "    }\n",
       "\n",
       "    .dataframe thead th {\n",
       "        text-align: right;\n",
       "    }\n",
       "</style>\n",
       "<table border=\"1\" class=\"dataframe\">\n",
       "  <thead>\n",
       "    <tr style=\"text-align: right;\">\n",
       "      <th></th>\n",
       "      <th>id_pdc_itinerance</th>\n",
       "      <th>id_station_itinerance</th>\n",
       "      <th>nom_station</th>\n",
       "      <th>coordonneesXY</th>\n",
       "    </tr>\n",
       "  </thead>\n",
       "  <tbody>\n",
       "    <tr>\n",
       "      <th>33954</th>\n",
       "      <td>FRH14E592820012</td>\n",
       "      <td>FRH14P59282001</td>\n",
       "      <td>HARDIFORT - Contour De L'Eglise</td>\n",
       "      <td>[2.485827, 50.821335]</td>\n",
       "    </tr>\n",
       "    <tr>\n",
       "      <th>33963</th>\n",
       "      <td>FRH14E592820011</td>\n",
       "      <td>FRH14P59282001</td>\n",
       "      <td>HARDIFORT - Contour De L'Eglise</td>\n",
       "      <td>[2.485827, 50.821335]</td>\n",
       "    </tr>\n",
       "    <tr>\n",
       "      <th>21834</th>\n",
       "      <td>FRH14P59282001</td>\n",
       "      <td>FRH14P59282001</td>\n",
       "      <td>Hardifort - Parking Mairie</td>\n",
       "      <td>[2.485827, 50.821335]</td>\n",
       "    </tr>\n",
       "    <tr>\n",
       "      <th>41120</th>\n",
       "      <td>FRLDLE00001758</td>\n",
       "      <td>Non concerné</td>\n",
       "      <td>LIDL HARFLEUR</td>\n",
       "      <td>[0.19538,49.5149]</td>\n",
       "    </tr>\n",
       "    <tr>\n",
       "      <th>41122</th>\n",
       "      <td>FRLDLE00001757</td>\n",
       "      <td>Non concerné</td>\n",
       "      <td>LIDL HARFLEUR</td>\n",
       "      <td>[0.19538,49.5149]</td>\n",
       "    </tr>\n",
       "    <tr>\n",
       "      <th>...</th>\n",
       "      <td>...</td>\n",
       "      <td>...</td>\n",
       "      <td>...</td>\n",
       "      <td>...</td>\n",
       "    </tr>\n",
       "    <tr>\n",
       "      <th>39130</th>\n",
       "      <td>FRTLSE315550403</td>\n",
       "      <td>FRTLSP31555040</td>\n",
       "      <td>TOULOUSE – Station Deux-Roues Lazare Carnot</td>\n",
       "      <td>[1.45026, 43.6040701]</td>\n",
       "    </tr>\n",
       "    <tr>\n",
       "      <th>39144</th>\n",
       "      <td>FRTLSE315550404</td>\n",
       "      <td>FRTLSP31555040</td>\n",
       "      <td>TOULOUSE – Station Deux-Roues Lazare Carnot</td>\n",
       "      <td>[1.45026, 43.6040701]</td>\n",
       "    </tr>\n",
       "    <tr>\n",
       "      <th>39159</th>\n",
       "      <td>FRTLSE315550405</td>\n",
       "      <td>FRTLSP31555040</td>\n",
       "      <td>TOULOUSE – Station Deux-Roues Lazare Carnot</td>\n",
       "      <td>[1.45026, 43.6040701]</td>\n",
       "    </tr>\n",
       "    <tr>\n",
       "      <th>39425</th>\n",
       "      <td>FRTLSE315550402</td>\n",
       "      <td>FRTLSP31555040</td>\n",
       "      <td>TOULOUSE - Bd Lazare Carnot</td>\n",
       "      <td>[1.4503666, 43.6039735]</td>\n",
       "    </tr>\n",
       "    <tr>\n",
       "      <th>39442</th>\n",
       "      <td>FRTLSE315550401</td>\n",
       "      <td>FRTLSP31555040</td>\n",
       "      <td>TOULOUSE - Bd Lazare Carnot</td>\n",
       "      <td>[1.4503666, 43.6039735]</td>\n",
       "    </tr>\n",
       "  </tbody>\n",
       "</table>\n",
       "<p>288 rows × 4 columns</p>\n",
       "</div>"
      ],
      "text/plain": [
       "      id_pdc_itinerance id_station_itinerance  \\\n",
       "33954   FRH14E592820012        FRH14P59282001   \n",
       "33963   FRH14E592820011        FRH14P59282001   \n",
       "21834    FRH14P59282001        FRH14P59282001   \n",
       "41120    FRLDLE00001758          Non concerné   \n",
       "41122    FRLDLE00001757          Non concerné   \n",
       "...                 ...                   ...   \n",
       "39130   FRTLSE315550403        FRTLSP31555040   \n",
       "39144   FRTLSE315550404        FRTLSP31555040   \n",
       "39159   FRTLSE315550405        FRTLSP31555040   \n",
       "39425   FRTLSE315550402        FRTLSP31555040   \n",
       "39442   FRTLSE315550401        FRTLSP31555040   \n",
       "\n",
       "                                       nom_station            coordonneesXY  \n",
       "33954              HARDIFORT - Contour De L'Eglise    [2.485827, 50.821335]  \n",
       "33963              HARDIFORT - Contour De L'Eglise    [2.485827, 50.821335]  \n",
       "21834                   Hardifort - Parking Mairie    [2.485827, 50.821335]  \n",
       "41120                                LIDL HARFLEUR        [0.19538,49.5149]  \n",
       "41122                                LIDL HARFLEUR        [0.19538,49.5149]  \n",
       "...                                            ...                      ...  \n",
       "39130  TOULOUSE – Station Deux-Roues Lazare Carnot    [1.45026, 43.6040701]  \n",
       "39144  TOULOUSE – Station Deux-Roues Lazare Carnot    [1.45026, 43.6040701]  \n",
       "39159  TOULOUSE – Station Deux-Roues Lazare Carnot    [1.45026, 43.6040701]  \n",
       "39425                  TOULOUSE - Bd Lazare Carnot  [1.4503666, 43.6039735]  \n",
       "39442                  TOULOUSE - Bd Lazare Carnot  [1.4503666, 43.6039735]  \n",
       "\n",
       "[288 rows x 4 columns]"
      ]
     },
     "execution_count": 18,
     "metadata": {},
     "output_type": "execute_result"
    }
   ],
   "source": [
    "print('stations avec plusieurs noms : \\n')\n",
    "data2.loc[ecart_nom,['id_pdc_itinerance', 'id_station_itinerance', 'nom_station', 'coordonneesXY']]"
   ]
  },
  {
   "cell_type": "markdown",
   "metadata": {},
   "source": [
    "## localisation des stations\n",
    "Les stations sont localisées au travers d'une coordonnée géographique et une adresse complète cette localisation. De même que pour la dénomination des stations, deux questions peuvent être posées :\n",
    "- peut-on avoir plusieurs stations avec la même coordonnée ?\n",
    "- peut-on avoir plusieurs coordonnées pour une même station ?\n",
    "\n",
    "L'analyse ci-dessous montre que des erreurs d'identification de stations conduisent à répondre oui à ces deux questions."
   ]
  },
  {
   "cell_type": "code",
   "execution_count": 19,
   "metadata": {},
   "outputs": [
    {
     "name": "stdout",
     "output_type": "stream",
     "text": [
      "nombre de lignes en écart :  705\n",
      "les 5 stations avec le plus de positions différentes : \n",
      " [('Non concerné', 28), ('FR073PCAMAIEUFR', 8), ('FRFR1PUXIVU5GSXH', 5), ('FRFR1PEHNKRRPQNR', 5), ('FRFR1PD0AIJIWGHD', 4)] \n",
      "\n"
     ]
    }
   ],
   "source": [
    "ecart_XY = champ('id_station_itinerance').coupling(champ('coordonneesXY'))\n",
    "c_XY = Counter(champ('id_station_itinerance').codec).most_common(5)\n",
    "champ('id_station_itinerance').reindex()\n",
    "\n",
    "print('nombre de lignes en écart : ',len(ecart_XY))\n",
    "\n",
    "print('les 5 stations avec le plus de positions différentes : \\n', c_XY, '\\n')"
   ]
  },
  {
   "cell_type": "code",
   "execution_count": 20,
   "metadata": {
    "scrolled": false
   },
   "outputs": [
    {
     "name": "stdout",
     "output_type": "stream",
     "text": [
      "stations avec plusieurs coordonnées : \n",
      "\n"
     ]
    },
    {
     "data": {
      "text/html": [
       "<div>\n",
       "<style scoped>\n",
       "    .dataframe tbody tr th:only-of-type {\n",
       "        vertical-align: middle;\n",
       "    }\n",
       "\n",
       "    .dataframe tbody tr th {\n",
       "        vertical-align: top;\n",
       "    }\n",
       "\n",
       "    .dataframe thead th {\n",
       "        text-align: right;\n",
       "    }\n",
       "</style>\n",
       "<table border=\"1\" class=\"dataframe\">\n",
       "  <thead>\n",
       "    <tr style=\"text-align: right;\">\n",
       "      <th></th>\n",
       "      <th>id_station_itinerance</th>\n",
       "      <th>nom_station</th>\n",
       "      <th>coordonneesXY</th>\n",
       "    </tr>\n",
       "  </thead>\n",
       "  <tbody>\n",
       "    <tr>\n",
       "      <th>32758</th>\n",
       "      <td>FRS90PXDHKLG</td>\n",
       "      <td>Belfort, Place de la Résistance</td>\n",
       "      <td>[6.85343, 47.6415]</td>\n",
       "    </tr>\n",
       "    <tr>\n",
       "      <th>32759</th>\n",
       "      <td>FRS90PXDHKLG</td>\n",
       "      <td>Belfort, Place de la Résistance</td>\n",
       "      <td>[6.85343, 47.6415]</td>\n",
       "    </tr>\n",
       "    <tr>\n",
       "      <th>32761</th>\n",
       "      <td>FRS90PXDHKLG</td>\n",
       "      <td>Belfort, Place de la Résistance</td>\n",
       "      <td>[6.85355, 47.6415]</td>\n",
       "    </tr>\n",
       "    <tr>\n",
       "      <th>32769</th>\n",
       "      <td>FRS90PXDHKLG</td>\n",
       "      <td>Belfort, Place de la Résistance</td>\n",
       "      <td>[6.85355, 47.6415]</td>\n",
       "    </tr>\n",
       "    <tr>\n",
       "      <th>29762</th>\n",
       "      <td>FRFR1PHEDC2RWJ6Z</td>\n",
       "      <td>Batilly, Mairie</td>\n",
       "      <td>[5.96995936, 49.17113712]</td>\n",
       "    </tr>\n",
       "    <tr>\n",
       "      <th>...</th>\n",
       "      <td>...</td>\n",
       "      <td>...</td>\n",
       "      <td>...</td>\n",
       "    </tr>\n",
       "    <tr>\n",
       "      <th>32700</th>\n",
       "      <td>FRFR1PRPDMF5LYE0</td>\n",
       "      <td>Villefranche-sur-Saône, 733 Av. Théodore Braun</td>\n",
       "      <td>[4.7394, 45.97827]</td>\n",
       "    </tr>\n",
       "    <tr>\n",
       "      <th>32703</th>\n",
       "      <td>FRFR1PRPDMF5LYE0</td>\n",
       "      <td>Villefranche-sur-Saône, 733 Av. Théodore Braun</td>\n",
       "      <td>[4.7394, 45.97827]</td>\n",
       "    </tr>\n",
       "    <tr>\n",
       "      <th>32704</th>\n",
       "      <td>FRFR1PRPDMF5LYE0</td>\n",
       "      <td>Villefranche-sur-Saône, 733 Av. Théodore Braun</td>\n",
       "      <td>[4.7394, 45.97827]</td>\n",
       "    </tr>\n",
       "    <tr>\n",
       "      <th>32701</th>\n",
       "      <td>FRFR1PRPDMF5LYE0</td>\n",
       "      <td>Villefranche-sur-Saône, 733 Av. Théodore Braun</td>\n",
       "      <td>[4.738635, 45.978188]</td>\n",
       "    </tr>\n",
       "    <tr>\n",
       "      <th>32702</th>\n",
       "      <td>FRFR1PRPDMF5LYE0</td>\n",
       "      <td>Villefranche-sur-Saône, 733 Av. Théodore Braun</td>\n",
       "      <td>[4.738635, 45.978188]</td>\n",
       "    </tr>\n",
       "  </tbody>\n",
       "</table>\n",
       "<p>705 rows × 3 columns</p>\n",
       "</div>"
      ],
      "text/plain": [
       "      id_station_itinerance                                     nom_station  \\\n",
       "32758          FRS90PXDHKLG                 Belfort, Place de la Résistance   \n",
       "32759          FRS90PXDHKLG                 Belfort, Place de la Résistance   \n",
       "32761          FRS90PXDHKLG                 Belfort, Place de la Résistance   \n",
       "32769          FRS90PXDHKLG                 Belfort, Place de la Résistance   \n",
       "29762      FRFR1PHEDC2RWJ6Z                                 Batilly, Mairie   \n",
       "...                     ...                                             ...   \n",
       "32700      FRFR1PRPDMF5LYE0  Villefranche-sur-Saône, 733 Av. Théodore Braun   \n",
       "32703      FRFR1PRPDMF5LYE0  Villefranche-sur-Saône, 733 Av. Théodore Braun   \n",
       "32704      FRFR1PRPDMF5LYE0  Villefranche-sur-Saône, 733 Av. Théodore Braun   \n",
       "32701      FRFR1PRPDMF5LYE0  Villefranche-sur-Saône, 733 Av. Théodore Braun   \n",
       "32702      FRFR1PRPDMF5LYE0  Villefranche-sur-Saône, 733 Av. Théodore Braun   \n",
       "\n",
       "                   coordonneesXY  \n",
       "32758         [6.85343, 47.6415]  \n",
       "32759         [6.85343, 47.6415]  \n",
       "32761         [6.85355, 47.6415]  \n",
       "32769         [6.85355, 47.6415]  \n",
       "29762  [5.96995936, 49.17113712]  \n",
       "...                          ...  \n",
       "32700         [4.7394, 45.97827]  \n",
       "32703         [4.7394, 45.97827]  \n",
       "32704         [4.7394, 45.97827]  \n",
       "32701      [4.738635, 45.978188]  \n",
       "32702      [4.738635, 45.978188]  \n",
       "\n",
       "[705 rows x 3 columns]"
      ]
     },
     "execution_count": 20,
     "metadata": {},
     "output_type": "execute_result"
    }
   ],
   "source": [
    "print('stations avec plusieurs coordonnées : \\n')\n",
    "data2.loc[ecart_XY,['id_station_itinerance', 'nom_station', 'coordonneesXY']]"
   ]
  },
  {
   "cell_type": "code",
   "execution_count": 21,
   "metadata": {
    "scrolled": true
   },
   "outputs": [
    {
     "name": "stdout",
     "output_type": "stream",
     "text": [
      "nombre de lignes en écart :  7764\n",
      "les 5 positions avec le plus grand nombre de stations associées : \n",
      " [('[2.322582, 48.837734]', 60), ('[2.298571, 48.896523]', 40), ('[2.477817, 48.882166]', 22), ('[2.523685, 48.9908]', 20), ('[2.21,48.78]', 20)] \n",
      "\n"
     ]
    }
   ],
   "source": [
    "ecart_stat = champ('coordonneesXY').coupling(champ('id_station_itinerance'))\n",
    "c_stat = Counter(champ('coordonneesXY').codec).most_common(5)\n",
    "champ('coordonneesXY').reindex()\n",
    "\n",
    "print('nombre de lignes en écart : ',len(ecart_stat))\n",
    "\n",
    "print('les 5 positions avec le plus grand nombre de stations associées : \\n', c_stat, '\\n')"
   ]
  },
  {
   "cell_type": "code",
   "execution_count": 22,
   "metadata": {},
   "outputs": [
    {
     "name": "stdout",
     "output_type": "stream",
     "text": [
      "positions avec plusieurs stations associées : \n",
      "\n"
     ]
    },
    {
     "data": {
      "text/html": [
       "<div>\n",
       "<style scoped>\n",
       "    .dataframe tbody tr th:only-of-type {\n",
       "        vertical-align: middle;\n",
       "    }\n",
       "\n",
       "    .dataframe tbody tr th {\n",
       "        vertical-align: top;\n",
       "    }\n",
       "\n",
       "    .dataframe thead th {\n",
       "        text-align: right;\n",
       "    }\n",
       "</style>\n",
       "<table border=\"1\" class=\"dataframe\">\n",
       "  <thead>\n",
       "    <tr style=\"text-align: right;\">\n",
       "      <th></th>\n",
       "      <th>coordonneesXY</th>\n",
       "      <th>id_station_itinerance</th>\n",
       "      <th>nom_station</th>\n",
       "    </tr>\n",
       "  </thead>\n",
       "  <tbody>\n",
       "    <tr>\n",
       "      <th>21434</th>\n",
       "      <td>[6.322902, 48.468331]</td>\n",
       "      <td>FRM54PCUGN11122</td>\n",
       "      <td>PETR - VILLE DE BAYON</td>\n",
       "    </tr>\n",
       "    <tr>\n",
       "      <th>21321</th>\n",
       "      <td>[6.322902, 48.468331]</td>\n",
       "      <td>FRM54PCUGN11121</td>\n",
       "      <td>PETR - VILLE DE BAYON</td>\n",
       "    </tr>\n",
       "    <tr>\n",
       "      <th>21507</th>\n",
       "      <td>[6.322902, 48.468331]</td>\n",
       "      <td>FRM54PCUGN11112</td>\n",
       "      <td>PETR - VILLE DE BAYON</td>\n",
       "    </tr>\n",
       "    <tr>\n",
       "      <th>21488</th>\n",
       "      <td>[6.322902, 48.468331]</td>\n",
       "      <td>FRM54PCUGN11111</td>\n",
       "      <td>PETR - VILLE DE BAYON</td>\n",
       "    </tr>\n",
       "    <tr>\n",
       "      <th>40021</th>\n",
       "      <td>[3.046084, 50.531584]</td>\n",
       "      <td>FRLMSP1000118137</td>\n",
       "      <td>SANEF PHALENPIN OUEST</td>\n",
       "    </tr>\n",
       "    <tr>\n",
       "      <th>...</th>\n",
       "      <td>...</td>\n",
       "      <td>...</td>\n",
       "      <td>...</td>\n",
       "    </tr>\n",
       "    <tr>\n",
       "      <th>5127</th>\n",
       "      <td>[-1.52123, 43.526859]</td>\n",
       "      <td>FRS64PMB64512</td>\n",
       "      <td>ANGLET - PARKING IZADIA</td>\n",
       "    </tr>\n",
       "    <tr>\n",
       "      <th>5000</th>\n",
       "      <td>[-0.833645, 43.710106]</td>\n",
       "      <td>FRS40PMB402112</td>\n",
       "      <td>MONTFORT EN CHALOSSE - PARKING COOPERATIVE - F...</td>\n",
       "    </tr>\n",
       "    <tr>\n",
       "      <th>4964</th>\n",
       "      <td>[-0.833645, 43.710106]</td>\n",
       "      <td>FRS40PMB402111</td>\n",
       "      <td>MONTFORT EN CHALOSSE - PARKING COOPERATIVE - F...</td>\n",
       "    </tr>\n",
       "    <tr>\n",
       "      <th>9990</th>\n",
       "      <td>[2.140268, 48.880798]</td>\n",
       "      <td>FRSIGPSIGE6911</td>\n",
       "      <td>SIGEIF - 20  AVENUE DU GENERAL DE GAULLE - CRO...</td>\n",
       "    </tr>\n",
       "    <tr>\n",
       "      <th>10070</th>\n",
       "      <td>[2.140268, 48.880798]</td>\n",
       "      <td>FRSIGPSIGE6912</td>\n",
       "      <td>SIGEIF - 20  AVENUE DU GENERAL DE GAULLE - CRO...</td>\n",
       "    </tr>\n",
       "  </tbody>\n",
       "</table>\n",
       "<p>7764 rows × 3 columns</p>\n",
       "</div>"
      ],
      "text/plain": [
       "                coordonneesXY id_station_itinerance  \\\n",
       "21434   [6.322902, 48.468331]       FRM54PCUGN11122   \n",
       "21321   [6.322902, 48.468331]       FRM54PCUGN11121   \n",
       "21507   [6.322902, 48.468331]       FRM54PCUGN11112   \n",
       "21488   [6.322902, 48.468331]       FRM54PCUGN11111   \n",
       "40021   [3.046084, 50.531584]      FRLMSP1000118137   \n",
       "...                       ...                   ...   \n",
       "5127    [-1.52123, 43.526859]         FRS64PMB64512   \n",
       "5000   [-0.833645, 43.710106]        FRS40PMB402112   \n",
       "4964   [-0.833645, 43.710106]        FRS40PMB402111   \n",
       "9990    [2.140268, 48.880798]        FRSIGPSIGE6911   \n",
       "10070   [2.140268, 48.880798]        FRSIGPSIGE6912   \n",
       "\n",
       "                                             nom_station  \n",
       "21434                              PETR - VILLE DE BAYON  \n",
       "21321                              PETR - VILLE DE BAYON  \n",
       "21507                              PETR - VILLE DE BAYON  \n",
       "21488                              PETR - VILLE DE BAYON  \n",
       "40021                              SANEF PHALENPIN OUEST  \n",
       "...                                                  ...  \n",
       "5127                             ANGLET - PARKING IZADIA  \n",
       "5000   MONTFORT EN CHALOSSE - PARKING COOPERATIVE - F...  \n",
       "4964   MONTFORT EN CHALOSSE - PARKING COOPERATIVE - F...  \n",
       "9990   SIGEIF - 20  AVENUE DU GENERAL DE GAULLE - CRO...  \n",
       "10070  SIGEIF - 20  AVENUE DU GENERAL DE GAULLE - CRO...  \n",
       "\n",
       "[7764 rows x 3 columns]"
      ]
     },
     "execution_count": 22,
     "metadata": {},
     "output_type": "execute_result"
    }
   ],
   "source": [
    "print('positions avec plusieurs stations associées : \\n')\n",
    "data2.loc[ecart_stat,['coordonneesXY', 'id_station_itinerance', 'nom_station']]"
   ]
  },
  {
   "cell_type": "markdown",
   "metadata": {},
   "source": [
    "-----------------------\n",
    "# Annexe : Initialisation du modèle de données 'mermaid'"
   ]
  },
  {
   "cell_type": "code",
   "execution_count": 6,
   "metadata": {},
   "outputs": [],
   "source": [
    "from base64 import b64encode\n",
    "from IPython.display import Image, display\n",
    "\n",
    "def mermaid(graph):\n",
    "  display(Image(url=\"https://mermaid.ink/img/\" + b64encode(graph.encode(\"ascii\")).decode(\"ascii\")))"
   ]
  },
  {
   "cell_type": "code",
   "execution_count": 4,
   "metadata": {},
   "outputs": [],
   "source": [
    "# modèle de données suivant l'application 'mermaid' \n",
    "irve = \"\"\" \n",
    "erDiagram\n",
    "    AMENAGEUR ||..|{ STATION : amenage\n",
    "    AMENAGEUR {\n",
    "        string nom_amenageur\n",
    "        string siren_amenageur\n",
    "        string contact_amenageur \n",
    "    }\n",
    "    OPERATEUR ||..|{ STATION : \"exploite pour le compte de l enseigne\"\n",
    "    OPERATEUR {\n",
    "        string contact_operateur PK \"M\"\n",
    "        string nom_operateur \n",
    "        string telephone_operateur \n",
    "    }\n",
    "    ENSEIGNE ||..|{ STATION : \"heberge\"\n",
    "    ENSEIGNE {\n",
    "        string nom_enseigne PK \"M\" \n",
    "    }\n",
    "    STATION {\n",
    "        string  id_station_itinerance PK \"M\"\n",
    "        string  nom_station \"M\"\n",
    "        enum    implantation_station \"M\"\n",
    "        integer nbre_pdc \"M\"\n",
    "        string  condition_acces \"M\"\n",
    "        string  horaires \"M\"\n",
    "        boolean station_deux_roues \"M\"\n",
    "        string  id_station_local\n",
    "        enum    raccordement\n",
    "        string  num_pdl\n",
    "        date    date_mise_en_service \n",
    "    }\n",
    "    LOCALISATION ||--|{ STATION : \"localise\"\n",
    "    LOCALISATION {\n",
    "       array   coordonneesXY PK \"M\"\n",
    "       string  adresse_station \"M\"\n",
    "       string  code_insee_commune \n",
    "    }\n",
    "    STATION ||--|{ POINT_DE_CHARGE : regroupe\n",
    "    POINT_DE_CHARGE {\n",
    "        string id_pdc_itinerance PK \"M Root\"\n",
    "        number puissance_nominale \"M\"\n",
    "        boolean prise_type_ef \"M\"\n",
    "        boolean prise_type_2 \"M\"\n",
    "        boolean prise_type_2combo_ccs \"M\"\n",
    "        boolean prise_type_chademo \"M\"\n",
    "        boolean prise_type_autre \"M\"\n",
    "        boolean paiement_acte \"M\"\n",
    "        boolean paiement_autre \"M\"\n",
    "        boolean reservation \"M\"\n",
    "        enum    accessibilite_pmr \"M\"\n",
    "        string  restriction_gabarit \"M\"\n",
    "        date    date_maj \"M\"\n",
    "        string  id_pdc_local\n",
    "        boolean gratuit\n",
    "        boolean paiement_cb\n",
    "        string  tarification\n",
    "        string  observations\n",
    "        boolean cable_t2_attache \n",
    "    }\n",
    "\"\"\""
   ]
  }
 ],
 "metadata": {
  "celltoolbar": "Format de la Cellule Texte Brut",
  "kernelspec": {
   "display_name": "Python 3 (ipykernel)",
   "language": "python",
   "name": "python3"
  },
  "language_info": {
   "codemirror_mode": {
    "name": "ipython",
    "version": 3
   },
   "file_extension": ".py",
   "mimetype": "text/x-python",
   "name": "python",
   "nbconvert_exporter": "python",
   "pygments_lexer": "ipython3",
   "version": "3.10.9"
  }
 },
 "nbformat": 4,
 "nbformat_minor": 4
}
