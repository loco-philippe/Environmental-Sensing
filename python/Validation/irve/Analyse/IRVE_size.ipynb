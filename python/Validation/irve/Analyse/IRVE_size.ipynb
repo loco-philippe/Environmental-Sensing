{
 "cells": [
  {
   "cell_type": "code",
   "execution_count": 4,
   "id": "f3b9fadb",
   "metadata": {},
   "outputs": [],
   "source": [
    "from datetime import datetime\n",
    "import pathlib\n",
    "import json\n",
    "from tab_dataset import Sdataset\n",
    "import pandas as pd\n",
    "import ntv_pandas as npd\n",
    "from ntv_pandas.pandas_ntv_connector import to_analysis\n",
    "from time import time\n",
    "from tab_analysis import AnaDataset\n",
    "from ntv_pandas.pandas_ntv_connector import SeriesConnec, PdUtil\n",
    "from json_ntv import Ntv"
   ]
  },
  {
   "cell_type": "code",
   "execution_count": 5,
   "id": "36d19a7c",
   "metadata": {},
   "outputs": [
    {
     "name": "stdout",
     "output_type": "stream",
     "text": [
      "nombre de lignes :  62200\n"
     ]
    }
   ],
   "source": [
    "date= '2024-02-07'\n",
    "#chemin = 'D:\\\\philippe\\\\python ESstandard\\\\Environmental-Sensing\\\\python\\\\Validation\\\\irve\\\\Analyse\\\\'\n",
    "#chemin = 'C:\\\\Users\\\\phili\\\\github\\\\Environmental-Sensing\\\\python\\\\Validation\\\\irve\\\\Analyse\\\\'\n",
    "chemin = str(pathlib.Path(npd.__file__).parent.parent.parent/\"Environmental-Sensing\"/\"python\"/\"Validation\"/\"irve\"/\"Analyse\")\n",
    "irve = pd.read_csv(chemin + '/' + 'IRVE_itinerance_valide' + date +'.csv', low_memory=False)\n",
    "print('nombre de lignes : ', len(irve)) "
   ]
  },
  {
   "cell_type": "code",
   "execution_count": 6,
   "id": "70cd1c93",
   "metadata": {},
   "outputs": [],
   "source": [
    "del irve['Unnamed: 0']"
   ]
  },
  {
   "cell_type": "code",
   "execution_count": 7,
   "id": "904f7f7f",
   "metadata": {},
   "outputs": [
    {
     "data": {
      "text/plain": [
       "Index(['index', 'nom_amenageur', 'siren_amenageur', 'contact_amenageur',\n",
       "       'nom_operateur', 'contact_operateur', 'telephone_operateur',\n",
       "       'nom_enseigne', 'id_station_itinerance', 'id_station_local',\n",
       "       'nom_station', 'implantation_station', 'adresse_station',\n",
       "       'code_insee_commune', 'coordonneesXY', 'nbre_pdc', 'id_pdc_itinerance',\n",
       "       'id_pdc_local', 'puissance_nominale', 'prise_type_ef', 'prise_type_2',\n",
       "       'prise_type_combo_ccs', 'prise_type_chademo', 'prise_type_autre',\n",
       "       'gratuit', 'paiement_acte', 'paiement_cb', 'paiement_autre',\n",
       "       'tarification', 'condition_acces', 'reservation', 'horaires',\n",
       "       'accessibilite_pmr', 'restriction_gabarit', 'station_deux_roues',\n",
       "       'raccordement', 'num_pdl', 'date_mise_en_service', 'observations',\n",
       "       'date_maj', 'cable_t2_attache', 'last_modified', 'datagouv_dataset_id',\n",
       "       'datagouv_resource_id', 'datagouv_organization_or_owner', 'created_at',\n",
       "       'consolidated_longitude', 'consolidated_latitude',\n",
       "       'consolidated_code_postal', 'consolidated_commune',\n",
       "       'consolidated_is_lon_lat_correct',\n",
       "       'consolidated_is_code_insee_verified', 'non_concerne',\n",
       "       'doublons_stat_maj', 'doublons_pdc', 'lignes_a_corriger',\n",
       "       'doublons_a_supprimer', 'lignes_ko'],\n",
       "      dtype='object')"
      ]
     },
     "execution_count": 7,
     "metadata": {},
     "output_type": "execute_result"
    }
   ],
   "source": [
    "irve.columns"
   ]
  },
  {
   "cell_type": "code",
   "execution_count": 8,
   "id": "9ccd4fc2",
   "metadata": {},
   "outputs": [
    {
     "name": "stdout",
     "output_type": "stream",
     "text": [
      "1.4514503479003906 18.679101705551147 30.75283646583557 8.402432680130005\n"
     ]
    }
   ],
   "source": [
    "t0 = time()\n",
    "dts = Sdataset(irve) # 1.45\n",
    "t1 = time()\n",
    "dic2 = dts.to_analysis() # 18.7\n",
    "t11 = time()\n",
    "tr = dts.tree() # 30.7\n",
    "t2 = time()\n",
    "tr = dts.tree() # 8.4\n",
    "print(t1-t0, t11-t1, t2-t11, time()-t2)"
   ]
  },
  {
   "cell_type": "code",
   "execution_count": 9,
   "id": "b792f1a1",
   "metadata": {},
   "outputs": [
    {
     "name": "stdout",
     "output_type": "stream",
     "text": [
      "9.343283891677856 8.033559083938599\n"
     ]
    }
   ],
   "source": [
    "t0 = time()\n",
    "anapd = irve.npd.analysis() # 9.3\n",
    "t1 = time()\n",
    "tr = anapd.tree() # 8.0\n",
    "print(t1-t0, time()-t1)"
   ]
  },
  {
   "cell_type": "code",
   "execution_count": 10,
   "id": "520e8099",
   "metadata": {},
   "outputs": [
    {
     "name": "stdout",
     "output_type": "stream",
     "text": [
      "127.70713019371033 24.543725728988647\n"
     ]
    },
    {
     "data": {
      "text/plain": [
       "58991081"
      ]
     },
     "execution_count": 10,
     "metadata": {},
     "output_type": "execute_result"
    }
   ],
   "source": [
    "t0 = time()\n",
    "ntv = dts.to_ntv(modecodec='full') # 127.7\n",
    "t1 = time()\n",
    "js = ntv.to_obj(encoded=True) # 24.5\n",
    "print(t1-t0, time()-t1)\n",
    "len(js)"
   ]
  },
  {
   "cell_type": "code",
   "execution_count": 11,
   "id": "02848c0c",
   "metadata": {},
   "outputs": [
    {
     "data": {
      "text/plain": [
       "18140435"
      ]
     },
     "execution_count": 11,
     "metadata": {},
     "output_type": "execute_result"
    }
   ],
   "source": [
    "ntv = dts.to_ntv(modecodec='default')\n",
    "js = ntv.to_obj(encoded=True)\n",
    "len(js)"
   ]
  },
  {
   "cell_type": "code",
   "execution_count": 21,
   "id": "fa1cbe2f",
   "metadata": {},
   "outputs": [
    {
     "data": {
      "text/plain": [
       "Sdataset[62200, 58]"
      ]
     },
     "execution_count": 21,
     "metadata": {},
     "output_type": "execute_result"
    }
   ],
   "source": [
    "dts.setcanonorder()"
   ]
  },
  {
   "cell_type": "code",
   "execution_count": 12,
   "id": "4ff44f3a",
   "metadata": {},
   "outputs": [
    {
     "data": {
      "text/plain": [
       "14624423"
      ]
     },
     "execution_count": 12,
     "metadata": {},
     "output_type": "execute_result"
    }
   ],
   "source": [
    "ntv = dts.to_ntv()\n",
    "js = ntv.to_obj(encoded=True)\n",
    "len(js)"
   ]
  },
  {
   "cell_type": "code",
   "execution_count": 13,
   "id": "47a53f13",
   "metadata": {},
   "outputs": [
    {
     "data": {
      "text/plain": [
       "8266175"
      ]
     },
     "execution_count": 13,
     "metadata": {},
     "output_type": "execute_result"
    }
   ],
   "source": [
    "js = ntv.to_obj(encoded=True, format='cbor')\n",
    "len(js)"
   ]
  },
  {
   "cell_type": "code",
   "execution_count": 14,
   "id": "fc36aa8b",
   "metadata": {},
   "outputs": [
    {
     "name": "stdout",
     "output_type": "stream",
     "text": [
      "0.48236894607543945\n"
     ]
    },
    {
     "data": {
      "text/plain": [
       "79072757"
      ]
     },
     "execution_count": 14,
     "metadata": {},
     "output_type": "execute_result"
    }
   ],
   "source": [
    "t0 = time()\n",
    "pdjs = irve.to_json() # 0.49\n",
    "print(time()-t0)\n",
    "len(pdjs)"
   ]
  },
  {
   "cell_type": "code",
   "execution_count": 15,
   "id": "22172ba3",
   "metadata": {},
   "outputs": [
    {
     "data": {
      "text/plain": [
       "50979536"
      ]
     },
     "execution_count": 15,
     "metadata": {},
     "output_type": "execute_result"
    }
   ],
   "source": [
    "pdjs = irve.to_json(orient='values')\n",
    "len(pdjs)"
   ]
  },
  {
   "cell_type": "code",
   "execution_count": 16,
   "id": "a2ce969b",
   "metadata": {},
   "outputs": [
    {
     "name": "stdout",
     "output_type": "stream",
     "text": [
      "1.3890106678009033\n",
      "0.0004982948303222656 0.6277337074279785\n"
     ]
    }
   ],
   "source": [
    "t0 = time()\n",
    "srs = irve[irve.columns[1]]\n",
    "js = SeriesConnec.to_json_ntv(PdUtil.unic(srs))[0]\n",
    "t1 = time()\n",
    "print(t1-t0) # 1.39\n",
    "ntv_type = 'json'\n",
    "ntv_val = PdUtil.ntv_val(ntv_type, srs)\n",
    "t2 = time()\n",
    "ntv_value = Ntv.from_obj(ntv_val, def_type=ntv_type).ntv_value\n",
    "t3 = time()\n",
    "print(t2-t1, t3-t2)  # 0.0 0.63\n"
   ]
  },
  {
   "cell_type": "code",
   "execution_count": 17,
   "id": "8e1cfbaa",
   "metadata": {},
   "outputs": [
    {
     "name": "stdout",
     "output_type": "stream",
     "text": [
      "157.92333483695984\n"
     ]
    },
    {
     "data": {
      "text/plain": [
       "1"
      ]
     },
     "execution_count": 17,
     "metadata": {},
     "output_type": "execute_result"
    }
   ],
   "source": [
    "t0 = time()\n",
    "pdjs = irve.npd.to_json() # 157.9\n",
    "print(time()-t0)\n",
    "len(pdjs)"
   ]
  },
  {
   "cell_type": "code",
   "execution_count": 18,
   "id": "c4caed33",
   "metadata": {},
   "outputs": [
    {
     "name": "stdout",
     "output_type": "stream",
     "text": [
      "0.06272411346435547 88.6942343711853 50.25679683685303 21.90287733078003 0.5794548988342285\n"
     ]
    }
   ],
   "source": [
    "t0 = time()\n",
    "value = irve\n",
    "df2 = value.reset_index() # 0.06\n",
    "t1 = time()\n",
    "lis = [SeriesConnec.to_json_ntv(PdUtil.unic(df2[col]))[0] for col in df2.columns] # 88.7\n",
    "t2 = time()\n",
    "ntv = Ntv.obj(lis) # 50.26\n",
    "t3 = time()\n",
    "jsn = ntv.to_obj() # 21.9\n",
    "t4 = time()\n",
    "txt = json.dumps(jsn) # 0.58\n",
    "t5 = time()\n",
    "print(t1-t0, t2-t1, t3-t2, t4-t3, t5-t4)"
   ]
  },
  {
   "cell_type": "code",
   "execution_count": 19,
   "id": "118d6a42",
   "metadata": {},
   "outputs": [
    {
     "name": "stdout",
     "output_type": "stream",
     "text": [
      "166.30137634277344\n"
     ]
    },
    {
     "data": {
      "text/plain": [
       "51860188"
      ]
     },
     "execution_count": 19,
     "metadata": {},
     "output_type": "execute_result"
    }
   ],
   "source": [
    "t0 = time()\n",
    "pdjs = irve.npd.to_json(encoded=True)\n",
    "print(time()-t0) # 166.3\n",
    "len(pdjs) # 51.86"
   ]
  },
  {
   "cell_type": "code",
   "execution_count": 20,
   "id": "c17d2ac2",
   "metadata": {},
   "outputs": [
    {
     "name": "stdout",
     "output_type": "stream",
     "text": [
      "224.31744623184204\n"
     ]
    },
    {
     "data": {
      "text/plain": [
       "19447887"
      ]
     },
     "execution_count": 20,
     "metadata": {},
     "output_type": "execute_result"
    }
   ],
   "source": [
    "irve_cat = irve.astype(\"category\")\n",
    "t0 = time()\n",
    "pdjs = irve_cat.npd.to_json(encoded=True) # 224.31\n",
    "print(time()-t0)\n",
    "len(pdjs) # 19.45"
   ]
  },
  {
   "cell_type": "markdown",
   "id": "a7115dfd",
   "metadata": {},
   "source": [
    "### synthèse\n",
    "- csv : 43.5\n",
    "\n",
    "\n",
    "- pandas (default): 80.6 - 79.1\n",
    "- pandas (values) : 51.8 - 51\n",
    "\n",
    "\n",
    "- npd full : 52.7 - 51.86\n",
    "- npd cat : 20.2 - 19.45\n",
    "\n",
    "\n",
    "- Ntv full : 59.4 - 59\n",
    "- Ntv default : 18.9 - 18.1\n",
    "- Ntv optimized : 14.9 - 14.6\n",
    "- cbor optimized : 8.6 - 8.3\n",
    "\n",
    "\n",
    "- parquet : 2.4"
   ]
  }
 ],
 "metadata": {
  "kernelspec": {
   "display_name": "Python 3 (ipykernel)",
   "language": "python",
   "name": "python3"
  },
  "language_info": {
   "codemirror_mode": {
    "name": "ipython",
    "version": 3
   },
   "file_extension": ".py",
   "mimetype": "text/x-python",
   "name": "python",
   "nbconvert_exporter": "python",
   "pygments_lexer": "ipython3",
   "version": "3.12.4"
  }
 },
 "nbformat": 4,
 "nbformat_minor": 5
}
