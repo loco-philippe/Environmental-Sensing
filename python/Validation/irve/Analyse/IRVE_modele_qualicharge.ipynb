{
 "cells": [
  {
   "cell_type": "markdown",
   "id": "d75b6d1f-39b0-4d44-a6e5-f71ce31475c2",
   "metadata": {},
   "source": [
    "# Modele IRVE - schema qualicharge"
   ]
  },
  {
   "cell_type": "code",
   "execution_count": 18,
   "id": "cfc08c44",
   "metadata": {},
   "outputs": [],
   "source": [
    "from base64 import b64encode\n",
    "from IPython.display import Image, display\n",
    "with open('IRVE_modele_qualicharge.txt', 'r', encoding=\"utf-8\") as f:\n",
    "    irve = f.read()"
   ]
  },
  {
   "cell_type": "code",
   "execution_count": 19,
   "id": "b84f50d6",
   "metadata": {},
   "outputs": [
    {
     "data": {
      "text/html": [
       "<img src=\"https://mermaid.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\"/>"
      ],
      "text/plain": [
       "<IPython.core.display.Image object>"
      ]
     },
     "metadata": {},
     "output_type": "display_data"
    }
   ],
   "source": [
    "display(Image(url=\"https://mermaid.ink/img/\" + b64encode(irve.encode(\"ascii\")).decode(\"ascii\")))"
   ]
  }
 ],
 "metadata": {
  "kernelspec": {
   "display_name": "Python 3 (ipykernel)",
   "language": "python",
   "name": "python3"
  },
  "language_info": {
   "codemirror_mode": {
    "name": "ipython",
    "version": 3
   },
   "file_extension": ".py",
   "mimetype": "text/x-python",
   "name": "python",
   "nbconvert_exporter": "python",
   "pygments_lexer": "ipython3",
   "version": "3.11.8"
  }
 },
 "nbformat": 4,
 "nbformat_minor": 5
}
