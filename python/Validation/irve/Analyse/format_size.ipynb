{
 "cells": [
  {
   "cell_type": "code",
   "execution_count": 1,
   "id": "283c1b35",
   "metadata": {},
   "outputs": [],
   "source": [
    "from datetime import datetime\n",
    "import json\n",
    "from tab_dataset import Sdataset\n",
    "import pandas as pd\n",
    "import ntv_pandas as npd\n",
    "from ntv_pandas.pandas_ntv_connector import to_analysis\n",
    "from time import time"
   ]
  },
  {
   "cell_type": "code",
   "execution_count": 2,
   "id": "90007817",
   "metadata": {},
   "outputs": [
    {
     "name": "stdout",
     "output_type": "stream",
     "text": [
      "nombre de lignes :  63789\n"
     ]
    }
   ],
   "source": [
    "date= '2023-12-14'\n",
    "chemin = 'D:\\\\philippe\\\\python ESstandard\\\\Environmental-Sensing\\\\python\\\\Validation\\\\irve\\\\Analyse\\\\'\n",
    "irve = pd.read_csv(chemin + 'IRVE_itinerance_valide' + date +'.csv', low_memory=False)\n",
    "print('nombre de lignes : ', len(irve)) "
   ]
  },
  {
   "cell_type": "code",
   "execution_count": 3,
   "id": "30ec6e5d",
   "metadata": {},
   "outputs": [],
   "source": [
    "del irve['Unnamed: 0']"
   ]
  },
  {
   "cell_type": "code",
   "execution_count": null,
   "id": "2f179743",
   "metadata": {},
   "outputs": [],
   "source": [
    "irve.columns"
   ]
  },
  {
   "cell_type": "code",
   "execution_count": null,
   "id": "8cdf93b9",
   "metadata": {},
   "outputs": [],
   "source": [
    "t0 = time()\n",
    "dts = Sdataset(irve) # 1.52\n",
    "t1 = time()\n",
    "#print(dts.tree())\n",
    "tr = dts.tree() # 35.96\n",
    "t2 = time()\n",
    "tr = dts.tree() # 12.35\n",
    "print(t1-t0, t2-t1, time()-t2)"
   ]
  },
  {
   "cell_type": "code",
   "execution_count": 4,
   "id": "9e4bb43c",
   "metadata": {},
   "outputs": [
    {
     "name": "stdout",
     "output_type": "stream",
     "text": [
      "0.4047822952270508\n",
      "0.07418465614318848\n",
      "0.2524278163909912\n",
      "72.17189836502075\n",
      "72.70309257507324\n"
     ]
    }
   ],
   "source": [
    "t0 = time()\n",
    "dic = to_analysis(irve) # 73.73\n",
    "t1 = time()\n",
    "print(t1-t0)"
   ]
  },
  {
   "cell_type": "code",
   "execution_count": null,
   "id": "536d7773",
   "metadata": {},
   "outputs": [],
   "source": [
    "t0 = time()\n",
    "ana = irve.npd.analysis() # 74.37\n",
    "t1 = time()\n",
    "tr = ana.tree()\n",
    "t2 = time()\n",
    "#tr =  irve.npd.analysis().tree()\n",
    "print(t1-t0, t2-t1) #, time()-t1)"
   ]
  },
  {
   "cell_type": "code",
   "execution_count": null,
   "id": "2c3e5365",
   "metadata": {},
   "outputs": [],
   "source": [
    "t0 = time()\n",
    "ntv = dts.to_ntv(modecodec='full') # 103.4\n",
    "t1 = time()\n",
    "js = ntv.to_obj(encoded=True) # 18.9\n",
    "print(t1-t0, time()-t1)\n",
    "len(js)"
   ]
  },
  {
   "cell_type": "code",
   "execution_count": null,
   "id": "333aaa7d",
   "metadata": {},
   "outputs": [],
   "source": [
    "ntv = dts.to_ntv(modecodec='default')\n",
    "js = ntv.to_obj(encoded=True)\n",
    "len(js)"
   ]
  },
  {
   "cell_type": "code",
   "execution_count": null,
   "id": "7958dae4",
   "metadata": {},
   "outputs": [],
   "source": [
    "ntv = dts.to_ntv()\n",
    "js = ntv.to_obj(encoded=True)\n",
    "len(js)"
   ]
  },
  {
   "cell_type": "code",
   "execution_count": null,
   "id": "5710788b",
   "metadata": {},
   "outputs": [],
   "source": [
    "js = ntv.to_obj(encoded=True, format='cbor')\n",
    "len(js)"
   ]
  },
  {
   "cell_type": "code",
   "execution_count": null,
   "id": "bacd52c8",
   "metadata": {},
   "outputs": [],
   "source": [
    "t0 = time()\n",
    "pdjs = irve.to_json() # 0.49\n",
    "print(time()-t0)\n",
    "len(pdjs)"
   ]
  },
  {
   "cell_type": "code",
   "execution_count": null,
   "id": "0f33f917",
   "metadata": {},
   "outputs": [],
   "source": [
    "pdjs = irve.to_json(orient='values')\n",
    "len(pdjs)"
   ]
  },
  {
   "cell_type": "code",
   "execution_count": null,
   "id": "5346b9b6",
   "metadata": {},
   "outputs": [],
   "source": [
    "t0 = time()\n",
    "pdjs = irve.npd.to_json() # 160.38\n",
    "print(time()-t0)\n",
    "len(pdjs)"
   ]
  },
  {
   "cell_type": "code",
   "execution_count": null,
   "id": "6b3c8090",
   "metadata": {},
   "outputs": [],
   "source": [
    "from ntv_pandas.pandas_ntv_connector import SeriesConnec, PdUtil\n",
    "from json_ntv import Ntv\n",
    "\n",
    "t0 = time()\n",
    "value = irve\n",
    "df2 = value.reset_index() # 0.06\n",
    "t1 = time()\n",
    "lis = [SeriesConnec.to_json_ntv(PdUtil.unic(df2[col]))[0] for col in df2.columns] # 83.45\n",
    "t2 = time()\n",
    "ntv = Ntv.obj(lis) # 48.23\n",
    "t3 = time()\n",
    "jsn = ntv.to_obj() # 16.98\n",
    "t4 = time()\n",
    "txt = json.dumps(jsn) # 0.5\n",
    "t5 = time()\n",
    "print(t1-t0, t2-t1, t3-t2, t4-t3, t5-t4)"
   ]
  },
  {
   "cell_type": "code",
   "execution_count": null,
   "id": "0ed861be",
   "metadata": {},
   "outputs": [],
   "source": [
    "t0 = time()\n",
    "pdjs = irve.npd.to_json(encoded=True)\n",
    "print(time()-t0) # 149.99\n",
    "len(pdjs)"
   ]
  },
  {
   "cell_type": "code",
   "execution_count": null,
   "id": "da0e0262",
   "metadata": {},
   "outputs": [],
   "source": [
    "irve_cat = irve.astype(\"category\")\n",
    "t0 = time()\n",
    "pdjs = irve_cat.npd.to_json(encoded=True) # 192.4\n",
    "print(time()-t0)\n",
    "len(pdjs)"
   ]
  },
  {
   "cell_type": "markdown",
   "id": "c2084284",
   "metadata": {},
   "source": [
    "### synthèse\n",
    "- csv : 43.5\n",
    "\n",
    "\n",
    "- pandas (default): 80.6\n",
    "- pandas (values) : 51.8\n",
    "\n",
    "\n",
    "- npd full : 52.7\n",
    "- npd cat : 20.2\n",
    "\n",
    "\n",
    "- Ntv full : 59.4\n",
    "- Ntv default : 18.9\n",
    "- Ntv optimized : 14.9\n",
    "- cbor optimized : 8.6\n",
    "\n",
    "\n",
    "- parquet : 2.4"
   ]
  }
 ],
 "metadata": {
  "kernelspec": {
   "display_name": "Python 3 (ipykernel)",
   "language": "python",
   "name": "python3"
  },
  "language_info": {
   "codemirror_mode": {
    "name": "ipython",
    "version": 3
   },
   "file_extension": ".py",
   "mimetype": "text/x-python",
   "name": "python",
   "nbconvert_exporter": "python",
   "pygments_lexer": "ipython3",
   "version": "3.10.9"
  }
 },
 "nbformat": 4,
 "nbformat_minor": 5
}
