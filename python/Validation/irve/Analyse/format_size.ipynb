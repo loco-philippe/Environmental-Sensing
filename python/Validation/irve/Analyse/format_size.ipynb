{
 "cells": [
  {
   "cell_type": "code",
   "execution_count": 1,
   "id": "8f95c1d6",
   "metadata": {},
   "outputs": [],
   "source": [
    "from datetime import datetime\n",
    "import json\n",
    "from tab_dataset import Sdataset\n",
    "import pandas as pd\n",
    "import ntv_pandas as npd"
   ]
  },
  {
   "cell_type": "code",
   "execution_count": 2,
   "id": "0c9f4106",
   "metadata": {},
   "outputs": [
    {
     "name": "stdout",
     "output_type": "stream",
     "text": [
      "nombre de lignes :  63789\n"
     ]
    }
   ],
   "source": [
    "date= '2023-12-14'\n",
    "chemin = 'D:\\\\philippe\\\\python ESstandard\\\\Environmental-Sensing\\\\python\\\\Validation\\\\irve\\\\Analyse\\\\'\n",
    "irve = pd.read_csv(chemin + 'IRVE_itinerance_valide' + date +'.csv', low_memory=False)\n",
    "print('nombre de lignes : ', len(irve)) "
   ]
  },
  {
   "cell_type": "code",
   "execution_count": 3,
   "id": "ac2f0365",
   "metadata": {},
   "outputs": [],
   "source": [
    "del irve['Unnamed: 0']"
   ]
  },
  {
   "cell_type": "code",
   "execution_count": 4,
   "id": "33e75bb3",
   "metadata": {},
   "outputs": [
    {
     "data": {
      "text/plain": [
       "Index(['index', 'nom_amenageur', 'siren_amenageur', 'contact_amenageur',\n",
       "       'nom_operateur', 'contact_operateur', 'telephone_operateur',\n",
       "       'nom_enseigne', 'id_station_itinerance', 'id_station_local',\n",
       "       'nom_station', 'implantation_station', 'adresse_station',\n",
       "       'code_insee_commune', 'coordonneesXY', 'nbre_pdc', 'id_pdc_itinerance',\n",
       "       'id_pdc_local', 'puissance_nominale', 'prise_type_ef', 'prise_type_2',\n",
       "       'prise_type_combo_ccs', 'prise_type_chademo', 'prise_type_autre',\n",
       "       'gratuit', 'paiement_acte', 'paiement_cb', 'paiement_autre',\n",
       "       'tarification', 'condition_acces', 'reservation', 'horaires',\n",
       "       'accessibilite_pmr', 'restriction_gabarit', 'station_deux_roues',\n",
       "       'raccordement', 'num_pdl', 'date_mise_en_service', 'observations',\n",
       "       'date_maj', 'cable_t2_attache', 'last_modified', 'datagouv_dataset_id',\n",
       "       'datagouv_resource_id', 'datagouv_organization_or_owner', 'created_at',\n",
       "       'consolidated_longitude', 'consolidated_latitude',\n",
       "       'consolidated_code_postal', 'consolidated_commune',\n",
       "       'consolidated_is_lon_lat_correct',\n",
       "       'consolidated_is_code_insee_verified', 'non_concerne',\n",
       "       'doublons_stat_maj', 'doublons_pdc', 'lignes_a_corriger',\n",
       "       'doublons_a_supprimer', 'lignes_ko'],\n",
       "      dtype='object')"
      ]
     },
     "execution_count": 4,
     "metadata": {},
     "output_type": "execute_result"
    }
   ],
   "source": [
    "irve.columns"
   ]
  },
  {
   "cell_type": "code",
   "execution_count": 5,
   "id": "ff50a280",
   "metadata": {},
   "outputs": [
    {
     "data": {
      "text/plain": [
       "'-1: root-derived (63789)\\n   0 : index (0 - 63789)\\n   1 : nom_amenageur (61283 - 2506)\\n   2 : siren_amenageur (63282 - 507)\\n   4 : nom_operateur (63675 - 114)\\n   6 : telephone_operateur (63661 - 128)\\n   8 : id_station_itineranc (33852 - 29937)\\n      7 : nom_enseigne (26477 - 3460)\\n      9 : id_station_local (10485 - 19452)\\n      10: nom_station (10202 - 19735)\\n      11: implantation_station (29932 - 5)\\n      14: coordonneesXY (10173 - 19764)\\n         3 : contact_amenageur (19528 - 236)\\n         5 : contact_operateur (19636 - 128)\\n         12: adresse_station (748 - 19016)\\n         46: consolidated_longitu (364 - 19400)\\n         47: consolidated_latitud (408 - 19356)\\n      15: nbre_pdc (29883 - 54)\\n      27: paiement_autre (29930 - 7)\\n      29: condition_acces (29935 - 2)\\n      31: horaires (29450 - 487)\\n      33: restriction_gabarit (29848 - 89)\\n      34: station_deux_roues (29931 - 6)\\n      35: raccordement (29935 - 2)\\n      41: last_modified (29509 - 428)\\n         43: datagouv_resource_id (0 - 428)\\n         45: created_at (0 - 428)\\n         42: datagouv_dataset_id (44 - 384)\\n            44: datagouv_organizatio (281 - 103)\\n   13: code_insee_commune (58618 - 5171)\\n   16: id_pdc_itinerance (0 - 63789)\\n   17: id_pdc_local (26525 - 37264)\\n   18: puissance_nominale (63683 - 106)\\n   19: prise_type_ef (63781 - 8)\\n   20: prise_type_2 (63782 - 7)\\n   21: prise_type_combo_ccs (63782 - 7)\\n   22: prise_type_chademo (63782 - 7)\\n   23: prise_type_autre (63783 - 6)\\n   24: gratuit (63782 - 7)\\n   25: paiement_acte (63781 - 8)\\n   26: paiement_cb (63782 - 7)\\n   28: tarification (63632 - 157)\\n   30: reservation (63782 - 7)\\n   32: accessibilite_pmr (63785 - 4)\\n   36: num_pdl (61542 - 2247)\\n   37: date_mise_en_service (61274 - 2515)\\n   38: observations (63726 - 63)\\n   39: date_maj (53141 - 10648)\\n   40: cable_t2_attache (63782 - 7)\\n   48: consolidated_code_po (60636 - 3153)\\n   49: consolidated_commune (58897 - 4892)\\n   50: consolidated_is_lon_ (63787 - 2)\\n   51: consolidated_is_code (63787 - 2)\\n   52: non_concerne (63788 - 1)\\n   53: doublons_stat_maj (63788 - 1)\\n   54: doublons_pdc (63788 - 1)\\n   55: lignes_a_corriger (63788 - 1)\\n   56: doublons_a_supprimer (63788 - 1)\\n   57: lignes_ko (63788 - 1)'"
      ]
     },
     "execution_count": 5,
     "metadata": {},
     "output_type": "execute_result"
    }
   ],
   "source": [
    "dts = Sdataset(irve)\n",
    "print(dts.tree())"
   ]
  },
  {
   "cell_type": "code",
   "execution_count": 7,
   "id": "a59e742d",
   "metadata": {},
   "outputs": [
    {
     "data": {
      "text/plain": [
       "59415199"
      ]
     },
     "execution_count": 7,
     "metadata": {},
     "output_type": "execute_result"
    }
   ],
   "source": [
    "ntv = dts.to_ntv(modecodec='full')\n",
    "js = ntv.to_obj(encoded=True)\n",
    "len(js)"
   ]
  },
  {
   "cell_type": "code",
   "execution_count": 8,
   "id": "7fdafdf6",
   "metadata": {},
   "outputs": [
    {
     "data": {
      "text/plain": [
       "18943428"
      ]
     },
     "execution_count": 8,
     "metadata": {},
     "output_type": "execute_result"
    }
   ],
   "source": [
    "ntv = dts.to_ntv(modecodec='default')\n",
    "js = ntv.to_obj(encoded=True)\n",
    "len(js)"
   ]
  },
  {
   "cell_type": "code",
   "execution_count": 9,
   "id": "546ed071",
   "metadata": {},
   "outputs": [
    {
     "data": {
      "text/plain": [
       "14933371"
      ]
     },
     "execution_count": 9,
     "metadata": {},
     "output_type": "execute_result"
    }
   ],
   "source": [
    "ntv = dts.to_ntv()\n",
    "js = ntv.to_obj(encoded=True)\n",
    "len(js)"
   ]
  },
  {
   "cell_type": "code",
   "execution_count": 10,
   "id": "532103b0",
   "metadata": {},
   "outputs": [
    {
     "data": {
      "text/plain": [
       "8564713"
      ]
     },
     "execution_count": 10,
     "metadata": {},
     "output_type": "execute_result"
    }
   ],
   "source": [
    "js = ntv.to_obj(encoded=True, format='cbor')\n",
    "len(js)"
   ]
  },
  {
   "cell_type": "code",
   "execution_count": 11,
   "id": "9083c90d",
   "metadata": {},
   "outputs": [
    {
     "data": {
      "text/plain": [
       "80631200"
      ]
     },
     "execution_count": 11,
     "metadata": {},
     "output_type": "execute_result"
    }
   ],
   "source": [
    "pdjs = irve.to_json()\n",
    "len(pdjs)"
   ]
  },
  {
   "cell_type": "code",
   "execution_count": 12,
   "id": "3a5a58af",
   "metadata": {},
   "outputs": [
    {
     "data": {
      "text/plain": [
       "51803861"
      ]
     },
     "execution_count": 12,
     "metadata": {},
     "output_type": "execute_result"
    }
   ],
   "source": [
    "pdjs = irve.to_json(orient='values')\n",
    "len(pdjs)"
   ]
  },
  {
   "cell_type": "code",
   "execution_count": 13,
   "id": "8563b0a0",
   "metadata": {},
   "outputs": [
    {
     "data": {
      "text/plain": [
       "52724452"
      ]
     },
     "execution_count": 13,
     "metadata": {},
     "output_type": "execute_result"
    }
   ],
   "source": [
    "pdjs = irve.npd.to_json(encoded=True)\n",
    "len(pdjs)"
   ]
  },
  {
   "cell_type": "code",
   "execution_count": 14,
   "id": "2207b590",
   "metadata": {},
   "outputs": [
    {
     "data": {
      "text/plain": [
       "20218041"
      ]
     },
     "execution_count": 14,
     "metadata": {},
     "output_type": "execute_result"
    }
   ],
   "source": [
    "irve_cat = irve.astype(\"category\")\n",
    "pdjs = irve_cat.npd.to_json(encoded=True)\n",
    "len(pdjs)"
   ]
  },
  {
   "cell_type": "markdown",
   "id": "6534c066",
   "metadata": {},
   "source": [
    "### synthèse\n",
    "- csv : 43.5\n",
    "\n",
    "\n",
    "- pandas (default): 80.6\n",
    "- pandas (values) : 51.8\n",
    "\n",
    "\n",
    "- npd full : 52.7\n",
    "- npd cat : 20.2\n",
    "\n",
    "\n",
    "- Ntv full : 59.4\n",
    "- Ntv default : 18.9\n",
    "- Ntv optimized : 14.9\n",
    "- cbor optimized : 8.6\n",
    "\n",
    "\n",
    "- parquet : 2.4"
   ]
  }
 ],
 "metadata": {
  "kernelspec": {
   "display_name": "Python 3 (ipykernel)",
   "language": "python",
   "name": "python3"
  },
  "language_info": {
   "codemirror_mode": {
    "name": "ipython",
    "version": 3
   },
   "file_extension": ".py",
   "mimetype": "text/x-python",
   "name": "python",
   "nbconvert_exporter": "python",
   "pygments_lexer": "ipython3",
   "version": "3.10.9"
  }
 },
 "nbformat": 4,
 "nbformat_minor": 5
}
