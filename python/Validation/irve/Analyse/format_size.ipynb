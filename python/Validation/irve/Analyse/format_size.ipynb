{
 "cells": [
  {
   "cell_type": "code",
   "execution_count": 8,
   "id": "f3b9fadb",
   "metadata": {},
   "outputs": [],
   "source": [
    "from datetime import datetime\n",
    "import json\n",
    "from tab_dataset import Sdataset\n",
    "import pandas as pd\n",
    "import ntv_pandas as npd\n",
    "from ntv_pandas.pandas_ntv_connector import to_analysis\n",
    "from time import time\n",
    "from tab_analysis import AnaDataset\n",
    "from ntv_pandas.pandas_ntv_connector import SeriesConnec, PdUtil\n",
    "from json_ntv import Ntv"
   ]
  },
  {
   "cell_type": "code",
   "execution_count": 3,
   "id": "36d19a7c",
   "metadata": {},
   "outputs": [
    {
     "name": "stdout",
     "output_type": "stream",
     "text": [
      "nombre de lignes :  63789\n"
     ]
    }
   ],
   "source": [
    "date= '2023-12-14'\n",
    "#chemin = 'D:\\\\philippe\\\\python ESstandard\\\\Environmental-Sensing\\\\python\\\\Validation\\\\irve\\\\Analyse\\\\'\n",
    "chemin = 'C:\\\\Users\\\\phili\\\\github\\\\Environmental-Sensing\\\\python\\\\Validation\\\\irve\\\\Analyse\\\\'\n",
    "irve = pd.read_csv(chemin + 'IRVE_itinerance_valide' + date +'.csv', low_memory=False)\n",
    "print('nombre de lignes : ', len(irve)) "
   ]
  },
  {
   "cell_type": "code",
   "execution_count": 4,
   "id": "70cd1c93",
   "metadata": {},
   "outputs": [],
   "source": [
    "del irve['Unnamed: 0']"
   ]
  },
  {
   "cell_type": "code",
   "execution_count": null,
   "id": "904f7f7f",
   "metadata": {},
   "outputs": [],
   "source": [
    "irve.columns"
   ]
  },
  {
   "cell_type": "code",
   "execution_count": 5,
   "id": "9ccd4fc2",
   "metadata": {},
   "outputs": [
    {
     "name": "stdout",
     "output_type": "stream",
     "text": [
      "1.7126102447509766 20.993643522262573 39.07010746002197 13.654747009277344\n"
     ]
    }
   ],
   "source": [
    "t0 = time()\n",
    "dts = Sdataset(irve) # 1.5\n",
    "t1 = time()\n",
    "dic2 = dts.to_analysis() # 19.7\n",
    "t11 = time()\n",
    "tr = dts.tree() # 36\n",
    "t2 = time()\n",
    "tr = dts.tree() # 12.5\n",
    "print(t1-t0, t11-t1, t2-t11, time()-t2)"
   ]
  },
  {
   "cell_type": "code",
   "execution_count": 6,
   "id": "b792f1a1",
   "metadata": {},
   "outputs": [
    {
     "name": "stdout",
     "output_type": "stream",
     "text": [
      "10.69457221031189 12.779489994049072\n"
     ]
    }
   ],
   "source": [
    "t0 = time()\n",
    "anapd = irve.npd.analysis() # 9.8\n",
    "t1 = time()\n",
    "tr = anapd.tree() # 11.7\n",
    "print(t1-t0, time()-t1)"
   ]
  },
  {
   "cell_type": "code",
   "execution_count": null,
   "id": "520e8099",
   "metadata": {},
   "outputs": [],
   "source": [
    "t0 = time()\n",
    "ntv = dts.to_ntv(modecodec='full') # 103.4\n",
    "t1 = time()\n",
    "js = ntv.to_obj(encoded=True) # 18.9\n",
    "print(t1-t0, time()-t1)\n",
    "len(js)"
   ]
  },
  {
   "cell_type": "code",
   "execution_count": null,
   "id": "02848c0c",
   "metadata": {},
   "outputs": [],
   "source": [
    "ntv = dts.to_ntv(modecodec='default')\n",
    "js = ntv.to_obj(encoded=True)\n",
    "len(js)"
   ]
  },
  {
   "cell_type": "code",
   "execution_count": null,
   "id": "4ff44f3a",
   "metadata": {},
   "outputs": [],
   "source": [
    "ntv = dts.to_ntv()\n",
    "js = ntv.to_obj(encoded=True)\n",
    "len(js)"
   ]
  },
  {
   "cell_type": "code",
   "execution_count": null,
   "id": "47a53f13",
   "metadata": {},
   "outputs": [],
   "source": [
    "js = ntv.to_obj(encoded=True, format='cbor')\n",
    "len(js)"
   ]
  },
  {
   "cell_type": "code",
   "execution_count": null,
   "id": "fc36aa8b",
   "metadata": {},
   "outputs": [],
   "source": [
    "t0 = time()\n",
    "pdjs = irve.to_json() # 0.49\n",
    "print(time()-t0)\n",
    "len(pdjs)"
   ]
  },
  {
   "cell_type": "code",
   "execution_count": null,
   "id": "22172ba3",
   "metadata": {},
   "outputs": [],
   "source": [
    "pdjs = irve.to_json(orient='values')\n",
    "len(pdjs)"
   ]
  },
  {
   "cell_type": "code",
   "execution_count": 12,
   "id": "a2ce969b",
   "metadata": {},
   "outputs": [
    {
     "name": "stdout",
     "output_type": "stream",
     "text": [
      "1.7079920768737793\n",
      "0.0 0.7147305011749268\n"
     ]
    }
   ],
   "source": [
    "t0 = time()\n",
    "srs = irve[irve.columns[1]]\n",
    "js = SeriesConnec.to_json_ntv(PdUtil.unic(srs))[0]\n",
    "t1 = time()\n",
    "print(t1-t0)\n",
    "ntv_type = 'json'\n",
    "ntv_val = PdUtil.ntv_val(ntv_type, srs)\n",
    "t2 = time()\n",
    "ntv_value = Ntv.from_obj(ntv_val, def_type=ntv_type).ntv_value\n",
    "t3 = time()\n",
    "print(t2-t1, t3-t2)\n"
   ]
  },
  {
   "cell_type": "code",
   "execution_count": null,
   "id": "8e1cfbaa",
   "metadata": {},
   "outputs": [],
   "source": [
    "t0 = time()\n",
    "pdjs = irve.npd.to_json() # 160.38\n",
    "print(time()-t0)\n",
    "len(pdjs)"
   ]
  },
  {
   "cell_type": "code",
   "execution_count": null,
   "id": "c4caed33",
   "metadata": {},
   "outputs": [],
   "source": [
    "t0 = time()\n",
    "value = irve\n",
    "df2 = value.reset_index() # 0.06\n",
    "t1 = time()\n",
    "lis = [SeriesConnec.to_json_ntv(PdUtil.unic(df2[col]))[0] for col in df2.columns] # 83.45\n",
    "t2 = time()\n",
    "ntv = Ntv.obj(lis) # 48.23\n",
    "t3 = time()\n",
    "jsn = ntv.to_obj() # 16.98\n",
    "t4 = time()\n",
    "txt = json.dumps(jsn) # 0.5\n",
    "t5 = time()\n",
    "print(t1-t0, t2-t1, t3-t2, t4-t3, t5-t4)"
   ]
  },
  {
   "cell_type": "code",
   "execution_count": null,
   "id": "118d6a42",
   "metadata": {},
   "outputs": [],
   "source": [
    "t0 = time()\n",
    "pdjs = irve.npd.to_json(encoded=True)\n",
    "print(time()-t0) # 149.99\n",
    "len(pdjs)"
   ]
  },
  {
   "cell_type": "code",
   "execution_count": null,
   "id": "c17d2ac2",
   "metadata": {},
   "outputs": [],
   "source": [
    "irve_cat = irve.astype(\"category\")\n",
    "t0 = time()\n",
    "pdjs = irve_cat.npd.to_json(encoded=True) # 192.4\n",
    "print(time()-t0)\n",
    "len(pdjs)"
   ]
  },
  {
   "cell_type": "markdown",
   "id": "a7115dfd",
   "metadata": {},
   "source": [
    "### synthèse\n",
    "- csv : 43.5\n",
    "\n",
    "\n",
    "- pandas (default): 80.6\n",
    "- pandas (values) : 51.8\n",
    "\n",
    "\n",
    "- npd full : 52.7\n",
    "- npd cat : 20.2\n",
    "\n",
    "\n",
    "- Ntv full : 59.4\n",
    "- Ntv default : 18.9\n",
    "- Ntv optimized : 14.9\n",
    "- cbor optimized : 8.6\n",
    "\n",
    "\n",
    "- parquet : 2.4"
   ]
  }
 ],
 "metadata": {
  "kernelspec": {
   "display_name": "Python 3 (ipykernel)",
   "language": "python",
   "name": "python3"
  },
  "language_info": {
   "codemirror_mode": {
    "name": "ipython",
    "version": 3
   },
   "file_extension": ".py",
   "mimetype": "text/x-python",
   "name": "python",
   "nbconvert_exporter": "python",
   "pygments_lexer": "ipython3",
   "version": "3.10.9"
  }
 },
 "nbformat": 4,
 "nbformat_minor": 5
}
