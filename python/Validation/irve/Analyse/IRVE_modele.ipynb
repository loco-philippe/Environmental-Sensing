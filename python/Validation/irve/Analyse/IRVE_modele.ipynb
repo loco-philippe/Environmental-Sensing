{
 "cells": [
  {
   "cell_type": "code",
   "execution_count": 2,
   "id": "cfc08c44",
   "metadata": {},
   "outputs": [],
   "source": [
    "from base64 import b64encode\n",
    "from IPython.display import Image, display\n",
    "with open('IRVE_modele.txt', 'r', encoding=\"utf-8\") as f:\n",
    "    irve = f.read()"
   ]
  },
  {
   "cell_type": "code",
   "execution_count": 3,
   "id": "b84f50d6",
   "metadata": {
    "scrolled": false
   },
   "outputs": [
    {
     "data": {
      "text/html": [
       "<img src=\"https://mermaid.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\"/>"
      ],
      "text/plain": [
       "<IPython.core.display.Image object>"
      ]
     },
     "metadata": {},
     "output_type": "display_data"
    }
   ],
   "source": [
    "display(Image(url=\"https://mermaid.ink/img/\" + b64encode(irve.encode(\"ascii\")).decode(\"ascii\")))"
   ]
  },
  {
   "cell_type": "code",
   "execution_count": 1,
   "id": "aa541ea0",
   "metadata": {},
   "outputs": [],
   "source": [
    "irve = \"\"\" \n",
    "erDiagram\n",
    "    AMENAGEUR ||..|{ STATION : amenage\n",
    "    AMENAGEUR {\n",
    "        string nom_amenageur\n",
    "        string siren_amenageur\n",
    "        string contact_amenageur \n",
    "    }\n",
    "    OPERATEUR ||..|{ STATION : \"exploite pour le compte de l enseigne\"\n",
    "    OPERATEUR {\n",
    "        string contact_operateur PK \"M\"\n",
    "        string nom_operateur \n",
    "        string telephone_operateur \n",
    "    }\n",
    "    ENSEIGNE ||..|{ STATION : \"heberge\"\n",
    "    ENSEIGNE {\n",
    "        string nom_enseigne PK \"M\" \n",
    "    }\n",
    "    STATION {\n",
    "        string  id_station_itinerance PK \"M\"\n",
    "        string  nom_station \"M\"\n",
    "        enum    implantation_station \"M\"\n",
    "        integer nbre_pdc \"M\"\n",
    "        string  condition_acces \"M\"\n",
    "        string  horaires \"M\"\n",
    "        boolean station_deux_roues \"M\"\n",
    "        date    date_maj \"M\"\n",
    "        string  id_station_local\n",
    "        enum    raccordement\n",
    "        string  num_pdl\n",
    "        date    date_mise_en_service \n",
    "    }\n",
    "    LOCALISATION ||--|{ STATION : \"localise\"\n",
    "    LOCALISATION {\n",
    "       array   coordonneesXY PK \"M\"\n",
    "       string  adresse_station \"M\"\n",
    "       string  code_insee_commune \n",
    "    }\n",
    "    STATION ||--|{ POINT_DE_CHARGE : regroupe\n",
    "    POINT_DE_CHARGE {\n",
    "        string id_pdc_itinerance PK \"M Root\"\n",
    "        number puissance_nominale \"M\"\n",
    "        boolean prise_type_ef \"M\"\n",
    "        boolean prise_type_2 \"M\"\n",
    "        boolean prise_type_combo_ccs \"M\"\n",
    "        boolean prise_type_chademo \"M\"\n",
    "        boolean prise_type_autre \"M\"\n",
    "        boolean paiement_acte \"M\"\n",
    "        boolean paiement_autre \"M\"\n",
    "        boolean reservation \"M\"\n",
    "        enum    accessibilite_pmr \"M\"\n",
    "        string  restriction_gabarit \"M\"\n",
    "        string  id_pdc_local\n",
    "        boolean gratuit\n",
    "        boolean paiement_cb\n",
    "        string  tarification\n",
    "        string  observations\n",
    "        boolean cable_t2_attache \n",
    "    }\n",
    "\"\"\"\n",
    "with open('IRVE_modele.txt', 'w', encoding=\"utf-8\") as f:\n",
    "    f.write(irve)"
   ]
  }
 ],
 "metadata": {
  "kernelspec": {
   "display_name": "Python 3 (ipykernel)",
   "language": "python",
   "name": "python3"
  },
  "language_info": {
   "codemirror_mode": {
    "name": "ipython",
    "version": 3
   },
   "file_extension": ".py",
   "mimetype": "text/x-python",
   "name": "python",
   "nbconvert_exporter": "python",
   "pygments_lexer": "ipython3",
   "version": "3.10.9"
  }
 },
 "nbformat": 4,
 "nbformat_minor": 5
}
