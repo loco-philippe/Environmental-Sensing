{
 "cells": [
  {
   "cell_type": "markdown",
   "id": "d75b6d1f-39b0-4d44-a6e5-f71ce31475c2",
   "metadata": {},
   "source": [
    "# Modele IRVE - schema statique"
   ]
  },
  {
   "cell_type": "code",
   "execution_count": 7,
   "id": "cfc08c44",
   "metadata": {},
   "outputs": [],
   "source": [
    "from base64 import b64encode\n",
    "from IPython.display import Image, display\n",
    "with open('IRVE_modele.txt', 'r', encoding=\"utf-8\") as f:\n",
    "    irve = f.read()"
   ]
  },
  {
   "cell_type": "code",
   "execution_count": 8,
   "id": "b84f50d6",
   "metadata": {},
   "outputs": [
    {
     "data": {
      "text/html": [
       "<img src=\"https://mermaid.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\"/>"
      ],
      "text/plain": [
       "<IPython.core.display.Image object>"
      ]
     },
     "metadata": {},
     "output_type": "display_data"
    }
   ],
   "source": [
    "display(Image(url=\"https://mermaid.ink/img/\" + b64encode(irve.encode(\"ascii\")).decode(\"ascii\")))"
   ]
  }
 ],
 "metadata": {
  "kernelspec": {
   "display_name": "Python 3 (ipykernel)",
   "language": "python",
   "name": "python3"
  },
  "language_info": {
   "codemirror_mode": {
    "name": "ipython",
    "version": 3
   },
   "file_extension": ".py",
   "mimetype": "text/x-python",
   "name": "python",
   "nbconvert_exporter": "python",
   "pygments_lexer": "ipython3",
   "version": "3.11.8"
  }
 },
 "nbformat": 4,
 "nbformat_minor": 5
}
