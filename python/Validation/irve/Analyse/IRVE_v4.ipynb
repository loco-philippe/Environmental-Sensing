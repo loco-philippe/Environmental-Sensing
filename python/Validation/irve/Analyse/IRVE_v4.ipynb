{
 "cells": [
  {
   "cell_type": "markdown",
   "metadata": {},
   "source": [
    "## *Jeu de données IRVE*\n",
    "-------------------\n",
    "# Analyse des relations entre champs (intégrité des données)\n",
    "------------------------------\n",
    "## Contexte\n",
    "- clarification du rôle des modèles de données dans les jeux de données (cf mise à jour récente des [guides data.gouv](https://guides.etalab.gouv.fr/qualite/documenter-les-donnees/))\n",
    "- intégration d'une propriété \"relationship\" dans les schémas de données ([issue TableSchema](https://github.com/frictionlessdata/specs/issues/803) en cours de validation)\n",
    "- création d'outils de contrôle des relations entre champs des jeux de données tabulaires (cf usage ci-dessous)\n",
    "\n",
    "## Objectifs\n",
    "- valider sur un cas réel l'utilisation d'un modèle de données en complément d'un schéma de données\n",
    "- identifier les apports que pourraient avoir les contrôles de validation des relations entre champs\n",
    "\n",
    "## Résultats\n",
    "- les principaux résultats sont regroupés sur un [tableau de bord](https://nbviewer.org/github/loco-philippe/Environmental-Sensing/blob/main/python/Validation/irve/Analyse/IRVE_indicateurs.ipynb) \n",
    "- la formalisation d'un modèle de données facilite la compréhension des données et des relations entre champs\n",
    "- l'outil de contrôle permet d'améliorer significativement la qualité des données par l'identification d'incohérences de relations\n",
    "- l'identification des incohérences permet de trouver des stratégies de réduction des écarts (dans l'exemple ci-dessous, on passe 36% d'écart à 3,8 %)  \n",
    "- l'analyse des données permet de (re)construire le modèle de données qui minimise les incohérences\n",
    "- les incohérences détectées sur le jeu de données IRVE restent faibles (inférieures à 5 % des point de charge documentés - voir chapitre 4)\n",
    "\n",
    "## Suite à donner\n",
    "- Mettre à jour, valider et publier le modèle de données IRVE\n",
    "- Définir les contrôles supplémentaires à intégrer pour toutes nouvelles données ainsi que pour le jeu complet\n",
    "- Mettre en oeuvre les outils de contrôle\n",
    "\n",
    "## Evolutions possibles \n",
    "- Ajouter dans les guides d'Etalab un guide pour les modèles de données \n",
    "- Intégrer dans les schémas de données la propriété \"relationship\" en cours de validation,\n",
    "- Définir un indicateur qui mesure l'écart (existant / attendu) des relations entre champs\n",
    "\n",
    "## Sommaire\n",
    "*(liens actifs sur jupyter Notebook ou Nbviewer)*\n",
    "- [1 - modèle de données](#1---modèle-de-données)\n",
    "- [2 - Initialisation](#2---Initialisation)\n",
    "- [3 - Séparation des pdc itinerance et hors itinerance](#3---Séparation-des-pdc-itinerance-et-hors-itinerance)\n",
    "- [4 - Bilan initial intégrité](#4---Bilan-initial-intégrité)\n",
    "- [5 - Séparation doublons pdc - date de maj](#5---Séparation-doublons-pdc---date-de-maj)\n",
    "- [6 - Séparation doublons station - date de maj](#6---Séparation-doublons-station---date-de-maj)\n",
    "- [7 - Synthèse](#7---Synthèse)\n",
    "- [8 - Exemples d'erreurs résiduelles](#8---Exemples-d\\'erreurs-résiduelles)\n",
    "\n",
    "Ce Notebook peut être consulté sur [nbviewer](http://nbviewer.org/github/loco-philippe/Environmental-Sensing/tree/main/python/Validation/irve/Analyse)\n",
    "\n",
    "données utilisées : https://www.data.gouv.fr/fr/datasets/fichier-consolide-des-bornes-de-recharge-pour-vehicules-electriques/    \n",
    "fichier : \"*consolidation-etalab-schema-irve-statique-v-2.2.0-2024xxxx.csv*\""
   ]
  },
  {
   "cell_type": "markdown",
   "metadata": {},
   "source": [
    "-----------------------\n",
    "# 1 - modèle de données\n",
    "\n",
    "Le modèle de données proposé ci-dessous est construit sur la base du schéma de données mis à disposition et du contenu du jeu de données.    \n",
    "Il est à consolider en fonction de l'expertise des concepteurs et réutilisateurs (voir [guide méthodologique](https://github.com/loco-philippe/Environmental-Sensing/blob/main/property_relationship/FR_methodology.ipynb)).\n",
    "\n",
    "*Notation:*\n",
    "- *M : Mandatory - documentation obligatoire*\n",
    "- *PK : Primary Key - identifiant unique de l'entité*\n",
    "- *Root : champ fictif associé à une ligne du tableau*"
   ]
  },
  {
   "cell_type": "code",
   "execution_count": 1,
   "metadata": {},
   "outputs": [
    {
     "data": {
      "text/html": [
       "<img src=\"https://mermaid.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\"/>"
      ],
      "text/plain": [
       "<IPython.core.display.Image object>"
      ]
     },
     "metadata": {},
     "output_type": "display_data"
    }
   ],
   "source": [
    "from base64 import b64encode\n",
    "from IPython.display import Image, display\n",
    "with open('IRVE_modele.txt', 'r', encoding=\"utf-8\") as f:\n",
    "    modele = f.read()\n",
    "display(Image(url=\"https://mermaid.ink/img/\" + b64encode(modele.encode(\"ascii\")).decode(\"ascii\")))"
   ]
  },
  {
   "cell_type": "markdown",
   "metadata": {},
   "source": [
    "------\n",
    "# 2 - Initialisation\n",
    "## initialisation logicielle"
   ]
  },
  {
   "cell_type": "code",
   "execution_count": 2,
   "metadata": {
    "scrolled": true
   },
   "outputs": [],
   "source": [
    "from datetime import datetime\n",
    "import json\n",
    "from tab_dataset.cdataset import Cdataset\n",
    "import pandas as pd\n",
    "import ntv_pandas as npd\n",
    "import pathlib\n",
    "\n",
    "def analyse_integrite(data, schema, affiche=True, indic=True):\n",
    "    '''analyse les relations du DataFrame 'data' définies dans le schéma 'schema'.\n",
    "    Le nombre de ligne en erreur par relation (dict) est retourné et optionnellement ('indic') affiché. \n",
    "    La liste des lignes en erreur est optionnellement ajoutée ('affiche') à 'data' sous forme de champs booléens par relation.\n",
    "    '''\n",
    "    dic_errors = Cdataset(data).check_relationship(schema)\n",
    "    dic_count = {name: len(errors) for name, errors in dic_errors.items()}\n",
    "    if affiche:\n",
    "        for name, total in dic_count.items():\n",
    "            print('{:<50} {:>5}'.format(name, total))\n",
    "    if indic:\n",
    "        data['ok'] = True\n",
    "        for name, errors in dic_errors.items():\n",
    "            data[name] = True\n",
    "            data.loc[errors, name] = False\n",
    "            data['ok'] = data['ok'] & data[name] \n",
    "    return dic_count\n",
    "\n",
    "def add_nbre_pdc(data, affiche=True):\n",
    "    '''ajoute un champ avec le nombre de pdc calculés et le compare au champ 'nbre_pdc' '''\n",
    "    data['nb_pdc_calc'] = data.groupby('id_station_itinerance')['index'].transform('count')\n",
    "    data['nbre_pdc_ok'] = data['nb_pdc_calc'] == data['nbre_pdc']    \n",
    "    data['calc-nbre'] = data['nb_pdc_calc'] - data['nbre_pdc']\n",
    "    if affiche:\n",
    "        ecart_nbre = len(data) - data['nbre_pdc_ok'].sum()\n",
    "        print('{:<20} {:>5}'.format('nbre_pdc_ko', ecart_nbre))\n",
    "        print(round(ecart_nbre / len(data) * 100), ' %')"
   ]
  },
  {
   "cell_type": "markdown",
   "metadata": {},
   "source": [
    "## initialisation des données\n",
    "- lecture du fichier issu de l'api"
   ]
  },
  {
   "cell_type": "code",
   "execution_count": 3,
   "metadata": {},
   "outputs": [
    {
     "name": "stdout",
     "output_type": "stream",
     "text": [
      "nombre de lignes :  98677\n"
     ]
    }
   ],
   "source": [
    "dates = ['2023-03-03', '2023-04-17', '2023-05-02', '2023-05-24', '2023-06-17', '2023-07-04', '2023-07-23', '2023-08-08',\n",
    "         '2023-09-06', '2023-09-19', '2023-10-04', '2023-10-21', '2023-10-31', '2023-11-23', '2023-12-14', '2023-12-29',\n",
    "         '2024-01-15', '2024-02-07', '2024-02-28', '2024-03-27', '2024-04-24']\n",
    "date= dates[-1]\n",
    "log = {'date_irve': date, \n",
    "    'file': 'consolidation-etalab-schema-irve-statique-v-2.3.1-'+date[:4]+date[5:7]+date[8:]+'.csv', # après 2024-02-06\n",
    "    #'file': 'consolidation-etalab-schema-irve-statique-v-2.2.0-'+date[:4]+date[5:7]+date[8:]+'.csv',\n",
    "    'chemin': str(pathlib.Path(npd.__file__).parent.parent.parent/\"Environmental-Sensing\"/\"python\"/\"Validation\"/\"irve\"/\"Analyse\")\n",
    "    # 'chemin': 'https://raw.githubusercontent.com/loco-philippe/Environmental-Sensing/gen-ntv/python/Validation/irve/Analyse/'}\n",
    "    # log = {'date_irve': '2022-06-06', 'file': 'consolidation-etalab-schema-irve-v-2.0.2-20220606-propre2.csv',\n",
    "    #'chemin': 'D:\\\\philippe\\\\python ESstandard\\\\Environmental-Sensing\\\\python\\\\Validation\\\\irve\\\\Analyse\\\\'\n",
    "    #'chemin': 'C:\\\\Users\\\\phili\\\\github\\\\Environmental-Sensing\\\\python\\\\Validation\\\\irve\\\\Analyse\\\\'\n",
    "      }\n",
    "irve = pd.read_csv(log['chemin'] + '/' + log['file'], sep=',', low_memory=False)\n",
    "log['len_irve'] = len(irve)\n",
    "print('nombre de lignes : ', log['len_irve']) "
   ]
  },
  {
   "cell_type": "markdown",
   "metadata": {},
   "source": [
    "## schéma de données\n",
    "Le schéma de données restreint à la propriété 'relationship' et construit à partir du modèle de données est le suivants :"
   ]
  },
  {
   "cell_type": "code",
   "execution_count": 4,
   "metadata": {},
   "outputs": [],
   "source": [
    "# complément à inclure dans le schéma de données\n",
    "schema = {\n",
    "    'relationships': [\n",
    "         # relation unicité des pdl\n",
    "         {\"fields\": [\"id_pdc_itinerance\", \"index\"],                    \"link\" : \"coupled\" },   \n",
    "         # relations inter entités\n",
    "         {\"fields\": [\"id_station_itinerance\", \"contact_operateur\"],    \"link\" : \"derived\" },\n",
    "         {\"fields\": [\"id_station_itinerance\", \"nom_enseigne\"],         \"link\" : \"derived\" },\n",
    "         {\"fields\": [\"id_station_itinerance\", \"coordonneesXY\"],        \"link\" : \"derived\" },\n",
    "         {\"fields\": [\"id_pdc_itinerance\", \"id_station_itinerance\"],    \"link\" : \"derived\" },\n",
    "         # relations intra entité - station\n",
    "         {\"fields\": [\"id_station_itinerance\", \"nom_station\"],          \"link\" : \"derived\" },\n",
    "         {\"fields\": [\"id_station_itinerance\", \"implantation_station\"], \"link\" : \"derived\" },\n",
    "         #{\"fields\": [\"id_station_itinerance\", \"date_maj\"],             \"link\" : \"derived\" },\n",
    "         {\"fields\": [\"id_station_itinerance\", \"nbre_pdc\"],             \"link\" : \"derived\" },\n",
    "         {\"fields\": [\"id_station_itinerance\", \"condition_acces\"],      \"link\" : \"derived\" },\n",
    "         {\"fields\": [\"id_station_itinerance\", \"horaires\"],             \"link\" : \"derived\" },\n",
    "         {\"fields\": [\"id_station_itinerance\", \"station_deux_roues\"],   \"link\" : \"derived\" },\n",
    "         # relations intra entité - localisation\n",
    "         {\"fields\": [\"coordonneesXY\", \"adresse_station\"],              \"link\" : \"derived\" }\n",
    "    ]\n",
    "}\n",
    "# liste des champs liés à un controle (relations) et obligatoires (mandatory)\n",
    "relations = ['index', 'contact_operateur', 'nom_enseigne', 'coordonneesXY', 'adresse_station', 'id_station_itinerance', \n",
    "             'nom_station', 'implantation_station', 'nbre_pdc', 'condition_acces', 'horaires', 'station_deux_roues', \n",
    "             'id_pdc_itinerance', 'date_maj', 'last_modified']\n",
    "mandatory = ['contact_operateur', 'nom_enseigne', 'coordonneesXY', 'adresse_station', 'id_station_itinerance', 'nom_station',\n",
    "             'implantation_station', 'nbre_pdc', 'condition_acces', 'horaires', 'station_deux_roues', 'id_pdc_itinerance', \n",
    "             'puissance_nominale', 'prise_type_ef', 'prise_type_2', 'prise_type_combo_ccs', 'prise_type_chademo', \n",
    "             'prise_type_autre', 'paiement_acte', 'paiement_autre', 'reservation',  'accessibilite_pmr', 'restriction_gabarit', \n",
    "             'date_maj', 'last_modified']\n",
    "controles = ['index - id_pdc_itinerance', 'contact_operateur - id_station_itinerance', 'nom_enseigne - id_station_itinerance',\n",
    "             'coordonneesXY - id_station_itinerance', 'id_station_itinerance - id_pdc_itinerance',\n",
    "             'nom_station - id_station_itinerance', 'implantation_station - id_station_itinerance',\n",
    "             'nbre_pdc - id_station_itinerance', 'condition_acces - id_station_itinerance', 'horaires - id_station_itinerance',\n",
    "             'station_deux_roues - id_station_itinerance', 'adresse_station - coordonneesXY']"
   ]
  },
  {
   "cell_type": "markdown",
   "metadata": {},
   "source": [
    "-----------------------\n",
    "## 3 - Séparation des pdc itinerance et hors itinerance\n",
    "- de l'ordre de 4 % des points de charge sont hors itinerance"
   ]
  },
  {
   "cell_type": "code",
   "execution_count": 5,
   "metadata": {},
   "outputs": [
    {
     "name": "stdout",
     "output_type": "stream",
     "text": [
      "nombre de pdc hors itinerance :  1939 soit :  0.01964996909107492\n",
      "nombre de pdc en itinerance   :  96738\n"
     ]
    }
   ],
   "source": [
    "# séparation des données\n",
    "data = irve\n",
    "data[['id_station_itinerance','id_pdc_itinerance']] = data[['id_station_itinerance','id_pdc_itinerance']].astype('string')\n",
    "#data[['last_modified','date_maj']] = data[['last_modified','date_maj']].astype('datetime64')\n",
    "data['non_concerne'] = data['id_station_itinerance'].str.contains('oncern') | data['id_pdc_itinerance'].str.contains('oncern')\n",
    "\n",
    "non_concerne = data[data['non_concerne']].reset_index()['index']\n",
    "itinerance = data[~data['non_concerne']].reset_index()\n",
    "itinerance_init = itinerance.loc[:, relations]\n",
    "log['pdc_hors_itinerance'] = len(non_concerne)\n",
    "log['pdc_en_itinerance'] = len(itinerance)\n",
    "print('nombre de pdc hors itinerance : ', log['pdc_hors_itinerance'], 'soit : ', len(non_concerne)/(len(non_concerne)+len(itinerance)))\n",
    "print('nombre de pdc en itinerance   : ', log['pdc_en_itinerance'])"
   ]
  },
  {
   "cell_type": "code",
   "execution_count": 6,
   "metadata": {},
   "outputs": [
    {
     "name": "stdout",
     "output_type": "stream",
     "text": [
      "-1: root-derived (96738)\n",
      "   0 : index (0 - 96738)\n",
      "   1 : contact_operateur (96571 - 167)\n",
      "   2 : nom_enseigne (93587 - 3151)\n",
      "   3 : coordonneesXY (70480 - 26258)\n",
      "   4 : adresse_station (70248 - 26490)\n",
      "   5 : id_station_itineranc (56881 - 39857)\n",
      "   6 : nom_station (69692 - 27046)\n",
      "   7 : implantation_station (96733 - 5)\n",
      "   8 : nbre_pdc (96674 - 64)\n",
      "   9 : condition_acces (96736 - 2)\n",
      "   10: horaires (96025 - 713)\n",
      "   11: station_deux_roues (96732 - 6)\n",
      "   12: id_pdc_itinerance (8137 - 88601)\n",
      "   13: date_maj (95987 - 751)\n",
      "   14: last_modified (96227 - 511)\n"
     ]
    }
   ],
   "source": [
    "# arborescence des champs et nombre de valeurs différentes\n",
    "print(itinerance_init.npd.analysis().tree())"
   ]
  },
  {
   "cell_type": "markdown",
   "metadata": {},
   "source": [
    "-----------------------\n",
    "## 4 - Bilan initial intégrité\n",
    "- 25 % des lignes présentent un défaut d'intégrité"
   ]
  },
  {
   "cell_type": "code",
   "execution_count": 7,
   "metadata": {},
   "outputs": [
    {
     "name": "stdout",
     "output_type": "stream",
     "text": [
      "index - id_pdc_itinerance                          16251\n",
      "contact_operateur - id_station_itinerance           9102\n",
      "nom_enseigne - id_station_itinerance                9715\n",
      "coordonneesXY - id_station_itinerance              10267\n",
      "id_station_itinerance - id_pdc_itinerance           6683\n",
      "nom_station - id_station_itinerance                10299\n",
      "implantation_station - id_station_itinerance        4576\n",
      "nbre_pdc - id_station_itinerance                    7067\n",
      "condition_acces - id_station_itinerance               83\n",
      "horaires - id_station_itinerance                      49\n",
      "station_deux_roues - id_station_itinerance          9847\n",
      "adresse_station - coordonneesXY                     5708\n",
      "\n",
      "nombre d'enregistrements sans erreurs :  72222\n",
      "nombre d'enregistrements avec au moins une erreur :  24516\n",
      "taux d'erreur :  25  %\n"
     ]
    }
   ],
   "source": [
    "# séparation données bonnes (itinerance_ok_1) et données résiduelles (itinerance_1)\n",
    "res = analyse_integrite(itinerance_init, schema)\n",
    "itinerance_ok_1 = itinerance_init.loc[itinerance_init.ok, relations].reset_index(drop=True)\n",
    "itinerance_1 = itinerance_init.loc[~itinerance_init.ok, relations].reset_index(drop=True)\n",
    "itinerance_init = itinerance_init.loc[:, relations]\n",
    "log['init_ok'] = len(itinerance_ok_1)\n",
    "log['init_ko'] = len(itinerance_1)\n",
    "print(\"\\nnombre d'enregistrements sans erreurs : \", log['init_ok'])\n",
    "print(\"nombre d'enregistrements avec au moins une erreur : \", log['init_ko'])\n",
    "print(\"taux d'erreur : \", round(log['init_ko'] / log['pdc_en_itinerance'] * 100), ' %')"
   ]
  },
  {
   "cell_type": "markdown",
   "metadata": {},
   "source": [
    "-----------------------\n",
    "## 5 - Séparation doublons pdc - date de maj\n",
    "- 35% des pdc en erreur sont liées aux doublons de pdc\n",
    "- la suppression des doublons permet de réduire de 50% le nombre de lignes erronnées"
   ]
  },
  {
   "cell_type": "code",
   "execution_count": 8,
   "metadata": {},
   "outputs": [
    {
     "name": "stdout",
     "output_type": "stream",
     "text": [
      "nombre de doublons pdc :  8137  soit  33  %\n",
      "nombre de pdc sans doublon   :  16379  soit  67  %\n"
     ]
    }
   ],
   "source": [
    "# séparation doublons pdc (doublons_pdc) et données résiduelles (itinerance_2)\n",
    "itinerance_1['doublons_pdc'] = itinerance_1.sort_values(by=['date_maj', 'last_modified']).duplicated('id_pdc_itinerance', keep='last')\n",
    "\n",
    "doublons_pdc = itinerance_1[itinerance_1['doublons_pdc']].loc[:, relations].reset_index(drop=True)['index']\n",
    "#doublons_pdc = itinerance_1[itinerance_1['doublons_pdc']].loc[:, relations].reset_index(drop=True)\n",
    "itinerance_2 = itinerance_1[~itinerance_1['doublons_pdc']].loc[:, relations].reset_index(drop=True)\n",
    "itinerance_1 = itinerance_1.loc[:, relations]\n",
    "log['doublons_pdc'] = len(doublons_pdc)\n",
    "log['sans_doublons_pdc'] = len(itinerance_2)\n",
    "print('nombre de doublons pdc : ', log['doublons_pdc'], ' soit ', round(log['doublons_pdc']/log['init_ko'] * 100), ' %')\n",
    "print('nombre de pdc sans doublon   : ', log['sans_doublons_pdc'], ' soit ', round(log['sans_doublons_pdc']/log['init_ko'] * 100), ' %')"
   ]
  },
  {
   "cell_type": "code",
   "execution_count": 9,
   "metadata": {},
   "outputs": [
    {
     "name": "stdout",
     "output_type": "stream",
     "text": [
      "index - id_pdc_itinerance                              0\n",
      "contact_operateur - id_station_itinerance            500\n",
      "nom_enseigne - id_station_itinerance                 503\n",
      "coordonneesXY - id_station_itinerance               1050\n",
      "id_station_itinerance - id_pdc_itinerance              0\n",
      "nom_station - id_station_itinerance                 1682\n",
      "implantation_station - id_station_itinerance         356\n",
      "nbre_pdc - id_station_itinerance                    3608\n",
      "condition_acces - id_station_itinerance               31\n",
      "horaires - id_station_itinerance                      30\n",
      "station_deux_roues - id_station_itinerance          1266\n",
      "adresse_station - coordonneesXY                     4081\n",
      "\n",
      "nombre d'enregistrements sans erreurs :  7874\n",
      "nombre d'enregistrements avec au moins une erreur :  8505\n"
     ]
    }
   ],
   "source": [
    "# séparation données bonnes (itinerance_ok_3) et données résiduelles (itinerance_3)\n",
    "res = analyse_integrite(itinerance_2, schema)\n",
    "itinerance_ok_3 = itinerance_2.loc[itinerance_2.ok, relations].reset_index(drop=True)\n",
    "itinerance_3 = itinerance_2.loc[~itinerance_2.ok, relations].reset_index(drop=True)\n",
    "itinerance_2 = itinerance_2.loc[:, relations]\n",
    "log['etape3_ok'] = len(itinerance_ok_3)\n",
    "log['etape3_ko'] = len(itinerance_3)\n",
    "print(\"\\nnombre d'enregistrements sans erreurs : \", log['etape3_ok'])\n",
    "print(\"nombre d'enregistrements avec au moins une erreur : \", log['etape3_ko'])"
   ]
  },
  {
   "cell_type": "markdown",
   "metadata": {},
   "source": [
    "-----------------------\n",
    "## 6 - Séparation doublons station - date de maj\n",
    "- la suppression des anciens pdc permet de réduire de 25% supplémentaire le nombre de lignes erronnées\n",
    "- les dernières erreurs correspondent à des stations associées à 43 opérateurs et sont liées à des causes multiples"
   ]
  },
  {
   "cell_type": "code",
   "execution_count": 10,
   "metadata": {},
   "outputs": [
    {
     "name": "stdout",
     "output_type": "stream",
     "text": [
      "nombre de doublons stations :  1616  soit  7  %\n",
      "nombre de pdc sans doublon   :  6889\n"
     ]
    }
   ],
   "source": [
    "# séparation doublons stations (doublons_stat_maj) et données résiduelles (itinerance_4)\n",
    "itinerance_3['stat_maj'] = itinerance_3.id_station_itinerance + itinerance_3.date_maj\n",
    "stat_maj_unique = itinerance_3.sort_values(by='stat_maj').drop_duplicates('id_station_itinerance', keep='last')\n",
    "itinerance_3['last_stat_maj'] = itinerance_3['stat_maj'].isin(stat_maj_unique['stat_maj'])\n",
    "\n",
    "doublons_stat_maj = itinerance_3[~itinerance_3['last_stat_maj']].loc[:, relations].reset_index(drop=True)['index']\n",
    "itinerance_4 = itinerance_3[itinerance_3['last_stat_maj']].loc[:, relations].reset_index(drop=True)\n",
    "itinerance_3 = itinerance_3.loc[:, relations]\n",
    "log['doublons_station'] = len(doublons_stat_maj)\n",
    "log['sans_doublons_station'] = len(itinerance_4)\n",
    "print('nombre de doublons stations : ', log['doublons_station'], ' soit ', \n",
    "      round(log['doublons_station']/log['init_ko'] * 100), ' %')\n",
    "print('nombre de pdc sans doublon   : ', log['sans_doublons_station'])"
   ]
  },
  {
   "cell_type": "code",
   "execution_count": 11,
   "metadata": {},
   "outputs": [
    {
     "name": "stdout",
     "output_type": "stream",
     "text": [
      "index - id_pdc_itinerance                              0\n",
      "contact_operateur - id_station_itinerance              2\n",
      "nom_enseigne - id_station_itinerance                   5\n",
      "coordonneesXY - id_station_itinerance                213\n",
      "id_station_itinerance - id_pdc_itinerance              0\n",
      "nom_station - id_station_itinerance                  268\n",
      "implantation_station - id_station_itinerance         195\n",
      "nbre_pdc - id_station_itinerance                    3033\n",
      "condition_acces - id_station_itinerance                4\n",
      "horaires - id_station_itinerance                      27\n",
      "station_deux_roues - id_station_itinerance           448\n",
      "adresse_station - coordonneesXY                     1700\n",
      "\n",
      "nombre d'enregistrements sans erreurs :  1416\n",
      "nombre d'enregistrements avec au moins une erreur :  5473  soit  64  %\n"
     ]
    }
   ],
   "source": [
    "# séparation données bonnes (itinerance_ok_5) et données résiduelles (itinerance_5 / itinerance_5_full)\n",
    "res = analyse_integrite(itinerance_4, schema)\n",
    "itinerance_ok_5 = itinerance_4.loc[itinerance_4.ok, relations].reset_index(drop=True)\n",
    "itinerance_5_full = itinerance_4.loc[~itinerance_4.ok].reset_index(drop=True)\n",
    "itinerance_5 = itinerance_5_full.loc[:, relations]\n",
    "#itinerance_4 = itinerance_4.loc[:, relations]\n",
    "log['etape5_ok'] = len(itinerance_ok_5)\n",
    "log['etape5_ko'] = len(itinerance_5)\n",
    "print(\"\\nnombre d'enregistrements sans erreurs : \", log['etape5_ok'])\n",
    "print(\"nombre d'enregistrements avec au moins une erreur : \", log['etape5_ko'], ' soit ', \n",
    "      round(log['etape5_ko']/log['etape3_ko'] * 100), ' %')"
   ]
  },
  {
   "cell_type": "code",
   "execution_count": 12,
   "metadata": {
    "scrolled": true
   },
   "outputs": [
    {
     "name": "stdout",
     "output_type": "stream",
     "text": [
      "-1: root-derived (5473)\n",
      "   0 : index (0 - 5473)\n",
      "   1 : contact_operateur (5424 - 49)\n",
      "   2 : nom_enseigne (5284 - 189)\n",
      "   3 : coordonneesXY (4621 - 852)\n",
      "   4 : adresse_station (4364 - 1109)\n",
      "   5 : id_station_itineranc (3641 - 1832)\n",
      "      13: date_maj (1734 - 98)\n",
      "   6 : nom_station (4427 - 1046)\n",
      "   7 : implantation_station (5468 - 5)\n",
      "   8 : nbre_pdc (5439 - 34)\n",
      "   9 : condition_acces (5471 - 2)\n",
      "   10: horaires (5423 - 50)\n",
      "   11: station_deux_roues (5467 - 6)\n",
      "   12: id_pdc_itinerance (0 - 5473)\n",
      "   14: last_modified (5390 - 83)\n"
     ]
    }
   ],
   "source": [
    "# structure des données présentant une erreur et nombre de valeurs\n",
    "print(itinerance_5.npd.analysis().tree())"
   ]
  },
  {
   "cell_type": "code",
   "execution_count": 13,
   "metadata": {},
   "outputs": [
    {
     "name": "stdout",
     "output_type": "stream",
     "text": [
      "nombre d'enregistrements avec  4  erreurs :  11\n"
     ]
    }
   ],
   "source": [
    "# nb maxi d'erreurs\n",
    "itinerance_4['somme'] = 0\n",
    "for name in res.keys():\n",
    "    itinerance_4['somme'] += 1 - itinerance_4[name]\n",
    "erreurs = max(itinerance_4['somme'])\n",
    "maxi = itinerance_4[itinerance_4.somme >= erreurs]\n",
    "print(\"nombre d'enregistrements avec \", erreurs, \" erreurs : \", len(maxi))"
   ]
  },
  {
   "cell_type": "markdown",
   "metadata": {},
   "source": [
    "-----------------------\n",
    "## 7 - Synthèse\n"
   ]
  },
  {
   "cell_type": "markdown",
   "metadata": {},
   "source": [
    "### fichiers\n",
    "Génération des fichiers intégrant les défauts d'intégrité :\n",
    "- fichier csv des lignes résiduelles à traiter (IRVE_itinerance_residuel)\n",
    "- fichier csv des données itinerance avec indicateur des données à corriger ou à ignorer (IRVE_itinerance_complet)\n",
    "- fichier csv des données itinerance valides (IRVE_itinerance_valide)\n",
    "- fichier csv des doublons (IRVE_itinerance_doublons)"
   ]
  },
  {
   "cell_type": "code",
   "execution_count": null,
   "metadata": {},
   "outputs": [],
   "source": [
    "# consolidation des données\n",
    "itinerance['doublons_stat_maj'] = itinerance['index'].isin(doublons_stat_maj)\n",
    "itinerance['doublons_pdc'] = itinerance['index'].isin(doublons_pdc)\n",
    "itinerance['lignes_a_corriger'] = itinerance['index'].isin(itinerance_5['index'])\n",
    "itinerance['doublons_a_supprimer'] = itinerance['doublons_stat_maj'] | itinerance['doublons_pdc']\n",
    "itinerance['lignes_ko'] = itinerance['doublons_a_supprimer'] | itinerance['lignes_a_corriger']\n",
    "print('total des lignes à corriger : ', itinerance['lignes_a_corriger'].sum())\n",
    "itinerance_doublons = itinerance[itinerance['doublons_a_supprimer']].reset_index(drop=True)\n",
    "print('total des doublons à supprimer : ', len(itinerance_doublons))\n",
    "itinerance_ok = itinerance[~itinerance['lignes_ko']].reset_index(drop=True)\n",
    "print('nombre de pdc avec controles ok : ', len(itinerance_ok))"
   ]
  },
  {
   "cell_type": "code",
   "execution_count": null,
   "metadata": {},
   "outputs": [],
   "source": [
    "#génération des fichiers\n",
    "extension = log['date_irve'] +'.csv'\n",
    "itinerance_5_full.to_csv('IRVE_itinerance_residuel' + extension)\n",
    "itinerance.to_csv('IRVE_itinerance_complet' + extension)\n",
    "itinerance_ok.to_csv('IRVE_itinerance_valide' + extension)\n",
    "itinerance_doublons.to_csv('IRVE_itinerance_doublons' + extension)\n",
    "log['IRVE_itinerance_residuel' + extension] = len(itinerance_5_full)\n",
    "log['IRVE_itinerance_complet' + extension] = len(itinerance)\n",
    "log['IRVE_itinerance_valide' + extension] = len(itinerance_ok)\n",
    "log['IRVE_itinerance_valide_stat' + extension] = len(itinerance_ok.drop_duplicates('id_station_itinerance', keep='last'))\n",
    "log['IRVE_itinerance_doublons' + extension] = len(itinerance_doublons)"
   ]
  },
  {
   "cell_type": "markdown",
   "metadata": {},
   "source": [
    "### vérification de l'intégrité"
   ]
  },
  {
   "cell_type": "code",
   "execution_count": null,
   "metadata": {},
   "outputs": [],
   "source": [
    "# vérification de l'absence d'erreurs\n",
    "res = analyse_integrite(itinerance_ok.loc[:, relations], fields, affiche=False)\n",
    "log['bilan_erreurs'] = sum(res.values())\n",
    "log['date'] = datetime.now().isoformat()\n",
    "print('bilan intégrité :')\n",
    "print('    erreurs : ', log['bilan_erreurs'])"
   ]
  },
  {
   "cell_type": "code",
   "execution_count": null,
   "metadata": {},
   "outputs": [],
   "source": [
    "# structure des données bonnes\n",
    "#print(Cdataset(itinerance_ok.loc[:, mandatory]).tree())\n",
    "print(itinerance_ok.loc[:, mandatory].npd.analysis().tree())"
   ]
  },
  {
   "cell_type": "markdown",
   "metadata": {},
   "source": [
    "### Indicateurs"
   ]
  },
  {
   "cell_type": "code",
   "execution_count": null,
   "metadata": {},
   "outputs": [],
   "source": [
    "# génération des indicateurs liés aux règles\n",
    "regles = ['Pdc non unique', 'Station multi-operateurs', 'Station multi-enseignes', 'Station multi-localisations', \n",
    "          'Pdc multi-stations', 'station avec plusieurs noms', 'station multi-implantations', \n",
    "          'nombre de pdc par station incoherent', 'station multi-acces', 'station multi-horaires', \n",
    "          'acces deux-roues incoherent', 'localisation multi-adresses']\n",
    "principal = [16, 17, 18, 19, 20]\n",
    "secondaire = [21, 22, 23, 24, 25, 26, 27]\n",
    "irve = itinerance_5_full # residuel\n",
    "total = len(irve)\n",
    "indic = {}\n",
    "\n",
    "irve['principal'] = True\n",
    "for ind in principal:\n",
    "    irve['principal'] &= irve.iloc[:,ind]\n",
    "    indic[regles[ind-16]] = int(total - irve.iloc[:,ind].sum())\n",
    "irve['secondaire'] = True\n",
    "for ind in secondaire:\n",
    "    irve['secondaire'] &= irve.iloc[:,ind]\n",
    "    indic[regles[ind-16]] = int(total - irve.iloc[:,ind].sum())\n",
    "irve['secondaire'] |= (~irve['principal'] & ~irve['secondaire'])\n",
    "irve['verif'] = irve['principal'] & irve['secondaire']\n",
    "indic['principal pdc'] = int(total - irve['principal'].sum())\n",
    "indic['secondaire pdc'] = int(total - irve['secondaire'].sum())\n",
    "\n",
    "irve_p = irve[~irve['principal']].drop_duplicates('id_station_itinerance').reset_index(drop=True)\n",
    "irve_s = irve[~irve['secondaire']].drop_duplicates('id_station_itinerance').reset_index(drop=True)\n",
    "indic['principal stat'] = len(irve_p)\n",
    "indic['secondaire stat'] = len(irve_s)\n",
    "\n"
   ]
  },
  {
   "cell_type": "code",
   "execution_count": null,
   "metadata": {},
   "outputs": [],
   "source": [
    "# ajout des principaux opérateurs contributeur de défauts\n",
    "operateurs = list(itinerance_5.drop_duplicates('contact_operateur')['contact_operateur'])\n",
    "erreurs_op = [len(itinerance_5.loc[itinerance_5.contact_operateur == operateur]) for operateur in operateurs]\n",
    "err_op, oper = tuple(zip(*(sorted(zip(erreurs_op, operateurs), reverse=True))[:5]))\n",
    "indic['operateurs'] = list(oper)\n",
    "indic['erreurs_operateurs'] = list(err_op)\n",
    "\n",
    "print(len(err_op), ' opérateurs représentent : ', round(sum(err_op) / sum(erreurs_op) * 100), ' % des écarts\\n')\n",
    "for err, op in zip(indic['erreurs_operateurs'], indic['operateurs']):\n",
    "    print(op, err)"
   ]
  },
  {
   "cell_type": "code",
   "execution_count": null,
   "metadata": {},
   "outputs": [],
   "source": [
    "# ajout de l'indicateur d'écart entre nombre de pdc calculés et saisis\n",
    "add_nbre_pdc(irve, affiche=True)\n",
    "indic['nb_pdc_calc-nbre_pdc'] = int(irve['calc-nbre'].sum())"
   ]
  },
  {
   "cell_type": "code",
   "execution_count": null,
   "metadata": {},
   "outputs": [],
   "source": [
    "# stockage des indicateurs\n",
    "log |= indic\n",
    "log_file = log['chemin'] + '/' + 'logfile.txt'\n",
    "#with open('logfile.txt', 'a', encoding=\"utf-8\") as f:\n",
    "with open(log_file, 'a', encoding=\"utf-8\") as f:\n",
    "    f.write(json.dumps(log) + '\\n')"
   ]
  },
  {
   "cell_type": "markdown",
   "metadata": {},
   "source": [
    "-----------------------\n",
    "## 8 - Exemples d'erreurs résiduelles \n",
    "\n",
    "### Erreurs multiples \n",
    "- exemple avec le nombre maximal d'erreurs (3) (109 pdc)\n",
    "- exemple station 'FR55CP92140' avec 29 pdc ! : 5 coordonnées XY, 5 nom_station, 2 nbre_pdc)"
   ]
  },
  {
   "cell_type": "code",
   "execution_count": null,
   "metadata": {},
   "outputs": [],
   "source": [
    "maxi.loc[:, relations]"
   ]
  },
  {
   "cell_type": "code",
   "execution_count": null,
   "metadata": {},
   "outputs": [],
   "source": [
    "itinerance_4.loc[itinerance_4.id_station_itinerance == 'FR55CP92140', relations]"
   ]
  },
  {
   "cell_type": "markdown",
   "metadata": {},
   "source": [
    "### Repartition des defauts par operateur\n",
    "Répartition pour les 5 opérateurs présentant le plus de défauts"
   ]
  },
  {
   "cell_type": "code",
   "execution_count": null,
   "metadata": {},
   "outputs": [],
   "source": [
    "print('PdC avec une incohérence : ')\n",
    "for operateur in oper:\n",
    "    print('\\n', sum(itinerance_4.contact_operateur == operateur))\n",
    "    print('Répartition des incohérences ', operateur, ' :')\n",
    "    for cont in controles:\n",
    "        #print(cont, sum((itinerance_4['contact_operateur'] == 'supervision-ev.france@totalenergies.com') & ~(itinerance_4[cont])))\n",
    "        print('{:<50} {:>5}'.format(cont, sum((itinerance_4['contact_operateur'] == operateur) & ~(itinerance_4[cont]))))"
   ]
  },
  {
   "cell_type": "markdown",
   "metadata": {},
   "source": [
    "### Defauts operateur POWERDOT\n",
    "Les défauts identifiés concernent des stations utilisant un même identifiant. Par exemple, la station 'FRPD1PCHAVDB' contient 28 points de recharge avec un nombre de points de rechage variable. Les identifiants des points de recharge et le nombre de PdC indiqué pour cet exemple montrent qu'il s'agit en réalité de 6 stations comportant chacune 3, 4, 8, 3, 8 et 2 PdC. Toutes les stations en défaut sont situées dans des parkings et concernent visiblement des stations implantées sur plusieurs étages et regroupées sous un même identifiant (on devrait donc a minima identifier une station par étage)."
   ]
  },
  {
   "cell_type": "code",
   "execution_count": null,
   "metadata": {},
   "outputs": [],
   "source": [
    "itinerance_4.loc[itinerance_4['contact_operateur'] == 'hello@powerdot.fr', relations][1000: 1500]"
   ]
  },
  {
   "cell_type": "code",
   "execution_count": null,
   "metadata": {},
   "outputs": [],
   "source": [
    "itinerance_init.loc[itinerance_init.id_station_itinerance == 'FRPD1PACCBEA', relations]"
   ]
  },
  {
   "cell_type": "code",
   "execution_count": null,
   "metadata": {},
   "outputs": [],
   "source": [
    "itinerance_init.loc[itinerance_init.id_station_itinerance == 'FRPD1PCHAVDB', relations]"
   ]
  },
  {
   "cell_type": "markdown",
   "metadata": {},
   "source": [
    "### Defauts operateur ALIZECHARGE\n",
    "Les défauts identifiés concernent des stations utilisant un même identifiant. Par exemple, la station 'FRADPP91479018' contient 82 points de recharge avec plusieurs adresses et un nombre de points de rechage variable. Cet exemple concerne des stations implantées sur plusieurs étages d'un parking (on devrait donc a minima identifier une station par étage)."
   ]
  },
  {
   "cell_type": "code",
   "execution_count": null,
   "metadata": {},
   "outputs": [],
   "source": [
    "itinerance_4.loc[itinerance_4['contact_operateur'] == 'support@alizecharge.fr', relations]"
   ]
  },
  {
   "cell_type": "code",
   "execution_count": null,
   "metadata": {},
   "outputs": [],
   "source": [
    "itinerance_init.loc[itinerance_init.id_station_itinerance == 'FRADPP91479018', relations]"
   ]
  },
  {
   "cell_type": "code",
   "execution_count": null,
   "metadata": {},
   "outputs": [],
   "source": [
    "itinerance_init.loc[itinerance_init.id_station_itinerance == 'FRTLSP31555040', relations]"
   ]
  },
  {
   "cell_type": "markdown",
   "metadata": {},
   "source": [
    "### Defauts operateur IZIVIA\n",
    "Les défauts au nombre de 280 sont liés à une incohérence entre adresse et coordonnées (une même coordonnée a plusieurs adresses différentes). Ce défaut est lié soit à des erreurs de saisie, soit à des ajouts (ou remplacements) ultérieurs de stations à une même localisation.\n",
    "\n",
    "Les stations Izivia en erreur ont un id_station_itinerance identique à l'id_pdc_itinerance, ce qui se traduit par des adresses multiples pour une même coordonnée.\n",
    "\n",
    "Par exemple, sur un parking [-0.530598, 47.398424], on trouve 17 stations avec la même coordonnée, le même identifiant entre point de recharge et station et un nombre de PdC indiqué entre 1 et 3."
   ]
  },
  {
   "cell_type": "code",
   "execution_count": null,
   "metadata": {},
   "outputs": [],
   "source": [
    "itinerance_4.loc[itinerance_4['contact_operateur'] == 'sav@izivia.com', relations]"
   ]
  },
  {
   "cell_type": "code",
   "execution_count": null,
   "metadata": {},
   "outputs": [],
   "source": [
    "itinerance_4.loc[itinerance_4.coordonneesXY == '[-0.530598, 47.398424]', relations]"
   ]
  },
  {
   "cell_type": "markdown",
   "metadata": {},
   "source": [
    "### Defauts operateur IONITY\n",
    "Les défauts (480 points de recharge) sont liés à une incohérence entre adresse et coordonnées (une même coordonnée a plusieurs adresses différentes). Ce défaut est lié soit à des erreurs de saisie, soit à des ajouts (ou remplacements) ultérieurs de stations à une même localisation.\n",
    "\n",
    "Les stations Ionity en erreur ont un id_station_itinerance identique à l'id_pdc_itinerance ainsi qu'un ancien pdc de regroupement par station avec un nom d'enseigne différent (IONITY GMBH), ce qui se traduit par des adresses multiples pour une même coordonnée.\n",
    "\n",
    "Par exemple, sur l'aire de Mornas [4.732409, 44.194832], on trouve 26 stations avec la même coordonnée, le même identifiant entre point de recharge et station et un nombre de PdC indiqué de 23 pour chaque station."
   ]
  },
  {
   "cell_type": "code",
   "execution_count": null,
   "metadata": {},
   "outputs": [],
   "source": [
    "itinerance_4.loc[itinerance_4['contact_operateur'] == 'info@ionity.eu', relations]"
   ]
  },
  {
   "cell_type": "code",
   "execution_count": null,
   "metadata": {},
   "outputs": [],
   "source": [
    "itinerance_4.loc[itinerance_4.coordonneesXY == '[1.580008, 48.468782]', relations]"
   ]
  },
  {
   "cell_type": "code",
   "execution_count": null,
   "metadata": {},
   "outputs": [],
   "source": [
    "itinerance_4.loc[itinerance_4.coordonneesXY == '[4.732409, 44.194832]', relations]"
   ]
  },
  {
   "cell_type": "code",
   "execution_count": null,
   "metadata": {},
   "outputs": [],
   "source": [
    "itinerance_4.loc[itinerance_4['contact_operateur'] == 'info@ionity.eu', relations]"
   ]
  },
  {
   "cell_type": "code",
   "execution_count": null,
   "metadata": {},
   "outputs": [],
   "source": [
    "itinerance_4.loc[itinerance_4.coordonneesXY == '[0.366838, 46.701436]', relations]"
   ]
  },
  {
   "cell_type": "code",
   "execution_count": null,
   "metadata": {},
   "outputs": [],
   "source": [
    "itinerance_4.loc[itinerance_4.coordonneesXY == '[2.523685, 48.9908]', relations]"
   ]
  },
  {
   "cell_type": "markdown",
   "metadata": {},
   "source": [
    "### Cohérence implantation_station - id_station\n",
    "- 107 pdc sont liés à une erreur de choix d'implantation (couplé à d'autres erreurs)"
   ]
  },
  {
   "cell_type": "code",
   "execution_count": null,
   "metadata": {},
   "outputs": [],
   "source": [
    "itinerance_4.loc[~itinerance_4['implantation_station - id_station_itinerance'], relations]"
   ]
  },
  {
   "cell_type": "markdown",
   "metadata": {},
   "source": [
    "### Cohérence nom_station - id_station\n",
    "- 210 pdc sont associés à une station avec un nom non cohérent"
   ]
  },
  {
   "cell_type": "code",
   "execution_count": null,
   "metadata": {},
   "outputs": [],
   "source": [
    "itinerance_4.loc[~itinerance_4['nom_station - id_station_itinerance'], relations]"
   ]
  },
  {
   "cell_type": "markdown",
   "metadata": {},
   "source": [
    "### Coherence adresse - coordonnees\n",
    "- 1807 pdc ont une adresse non cohérente avec les coordonnées géographiques"
   ]
  },
  {
   "cell_type": "code",
   "execution_count": null,
   "metadata": {},
   "outputs": [],
   "source": [
    "itinerance_4.loc[~itinerance_4['adresse_station - coordonneesXY'], relations]"
   ]
  },
  {
   "cell_type": "code",
   "execution_count": null,
   "metadata": {},
   "outputs": [],
   "source": [
    "itinerance_4.loc[itinerance_4.coordonneesXY == '[5.2592028, 46.1746523]', relations]"
   ]
  },
  {
   "cell_type": "code",
   "execution_count": null,
   "metadata": {},
   "outputs": [],
   "source": [
    "itinerance_4.loc[itinerance_4.adresse_station == 'RN 75 ZI DE NOIREFONTAINE 01250 Montagnat', relations]"
   ]
  },
  {
   "cell_type": "code",
   "execution_count": null,
   "metadata": {},
   "outputs": [],
   "source": [
    "itinerance_4.loc[itinerance_4.adresse_station == ' RN 75 ZI DE NOIREFONTAINE 01250 Montagnat', relations]"
   ]
  },
  {
   "cell_type": "markdown",
   "metadata": {},
   "source": [
    "- exemple : Stations Ouest charge (double saisie par deux opérateurs)"
   ]
  },
  {
   "cell_type": "code",
   "execution_count": null,
   "metadata": {
    "scrolled": true
   },
   "outputs": [],
   "source": [
    "itinerance_5.loc[itinerance_5.coordonneesXY\t == '[-3.577855, 48.771084]', relations]"
   ]
  },
  {
   "cell_type": "markdown",
   "metadata": {},
   "source": [
    "### Cohérence station - coordonnées\n",
    "- 323 pdc sont associés à des stations avec plusieurs coordonnées (dont 127 Freshmile)"
   ]
  },
  {
   "cell_type": "code",
   "execution_count": null,
   "metadata": {},
   "outputs": [],
   "source": [
    "itinerance_4.loc[~itinerance_4['coordonneesXY - id_station_itinerance'], relations][300:315]"
   ]
  },
  {
   "cell_type": "code",
   "execution_count": null,
   "metadata": {},
   "outputs": [],
   "source": [
    "itinerance_5.loc[itinerance_5.id_station_itinerance\t == 'FRLE2PYSCJHWOOBD', relations]"
   ]
  },
  {
   "cell_type": "code",
   "execution_count": null,
   "metadata": {},
   "outputs": [],
   "source": [
    "itinerance_5.loc[itinerance_5.id_station_itinerance\t == 'FRFR1PEHNKRRPQNR', relations]"
   ]
  },
  {
   "cell_type": "markdown",
   "metadata": {},
   "source": [
    "- exemple : une station avec plusieurs coordonnées -> incompréhension distinction station / pdc"
   ]
  },
  {
   "cell_type": "code",
   "execution_count": null,
   "metadata": {},
   "outputs": [],
   "source": [
    "itinerance_5.loc[itinerance_5.id_station_itinerance == 'FR073PCAMAIEUFR', relations]"
   ]
  },
  {
   "cell_type": "markdown",
   "metadata": {
    "raw_mimetype": "text/markdown"
   },
   "source": [
    "- exemple : une station avec plusieurs coordonnées -> regroupement de stations ?"
   ]
  },
  {
   "cell_type": "code",
   "execution_count": null,
   "metadata": {},
   "outputs": [],
   "source": [
    "itinerance_5.loc[itinerance_5.id_station_itinerance == 'FR55CPBP514', relations]"
   ]
  },
  {
   "cell_type": "markdown",
   "metadata": {},
   "source": [
    "- exemple : plusieurs stations d'opérateurs différents avec les mêmes coordonnées -> suppression non effectuée lors d'un changement d'opérateur ?"
   ]
  },
  {
   "cell_type": "code",
   "execution_count": null,
   "metadata": {},
   "outputs": [],
   "source": [
    "itinerance_4.loc[itinerance_4.coordonneesXY == '[0.08745032, 48.40887156]', relations]"
   ]
  },
  {
   "cell_type": "code",
   "execution_count": null,
   "metadata": {},
   "outputs": [],
   "source": [
    "itinerance_4.loc[itinerance_4.coordonneesXY == '[-4.374469, 48.471878]', relations]"
   ]
  },
  {
   "cell_type": "markdown",
   "metadata": {},
   "source": [
    "- exemple : quatre stations avec une localisation identique mais deux adresses différentes + id identique entre station et pdc -> erreur d'adresse et erreur d'id_station ?"
   ]
  },
  {
   "cell_type": "code",
   "execution_count": null,
   "metadata": {},
   "outputs": [],
   "source": [
    "itinerance_5.loc[itinerance_5.coordonneesXY\t == '[-0.366184, 43.332508]', relations]"
   ]
  },
  {
   "cell_type": "markdown",
   "metadata": {},
   "source": [
    "### Incoherence nbre_pdc\n",
    "- 583 pdc ont un champ 'nbre_pdc' mal documenté"
   ]
  },
  {
   "cell_type": "code",
   "execution_count": null,
   "metadata": {},
   "outputs": [],
   "source": [
    "itinerance_4.loc[~itinerance_4['nbre_pdc - id_station_itinerance'], relations][200:215]"
   ]
  },
  {
   "cell_type": "markdown",
   "metadata": {},
   "source": [
    "### coherence station - enseigne\n",
    "- 5 stations ont plusieurs noms d'enseigne"
   ]
  },
  {
   "cell_type": "code",
   "execution_count": null,
   "metadata": {},
   "outputs": [],
   "source": [
    "itinerance_4.loc[~itinerance_4['nom_enseigne - id_station_itinerance'], relations]"
   ]
  },
  {
   "cell_type": "code",
   "execution_count": null,
   "metadata": {},
   "outputs": [],
   "source": [
    "itinerance_init.loc[itinerance_init.id_station_itinerance == 'FRFR1EAYRU', relations]"
   ]
  },
  {
   "cell_type": "code",
   "execution_count": null,
   "metadata": {},
   "outputs": [],
   "source": [
    "itinerance_init.loc[itinerance_init.nom_enseigne == 'RME Loos (FR-FR1)', relations]"
   ]
  },
  {
   "cell_type": "markdown",
   "metadata": {},
   "source": [
    "### cohérence station - horaires\n",
    "- exemple de station avec plusieurs types d'horaire (15)"
   ]
  },
  {
   "cell_type": "code",
   "execution_count": null,
   "metadata": {},
   "outputs": [],
   "source": [
    "itinerance_init.loc[itinerance_init.id_station_itinerance == 'FRS23D2302001', relations]"
   ]
  },
  {
   "cell_type": "markdown",
   "metadata": {},
   "source": [
    "### cohérence station - deux-roues\n",
    "- exemple de station avec plusieurs indications d'accessibilité deux-roues (583)"
   ]
  },
  {
   "cell_type": "code",
   "execution_count": null,
   "metadata": {},
   "outputs": [],
   "source": [
    "itinerance_init.loc[itinerance_init.id_station_itinerance == 'FRV75PPX1716', relations]"
   ]
  }
 ],
 "metadata": {
  "celltoolbar": "Format de la Cellule Texte Brut",
  "kernelspec": {
   "display_name": "Python 3 (ipykernel)",
   "language": "python",
   "name": "python3"
  },
  "language_info": {
   "codemirror_mode": {
    "name": "ipython",
    "version": 3
   },
   "file_extension": ".py",
   "mimetype": "text/x-python",
   "name": "python",
   "nbconvert_exporter": "python",
   "pygments_lexer": "ipython3",
   "version": "3.11.8"
  }
 },
 "nbformat": 4,
 "nbformat_minor": 4
}
