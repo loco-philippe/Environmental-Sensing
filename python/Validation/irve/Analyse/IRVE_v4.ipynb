{
 "cells": [
  {
   "cell_type": "markdown",
   "metadata": {
    "jp-MarkdownHeadingCollapsed": true
   },
   "source": [
    "## *Jeu de données IRVE*\n",
    "-------------------\n",
    "# Analyse des relations entre champs (intégrité des données)\n",
    "------------------------------\n",
    "## Contexte\n",
    "- clarification du rôle des modèles de données dans les jeux de données (cf mise à jour récente des [guides data.gouv](https://guides.etalab.gouv.fr/qualite/documenter-les-donnees/))\n",
    "- intégration d'une propriété \"relationship\" dans les schémas de données ([issue TableSchema](https://github.com/frictionlessdata/specs/issues/803) en cours de validation)\n",
    "- création d'outils de contrôle des relations entre champs des jeux de données tabulaires (cf usage ci-dessous)\n",
    "\n",
    "## Objectifs\n",
    "- valider sur un cas réel l'utilisation d'un modèle de données en complément d'un schéma de données\n",
    "- identifier les apports que pourraient avoir les contrôles de validation des relations entre champs\n",
    "\n",
    "## Résultats\n",
    "- les principaux résultats sont regroupés sur un [tableau de bord](https://nbviewer.org/github/loco-philippe/Environmental-Sensing/blob/main/python/Validation/irve/Analyse/IRVE_indicateurs.ipynb) \n",
    "- la formalisation d'un modèle de données facilite la compréhension des données et des relations entre champs\n",
    "- l'outil de contrôle permet d'améliorer significativement la qualité des données par l'identification d'incohérences de relations\n",
    "- l'identification des incohérences permet de trouver des stratégies de réduction des écarts (dans l'exemple ci-dessous, on passe 36% d'écart à 3,8 %)  \n",
    "- l'analyse des données permet de (re)construire le modèle de données qui minimise les incohérences\n",
    "- les incohérences détectées sur le jeu de données IRVE restent faibles (inférieures à 5 % des point de charge documentés - voir chapitre 4)\n",
    "\n",
    "## Suite à donner\n",
    "- Mettre à jour, valider et publier le modèle de données IRVE\n",
    "- Définir les contrôles supplémentaires à intégrer pour toutes nouvelles données ainsi que pour le jeu complet\n",
    "- Mettre en oeuvre les outils de contrôle\n",
    "\n",
    "## Evolutions possibles \n",
    "- Ajouter dans les guides d'Etalab un guide pour les modèles de données \n",
    "- Intégrer dans les schémas de données la propriété \"relationship\" en cours de validation,\n",
    "- Définir un indicateur qui mesure l'écart (existant / attendu) des relations entre champs\n",
    "\n",
    "## Sommaire\n",
    "*(liens actifs sur jupyter Notebook ou Nbviewer)*\n",
    "- [1 - modèle de données](#1---modèle-de-données)\n",
    "- [2 - Initialisation](#2---Initialisation)\n",
    "- [3 - Séparation des pdc itinerance et hors itinerance](#3---Séparation-des-pdc-itinerance-et-hors-itinerance)\n",
    "- [4 - Bilan initial intégrité](#4---Bilan-initial-intégrité)\n",
    "- [5 - Séparation doublons pdc - date de maj](#5---Séparation-doublons-pdc---date-de-maj)\n",
    "- [6 - Séparation doublons station - date de maj](#6---Séparation-doublons-station---date-de-maj)\n",
    "- [7 - Synthèse](#7---Synthèse)\n",
    "- [8 - Exemples d'erreurs résiduelles](#8---Exemples-d\\'erreurs-résiduelles)\n",
    "\n",
    "Ce Notebook peut être consulté sur [nbviewer](http://nbviewer.org/github/loco-philippe/Environmental-Sensing/tree/main/python/Validation/irve/Analyse)\n",
    "\n",
    "données utilisées : https://www.data.gouv.fr/fr/datasets/fichier-consolide-des-bornes-de-recharge-pour-vehicules-electriques/    \n",
    "fichier : \"*consolidation-etalab-schema-irve-statique-v-2.2.0-2024xxxx.csv*\""
   ]
  },
  {
   "cell_type": "markdown",
   "metadata": {},
   "source": [
    "-----------------------\n",
    "# 1 - modèle de données\n",
    "\n",
    "Le modèle de données proposé ci-dessous est construit sur la base du schéma de données mis à disposition et du contenu du jeu de données.    \n",
    "Il est à consolider en fonction de l'expertise des concepteurs et réutilisateurs (voir [guide méthodologique](https://github.com/loco-philippe/Environmental-Sensing/blob/main/property_relationship/FR_methodology.ipynb)).\n",
    "\n",
    "*Notation:*\n",
    "- *M : Mandatory - documentation obligatoire*\n",
    "- *PK : Primary Key - identifiant unique de l'entité*\n",
    "- *Root : champ fictif associé à une ligne du tableau*"
   ]
  },
  {
   "cell_type": "code",
   "execution_count": 1,
   "metadata": {},
   "outputs": [
    {
     "data": {
      "text/html": [
       "<img src=\"https://mermaid.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\"/>"
      ],
      "text/plain": [
       "<IPython.core.display.Image object>"
      ]
     },
     "metadata": {},
     "output_type": "display_data"
    }
   ],
   "source": [
    "from base64 import b64encode\n",
    "from IPython.display import Image, display\n",
    "with open('IRVE_modele.txt', 'r', encoding=\"utf-8\") as f:\n",
    "    modele = f.read()\n",
    "display(Image(url=\"https://mermaid.ink/img/\" + b64encode(modele.encode(\"ascii\")).decode(\"ascii\")))"
   ]
  },
  {
   "cell_type": "markdown",
   "metadata": {},
   "source": [
    "------\n",
    "# 2 - Initialisation\n",
    "## initialisation logicielle"
   ]
  },
  {
   "cell_type": "code",
   "execution_count": 2,
   "metadata": {
    "scrolled": true
   },
   "outputs": [],
   "source": [
    "from datetime import datetime\n",
    "import json\n",
    "from tab_dataset import Cdataset\n",
    "import pandas as pd\n",
    "import ntv_pandas as npd\n",
    "import pathlib\n",
    "\n",
    "def analyse_integrite(data, schema, affiche=True, indic=True):\n",
    "    '''analyse les relations du DataFrame 'data' définies dans le schéma 'schema'.\n",
    "    Le nombre de ligne en erreur par relation (dict) est retourné et optionnellement affiché (paramètre 'affiche=True') . \n",
    "    Les lignes en erreur sont optionnellement ajoutées (paramètre 'indic=True') à 'data' sous forme de champs booléens par relation.\n",
    "    '''\n",
    "    dic_errors = Cdataset(data).check_relationship(schema)\n",
    "    dic_count = {name: len(errors) for name, errors in dic_errors.items()}\n",
    "    if affiche:\n",
    "        for name, total in dic_count.items():\n",
    "            print('{:<50} {:>5}'.format(name, total))\n",
    "    if indic:\n",
    "        data['ok'] = True\n",
    "        for name, errors in dic_errors.items():\n",
    "            data[name] = True\n",
    "            data.loc[errors, name] = False\n",
    "            data['ok'] = data['ok'] & data[name] \n",
    "    return dic_count\n",
    "\n",
    "def add_nbre_pdc(data, affiche=True):\n",
    "    '''ajoute un champ avec le nombre de pdc calculés et le compare au champ 'nbre_pdc'\n",
    "    Le nombre d'écarts est affiché optionnellement (paramètre 'affiche=True').\n",
    "    '''\n",
    "    data['nb_pdc_calc'] = data.groupby('id_station_itinerance')['index'].transform('count')\n",
    "    nbre_pdc = data['nbre_pdc'].astype('int')\n",
    "    data['nbre_pdc_ok'] = data['nb_pdc_calc'] == nbre_pdc\n",
    "    data['calc-nbre'] = data['nb_pdc_calc'] - nbre_pdc\n",
    "    if affiche:\n",
    "        ecart_nbre = len(data) - data['nbre_pdc_ok'].sum()\n",
    "        print('{:<20} {:>5}'.format('nbre_pdc_ko', ecart_nbre))\n",
    "        print(round(ecart_nbre / len(data) * 100), ' %')"
   ]
  },
  {
   "cell_type": "markdown",
   "metadata": {},
   "source": [
    "## initialisation des données\n",
    "- lecture du fichier issu de l'api"
   ]
  },
  {
   "cell_type": "code",
   "execution_count": 3,
   "metadata": {},
   "outputs": [
    {
     "name": "stdout",
     "output_type": "stream",
     "text": [
      "nombre de lignes :  77733\n"
     ]
    }
   ],
   "source": [
    "dates = ['2023-03-03', '2023-04-17', '2023-05-02', '2023-05-24', '2023-06-17', '2023-07-04', '2023-07-23', '2023-08-08',\n",
    "         '2023-09-06', '2023-09-19', '2023-10-04', '2023-10-21', '2023-10-31', '2023-11-23', '2023-12-14', '2023-12-29',\n",
    "         '2024-01-15', '2024-02-07', '2024-02-28', '2024-03-27', '2024-04-24', '2024-05-19', '2024-06-05']\n",
    "date= dates[-1]\n",
    "log = {'date_irve': date, \n",
    "    'file': 'consolidation-etalab-schema-irve-statique-v-2.3.1-'+date[:4]+date[5:7]+date[8:]+'.csv', # après 2024-02-06\n",
    "    'chemin': str(pathlib.Path(npd.__file__).parent.parent.parent/\"Environmental-Sensing\"/\"python\"/\"Validation\"/\"irve\"/\"Analyse\")\n",
    "      }\n",
    "irve = pd.read_csv(log['chemin'] + '/' + log['file'], sep=',', low_memory=False, dtype='object')\n",
    "log['len_irve'] = len(irve)\n",
    "print('nombre de lignes : ', log['len_irve']) "
   ]
  },
  {
   "cell_type": "markdown",
   "metadata": {},
   "source": [
    "## schéma de données\n",
    "Le schéma de données restreint à la propriété 'relationship' et construit à partir du modèle de données est le suivants :"
   ]
  },
  {
   "cell_type": "code",
   "execution_count": 4,
   "metadata": {},
   "outputs": [],
   "source": [
    "# complément à inclure dans le schéma de données\n",
    "schema = {\n",
    "    'relationships': [\n",
    "         # relation unicité des pdl\n",
    "         {\"fields\": [\"id_pdc_itinerance\", \"index\"],                    \"link\" : \"coupled\" },   \n",
    "         # relations inter entités\n",
    "         {\"fields\": [\"id_station_itinerance\", \"contact_operateur\"],    \"link\" : \"derived\" },\n",
    "         {\"fields\": [\"id_station_itinerance\", \"nom_enseigne\"],         \"link\" : \"derived\" },\n",
    "         {\"fields\": [\"id_station_itinerance\", \"coordonneesXY\"],        \"link\" : \"derived\" },\n",
    "         {\"fields\": [\"id_pdc_itinerance\", \"id_station_itinerance\"],    \"link\" : \"derived\" },\n",
    "         # relations intra entité - station\n",
    "         {\"fields\": [\"id_station_itinerance\", \"nom_station\"],          \"link\" : \"derived\" },\n",
    "         {\"fields\": [\"id_station_itinerance\", \"implantation_station\"], \"link\" : \"derived\" },\n",
    "         #{\"fields\": [\"id_station_itinerance\", \"date_maj\"],             \"link\" : \"derived\" },\n",
    "         {\"fields\": [\"id_station_itinerance\", \"nbre_pdc\"],             \"link\" : \"derived\" },\n",
    "         {\"fields\": [\"id_station_itinerance\", \"condition_acces\"],      \"link\" : \"derived\" },\n",
    "         {\"fields\": [\"id_station_itinerance\", \"horaires\"],             \"link\" : \"derived\" },\n",
    "         {\"fields\": [\"id_station_itinerance\", \"station_deux_roues\"],   \"link\" : \"derived\" },\n",
    "         # relations intra entité - localisation\n",
    "         {\"fields\": [\"coordonneesXY\", \"adresse_station\"],              \"link\" : \"derived\" }\n",
    "    ]\n",
    "}\n",
    "# liste des champs liés à un controle (relations) et obligatoires (mandatory)\n",
    "relations = ['index', 'contact_operateur', 'nom_enseigne', 'coordonneesXY', 'adresse_station', 'id_station_itinerance', \n",
    "             'nom_station', 'implantation_station', 'nbre_pdc', 'condition_acces', 'horaires', 'station_deux_roues', \n",
    "             'id_pdc_itinerance', 'date_maj', 'last_modified']\n",
    "mandatory = ['contact_operateur', 'nom_enseigne', 'coordonneesXY', 'adresse_station', 'id_station_itinerance', 'nom_station',\n",
    "             'implantation_station', 'nbre_pdc', 'condition_acces', 'horaires', 'station_deux_roues', 'id_pdc_itinerance', \n",
    "             'puissance_nominale', 'prise_type_ef', 'prise_type_2', 'prise_type_combo_ccs', 'prise_type_chademo', \n",
    "             'prise_type_autre', 'paiement_acte', 'paiement_autre', 'reservation',  'accessibilite_pmr', 'restriction_gabarit', \n",
    "             'date_maj', 'last_modified']\n",
    "controles = ['index - id_pdc_itinerance', 'contact_operateur - id_station_itinerance', 'nom_enseigne - id_station_itinerance',\n",
    "             'coordonneesXY - id_station_itinerance', 'id_station_itinerance - id_pdc_itinerance',\n",
    "             'nom_station - id_station_itinerance', 'implantation_station - id_station_itinerance',\n",
    "             'nbre_pdc - id_station_itinerance', 'condition_acces - id_station_itinerance', 'horaires - id_station_itinerance',\n",
    "             'station_deux_roues - id_station_itinerance', 'adresse_station - coordonneesXY']"
   ]
  },
  {
   "cell_type": "markdown",
   "metadata": {},
   "source": [
    "-----------------------\n",
    "## 3 - Séparation des pdc itinerance et hors itinerance\n",
    "- de l'ordre de 3 % des points de charge sont hors itinerance"
   ]
  },
  {
   "cell_type": "code",
   "execution_count": 5,
   "metadata": {},
   "outputs": [
    {
     "data": {
      "text/plain": [
       "0        379629447\n",
       "1        349009423\n",
       "2        812328128\n",
       "3        803719277\n",
       "4        320342975\n",
       "           ...    \n",
       "77728    775682040\n",
       "77729    552008914\n",
       "77730    801177528\n",
       "77731    902305556\n",
       "77732    437854508\n",
       "Name: siren_amenageur, Length: 77733, dtype: object"
      ]
     },
     "execution_count": 5,
     "metadata": {},
     "output_type": "execute_result"
    }
   ],
   "source": [
    "irve['siren_amenageur']"
   ]
  },
  {
   "cell_type": "code",
   "execution_count": 6,
   "metadata": {},
   "outputs": [
    {
     "name": "stdout",
     "output_type": "stream",
     "text": [
      "nombre de pdc hors itinerance :  2909 soit :  0.037422973511893276\n",
      "nombre de pdc en itinerance   :  74824\n"
     ]
    }
   ],
   "source": [
    "# séparation des données\n",
    "data = irve\n",
    "data[['id_station_itinerance','id_pdc_itinerance','restriction_gabarit']] = data[['id_station_itinerance','id_pdc_itinerance','restriction_gabarit']].astype('string')\n",
    "#data[['last_modified','date_maj']] = data[['last_modified','date_maj']].astype('datetime64')\n",
    "data['non_concerne'] = data['id_station_itinerance'].str.contains('oncern') | data['id_pdc_itinerance'].str.contains('oncern')\n",
    "\n",
    "non_concerne = data[data['non_concerne']].reset_index()['index']\n",
    "itinerance = data[~data['non_concerne']].reset_index()\n",
    "itinerance_init = itinerance.loc[:, relations]\n",
    "log['pdc_hors_itinerance'] = len(non_concerne)\n",
    "log['pdc_en_itinerance'] = len(itinerance)\n",
    "print('nombre de pdc hors itinerance : ', log['pdc_hors_itinerance'], 'soit : ', len(non_concerne)/(len(non_concerne)+len(itinerance)))\n",
    "print('nombre de pdc en itinerance   : ', log['pdc_en_itinerance'])"
   ]
  },
  {
   "cell_type": "code",
   "execution_count": 7,
   "metadata": {},
   "outputs": [
    {
     "name": "stdout",
     "output_type": "stream",
     "text": [
      "-1: root-derived (74824)\n",
      "   0 : index (0 - 74824)\n",
      "   1 : contact_operateur (74667 - 157)\n",
      "   2 : nom_enseigne (71662 - 3162)\n",
      "   3 : coordonneesXY (56179 - 18645)\n",
      "   4 : adresse_station (55671 - 19153)\n",
      "   5 : id_station_itineranc (40622 - 34202)\n",
      "   6 : nom_station (55479 - 19345)\n",
      "   7 : implantation_station (74819 - 5)\n",
      "   8 : nbre_pdc (74763 - 61)\n",
      "   9 : condition_acces (74822 - 2)\n",
      "   10: horaires (74312 - 512)\n",
      "   11: station_deux_roues (74818 - 6)\n",
      "   12: id_pdc_itinerance (2338 - 72486)\n",
      "   13: date_maj (74124 - 700)\n",
      "   14: last_modified (74305 - 519)\n"
     ]
    }
   ],
   "source": [
    "# arborescence des champs et nombre de valeurs différentes\n",
    "print(itinerance_init.npd.analysis().tree())"
   ]
  },
  {
   "cell_type": "markdown",
   "metadata": {},
   "source": [
    "-----------------------\n",
    "## 4 - Bilan initial intégrité\n",
    "- 22 % des lignes présentent un défaut d'intégrité"
   ]
  },
  {
   "cell_type": "code",
   "execution_count": 8,
   "metadata": {},
   "outputs": [
    {
     "name": "stdout",
     "output_type": "stream",
     "text": [
      "index - id_pdc_itinerance                           4674\n",
      "contact_operateur - id_station_itinerance             53\n",
      "nom_enseigne - id_station_itinerance                 666\n",
      "coordonneesXY - id_station_itinerance               1353\n",
      "id_station_itinerance - id_pdc_itinerance           4034\n",
      "nom_station - id_station_itinerance                 1358\n",
      "implantation_station - id_station_itinerance         238\n",
      "nbre_pdc - id_station_itinerance                    1488\n",
      "condition_acces - id_station_itinerance               65\n",
      "horaires - id_station_itinerance                      85\n",
      "station_deux_roues - id_station_itinerance           789\n",
      "adresse_station - coordonneesXY                     5862\n",
      "\n",
      "nombre d'enregistrements sans erreurs :  63948\n",
      "nombre d'enregistrements avec au moins une erreur :  10876\n",
      "taux d'erreur :  15  %\n"
     ]
    }
   ],
   "source": [
    "# séparation données bonnes (itinerance_ok_1) et données résiduelles (itinerance_1)\n",
    "res = analyse_integrite(itinerance_init, schema)\n",
    "itinerance_ok_1 = itinerance_init.loc[itinerance_init.ok, relations].reset_index(drop=True)\n",
    "itinerance_1 = itinerance_init.loc[~itinerance_init.ok, relations].reset_index(drop=True)\n",
    "itinerance_init = itinerance_init.loc[:, relations]\n",
    "log['init_ok'] = len(itinerance_ok_1)\n",
    "log['init_ko'] = len(itinerance_1)\n",
    "print(\"\\nnombre d'enregistrements sans erreurs : \", log['init_ok'])\n",
    "print(\"nombre d'enregistrements avec au moins une erreur : \", log['init_ko'])\n",
    "print(\"taux d'erreur : \", round(log['init_ko'] / log['pdc_en_itinerance'] * 100), ' %')"
   ]
  },
  {
   "cell_type": "markdown",
   "metadata": {},
   "source": [
    "-----------------------\n",
    "## 5 - Séparation doublons pdc - date de maj\n",
    "- 35% des pdc en erreur sont liées aux doublons de pdc\n",
    "- la suppression des doublons permet de réduire de 50% le nombre de lignes erronnées"
   ]
  },
  {
   "cell_type": "code",
   "execution_count": 9,
   "metadata": {},
   "outputs": [
    {
     "name": "stdout",
     "output_type": "stream",
     "text": [
      "nombre de doublons pdc :  2338  soit  21  %\n",
      "nombre de pdc sans doublon   :  8538  soit  79  %\n"
     ]
    }
   ],
   "source": [
    "# séparation doublons pdc (doublons_pdc) et données résiduelles (itinerance_2)\n",
    "itinerance_1['doublons_pdc'] = itinerance_1.sort_values(by=['date_maj', 'last_modified']).duplicated('id_pdc_itinerance', keep='last')\n",
    "\n",
    "doublons_pdc = itinerance_1[itinerance_1['doublons_pdc']].loc[:, relations].reset_index(drop=True)['index']\n",
    "#doublons_pdc = itinerance_1[itinerance_1['doublons_pdc']].loc[:, relations].reset_index(drop=True)\n",
    "itinerance_2 = itinerance_1[~itinerance_1['doublons_pdc']].loc[:, relations].reset_index(drop=True)\n",
    "itinerance_1 = itinerance_1.loc[:, relations]\n",
    "log['doublons_pdc'] = len(doublons_pdc)\n",
    "log['sans_doublons_pdc'] = len(itinerance_2)\n",
    "print('nombre de doublons pdc : ', log['doublons_pdc'], ' soit ', round(log['doublons_pdc']/log['init_ko'] * 100), ' %')\n",
    "print('nombre de pdc sans doublon   : ', log['sans_doublons_pdc'], ' soit ', round(log['sans_doublons_pdc']/log['init_ko'] * 100), ' %')"
   ]
  },
  {
   "cell_type": "code",
   "execution_count": 10,
   "metadata": {},
   "outputs": [
    {
     "name": "stdout",
     "output_type": "stream",
     "text": [
      "index - id_pdc_itinerance                              0\n",
      "contact_operateur - id_station_itinerance             24\n",
      "nom_enseigne - id_station_itinerance                  33\n",
      "coordonneesXY - id_station_itinerance                711\n",
      "id_station_itinerance - id_pdc_itinerance              0\n",
      "nom_station - id_station_itinerance                 1322\n",
      "implantation_station - id_station_itinerance         227\n",
      "nbre_pdc - id_station_itinerance                     985\n",
      "condition_acces - id_station_itinerance               38\n",
      "horaires - id_station_itinerance                      70\n",
      "station_deux_roues - id_station_itinerance           789\n",
      "adresse_station - coordonneesXY                     4775\n",
      "\n",
      "nombre d'enregistrements sans erreurs :  2281\n",
      "nombre d'enregistrements avec au moins une erreur :  6257\n"
     ]
    }
   ],
   "source": [
    "# séparation données bonnes (itinerance_ok_3) et données résiduelles (itinerance_3)\n",
    "res = analyse_integrite(itinerance_2, schema)\n",
    "itinerance_ok_3 = itinerance_2.loc[itinerance_2.ok, relations].reset_index(drop=True)\n",
    "itinerance_3 = itinerance_2.loc[~itinerance_2.ok, relations].reset_index(drop=True)\n",
    "itinerance_2 = itinerance_2.loc[:, relations]\n",
    "log['etape3_ok'] = len(itinerance_ok_3)\n",
    "log['etape3_ko'] = len(itinerance_3)\n",
    "print(\"\\nnombre d'enregistrements sans erreurs : \", log['etape3_ok'])\n",
    "print(\"nombre d'enregistrements avec au moins une erreur : \", log['etape3_ko'])"
   ]
  },
  {
   "cell_type": "markdown",
   "metadata": {},
   "source": [
    "-----------------------\n",
    "## 6 - Séparation doublons station - date de maj\n",
    "- la suppression des anciens pdc permet de réduire de 25% supplémentaire le nombre de lignes erronnées\n",
    "- les dernières erreurs correspondent à des stations associées à 43 opérateurs et sont liées à des causes multiples"
   ]
  },
  {
   "cell_type": "code",
   "execution_count": 11,
   "metadata": {},
   "outputs": [
    {
     "name": "stdout",
     "output_type": "stream",
     "text": [
      "nombre de doublons stations :  1346  soit  12  %\n",
      "nombre de pdc sans doublon   :  4911\n"
     ]
    }
   ],
   "source": [
    "# séparation doublons stations (doublons_stat_maj) et données résiduelles (itinerance_4)\n",
    "itinerance_3['stat_maj'] = itinerance_3.id_station_itinerance + itinerance_3.date_maj\n",
    "stat_maj_unique = itinerance_3.sort_values(by='stat_maj').drop_duplicates('id_station_itinerance', keep='last')\n",
    "itinerance_3['last_stat_maj'] = itinerance_3['stat_maj'].isin(stat_maj_unique['stat_maj'])\n",
    "\n",
    "doublons_stat_maj = itinerance_3[~itinerance_3['last_stat_maj']].loc[:, relations].reset_index(drop=True)['index']\n",
    "itinerance_4 = itinerance_3[itinerance_3['last_stat_maj']].loc[:, relations].reset_index(drop=True)\n",
    "itinerance_3 = itinerance_3.loc[:, relations]\n",
    "log['doublons_station'] = len(doublons_stat_maj)\n",
    "log['sans_doublons_station'] = len(itinerance_4)\n",
    "print('nombre de doublons stations : ', log['doublons_station'], ' soit ', \n",
    "      round(log['doublons_station']/log['init_ko'] * 100), ' %')\n",
    "print('nombre de pdc sans doublon   : ', log['sans_doublons_station'])"
   ]
  },
  {
   "cell_type": "code",
   "execution_count": 12,
   "metadata": {},
   "outputs": [
    {
     "name": "stdout",
     "output_type": "stream",
     "text": [
      "index - id_pdc_itinerance                              0\n",
      "contact_operateur - id_station_itinerance              2\n",
      "nom_enseigne - id_station_itinerance                   5\n",
      "coordonneesXY - id_station_itinerance                269\n",
      "id_station_itinerance - id_pdc_itinerance              0\n",
      "nom_station - id_station_itinerance                  321\n",
      "implantation_station - id_station_itinerance         199\n",
      "nbre_pdc - id_station_itinerance                     374\n",
      "condition_acces - id_station_itinerance               18\n",
      "horaires - id_station_itinerance                      67\n",
      "station_deux_roues - id_station_itinerance           448\n",
      "adresse_station - coordonneesXY                     2345\n",
      "\n",
      "nombre d'enregistrements sans erreurs :  1337\n",
      "nombre d'enregistrements avec au moins une erreur :  3574  soit  57  %\n"
     ]
    }
   ],
   "source": [
    "# séparation données bonnes (itinerance_ok_5) et données résiduelles (itinerance_5 / itinerance_5_full)\n",
    "res = analyse_integrite(itinerance_4, schema)\n",
    "itinerance_ok_5 = itinerance_4.loc[itinerance_4.ok, relations].reset_index(drop=True)\n",
    "itinerance_5_full = itinerance_4.loc[~itinerance_4.ok].reset_index(drop=True)\n",
    "itinerance_5 = itinerance_5_full.loc[:, relations]\n",
    "#itinerance_4 = itinerance_4.loc[:, relations]\n",
    "log['etape5_ok'] = len(itinerance_ok_5)\n",
    "log['etape5_ko'] = len(itinerance_5)\n",
    "print(\"\\nnombre d'enregistrements sans erreurs : \", log['etape5_ok'])\n",
    "print(\"nombre d'enregistrements avec au moins une erreur : \", log['etape5_ko'], ' soit ', \n",
    "      round(log['etape5_ko']/log['etape3_ko'] * 100), ' %')"
   ]
  },
  {
   "cell_type": "code",
   "execution_count": 13,
   "metadata": {
    "scrolled": true
   },
   "outputs": [
    {
     "name": "stdout",
     "output_type": "stream",
     "text": [
      "-1: root-derived (3574)\n",
      "   0 : index (0 - 3574)\n",
      "   1 : contact_operateur (3524 - 50)\n",
      "   2 : nom_enseigne (3381 - 193)\n",
      "   3 : coordonneesXY (2877 - 697)\n",
      "   4 : adresse_station (2416 - 1158)\n",
      "   5 : id_station_itineranc (1789 - 1785)\n",
      "      13: date_maj (1690 - 95)\n",
      "   6 : nom_station (2512 - 1062)\n",
      "   7 : implantation_station (3569 - 5)\n",
      "   8 : nbre_pdc (3539 - 35)\n",
      "   9 : condition_acces (3572 - 2)\n",
      "   10: horaires (3492 - 82)\n",
      "   11: station_deux_roues (3568 - 6)\n",
      "   12: id_pdc_itinerance (0 - 3574)\n",
      "   14: last_modified (3483 - 91)\n"
     ]
    }
   ],
   "source": [
    "# structure des données présentant une erreur et nombre de valeurs\n",
    "print(itinerance_5.npd.analysis().tree())"
   ]
  },
  {
   "cell_type": "code",
   "execution_count": 14,
   "metadata": {},
   "outputs": [
    {
     "name": "stdout",
     "output_type": "stream",
     "text": [
      "nombre d'enregistrements avec  4  erreurs :  11\n"
     ]
    }
   ],
   "source": [
    "# nb maxi d'erreurs\n",
    "itinerance_4['somme'] = 0\n",
    "for name in res.keys():\n",
    "    itinerance_4['somme'] += 1 - itinerance_4[name]\n",
    "erreurs = max(itinerance_4['somme'])\n",
    "maxi = itinerance_4[itinerance_4.somme >= erreurs]\n",
    "print(\"nombre d'enregistrements avec \", erreurs, \" erreurs : \", len(maxi))"
   ]
  },
  {
   "cell_type": "code",
   "execution_count": 15,
   "metadata": {},
   "outputs": [
    {
     "name": "stdout",
     "output_type": "stream",
     "text": [
      "5  opérateurs représentent :  71  % des écarts\n",
      "\n",
      "804 support@alizecharge.fr\n",
      "584 supervision-ev.france@totalenergies.com\n",
      "428 info@ionity.eu\n",
      "408 assistance-technique@ouestcharge-paysdelaloire-moncompte.fr\n",
      "322 sav@izivia.com\n"
     ]
    }
   ],
   "source": [
    "# principaux opérateurs contributeur de défauts\n",
    "operateurs = list(itinerance_5.drop_duplicates('contact_operateur')['contact_operateur'])\n",
    "erreurs_op = [len(itinerance_5.loc[itinerance_5.contact_operateur == operateur]) for operateur in operateurs]\n",
    "err_op_5, oper_5 = tuple(zip(*(sorted(zip(erreurs_op, operateurs), reverse=True))[:5]))\n",
    "\n",
    "print(len(err_op_5), ' opérateurs représentent : ', round(sum(err_op_5) / sum(erreurs_op) * 100), ' % des écarts\\n')\n",
    "for err, op in zip(err_op_5, oper_5):\n",
    "    print(err, op)"
   ]
  },
  {
   "cell_type": "markdown",
   "metadata": {},
   "source": [
    "-----------------------\n",
    "## 7 - Synthèse\n"
   ]
  },
  {
   "cell_type": "markdown",
   "metadata": {},
   "source": [
    "### fichiers\n",
    "Génération des fichiers intégrant les défauts d'intégrité :\n",
    "- fichier csv des lignes résiduelles à traiter (IRVE_itinerance_residuel)\n",
    "- fichier csv des données itinerance avec indicateur des données à corriger ou à ignorer (IRVE_itinerance_complet)\n",
    "- fichier csv des données itinerance valides (IRVE_itinerance_valide)\n",
    "- fichier csv des doublons (IRVE_itinerance_doublons)"
   ]
  },
  {
   "cell_type": "code",
   "execution_count": 16,
   "metadata": {},
   "outputs": [
    {
     "name": "stdout",
     "output_type": "stream",
     "text": [
      "total des lignes à corriger :  3574\n",
      "total des doublons à supprimer :  3684\n",
      "nombre de pdc avec controles ok :  67566\n"
     ]
    }
   ],
   "source": [
    "# consolidation des données\n",
    "itinerance['doublons_stat_maj'] = itinerance['index'].isin(doublons_stat_maj)\n",
    "itinerance['doublons_pdc'] = itinerance['index'].isin(doublons_pdc)\n",
    "itinerance['lignes_a_corriger'] = itinerance['index'].isin(itinerance_5['index'])\n",
    "itinerance['doublons_a_supprimer'] = itinerance['doublons_stat_maj'] | itinerance['doublons_pdc']\n",
    "itinerance['lignes_ko'] = itinerance['doublons_a_supprimer'] | itinerance['lignes_a_corriger']\n",
    "print('total des lignes à corriger : ', itinerance['lignes_a_corriger'].sum())\n",
    "itinerance_doublons = itinerance[itinerance['doublons_a_supprimer']].reset_index(drop=True)\n",
    "print('total des doublons à supprimer : ', len(itinerance_doublons))\n",
    "itinerance_ok = itinerance[~itinerance['lignes_ko']].reset_index(drop=True)\n",
    "print('nombre de pdc avec controles ok : ', len(itinerance_ok))"
   ]
  },
  {
   "cell_type": "code",
   "execution_count": 17,
   "metadata": {},
   "outputs": [],
   "source": [
    "# génération des fichiers\n",
    "extension = log['date_irve'] +'.csv'\n",
    "itinerance_5_full.to_csv('IRVE_itinerance_residuel' + extension)\n",
    "itinerance.to_csv('IRVE_itinerance_complet' + extension)\n",
    "itinerance_ok.to_csv('IRVE_itinerance_valide' + extension)\n",
    "itinerance_doublons.to_csv('IRVE_itinerance_doublons' + extension)\n",
    "log['IRVE_itinerance_residuel' + extension] = len(itinerance_5_full)\n",
    "log['IRVE_itinerance_complet' + extension] = len(itinerance)\n",
    "log['IRVE_itinerance_valide' + extension] = len(itinerance_ok)\n",
    "log['IRVE_itinerance_valide_stat' + extension] = len(itinerance_ok.drop_duplicates('id_station_itinerance', keep='last'))\n",
    "log['IRVE_itinerance_doublons' + extension] = len(itinerance_doublons)"
   ]
  },
  {
   "cell_type": "code",
   "execution_count": 18,
   "metadata": {},
   "outputs": [
    {
     "data": {
      "text/plain": [
       "'FR073'"
      ]
     },
     "execution_count": 18,
     "metadata": {},
     "output_type": "execute_result"
    }
   ],
   "source": [
    "l_prefix = list(pd.read_csv(log['chemin'] + '/' + 'Operations_Recharge_16-07-2024.csv', sep=';', low_memory=False, dtype='object')['Identifiant'])\n",
    "l_prefix[0]"
   ]
  },
  {
   "cell_type": "code",
   "execution_count": 19,
   "metadata": {},
   "outputs": [
    {
     "data": {
      "text/plain": [
       "0        True\n",
       "1        True\n",
       "2        True\n",
       "3        True\n",
       "4        True\n",
       "         ... \n",
       "67561    True\n",
       "67562    True\n",
       "67563    True\n",
       "67564    True\n",
       "67565    True\n",
       "Name: cable_t2_attache, Length: 67566, dtype: bool"
      ]
     },
     "execution_count": 19,
     "metadata": {},
     "output_type": "execute_result"
    }
   ],
   "source": [
    "import numpy as np\n",
    "\n",
    "df = pd.DataFrame({'a':[\"er\", \"rt\", \"\", \"ert\"], 'b': [10, np.nan, 20, 1]})\n",
    "\n",
    "df['b'] = df['b'].replace(np.nan, 0)\n",
    "df['a'] = df['a'].replace(\"\", \"empty\")\n",
    "df\n",
    "itinerance_ok['cable_t2_attache'].astype('bool')\n"
   ]
  },
  {
   "cell_type": "code",
   "execution_count": 20,
   "metadata": {},
   "outputs": [],
   "source": [
    "from pydantic import (BaseModel, EmailStr, PastDate, PositiveFloat, PositiveInt, ValidationError)\n",
    "from pydantic_extra_types.phone_numbers import PhoneNumber\n",
    "from copy import copy\n",
    "import re\n",
    "\n",
    "PREFIX = list(pd.read_csv(log['chemin'] + '/' + 'Operations_Recharge_16-07-2024.csv', sep=';', low_memory=False, dtype='object')['Identifiant'])\n",
    "    \n",
    "NUMPDL = re.compile(r\"^\\d{14}$\")\n",
    "\n",
    "class FrenchPhoneNumber(PhoneNumber):\n",
    "    \"\"\"A phone number with french defaults.\"\"\"\n",
    "    default_region_code = \"FR\"\n",
    "    \n",
    "class EmailStr(BaseModel):\n",
    "    x: EmailStr\n",
    "\n",
    "class PastDate(BaseModel):\n",
    "    x: PastDate\n",
    "\n",
    "class PositiveInt(BaseModel):\n",
    "    x: PositiveInt\n",
    "\n",
    "class FrenchPhoneNumber(BaseModel):\n",
    "    x: FrenchPhoneNumber\n",
    "\n",
    "class NumPdl:\n",
    "    def __init__(self, x=None):\n",
    "        self.x = x\n",
    "        if NUMPDL.fullmatch(x) is None:\n",
    "            raise ValidationError\n",
    "\n",
    "def check_value(value, clas=None, default=None):    \n",
    "    try:\n",
    "        clas(x=value)\n",
    "    except:\n",
    "        return default\n",
    "    return value\n",
    "\n",
    "def set_prefix(pref):    \n",
    "    return pref if pref in PREFIX else PREFIX[0]\n",
    "    \n",
    "def pandas_to_qualicharge(data):\n",
    "    '''\n",
    "    convertit les champs suivants (et applique une valeur par défaut si erreur) :\n",
    "        - contact_amenageur: EmailStr ('amenageur@email.fr')\n",
    "        - contact_operateur: EmailStr ('example@email.fr')\n",
    "        - telephone_operateur: FrenchPhoneNumber (06-06-06-06-06)\n",
    "        - nbre_pdc: PositiveInt (0)\n",
    "        - date_maj: PastDate ('1900-01-01')\n",
    "        - num_pdl: \"^\\d{14}$\" ('00001234567890')\n",
    "        - date_mise_en_service: PastDate ('1900-01-01')\n",
    "        - puissance_nominale: PositiveFloat (0.0)\n",
    "    et applique le prefixe des stations aux pdc.\n",
    "    '''\n",
    "    quali = copy(data)\n",
    "\n",
    "    quali['paiement_autre'] = quali['paiement_autre'].astype('bool')\n",
    "    quali['cable_t2_attache'] = quali['cable_t2_attache'].astype('bool')\n",
    "    quali['raccordement'] = quali['raccordement'].replace(np.nan, 'Direct')\n",
    "    quali['siren_amenageur'] = quali['siren_amenageur'].astype('string').replace([\"\", np.nan], \"000000000\")\n",
    "    quali['code_insee_commune'] = quali['code_insee_commune'].astype('string').replace([\"\", np.nan], \"99999\")\n",
    "    \n",
    "    quali['contact_amenageur'] = quali['contact_amenageur'].apply(check_value,  clas=EmailStr, default='amenageur@email.fr')\n",
    "    quali['contact_operateur'] = quali['contact_operateur'].apply(check_value,  clas=EmailStr, default='operateur@email.fr')\n",
    "    quali['telephone_operateur'] = quali['telephone_operateur'].apply(check_value,  clas=FrenchPhoneNumber, default='06-06-06-06-06')\n",
    "    quali['nbre_pdc'] = quali['nbre_pdc'].apply(check_value,  clas=PositiveInt, default=0)\n",
    "    quali['date_maj'] = quali['date_maj'].apply(check_value,  clas=PastDate, default='1900-01-01')\n",
    "    quali['num_pdl'] = quali['num_pdl'].apply(check_value,  clas=NumPdl, default='00001234567890')\n",
    "    quali['date_mise_en_service'] = quali['date_mise_en_service'].apply(check_value,  clas=PastDate, default='1900-01-01')\n",
    "    quali['puissance_nominale'] = quali['puissance_nominale'].apply(check_value,  clas=PositiveFloat, default=0.01)\n",
    "    prefix = quali['id_station_itinerance'].astype('str').str.slice(stop=5).apply(set_prefix)\n",
    "    quali['id_station_itinerance'] = prefix.str.cat(quali['id_station_itinerance'].astype('str').str.slice(start=5))\n",
    "    quali['id_pdc_itinerance'] = prefix.str.cat(quali['id_pdc_itinerance'].astype('str').str.slice(start=5))\n",
    "\n",
    "    quali['restriction_gabarit'] = quali['restriction_gabarit'].astype('string')\n",
    "    return quali\n",
    "\n",
    "itinerance_quali = pandas_to_qualicharge(itinerance_ok)"
   ]
  },
  {
   "cell_type": "code",
   "execution_count": 21,
   "metadata": {},
   "outputs": [
    {
     "data": {
      "text/plain": [
       "array([ True])"
      ]
     },
     "execution_count": 21,
     "metadata": {},
     "output_type": "execute_result"
    }
   ],
   "source": [
    "type(itinerance_quali.loc[85, 'restriction_gabarit'])\n",
    "itinerance_quali['paiement_autre'].unique()"
   ]
  },
  {
   "cell_type": "code",
   "execution_count": 22,
   "metadata": {},
   "outputs": [
    {
     "data": {
      "text/html": [
       "<div>\n",
       "<style scoped>\n",
       "    .dataframe tbody tr th:only-of-type {\n",
       "        vertical-align: middle;\n",
       "    }\n",
       "\n",
       "    .dataframe tbody tr th {\n",
       "        vertical-align: top;\n",
       "    }\n",
       "\n",
       "    .dataframe thead th {\n",
       "        text-align: right;\n",
       "    }\n",
       "</style>\n",
       "<table border=\"1\" class=\"dataframe\">\n",
       "  <thead>\n",
       "    <tr style=\"text-align: right;\">\n",
       "      <th></th>\n",
       "      <th>index</th>\n",
       "      <th>contact_operateur</th>\n",
       "      <th>nom_enseigne</th>\n",
       "      <th>coordonneesXY</th>\n",
       "      <th>adresse_station</th>\n",
       "      <th>id_station_itinerance</th>\n",
       "      <th>nom_station</th>\n",
       "      <th>implantation_station</th>\n",
       "      <th>nbre_pdc</th>\n",
       "      <th>condition_acces</th>\n",
       "      <th>horaires</th>\n",
       "      <th>station_deux_roues</th>\n",
       "      <th>id_pdc_itinerance</th>\n",
       "      <th>date_maj</th>\n",
       "      <th>last_modified</th>\n",
       "    </tr>\n",
       "  </thead>\n",
       "  <tbody>\n",
       "    <tr>\n",
       "      <th>0</th>\n",
       "      <td>0</td>\n",
       "      <td>oscar@electromaps.com</td>\n",
       "      <td>Hotel saint alban</td>\n",
       "      <td>[3.407609123225763, 43.41959147913006]</td>\n",
       "      <td>31 Avenue d'Agde 34120 Nézignan-l'Évêque, Hérault</td>\n",
       "      <td>FR073011062174</td>\n",
       "      <td>Hotel saint alban</td>\n",
       "      <td>Parking privé à usage public</td>\n",
       "      <td>1</td>\n",
       "      <td>Accès libre</td>\n",
       "      <td>Mo-Fr 08:00-12:00,Mo-Fr 14:00-18:00,Th 08:00-1...</td>\n",
       "      <td>FALSE</td>\n",
       "      <td>FR073011062174</td>\n",
       "      <td>2022-04-25</td>\n",
       "      <td>2024-01-19T07:47:00.381000+00:00</td>\n",
       "    </tr>\n",
       "    <tr>\n",
       "      <th>1</th>\n",
       "      <td>1</td>\n",
       "      <td>oscar@electromaps.com</td>\n",
       "      <td>Hôtel Restaurant Campanile Nogent-sur-Marne</td>\n",
       "      <td>[2.493569567590577, 48.832677935169805]</td>\n",
       "      <td>13 Quai du Port 94130 Nogent-sur-Marne France</td>\n",
       "      <td>FR073012292701</td>\n",
       "      <td>Hôtel Restaurant Campanile Nogent-sur-Marne</td>\n",
       "      <td>Parking privé à usage public</td>\n",
       "      <td>2</td>\n",
       "      <td>Accès libre</td>\n",
       "      <td>Mo-Fr 08:00-12:00,Mo-Fr 14:00-18:00,Th 08:00-1...</td>\n",
       "      <td>FALSE</td>\n",
       "      <td>FR073012292701</td>\n",
       "      <td>2022-05-12</td>\n",
       "      <td>2024-01-19T07:47:00.381000+00:00</td>\n",
       "    </tr>\n",
       "    <tr>\n",
       "      <th>2</th>\n",
       "      <td>2</td>\n",
       "      <td>oscar@electromaps.com</td>\n",
       "      <td>Résidence les calanques</td>\n",
       "      <td>[8.657888301758055, 41.908579309038004]</td>\n",
       "      <td>52 Rte des Sanguinaires 20000 Ajaccio</td>\n",
       "      <td>FR073012308585</td>\n",
       "      <td>Résidence les calanques</td>\n",
       "      <td>Parking privé à usage public</td>\n",
       "      <td>8</td>\n",
       "      <td>Accès libre</td>\n",
       "      <td>Mo-Fr 08:00-12:00,Mo-Fr 14:00-18:00,Th 08:00-1...</td>\n",
       "      <td>FALSE</td>\n",
       "      <td>FR073012308585</td>\n",
       "      <td>2022-04-19</td>\n",
       "      <td>2024-01-19T07:47:00.381000+00:00</td>\n",
       "    </tr>\n",
       "    <tr>\n",
       "      <th>3</th>\n",
       "      <td>3</td>\n",
       "      <td>oscar@electromaps.com</td>\n",
       "      <td>1PACTE</td>\n",
       "      <td>[5.476711409891, 43.476583984941]</td>\n",
       "      <td>Chem. de Chabanu, 13120 Gardanne</td>\n",
       "      <td>FR073012616553</td>\n",
       "      <td>1PACTE</td>\n",
       "      <td>Parking privé à usage public</td>\n",
       "      <td>2</td>\n",
       "      <td>Accès libre</td>\n",
       "      <td>Mo-Fr 08:00-12:00,Mo-Fr 14:00-18:00,Th 08:00-1...</td>\n",
       "      <td>FALSE</td>\n",
       "      <td>FR073012616553</td>\n",
       "      <td>2022-05-04</td>\n",
       "      <td>2024-01-19T07:47:00.381000+00:00</td>\n",
       "    </tr>\n",
       "    <tr>\n",
       "      <th>4</th>\n",
       "      <td>4</td>\n",
       "      <td>ismael@electromaps.com</td>\n",
       "      <td>SAS La Tuiliere</td>\n",
       "      <td>[5.143766265497639, 43.3292004491334]</td>\n",
       "      <td>34, avenue Draïo de la Mar 13620 Carry-le-Rouet</td>\n",
       "      <td>FR073028067822</td>\n",
       "      <td>Carry-le-Rouet</td>\n",
       "      <td>Parking privé à usage public</td>\n",
       "      <td>2</td>\n",
       "      <td>Accès libre</td>\n",
       "      <td>24/7</td>\n",
       "      <td>false</td>\n",
       "      <td>FR073028067822</td>\n",
       "      <td>2023-06-06</td>\n",
       "      <td>2024-01-19T07:48:04.429000+00:00</td>\n",
       "    </tr>\n",
       "    <tr>\n",
       "      <th>...</th>\n",
       "      <td>...</td>\n",
       "      <td>...</td>\n",
       "      <td>...</td>\n",
       "      <td>...</td>\n",
       "      <td>...</td>\n",
       "      <td>...</td>\n",
       "      <td>...</td>\n",
       "      <td>...</td>\n",
       "      <td>...</td>\n",
       "      <td>...</td>\n",
       "      <td>...</td>\n",
       "      <td>...</td>\n",
       "      <td>...</td>\n",
       "      <td>...</td>\n",
       "      <td>...</td>\n",
       "    </tr>\n",
       "    <tr>\n",
       "      <th>76</th>\n",
       "      <td>109</td>\n",
       "      <td>contact@nexteneo.com</td>\n",
       "      <td>Ville d'Annecy</td>\n",
       "      <td>[6.116686, 45.917568]</td>\n",
       "      <td>[33 Boulevard du Fier][74000][Annecy]</td>\n",
       "      <td>FR0NXPOOLC4BHY</td>\n",
       "      <td>Ville d'Annecy - Parc des sports</td>\n",
       "      <td>Parking public</td>\n",
       "      <td>9</td>\n",
       "      <td>Accès réservé</td>\n",
       "      <td>24/7</td>\n",
       "      <td>FALSE</td>\n",
       "      <td>FR0NXEVSEXALXR</td>\n",
       "      <td>2024-06-08</td>\n",
       "      <td>2024-05-30T10:20:40.802000+00:00</td>\n",
       "    </tr>\n",
       "    <tr>\n",
       "      <th>77</th>\n",
       "      <td>110</td>\n",
       "      <td>contact@nexteneo.com</td>\n",
       "      <td>SA TRANSPORTS FRANCONY</td>\n",
       "      <td>[6.111914, 45.881672]</td>\n",
       "      <td>[10 Rue de la Bouverie][74600][Seynod]</td>\n",
       "      <td>FR0NXPOOLTMC8P</td>\n",
       "      <td>SABA</td>\n",
       "      <td>Parking privé réservé à la clientèle</td>\n",
       "      <td>3</td>\n",
       "      <td>Accès réservé</td>\n",
       "      <td>Mo-Fr 12:00-14:00</td>\n",
       "      <td>FALSE</td>\n",
       "      <td>FR0NXEVSEXB9YG</td>\n",
       "      <td>2023-06-01</td>\n",
       "      <td>2024-05-30T10:20:40.802000+00:00</td>\n",
       "    </tr>\n",
       "    <tr>\n",
       "      <th>78</th>\n",
       "      <td>111</td>\n",
       "      <td>contact@nexteneo.com</td>\n",
       "      <td>CLUB MED</td>\n",
       "      <td>[6.897273, 45.459233]</td>\n",
       "      <td>[Rue de la Legettaz][73150][Val-d'Isère]</td>\n",
       "      <td>FR0NXPOOLNXWJ8</td>\n",
       "      <td>CLUB MED</td>\n",
       "      <td>Parking privé réservé à la clientèle</td>\n",
       "      <td>20</td>\n",
       "      <td>Accès réservé</td>\n",
       "      <td>24/7</td>\n",
       "      <td>FALSE</td>\n",
       "      <td>FR0NXEVSEYAT9J</td>\n",
       "      <td>2023-02-10</td>\n",
       "      <td>2024-05-30T10:20:40.802000+00:00</td>\n",
       "    </tr>\n",
       "    <tr>\n",
       "      <th>79</th>\n",
       "      <td>112</td>\n",
       "      <td>contact@nexteneo.com</td>\n",
       "      <td>CLUB MED</td>\n",
       "      <td>[6.897273, 45.459233]</td>\n",
       "      <td>[Rue de la Legettaz][73150][Val-d'Isère]</td>\n",
       "      <td>FR0NXPOOLNXWJ8</td>\n",
       "      <td>CLUB MED</td>\n",
       "      <td>Parking privé réservé à la clientèle</td>\n",
       "      <td>20</td>\n",
       "      <td>Accès réservé</td>\n",
       "      <td>24/7</td>\n",
       "      <td>FALSE</td>\n",
       "      <td>FR0NXEVSEYGA88</td>\n",
       "      <td>2023-02-10</td>\n",
       "      <td>2024-05-30T10:20:40.802000+00:00</td>\n",
       "    </tr>\n",
       "    <tr>\n",
       "      <th>80</th>\n",
       "      <td>113</td>\n",
       "      <td>contact@nexteneo.com</td>\n",
       "      <td>Ville d'Annecy</td>\n",
       "      <td>[6.116686, 45.917568]</td>\n",
       "      <td>[33 Boulevard du Fier][74000][Annecy]</td>\n",
       "      <td>FR0NXPOOLC4BHY</td>\n",
       "      <td>Ville d'Annecy - Parc des sports</td>\n",
       "      <td>Parking public</td>\n",
       "      <td>9</td>\n",
       "      <td>Accès réservé</td>\n",
       "      <td>24/7</td>\n",
       "      <td>FALSE</td>\n",
       "      <td>FR0NXEVSEYN8C9</td>\n",
       "      <td>2024-06-15</td>\n",
       "      <td>2024-05-30T10:20:40.802000+00:00</td>\n",
       "    </tr>\n",
       "  </tbody>\n",
       "</table>\n",
       "<p>81 rows × 15 columns</p>\n",
       "</div>"
      ],
      "text/plain": [
       "    index       contact_operateur  \\\n",
       "0       0   oscar@electromaps.com   \n",
       "1       1   oscar@electromaps.com   \n",
       "2       2   oscar@electromaps.com   \n",
       "3       3   oscar@electromaps.com   \n",
       "4       4  ismael@electromaps.com   \n",
       "..    ...                     ...   \n",
       "76    109    contact@nexteneo.com   \n",
       "77    110    contact@nexteneo.com   \n",
       "78    111    contact@nexteneo.com   \n",
       "79    112    contact@nexteneo.com   \n",
       "80    113    contact@nexteneo.com   \n",
       "\n",
       "                                   nom_enseigne  \\\n",
       "0                             Hotel saint alban   \n",
       "1   Hôtel Restaurant Campanile Nogent-sur-Marne   \n",
       "2                       Résidence les calanques   \n",
       "3                                        1PACTE   \n",
       "4                               SAS La Tuiliere   \n",
       "..                                          ...   \n",
       "76                               Ville d'Annecy   \n",
       "77                       SA TRANSPORTS FRANCONY   \n",
       "78                                     CLUB MED   \n",
       "79                                     CLUB MED   \n",
       "80                               Ville d'Annecy   \n",
       "\n",
       "                              coordonneesXY  \\\n",
       "0    [3.407609123225763, 43.41959147913006]   \n",
       "1   [2.493569567590577, 48.832677935169805]   \n",
       "2   [8.657888301758055, 41.908579309038004]   \n",
       "3         [5.476711409891, 43.476583984941]   \n",
       "4     [5.143766265497639, 43.3292004491334]   \n",
       "..                                      ...   \n",
       "76                    [6.116686, 45.917568]   \n",
       "77                    [6.111914, 45.881672]   \n",
       "78                    [6.897273, 45.459233]   \n",
       "79                    [6.897273, 45.459233]   \n",
       "80                    [6.116686, 45.917568]   \n",
       "\n",
       "                                      adresse_station id_station_itinerance  \\\n",
       "0   31 Avenue d'Agde 34120 Nézignan-l'Évêque, Hérault        FR073011062174   \n",
       "1       13 Quai du Port 94130 Nogent-sur-Marne France        FR073012292701   \n",
       "2               52 Rte des Sanguinaires 20000 Ajaccio        FR073012308585   \n",
       "3                    Chem. de Chabanu, 13120 Gardanne        FR073012616553   \n",
       "4     34, avenue Draïo de la Mar 13620 Carry-le-Rouet        FR073028067822   \n",
       "..                                                ...                   ...   \n",
       "76              [33 Boulevard du Fier][74000][Annecy]        FR0NXPOOLC4BHY   \n",
       "77             [10 Rue de la Bouverie][74600][Seynod]        FR0NXPOOLTMC8P   \n",
       "78           [Rue de la Legettaz][73150][Val-d'Isère]        FR0NXPOOLNXWJ8   \n",
       "79           [Rue de la Legettaz][73150][Val-d'Isère]        FR0NXPOOLNXWJ8   \n",
       "80              [33 Boulevard du Fier][74000][Annecy]        FR0NXPOOLC4BHY   \n",
       "\n",
       "                                    nom_station  \\\n",
       "0                             Hotel saint alban   \n",
       "1   Hôtel Restaurant Campanile Nogent-sur-Marne   \n",
       "2                       Résidence les calanques   \n",
       "3                                        1PACTE   \n",
       "4                                Carry-le-Rouet   \n",
       "..                                          ...   \n",
       "76             Ville d'Annecy - Parc des sports   \n",
       "77                                         SABA   \n",
       "78                                     CLUB MED   \n",
       "79                                     CLUB MED   \n",
       "80             Ville d'Annecy - Parc des sports   \n",
       "\n",
       "                    implantation_station nbre_pdc condition_acces  \\\n",
       "0           Parking privé à usage public        1     Accès libre   \n",
       "1           Parking privé à usage public        2     Accès libre   \n",
       "2           Parking privé à usage public        8     Accès libre   \n",
       "3           Parking privé à usage public        2     Accès libre   \n",
       "4           Parking privé à usage public        2     Accès libre   \n",
       "..                                   ...      ...             ...   \n",
       "76                        Parking public        9   Accès réservé   \n",
       "77  Parking privé réservé à la clientèle        3   Accès réservé   \n",
       "78  Parking privé réservé à la clientèle       20   Accès réservé   \n",
       "79  Parking privé réservé à la clientèle       20   Accès réservé   \n",
       "80                        Parking public        9   Accès réservé   \n",
       "\n",
       "                                             horaires station_deux_roues  \\\n",
       "0   Mo-Fr 08:00-12:00,Mo-Fr 14:00-18:00,Th 08:00-1...              FALSE   \n",
       "1   Mo-Fr 08:00-12:00,Mo-Fr 14:00-18:00,Th 08:00-1...              FALSE   \n",
       "2   Mo-Fr 08:00-12:00,Mo-Fr 14:00-18:00,Th 08:00-1...              FALSE   \n",
       "3   Mo-Fr 08:00-12:00,Mo-Fr 14:00-18:00,Th 08:00-1...              FALSE   \n",
       "4                                                24/7              false   \n",
       "..                                                ...                ...   \n",
       "76                                               24/7              FALSE   \n",
       "77                                  Mo-Fr 12:00-14:00              FALSE   \n",
       "78                                               24/7              FALSE   \n",
       "79                                               24/7              FALSE   \n",
       "80                                               24/7              FALSE   \n",
       "\n",
       "   id_pdc_itinerance    date_maj                     last_modified  \n",
       "0     FR073011062174  2022-04-25  2024-01-19T07:47:00.381000+00:00  \n",
       "1     FR073012292701  2022-05-12  2024-01-19T07:47:00.381000+00:00  \n",
       "2     FR073012308585  2022-04-19  2024-01-19T07:47:00.381000+00:00  \n",
       "3     FR073012616553  2022-05-04  2024-01-19T07:47:00.381000+00:00  \n",
       "4     FR073028067822  2023-06-06  2024-01-19T07:48:04.429000+00:00  \n",
       "..               ...         ...                               ...  \n",
       "76    FR0NXEVSEXALXR  2024-06-08  2024-05-30T10:20:40.802000+00:00  \n",
       "77    FR0NXEVSEXB9YG  2023-06-01  2024-05-30T10:20:40.802000+00:00  \n",
       "78    FR0NXEVSEYAT9J  2023-02-10  2024-05-30T10:20:40.802000+00:00  \n",
       "79    FR0NXEVSEYGA88  2023-02-10  2024-05-30T10:20:40.802000+00:00  \n",
       "80    FR0NXEVSEYN8C9  2024-06-15  2024-05-30T10:20:40.802000+00:00  \n",
       "\n",
       "[81 rows x 15 columns]"
      ]
     },
     "execution_count": 22,
     "metadata": {},
     "output_type": "execute_result"
    }
   ],
   "source": [
    "itinerance_quali.loc[:80, relations]\n"
   ]
  },
  {
   "cell_type": "code",
   "execution_count": 23,
   "metadata": {},
   "outputs": [
    {
     "data": {
      "text/html": [
       "<div>\n",
       "<style scoped>\n",
       "    .dataframe tbody tr th:only-of-type {\n",
       "        vertical-align: middle;\n",
       "    }\n",
       "\n",
       "    .dataframe tbody tr th {\n",
       "        vertical-align: top;\n",
       "    }\n",
       "\n",
       "    .dataframe thead th {\n",
       "        text-align: right;\n",
       "    }\n",
       "</style>\n",
       "<table border=\"1\" class=\"dataframe\">\n",
       "  <thead>\n",
       "    <tr style=\"text-align: right;\">\n",
       "      <th></th>\n",
       "      <th>index</th>\n",
       "      <th>contact_operateur</th>\n",
       "      <th>nom_enseigne</th>\n",
       "      <th>coordonneesXY</th>\n",
       "      <th>adresse_station</th>\n",
       "      <th>id_station_itinerance</th>\n",
       "      <th>nom_station</th>\n",
       "      <th>implantation_station</th>\n",
       "      <th>nbre_pdc</th>\n",
       "      <th>condition_acces</th>\n",
       "      <th>horaires</th>\n",
       "      <th>station_deux_roues</th>\n",
       "      <th>id_pdc_itinerance</th>\n",
       "      <th>date_maj</th>\n",
       "      <th>last_modified</th>\n",
       "    </tr>\n",
       "  </thead>\n",
       "  <tbody>\n",
       "    <tr>\n",
       "      <th>0</th>\n",
       "      <td>0</td>\n",
       "      <td>oscar@electromaps.com</td>\n",
       "      <td>Hotel saint alban</td>\n",
       "      <td>[3.407609123225763, 43.41959147913006]</td>\n",
       "      <td>31 Avenue d'Agde 34120 Nézignan-l'Évêque, Hérault</td>\n",
       "      <td>FR073011062174</td>\n",
       "      <td>Hotel saint alban</td>\n",
       "      <td>Parking privé à usage public</td>\n",
       "      <td>1</td>\n",
       "      <td>Accès libre</td>\n",
       "      <td>Mo-Fr 08:00-12:00,Mo-Fr 14:00-18:00,Th 08:00-1...</td>\n",
       "      <td>FALSE</td>\n",
       "      <td>FR073011062174</td>\n",
       "      <td>2022-04-25</td>\n",
       "      <td>2024-01-19T07:47:00.381000+00:00</td>\n",
       "    </tr>\n",
       "    <tr>\n",
       "      <th>1</th>\n",
       "      <td>1</td>\n",
       "      <td>oscar@electromaps.com</td>\n",
       "      <td>Hôtel Restaurant Campanile Nogent-sur-Marne</td>\n",
       "      <td>[2.493569567590577, 48.832677935169805]</td>\n",
       "      <td>13 Quai du Port 94130 Nogent-sur-Marne France</td>\n",
       "      <td>FR073012292701</td>\n",
       "      <td>Hôtel Restaurant Campanile Nogent-sur-Marne</td>\n",
       "      <td>Parking privé à usage public</td>\n",
       "      <td>2</td>\n",
       "      <td>Accès libre</td>\n",
       "      <td>Mo-Fr 08:00-12:00,Mo-Fr 14:00-18:00,Th 08:00-1...</td>\n",
       "      <td>FALSE</td>\n",
       "      <td>FR073012292701</td>\n",
       "      <td>2022-05-12</td>\n",
       "      <td>2024-01-19T07:47:00.381000+00:00</td>\n",
       "    </tr>\n",
       "    <tr>\n",
       "      <th>2</th>\n",
       "      <td>2</td>\n",
       "      <td>oscar@electromaps.com</td>\n",
       "      <td>Résidence les calanques</td>\n",
       "      <td>[8.657888301758055, 41.908579309038004]</td>\n",
       "      <td>52 Rte des Sanguinaires 20000 Ajaccio</td>\n",
       "      <td>FR073012308585</td>\n",
       "      <td>Résidence les calanques</td>\n",
       "      <td>Parking privé à usage public</td>\n",
       "      <td>8</td>\n",
       "      <td>Accès libre</td>\n",
       "      <td>Mo-Fr 08:00-12:00,Mo-Fr 14:00-18:00,Th 08:00-1...</td>\n",
       "      <td>FALSE</td>\n",
       "      <td>FR073012308585</td>\n",
       "      <td>2022-04-19</td>\n",
       "      <td>2024-01-19T07:47:00.381000+00:00</td>\n",
       "    </tr>\n",
       "    <tr>\n",
       "      <th>3</th>\n",
       "      <td>3</td>\n",
       "      <td>oscar@electromaps.com</td>\n",
       "      <td>1PACTE</td>\n",
       "      <td>[5.476711409891, 43.476583984941]</td>\n",
       "      <td>Chem. de Chabanu, 13120 Gardanne</td>\n",
       "      <td>FR073012616553</td>\n",
       "      <td>1PACTE</td>\n",
       "      <td>Parking privé à usage public</td>\n",
       "      <td>2</td>\n",
       "      <td>Accès libre</td>\n",
       "      <td>Mo-Fr 08:00-12:00,Mo-Fr 14:00-18:00,Th 08:00-1...</td>\n",
       "      <td>FALSE</td>\n",
       "      <td>FR073012616553</td>\n",
       "      <td>2022-05-04</td>\n",
       "      <td>2024-01-19T07:47:00.381000+00:00</td>\n",
       "    </tr>\n",
       "    <tr>\n",
       "      <th>4</th>\n",
       "      <td>4</td>\n",
       "      <td>ismael@electromaps.com</td>\n",
       "      <td>SAS La Tuiliere</td>\n",
       "      <td>[5.143766265497639, 43.3292004491334]</td>\n",
       "      <td>34, avenue Draïo de la Mar 13620 Carry-le-Rouet</td>\n",
       "      <td>FR073028067822</td>\n",
       "      <td>Carry-le-Rouet</td>\n",
       "      <td>Parking privé à usage public</td>\n",
       "      <td>2</td>\n",
       "      <td>Accès libre</td>\n",
       "      <td>24/7</td>\n",
       "      <td>false</td>\n",
       "      <td>FR073028067822</td>\n",
       "      <td>2023-06-06</td>\n",
       "      <td>2024-01-19T07:48:04.429000+00:00</td>\n",
       "    </tr>\n",
       "    <tr>\n",
       "      <th>...</th>\n",
       "      <td>...</td>\n",
       "      <td>...</td>\n",
       "      <td>...</td>\n",
       "      <td>...</td>\n",
       "      <td>...</td>\n",
       "      <td>...</td>\n",
       "      <td>...</td>\n",
       "      <td>...</td>\n",
       "      <td>...</td>\n",
       "      <td>...</td>\n",
       "      <td>...</td>\n",
       "      <td>...</td>\n",
       "      <td>...</td>\n",
       "      <td>...</td>\n",
       "      <td>...</td>\n",
       "    </tr>\n",
       "    <tr>\n",
       "      <th>67561</th>\n",
       "      <td>77618</td>\n",
       "      <td>advenir@zeborne.com</td>\n",
       "      <td>TOYOTA NICE - NOVELLIPSE</td>\n",
       "      <td>[7.201547, 43.6885902]</td>\n",
       "      <td>108 Avenue Simone Veil 06200 Nice</td>\n",
       "      <td>FRZTLE24DC55361</td>\n",
       "      <td>Toyota - Nice - 24kW DC</td>\n",
       "      <td>Parking public</td>\n",
       "      <td>1</td>\n",
       "      <td>Accès libre</td>\n",
       "      <td>Mo-Fr 08:00–12:30,Mo-Fr 13:30–19:00,Sat 09:00-...</td>\n",
       "      <td>false</td>\n",
       "      <td>FRZTLE24DC55361</td>\n",
       "      <td>2021-02-24</td>\n",
       "      <td>2024-01-19T07:46:20.729000+00:00</td>\n",
       "    </tr>\n",
       "    <tr>\n",
       "      <th>67562</th>\n",
       "      <td>77619</td>\n",
       "      <td>advenir@zeborne.com</td>\n",
       "      <td>GARAGE NELLO CHELI - BEAUNE</td>\n",
       "      <td>[4.86082418, 47.0236522]</td>\n",
       "      <td>RUE LUCIEN PERRIAUX ZI DE VIGNOLES 21200 Beaune</td>\n",
       "      <td>FRZTLE24DC61318</td>\n",
       "      <td>Toyota - Beaune - 24kW DC</td>\n",
       "      <td>Parking public</td>\n",
       "      <td>1</td>\n",
       "      <td>Accès libre</td>\n",
       "      <td>Mo-Fr 07:45-12:00,Mo-Fr 13:45-19:00,Sat 09:00-...</td>\n",
       "      <td>false</td>\n",
       "      <td>FRZTLE24DC61318</td>\n",
       "      <td>2021-05-24</td>\n",
       "      <td>2024-01-19T07:46:19.511000+00:00</td>\n",
       "    </tr>\n",
       "    <tr>\n",
       "      <th>67563</th>\n",
       "      <td>77620</td>\n",
       "      <td>advenir@zeborne.com</td>\n",
       "      <td>GARAGE NELLO CHELI - BEAUNE</td>\n",
       "      <td>[4.86082418, 47.0236522]</td>\n",
       "      <td>RUE LUCIEN PERRIAUX ZI DE VIGNOLES 21200 Beaune</td>\n",
       "      <td>FRZTLE24DC61319</td>\n",
       "      <td>Toyota - Beaune - 24kW DC</td>\n",
       "      <td>Parking public</td>\n",
       "      <td>1</td>\n",
       "      <td>Accès libre</td>\n",
       "      <td>Mo-Fr 07:45-12:00,Mo-Fr 13:45-19:00,Sat 09:00-...</td>\n",
       "      <td>false</td>\n",
       "      <td>FRZTLE24DC61319</td>\n",
       "      <td>2021-05-24</td>\n",
       "      <td>2024-01-19T07:46:19.511000+00:00</td>\n",
       "    </tr>\n",
       "    <tr>\n",
       "      <th>67564</th>\n",
       "      <td>77621</td>\n",
       "      <td>advenir@zeborne.com</td>\n",
       "      <td>TOYOTA ANNEMASSE - DEGENEVE</td>\n",
       "      <td>[6.2174783, 46.1858677]</td>\n",
       "      <td>8 RUE DE L'INDUSTRIE 74240 Gaillard</td>\n",
       "      <td>FRZTLE24DC63446</td>\n",
       "      <td>Toyota - Annemasse - 24kW DC</td>\n",
       "      <td>Parking public</td>\n",
       "      <td>1</td>\n",
       "      <td>Accès libre</td>\n",
       "      <td>Mo-Fr 08:00-12:00,Mo-Fr 14:00-19:00,Sat 09:00-...</td>\n",
       "      <td>false</td>\n",
       "      <td>FRZTLE24DC63446</td>\n",
       "      <td>2021-06-16</td>\n",
       "      <td>2024-01-19T07:46:18.987000+00:00</td>\n",
       "    </tr>\n",
       "    <tr>\n",
       "      <th>67565</th>\n",
       "      <td>77622</td>\n",
       "      <td>advenir@zeborne.com</td>\n",
       "      <td>Toyota - Reims</td>\n",
       "      <td>[4.084008, 49.238637]</td>\n",
       "      <td>1 RUE LENA BERNSTEIN- ZAC CROIX BLANDIN - CITE...</td>\n",
       "      <td>FRZTLE24DC70175</td>\n",
       "      <td>Toyota - Reims - 24KW DC</td>\n",
       "      <td>Parking public</td>\n",
       "      <td>1</td>\n",
       "      <td>Accès libre</td>\n",
       "      <td>Mo-Fri 08:00-19:00,Sat 09:00-19:00</td>\n",
       "      <td>false</td>\n",
       "      <td>FRZTLE24DC70175</td>\n",
       "      <td>2021-08-30</td>\n",
       "      <td>2024-01-19T07:50:05.443000+00:00</td>\n",
       "    </tr>\n",
       "  </tbody>\n",
       "</table>\n",
       "<p>67566 rows × 15 columns</p>\n",
       "</div>"
      ],
      "text/plain": [
       "       index       contact_operateur  \\\n",
       "0          0   oscar@electromaps.com   \n",
       "1          1   oscar@electromaps.com   \n",
       "2          2   oscar@electromaps.com   \n",
       "3          3   oscar@electromaps.com   \n",
       "4          4  ismael@electromaps.com   \n",
       "...      ...                     ...   \n",
       "67561  77618     advenir@zeborne.com   \n",
       "67562  77619     advenir@zeborne.com   \n",
       "67563  77620     advenir@zeborne.com   \n",
       "67564  77621     advenir@zeborne.com   \n",
       "67565  77622     advenir@zeborne.com   \n",
       "\n",
       "                                      nom_enseigne  \\\n",
       "0                                Hotel saint alban   \n",
       "1      Hôtel Restaurant Campanile Nogent-sur-Marne   \n",
       "2                          Résidence les calanques   \n",
       "3                                           1PACTE   \n",
       "4                                  SAS La Tuiliere   \n",
       "...                                            ...   \n",
       "67561                     TOYOTA NICE - NOVELLIPSE   \n",
       "67562                  GARAGE NELLO CHELI - BEAUNE   \n",
       "67563                  GARAGE NELLO CHELI - BEAUNE   \n",
       "67564                  TOYOTA ANNEMASSE - DEGENEVE   \n",
       "67565                               Toyota - Reims   \n",
       "\n",
       "                                 coordonneesXY  \\\n",
       "0       [3.407609123225763, 43.41959147913006]   \n",
       "1      [2.493569567590577, 48.832677935169805]   \n",
       "2      [8.657888301758055, 41.908579309038004]   \n",
       "3            [5.476711409891, 43.476583984941]   \n",
       "4        [5.143766265497639, 43.3292004491334]   \n",
       "...                                        ...   \n",
       "67561                   [7.201547, 43.6885902]   \n",
       "67562                 [4.86082418, 47.0236522]   \n",
       "67563                 [4.86082418, 47.0236522]   \n",
       "67564                  [6.2174783, 46.1858677]   \n",
       "67565                    [4.084008, 49.238637]   \n",
       "\n",
       "                                         adresse_station  \\\n",
       "0      31 Avenue d'Agde 34120 Nézignan-l'Évêque, Hérault   \n",
       "1          13 Quai du Port 94130 Nogent-sur-Marne France   \n",
       "2                  52 Rte des Sanguinaires 20000 Ajaccio   \n",
       "3                       Chem. de Chabanu, 13120 Gardanne   \n",
       "4        34, avenue Draïo de la Mar 13620 Carry-le-Rouet   \n",
       "...                                                  ...   \n",
       "67561                  108 Avenue Simone Veil 06200 Nice   \n",
       "67562    RUE LUCIEN PERRIAUX ZI DE VIGNOLES 21200 Beaune   \n",
       "67563    RUE LUCIEN PERRIAUX ZI DE VIGNOLES 21200 Beaune   \n",
       "67564                8 RUE DE L'INDUSTRIE 74240 Gaillard   \n",
       "67565  1 RUE LENA BERNSTEIN- ZAC CROIX BLANDIN - CITE...   \n",
       "\n",
       "      id_station_itinerance                                  nom_station  \\\n",
       "0            FR073011062174                            Hotel saint alban   \n",
       "1            FR073012292701  Hôtel Restaurant Campanile Nogent-sur-Marne   \n",
       "2            FR073012308585                      Résidence les calanques   \n",
       "3            FR073012616553                                       1PACTE   \n",
       "4            FR073028067822                               Carry-le-Rouet   \n",
       "...                     ...                                          ...   \n",
       "67561       FRZTLE24DC55361                     Toyota - Nice - 24kW DC    \n",
       "67562       FRZTLE24DC61318                   Toyota - Beaune - 24kW DC    \n",
       "67563       FRZTLE24DC61319                   Toyota - Beaune - 24kW DC    \n",
       "67564       FRZTLE24DC63446                Toyota - Annemasse - 24kW DC    \n",
       "67565       FRZTLE24DC70175                    Toyota - Reims - 24KW DC    \n",
       "\n",
       "               implantation_station nbre_pdc condition_acces  \\\n",
       "0      Parking privé à usage public        1     Accès libre   \n",
       "1      Parking privé à usage public        2     Accès libre   \n",
       "2      Parking privé à usage public        8     Accès libre   \n",
       "3      Parking privé à usage public        2     Accès libre   \n",
       "4      Parking privé à usage public        2     Accès libre   \n",
       "...                             ...      ...             ...   \n",
       "67561                Parking public        1     Accès libre   \n",
       "67562                Parking public        1     Accès libre   \n",
       "67563                Parking public        1     Accès libre   \n",
       "67564                Parking public        1     Accès libre   \n",
       "67565                Parking public        1     Accès libre   \n",
       "\n",
       "                                                horaires station_deux_roues  \\\n",
       "0      Mo-Fr 08:00-12:00,Mo-Fr 14:00-18:00,Th 08:00-1...              FALSE   \n",
       "1      Mo-Fr 08:00-12:00,Mo-Fr 14:00-18:00,Th 08:00-1...              FALSE   \n",
       "2      Mo-Fr 08:00-12:00,Mo-Fr 14:00-18:00,Th 08:00-1...              FALSE   \n",
       "3      Mo-Fr 08:00-12:00,Mo-Fr 14:00-18:00,Th 08:00-1...              FALSE   \n",
       "4                                                   24/7              false   \n",
       "...                                                  ...                ...   \n",
       "67561  Mo-Fr 08:00–12:30,Mo-Fr 13:30–19:00,Sat 09:00-...              false   \n",
       "67562  Mo-Fr 07:45-12:00,Mo-Fr 13:45-19:00,Sat 09:00-...              false   \n",
       "67563  Mo-Fr 07:45-12:00,Mo-Fr 13:45-19:00,Sat 09:00-...              false   \n",
       "67564  Mo-Fr 08:00-12:00,Mo-Fr 14:00-19:00,Sat 09:00-...              false   \n",
       "67565                 Mo-Fri 08:00-19:00,Sat 09:00-19:00              false   \n",
       "\n",
       "      id_pdc_itinerance    date_maj                     last_modified  \n",
       "0        FR073011062174  2022-04-25  2024-01-19T07:47:00.381000+00:00  \n",
       "1        FR073012292701  2022-05-12  2024-01-19T07:47:00.381000+00:00  \n",
       "2        FR073012308585  2022-04-19  2024-01-19T07:47:00.381000+00:00  \n",
       "3        FR073012616553  2022-05-04  2024-01-19T07:47:00.381000+00:00  \n",
       "4        FR073028067822  2023-06-06  2024-01-19T07:48:04.429000+00:00  \n",
       "...                 ...         ...                               ...  \n",
       "67561   FRZTLE24DC55361  2021-02-24  2024-01-19T07:46:20.729000+00:00  \n",
       "67562   FRZTLE24DC61318  2021-05-24  2024-01-19T07:46:19.511000+00:00  \n",
       "67563   FRZTLE24DC61319  2021-05-24  2024-01-19T07:46:19.511000+00:00  \n",
       "67564   FRZTLE24DC63446  2021-06-16  2024-01-19T07:46:18.987000+00:00  \n",
       "67565   FRZTLE24DC70175  2021-08-30  2024-01-19T07:50:05.443000+00:00  \n",
       "\n",
       "[67566 rows x 15 columns]"
      ]
     },
     "execution_count": 23,
     "metadata": {},
     "output_type": "execute_result"
    }
   ],
   "source": [
    "itinerance_quali.loc[:, relations]"
   ]
  },
  {
   "cell_type": "code",
   "execution_count": 24,
   "metadata": {},
   "outputs": [
    {
     "ename": "NameError",
     "evalue": "name 'csv' is not defined",
     "output_type": "error",
     "traceback": [
      "\u001b[1;31m---------------------------------------------------------------------------\u001b[0m",
      "\u001b[1;31mNameError\u001b[0m                                 Traceback (most recent call last)",
      "Cell \u001b[1;32mIn[24], line 1\u001b[0m\n\u001b[1;32m----> 1\u001b[0m itinerance_quali[\u001b[38;5;124m'\u001b[39m\u001b[38;5;124mpaiement_autre\u001b[39m\u001b[38;5;124m'\u001b[39m]\u001b[38;5;241m.\u001b[39mto_csv(\u001b[38;5;124m'\u001b[39m\u001b[38;5;124mtest.csv\u001b[39m\u001b[38;5;124m'\u001b[39m, index\u001b[38;5;241m=\u001b[39m\u001b[38;5;28;01mFalse\u001b[39;00m, quoting\u001b[38;5;241m=\u001b[39m\u001b[43mcsv\u001b[49m\u001b[38;5;241m.\u001b[39mQUOTE_ALL, na_rep\u001b[38;5;241m=\u001b[39m\u001b[38;5;124m'\u001b[39m\u001b[38;5;124mempty\u001b[39m\u001b[38;5;124m'\u001b[39m)\n",
      "\u001b[1;31mNameError\u001b[0m: name 'csv' is not defined"
     ]
    }
   ],
   "source": [
    "itinerance_quali['paiement_autre'].to_csv('test.csv', index=False, quoting=csv.QUOTE_ALL, na_rep='empty')"
   ]
  },
  {
   "cell_type": "code",
   "execution_count": null,
   "metadata": {},
   "outputs": [],
   "source": [
    "import csv\n",
    "itinerance_quali.to_csv('IRVE_itinerance_valide_quali' + extension, index=False, quoting=csv.QUOTE_ALL, na_rep='empty')"
   ]
  },
  {
   "cell_type": "code",
   "execution_count": null,
   "metadata": {},
   "outputs": [],
   "source": [
    "for op in oper_5:\n",
    "    print('IRVE_itinerance_residuel' + '_' + op + '_' + extension)\n",
    "    itinerance_5_full.loc[itinerance_5_full.contact_operateur == op].to_csv('IRVE_itinerance_residuel' + '_' + op + '_' + extension)"
   ]
  },
  {
   "cell_type": "markdown",
   "metadata": {},
   "source": [
    "### vérification de l'intégrité"
   ]
  },
  {
   "cell_type": "code",
   "execution_count": null,
   "metadata": {},
   "outputs": [],
   "source": [
    "# vérification de l'absence d'erreurs\n",
    "res = analyse_integrite(itinerance_ok.loc[:, relations], schema, affiche=False)\n",
    "log['bilan_erreurs'] = sum(res.values())\n",
    "log['date'] = datetime.now().isoformat()\n",
    "print('bilan intégrité :')\n",
    "print('    erreurs : ', log['bilan_erreurs'])"
   ]
  },
  {
   "cell_type": "code",
   "execution_count": null,
   "metadata": {},
   "outputs": [],
   "source": [
    "# structure des données bonnes\n",
    "#print(Cdataset(itinerance_ok.loc[:, mandatory]).tree())\n",
    "print(itinerance_ok.loc[:, mandatory].npd.analysis().tree())"
   ]
  },
  {
   "cell_type": "markdown",
   "metadata": {},
   "source": [
    "### Indicateurs"
   ]
  },
  {
   "cell_type": "code",
   "execution_count": null,
   "metadata": {},
   "outputs": [],
   "source": [
    "# génération des indicateurs liés aux règles\n",
    "regles = ['Pdc non unique', 'Station multi-operateurs', 'Station multi-enseignes', 'Station multi-localisations', \n",
    "          'Pdc multi-stations', 'station avec plusieurs noms', 'station multi-implantations', \n",
    "          'nombre de pdc par station incoherent', 'station multi-acces', 'station multi-horaires', \n",
    "          'acces deux-roues incoherent', 'localisation multi-adresses']\n",
    "principal = [16, 17, 18, 19, 20]\n",
    "secondaire = [21, 22, 23, 24, 25, 26, 27]\n",
    "irve = itinerance_5_full # residuel\n",
    "total = len(irve)\n",
    "indic = {}\n",
    "\n",
    "irve['principal'] = True\n",
    "for ind in principal:\n",
    "    irve['principal'] &= irve.iloc[:,ind]\n",
    "    indic[regles[ind-16]] = int(total - irve.iloc[:,ind].sum())\n",
    "irve['secondaire'] = True\n",
    "for ind in secondaire:\n",
    "    irve['secondaire'] &= irve.iloc[:,ind]\n",
    "    indic[regles[ind-16]] = int(total - irve.iloc[:,ind].sum())\n",
    "irve['secondaire'] |= (~irve['principal'] & ~irve['secondaire'])\n",
    "irve['verif'] = irve['principal'] & irve['secondaire']\n",
    "indic['principal pdc'] = int(total - irve['principal'].sum())\n",
    "indic['secondaire pdc'] = int(total - irve['secondaire'].sum())\n",
    "\n",
    "irve_p = irve[~irve['principal']].drop_duplicates('id_station_itinerance').reset_index(drop=True)\n",
    "irve_s = irve[~irve['secondaire']].drop_duplicates('id_station_itinerance').reset_index(drop=True)\n",
    "indic['principal stat'] = len(irve_p)\n",
    "indic['secondaire stat'] = len(irve_s)"
   ]
  },
  {
   "cell_type": "code",
   "execution_count": null,
   "metadata": {},
   "outputs": [],
   "source": [
    "# ajout des principaux opérateurs contributeur de défauts\n",
    "indic['operateurs'] = list(oper_5)\n",
    "indic['erreurs_operateurs'] = list(err_op_5)"
   ]
  },
  {
   "cell_type": "code",
   "execution_count": null,
   "metadata": {},
   "outputs": [],
   "source": [
    "# ajout de l'indicateur d'écart entre nombre de pdc calculés et saisis\n",
    "add_nbre_pdc(irve, affiche=True)\n",
    "indic['nb_pdc_calc-nbre_pdc'] = int(irve['calc-nbre'].sum())"
   ]
  },
  {
   "cell_type": "code",
   "execution_count": null,
   "metadata": {},
   "outputs": [],
   "source": [
    "# indicateur d'écart entre nombre de pdc calculés et saisis sur les données sans doublon\n",
    "itinerance_sans_doublons = itinerance[~itinerance['doublons_a_supprimer']].reset_index(drop=True)\n",
    "add_nbre_pdc(itinerance_sans_doublons, affiche=True)"
   ]
  },
  {
   "cell_type": "code",
   "execution_count": null,
   "metadata": {},
   "outputs": [],
   "source": [
    "len(itinerance_4)"
   ]
  },
  {
   "cell_type": "code",
   "execution_count": null,
   "metadata": {},
   "outputs": [],
   "source": [
    "# stockage des indicateurs\n",
    "log |= indic\n",
    "log_file = log['chemin'] + '/' + 'logfile.txt'\n",
    "#with open('logfile.txt', 'a', encoding=\"utf-8\") as f:\n",
    "with open(log_file, 'a', encoding=\"utf-8\") as f:\n",
    "    f.write(json.dumps(log) + '\\n')"
   ]
  },
  {
   "cell_type": "code",
   "execution_count": null,
   "metadata": {},
   "outputs": [],
   "source": [
    "itinerance_5_full.columns[16:28]"
   ]
  },
  {
   "cell_type": "markdown",
   "metadata": {},
   "source": [
    "-----------------------\n",
    "## 8 - Exemples d'erreurs résiduelles \n",
    "\n",
    "### Erreurs multiples \n",
    "- exemple avec le nombre maximal d'erreurs (3) (109 pdc)\n",
    "- exemple station 'FR55CP92140' avec 29 pdc ! : 5 coordonnées XY, 5 nom_station, 2 nbre_pdc)"
   ]
  },
  {
   "cell_type": "code",
   "execution_count": null,
   "metadata": {},
   "outputs": [],
   "source": [
    "maxi.loc[:, relations]"
   ]
  },
  {
   "cell_type": "code",
   "execution_count": null,
   "metadata": {},
   "outputs": [],
   "source": [
    "itinerance_4.loc[itinerance_4.id_station_itinerance == 'FR55CP92140', relations]"
   ]
  },
  {
   "cell_type": "markdown",
   "metadata": {},
   "source": [
    "### Repartition des defauts par operateur\n",
    "Répartition pour les 5 opérateurs présentant le plus de défauts"
   ]
  },
  {
   "cell_type": "code",
   "execution_count": null,
   "metadata": {},
   "outputs": [],
   "source": [
    "print('PdC avec une incohérence : ')\n",
    "for operateur in oper_5:\n",
    "    print('\\n', sum(itinerance_5.contact_operateur == operateur))\n",
    "    print('Répartition des incohérences ', operateur, ' :')\n",
    "    for cont in controles:\n",
    "        #print(cont, sum((itinerance_4['contact_operateur'] == 'supervision-ev.france@totalenergies.com') & ~(itinerance_4[cont])))\n",
    "        print('{:<50} {:>5}'.format(cont, sum((itinerance_4['contact_operateur'] == operateur) & ~(itinerance_4[cont]))))"
   ]
  },
  {
   "cell_type": "markdown",
   "metadata": {},
   "source": [
    "### Defauts operateur Ouestcharge-Paysdelaloire\n",
    "Les défauts identifiés concernent des stations utilisant un même identifiant. Par exemple, la station 'FRADPP91479018' contient 82 points de recharge avec plusieurs adresses et un nombre de points de rechage variable. Cet exemple concerne des stations implantées sur plusieurs étages d'un parking (on devrait donc a minima identifier une station par étage)."
   ]
  },
  {
   "cell_type": "code",
   "execution_count": null,
   "metadata": {},
   "outputs": [],
   "source": [
    "sum(itinerance_sans_doublons.contact_operateur == 'assistance-technique@ouestcharge-paysdelaloire-moncompte.fr')"
   ]
  },
  {
   "cell_type": "code",
   "execution_count": null,
   "metadata": {},
   "outputs": [],
   "source": [
    "itinerance_4.loc[itinerance_4['contact_operateur'] == 'assistance-technique@ouestcharge-paysdelaloire-moncompte.fr', relations]"
   ]
  },
  {
   "cell_type": "code",
   "execution_count": null,
   "metadata": {},
   "outputs": [],
   "source": [
    "itinerance_4.loc[itinerance_4.coordonneesXY == '[-1.397512, 47.074964]', relations]"
   ]
  },
  {
   "cell_type": "markdown",
   "metadata": {},
   "source": [
    "### Defauts operateur ALIZECHARGE\n",
    "Les défauts identifiés concernent des stations utilisant un même identifiant. Par exemple, la station 'FRADPP91479018' contient 82 points de recharge avec plusieurs adresses et un nombre de points de rechage variable. Cet exemple concerne des stations implantées sur plusieurs étages d'un parking (on devrait donc a minima identifier une station par étage)."
   ]
  },
  {
   "cell_type": "code",
   "execution_count": null,
   "metadata": {},
   "outputs": [],
   "source": [
    "itinerance_4.loc[itinerance_4['contact_operateur'] == 'support@alizecharge.fr', relations][50:200]"
   ]
  },
  {
   "cell_type": "code",
   "execution_count": null,
   "metadata": {},
   "outputs": [],
   "source": [
    "# example [2.362554, 48.728787]\n",
    "adp = itinerance_4.loc[itinerance_4.coordonneesXY == '[2.362554, 48.728787]']\n",
    "adresses = list(adp.drop_duplicates('adresse_station')['adresse_station'])\n",
    "print(adresses)\n",
    "\n",
    "print(adp.loc[~adp['nom_station - id_station_itinerance'], ['nom_station', 'id_station_itinerance']])\n",
    "\n",
    "print(adp.loc[~adp['implantation_station - id_station_itinerance'], ['implantation_station', 'id_station_itinerance']])\n",
    "\n",
    "print(adp.loc[~adp['nbre_pdc - id_station_itinerance'], ['nbre_pdc', 'id_station_itinerance']])\n",
    "\n",
    "itinerance_4.loc[itinerance_4.coordonneesXY == '[2.362554, 48.728787]', relations]"
   ]
  },
  {
   "cell_type": "code",
   "execution_count": null,
   "metadata": {},
   "outputs": [],
   "source": [
    "itinerance_4.loc[itinerance_4['contact_operateur'] == 'support@alizecharge.fr', relations].loc[~itinerance_4['adresse_station - coordonneesXY']][500:600]"
   ]
  },
  {
   "cell_type": "code",
   "execution_count": null,
   "metadata": {},
   "outputs": [],
   "source": [
    "itinerance_4.loc[itinerance_4.id_station_itinerance == 'FRADPE914790181', relations]"
   ]
  },
  {
   "cell_type": "code",
   "execution_count": null,
   "metadata": {},
   "outputs": [],
   "source": [
    "itinerance_4.loc[itinerance_4.id_station_itinerance == 'FRADPE914790181', controles]"
   ]
  },
  {
   "cell_type": "code",
   "execution_count": null,
   "metadata": {},
   "outputs": [],
   "source": [
    "itinerance_4.loc[itinerance_4.coordonneesXY == '[2.362554, 48.728787]', controles]"
   ]
  },
  {
   "cell_type": "code",
   "execution_count": null,
   "metadata": {},
   "outputs": [],
   "source": [
    "itinerance_4.loc[itinerance_4.coordonneesXY == '[-1.666373, 47.527509]', relations]"
   ]
  },
  {
   "cell_type": "code",
   "execution_count": null,
   "metadata": {},
   "outputs": [],
   "source": [
    "itinerance_4.loc[itinerance_4.coordonneesXY == '[-1.022143, 46.877453]', relations]"
   ]
  },
  {
   "cell_type": "code",
   "execution_count": null,
   "metadata": {},
   "outputs": [],
   "source": [
    "itinerance_4.loc[itinerance_4.coordonneesXY == '[2.362554, 48.728787]', relations]"
   ]
  },
  {
   "cell_type": "markdown",
   "metadata": {},
   "source": [
    "### Defauts operateur IZIVIA\n",
    "Les défauts au nombre de 280 sont liés à une incohérence entre adresse et coordonnées (une même coordonnée a plusieurs adresses différentes). Ce défaut est lié soit à des erreurs de saisie, soit à des ajouts (ou remplacements) ultérieurs de stations à une même localisation.\n",
    "\n",
    "Les stations Izivia en erreur ont un id_station_itinerance identique à l'id_pdc_itinerance, ce qui se traduit par des adresses multiples pour une même coordonnée.\n",
    "\n",
    "Par exemple, sur un parking [-0.530598, 47.398424], on trouve 17 stations avec la même coordonnée, le même identifiant entre point de recharge et station et un nombre de PdC indiqué entre 1 et 3."
   ]
  },
  {
   "cell_type": "code",
   "execution_count": null,
   "metadata": {},
   "outputs": [],
   "source": [
    "itinerance_4.loc[itinerance_4['contact_operateur'] == 'sav@izivia.com', relations]"
   ]
  },
  {
   "cell_type": "code",
   "execution_count": null,
   "metadata": {},
   "outputs": [],
   "source": [
    "itinerance_4.loc[itinerance_4.coordonneesXY == '[-0.530598, 47.398424]', relations]"
   ]
  },
  {
   "cell_type": "markdown",
   "metadata": {},
   "source": [
    "### Defauts operateur IONITY\n",
    "Les défauts (480 points de recharge) sont liés à une incohérence entre adresse et coordonnées (une même coordonnée a plusieurs adresses différentes). Ce défaut est lié soit à des erreurs de saisie, soit à des ajouts (ou remplacements) ultérieurs de stations à une même localisation.\n",
    "\n",
    "Les stations Ionity en erreur ont un id_station_itinerance identique à l'id_pdc_itinerance ainsi qu'un ancien pdc de regroupement par station avec un nom d'enseigne différent (IONITY GMBH), ce qui se traduit par des adresses multiples pour une même coordonnée.\n",
    "\n",
    "Par exemple, sur l'aire de Mornas [4.732409, 44.194832], on trouve 26 stations avec la même coordonnée, le même identifiant entre point de recharge et station et un nombre de PdC indiqué de 23 pour chaque station."
   ]
  },
  {
   "cell_type": "code",
   "execution_count": null,
   "metadata": {},
   "outputs": [],
   "source": [
    "itinerance_4.loc[itinerance_4['contact_operateur'] == 'info@ionity.eu', relations]"
   ]
  },
  {
   "cell_type": "code",
   "execution_count": null,
   "metadata": {},
   "outputs": [],
   "source": [
    "itinerance_4.loc[itinerance_4.coordonneesXY == '[1.580008, 48.468782]', relations]"
   ]
  },
  {
   "cell_type": "code",
   "execution_count": null,
   "metadata": {},
   "outputs": [],
   "source": [
    "itinerance_4.loc[itinerance_4.coordonneesXY == '[4.732409, 44.194832]', relations]"
   ]
  },
  {
   "cell_type": "code",
   "execution_count": null,
   "metadata": {},
   "outputs": [],
   "source": [
    "itinerance_4.loc[itinerance_4['contact_operateur'] == 'info@ionity.eu', relations]"
   ]
  },
  {
   "cell_type": "code",
   "execution_count": null,
   "metadata": {},
   "outputs": [],
   "source": [
    "itinerance_4.loc[itinerance_4.coordonneesXY == '[0.366838, 46.701436]', relations]"
   ]
  },
  {
   "cell_type": "code",
   "execution_count": null,
   "metadata": {},
   "outputs": [],
   "source": [
    "itinerance_4.loc[itinerance_4.coordonneesXY == '[2.523685, 48.9908]', relations]"
   ]
  },
  {
   "cell_type": "markdown",
   "metadata": {},
   "source": [
    "### Cohérence implantation_station - id_station\n",
    "- 107 pdc sont liés à une erreur de choix d'implantation (couplé à d'autres erreurs)"
   ]
  },
  {
   "cell_type": "code",
   "execution_count": null,
   "metadata": {},
   "outputs": [],
   "source": [
    "itinerance_4.loc[~itinerance_4['implantation_station - id_station_itinerance'], relations]"
   ]
  },
  {
   "cell_type": "markdown",
   "metadata": {},
   "source": [
    "### Cohérence nom_station - id_station\n",
    "- 210 pdc sont associés à une station avec un nom non cohérent"
   ]
  },
  {
   "cell_type": "code",
   "execution_count": null,
   "metadata": {},
   "outputs": [],
   "source": [
    "itinerance_4.loc[~itinerance_4['nom_station - id_station_itinerance'], relations]"
   ]
  },
  {
   "cell_type": "markdown",
   "metadata": {},
   "source": [
    "### Coherence adresse - coordonnees\n",
    "- 2337 pdc ont une adresse non cohérente avec les coordonnées géographiques"
   ]
  },
  {
   "cell_type": "code",
   "execution_count": null,
   "metadata": {},
   "outputs": [],
   "source": [
    "itinerance_4.loc[~itinerance_4['adresse_station - coordonneesXY'], relations]"
   ]
  },
  {
   "cell_type": "code",
   "execution_count": null,
   "metadata": {},
   "outputs": [],
   "source": [
    "itinerance_4.loc[itinerance_4.coordonneesXY == '[5.2592028, 46.1746523]', relations]"
   ]
  },
  {
   "cell_type": "code",
   "execution_count": null,
   "metadata": {},
   "outputs": [],
   "source": [
    "itinerance_4.loc[itinerance_4.adresse_station == 'RN 75 ZI DE NOIREFONTAINE 01250 Montagnat', relations]"
   ]
  },
  {
   "cell_type": "code",
   "execution_count": null,
   "metadata": {},
   "outputs": [],
   "source": [
    "itinerance_4.loc[itinerance_4.adresse_station == ' RN 75 ZI DE NOIREFONTAINE 01250 Montagnat', relations]"
   ]
  },
  {
   "cell_type": "markdown",
   "metadata": {},
   "source": [
    "### Cohérence station - coordonnées\n",
    "- 218 pdc sont associés à des stations avec plusieurs coordonnées (majorité AlizeCharge)"
   ]
  },
  {
   "cell_type": "code",
   "execution_count": null,
   "metadata": {},
   "outputs": [],
   "source": [
    "itinerance_4.loc[~itinerance_4['coordonneesXY - id_station_itinerance'], relations]"
   ]
  },
  {
   "cell_type": "code",
   "execution_count": null,
   "metadata": {},
   "outputs": [],
   "source": [
    "itinerance_5.loc[itinerance_5.id_station_itinerance\t == 'FRTLSE31555040', relations]"
   ]
  },
  {
   "cell_type": "code",
   "execution_count": null,
   "metadata": {},
   "outputs": [],
   "source": [
    "itinerance_5.loc[itinerance_5.id_station_itinerance\t == 'FRFR1PEHNKRRPQNR', relations]"
   ]
  },
  {
   "cell_type": "markdown",
   "metadata": {},
   "source": [
    "- exemple : une station avec plusieurs coordonnées -> incompréhension distinction station / pdc"
   ]
  },
  {
   "cell_type": "code",
   "execution_count": null,
   "metadata": {},
   "outputs": [],
   "source": [
    "itinerance_5.loc[itinerance_5.id_station_itinerance == 'FR073PCAMAIEUFR', relations]"
   ]
  },
  {
   "cell_type": "markdown",
   "metadata": {
    "raw_mimetype": "text/markdown"
   },
   "source": [
    "- exemple : une station avec plusieurs coordonnées -> regroupement de stations ?"
   ]
  },
  {
   "cell_type": "code",
   "execution_count": null,
   "metadata": {},
   "outputs": [],
   "source": [
    "itinerance_5.loc[itinerance_5.id_station_itinerance == 'FR55CPBP514', relations]"
   ]
  },
  {
   "cell_type": "markdown",
   "metadata": {},
   "source": [
    "- exemple : plusieurs stations d'opérateurs différents avec les mêmes coordonnées -> suppression non effectuée lors d'un changement d'opérateur ?"
   ]
  },
  {
   "cell_type": "code",
   "execution_count": null,
   "metadata": {},
   "outputs": [],
   "source": [
    "itinerance_4.loc[itinerance_4.coordonneesXY == '[0.08745032, 48.40887156]', relations]"
   ]
  },
  {
   "cell_type": "code",
   "execution_count": null,
   "metadata": {},
   "outputs": [],
   "source": [
    "itinerance_4.loc[itinerance_4.coordonneesXY == '[-4.374469, 48.471878]', relations]"
   ]
  },
  {
   "cell_type": "markdown",
   "metadata": {},
   "source": [
    "- exemple : quatre stations avec une localisation identique mais deux adresses différentes + id identique entre station et pdc -> erreur d'adresse et erreur d'id_station ?"
   ]
  },
  {
   "cell_type": "code",
   "execution_count": null,
   "metadata": {},
   "outputs": [],
   "source": [
    "itinerance_5.loc[itinerance_5.coordonneesXY\t == '[-0.366184, 43.332508]', relations]"
   ]
  },
  {
   "cell_type": "markdown",
   "metadata": {},
   "source": [
    "### Incoherence nbre_pdc\n",
    "- 583 pdc ont un champ 'nbre_pdc' mal documenté"
   ]
  },
  {
   "cell_type": "code",
   "execution_count": null,
   "metadata": {},
   "outputs": [],
   "source": [
    "itinerance_4.loc[~itinerance_4['nbre_pdc - id_station_itinerance'], relations][200:215]"
   ]
  },
  {
   "cell_type": "markdown",
   "metadata": {},
   "source": [
    "### coherence station - enseigne\n",
    "- 5 stations ont plusieurs noms d'enseigne"
   ]
  },
  {
   "cell_type": "code",
   "execution_count": null,
   "metadata": {},
   "outputs": [],
   "source": [
    "itinerance_4.loc[~itinerance_4['nom_enseigne - id_station_itinerance'], relations]"
   ]
  },
  {
   "cell_type": "code",
   "execution_count": null,
   "metadata": {},
   "outputs": [],
   "source": [
    "itinerance_init.loc[itinerance_init.id_station_itinerance == 'FRFR1EAYRU', relations]"
   ]
  },
  {
   "cell_type": "code",
   "execution_count": null,
   "metadata": {},
   "outputs": [],
   "source": [
    "itinerance_init.loc[itinerance_init.nom_enseigne == 'RME Loos (FR-FR1)', relations]"
   ]
  },
  {
   "cell_type": "markdown",
   "metadata": {},
   "source": [
    "### cohérence station - horaires\n",
    "- exemple de station avec plusieurs types d'horaire (15)"
   ]
  },
  {
   "cell_type": "code",
   "execution_count": null,
   "metadata": {},
   "outputs": [],
   "source": [
    "itinerance_init.loc[itinerance_init.id_station_itinerance == 'FRS23D2302001', relations]"
   ]
  },
  {
   "cell_type": "markdown",
   "metadata": {},
   "source": [
    "### cohérence station - deux-roues\n",
    "- exemple de station avec plusieurs indications d'accessibilité deux-roues (583)"
   ]
  },
  {
   "cell_type": "code",
   "execution_count": null,
   "metadata": {},
   "outputs": [],
   "source": [
    "itinerance_init.loc[itinerance_init.id_station_itinerance == 'FRV75PPX1716', relations]"
   ]
  }
 ],
 "metadata": {
  "celltoolbar": "Format de la Cellule Texte Brut",
  "kernelspec": {
   "display_name": "Python 3 (ipykernel)",
   "language": "python",
   "name": "python3"
  },
  "language_info": {
   "codemirror_mode": {
    "name": "ipython",
    "version": 3
   },
   "file_extension": ".py",
   "mimetype": "text/x-python",
   "name": "python",
   "nbconvert_exporter": "python",
   "pygments_lexer": "ipython3",
   "version": "3.11.8"
  }
 },
 "nbformat": 4,
 "nbformat_minor": 4
}
