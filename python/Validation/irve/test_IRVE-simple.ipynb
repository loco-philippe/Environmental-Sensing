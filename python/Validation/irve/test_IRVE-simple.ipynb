{
 "cells": [
  {
   "cell_type": "markdown",
   "metadata": {},
   "source": [
    "# Object: Example of specifying the \"relationship\" property \n",
    "## Goal\n",
    "- show on a real example how to specify the links between fields \n",
    "- identify the contributions that a tool for analyzing these links could have\n",
    "\n",
    "## Presentation of the example\n",
    "It concerns the IRVE file of VE charging stations (data used: https://static.data.gouv.fr/resources/fichier-consolide-des-bornes-de-recharge-pour-vehicules-electriques/20220629-080611/consolidation-etalab-schema-irve-v-2.0.2-20220628.csv). \n",
    "\n",
    "The IRVE file contains a list of charging stations with in particular: \n",
    "- for a station: an Id, a name, an address and coordinates\n",
    "- for each station several charging points identified by an Id_pdc \n",
    "- an operator for each station \n",
    "\n",
    "Only a few rows and columns have been extracted for the example (table below for 4 stations):\n",
    "\n",
    "|nom_operateur\t|id_station_itinerance\t|nom_station\t|adresse_station\t|coordonneesXY\t|id_pdc_itinerance|\n",
    "|:----|:----|:----|:----|:----|:----|\t\t\t\t\t\n",
    "|SEVDEC\t|FRSEVP1SCH01\t|SCH01\t|151 Rue d'Uelzen 76230 Bois-Guillaume\t|[1.106329, 49.474202]\t|FRSEVE1SCH0101|\n",
    "|SEVDEC\t|FRSEVP1SCH03\t|SCH03\t|151 Rue d'Uelzen 76230 Bois-Guillaume\t|[1.106329, 49.474202]\t|FRSEVE1SCH0301|\n",
    "|SEVDEC\t|FRSEVP1SCH02\t|SCH02\t|151 Rue d'Uelzen 76230 Bois-Guillaume\t|[1.106329, 49.474202]\t|FRSEVE1SCH0201|\t\n",
    "|Sodetrel\t|FRS35PSD35711\t|RENNES - PLACE HONORE COMMEREUC\t|13 Place HonorÃ© Commeurec 35000 Rennes\t|[-1.679739, 48.108482]\t|FRS35ESD357111|\n",
    "|Sodetrel\t|FRS35PSD35712\t|RENNES - PLACE HONORE COMMEREUC\t|13 Place HonorÃ© Commeurec 35000 Rennes\t|[-1.679739, 48.108482]\t|FRS35ESD357112|\t\t\t\t\n",
    "|Virta\t|FRE10E30333\t|Camping Arinella\t|Route de la mer, Brushetto - 20240 Ghisonaccia\t|[9.445075, 41.995246]\t|FRE10E30333|\n",
    "|Virta\t|FRE10E20923\t|Camping Arinella\t|Route de la mer, Brushetto - 20240 Ghisonaccia\t|[9.445073, 41.995246]\t|FRE10E20923|\n",
    "|Virta\t|FRE10P20922\t|Camping Arinella\t|Route de la mer, Brushetto - 20240 Ghisonaccia\t|[9.445072, 41.995246]\t|FRE10P20922|\n",
    "|Virta\t|FRE10P20921\t|Camping Arinella\t|Route de la mer, Brushetto - 20240 Ghisonaccia\t|[9.445071, 41.995246]\t|FRE10P20921|\n",
    "|DEBELEC\t|FRSGAP1M2026\t|M2026\t|2682 Boulevard FranÃ§ois Xavier Fafeur 11000 Carcassonne\t|[2.298185, 43.212574]\t|FRSGAE1M202603|\n",
    "|DEBELEC\t|FRSGAP1M2026\t|M2026\t|2682 Boulevard FranÃ§ois Xavier Fafeur 11000 Carcassonne\t|[2.298185, 43.212574]\t|FRSGAE1M202602|\n",
    "|DEBELEC\t|FRSGAP1M2026\t|M2026\t|2682 Boulevard FranÃ§ois Xavier Fafeur 11000 Carcassonne\t|[2.298185, 43.212574]\t|FRSGAE1M202601|\n",
    "\n",
    "In particular, there are a few errors: \n",
    "- the id and name of the station operated by SEVDEC is different for each charging point,\n",
    "- the id of the station operated by Sodetrel is also different for each charging point,\n",
    "- Virta station coordinates and ids are also variable depending on charging points\n",
    "\n",
    "## improvement of the specification\n",
    "The errors found could be avoided by defining the dependency rules between columns according to the data model associated with the table. \n",
    "\n",
    "There are three entities: \n",
    "- the operator who can operate several stations (a single field: nom_operateur)\n",
    "- the stations which contain several charging points (four fields: id_station_itinerance, nom_station, adresse_station, coordonnéesXY),\n",
    "- the charging points (a single field: id_pdc_itinerance)\n",
    "\n",
    "This data model results in the following specifications: \n",
    "- the operator field is derived from the id_station field (1-n relationship)\n",
    "- the id_station_itinerance field is derived from the id_pdc_itinerance field (1-n relationship)\n",
    "- the nom_station, addresse_station, coordonnéesXY fields are coupled to the id_station field (relation 1-1)\n",
    "\n",
    "These specifications translate into \"relationship\" properties for each of the fields:\n",
    "\n",
    "```\n",
    "« name »: « nom_operateur »\n",
    "« relationship » : {\n",
    "    « parent » : « id_station_itinerance »,\n",
    "    « link » : « derived » \n",
    "},\n",
    "« name »: « id_station_itinerance »\n",
    "« relationship » : {\n",
    "    « parent » : « id_pdc_itinerance »,\n",
    "    « link » : « derived » \n",
    "},\n",
    "« name »: « nom_station »\n",
    "« relationship » : {\n",
    "    « parent » : « id_station_itinerance »,\n",
    "    « link » : « derived » \n",
    "},\n",
    "« name »: « adresse_station »\n",
    "« relationship » : {\n",
    "    « parent » : « id_station_itinerance »,\n",
    "    « link » : « derived » \n",
    "},\n",
    "« name »: « coordonnéesXY »\n",
    "« relationship » : {\n",
    "    « parent » : « id_station_itinerance »,\n",
    "    « link » : « derived » \n",
    "}\n",
    "```\n"
   ]
  },
  {
   "cell_type": "markdown",
   "metadata": {},
   "source": [
    "------\n",
    "## specification check tool example\n",
    "\n",
    "- a csv file is populated with the above table\n",
    "- an 'Ilist' object is initialized with this file\n"
   ]
  },
  {
   "cell_type": "code",
   "execution_count": 1,
   "metadata": {},
   "outputs": [
    {
     "name": "stdout",
     "output_type": "stream",
     "text": [
      "C:\\Users\\a179227\\OneDrive - Alliance\\perso Wx\\ES standard\\python ESstandard\\validation\\irve\n",
      "row number :  12\n",
      "fields list : \n",
      "[{'name': 'nom_operateur', 'num': 0},\n",
      " {'name': 'id_station_itinerance', 'num': 1},\n",
      " {'name': 'nom_station', 'num': 2},\n",
      " {'name': 'adresse_station', 'num': 3},\n",
      " {'name': 'coordonneesXY', 'num': 4},\n",
      " {'name': 'id_pdc_itinerance', 'num': 5}]\n"
     ]
    }
   ],
   "source": [
    "from pprint import pprint\n",
    "import os\n",
    "print(os.getcwd())\n",
    "os.chdir('../../../Environnemental-Sensing/python/ES')\n",
    "from ilist import Ilist\n",
    "\n",
    "chemin = 'C:/Users/a179227/OneDrive - Alliance/perso Wx/ES standard/python ESstandard/validation/irve/'\n",
    "file = chemin + 'IRVE_example.csv'\n",
    "\n",
    "irve = Ilist.from_csv(file, header=True, optcsv=None)\n",
    "print('row number : ', len(irve))\n",
    "print('fields list : ')\n",
    "pprint(irve.indexinfos(keys=['num', 'name'], base=True), width=120)"
   ]
  },
  {
   "cell_type": "markdown",
   "metadata": {},
   "source": [
    "## initial control \n",
    "In the chosen example we have one operator per station, the relationship between operator and station must therefore be 'coupled' rather than 'derived'. \n",
    "\n",
    "We note that only one relation is correct (between id_station and id_pdc).\n"
   ]
  },
  {
   "cell_type": "code",
   "execution_count": 2,
   "metadata": {},
   "outputs": [
    {
     "name": "stdout",
     "output_type": "stream",
     "text": [
      "operateur is coupled with id_station :  False\n",
      "id_station is derived from id_pdc :  True\n",
      "nom_station is coupled with id_station :  False\n",
      "adresse_station is coupled with id_station :  False\n",
      "coordonneesXY is coupled with id_station :  False\n"
     ]
    }
   ],
   "source": [
    "operateur, id_station, nom_station, adresse, coord, id_pdc = irve.lindex\n",
    "print('operateur is coupled with id_station : ', id_station.iscoupled(operateur))\n",
    "print('id_station is derived from id_pdc : ', id_station.isderived(id_pdc))\n",
    "print('nom_station is coupled with id_station : ', nom_station.iscoupled(id_station))\n",
    "print('adresse_station is coupled with id_station : ', adresse.iscoupled(id_station))\n",
    "print('coordonneesXY is coupled with id_station : ', coord.iscoupled(id_station))\n"
   ]
  },
  {
   "cell_type": "markdown",
   "metadata": {},
   "source": [
    "----\n",
    "## Application of an imposed structure\n",
    "Records that are inconsistent with a defined data pattern can also be searched.\n",
    "\n",
    "In this example, the columns can be grouped according to two entities (this amounts to considering the columns as attributes of each of the entities): the stations (columns 0 to 4), the charging points (column 5).\n",
    "\n",
    "To identify the inconsistent data, we impose the couplings (see detail in the cell).\n"
   ]
  },
  {
   "cell_type": "code",
   "execution_count": 3,
   "metadata": {
    "scrolled": true
   },
   "outputs": [
    {
     "name": "stdout",
     "output_type": "stream",
     "text": [
      "[{'name': 'nom_operateur', 'num': 0, 'parent': 5, 'typecoupl': 'derived'},\n",
      " {'name': 'id_station_itinerance', 'num': 1, 'parent': 0, 'typecoupl': 'coupled'},\n",
      " {'name': 'nom_station', 'num': 2, 'parent': 0, 'typecoupl': 'coupled'},\n",
      " {'name': 'adresse_station', 'num': 3, 'parent': 0, 'typecoupl': 'coupled'},\n",
      " {'name': 'coordonneesXY', 'num': 4, 'parent': 0, 'typecoupl': 'coupled'},\n",
      " {'name': 'id_pdc_itinerance', 'num': 5, 'parent': 5, 'typecoupl': 'crossed'}]\n"
     ]
    }
   ],
   "source": [
    "id_station.coupling(operateur, derived=False)\n",
    "id_pdc.coupling(id_station)\n",
    "id_station.coupling(nom_station, derived=False)\n",
    "id_station.coupling(adresse, derived=False)\n",
    "id_station.coupling(coord, derived=False)\n",
    "pprint(irve.indexinfos(keys=['num', 'name', 'parent', 'typecoupl']), width=120)"
   ]
  },
  {
   "cell_type": "markdown",
   "metadata": {},
   "source": [
    "## Checking against the imposed structure\n",
    "Forcing the structure results in additional data which is checked by the 'getduplicates' function. \n",
    "\n",
    "A new column is added with True value when a record respects the structure and False otherwise. In the example considered, the last three records corresponding to operator DEBELEC are correct \n",
    "\n",
    "Note : for more detail, a column could be had for each of the defined couplings."
   ]
  },
  {
   "cell_type": "code",
   "execution_count": 4,
   "metadata": {},
   "outputs": [
    {
     "name": "stdout",
     "output_type": "stream",
     "text": [
      "[False, False, False, False, False, False, False, False, False, True, True, True]\n"
     ]
    }
   ],
   "source": [
    "duplic = irve.getduplicates(irve.lname, '$filter')\n",
    "print(irve.lidx[6].val)"
   ]
  },
  {
   "cell_type": "markdown",
   "metadata": {},
   "source": [
    "----\n",
    "## data correction\n",
    "The corrections to be made to comply with the specification could be as follows:\n",
    "- field id_station: FRSEVP1SCH (first 3), FRS35PSD35711 (2 next), FRE10E2092 (4 next)\n",
    "- field nom_station: SCH (first 3)\n",
    "- field coordonneesXY: [9.445071, 41.995246] from 6th to 8th\n",
    "\n",
    "The corrected table would therefore be:\n",
    "\n",
    "|nom_operateur\t|id_station_itinerance\t|nom_station\t|adresse_station\t|coordonneesXY\t|id_pdc_itinerance|\n",
    "|:----|:----|:----|:----|:----|:----|\t\t\t\t\t\n",
    "|SEVDEC\t|FRSEVP1SCH\t|SCH\t|151 Rue d'Uelzen 76230 Bois-Guillaume\t|[1.106329, 49.474202]\t|FRSEVE1SCH0101|\n",
    "|SEVDEC\t|FRSEVP1SCH\t|SCH\t|151 Rue d'Uelzen 76230 Bois-Guillaume\t|[1.106329, 49.474202]\t|FRSEVE1SCH0301|\n",
    "|SEVDEC\t|FRSEVP1SCH\t|SCH\t|151 Rue d'Uelzen 76230 Bois-Guillaume\t|[1.106329, 49.474202]\t|FRSEVE1SCH0201|\t\n",
    "|Sodetrel\t|FRS35PSD35711\t|RENNES - PLACE HONORE COMMEREUC\t|13 Place HonorÃ© Commeurec 35000 Rennes\t|[-1.679739, 48.108482]\t|FRS35ESD357111|\n",
    "|Sodetrel\t|FRS35PSD35711\t|RENNES - PLACE HONORE COMMEREUC\t|13 Place HonorÃ© Commeurec 35000 Rennes\t|[-1.679739, 48.108482]\t|FRS35ESD357112|\t\t\t\t\n",
    "|Virta\t|FRE10E2092\t|Camping Arinella\t|Route de la mer, Brushetto - 20240 Ghisonaccia\t|[9.445071, 41.995246]\t|FRE10E30333|\n",
    "|Virta\t|FRE10E2092\t|Camping Arinella\t|Route de la mer, Brushetto - 20240 Ghisonaccia\t|[9.445071, 41.995246]\t|FRE10E20923|\n",
    "|Virta\t|FRE10P2092\t|Camping Arinella\t|Route de la mer, Brushetto - 20240 Ghisonaccia\t|[9.445071, 41.995246]\t|FRE10P20922|\n",
    "|Virta\t|FRE10P2092\t|Camping Arinella\t|Route de la mer, Brushetto - 20240 Ghisonaccia\t|[9.445071, 41.995246]\t|FRE10P20921|\n",
    "|DEBELEC\t|FRSGAP1M2026\t|M2026\t|2682 Boulevard FranÃ§ois Xavier Fafeur 11000 Carcassonne\t|[2.298185, 43.212574]\t|FRSGAE1M202603|\n",
    "|DEBELEC\t|FRSGAP1M2026\t|M2026\t|2682 Boulevard FranÃ§ois Xavier Fafeur 11000 Carcassonne\t|[2.298185, 43.212574]\t|FRSGAE1M202602|\n",
    "|DEBELEC\t|FRSGAP1M2026\t|M2026\t|2682 Boulevard FranÃ§ois Xavier Fafeur 11000 Carcassonne\t|[2.298185, 43.212574]\t|FRSGAE1M202601|"
   ]
  },
  {
   "cell_type": "code",
   "execution_count": 5,
   "metadata": {},
   "outputs": [
    {
     "data": {
      "text/plain": [
       "Ilist[12, 7]"
      ]
     },
     "execution_count": 5,
     "metadata": {},
     "output_type": "execute_result"
    }
   ],
   "source": [
    "id_station.setvalue(0, 'FRSEVP1SCH')\n",
    "id_station.setvalue(1, 'FRSEVP1SCH')\n",
    "id_station.setvalue(2, 'FRSEVP1SCH')\n",
    "id_station.setvalue(3, 'FRS35PSD35711')\n",
    "id_station.setvalue(4, 'FRS35PSD35711')\n",
    "id_station.setvalue(5, 'FRE10E2092')\n",
    "id_station.setvalue(6, 'FRE10E2092')\n",
    "id_station.setvalue(7, 'FRE10E2092')\n",
    "id_station.setvalue(8, 'FRE10E2092')\n",
    "nom_station.setvalue(0, 'SCH')\n",
    "nom_station.setvalue(1, 'SCH')\n",
    "nom_station.setvalue(2, 'SCH')\n",
    "coord.setvalue(5, '[9.445071, 41.995246]')\n",
    "coord.setvalue(6, '[9.445071, 41.995246]')\n",
    "coord.setvalue(7, '[9.445071, 41.995246]')\n",
    "irve.reindex()"
   ]
  },
  {
   "cell_type": "markdown",
   "metadata": {},
   "source": [
    "## New check \n",
    "The check carried out with this new data shows that the specification would then be respected:\n"
   ]
  },
  {
   "cell_type": "code",
   "execution_count": 6,
   "metadata": {},
   "outputs": [
    {
     "name": "stdout",
     "output_type": "stream",
     "text": [
      "operateur is coupled with id_station :  True\n",
      "id_station is derived from id_pdc :  True\n",
      "nom_station is coupled with id_station :  True\n",
      "adresse_station is coupled with id_station :  True\n",
      "coordonneesXY is coupled with id_station :  True\n"
     ]
    }
   ],
   "source": [
    "print('operateur is coupled with id_station : ', id_station.iscoupled(operateur))\n",
    "print('id_station is derived from id_pdc : ', id_station.isderived(id_pdc))\n",
    "print('nom_station is coupled with id_station : ', nom_station.iscoupled(id_station))\n",
    "print('adresse_station is coupled with id_station : ', adresse.iscoupled(id_station))\n",
    "print('coordonneesXY is coupled with id_station : ', coord.iscoupled(id_station))"
   ]
  }
 ],
 "metadata": {
  "celltoolbar": "Format de la Cellule Texte Brut",
  "kernelspec": {
   "display_name": "Python 3 (ipykernel)",
   "language": "python",
   "name": "python3"
  },
  "language_info": {
   "codemirror_mode": {
    "name": "ipython",
    "version": 3
   },
   "file_extension": ".py",
   "mimetype": "text/x-python",
   "name": "python",
   "nbconvert_exporter": "python",
   "pygments_lexer": "ipython3",
   "version": "3.9.12"
  }
 },
 "nbformat": 4,
 "nbformat_minor": 4
}
