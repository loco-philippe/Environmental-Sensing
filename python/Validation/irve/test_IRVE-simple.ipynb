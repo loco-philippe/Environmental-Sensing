{
 "cells": [
  {
   "cell_type": "markdown",
   "metadata": {},
   "source": [
    "# Object: Example of usage of the \"relationship\" property \n",
    "The Jupyter Notebooks is available on [nbviewer](http://nbviewer.org/github/loco-philippe/tab-dataset/tree/main/example/Dataset/)   \n",
    "## Goal\n",
    "- show on a real example how to specify the links between fields \n",
    "- identify the contributions that a tool for analyzing these links could have\n",
    "\n",
    "\n",
    "## Presentation of the example\n",
    "It concerns the IRVE file of VE charging stations ([data schema](https://schema.data.gouv.fr/etalab/schema-irve/latest/)). \n",
    "\n",
    "The IRVE file contains a list of charging stations with in particular: \n",
    "- for a station: an Id, a name, an address and coordinates\n",
    "- for each station several charging points identified by an Id_pdc \n",
    "- an operator for each station \n",
    "\n",
    ">   \n",
    "> <img src=\"https://loco-philippe.github.io/ES/IRVE_modele_conceptuel.PNG\" width=\"600\">\n",
    "\n",
    "Only a few rows and columns have been extracted for the example (table below for 4 stations):\n",
    "\n",
    "|nom_operateur\t|id_station_itinerance\t|nom_station\t|adresse_station\t|coordonneesXY |id_pdc_itinerance|\n",
    "|:----|:----|:----|:----|:----|:----|\n",
    "|SEVDEC\t|FRSEVP1SCH01\t|SCH01\t|151 Rue d'Uelzen 76230 Bois-Guillaume\t|[1.106329, 49.474202]\t|FRSEVE1SCH0101|\n",
    "|SEVDEC\t|FRSEVP1SCH03\t|SCH03\t|151 Rue d'Uelzen 76230 Bois-Guillaume\t|[1.106329, 49.474202]\t|FRSEVE1SCH0301|\n",
    "|SEVDEC\t|FRSEVP1SCH02\t|SCH02\t|151 Rue d'Uelzen 76230 Bois-Guillaume\t|[1.106329, 49.474202]\t|FRSEVE1SCH0201|\n",
    "|Sodetrel\t|FRS35PSD35711\t|RENNES - PLACE HONORE COMMEREUC\t|13 Place HonorÃ© Commeurec 35000 Rennes\t|[-1.679739, 48.108482]\t|FRS35ESD357111|\n",
    "|Sodetrel\t|FRS35PSD35712\t|RENNES - PLACE HONORE COMMEREUC\t|13 Place HonorÃ© Commeurec 35000 Rennes\t|[-1.679739, 48.108482]\t|FRS35ESD357112|\n",
    "|Virta\t|FRE10E30333\t|Camping Arinella\t|Route de la mer, Brushetto - 20240 Ghisonaccia\t|[9.445075, 41.995246]\t|FRE10E30333|\n",
    "|Virta\t|FRE10E20923\t|Camping Arinella\t|Route de la mer, Brushetto - 20240 Ghisonaccia\t|[9.445073, 41.995246]\t|FRE10E20923|\n",
    "|Virta\t|FRE10P20922\t|Camping Arinella\t|Route de la mer, Brushetto - 20240 Ghisonaccia\t|[9.445072, 41.995246]\t|FRE10P20922|\n",
    "|Virta\t|FRE10P20921\t|Camping Arinella\t|Route de la mer, Brushetto - 20240 Ghisonaccia\t|[9.445071, 41.995246]\t|FRE10P20921|\n",
    "|DEBELEC\t|FRSGAP1M2026\t|M2026\t|2682 Boulevard FranÃ§ois Xavier Fafeur 11000 Carcassonne\t|[2.298185, 43.212574]\t|FRSGAE1M202603|\n",
    "|DEBELEC\t|FRSGAP1M2026\t|M2026\t|2682 Boulevard FranÃ§ois Xavier Fafeur 11000 Carcassonne\t|[2.298185, 43.212574]\t|FRSGAE1M202602|\n",
    "|DEBELEC\t|FRSGAP1M2026\t|M2026\t|2682 Boulevard FranÃ§ois Xavier Fafeur 11000 Carcassonne\t|[2.298185, 43.212574]\t|FRSGAE1M202601|\n",
    "\n",
    "In particular, there are a few errors: \n",
    "- the id and name of the station operated by SEVDEC is different for each charging point,\n",
    "- the id of the station operated by Sodetrel is also different for each charging point,\n",
    "- Virta station coordinates and ids are also variable depending on charging points\n",
    "\n",
    "## improvement of the specification\n",
    "The errors found could be avoided by defining the dependency rules between columns according to the data model associated with the table. \n",
    "\n",
    "There are three entities: \n",
    "- the operator who can operate several stations (a single field: nom_operateur)\n",
    "- the stations which contain several charging points (four fields: id_station_itinerance, nom_station, adresse_station, coordonnéesXY),\n",
    "- the charging points (a single field: id_pdc_itinerance)\n",
    "\n",
    "This data model results in the following specifications: \n",
    "- the operator field is derived from the id_station field (1-n relationship)\n",
    "- the id_station_itinerance field is derived from the id_pdc_itinerance field (1-n relationship)\n",
    "- the nom_station, addresse_station, coordonnéesXY fields are coupled to the id_station field (relation 1-1)\n",
    "\n",
    "These specifications translate into \"relationship\" properties for each of the fields:"
   ]
  },
  {
   "cell_type": "code",
   "execution_count": 1,
   "metadata": {},
   "outputs": [],
   "source": [
    "schema = {'relationships': [\n",
    "    {'fields': ['id_station_itinerance', 'nom_operateur'],     'link': 'derived'},\n",
    "    {'fields': ['id_pdc_itinerance', 'id_station_itinerance'], 'link': 'derived'},\n",
    "    {'fields': ['id_station_itinerance', 'nom_station'],       'link': 'coupled'},\n",
    "    {'fields': ['id_station_itinerance', 'adresse_station'],   'link': 'coupled'},\n",
    "    {'fields': ['id_station_itinerance', 'coordonneesXY'],     'link': 'coupled'}\n",
    "]}"
   ]
  },
  {
   "cell_type": "markdown",
   "metadata": {},
   "source": [
    "------\n",
    "## specification check tool example\n",
    "\n",
    "- a csv file is populated with the above table\n",
    "- a `Dataset` object is initialized with this file\n"
   ]
  },
  {
   "cell_type": "code",
   "execution_count": 2,
   "metadata": {},
   "outputs": [
    {
     "name": "stdout",
     "output_type": "stream",
     "text": [
      "row number :  12\n",
      "fields list : \n",
      "[{'id': 'nom_operateur', 'num': 0},\n",
      " {'id': 'id_station_itinerance', 'num': 1},\n",
      " {'id': 'nom_station', 'num': 2},\n",
      " {'id': 'adresse_station', 'num': 3},\n",
      " {'id': 'coordonneesXY', 'num': 4},\n",
      " {'id': 'id_pdc_itinerance', 'num': 5}]\n"
     ]
    }
   ],
   "source": [
    "import requests\n",
    "from pprint import pprint\n",
    "from tab_dataset import Sdataset\n",
    "\n",
    "chemin = 'https://raw.githubusercontent.com/loco-philippe/Environmental-Sensing/master/python/Validation/irve/'\n",
    "data_csv = 'IRVE_example.csv'\n",
    "url = chemin + data_csv\n",
    "open(data_csv, 'wb').write(requests.get(url, allow_redirects=True).content)\n",
    "\n",
    "irve = Sdataset.from_csv(data_csv, header=True, optcsv=None, decode_json=False)\n",
    "print('row number : ', len(irve))\n",
    "print('fields list : ')\n",
    "pprint(irve.indexinfos(keys=['num', 'id']))"
   ]
  },
  {
   "cell_type": "markdown",
   "metadata": {},
   "source": [
    "## Initial control \n",
    "\n",
    "We note that only two relationships are correct (id_station / id_pdc and operateur / id_station).\n"
   ]
  },
  {
   "cell_type": "code",
   "execution_count": 3,
   "metadata": {},
   "outputs": [
    {
     "name": "stdout",
     "output_type": "stream",
     "text": [
      "operateur and id_station are derived :  True\n",
      "id_station and id_pdc are derived :  True\n",
      "nom_station and id_station are coupled :  False\n",
      "adresse_station and id_station are coupled :  False\n",
      "coordonneesXY and id_station are coupled :  False \n",
      "\n",
      "derived tree :\n",
      " -1: root-derived (12)\n",
      "   1 : id_station_itineranc (2 - 10)\n",
      "      2 : nom_station (4 - 6)\n",
      "         0 : nom_operateur (2 - 4)\n",
      "            3 : adresse_station (0 - 4)\n",
      "      4 : coordonneesXY (3 - 7)\n",
      "   5 : id_pdc_itinerance (0 - 12)\n"
     ]
    }
   ],
   "source": [
    "operateur, id_station, nom_station, adresse, coord, id_pdc = irve.lindex\n",
    "print('operateur and id_station are derived : ', id_station.isderived(operateur))\n",
    "print('id_station and id_pdc are derived : ', id_station.isderived(id_pdc))\n",
    "print('nom_station and id_station are coupled : ', nom_station.iscoupled(id_station))\n",
    "print('adresse_station and id_station are coupled : ', adresse.iscoupled(id_station))\n",
    "print('coordonneesXY and id_station are coupled : ', coord.iscoupled(id_station), '\\n')\n",
    "\n",
    "print('derived tree :\\n', irve.tree())"
   ]
  },
  {
   "cell_type": "markdown",
   "metadata": {},
   "source": [
    "----\n",
    "## Application of an imposed structure\n",
    "Records that are inconsistent with the defined data schema can also be searched."
   ]
  },
  {
   "cell_type": "code",
   "execution_count": 4,
   "metadata": {},
   "outputs": [
    {
     "name": "stdout",
     "output_type": "stream",
     "text": [
      "{'adresse_station - id_station_itinerance': (0, 1, 2, 3, 4, 5, 6, 7, 8),\n",
      " 'coordonneesXY - id_station_itinerance': (0, 1, 2, 3, 4),\n",
      " 'id_station_itinerance - id_pdc_itinerance': (),\n",
      " 'nom_operateur - id_station_itinerance': (),\n",
      " 'nom_station - id_station_itinerance': (3, 4, 5, 6, 7, 8)}\n"
     ]
    }
   ],
   "source": [
    "#the check_relationship returns the records with errors\n",
    "errors = irve.check_relationship(schema)\n",
    "pprint(errors)"
   ]
  },
  {
   "cell_type": "markdown",
   "metadata": {},
   "source": [
    "## Checking against the imposed structure\n",
    "Forcing the structure results in additional data which is checked by the 'getduplicates' function. \n",
    "\n",
    "A new column is added with True value when a record respects the structure and False otherwise. In the example considered, the last three records corresponding to operator DEBELEC are correct \n",
    "\n",
    "Note : for more detail, a column could be had for each of the defined couplings."
   ]
  },
  {
   "cell_type": "markdown",
   "metadata": {},
   "source": [
    "----\n",
    "## data correction\n",
    "The corrections to be made to comply with the specification could be as follows:\n",
    "- field id_station: FRSEVP1SCH (first 3), FRS35PSD35711 (2 next), FRE10E2092 (4 next)\n",
    "- field nom_station: SCH (first 3)\n",
    "- field coordonneesXY: [9.445071, 41.995246] from 6th to 8th\n",
    "\n",
    "The corrected table would therefore be:\n",
    "\n",
    "|nom_operateur\t|id_station_itinerance\t|nom_station\t|adresse_station\t|coordonneesXY  |id_pdc_itinerance|\n",
    "|:----|:----|:----|:----|:----|:----|\n",
    "|SEVDEC\t|FRSEVP1SCH\t|SCH\t|151 Rue d'Uelzen 76230 Bois-Guillaume\t|[1.106329, 49.474202]\t|FRSEVE1SCH0101|\n",
    "|SEVDEC\t|FRSEVP1SCH\t|SCH\t|151 Rue d'Uelzen 76230 Bois-Guillaume\t|[1.106329, 49.474202]\t|FRSEVE1SCH0301|\n",
    "|SEVDEC\t|FRSEVP1SCH\t|SCH\t|151 Rue d'Uelzen 76230 Bois-Guillaume\t|[1.106329, 49.474202]\t|FRSEVE1SCH0201|\n",
    "|Sodetrel\t|FRS35PSD35711\t|RENNES - PLACE HONORE COMMEREUC\t|13 Place HonorÃ© Commeurec 35000 Rennes\t|[-1.679739, 48.108482]\t|FRS35ESD357111|\n",
    "|Sodetrel\t|FRS35PSD35711\t|RENNES - PLACE HONORE COMMEREUC\t|13 Place HonorÃ© Commeurec 35000 Rennes\t|[-1.679739, 48.108482]\t|FRS35ESD357112|\n",
    "|Virta\t|FRE10E2092\t|Camping Arinella\t|Route de la mer, Brushetto - 20240 Ghisonaccia\t|[9.445071, 41.995246]\t|FRE10E30333|\n",
    "|Virta\t|FRE10E2092\t|Camping Arinella\t|Route de la mer, Brushetto - 20240 Ghisonaccia\t|[9.445071, 41.995246]\t|FRE10E20923|\n",
    "|Virta\t|FRE10P2092\t|Camping Arinella\t|Route de la mer, Brushetto - 20240 Ghisonaccia\t|[9.445071, 41.995246]\t|FRE10P20922|\n",
    "|Virta\t|FRE10P2092\t|Camping Arinella\t|Route de la mer, Brushetto - 20240 Ghisonaccia\t|[9.445071, 41.995246]\t|FRE10P20921|\n",
    "|DEBELEC\t|FRSGAP1M2026\t|M2026\t|2682 Boulevard FranÃ§ois Xavier Fafeur 11000 Carcassonne\t|[2.298185, 43.212574]\t|FRSGAE1M202603|\n",
    "|DEBELEC\t|FRSGAP1M2026\t|M2026\t|2682 Boulevard FranÃ§ois Xavier Fafeur 11000 Carcassonne\t|[2.298185, 43.212574]\t|FRSGAE1M202602|\n",
    "|DEBELEC\t|FRSGAP1M2026\t|M2026\t|2682 Boulevard FranÃ§ois Xavier Fafeur 11000 Carcassonne\t|[2.298185, 43.212574]\t|FRSGAE1M202601|"
   ]
  },
  {
   "cell_type": "code",
   "execution_count": 5,
   "metadata": {},
   "outputs": [
    {
     "data": {
      "text/plain": [
       "Sdataset[12, 6]"
      ]
     },
     "execution_count": 5,
     "metadata": {},
     "output_type": "execute_result"
    }
   ],
   "source": [
    "id_station[:9] = ['FRSEVP1SCH', 'FRSEVP1SCH', 'FRSEVP1SCH', 'FRS35PSD35711', 'FRS35PSD35711', \n",
    "                   'FRE10E2092', 'FRE10E2092', 'FRE10E2092', 'FRE10E2092']\n",
    "nom_station[:3] = ['SCH', 'SCH', 'SCH']\n",
    "coord[5:8] = ['[9.445071, 41.995246]', '[9.445071, 41.995246]', '[9.445071, 41.995246]']\n",
    "irve.reindex()"
   ]
  },
  {
   "cell_type": "markdown",
   "metadata": {},
   "source": [
    "## New check \n",
    "The check carried out with this new data shows that the specification would then be respected:\n"
   ]
  },
  {
   "cell_type": "code",
   "execution_count": 6,
   "metadata": {},
   "outputs": [
    {
     "name": "stdout",
     "output_type": "stream",
     "text": [
      "operateur and id_station are derived :  True\n",
      "id_station and id_pdc are derived :  True\n",
      "nom_station and id_station are coupled :  True\n",
      "adresse_station and id_station are coupled :  True\n",
      "coordonneesXY and id_station are coupled :  True \n",
      "\n",
      "{'adresse_station - id_station_itinerance': (),\n",
      " 'coordonneesXY - id_station_itinerance': (),\n",
      " 'id_station_itinerance - id_pdc_itinerance': (),\n",
      " 'nom_operateur - id_station_itinerance': (),\n",
      " 'nom_station - id_station_itinerance': ()}\n"
     ]
    }
   ],
   "source": [
    "print('operateur and id_station are derived : ', id_station.isderived(operateur))\n",
    "print('id_station and id_pdc are derived : ', id_station.isderived(id_pdc))\n",
    "print('nom_station and id_station are coupled : ', nom_station.iscoupled(id_station))\n",
    "print('adresse_station and id_station are coupled : ', adresse.iscoupled(id_station))\n",
    "print('coordonneesXY and id_station are coupled : ', coord.iscoupled(id_station), '\\n')\n",
    "\n",
    "pprint(irve.check_relationship(schema))"
   ]
  }
 ],
 "metadata": {
  "celltoolbar": "Format de la Cellule Texte Brut",
  "kernelspec": {
   "display_name": "Python 3 (ipykernel)",
   "language": "python",
   "name": "python3"
  },
  "language_info": {
   "codemirror_mode": {
    "name": "ipython",
    "version": 3
   },
   "file_extension": ".py",
   "mimetype": "text/x-python",
   "name": "python",
   "nbconvert_exporter": "python",
   "pygments_lexer": "ipython3",
   "version": "3.11.8"
  }
 },
 "nbformat": 4,
 "nbformat_minor": 4
}
