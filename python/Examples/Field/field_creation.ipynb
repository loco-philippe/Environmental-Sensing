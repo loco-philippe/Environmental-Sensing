{
 "cells": [
  {
   "cell_type": "markdown",
   "metadata": {},
   "source": [
    "# Field : Creation\n",
    "\n",
    "----\n",
    "## Goals\n",
    "\n",
    "- show the different ways to create a field object\n",
    "\n",
    "## Prerequisite\n",
    "\n",
    "- read beforehand the structuring of field objects"
   ]
  },
  {
   "cell_type": "code",
   "execution_count": 1,
   "metadata": {},
   "outputs": [],
   "source": [
    "from observation import Sfield, Nfield"
   ]
  },
  {
   "cell_type": "markdown",
   "metadata": {},
   "source": [
    "## creation\n",
    "\n",
    "The examples below are build with usual data.\n",
    "\n",
    "Several modes of creation exist\n",
    "- Sfield        : creation with codec and keys\n",
    "- Sfield.ntv    : creation with a json object (or string)"
   ]
  },
  {
   "cell_type": "code",
   "execution_count": 2,
   "metadata": {},
   "outputs": [
    {
     "name": "stdout",
     "output_type": "stream",
     "text": [
      "True\n"
     ]
    }
   ],
   "source": [
    "month   = ['jan', 'feb', 'apr', 'jan', 'sep', 'dec', 'apr', 'may', 'jan']\n",
    "imonth1 = Sfield(month, 'month')\n",
    "imonth2 = Sfield(['jan', 'feb', 'apr', 'sep', 'dec', 'may'], 'month', [0, 1, 2, 0, 3, 4, 2, 5, 0])\n",
    "imonth3 = Sfield(imonth1)\n",
    "imonth4 = Sfield.ntv({'month': month})\n",
    "imonth5 = Sfield.ntv({\"month\": [[\"jan\", \"feb\", \"apr\", \"sep\", \"dec\", \"may\"], [0, 1, 2, 0, 3, 4, 2, 5, 0]]})\n",
    "\n",
    "print(imonth1 == imonth2 == imonth3 == imonth4 == imonth5)"
   ]
  },
  {
   "cell_type": "markdown",
   "metadata": {},
   "source": [
    "## usual values\n",
    "\n",
    "Field accepts every kind of value with a json representation (see example with extended values)"
   ]
  },
  {
   "cell_type": "code",
   "execution_count": 3,
   "metadata": {},
   "outputs": [
    {
     "name": "stdout",
     "output_type": "stream",
     "text": [
      "json  :  \n",
      " {'$default': [21, {'test': 21}, {'21': 211}, {'ko': 2, 'kobis': 2}, [1.2, 3.4], '2021-01-21', 'name']}\n",
      "value :  \n",
      " [21, {'test': 21}, {'21': 211}, {'ko': 2, 'kobis': 2}, [1.2, 3.4], '2021-01-21', 'name']\n"
     ]
    }
   ],
   "source": [
    "simple = Sfield([21, {'test':21}, {21:211}, {'ko':2, 'kobis':2}, [1.2, 3.4], '2021-01-21', 'name'])\n",
    "print('json  : ', '\\n', simple)\n",
    "print('value : ', '\\n', simple.val)"
   ]
  },
  {
   "cell_type": "code",
   "execution_count": 5,
   "metadata": {},
   "outputs": [
    {
     "name": "stdout",
     "output_type": "stream",
     "text": [
      "json  :  \n",
      " [21, {\"test\": 21}, {\"ko\": 2, \"kobis\": 2}, [1.2, 3.4], \"2021-01-21\", \"name\"]\n",
      "value :  \n",
      " [21, {'test': 21}, {'ko': 2, 'kobis': 2}, [1.2, 3.4], '2021-01-21', 'name']\n"
     ]
    }
   ],
   "source": [
    "Nsimple = Nfield([21, {'test':21}, {'ko':2, 'kobis':2}, [1.2, 3.4], '2021-01-21', 'name'])\n",
    "print('json  : ', '\\n', Nsimple)\n",
    "print('value : ', '\\n', Nsimple.val)"
   ]
  },
  {
   "cell_type": "markdown",
   "metadata": {},
   "source": [
    "## indexing\n",
    "Element indexing works exactly like that for other standard Python sequences. "
   ]
  },
  {
   "cell_type": "code",
   "execution_count": 6,
   "metadata": {},
   "outputs": [
    {
     "name": "stdout",
     "output_type": "stream",
     "text": [
      "1\n",
      "[1, 6]\n",
      "[4, 5, 6, 7, 8, 9]\n",
      "[0, 1]\n",
      "[1, 3, 5]\n",
      "[6, 7]\n",
      "[7, 3, 1]\n"
     ]
    }
   ],
   "source": [
    "idx = Sfield([0, 1, 2, 3, 4, 5, 6, 7, 8, 9])\n",
    "print(idx[1])\n",
    "print(idx[1,6])\n",
    "print(idx[4:])\n",
    "print(idx[:2])\n",
    "print(idx[1:7:2])\n",
    "print(idx[-4:8])\n",
    "print(idx[-3,3,1])"
   ]
  },
  {
   "cell_type": "markdown",
   "metadata": {},
   "source": [
    "## Json compatibility\n",
    "\n",
    "Field objects are completely defined by their Json representation (i.e. the object reconstructed from its json representation is identical to the initial object)."
   ]
  },
  {
   "cell_type": "code",
   "execution_count": 7,
   "metadata": {},
   "outputs": [
    {
     "name": "stdout",
     "output_type": "stream",
     "text": [
      "True\n"
     ]
    }
   ],
   "source": [
    "#print(simple.to_ntv())\n",
    "simple2 = Sfield.ntv(simple.to_ntv())\n",
    "print(simple2 == simple)"
   ]
  },
  {
   "cell_type": "code",
   "execution_count": 8,
   "metadata": {},
   "outputs": [
    {
     "name": "stdout",
     "output_type": "stream",
     "text": [
      "[21, {\"test\": 21}, {\"ko\": 2, \"kobis\": 2}, [1.2, 3.4], \"2021-01-21\", \"name\"]\n",
      "True\n"
     ]
    }
   ],
   "source": [
    "print(Nsimple.to_ntv())\n",
    "Nsimple2 = Nfield.ntv(Nsimple.to_ntv())\n",
    "print(Nsimple2 == Nsimple)"
   ]
  }
 ],
 "metadata": {
  "kernelspec": {
   "display_name": "Python 3 (ipykernel)",
   "language": "python",
   "name": "python3"
  },
  "language_info": {
   "codemirror_mode": {
    "name": "ipython",
    "version": 3
   },
   "file_extension": ".py",
   "mimetype": "text/x-python",
   "name": "python",
   "nbconvert_exporter": "python",
   "pygments_lexer": "ipython3",
   "version": "3.10.9"
  }
 },
 "nbformat": 4,
 "nbformat_minor": 4
}
