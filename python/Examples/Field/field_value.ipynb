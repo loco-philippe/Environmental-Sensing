{
 "cells": [
  {
   "cell_type": "markdown",
   "metadata": {},
   "source": [
    "# Field : Extended values\n",
    "\n",
    "----\n",
    "## Goals\n",
    "- show the diversity of values objects\n",
    "- present the representations of values\n",
    "\n",
    "## Prerequisite\n",
    "- read field_creation page\n"
   ]
  },
  {
   "cell_type": "code",
   "execution_count": 1,
   "metadata": {},
   "outputs": [],
   "source": [
    "from observation import Nfield\n",
    "from datetime import datetime\n",
    "dpt75 = [[[2.4163, 48.8492], [2.4622, 48.8425], [2.4626, 48.8190], [2.4384, 48.8182], [2.4006, 48.8290], [2.3639, 48.8163],\n",
    "          [2.3318, 48.8170], [2.2790, 48.8324], [2.2242, 48.8535], [2.2317, 48.8690], [2.2584, 48.8803], [2.2774, 48.8779],\n",
    "          [2.3198, 48.9004], [2.3851, 48.9020], [2.4139, 48.8708], [2.4163, 48.8492]]]"
   ]
  },
  {
   "cell_type": "markdown",
   "metadata": {},
   "source": [
    "------\n",
    "## Dedicated formats \n",
    "Formats (objects) adapted to environmental data are also supported:\n",
    "- spatial data\n",
    "- temporal data\n",
    "- property data\n",
    "- annotated data\n",
    "\n",
    "All value objects are build with the NTV (named and typed value) structure. NTV objects have several representations : \n",
    "- {'name:type': value}, {':type': value}, {'name': value}, value \n",
    "\n",
    "and several formats : \n",
    "- json, str, byte.\n",
    "\n"
   ]
  },
  {
   "cell_type": "markdown",
   "metadata": {},
   "source": [
    "### NTV value\n",
    "\n",
    "The `format='obj'` option convert json value in object. \n",
    "All NTV objects have binary representation (CBOR standard)."
   ]
  },
  {
   "cell_type": "code",
   "execution_count": 2,
   "metadata": {},
   "outputs": [
    {
     "name": "stdout",
     "output_type": "stream",
     "text": [
      "default :  \n",
      " [21, {\"test\": 21}, {\":point\": [1.2, 3.4]}, [1.2, 3.4], {\":date\": \"2021-11-21\"}, \"2021-11-21\", {\"dict\": \"test\", \"example\": 212.8}] \n",
      "\n",
      "obj simple :  \n",
      " [21, {'test': 21}, <POINT (1.2 3.4)>, [1.2, 3.4], datetime.date(2021, 11, 21), '2021-11-21', {'dict': 'test', 'example': 212.8}] \n",
      "\n",
      "binary :  \n",
      " b'\\x87\\x15\\xa1dtest\\x15\\xa1f:point\\x82\\xfb?\\xf3333333\\xfb@\\x0b333333\\x82\\xfb?\\xf3333333\\xfb@\\x0b333333\\xc1\\x1aa\\x99\\x8c\\x00j2021-11-21\\xa2ddictdtestgexample\\xfb@j\\x99\\x99\\x99\\x99\\x99\\x9a' \n",
      "\n",
      "complete json obj :  \n",
      " [21, {\"test\": 21}, {\":point\": [1.2, 3.4]}, [1.2, 3.4], {\":date\": \"2021-11-21\"}, \"2021-11-21\", {\"dict\": \"test\", \"example\": 212.8}] \n",
      "\n",
      "only values :  \n",
      " [21, 21, [1.2, 3.4], [1.2, 3.4], '2021-11-21', '2021-11-21', ['test', 212.8]]\n"
     ]
    }
   ],
   "source": [
    "es = Nfield([21, {'test':21}, {':point':[1.2, 3.4]}, [1.2, 3.4], {':date':'2021-11-21'}, '2021-11-21',\n",
    "             {'dict': 'test', 'example': 212.8}])\n",
    "\n",
    "print('default : ', '\\n', es, '\\n')\n",
    "print('obj simple : ', '\\n', es.to_ntv().to_obj(format='obj'), '\\n')\n",
    "print('binary : ', '\\n', es.to_ntv().to_obj(format='cbor', encoded=True), '\\n')\n",
    "print('complete json obj : ', '\\n', es.to_ntv(), '\\n')\n",
    "print('only values : ', '\\n', es.to_ntv().obj_value(simpleval=True))"
   ]
  },
  {
   "cell_type": "markdown",
   "metadata": {},
   "source": [
    "### spatial data\n",
    "A location can be defined by a label (string), a position (geojson position coordinates), a geographical area (geojson polygon coordinates). Coordinates are conform to geoJSON standard.\n"
   ]
  },
  {
   "cell_type": "code",
   "execution_count": 3,
   "metadata": {
    "scrolled": true
   },
   "outputs": [
    {
     "name": "stdout",
     "output_type": "stream",
     "text": [
      "default :  \n",
      " {\"::point\": [{\":string\": \"lille\"}, [2.35, 48.87], {\"lyon\": [4.83, 45.76]}, {\"dpt75:polygon\": [[[2.4163, 48.8492], [2.4622, 48.8425], [2.4626, 48.819], [2.4384, 48.8182], [2.4006, 48.829], [2.3639, 48.8163], [2.3318, 48.817], [2.279, 48.8324], [2.2242, 48.8535], [2.2317, 48.869], [2.2584, 48.8803], [2.2774, 48.8779], [2.3198, 48.9004], [2.3851, 48.902], [2.4139, 48.8708], [2.4163, 48.8492]]]}, {\"marseille\": [5.38, 43.3]}]} \n",
      "\n",
      "object  :  \n",
      " {'::point': [{':string': 'lille'}, <POINT (2.35 48.9)>, {'lyon': <POINT (4.83 45.8)>}, {'dpt75': <POLYGON ((2.42 48.8, 2.46 48.8, 2.46 48.8, 2.44 48.8, 2.4 48.8, 2.36 48.8, ...>}, {'marseille': <POINT (5.38 43.3)>}]} \n",
      "\n",
      "only simple values :  \n",
      " ['lille', [2.35, 48.87], [4.83, 45.76], [[[2.4163, 48.8492], [2.4622, 48.8425], [2.4626, 48.819], [2.4384, 48.8182], [2.4006, 48.829], [2.3639, 48.8163], [2.3318, 48.817], [2.279, 48.8324], [2.2242, 48.8535], [2.2317, 48.869], [2.2584, 48.8803], [2.2774, 48.8779], [2.3198, 48.9004], [2.3851, 48.902], [2.4139, 48.8708], [2.4163, 48.8492]]], [5.38, 43.3]]\n"
     ]
    }
   ],
   "source": [
    "paris       = [2.35, 48.87]\n",
    "lyon        = [4.83, 45.76]\n",
    "marseille   = [5.38, 43.3]\n",
    "\n",
    "loc = Nfield.ntv({'::point': [{':string': 'lille'}, paris, {'lyon': lyon}, {'dpt75:polygon': dpt75}, {'marseille': marseille}]})\n",
    "\n",
    "print('default : ', '\\n', loc, '\\n')\n",
    "print('object  : ', '\\n', loc.to_ntv().to_obj(format='obj'), '\\n')\n",
    "print('only simple values : ', '\\n', loc.to_ntv().obj_value(simpleval=True))"
   ]
  },
  {
   "cell_type": "markdown",
   "metadata": {},
   "source": [
    "### temporal data\n",
    "Just like for locations, datations can be defined by a description, an instant or an interval. "
   ]
  },
  {
   "cell_type": "code",
   "execution_count": 4,
   "metadata": {
    "scrolled": false
   },
   "outputs": [
    {
     "name": "stdout",
     "output_type": "stream",
     "text": [
      "default :  \n",
      " {\"::datetime\": [{\"monday\": \"2021-10-01T00:00:00\"}, {\":string\": \"morning\"}, {\":date\": \"2021-11-21\"}, {\"morning\": [\"2020-02-04T08:00:00\", \"2020-02-04T12:00:00\"]}]} \n",
      "\n",
      "object  :  \n",
      " {'::datetime': [{'monday': datetime.datetime(2021, 10, 1, 0, 0)}, {':string': 'morning'}, datetime.date(2021, 11, 21), {'morning': [datetime.datetime(2020, 2, 4, 8, 0), datetime.datetime(2020, 2, 4, 12, 0)]}]} \n",
      "\n",
      "only simple values :  \n",
      " ['2021-10-01T00:00:00', 'morning', '2021-11-21', ['2020-02-04T08:00:00', '2020-02-04T12:00:00']] \n",
      "\n",
      "binary format :  \n",
      " b'\\xa1j::datetime\\x84\\xa1fmonday\\xc1\\x1aaVO\\x80\\xa1g:stringgmorning\\xc1\\x1aa\\x99\\x8c\\x00\\xa1gmorning\\x82\\xc1\\x1a^9$\\x80\\xc1\\x1a^9\\\\\\xc0'\n"
     ]
    }
   ],
   "source": [
    "morning = [datetime(2020, 2, 4, 8), datetime(2020, 2, 4, 12)]\n",
    "afternoon  = [datetime(2020, 2, 4, 14), datetime(2020, 2, 4, 18)]\n",
    "\n",
    "dat =  Nfield.ntv({'::datetime': [{'monday':datetime(2021,10,1)}, {':string': 'morning'}, {':date': '2021-11-21'},  \n",
    "                                  {'morning:': morning}\n",
    "                                 ]})\n",
    "\n",
    "print('default : ', '\\n', dat, '\\n')\n",
    "print('object  : ', '\\n', dat.to_ntv().to_obj(format='obj'), '\\n')\n",
    "print('only simple values : ', '\\n', dat.to_ntv().obj_value(simpleval=True), '\\n')\n",
    "print('binary format : ', '\\n', dat.to_ntv().to_obj(encoded=True, format='cbor'))"
   ]
  },
  {
   "cell_type": "markdown",
   "metadata": {},
   "source": [
    "### property data\n",
    "\n",
    "Property objects are dictionnary with specific characteristics. "
   ]
  },
  {
   "cell_type": "code",
   "execution_count": 5,
   "metadata": {
    "scrolled": false
   },
   "outputs": [
    {
     "name": "stdout",
     "output_type": "stream",
     "text": [
      "default :  \n",
      " {\"air pollutants\": [[{\":$iupac\": \"NO2\"}, {\"measure\": 21}, {\":$unit\": \"\\u00b5g/m3\"}], [{\":$iupac\": \"O3\"}, {\"measure\": 42}, {\":$unit\": \"\\u00b5g/m3\"}], [{\":$iupac\": \"CH4\"}, {\"measure\": 49}, {\":$unit\": \"\\u00b5g/m3\"}]]} \n",
      "\n",
      "object  :  \n",
      " {'air pollutants': [[{':$iupac': 'NO2'}, {'measure': 21}, {':$unit': 'µg/m3'}], [{':$iupac': 'O3'}, {'measure': 42}, {':$unit': 'µg/m3'}], [{':$iupac': 'CH4'}, {'measure': 49}, {':$unit': 'µg/m3'}]]} \n",
      "\n",
      "only simple values :  \n",
      " [['NO2', 21, 'µg/m3'], ['O3', 42, 'µg/m3'], ['CH4', 49, 'µg/m3']]\n"
     ]
    }
   ],
   "source": [
    "prp = Nfield.ntv({'air pollutants':[{':$iupac': 'NO2', 'measure': 21, ':$unit': 'µg/m3'}, \n",
    "                                    {':$iupac': 'O3',  'measure': 42, ':$unit': 'µg/m3'},\n",
    "                                    {':$iupac': 'CH4', 'measure': 49, ':$unit': 'µg/m3'}]})\n",
    "\n",
    "print('default : ', '\\n', prp, '\\n')\n",
    "print('object  : ', '\\n', prp.to_ntv().to_obj(format='obj'), '\\n')\n",
    "print('only simple values : ', '\\n', prp.to_ntv().obj_value(simpleval=True))"
   ]
  },
  {
   "cell_type": "markdown",
   "metadata": {},
   "source": [
    "### Annotated data\n",
    "A name can be added for each data "
   ]
  },
  {
   "cell_type": "code",
   "execution_count": 6,
   "metadata": {
    "scrolled": true
   },
   "outputs": [
    {
     "name": "stdout",
     "output_type": "stream",
     "text": [
      "default :  \n",
      " [21, {\"test\": 21}, {\"list\": [1, 2, 3]}, true, {\"dic\": {\"one\": 1, \"two\": 2}}, [1.2, 3.4], \"name\"] \n",
      "\n",
      "object  :  \n",
      " [21, {'test': 21}, {'list': [1, 2, 3]}, True, {'dic': {'one': 1, 'two': 2}}, [1.2, 3.4], 'name'] \n",
      "\n",
      "only simple values :  \n",
      " [21, 21, [1, 2, 3], True, [1, 2], [1.2, 3.4], 'name']\n"
     ]
    }
   ],
   "source": [
    "nam = Nfield.ntv([21, {'test': 21}, {'list': [1,2,3]}, True, {'dic':{'one':1, 'two':2}}, [1.2, 3.4], 'name'])\n",
    "\n",
    "print('default : ', '\\n', nam, '\\n')\n",
    "print('object  : ', '\\n', nam.to_ntv().to_obj(format='obj'), '\\n')\n",
    "print('only simple values : ', '\\n', nam.to_ntv().obj_value(simpleval=True))"
   ]
  },
  {
   "cell_type": "markdown",
   "metadata": {},
   "source": [
    "### Global data\n",
    "Every kind of object can be included in a 'Nfield' object."
   ]
  },
  {
   "cell_type": "code",
   "execution_count": 7,
   "metadata": {},
   "outputs": [
    {
     "name": "stdout",
     "output_type": "stream",
     "text": [
      "default :  \n",
      " {\"::field\": {\"es\": [21, {\"test\": 21}, {\":point\": [1.2, 3.4]}, [1.2, 3.4], {\":date\": \"2021-11-21\"}, \"2021-11-21\", {\"dict\": \"test\", \"example\": 212.8}], \"loc\": {\"::point\": [{\":string\": \"lille\"}, [2.35, 48.87], {\"lyon\": [4.83, 45.76]}, {\"dpt75:polygon\": [[[2.4163, 48.8492], [2.4622, 48.8425], [2.4626, 48.819], [2.4384, 48.8182], [2.4006, 48.829], [2.3639, 48.8163], [2.3318, 48.817], [2.279, 48.8324], [2.2242, 48.8535], [2.2317, 48.869], [2.2584, 48.8803], [2.2774, 48.8779], [2.3198, 48.9004], [2.3851, 48.902], [2.4139, 48.8708], [2.4163, 48.8492]]]}, {\"marseille\": [5.38, 43.3]}]}, \"dat\": {\"::datetime\": [{\"monday\": \"2021-10-01T00:00:00\"}, {\":string\": \"morning\"}, {\":date\": \"2021-11-21\"}, {\"morning\": [\"2020-02-04T08:00:00\", \"2020-02-04T12:00:00\"]}]}, \"prp\": {\"air pollutants\": [[{\":$iupac\": \"NO2\"}, {\"measure\": 21}, {\":$unit\": \"\\u00b5g/m3\"}], [{\":$iupac\": \"O3\"}, {\"measure\": 42}, {\":$unit\": \"\\u00b5g/m3\"}], [{\":$iupac\": \"CH4\"}, {\"measure\": 49}, {\":$unit\": \"\\u00b5g/m3\"}]]}, \"nam\": [21, {\"test\": 21}, {\"list\": [1, 2, 3]}, true, {\"dic\": {\"one\": 1, \"two\": 2}}, [1.2, 3.4], \"name\"]}} \n",
      "\n",
      "only simple values :  \n",
      " [[21, {'test': 21}, {':point': [1.2, 3.4]}, [1.2, 3.4], {':date': '2021-11-21'}, '2021-11-21', {'dict': 'test', 'example': 212.8}], {'::point': [{':string': 'lille'}, [2.35, 48.87], {'lyon': [4.83, 45.76]}, {'dpt75:polygon': [[[2.4163, 48.8492], [2.4622, 48.8425], [2.4626, 48.819], [2.4384, 48.8182], [2.4006, 48.829], [2.3639, 48.8163], [2.3318, 48.817], [2.279, 48.8324], [2.2242, 48.8535], [2.2317, 48.869], [2.2584, 48.8803], [2.2774, 48.8779], [2.3198, 48.9004], [2.3851, 48.902], [2.4139, 48.8708], [2.4163, 48.8492]]]}, {'marseille': [5.38, 43.3]}]}, {'::datetime': [{'monday': '2021-10-01T00:00:00'}, {':string': 'morning'}, {':date': '2021-11-21'}, {'morning': ['2020-02-04T08:00:00', '2020-02-04T12:00:00']}]}, {'air pollutants': [[{':$iupac': 'NO2'}, {'measure': 21}, {':$unit': 'µg/m3'}], [{':$iupac': 'O3'}, {'measure': 42}, {':$unit': 'µg/m3'}], [{':$iupac': 'CH4'}, {'measure': 49}, {':$unit': 'µg/m3'}]]}, [21, {'test': 21}, {'list': [1, 2, 3]}, True, {'dic': {'one': 1, 'two': 2}}, [1.2, 3.4], 'name']]\n"
     ]
    }
   ],
   "source": [
    "ext = Nfield.ntv([{'es': es}, {'loc':loc}, {'dat':dat}, {'prp':prp}, {'nam':nam}])\n",
    "\n",
    "print('default : ', '\\n', ext, '\\n')\n",
    "print('only simple values : ', '\\n', ext.to_ntv().obj_value(simpleval=True))"
   ]
  },
  {
   "cell_type": "markdown",
   "metadata": {},
   "source": [
    "## Json compatibility\n",
    "\n",
    "Just like for usual data, Nfield objects are completely defined by their Json representation for any format (object, string, binary).\n",
    "\n",
    "i.e. the object reconstructed from its json representation is identical to the initial object."
   ]
  },
  {
   "cell_type": "code",
   "execution_count": 8,
   "metadata": {
    "scrolled": true
   },
   "outputs": [
    {
     "name": "stdout",
     "output_type": "stream",
     "text": [
      "Datation object compatibility :  True\n",
      "Location object compatibility :  True\n",
      "Property object compatibility :  True\n",
      "Named    object compatibility :  True\n",
      "Extern   object compatibility :  True\n"
     ]
    }
   ],
   "source": [
    "print('Datation object compatibility : ', dat ==\n",
    "      Nfield.ntv(dat.to_ntv()) == \n",
    "      Nfield.from_ntv(dat.to_ntv().to_obj()) ==\n",
    "      Nfield.from_ntv(dat.to_ntv().to_obj(format='obj')) ==\n",
    "      Nfield.from_ntv(dat.to_ntv().to_obj(format='cbor')))\n",
    "print('Location object compatibility : ', loc ==\n",
    "      Nfield.ntv(loc.to_ntv()) == \n",
    "      Nfield.from_ntv(loc.to_ntv().to_obj()) ==\n",
    "      Nfield.from_ntv(loc.to_ntv().to_obj(format='obj')) ==\n",
    "      Nfield.from_ntv(loc.to_ntv().to_obj(format='cbor')))\n",
    "print('Property object compatibility : ', prp ==\n",
    "      Nfield.ntv(prp.to_ntv()) == \n",
    "      Nfield.from_ntv(prp.to_ntv().to_obj())  ==\n",
    "      Nfield.from_ntv(prp.to_ntv().to_obj(format='obj')) ==\n",
    "      Nfield.from_ntv(prp.to_ntv().to_obj(format='cbor')))\n",
    "print('Named    object compatibility : ', nam == \n",
    "      Nfield.ntv(nam.to_ntv()) == \n",
    "      Nfield.from_ntv(nam.to_ntv().to_obj()) ==\n",
    "      Nfield.from_ntv(nam.to_ntv().to_obj(format='obj')) ==\n",
    "      Nfield.from_ntv(nam.to_ntv().to_obj(format='cbor')))\n",
    "print('Extern   object compatibility : ', ext ==\n",
    "      Nfield.ntv(ext.to_ntv()) == \n",
    "      Nfield.from_ntv(ext.to_ntv().to_obj()) ==\n",
    "      Nfield.from_ntv(ext.to_ntv().to_obj(format='obj')) ==\n",
    "      Nfield.from_ntv(ext.to_ntv().to_obj(format='cbor'), decode_str=True)\n",
    "     )"
   ]
  }
 ],
 "metadata": {
  "kernelspec": {
   "display_name": "Python 3 (ipykernel)",
   "language": "python",
   "name": "python3"
  },
  "language_info": {
   "codemirror_mode": {
    "name": "ipython",
    "version": 3
   },
   "file_extension": ".py",
   "mimetype": "text/x-python",
   "name": "python",
   "nbconvert_exporter": "python",
   "pygments_lexer": "ipython3",
   "version": "3.10.9"
  }
 },
 "nbformat": 4,
 "nbformat_minor": 4
}
