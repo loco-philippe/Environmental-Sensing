{
 "cells": [
  {
   "cell_type": "markdown",
   "id": "8768b1b2",
   "metadata": {},
   "source": [
    "# Object: Sensor Observation\n",
    "## Goal\n",
    "This example shows how to use Observation with sensors\n",
    "\n",
    "<img src=\"https://loco-philippe.github.io/ES/sensor.png\" width=\"600\">\n",
    "\n",
    "\n",
    "The Payload is the set of data sent from the sensor to the server."
   ]
  },
  {
   "cell_type": "code",
   "execution_count": 1,
   "id": "56bd5840",
   "metadata": {},
   "outputs": [],
   "source": [
    "# This cell is only to prepare the example\n",
    "import json\n",
    "from observation import Observation as Obs\n",
    "from observation import Ilist, NamedValue, LocationValue, DatationValue\n",
    "from datetime import datetime\n",
    "from pprint import pprint\n",
    "import requests as rq\n",
    "url = \"https://webhooks.mongodb-realm.com/api/client/v2.0/app/observation_app-wsjge/service/postObs/incoming_webhook/api?secret=10minutes\""
   ]
  },
  {
   "cell_type": "markdown",
   "id": "c2fe1a65",
   "metadata": {},
   "source": [
    "## Case 1: Simple sensor\n",
    "\n",
    "In this case there is no initialization phase. \n",
    "\n",
    "The sensor encode and send an Observation.\n",
    "\n",
    "The server decode the Observation and store it into a database."
   ]
  },
  {
   "cell_type": "code",
   "execution_count": 2,
   "id": "1d8fc5fa",
   "metadata": {
    "slideshow": {
     "slide_type": "-"
    }
   },
   "outputs": [
    {
     "name": "stdout",
     "output_type": "stream",
     "text": [
      "{\"type\": \"observation\", \"data\": [[\"result\", [25.0]], [\"datation\", [\"2021-05-05T10:08:00+00:00\"]], [\"location\", [[2.35, 48.87]]], [\"property\", [{\"prp\": \"Temp\"}]]]} \n",
      "\n",
      "text payload (length) :  162\n",
      "binary payload (length) :  104 \n",
      "\n",
      "data is the same ?  True \n",
      "\n",
      "{'data': [['result', [25.0]],\n",
      "          ['datation', ['2021-05-05T10:08:00+00:00']],\n",
      "          ['location', [[2.35, 48.87]]],\n",
      "          ['property', [{'prp': 'Temp'}]]],\n",
      " 'type': 'observation'}\n",
      "\n",
      "reponse :  200\n"
     ]
    }
   ],
   "source": [
    "# simulation of a measure\n",
    "time = \"2021-05-05T10:08\"\n",
    "coord = [[2.35, 48.87]]\n",
    "prop = {\"prp\":\"Temp\"}\n",
    "res = 25.0\n",
    "\n",
    "# Observation creation and encoding to Json or to binary data in the sensor\n",
    "ob_sensor = Obs.std(res, time, coord, prop)\n",
    "payload1 = ob_sensor.json(encoded=True)                         # if the payload is character payload\n",
    "print(payload1, '\\n\\ntext payload (length) : ', len(payload1))\n",
    "payload2 = ob_sensor.json(encoded=True, encode_format='cbor')   # if the payload is binary payload\n",
    "print('binary payload (length) : ', len(payload2), '\\n')                     # 99 bytes\n",
    "# next : send the payload with the network protocol\n",
    "\n",
    "# data decoding in the server\n",
    "ob_receive1 = Obs.obj(payload1)\n",
    "ob_receive2 = Obs.obj(payload2)\n",
    "print('data is the same ? ', ob_receive2 == ob_receive1 == ob_sensor, '\\n')   # it's True !!\n",
    "\n",
    "# and store it in the database (example with NoSQL DataBase)\n",
    "jsonStore = ob_receive1.json(encoded=True)                     # add 'infos' to facilitate the research in the database\n",
    "pprint(json.loads(jsonStore))\n",
    "r = rq.post(url, data=jsonStore)\n",
    "print(\"\\nreponse : \", r.status_code)                           # 200 : Json is stored in the Database\n"
   ]
  },
  {
   "cell_type": "markdown",
   "id": "5224ab12",
   "metadata": {},
   "source": [
    "## Case 2: Mobile sensor with one property\n",
    "In this second example, the sensor is mobile and the property is fixed.\n",
    "\n",
    "There is no initialization phase.\n",
    "\n",
    "The sensor encode and send an Observation.\n",
    "\n",
    "The server decode the Observation"
   ]
  },
  {
   "cell_type": "code",
   "execution_count": 3,
   "id": "0306c70d",
   "metadata": {
    "slideshow": {
     "slide_type": "-"
    }
   },
   "outputs": [
    {
     "name": "stdout",
     "output_type": "stream",
     "text": [
      "binary payload (length) :  251 \n",
      "\n",
      "data is the same ?  True \n",
      "\n",
      "{'data': [['result', [46, 49, 47, 45, 50, 48], [3, 0, 2, 5, 1, 4]],\n",
      "          ['datation',\n",
      "           ['2021-06-05T12:05:00+00:00',\n",
      "            '2021-06-08T12:05:00+00:00',\n",
      "            '2021-06-06T12:05:00+00:00',\n",
      "            '2021-06-04T12:05:00+00:00',\n",
      "            '2021-06-09T12:05:00+00:00',\n",
      "            '2021-06-07T12:05:00+00:00'],\n",
      "           0],\n",
      "          ['location', [[2.1, 41.2], [5.1, 44.2], [3.1, 42.2], [1.1, 40.2], [6.1, 45.2], [4.1, 43.2]], 0],\n",
      "          ['property', [{'prp': 'PM25', 'unit': 'kg/m3'}]]],\n",
      " 'information': {'index': {'datation': {'box': ['2021-06-04T12:05:00+00:00', '2021-06-09T12:05:00+00:00'],\n",
      "                                        'lencodec': 6,\n",
      "                                        'num': 1,\n",
      "                                        'typevalue': 'DatationValue'},\n",
      "                           'location': {'box': [1.1, 40.2, 6.1, 45.2],\n",
      "                                        'lencodec': 6,\n",
      "                                        'num': 2,\n",
      "                                        'typevalue': 'LocationValue'},\n",
      "                           'property': {'box': ['PM25'], 'lencodec': 1, 'num': 3, 'typevalue': 'PropertyValue'},\n",
      "                           'result': {'box': None, 'lencodec': 6, 'num': 0, 'typevalue': 'ESValue'}},\n",
      "                 'observation': {'complete': True, 'dimension': 1, 'length': 6, 'lenindex': 4, 'name': None}},\n",
      " 'type': 'observation'}\n"
     ]
    }
   ],
   "source": [
    "# Observation creation and encoding to Json or to binary data in the sensor\n",
    "ob_sensor = Obs.std()\n",
    "prop1 = {'prp': 'PM25', 'unit': 'kg/m3'}\n",
    "for i in range(6):                                          # simulation of a sequence of measurements\n",
    "    ob_sensor.append([ 45 + i, datetime(2021, 6, 4+i, 12, 5), [1.1+i, 40.2+i], prop1])\n",
    "payload2 = ob_sensor.json(encoded=True, encode_format='cbor')\n",
    "print('binary payload (length) : ', len(payload2), '\\n')    # 41.8 bytes/measure\n",
    "# next : send the payload with the network protocol\n",
    "\n",
    "# data decoding in the server\n",
    "ob_receive = Obs.obj(payload2)\n",
    "print('data is the same ? ', ob_receive == ob_sensor, '\\n') # it's True !!\n",
    "\n",
    "# and store it in the database (example with NoSQL DataBase)\n",
    "jsonStore = ob_receive.json(encoded=True, json_info=True)   # add 'infos' to facilitate the research in the database\n",
    "pprint(json.loads(jsonStore), width=120)"
   ]
  },
  {
   "cell_type": "markdown",
   "id": "349e90d3",
   "metadata": {},
   "source": [
    "## Case 3: Mobile sensor with multiple property\n",
    "The sensor is mobile and two properties are defined.\n",
    "\n",
    "There is no initialization phase.\n",
    "\n",
    "The sensor encode and send an Observation.\n",
    "\n",
    "The server decode the Observation"
   ]
  },
  {
   "cell_type": "code",
   "execution_count": 4,
   "id": "b17a5d3b",
   "metadata": {
    "slideshow": {
     "slide_type": "-"
    }
   },
   "outputs": [
    {
     "name": "stdout",
     "output_type": "stream",
     "text": [
      "binary payload (length) :  251 \n",
      "\n",
      "data is the same ?  True \n",
      "\n",
      "{'data': [['result', [106, 46, 105, 49, 47, 45, 50, 48], [5, 2, 1, 4, 7, 0, 3, 6]],\n",
      "          ['datation',\n",
      "           [datetime.datetime(2021, 6, 6, 12, 5, tzinfo=datetime.timezone.utc),\n",
      "            datetime.datetime(2021, 6, 7, 12, 5, tzinfo=datetime.timezone.utc),\n",
      "            datetime.datetime(2021, 6, 5, 12, 5, tzinfo=datetime.timezone.utc),\n",
      "            datetime.datetime(2021, 6, 8, 12, 5, tzinfo=datetime.timezone.utc),\n",
      "            datetime.datetime(2021, 6, 9, 12, 5, tzinfo=datetime.timezone.utc),\n",
      "            datetime.datetime(2021, 6, 4, 12, 5, tzinfo=datetime.timezone.utc)],\n",
      "           [0, [1, 2, 5, 3, 0, 5, 4, 1]]],\n",
      "          ['location', [[3.1, 42.2], [4.1, 43.2], [2.1, 41.2], [5.1, 44.2], [6.1, 45.2], [1.1, 40.2]], 1],\n",
      "          ['property',\n",
      "           [{'prp': 'PM25', 'unit': 'kg/m3'}, {'prp': 'PM10', 'unit': 'kg/m3'}],\n",
      "           [0, [1, 0, 1, 0, 0, 0, 0, 0]]]],\n",
      " 'information': {'index': {'datation': {'box': [datetime.datetime(2021, 6, 4, 12, 5, tzinfo=datetime.timezone.utc),\n",
      "                                                datetime.datetime(2021, 6, 9, 12, 5, tzinfo=datetime.timezone.utc)],\n",
      "                                        'lencodec': 6,\n",
      "                                        'num': 1,\n",
      "                                        'typevalue': 'DatationValue'},\n",
      "                           'location': {'box': [1.1, 40.2, 6.1, 45.2],\n",
      "                                        'lencodec': 6,\n",
      "                                        'num': 2,\n",
      "                                        'typevalue': 'LocationValue'},\n",
      "                           'property': {'box': ['PM25', 'PM10'], 'lencodec': 2, 'num': 3, 'typevalue': 'PropertyValue'},\n",
      "                           'result': {'box': None, 'lencodec': 8, 'num': 0, 'typevalue': 'ESValue'}},\n",
      "                 'observation': {'complete': True, 'dimension': 1, 'length': 8, 'lenindex': 4, 'name': None}},\n",
      " 'type': 'observation'}\n"
     ]
    }
   ],
   "source": [
    "# Observation creation and encoding to Json or to binary data in the sensor\n",
    "ob_sensor = Obs.std()\n",
    "prop1 = {'prp': 'PM25', 'unit': 'kg/m3'}\n",
    "prop2 = {'prp': 'PM10', 'unit': 'kg/m3'}\n",
    "for i in range(6):                                          \n",
    "    date = datetime(2021, 6, 4 + i, 12, 5)\n",
    "    loc = [1.1 + i, 40.2 + i]\n",
    "    ob_sensor.append([ 45 + i, date, loc, prop1])\n",
    "    if i%3 == 0: ob_sensor.append([ 105 + i//3, date, loc, prop2]) # 2e property is sent with another frequency                      \n",
    "payload = ob_sensor.full(fillvalue=None).json(encoded=True, encode_format='cbor') # we choose to sent full observation\n",
    "print('binary payload (length) : ', len(payload2), '\\n')    # 243 bytes -> 30.4 bytes/measure\n",
    "# next : send the payload with the network protocol\n",
    "\n",
    "# data decoding in the server\n",
    "ob_receive = Obs.obj(payload)\n",
    "print('data is the same ? ', ob_receive == ob_sensor, '\\n') # it's True !!\n",
    "\n",
    "pprint(ob_receive.json(json_info=True), width=120)\n"
   ]
  },
  {
   "cell_type": "markdown",
   "id": "d96be4f6",
   "metadata": {},
   "source": [
    "## Case 4: Simple sensor (minimize data in operation)\n",
    "This example is the same as the case 1.\n",
    "\n",
    "In the initialization phase, an Observation with only Property and Location is defined.\n",
    "\n",
    "In the operation phase, an Observation with only Result is sent.\n",
    "\n",
    "The complete observation is reconstructed in the server."
   ]
  },
  {
   "cell_type": "code",
   "execution_count": 5,
   "id": "43ede226",
   "metadata": {
    "scrolled": true
   },
   "outputs": [
    {
     "name": "stdout",
     "output_type": "stream",
     "text": [
      "payload_init (in server or sent by sensor) : \n",
      " {'type': 'observation', 'data': [['location', [[2.3, 48.9]]], ['property', [{'prp': 'Temp'}]]]}\n",
      "\n",
      "payload length (text and binary) :  6 4\n",
      "\n",
      "data is the same ?  True \n",
      "\n",
      "{'data': [['res', [25]],\n",
      "          ['datation', [datetime.datetime(2021, 6, 4, 12, 5, tzinfo=datetime.timezone.utc)]],\n",
      "          ['location', [[2.3, 48.9]]],\n",
      "          ['property', [{'prp': 'Temp'}]]],\n",
      " 'type': 'observation'}\n"
     ]
    }
   ],
   "source": [
    "# initialization phase (sensor or server) -> once\n",
    "coord = [2.3, 48.9]\n",
    "prop = {\"prp\":\"Temp\"}\n",
    "ob_init = Obs.dic({'location': [coord], 'property': prop})\n",
    "payload_init = ob_init.json()\n",
    "print('payload_init (in server or sent by sensor) : \\n', payload_init)\n",
    "\n",
    "# operation phase (sensor) -> regularly\n",
    "res = 25\n",
    "il_operat = Ilist.obj([res])\n",
    "#il_operat = Ilist.dic({'res': [res]})\n",
    "payload1 = il_operat.json(encoded=True)                           # if the payload is character payload\n",
    "payload2 = il_operat.json(encoded=True, encode_format='cbor')     # if the payload is binary payload\n",
    "print('\\npayload length (text and binary) : ', len(payload1), len(payload2)) # 4 bytes and 3 bytes\n",
    "# next : send the payload with the network protocol\n",
    "\n",
    "# data decoding in the server\n",
    "il_receive1 = Ilist.obj(payload1)\n",
    "il_receive2 = Ilist.obj(payload2)\n",
    "date_receive = datetime(2021, 6, 4, 12, 5)\n",
    "print('\\ndata is the same ? ', il_receive1 == il_receive2 == il_operat, '\\n')   # it's True !!\n",
    "\n",
    "# complete observation\n",
    "ob_complet = Obs.dic({'res': il_receive1, 'datation': date_receive, 'location': [coord], 'property': prop}).merge(simplename=True)\n",
    "pprint(ob_complet.json(), width=120)\n"
   ]
  },
  {
   "cell_type": "markdown",
   "id": "5d7f426f",
   "metadata": {},
   "source": [
    "## Case 5: Sensor with multiple property (minimize data in operation)\n",
    "In the initialization phase, an Observation with only Property and Location is defined.\n",
    "\n",
    "In the operation phase, an Observation with only Result is sent.\n",
    "\n",
    "The complete observation is reconstructed in the server."
   ]
  },
  {
   "cell_type": "code",
   "execution_count": 6,
   "id": "78483796",
   "metadata": {
    "scrolled": false
   },
   "outputs": [
    {
     "name": "stdout",
     "output_type": "stream",
     "text": [
      "payload_init (in server or sent by sensor) : \n",
      " [[[2.3, 48.9]], [{'prp': 'PM25'}], [{'prp': 'PM10'}]]\n",
      "\n",
      "payload length (binary) :  105\n",
      "\n",
      "data is the same ?  True \n",
      "\n",
      "{'data': [['datation',\n",
      "           [datetime.datetime(2021, 6, 4, 12, 5, tzinfo=datetime.timezone.utc),\n",
      "            datetime.datetime(2021, 6, 5, 12, 5, tzinfo=datetime.timezone.utc),\n",
      "            datetime.datetime(2021, 6, 6, 12, 5, tzinfo=datetime.timezone.utc),\n",
      "            datetime.datetime(2021, 6, 7, 12, 5, tzinfo=datetime.timezone.utc),\n",
      "            datetime.datetime(2021, 6, 8, 12, 5, tzinfo=datetime.timezone.utc),\n",
      "            datetime.datetime(2021, 6, 9, 12, 5, tzinfo=datetime.timezone.utc)]],\n",
      "          ['property', [{'prp': 'PM25'}, {'prp': 'PM10'}]],\n",
      "          ['res', [45, 105, 46, 47, 48, 106, 49, 50, '-'], [0, 1, 2, 8, 3, 8, 4, 5, 6, 8, 7, 8]],\n",
      "          ['location',\n",
      "           [[2.3, 48.9],\n",
      "            [2.3, 48.9],\n",
      "            [2.3, 48.9],\n",
      "            [2.3, 48.9],\n",
      "            [2.3, 48.9],\n",
      "            [2.3, 48.9],\n",
      "            [2.3, 48.9],\n",
      "            [2.3, 48.9],\n",
      "            '-'],\n",
      "           2]],\n",
      " 'type': 'observation'}\n",
      "\n",
      "\n"
     ]
    },
    {
     "data": {
      "text/html": [
       "<table>\n",
       "<thead>\n",
       "<tr><th style=\"text-align: center;\">         datation          </th><th style=\"text-align: center;\">   property    </th><th style=\"text-align: center;\"> res </th><th style=\"text-align: center;\"> location  </th></tr>\n",
       "</thead>\n",
       "<tbody>\n",
       "<tr><td style=\"text-align: center;\">&quot;2021-06-04T12:05:00+00:00&quot;</td><td style=\"text-align: center;\">{&quot;prp&quot;: &quot;PM25&quot;}</td><td style=\"text-align: center;\"> 45  </td><td style=\"text-align: center;\">[2.3, 48.9]</td></tr>\n",
       "<tr><td style=\"text-align: center;\">&quot;2021-06-04T12:05:00+00:00&quot;</td><td style=\"text-align: center;\">{&quot;prp&quot;: &quot;PM10&quot;}</td><td style=\"text-align: center;\"> 105 </td><td style=\"text-align: center;\">[2.3, 48.9]</td></tr>\n",
       "<tr><td style=\"text-align: center;\">&quot;2021-06-05T12:05:00+00:00&quot;</td><td style=\"text-align: center;\">{&quot;prp&quot;: &quot;PM25&quot;}</td><td style=\"text-align: center;\"> 46  </td><td style=\"text-align: center;\">[2.3, 48.9]</td></tr>\n",
       "<tr><td style=\"text-align: center;\">&quot;2021-06-05T12:05:00+00:00&quot;</td><td style=\"text-align: center;\">{&quot;prp&quot;: &quot;PM10&quot;}</td><td style=\"text-align: center;\">  -  </td><td style=\"text-align: center;\">    &quot;-&quot;    </td></tr>\n",
       "<tr><td style=\"text-align: center;\">&quot;2021-06-06T12:05:00+00:00&quot;</td><td style=\"text-align: center;\">{&quot;prp&quot;: &quot;PM25&quot;}</td><td style=\"text-align: center;\"> 47  </td><td style=\"text-align: center;\">[2.3, 48.9]</td></tr>\n",
       "<tr><td style=\"text-align: center;\">&quot;2021-06-06T12:05:00+00:00&quot;</td><td style=\"text-align: center;\">{&quot;prp&quot;: &quot;PM10&quot;}</td><td style=\"text-align: center;\">  -  </td><td style=\"text-align: center;\">    &quot;-&quot;    </td></tr>\n",
       "<tr><td style=\"text-align: center;\">&quot;2021-06-07T12:05:00+00:00&quot;</td><td style=\"text-align: center;\">{&quot;prp&quot;: &quot;PM25&quot;}</td><td style=\"text-align: center;\"> 48  </td><td style=\"text-align: center;\">[2.3, 48.9]</td></tr>\n",
       "<tr><td style=\"text-align: center;\">&quot;2021-06-07T12:05:00+00:00&quot;</td><td style=\"text-align: center;\">{&quot;prp&quot;: &quot;PM10&quot;}</td><td style=\"text-align: center;\"> 106 </td><td style=\"text-align: center;\">[2.3, 48.9]</td></tr>\n",
       "<tr><td style=\"text-align: center;\">&quot;2021-06-08T12:05:00+00:00&quot;</td><td style=\"text-align: center;\">{&quot;prp&quot;: &quot;PM25&quot;}</td><td style=\"text-align: center;\"> 49  </td><td style=\"text-align: center;\">[2.3, 48.9]</td></tr>\n",
       "<tr><td style=\"text-align: center;\">&quot;2021-06-08T12:05:00+00:00&quot;</td><td style=\"text-align: center;\">{&quot;prp&quot;: &quot;PM10&quot;}</td><td style=\"text-align: center;\">  -  </td><td style=\"text-align: center;\">    &quot;-&quot;    </td></tr>\n",
       "<tr><td style=\"text-align: center;\">&quot;2021-06-09T12:05:00+00:00&quot;</td><td style=\"text-align: center;\">{&quot;prp&quot;: &quot;PM25&quot;}</td><td style=\"text-align: center;\"> 50  </td><td style=\"text-align: center;\">[2.3, 48.9]</td></tr>\n",
       "<tr><td style=\"text-align: center;\">&quot;2021-06-09T12:05:00+00:00&quot;</td><td style=\"text-align: center;\">{&quot;prp&quot;: &quot;PM10&quot;}</td><td style=\"text-align: center;\">  -  </td><td style=\"text-align: center;\">    &quot;-&quot;    </td></tr>\n",
       "</tbody>\n",
       "</table>"
      ],
      "text/plain": [
       "'<table>\\n<thead>\\n<tr><th style=\"text-align: center;\">         datation          </th><th style=\"text-align: center;\">   property    </th><th style=\"text-align: center;\"> res </th><th style=\"text-align: center;\"> location  </th></tr>\\n</thead>\\n<tbody>\\n<tr><td style=\"text-align: center;\">&quot;2021-06-04T12:05:00+00:00&quot;</td><td style=\"text-align: center;\">{&quot;prp&quot;: &quot;PM25&quot;}</td><td style=\"text-align: center;\"> 45  </td><td style=\"text-align: center;\">[2.3, 48.9]</td></tr>\\n<tr><td style=\"text-align: center;\">&quot;2021-06-04T12:05:00+00:00&quot;</td><td style=\"text-align: center;\">{&quot;prp&quot;: &quot;PM10&quot;}</td><td style=\"text-align: center;\"> 105 </td><td style=\"text-align: center;\">[2.3, 48.9]</td></tr>\\n<tr><td style=\"text-align: center;\">&quot;2021-06-05T12:05:00+00:00&quot;</td><td style=\"text-align: center;\">{&quot;prp&quot;: &quot;PM25&quot;}</td><td style=\"text-align: center;\"> 46  </td><td style=\"text-align: center;\">[2.3, 48.9]</td></tr>\\n<tr><td style=\"text-align: center;\">&quot;2021-06-05T12:05:00+00:00&quot;</td><td style=\"text-align: center;\">{&quot;prp&quot;: &quot;PM10&quot;}</td><td style=\"text-align: center;\">  -  </td><td style=\"text-align: center;\">    &quot;-&quot;    </td></tr>\\n<tr><td style=\"text-align: center;\">&quot;2021-06-06T12:05:00+00:00&quot;</td><td style=\"text-align: center;\">{&quot;prp&quot;: &quot;PM25&quot;}</td><td style=\"text-align: center;\"> 47  </td><td style=\"text-align: center;\">[2.3, 48.9]</td></tr>\\n<tr><td style=\"text-align: center;\">&quot;2021-06-06T12:05:00+00:00&quot;</td><td style=\"text-align: center;\">{&quot;prp&quot;: &quot;PM10&quot;}</td><td style=\"text-align: center;\">  -  </td><td style=\"text-align: center;\">    &quot;-&quot;    </td></tr>\\n<tr><td style=\"text-align: center;\">&quot;2021-06-07T12:05:00+00:00&quot;</td><td style=\"text-align: center;\">{&quot;prp&quot;: &quot;PM25&quot;}</td><td style=\"text-align: center;\"> 48  </td><td style=\"text-align: center;\">[2.3, 48.9]</td></tr>\\n<tr><td style=\"text-align: center;\">&quot;2021-06-07T12:05:00+00:00&quot;</td><td style=\"text-align: center;\">{&quot;prp&quot;: &quot;PM10&quot;}</td><td style=\"text-align: center;\"> 106 </td><td style=\"text-align: center;\">[2.3, 48.9]</td></tr>\\n<tr><td style=\"text-align: center;\">&quot;2021-06-08T12:05:00+00:00&quot;</td><td style=\"text-align: center;\">{&quot;prp&quot;: &quot;PM25&quot;}</td><td style=\"text-align: center;\"> 49  </td><td style=\"text-align: center;\">[2.3, 48.9]</td></tr>\\n<tr><td style=\"text-align: center;\">&quot;2021-06-08T12:05:00+00:00&quot;</td><td style=\"text-align: center;\">{&quot;prp&quot;: &quot;PM10&quot;}</td><td style=\"text-align: center;\">  -  </td><td style=\"text-align: center;\">    &quot;-&quot;    </td></tr>\\n<tr><td style=\"text-align: center;\">&quot;2021-06-09T12:05:00+00:00&quot;</td><td style=\"text-align: center;\">{&quot;prp&quot;: &quot;PM25&quot;}</td><td style=\"text-align: center;\"> 50  </td><td style=\"text-align: center;\">[2.3, 48.9]</td></tr>\\n<tr><td style=\"text-align: center;\">&quot;2021-06-09T12:05:00+00:00&quot;</td><td style=\"text-align: center;\">{&quot;prp&quot;: &quot;PM10&quot;}</td><td style=\"text-align: center;\">  -  </td><td style=\"text-align: center;\">    &quot;-&quot;    </td></tr>\\n</tbody>\\n</table>'"
      ]
     },
     "execution_count": 6,
     "metadata": {},
     "output_type": "execute_result"
    }
   ],
   "source": [
    "# initialization phase (sensor or server) -> once\n",
    "coord = [2.3, 48.9]\n",
    "prop1 = {\"prp\":\"PM25\"}\n",
    "prop2 = {\"prp\":\"PM10\"}\n",
    "il_init = Ilist.obj([[coord], prop1, prop2])\n",
    "payload_init = il_init.json()\n",
    "print('payload_init (in server or sent by sensor) : \\n', payload_init)\n",
    "\n",
    "# operation phase (sensor) -> regularly\n",
    "il_sensor = Ilist.dic({'res': [], 'datation':[], 'property':[]})\n",
    "for i in range(6):                                               # simule une boucle de mesure\n",
    "    date = datetime(2021, 6, 4+i, 12, 5)\n",
    "    il_sensor.append([ 45 + i, date, prop1])\n",
    "    if i%3 == 0: il_sensor.append([ 105 + i//3, date, prop2])\n",
    "il_sensor.full(fillvalue=None) \n",
    "il_sensor.nindex('property').setcodeclist([None, None])\n",
    "payload = il_sensor.json(encoded=True, encode_format='cbor')\n",
    "print('\\npayload length (binary) : ', len(payload)) # 88 bytes (11 bytes/measure)\n",
    "# if the full option is not used, the length would be 102 bytes\n",
    "# next : send the payload with the network protocol\n",
    "\n",
    "# data decoding in the server\n",
    "il_init = Ilist.obj(payload_init)\n",
    "coord = il_init.lindex[0].val[0]\n",
    "prop1 = il_init.lindex[1].val[0]\n",
    "prop2 = il_init.lindex[2].val[0]\n",
    "il_receive = Ilist.obj(payload, reindex=False)\n",
    "print('\\ndata is the same ? ', il_receive == il_sensor, '\\n')   # it's True !!\n",
    "il_receive.nindex('property').setcodeclist([prop1, prop2])\n",
    "\n",
    "# complete observation\n",
    "ob_complet = Obs.dic({'res': il_receive, 'location': [coord]}).merge(simplename=True)\\\n",
    ".full(varname=['res'], idxname=['datation', 'property'], inplace=False).setcanonorder()\n",
    "#.full(idxname=['datation', 'property'], inplace=False).setcanonorder()\n",
    "pprint(ob_complet.json(fullvar=True), width=120)\n",
    "print('\\n')\n",
    "ob_complet.view(tablefmt='html', numalign='center', stralign='center')"
   ]
  }
 ],
 "metadata": {
  "celltoolbar": "Aucun(e)",
  "kernelspec": {
   "display_name": "Python 3 (ipykernel)",
   "language": "python",
   "name": "python3"
  },
  "language_info": {
   "codemirror_mode": {
    "name": "ipython",
    "version": 3
   },
   "file_extension": ".py",
   "mimetype": "text/x-python",
   "name": "python",
   "nbconvert_exporter": "python",
   "pygments_lexer": "ipython3",
   "version": "3.9.12"
  },
  "widgets": {
   "application/vnd.jupyter.widget-state+json": {
    "state": {},
    "version_major": 2,
    "version_minor": 0
   }
  }
 },
 "nbformat": 4,
 "nbformat_minor": 5
}
