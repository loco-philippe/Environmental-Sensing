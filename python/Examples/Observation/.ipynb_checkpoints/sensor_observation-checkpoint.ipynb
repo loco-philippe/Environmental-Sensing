{
 "cells": [
  {
   "cell_type": "markdown",
   "metadata": {},
   "source": [
    "# Object: Sensor Observation\n",
    "## Goal\n",
    "This example shows how to use Observation with sensors\n",
    "\n",
    "<img src=\"https://loco-philippe.github.io/ES/sensor.png\" width=\"600\">\n",
    "\n",
    "\n",
    "The Payload is the set of data sent from the sensor to the server."
   ]
  },
  {
   "cell_type": "code",
   "execution_count": 1,
   "id": "56bd5840",
   "metadata": {},
   "outputs": [],
   "source": [
    "# This cell is only to prepare the example\n",
    "import os, json\n",
    "os.chdir('../../ES')\n",
    "from ESObs import Obs\n",
    "from ilist import Ilist\n",
    "from ESValue import NamedValue, LocationValue, DatationValue\n",
    "from datetime import datetime\n",
    "from pprint import pprint\n",
    "import requests as rq\n",
    "url = \"https://webhooks.mongodb-realm.com/api/client/v2.0/app/observation_app-wsjge/service/postObs/incoming_webhook/api?secret=10minutes\""
   ]
  },
  {
   "cell_type": "markdown",
   "metadata": {},
   "source": [
    "## Case 1: Simple sensor\n",
    "\n",
    "In this case there is no initialization phase. \n",
    "\n",
    "The sensor encode and send an Observation.\n",
    "\n",
    "The server decode the Observation and store it into a database."
   ]
  },
  {
   "cell_type": "code",
   "execution_count": 2,
   "id": "1d8fc5fa",
   "metadata": {
    "slideshow": {
     "slide_type": "-"
    }
   },
   "outputs": [
    {
     "name": "stdout",
     "output_type": "stream",
     "text": [
      "{\"type\": \"obs\", \"data\": [[\"result\", [25.0], -1], [\"datation\", [\"2021-05-05T10:08:00+00:00\"]], [\"location\", [[2.35, 48.87]]], [\"property\", [{\"prp\": \"Temp\"}]]]} \n",
      "\n",
      "text payload (length) :  158\n",
      "binary payload (length) :  97 \n",
      "\n",
      "data is the same ?  True \n",
      "\n",
      "{'data': [['result', [25.0], -1],\n",
      "          ['datation', ['2021-05-05T10:08:00+00:00']],\n",
      "          ['location', [[2.35, 48.87]]],\n",
      "          ['property', [{'prp': 'Temp'}]]],\n",
      " 'type': 'obs'}\n",
      "\n",
      "reponse :  200\n"
     ]
    }
   ],
   "source": [
    "# simulation of a measure\n",
    "time = \"2021-05-05T10:08\"\n",
    "coord = [[2.35, 48.87]]\n",
    "prop = {\"prp\":\"Temp\"}\n",
    "res = 25.0\n",
    "\n",
    "# Observation creation and encoding to Json or to binary data in the sensor\n",
    "ob_sensor = Obs.Std(res, time, coord, prop)\n",
    "payload1 = ob_sensor.json(encoded=True)                         # if the payload is character payload\n",
    "print(payload1, '\\n\\ntext payload (length) : ', len(payload1))\n",
    "payload2 = ob_sensor.json(encoded=True, encode_format='cbor')   # if the payload is binary payload\n",
    "print('binary payload (length) : ', len(payload2), '\\n')                     # 99 bytes\n",
    "# next : send the payload with the network protocol\n",
    "\n",
    "# data decoding in the server\n",
    "ob_receive1 = Obs.Iobj(payload1)\n",
    "ob_receive2 = Obs.Iobj(payload2)\n",
    "print('data is the same ? ', ob_receive2 == ob_receive1 == ob_sensor, '\\n')   # it's True !!\n",
    "\n",
    "# and store it in the database (example with NoSQL DataBase)\n",
    "jsonStore = ob_receive1.json(encoded=True)                     # add 'infos' to facilitate the research in the database\n",
    "pprint(json.loads(jsonStore))\n",
    "r = rq.post(url, data=jsonStore)\n",
    "print(\"\\nreponse : \", r.status_code)                           # 200 : Json is stored in the Database\n"
   ]
  },
  {
   "cell_type": "markdown",
   "metadata": {},
   "source": [
    "## Case 2: Mobile sensor with one property\n",
    "In this second example, the sensor is mobile and the property is fixed.\n",
    "\n",
    "There is no initialization phase.\n",
    "\n",
    "The sensor encode and send an Observation.\n",
    "\n",
    "The server decode the Observation"
   ]
  },
  {
   "cell_type": "code",
   "execution_count": 3,
   "metadata": {
    "slideshow": {
     "slide_type": "-"
    }
   },
   "outputs": [
    {
     "name": "stdout",
     "output_type": "stream",
     "text": [
      "binary payload (length) :  243 \n",
      "\n",
      "data is the same ?  True \n",
      "\n",
      "{'data': [['result', [45, 46, 47, 48, 49, 50], -1],\n",
      "          ['datation',\n",
      "           ['2021-06-05T12:05:00+00:00',\n",
      "            '2021-06-07T12:05:00+00:00',\n",
      "            '2021-06-08T12:05:00+00:00',\n",
      "            '2021-06-09T12:05:00+00:00',\n",
      "            '2021-06-06T12:05:00+00:00',\n",
      "            '2021-06-04T12:05:00+00:00'],\n",
      "           [5, 0, 4, 1, 2, 3]],\n",
      "          ['location',\n",
      "           [[2.1, 41.2],\n",
      "            [4.1, 43.2],\n",
      "            [5.1, 44.2],\n",
      "            [6.1, 45.2],\n",
      "            [3.1, 42.2],\n",
      "            [1.1, 40.2]],\n",
      "           1],\n",
      "          ['property', [{'prp': 'PM25', 'unit': 'kg/m3'}]]],\n",
      " 'information': {'axes': ['datation'],\n",
      "                 'complet': True,\n",
      "                 'datationBox': ['2021-06-04T12:05:00+00:00',\n",
      "                                 '2021-06-09T12:05:00+00:00'],\n",
      "                 'dim': 1,\n",
      "                 'geobox': {'coordinates': [[[6.1, 40.2],\n",
      "                                             [6.1, 45.2],\n",
      "                                             [1.1, 45.2],\n",
      "                                             [1.1, 40.2],\n",
      "                                             [6.1, 40.2]]],\n",
      "                            'type': 'Polygon'},\n",
      "                 'len-datation': 6,\n",
      "                 'len-location': 6,\n",
      "                 'len-property': 1,\n",
      "                 'len-result': 6,\n",
      "                 'locationBox': [1.1, 40.2, 6.1, 45.2],\n",
      "                 'propertyBox': ['PM25']},\n",
      " 'type': 'obs'}\n"
     ]
    }
   ],
   "source": [
    "# Observation creation and encoding to Json or to binary data in the sensor\n",
    "ob_sensor = Obs.Std()\n",
    "prop1 = {'prp': 'PM25', 'unit': 'kg/m3'}\n",
    "for i in range(6):                                          # simulation of a sequence of measurements\n",
    "    ob_sensor.append([ 45 + i, datetime(2021, 6, 4+i, 12, 5), [1.1+i, 40.2+i], prop1])\n",
    "payload2 = ob_sensor.json(encoded=True, encode_format='cbor')\n",
    "print('binary payload (length) : ', len(payload2), '\\n')    # 41.8 bytes/measure\n",
    "# next : send the payload with the network protocol\n",
    "\n",
    "# data decoding in the server\n",
    "ob_receive = Obs.Iobj(payload2)\n",
    "print('data is the same ? ', ob_receive == ob_sensor, '\\n') # it's True !!\n",
    "\n",
    "# and store it in the database (example with NoSQL DataBase)\n",
    "jsonStore = ob_receive.json(encoded=True, json_info=True)   # add 'infos' to facilitate the research in the database\n",
    "pprint(json.loads(jsonStore))"
   ]
  },
  {
   "cell_type": "markdown",
   "metadata": {},
   "source": [
    "## Case 3: Mobile sensor with multiple property\n",
    "The sensor is mobile and two properties are defined.\n",
    "\n",
    "There is no initialization phase.\n",
    "\n",
    "The sensor encode and send an Observation.\n",
    "\n",
    "The server decode the Observation"
   ]
  },
  {
   "cell_type": "code",
   "execution_count": 4,
   "metadata": {
    "slideshow": {
     "slide_type": "-"
    }
   },
   "outputs": [
    {
     "name": "stdout",
     "output_type": "stream",
     "text": [
      "binary payload (length) :  243 \n",
      "\n",
      "data is the same ?  True \n",
      "\n",
      "{'data': [['datation',\n",
      "           [datetime.datetime(2021, 6, 5, 12, 5, tzinfo=datetime.timezone.utc),\n",
      "            datetime.datetime(2021, 6, 7, 12, 5, tzinfo=datetime.timezone.utc),\n",
      "            datetime.datetime(2021, 6, 8, 12, 5, tzinfo=datetime.timezone.utc),\n",
      "            datetime.datetime(2021, 6, 9, 12, 5, tzinfo=datetime.timezone.utc),\n",
      "            datetime.datetime(2021, 6, 6, 12, 5, tzinfo=datetime.timezone.utc),\n",
      "            datetime.datetime(2021, 6, 4, 12, 5, tzinfo=datetime.timezone.utc)],\n",
      "           [5, 5, 0, 0, 4, 4, 1, 1, 2, 2, 3, 3]],\n",
      "          ['property',\n",
      "           [{'prp': 'PM10', 'unit': 'kg/m3'}, {'prp': 'PM25', 'unit': 'kg/m3'}],\n",
      "           [1, 0, 1, 0, 1, 0, 1, 0, 1, 0, 1, 0]],\n",
      "          ['location',\n",
      "           [[2.1, 41.2],\n",
      "            [4.1, 43.2],\n",
      "            [5.1, 44.2],\n",
      "            [6.1, 45.2],\n",
      "            [3.1, 42.2],\n",
      "            [1.1, 40.2]],\n",
      "           0],\n",
      "          ['result',\n",
      "           [45, 105, 46, None, 47, None, 48, 106, 49, None, 50, None],\n",
      "           -1]],\n",
      " 'information': {'axes': ['datation', 'property'],\n",
      "                 'complet': True,\n",
      "                 'datationBox': ['2021-06-04T12:05:00+00:00',\n",
      "                                 '2021-06-09T12:05:00+00:00'],\n",
      "                 'dim': 2,\n",
      "                 'geobox': {'coordinates': [[[6.1, 40.2],\n",
      "                                             [6.1, 45.2],\n",
      "                                             [1.1, 45.2],\n",
      "                                             [1.1, 40.2],\n",
      "                                             [6.1, 40.2]]],\n",
      "                            'type': 'Polygon'},\n",
      "                 'len-datation': 6,\n",
      "                 'len-location': 6,\n",
      "                 'len-property': 2,\n",
      "                 'len-result': 9,\n",
      "                 'locationBox': [1.1, 40.2, 6.1, 45.2],\n",
      "                 'propertyBox': ['PM10', 'PM25']},\n",
      " 'type': 'obs'}\n"
     ]
    }
   ],
   "source": [
    "# Observation creation and encoding to Json or to binary data in the sensor\n",
    "ob_sensor = Obs.Std()\n",
    "prop1 = {'prp': 'PM25', 'unit': 'kg/m3'}\n",
    "prop2 = {'prp': 'PM10', 'unit': 'kg/m3'}\n",
    "for i in range(6):                                          \n",
    "    date = datetime(2021, 6, 4 + i, 12, 5)\n",
    "    loc = [1.1 + i, 40.2 + i]\n",
    "    ob_sensor.append([ 45 + i, date, loc, prop1])\n",
    "    if i%3 == 0: ob_sensor.append([ 105 + i//3, date, loc, prop2]) # 2e property is sent with another frequency                      \n",
    "payload = ob_sensor.full(fillvalue=None).json(encoded=True, encode_format='cbor') # we choose to sent full observation\n",
    "print('binary payload (length) : ', len(payload2), '\\n')    # 243 bytes -> 30.4 bytes/measure\n",
    "# next : send the payload with the network protocol\n",
    "\n",
    "# data decoding in the server\n",
    "ob_receive = Obs.Iobj(payload)\n",
    "print('data is the same ? ', ob_receive == ob_sensor, '\\n') # it's True !!\n",
    "\n",
    "pprint(ob_receive.json(json_info=True))\n"
   ]
  },
  {
   "cell_type": "markdown",
   "metadata": {},
   "source": [
    "## Case 4: Simple sensor (minimize data in operation)\n",
    "This example is the same as the case 1.\n",
    "\n",
    "In the initialization phase, an Observation with only Property and Location is defined.\n",
    "\n",
    "In the operation phase, an Observation with only Result is sent.\n",
    "\n",
    "The complete observation is reconstructed in the server."
   ]
  },
  {
   "cell_type": "code",
   "execution_count": 5,
   "id": "43ede226",
   "metadata": {
    "scrolled": false
   },
   "outputs": [
    {
     "name": "stdout",
     "output_type": "stream",
     "text": [
      "payload_init (in server or sent by sensor) : \n",
      " {'type': 'obs', 'data': [['location', [[2.3, 48.9]]], ['property', [{'prp': 'Temp'}]]]}\n",
      "\n",
      "payload length (text and binary) :  4 3\n",
      "\n",
      "data is the same ?  True \n",
      "\n",
      "{'data': [['res', [25], -1],\n",
      "          ['datation',\n",
      "           [datetime.datetime(2021, 6, 4, 12, 5, tzinfo=datetime.timezone.utc)]],\n",
      "          ['location', [[2.3, 48.9]]],\n",
      "          ['property', [{'prp': 'Temp'}]]],\n",
      " 'type': 'obs'}\n"
     ]
    }
   ],
   "source": [
    "# initialization phase (sensor or server) -> once\n",
    "coord = [2.3, 48.9]\n",
    "prop = {\"prp\":\"Temp\"}\n",
    "ob_init = Obs.Idic({'location': [coord], 'property': prop})\n",
    "payload_init = ob_init.json()\n",
    "print('payload_init (in server or sent by sensor) : \\n', payload_init)\n",
    "\n",
    "# operation phase (sensor) -> regularly\n",
    "res = 25\n",
    "il_operat = Ilist([res])\n",
    "#il_operat = Ilist.Idic({'res': [res]})\n",
    "payload1 = il_operat.json(encoded=True)                           # if the payload is character payload\n",
    "payload2 = il_operat.json(encoded=True, encode_format='cbor')     # if the payload is binary payload\n",
    "print('\\npayload length (text and binary) : ', len(payload1), len(payload2)) # 4 bytes and 3 bytes\n",
    "# next : send the payload with the network protocol\n",
    "\n",
    "# data decoding in the server\n",
    "il_receive1 = Ilist.Iobj(payload1)\n",
    "il_receive2 = Ilist.Iobj(payload2)\n",
    "date_receive = datetime(2021, 6, 4, 12, 5)\n",
    "print('\\ndata is the same ? ', il_receive1 == il_receive2 == il_operat, '\\n')   # it's True !!\n",
    "\n",
    "# complete observation\n",
    "ob_complet = Obs.Idic({'res': il_receive1, 'datation': date_receive, 'location': [coord], 'property': prop}, var=0).merge()\n",
    "pprint(ob_complet.json())\n"
   ]
  },
  {
   "cell_type": "markdown",
   "metadata": {},
   "source": [
    "## Case 5: Sensor with multiple property (minimize data in operation)\n",
    "In the initialization phase, an Observation with only Property and Location is defined.\n",
    "\n",
    "In the operation phase, an Observation with only Result is sent.\n",
    "\n",
    "The complete observation is reconstructed in the server."
   ]
  },
  {
   "cell_type": "code",
   "execution_count": 6,
   "metadata": {},
   "outputs": [
    {
     "name": "stdout",
     "output_type": "stream",
     "text": [
      "payload_init (in server or sent by sensor) : \n",
      " {'type': 'obs', 'data': [['location', [[2.3, 48.9]]], ['property', [{'prp': 'PM10'}, {'prp': 'PM25'}], [1, 0]]]}\n",
      "\n",
      "payload length (binary) :  88\n",
      "\n",
      "data is the same ?  True \n",
      "\n",
      "{'data': [['datation',\n",
      "           [datetime.datetime(2021, 6, 5, 12, 5, tzinfo=datetime.timezone.utc),\n",
      "            datetime.datetime(2021, 6, 7, 12, 5, tzinfo=datetime.timezone.utc),\n",
      "            datetime.datetime(2021, 6, 8, 12, 5, tzinfo=datetime.timezone.utc),\n",
      "            datetime.datetime(2021, 6, 9, 12, 5, tzinfo=datetime.timezone.utc),\n",
      "            datetime.datetime(2021, 6, 6, 12, 5, tzinfo=datetime.timezone.utc),\n",
      "            datetime.datetime(2021, 6, 4, 12, 5, tzinfo=datetime.timezone.utc)]],\n",
      "          ['property', [{'prp': 'PM10'}, {'prp': 'PM25'}]],\n",
      "          ['location', [[2.3, 48.9]]],\n",
      "          ['res',\n",
      "           [None, 46, 106, 48, None, 49, None, 50, None, 47, 105, 45],\n",
      "           -1]],\n",
      " 'type': 'obs'}\n",
      "\n",
      "\n",
      "datation                     property         location       res\n",
      "---------------------------  ---------------  -----------  -----\n",
      "\"2021-06-05T12:05:00+00:00\"  {\"prp\": \"PM10\"}  [2.3, 48.9]\n",
      "\"2021-06-05T12:05:00+00:00\"  {\"prp\": \"PM25\"}  [2.3, 48.9]     46\n",
      "\"2021-06-07T12:05:00+00:00\"  {\"prp\": \"PM10\"}  [2.3, 48.9]    106\n",
      "\"2021-06-07T12:05:00+00:00\"  {\"prp\": \"PM25\"}  [2.3, 48.9]     48\n",
      "\"2021-06-08T12:05:00+00:00\"  {\"prp\": \"PM10\"}  [2.3, 48.9]\n",
      "\"2021-06-08T12:05:00+00:00\"  {\"prp\": \"PM25\"}  [2.3, 48.9]     49\n",
      "\"2021-06-09T12:05:00+00:00\"  {\"prp\": \"PM10\"}  [2.3, 48.9]\n",
      "\"2021-06-09T12:05:00+00:00\"  {\"prp\": \"PM25\"}  [2.3, 48.9]     50\n",
      "\"2021-06-06T12:05:00+00:00\"  {\"prp\": \"PM10\"}  [2.3, 48.9]\n",
      "\"2021-06-06T12:05:00+00:00\"  {\"prp\": \"PM25\"}  [2.3, 48.9]     47\n",
      "\"2021-06-04T12:05:00+00:00\"  {\"prp\": \"PM10\"}  [2.3, 48.9]    105\n",
      "\"2021-06-04T12:05:00+00:00\"  {\"prp\": \"PM25\"}  [2.3, 48.9]     45\n"
     ]
    }
   ],
   "source": [
    "# initialization phase (sensor or server) -> once\n",
    "coord = [2.3, 48.9]\n",
    "prop1 = {\"prp\":\"PM25\"}\n",
    "prop2 = {\"prp\":\"PM10\"}\n",
    "ob_init = Obs.Idic({'location': [coord], 'property': [prop1, prop2]})\n",
    "payload_init = ob_init.json()\n",
    "print('payload_init (in server or sent by sensor) : \\n', payload_init)\n",
    "\n",
    "# operation phase (sensor) -> regularly\n",
    "il_sensor = Ilist.Idic({'res': [], 'datation':[], 'property':[[prop1, prop2], []]}, var=0)\n",
    "for i in range(6):                                               # simule une boucle de mesure\n",
    "    date = datetime(2021, 6, 4+i, 12, 5)\n",
    "    il_sensor.append([ 45 + i, date, prop1])\n",
    "    if i%3 == 0: il_sensor.append([ 105 + i//3, date, prop2])\n",
    "il_sensor.full(fillvalue=None) \n",
    "il_sensor.nindex('property').setcodeclist([None, None])\n",
    "payload = il_sensor.json(encoded=True, encode_format='cbor')\n",
    "print('\\npayload length (binary) : ', len(payload)) # 88 bytes (11 bytes/measure)\n",
    "# if the full option is not used, the length would be 102 bytes\n",
    "# next : send the payload with the network protocol\n",
    "\n",
    "# data decoding in the server\n",
    "il_receive = Ilist.Iobj(payload, reindex=False)\n",
    "print('\\ndata is the same ? ', il_receive == il_sensor, '\\n')   # it's True !!\n",
    "il_receive.nindex('property').setcodeclist([prop1, prop2])\n",
    "\n",
    "# complete observation\n",
    "ob_complet = Obs.Idic({'res': il_receive, 'location': [coord]}, var=0).merge().setcanonorder()\n",
    "pprint(ob_complet.json())\n",
    "print('\\n')\n",
    "ob_complet.view()"
   ]
  }
 ],
 "metadata": {
  "celltoolbar": "Aucun(e)",
  "kernelspec": {
   "display_name": "Python 3 (ipykernel)",
   "language": "python",
   "name": "python3"
  },
  "language_info": {
   "codemirror_mode": {
    "name": "ipython",
    "version": 3
   },
   "file_extension": ".py",
   "mimetype": "text/x-python",
   "name": "python",
   "nbconvert_exporter": "python",
   "pygments_lexer": "ipython3",
   "version": "3.9.12"
  },
  "widgets": {
   "application/vnd.jupyter.widget-state+json": {
    "state": {},
    "version_major": 2,
    "version_minor": 0
   }
  }
 },
 "nbformat": 4,
 "nbformat_minor": 5
}
