{
 "cells": [
  {
   "cell_type": "markdown",
   "id": "8d5e0b5d",
   "metadata": {},
   "source": [
    "# Object: Dimension of Observation\n",
    "## Goal\n",
    "In this example, we show you Observations with differents dimensions (1 to 3).\n",
    "\n",
    "\n",
    "<img src=\"https://loco-philippe.github.io/ES/dimension.png\" width=\"800\">\n",
    "\n",
    "------"
   ]
  },
  {
   "cell_type": "code",
   "execution_count": 1,
   "id": "bfd74877",
   "metadata": {},
   "outputs": [
    {
     "ename": "ImportError",
     "evalue": "DLL load failed while importing _imaging: Le module spécifié est introuvable.",
     "output_type": "error",
     "traceback": [
      "\u001b[1;31m---------------------------------------------------------------------------\u001b[0m",
      "\u001b[1;31mImportError\u001b[0m                               Traceback (most recent call last)",
      "\u001b[1;32m~\\AppData\\Local\\Temp\\ipykernel_16940\\4080580218.py\u001b[0m in \u001b[0;36m<module>\u001b[1;34m\u001b[0m\n\u001b[0;32m      2\u001b[0m \u001b[1;32mimport\u001b[0m \u001b[0mos\u001b[0m\u001b[1;33m\u001b[0m\u001b[1;33m\u001b[0m\u001b[0m\n\u001b[0;32m      3\u001b[0m \u001b[0mos\u001b[0m\u001b[1;33m.\u001b[0m\u001b[0mchdir\u001b[0m\u001b[1;33m(\u001b[0m\u001b[1;34m'../../ES'\u001b[0m\u001b[1;33m)\u001b[0m\u001b[1;33m\u001b[0m\u001b[1;33m\u001b[0m\u001b[0m\n\u001b[1;32m----> 4\u001b[1;33m \u001b[1;32mfrom\u001b[0m \u001b[0mESObs\u001b[0m \u001b[1;32mimport\u001b[0m \u001b[0mObs\u001b[0m\u001b[1;33m\u001b[0m\u001b[1;33m\u001b[0m\u001b[0m\n\u001b[0m\u001b[0;32m      5\u001b[0m \u001b[1;33m\u001b[0m\u001b[0m\n\u001b[0;32m      6\u001b[0m \u001b[0mdat1\u001b[0m  \u001b[1;33m=\u001b[0m \u001b[1;33m[\u001b[0m\u001b[1;34m'datvalue'\u001b[0m\u001b[1;33m,\u001b[0m \u001b[1;34m'2021-02-04'\u001b[0m\u001b[1;33m]\u001b[0m\u001b[1;33m\u001b[0m\u001b[1;33m\u001b[0m\u001b[0m\n",
      "\u001b[1;32m~\\OneDrive - Alliance\\perso Wx\\ES standard\\Environnemental-Sensing\\python\\ES\\ESObs.py\u001b[0m in \u001b[0;36m<module>\u001b[1;34m\u001b[0m\n\u001b[0;32m     36\u001b[0m \u001b[1;32mimport\u001b[0m \u001b[0mdatetime\u001b[0m\u001b[1;33m\u001b[0m\u001b[1;33m\u001b[0m\u001b[0m\n\u001b[0;32m     37\u001b[0m \u001b[1;32mimport\u001b[0m \u001b[0mjson\u001b[0m\u001b[1;33m,\u001b[0m \u001b[0mfolium\u001b[0m\u001b[1;33m\u001b[0m\u001b[1;33m\u001b[0m\u001b[0m\n\u001b[1;32m---> 38\u001b[1;33m \u001b[1;32mfrom\u001b[0m \u001b[0milist\u001b[0m \u001b[1;32mimport\u001b[0m \u001b[0mIlist\u001b[0m\u001b[1;33m\u001b[0m\u001b[1;33m\u001b[0m\u001b[0m\n\u001b[0m\u001b[0;32m     39\u001b[0m \u001b[1;32mfrom\u001b[0m \u001b[0miindex\u001b[0m \u001b[1;32mimport\u001b[0m \u001b[0mIindex\u001b[0m\u001b[1;33m\u001b[0m\u001b[1;33m\u001b[0m\u001b[0m\n\u001b[0;32m     40\u001b[0m \u001b[1;32mfrom\u001b[0m \u001b[0mutil\u001b[0m \u001b[1;32mimport\u001b[0m \u001b[0mutil\u001b[0m\u001b[1;33m,\u001b[0m \u001b[0mIindexEncoder\u001b[0m\u001b[1;33m,\u001b[0m \u001b[0mCborDecoder\u001b[0m\u001b[1;33m\u001b[0m\u001b[1;33m\u001b[0m\u001b[0m\n",
      "\u001b[1;32m~\\OneDrive - Alliance\\perso Wx\\ES standard\\Environnemental-Sensing\\python\\ES\\ilist.py\u001b[0m in \u001b[0;36m<module>\u001b[1;34m\u001b[0m\n\u001b[0;32m     39\u001b[0m \u001b[1;32mimport\u001b[0m \u001b[0mxarray\u001b[0m\u001b[1;33m\u001b[0m\u001b[1;33m\u001b[0m\u001b[0m\n\u001b[0;32m     40\u001b[0m \u001b[1;32mimport\u001b[0m \u001b[0mnumpy\u001b[0m \u001b[1;32mas\u001b[0m \u001b[0mnp\u001b[0m\u001b[1;33m\u001b[0m\u001b[1;33m\u001b[0m\u001b[0m\n\u001b[1;32m---> 41\u001b[1;33m \u001b[1;32mimport\u001b[0m \u001b[0mmatplotlib\u001b[0m\u001b[1;33m.\u001b[0m\u001b[0mpyplot\u001b[0m \u001b[1;32mas\u001b[0m \u001b[0mplt\u001b[0m\u001b[1;33m\u001b[0m\u001b[1;33m\u001b[0m\u001b[0m\n\u001b[0m\u001b[0;32m     42\u001b[0m \u001b[1;33m\u001b[0m\u001b[0m\n\u001b[0;32m     43\u001b[0m \u001b[1;32mclass\u001b[0m \u001b[0mIlist\u001b[0m\u001b[1;33m:\u001b[0m\u001b[1;33m\u001b[0m\u001b[1;33m\u001b[0m\u001b[0m\n",
      "\u001b[1;32m~\\Anaconda3\\envs\\observation\\lib\\site-packages\\matplotlib\\__init__.py\u001b[0m in \u001b[0;36m<module>\u001b[1;34m\u001b[0m\n\u001b[0;32m    107\u001b[0m \u001b[1;31m# cbook must import matplotlib only within function\u001b[0m\u001b[1;33m\u001b[0m\u001b[1;33m\u001b[0m\u001b[0m\n\u001b[0;32m    108\u001b[0m \u001b[1;31m# definitions, so it is safe to import from it here.\u001b[0m\u001b[1;33m\u001b[0m\u001b[1;33m\u001b[0m\u001b[0m\n\u001b[1;32m--> 109\u001b[1;33m \u001b[1;32mfrom\u001b[0m \u001b[1;33m.\u001b[0m \u001b[1;32mimport\u001b[0m \u001b[0m_api\u001b[0m\u001b[1;33m,\u001b[0m \u001b[0m_version\u001b[0m\u001b[1;33m,\u001b[0m \u001b[0mcbook\u001b[0m\u001b[1;33m,\u001b[0m \u001b[0mdocstring\u001b[0m\u001b[1;33m,\u001b[0m \u001b[0mrcsetup\u001b[0m\u001b[1;33m\u001b[0m\u001b[1;33m\u001b[0m\u001b[0m\n\u001b[0m\u001b[0;32m    110\u001b[0m \u001b[1;32mfrom\u001b[0m \u001b[0mmatplotlib\u001b[0m\u001b[1;33m.\u001b[0m\u001b[0mcbook\u001b[0m \u001b[1;32mimport\u001b[0m \u001b[0mMatplotlibDeprecationWarning\u001b[0m\u001b[1;33m,\u001b[0m \u001b[0msanitize_sequence\u001b[0m\u001b[1;33m\u001b[0m\u001b[1;33m\u001b[0m\u001b[0m\n\u001b[0;32m    111\u001b[0m \u001b[1;32mfrom\u001b[0m \u001b[0mmatplotlib\u001b[0m\u001b[1;33m.\u001b[0m\u001b[0mcbook\u001b[0m \u001b[1;32mimport\u001b[0m \u001b[0mmplDeprecation\u001b[0m  \u001b[1;31m# deprecated\u001b[0m\u001b[1;33m\u001b[0m\u001b[1;33m\u001b[0m\u001b[0m\n",
      "\u001b[1;32m~\\Anaconda3\\envs\\observation\\lib\\site-packages\\matplotlib\\rcsetup.py\u001b[0m in \u001b[0;36m<module>\u001b[1;34m\u001b[0m\n\u001b[0;32m     25\u001b[0m \u001b[1;32mfrom\u001b[0m \u001b[0mmatplotlib\u001b[0m \u001b[1;32mimport\u001b[0m \u001b[0m_api\u001b[0m\u001b[1;33m,\u001b[0m \u001b[0mcbook\u001b[0m\u001b[1;33m\u001b[0m\u001b[1;33m\u001b[0m\u001b[0m\n\u001b[0;32m     26\u001b[0m \u001b[1;32mfrom\u001b[0m \u001b[0mmatplotlib\u001b[0m\u001b[1;33m.\u001b[0m\u001b[0mcbook\u001b[0m \u001b[1;32mimport\u001b[0m \u001b[0mls_mapper\u001b[0m\u001b[1;33m\u001b[0m\u001b[1;33m\u001b[0m\u001b[0m\n\u001b[1;32m---> 27\u001b[1;33m \u001b[1;32mfrom\u001b[0m \u001b[0mmatplotlib\u001b[0m\u001b[1;33m.\u001b[0m\u001b[0mcolors\u001b[0m \u001b[1;32mimport\u001b[0m \u001b[0mColormap\u001b[0m\u001b[1;33m,\u001b[0m \u001b[0mis_color_like\u001b[0m\u001b[1;33m\u001b[0m\u001b[1;33m\u001b[0m\u001b[0m\n\u001b[0m\u001b[0;32m     28\u001b[0m \u001b[1;32mfrom\u001b[0m \u001b[0mmatplotlib\u001b[0m\u001b[1;33m.\u001b[0m\u001b[0mfontconfig_pattern\u001b[0m \u001b[1;32mimport\u001b[0m \u001b[0mparse_fontconfig_pattern\u001b[0m\u001b[1;33m\u001b[0m\u001b[1;33m\u001b[0m\u001b[0m\n\u001b[0;32m     29\u001b[0m \u001b[1;32mfrom\u001b[0m \u001b[0mmatplotlib\u001b[0m\u001b[1;33m.\u001b[0m\u001b[0m_enums\u001b[0m \u001b[1;32mimport\u001b[0m \u001b[0mJoinStyle\u001b[0m\u001b[1;33m,\u001b[0m \u001b[0mCapStyle\u001b[0m\u001b[1;33m\u001b[0m\u001b[1;33m\u001b[0m\u001b[0m\n",
      "\u001b[1;32m~\\Anaconda3\\envs\\observation\\lib\\site-packages\\matplotlib\\colors.py\u001b[0m in \u001b[0;36m<module>\u001b[1;34m\u001b[0m\n\u001b[0;32m     49\u001b[0m \u001b[1;32mfrom\u001b[0m \u001b[0mnumbers\u001b[0m \u001b[1;32mimport\u001b[0m \u001b[0mNumber\u001b[0m\u001b[1;33m\u001b[0m\u001b[1;33m\u001b[0m\u001b[0m\n\u001b[0;32m     50\u001b[0m \u001b[1;32mimport\u001b[0m \u001b[0mre\u001b[0m\u001b[1;33m\u001b[0m\u001b[1;33m\u001b[0m\u001b[0m\n\u001b[1;32m---> 51\u001b[1;33m \u001b[1;32mfrom\u001b[0m \u001b[0mPIL\u001b[0m \u001b[1;32mimport\u001b[0m \u001b[0mImage\u001b[0m\u001b[1;33m\u001b[0m\u001b[1;33m\u001b[0m\u001b[0m\n\u001b[0m\u001b[0;32m     52\u001b[0m \u001b[1;32mfrom\u001b[0m \u001b[0mPIL\u001b[0m\u001b[1;33m.\u001b[0m\u001b[0mPngImagePlugin\u001b[0m \u001b[1;32mimport\u001b[0m \u001b[0mPngInfo\u001b[0m\u001b[1;33m\u001b[0m\u001b[1;33m\u001b[0m\u001b[0m\n\u001b[0;32m     53\u001b[0m \u001b[1;33m\u001b[0m\u001b[0m\n",
      "\u001b[1;32m~\\Anaconda3\\envs\\observation\\lib\\site-packages\\PIL\\Image.py\u001b[0m in \u001b[0;36m<module>\u001b[1;34m\u001b[0m\n\u001b[0;32m     87\u001b[0m     \u001b[1;31m# Also note that Image.core is not a publicly documented interface,\u001b[0m\u001b[1;33m\u001b[0m\u001b[1;33m\u001b[0m\u001b[0m\n\u001b[0;32m     88\u001b[0m     \u001b[1;31m# and should be considered private and subject to change.\u001b[0m\u001b[1;33m\u001b[0m\u001b[1;33m\u001b[0m\u001b[0m\n\u001b[1;32m---> 89\u001b[1;33m     \u001b[1;32mfrom\u001b[0m \u001b[1;33m.\u001b[0m \u001b[1;32mimport\u001b[0m \u001b[0m_imaging\u001b[0m \u001b[1;32mas\u001b[0m \u001b[0mcore\u001b[0m\u001b[1;33m\u001b[0m\u001b[1;33m\u001b[0m\u001b[0m\n\u001b[0m\u001b[0;32m     90\u001b[0m \u001b[1;33m\u001b[0m\u001b[0m\n\u001b[0;32m     91\u001b[0m     \u001b[1;32mif\u001b[0m \u001b[0m__version__\u001b[0m \u001b[1;33m!=\u001b[0m \u001b[0mgetattr\u001b[0m\u001b[1;33m(\u001b[0m\u001b[0mcore\u001b[0m\u001b[1;33m,\u001b[0m \u001b[1;34m\"PILLOW_VERSION\"\u001b[0m\u001b[1;33m,\u001b[0m \u001b[1;32mNone\u001b[0m\u001b[1;33m)\u001b[0m\u001b[1;33m:\u001b[0m\u001b[1;33m\u001b[0m\u001b[1;33m\u001b[0m\u001b[0m\n",
      "\u001b[1;31mImportError\u001b[0m: DLL load failed while importing _imaging: Le module spécifié est introuvable."
     ]
    }
   ],
   "source": [
    "# This cell is only to prepare the example\n",
    "import os\n",
    "os.chdir('../../ES')\n",
    "from ESObs import Obs\n",
    "\n",
    "dat1  = ['datvalue', '2021-02-04']\n",
    "dat3  = ['datvalue', ['2021-02-04', '2021-05-04', '2021-07-04']]\n",
    "loc1  = ['locvalue', [[2.35, 48.87]]]\n",
    "loc3  = ['locvalue', [[2.35, 48.87], [4.83, 45.76], [5.38, 43.3]]]\n",
    "loc3d = ['locvalue', [[2.35, 48.87], [4.83, 45.76], [5.38, 43.3]], 0]\n",
    "prp1  = ['prpvalue', ['PM10']]\n",
    "prp2  = ['prpvalue', ['PM10', 'PM25']]\n",
    "prp3  = ['prpvalue', ['PM1', 'PM10', 'PM25']]\n",
    "res3  = ['resvalue', [0, 1, 2], -1]\n",
    "res6  = ['resvalue', [0, 1, 2, 3, 4, 5], -1]\n",
    "res9  = ['resvalue', [0, 1, 2, 3, 4, 5, 6, 7, 8], -1]\n",
    "res18 = ['resvalue', [0, 1, 2, 3, 4, 5, 6, 7, 8, 9, 10, 11, 12, 13, 14, 15, 16, 17], -1]"
   ]
  },
  {
   "cell_type": "markdown",
   "id": "37a4ea19",
   "metadata": {},
   "source": [
    "## Dimension 1 : one index"
   ]
  },
  {
   "cell_type": "code",
   "execution_count": null,
   "id": "68e4f72b",
   "metadata": {},
   "outputs": [],
   "source": [
    "# one index\n",
    "ob = Obs.Iobj({'data': [dat3, res3]})\n",
    "ob.plot(line=True, size =3, maxlen=8)\n",
    "ob.view()"
   ]
  },
  {
   "cell_type": "code",
   "execution_count": null,
   "id": "aca54c31",
   "metadata": {},
   "outputs": [],
   "source": [
    "# one used indexes\n",
    "ob = Obs.Iobj({'data': [dat3, loc1, prp1, res3]})\n",
    "ob.plot(line=True, size =3, maxlen=11)\n",
    "ob.voxel()\n",
    "ob.view()"
   ]
  },
  {
   "cell_type": "code",
   "execution_count": null,
   "id": "4292e638",
   "metadata": {},
   "outputs": [],
   "source": [
    "# two coupled indexes\n",
    "ob = Obs.Iobj({'data': [dat3, loc3, prp1, res3]})\n",
    "ob.plot(line=True, size =3, maxlen=8)\n",
    "ob.voxel()\n",
    "ob.view()"
   ]
  },
  {
   "cell_type": "code",
   "execution_count": null,
   "id": "74bd036d",
   "metadata": {},
   "outputs": [],
   "source": [
    "# three coupled indexes\n",
    "ob = Obs.Iobj({'data': [dat3, loc3, prp3, res3]})\n",
    "ob.plot(line=True, size =3, maxlen=8)\n",
    "ob.voxel()\n",
    "ob.view()"
   ]
  },
  {
   "cell_type": "markdown",
   "id": "a84551c5",
   "metadata": {},
   "source": [
    "## Dimension 2 : two indexes"
   ]
  },
  {
   "cell_type": "code",
   "execution_count": null,
   "id": "2e56f863",
   "metadata": {},
   "outputs": [],
   "source": [
    "# two used indexes\n",
    "ob = Obs.Iobj({'data': [dat3, loc3d, prp3, res9]})\n",
    "ob.plot(line=False, size =3, maxlen=8)\n",
    "ob.plot(line=True, size =3, maxlen=8)\n",
    "ob.voxel()\n",
    "ob.view()"
   ]
  },
  {
   "cell_type": "code",
   "execution_count": null,
   "id": "20ddf7ed",
   "metadata": {},
   "outputs": [],
   "source": [
    "# two coupled indexes, one used index\n",
    "ob = Obs.Iobj({'data': [dat3, loc3d, prp2, res6]})\n",
    "ob.plot(line=False, size =3, maxlen=8)\n",
    "ob.plot(line=True, size =3, maxlen=8)\n",
    "ob.voxel()\n",
    "ob.view()"
   ]
  },
  {
   "cell_type": "markdown",
   "id": "15636104",
   "metadata": {},
   "source": [
    "## Dimension 3 : three indexes"
   ]
  },
  {
   "cell_type": "code",
   "execution_count": null,
   "id": "ea5fa7b4",
   "metadata": {},
   "outputs": [],
   "source": [
    "# three used indexes\n",
    "ob = Obs.Iobj({'data': [dat3, loc3, prp2, res18]})\n",
    "ob.plot(line=False, size =3, maxlen=8)\n",
    "ob.plot(line=True, size =3, maxlen=8)\n",
    "ob.voxel()\n",
    "ob.view()"
   ]
  },
  {
   "cell_type": "code",
   "execution_count": null,
   "id": "7dac7148",
   "metadata": {},
   "outputs": [],
   "source": [
    "# three used indexes, with no complete data\n",
    "dat3i  = ['datvalue', ['2021-02-04', '2021-05-04', '2021-07-04'], [0,2,0,1,0,2]]\n",
    "loc3i  = ['locvalue', [[2.35, 48.87], [4.83, 45.76], [5.38, 43.3]], [0,0,1,0,2,2]]\n",
    "prp2i  = ['prpvalue', ['PM10', 'PM25'], [0,1,1,0,0,1]]\n",
    "ob = Obs.Iobj({'data': [dat3i, loc3i, prp2i, res6]})\n",
    "ob.plot(line=False, size =3, maxlen=8)\n",
    "ob.plot(line=True, size =3, maxlen=8)\n",
    "ob.voxel()\n",
    "ob.view()"
   ]
  },
  {
   "cell_type": "code",
   "execution_count": null,
   "id": "7673793c",
   "metadata": {
    "scrolled": false
   },
   "outputs": [],
   "source": [
    "# three used indexes, different index order\n",
    "ob = Obs.Iobj({'data': [dat3, loc3, prp2, res18]}).swapindex([2,1,0,3])\n",
    "ob.plot(line=False, size =3, maxlen=8)\n",
    "ob.view()"
   ]
  },
  {
   "cell_type": "code",
   "execution_count": null,
   "id": "b829f33a",
   "metadata": {
    "scrolled": false
   },
   "outputs": [],
   "source": [
    "# three used indexes, different data order\n",
    "ob = Obs.Iobj({'data': [loc3, dat3, prp2, res18]})\n",
    "ob.plot(line=False, size =3, maxlen=8)\n",
    "ob.view()\n"
   ]
  },
  {
   "cell_type": "code",
   "execution_count": null,
   "id": "da469677",
   "metadata": {},
   "outputs": [],
   "source": [
    "# three used indexes, different data order\n",
    "ob = Obs.Iobj({'data': [res18, prp2, dat3, loc3]}).swapindex([0,3,2,1])\n",
    "ob.plot(line=False, size =3, maxlen=8)\n",
    "ob.view()\n"
   ]
  }
 ],
 "metadata": {
  "kernelspec": {
   "display_name": "Python 3 (ipykernel)",
   "language": "python",
   "name": "python3"
  },
  "language_info": {
   "codemirror_mode": {
    "name": "ipython",
    "version": 3
   },
   "file_extension": ".py",
   "mimetype": "text/x-python",
   "name": "python",
   "nbconvert_exporter": "python",
   "pygments_lexer": "ipython3",
   "version": "3.9.12"
  }
 },
 "nbformat": 4,
 "nbformat_minor": 5
}
