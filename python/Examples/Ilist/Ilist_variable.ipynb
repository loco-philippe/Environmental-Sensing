{
 "cells": [
  {
   "cell_type": "markdown",
   "metadata": {},
   "source": [
    "# Ilist : variable\n",
    "\n",
    "## Goals\n",
    "\n",
    "- present methods associated with the 'variable' attribute\n",
    "\n",
    "-----"
   ]
  },
  {
   "cell_type": "code",
   "execution_count": 11,
   "metadata": {},
   "outputs": [],
   "source": [
    "import os\n",
    "os.chdir('C:/Users/a179227/OneDrive - Alliance/perso Wx/ES standard/python ESstandard/ES')\n",
    "from ilist import Ilist\n",
    "from copy import copy"
   ]
  },
  {
   "cell_type": "markdown",
   "metadata": {},
   "source": [
    "## Variable creation\n",
    "The variable attributes indicate that an Iindex has a particular role : the other Iindex describe the context of variable Iindex.\n",
    "For example in a measurement, the variable Iindex indicates the result of the measurement and the other Iindex indicate the conditions of the measurement."
   ]
  },
  {
   "cell_type": "code",
   "execution_count": 6,
   "metadata": {},
   "outputs": [
    {
     "name": "stdout",
     "output_type": "stream",
     "text": [
      "True \n",
      "\n",
      "[\"temperature\", [12, 14, 21, 16, 21]]\n",
      "\n",
      "[\"month\", [\"jan\", \"jan\", \"apr\", \"apr\", \"sep\"]]\n",
      "[\"city\", [\"paris\", \"lyon\", \"marseille\", \"lille\", \"toulouse\"]]\n",
      "\n"
     ]
    }
   ],
   "source": [
    "il = Ilist.Idic({'month':       ['jan',   'jan',  'apr',       'apr',   'sep'],\n",
    "                 'city':        ['paris', 'lyon', 'marseille', 'lille', 'toulouse'],\n",
    "                 'temperature': [ 12,      14,     21,          16,      21 ]},\n",
    "                var=2 )\n",
    "il1 = Ilist([['month',       ['jan',   'jan',  'apr',       'apr',   'sep']],\n",
    "             ['city',        ['paris', 'lyon', 'marseille', 'lille', 'toulouse']],\n",
    "             ['temperature', [ 12,      14,     21,          16,      21 ], -1] ])\n",
    "\n",
    "print(il == il1, '\\n')\n",
    "print(il)\n"
   ]
  },
  {
   "cell_type": "markdown",
   "metadata": {},
   "source": [
    "## variable access\n",
    "Specific methods are available to access variable data and context data "
   ]
  },
  {
   "cell_type": "code",
   "execution_count": 9,
   "metadata": {
    "scrolled": true
   },
   "outputs": [
    {
     "name": "stdout",
     "output_type": "stream",
     "text": [
      "variable name :  ['temperature']\n",
      "context name :  ['month', 'city']\n",
      "\n",
      "variable index :  [2]\n",
      "context index :  [0, 1]\n",
      "\n",
      "variable row 1 :  [14]\n",
      "context row 1 :  ['jan', 'lyon']\n",
      "\n",
      "variable value for the context [\"jan\", \"lyon\"] :  14\n"
     ]
    }
   ],
   "source": [
    "print('variable name : ', il.lvarname)\n",
    "print('context name : ', il.idxname)\n",
    "\n",
    "print('\\nvariable index : ', il.lvarrow)\n",
    "print('context index : ', il.lidxrow)\n",
    "\n",
    "print('\\nvariable row 1 : ', il.recvar(1))\n",
    "print('context row 1 : ', il.recidx(1))\n",
    "\n",
    "print('\\nvariable value for the context [\"jan\", \"lyon\"] : ', il.loc(['jan', 'lyon']))\n"
   ]
  }
 ],
 "metadata": {
  "kernelspec": {
   "display_name": "Python 3 (ipykernel)",
   "language": "python",
   "name": "python3"
  },
  "language_info": {
   "codemirror_mode": {
    "name": "ipython",
    "version": 3
   },
   "file_extension": ".py",
   "mimetype": "text/x-python",
   "name": "python",
   "nbconvert_exporter": "python",
   "pygments_lexer": "ipython3",
   "version": "3.9.12"
  }
 },
 "nbformat": 4,
 "nbformat_minor": 4
}
