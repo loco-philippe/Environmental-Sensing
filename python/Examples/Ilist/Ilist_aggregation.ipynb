{
 "cells": [
  {
   "cell_type": "markdown",
   "metadata": {},
   "source": [
    "# Ilist : aggregation\n",
    "\n",
    "## Goals\n",
    "\n",
    "- understand the Ilist aggregation process\n",
    "\n",
    "<img src=\"https://loco-philippe.github.io/ES/ilist_aggregation.png\" width=\"800\">\n",
    "\n",
    "\n",
    "-----\n"
   ]
  },
  {
   "cell_type": "code",
   "execution_count": 1,
   "metadata": {},
   "outputs": [],
   "source": [
    "from observation import Ilist\n",
    "from pprint import pprint"
   ]
  },
  {
   "cell_type": "markdown",
   "metadata": {},
   "source": [
    "## example\n",
    "In this example, the documentation process has two step :\n",
    "- a simple documentation for each people\n",
    "- an aggregation of all results\n",
    "\n",
    "The merge method provides a complete Ilist image of all the results (aggregation is the reference, merge is the image)\n",
    "\n",
    "<img src=\"https://loco-philippe.github.io/ES/ilist_merge.png\" width=\"700\">\n"
   ]
  },
  {
   "cell_type": "code",
   "execution_count": 2,
   "metadata": {},
   "outputs": [
    {
     "name": "stdout",
     "output_type": "stream",
     "text": [
      "the aggregate Ilist has the same property as non aggregate Ilist :\n",
      "\n",
      "record number :  4 Iindex number :  6\n",
      "\n",
      "binary representation : \n",
      " b'\\x86\\x83iaggregate\\x84\\xa1eilist\\x84\\x82escore\\x82\\x12\\x06\\x83fcourse\\x82hsoftwaregenglish\\x00\\x82dyear\\x81\\x19\\x07\\xe5\\x83fexamen\\x82bt3bt1\\x00\\xa1eilist\\x84\\x83escore\\x82\\x08\\x0f\\x82\\x01\\x00\\x82dyear\\x81\\x19\\x07\\xe5\\x83fcourse\\x82genglishdmath\\x00\\x83fexamen\\x82bt2bt1\\x00\\xa1eilist\\x84\\x83escore\\x85\\n\\x0b\\x0c\\r\\x0f\\x85\\x01\\x03\\x04\\x00\\x02\\x83fcourse\\x82dmathgenglish\\x82\\x00\\x85\\x01\\x00\\x01\\x00\\x00\\x82dyear\\x81\\x19\\x07\\xe5\\x83fexamen\\x83bt1bt2bt3\\x82\\x00\\x85\\x01\\x00\\x02\\x01\\x02\\xa1eilist\\x84\\x82escore\\x84\\x11\\x12\\x02\\x04\\x83fcourse\\x82genglishhsoftware\\x82\\x00\\x84\\x01\\x01\\x00\\x00\\x82dyear\\x81\\x19\\x07\\xe5\\x83fexamen\\x83bt2bt1bt3\\x82\\x00\\x84\\x02\\x00\\x01\\x00\\x84\\x02\\x01\\x03\\x00\\x83ifull name\\x84nphilippe blacknphilippe whitejanne whitekcamille red\\x00\\x83ilast name\\x83credeblackewhite\\x82\\x00\\x84\\x01\\x02\\x02\\x00\\x83jfirst name\\x83gcamilledannehphilippe\\x82\\x00\\x84\\x02\\x02\\x01\\x00\\x83gsurname\\x84cgusjheisenbergfskylerdsaul\\x00\\x83egroup\\x83cgr1cgr3cgr2\\x82\\x00\\x84\\x01\\x02\\x00\\x01'\n",
      "\n",
      "json representation : \n",
      " [['aggregate', [{'ilist': [['score', [18, 6]], ['course', ['software', 'english'], 0], ['year', [2021]], ['examen', ['t3', 't1'], 0]]}, {'ilist': [['score', [8, 15], [1, 0]], ['year', [2021]], ['course', ['english', 'math'], 0], ['examen', ['t2', 't1'], 0]]}, {'ilist': [['score', [10, 11, 12, 13, 15], [1, 3, 4, 0, 2]], ['course', ['math', 'english'], [0, [1, 0, 1, 0, 0]]], ['year', [2021]], ['examen', ['t1', 't2', 't3'], [0, [1, 0, 2, 1, 2]]]]}, {'ilist': [['score', [17, 18, 2, 4]], ['course', ['english', 'software'], [0, [1, 1, 0, 0]]], ['year', [2021]], ['examen', ['t2', 't1', 't3'], [0, [2, 0, 1, 0]]]]}], [2, 1, 3, 0]], ['full name', ['philippe black', 'philippe white', 'anne white', 'camille red'], 0], ['last name', ['red', 'black', 'white'], [0, [1, 2, 2, 0]]], ['first name', ['camille', 'anne', 'philippe'], [0, [2, 2, 1, 0]]], ['surname', ['gus', 'heisenberg', 'skyler', 'saul'], 0], ['group', ['gr1', 'gr3', 'gr2'], [0, [1, 2, 0, 1]]]]\n"
     ]
    }
   ],
   "source": [
    "aw = Ilist.dic( {'score'     : [11, 13, 15, 10, 12], \n",
    "                 'course'    : ['math', 'math', 'math', 'english', 'english'],\n",
    "                 'year'      : [2021, 2021, 2021, 2021, 2021],\n",
    "                 'examen'    : ['t1', 't2', 't3', 't2', 't3']})              \n",
    "pw = Ilist.dic( {'score'     : [15, 8], \n",
    "                 'year'      : [2021, 2021],\n",
    "                 'course'    : ['math', 'english'],\n",
    "                 'examen'    : ['t1', 't2']})  \n",
    "cr = Ilist.dic( {'score'     : [17, 18, 2, 4], \n",
    "                 'course'    : ['software', 'software', 'english', 'english'],\n",
    "                 'year'      : [2021, 2021, 2021, 2021],\n",
    "                 'examen'    : ['t3', 't2', 't1', 't2']})               \n",
    "pb = Ilist.dic( {'score'     : [18, 6], \n",
    "                 'course'    : ['software', 'english'],\n",
    "                 'year'      : [2021, 2021],\n",
    "                 'examen'    : ['t3', 't1']})        \n",
    "\n",
    "total = Ilist.dic({'aggregate'  : [aw, pw, cr, pb],\n",
    "                    'full name' : ['anne white', 'philippe white', 'camille red', 'philippe black'],\n",
    "                    'last name' : ['white', 'white', 'red', 'black'],\n",
    "                    'first name': ['anne', 'philippe', 'camille', 'philippe'],\n",
    "                    'surname'   : ['skyler', 'heisenberg', 'saul', 'gus'],\n",
    "                    'group'     : ['gr1', 'gr2', 'gr3','gr3']})\n",
    "\n",
    "print('the aggregate Ilist has the same property as non aggregate Ilist :\\n')\n",
    "print('record number : ', len(total), 'Iindex number : ', total.lenindex)\n",
    "print('\\nbinary representation : \\n', total.to_obj(encoded=True, encode_format='cbor'))\n",
    "print('\\njson representation : \\n', total.to_obj())"
   ]
  },
  {
   "cell_type": "code",
   "execution_count": 3,
   "metadata": {},
   "outputs": [
    {
     "name": "stdout",
     "output_type": "stream",
     "text": [
      "complete image : \n",
      "\n"
     ]
    },
    {
     "data": {
      "text/html": [
       "<table>\n",
       "<thead>\n",
       "<tr><th style=\"text-align: right;\">  score</th><th>course  </th><th style=\"text-align: right;\">  year</th><th>examen  </th><th>full name     </th><th>last name  </th><th>first name  </th><th>surname   </th><th>group  </th></tr>\n",
       "</thead>\n",
       "<tbody>\n",
       "<tr><td style=\"text-align: right;\">     11</td><td>math    </td><td style=\"text-align: right;\">  2021</td><td>t1      </td><td>anne white    </td><td>white      </td><td>anne        </td><td>skyler    </td><td>gr1    </td></tr>\n",
       "<tr><td style=\"text-align: right;\">     13</td><td>math    </td><td style=\"text-align: right;\">  2021</td><td>t2      </td><td>anne white    </td><td>white      </td><td>anne        </td><td>skyler    </td><td>gr1    </td></tr>\n",
       "<tr><td style=\"text-align: right;\">     15</td><td>math    </td><td style=\"text-align: right;\">  2021</td><td>t3      </td><td>anne white    </td><td>white      </td><td>anne        </td><td>skyler    </td><td>gr1    </td></tr>\n",
       "<tr><td style=\"text-align: right;\">     10</td><td>english </td><td style=\"text-align: right;\">  2021</td><td>t2      </td><td>anne white    </td><td>white      </td><td>anne        </td><td>skyler    </td><td>gr1    </td></tr>\n",
       "<tr><td style=\"text-align: right;\">     12</td><td>english </td><td style=\"text-align: right;\">  2021</td><td>t3      </td><td>anne white    </td><td>white      </td><td>anne        </td><td>skyler    </td><td>gr1    </td></tr>\n",
       "<tr><td style=\"text-align: right;\">     15</td><td>math    </td><td style=\"text-align: right;\">  2021</td><td>t1      </td><td>philippe white</td><td>white      </td><td>philippe    </td><td>heisenberg</td><td>gr2    </td></tr>\n",
       "<tr><td style=\"text-align: right;\">      8</td><td>english </td><td style=\"text-align: right;\">  2021</td><td>t2      </td><td>philippe white</td><td>white      </td><td>philippe    </td><td>heisenberg</td><td>gr2    </td></tr>\n",
       "<tr><td style=\"text-align: right;\">     17</td><td>software</td><td style=\"text-align: right;\">  2021</td><td>t3      </td><td>camille red   </td><td>red        </td><td>camille     </td><td>saul      </td><td>gr3    </td></tr>\n",
       "<tr><td style=\"text-align: right;\">     18</td><td>software</td><td style=\"text-align: right;\">  2021</td><td>t2      </td><td>camille red   </td><td>red        </td><td>camille     </td><td>saul      </td><td>gr3    </td></tr>\n",
       "<tr><td style=\"text-align: right;\">      2</td><td>english </td><td style=\"text-align: right;\">  2021</td><td>t1      </td><td>camille red   </td><td>red        </td><td>camille     </td><td>saul      </td><td>gr3    </td></tr>\n",
       "<tr><td style=\"text-align: right;\">      4</td><td>english </td><td style=\"text-align: right;\">  2021</td><td>t2      </td><td>camille red   </td><td>red        </td><td>camille     </td><td>saul      </td><td>gr3    </td></tr>\n",
       "<tr><td style=\"text-align: right;\">     18</td><td>software</td><td style=\"text-align: right;\">  2021</td><td>t3      </td><td>philippe black</td><td>black      </td><td>philippe    </td><td>gus       </td><td>gr3    </td></tr>\n",
       "<tr><td style=\"text-align: right;\">      6</td><td>english </td><td style=\"text-align: right;\">  2021</td><td>t1      </td><td>philippe black</td><td>black      </td><td>philippe    </td><td>gus       </td><td>gr3    </td></tr>\n",
       "</tbody>\n",
       "</table>"
      ],
      "text/plain": [
       "'<table>\\n<thead>\\n<tr><th style=\"text-align: right;\">  score</th><th>course  </th><th style=\"text-align: right;\">  year</th><th>examen  </th><th>full name     </th><th>last name  </th><th>first name  </th><th>surname   </th><th>group  </th></tr>\\n</thead>\\n<tbody>\\n<tr><td style=\"text-align: right;\">     11</td><td>math    </td><td style=\"text-align: right;\">  2021</td><td>t1      </td><td>anne white    </td><td>white      </td><td>anne        </td><td>skyler    </td><td>gr1    </td></tr>\\n<tr><td style=\"text-align: right;\">     13</td><td>math    </td><td style=\"text-align: right;\">  2021</td><td>t2      </td><td>anne white    </td><td>white      </td><td>anne        </td><td>skyler    </td><td>gr1    </td></tr>\\n<tr><td style=\"text-align: right;\">     15</td><td>math    </td><td style=\"text-align: right;\">  2021</td><td>t3      </td><td>anne white    </td><td>white      </td><td>anne        </td><td>skyler    </td><td>gr1    </td></tr>\\n<tr><td style=\"text-align: right;\">     10</td><td>english </td><td style=\"text-align: right;\">  2021</td><td>t2      </td><td>anne white    </td><td>white      </td><td>anne        </td><td>skyler    </td><td>gr1    </td></tr>\\n<tr><td style=\"text-align: right;\">     12</td><td>english </td><td style=\"text-align: right;\">  2021</td><td>t3      </td><td>anne white    </td><td>white      </td><td>anne        </td><td>skyler    </td><td>gr1    </td></tr>\\n<tr><td style=\"text-align: right;\">     15</td><td>math    </td><td style=\"text-align: right;\">  2021</td><td>t1      </td><td>philippe white</td><td>white      </td><td>philippe    </td><td>heisenberg</td><td>gr2    </td></tr>\\n<tr><td style=\"text-align: right;\">      8</td><td>english </td><td style=\"text-align: right;\">  2021</td><td>t2      </td><td>philippe white</td><td>white      </td><td>philippe    </td><td>heisenberg</td><td>gr2    </td></tr>\\n<tr><td style=\"text-align: right;\">     17</td><td>software</td><td style=\"text-align: right;\">  2021</td><td>t3      </td><td>camille red   </td><td>red        </td><td>camille     </td><td>saul      </td><td>gr3    </td></tr>\\n<tr><td style=\"text-align: right;\">     18</td><td>software</td><td style=\"text-align: right;\">  2021</td><td>t2      </td><td>camille red   </td><td>red        </td><td>camille     </td><td>saul      </td><td>gr3    </td></tr>\\n<tr><td style=\"text-align: right;\">      2</td><td>english </td><td style=\"text-align: right;\">  2021</td><td>t1      </td><td>camille red   </td><td>red        </td><td>camille     </td><td>saul      </td><td>gr3    </td></tr>\\n<tr><td style=\"text-align: right;\">      4</td><td>english </td><td style=\"text-align: right;\">  2021</td><td>t2      </td><td>camille red   </td><td>red        </td><td>camille     </td><td>saul      </td><td>gr3    </td></tr>\\n<tr><td style=\"text-align: right;\">     18</td><td>software</td><td style=\"text-align: right;\">  2021</td><td>t3      </td><td>philippe black</td><td>black      </td><td>philippe    </td><td>gus       </td><td>gr3    </td></tr>\\n<tr><td style=\"text-align: right;\">      6</td><td>english </td><td style=\"text-align: right;\">  2021</td><td>t1      </td><td>philippe black</td><td>black      </td><td>philippe    </td><td>gus       </td><td>gr3    </td></tr>\\n</tbody>\\n</table>'"
      ]
     },
     "execution_count": 3,
     "metadata": {},
     "output_type": "execute_result"
    }
   ],
   "source": [
    "img = total.merge(simplename=True)\n",
    "print('complete image : \\n')\n",
    "img.view(tablefmt='html')"
   ]
  },
  {
   "cell_type": "code",
   "execution_count": 4,
   "metadata": {},
   "outputs": [
    {
     "name": "stdout",
     "output_type": "stream",
     "text": [
      "\n",
      "complete image optimize format: \n",
      " [['score', [11, 13, 15, 10, 12, 15, 8, 17, 18, 2, 4, 18, 6]], ['course', ['math', 'software', 'english'], [0, [0, 0, 0, 2, 2, 0, 2, 1, 1, 2, 2, 1, 2]]], ['year', [2021]], ['examen', ['t1', 't2', 't3'], [0, [0, 1, 2, 1, 2, 0, 1, 2, 1, 0, 1, 2, 0]]], ['full name', ['philippe white', 'philippe black', 'anne white', 'camille red'], [0, [2, 2, 2, 2, 2, 0, 0, 3, 3, 3, 3, 1, 1]]], ['last name', ['red', 'black', 'white'], [4, [2, 1, 2, 0]]], ['first name', ['camille', 'anne', 'philippe'], [4, [2, 2, 1, 0]]], ['surname', ['heisenberg', 'gus', 'skyler', 'saul'], 4], ['group', ['gr1', 'gr3', 'gr2'], [4, [2, 1, 0, 1]]]]\n",
      "\n",
      "complete image optimize full format: \n",
      " [['course', ['math', 'software', 'english']], ['examen', ['t1', 't2', 't3']], ['full name', ['philippe white', 'philippe black', 'anne white', 'camille red']], ['last name', ['red', 'black', 'white'], [2, [2, 1, 2, 0]]], ['first name', ['camille', 'anne', 'philippe'], [2, [2, 2, 1, 0]]], ['group', ['gr1', 'gr3', 'gr2'], [2, [2, 1, 0, 1]]], ['surname', ['heisenberg', 'gus', 'skyler', 'saul'], 2], ['score', [15, '-', 11, '-', '-', '-', 13, '-', '-', '-', 15, '-', '-', '-', '-', '-', '-', '-', '-', 18, '-', 18, '-', 17, '-', 6, '-', 2, 8, '-', 10, 4, '-', '-', 12, '-']], ['year', [2021]]]\n"
     ]
    },
    {
     "data": {
      "text/html": [
       "<table>\n",
       "<thead>\n",
       "<tr><th>course  </th><th>examen  </th><th>full name     </th><th>last name  </th><th>first name  </th><th>group  </th><th>surname   </th><th>score  </th><th style=\"text-align: right;\">  year</th></tr>\n",
       "</thead>\n",
       "<tbody>\n",
       "<tr><td>math    </td><td>t1      </td><td>philippe white</td><td>white      </td><td>philippe    </td><td>gr2    </td><td>heisenberg</td><td>15     </td><td style=\"text-align: right;\">  2021</td></tr>\n",
       "<tr><td>math    </td><td>t1      </td><td>philippe black</td><td>black      </td><td>philippe    </td><td>gr3    </td><td>gus       </td><td>-      </td><td style=\"text-align: right;\">  2021</td></tr>\n",
       "<tr><td>math    </td><td>t1      </td><td>anne white    </td><td>white      </td><td>anne        </td><td>gr1    </td><td>skyler    </td><td>11     </td><td style=\"text-align: right;\">  2021</td></tr>\n",
       "<tr><td>math    </td><td>t1      </td><td>camille red   </td><td>red        </td><td>camille     </td><td>gr3    </td><td>saul      </td><td>-      </td><td style=\"text-align: right;\">  2021</td></tr>\n",
       "<tr><td>math    </td><td>t2      </td><td>philippe white</td><td>white      </td><td>philippe    </td><td>gr2    </td><td>heisenberg</td><td>-      </td><td style=\"text-align: right;\">  2021</td></tr>\n",
       "<tr><td>math    </td><td>t2      </td><td>philippe black</td><td>black      </td><td>philippe    </td><td>gr3    </td><td>gus       </td><td>-      </td><td style=\"text-align: right;\">  2021</td></tr>\n",
       "<tr><td>math    </td><td>t2      </td><td>anne white    </td><td>white      </td><td>anne        </td><td>gr1    </td><td>skyler    </td><td>13     </td><td style=\"text-align: right;\">  2021</td></tr>\n",
       "<tr><td>math    </td><td>t2      </td><td>camille red   </td><td>red        </td><td>camille     </td><td>gr3    </td><td>saul      </td><td>-      </td><td style=\"text-align: right;\">  2021</td></tr>\n",
       "<tr><td>math    </td><td>t3      </td><td>philippe white</td><td>white      </td><td>philippe    </td><td>gr2    </td><td>heisenberg</td><td>-      </td><td style=\"text-align: right;\">  2021</td></tr>\n",
       "<tr><td>math    </td><td>t3      </td><td>philippe black</td><td>black      </td><td>philippe    </td><td>gr3    </td><td>gus       </td><td>-      </td><td style=\"text-align: right;\">  2021</td></tr>\n",
       "<tr><td>math    </td><td>t3      </td><td>anne white    </td><td>white      </td><td>anne        </td><td>gr1    </td><td>skyler    </td><td>15     </td><td style=\"text-align: right;\">  2021</td></tr>\n",
       "<tr><td>math    </td><td>t3      </td><td>camille red   </td><td>red        </td><td>camille     </td><td>gr3    </td><td>saul      </td><td>-      </td><td style=\"text-align: right;\">  2021</td></tr>\n",
       "<tr><td>software</td><td>t1      </td><td>philippe white</td><td>white      </td><td>philippe    </td><td>gr2    </td><td>heisenberg</td><td>-      </td><td style=\"text-align: right;\">  2021</td></tr>\n",
       "<tr><td>software</td><td>t1      </td><td>philippe black</td><td>black      </td><td>philippe    </td><td>gr3    </td><td>gus       </td><td>-      </td><td style=\"text-align: right;\">  2021</td></tr>\n",
       "<tr><td>software</td><td>t1      </td><td>anne white    </td><td>white      </td><td>anne        </td><td>gr1    </td><td>skyler    </td><td>-      </td><td style=\"text-align: right;\">  2021</td></tr>\n",
       "<tr><td>software</td><td>t1      </td><td>camille red   </td><td>red        </td><td>camille     </td><td>gr3    </td><td>saul      </td><td>-      </td><td style=\"text-align: right;\">  2021</td></tr>\n",
       "<tr><td>software</td><td>t2      </td><td>philippe white</td><td>white      </td><td>philippe    </td><td>gr2    </td><td>heisenberg</td><td>-      </td><td style=\"text-align: right;\">  2021</td></tr>\n",
       "<tr><td>software</td><td>t2      </td><td>philippe black</td><td>black      </td><td>philippe    </td><td>gr3    </td><td>gus       </td><td>-      </td><td style=\"text-align: right;\">  2021</td></tr>\n",
       "<tr><td>software</td><td>t2      </td><td>anne white    </td><td>white      </td><td>anne        </td><td>gr1    </td><td>skyler    </td><td>-      </td><td style=\"text-align: right;\">  2021</td></tr>\n",
       "<tr><td>software</td><td>t2      </td><td>camille red   </td><td>red        </td><td>camille     </td><td>gr3    </td><td>saul      </td><td>18     </td><td style=\"text-align: right;\">  2021</td></tr>\n",
       "<tr><td>software</td><td>t3      </td><td>philippe white</td><td>white      </td><td>philippe    </td><td>gr2    </td><td>heisenberg</td><td>-      </td><td style=\"text-align: right;\">  2021</td></tr>\n",
       "<tr><td>software</td><td>t3      </td><td>philippe black</td><td>black      </td><td>philippe    </td><td>gr3    </td><td>gus       </td><td>18     </td><td style=\"text-align: right;\">  2021</td></tr>\n",
       "<tr><td>software</td><td>t3      </td><td>anne white    </td><td>white      </td><td>anne        </td><td>gr1    </td><td>skyler    </td><td>-      </td><td style=\"text-align: right;\">  2021</td></tr>\n",
       "<tr><td>software</td><td>t3      </td><td>camille red   </td><td>red        </td><td>camille     </td><td>gr3    </td><td>saul      </td><td>17     </td><td style=\"text-align: right;\">  2021</td></tr>\n",
       "<tr><td>english </td><td>t1      </td><td>philippe white</td><td>white      </td><td>philippe    </td><td>gr2    </td><td>heisenberg</td><td>-      </td><td style=\"text-align: right;\">  2021</td></tr>\n",
       "<tr><td>english </td><td>t1      </td><td>philippe black</td><td>black      </td><td>philippe    </td><td>gr3    </td><td>gus       </td><td>6      </td><td style=\"text-align: right;\">  2021</td></tr>\n",
       "<tr><td>english </td><td>t1      </td><td>anne white    </td><td>white      </td><td>anne        </td><td>gr1    </td><td>skyler    </td><td>-      </td><td style=\"text-align: right;\">  2021</td></tr>\n",
       "<tr><td>english </td><td>t1      </td><td>camille red   </td><td>red        </td><td>camille     </td><td>gr3    </td><td>saul      </td><td>2      </td><td style=\"text-align: right;\">  2021</td></tr>\n",
       "<tr><td>english </td><td>t2      </td><td>philippe white</td><td>white      </td><td>philippe    </td><td>gr2    </td><td>heisenberg</td><td>8      </td><td style=\"text-align: right;\">  2021</td></tr>\n",
       "<tr><td>english </td><td>t2      </td><td>philippe black</td><td>black      </td><td>philippe    </td><td>gr3    </td><td>gus       </td><td>-      </td><td style=\"text-align: right;\">  2021</td></tr>\n",
       "<tr><td>english </td><td>t2      </td><td>anne white    </td><td>white      </td><td>anne        </td><td>gr1    </td><td>skyler    </td><td>10     </td><td style=\"text-align: right;\">  2021</td></tr>\n",
       "<tr><td>english </td><td>t2      </td><td>camille red   </td><td>red        </td><td>camille     </td><td>gr3    </td><td>saul      </td><td>4      </td><td style=\"text-align: right;\">  2021</td></tr>\n",
       "<tr><td>english </td><td>t3      </td><td>philippe white</td><td>white      </td><td>philippe    </td><td>gr2    </td><td>heisenberg</td><td>-      </td><td style=\"text-align: right;\">  2021</td></tr>\n",
       "<tr><td>english </td><td>t3      </td><td>philippe black</td><td>black      </td><td>philippe    </td><td>gr3    </td><td>gus       </td><td>-      </td><td style=\"text-align: right;\">  2021</td></tr>\n",
       "<tr><td>english </td><td>t3      </td><td>anne white    </td><td>white      </td><td>anne        </td><td>gr1    </td><td>skyler    </td><td>12     </td><td style=\"text-align: right;\">  2021</td></tr>\n",
       "<tr><td>english </td><td>t3      </td><td>camille red   </td><td>red        </td><td>camille     </td><td>gr3    </td><td>saul      </td><td>-      </td><td style=\"text-align: right;\">  2021</td></tr>\n",
       "</tbody>\n",
       "</table>"
      ],
      "text/plain": [
       "'<table>\\n<thead>\\n<tr><th>course  </th><th>examen  </th><th>full name     </th><th>last name  </th><th>first name  </th><th>group  </th><th>surname   </th><th>score  </th><th style=\"text-align: right;\">  year</th></tr>\\n</thead>\\n<tbody>\\n<tr><td>math    </td><td>t1      </td><td>philippe white</td><td>white      </td><td>philippe    </td><td>gr2    </td><td>heisenberg</td><td>15     </td><td style=\"text-align: right;\">  2021</td></tr>\\n<tr><td>math    </td><td>t1      </td><td>philippe black</td><td>black      </td><td>philippe    </td><td>gr3    </td><td>gus       </td><td>-      </td><td style=\"text-align: right;\">  2021</td></tr>\\n<tr><td>math    </td><td>t1      </td><td>anne white    </td><td>white      </td><td>anne        </td><td>gr1    </td><td>skyler    </td><td>11     </td><td style=\"text-align: right;\">  2021</td></tr>\\n<tr><td>math    </td><td>t1      </td><td>camille red   </td><td>red        </td><td>camille     </td><td>gr3    </td><td>saul      </td><td>-      </td><td style=\"text-align: right;\">  2021</td></tr>\\n<tr><td>math    </td><td>t2      </td><td>philippe white</td><td>white      </td><td>philippe    </td><td>gr2    </td><td>heisenberg</td><td>-      </td><td style=\"text-align: right;\">  2021</td></tr>\\n<tr><td>math    </td><td>t2      </td><td>philippe black</td><td>black      </td><td>philippe    </td><td>gr3    </td><td>gus       </td><td>-      </td><td style=\"text-align: right;\">  2021</td></tr>\\n<tr><td>math    </td><td>t2      </td><td>anne white    </td><td>white      </td><td>anne        </td><td>gr1    </td><td>skyler    </td><td>13     </td><td style=\"text-align: right;\">  2021</td></tr>\\n<tr><td>math    </td><td>t2      </td><td>camille red   </td><td>red        </td><td>camille     </td><td>gr3    </td><td>saul      </td><td>-      </td><td style=\"text-align: right;\">  2021</td></tr>\\n<tr><td>math    </td><td>t3      </td><td>philippe white</td><td>white      </td><td>philippe    </td><td>gr2    </td><td>heisenberg</td><td>-      </td><td style=\"text-align: right;\">  2021</td></tr>\\n<tr><td>math    </td><td>t3      </td><td>philippe black</td><td>black      </td><td>philippe    </td><td>gr3    </td><td>gus       </td><td>-      </td><td style=\"text-align: right;\">  2021</td></tr>\\n<tr><td>math    </td><td>t3      </td><td>anne white    </td><td>white      </td><td>anne        </td><td>gr1    </td><td>skyler    </td><td>15     </td><td style=\"text-align: right;\">  2021</td></tr>\\n<tr><td>math    </td><td>t3      </td><td>camille red   </td><td>red        </td><td>camille     </td><td>gr3    </td><td>saul      </td><td>-      </td><td style=\"text-align: right;\">  2021</td></tr>\\n<tr><td>software</td><td>t1      </td><td>philippe white</td><td>white      </td><td>philippe    </td><td>gr2    </td><td>heisenberg</td><td>-      </td><td style=\"text-align: right;\">  2021</td></tr>\\n<tr><td>software</td><td>t1      </td><td>philippe black</td><td>black      </td><td>philippe    </td><td>gr3    </td><td>gus       </td><td>-      </td><td style=\"text-align: right;\">  2021</td></tr>\\n<tr><td>software</td><td>t1      </td><td>anne white    </td><td>white      </td><td>anne        </td><td>gr1    </td><td>skyler    </td><td>-      </td><td style=\"text-align: right;\">  2021</td></tr>\\n<tr><td>software</td><td>t1      </td><td>camille red   </td><td>red        </td><td>camille     </td><td>gr3    </td><td>saul      </td><td>-      </td><td style=\"text-align: right;\">  2021</td></tr>\\n<tr><td>software</td><td>t2      </td><td>philippe white</td><td>white      </td><td>philippe    </td><td>gr2    </td><td>heisenberg</td><td>-      </td><td style=\"text-align: right;\">  2021</td></tr>\\n<tr><td>software</td><td>t2      </td><td>philippe black</td><td>black      </td><td>philippe    </td><td>gr3    </td><td>gus       </td><td>-      </td><td style=\"text-align: right;\">  2021</td></tr>\\n<tr><td>software</td><td>t2      </td><td>anne white    </td><td>white      </td><td>anne        </td><td>gr1    </td><td>skyler    </td><td>-      </td><td style=\"text-align: right;\">  2021</td></tr>\\n<tr><td>software</td><td>t2      </td><td>camille red   </td><td>red        </td><td>camille     </td><td>gr3    </td><td>saul      </td><td>18     </td><td style=\"text-align: right;\">  2021</td></tr>\\n<tr><td>software</td><td>t3      </td><td>philippe white</td><td>white      </td><td>philippe    </td><td>gr2    </td><td>heisenberg</td><td>-      </td><td style=\"text-align: right;\">  2021</td></tr>\\n<tr><td>software</td><td>t3      </td><td>philippe black</td><td>black      </td><td>philippe    </td><td>gr3    </td><td>gus       </td><td>18     </td><td style=\"text-align: right;\">  2021</td></tr>\\n<tr><td>software</td><td>t3      </td><td>anne white    </td><td>white      </td><td>anne        </td><td>gr1    </td><td>skyler    </td><td>-      </td><td style=\"text-align: right;\">  2021</td></tr>\\n<tr><td>software</td><td>t3      </td><td>camille red   </td><td>red        </td><td>camille     </td><td>gr3    </td><td>saul      </td><td>17     </td><td style=\"text-align: right;\">  2021</td></tr>\\n<tr><td>english </td><td>t1      </td><td>philippe white</td><td>white      </td><td>philippe    </td><td>gr2    </td><td>heisenberg</td><td>-      </td><td style=\"text-align: right;\">  2021</td></tr>\\n<tr><td>english </td><td>t1      </td><td>philippe black</td><td>black      </td><td>philippe    </td><td>gr3    </td><td>gus       </td><td>6      </td><td style=\"text-align: right;\">  2021</td></tr>\\n<tr><td>english </td><td>t1      </td><td>anne white    </td><td>white      </td><td>anne        </td><td>gr1    </td><td>skyler    </td><td>-      </td><td style=\"text-align: right;\">  2021</td></tr>\\n<tr><td>english </td><td>t1      </td><td>camille red   </td><td>red        </td><td>camille     </td><td>gr3    </td><td>saul      </td><td>2      </td><td style=\"text-align: right;\">  2021</td></tr>\\n<tr><td>english </td><td>t2      </td><td>philippe white</td><td>white      </td><td>philippe    </td><td>gr2    </td><td>heisenberg</td><td>8      </td><td style=\"text-align: right;\">  2021</td></tr>\\n<tr><td>english </td><td>t2      </td><td>philippe black</td><td>black      </td><td>philippe    </td><td>gr3    </td><td>gus       </td><td>-      </td><td style=\"text-align: right;\">  2021</td></tr>\\n<tr><td>english </td><td>t2      </td><td>anne white    </td><td>white      </td><td>anne        </td><td>gr1    </td><td>skyler    </td><td>10     </td><td style=\"text-align: right;\">  2021</td></tr>\\n<tr><td>english </td><td>t2      </td><td>camille red   </td><td>red        </td><td>camille     </td><td>gr3    </td><td>saul      </td><td>4      </td><td style=\"text-align: right;\">  2021</td></tr>\\n<tr><td>english </td><td>t3      </td><td>philippe white</td><td>white      </td><td>philippe    </td><td>gr2    </td><td>heisenberg</td><td>-      </td><td style=\"text-align: right;\">  2021</td></tr>\\n<tr><td>english </td><td>t3      </td><td>philippe black</td><td>black      </td><td>philippe    </td><td>gr3    </td><td>gus       </td><td>-      </td><td style=\"text-align: right;\">  2021</td></tr>\\n<tr><td>english </td><td>t3      </td><td>anne white    </td><td>white      </td><td>anne        </td><td>gr1    </td><td>skyler    </td><td>12     </td><td style=\"text-align: right;\">  2021</td></tr>\\n<tr><td>english </td><td>t3      </td><td>camille red   </td><td>red        </td><td>camille     </td><td>gr3    </td><td>saul      </td><td>-      </td><td style=\"text-align: right;\">  2021</td></tr>\\n</tbody>\\n</table>'"
      ]
     },
     "execution_count": 4,
     "metadata": {},
     "output_type": "execute_result"
    }
   ],
   "source": [
    "img.nindex('score').tostdcodec(inplace=True)\n",
    "print('\\ncomplete image optimize format: \\n', img.to_obj())\n",
    "\n",
    "img.to_file('score.il', encode_format='cbor')                # reuse in other Notebook\n",
    "\n",
    "img2 = total.merge(simplename=True).full(idxname=['course', 'full name', 'examen'], inplace=False).setcanonorder()\n",
    "img2.nindex('score').tostdcodec(inplace=True)\n",
    "print('\\ncomplete image optimize full format: \\n', img2.to_obj())\n",
    "img2.view(tablefmt='html')"
   ]
  }
 ],
 "metadata": {
  "kernelspec": {
   "display_name": "Python 3 (ipykernel)",
   "language": "python",
   "name": "python3"
  },
  "language_info": {
   "codemirror_mode": {
    "name": "ipython",
    "version": 3
   },
   "file_extension": ".py",
   "mimetype": "text/x-python",
   "name": "python",
   "nbconvert_exporter": "python",
   "pygments_lexer": "ipython3",
   "version": "3.9.12"
  }
 },
 "nbformat": 4,
 "nbformat_minor": 4
}
