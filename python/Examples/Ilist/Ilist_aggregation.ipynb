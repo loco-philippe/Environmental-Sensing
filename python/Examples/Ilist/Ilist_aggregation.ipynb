{
 "cells": [
  {
   "cell_type": "markdown",
   "metadata": {},
   "source": [
    "# Ilist : aggregation\n",
    "\n",
    "## Goals\n",
    "\n",
    "- understand the Ilist aggregation process\n",
    "\n",
    "<img src=\"https://loco-philippe.github.io/ES/ilist_aggregation.png\" width=\"800\">\n",
    "\n",
    "\n",
    "-----\n"
   ]
  },
  {
   "cell_type": "code",
   "execution_count": 1,
   "metadata": {},
   "outputs": [],
   "source": [
    "import os\n",
    "os.chdir('C:/Users/a179227/OneDrive - Alliance/perso Wx/ES standard/python ESstandard/ES')\n",
    "from ilist import Ilist\n",
    "from pprint import pprint"
   ]
  },
  {
   "cell_type": "markdown",
   "metadata": {},
   "source": [
    "## example\n",
    "In this example, the documentation process has two step :\n",
    "- a simple documentation for each people\n",
    "- an aggregation of all results\n",
    "\n",
    "The merge method provides a complete Ilist image of all the results (aggregation is the reference, merge is the image)\n",
    "\n",
    "<img src=\"https://loco-philippe.github.io/ES/ilist_merge.png\" width=\"700\">\n"
   ]
  },
  {
   "cell_type": "code",
   "execution_count": 2,
   "metadata": {},
   "outputs": [
    {
     "name": "stdout",
     "output_type": "stream",
     "text": [
      "the aggregate Ilist has the same property as non aggregate Ilist :\n",
      "\n",
      "record number :  4 Iindex number :  6\n",
      "binary representation : \n",
      " b'\\x86\\x83escore\\x84\\xa1eilist\\x84\\x83escore\\x85\\x0b\\r\\x0f\\n\\x0c \\x83fcourse\\x82dmathgenglish\\x85\\x00\\x00\\x00\\x01\\x01\\x82dyear\\x81\\x19\\x07\\xe5\\x83fexamen\\x83bt2bt3bt1\\x85\\x02\\x00\\x01\\x00\\x01\\xa1eilist\\x84\\x83escore\\x82\\x0f\\x08 \\x82dyear\\x81\\x19\\x07\\xe5\\x82fcourse\\x82dmathgenglish\\x83fexamen\\x82bt1bt2\\x02\\xa1eilist\\x84\\x83escore\\x84\\x11\\x12\\x02\\x04 \\x83fcourse\\x82genglishhsoftware\\x84\\x01\\x01\\x00\\x00\\x82dyear\\x81\\x19\\x07\\xe5\\x83fexamen\\x83bt2bt1bt3\\x84\\x02\\x00\\x01\\x00\\xa1eilist\\x84\\x83escore\\x82\\x12\\x06 \\x83fcourse\\x82genglishhsoftware\\x82\\x01\\x00\\x82dyear\\x81\\x19\\x07\\xe5\\x83fexamen\\x82bt1bt3\\x01 \\x83ifull name\\x84janne whitekcamille rednphilippe blacknphilippe white\\x84\\x00\\x03\\x01\\x02\\x83ilast name\\x83credeblackewhite\\x82\\x01\\x84\\x02\\x00\\x01\\x02\\x83jfirst name\\x83gcamilledannehphilippe\\x82\\x01\\x84\\x01\\x00\\x02\\x02\\x83gsurname\\x84fskylerdsaulcgusjheisenberg\\x01\\x83egroup\\x83cgr1cgr2cgr3\\x82\\x01\\x84\\x00\\x02\\x02\\x01'\n",
      "json representation : \n",
      " [['score', [{'ilist': [['score', [11, 13, 15, 10, 12], -1], ['course', ['math', 'english'], [0, 0, 0, 1, 1]], ['year', [2021]], ['examen', ['t2', 't3', 't1'], [2, 0, 1, 0, 1]]]}, {'ilist': [['score', [15, 8], -1], ['year', [2021]], ['course', ['math', 'english']], ['examen', ['t1', 't2'], 2]]}, {'ilist': [['score', [17, 18, 2, 4], -1], ['course', ['english', 'software'], [1, 1, 0, 0]], ['year', [2021]], ['examen', ['t2', 't1', 't3'], [2, 0, 1, 0]]]}, {'ilist': [['score', [18, 6], -1], ['course', ['english', 'software'], [1, 0]], ['year', [2021]], ['examen', ['t1', 't3'], 1]]}], -1], ['full name', ['anne white', 'camille red', 'philippe black', 'philippe white'], [0, 3, 1, 2]], ['last name', ['red', 'black', 'white'], [1, [2, 0, 1, 2]]], ['first name', ['camille', 'anne', 'philippe'], [1, [1, 0, 2, 2]]], ['surname', ['skyler', 'saul', 'gus', 'heisenberg'], 1], ['group', ['gr1', 'gr2', 'gr3'], [1, [0, 2, 2, 1]]]]\n"
     ]
    }
   ],
   "source": [
    "aw = Ilist.Idic({'score'     : [11, 13, 15, 10, 12], \n",
    "                 'course'    : ['math', 'math', 'math', 'english', 'english'],\n",
    "                 'year'      : [2021, 2021, 2021, 2021, 2021],\n",
    "                 'examen'    : ['t1', 't2', 't3', 't2', 't3']}, var=0)              \n",
    "pw = Ilist.Idic({'score'     : [15, 8], \n",
    "                 'year'      : [2021, 2021],\n",
    "                 'course'    : ['math', 'english'],\n",
    "                 'examen'    : ['t1', 't2']}, var=0)  \n",
    "cr = Ilist.Idic({'score'     : [17, 18, 2, 4], \n",
    "                 'course'    : ['software', 'software', 'english', 'english'],\n",
    "                 'year'      : [2021, 2021, 2021, 2021],\n",
    "                 'examen'    : ['t3', 't2', 't1', 't2']}, var=0)               \n",
    "pb = Ilist.Idic({'score'     : [18, 6], \n",
    "                 'course'    : ['software', 'english'],\n",
    "                 'year'      : [2021, 2021],\n",
    "                 'examen'    : ['t3', 't1']}, var=0)        \n",
    "\n",
    "total = Ilist.Idic({'score'     : [aw, pw, cr, pb],\n",
    "                    'full name' : ['anne white', 'philippe white', 'camille red', 'philippe black'],\n",
    "                    'last name' : ['white', 'white', 'red', 'black'],\n",
    "                    'first name': ['anne', 'philippe', 'camille', 'philippe'],\n",
    "                    'surname'   : ['skyler', 'heisenberg', 'saul', 'gus'],\n",
    "                    'group'     : ['gr1', 'gr2', 'gr3','gr3']}, var=0)\n",
    "\n",
    "print('the aggregate Ilist has the same property as non aggregate Ilist :\\n')\n",
    "print('record number : ', len(total), 'Iindex number : ', total.lenindex)\n",
    "print('binary representation : \\n', total.to_obj(encoded=True, encode_format='cbor'))\n",
    "print('json representation : \\n', total.to_obj())"
   ]
  },
  {
   "cell_type": "code",
   "execution_count": 3,
   "metadata": {},
   "outputs": [
    {
     "name": "stdout",
     "output_type": "stream",
     "text": [
      "complete image : \n",
      " [\"score\", [11, 13, 15, 10, 12, 15, 8, 17, 18, 2, 4, 18, 6]]\n",
      "\n",
      "[\"full name\", [\"anne white\", \"anne white\", \"anne white\", \"anne white\", \"anne white\", \"philippe white\", \"philippe white\", \"camille red\", \"camille red\", \"camille red\", \"camille red\", \"philippe black\", \"philippe black\"]]\n",
      "[\"last name\", [\"white\", \"white\", \"white\", \"white\", \"white\", \"white\", \"white\", \"red\", \"red\", \"red\", \"red\", \"black\", \"black\"]]\n",
      "[\"first name\", [\"anne\", \"anne\", \"anne\", \"anne\", \"anne\", \"philippe\", \"philippe\", \"camille\", \"camille\", \"camille\", \"camille\", \"philippe\", \"philippe\"]]\n",
      "[\"surname\", [\"skyler\", \"skyler\", \"skyler\", \"skyler\", \"skyler\", \"heisenberg\", \"heisenberg\", \"saul\", \"saul\", \"saul\", \"saul\", \"gus\", \"gus\"]]\n",
      "[\"group\", [\"gr1\", \"gr1\", \"gr1\", \"gr1\", \"gr1\", \"gr2\", \"gr2\", \"gr3\", \"gr3\", \"gr3\", \"gr3\", \"gr3\", \"gr3\"]]\n",
      "[\"course\", [\"math\", \"math\", \"math\", \"english\", \"english\", \"math\", \"english\", \"software\", \"software\", \"english\", \"english\", \"software\", \"english\"]]\n",
      "[\"year\", [2021, 2021, 2021, 2021, 2021, 2021, 2021, 2021, 2021, 2021, 2021, 2021, 2021]]\n",
      "[\"examen\", [\"t1\", \"t2\", \"t3\", \"t2\", \"t3\", \"t1\", \"t2\", \"t3\", \"t2\", \"t1\", \"t2\", \"t3\", \"t1\"]]\n",
      "\n",
      "\n",
      "complete image optimize format: \n",
      " [['score', [11, 13, 15, 10, 12, 15, 8, 17, 18, 2, 4, 18, 6], -1], ['full name', ['anne white', 'camille red', 'philippe black', 'philippe white'], [0, 0, 0, 0, 0, 3, 3, 1, 1, 1, 1, 2, 2]], ['last name', ['red', 'black', 'white'], [1, [2, 0, 1, 2]]], ['first name', ['camille', 'anne', 'philippe'], [1, [1, 0, 2, 2]]], ['surname', ['skyler', 'saul', 'gus', 'heisenberg'], 1], ['group', ['gr1', 'gr2', 'gr3'], [1, [0, 2, 2, 1]]], ['course', ['math', 'english', 'software'], [0, 0, 0, 1, 1, 0, 1, 2, 2, 1, 1, 2, 1]], ['year', [2021]], ['examen', ['t2', 't3', 't1'], [2, 0, 1, 0, 1, 2, 0, 1, 0, 2, 0, 1, 2]]]\n"
     ]
    },
    {
     "data": {
      "text/plain": [
       "331"
      ]
     },
     "execution_count": 3,
     "metadata": {},
     "output_type": "execute_result"
    }
   ],
   "source": [
    "img = total.merge(mergeidx=True)\n",
    "\n",
    "print('complete image : \\n', img)\n",
    "print('\\ncomplete image optimize format: \\n', img.to_obj())\n",
    "\n",
    "img.to_file('score.il', encode_format='cbor')                # reuse in other Notebook"
   ]
  }
 ],
 "metadata": {
  "kernelspec": {
   "display_name": "Python 3 (ipykernel)",
   "language": "python",
   "name": "python3"
  },
  "language_info": {
   "codemirror_mode": {
    "name": "ipython",
    "version": 3
   },
   "file_extension": ".py",
   "mimetype": "text/x-python",
   "name": "python",
   "nbconvert_exporter": "python",
   "pygments_lexer": "ipython3",
   "version": "3.9.12"
  }
 },
 "nbformat": 4,
 "nbformat_minor": 4
}
