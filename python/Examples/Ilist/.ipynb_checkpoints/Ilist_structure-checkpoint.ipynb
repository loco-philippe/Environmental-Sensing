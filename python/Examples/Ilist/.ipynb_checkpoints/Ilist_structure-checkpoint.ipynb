{
 "cells": [
  {
   "cell_type": "markdown",
   "metadata": {},
   "source": [
    "# Ilist : structure\n",
    "\n",
    "## Goals\n",
    "\n",
    "- understand the structure of Ilist object\n",
    "- introduce methods for managing structure\n",
    "\n",
    "-----"
   ]
  },
  {
   "cell_type": "code",
   "execution_count": 1,
   "metadata": {},
   "outputs": [],
   "source": [
    "import os\n",
    "os.chdir('C:/Users/a179227/OneDrive - Alliance/perso Wx/ES standard/python ESstandard/ES')\n",
    "from ilist import Ilist"
   ]
  },
  {
   "cell_type": "markdown",
   "metadata": {},
   "source": [
    "## managing Iindex\n",
    "Iindex methods are available for all the Iindex inside the Ilist object\n"
   ]
  },
  {
   "cell_type": "code",
   "execution_count": 2,
   "metadata": {},
   "outputs": [
    {
     "name": "stdout",
     "output_type": "stream",
     "text": [
      "codec length for Iindex defaultcodec :  [3, 4, 4]\n",
      "codec length for Iindex fullcodec    :  [5, 5, 5]\n",
      "new Iindex order :  [0] ['temperature'] [1, 2] ['month', 'city']\n"
     ]
    }
   ],
   "source": [
    "il = Ilist([['month',       ['jan',   'jan',  'apr',       'apr',  'sep'     ]    ],\n",
    "             ['city',        ['paris', 'lyon', 'marseille', 'lyon', 'toulouse']    ],\n",
    "             ['temperature', [ 12,      14,     21,          16,      21      ], -1]])\n",
    "print('codec length for Iindex defaultcodec : ', il.indexlen)\n",
    "il.tostdcodec(inplace=True)                                      # apply full codec to all Iindex\n",
    "print('codec length for Iindex fullcodec    : ', il.indexlen)\n",
    "il.reindex()                                                     # apply default codec to all Iindex\n",
    "il.swapindex([2, 0, 1])                                          # var Iindex is the first\n",
    "print('new Iindex order : ', il.lvarrow, il.lvarname, il.lidxrow, il.idxname)\n",
    "\n"
   ]
  },
  {
   "cell_type": "markdown",
   "metadata": {},
   "source": [
    "## ordering\n",
    "\n",
    "Values and keys can be ordered for all Iindex."
   ]
  },
  {
   "cell_type": "code",
   "execution_count": 3,
   "metadata": {},
   "outputs": [
    {
     "name": "stdout",
     "output_type": "stream",
     "text": [
      "sorted by month and city : \n",
      " [\"temperature\", [16, 21, 14, 12, 21]]\n",
      "\n",
      "[\"month\", [\"apr\", \"apr\", \"jan\", \"jan\", \"sep\"]]\n",
      "[\"city\", [\"lyon\", \"marseille\", \"lyon\", \"paris\", \"toulouse\"]]\n",
      "\n",
      "reverse sorted by city and month : \n",
      " [\"temperature\", [21, 12, 21, 14, 16]]\n",
      "\n",
      "[\"month\", [\"sep\", \"jan\", \"apr\", \"jan\", \"apr\"]]\n",
      "[\"city\", [\"toulouse\", \"paris\", \"marseille\", \"lyon\", \"lyon\"]]\n",
      "\n",
      "sorted by temperature : \n",
      " [\"temperature\", [12, 14, 16, 21, 21]]\n",
      "\n",
      "[\"month\", [\"jan\", \"jan\", \"apr\", \"apr\", \"sep\"]]\n",
      "[\"city\", [\"paris\", \"lyon\", \"lyon\", \"marseille\", \"toulouse\"]]\n",
      "\n",
      "sorted by city name length  : \n",
      " [\"temperature\", [14, 16, 12, 21, 21]]\n",
      "\n",
      "[\"month\", [\"jan\", \"apr\", \"jan\", \"sep\", \"apr\"]]\n",
      "[\"city\", [\"lyon\", \"lyon\", \"paris\", \"toulouse\", \"marseille\"]]\n",
      "\n"
     ]
    }
   ],
   "source": [
    "il.sort(order=[1, 2])\n",
    "print('sorted by month and city : \\n', il)\n",
    "\n",
    "il.sort(order=[2, 1], reverse=True)\n",
    "print('reverse sorted by city and month : \\n', il)\n",
    "\n",
    "il.sort(order=[0], func=None)\n",
    "print('sorted by temperature : \\n', il)\n",
    "\n",
    "il.sort(order=[2], func=lambda x: len(x))\n",
    "print('sorted by city name length  : \\n', il)"
   ]
  },
  {
   "cell_type": "markdown",
   "metadata": {},
   "source": [
    "## reordering\n",
    "records can be reordered for all Iindex."
   ]
  },
  {
   "cell_type": "code",
   "execution_count": 11,
   "metadata": {},
   "outputs": [
    {
     "name": "stdout",
     "output_type": "stream",
     "text": [
      "reordered records  : \n",
      " [\"temperature\", [12, 14, 16, 21, 21]]\n",
      "\n",
      "[\"month\", [\"jan\", \"jan\", \"apr\", \"sep\", \"apr\"]]\n",
      "[\"city\", [\"paris\", \"lyon\", \"lyon\", \"toulouse\", \"marseille\"]]\n",
      "\n"
     ]
    }
   ],
   "source": [
    "il.reorder([2, 0, 1, 3, 4])\n",
    "print('reordered records  : \\n', il)"
   ]
  },
  {
   "cell_type": "markdown",
   "metadata": {},
   "source": [
    "## filtering\n",
    "An Ilist object can be filter with a boolean Iindex."
   ]
  },
  {
   "cell_type": "code",
   "execution_count": 10,
   "metadata": {},
   "outputs": [
    {
     "name": "stdout",
     "output_type": "stream",
     "text": [
      "[True, False, True, True, False]\n",
      "\n",
      "il copy with only records with true Iindex filter : \n",
      " [\"temperature\", [21, 14, 12]]\n",
      "\n",
      "[\"month\", [\"sep\", \"jan\", \"jan\"]]\n",
      "[\"city\", [\"toulouse\", \"lyon\", \"paris\"]]\n",
      "[\"$filter\", [true, true, true]]\n",
      "\n",
      "\n",
      "il copy with only records with false Iindex filter : \n",
      " [\"temperature\", [16, 21]]\n",
      "\n",
      "[\"month\", [\"apr\", \"apr\"]]\n",
      "[\"city\", [\"lyon\", \"marseille\"]]\n",
      "[\"$filter\", [false, false]]\n",
      "\n"
     ]
    }
   ],
   "source": [
    "filt = list(map(lambda x: x>'b', il.nindex('month')))   # set a filter (True if 'month' > 'b')\n",
    "print(filt)\n",
    "\n",
    "il.setfilter(filt)\n",
    "il2 = il.applyfilter(inplace=False, delfilter=False)\n",
    "il3 = il.applyfilter(inplace=False, reverse=True)\n",
    "\n",
    "print('\\nil copy with only records with true Iindex filter : \\n', il2)\n",
    "print('\\nil copy with only records with false Iindex filter : \\n', il3)"
   ]
  }
 ],
 "metadata": {
  "kernelspec": {
   "display_name": "Python 3 (ipykernel)",
   "language": "python",
   "name": "python3"
  },
  "language_info": {
   "codemirror_mode": {
    "name": "ipython",
    "version": 3
   },
   "file_extension": ".py",
   "mimetype": "text/x-python",
   "name": "python",
   "nbconvert_exporter": "python",
   "pygments_lexer": "ipython3",
   "version": "3.9.12"
  }
 },
 "nbformat": 4,
 "nbformat_minor": 4
}
