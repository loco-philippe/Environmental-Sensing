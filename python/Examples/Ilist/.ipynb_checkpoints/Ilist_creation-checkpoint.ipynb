{
 "cells": [
  {
   "cell_type": "markdown",
   "metadata": {},
   "source": [
    "# Ilist : creation\n",
    "\n",
    "## Goals\n",
    "\n",
    "- show the different ways to create an Ilist object\n",
    "\n",
    "## Prerequisite\n",
    "\n",
    "- creating and updating Iindex objects \n",
    "-----"
   ]
  },
  {
   "cell_type": "code",
   "execution_count": 15,
   "metadata": {},
   "outputs": [],
   "source": [
    "import os\n",
    "os.chdir('C:/Users/a179227/OneDrive - Alliance/perso Wx/ES standard/python ESstandard/ES')\n",
    "from iindex import Iindex\n",
    "from ilist  import Ilist"
   ]
  },
  {
   "cell_type": "markdown",
   "metadata": {},
   "source": [
    "## creation modes\n",
    "An Ilist object is a list of Iindex objects with the same length.\n",
    "\n",
    "Several modes of creation exist\n",
    "- Ilist          : creation with a list of Iindex objects\n",
    "- Ilist.Iext     : creation with a list of Iindex values\n",
    "- Ilist.Idic     : creation with a dict of element (name / Iindex values)\n",
    "- Ilist.from_obj : creation with a json object"
   ]
  },
  {
   "cell_type": "code",
   "execution_count": 16,
   "metadata": {
    "scrolled": true
   },
   "outputs": [
    {
     "name": "stdout",
     "output_type": "stream",
     "text": [
      "same object ?  True \n",
      "\n",
      "[\"month\", [\"jan\", \"feb\", \"apr\", \"jan\", \"sep\", \"dec\", \"apr\", \"may\", \"jan\"]]\n",
      "[\"quarter\", [\"q1\", \"q1\", \"q2\", \"q1\", \"q3\", \"q4\", \"q2\", \"q2\", \"q1\"]]\n",
      "\n",
      "infos (number of record, number of index, first record ) :  9 2 ['jan', 'q1']\n"
     ]
    },
    {
     "data": {
      "text/plain": [
       "Ilist[9, 2]"
      ]
     },
     "execution_count": 16,
     "metadata": {},
     "output_type": "execute_result"
    }
   ],
   "source": [
    "month = ['jan', 'feb', 'apr', 'jan', 'sep', 'dec', 'apr', 'may', 'jan']\n",
    "quarter = ['q1',  'q1',  'q2',  'q1',  'q3',  'q4',  'q2',  'q2',  'q1']\n",
    "idxmonth   = Iindex.Iext(month, 'month')\n",
    "idxquarter = Iindex.Iext(quarter, 'quarter')\n",
    "\n",
    "il  = Ilist([idxmonth, idxquarter])\n",
    "il1 = Ilist([['month', month], ['quarter', quarter]])\n",
    "il2 = Ilist.Iext([month, quarter], ['month', 'quarter'])\n",
    "il3 = Ilist.Idic({'month': month, 'quarter': quarter})\n",
    "il4 = Ilist.from_obj([['month',   ['jan', 'feb', 'apr', 'jan', 'sep', 'dec', 'apr', 'may', 'jan']],\n",
    "                      ['quarter', ['q1',  'q1',  'q2',  'q1',  'q3',  'q4',  'q2',  'q2',  'q1' ]]])\n",
    "il5 = Ilist(il)\n",
    "\n",
    "print('same object ? ', il == il1 == il2 == il3 == il4 == il5, '\\n')\n",
    "\n",
    "print(il)\n",
    "print('infos (number of record, number of index, first record ) : ', len(il), il.lenidx, il[0])\n",
    "il"
   ]
  },
  {
   "cell_type": "markdown",
   "metadata": {},
   "source": [
    "## indexing\n",
    "Element indexing works exactly like that for other standard Python sequences."
   ]
  },
  {
   "cell_type": "code",
   "execution_count": 25,
   "metadata": {},
   "outputs": [
    {
     "name": "stdout",
     "output_type": "stream",
     "text": [
      "['feb', 'q1']\n",
      "['feb', 'q1']\n",
      "[['feb', 'apr'], ['q1', 'q2']]\n",
      "[['sep', 'dec', 'apr', 'may', 'jan'], ['q3', 'q4', 'q2', 'q2', 'q1']]\n",
      "[['jan', 'feb'], ['q1', 'q1']]\n",
      "[['feb', 'jan', 'dec'], ['q1', 'q1', 'q4']]\n",
      "[['dec', 'apr', 'may'], ['q4', 'q2', 'q2']]\n",
      "[['apr', 'jan', 'feb'], ['q2', 'q1', 'q1']]\n"
     ]
    }
   ],
   "source": [
    "print(il1[1])\n",
    "print(il1.record(1))        # 'record' method access at the values in a row.\n",
    "print(il1[1,6])\n",
    "print(il1[4:])\n",
    "print(il1[:2])\n",
    "print(il1[1:7:2])\n",
    "print(il1[-4:8])\n",
    "print(il1[-3,3,1])"
   ]
  },
  {
   "cell_type": "markdown",
   "metadata": {},
   "source": [
    "## Representation\n",
    "Iindex objects have several representation.\n",
    "\n",
    "Note: The codec representation for quarter is different from codec representation for month because quarter is 'derived' from month."
   ]
  },
  {
   "cell_type": "code",
   "execution_count": 24,
   "metadata": {},
   "outputs": [
    {
     "name": "stdout",
     "output_type": "stream",
     "text": [
      "object with codec and keys : \n",
      " [['month', ['apr', 'dec', 'may', 'feb', 'jan', 'sep'], [4, 3, 0, 4, 5, 1, 0, 2, 4]], ['quarter', ['q1', 'q4', 'q3', 'q2'], [0, [3, 1, 3, 0, 0, 2]]]]\n",
      "\n",
      "object with values : \n",
      " [['month', ['jan', 'feb', 'apr', 'jan', 'sep', 'dec', 'apr', 'may', 'jan']], ['quarter', ['q1', 'q1', 'q2', 'q1', 'q3', 'q4', 'q2', 'q2', 'q1']]]\n",
      "\n",
      "string with codec and keys : \n",
      " [[\"month\", [\"apr\", \"dec\", \"may\", \"feb\", \"jan\", \"sep\"], [4, 3, 0, 4, 5, 1, 0, 2, 4]], [\"quarter\", [\"q1\", \"q4\", \"q3\", \"q2\"], [0, [3, 1, 3, 0, 0, 2]]]]\n",
      "\n",
      "binary with codec and keys : \n",
      " b'\\x82\\x83emonth\\x86caprcdeccmaycfebcjancsep\\x89\\x04\\x03\\x00\\x04\\x05\\x01\\x00\\x02\\x04\\x83gquarter\\x84bq1bq4bq3bq2\\x82\\x00\\x86\\x03\\x01\\x03\\x00\\x00\\x02'\n"
     ]
    }
   ],
   "source": [
    "print('object with codec and keys : \\n', il1.to_obj())\n",
    "print('\\nobject with values : \\n', il1.to_obj(fullcodec=True))\n",
    "print('\\nstring with codec and keys : \\n', il1.to_obj(encoded=True))\n",
    "print('\\nbinary with codec and keys : \\n', il1.to_obj(encoded=True, encode_format='cbor'))"
   ]
  },
  {
   "cell_type": "markdown",
   "metadata": {},
   "source": [
    "## Json compatibility\n",
    "\n",
    "Ilist objects are completely defined by their Json representation for any format (object, string, binary). i.e. the object reconstructed from its json representation is identical to the initial object."
   ]
  },
  {
   "cell_type": "code",
   "execution_count": 21,
   "metadata": {},
   "outputs": [
    {
     "name": "stdout",
     "output_type": "stream",
     "text": [
      "Object compatibility :  True\n"
     ]
    }
   ],
   "source": [
    "print('Object compatibility : ', il1 ==\n",
    "      Ilist.from_obj(il1.to_obj()) == \n",
    "      Ilist.from_obj(il1.to_obj(fullcodec=True)) == \n",
    "      Ilist.from_obj(il1.to_obj(encoded=True)) ==\n",
    "      Ilist.from_obj(il1.to_obj(encoded=True, encode_format='cbor')))"
   ]
  }
 ],
 "metadata": {
  "kernelspec": {
   "display_name": "Python 3 (ipykernel)",
   "language": "python",
   "name": "python3"
  },
  "language_info": {
   "codemirror_mode": {
    "name": "ipython",
    "version": 3
   },
   "file_extension": ".py",
   "mimetype": "text/x-python",
   "name": "python",
   "nbconvert_exporter": "python",
   "pygments_lexer": "ipython3",
   "version": "3.9.12"
  }
 },
 "nbformat": 4,
 "nbformat_minor": 4
}
