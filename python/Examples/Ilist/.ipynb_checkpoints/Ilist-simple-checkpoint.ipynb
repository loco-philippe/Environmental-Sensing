{
 "cells": [
  {
   "cell_type": "markdown",
   "metadata": {},
   "source": [
    "# Object: Ilist first Example \n",
    "## Goal\n",
    "- show on a simple example the capacities of analysis of tabular data\n",
    "--------------------------------\n",
    "\n",
    "## Presentation of the example\n",
    "The example describe the tool's ability to understand and modify a data structure.\n",
    "\n",
    "Let's take the example of a csv file containing the price of some fruits and vegetables.\n",
    "\n",
    "|product|plants\t|quantity\t|price|\n",
    "|:----:|:----:|:----:|:----:|\t\t\t\t\t\n",
    "|apple|fruit\t|1 kg\t|1\t|\n",
    "|apple|fruit\t|10 kg\t|9|\n",
    "|orange|fruit\t|1 kg|2|\n",
    "|orange|fruit\t|10 kg\t|18\t|\n",
    "|peppers|vegetable\t|1 kg\t|1.5|\n",
    "|peppers|vegetable\t|10 kg|13|\n",
    "|banana|fruit\t|1 kg\t|0.5|\n",
    "|banana|fruit\t|10 kg\t|4|\n",
    "\n",
    "The price is different depending on the product and the packaging of 1 or 10 kg.\n"
   ]
  },
  {
   "cell_type": "code",
   "execution_count": 1,
   "metadata": {},
   "outputs": [],
   "source": [
    "import os\n",
    "os.chdir('../../ES')\n",
    "from ilist import Ilist\n",
    "\n",
    "prices = Ilist.Idic( {'plants':   ['fruit', 'fruit','fruit','fruit','vegetable', 'vegetable', 'fruit', 'fruit'],\n",
    "                      'quantity': ['1 kg', '10 kg', '1 kg', '10 kg','1 kg', '10 kg','1 kg', '10 kg'], \n",
    "                      'product':  ['apple', 'apple', 'orange', 'orange', 'peppers', 'peppers', 'banana', 'banana'], \n",
    "                      'price':    [1, 10, 2, 20, 1.5, 15, 0.5, 5]}, var = 3)"
   ]
  },
  {
   "cell_type": "markdown",
   "metadata": {},
   "source": [
    "## Matrix transformation\n",
    "In a single command, i can turn this array into a matrix while keeping the dataset.\n",
    "\n",
    "In reality this command searches for the columns whose data are \"crossed\" (product and quantity) as well as those which are associated with others (plants). Then it transfers this information to a tool adapted to the analysis of indexed matrices (e.g. Xarray)\n"
   ]
  },
  {
   "cell_type": "code",
   "execution_count": 2,
   "metadata": {
    "scrolled": false
   },
   "outputs": [
    {
     "name": "stdout",
     "output_type": "stream",
     "text": [
      "<xarray.DataArray 'Ilist' (quantity: 2, product: 4)>\n",
      "array([[5, 20, 15, 10],\n",
      "       [0.5, 2, 1.5, 1]], dtype=object)\n",
      "Coordinates:\n",
      "  * quantity      (quantity) object '10 kg' '1 kg'\n",
      "    quantity_row  (quantity) int32 0 1\n",
      "    quantity_str  (quantity) object '10 kg' '1 kg'\n",
      "  * product       (product) object 'banana' 'orange' 'peppers' 'apple'\n",
      "    product_row   (product) int32 0 1 2 3\n",
      "    product_str   (product) object 'banana' 'orange' 'peppers' 'apple'\n",
      "    plants        (product) object 'fruit' 'fruit' 'vegetable' 'fruit'\n"
     ]
    }
   ],
   "source": [
    "print(prices.to_xarray())"
   ]
  },
  {
   "cell_type": "markdown",
   "metadata": {},
   "source": [
    "## Aggregation\n",
    "We can also imagine that these data were produced by several people and then accumulated to form the object 'prices' :\n",
    "- one person for the fruit data, \n",
    "- one for the vegetable data \n",
    "- and another to put everything together."
   ]
  },
  {
   "cell_type": "code",
   "execution_count": 3,
   "metadata": {},
   "outputs": [],
   "source": [
    "fruit      = Ilist.Idic({'product':  ['apple', 'apple', 'orange', 'orange', 'banana', 'banana'],\n",
    "                         'quantity': ['1 kg', '10 kg', '1 kg', '10 kg', '1 kg', '10 kg'], \n",
    "                         'price':    [1, 10, 2, 20, 0.5, 5]}, var=2)\n",
    "\n",
    "vegetable  = Ilist.Idic({'product':  ['peppers', 'peppers'],\n",
    "                         'quantity': ['1 kg', '10 kg'], \n",
    "                         'price':    [1.5, 15]}, var=2)\n",
    "                         \n",
    "total      = Ilist.Idic({'plants':   ['fruit', 'vegetable'],\n",
    "                         'price':    [fruit, vegetable]}, var=1)"
   ]
  },
  {
   "cell_type": "markdown",
   "metadata": {},
   "source": [
    "The 'prices' object is then a representation of the 'total' object.\n",
    "\n",
    "This approach makes it possible to maintain data traceability and to build aggregation processes in line with business processes."
   ]
  },
  {
   "cell_type": "code",
   "execution_count": 4,
   "metadata": {},
   "outputs": [
    {
     "name": "stdout",
     "output_type": "stream",
     "text": [
      "    [\"price\", [1, 10, 2, 20, 0.5, 5, 1.5, 15]]\n",
      "\n",
      "    [\"plants\", [\"fruit\", \"fruit\", \"fruit\", \"fruit\", \"fruit\", \"fruit\", \"vegetable\", \"vegetable\"]]\n",
      "    [\"product\", [\"apple\", \"apple\", \"orange\", \"orange\", \"banana\", \"banana\", \"peppers\", \"peppers\"]]\n",
      "    [\"quantity\", [\"1 kg\", \"10 kg\", \"1 kg\", \"10 kg\", \"1 kg\", \"10 kg\", \"1 kg\", \"10 kg\"]]\n",
      "\n"
     ]
    }
   ],
   "source": [
    "prices = total.merge(mergeidx=True)\n",
    "print(prices)"
   ]
  },
  {
   "cell_type": "markdown",
   "metadata": {},
   "source": [
    "## what if...\n",
    "...there is an error in the data documentation (e.g. a 'vegetable' instead of a 'fruit') ?\n",
    "\n",
    "The Ilist object no longer understands that 'plant' is associated with 'product' ('banana' is 'fruit' or 'vegetable'?)"
   ]
  },
  {
   "cell_type": "code",
   "execution_count": 5,
   "metadata": {},
   "outputs": [
    {
     "name": "stdout",
     "output_type": "stream",
     "text": [
      "<xarray.DataArray 'Ilist' (plants: 2, quantity: 2, product: 4)>\n",
      "array([[['?', '?', 15, '?'],\n",
      "        [0.5, '?', 1.5, '?']],\n",
      "\n",
      "       [[5, 20, '?', 10],\n",
      "        ['?', 2, '?', 1]]], dtype=object)\n",
      "Coordinates:\n",
      "  * plants        (plants) object 'vegetable' 'fruit'\n",
      "    plants_row    (plants) int32 0 1\n",
      "    plants_str    (plants) object 'vegetable' 'fruit'\n",
      "  * quantity      (quantity) object '10 kg' '1 kg'\n",
      "    quantity_row  (quantity) int32 0 1\n",
      "    quantity_str  (quantity) object '10 kg' '1 kg'\n",
      "  * product       (product) object 'banana' 'orange' 'peppers' 'apple'\n",
      "    product_row   (product) int32 0 1 2 3\n",
      "    product_str   (product) object 'banana' 'orange' 'peppers' 'apple'\n"
     ]
    }
   ],
   "source": [
    "prices = Ilist.Idic( {'plants':   ['fruit', 'fruit','fruit','fruit','vegetable', 'vegetable', 'vegetable', 'fruit'],\n",
    "                      'quantity': ['1 kg', '10 kg', '1 kg', '10 kg','1 kg', '10 kg','1 kg', '10 kg'], \n",
    "                      'product':  ['apple', 'apple', 'orange', 'orange', 'peppers', 'peppers', 'banana', 'banana'], \n",
    "                      'price':    [1, 10, 2, 20, 1.5, 15, 0.5, 5]}, var = 3)\n",
    "print(prices.to_xarray())"
   ]
  },
  {
   "cell_type": "markdown",
   "metadata": {},
   "source": [
    "## But fortunately...\n",
    "... there is a solution !\n",
    "\n",
    "We can impose that 'plant' is indeed associated with 'product' and in this case, the Ilist object translates this from the fact that there is a 'banana-fruit' and a 'banana-vegetable'. \n"
   ]
  },
  {
   "cell_type": "code",
   "execution_count": 6,
   "metadata": {
    "scrolled": true
   },
   "outputs": [
    {
     "name": "stdout",
     "output_type": "stream",
     "text": [
      "<xarray.DataArray 'Ilist' (quantity: 2, product: 5)>\n",
      "array([[5, '?', 10, 20, 15],\n",
      "       ['?', 0.5, 1, 2, 1.5]], dtype=object)\n",
      "Coordinates:\n",
      "  * quantity      (quantity) object '10 kg' '1 kg'\n",
      "    quantity_row  (quantity) int32 0 1\n",
      "    quantity_str  (quantity) object '10 kg' '1 kg'\n",
      "  * product       (product) object 'banana' 'banana' 'apple' 'orange' 'peppers'\n",
      "    product_row   (product) int32 0 1 2 3 4\n",
      "    product_str   (product) object 'banana' 'banana' 'apple' 'orange' 'peppers'\n",
      "    plants        (product) object 'fruit' 'vegetable' ... 'fruit' 'vegetable'\n"
     ]
    }
   ],
   "source": [
    "prices.nindex('product').coupling(prices.nindex('plants'))\n",
    "print(prices.to_xarray())"
   ]
  },
  {
   "cell_type": "markdown",
   "metadata": {},
   "source": [
    "We then find our initial matrix with a price for 1 kg of 'banana-fruit' and a price for 10 kg of 'banana-vegetable'."
   ]
  },
  {
   "cell_type": "markdown",
   "metadata": {},
   "source": [
    "------\n",
    "# Conclusion"
   ]
  },
  {
   "cell_type": "markdown",
   "metadata": {},
   "source": [
    "This example demonstrates several very interesting points:\n",
    "- we can build a tabular dataset by respecting a business process and guaranteeing the integrity of the data,\n",
    "- you can automatically analyze tabular data (such as csv or Excel files) to deduce the type of relationship that links the fields together,\n",
    "- you can restructure the data of these fields without having to modify them (reversible),\n",
    "- we can impose relationships between fields and measure the differences between the specification and the result,\n",
    "- we can extend the notion of tabular data to complex data (eg Ilist data included)\n",
    "- we can interface data analysis tools (eg Xarray)"
   ]
  }
 ],
 "metadata": {
  "kernelspec": {
   "display_name": "Python 3 (ipykernel)",
   "language": "python",
   "name": "python3"
  },
  "language_info": {
   "codemirror_mode": {
    "name": "ipython",
    "version": 3
   },
   "file_extension": ".py",
   "mimetype": "text/x-python",
   "name": "python",
   "nbconvert_exporter": "python",
   "pygments_lexer": "ipython3",
   "version": "3.9.12"
  }
 },
 "nbformat": 4,
 "nbformat_minor": 4
}
