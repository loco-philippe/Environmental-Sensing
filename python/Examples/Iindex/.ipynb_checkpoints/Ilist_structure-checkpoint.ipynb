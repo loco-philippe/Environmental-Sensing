{
 "cells": [
  {
   "cell_type": "markdown",
   "metadata": {},
   "source": [
    "# Ilist : structure\n",
    "\n",
    "## Goals\n",
    "\n",
    "- understand the structure of Ilist object\n",
    "- introduce methods for managing structure\n",
    "\n",
    "-----"
   ]
  },
  {
   "cell_type": "code",
   "execution_count": 1,
   "metadata": {},
   "outputs": [],
   "source": [
    "import os\n",
    "os.chdir('C:/Users/a179227/OneDrive - Alliance/perso Wx/ES standard/python ESstandard/ES')\n",
    "from ilist import Ilist"
   ]
  },
  {
   "cell_type": "markdown",
   "metadata": {},
   "source": [
    "## managing Iindex\n",
    "Iindex methods are available for all the Iindex inside the Ilist object\n"
   ]
  },
  {
   "cell_type": "code",
   "execution_count": 2,
   "metadata": {},
   "outputs": [
    {
     "name": "stdout",
     "output_type": "stream",
     "text": [
      "codec length for Iindex defaultcodec :  [3, 4, 4]\n",
      "codec length for Iindex fullcodec    :  [5, 5, 5]\n",
      "new Iindex order :  [0] ['temperature'] [1, 2] ['month', 'city']\n"
     ]
    }
   ],
   "source": [
    "il = Ilist([['month',       ['jan',   'jan',  'apr',       'apr',  'sep'     ]    ],\n",
    "             ['city',        ['paris', 'lyon', 'marseille', 'lyon', 'toulouse']    ],\n",
    "             ['temperature', [ 12,      14,     21,          16,      21      ], -1]])\n",
    "print('codec length for Iindex defaultcodec : ', il.indexlen)\n",
    "il.tostdcodec(inplace=True)                                      # apply full codec\n",
    "print('codec length for Iindex fullcodec    : ', il.indexlen)\n",
    "il.reindex()                                                     # apply default codec\n",
    "il.swapindex([2, 0, 1])                                          # var Iindex is the first\n",
    "print('new Iindex order : ', il.lvarrow, il.lvarname, il.lidxrow, il.idxname)\n",
    "\n"
   ]
  },
  {
   "cell_type": "markdown",
   "metadata": {},
   "source": [
    "## ordering\n",
    "\n",
    "Values and keys can be ordered for all Iindex."
   ]
  },
  {
   "cell_type": "code",
   "execution_count": 6,
   "metadata": {},
   "outputs": [
    {
     "name": "stdout",
     "output_type": "stream",
     "text": [
      "new Iindex order :  [0] ['temperature'] [1, 2] ['month', 'city']\n",
      "sorted by month : \n",
      " [\"temperature\", [16, 21, 14, 12, 21]]\n",
      "\n",
      "[\"month\", [\"apr\", \"apr\", \"jan\", \"jan\", \"sep\"]]\n",
      "[\"city\", [\"lyon\", \"marseille\", \"lyon\", \"paris\", \"toulouse\"]]\n",
      "\n",
      "reverse sorted by city : \n",
      " [\"temperature\", [21, 12, 21, 14, 16]]\n",
      "\n",
      "[\"month\", [\"sep\", \"jan\", \"apr\", \"jan\", \"apr\"]]\n",
      "[\"city\", [\"toulouse\", \"paris\", \"marseille\", \"lyon\", \"lyon\"]]\n",
      "\n",
      "sorted by temperature : \n",
      " [\"temperature\", [12, 14, 16, 21, 21]]\n",
      "\n",
      "[\"month\", [\"jan\", \"jan\", \"apr\", \"apr\", \"sep\"]]\n",
      "[\"city\", [\"paris\", \"lyon\", \"lyon\", \"marseille\", \"toulouse\"]]\n",
      "\n"
     ]
    }
   ],
   "source": [
    "print('new Iindex order : ', il.lvarrow, il.lvarname, il.lidxrow, il.idxname)\n",
    "il.sort(order=[1, 2, 0])\n",
    "print('sorted by month : \\n', il)\n",
    "il.sort(order=[2, 1, 0], reverse=True)\n",
    "print('reverse sorted by city : \\n', il)\n",
    "il.sort(order=[0, 1, 2], func=None)\n",
    "print('sorted by temperature : \\n', il)\n"
   ]
  }
 ],
 "metadata": {
  "kernelspec": {
   "display_name": "Python 3 (ipykernel)",
   "language": "python",
   "name": "python3"
  },
  "language_info": {
   "codemirror_mode": {
    "name": "ipython",
    "version": 3
   },
   "file_extension": ".py",
   "mimetype": "text/x-python",
   "name": "python",
   "nbconvert_exporter": "python",
   "pygments_lexer": "ipython3",
   "version": "3.9.12"
  }
 },
 "nbformat": 4,
 "nbformat_minor": 4
}
