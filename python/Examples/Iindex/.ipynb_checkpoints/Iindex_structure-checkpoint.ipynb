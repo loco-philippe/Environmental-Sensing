{
 "cells": [
  {
   "cell_type": "markdown",
   "metadata": {},
   "source": [
    "# Iindex : structure\n",
    "\n",
    "## Goals\n",
    "\n",
    "- understand the structure of Iindex object\n",
    "- introduce methods for updating data\n",
    "\n",
    "-----"
   ]
  },
  {
   "cell_type": "code",
   "execution_count": 1,
   "metadata": {},
   "outputs": [],
   "source": [
    "import os\n",
    "os.chdir('C:/Users/a179227/OneDrive - Alliance/perso Wx/ES standard/python ESstandard/ES')\n",
    "from iindex import Iindex"
   ]
  },
  {
   "cell_type": "markdown",
   "metadata": {},
   "source": [
    "## Values, codec and keys\n",
    "In a list, data is only a value list.\n",
    "\n",
    "In a Iindex object, data is a 'codec' list and a 'keys' list\n",
    "\n",
    "Two main codec are defined :\n",
    "- full codec : codec is the list of values\n",
    "- default codec : codec is the list of different values\n"
   ]
  },
  {
   "cell_type": "code",
   "execution_count": 2,
   "metadata": {},
   "outputs": [
    {
     "name": "stdout",
     "output_type": "stream",
     "text": [
      "values :  [2021, 2019, 2020, 2020, 2021, 2021, 2019]\n",
      "\n",
      "full codec :  [2021, 2019, 2020, 2020, 2021, 2021, 2019]\n",
      "full keys  :  [0, 1, 2, 3, 4, 5, 6]\n",
      "full infos :  {'lencodec': 7, 'min': 3, 'max': 7, 'typecodec': 'full', 'rate': 0.0, 'disttomin': 4, 'disttomax': 0} \n",
      "\n",
      "default codec :  [2019, 2020, 2021]\n",
      "default keys  :  [2, 0, 1, 1, 2, 2, 0]\n",
      "default infos :  {'lencodec': 3, 'min': 3, 'max': 7, 'typecodec': 'default', 'rate': 1.0, 'disttomin': 0, 'disttomax': 4} \n",
      "\n"
     ]
    }
   ],
   "source": [
    "idx = Iindex([2021, 2019, 2020, 2020, 2021, 2021, 2019])\n",
    "print('values : ', idx)\n",
    "\n",
    "print('full codec : ', idx.codec)\n",
    "print('full keys  : ', idx.keys)\n",
    "print('full infos : ', idx.infos, '\\n')\n",
    "\n",
    "idx.reindex()\n",
    "print('default codec : ', idx.codec)\n",
    "print('default keys  : ', idx.keys)\n",
    "print('default infos : ', idx.infos, '\\n')"
   ]
  },
  {
   "cell_type": "markdown",
   "metadata": {},
   "source": [
    "## codec update\n",
    "\n",
    "For the same list of values, we can have change the order of codec or create a specific codec"
   ]
  },
  {
   "cell_type": "code",
   "execution_count": 3,
   "metadata": {},
   "outputs": [
    {
     "name": "stdout",
     "output_type": "stream",
     "text": [
      "new default codec :  [2020, 2021, 2019]\n",
      "new default keys  :  [1, 2, 0, 0, 1, 1, 2]\n",
      "new default infos : {'lencodec': 3, 'min': 3, 'max': 7, 'typecodec': 'default', 'rate': 1.0, 'disttomin': 0, 'disttomax': 4} \n",
      "\n",
      "specific codec :  [2021, 2019, 2020, 2020]\n",
      "specific keys  :  [0, 1, 2, 3, 0, 0, 1]\n",
      "specific infos :  {'lencodec': 4, 'min': 3, 'max': 7, 'typecodec': 'mixed', 'rate': 0.75, 'disttomin': 1, 'disttomax': 3}\n",
      "specific values:  [2021, 2019, 2020, 2020, 2021, 2021, 2019]\n",
      " \n",
      "\n"
     ]
    }
   ],
   "source": [
    "idx.reindex([2020, 2021, 2019])\n",
    "print('new default codec : ', idx.codec)\n",
    "print('new default keys  : ', idx.keys)\n",
    "print('new default infos :', idx.infos, '\\n')\n",
    "\n",
    "idx.setkeys([0,1,2,3,0,0,1])\n",
    "print('specific codec : ', idx.codec)\n",
    "print('specific keys  : ', idx.keys)\n",
    "print('specific infos : ', idx.infos)\n",
    "print('specific values: ', idx, '\\n')\n",
    "\n"
   ]
  },
  {
   "cell_type": "markdown",
   "metadata": {},
   "source": [
    "## values update\n",
    "\n",
    "With a specific codec, we can update some of the data"
   ]
  },
  {
   "cell_type": "code",
   "execution_count": 4,
   "metadata": {},
   "outputs": [
    {
     "name": "stdout",
     "output_type": "stream",
     "text": [
      "changed codec :  [2021, 2019, 2020, 2022]\n",
      "changed keys  :  [0, 1, 2, 3, 0, 0, 1]\n",
      "changed values:  [2021, 2019, 2020, 2022, 2021, 2021, 2019]\n",
      " \n",
      "\n",
      "reindexed idx:  [2021, 2019, 2020, 2022, 2021, 2021, 2019]\n",
      " [2019, 2020, 2021, 2022] \n",
      "\n",
      "changed codec :  [2018, 2020, 2021, 2022]\n",
      "changed keys  :  [2, 0, 1, 3, 2, 2, 0]\n",
      "changed values:  [2021, 2018, 2020, 2022, 2021, 2021, 2018]\n",
      "\n"
     ]
    }
   ],
   "source": [
    "idx.codec[3] = 2022                          # updated part of the 2020 years\n",
    "print('changed codec : ', idx.codec)\n",
    "print('changed keys  : ', idx.keys)\n",
    "print('changed values: ', idx, '\\n')\n",
    "\n",
    "idx.reindex()\n",
    "print('reindexed idx: ', idx, idx.codec, '\\n')\n",
    "\n",
    "idx.codec[0] = 2018                          # updated all the 2019 years\n",
    "print('changed codec : ', idx.codec)\n",
    "print('changed keys  : ', idx.keys)\n",
    "print('changed values: ', idx)"
   ]
  },
  {
   "cell_type": "markdown",
   "metadata": {},
   "source": [
    "## Merging\n",
    "Iindex objects can be merged"
   ]
  },
  {
   "cell_type": "code",
   "execution_count": 5,
   "metadata": {},
   "outputs": [
    {
     "name": "stdout",
     "output_type": "stream",
     "text": [
      "merged name and year Iindex : \n",
      " [\"name_year\", [[\"saul\", 2000], [\"gus\", 2020], [\"skyler\", 2021], [\"saul\", 2000]]]\n",
      "\n"
     ]
    }
   ],
   "source": [
    "name = Iindex.Idic({'name' : ['saul', 'gus', 'skyler', 'saul']})\n",
    "year = Iindex.Idic({'year' : [ 2000 ,  2020,   2021  ,  2000 ]})\n",
    "\n",
    "name_year = Iindex.merging([name, year], 'name_year')\n",
    "print('merged name and year Iindex : \\n', name_year)"
   ]
  },
  {
   "cell_type": "markdown",
   "metadata": {},
   "source": [
    "## Relationship\n",
    "Two Iindex objects have relationships."
   ]
  },
  {
   "cell_type": "code",
   "execution_count": 6,
   "metadata": {},
   "outputs": [
    {
     "name": "stdout",
     "output_type": "stream",
     "text": [
      "coupled\n"
     ]
    }
   ],
   "source": [
    "print(name.couplinginfos(year)['typecoupl'])        # name and year are coupled (link 1 to 1)"
   ]
  },
  {
   "cell_type": "code",
   "execution_count": 7,
   "metadata": {
    "scrolled": true
   },
   "outputs": [
    {
     "name": "stdout",
     "output_type": "stream",
     "text": [
      "derive\n"
     ]
    }
   ],
   "source": [
    "year = Iindex.Idic({'year' : [ 2000 ,  2021,   2021  ,  2000 ]})\n",
    "print(name.couplinginfos(year)['typecoupl'])        # year is derived from name (link 1 to n)"
   ]
  },
  {
   "cell_type": "code",
   "execution_count": 8,
   "metadata": {},
   "outputs": [
    {
     "name": "stdout",
     "output_type": "stream",
     "text": [
      "link\n"
     ]
    }
   ],
   "source": [
    "year = Iindex.Idic({'year' : [ 2000 ,  2000,   2021  ,  2021 ]})\n",
    "print(name.couplinginfos(year)['typecoupl'])        # year and name are only linked (not coupled and not derived)"
   ]
  },
  {
   "cell_type": "code",
   "execution_count": 9,
   "metadata": {},
   "outputs": [
    {
     "name": "stdout",
     "output_type": "stream",
     "text": [
      "0.17\n",
      "1\n"
     ]
    }
   ],
   "source": [
    "year = Iindex.Idic({'year' : [ 2000 ,  2001,   2002  ,  2002 ]})\n",
    "print(round(name.couplinginfos(year)['rate'], 2))   # year and name are linked at 17 % (almost coupled or derived)\n",
    "print(name.couplinginfos(year)['disttomin'])        # year and name are at a distance of 1 to be coupled or derived"
   ]
  },
  {
   "cell_type": "code",
   "execution_count": 10,
   "metadata": {},
   "outputs": [
    {
     "name": "stdout",
     "output_type": "stream",
     "text": [
      "0.67\n",
      "2\n"
     ]
    }
   ],
   "source": [
    "name = Iindex.Idic({'name' : ['saul', 'gus', 'skyler', 'saul', 'gus']})\n",
    "year = Iindex.Idic({'year' : [ 2000 ,  2000,   2002  ,  2002 , 2002 ]})\n",
    "print(round(name.couplinginfos(year)['rate'], 2))   # year and name are linked at 67 % (almost crossed)\n",
    "print(name.couplinginfos(year)['disttomin'])        # year and name are at a distance of 2 to be crossed"
   ]
  },
  {
   "cell_type": "code",
   "execution_count": 11,
   "metadata": {},
   "outputs": [
    {
     "name": "stdout",
     "output_type": "stream",
     "text": [
      "crossed\n"
     ]
    }
   ],
   "source": [
    "name = Iindex.Idic({'name' : ['saul', 'gus', 'skyler', 'skyler', 'saul', 'gus']})\n",
    "year = Iindex.Idic({'year' : [ 2000 ,  2000,   2000  ,   2002  ,  2002 , 2002 ]})\n",
    "print(name.couplinginfos(year)['typecoupl'])        # year and name are crossed (matrix 2x3)\n"
   ]
  }
 ],
 "metadata": {
  "kernelspec": {
   "display_name": "Python 3 (ipykernel)",
   "language": "python",
   "name": "python3"
  },
  "language_info": {
   "codemirror_mode": {
    "name": "ipython",
    "version": 3
   },
   "file_extension": ".py",
   "mimetype": "text/x-python",
   "name": "python",
   "nbconvert_exporter": "python",
   "pygments_lexer": "ipython3",
   "version": "3.9.12"
  }
 },
 "nbformat": 4,
 "nbformat_minor": 4
}
