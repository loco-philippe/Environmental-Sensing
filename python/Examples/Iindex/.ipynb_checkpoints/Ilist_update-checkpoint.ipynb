{
 "cells": [
  {
   "cell_type": "markdown",
   "metadata": {},
   "source": [
    "# Iindex : Update\n",
    "\n",
    "## Goals\n",
    "\n",
    "- show independence of methods from values objects\n",
    "- present the applicability of methods like that for list\n",
    "\n",
    "-----"
   ]
  },
  {
   "cell_type": "code",
   "execution_count": 1,
   "metadata": {},
   "outputs": [],
   "source": [
    "import os\n",
    "os.chdir('C:/Users/a179227/OneDrive - Alliance/perso Wx/ES standard/python ESstandard/ES')\n",
    "from ESValue import LocationValue, DatationValue, PropertyValue, NamedValue, ExternValue, ESValue\n",
    "from iindex import Iindex\n",
    "from datetime import datetime\n",
    "from copy import copy"
   ]
  },
  {
   "cell_type": "markdown",
   "metadata": {},
   "source": [
    "## Add name and values\n",
    "The Iindex can have a name.\n",
    "\n",
    "The append method is available for Iindex."
   ]
  },
  {
   "cell_type": "code",
   "execution_count": 2,
   "metadata": {},
   "outputs": [
    {
     "name": "stdout",
     "output_type": "stream",
     "text": [
      "default :  \n",
      " [21, {\"test\": 22}, {\"213\": 23}, {\"ko\": 2, \"kobis\": 2}, [1.2, 3.4], \"2021-01-21T00:00:00+00:00\", \"name\"]\n",
      "\n",
      "idx with name and added values :  \n",
      " [\"first idx\", [21, {\"test\": 22}, {\"213\": 23}, {\"ko\": 2, \"kobis\": 2}, [1.2, 3.4], \"2021-01-21T00:00:00+00:00\", \"name\", 52, {\"datvalue\": \"2020-01-01T00:00:00\"}, {\"truc\": 25, \"list\": [1, 2]}]]\n",
      "\n"
     ]
    }
   ],
   "source": [
    "idx = Iindex([21, {'namvalue':{'test':22}}, {213:23}, {'ko':2, 'kobis':2}, [1.2, 3.4], {'datvalue': '2021-01-21'}, 'name'])\n",
    "print('default : ', '\\n', idx)\n",
    "idx.append(52, typevalue='NamedValue')\n",
    "idx.append({'datvalue': datetime(2020,1,1)})\n",
    "idx.append({'truc': 25, 'list':[1,2]})\n",
    "idx.setname('first idx')\n",
    "print('idx with name and added values : ',  '\\n', idx)"
   ]
  },
  {
   "cell_type": "markdown",
   "metadata": {},
   "source": [
    "## Item access\n",
    "the items are accessible for update and delete"
   ]
  },
  {
   "cell_type": "code",
   "execution_count": 3,
   "metadata": {
    "scrolled": true
   },
   "outputs": [
    {
     "name": "stdout",
     "output_type": "stream",
     "text": [
      "[\"first idx\", [21, {\"test\": 22}, 25, [1.2, 3.4], \"2021-01-21T00:00:00+00:00\", \"name\", 52, {\"datvalue\": \"2020-01-01T00:00:00\"}, {\"truc\": 25, \"list\": [1, 2]}]]\n",
      "\n",
      "[\"first idx\", [21, {\"test\": 22}, {\"truc\": 25, \"dict\": {\"test\": 1}}, [1.2, 3.4], \"2021-01-21T00:00:00+00:00\", \"name\", 52, {\"datvalue\": \"2020-01-01T00:00:00\"}, {\"truc\": 25, \"list\": [1, 2]}]]\n",
      "\n"
     ]
    }
   ],
   "source": [
    "idx[3] = 25\n",
    "del(idx[2])\n",
    "print(idx)\n",
    "idx[2] =  {'truc': 25, 'dict': {'test':1}}\n",
    "print(idx)\n"
   ]
  },
  {
   "cell_type": "markdown",
   "metadata": {},
   "source": [
    "## add and copy\n",
    "Iindex can be added and copied"
   ]
  },
  {
   "cell_type": "code",
   "execution_count": 4,
   "metadata": {},
   "outputs": [
    {
     "name": "stdout",
     "output_type": "stream",
     "text": [
      "[1, 2, 3, 4, 5, 6]\n",
      "\n",
      "[0, 2, 3, 21, {\"test\": 22}, {\"truc\": 25, \"dict\": {\"test\": 1}}, [1.2, 3.4], \"2021-01-21T00:00:00+00:00\", \"name\", 52, {\"datvalue\": \"2020-01-01T00:00:00\"}, {\"truc\": 25, \"list\": [1, 2]}]\n",
      "\n"
     ]
    }
   ],
   "source": [
    "idx1 = Iindex([1,2,3])\n",
    "idx2 = Iindex([4,5,6])\n",
    "\n",
    "idx3 = copy(idx1)\n",
    "idx3[0] = 0\n",
    "print(idx1 + idx2)\n",
    "print(idx3 + idx)"
   ]
  }
 ],
 "metadata": {
  "kernelspec": {
   "display_name": "Python 3 (ipykernel)",
   "language": "python",
   "name": "python3"
  },
  "language_info": {
   "codemirror_mode": {
    "name": "ipython",
    "version": 3
   },
   "file_extension": ".py",
   "mimetype": "text/x-python",
   "name": "python",
   "nbconvert_exporter": "python",
   "pygments_lexer": "ipython3",
   "version": "3.9.12"
  }
 },
 "nbformat": 4,
 "nbformat_minor": 4
}
