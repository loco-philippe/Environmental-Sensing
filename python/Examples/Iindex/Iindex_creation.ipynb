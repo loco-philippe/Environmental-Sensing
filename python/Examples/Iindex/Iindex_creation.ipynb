{
 "cells": [
  {
   "cell_type": "markdown",
   "metadata": {},
   "source": [
    "# Iindex : Creation\n",
    "\n",
    "----\n",
    "## Goals\n",
    "\n",
    "- show the different ways to create an Ilist object\n",
    "\n",
    "## Prerequisite\n",
    "\n",
    "- read beforehand the structuring of indexed lists"
   ]
  },
  {
   "cell_type": "code",
   "execution_count": 2,
   "metadata": {},
   "outputs": [],
   "source": [
    "import os\n",
    "os.chdir('C:/Users/a179227/OneDrive - Alliance/perso Wx/ES standard/python ESstandard/ES')\n",
    "from iindex import Iindex\n",
    "from datetime import datetime"
   ]
  },
  {
   "cell_type": "markdown",
   "metadata": {},
   "source": [
    "## creation\n",
    "\n",
    "The examples below are build with usual data.\n",
    "\n",
    "Several modes of creation exist\n",
    "- Iindex         : creation with codec and keys\n",
    "- Iindex.Iext    : creation with a list of values\n",
    "- Iindex.Idic    : creation with a dict of a single element (name / values)\n",
    "- Iindex.Iobj    : creation with a json object (or string)"
   ]
  },
  {
   "cell_type": "code",
   "execution_count": 7,
   "metadata": {},
   "outputs": [
    {
     "name": "stdout",
     "output_type": "stream",
     "text": [
      "True\n"
     ]
    }
   ],
   "source": [
    "month   = ['jan', 'feb', 'apr', 'jan', 'sep', 'dec', 'apr', 'may', 'jan']\n",
    "imonth1 = Iindex(month, 'month')\n",
    "imonth2 = Iindex(['jan', 'feb', 'apr', 'sep', 'dec', 'may'], 'month', [0, 1, 2, 0, 3, 4, 2, 5, 0])\n",
    "imonth3 = Iindex(imonth)\n",
    "imonth4 = Iindex.Iext(month, 'month')\n",
    "imonth5 = Iindex.Idic({'month': month})\n",
    "imonth6 = Iindex.Iobj(['month', month])\n",
    "imonth7 = Iindex.Iobj('[\"month\", [\"jan\", \"feb\", \"apr\", \"jan\", \"sep\", \"dec\", \"apr\", \"may\", \"jan\"]]')\n",
    "imonth8 = Iindex.Iobj('[\"month\", [\"jan\", \"feb\", \"apr\", \"sep\", \"dec\", \"may\"], [0, 1, 2, 0, 3, 4, 2, 5, 0]]')\n",
    "\n",
    "print(imonth1 == imonth2 == imonth3 == imonth4 == imonth5 == imonth6 == imonth7 == imonth8)"
   ]
  },
  {
   "cell_type": "markdown",
   "metadata": {},
   "source": [
    "## usual values\n",
    "\n",
    "Iindex accepts every kind of value with a json representation (see example with extended values)"
   ]
  },
  {
   "cell_type": "code",
   "execution_count": 8,
   "metadata": {},
   "outputs": [
    {
     "name": "stdout",
     "output_type": "stream",
     "text": [
      "default :  \n",
      " [21, {\"test\": 21}, {\"21\": 211}, {\"ko\": 2, \"kobis\": 2}, [1.2, 3.4], \"2021-01-21T00:00:00+00:00\", \"name\"]\n",
      "\n"
     ]
    }
   ],
   "source": [
    "simple = Iindex([21, {'test':21}, {21:211}, {'ko':2, 'kobis':2}, [1.2, 3.4], '2021-01-21', 'name'])\n",
    "print('default : ', '\\n', simple)"
   ]
  },
  {
   "cell_type": "markdown",
   "metadata": {},
   "source": [
    "## indexing\n",
    "Element indexing works exactly like that for other standard Python sequences. "
   ]
  },
  {
   "cell_type": "code",
   "execution_count": 10,
   "metadata": {},
   "outputs": [
    {
     "name": "stdout",
     "output_type": "stream",
     "text": [
      "1\n",
      "[1, 6]\n",
      "[4, 5, 6, 7, 8, 9]\n",
      "[0, 1]\n",
      "[1, 3, 5]\n",
      "[6, 7]\n",
      "[7, 3, 1]\n"
     ]
    }
   ],
   "source": [
    "idx = Iindex([0, 1, 2, 3, 4, 5, 6, 7, 8, 9])\n",
    "print(idx[1])\n",
    "print(idx[1,6])\n",
    "print(idx[4:])\n",
    "print(idx[:2])\n",
    "print(idx[1:7:2])\n",
    "print(idx[-4:8])\n",
    "print(idx[-3,3,1])"
   ]
  },
  {
   "cell_type": "markdown",
   "metadata": {},
   "source": [
    "## Json compatibility\n",
    "\n",
    "Iindex objects are completely defined by their Json representation (i.e. the object reconstructed from its json representation is identical to the initial object)."
   ]
  },
  {
   "cell_type": "code",
   "execution_count": 9,
   "metadata": {},
   "outputs": [
    {
     "name": "stdout",
     "output_type": "stream",
     "text": [
      "True\n"
     ]
    }
   ],
   "source": [
    "simple2 = Iindex.Iobj(simple.json())\n",
    "simple3 = Iindex.Iobj(simple.to_obj())\n",
    "print(simple3==simple2==simple)"
   ]
  },
  {
   "cell_type": "code",
   "execution_count": null,
   "metadata": {},
   "outputs": [],
   "source": []
  }
 ],
 "metadata": {
  "kernelspec": {
   "display_name": "Python 3 (ipykernel)",
   "language": "python",
   "name": "python3"
  },
  "language_info": {
   "codemirror_mode": {
    "name": "ipython",
    "version": 3
   },
   "file_extension": ".py",
   "mimetype": "text/x-python",
   "name": "python",
   "nbconvert_exporter": "python",
   "pygments_lexer": "ipython3",
   "version": "3.9.12"
  }
 },
 "nbformat": 4,
 "nbformat_minor": 4
}
