{
 "cells": [
  {
   "cell_type": "markdown",
   "metadata": {},
   "source": [
    "# Iindex : Extended values\n",
    "\n",
    "----\n",
    "## Goals\n",
    "- show the diversity of values objects\n",
    "- present the representations of values\n",
    "\n",
    "## Prerequisite\n",
    "- read Iindex_creation page\n"
   ]
  },
  {
   "cell_type": "code",
   "execution_count": 1,
   "metadata": {},
   "outputs": [],
   "source": [
    "from observation import Nfield\n",
    "from datetime import datetime\n",
    "dpt75 = [[[2.4163, 48.8492], [2.4622, 48.8425], [2.4626, 48.8190], [2.4384, 48.8182], [2.4006, 48.8290], [2.3639, 48.8163],\n",
    "          [2.3318, 48.8170], [2.2790, 48.8324], [2.2242, 48.8535], [2.2317, 48.8690], [2.2584, 48.8803], [2.2774, 48.8779],\n",
    "          [2.3198, 48.9004], [2.3851, 48.9020], [2.4139, 48.8708], [2.4163, 48.8492]]]"
   ]
  },
  {
   "cell_type": "markdown",
   "metadata": {},
   "source": [
    "------\n",
    "## Dedicated formats \n",
    "Formats (objects) adapted to environmental data (ESValue) are also supported:\n",
    "- LocationValue : spatial data\n",
    "- DatationValue : temporal data\n",
    "- PropertyValue : property data\n",
    "- NamedValue : Annotated data\n",
    "\n",
    "All ESValue objects are build with a name (string) and a value (specific for each object). ESValue objects have several representations : {type:{name: value}}, {type: value}, {type: name}, {name: value}, {value} and several formats : dict, str, byte.\n",
    "\n"
   ]
  },
  {
   "cell_type": "markdown",
   "metadata": {},
   "source": [
    "### ESValue\n",
    "\n",
    "The ESValue object can be defined automatically.\n",
    "\n",
    "The val method return values with an usual format. "
   ]
  },
  {
   "cell_type": "code",
   "execution_count": 2,
   "metadata": {},
   "outputs": [
    {
     "name": "stdout",
     "output_type": "stream",
     "text": [
      "default :  \n",
      "     [21, {\"test\": 21}, {\":point\": [1.2, 3.4]}, [1.2, 3.4], {\":date\": \"2021-11-21\"}, \"2021-11-21\", {\"dict\": \"test\", \"example\": 212.8}]\n",
      "\n",
      "obj simple :  \n",
      " [21, {'test': 21}, <shapely.geometry.point.Point object at 0x0000027AE68E8160>, [1.2, 3.4], datetime.date(2021, 11, 21), '2021-11-21', {'dict': 'test', 'example': 212.8}] \n",
      "\n",
      "complete json obj :  \n",
      " [21, {\"test\": 21}, {\":point\": [1.2, 3.4]}, [1.2, 3.4], {\":date\": \"2021-11-21\"}, \"2021-11-21\", {\"dict\": \"test\", \"example\": 212.8}] \n",
      "\n",
      "only values :  \n",
      " [21, 21, [1.2, 3.4], [1.2, 3.4], '2021-11-21', '2021-11-21', ['test', 212.8]]\n"
     ]
    }
   ],
   "source": [
    "es = Nfield([21, {'test':21}, {':point':[1.2, 3.4]}, [1.2, 3.4], {':date':'2021-11-21'}, '2021-11-21',\n",
    "             {'dict': 'test', 'example': 212.8}])\n",
    "\n",
    "print('default : ', '\\n', es)\n",
    "print('obj simple : ', '\\n', es.to_ntv().to_obj(format='obj'), '\\n')\n",
    "print('complete json obj : ', '\\n', es.to_ntv(), '\\n')\n",
    "print('only values : ', '\\n', es.to_ntv().obj_value(simpleval=True))"
   ]
  },
  {
   "cell_type": "markdown",
   "metadata": {},
   "source": [
    "### LocationValue\n",
    "A location can be defined by a label (string), a position (geojson position coordinates), a geographical area (geojson polygon coordinates). Coordinates are conform to geoJSON standard.\n",
    "\n",
    "The vSimple method returns a single value from a LocationValue object (centroid for polygons)"
   ]
  },
  {
   "cell_type": "code",
   "execution_count": 3,
   "metadata": {
    "scrolled": true
   },
   "outputs": [
    {
     "name": "stdout",
     "output_type": "stream",
     "text": [
      "default :  \n",
      "     {\"::string\": [\"lille\", {\":point\": [2.35, 48.87]}, {\"lyon:point\": [4.83, 45.76]}, {\"dpt75:polygon\": [[[2.4163, 48.8492], [2.4622, 48.8425], [2.4626, 48.819], [2.4384, 48.8182], [2.4006, 48.829], [2.3639, 48.8163], [2.3318, 48.817], [2.279, 48.8324], [2.2242, 48.8535], [2.2317, 48.869], [2.2584, 48.8803], [2.2774, 48.8779], [2.3198, 48.9004], [2.3851, 48.902], [2.4139, 48.8708], [2.4163, 48.8492]]]}, {\"marseille:point\": [5.38, 43.3]}]}\n",
      "\n",
      "object  :  \n",
      " {'::point': [{':string': 'lille'}, <shapely.geometry.point.Point object at 0x0000027AE68E9B10>, {'lyon': <shapely.geometry.point.Point object at 0x0000027AE68E9A20>}, {'dpt75': <shapely.geometry.polygon.Polygon object at 0x0000027AE68E9960>}, {'marseille': <shapely.geometry.point.Point object at 0x0000027AE68E9930>}]} \n",
      "\n",
      "only simple values :  \n",
      " ['lille', [2.35, 48.87], [4.83, 45.76], [[[2.4163, 48.8492], [2.4622, 48.8425], [2.4626, 48.819], [2.4384, 48.8182], [2.4006, 48.829], [2.3639, 48.8163], [2.3318, 48.817], [2.279, 48.8324], [2.2242, 48.8535], [2.2317, 48.869], [2.2584, 48.8803], [2.2774, 48.8779], [2.3198, 48.9004], [2.3851, 48.902], [2.4139, 48.8708], [2.4163, 48.8492]]], [5.38, 43.3]]\n"
     ]
    }
   ],
   "source": [
    "paris       = [2.35, 48.87]\n",
    "lyon        = [4.83, 45.76]\n",
    "marseille   = [5.38, 43.3]\n",
    "\n",
    "loc = Nfield.ntv({'::point': [{':string': 'lille'}, paris, {'lyon': lyon}, {'dpt75:polygon': dpt75}, {'marseille': marseille}]})\n",
    "\n",
    "print('default : ', '\\n', loc)\n",
    "print('object  : ', '\\n', loc.to_ntv(def_type='point').to_obj(format='obj'), '\\n')\n",
    "print('only simple values : ', '\\n', loc.to_ntv().obj_value(simpleval=True))"
   ]
  },
  {
   "cell_type": "markdown",
   "metadata": {},
   "source": [
    "### DatationValue\n",
    "Just like for locations, datations can be defined by a description, an instant, an interval or a set of intervals. \n",
    "\n",
    "The vSimple method returns a single value from a DatationValue object (\"centroid\" of the set of intervals).\n",
    "\n",
    "All ESValue objects have binary representation."
   ]
  },
  {
   "cell_type": "code",
   "execution_count": 4,
   "metadata": {
    "scrolled": false
   },
   "outputs": [
    {
     "name": "stdout",
     "output_type": "stream",
     "text": [
      "default :  \n",
      "     {\"::datetime\": [{\"monday\": \"2021-10-01T00:00:00\"}, {\":string\": \"morning\"}, {\":date\": \"2021-11-21\"}, {\"morning\": [\"2020-02-04T08:00:00\", \"2020-02-04T12:00:00\"]}]}\n",
      "\n",
      "object  :  \n",
      " {'::datetime': [{'monday': datetime.datetime(2021, 10, 1, 0, 0)}, {':string': 'morning'}, datetime.date(2021, 11, 21), {'morning': [datetime.datetime(2020, 2, 4, 8, 0), datetime.datetime(2020, 2, 4, 12, 0)]}]} \n",
      "\n",
      "only simple values :  \n",
      " ['2021-10-01T00:00:00', 'morning', '2021-11-21', ['2020-02-04T08:00:00', '2020-02-04T12:00:00']] \n",
      "\n",
      "binary format :  \n",
      " b'\\xa1j::datetime\\x84\\xa1fmonday\\xc1\\x1aaVO\\x80\\xa1g:stringgmorning\\xc1\\x1aa\\x99\\x8c\\x00\\xa1gmorning\\x82\\xc1\\x1a^9$\\x80\\xc1\\x1a^9\\\\\\xc0'\n"
     ]
    }
   ],
   "source": [
    "morning = [datetime(2020, 2, 4, 8), datetime(2020, 2, 4, 12)]\n",
    "afternoon  = [datetime(2020, 2, 4, 14), datetime(2020, 2, 4, 18)]\n",
    "\n",
    "dat =  Nfield.ntv({'::datetime': [{'monday':datetime(2021,10,1)}, {':string': 'morning'}, {':date': '2021-11-21'},  \n",
    "                                  {'morning::': morning}\n",
    "                                 ]})\n",
    "\n",
    "print('default : ', '\\n', dat)\n",
    "print('object  : ', '\\n', dat.to_ntv().to_obj(format='obj'), '\\n')\n",
    "print('only simple values : ', '\\n', dat.to_ntv().obj_value(simpleval=True), '\\n')\n",
    "print('binary format : ', '\\n', dat.to_ntv().to_obj(encoded=True, format='cbor'))"
   ]
  },
  {
   "cell_type": "markdown",
   "metadata": {},
   "source": [
    "### PropertyValue\n",
    "\n",
    "PropertyValue objects are dictionnary with specific characteristics. One of them ('prp' key) corresponds to an applicable codification. \n",
    "\n",
    "The vSimple method returns the 'prp' key."
   ]
  },
  {
   "cell_type": "code",
   "execution_count": 5,
   "metadata": {
    "scrolled": true
   },
   "outputs": [
    {
     "name": "stdout",
     "output_type": "stream",
     "text": [
      "default :  \n",
      "     {\"air pollutants::iupac\": [[\"NO2\", {\"measure:json\": 21}, {\":unit\": \"\\u00b5g/m3\"}], [\"O3\", {\"measure:json\": 42}, {\":unit\": \"\\u00b5g/m3\"}]]}\n",
      "\n",
      "object  :  \n",
      " {'air pollutants::iupac': [['NO2', {'measure:json': 21}, {':unit': 'µg/m3'}], ['O3', {'measure:json': 42}, {':unit': 'µg/m3'}]]} \n",
      "\n",
      "only simple values :  \n",
      " [['NO2', 21, 'µg/m3'], ['O3', 42, 'µg/m3']]\n"
     ]
    }
   ],
   "source": [
    "pm10 = {'prp': 'PM10',  'unit': 'kg/m3', 'application': 'air'}\n",
    "pm25 = {'prp': 'PM2.5', 'unit': 'kg/m3'}\n",
    "\n",
    "prp = Nfield.ntv({'air pollutants':[{':iupac': 'NO2', 'measure': 21, ':unit': 'µg/m3'}, \n",
    "                                    {':iupac': 'O3',  'measure': 42, ':unit': 'µg/m3'}]})\n",
    "\n",
    "print('default : ', '\\n', prp)\n",
    "print('object  : ', '\\n', prp.to_ntv().to_obj(format='obj'), '\\n')\n",
    "print('only simple values : ', '\\n', prp.to_ntv().obj_value(simpleval=True))"
   ]
  },
  {
   "cell_type": "markdown",
   "metadata": {},
   "source": [
    "### NamedValue\n",
    "The NamedValue object is a name-value pair where values are usual Json data "
   ]
  },
  {
   "cell_type": "code",
   "execution_count": 6,
   "metadata": {},
   "outputs": [
    {
     "ename": "NameError",
     "evalue": "name 'Iindex' is not defined",
     "output_type": "error",
     "traceback": [
      "\u001b[1;31m---------------------------------------------------------------------------\u001b[0m",
      "\u001b[1;31mNameError\u001b[0m                                 Traceback (most recent call last)",
      "\u001b[1;32m~\\AppData\\Local\\Temp\\ipykernel_23152\\857531456.py\u001b[0m in \u001b[0;36m<module>\u001b[1;34m\u001b[0m\n\u001b[1;32m----> 1\u001b[1;33m \u001b[0mnam\u001b[0m \u001b[1;33m=\u001b[0m \u001b[0mIindex\u001b[0m\u001b[1;33m(\u001b[0m\u001b[1;33m[\u001b[0m\u001b[1;36m21\u001b[0m\u001b[1;33m,\u001b[0m \u001b[1;33m{\u001b[0m\u001b[1;34m'test'\u001b[0m\u001b[1;33m:\u001b[0m \u001b[1;36m21\u001b[0m\u001b[1;33m}\u001b[0m\u001b[1;33m,\u001b[0m \u001b[1;33m{\u001b[0m\u001b[1;34m'list'\u001b[0m\u001b[1;33m:\u001b[0m \u001b[1;33m[\u001b[0m\u001b[1;36m1\u001b[0m\u001b[1;33m,\u001b[0m\u001b[1;36m2\u001b[0m\u001b[1;33m,\u001b[0m\u001b[1;36m3\u001b[0m\u001b[1;33m]\u001b[0m\u001b[1;33m}\u001b[0m\u001b[1;33m,\u001b[0m \u001b[1;32mTrue\u001b[0m\u001b[1;33m,\u001b[0m \u001b[1;33m{\u001b[0m\u001b[1;34m'dictionnary'\u001b[0m\u001b[1;33m:\u001b[0m\u001b[1;33m{\u001b[0m\u001b[1;36m10\u001b[0m\u001b[1;33m:\u001b[0m\u001b[1;36m1\u001b[0m\u001b[1;33m,\u001b[0m \u001b[1;36m100\u001b[0m\u001b[1;33m:\u001b[0m\u001b[1;36m2\u001b[0m\u001b[1;33m}\u001b[0m\u001b[1;33m}\u001b[0m\u001b[1;33m,\u001b[0m \u001b[1;33m{\u001b[0m\u001b[1;36m21\u001b[0m\u001b[1;33m:\u001b[0m\u001b[1;36m211\u001b[0m\u001b[1;33m}\u001b[0m\u001b[1;33m,\u001b[0m \u001b[1;33m[\u001b[0m\u001b[1;36m1.2\u001b[0m\u001b[1;33m,\u001b[0m \u001b[1;36m3.4\u001b[0m\u001b[1;33m]\u001b[0m\u001b[1;33m,\u001b[0m \u001b[1;34m'name'\u001b[0m\u001b[1;33m]\u001b[0m\u001b[1;33m,\u001b[0m \u001b[0mtypevalue\u001b[0m\u001b[1;33m=\u001b[0m\u001b[1;34m'NamedValue'\u001b[0m\u001b[1;33m)\u001b[0m\u001b[1;33m\u001b[0m\u001b[1;33m\u001b[0m\u001b[0m\n\u001b[0m\u001b[0;32m      2\u001b[0m \u001b[1;33m\u001b[0m\u001b[0m\n\u001b[0;32m      3\u001b[0m \u001b[0mprint\u001b[0m\u001b[1;33m(\u001b[0m\u001b[1;34m'default : '\u001b[0m\u001b[1;33m,\u001b[0m \u001b[1;34m'\\n'\u001b[0m\u001b[1;33m,\u001b[0m \u001b[0mnam\u001b[0m\u001b[1;33m)\u001b[0m\u001b[1;33m\u001b[0m\u001b[1;33m\u001b[0m\u001b[0m\n\u001b[0;32m      4\u001b[0m \u001b[0mprint\u001b[0m\u001b[1;33m(\u001b[0m\u001b[1;34m'complete json obj : '\u001b[0m\u001b[1;33m,\u001b[0m \u001b[1;34m'\\n'\u001b[0m\u001b[1;33m,\u001b[0m \u001b[0mnam\u001b[0m\u001b[1;33m.\u001b[0m\u001b[0mjson\u001b[0m\u001b[1;33m(\u001b[0m\u001b[1;33m)\u001b[0m\u001b[1;33m,\u001b[0m \u001b[1;34m'\\n'\u001b[0m\u001b[1;33m)\u001b[0m\u001b[1;33m\u001b[0m\u001b[1;33m\u001b[0m\u001b[0m\n\u001b[0;32m      5\u001b[0m \u001b[0mprint\u001b[0m\u001b[1;33m(\u001b[0m\u001b[1;34m'only values : '\u001b[0m\u001b[1;33m,\u001b[0m \u001b[1;34m'\\n'\u001b[0m\u001b[1;33m,\u001b[0m \u001b[0mnam\u001b[0m\u001b[1;33m.\u001b[0m\u001b[0mval\u001b[0m\u001b[1;33m)\u001b[0m\u001b[1;33m\u001b[0m\u001b[1;33m\u001b[0m\u001b[0m\n",
      "\u001b[1;31mNameError\u001b[0m: name 'Iindex' is not defined"
     ]
    }
   ],
   "source": [
    "nam = Iindex([21, {'test': 21}, {'list': [1,2,3]}, True, {'dictionnary':{10:1, 100:2}}, {21:211}, [1.2, 3.4], 'name'], typevalue='NamedValue')\n",
    "\n",
    "print('default : ', '\\n', nam)\n",
    "print('complete json obj : ', '\\n', nam.json(), '\\n')\n",
    "print('only values : ', '\\n', nam.val)"
   ]
  },
  {
   "cell_type": "markdown",
   "metadata": {},
   "source": [
    "### ExternValue\n",
    "The ExternValue object is a name-value pair where values are structured objects (e.g. Iindex).\n",
    "\n",
    "To respect the json object-representation equivalence, only objects that have a json format are allowed.\n"
   ]
  },
  {
   "cell_type": "code",
   "execution_count": null,
   "metadata": {},
   "outputs": [],
   "source": [
    "ext = Iindex([es, loc, prp, nam])\n",
    "\n",
    "print('default : ', '\\n', ext)\n",
    "print('complete json obj : ', '\\n', ext.json(), '\\n')\n",
    "print('only simple values : ', '\\n', ext.vSimple())"
   ]
  },
  {
   "cell_type": "markdown",
   "metadata": {},
   "source": [
    "## Json compatibility\n",
    "\n",
    "Just like for usual data, Iindex objects are completely defined by their Json representation for any format (object, string, binary).\n",
    "\n",
    "i.e. the object reconstructed from its json representation is identical to the initial object."
   ]
  },
  {
   "cell_type": "code",
   "execution_count": null,
   "metadata": {
    "scrolled": true
   },
   "outputs": [],
   "source": [
    "print('Datation object compatibility : ', dat ==\n",
    "      Iindex.obj(dat.json()) == \n",
    "      Iindex.obj(dat.to_obj(), typevalue='DatationValue') == \n",
    "      Iindex.obj(dat.to_obj(encoded=True, encode_format='cbor'), typevalue='DatationValue'))\n",
    "print('Location object compatibility : ', loc ==\n",
    "      Iindex.obj(loc.json()) == \n",
    "      Iindex.obj(loc.to_obj(), typevalue='LocationValue') == \n",
    "      Iindex.obj(loc.to_obj(encoded=True, encode_format='cbor'), typevalue='LocationValue'))\n",
    "print('Property object compatibility : ', prp ==\n",
    "      Iindex.obj(prp.json()) == \n",
    "      Iindex.obj(prp.to_obj(), typevalue='PropertyValue') == \n",
    "      Iindex.obj(prp.to_obj(encoded=True, encode_format='cbor'), typevalue='PropertyValue'))\n",
    "print('Named    object compatibility : ', nam == \n",
    "      Iindex.obj(nam.json()) == \n",
    "      Iindex.obj(nam.to_obj(), typevalue='NamedValue') == \n",
    "      Iindex.obj(nam.to_obj(encoded=True, encode_format='cbor'), typevalue='NamedValue'))\n",
    "print('Extern   object compatibility : ', ext ==\n",
    "      Iindex.obj(ext.json()) == \n",
    "      Iindex.obj(ext.json(encoded=True, encode_format='cbor')))"
   ]
  }
 ],
 "metadata": {
  "kernelspec": {
   "display_name": "Python 3 (ipykernel)",
   "language": "python",
   "name": "python3"
  },
  "language_info": {
   "codemirror_mode": {
    "name": "ipython",
    "version": 3
   },
   "file_extension": ".py",
   "mimetype": "text/x-python",
   "name": "python",
   "nbconvert_exporter": "python",
   "pygments_lexer": "ipython3",
   "version": "3.10.9"
  }
 },
 "nbformat": 4,
 "nbformat_minor": 4
}
