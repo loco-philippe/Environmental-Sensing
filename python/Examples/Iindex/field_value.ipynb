{
 "cells": [
  {
   "cell_type": "markdown",
   "metadata": {},
   "source": [
    "# Iindex : Extended values\n",
    "\n",
    "----\n",
    "## Goals\n",
    "- show the diversity of values objects\n",
    "- present the representations of values\n",
    "\n",
    "## Prerequisite\n",
    "- read Iindex_creation page\n"
   ]
  },
  {
   "cell_type": "code",
   "execution_count": 1,
   "metadata": {},
   "outputs": [],
   "source": [
    "from observation import Nfield\n",
    "from datetime import datetime\n",
    "dpt75 = [[[2.4163, 48.8492], [2.4622, 48.8425], [2.4626, 48.8190], [2.4384, 48.8182], [2.4006, 48.8290], [2.3639, 48.8163],\n",
    "          [2.3318, 48.8170], [2.2790, 48.8324], [2.2242, 48.8535], [2.2317, 48.8690], [2.2584, 48.8803], [2.2774, 48.8779],\n",
    "          [2.3198, 48.9004], [2.3851, 48.9020], [2.4139, 48.8708], [2.4163, 48.8492]]]"
   ]
  },
  {
   "cell_type": "markdown",
   "metadata": {},
   "source": [
    "------\n",
    "## Dedicated formats \n",
    "Formats (objects) adapted to environmental data (ESValue) are also supported:\n",
    "- LocationValue : spatial data\n",
    "- DatationValue : temporal data\n",
    "- PropertyValue : property data\n",
    "- NamedValue : Annotated data\n",
    "\n",
    "All ESValue objects are build with a name (string) and a value (specific for each object). ESValue objects have several representations : {type:{name: value}}, {type: value}, {type: name}, {name: value}, {value} and several formats : dict, str, byte.\n",
    "\n"
   ]
  },
  {
   "cell_type": "markdown",
   "metadata": {},
   "source": [
    "### ESValue\n",
    "\n",
    "The ESValue object can be defined automatically.\n",
    "\n",
    "The val method return values with an usual format. "
   ]
  },
  {
   "cell_type": "code",
   "execution_count": 2,
   "metadata": {},
   "outputs": [
    {
     "name": "stdout",
     "output_type": "stream",
     "text": [
      "default :  \n",
      "     [21, {\"test\": 21}, {\":point\": [1.2, 3.4]}, [1.2, 3.4], {\":date\": \"2021-11-21\"}, \"2021-11-21\", {\"dict\": \"test\", \"example\": 212.8}]\n",
      "\n",
      "obj simple :  \n",
      " [21, {'test': 21}, <shapely.geometry.point.Point object at 0x00000185622CDCF0>, [1.2, 3.4], datetime.date(2021, 11, 21), '2021-11-21', {'dict': 'test', 'example': 212.8}] \n",
      "\n",
      "complete json obj :  \n",
      " [21, {\"test\": 21}, {\":point\": [1.2, 3.4]}, [1.2, 3.4], {\":date\": \"2021-11-21\"}, \"2021-11-21\", {\"dict\": \"test\", \"example\": 212.8}] \n",
      "\n",
      "only values :  \n",
      " [21, 21, [1.2, 3.4], [1.2, 3.4], '2021-11-21', '2021-11-21', ['test', 212.8]]\n"
     ]
    }
   ],
   "source": [
    "es = Nfield([21, {'test':21}, {':point':[1.2, 3.4]}, [1.2, 3.4], {':date':'2021-11-21'}, '2021-11-21',\n",
    "             {'dict': 'test', 'example': 212.8}])\n",
    "\n",
    "print('default : ', '\\n', es)\n",
    "print('obj simple : ', '\\n', es.to_ntv().to_obj(format='obj'), '\\n')\n",
    "print('complete json obj : ', '\\n', es.to_ntv(), '\\n')\n",
    "print('only values : ', '\\n', es.to_ntv().obj_value(simpleval=True))"
   ]
  },
  {
   "cell_type": "markdown",
   "metadata": {},
   "source": [
    "### LocationValue\n",
    "A location can be defined by a label (string), a position (geojson position coordinates), a geographical area (geojson polygon coordinates). Coordinates are conform to geoJSON standard.\n",
    "\n",
    "The vSimple method returns a single value from a LocationValue object (centroid for polygons)"
   ]
  },
  {
   "cell_type": "code",
   "execution_count": 3,
   "metadata": {
    "scrolled": true
   },
   "outputs": [
    {
     "name": "stdout",
     "output_type": "stream",
     "text": [
      "default :  \n",
      "     {\"::string\": [\"lille\", {\":point\": [2.35, 48.87]}, {\"lyon:point\": [4.83, 45.76]}, {\"dpt75:polygon\": [[[2.4163, 48.8492], [2.4622, 48.8425], [2.4626, 48.819], [2.4384, 48.8182], [2.4006, 48.829], [2.3639, 48.8163], [2.3318, 48.817], [2.279, 48.8324], [2.2242, 48.8535], [2.2317, 48.869], [2.2584, 48.8803], [2.2774, 48.8779], [2.3198, 48.9004], [2.3851, 48.902], [2.4139, 48.8708], [2.4163, 48.8492]]]}, {\"marseille:point\": [5.38, 43.3]}]}\n",
      "\n",
      "object  :  \n",
      " {'::point': [{':string': 'lille'}, <shapely.geometry.point.Point object at 0x00000185622CD7E0>, {'lyon': <shapely.geometry.point.Point object at 0x000001855D511750>}, {'dpt75': <shapely.geometry.polygon.Polygon object at 0x00000185622CED10>}, {'marseille': <shapely.geometry.point.Point object at 0x00000185622CD300>}]} \n",
      "\n",
      "only simple values :  \n",
      " ['lille', [2.35, 48.87], [4.83, 45.76], [[[2.4163, 48.8492], [2.4622, 48.8425], [2.4626, 48.819], [2.4384, 48.8182], [2.4006, 48.829], [2.3639, 48.8163], [2.3318, 48.817], [2.279, 48.8324], [2.2242, 48.8535], [2.2317, 48.869], [2.2584, 48.8803], [2.2774, 48.8779], [2.3198, 48.9004], [2.3851, 48.902], [2.4139, 48.8708], [2.4163, 48.8492]]], [5.38, 43.3]]\n"
     ]
    }
   ],
   "source": [
    "paris       = [2.35, 48.87]\n",
    "lyon        = [4.83, 45.76]\n",
    "marseille   = [5.38, 43.3]\n",
    "\n",
    "loc = Nfield.ntv({'::point': [{':string': 'lille'}, paris, {'lyon': lyon}, {'dpt75:polygon': dpt75}, {'marseille': marseille}]})\n",
    "\n",
    "print('default : ', '\\n', loc)\n",
    "print('object  : ', '\\n', loc.to_ntv(def_type='point').to_obj(format='obj'), '\\n')\n",
    "print('only simple values : ', '\\n', loc.to_ntv().obj_value(simpleval=True))"
   ]
  },
  {
   "cell_type": "markdown",
   "metadata": {},
   "source": [
    "### DatationValue\n",
    "Just like for locations, datations can be defined by a description, an instant, an interval or a set of intervals. \n",
    "\n",
    "The vSimple method returns a single value from a DatationValue object (\"centroid\" of the set of intervals).\n",
    "\n",
    "All ESValue objects have binary representation."
   ]
  },
  {
   "cell_type": "code",
   "execution_count": 4,
   "metadata": {
    "scrolled": false
   },
   "outputs": [
    {
     "name": "stdout",
     "output_type": "stream",
     "text": [
      "default :  \n",
      "     {\"::datetime\": [{\"monday\": \"2021-10-01T00:00:00\"}, {\":string\": \"morning\"}, {\":date\": \"2021-11-21\"}, {\"morning\": [\"2020-02-04T08:00:00\", \"2020-02-04T12:00:00\"]}]}\n",
      "\n",
      "object  :  \n",
      " {'::datetime': [{'monday': datetime.datetime(2021, 10, 1, 0, 0)}, {':string': 'morning'}, datetime.date(2021, 11, 21), {'morning': [datetime.datetime(2020, 2, 4, 8, 0), datetime.datetime(2020, 2, 4, 12, 0)]}]} \n",
      "\n",
      "only simple values :  \n",
      " ['2021-10-01T00:00:00', 'morning', '2021-11-21', ['2020-02-04T08:00:00', '2020-02-04T12:00:00']] \n",
      "\n",
      "binary format :  \n",
      " b'\\xa1j::datetime\\x84\\xa1fmonday\\xc1\\x1aaVO\\x80\\xa1g:stringgmorning\\xc1\\x1aa\\x99\\x8c\\x00\\xa1gmorning\\x82\\xc1\\x1a^9$\\x80\\xc1\\x1a^9\\\\\\xc0'\n"
     ]
    }
   ],
   "source": [
    "morning = [datetime(2020, 2, 4, 8), datetime(2020, 2, 4, 12)]\n",
    "afternoon  = [datetime(2020, 2, 4, 14), datetime(2020, 2, 4, 18)]\n",
    "\n",
    "dat =  Nfield.ntv({'::datetime': [{'monday':datetime(2021,10,1)}, {':string': 'morning'}, {':date': '2021-11-21'},  \n",
    "                                  {'morning::': morning}\n",
    "                                 ]})\n",
    "\n",
    "print('default : ', '\\n', dat)\n",
    "print('object  : ', '\\n', dat.to_ntv().to_obj(format='obj'), '\\n')\n",
    "print('only simple values : ', '\\n', dat.to_ntv().obj_value(simpleval=True), '\\n')\n",
    "print('binary format : ', '\\n', dat.to_ntv().to_obj(encoded=True, format='cbor'))"
   ]
  },
  {
   "cell_type": "markdown",
   "metadata": {},
   "source": [
    "### PropertyValue\n",
    "\n",
    "PropertyValue objects are dictionnary with specific characteristics. One of them ('prp' key) corresponds to an applicable codification. \n",
    "\n",
    "The vSimple method returns the 'prp' key."
   ]
  },
  {
   "cell_type": "code",
   "execution_count": 12,
   "metadata": {
    "scrolled": true
   },
   "outputs": [
    {
     "name": "stdout",
     "output_type": "stream",
     "text": [
      "default :  \n",
      "     {\"air pollutants::iupac\": [[\"NO2\", {\"measure:json\": 21}, {\":unit\": \"\\u00b5g/m3\"}], [\"O3\", {\"measure:json\": 42}, {\":unit\": \"\\u00b5g/m3\"}], [\"CH4\", {\"measure:json\": 49}, {\":unit\": \"\\u00b5g/m3\"}]]}\n",
      "\n",
      "object  :  \n",
      " {'air pollutants::iupac': [['NO2', {'measure:json': 21}, {':unit': 'µg/m3'}], ['O3', {'measure:json': 42}, {':unit': 'µg/m3'}], ['CH4', {'measure:json': 49}, {':unit': 'µg/m3'}]]} \n",
      "\n",
      "only simple values :  \n",
      " [['NO2', 21, 'µg/m3'], ['O3', 42, 'µg/m3'], ['CH4', 49, 'µg/m3']]\n"
     ]
    }
   ],
   "source": [
    "prp = Nfield.ntv({'air pollutants':[{':iupac': 'NO2', 'measure': 21, ':unit': 'µg/m3'}, \n",
    "                                    {':iupac': 'O3',  'measure': 42, ':unit': 'µg/m3'},\n",
    "                                    {':iupac': 'CH4', 'measure': 49, ':unit': 'µg/m3'}]})\n",
    "\n",
    "print('default : ', '\\n', prp)\n",
    "print('object  : ', '\\n', prp.to_ntv().to_obj(format='obj'), '\\n')\n",
    "print('only simple values : ', '\\n', prp.to_ntv().obj_value(simpleval=True))"
   ]
  },
  {
   "cell_type": "markdown",
   "metadata": {},
   "source": [
    "### NamedValue\n",
    "The NamedValue object is a name-value pair where values are usual Json data "
   ]
  },
  {
   "cell_type": "code",
   "execution_count": 7,
   "metadata": {},
   "outputs": [
    {
     "name": "stdout",
     "output_type": "stream",
     "text": [
      "default :  \n",
      "     [21, {\"test\": 21}, {\"list\": [1, 2, 3]}, true, {\"dictionnary\": [{\"10\": 1}, {\"100\": 2}]}, {\"21\": 211}, [1.2, 3.4], \"name\"]\n",
      "\n",
      "object  :  \n",
      " [21, {'test': 21}, {'list': [1, 2, 3]}, True, {'dictionnary': [{10: 1}, {100: 2}]}, {21: 211}, [1.2, 3.4], 'name'] \n",
      "\n",
      "only simple values :  \n",
      " [21, 21, [1, 2, 3], True, [{10: 1}, {100: 2}], {21: 211}, [1.2, 3.4], 'name']\n"
     ]
    }
   ],
   "source": [
    "nam = Nfield.ntv([21, {'test': 21}, {'list': [1,2,3]}, True, {'dictionnary':{10:1, 100:2}}, {21:211}, [1.2, 3.4], 'name'])\n",
    "\n",
    "print('default : ', '\\n', nam)\n",
    "print('object  : ', '\\n', nam.to_ntv().to_obj(format='obj'), '\\n')\n",
    "print('only simple values : ', '\\n', nam.to_ntv().obj_value(simpleval=True))"
   ]
  },
  {
   "cell_type": "code",
   "execution_count": 13,
   "metadata": {},
   "outputs": [
    {
     "name": "stdout",
     "output_type": "stream",
     "text": [
      "default :  \n",
      "     {\"::field\": [{\"field\": [21, {\"test\": 21}, {\":point\": [1.2, 3.4]}, [1.2, 3.4], {\":date\": \"2021-11-21\"}, \"2021-11-21\", {\"dict\": \"test\", \"example\": 212.8}]}, {\"field\": {\"::string\": [\"lille\", {\":point\": [2.35, 48.87]}, {\"lyon:point\": [4.83, 45.76]}, {\"dpt75:polygon\": [[[2.4163, 48.8492], [2.4622, 48.8425], [2.4626, 48.819], [2.4384, 48.8182], [2.4006, 48.829], [2.3639, 48.8163], [2.3318, 48.817], [2.279, 48.8324], [2.2242, 48.8535], [2.2317, 48.869], [2.2584, 48.8803], [2.2774, 48.8779], [2.3198, 48.9004], [2.3851, 48.902], [2.4139, 48.8708], [2.4163, 48.8492]]]}, {\"marseille:point\": [5.38, 43.3]}]}}, {\"field\": {\"air pollutants::iupac\": [[\"NO2\", {\"measure:json\": 21}, {\":unit\": \"\\u00b5g/m3\"}], [\"O3\", {\"measure:json\": 42}, {\":unit\": \"\\u00b5g/m3\"}], [\"CH4\", {\"measure:json\": 49}, {\":unit\": \"\\u00b5g/m3\"}]]}}, {\"field\": [21, {\"test\": 21}, {\"list\": [1, 2, 3]}, true, {\"dictionnary\": [{\"10\": 1}, {\"100\": 2}]}, {\"21\": 211}, [1.2, 3.4], \"name\"]}]}\n",
      "\n",
      "object  :  \n",
      " {'::field': [{'field': 0                                    21\n",
      "1                          {'test': 21}\n",
      "2                {':point': [1.2, 3.4]}\n",
      "3                            [1.2, 3.4]\n",
      "4               {':date': '2021-11-21'}\n",
      "5                            2021-11-21\n",
      "6    {'dict': 'test', 'example': 212.8}\n",
      "dtype: object}, {'field': 0                                                lille\n",
      "1                            {':point': [2.35, 48.87]}\n",
      "2                        {'lyon:point': [4.83, 45.76]}\n",
      "3    {'dpt75:polygon': [[[2.4163, 48.8492], [2.4622...\n",
      "4                    {'marseille:point': [5.38, 43.3]}\n",
      "dtype: string}, {'field': 0    [NO2, {'measure:json': 21}, {':unit': 'µg/m3'}]\n",
      "1     [O3, {'measure:json': 42}, {':unit': 'µg/m3'}]\n",
      "2    [CH4, {'measure:json': 49}, {':unit': 'µg/m3'}]\n",
      "Name: air pollutants::iupac, dtype: object}, {'field': 0                                          21\n",
      "1                                {'test': 21}\n",
      "2                         {'list': [1, 2, 3]}\n",
      "3                                        True\n",
      "4    {'dictionnary': [{'10': 1}, {'100': 2}]}\n",
      "5                                 {'21': 211}\n",
      "6                                  [1.2, 3.4]\n",
      "7                                        name\n",
      "dtype: object}]} \n",
      "\n",
      "only simple values :  \n",
      " [[21, {'test': 21}, {':point': [1.2, 3.4]}, [1.2, 3.4], {':date': '2021-11-21'}, '2021-11-21', {'dict': 'test', 'example': 212.8}], {'::string': ['lille', {':point': [2.35, 48.87]}, {'lyon:point': [4.83, 45.76]}, {'dpt75:polygon': [[[2.4163, 48.8492], [2.4622, 48.8425], [2.4626, 48.819], [2.4384, 48.8182], [2.4006, 48.829], [2.3639, 48.8163], [2.3318, 48.817], [2.279, 48.8324], [2.2242, 48.8535], [2.2317, 48.869], [2.2584, 48.8803], [2.2774, 48.8779], [2.3198, 48.9004], [2.3851, 48.902], [2.4139, 48.8708], [2.4163, 48.8492]]]}, {'marseille:point': [5.38, 43.3]}]}, {'air pollutants::iupac': [['NO2', {'measure:json': 21}, {':unit': 'µg/m3'}], ['O3', {'measure:json': 42}, {':unit': 'µg/m3'}], ['CH4', {'measure:json': 49}, {':unit': 'µg/m3'}]]}, [21, {'test': 21}, {'list': [1, 2, 3]}, True, {'dictionnary': [{10: 1}, {100: 2}]}, {21: 211}, [1.2, 3.4], 'name']]\n"
     ]
    }
   ],
   "source": [
    "ext = Nfield.ntv([{'field': es}, {'field':loc}, {'field':prp}, {'field':nam}])\n",
    "\n",
    "print('default : ', '\\n', ext)\n",
    "print('object  : ', '\\n', ext.to_ntv().to_obj(format='obj'), '\\n')\n",
    "print('only simple values : ', '\\n', ext.to_ntv().obj_value(simpleval=True))"
   ]
  },
  {
   "cell_type": "markdown",
   "metadata": {},
   "source": [
    "## Json compatibility\n",
    "\n",
    "Just like for usual data, Iindex objects are completely defined by their Json representation for any format (object, string, binary).\n",
    "\n",
    "i.e. the object reconstructed from its json representation is identical to the initial object."
   ]
  },
  {
   "cell_type": "code",
   "execution_count": 23,
   "metadata": {
    "scrolled": true
   },
   "outputs": [
    {
     "name": "stdout",
     "output_type": "stream",
     "text": [
      "Datation object compatibility :  True\n",
      "Datation object compatibility :  False\n",
      "    {\"::datetime\": [{\"monday\": \"2021-10-01T00:00:00\"}, {\":string\": \"morning\"}, {\":date\": \"2021-11-21\"}, {\"morning\": [\"2020-02-04T08:00:00\", \"2020-02-04T12:00:00\"]}]}\n",
      "\n",
      "    {\"::datetime\": [{\"monday\": \"2021-10-01T00:00:00\"}, {\":string\": \"morning\"}, {\":date\": \"2021-11-21\"}, {\"morning\": [\"2020-02-04T08:00:00\", \"2020-02-04T12:00:00\"]}]}\n",
      "\n"
     ]
    },
    {
     "ename": "TypeError",
     "evalue": "Object of type datetime is not JSON serializable",
     "output_type": "error",
     "traceback": [
      "\u001b[1;31m---------------------------------------------------------------------------\u001b[0m",
      "\u001b[1;31mTypeError\u001b[0m                                 Traceback (most recent call last)",
      "\u001b[1;32m~\\AppData\\Local\\Temp\\ipykernel_41576\\3788509066.py\u001b[0m in \u001b[0;36m<module>\u001b[1;34m\u001b[0m\n\u001b[0;32m      6\u001b[0m \u001b[0mprint\u001b[0m\u001b[1;33m(\u001b[0m\u001b[0mdat\u001b[0m\u001b[1;33m)\u001b[0m\u001b[1;33m\u001b[0m\u001b[1;33m\u001b[0m\u001b[0m\n\u001b[0;32m      7\u001b[0m \u001b[0mprint\u001b[0m\u001b[1;33m(\u001b[0m\u001b[0mNfield\u001b[0m\u001b[1;33m.\u001b[0m\u001b[0mntv\u001b[0m\u001b[1;33m(\u001b[0m\u001b[0mdat\u001b[0m\u001b[1;33m.\u001b[0m\u001b[0mto_ntv\u001b[0m\u001b[1;33m(\u001b[0m\u001b[1;33m)\u001b[0m\u001b[1;33m)\u001b[0m\u001b[1;33m)\u001b[0m\u001b[1;33m\u001b[0m\u001b[1;33m\u001b[0m\u001b[0m\n\u001b[1;32m----> 8\u001b[1;33m \u001b[0mprint\u001b[0m\u001b[1;33m(\u001b[0m\u001b[0mNfield\u001b[0m\u001b[1;33m.\u001b[0m\u001b[0mfrom_ntv\u001b[0m\u001b[1;33m(\u001b[0m\u001b[0mdat\u001b[0m\u001b[1;33m.\u001b[0m\u001b[0mto_ntv\u001b[0m\u001b[1;33m(\u001b[0m\u001b[1;33m)\u001b[0m\u001b[1;33m.\u001b[0m\u001b[0mto_obj\u001b[0m\u001b[1;33m(\u001b[0m\u001b[0mencoded\u001b[0m\u001b[1;33m=\u001b[0m\u001b[1;32mTrue\u001b[0m\u001b[1;33m,\u001b[0m \u001b[0mformat\u001b[0m\u001b[1;33m=\u001b[0m\u001b[1;34m'obj'\u001b[0m\u001b[1;33m)\u001b[0m\u001b[1;33m,\u001b[0m \u001b[0mdecode_str\u001b[0m\u001b[1;33m=\u001b[0m\u001b[1;32mTrue\u001b[0m\u001b[1;33m)\u001b[0m\u001b[1;33m)\u001b[0m\u001b[1;33m\u001b[0m\u001b[1;33m\u001b[0m\u001b[0m\n\u001b[0m\u001b[0;32m      9\u001b[0m '''print('Location object compatibility : ', loc ==\n\u001b[0;32m     10\u001b[0m       \u001b[0mIindex\u001b[0m\u001b[1;33m.\u001b[0m\u001b[0mobj\u001b[0m\u001b[1;33m(\u001b[0m\u001b[0mloc\u001b[0m\u001b[1;33m.\u001b[0m\u001b[0mjson\u001b[0m\u001b[1;33m(\u001b[0m\u001b[1;33m)\u001b[0m\u001b[1;33m)\u001b[0m \u001b[1;33m==\u001b[0m\u001b[1;33m\u001b[0m\u001b[1;33m\u001b[0m\u001b[0m\n",
      "\u001b[1;32m~\\github\\Environmental-Sensing\\python\\observation\\ntvfield.py\u001b[0m in \u001b[0;36mfrom_ntv\u001b[1;34m(cls, ntv_value, extkeys, reindex, decode_str)\u001b[0m\n\u001b[0;32m    237\u001b[0m         \u001b[1;32mif\u001b[0m \u001b[0mkeys\u001b[0m \u001b[1;32mis\u001b[0m \u001b[1;32mNone\u001b[0m\u001b[1;33m:\u001b[0m\u001b[1;33m\u001b[0m\u001b[1;33m\u001b[0m\u001b[0m\n\u001b[0;32m    238\u001b[0m             \u001b[0mkeys\u001b[0m \u001b[1;33m=\u001b[0m \u001b[0mlist\u001b[0m\u001b[1;33m(\u001b[0m\u001b[0mrange\u001b[0m\u001b[1;33m(\u001b[0m\u001b[0mlen\u001b[0m\u001b[1;33m(\u001b[0m\u001b[0mcodec\u001b[0m\u001b[1;33m)\u001b[0m\u001b[1;33m)\u001b[0m\u001b[1;33m)\u001b[0m\u001b[1;33m\u001b[0m\u001b[1;33m\u001b[0m\u001b[0m\n\u001b[1;32m--> 239\u001b[1;33m         \u001b[1;32mreturn\u001b[0m \u001b[0mcls\u001b[0m\u001b[1;33m(\u001b[0m\u001b[0mcodec\u001b[0m\u001b[1;33m=\u001b[0m\u001b[0mcodec\u001b[0m\u001b[1;33m,\u001b[0m \u001b[0mname\u001b[0m\u001b[1;33m=\u001b[0m\u001b[0mname\u001b[0m\u001b[1;33m,\u001b[0m \u001b[0mkeys\u001b[0m\u001b[1;33m=\u001b[0m\u001b[0mkeys\u001b[0m\u001b[1;33m,\u001b[0m \u001b[0mreindex\u001b[0m\u001b[1;33m=\u001b[0m\u001b[0mreindex\u001b[0m\u001b[1;33m)\u001b[0m\u001b[1;33m\u001b[0m\u001b[1;33m\u001b[0m\u001b[0m\n\u001b[0m\u001b[0;32m    240\u001b[0m \u001b[1;33m\u001b[0m\u001b[0m\n\u001b[0;32m    241\u001b[0m     \"\"\"@classmethod\n",
      "\u001b[1;32m~\\github\\Environmental-Sensing\\python\\observation\\fields.py\u001b[0m in \u001b[0;36m__init__\u001b[1;34m(self, codec, name, keys, lendefault, reindex, fast)\u001b[0m\n\u001b[0;32m     35\u001b[0m     def __init__(self, codec=None, name=None, keys=None,\n\u001b[0;32m     36\u001b[0m                  lendefault=0, reindex=False, fast=False):\n\u001b[1;32m---> 37\u001b[1;33m         super().__init__(codec=codec, name=name, keys=keys,\n\u001b[0m\u001b[0;32m     38\u001b[0m                      lendefault=lendefault, reindex=reindex, fast=fast)\n\u001b[0;32m     39\u001b[0m \u001b[1;33m\u001b[0m\u001b[0m\n",
      "\u001b[1;32m~\\github\\Environmental-Sensing\\python\\observation\\ntvfield.py\u001b[0m in \u001b[0;36m__init__\u001b[1;34m(self, codec, name, keys, lendefault, reindex, fast)\u001b[0m\n\u001b[0;32m    180\u001b[0m         \u001b[0mself\u001b[0m\u001b[1;33m.\u001b[0m\u001b[0mname\u001b[0m \u001b[1;33m=\u001b[0m \u001b[0mname\u001b[0m\u001b[1;33m\u001b[0m\u001b[1;33m\u001b[0m\u001b[0m\n\u001b[0;32m    181\u001b[0m         \u001b[1;32mif\u001b[0m \u001b[0mreindex\u001b[0m\u001b[1;33m:\u001b[0m\u001b[1;33m\u001b[0m\u001b[1;33m\u001b[0m\u001b[0m\n\u001b[1;32m--> 182\u001b[1;33m             \u001b[0mself\u001b[0m\u001b[1;33m.\u001b[0m\u001b[0mreindex\u001b[0m\u001b[1;33m(\u001b[0m\u001b[1;33m)\u001b[0m\u001b[1;33m\u001b[0m\u001b[1;33m\u001b[0m\u001b[0m\n\u001b[0m\u001b[0;32m    183\u001b[0m \u001b[1;33m\u001b[0m\u001b[0m\n\u001b[0;32m    184\u001b[0m     \u001b[1;33m@\u001b[0m\u001b[0mclassmethod\u001b[0m\u001b[1;33m\u001b[0m\u001b[1;33m\u001b[0m\u001b[0m\n",
      "\u001b[1;32m~\\github\\Environmental-Sensing\\python\\observation\\ntvfield_structure.py\u001b[0m in \u001b[0;36mreindex\u001b[1;34m(self, codec)\u001b[0m\n\u001b[0;32m    357\u001b[0m \u001b[1;33m\u001b[0m\u001b[0m\n\u001b[0;32m    358\u001b[0m         \u001b[1;32mif\u001b[0m \u001b[1;32mnot\u001b[0m \u001b[0mcodec\u001b[0m\u001b[1;33m:\u001b[0m\u001b[1;33m\u001b[0m\u001b[1;33m\u001b[0m\u001b[0m\n\u001b[1;32m--> 359\u001b[1;33m             \u001b[0mcodec\u001b[0m \u001b[1;33m=\u001b[0m \u001b[0mutil\u001b[0m\u001b[1;33m.\u001b[0m\u001b[0mtocodec\u001b[0m\u001b[1;33m(\u001b[0m\u001b[0mself\u001b[0m\u001b[1;33m.\u001b[0m\u001b[0mvalues\u001b[0m\u001b[1;33m)\u001b[0m\u001b[1;33m\u001b[0m\u001b[1;33m\u001b[0m\u001b[0m\n\u001b[0m\u001b[0;32m    360\u001b[0m         \u001b[0mself\u001b[0m\u001b[1;33m.\u001b[0m\u001b[0m_keys\u001b[0m \u001b[1;33m=\u001b[0m \u001b[0mutil\u001b[0m\u001b[1;33m.\u001b[0m\u001b[0mreindex\u001b[0m\u001b[1;33m(\u001b[0m\u001b[0mself\u001b[0m\u001b[1;33m.\u001b[0m\u001b[0m_keys\u001b[0m\u001b[1;33m,\u001b[0m \u001b[0mself\u001b[0m\u001b[1;33m.\u001b[0m\u001b[0m_codec\u001b[0m\u001b[1;33m,\u001b[0m \u001b[0mcodec\u001b[0m\u001b[1;33m)\u001b[0m\u001b[1;33m\u001b[0m\u001b[1;33m\u001b[0m\u001b[0m\n\u001b[0;32m    361\u001b[0m         \u001b[0mself\u001b[0m\u001b[1;33m.\u001b[0m\u001b[0m_codec\u001b[0m \u001b[1;33m=\u001b[0m \u001b[0mcodec\u001b[0m\u001b[1;33m\u001b[0m\u001b[1;33m\u001b[0m\u001b[0m\n",
      "\u001b[1;32m~\\github\\Environmental-Sensing\\python\\observation\\util.py\u001b[0m in \u001b[0;36mtocodec\u001b[1;34m(values, keys)\u001b[0m\n\u001b[0;32m    387\u001b[0m         \u001b[1;34m'''extract a list of unique values'''\u001b[0m\u001b[1;33m\u001b[0m\u001b[1;33m\u001b[0m\u001b[0m\n\u001b[0;32m    388\u001b[0m         \u001b[1;32mif\u001b[0m \u001b[1;32mnot\u001b[0m \u001b[0mkeys\u001b[0m\u001b[1;33m:\u001b[0m\u001b[1;33m\u001b[0m\u001b[1;33m\u001b[0m\u001b[0m\n\u001b[1;32m--> 389\u001b[1;33m             \u001b[1;32mreturn\u001b[0m \u001b[0mlist\u001b[0m\u001b[1;33m(\u001b[0m\u001b[0mset\u001b[0m\u001b[1;33m(\u001b[0m\u001b[0mvalues\u001b[0m\u001b[1;33m)\u001b[0m\u001b[1;33m)\u001b[0m\u001b[1;33m\u001b[0m\u001b[1;33m\u001b[0m\u001b[0m\n\u001b[0m\u001b[0;32m    390\u001b[0m         \u001b[0mind\u001b[0m\u001b[1;33m,\u001b[0m \u001b[0mcodec\u001b[0m \u001b[1;33m=\u001b[0m \u001b[0mzip\u001b[0m\u001b[1;33m(\u001b[0m\u001b[1;33m*\u001b[0m\u001b[0msorted\u001b[0m\u001b[1;33m(\u001b[0m\u001b[0mset\u001b[0m\u001b[1;33m(\u001b[0m\u001b[0mzip\u001b[0m\u001b[1;33m(\u001b[0m\u001b[0mkeys\u001b[0m\u001b[1;33m,\u001b[0m \u001b[0mvalues\u001b[0m\u001b[1;33m)\u001b[0m\u001b[1;33m)\u001b[0m\u001b[1;33m)\u001b[0m\u001b[1;33m)\u001b[0m\u001b[1;33m\u001b[0m\u001b[1;33m\u001b[0m\u001b[0m\n\u001b[0;32m    391\u001b[0m         \u001b[1;32mreturn\u001b[0m \u001b[0mlist\u001b[0m\u001b[1;33m(\u001b[0m\u001b[0mcodec\u001b[0m\u001b[1;33m)\u001b[0m\u001b[1;33m\u001b[0m\u001b[1;33m\u001b[0m\u001b[0m\n",
      "\u001b[1;32m~\\github\\NTV\\json_ntv\\ntv.py\u001b[0m in \u001b[0;36m__hash__\u001b[1;34m(self)\u001b[0m\n\u001b[0;32m    698\u001b[0m     \u001b[1;32mdef\u001b[0m \u001b[0m__hash__\u001b[0m\u001b[1;33m(\u001b[0m\u001b[0mself\u001b[0m\u001b[1;33m)\u001b[0m\u001b[1;33m:\u001b[0m\u001b[1;33m\u001b[0m\u001b[1;33m\u001b[0m\u001b[0m\n\u001b[0;32m    699\u001b[0m         \u001b[1;34m'''return hash(name) + hash(type) + hash(value)'''\u001b[0m\u001b[1;33m\u001b[0m\u001b[1;33m\u001b[0m\u001b[0m\n\u001b[1;32m--> 700\u001b[1;33m         \u001b[1;32mreturn\u001b[0m \u001b[0mhash\u001b[0m\u001b[1;33m(\u001b[0m\u001b[0mself\u001b[0m\u001b[1;33m.\u001b[0m\u001b[0mntv_name\u001b[0m\u001b[1;33m)\u001b[0m \u001b[1;33m+\u001b[0m \u001b[0mhash\u001b[0m\u001b[1;33m(\u001b[0m\u001b[0mself\u001b[0m\u001b[1;33m.\u001b[0m\u001b[0mntv_type\u001b[0m\u001b[1;33m)\u001b[0m \u001b[1;33m+\u001b[0m \u001b[0mhash\u001b[0m\u001b[1;33m(\u001b[0m\u001b[0mjson\u001b[0m\u001b[1;33m.\u001b[0m\u001b[0mdumps\u001b[0m\u001b[1;33m(\u001b[0m\u001b[0mself\u001b[0m\u001b[1;33m.\u001b[0m\u001b[0mntv_value\u001b[0m\u001b[1;33m)\u001b[0m\u001b[1;33m)\u001b[0m\u001b[1;33m\u001b[0m\u001b[1;33m\u001b[0m\u001b[0m\n\u001b[0m\u001b[0;32m    701\u001b[0m \u001b[1;33m\u001b[0m\u001b[0m\n\u001b[0;32m    702\u001b[0m     \u001b[1;32mdef\u001b[0m \u001b[0m_obj_sep\u001b[0m\u001b[1;33m(\u001b[0m\u001b[0mself\u001b[0m\u001b[1;33m,\u001b[0m \u001b[0mjson_type\u001b[0m\u001b[1;33m,\u001b[0m \u001b[0mdef_type\u001b[0m\u001b[1;33m=\u001b[0m\u001b[1;32mNone\u001b[0m\u001b[1;33m)\u001b[0m\u001b[1;33m:\u001b[0m\u001b[1;33m\u001b[0m\u001b[1;33m\u001b[0m\u001b[0m\n",
      "\u001b[1;32m~\\anaconda3\\envs\\observ_v10_20230309\\lib\\json\\__init__.py\u001b[0m in \u001b[0;36mdumps\u001b[1;34m(obj, skipkeys, ensure_ascii, check_circular, allow_nan, cls, indent, separators, default, sort_keys, **kw)\u001b[0m\n\u001b[0;32m    229\u001b[0m         \u001b[0mcls\u001b[0m \u001b[1;32mis\u001b[0m \u001b[1;32mNone\u001b[0m \u001b[1;32mand\u001b[0m \u001b[0mindent\u001b[0m \u001b[1;32mis\u001b[0m \u001b[1;32mNone\u001b[0m \u001b[1;32mand\u001b[0m \u001b[0mseparators\u001b[0m \u001b[1;32mis\u001b[0m \u001b[1;32mNone\u001b[0m \u001b[1;32mand\u001b[0m\u001b[1;33m\u001b[0m\u001b[1;33m\u001b[0m\u001b[0m\n\u001b[0;32m    230\u001b[0m         default is None and not sort_keys and not kw):\n\u001b[1;32m--> 231\u001b[1;33m         \u001b[1;32mreturn\u001b[0m \u001b[0m_default_encoder\u001b[0m\u001b[1;33m.\u001b[0m\u001b[0mencode\u001b[0m\u001b[1;33m(\u001b[0m\u001b[0mobj\u001b[0m\u001b[1;33m)\u001b[0m\u001b[1;33m\u001b[0m\u001b[1;33m\u001b[0m\u001b[0m\n\u001b[0m\u001b[0;32m    232\u001b[0m     \u001b[1;32mif\u001b[0m \u001b[0mcls\u001b[0m \u001b[1;32mis\u001b[0m \u001b[1;32mNone\u001b[0m\u001b[1;33m:\u001b[0m\u001b[1;33m\u001b[0m\u001b[1;33m\u001b[0m\u001b[0m\n\u001b[0;32m    233\u001b[0m         \u001b[0mcls\u001b[0m \u001b[1;33m=\u001b[0m \u001b[0mJSONEncoder\u001b[0m\u001b[1;33m\u001b[0m\u001b[1;33m\u001b[0m\u001b[0m\n",
      "\u001b[1;32m~\\anaconda3\\envs\\observ_v10_20230309\\lib\\json\\encoder.py\u001b[0m in \u001b[0;36mencode\u001b[1;34m(self, o)\u001b[0m\n\u001b[0;32m    197\u001b[0m         \u001b[1;31m# exceptions aren't as detailed.  The list call should be roughly\u001b[0m\u001b[1;33m\u001b[0m\u001b[1;33m\u001b[0m\u001b[0m\n\u001b[0;32m    198\u001b[0m         \u001b[1;31m# equivalent to the PySequence_Fast that ''.join() would do.\u001b[0m\u001b[1;33m\u001b[0m\u001b[1;33m\u001b[0m\u001b[0m\n\u001b[1;32m--> 199\u001b[1;33m         \u001b[0mchunks\u001b[0m \u001b[1;33m=\u001b[0m \u001b[0mself\u001b[0m\u001b[1;33m.\u001b[0m\u001b[0miterencode\u001b[0m\u001b[1;33m(\u001b[0m\u001b[0mo\u001b[0m\u001b[1;33m,\u001b[0m \u001b[0m_one_shot\u001b[0m\u001b[1;33m=\u001b[0m\u001b[1;32mTrue\u001b[0m\u001b[1;33m)\u001b[0m\u001b[1;33m\u001b[0m\u001b[1;33m\u001b[0m\u001b[0m\n\u001b[0m\u001b[0;32m    200\u001b[0m         \u001b[1;32mif\u001b[0m \u001b[1;32mnot\u001b[0m \u001b[0misinstance\u001b[0m\u001b[1;33m(\u001b[0m\u001b[0mchunks\u001b[0m\u001b[1;33m,\u001b[0m \u001b[1;33m(\u001b[0m\u001b[0mlist\u001b[0m\u001b[1;33m,\u001b[0m \u001b[0mtuple\u001b[0m\u001b[1;33m)\u001b[0m\u001b[1;33m)\u001b[0m\u001b[1;33m:\u001b[0m\u001b[1;33m\u001b[0m\u001b[1;33m\u001b[0m\u001b[0m\n\u001b[0;32m    201\u001b[0m             \u001b[0mchunks\u001b[0m \u001b[1;33m=\u001b[0m \u001b[0mlist\u001b[0m\u001b[1;33m(\u001b[0m\u001b[0mchunks\u001b[0m\u001b[1;33m)\u001b[0m\u001b[1;33m\u001b[0m\u001b[1;33m\u001b[0m\u001b[0m\n",
      "\u001b[1;32m~\\anaconda3\\envs\\observ_v10_20230309\\lib\\json\\encoder.py\u001b[0m in \u001b[0;36miterencode\u001b[1;34m(self, o, _one_shot)\u001b[0m\n\u001b[0;32m    255\u001b[0m                 \u001b[0mself\u001b[0m\u001b[1;33m.\u001b[0m\u001b[0mkey_separator\u001b[0m\u001b[1;33m,\u001b[0m \u001b[0mself\u001b[0m\u001b[1;33m.\u001b[0m\u001b[0mitem_separator\u001b[0m\u001b[1;33m,\u001b[0m \u001b[0mself\u001b[0m\u001b[1;33m.\u001b[0m\u001b[0msort_keys\u001b[0m\u001b[1;33m,\u001b[0m\u001b[1;33m\u001b[0m\u001b[1;33m\u001b[0m\u001b[0m\n\u001b[0;32m    256\u001b[0m                 self.skipkeys, _one_shot)\n\u001b[1;32m--> 257\u001b[1;33m         \u001b[1;32mreturn\u001b[0m \u001b[0m_iterencode\u001b[0m\u001b[1;33m(\u001b[0m\u001b[0mo\u001b[0m\u001b[1;33m,\u001b[0m \u001b[1;36m0\u001b[0m\u001b[1;33m)\u001b[0m\u001b[1;33m\u001b[0m\u001b[1;33m\u001b[0m\u001b[0m\n\u001b[0m\u001b[0;32m    258\u001b[0m \u001b[1;33m\u001b[0m\u001b[0m\n\u001b[0;32m    259\u001b[0m def _make_iterencode(markers, _default, _encoder, _indent, _floatstr,\n",
      "\u001b[1;32m~\\anaconda3\\envs\\observ_v10_20230309\\lib\\json\\encoder.py\u001b[0m in \u001b[0;36mdefault\u001b[1;34m(self, o)\u001b[0m\n\u001b[0;32m    177\u001b[0m \u001b[1;33m\u001b[0m\u001b[0m\n\u001b[0;32m    178\u001b[0m         \"\"\"\n\u001b[1;32m--> 179\u001b[1;33m         raise TypeError(f'Object of type {o.__class__.__name__} '\n\u001b[0m\u001b[0;32m    180\u001b[0m                         f'is not JSON serializable')\n\u001b[0;32m    181\u001b[0m \u001b[1;33m\u001b[0m\u001b[0m\n",
      "\u001b[1;31mTypeError\u001b[0m: Object of type datetime is not JSON serializable"
     ]
    }
   ],
   "source": [
    "print('Datation object compatibility : ', dat ==\n",
    "      Nfield.ntv(dat.to_ntv()))\n",
    "print('Datation object compatibility : ', dat ==\n",
    "      Nfield.ntv(dat.to_ntv()) == \n",
    "      Nfield.from_ntv(dat.to_ntv().to_obj(encoded=True, encode_format='cbor'), decode_str=True))\n",
    "print(dat)\n",
    "print(Nfield.ntv(dat.to_ntv()))\n",
    "print(Nfield.from_ntv(dat.to_ntv().to_obj(encoded=True, format='obj'), decode_str=True))\n",
    "'''print('Location object compatibility : ', loc ==\n",
    "      Iindex.obj(loc.json()) == \n",
    "      Iindex.obj(loc.to_obj(), typevalue='LocationValue') == \n",
    "      Iindex.obj(loc.to_obj(encoded=True, encode_format='cbor'), typevalue='LocationValue'))\n",
    "print('Property object compatibility : ', prp ==\n",
    "      Iindex.obj(prp.json()) == \n",
    "      Iindex.obj(prp.to_obj(), typevalue='PropertyValue') == \n",
    "      Iindex.obj(prp.to_obj(encoded=True, encode_format='cbor'), typevalue='PropertyValue'))\n",
    "print('Named    object compatibility : ', nam == \n",
    "      Iindex.obj(nam.json()) == \n",
    "      Iindex.obj(nam.to_obj(), typevalue='NamedValue') == \n",
    "      Iindex.obj(nam.to_obj(encoded=True, encode_format='cbor'), typevalue='NamedValue'))\n",
    "print('Extern   object compatibility : ', ext ==\n",
    "      Iindex.obj(ext.json()) == \n",
    "      Iindex.obj(ext.json(encoded=True, encode_format='cbor')))'''"
   ]
  }
 ],
 "metadata": {
  "kernelspec": {
   "display_name": "Python 3 (ipykernel)",
   "language": "python",
   "name": "python3"
  },
  "language_info": {
   "codemirror_mode": {
    "name": "ipython",
    "version": 3
   },
   "file_extension": ".py",
   "mimetype": "text/x-python",
   "name": "python",
   "nbconvert_exporter": "python",
   "pygments_lexer": "ipython3",
   "version": "3.10.9"
  }
 },
 "nbformat": 4,
 "nbformat_minor": 4
}
