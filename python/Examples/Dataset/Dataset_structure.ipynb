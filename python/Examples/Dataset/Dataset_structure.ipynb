{
 "cells": [
  {
   "cell_type": "markdown",
   "metadata": {},
   "source": [
    "# Dataset : structure\n",
    "\n",
    "## Goals\n",
    "\n",
    "- understand the structure of Dataset object\n",
    "- introduce methods for managing structure\n",
    "\n",
    "-----"
   ]
  },
  {
   "cell_type": "markdown",
   "metadata": {},
   "source": [
    "## managing Field\n",
    "Field methods are available for all the Field inside the Dataset object\n"
   ]
  },
  {
   "cell_type": "code",
   "execution_count": 1,
   "metadata": {},
   "outputs": [
    {
     "name": "stdout",
     "output_type": "stream",
     "text": [
      "codec length for Field defaultcodec :  [3, 4, 4]\n",
      "codec length for Field full codec    :  [5, 5, 5]\n",
      "new Field order :  ['temperature', 'month', 'city']\n"
     ]
    }
   ],
   "source": [
    "from observation import Sdataset\n",
    "\n",
    "il = Sdataset.ntv({'month':       ['jan',   'jan',  'apr',       'apr',  'sep'     ],\n",
    "                   'city':        ['paris', 'lyon', 'marseille', 'lyon', 'toulouse'],\n",
    "                   'temperature': [ 12,      14,     21,          16,      21      ]})\n",
    "print('codec length for Field defaultcodec : ', il.indexlen)\n",
    "il.tostdcodec(inplace=True)                                      # apply full codec to all Field\n",
    "print('codec length for Field full codec    : ', il.indexlen)\n",
    "il.reindex()                                                     # apply default codec to all Field\n",
    "il.swapindex([2, 0, 1])                                          # 'temperature' Field is the first\n",
    "print('new Field order : ', il.lname)\n",
    "\n"
   ]
  },
  {
   "cell_type": "markdown",
   "metadata": {},
   "source": [
    "## ordering\n",
    "\n",
    "Values and keys can be ordered for all Field."
   ]
  },
  {
   "cell_type": "code",
   "execution_count": 2,
   "metadata": {},
   "outputs": [
    {
     "name": "stdout",
     "output_type": "stream",
     "text": [
      "sorted by month and city : \n",
      " variables :\n",
      "    {'temperature': [16, 21, 14, 12, 21]}\n",
      "    {'month': ['apr', 'apr', 'jan', 'jan', 'sep']}\n",
      "    {'city': ['lyon', 'marseille', 'lyon', 'paris', 'toulouse']}\n",
      "\n",
      "reverse sorted by city and month : \n",
      " variables :\n",
      "    {'temperature': [21, 12, 21, 14, 16]}\n",
      "    {'month': ['sep', 'jan', 'apr', 'jan', 'apr']}\n",
      "    {'city': ['toulouse', 'paris', 'marseille', 'lyon', 'lyon']}\n",
      "\n",
      "sorted by temperature : \n",
      " variables :\n",
      "    {'temperature': [12, 14, 16, 21, 21]}\n",
      "    {'month': ['jan', 'jan', 'apr', 'apr', 'sep']}\n",
      "    {'city': ['paris', 'lyon', 'lyon', 'marseille', 'toulouse']}\n",
      "\n",
      "sorted by city name length  : \n",
      " variables :\n",
      "    {'temperature': [14, 16, 12, 21, 21]}\n",
      "    {'month': ['jan', 'apr', 'jan', 'sep', 'apr']}\n",
      "    {'city': ['lyon', 'lyon', 'paris', 'toulouse', 'marseille']}\n",
      "\n"
     ]
    }
   ],
   "source": [
    "il.sort(order=[1, 2])\n",
    "print('sorted by month and city : \\n', il)\n",
    "\n",
    "il.sort(order=[2, 1], reverse=True)\n",
    "print('reverse sorted by city and month : \\n', il)\n",
    "\n",
    "il.sort(order=[0], func=None)\n",
    "print('sorted by temperature : \\n', il)\n",
    "\n",
    "il.sort(order=[2], func=lambda x: len(x))\n",
    "print('sorted by city name length  : \\n', il)"
   ]
  },
  {
   "cell_type": "markdown",
   "metadata": {},
   "source": [
    "## reordering\n",
    "records can be reordered for all Fields."
   ]
  },
  {
   "cell_type": "code",
   "execution_count": 3,
   "metadata": {},
   "outputs": [
    {
     "name": "stdout",
     "output_type": "stream",
     "text": [
      "reordered records  : \n",
      " variables :\n",
      "    {'temperature': [12, 14, 16, 21, 21]}\n",
      "    {'month': ['jan', 'jan', 'apr', 'sep', 'apr']}\n",
      "    {'city': ['paris', 'lyon', 'lyon', 'toulouse', 'marseille']}\n",
      "\n"
     ]
    }
   ],
   "source": [
    "il.reorder([2, 0, 1, 3, 4])\n",
    "print('reordered records  : \\n', il)"
   ]
  },
  {
   "cell_type": "markdown",
   "metadata": {},
   "source": [
    "## filtering\n",
    "A Dataset object can be filter with a boolean Field."
   ]
  },
  {
   "cell_type": "code",
   "execution_count": 4,
   "metadata": {},
   "outputs": [
    {
     "name": "stdout",
     "output_type": "stream",
     "text": [
      "[True, True, False, True, False]\n",
      "\n",
      "il copy with only records with true Field filter : \n",
      " index :\n",
      "    {'temperature': [21, 14, 12]}\n",
      "    {'month': ['sep', 'jan', 'jan']}\n",
      "    {'city': ['toulouse', 'lyon', 'paris']}\n",
      "\n",
      "\n",
      "il copy with only records with false Field filter : \n",
      " index :\n",
      "    {'temperature': [16, 21]}\n",
      "    {'month': ['apr', 'apr']}\n",
      "    {'city': ['lyon', 'marseille']}\n",
      "\n"
     ]
    }
   ],
   "source": [
    "filt = list(map(lambda x: x>'b', il.nindex('month')))   # set a filter (True if 'month' > 'b')\n",
    "print(filt)\n",
    "\n",
    "il.setfilter(filt)\n",
    "il2 = il.applyfilter(inplace=False, delfilter=False)\n",
    "il3 = il.applyfilter(inplace=False, reverse=True)\n",
    "\n",
    "print('\\nil copy with only records with true Field filter : \\n', il2)\n",
    "print('\\nil copy with only records with false Field filter : \\n', il3)"
   ]
  },
  {
   "cell_type": "markdown",
   "metadata": {},
   "source": [
    "## adding\n",
    "Two Dataset objects with different Fields can be added ('add' method is available only if the Field names are identical between the two Datasets)"
   ]
  },
  {
   "cell_type": "code",
   "execution_count": 5,
   "metadata": {
    "scrolled": false
   },
   "outputs": [
    {
     "name": "stdout",
     "output_type": "stream",
     "text": [
      "\n",
      "addition between two different Dataset objects:\n",
      "\n",
      " variables :\n",
      "    {'temperature': [12, 14, 16, 21, 21, None, None, None]}\n",
      "    {'month': ['jan', 'jan', 'apr', 'sep', 'apr', None, None, None]}\n",
      "    {'city': ['paris', 'lyon', 'lyon', 'toulouse', 'marseille', 'paris', 'lyon', 'strasbourg']}\n",
      "    {'country': [None, None, None, None, None, 'france', 'france', 'france']}\n",
      "\n"
     ]
    }
   ],
   "source": [
    "il2 = Sdataset.ntv({'country':     ['france', 'france', 'france'],\n",
    "                    'city':        ['paris', 'lyon', 'strasbourg']})\n",
    "\n",
    "il_total = il.mix(il2)\n",
    "\n",
    "print('\\naddition between two different Dataset objects:\\n\\n', il_total)"
   ]
  }
 ],
 "metadata": {
  "kernelspec": {
   "display_name": "Python 3 (ipykernel)",
   "language": "python",
   "name": "python3"
  },
  "language_info": {
   "codemirror_mode": {
    "name": "ipython",
    "version": 3
   },
   "file_extension": ".py",
   "mimetype": "text/x-python",
   "name": "python",
   "nbconvert_exporter": "python",
   "pygments_lexer": "ipython3",
   "version": "3.10.9"
  }
 },
 "nbformat": 4,
 "nbformat_minor": 4
}
