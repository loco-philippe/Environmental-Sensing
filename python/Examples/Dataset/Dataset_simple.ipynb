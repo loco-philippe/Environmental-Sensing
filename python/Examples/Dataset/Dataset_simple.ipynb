{
 "cells": [
  {
   "cell_type": "markdown",
   "metadata": {},
   "source": [
    "# Object: Dataset first Example \n",
    "## Goal\n",
    "- show on a simple example the capacities of analysis of tabular data\n",
    "--------------------------------\n",
    "\n",
    "## Presentation of the example\n",
    "The example describe the tool's ability to understand and modify a data structure.\n",
    "\n",
    "Let's take the example of a csv file containing the price of some fruits and vegetables.\n",
    "\n",
    "|product|plants\t|quantity\t|price|\n",
    "|:----:|:----:|:----:|:----:|\t\t\t\t\t\n",
    "|apple|fruit\t|1 kg\t|1\t|\n",
    "|apple|fruit\t|10 kg\t|9|\n",
    "|orange|fruit\t|1 kg|2|\n",
    "|orange|fruit\t|10 kg\t|18\t|\n",
    "|peppers|vegetable\t|1 kg\t|1.5|\n",
    "|peppers|vegetable\t|10 kg|13|\n",
    "|banana|fruit\t|1 kg\t|0.5|\n",
    "|banana|fruit\t|10 kg\t|4|\n",
    "\n",
    "The price is different depending on the product and the packaging of 1 or 10 kg.\n"
   ]
  },
  {
   "cell_type": "code",
   "execution_count": 1,
   "metadata": {},
   "outputs": [],
   "source": [
    "from observation import Sdataset, Ndataset\n",
    "\n",
    "prices = Sdataset.ntv( {'plants':   ['fruit', 'fruit','fruit','fruit','vegetable', 'vegetable', 'fruit', 'fruit'],\n",
    "                      'quantity': ['1 kg', '10 kg', '1 kg', '10 kg','1 kg', '10 kg','1 kg', '10 kg'], \n",
    "                      'product':  ['apple', 'apple', 'orange', 'orange', 'peppers', 'peppers', 'banana', 'banana'], \n",
    "                      'price':    [1, 10, 2, 20, 1.5, 15, 0.5, 5]})"
   ]
  },
  {
   "cell_type": "markdown",
   "metadata": {},
   "source": [
    "## Matrix transformation\n",
    "In a single command, i can turn this array into a matrix while keeping the dataset.\n",
    "\n",
    "In reality this command searches for the columns whose data are \"crossed\" (product and quantity) as well as those which are associated with others (plants). Then it transfers this information to a tool adapted to the analysis of indexed matrices (e.g. Xarray)\n"
   ]
  },
  {
   "cell_type": "code",
   "execution_count": 2,
   "metadata": {
    "scrolled": false
   },
   "outputs": [
    {
     "name": "stdout",
     "output_type": "stream",
     "text": [
      "<xarray.DataArray 'price' (quantity: 2, product: 4)>\n",
      "array([[1, 2, 1.5, 0.5],\n",
      "       [10, 20, 15, 5]], dtype=object)\n",
      "Coordinates:\n",
      "  * quantity  (quantity) object '1 kg' '10 kg'\n",
      "  * product   (product) object 'apple' 'orange' 'peppers' 'banana'\n",
      "    plants    (product) object 'fruit' 'fruit' 'vegetable' 'fruit'\n"
     ]
    }
   ],
   "source": [
    "print(prices.to_xarray())"
   ]
  },
  {
   "cell_type": "markdown",
   "metadata": {},
   "source": [
    "## Aggregation\n",
    "We can also imagine that these data were produced by several people and then accumulated to form the object 'prices' :\n",
    "- one person for the fruit data, \n",
    "- one for the vegetable data \n",
    "- and another to put everything together."
   ]
  },
  {
   "cell_type": "code",
   "execution_count": 3,
   "metadata": {},
   "outputs": [],
   "source": [
    "fruit      = Sdataset.ntv({'product':  ['apple', 'apple', 'orange', 'orange', 'banana', 'banana'],\n",
    "                           'quantity': ['1 kg', '10 kg', '1 kg', '10 kg', '1 kg', '10 kg'], \n",
    "                           'price':    [1, 10, 2, 20, 0.5, 5]})\n",
    "\n",
    "vegetable  = Sdataset.ntv({'product':  ['peppers', 'peppers'],\n",
    "                           'quantity': ['1 kg', '10 kg'], \n",
    "                           'price':    [1.5, 15]})\n",
    "                         \n",
    "total      = Sdataset.ntv({'plants':   ['fruit', 'vegetable'], \n",
    "                           'agregate': [fruit, vegetable]}, \n",
    "                               fast=True)"
   ]
  },
  {
   "cell_type": "markdown",
   "metadata": {},
   "source": [
    "The 'prices' object is then a representation of the 'total' object.\n",
    "\n",
    "This approach makes it possible to maintain data traceability and to build aggregation processes in line with business processes."
   ]
  },
  {
   "cell_type": "code",
   "execution_count": 4,
   "metadata": {},
   "outputs": [
    {
     "name": "stdout",
     "output_type": "stream",
     "text": [
      "variables :\n",
      "    {'price': [1, 10, 2, 20, 0.5, 5, 1.5, 15]}\n",
      "index :\n",
      "    {'product': ['apple', 'apple', 'orange', 'orange', 'banana', 'banana', 'peppers', 'peppers']}\n",
      "    {'quantity': ['1 kg', '10 kg', '1 kg', '10 kg', '1 kg', '10 kg', '1 kg', '10 kg']}\n",
      "    {'plants': ['fruit', 'fruit', 'fruit', 'fruit', 'fruit', 'fruit', 'vegetable', 'vegetable']}\n",
      "\n"
     ]
    }
   ],
   "source": [
    "prices = total.merge(simplename=True)\n",
    "print(prices)"
   ]
  },
  {
   "cell_type": "markdown",
   "metadata": {},
   "source": [
    "## what if...\n",
    "...there is an error in the data documentation (e.g. a 'vegetable' instead of a 'fruit') ?\n",
    "\n",
    "The Dataset object no longer understands that 'plant' is associated with 'product' ('banana' is 'fruit' or 'vegetable'?)"
   ]
  },
  {
   "cell_type": "code",
   "execution_count": 5,
   "metadata": {},
   "outputs": [
    {
     "name": "stdout",
     "output_type": "stream",
     "text": [
      "<xarray.DataArray 'plants' (quantity: 2, product: 4)>\n",
      "array([['fruit', 'fruit', 'vegetable', 'vegetable'],\n",
      "       ['fruit', 'fruit', 'vegetable', 'fruit']], dtype=object)\n",
      "Coordinates:\n",
      "  * quantity  (quantity) object '1 kg' '10 kg'\n",
      "  * product   (product) object 'apple' 'orange' 'peppers' 'banana' \n",
      "\n",
      "<xarray.DataArray 'price' (quantity: 2, product: 4)>\n",
      "array([[1, 2, 1.5, 0.5],\n",
      "       [10, 20, 15, 5]], dtype=object)\n",
      "Coordinates:\n",
      "  * quantity  (quantity) object '1 kg' '10 kg'\n",
      "  * product   (product) object 'apple' 'orange' 'peppers' 'banana'\n"
     ]
    }
   ],
   "source": [
    "prices = Sdataset.ntv({'plants':   ['fruit', 'fruit','fruit','fruit','vegetable', 'vegetable', 'vegetable', 'fruit'],\n",
    "                       'quantity': ['1 kg', '10 kg', '1 kg', '10 kg','1 kg', '10 kg','1 kg', '10 kg'], \n",
    "                       'product':  ['apple', 'apple', 'orange', 'orange', 'peppers', 'peppers', 'banana', 'banana'], \n",
    "                       'price':    [1, 10, 2, 20, 1.5, 15, 0.5, 5]})\n",
    "print(prices.to_xarray(), '\\n')\n",
    "print(prices.to_xarray(varname='price'))"
   ]
  },
  {
   "cell_type": "markdown",
   "metadata": {},
   "source": [
    "## But fortunately...\n",
    "... there is a solution !\n",
    "\n",
    "We can impose that 'plant' is indeed associated with 'product' and in this case, the Dataset object translates this from the fact that there is a 'banana-fruit' and a 'banana-vegetable'. \n"
   ]
  },
  {
   "cell_type": "code",
   "execution_count": 6,
   "metadata": {
    "scrolled": true
   },
   "outputs": [
    {
     "name": "stdout",
     "output_type": "stream",
     "text": [
      "<xarray.DataArray 'price' (product: 5, quantity: 2)>\n",
      "array([[1, 2],\n",
      "       [1.5, 0.5],\n",
      "       ['?', 10],\n",
      "       [20, 15],\n",
      "       ['?', 5]], dtype=object)\n",
      "Coordinates:\n",
      "  * quantity  (quantity) object '1 kg' '10 kg'\n",
      "  * product   (product) object 'apple' 'orange' 'peppers' 'banana' 'banana'\n",
      "    plants    (product) object 'fruit' 'fruit' 'vegetable' 'vegetable' 'fruit'\n"
     ]
    }
   ],
   "source": [
    "prices.nindex('product').coupling(prices.nindex('plants'))\n",
    "print(prices.to_xarray(idxname=['product', 'quantity']))"
   ]
  },
  {
   "cell_type": "markdown",
   "metadata": {},
   "source": [
    "We then find our initial matrix with a price for 1 kg of 'banana-fruit' and a price for 10 kg of 'banana-vegetable'."
   ]
  },
  {
   "cell_type": "markdown",
   "metadata": {},
   "source": [
    "------\n",
    "# Conclusion"
   ]
  },
  {
   "cell_type": "markdown",
   "metadata": {},
   "source": [
    "This example demonstrates several very interesting points:\n",
    "- we can build a tabular dataset by respecting a business process and guaranteeing the integrity of the data,\n",
    "- you can automatically analyze tabular data (such as csv or Excel files) to deduce the type of relationship that links the fields together,\n",
    "- you can restructure the data of these fields without having to modify them (reversible),\n",
    "- we can impose relationships between fields and measure the differences between the specification and the result,\n",
    "- we can extend the notion of tabular data to complex data (eg Dataset data included)\n",
    "- we can interface data analysis tools (eg Xarray)"
   ]
  }
 ],
 "metadata": {
  "kernelspec": {
   "display_name": "Python 3 (ipykernel)",
   "language": "python",
   "name": "python3"
  },
  "language_info": {
   "codemirror_mode": {
    "name": "ipython",
    "version": 3
   },
   "file_extension": ".py",
   "mimetype": "text/x-python",
   "name": "python",
   "nbconvert_exporter": "python",
   "pygments_lexer": "ipython3",
   "version": "3.10.9"
  }
 },
 "nbformat": 4,
 "nbformat_minor": 4
}
