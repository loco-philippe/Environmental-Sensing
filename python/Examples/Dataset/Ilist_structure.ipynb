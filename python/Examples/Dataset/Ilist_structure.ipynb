{
 "cells": [
  {
   "cell_type": "markdown",
   "metadata": {},
   "source": [
    "# Dataset : structure\n",
    "\n",
    "## Goals\n",
    "\n",
    "- understand the structure of Dataset object\n",
    "- introduce methods for managing structure\n",
    "\n",
    "-----"
   ]
  },
  {
   "cell_type": "markdown",
   "metadata": {},
   "source": [
    "## managing Field\n",
    "Field methods are available for all the Field inside the Dataset object\n"
   ]
  },
  {
   "cell_type": "code",
   "execution_count": 3,
   "metadata": {},
   "outputs": [
    {
     "name": "stdout",
     "output_type": "stream",
     "text": [
      "codec length for Iindex defaultcodec :  [3, 4, 4]\n",
      "codec length for Iindex full codec    :  [5, 5, 5]\n",
      "new Iindex order :  ['temperature', 'month', 'city']\n"
     ]
    }
   ],
   "source": [
    "from observation import Sdataset\n",
    "\n",
    "il = Sdataset.ntv({'month':       ['jan',   'jan',  'apr',       'apr',  'sep'     ],\n",
    "                   'city':        ['paris', 'lyon', 'marseille', 'lyon', 'toulouse'],\n",
    "                   'temperature': [ 12,      14,     21,          16,      21      ]})\n",
    "print('codec length for Iindex defaultcodec : ', il.indexlen)\n",
    "il.tostdcodec(inplace=True)                                      # apply full codec to all Iindex\n",
    "print('codec length for Iindex full codec    : ', il.indexlen)\n",
    "il.reindex()                                                     # apply default codec to all Iindex\n",
    "il.swapindex([2, 0, 1])                                          # 'temperature' Iindex is the first\n",
    "print('new Iindex order : ', il.lname)\n",
    "\n"
   ]
  },
  {
   "cell_type": "markdown",
   "metadata": {},
   "source": [
    "## ordering\n",
    "\n",
    "Values and keys can be ordered for all Field."
   ]
  },
  {
   "cell_type": "code",
   "execution_count": 4,
   "metadata": {},
   "outputs": [
    {
     "name": "stdout",
     "output_type": "stream",
     "text": [
      "sorted by month and city : \n",
      " index :\n",
      "    {\"temperature\": [16, 21, 14, 12, 21]}\n",
      "    {\"month\": [\"apr\", \"apr\", \"jan\", \"jan\", \"sep\"]}\n",
      "    {\"city\": [\"lyon\", \"marseille\", \"lyon\", \"paris\", \"toulouse\"]}\n",
      "\n",
      "reverse sorted by city and month : \n",
      " index :\n",
      "    {\"temperature\": [21, 12, 21, 14, 16]}\n",
      "    {\"month\": [\"sep\", \"jan\", \"apr\", \"jan\", \"apr\"]}\n",
      "    {\"city\": [\"toulouse\", \"paris\", \"marseille\", \"lyon\", \"lyon\"]}\n",
      "\n",
      "sorted by temperature : \n",
      " index :\n",
      "    {\"temperature\": [12, 14, 16, 21, 21]}\n",
      "    {\"month\": [\"jan\", \"jan\", \"apr\", \"apr\", \"sep\"]}\n",
      "    {\"city\": [\"paris\", \"lyon\", \"lyon\", \"marseille\", \"toulouse\"]}\n",
      "\n",
      "sorted by city name length  : \n",
      " index :\n",
      "    {\"temperature\": [14, 16, 12, 21, 21]}\n",
      "    {\"month\": [\"jan\", \"apr\", \"jan\", \"sep\", \"apr\"]}\n",
      "    {\"city\": [\"lyon\", \"lyon\", \"paris\", \"toulouse\", \"marseille\"]}\n",
      "\n"
     ]
    }
   ],
   "source": [
    "il.sort(order=[1, 2])\n",
    "print('sorted by month and city : \\n', il)\n",
    "\n",
    "il.sort(order=[2, 1], reverse=True)\n",
    "print('reverse sorted by city and month : \\n', il)\n",
    "\n",
    "il.sort(order=[0], func=None)\n",
    "print('sorted by temperature : \\n', il)\n",
    "\n",
    "il.sort(order=[2], func=lambda x: len(x))\n",
    "print('sorted by city name length  : \\n', il)"
   ]
  },
  {
   "cell_type": "markdown",
   "metadata": {},
   "source": [
    "## reordering\n",
    "records can be reordered for all Iindex."
   ]
  },
  {
   "cell_type": "code",
   "execution_count": 5,
   "metadata": {},
   "outputs": [
    {
     "name": "stdout",
     "output_type": "stream",
     "text": [
      "reordered records  : \n",
      " index :\n",
      "    {\"temperature\": [12, 14, 16, 21, 21]}\n",
      "    {\"month\": [\"jan\", \"jan\", \"apr\", \"sep\", \"apr\"]}\n",
      "    {\"city\": [\"paris\", \"lyon\", \"lyon\", \"toulouse\", \"marseille\"]}\n",
      "\n"
     ]
    }
   ],
   "source": [
    "il.reorder([2, 0, 1, 3, 4])\n",
    "print('reordered records  : \\n', il)"
   ]
  },
  {
   "cell_type": "markdown",
   "metadata": {},
   "source": [
    "## filtering\n",
    "An Ilist object can be filter with a boolean Iindex."
   ]
  },
  {
   "cell_type": "code",
   "execution_count": 6,
   "metadata": {},
   "outputs": [
    {
     "name": "stdout",
     "output_type": "stream",
     "text": [
      "[True, True, False, True, False]\n",
      "\n",
      "il copy with only records with true Iindex filter : \n",
      " index :\n",
      "    {\"temperature\": [21, 14, 12]}\n",
      "    {\"month\": [\"sep\", \"jan\", \"jan\"]}\n",
      "    {\"city\": [\"toulouse\", \"lyon\", \"paris\"]}\n",
      "\n",
      "\n",
      "il copy with only records with false Iindex filter : \n",
      " index :\n",
      "    {\"temperature\": [16, 21]}\n",
      "    {\"month\": [\"apr\", \"apr\"]}\n",
      "    {\"city\": [\"lyon\", \"marseille\"]}\n",
      "\n"
     ]
    }
   ],
   "source": [
    "filt = list(map(lambda x: x>'b', il.nindex('month')))   # set a filter (True if 'month' > 'b')\n",
    "print(filt)\n",
    "\n",
    "il.setfilter(filt)\n",
    "il2 = il.applyfilter(inplace=False, delfilter=False)\n",
    "il3 = il.applyfilter(inplace=False, reverse=True)\n",
    "\n",
    "print('\\nil copy with only records with true Iindex filter : \\n', il2)\n",
    "print('\\nil copy with only records with false Iindex filter : \\n', il3)"
   ]
  },
  {
   "cell_type": "markdown",
   "metadata": {},
   "source": [
    "## adding\n",
    "Two Ilist objects with different Iindex can be added ('add' method is available only if the Iindex names are identical between the two Ilist)"
   ]
  },
  {
   "cell_type": "code",
   "execution_count": 8,
   "metadata": {
    "scrolled": false
   },
   "outputs": [
    {
     "ename": "NtvdatasetError",
     "evalue": "sizes are different",
     "output_type": "error",
     "traceback": [
      "\u001b[1;31m---------------------------------------------------------------------------\u001b[0m",
      "\u001b[1;31mNtvdatasetError\u001b[0m                           Traceback (most recent call last)",
      "\u001b[1;32m~\\AppData\\Local\\Temp\\ipykernel_9192\\1587751288.py\u001b[0m in \u001b[0;36m<module>\u001b[1;34m\u001b[0m\n\u001b[0;32m      2\u001b[0m                     'city':        ['paris', 'lyon', 'strasbourg']})\n\u001b[0;32m      3\u001b[0m \u001b[1;33m\u001b[0m\u001b[0m\n\u001b[1;32m----> 4\u001b[1;33m \u001b[0mil_total\u001b[0m \u001b[1;33m=\u001b[0m \u001b[0mil\u001b[0m\u001b[1;33m.\u001b[0m\u001b[0mmix\u001b[0m\u001b[1;33m(\u001b[0m\u001b[0mil2\u001b[0m\u001b[1;33m)\u001b[0m\u001b[1;33m\u001b[0m\u001b[1;33m\u001b[0m\u001b[0m\n\u001b[0m\u001b[0;32m      5\u001b[0m \u001b[1;33m\u001b[0m\u001b[0m\n\u001b[0;32m      6\u001b[0m \u001b[0mprint\u001b[0m\u001b[1;33m(\u001b[0m\u001b[1;34m'\\naddition between two different Ilist objects:\\n\\n'\u001b[0m\u001b[1;33m,\u001b[0m \u001b[0mil_total\u001b[0m\u001b[1;33m)\u001b[0m\u001b[1;33m\u001b[0m\u001b[1;33m\u001b[0m\u001b[0m\n",
      "\u001b[1;32mD:\\philippe\\python ESstandard\\Environmental-Sensing\\python\\observation\\ntvdataset_structure.py\u001b[0m in \u001b[0;36mmix\u001b[1;34m(self, other, fillvalue)\u001b[0m\n\u001b[0;32m    495\u001b[0m         \u001b[0mcopother\u001b[0m \u001b[1;33m=\u001b[0m \u001b[0mcopy\u001b[0m\u001b[1;33m(\u001b[0m\u001b[0mother\u001b[0m\u001b[1;33m)\u001b[0m\u001b[1;33m\u001b[0m\u001b[1;33m\u001b[0m\u001b[0m\n\u001b[0;32m    496\u001b[0m         \u001b[1;32mfor\u001b[0m \u001b[0mnam\u001b[0m \u001b[1;32min\u001b[0m \u001b[0moname\u001b[0m \u001b[1;33m-\u001b[0m \u001b[0msname\u001b[0m\u001b[1;33m:\u001b[0m\u001b[1;33m\u001b[0m\u001b[1;33m\u001b[0m\u001b[0m\n\u001b[1;32m--> 497\u001b[1;33m             \u001b[0mnewself\u001b[0m\u001b[1;33m.\u001b[0m\u001b[0maddindex\u001b[0m\u001b[1;33m(\u001b[0m\u001b[1;33m[\u001b[0m\u001b[0mnam\u001b[0m\u001b[1;33m,\u001b[0m \u001b[1;33m[\u001b[0m\u001b[0mfillvalue\u001b[0m\u001b[1;33m]\u001b[0m \u001b[1;33m*\u001b[0m \u001b[0mlen\u001b[0m\u001b[1;33m(\u001b[0m\u001b[0mnewself\u001b[0m\u001b[1;33m)\u001b[0m\u001b[1;33m]\u001b[0m\u001b[1;33m)\u001b[0m\u001b[1;33m\u001b[0m\u001b[1;33m\u001b[0m\u001b[0m\n\u001b[0m\u001b[0;32m    498\u001b[0m         \u001b[1;32mfor\u001b[0m \u001b[0mnam\u001b[0m \u001b[1;32min\u001b[0m \u001b[0msname\u001b[0m \u001b[1;33m-\u001b[0m \u001b[0moname\u001b[0m\u001b[1;33m:\u001b[0m\u001b[1;33m\u001b[0m\u001b[1;33m\u001b[0m\u001b[0m\n\u001b[0;32m    499\u001b[0m             \u001b[0mcopother\u001b[0m\u001b[1;33m.\u001b[0m\u001b[0maddindex\u001b[0m\u001b[1;33m(\u001b[0m\u001b[1;33m[\u001b[0m\u001b[0mnam\u001b[0m\u001b[1;33m,\u001b[0m \u001b[1;33m[\u001b[0m\u001b[0mfillvalue\u001b[0m\u001b[1;33m]\u001b[0m \u001b[1;33m*\u001b[0m \u001b[0mlen\u001b[0m\u001b[1;33m(\u001b[0m\u001b[0mcopother\u001b[0m\u001b[1;33m)\u001b[0m\u001b[1;33m]\u001b[0m\u001b[1;33m)\u001b[0m\u001b[1;33m\u001b[0m\u001b[1;33m\u001b[0m\u001b[0m\n",
      "\u001b[1;32mD:\\philippe\\python ESstandard\\Environmental-Sensing\\python\\observation\\ntvdataset_structure.py\u001b[0m in \u001b[0;36maddindex\u001b[1;34m(self, index, first, merge, update)\u001b[0m\n\u001b[0;32m    108\u001b[0m         \u001b[0midxname\u001b[0m \u001b[1;33m=\u001b[0m \u001b[0mself\u001b[0m\u001b[1;33m.\u001b[0m\u001b[0mlname\u001b[0m\u001b[1;33m\u001b[0m\u001b[1;33m\u001b[0m\u001b[0m\n\u001b[0;32m    109\u001b[0m         \u001b[1;32mif\u001b[0m \u001b[0mlen\u001b[0m\u001b[1;33m(\u001b[0m\u001b[0midx\u001b[0m\u001b[1;33m)\u001b[0m \u001b[1;33m!=\u001b[0m \u001b[0mlen\u001b[0m\u001b[1;33m(\u001b[0m\u001b[0mself\u001b[0m\u001b[1;33m)\u001b[0m \u001b[1;32mand\u001b[0m \u001b[0mlen\u001b[0m\u001b[1;33m(\u001b[0m\u001b[0mself\u001b[0m\u001b[1;33m)\u001b[0m \u001b[1;33m>\u001b[0m \u001b[1;36m0\u001b[0m\u001b[1;33m:\u001b[0m\u001b[1;33m\u001b[0m\u001b[1;33m\u001b[0m\u001b[0m\n\u001b[1;32m--> 110\u001b[1;33m             \u001b[1;32mraise\u001b[0m \u001b[0mNtvdatasetError\u001b[0m\u001b[1;33m(\u001b[0m\u001b[1;34m'sizes are different'\u001b[0m\u001b[1;33m)\u001b[0m\u001b[1;33m\u001b[0m\u001b[1;33m\u001b[0m\u001b[0m\n\u001b[0m\u001b[0;32m    111\u001b[0m         \u001b[1;32mif\u001b[0m \u001b[1;32mnot\u001b[0m \u001b[0midx\u001b[0m\u001b[1;33m.\u001b[0m\u001b[0mname\u001b[0m \u001b[1;32min\u001b[0m \u001b[0midxname\u001b[0m\u001b[1;33m:\u001b[0m\u001b[1;33m\u001b[0m\u001b[1;33m\u001b[0m\u001b[0m\n\u001b[0;32m    112\u001b[0m             \u001b[1;32mif\u001b[0m \u001b[0mfirst\u001b[0m\u001b[1;33m:\u001b[0m\u001b[1;33m\u001b[0m\u001b[1;33m\u001b[0m\u001b[0m\n",
      "\u001b[1;31mNtvdatasetError\u001b[0m: sizes are different"
     ]
    }
   ],
   "source": [
    "il2 = Sdataset.ntv({'country':     ['france', 'france', 'france'],\n",
    "                    'city':        ['paris', 'lyon', 'strasbourg']})\n",
    "\n",
    "il_total = il.mix(il2)\n",
    "\n",
    "print('\\naddition between two different Ilist objects:\\n\\n', il_total)"
   ]
  }
 ],
 "metadata": {
  "kernelspec": {
   "display_name": "Python 3 (ipykernel)",
   "language": "python",
   "name": "python3"
  },
  "language_info": {
   "codemirror_mode": {
    "name": "ipython",
    "version": 3
   },
   "file_extension": ".py",
   "mimetype": "text/x-python",
   "name": "python",
   "nbconvert_exporter": "python",
   "pygments_lexer": "ipython3",
   "version": "3.10.9"
  }
 },
 "nbformat": 4,
 "nbformat_minor": 4
}
