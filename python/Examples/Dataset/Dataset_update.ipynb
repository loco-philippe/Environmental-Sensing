{
 "cells": [
  {
   "cell_type": "markdown",
   "metadata": {},
   "source": [
    "# Dataset : Update\n",
    "\n",
    "## Goals\n",
    "\n",
    "- present methods to access, update and assemble Dataset objects\n",
    "\n",
    "-----"
   ]
  },
  {
   "cell_type": "code",
   "execution_count": 1,
   "metadata": {},
   "outputs": [],
   "source": [
    "from observation import Sdataset\n",
    "from copy import copy"
   ]
  },
  {
   "cell_type": "markdown",
   "metadata": {},
   "source": [
    "## Field update\n",
    "The Field objects that make up the Dataset object are accessible via the 'lindex' attribute or 'nindex' method.\n",
    "\n"
   ]
  },
  {
   "cell_type": "code",
   "execution_count": 2,
   "metadata": {},
   "outputs": [
    {
     "name": "stdout",
     "output_type": "stream",
     "text": [
      "first Field (row) :  {'month': ['jan', 'feb', 'apr', 'jan', 'sep', 'dec', 'apr', 'may', 'jan']}\n",
      "first Field (name):  {'month': ['jan', 'feb', 'apr', 'jan', 'sep', 'dec', 'apr', 'may', 'jan']}\n",
      "updated il object : \n",
      " variables :\n",
      "    {'month': ['jan', 'feb', 'april', 'jan', 'sep', 'dec', 'apr', 'may', 'jan']}\n",
      "    {'quarters': ['q1', 'q1', 'q2', 'q1', 'q3', 'q4', 'q2', 'q2', 'q1']}\n",
      "\n"
     ]
    }
   ],
   "source": [
    "il = Sdataset.ntv({'month':   ['jan', 'feb', 'apr', 'jan', 'sep', 'dec', 'apr', 'may', 'jan'],\n",
    "                   'quarter': ['q1',  'q1',  'q2',  'q1',  'q3',  'q4',  'q2',  'q2',  'q1' ]})\n",
    "\n",
    "print('first Field (row) : ', il.lindex[0])\n",
    "print('first Field (name): ', il.nindex('month'))\n",
    "\n",
    "il.lindex[0][2] = 'april'\n",
    "il.nindex('quarter').setname('quarters')\n",
    "\n",
    "print('updated il object : \\n', il)"
   ]
  },
  {
   "cell_type": "markdown",
   "metadata": {},
   "source": [
    "## Item access\n",
    "the items are accessible for update and delete"
   ]
  },
  {
   "cell_type": "code",
   "execution_count": 3,
   "metadata": {
    "scrolled": true
   },
   "outputs": [
    {
     "name": "stdout",
     "output_type": "stream",
     "text": [
      "item access : \n",
      " variables :\n",
      "    {'month': ['jan', 'feb', 'mar', 'jan', 'sep', 'dec', 'apr', 'may']}\n",
      "    {'quarters': ['q1', 'q1', 'q1', 'q1', 'q3', 'q4', 'q2', 'q2']}\n",
      "\n",
      "append method : \n",
      " variables :\n",
      "    {'month': ['jan', 'feb', 'mar', 'jan', 'sep', 'dec', 'apr', 'may', 'january']}\n",
      "    {'quarters': ['q1', 'q1', 'q1', 'q1', 'q3', 'q4', 'q2', 'q2', 'quarter1']}\n",
      "\n"
     ]
    }
   ],
   "source": [
    "il[2] = ['mar', 'q1']\n",
    "del(il[8])\n",
    "print('item access : \\n', il)\n",
    "\n",
    "il.append(['january', 'quarter1'])\n",
    "print('append method : \\n', il)\n"
   ]
  },
  {
   "cell_type": "markdown",
   "metadata": {},
   "source": [
    "## add and copy\n",
    "Dataset can be added ( values are added with '+' operator, Field are added with '|' operator) and copied\n",
    "\n",
    "Note : When adding Field, Field name is updated if the same name is present"
   ]
  },
  {
   "cell_type": "code",
   "execution_count": 4,
   "metadata": {},
   "outputs": [
    {
     "name": "stdout",
     "output_type": "stream",
     "text": [
      "adding values : \n",
      " variables :\n",
      "    {'month': ['jan', 'feb', 'mar', 'jan', 'sep', 'dec', 'apr', 'may', 'january', 'jan', 'feb', 'mar', 'jan', 'sep', 'dec', 'apr', 'may', 'january']}\n",
      "    {'quarters': ['q1', 'q1', 'q1', 'q1', 'q3', 'q4', 'q2', 'q2', 'quarter1', 'q1', 'q1', 'q1', 'q1', 'q3', 'q4', 'q2', 'q2', 'quarter1']}\n",
      "\n",
      "adding Field : \n",
      " variables :\n",
      "    {'month': ['jan', 'feb', 'mar', 'jan', 'sep', 'dec', 'apr', 'may', 'january']}\n",
      "    {'quarters': ['q1', 'q1', 'q1', 'q1', 'q3', 'q4', 'q2', 'q2', 'quarter1']}\n",
      "\n",
      "copy are equal to original ?  True\n"
     ]
    }
   ],
   "source": [
    "il2 = il + il\n",
    "print('adding values : \\n', il2)\n",
    "\n",
    "il3 = il | il\n",
    "print('adding Field : \\n', il3)\n",
    "\n",
    "il3 = copy(il)\n",
    "print('copy are equal to original ? ', il3 == il)"
   ]
  }
 ],
 "metadata": {
  "kernelspec": {
   "display_name": "Python 3 (ipykernel)",
   "language": "python",
   "name": "python3"
  },
  "language_info": {
   "codemirror_mode": {
    "name": "ipython",
    "version": 3
   },
   "file_extension": ".py",
   "mimetype": "text/x-python",
   "name": "python",
   "nbconvert_exporter": "python",
   "pygments_lexer": "ipython3",
   "version": "3.10.9"
  }
 },
 "nbformat": 4,
 "nbformat_minor": 4
}
