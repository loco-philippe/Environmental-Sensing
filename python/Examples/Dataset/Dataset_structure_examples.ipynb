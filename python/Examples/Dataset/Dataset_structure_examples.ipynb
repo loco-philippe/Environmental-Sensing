{
 "cells": [
  {
   "cell_type": "markdown",
   "id": "f95fd259",
   "metadata": {},
   "source": [
    "# Module d'analyse de structure\n",
    "Ce document présente les méthodes d'analyse de la structure des objets Dataset à partir d'un exemple. \n",
    "1. Structure de données\n",
    "2. Fonctions d'analyse\n",
    "3. Exemple d'implémentation\n",
    "4. Fonctions de modification de structure\n",
    "5. Exemple complet\n",
    "\n",
    "La classe Observation est dérivée de la classe Dataset, ces méthodes sont donc aussi applicables aux objets Observation.\n",
    "\n",
    "----"
   ]
  },
  {
   "cell_type": "markdown",
   "id": "3bcc48eb",
   "metadata": {},
   "source": [
    "\n",
    "## 1 - Structure de données \n",
    "### 1.1 - Objet Dataset\n",
    "L'objet Dataset a deux attributs principaux:\n",
    "- 'lindex' : list contenant les objets Field qui composent l'objet Dataset\n",
    "- 'name' : utilisé uniquement par la classe fille 'Observation'\n",
    "\n",
    "L'instance 'example' ci-dessous contient 4 Field. "
   ]
  },
  {
   "cell_type": "code",
   "execution_count": 1,
   "id": "7c188b3d",
   "metadata": {},
   "outputs": [
    {
     "name": "stdout",
     "output_type": "stream",
     "text": [
      "variables :\n",
      "    {'i0': [1, 2, 3, 4, 5, 6]}\n",
      "index :\n",
      "    {'i1': ['a', 'a', 'b', 'b', 'c', 'c']}\n",
      "    {'i2': [100, 100, 200, 200, 300, 300]}\n",
      "    {'i3': [True, False, True, False, True, False]}\n",
      "\n",
      "{'field': <class 'observation.field.Sfield'>,\n",
      " 'lindex': [Sfield[6], Sfield[6], Sfield[6], Sfield[6]],\n",
      " 'name': 'Sdataset'}\n"
     ]
    }
   ],
   "source": [
    "from observation import Sdataset, Ndataset, Sfield, Nfield\n",
    "from pprint import pprint\n",
    "\n",
    "example = Sdataset.ntv([[  1,   2,   3,   4,   5,   6],\n",
    "                        ['a', 'a', 'b', 'b', 'c', 'c'],\n",
    "                        [100, 100, 200, 200, 300, 300],\n",
    "                        [True, False, True, False, True, False]])\n",
    "print(example)\n",
    "pprint(vars(example))"
   ]
  },
  {
   "cell_type": "markdown",
   "id": "6ece51d7",
   "metadata": {},
   "source": [
    "### 1.2 - Objet Field\n",
    "L'objet Field a trois attributs :\n",
    "- name : nom\n",
    "- _codec : liste de valeurs présentes (le rang de la valeur est utilisé pour ordonner les valeurs)\n",
    "- _keys : liste des rangs des valeurs données lors de la création\n",
    "\n",
    "Dans l'exemple idx1 ci-dessous, on a choisi de garder dans 'codec' uniquement les valeurs distinctes (default codec)\n",
    "\n",
    "*Nota : Les valeurs dans cet exemple sont restreintes à des valeurs numériques, chaînes de caractères ou booléens mais elles peuvent également correspondre à des objets de plus haut niveau*"
   ]
  },
  {
   "cell_type": "code",
   "execution_count": 2,
   "id": "cf78d220",
   "metadata": {},
   "outputs": [
    {
     "name": "stdout",
     "output_type": "stream",
     "text": [
      "{'i1': ['a', 'a', 'b', 'b', 'c', 'c']}\n",
      "{'_codec': ['a', 'b', 'c'], '_keys': [0, 0, 1, 1, 2, 2], 'name': 'i1'}\n"
     ]
    }
   ],
   "source": [
    "idx0, idx1, idx2, idx3 = example.lindex\n",
    "\n",
    "print(idx1)\n",
    "pprint(vars(idx1))"
   ]
  },
  {
   "cell_type": "markdown",
   "id": "0823efeb",
   "metadata": {},
   "source": [
    "On peut également choisir d'avoir un codec \n",
    "- avec toutes les valeurs (full codec)\n",
    "- avec certaines valeurs dupliquées ou non \n",
    "\n",
    "cf ci-dessous les deux exemples."
   ]
  },
  {
   "cell_type": "code",
   "execution_count": 3,
   "id": "cbbb204c",
   "metadata": {
    "scrolled": true
   },
   "outputs": [
    {
     "name": "stdout",
     "output_type": "stream",
     "text": [
      "{'_codec': ['a', 'a', 'b', 'b', 'c', 'c'], '_keys': [0, 1, 2, 3, 4, 5], 'name': 'i1'}\n",
      "{'_codec': ['a', 'b', 'b', 'c'], '_keys': [0, 0, 1, 2, 3, 3], 'name': 'i1'}\n"
     ]
    }
   ],
   "source": [
    "idx1.tostdcodec(inplace=True)\n",
    "pprint(vars(idx1), width=180)\n",
    "idx1.setkeys([0,0,1,2,3,3])\n",
    "pprint(vars(idx1))"
   ]
  },
  {
   "cell_type": "markdown",
   "id": "416412ca",
   "metadata": {},
   "source": [
    "## 2 - fonctions d'analyse\n",
    "Les fonctions d'analyse permettent de mesurer les relations de couplage entre Field et de qualifier la structure Dataset intégrant ces Field.\n",
    "\n",
    "Les fonctions d'ajustement de la structure (modification) ne sont pas décrites ici.\n",
    "\n",
    "### 2.1 - Field\n",
    "\n",
    "\n",
    "<img src=\"https://loco-philippe.github.io/ES/ilist_index_category.png\" width=\"800\">"
   ]
  },
  {
   "cell_type": "markdown",
   "id": "6cc61135",
   "metadata": {},
   "source": [
    "La méthode infos calcule les valeurs ci-dessous à partir de l'attribut codec conformément au schéma ci-dessus."
   ]
  },
  {
   "cell_type": "code",
   "execution_count": 4,
   "id": "94570fa0",
   "metadata": {
    "scrolled": true
   },
   "outputs": [
    {
     "data": {
      "text/plain": [
       "{'lencodec': 4,\n",
       " 'mincodec': 3,\n",
       " 'maxcodec': 6,\n",
       " 'typecodec': 'mixed',\n",
       " 'ratecodec': 0.6666666666666666}"
      ]
     },
     "execution_count": 4,
     "metadata": {},
     "output_type": "execute_result"
    }
   ],
   "source": [
    "idx1.infos"
   ]
  },
  {
   "cell_type": "markdown",
   "id": "cd3c8f5a",
   "metadata": {},
   "source": [
    "### 2.2 - couplage entre deux Field\n",
    "Le couplage entre deux Field est calculé à partir de l'attribut 'keys' conformément au schéma ci-dessous.\n",
    "\n",
    "<img src=\"https://loco-philippe.github.io/ES/ilist_link_category.png\" width=\"800\">\n",
    "\n",
    "La méthode 'couplinginfos' calcule les valeurs de couplage (cf exemples ci-dessous)"
   ]
  },
  {
   "cell_type": "code",
   "execution_count": 5,
   "id": "8d2a213a",
   "metadata": {},
   "outputs": [
    {
     "name": "stdout",
     "output_type": "stream",
     "text": [
      "{'dist': 6, 'dmin': 6, 'dmax': 18, 'diff': 3, 'dran': 12, 'rateder': 0.0, 'distomin': 0, 'distomax': 12, 'distance': 3, 'ratecpl': 0.2, 'typecoupl': 'derived'}\n",
      "{'dist': 3, 'dmin': 3, 'dmax': 9, 'diff': 0, 'dran': 6, 'rateder': 0.0, 'distomin': 0, 'distomax': 6, 'distance': 0, 'ratecpl': 0.0, 'typecoupl': 'coupled'}\n",
      "{'dist': 6, 'dmin': 3, 'dmax': 6, 'diff': 1, 'dran': 3, 'rateder': 1.0, 'distomin': 3, 'distomax': 0, 'distance': 4, 'ratecpl': 1.0, 'typecoupl': 'crossed'}\n"
     ]
    }
   ],
   "source": [
    "idx1.reindex() # les attributs 'keys' et 'codec' sont réinitialisées avec le \"default codec\"\n",
    "print(idx1.couplinginfos(idx0))\n",
    "print(idx1.couplinginfos(idx2))\n",
    "print(idx1.couplinginfos(idx3))"
   ]
  },
  {
   "cell_type": "markdown",
   "id": "b33e2600",
   "metadata": {},
   "source": [
    "### 2.3 - Synthèse des couplages pour l'objet Dataset\n",
    "\n",
    "La méthode 'couplingmatrix' renvoie une matrice contenant les résultats 'couplinginfos' de chaque couple de Field."
   ]
  },
  {
   "cell_type": "code",
   "execution_count": 6,
   "id": "0a28d129",
   "metadata": {
    "scrolled": false
   },
   "outputs": [
    {
     "name": "stdout",
     "output_type": "stream",
     "text": [
      "Field: 'i3'\n",
      " {'lencodec': 2, 'mincodec': 2, 'maxcodec': 6, 'id': 'i3', 'ratecodec': 1.0, 'dmincodec': 0, 'dmaxcodec': 4, 'rancodec': 4, 'typecodec': 'default', 'distroot': 4, 'num': 3, 'category': 'derived', 'pdistance': 'root', 'pdistomin': 'root', 'pderived': 'root'}\n",
      "\n",
      "Relationship: ['i0', 'i2']\n",
      " {'dist': 6, 'relation': ['i0', 'i2'], 'typecoupl': 'derived', 'parentchild': True, 'distance': 3, 'distomin': 0, 'distomax': 12, 'distributed': False, 'ratecpl': 0.2, 'rateder': 0.0, 'dmax': 18, 'dmin': 6, 'diff': 3, 'dran': 12}\n"
     ]
    }
   ],
   "source": [
    "analys = example.analysis.to_dict(mode='id', relations=True)\n",
    "print(\"Field: 'i3'\\n\", analys['fields'][3])\n",
    "print(\"\\nRelationship: ['i0', 'i2']\\n\", analys['relations'][5])"
   ]
  },
  {
   "cell_type": "markdown",
   "id": "100550ee",
   "metadata": {},
   "source": [
    "### 2.4 - Qualification de la structure de l'objet Dataset\n",
    "\n",
    "Les propriétés indiquées ci-dessous sont calculées par la méthode 'indexinfos'.\n",
    "\n",
    "<img src=\"https://loco-philippe.github.io/ES/ilist_properties.png\" width=\"600\">\n",
    "\n",
    "Ceci permet de calculer les informations 'primary', 'dimension'.\n",
    "\n",
    "Dans l'exemple ci-dessous les Field 'i1' et 'i3' sont de type 'primary', ils forment donc une matrice (dimension 2)."
   ]
  },
  {
   "cell_type": "code",
   "execution_count": 7,
   "id": "be2dfec9",
   "metadata": {
    "scrolled": false
   },
   "outputs": [
    {
     "name": "stdout",
     "output_type": "stream",
     "text": [
      "dimension :  2\n",
      "\n",
      "default partition:\n",
      " {'primary': ['i1', 'i3'], 'secondary': ['i2'], 'unique': [], 'variable': ['i0']}\n"
     ]
    }
   ],
   "source": [
    "print('dimension : ', example.dimension)\n",
    "print('\\ndefault partition:\\n', example.analysis.field_partition(mode='id'))"
   ]
  },
  {
   "cell_type": "markdown",
   "id": "976c9ef7",
   "metadata": {},
   "source": [
    "La distinction entre Field 'variable', Field 'primary' et Field 'secondary' est compatible avec les outils d'analyse de données comme Xarray.\n",
    "cf exemple ci-dessous :"
   ]
  },
  {
   "cell_type": "code",
   "execution_count": 8,
   "id": "9531cccf",
   "metadata": {},
   "outputs": [
    {
     "data": {
      "text/html": [
       "<div><svg style=\"position: absolute; width: 0; height: 0; overflow: hidden\">\n",
       "<defs>\n",
       "<symbol id=\"icon-database\" viewBox=\"0 0 32 32\">\n",
       "<path d=\"M16 0c-8.837 0-16 2.239-16 5v4c0 2.761 7.163 5 16 5s16-2.239 16-5v-4c0-2.761-7.163-5-16-5z\"></path>\n",
       "<path d=\"M16 17c-8.837 0-16-2.239-16-5v6c0 2.761 7.163 5 16 5s16-2.239 16-5v-6c0 2.761-7.163 5-16 5z\"></path>\n",
       "<path d=\"M16 26c-8.837 0-16-2.239-16-5v6c0 2.761 7.163 5 16 5s16-2.239 16-5v-6c0 2.761-7.163 5-16 5z\"></path>\n",
       "</symbol>\n",
       "<symbol id=\"icon-file-text2\" viewBox=\"0 0 32 32\">\n",
       "<path d=\"M28.681 7.159c-0.694-0.947-1.662-2.053-2.724-3.116s-2.169-2.030-3.116-2.724c-1.612-1.182-2.393-1.319-2.841-1.319h-15.5c-1.378 0-2.5 1.121-2.5 2.5v27c0 1.378 1.122 2.5 2.5 2.5h23c1.378 0 2.5-1.122 2.5-2.5v-19.5c0-0.448-0.137-1.23-1.319-2.841zM24.543 5.457c0.959 0.959 1.712 1.825 2.268 2.543h-4.811v-4.811c0.718 0.556 1.584 1.309 2.543 2.268zM28 29.5c0 0.271-0.229 0.5-0.5 0.5h-23c-0.271 0-0.5-0.229-0.5-0.5v-27c0-0.271 0.229-0.5 0.5-0.5 0 0 15.499-0 15.5 0v7c0 0.552 0.448 1 1 1h7v19.5z\"></path>\n",
       "<path d=\"M23 26h-14c-0.552 0-1-0.448-1-1s0.448-1 1-1h14c0.552 0 1 0.448 1 1s-0.448 1-1 1z\"></path>\n",
       "<path d=\"M23 22h-14c-0.552 0-1-0.448-1-1s0.448-1 1-1h14c0.552 0 1 0.448 1 1s-0.448 1-1 1z\"></path>\n",
       "<path d=\"M23 18h-14c-0.552 0-1-0.448-1-1s0.448-1 1-1h14c0.552 0 1 0.448 1 1s-0.448 1-1 1z\"></path>\n",
       "</symbol>\n",
       "</defs>\n",
       "</svg>\n",
       "<style>/* CSS stylesheet for displaying xarray objects in jupyterlab.\n",
       " *\n",
       " */\n",
       "\n",
       ":root {\n",
       "  --xr-font-color0: var(--jp-content-font-color0, rgba(0, 0, 0, 1));\n",
       "  --xr-font-color2: var(--jp-content-font-color2, rgba(0, 0, 0, 0.54));\n",
       "  --xr-font-color3: var(--jp-content-font-color3, rgba(0, 0, 0, 0.38));\n",
       "  --xr-border-color: var(--jp-border-color2, #e0e0e0);\n",
       "  --xr-disabled-color: var(--jp-layout-color3, #bdbdbd);\n",
       "  --xr-background-color: var(--jp-layout-color0, white);\n",
       "  --xr-background-color-row-even: var(--jp-layout-color1, white);\n",
       "  --xr-background-color-row-odd: var(--jp-layout-color2, #eeeeee);\n",
       "}\n",
       "\n",
       "html[theme=dark],\n",
       "body[data-theme=dark],\n",
       "body.vscode-dark {\n",
       "  --xr-font-color0: rgba(255, 255, 255, 1);\n",
       "  --xr-font-color2: rgba(255, 255, 255, 0.54);\n",
       "  --xr-font-color3: rgba(255, 255, 255, 0.38);\n",
       "  --xr-border-color: #1F1F1F;\n",
       "  --xr-disabled-color: #515151;\n",
       "  --xr-background-color: #111111;\n",
       "  --xr-background-color-row-even: #111111;\n",
       "  --xr-background-color-row-odd: #313131;\n",
       "}\n",
       "\n",
       ".xr-wrap {\n",
       "  display: block !important;\n",
       "  min-width: 300px;\n",
       "  max-width: 700px;\n",
       "}\n",
       "\n",
       ".xr-text-repr-fallback {\n",
       "  /* fallback to plain text repr when CSS is not injected (untrusted notebook) */\n",
       "  display: none;\n",
       "}\n",
       "\n",
       ".xr-header {\n",
       "  padding-top: 6px;\n",
       "  padding-bottom: 6px;\n",
       "  margin-bottom: 4px;\n",
       "  border-bottom: solid 1px var(--xr-border-color);\n",
       "}\n",
       "\n",
       ".xr-header > div,\n",
       ".xr-header > ul {\n",
       "  display: inline;\n",
       "  margin-top: 0;\n",
       "  margin-bottom: 0;\n",
       "}\n",
       "\n",
       ".xr-obj-type,\n",
       ".xr-array-name {\n",
       "  margin-left: 2px;\n",
       "  margin-right: 10px;\n",
       "}\n",
       "\n",
       ".xr-obj-type {\n",
       "  color: var(--xr-font-color2);\n",
       "}\n",
       "\n",
       ".xr-sections {\n",
       "  padding-left: 0 !important;\n",
       "  display: grid;\n",
       "  grid-template-columns: 150px auto auto 1fr 20px 20px;\n",
       "}\n",
       "\n",
       ".xr-section-item {\n",
       "  display: contents;\n",
       "}\n",
       "\n",
       ".xr-section-item input {\n",
       "  display: none;\n",
       "}\n",
       "\n",
       ".xr-section-item input + label {\n",
       "  color: var(--xr-disabled-color);\n",
       "}\n",
       "\n",
       ".xr-section-item input:enabled + label {\n",
       "  cursor: pointer;\n",
       "  color: var(--xr-font-color2);\n",
       "}\n",
       "\n",
       ".xr-section-item input:enabled + label:hover {\n",
       "  color: var(--xr-font-color0);\n",
       "}\n",
       "\n",
       ".xr-section-summary {\n",
       "  grid-column: 1;\n",
       "  color: var(--xr-font-color2);\n",
       "  font-weight: 500;\n",
       "}\n",
       "\n",
       ".xr-section-summary > span {\n",
       "  display: inline-block;\n",
       "  padding-left: 0.5em;\n",
       "}\n",
       "\n",
       ".xr-section-summary-in:disabled + label {\n",
       "  color: var(--xr-font-color2);\n",
       "}\n",
       "\n",
       ".xr-section-summary-in + label:before {\n",
       "  display: inline-block;\n",
       "  content: '►';\n",
       "  font-size: 11px;\n",
       "  width: 15px;\n",
       "  text-align: center;\n",
       "}\n",
       "\n",
       ".xr-section-summary-in:disabled + label:before {\n",
       "  color: var(--xr-disabled-color);\n",
       "}\n",
       "\n",
       ".xr-section-summary-in:checked + label:before {\n",
       "  content: '▼';\n",
       "}\n",
       "\n",
       ".xr-section-summary-in:checked + label > span {\n",
       "  display: none;\n",
       "}\n",
       "\n",
       ".xr-section-summary,\n",
       ".xr-section-inline-details {\n",
       "  padding-top: 4px;\n",
       "  padding-bottom: 4px;\n",
       "}\n",
       "\n",
       ".xr-section-inline-details {\n",
       "  grid-column: 2 / -1;\n",
       "}\n",
       "\n",
       ".xr-section-details {\n",
       "  display: none;\n",
       "  grid-column: 1 / -1;\n",
       "  margin-bottom: 5px;\n",
       "}\n",
       "\n",
       ".xr-section-summary-in:checked ~ .xr-section-details {\n",
       "  display: contents;\n",
       "}\n",
       "\n",
       ".xr-array-wrap {\n",
       "  grid-column: 1 / -1;\n",
       "  display: grid;\n",
       "  grid-template-columns: 20px auto;\n",
       "}\n",
       "\n",
       ".xr-array-wrap > label {\n",
       "  grid-column: 1;\n",
       "  vertical-align: top;\n",
       "}\n",
       "\n",
       ".xr-preview {\n",
       "  color: var(--xr-font-color3);\n",
       "}\n",
       "\n",
       ".xr-array-preview,\n",
       ".xr-array-data {\n",
       "  padding: 0 5px !important;\n",
       "  grid-column: 2;\n",
       "}\n",
       "\n",
       ".xr-array-data,\n",
       ".xr-array-in:checked ~ .xr-array-preview {\n",
       "  display: none;\n",
       "}\n",
       "\n",
       ".xr-array-in:checked ~ .xr-array-data,\n",
       ".xr-array-preview {\n",
       "  display: inline-block;\n",
       "}\n",
       "\n",
       ".xr-dim-list {\n",
       "  display: inline-block !important;\n",
       "  list-style: none;\n",
       "  padding: 0 !important;\n",
       "  margin: 0;\n",
       "}\n",
       "\n",
       ".xr-dim-list li {\n",
       "  display: inline-block;\n",
       "  padding: 0;\n",
       "  margin: 0;\n",
       "}\n",
       "\n",
       ".xr-dim-list:before {\n",
       "  content: '(';\n",
       "}\n",
       "\n",
       ".xr-dim-list:after {\n",
       "  content: ')';\n",
       "}\n",
       "\n",
       ".xr-dim-list li:not(:last-child):after {\n",
       "  content: ',';\n",
       "  padding-right: 5px;\n",
       "}\n",
       "\n",
       ".xr-has-index {\n",
       "  font-weight: bold;\n",
       "}\n",
       "\n",
       ".xr-var-list,\n",
       ".xr-var-item {\n",
       "  display: contents;\n",
       "}\n",
       "\n",
       ".xr-var-item > div,\n",
       ".xr-var-item label,\n",
       ".xr-var-item > .xr-var-name span {\n",
       "  background-color: var(--xr-background-color-row-even);\n",
       "  margin-bottom: 0;\n",
       "}\n",
       "\n",
       ".xr-var-item > .xr-var-name:hover span {\n",
       "  padding-right: 5px;\n",
       "}\n",
       "\n",
       ".xr-var-list > li:nth-child(odd) > div,\n",
       ".xr-var-list > li:nth-child(odd) > label,\n",
       ".xr-var-list > li:nth-child(odd) > .xr-var-name span {\n",
       "  background-color: var(--xr-background-color-row-odd);\n",
       "}\n",
       "\n",
       ".xr-var-name {\n",
       "  grid-column: 1;\n",
       "}\n",
       "\n",
       ".xr-var-dims {\n",
       "  grid-column: 2;\n",
       "}\n",
       "\n",
       ".xr-var-dtype {\n",
       "  grid-column: 3;\n",
       "  text-align: right;\n",
       "  color: var(--xr-font-color2);\n",
       "}\n",
       "\n",
       ".xr-var-preview {\n",
       "  grid-column: 4;\n",
       "}\n",
       "\n",
       ".xr-index-preview {\n",
       "  grid-column: 2 / 5;\n",
       "  color: var(--xr-font-color2);\n",
       "}\n",
       "\n",
       ".xr-var-name,\n",
       ".xr-var-dims,\n",
       ".xr-var-dtype,\n",
       ".xr-preview,\n",
       ".xr-attrs dt {\n",
       "  white-space: nowrap;\n",
       "  overflow: hidden;\n",
       "  text-overflow: ellipsis;\n",
       "  padding-right: 10px;\n",
       "}\n",
       "\n",
       ".xr-var-name:hover,\n",
       ".xr-var-dims:hover,\n",
       ".xr-var-dtype:hover,\n",
       ".xr-attrs dt:hover {\n",
       "  overflow: visible;\n",
       "  width: auto;\n",
       "  z-index: 1;\n",
       "}\n",
       "\n",
       ".xr-var-attrs,\n",
       ".xr-var-data,\n",
       ".xr-index-data {\n",
       "  display: none;\n",
       "  background-color: var(--xr-background-color) !important;\n",
       "  padding-bottom: 5px !important;\n",
       "}\n",
       "\n",
       ".xr-var-attrs-in:checked ~ .xr-var-attrs,\n",
       ".xr-var-data-in:checked ~ .xr-var-data,\n",
       ".xr-index-data-in:checked ~ .xr-index-data {\n",
       "  display: block;\n",
       "}\n",
       "\n",
       ".xr-var-data > table {\n",
       "  float: right;\n",
       "}\n",
       "\n",
       ".xr-var-name span,\n",
       ".xr-var-data,\n",
       ".xr-index-name div,\n",
       ".xr-index-data,\n",
       ".xr-attrs {\n",
       "  padding-left: 25px !important;\n",
       "}\n",
       "\n",
       ".xr-attrs,\n",
       ".xr-var-attrs,\n",
       ".xr-var-data,\n",
       ".xr-index-data {\n",
       "  grid-column: 1 / -1;\n",
       "}\n",
       "\n",
       "dl.xr-attrs {\n",
       "  padding: 0;\n",
       "  margin: 0;\n",
       "  display: grid;\n",
       "  grid-template-columns: 125px auto;\n",
       "}\n",
       "\n",
       ".xr-attrs dt,\n",
       ".xr-attrs dd {\n",
       "  padding: 0;\n",
       "  margin: 0;\n",
       "  float: left;\n",
       "  padding-right: 10px;\n",
       "  width: auto;\n",
       "}\n",
       "\n",
       ".xr-attrs dt {\n",
       "  font-weight: normal;\n",
       "  grid-column: 1;\n",
       "}\n",
       "\n",
       ".xr-attrs dt:hover span {\n",
       "  display: inline-block;\n",
       "  background: var(--xr-background-color);\n",
       "  padding-right: 10px;\n",
       "}\n",
       "\n",
       ".xr-attrs dd {\n",
       "  grid-column: 2;\n",
       "  white-space: pre-wrap;\n",
       "  word-break: break-all;\n",
       "}\n",
       "\n",
       ".xr-icon-database,\n",
       ".xr-icon-file-text2,\n",
       ".xr-no-icon {\n",
       "  display: inline-block;\n",
       "  vertical-align: middle;\n",
       "  width: 1em;\n",
       "  height: 1.5em !important;\n",
       "  stroke-width: 0;\n",
       "  stroke: currentColor;\n",
       "  fill: currentColor;\n",
       "}\n",
       "</style><pre class='xr-text-repr-fallback'>&lt;xarray.DataArray &#x27;i0&#x27; (i1: 3, i3: 2)&gt;\n",
       "array([[1, 2],\n",
       "       [3, 4],\n",
       "       [5, 6]], dtype=object)\n",
       "Coordinates:\n",
       "  * i1       (i1) object &#x27;a&#x27; &#x27;b&#x27; &#x27;c&#x27;\n",
       "  * i3       (i3) object &#x27;true&#x27; &#x27;false&#x27;\n",
       "    i2       (i1) object 100 200 300</pre><div class='xr-wrap' style='display:none'><div class='xr-header'><div class='xr-obj-type'>xarray.DataArray</div><div class='xr-array-name'>'i0'</div><ul class='xr-dim-list'><li><span class='xr-has-index'>i1</span>: 3</li><li><span class='xr-has-index'>i3</span>: 2</li></ul></div><ul class='xr-sections'><li class='xr-section-item'><div class='xr-array-wrap'><input id='section-6258c7a6-f7ba-4047-a058-4e2a39becd3f' class='xr-array-in' type='checkbox' checked><label for='section-6258c7a6-f7ba-4047-a058-4e2a39becd3f' title='Show/hide data repr'><svg class='icon xr-icon-database'><use xlink:href='#icon-database'></use></svg></label><div class='xr-array-preview xr-preview'><span>1 2 3 4 5 6</span></div><div class='xr-array-data'><pre>array([[1, 2],\n",
       "       [3, 4],\n",
       "       [5, 6]], dtype=object)</pre></div></div></li><li class='xr-section-item'><input id='section-2d9e7bcf-e00b-47e3-b02c-e68a42b7dcdf' class='xr-section-summary-in' type='checkbox'  checked><label for='section-2d9e7bcf-e00b-47e3-b02c-e68a42b7dcdf' class='xr-section-summary' >Coordinates: <span>(3)</span></label><div class='xr-section-inline-details'></div><div class='xr-section-details'><ul class='xr-var-list'><li class='xr-var-item'><div class='xr-var-name'><span class='xr-has-index'>i1</span></div><div class='xr-var-dims'>(i1)</div><div class='xr-var-dtype'>object</div><div class='xr-var-preview xr-preview'>&#x27;a&#x27; &#x27;b&#x27; &#x27;c&#x27;</div><input id='attrs-322102a4-7e2d-4ec9-ab70-64f4c2181cfc' class='xr-var-attrs-in' type='checkbox' disabled><label for='attrs-322102a4-7e2d-4ec9-ab70-64f4c2181cfc' title='Show/Hide attributes'><svg class='icon xr-icon-file-text2'><use xlink:href='#icon-file-text2'></use></svg></label><input id='data-654e038d-7b6d-426d-9e98-1191fe90b2cd' class='xr-var-data-in' type='checkbox'><label for='data-654e038d-7b6d-426d-9e98-1191fe90b2cd' title='Show/Hide data repr'><svg class='icon xr-icon-database'><use xlink:href='#icon-database'></use></svg></label><div class='xr-var-attrs'><dl class='xr-attrs'></dl></div><div class='xr-var-data'><pre>array([&#x27;a&#x27;, &#x27;b&#x27;, &#x27;c&#x27;], dtype=object)</pre></div></li><li class='xr-var-item'><div class='xr-var-name'><span class='xr-has-index'>i3</span></div><div class='xr-var-dims'>(i3)</div><div class='xr-var-dtype'>object</div><div class='xr-var-preview xr-preview'>&#x27;true&#x27; &#x27;false&#x27;</div><input id='attrs-c4da97f9-53d3-4541-98b9-a9d77b964bc7' class='xr-var-attrs-in' type='checkbox' disabled><label for='attrs-c4da97f9-53d3-4541-98b9-a9d77b964bc7' title='Show/Hide attributes'><svg class='icon xr-icon-file-text2'><use xlink:href='#icon-file-text2'></use></svg></label><input id='data-0f2cae63-03de-4ff5-abc4-383207e1bba5' class='xr-var-data-in' type='checkbox'><label for='data-0f2cae63-03de-4ff5-abc4-383207e1bba5' title='Show/Hide data repr'><svg class='icon xr-icon-database'><use xlink:href='#icon-database'></use></svg></label><div class='xr-var-attrs'><dl class='xr-attrs'></dl></div><div class='xr-var-data'><pre>array([&#x27;true&#x27;, &#x27;false&#x27;], dtype=object)</pre></div></li><li class='xr-var-item'><div class='xr-var-name'><span>i2</span></div><div class='xr-var-dims'>(i1)</div><div class='xr-var-dtype'>object</div><div class='xr-var-preview xr-preview'>100 200 300</div><input id='attrs-1bd443ee-616a-4109-b6b3-ed7281f2d140' class='xr-var-attrs-in' type='checkbox' disabled><label for='attrs-1bd443ee-616a-4109-b6b3-ed7281f2d140' title='Show/Hide attributes'><svg class='icon xr-icon-file-text2'><use xlink:href='#icon-file-text2'></use></svg></label><input id='data-c0be7127-7cd5-4db1-80dc-5d87f91bd7a3' class='xr-var-data-in' type='checkbox'><label for='data-c0be7127-7cd5-4db1-80dc-5d87f91bd7a3' title='Show/Hide data repr'><svg class='icon xr-icon-database'><use xlink:href='#icon-database'></use></svg></label><div class='xr-var-attrs'><dl class='xr-attrs'></dl></div><div class='xr-var-data'><pre>array([100, 200, 300], dtype=object)</pre></div></li></ul></div></li><li class='xr-section-item'><input id='section-3ab4a9f1-4c87-4483-8bfb-3a453da603fc' class='xr-section-summary-in' type='checkbox'  ><label for='section-3ab4a9f1-4c87-4483-8bfb-3a453da603fc' class='xr-section-summary' >Indexes: <span>(2)</span></label><div class='xr-section-inline-details'></div><div class='xr-section-details'><ul class='xr-var-list'><li class='xr-var-item'><div class='xr-index-name'><div>i1</div></div><div class='xr-index-preview'>PandasIndex</div><div></div><input id='index-3f08eeb0-1a1e-4f55-9204-86d7da941704' class='xr-index-data-in' type='checkbox'/><label for='index-3f08eeb0-1a1e-4f55-9204-86d7da941704' title='Show/Hide index repr'><svg class='icon xr-icon-database'><use xlink:href='#icon-database'></use></svg></label><div class='xr-index-data'><pre>PandasIndex(Index([&#x27;a&#x27;, &#x27;b&#x27;, &#x27;c&#x27;], dtype=&#x27;object&#x27;, name=&#x27;i1&#x27;))</pre></div></li><li class='xr-var-item'><div class='xr-index-name'><div>i3</div></div><div class='xr-index-preview'>PandasIndex</div><div></div><input id='index-74583689-c4bb-4227-bca2-7d601931d54c' class='xr-index-data-in' type='checkbox'/><label for='index-74583689-c4bb-4227-bca2-7d601931d54c' title='Show/Hide index repr'><svg class='icon xr-icon-database'><use xlink:href='#icon-database'></use></svg></label><div class='xr-index-data'><pre>PandasIndex(Index([&#x27;true&#x27;, &#x27;false&#x27;], dtype=&#x27;object&#x27;, name=&#x27;i3&#x27;))</pre></div></li></ul></div></li><li class='xr-section-item'><input id='section-3c99fa5c-e48b-47e6-9f5a-8f54191145e6' class='xr-section-summary-in' type='checkbox' disabled ><label for='section-3c99fa5c-e48b-47e6-9f5a-8f54191145e6' class='xr-section-summary'  title='Expand/collapse section'>Attributes: <span>(0)</span></label><div class='xr-section-inline-details'></div><div class='xr-section-details'><dl class='xr-attrs'></dl></div></li></ul></div></div>"
      ],
      "text/plain": [
       "<xarray.DataArray 'i0' (i1: 3, i3: 2)>\n",
       "array([[1, 2],\n",
       "       [3, 4],\n",
       "       [5, 6]], dtype=object)\n",
       "Coordinates:\n",
       "  * i1       (i1) object 'a' 'b' 'c'\n",
       "  * i3       (i3) object 'true' 'false'\n",
       "    i2       (i1) object 100 200 300"
      ]
     },
     "execution_count": 8,
     "metadata": {},
     "output_type": "execute_result"
    }
   ],
   "source": [
    "example.to_xarray()"
   ]
  },
  {
   "cell_type": "markdown",
   "id": "3a63f04c",
   "metadata": {},
   "source": [
    "## 3 - Exemple d'implémentation \n",
    "L'exemple ci-dessous présente une implémentation simple pour le calcul des relations de couplage."
   ]
  },
  {
   "cell_type": "code",
   "execution_count": 9,
   "id": "c16a0c32",
   "metadata": {},
   "outputs": [
    {
     "name": "stdout",
     "output_type": "stream",
     "text": [
      "field 1 is derived from field 2\n",
      "field 2 and field 1 are coupled\n",
      "field 2 and field 1 are crossed\n",
      "field 1 and field 2 are linked\n"
     ]
    }
   ],
   "source": [
    "def check_relationship(field1, field2):\n",
    "    dist = len(set(zip(field1, field2)))\n",
    "    len1 = len(set(field1))\n",
    "    len2 = len(set(field2))\n",
    "    \n",
    "    if dist == len1 and dist > len2:    return \"field 2 is derived from field 1\"\n",
    "    if dist == len2 and dist > len1:    return \"field 1 is derived from field 2\"    \n",
    "    if dist == len1 and dist == len2:   return \"field 2 and field 1 are coupled\"\n",
    "    if dist == len1 * len2:             return \"field 2 and field 1 are crossed\"\n",
    "    return \"field 1 and field 2 are linked\"\n",
    "\n",
    "example = [ [  'T1',    'T2',   'T2',    'T1',    'T2',   'T1'],\n",
    "            [ 'jan',   'apr',  'jun',   'feb',   'may',  'jan'],\n",
    "            ['john',  'paul', 'leah',  'paul',  'paul', 'john'],\n",
    "            ['jock', 'paulo', 'lili', 'paulo', 'paulo', 'jock'],\n",
    "            [  2020,    2020,   2021,    2021,    2022,   2022],\n",
    "            [  's1',    's2',   's1',    's2',    's1',   's2']]\n",
    "\n",
    "print(check_relationship(example[0], example[1]))  #field 1 is derived from field 2\n",
    "print(check_relationship(example[2], example[3]))  #field 2 and field 1 are coupled\n",
    "print(check_relationship(example[4], example[5]))  #field 2 and field 1 are crossed\n",
    "print(check_relationship(example[1], example[4]))  #field 1 and field 2 are linked"
   ]
  },
  {
   "cell_type": "markdown",
   "id": "c60b7a5a",
   "metadata": {},
   "source": [
    "## 4 - Fonctions de modification de structure\n",
    "\n",
    "Deux types de fonctions sont accessibles :\n",
    "- modification de codification (sans modifier les valeurs externes)\n",
    "\n",
    "<img src=\"https://loco-philippe.github.io/ES/ilist_codec_adjustment.png\" width=\"700\">\n",
    "\n",
    "- modification de données (sans modifier la codification)\n",
    "\n",
    "<img src=\"https://loco-philippe.github.io/ES/ilist_value_adjustment.png\" width=\"700\">\n",
    "\n",
    "Un exemple d'application de ces fonctions est fourni [ici](https://nbviewer.org/github/loco-philippe/Environmental-Sensing/blob/main/python/Examples/Iindex/Iindex_structure_analysis.ipynb)."
   ]
  },
  {
   "cell_type": "markdown",
   "id": "2141c941",
   "metadata": {},
   "source": [
    "## 5 - Exemple complet\n",
    "Un exemple complet est fourni sur [ce lien](https://nbviewer.org/github/loco-philippe/Environmental-Sensing/blob/main/python/Validation/irve/test_IRVE.ipynb). \n",
    "\n",
    "Il concerne les bornes IRVE (infrastructures de recharge des véhicules électriques).\n",
    "\n",
    "Les données d'origine sont disponibles également : [fichier consolidation-etalab-schema-irve-v-2.0.2-20220606-propre2.csv](https://github.com/loco-philippe/Environmental-Sensing/blob/main/python/Validation/irve/consolidation-etalab-schema-irve-v-2.0.2-20220606-propre2.csv).\n",
    "\n",
    "Les temps de réponse des opérations concernées sont également indiqués.\n"
   ]
  }
 ],
 "metadata": {
  "kernelspec": {
   "display_name": "Python 3 (ipykernel)",
   "language": "python",
   "name": "python3"
  },
  "language_info": {
   "codemirror_mode": {
    "name": "ipython",
    "version": 3
   },
   "file_extension": ".py",
   "mimetype": "text/x-python",
   "name": "python",
   "nbconvert_exporter": "python",
   "pygments_lexer": "ipython3",
   "version": "3.10.9"
  }
 },
 "nbformat": 4,
 "nbformat_minor": 5
}
