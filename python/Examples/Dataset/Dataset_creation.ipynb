{
 "cells": [
  {
   "cell_type": "markdown",
   "metadata": {},
   "source": [
    "# Dataset : creation\n",
    "\n",
    "## Goals\n",
    "\n",
    "- show the different ways to create a Dataset object\n",
    "\n",
    "## Prerequisite\n",
    "\n",
    "- creating and updating Field objects \n",
    "-----"
   ]
  },
  {
   "cell_type": "code",
   "execution_count": 1,
   "metadata": {},
   "outputs": [],
   "source": [
    "from observation import Sdataset, Ndataset, Sfield, Nfield"
   ]
  },
  {
   "cell_type": "markdown",
   "metadata": {},
   "source": [
    "## creation modes\n",
    "An Dataset object is a list of Field objects with the same length.\n",
    "\n",
    "Several modes of creation exist\n",
    "- Dataset         : creation with a list of Iindex objects\n",
    "- Dataset.ext     : creation with a list of Iindex values\n",
    "- Dataset.ntv     : creation with a json object"
   ]
  },
  {
   "cell_type": "code",
   "execution_count": 2,
   "metadata": {
    "scrolled": false
   },
   "outputs": [
    {
     "name": "stdout",
     "output_type": "stream",
     "text": [
      "same object ?  True \n",
      "\n",
      "variables :\n",
      "    {'month': ['jan', 'feb', 'apr', 'jan', 'sep', 'dec', 'apr', 'may', 'jan']}\n",
      "    {'quarter': ['q1', 'q1', 'q2', 'q1', 'q3', 'q4', 'q2', 'q2', 'q1']}\n",
      "\n",
      "infos (number of record, number of index, first record ) :  9 2 ['jan', 'q1']\n"
     ]
    },
    {
     "data": {
      "text/plain": [
       "Sdataset[9, 2]"
      ]
     },
     "execution_count": 2,
     "metadata": {},
     "output_type": "execute_result"
    }
   ],
   "source": [
    "month = ['jan', 'feb', 'apr', 'jan', 'sep', 'dec', 'apr', 'may', 'jan']\n",
    "quarter = ['q1',  'q1',  'q2',  'q1',  'q3',  'q4',  'q2',  'q2',  'q1']\n",
    "idxmonth   = Sfield.ntv({'month': month})\n",
    "idxquarter = Sfield.ntv({'quarter': quarter})\n",
    "\n",
    "il  = Sdataset([idxmonth, idxquarter])\n",
    "il1 = Sdataset.ntv({'month': month, 'quarter': quarter})\n",
    "il2 = Sdataset.ext([month, quarter], ['month', 'quarter'])\n",
    "il3 = Sdataset(il)\n",
    "\n",
    "print('same object ? ', il == il1 == il2 == il3, '\\n')\n",
    "\n",
    "print(il)\n",
    "print('infos (number of record, number of index, first record ) : ', len(il), il.lenindex, il[0])\n",
    "il"
   ]
  },
  {
   "cell_type": "markdown",
   "metadata": {},
   "source": [
    "## indexing\n",
    "Element indexing works exactly like that for other standard Python sequences."
   ]
  },
  {
   "cell_type": "code",
   "execution_count": 3,
   "metadata": {},
   "outputs": [
    {
     "name": "stdout",
     "output_type": "stream",
     "text": [
      "['feb', 'q1']\n",
      "['feb', 'q1']\n",
      "[['feb', 'apr'], ['q1', 'q2']]\n",
      "[['sep', 'dec', 'apr', 'may', 'jan'], ['q3', 'q4', 'q2', 'q2', 'q1']]\n",
      "[['jan', 'feb'], ['q1', 'q1']]\n",
      "[['feb', 'jan', 'dec'], ['q1', 'q1', 'q4']]\n",
      "[['dec', 'apr', 'may'], ['q4', 'q2', 'q2']]\n",
      "[['apr', 'jan', 'feb'], ['q2', 'q1', 'q1']]\n"
     ]
    }
   ],
   "source": [
    "print(il1[1])\n",
    "print(il1.record(1))        # 'record' method access at the values in a row.\n",
    "print(il1[1,6])\n",
    "print(il1[4:])\n",
    "print(il1[:2])\n",
    "print(il1[1:7:2])\n",
    "print(il1[-4:8])\n",
    "print(il1[-3,3,1])"
   ]
  },
  {
   "cell_type": "markdown",
   "metadata": {},
   "source": [
    "## Representation\n",
    "Dataset objects have several representation.\n",
    "\n",
    "Note: The codec representation for quarter is different from codec representation for month because quarter is 'derived' from month."
   ]
  },
  {
   "cell_type": "code",
   "execution_count": 4,
   "metadata": {},
   "outputs": [
    {
     "name": "stdout",
     "output_type": "stream",
     "text": [
      "object with codec and keys : \n",
      " {\"month\": [[\"jan\", \"feb\", \"apr\", \"sep\", \"dec\", \"may\"], [0, 1, 2, 0, 3, 4, 2, 5, 0]], \"quarter\": [[\"q1\", \"q2\", \"q3\", \"q4\"], 0, [0, 0, 1, 2, 3, 1]]}\n",
      "\n",
      "object with values : \n",
      " {\"month\": [\"jan\", \"feb\", \"apr\", \"jan\", \"sep\", \"dec\", \"apr\", \"may\", \"jan\"], \"quarter\": [\"q1\", \"q1\", \"q2\", \"q1\", \"q3\", \"q4\", \"q2\", \"q2\", \"q1\"]}\n",
      "\n",
      "string with codec and keys : \n",
      " {\"month\": [[\"jan\", \"feb\", \"apr\", \"sep\", \"dec\", \"may\"], [0, 1, 2, 0, 3, 4, 2, 5, 0]], \"quarter\": [[\"q1\", \"q2\", \"q3\", \"q4\"], 0, [0, 0, 1, 2, 3, 1]]}\n",
      "\n",
      "binary with codec and keys : \n",
      " b'\\xa2emonth\\x82\\x86cjancfebcaprcsepcdeccmay\\x89\\x00\\x01\\x02\\x00\\x03\\x04\\x02\\x05\\x00gquarter\\x83\\x84bq1bq2bq3bq4\\x00\\x86\\x00\\x00\\x01\\x02\\x03\\x01'\n"
     ]
    }
   ],
   "source": [
    "print('object with codec and keys : \\n', il1.to_ntv())\n",
    "print('\\nobject with values : \\n', il1.to_ntv(modecodec='full'))\n",
    "print('\\nstring with codec and keys : \\n', il1.to_ntv().to_obj(encoded=True))\n",
    "print('\\nbinary with codec and keys : \\n', il1.to_ntv().to_obj(encoded=True, format='cbor'))"
   ]
  },
  {
   "cell_type": "markdown",
   "metadata": {},
   "source": [
    "## Json compatibility\n",
    "\n",
    "Dataset objects are completely defined by their Json representation for any format (object, string, binary). i.e. the object reconstructed from its json representation is identical to the initial object."
   ]
  },
  {
   "cell_type": "code",
   "execution_count": 5,
   "metadata": {},
   "outputs": [
    {
     "name": "stdout",
     "output_type": "stream",
     "text": [
      "Object compatibility :  True\n"
     ]
    }
   ],
   "source": [
    "print('Object compatibility : ', \n",
    "      il1 ==\n",
    "      Sdataset.ntv(il1.to_ntv()) == \n",
    "      Sdataset.ntv(il1.to_ntv(modecodec='full')) == \n",
    "      Sdataset.from_ntv(il1.to_ntv().to_obj(encoded=True), decode_str=True) ==\n",
    "      Sdataset.from_ntv(il1.to_ntv().to_obj(encoded=True, format='cbor'), decode_str=True))"
   ]
  }
 ],
 "metadata": {
  "kernelspec": {
   "display_name": "Python 3 (ipykernel)",
   "language": "python",
   "name": "python3"
  },
  "language_info": {
   "codemirror_mode": {
    "name": "ipython",
    "version": 3
   },
   "file_extension": ".py",
   "mimetype": "text/x-python",
   "name": "python",
   "nbconvert_exporter": "python",
   "pygments_lexer": "ipython3",
   "version": "3.10.9"
  }
 },
 "nbformat": 4,
 "nbformat_minor": 4
}
