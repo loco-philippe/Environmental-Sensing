{
 "cells": [
  {
   "cell_type": "markdown",
   "metadata": {},
   "source": [
    "# Dataset : aggregation\n",
    "\n",
    "## Goals\n",
    "\n",
    "- understand the Dataset aggregation process\n",
    "\n",
    "<img src=\"https://loco-philippe.github.io/ES/ilist_aggregation.png\" width=\"800\">\n",
    "\n",
    "\n",
    "-----\n"
   ]
  },
  {
   "cell_type": "code",
   "execution_count": 1,
   "metadata": {},
   "outputs": [],
   "source": [
    "from observation import Sdataset\n",
    "from pprint import pprint"
   ]
  },
  {
   "cell_type": "markdown",
   "metadata": {},
   "source": [
    "## example\n",
    "In this example, the documentation process has two step :\n",
    "- a simple documentation for each people\n",
    "- an aggregation of all results\n",
    "\n",
    "The merge method provides a complete Dataset image of all the results (aggregation is the reference, merge is the image)\n",
    "\n",
    "<img src=\"https://loco-philippe.github.io/ES/ilist_merge.png\" width=\"700\">\n"
   ]
  },
  {
   "cell_type": "code",
   "execution_count": 2,
   "metadata": {},
   "outputs": [
    {
     "name": "stdout",
     "output_type": "stream",
     "text": [
      "the aggregate Dataset has the same property as non aggregate Dataset :\n",
      "\n",
      "record number :  4 Field number :  6\n",
      "\n",
      "binary representation : \n",
      " b'\\xa6naggregate::tab\\x84\\xa4escore\\x85\\x0b\\r\\x0f\\n\\x0cfcourse\\x82\\x82dmathgenglish\\x85\\x00\\x00\\x00\\x01\\x01dyear\\x19\\x07\\xe5fexamen\\x82\\x83bt1bt2bt3\\x85\\x00\\x01\\x02\\x01\\x02\\xa4escore\\x82\\x0f\\x08dyear\\x19\\x07\\xe5fcourse\\x82dmathgenglishfexamen\\x82bt1bt2\\xa4escore\\x84\\x11\\x12\\x02\\x04fcourse\\x82\\x82hsoftwaregenglish\\x81\\x02dyear\\x19\\x07\\xe5fexamen\\x82\\x83bt3bt2bt1\\x84\\x00\\x01\\x02\\x01\\xa4escore\\x82\\x12\\x06fcourse\\x82hsoftwaregenglishdyear\\x19\\x07\\xe5fexamen\\x82bt3bt1ifull name\\x84janne whitenphilippe whitekcamille rednphilippe blackilast name\\x82\\x83ewhitecredeblack\\x84\\x00\\x00\\x01\\x02jfirst name\\x82\\x83dannehphilippegcamille\\x84\\x00\\x01\\x02\\x01gsurname\\x84fskylerjheisenbergdsaulcgusegroup\\x82\\x83cgr1cgr2cgr3\\x84\\x00\\x01\\x02\\x02'\n",
      "\n",
      "json representation : \n",
      " {\"aggregate::tab\": [{\"score\": [11, 13, 15, 10, 12], \"course\": [[\"math\", \"english\"], [0, 0, 0, 1, 1]], \"year\": 2021, \"examen\": [[\"t1\", \"t2\", \"t3\"], [0, 1, 2, 1, 2]]}, {\"score\": [15, 8], \"year\": 2021, \"course\": [\"math\", \"english\"], \"examen\": [\"t1\", \"t2\"]}, {\"score\": [17, 18, 2, 4], \"course\": [[\"software\", \"english\"], [2]], \"year\": 2021, \"examen\": [[\"t3\", \"t2\", \"t1\"], [0, 1, 2, 1]]}, {\"score\": [18, 6], \"course\": [\"software\", \"english\"], \"year\": 2021, \"examen\": [\"t3\", \"t1\"]}], \"full name\": [\"anne white\", \"philippe white\", \"camille red\", \"philippe black\"], \"last name\": [[\"white\", \"red\", \"black\"], [0, 0, 1, 2]], \"first name\": [[\"anne\", \"philippe\", \"camille\"], [0, 1, 2, 1]], \"surname\": [\"skyler\", \"heisenberg\", \"saul\", \"gus\"], \"group\": [[\"gr1\", \"gr2\", \"gr3\"], [0, 1, 2, 2]]}\n"
     ]
    }
   ],
   "source": [
    "aw = Sdataset.ntv( {'score'     : [11, 13, 15, 10, 12], \n",
    "                 'course'    : ['math', 'math', 'math', 'english', 'english'],\n",
    "                 'year'      : [2021, 2021, 2021, 2021, 2021],\n",
    "                 'examen'    : ['t1', 't2', 't3', 't2', 't3']})              \n",
    "pw = Sdataset.ntv( {'score'     : [15, 8], \n",
    "                 'year'      : [2021, 2021],\n",
    "                 'course'    : ['math', 'english'],\n",
    "                 'examen'    : ['t1', 't2']})  \n",
    "cr = Sdataset.ntv( {'score'     : [17, 18, 2, 4], \n",
    "                 'course'    : ['software', 'software', 'english', 'english'],\n",
    "                 'year'      : [2021, 2021, 2021, 2021],\n",
    "                 'examen'    : ['t3', 't2', 't1', 't2']})               \n",
    "pb = Sdataset.ntv( {'score'     : [18, 6], \n",
    "                 'course'    : ['software', 'english'],\n",
    "                 'year'      : [2021, 2021],\n",
    "                 'examen'    : ['t3', 't1']})        \n",
    "\n",
    "total = Sdataset.ntv({'aggregate': [aw, pw, cr, pb],\n",
    "                      'full name': ['anne white', 'philippe white', 'camille red', 'philippe black'],\n",
    "                      'last name': ['white', 'white', 'red', 'black'],\n",
    "                      'first name':['anne', 'philippe', 'camille', 'philippe'],\n",
    "                      'surname':   ['skyler', 'heisenberg', 'saul', 'gus'],\n",
    "                      'group':     ['gr1', 'gr2', 'gr3','gr3']}, fast=True)\n",
    "\n",
    "print('the aggregate Dataset has the same property as non aggregate Dataset :\\n')\n",
    "print('record number : ', len(total), 'Field number : ', total.lenindex)\n",
    "print('\\nbinary representation : \\n', total.to_ntv().to_obj(encoded=True, format='cbor'))\n",
    "print('\\njson representation : \\n', total.to_ntv())"
   ]
  },
  {
   "cell_type": "code",
   "execution_count": 3,
   "metadata": {},
   "outputs": [
    {
     "name": "stdout",
     "output_type": "stream",
     "text": [
      "complete image :\n"
     ]
    },
    {
     "data": {
      "text/html": [
       "<table>\n",
       "<thead>\n",
       "<tr><th style=\"text-align: right;\">  score</th><th>course    </th><th style=\"text-align: right;\">  year</th><th>examen  </th><th>full name       </th><th>last name  </th><th>first name  </th><th>surname     </th><th>group  </th></tr>\n",
       "</thead>\n",
       "<tbody>\n",
       "<tr><td style=\"text-align: right;\">     11</td><td>&quot;math&quot;    </td><td style=\"text-align: right;\">  2021</td><td>&quot;t1&quot;    </td><td>&quot;anne white&quot;    </td><td>&quot;white&quot;    </td><td>&quot;anne&quot;      </td><td>&quot;skyler&quot;    </td><td>&quot;gr1&quot;  </td></tr>\n",
       "<tr><td style=\"text-align: right;\">     13</td><td>&quot;math&quot;    </td><td style=\"text-align: right;\">  2021</td><td>&quot;t2&quot;    </td><td>&quot;anne white&quot;    </td><td>&quot;white&quot;    </td><td>&quot;anne&quot;      </td><td>&quot;skyler&quot;    </td><td>&quot;gr1&quot;  </td></tr>\n",
       "<tr><td style=\"text-align: right;\">     15</td><td>&quot;math&quot;    </td><td style=\"text-align: right;\">  2021</td><td>&quot;t3&quot;    </td><td>&quot;anne white&quot;    </td><td>&quot;white&quot;    </td><td>&quot;anne&quot;      </td><td>&quot;skyler&quot;    </td><td>&quot;gr1&quot;  </td></tr>\n",
       "<tr><td style=\"text-align: right;\">     10</td><td>&quot;english&quot; </td><td style=\"text-align: right;\">  2021</td><td>&quot;t2&quot;    </td><td>&quot;anne white&quot;    </td><td>&quot;white&quot;    </td><td>&quot;anne&quot;      </td><td>&quot;skyler&quot;    </td><td>&quot;gr1&quot;  </td></tr>\n",
       "<tr><td style=\"text-align: right;\">     12</td><td>&quot;english&quot; </td><td style=\"text-align: right;\">  2021</td><td>&quot;t3&quot;    </td><td>&quot;anne white&quot;    </td><td>&quot;white&quot;    </td><td>&quot;anne&quot;      </td><td>&quot;skyler&quot;    </td><td>&quot;gr1&quot;  </td></tr>\n",
       "<tr><td style=\"text-align: right;\">     15</td><td>&quot;math&quot;    </td><td style=\"text-align: right;\">  2021</td><td>&quot;t1&quot;    </td><td>&quot;philippe white&quot;</td><td>&quot;white&quot;    </td><td>&quot;philippe&quot;  </td><td>&quot;heisenberg&quot;</td><td>&quot;gr2&quot;  </td></tr>\n",
       "<tr><td style=\"text-align: right;\">      8</td><td>&quot;english&quot; </td><td style=\"text-align: right;\">  2021</td><td>&quot;t2&quot;    </td><td>&quot;philippe white&quot;</td><td>&quot;white&quot;    </td><td>&quot;philippe&quot;  </td><td>&quot;heisenberg&quot;</td><td>&quot;gr2&quot;  </td></tr>\n",
       "<tr><td style=\"text-align: right;\">     17</td><td>&quot;software&quot;</td><td style=\"text-align: right;\">  2021</td><td>&quot;t3&quot;    </td><td>&quot;camille red&quot;   </td><td>&quot;red&quot;      </td><td>&quot;camille&quot;   </td><td>&quot;saul&quot;      </td><td>&quot;gr3&quot;  </td></tr>\n",
       "<tr><td style=\"text-align: right;\">     18</td><td>&quot;software&quot;</td><td style=\"text-align: right;\">  2021</td><td>&quot;t2&quot;    </td><td>&quot;camille red&quot;   </td><td>&quot;red&quot;      </td><td>&quot;camille&quot;   </td><td>&quot;saul&quot;      </td><td>&quot;gr3&quot;  </td></tr>\n",
       "<tr><td style=\"text-align: right;\">      2</td><td>&quot;english&quot; </td><td style=\"text-align: right;\">  2021</td><td>&quot;t1&quot;    </td><td>&quot;camille red&quot;   </td><td>&quot;red&quot;      </td><td>&quot;camille&quot;   </td><td>&quot;saul&quot;      </td><td>&quot;gr3&quot;  </td></tr>\n",
       "<tr><td style=\"text-align: right;\">      4</td><td>&quot;english&quot; </td><td style=\"text-align: right;\">  2021</td><td>&quot;t2&quot;    </td><td>&quot;camille red&quot;   </td><td>&quot;red&quot;      </td><td>&quot;camille&quot;   </td><td>&quot;saul&quot;      </td><td>&quot;gr3&quot;  </td></tr>\n",
       "<tr><td style=\"text-align: right;\">     18</td><td>&quot;software&quot;</td><td style=\"text-align: right;\">  2021</td><td>&quot;t3&quot;    </td><td>&quot;philippe black&quot;</td><td>&quot;black&quot;    </td><td>&quot;philippe&quot;  </td><td>&quot;gus&quot;       </td><td>&quot;gr3&quot;  </td></tr>\n",
       "<tr><td style=\"text-align: right;\">      6</td><td>&quot;english&quot; </td><td style=\"text-align: right;\">  2021</td><td>&quot;t1&quot;    </td><td>&quot;philippe black&quot;</td><td>&quot;black&quot;    </td><td>&quot;philippe&quot;  </td><td>&quot;gus&quot;       </td><td>&quot;gr3&quot;  </td></tr>\n",
       "</tbody>\n",
       "</table>"
      ],
      "text/plain": [
       "'<table>\\n<thead>\\n<tr><th style=\"text-align: right;\">  score</th><th>course    </th><th style=\"text-align: right;\">  year</th><th>examen  </th><th>full name       </th><th>last name  </th><th>first name  </th><th>surname     </th><th>group  </th></tr>\\n</thead>\\n<tbody>\\n<tr><td style=\"text-align: right;\">     11</td><td>&quot;math&quot;    </td><td style=\"text-align: right;\">  2021</td><td>&quot;t1&quot;    </td><td>&quot;anne white&quot;    </td><td>&quot;white&quot;    </td><td>&quot;anne&quot;      </td><td>&quot;skyler&quot;    </td><td>&quot;gr1&quot;  </td></tr>\\n<tr><td style=\"text-align: right;\">     13</td><td>&quot;math&quot;    </td><td style=\"text-align: right;\">  2021</td><td>&quot;t2&quot;    </td><td>&quot;anne white&quot;    </td><td>&quot;white&quot;    </td><td>&quot;anne&quot;      </td><td>&quot;skyler&quot;    </td><td>&quot;gr1&quot;  </td></tr>\\n<tr><td style=\"text-align: right;\">     15</td><td>&quot;math&quot;    </td><td style=\"text-align: right;\">  2021</td><td>&quot;t3&quot;    </td><td>&quot;anne white&quot;    </td><td>&quot;white&quot;    </td><td>&quot;anne&quot;      </td><td>&quot;skyler&quot;    </td><td>&quot;gr1&quot;  </td></tr>\\n<tr><td style=\"text-align: right;\">     10</td><td>&quot;english&quot; </td><td style=\"text-align: right;\">  2021</td><td>&quot;t2&quot;    </td><td>&quot;anne white&quot;    </td><td>&quot;white&quot;    </td><td>&quot;anne&quot;      </td><td>&quot;skyler&quot;    </td><td>&quot;gr1&quot;  </td></tr>\\n<tr><td style=\"text-align: right;\">     12</td><td>&quot;english&quot; </td><td style=\"text-align: right;\">  2021</td><td>&quot;t3&quot;    </td><td>&quot;anne white&quot;    </td><td>&quot;white&quot;    </td><td>&quot;anne&quot;      </td><td>&quot;skyler&quot;    </td><td>&quot;gr1&quot;  </td></tr>\\n<tr><td style=\"text-align: right;\">     15</td><td>&quot;math&quot;    </td><td style=\"text-align: right;\">  2021</td><td>&quot;t1&quot;    </td><td>&quot;philippe white&quot;</td><td>&quot;white&quot;    </td><td>&quot;philippe&quot;  </td><td>&quot;heisenberg&quot;</td><td>&quot;gr2&quot;  </td></tr>\\n<tr><td style=\"text-align: right;\">      8</td><td>&quot;english&quot; </td><td style=\"text-align: right;\">  2021</td><td>&quot;t2&quot;    </td><td>&quot;philippe white&quot;</td><td>&quot;white&quot;    </td><td>&quot;philippe&quot;  </td><td>&quot;heisenberg&quot;</td><td>&quot;gr2&quot;  </td></tr>\\n<tr><td style=\"text-align: right;\">     17</td><td>&quot;software&quot;</td><td style=\"text-align: right;\">  2021</td><td>&quot;t3&quot;    </td><td>&quot;camille red&quot;   </td><td>&quot;red&quot;      </td><td>&quot;camille&quot;   </td><td>&quot;saul&quot;      </td><td>&quot;gr3&quot;  </td></tr>\\n<tr><td style=\"text-align: right;\">     18</td><td>&quot;software&quot;</td><td style=\"text-align: right;\">  2021</td><td>&quot;t2&quot;    </td><td>&quot;camille red&quot;   </td><td>&quot;red&quot;      </td><td>&quot;camille&quot;   </td><td>&quot;saul&quot;      </td><td>&quot;gr3&quot;  </td></tr>\\n<tr><td style=\"text-align: right;\">      2</td><td>&quot;english&quot; </td><td style=\"text-align: right;\">  2021</td><td>&quot;t1&quot;    </td><td>&quot;camille red&quot;   </td><td>&quot;red&quot;      </td><td>&quot;camille&quot;   </td><td>&quot;saul&quot;      </td><td>&quot;gr3&quot;  </td></tr>\\n<tr><td style=\"text-align: right;\">      4</td><td>&quot;english&quot; </td><td style=\"text-align: right;\">  2021</td><td>&quot;t2&quot;    </td><td>&quot;camille red&quot;   </td><td>&quot;red&quot;      </td><td>&quot;camille&quot;   </td><td>&quot;saul&quot;      </td><td>&quot;gr3&quot;  </td></tr>\\n<tr><td style=\"text-align: right;\">     18</td><td>&quot;software&quot;</td><td style=\"text-align: right;\">  2021</td><td>&quot;t3&quot;    </td><td>&quot;philippe black&quot;</td><td>&quot;black&quot;    </td><td>&quot;philippe&quot;  </td><td>&quot;gus&quot;       </td><td>&quot;gr3&quot;  </td></tr>\\n<tr><td style=\"text-align: right;\">      6</td><td>&quot;english&quot; </td><td style=\"text-align: right;\">  2021</td><td>&quot;t1&quot;    </td><td>&quot;philippe black&quot;</td><td>&quot;black&quot;    </td><td>&quot;philippe&quot;  </td><td>&quot;gus&quot;       </td><td>&quot;gr3&quot;  </td></tr>\\n</tbody>\\n</table>'"
      ]
     },
     "execution_count": 3,
     "metadata": {},
     "output_type": "execute_result"
    }
   ],
   "source": [
    "img = total.merge(simplename=True)\n",
    "print('complete image :')\n",
    "img.view(tablefmt='html')"
   ]
  },
  {
   "cell_type": "code",
   "execution_count": 4,
   "metadata": {},
   "outputs": [
    {
     "name": "stdout",
     "output_type": "stream",
     "text": [
      "\n",
      "complete image optimize format: \n",
      " {\"score\": [11, 13, 15, 10, 12, 15, 8, 17, 18, 2, 4, 18, 6], \"course\": [[\"math\", \"english\", \"software\"], [0, 0, 0, 1, 1, 0, 1, 2, 2, 1, 1, 2, 1]], \"year\": 2021, \"examen\": [[\"t1\", \"t2\", \"t3\"], [0, 1, 2, 1, 2, 0, 1, 2, 1, 0, 1, 2, 0]], \"full name\": [[\"anne white\", \"philippe white\", \"camille red\", \"philippe black\"], [0, 0, 0, 0, 0, 1, 1, 2, 2, 2, 2, 3, 3]], \"last name\": [[\"white\", \"red\", \"black\"], 4, [0, 0, 1, 2]], \"first name\": [[\"anne\", \"philippe\", \"camille\"], 4, [0, 1, 2, 1]], \"surname\": [[\"skyler\", \"heisenberg\", \"saul\", \"gus\"], 4], \"group\": [[\"gr1\", \"gr2\", \"gr3\"], 4, [0, 1, 2, 2]]}\n",
      "\n",
      "complete image optimize full format: \n",
      " {\"course\": [[\"math\", \"english\", \"software\"], [12]], \"examen\": [[\"t1\", \"t2\", \"t3\"], [4]], \"full name\": [[\"anne white\", \"philippe white\", \"camille red\", \"philippe black\"], [1]], \"last name\": [[\"white\", \"red\", \"black\"], 2, [0, 0, 1, 2]], \"first name\": [[\"anne\", \"philippe\", \"camille\"], 2, [0, 1, 2, 1]], \"group\": [[\"gr1\", \"gr2\", \"gr3\"], 2, [0, 1, 2, 2]], \"surname\": [[\"skyler\", \"heisenberg\", \"saul\", \"gus\"], 2], \"score\": [11, 15, \"-\", \"-\", 13, \"-\", \"-\", \"-\", 15, \"-\", \"-\", \"-\", \"-\", \"-\", 2, 6, 10, 8, 4, \"-\", 12, \"-\", \"-\", \"-\", \"-\", \"-\", \"-\", \"-\", \"-\", \"-\", 18, \"-\", \"-\", \"-\", 17, 18], \"year\": 2021}\n"
     ]
    },
    {
     "data": {
      "text/html": [
       "<table>\n",
       "<thead>\n",
       "<tr><th>course    </th><th>examen  </th><th>full name       </th><th>last name  </th><th>first name  </th><th>group  </th><th>surname     </th><th>score  </th><th style=\"text-align: right;\">  year</th></tr>\n",
       "</thead>\n",
       "<tbody>\n",
       "<tr><td>&quot;math&quot;    </td><td>&quot;t1&quot;    </td><td>&quot;anne white&quot;    </td><td>&quot;white&quot;    </td><td>&quot;anne&quot;      </td><td>&quot;gr1&quot;  </td><td>&quot;skyler&quot;    </td><td>11     </td><td style=\"text-align: right;\">  2021</td></tr>\n",
       "<tr><td>&quot;math&quot;    </td><td>&quot;t1&quot;    </td><td>&quot;philippe white&quot;</td><td>&quot;white&quot;    </td><td>&quot;philippe&quot;  </td><td>&quot;gr2&quot;  </td><td>&quot;heisenberg&quot;</td><td>15     </td><td style=\"text-align: right;\">  2021</td></tr>\n",
       "<tr><td>&quot;math&quot;    </td><td>&quot;t1&quot;    </td><td>&quot;camille red&quot;   </td><td>&quot;red&quot;      </td><td>&quot;camille&quot;   </td><td>&quot;gr3&quot;  </td><td>&quot;saul&quot;      </td><td>&quot;-&quot;    </td><td style=\"text-align: right;\">  2021</td></tr>\n",
       "<tr><td>&quot;math&quot;    </td><td>&quot;t1&quot;    </td><td>&quot;philippe black&quot;</td><td>&quot;black&quot;    </td><td>&quot;philippe&quot;  </td><td>&quot;gr3&quot;  </td><td>&quot;gus&quot;       </td><td>&quot;-&quot;    </td><td style=\"text-align: right;\">  2021</td></tr>\n",
       "<tr><td>&quot;math&quot;    </td><td>&quot;t2&quot;    </td><td>&quot;anne white&quot;    </td><td>&quot;white&quot;    </td><td>&quot;anne&quot;      </td><td>&quot;gr1&quot;  </td><td>&quot;skyler&quot;    </td><td>13     </td><td style=\"text-align: right;\">  2021</td></tr>\n",
       "<tr><td>&quot;math&quot;    </td><td>&quot;t2&quot;    </td><td>&quot;philippe white&quot;</td><td>&quot;white&quot;    </td><td>&quot;philippe&quot;  </td><td>&quot;gr2&quot;  </td><td>&quot;heisenberg&quot;</td><td>&quot;-&quot;    </td><td style=\"text-align: right;\">  2021</td></tr>\n",
       "<tr><td>&quot;math&quot;    </td><td>&quot;t2&quot;    </td><td>&quot;camille red&quot;   </td><td>&quot;red&quot;      </td><td>&quot;camille&quot;   </td><td>&quot;gr3&quot;  </td><td>&quot;saul&quot;      </td><td>&quot;-&quot;    </td><td style=\"text-align: right;\">  2021</td></tr>\n",
       "<tr><td>&quot;math&quot;    </td><td>&quot;t2&quot;    </td><td>&quot;philippe black&quot;</td><td>&quot;black&quot;    </td><td>&quot;philippe&quot;  </td><td>&quot;gr3&quot;  </td><td>&quot;gus&quot;       </td><td>&quot;-&quot;    </td><td style=\"text-align: right;\">  2021</td></tr>\n",
       "<tr><td>&quot;math&quot;    </td><td>&quot;t3&quot;    </td><td>&quot;anne white&quot;    </td><td>&quot;white&quot;    </td><td>&quot;anne&quot;      </td><td>&quot;gr1&quot;  </td><td>&quot;skyler&quot;    </td><td>15     </td><td style=\"text-align: right;\">  2021</td></tr>\n",
       "<tr><td>&quot;math&quot;    </td><td>&quot;t3&quot;    </td><td>&quot;philippe white&quot;</td><td>&quot;white&quot;    </td><td>&quot;philippe&quot;  </td><td>&quot;gr2&quot;  </td><td>&quot;heisenberg&quot;</td><td>&quot;-&quot;    </td><td style=\"text-align: right;\">  2021</td></tr>\n",
       "<tr><td>&quot;math&quot;    </td><td>&quot;t3&quot;    </td><td>&quot;camille red&quot;   </td><td>&quot;red&quot;      </td><td>&quot;camille&quot;   </td><td>&quot;gr3&quot;  </td><td>&quot;saul&quot;      </td><td>&quot;-&quot;    </td><td style=\"text-align: right;\">  2021</td></tr>\n",
       "<tr><td>&quot;math&quot;    </td><td>&quot;t3&quot;    </td><td>&quot;philippe black&quot;</td><td>&quot;black&quot;    </td><td>&quot;philippe&quot;  </td><td>&quot;gr3&quot;  </td><td>&quot;gus&quot;       </td><td>&quot;-&quot;    </td><td style=\"text-align: right;\">  2021</td></tr>\n",
       "<tr><td>&quot;english&quot; </td><td>&quot;t1&quot;    </td><td>&quot;anne white&quot;    </td><td>&quot;white&quot;    </td><td>&quot;anne&quot;      </td><td>&quot;gr1&quot;  </td><td>&quot;skyler&quot;    </td><td>&quot;-&quot;    </td><td style=\"text-align: right;\">  2021</td></tr>\n",
       "<tr><td>&quot;english&quot; </td><td>&quot;t1&quot;    </td><td>&quot;philippe white&quot;</td><td>&quot;white&quot;    </td><td>&quot;philippe&quot;  </td><td>&quot;gr2&quot;  </td><td>&quot;heisenberg&quot;</td><td>&quot;-&quot;    </td><td style=\"text-align: right;\">  2021</td></tr>\n",
       "<tr><td>&quot;english&quot; </td><td>&quot;t1&quot;    </td><td>&quot;camille red&quot;   </td><td>&quot;red&quot;      </td><td>&quot;camille&quot;   </td><td>&quot;gr3&quot;  </td><td>&quot;saul&quot;      </td><td>2      </td><td style=\"text-align: right;\">  2021</td></tr>\n",
       "<tr><td>&quot;english&quot; </td><td>&quot;t1&quot;    </td><td>&quot;philippe black&quot;</td><td>&quot;black&quot;    </td><td>&quot;philippe&quot;  </td><td>&quot;gr3&quot;  </td><td>&quot;gus&quot;       </td><td>6      </td><td style=\"text-align: right;\">  2021</td></tr>\n",
       "<tr><td>&quot;english&quot; </td><td>&quot;t2&quot;    </td><td>&quot;anne white&quot;    </td><td>&quot;white&quot;    </td><td>&quot;anne&quot;      </td><td>&quot;gr1&quot;  </td><td>&quot;skyler&quot;    </td><td>10     </td><td style=\"text-align: right;\">  2021</td></tr>\n",
       "<tr><td>&quot;english&quot; </td><td>&quot;t2&quot;    </td><td>&quot;philippe white&quot;</td><td>&quot;white&quot;    </td><td>&quot;philippe&quot;  </td><td>&quot;gr2&quot;  </td><td>&quot;heisenberg&quot;</td><td>8      </td><td style=\"text-align: right;\">  2021</td></tr>\n",
       "<tr><td>&quot;english&quot; </td><td>&quot;t2&quot;    </td><td>&quot;camille red&quot;   </td><td>&quot;red&quot;      </td><td>&quot;camille&quot;   </td><td>&quot;gr3&quot;  </td><td>&quot;saul&quot;      </td><td>4      </td><td style=\"text-align: right;\">  2021</td></tr>\n",
       "<tr><td>&quot;english&quot; </td><td>&quot;t2&quot;    </td><td>&quot;philippe black&quot;</td><td>&quot;black&quot;    </td><td>&quot;philippe&quot;  </td><td>&quot;gr3&quot;  </td><td>&quot;gus&quot;       </td><td>&quot;-&quot;    </td><td style=\"text-align: right;\">  2021</td></tr>\n",
       "<tr><td>&quot;english&quot; </td><td>&quot;t3&quot;    </td><td>&quot;anne white&quot;    </td><td>&quot;white&quot;    </td><td>&quot;anne&quot;      </td><td>&quot;gr1&quot;  </td><td>&quot;skyler&quot;    </td><td>12     </td><td style=\"text-align: right;\">  2021</td></tr>\n",
       "<tr><td>&quot;english&quot; </td><td>&quot;t3&quot;    </td><td>&quot;philippe white&quot;</td><td>&quot;white&quot;    </td><td>&quot;philippe&quot;  </td><td>&quot;gr2&quot;  </td><td>&quot;heisenberg&quot;</td><td>&quot;-&quot;    </td><td style=\"text-align: right;\">  2021</td></tr>\n",
       "<tr><td>&quot;english&quot; </td><td>&quot;t3&quot;    </td><td>&quot;camille red&quot;   </td><td>&quot;red&quot;      </td><td>&quot;camille&quot;   </td><td>&quot;gr3&quot;  </td><td>&quot;saul&quot;      </td><td>&quot;-&quot;    </td><td style=\"text-align: right;\">  2021</td></tr>\n",
       "<tr><td>&quot;english&quot; </td><td>&quot;t3&quot;    </td><td>&quot;philippe black&quot;</td><td>&quot;black&quot;    </td><td>&quot;philippe&quot;  </td><td>&quot;gr3&quot;  </td><td>&quot;gus&quot;       </td><td>&quot;-&quot;    </td><td style=\"text-align: right;\">  2021</td></tr>\n",
       "<tr><td>&quot;software&quot;</td><td>&quot;t1&quot;    </td><td>&quot;anne white&quot;    </td><td>&quot;white&quot;    </td><td>&quot;anne&quot;      </td><td>&quot;gr1&quot;  </td><td>&quot;skyler&quot;    </td><td>&quot;-&quot;    </td><td style=\"text-align: right;\">  2021</td></tr>\n",
       "<tr><td>&quot;software&quot;</td><td>&quot;t1&quot;    </td><td>&quot;philippe white&quot;</td><td>&quot;white&quot;    </td><td>&quot;philippe&quot;  </td><td>&quot;gr2&quot;  </td><td>&quot;heisenberg&quot;</td><td>&quot;-&quot;    </td><td style=\"text-align: right;\">  2021</td></tr>\n",
       "<tr><td>&quot;software&quot;</td><td>&quot;t1&quot;    </td><td>&quot;camille red&quot;   </td><td>&quot;red&quot;      </td><td>&quot;camille&quot;   </td><td>&quot;gr3&quot;  </td><td>&quot;saul&quot;      </td><td>&quot;-&quot;    </td><td style=\"text-align: right;\">  2021</td></tr>\n",
       "<tr><td>&quot;software&quot;</td><td>&quot;t1&quot;    </td><td>&quot;philippe black&quot;</td><td>&quot;black&quot;    </td><td>&quot;philippe&quot;  </td><td>&quot;gr3&quot;  </td><td>&quot;gus&quot;       </td><td>&quot;-&quot;    </td><td style=\"text-align: right;\">  2021</td></tr>\n",
       "<tr><td>&quot;software&quot;</td><td>&quot;t2&quot;    </td><td>&quot;anne white&quot;    </td><td>&quot;white&quot;    </td><td>&quot;anne&quot;      </td><td>&quot;gr1&quot;  </td><td>&quot;skyler&quot;    </td><td>&quot;-&quot;    </td><td style=\"text-align: right;\">  2021</td></tr>\n",
       "<tr><td>&quot;software&quot;</td><td>&quot;t2&quot;    </td><td>&quot;philippe white&quot;</td><td>&quot;white&quot;    </td><td>&quot;philippe&quot;  </td><td>&quot;gr2&quot;  </td><td>&quot;heisenberg&quot;</td><td>&quot;-&quot;    </td><td style=\"text-align: right;\">  2021</td></tr>\n",
       "<tr><td>&quot;software&quot;</td><td>&quot;t2&quot;    </td><td>&quot;camille red&quot;   </td><td>&quot;red&quot;      </td><td>&quot;camille&quot;   </td><td>&quot;gr3&quot;  </td><td>&quot;saul&quot;      </td><td>18     </td><td style=\"text-align: right;\">  2021</td></tr>\n",
       "<tr><td>&quot;software&quot;</td><td>&quot;t2&quot;    </td><td>&quot;philippe black&quot;</td><td>&quot;black&quot;    </td><td>&quot;philippe&quot;  </td><td>&quot;gr3&quot;  </td><td>&quot;gus&quot;       </td><td>&quot;-&quot;    </td><td style=\"text-align: right;\">  2021</td></tr>\n",
       "<tr><td>&quot;software&quot;</td><td>&quot;t3&quot;    </td><td>&quot;anne white&quot;    </td><td>&quot;white&quot;    </td><td>&quot;anne&quot;      </td><td>&quot;gr1&quot;  </td><td>&quot;skyler&quot;    </td><td>&quot;-&quot;    </td><td style=\"text-align: right;\">  2021</td></tr>\n",
       "<tr><td>&quot;software&quot;</td><td>&quot;t3&quot;    </td><td>&quot;philippe white&quot;</td><td>&quot;white&quot;    </td><td>&quot;philippe&quot;  </td><td>&quot;gr2&quot;  </td><td>&quot;heisenberg&quot;</td><td>&quot;-&quot;    </td><td style=\"text-align: right;\">  2021</td></tr>\n",
       "<tr><td>&quot;software&quot;</td><td>&quot;t3&quot;    </td><td>&quot;camille red&quot;   </td><td>&quot;red&quot;      </td><td>&quot;camille&quot;   </td><td>&quot;gr3&quot;  </td><td>&quot;saul&quot;      </td><td>17     </td><td style=\"text-align: right;\">  2021</td></tr>\n",
       "<tr><td>&quot;software&quot;</td><td>&quot;t3&quot;    </td><td>&quot;philippe black&quot;</td><td>&quot;black&quot;    </td><td>&quot;philippe&quot;  </td><td>&quot;gr3&quot;  </td><td>&quot;gus&quot;       </td><td>18     </td><td style=\"text-align: right;\">  2021</td></tr>\n",
       "</tbody>\n",
       "</table>"
      ],
      "text/plain": [
       "'<table>\\n<thead>\\n<tr><th>course    </th><th>examen  </th><th>full name       </th><th>last name  </th><th>first name  </th><th>group  </th><th>surname     </th><th>score  </th><th style=\"text-align: right;\">  year</th></tr>\\n</thead>\\n<tbody>\\n<tr><td>&quot;math&quot;    </td><td>&quot;t1&quot;    </td><td>&quot;anne white&quot;    </td><td>&quot;white&quot;    </td><td>&quot;anne&quot;      </td><td>&quot;gr1&quot;  </td><td>&quot;skyler&quot;    </td><td>11     </td><td style=\"text-align: right;\">  2021</td></tr>\\n<tr><td>&quot;math&quot;    </td><td>&quot;t1&quot;    </td><td>&quot;philippe white&quot;</td><td>&quot;white&quot;    </td><td>&quot;philippe&quot;  </td><td>&quot;gr2&quot;  </td><td>&quot;heisenberg&quot;</td><td>15     </td><td style=\"text-align: right;\">  2021</td></tr>\\n<tr><td>&quot;math&quot;    </td><td>&quot;t1&quot;    </td><td>&quot;camille red&quot;   </td><td>&quot;red&quot;      </td><td>&quot;camille&quot;   </td><td>&quot;gr3&quot;  </td><td>&quot;saul&quot;      </td><td>&quot;-&quot;    </td><td style=\"text-align: right;\">  2021</td></tr>\\n<tr><td>&quot;math&quot;    </td><td>&quot;t1&quot;    </td><td>&quot;philippe black&quot;</td><td>&quot;black&quot;    </td><td>&quot;philippe&quot;  </td><td>&quot;gr3&quot;  </td><td>&quot;gus&quot;       </td><td>&quot;-&quot;    </td><td style=\"text-align: right;\">  2021</td></tr>\\n<tr><td>&quot;math&quot;    </td><td>&quot;t2&quot;    </td><td>&quot;anne white&quot;    </td><td>&quot;white&quot;    </td><td>&quot;anne&quot;      </td><td>&quot;gr1&quot;  </td><td>&quot;skyler&quot;    </td><td>13     </td><td style=\"text-align: right;\">  2021</td></tr>\\n<tr><td>&quot;math&quot;    </td><td>&quot;t2&quot;    </td><td>&quot;philippe white&quot;</td><td>&quot;white&quot;    </td><td>&quot;philippe&quot;  </td><td>&quot;gr2&quot;  </td><td>&quot;heisenberg&quot;</td><td>&quot;-&quot;    </td><td style=\"text-align: right;\">  2021</td></tr>\\n<tr><td>&quot;math&quot;    </td><td>&quot;t2&quot;    </td><td>&quot;camille red&quot;   </td><td>&quot;red&quot;      </td><td>&quot;camille&quot;   </td><td>&quot;gr3&quot;  </td><td>&quot;saul&quot;      </td><td>&quot;-&quot;    </td><td style=\"text-align: right;\">  2021</td></tr>\\n<tr><td>&quot;math&quot;    </td><td>&quot;t2&quot;    </td><td>&quot;philippe black&quot;</td><td>&quot;black&quot;    </td><td>&quot;philippe&quot;  </td><td>&quot;gr3&quot;  </td><td>&quot;gus&quot;       </td><td>&quot;-&quot;    </td><td style=\"text-align: right;\">  2021</td></tr>\\n<tr><td>&quot;math&quot;    </td><td>&quot;t3&quot;    </td><td>&quot;anne white&quot;    </td><td>&quot;white&quot;    </td><td>&quot;anne&quot;      </td><td>&quot;gr1&quot;  </td><td>&quot;skyler&quot;    </td><td>15     </td><td style=\"text-align: right;\">  2021</td></tr>\\n<tr><td>&quot;math&quot;    </td><td>&quot;t3&quot;    </td><td>&quot;philippe white&quot;</td><td>&quot;white&quot;    </td><td>&quot;philippe&quot;  </td><td>&quot;gr2&quot;  </td><td>&quot;heisenberg&quot;</td><td>&quot;-&quot;    </td><td style=\"text-align: right;\">  2021</td></tr>\\n<tr><td>&quot;math&quot;    </td><td>&quot;t3&quot;    </td><td>&quot;camille red&quot;   </td><td>&quot;red&quot;      </td><td>&quot;camille&quot;   </td><td>&quot;gr3&quot;  </td><td>&quot;saul&quot;      </td><td>&quot;-&quot;    </td><td style=\"text-align: right;\">  2021</td></tr>\\n<tr><td>&quot;math&quot;    </td><td>&quot;t3&quot;    </td><td>&quot;philippe black&quot;</td><td>&quot;black&quot;    </td><td>&quot;philippe&quot;  </td><td>&quot;gr3&quot;  </td><td>&quot;gus&quot;       </td><td>&quot;-&quot;    </td><td style=\"text-align: right;\">  2021</td></tr>\\n<tr><td>&quot;english&quot; </td><td>&quot;t1&quot;    </td><td>&quot;anne white&quot;    </td><td>&quot;white&quot;    </td><td>&quot;anne&quot;      </td><td>&quot;gr1&quot;  </td><td>&quot;skyler&quot;    </td><td>&quot;-&quot;    </td><td style=\"text-align: right;\">  2021</td></tr>\\n<tr><td>&quot;english&quot; </td><td>&quot;t1&quot;    </td><td>&quot;philippe white&quot;</td><td>&quot;white&quot;    </td><td>&quot;philippe&quot;  </td><td>&quot;gr2&quot;  </td><td>&quot;heisenberg&quot;</td><td>&quot;-&quot;    </td><td style=\"text-align: right;\">  2021</td></tr>\\n<tr><td>&quot;english&quot; </td><td>&quot;t1&quot;    </td><td>&quot;camille red&quot;   </td><td>&quot;red&quot;      </td><td>&quot;camille&quot;   </td><td>&quot;gr3&quot;  </td><td>&quot;saul&quot;      </td><td>2      </td><td style=\"text-align: right;\">  2021</td></tr>\\n<tr><td>&quot;english&quot; </td><td>&quot;t1&quot;    </td><td>&quot;philippe black&quot;</td><td>&quot;black&quot;    </td><td>&quot;philippe&quot;  </td><td>&quot;gr3&quot;  </td><td>&quot;gus&quot;       </td><td>6      </td><td style=\"text-align: right;\">  2021</td></tr>\\n<tr><td>&quot;english&quot; </td><td>&quot;t2&quot;    </td><td>&quot;anne white&quot;    </td><td>&quot;white&quot;    </td><td>&quot;anne&quot;      </td><td>&quot;gr1&quot;  </td><td>&quot;skyler&quot;    </td><td>10     </td><td style=\"text-align: right;\">  2021</td></tr>\\n<tr><td>&quot;english&quot; </td><td>&quot;t2&quot;    </td><td>&quot;philippe white&quot;</td><td>&quot;white&quot;    </td><td>&quot;philippe&quot;  </td><td>&quot;gr2&quot;  </td><td>&quot;heisenberg&quot;</td><td>8      </td><td style=\"text-align: right;\">  2021</td></tr>\\n<tr><td>&quot;english&quot; </td><td>&quot;t2&quot;    </td><td>&quot;camille red&quot;   </td><td>&quot;red&quot;      </td><td>&quot;camille&quot;   </td><td>&quot;gr3&quot;  </td><td>&quot;saul&quot;      </td><td>4      </td><td style=\"text-align: right;\">  2021</td></tr>\\n<tr><td>&quot;english&quot; </td><td>&quot;t2&quot;    </td><td>&quot;philippe black&quot;</td><td>&quot;black&quot;    </td><td>&quot;philippe&quot;  </td><td>&quot;gr3&quot;  </td><td>&quot;gus&quot;       </td><td>&quot;-&quot;    </td><td style=\"text-align: right;\">  2021</td></tr>\\n<tr><td>&quot;english&quot; </td><td>&quot;t3&quot;    </td><td>&quot;anne white&quot;    </td><td>&quot;white&quot;    </td><td>&quot;anne&quot;      </td><td>&quot;gr1&quot;  </td><td>&quot;skyler&quot;    </td><td>12     </td><td style=\"text-align: right;\">  2021</td></tr>\\n<tr><td>&quot;english&quot; </td><td>&quot;t3&quot;    </td><td>&quot;philippe white&quot;</td><td>&quot;white&quot;    </td><td>&quot;philippe&quot;  </td><td>&quot;gr2&quot;  </td><td>&quot;heisenberg&quot;</td><td>&quot;-&quot;    </td><td style=\"text-align: right;\">  2021</td></tr>\\n<tr><td>&quot;english&quot; </td><td>&quot;t3&quot;    </td><td>&quot;camille red&quot;   </td><td>&quot;red&quot;      </td><td>&quot;camille&quot;   </td><td>&quot;gr3&quot;  </td><td>&quot;saul&quot;      </td><td>&quot;-&quot;    </td><td style=\"text-align: right;\">  2021</td></tr>\\n<tr><td>&quot;english&quot; </td><td>&quot;t3&quot;    </td><td>&quot;philippe black&quot;</td><td>&quot;black&quot;    </td><td>&quot;philippe&quot;  </td><td>&quot;gr3&quot;  </td><td>&quot;gus&quot;       </td><td>&quot;-&quot;    </td><td style=\"text-align: right;\">  2021</td></tr>\\n<tr><td>&quot;software&quot;</td><td>&quot;t1&quot;    </td><td>&quot;anne white&quot;    </td><td>&quot;white&quot;    </td><td>&quot;anne&quot;      </td><td>&quot;gr1&quot;  </td><td>&quot;skyler&quot;    </td><td>&quot;-&quot;    </td><td style=\"text-align: right;\">  2021</td></tr>\\n<tr><td>&quot;software&quot;</td><td>&quot;t1&quot;    </td><td>&quot;philippe white&quot;</td><td>&quot;white&quot;    </td><td>&quot;philippe&quot;  </td><td>&quot;gr2&quot;  </td><td>&quot;heisenberg&quot;</td><td>&quot;-&quot;    </td><td style=\"text-align: right;\">  2021</td></tr>\\n<tr><td>&quot;software&quot;</td><td>&quot;t1&quot;    </td><td>&quot;camille red&quot;   </td><td>&quot;red&quot;      </td><td>&quot;camille&quot;   </td><td>&quot;gr3&quot;  </td><td>&quot;saul&quot;      </td><td>&quot;-&quot;    </td><td style=\"text-align: right;\">  2021</td></tr>\\n<tr><td>&quot;software&quot;</td><td>&quot;t1&quot;    </td><td>&quot;philippe black&quot;</td><td>&quot;black&quot;    </td><td>&quot;philippe&quot;  </td><td>&quot;gr3&quot;  </td><td>&quot;gus&quot;       </td><td>&quot;-&quot;    </td><td style=\"text-align: right;\">  2021</td></tr>\\n<tr><td>&quot;software&quot;</td><td>&quot;t2&quot;    </td><td>&quot;anne white&quot;    </td><td>&quot;white&quot;    </td><td>&quot;anne&quot;      </td><td>&quot;gr1&quot;  </td><td>&quot;skyler&quot;    </td><td>&quot;-&quot;    </td><td style=\"text-align: right;\">  2021</td></tr>\\n<tr><td>&quot;software&quot;</td><td>&quot;t2&quot;    </td><td>&quot;philippe white&quot;</td><td>&quot;white&quot;    </td><td>&quot;philippe&quot;  </td><td>&quot;gr2&quot;  </td><td>&quot;heisenberg&quot;</td><td>&quot;-&quot;    </td><td style=\"text-align: right;\">  2021</td></tr>\\n<tr><td>&quot;software&quot;</td><td>&quot;t2&quot;    </td><td>&quot;camille red&quot;   </td><td>&quot;red&quot;      </td><td>&quot;camille&quot;   </td><td>&quot;gr3&quot;  </td><td>&quot;saul&quot;      </td><td>18     </td><td style=\"text-align: right;\">  2021</td></tr>\\n<tr><td>&quot;software&quot;</td><td>&quot;t2&quot;    </td><td>&quot;philippe black&quot;</td><td>&quot;black&quot;    </td><td>&quot;philippe&quot;  </td><td>&quot;gr3&quot;  </td><td>&quot;gus&quot;       </td><td>&quot;-&quot;    </td><td style=\"text-align: right;\">  2021</td></tr>\\n<tr><td>&quot;software&quot;</td><td>&quot;t3&quot;    </td><td>&quot;anne white&quot;    </td><td>&quot;white&quot;    </td><td>&quot;anne&quot;      </td><td>&quot;gr1&quot;  </td><td>&quot;skyler&quot;    </td><td>&quot;-&quot;    </td><td style=\"text-align: right;\">  2021</td></tr>\\n<tr><td>&quot;software&quot;</td><td>&quot;t3&quot;    </td><td>&quot;philippe white&quot;</td><td>&quot;white&quot;    </td><td>&quot;philippe&quot;  </td><td>&quot;gr2&quot;  </td><td>&quot;heisenberg&quot;</td><td>&quot;-&quot;    </td><td style=\"text-align: right;\">  2021</td></tr>\\n<tr><td>&quot;software&quot;</td><td>&quot;t3&quot;    </td><td>&quot;camille red&quot;   </td><td>&quot;red&quot;      </td><td>&quot;camille&quot;   </td><td>&quot;gr3&quot;  </td><td>&quot;saul&quot;      </td><td>17     </td><td style=\"text-align: right;\">  2021</td></tr>\\n<tr><td>&quot;software&quot;</td><td>&quot;t3&quot;    </td><td>&quot;philippe black&quot;</td><td>&quot;black&quot;    </td><td>&quot;philippe&quot;  </td><td>&quot;gr3&quot;  </td><td>&quot;gus&quot;       </td><td>18     </td><td style=\"text-align: right;\">  2021</td></tr>\\n</tbody>\\n</table>'"
      ]
     },
     "execution_count": 4,
     "metadata": {},
     "output_type": "execute_result"
    }
   ],
   "source": [
    "img.nindex('score').tostdcodec(inplace=True)\n",
    "print('\\ncomplete image optimize format: \\n', img.to_ntv())\n",
    "\n",
    "img.to_file('score.il', format='cbor')                # reuse in other Notebook\n",
    "\n",
    "img2 = total.merge(simplename=True).full(idxname=['course', 'full name', 'examen'], inplace=False).setcanonorder()\n",
    "img2.nindex('score').tostdcodec(inplace=True)\n",
    "print('\\ncomplete image optimize full format: \\n', img2.to_ntv())\n",
    "img2.view(tablefmt='html')"
   ]
  }
 ],
 "metadata": {
  "kernelspec": {
   "display_name": "Python 3 (ipykernel)",
   "language": "python",
   "name": "python3"
  },
  "language_info": {
   "codemirror_mode": {
    "name": "ipython",
    "version": 3
   },
   "file_extension": ".py",
   "mimetype": "text/x-python",
   "name": "python",
   "nbconvert_exporter": "python",
   "pygments_lexer": "ipython3",
   "version": "3.10.9"
  }
 },
 "nbformat": 4,
 "nbformat_minor": 4
}
