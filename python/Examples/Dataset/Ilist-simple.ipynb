{
 "cells": [
  {
   "cell_type": "markdown",
   "metadata": {},
   "source": [
    "# Object: Dataset first Example \n",
    "## Goal\n",
    "- show on a simple example the capacities of analysis of tabular data\n",
    "--------------------------------\n",
    "\n",
    "## Presentation of the example\n",
    "The example describe the tool's ability to understand and modify a data structure.\n",
    "\n",
    "Let's take the example of a csv file containing the price of some fruits and vegetables.\n",
    "\n",
    "|product|plants\t|quantity\t|price|\n",
    "|:----:|:----:|:----:|:----:|\t\t\t\t\t\n",
    "|apple|fruit\t|1 kg\t|1\t|\n",
    "|apple|fruit\t|10 kg\t|9|\n",
    "|orange|fruit\t|1 kg|2|\n",
    "|orange|fruit\t|10 kg\t|18\t|\n",
    "|peppers|vegetable\t|1 kg\t|1.5|\n",
    "|peppers|vegetable\t|10 kg|13|\n",
    "|banana|fruit\t|1 kg\t|0.5|\n",
    "|banana|fruit\t|10 kg\t|4|\n",
    "\n",
    "The price is different depending on the product and the packaging of 1 or 10 kg.\n"
   ]
  },
  {
   "cell_type": "code",
   "execution_count": 1,
   "metadata": {},
   "outputs": [],
   "source": [
    "from observation import Sdataset, Ndataset\n",
    "\n",
    "prices = Sdataset.ntv( {'plants':   ['fruit', 'fruit','fruit','fruit','vegetable', 'vegetable', 'fruit', 'fruit'],\n",
    "                      'quantity': ['1 kg', '10 kg', '1 kg', '10 kg','1 kg', '10 kg','1 kg', '10 kg'], \n",
    "                      'product':  ['apple', 'apple', 'orange', 'orange', 'peppers', 'peppers', 'banana', 'banana'], \n",
    "                      'price':    [1, 10, 2, 20, 1.5, 15, 0.5, 5]})"
   ]
  },
  {
   "cell_type": "markdown",
   "metadata": {},
   "source": [
    "## Matrix transformation\n",
    "In a single command, i can turn this array into a matrix while keeping the dataset.\n",
    "\n",
    "In reality this command searches for the columns whose data are \"crossed\" (product and quantity) as well as those which are associated with others (plants). Then it transfers this information to a tool adapted to the analysis of indexed matrices (e.g. Xarray)\n"
   ]
  },
  {
   "cell_type": "code",
   "execution_count": 2,
   "metadata": {
    "scrolled": false
   },
   "outputs": [
    {
     "name": "stdout",
     "output_type": "stream",
     "text": [
      "<xarray.DataArray 'price' (quantity: 2, product: 4)>\n",
      "array([[20, 10, 5, 15],\n",
      "       [2, 1, 0.5, 1.5]], dtype=object)\n",
      "Coordinates:\n",
      "  * quantity  (quantity) object '10 kg' '1 kg'\n",
      "  * product   (product) object 'orange' 'apple' 'banana' 'peppers'\n",
      "    plants    (product) object 'fruit' 'fruit' 'fruit' 'vegetable'\n"
     ]
    }
   ],
   "source": [
    "print(prices.to_xarray())"
   ]
  },
  {
   "cell_type": "markdown",
   "metadata": {},
   "source": [
    "## Aggregation\n",
    "We can also imagine that these data were produced by several people and then accumulated to form the object 'prices' :\n",
    "- one person for the fruit data, \n",
    "- one for the vegetable data \n",
    "- and another to put everything together."
   ]
  },
  {
   "cell_type": "code",
   "execution_count": 3,
   "metadata": {},
   "outputs": [],
   "source": [
    "fruit      = Sdataset.ntv({'product':  ['apple', 'apple', 'orange', 'orange', 'banana', 'banana'],\n",
    "                         'quantity': ['1 kg', '10 kg', '1 kg', '10 kg', '1 kg', '10 kg'], \n",
    "                         'price':    [1, 10, 2, 20, 0.5, 5]})\n",
    "\n",
    "vegetable  = Sdataset.ntv({'product':  ['peppers', 'peppers'],\n",
    "                         'quantity': ['1 kg', '10 kg'], \n",
    "                         'price':    [1.5, 15]})\n",
    "                         \n",
    "total      = Ndataset.ntv({'plants':   ['fruit', 'vegetable'],\n",
    "                         'agregate':    [fruit, vegetable]})"
   ]
  },
  {
   "cell_type": "markdown",
   "metadata": {},
   "source": [
    "The 'prices' object is then a representation of the 'total' object.\n",
    "\n",
    "This approach makes it possible to maintain data traceability and to build aggregation processes in line with business processes."
   ]
  },
  {
   "cell_type": "code",
   "execution_count": 4,
   "metadata": {},
   "outputs": [
    {
     "ename": "TypeError",
     "evalue": "'NoneType' object is not callable",
     "output_type": "error",
     "traceback": [
      "\u001b[1;31m---------------------------------------------------------------------------\u001b[0m",
      "\u001b[1;31mTypeError\u001b[0m                                 Traceback (most recent call last)",
      "\u001b[1;32m~\\AppData\\Local\\Temp\\ipykernel_20228\\1483264848.py\u001b[0m in \u001b[0;36m<module>\u001b[1;34m\u001b[0m\n\u001b[1;32m----> 1\u001b[1;33m \u001b[0mprices\u001b[0m \u001b[1;33m=\u001b[0m \u001b[0mtotal\u001b[0m\u001b[1;33m.\u001b[0m\u001b[0mmerge\u001b[0m\u001b[1;33m(\u001b[0m\u001b[0msimplename\u001b[0m\u001b[1;33m=\u001b[0m\u001b[1;32mTrue\u001b[0m\u001b[1;33m)\u001b[0m\u001b[1;33m\u001b[0m\u001b[1;33m\u001b[0m\u001b[0m\n\u001b[0m\u001b[0;32m      2\u001b[0m \u001b[0mprint\u001b[0m\u001b[1;33m(\u001b[0m\u001b[0mprices\u001b[0m\u001b[1;33m)\u001b[0m\u001b[1;33m\u001b[0m\u001b[1;33m\u001b[0m\u001b[0m\n",
      "\u001b[1;32mD:\\philippe\\python ESstandard\\Environmental-Sensing\\python\\observation\\ntvdataset.py\u001b[0m in \u001b[0;36mmerge\u001b[1;34m(self, fillvalue, reindex, simplename)\u001b[0m\n\u001b[0;32m    386\u001b[0m         \u001b[1;32mif\u001b[0m \u001b[1;32mnot\u001b[0m \u001b[0misinstance\u001b[0m\u001b[1;33m(\u001b[0m\u001b[0mrow\u001b[0m\u001b[1;33m,\u001b[0m \u001b[0mlist\u001b[0m\u001b[1;33m)\u001b[0m\u001b[1;33m:\u001b[0m\u001b[1;33m\u001b[0m\u001b[1;33m\u001b[0m\u001b[0m\n\u001b[0;32m    387\u001b[0m             \u001b[0mrow\u001b[0m \u001b[1;33m=\u001b[0m \u001b[1;33m[\u001b[0m\u001b[0mrow\u001b[0m\u001b[1;33m]\u001b[0m\u001b[1;33m\u001b[0m\u001b[1;33m\u001b[0m\u001b[0m\n\u001b[1;32m--> 388\u001b[1;33m         merged, oldname, newname = Ntvdataset._mergerecord(Ntvdataset.ext(row, ilc.lname),\n\u001b[0m\u001b[0;32m    389\u001b[0m                                                       simplename=simplename)\n\u001b[0;32m    390\u001b[0m         \u001b[1;32mif\u001b[0m \u001b[0moldname\u001b[0m \u001b[1;32mand\u001b[0m \u001b[1;32mnot\u001b[0m \u001b[0moldname\u001b[0m \u001b[1;32min\u001b[0m \u001b[0mmerged\u001b[0m\u001b[1;33m.\u001b[0m\u001b[0mlname\u001b[0m\u001b[1;33m:\u001b[0m\u001b[1;33m\u001b[0m\u001b[1;33m\u001b[0m\u001b[0m\n",
      "\u001b[1;32mD:\\philippe\\python ESstandard\\Environmental-Sensing\\python\\observation\\ntvdataset.py\u001b[0m in \u001b[0;36mext\u001b[1;34m(cls, idxval, idxname, reindex, fast)\u001b[0m\n\u001b[0;32m    442\u001b[0m             \u001b[1;32mif\u001b[0m \u001b[0mname\u001b[0m \u001b[1;32mis\u001b[0m \u001b[1;32mNone\u001b[0m \u001b[1;32mor\u001b[0m \u001b[0mname\u001b[0m \u001b[1;33m==\u001b[0m \u001b[1;34m'$default'\u001b[0m\u001b[1;33m:\u001b[0m\u001b[1;33m\u001b[0m\u001b[1;33m\u001b[0m\u001b[0m\n\u001b[0;32m    443\u001b[0m                 \u001b[0midxname\u001b[0m\u001b[1;33m[\u001b[0m\u001b[0mind\u001b[0m\u001b[1;33m]\u001b[0m \u001b[1;33m=\u001b[0m \u001b[1;34m'i'\u001b[0m\u001b[1;33m+\u001b[0m\u001b[0mstr\u001b[0m\u001b[1;33m(\u001b[0m\u001b[0mind\u001b[0m\u001b[1;33m)\u001b[0m\u001b[1;33m\u001b[0m\u001b[1;33m\u001b[0m\u001b[0m\n\u001b[1;32m--> 444\u001b[1;33m         lindex = [cls.field_class(codec, name, lendefault=length, reindex=reindex,\n\u001b[0m\u001b[0;32m    445\u001b[0m                                   fast=fast) for codec, name in zip(val, idxname)]\n\u001b[0;32m    446\u001b[0m         \u001b[1;32mreturn\u001b[0m \u001b[0mcls\u001b[0m\u001b[1;33m(\u001b[0m\u001b[0mlindex\u001b[0m\u001b[1;33m,\u001b[0m \u001b[0mreindex\u001b[0m\u001b[1;33m=\u001b[0m\u001b[1;32mFalse\u001b[0m\u001b[1;33m)\u001b[0m\u001b[1;33m\u001b[0m\u001b[1;33m\u001b[0m\u001b[0m\n",
      "\u001b[1;32mD:\\philippe\\python ESstandard\\Environmental-Sensing\\python\\observation\\ntvdataset.py\u001b[0m in \u001b[0;36m<listcomp>\u001b[1;34m(.0)\u001b[0m\n\u001b[0;32m    442\u001b[0m             \u001b[1;32mif\u001b[0m \u001b[0mname\u001b[0m \u001b[1;32mis\u001b[0m \u001b[1;32mNone\u001b[0m \u001b[1;32mor\u001b[0m \u001b[0mname\u001b[0m \u001b[1;33m==\u001b[0m \u001b[1;34m'$default'\u001b[0m\u001b[1;33m:\u001b[0m\u001b[1;33m\u001b[0m\u001b[1;33m\u001b[0m\u001b[0m\n\u001b[0;32m    443\u001b[0m                 \u001b[0midxname\u001b[0m\u001b[1;33m[\u001b[0m\u001b[0mind\u001b[0m\u001b[1;33m]\u001b[0m \u001b[1;33m=\u001b[0m \u001b[1;34m'i'\u001b[0m\u001b[1;33m+\u001b[0m\u001b[0mstr\u001b[0m\u001b[1;33m(\u001b[0m\u001b[0mind\u001b[0m\u001b[1;33m)\u001b[0m\u001b[1;33m\u001b[0m\u001b[1;33m\u001b[0m\u001b[0m\n\u001b[1;32m--> 444\u001b[1;33m         lindex = [cls.field_class(codec, name, lendefault=length, reindex=reindex,\n\u001b[0m\u001b[0;32m    445\u001b[0m                                   fast=fast) for codec, name in zip(val, idxname)]\n\u001b[0;32m    446\u001b[0m         \u001b[1;32mreturn\u001b[0m \u001b[0mcls\u001b[0m\u001b[1;33m(\u001b[0m\u001b[0mlindex\u001b[0m\u001b[1;33m,\u001b[0m \u001b[0mreindex\u001b[0m\u001b[1;33m=\u001b[0m\u001b[1;32mFalse\u001b[0m\u001b[1;33m)\u001b[0m\u001b[1;33m\u001b[0m\u001b[1;33m\u001b[0m\u001b[0m\n",
      "\u001b[1;31mTypeError\u001b[0m: 'NoneType' object is not callable"
     ]
    }
   ],
   "source": [
    "prices = total.merge(simplename=True)\n",
    "print(prices)"
   ]
  },
  {
   "cell_type": "markdown",
   "metadata": {},
   "source": [
    "## what if...\n",
    "...there is an error in the data documentation (e.g. a 'vegetable' instead of a 'fruit') ?\n",
    "\n",
    "The Dataset object no longer understands that 'plant' is associated with 'product' ('banana' is 'fruit' or 'vegetable'?)"
   ]
  },
  {
   "cell_type": "code",
   "execution_count": null,
   "metadata": {},
   "outputs": [],
   "source": [
    "prices = Sdataset.ntv( {'plants':   ['fruit', 'fruit','fruit','fruit','vegetable', 'vegetable', 'vegetable', 'fruit'],\n",
    "                      'quantity': ['1 kg', '10 kg', '1 kg', '10 kg','1 kg', '10 kg','1 kg', '10 kg'], \n",
    "                      'product':  ['apple', 'apple', 'orange', 'orange', 'peppers', 'peppers', 'banana', 'banana'], \n",
    "                      'price':    [1, 10, 2, 20, 1.5, 15, 0.5, 5]})\n",
    "print(prices.to_xarray(), '\\n')\n",
    "print(prices.to_xarray(varname='price'))"
   ]
  },
  {
   "cell_type": "markdown",
   "metadata": {},
   "source": [
    "## But fortunately...\n",
    "... there is a solution !\n",
    "\n",
    "We can impose that 'plant' is indeed associated with 'product' and in this case, the Dataset object translates this from the fact that there is a 'banana-fruit' and a 'banana-vegetable'. \n"
   ]
  },
  {
   "cell_type": "code",
   "execution_count": null,
   "metadata": {
    "scrolled": true
   },
   "outputs": [],
   "source": [
    "prices.nindex('product').coupling(prices.nindex('plants'))\n",
    "print(prices.to_xarray(idxname=['product', 'quantity']))"
   ]
  },
  {
   "cell_type": "markdown",
   "metadata": {},
   "source": [
    "We then find our initial matrix with a price for 1 kg of 'banana-fruit' and a price for 10 kg of 'banana-vegetable'."
   ]
  },
  {
   "cell_type": "markdown",
   "metadata": {},
   "source": [
    "------\n",
    "# Conclusion"
   ]
  },
  {
   "cell_type": "markdown",
   "metadata": {},
   "source": [
    "This example demonstrates several very interesting points:\n",
    "- we can build a tabular dataset by respecting a business process and guaranteeing the integrity of the data,\n",
    "- you can automatically analyze tabular data (such as csv or Excel files) to deduce the type of relationship that links the fields together,\n",
    "- you can restructure the data of these fields without having to modify them (reversible),\n",
    "- we can impose relationships between fields and measure the differences between the specification and the result,\n",
    "- we can extend the notion of tabular data to complex data (eg Dataset data included)\n",
    "- we can interface data analysis tools (eg Xarray)"
   ]
  }
 ],
 "metadata": {
  "kernelspec": {
   "display_name": "Python 3 (ipykernel)",
   "language": "python",
   "name": "python3"
  },
  "language_info": {
   "codemirror_mode": {
    "name": "ipython",
    "version": 3
   },
   "file_extension": ".py",
   "mimetype": "text/x-python",
   "name": "python",
   "nbconvert_exporter": "python",
   "pygments_lexer": "ipython3",
   "version": "3.10.9"
  }
 },
 "nbformat": 4,
 "nbformat_minor": 4
}
