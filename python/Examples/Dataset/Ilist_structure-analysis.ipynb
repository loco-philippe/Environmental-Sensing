{
 "cells": [
  {
   "cell_type": "markdown",
   "metadata": {},
   "source": [
    "# Dataset : structure analysis\n",
    "\n",
    "## Goals\n",
    "\n",
    "- understand the structure of Dataset object\n",
    "- introduce methods for managing structure\n",
    "\n",
    "\n",
    "-----"
   ]
  },
  {
   "cell_type": "markdown",
   "metadata": {},
   "source": [
    "## Example\n",
    "\n",
    "The reuse Ilist is :\n",
    "\n",
    "<img src=\"https://loco-philippe.github.io/ES/ilist_merge.png\" width=\"700\">\n"
   ]
  },
  {
   "cell_type": "code",
   "execution_count": 2,
   "metadata": {},
   "outputs": [
    {
     "ename": "TypeError",
     "evalue": "'NoneType' object is not subscriptable",
     "output_type": "error",
     "traceback": [
      "\u001b[1;31m---------------------------------------------------------------------------\u001b[0m",
      "\u001b[1;31mTypeError\u001b[0m                                 Traceback (most recent call last)",
      "\u001b[1;32m~\\AppData\\Local\\Temp\\ipykernel_19232\\149813332.py\u001b[0m in \u001b[0;36m<module>\u001b[1;34m\u001b[0m\n\u001b[0;32m      2\u001b[0m \u001b[1;32mfrom\u001b[0m \u001b[0mpprint\u001b[0m \u001b[1;32mimport\u001b[0m \u001b[0mpprint\u001b[0m\u001b[1;33m\u001b[0m\u001b[1;33m\u001b[0m\u001b[0m\n\u001b[0;32m      3\u001b[0m \u001b[1;33m\u001b[0m\u001b[0m\n\u001b[1;32m----> 4\u001b[1;33m \u001b[0mimg\u001b[0m \u001b[1;33m=\u001b[0m \u001b[0mSdataset\u001b[0m\u001b[1;33m.\u001b[0m\u001b[0mfrom_file\u001b[0m\u001b[1;33m(\u001b[0m\u001b[1;34m'score.il'\u001b[0m\u001b[1;33m)\u001b[0m                \u001b[1;31m# reuse Ilist from aggregation Notebook\u001b[0m\u001b[1;33m\u001b[0m\u001b[1;33m\u001b[0m\u001b[0m\n\u001b[0m",
      "\u001b[1;32mD:\\philippe\\python ESstandard\\Environmental-Sensing\\python\\observation\\ntvdataset.py\u001b[0m in \u001b[0;36mfrom_file\u001b[1;34m(cls, filename, forcestring, reindex, decode_str)\u001b[0m\n\u001b[0;32m    295\u001b[0m             \u001b[1;32mwith\u001b[0m \u001b[0mopen\u001b[0m\u001b[1;33m(\u001b[0m\u001b[0mfilename\u001b[0m\u001b[1;33m,\u001b[0m \u001b[1;34m'rb'\u001b[0m\u001b[1;33m)\u001b[0m \u001b[1;32mas\u001b[0m \u001b[0mfile\u001b[0m\u001b[1;33m:\u001b[0m\u001b[1;33m\u001b[0m\u001b[1;33m\u001b[0m\u001b[0m\n\u001b[0;32m    296\u001b[0m                 \u001b[0mbjson\u001b[0m \u001b[1;33m=\u001b[0m \u001b[0mfile\u001b[0m\u001b[1;33m.\u001b[0m\u001b[0mread\u001b[0m\u001b[1;33m(\u001b[0m\u001b[1;33m)\u001b[0m\u001b[1;33m\u001b[0m\u001b[1;33m\u001b[0m\u001b[0m\n\u001b[1;32m--> 297\u001b[1;33m         \u001b[1;32mreturn\u001b[0m \u001b[0mcls\u001b[0m\u001b[1;33m.\u001b[0m\u001b[0mfrom_ntv\u001b[0m\u001b[1;33m(\u001b[0m\u001b[0mbjson\u001b[0m\u001b[1;33m,\u001b[0m \u001b[0mreindex\u001b[0m\u001b[1;33m=\u001b[0m\u001b[0mreindex\u001b[0m\u001b[1;33m,\u001b[0m \u001b[0mdecode_str\u001b[0m\u001b[1;33m=\u001b[0m\u001b[0mdecode_str\u001b[0m\u001b[1;33m)\u001b[0m\u001b[1;33m\u001b[0m\u001b[1;33m\u001b[0m\u001b[0m\n\u001b[0m\u001b[0;32m    298\u001b[0m \u001b[1;33m\u001b[0m\u001b[0m\n\u001b[0;32m    299\u001b[0m     \"\"\"@classmethod\n",
      "\u001b[1;32mD:\\philippe\\python ESstandard\\Environmental-Sensing\\python\\observation\\ntvdataset.py\u001b[0m in \u001b[0;36mfrom_ntv\u001b[1;34m(cls, ntv_value, reindex, decode_str)\u001b[0m\n\u001b[0;32m    339\u001b[0m             \u001b[1;32mif\u001b[0m \u001b[0mlidx\u001b[0m\u001b[1;33m[\u001b[0m\u001b[0mind\u001b[0m\u001b[1;33m]\u001b[0m\u001b[1;33m[\u001b[0m\u001b[1;36m0\u001b[0m\u001b[1;33m]\u001b[0m \u001b[1;33m==\u001b[0m \u001b[1;34m''\u001b[0m\u001b[1;33m:\u001b[0m\u001b[1;33m\u001b[0m\u001b[1;33m\u001b[0m\u001b[0m\n\u001b[0;32m    340\u001b[0m                 \u001b[0mlidx\u001b[0m\u001b[1;33m[\u001b[0m\u001b[0mind\u001b[0m\u001b[1;33m]\u001b[0m\u001b[1;33m[\u001b[0m\u001b[1;36m0\u001b[0m\u001b[1;33m]\u001b[0m \u001b[1;33m=\u001b[0m \u001b[1;34m'i'\u001b[0m\u001b[1;33m+\u001b[0m\u001b[0mstr\u001b[0m\u001b[1;33m(\u001b[0m\u001b[0mind\u001b[0m\u001b[1;33m)\u001b[0m\u001b[1;33m\u001b[0m\u001b[1;33m\u001b[0m\u001b[0m\n\u001b[1;32m--> 341\u001b[1;33m             \u001b[0mNtvdataset\u001b[0m\u001b[1;33m.\u001b[0m\u001b[0m_init_ntv_keys\u001b[0m\u001b[1;33m(\u001b[0m\u001b[0mind\u001b[0m\u001b[1;33m,\u001b[0m \u001b[0mlidx\u001b[0m\u001b[1;33m,\u001b[0m \u001b[0mleng\u001b[0m\u001b[1;33m)\u001b[0m\u001b[1;33m\u001b[0m\u001b[1;33m\u001b[0m\u001b[0m\n\u001b[0m\u001b[0;32m    342\u001b[0m         \u001b[1;31m#lindex = [Ntvfield(idx[2], idx[0], idx[4], None, # idx[1] pour le type,\u001b[0m\u001b[1;33m\u001b[0m\u001b[1;33m\u001b[0m\u001b[0m\n\u001b[0;32m    343\u001b[0m         lindex = [cls.field_class(idx[2], idx[0], idx[4], None, # idx[1] pour le type,\n",
      "\u001b[1;32mD:\\philippe\\python ESstandard\\Environmental-Sensing\\python\\observation\\ntvdataset.py\u001b[0m in \u001b[0;36m_init_ntv_keys\u001b[1;34m(ind, lidx, leng)\u001b[0m\n\u001b[0;32m    473\u001b[0m             \u001b[0mlidx\u001b[0m\u001b[1;33m[\u001b[0m\u001b[0mind\u001b[0m\u001b[1;33m]\u001b[0m\u001b[1;33m[\u001b[0m\u001b[1;36m4\u001b[0m\u001b[1;33m]\u001b[0m \u001b[1;33m=\u001b[0m \u001b[0mlidx\u001b[0m\u001b[1;33m[\u001b[0m\u001b[0mparent\u001b[0m\u001b[1;33m]\u001b[0m\u001b[1;33m[\u001b[0m\u001b[1;36m4\u001b[0m\u001b[1;33m]\u001b[0m\u001b[1;33m\u001b[0m\u001b[1;33m\u001b[0m\u001b[0m\n\u001b[0;32m    474\u001b[0m             \u001b[1;32mreturn\u001b[0m\u001b[1;33m\u001b[0m\u001b[1;33m\u001b[0m\u001b[0m\n\u001b[1;32m--> 475\u001b[1;33m         \u001b[0mlidx\u001b[0m\u001b[1;33m[\u001b[0m\u001b[0mind\u001b[0m\u001b[1;33m]\u001b[0m\u001b[1;33m[\u001b[0m\u001b[1;36m4\u001b[0m\u001b[1;33m]\u001b[0m \u001b[1;33m=\u001b[0m \u001b[0mNfield\u001b[0m\u001b[1;33m.\u001b[0m\u001b[0mkeysfromderkeys\u001b[0m\u001b[1;33m(\u001b[0m\u001b[0mlidx\u001b[0m\u001b[1;33m[\u001b[0m\u001b[0mparent\u001b[0m\u001b[1;33m]\u001b[0m\u001b[1;33m[\u001b[0m\u001b[1;36m4\u001b[0m\u001b[1;33m]\u001b[0m\u001b[1;33m,\u001b[0m \u001b[0mkeys\u001b[0m\u001b[1;33m)\u001b[0m  \u001b[1;31m# relative\u001b[0m\u001b[1;33m\u001b[0m\u001b[1;33m\u001b[0m\u001b[0m\n\u001b[0m\u001b[0;32m    476\u001b[0m         \u001b[1;32mreturn\u001b[0m\u001b[1;33m\u001b[0m\u001b[1;33m\u001b[0m\u001b[0m\n\u001b[0;32m    477\u001b[0m \u001b[1;33m\u001b[0m\u001b[0m\n",
      "\u001b[1;32mD:\\philippe\\python ESstandard\\Environmental-Sensing\\python\\observation\\ntvfield_structure.py\u001b[0m in \u001b[0;36mkeysfromderkeys\u001b[1;34m(parentkeys, derkeys)\u001b[0m\n\u001b[0;32m    297\u001b[0m \u001b[1;33m\u001b[0m\u001b[0m\n\u001b[0;32m    298\u001b[0m         *Returns* : list of keys'''\n\u001b[1;32m--> 299\u001b[1;33m         \u001b[1;32mreturn\u001b[0m \u001b[1;33m[\u001b[0m\u001b[0mderkeys\u001b[0m\u001b[1;33m[\u001b[0m\u001b[0mparentkeys\u001b[0m\u001b[1;33m[\u001b[0m\u001b[0mi\u001b[0m\u001b[1;33m]\u001b[0m\u001b[1;33m]\u001b[0m \u001b[1;32mfor\u001b[0m \u001b[0mi\u001b[0m \u001b[1;32min\u001b[0m \u001b[0mrange\u001b[0m\u001b[1;33m(\u001b[0m\u001b[0mlen\u001b[0m\u001b[1;33m(\u001b[0m\u001b[0mparentkeys\u001b[0m\u001b[1;33m)\u001b[0m\u001b[1;33m)\u001b[0m\u001b[1;33m]\u001b[0m\u001b[1;33m\u001b[0m\u001b[1;33m\u001b[0m\u001b[0m\n\u001b[0m\u001b[0;32m    300\u001b[0m \u001b[1;33m\u001b[0m\u001b[0m\n\u001b[0;32m    301\u001b[0m     \u001b[1;32mdef\u001b[0m \u001b[0mloc\u001b[0m\u001b[1;33m(\u001b[0m\u001b[0mself\u001b[0m\u001b[1;33m,\u001b[0m \u001b[0mvalue\u001b[0m\u001b[1;33m,\u001b[0m \u001b[0mextern\u001b[0m\u001b[1;33m=\u001b[0m\u001b[1;32mTrue\u001b[0m\u001b[1;33m)\u001b[0m\u001b[1;33m:\u001b[0m\u001b[1;33m\u001b[0m\u001b[1;33m\u001b[0m\u001b[0m\n",
      "\u001b[1;32mD:\\philippe\\python ESstandard\\Environmental-Sensing\\python\\observation\\ntvfield_structure.py\u001b[0m in \u001b[0;36m<listcomp>\u001b[1;34m(.0)\u001b[0m\n\u001b[0;32m    297\u001b[0m \u001b[1;33m\u001b[0m\u001b[0m\n\u001b[0;32m    298\u001b[0m         *Returns* : list of keys'''\n\u001b[1;32m--> 299\u001b[1;33m         \u001b[1;32mreturn\u001b[0m \u001b[1;33m[\u001b[0m\u001b[0mderkeys\u001b[0m\u001b[1;33m[\u001b[0m\u001b[0mparentkeys\u001b[0m\u001b[1;33m[\u001b[0m\u001b[0mi\u001b[0m\u001b[1;33m]\u001b[0m\u001b[1;33m]\u001b[0m \u001b[1;32mfor\u001b[0m \u001b[0mi\u001b[0m \u001b[1;32min\u001b[0m \u001b[0mrange\u001b[0m\u001b[1;33m(\u001b[0m\u001b[0mlen\u001b[0m\u001b[1;33m(\u001b[0m\u001b[0mparentkeys\u001b[0m\u001b[1;33m)\u001b[0m\u001b[1;33m)\u001b[0m\u001b[1;33m]\u001b[0m\u001b[1;33m\u001b[0m\u001b[1;33m\u001b[0m\u001b[0m\n\u001b[0m\u001b[0;32m    300\u001b[0m \u001b[1;33m\u001b[0m\u001b[0m\n\u001b[0;32m    301\u001b[0m     \u001b[1;32mdef\u001b[0m \u001b[0mloc\u001b[0m\u001b[1;33m(\u001b[0m\u001b[0mself\u001b[0m\u001b[1;33m,\u001b[0m \u001b[0mvalue\u001b[0m\u001b[1;33m,\u001b[0m \u001b[0mextern\u001b[0m\u001b[1;33m=\u001b[0m\u001b[1;32mTrue\u001b[0m\u001b[1;33m)\u001b[0m\u001b[1;33m:\u001b[0m\u001b[1;33m\u001b[0m\u001b[1;33m\u001b[0m\u001b[0m\n",
      "\u001b[1;31mTypeError\u001b[0m: 'NoneType' object is not subscriptable"
     ]
    }
   ],
   "source": [
    "from observation import Sdataset\n",
    "from pprint import pprint\n",
    "\n",
    "img = Sdataset.from_file('score.il')                # reuse Ilist from aggregation Notebook"
   ]
  },
  {
   "cell_type": "markdown",
   "metadata": {},
   "source": [
    "## relationship\n",
    "\n",
    "the relationships between Iindex can be shown with the img Ilist\n",
    "\n",
    "<img src=\"https://loco-philippe.github.io/ES/ilist_canonical.png\" width=\"600\">\n"
   ]
  },
  {
   "cell_type": "code",
   "execution_count": 2,
   "metadata": {},
   "outputs": [
    {
     "name": "stdout",
     "output_type": "stream",
     "text": [
      "{'course': 'secondary',\n",
      " 'examen': 'secondary',\n",
      " 'first name': 'secondary',\n",
      " 'full name': 'secondary',\n",
      " 'group': 'secondary',\n",
      " 'last name': 'secondary',\n",
      " 'score': 'secondary',\n",
      " 'surname': 'coupled',\n",
      " 'year': 'unique'}\n",
      "\n",
      " -1: root (13)\n",
      "      0 : score (11)\n",
      "            1 : course (3)\n",
      "      2 : year (1)\n",
      "      3 : examen (3)\n",
      "      4 : full name (4)\n",
      "            5 : last name (3)\n",
      "            6 : first name (3)\n",
      "            7 : surname (4)\n",
      "            8 : group (3)\n"
     ]
    }
   ],
   "source": [
    "pprint(img.category)\n",
    "print('\\n', img.tree())"
   ]
  },
  {
   "cell_type": "markdown",
   "metadata": {},
   "source": [
    "## Transformation to complete Ilist\n",
    "\n",
    "When primary Iindex are crossed, an Ilist is complete (can be converted into matrix or in file with low size)."
   ]
  },
  {
   "cell_type": "code",
   "execution_count": 3,
   "metadata": {},
   "outputs": [
    {
     "name": "stdout",
     "output_type": "stream",
     "text": [
      "{'course': 'primary',\n",
      " 'examen': 'primary',\n",
      " 'first name': 'secondary',\n",
      " 'full name': 'primary',\n",
      " 'group': 'secondary',\n",
      " 'last name': 'secondary',\n",
      " 'score': 'variable',\n",
      " 'surname': 'coupled',\n",
      " 'year': 'unique'}\n",
      "\n",
      "length : 36 dimension : 3\n"
     ]
    }
   ],
   "source": [
    "img.full(fillvalue=float('nan'), idxname=['full name', 'course', 'examen'])   # convert secondary indexes in primary indexes\n",
    "\n",
    "pprint(img.category)\n",
    "\n",
    "print('\\nlength :', len(img), 'dimension :', img.dimension)"
   ]
  },
  {
   "cell_type": "markdown",
   "metadata": {},
   "source": [
    "## Indexed matrix\n",
    "\n",
    "With codec or values ajustement, an Ilist can be transformed in a matrix with choosen dimension"
   ]
  },
  {
   "cell_type": "code",
   "execution_count": 4,
   "metadata": {
    "scrolled": false
   },
   "outputs": [
    {
     "name": "stdout",
     "output_type": "stream",
     "text": [
      "<xarray.DataArray 'score' (course: 3, examen: 3, full name: 4)>\n",
      "array([[[nan, 11, nan, 15],\n",
      "        [nan, 15, nan, nan],\n",
      "        [nan, 13, nan, nan]],\n",
      "\n",
      "       [[nan, nan, nan, nan],\n",
      "        [17, nan, 18, nan],\n",
      "        [18, nan, nan, nan]],\n",
      "\n",
      "       [[2, nan, 6, nan],\n",
      "        [nan, 12, nan, nan],\n",
      "        [4, 10, nan, 8]]], dtype=object)\n",
      "Coordinates:\n",
      "  * course      (course) object 'math' 'software' 'english'\n",
      "  * examen      (examen) object 't1' 't3' 't2'\n",
      "  * full name   (full name) object 'camille red' ... 'philippe white'\n",
      "    last name   (full name) object 'red' 'white' 'black' 'white'\n",
      "    first name  (full name) object 'camille' 'anne' 'philippe' 'philippe'\n",
      "    group       (full name) object 'gr3' 'gr1' 'gr3' 'gr2'\n",
      "    surname     (full name) object 'saul' 'skyler' 'gus' 'heisenberg'\n",
      "Attributes:\n",
      "    year:     2021\n",
      "\n",
      "Object img is complete and have the canonical order ?  True True\n"
     ]
    }
   ],
   "source": [
    "print(img.to_xarray())\n",
    "print('\\nObject img is complete and have the canonical order ? ', img.complete, img.iscanonorder())\n"
   ]
  },
  {
   "cell_type": "code",
   "execution_count": 5,
   "metadata": {},
   "outputs": [
    {
     "name": "stdout",
     "output_type": "stream",
     "text": [
      "keys is not necessary in json object when Ilist is complete :\n",
      "\n",
      "[['course', ['math', 'software', 'english']],\n",
      " ['examen', ['t1', 't3', 't2']],\n",
      " ['full name', ['camille red', 'anne white', 'philippe black', 'philippe white']],\n",
      " ['last name', ['white', 'black', 'red'], [2, [2, 0, 1, 0]]],\n",
      " ['first name', ['camille', 'philippe', 'anne'], [2, [0, 2, 1, 1]]],\n",
      " ['group', ['gr2', 'gr3', 'gr1'], [2, [1, 2, 1, 0]]],\n",
      " ['surname', ['saul', 'skyler', 'gus', 'heisenberg'], 2],\n",
      " ['score', [nan, 11, nan, 15, nan, 15, nan, nan, nan, 13, nan, nan, nan, nan, nan, nan, 17, nan, 18, nan, 18, nan, nan, nan, 2, nan, 6, nan, nan, 12, nan, nan, 4, 10, nan, 8]],\n",
      " ['year', [2021]]]\n",
      "\n",
      "conversion is reversible ?  True\n"
     ]
    }
   ],
   "source": [
    "img.nindex('score').tostdcodec(inplace=True)\n",
    "print('keys is not necessary in json object when Ilist is complete :\\n')   \n",
    "pprint(img.to_obj(), width=200)\n",
    "print('\\nconversion is reversible ? ', img.from_obj(img.to_obj()) == img)\n"
   ]
  },
  {
   "cell_type": "code",
   "execution_count": 6,
   "metadata": {},
   "outputs": [
    {
     "name": "stdout",
     "output_type": "stream",
     "text": [
      "new dimension :  2 \n",
      "\n",
      "<xarray.DataArray 'score' (course: 9, full name: 4)>\n",
      "array([[nan, 15, nan, nan],\n",
      "       [18, nan, nan, nan],\n",
      "       [nan, 12, nan, nan],\n",
      "       [nan, 11, nan, 15],\n",
      "       [17, nan, 18, nan],\n",
      "       [2, nan, 6, nan],\n",
      "       [nan, 13, nan, nan],\n",
      "       [4, 10, nan, 8],\n",
      "       [nan, nan, nan, nan]], dtype=object)\n",
      "Coordinates:\n",
      "  * course      (course) object 'math' 'software' ... 'english' 'software'\n",
      "  * full name   (full name) object 'camille red' ... 'philippe white'\n",
      "    examen      (course) object 't3' 't2' 't3' 't1' 't3' 't1' 't2' 't2' 't1'\n",
      "    last name   (full name) object 'red' 'white' 'black' 'white'\n",
      "    first name  (full name) object 'camille' 'anne' 'philippe' 'philippe'\n",
      "    group       (full name) object 'gr3' 'gr1' 'gr3' 'gr2'\n",
      "    surname     (full name) object 'saul' 'skyler' 'gus' 'heisenberg'\n",
      "Attributes:\n",
      "    year:     2021\n"
     ]
    }
   ],
   "source": [
    "# matrix with dimension 2\n",
    "img.nindex('course').coupling(img.nindex('examen'))   # transform two linked indexes in two derived or coupled indexes\n",
    "print('new dimension : ', img.dimension, '\\n')\n",
    "print(img.to_xarray())"
   ]
  }
 ],
 "metadata": {
  "kernelspec": {
   "display_name": "Python 3 (ipykernel)",
   "language": "python",
   "name": "python3"
  },
  "language_info": {
   "codemirror_mode": {
    "name": "ipython",
    "version": 3
   },
   "file_extension": ".py",
   "mimetype": "text/x-python",
   "name": "python",
   "nbconvert_exporter": "python",
   "pygments_lexer": "ipython3",
   "version": "3.10.9"
  }
 },
 "nbformat": 4,
 "nbformat_minor": 4
}
